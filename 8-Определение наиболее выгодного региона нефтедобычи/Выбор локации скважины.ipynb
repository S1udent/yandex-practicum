{
 "cells": [
  {
   "cell_type": "markdown",
   "metadata": {},
   "source": [
    "# Выбор локации для скважины"
   ]
  },
  {
   "cell_type": "markdown",
   "metadata": {},
   "source": [
    "Для нефтедобывающей компании нужно решить, где бурить новую скважину.\n",
    "\n",
    "Нам предоставлены пробы нефти в трёх регионах: в каждом 10 000 месторождений, где измерили качество нефти и объём её запасов. Необходимо построить модель машинного обучения, которая поможет определить регион, где добыча принесёт наибольшую прибыль. Необходимо проанализировать возможную прибыль и риски техникой *Bootstrap.*\n",
    "\n",
    "Шаги для выбора локации:\n",
    "\n",
    "- В избранном регионе ищут месторождения, для каждого определяют значения признаков;\n",
    "- Строят модель и оценивают объём запасов;\n",
    "- Выбирают месторождения с самым высокими оценками значений. Количество месторождений зависит от бюджета компании и стоимости разработки одной скважины;\n",
    "- Прибыль равна суммарной прибыли отобранных месторождений."
   ]
  },
  {
   "cell_type": "markdown",
   "metadata": {},
   "source": [
    "## Загрузка и подготовка данных"
   ]
  },
  {
   "cell_type": "code",
   "execution_count": 1,
   "metadata": {},
   "outputs": [],
   "source": [
    "import pandas as pd\n",
    "import matplotlib.pyplot as plt\n",
    "import numpy as np\n",
    "from sklearn.linear_model import LinearRegression\n",
    "from sklearn.model_selection import train_test_split\n",
    "from sklearn.preprocessing import OrdinalEncoder\n",
    "from sklearn.preprocessing import StandardScaler\n",
    "from sklearn.metrics import mean_squared_error\n",
    "from sklearn.metrics import accuracy_score\n",
    "from sklearn.metrics import f1_score\n",
    "from sklearn.metrics import roc_curve\n",
    "from sklearn.metrics import roc_auc_score\n",
    "from sklearn.utils import shuffle\n",
    "import warnings\n",
    "warnings.filterwarnings('ignore')"
   ]
  },
  {
   "cell_type": "code",
   "execution_count": 2,
   "metadata": {
    "scrolled": true
   },
   "outputs": [],
   "source": [
    "data0 = pd.read_csv('/datasets/geo_data_0.csv')\n",
    "data1 = pd.read_csv('/datasets/geo_data_1.csv')\n",
    "data2 = pd.read_csv('/datasets/geo_data_2.csv')"
   ]
  },
  {
   "cell_type": "markdown",
   "metadata": {},
   "source": [
    "Напишем функцию для просмотра значений датасета"
   ]
  },
  {
   "cell_type": "code",
   "execution_count": 3,
   "metadata": {},
   "outputs": [],
   "source": [
    "def inform(data):\n",
    "    print('*******************************************head************************************************')\n",
    "    print()\n",
    "    print()\n",
    "    print(data.head())\n",
    "    print('________________________________________describe_______________________________________________')\n",
    "    print(data.describe())\n",
    "    print('__________________________________________info_________________________________________________')\n",
    "    data.info()\n",
    "    print('________________________________________duplicated_____________________________________________')\n",
    "    print(data.duplicated().sum())\n",
    "    print('__________________________________________isnull_______________________________________________')\n",
    "    print(data.isnull().sum())\n",
    "    print('_________________________________________nunique_______________________________________________')\n",
    "    print(data.nunique())\n",
    "    print('___________________________________________corr________________________________________________')\n",
    "    print(data.corr())\n",
    "    print()\n",
    "    print()\n",
    "    return data"
   ]
  },
  {
   "cell_type": "markdown",
   "metadata": {},
   "source": [
    "Цикл, принимающий датасет на вход и запускающий функию"
   ]
  },
  {
   "cell_type": "code",
   "execution_count": 4,
   "metadata": {
    "scrolled": true
   },
   "outputs": [
    {
     "name": "stdout",
     "output_type": "stream",
     "text": [
      "*******************************************head************************************************\n",
      "\n",
      "\n",
      "      id        f0        f1        f2     product\n",
      "0  txEyH  0.705745 -0.497823  1.221170  105.280062\n",
      "1  2acmU  1.334711 -0.340164  4.365080   73.037750\n",
      "2  409Wp  1.022732  0.151990  1.419926   85.265647\n",
      "3  iJLyR -0.032172  0.139033  2.978566  168.620776\n",
      "4  Xdl7t  1.988431  0.155413  4.751769  154.036647\n",
      "________________________________________describe_______________________________________________\n",
      "                  f0             f1             f2        product\n",
      "count  100000.000000  100000.000000  100000.000000  100000.000000\n",
      "mean        0.500419       0.250143       2.502647      92.500000\n",
      "std         0.871832       0.504433       3.248248      44.288691\n",
      "min        -1.408605      -0.848218     -12.088328       0.000000\n",
      "25%        -0.072580      -0.200881       0.287748      56.497507\n",
      "50%         0.502360       0.250252       2.515969      91.849972\n",
      "75%         1.073581       0.700646       4.715088     128.564089\n",
      "max         2.362331       1.343769      16.003790     185.364347\n",
      "__________________________________________info_________________________________________________\n",
      "<class 'pandas.core.frame.DataFrame'>\n",
      "RangeIndex: 100000 entries, 0 to 99999\n",
      "Data columns (total 5 columns):\n",
      " #   Column   Non-Null Count   Dtype  \n",
      "---  ------   --------------   -----  \n",
      " 0   id       100000 non-null  object \n",
      " 1   f0       100000 non-null  float64\n",
      " 2   f1       100000 non-null  float64\n",
      " 3   f2       100000 non-null  float64\n",
      " 4   product  100000 non-null  float64\n",
      "dtypes: float64(4), object(1)\n",
      "memory usage: 3.8+ MB\n",
      "________________________________________duplicated_____________________________________________\n",
      "0\n",
      "__________________________________________isnull_______________________________________________\n",
      "id         0\n",
      "f0         0\n",
      "f1         0\n",
      "f2         0\n",
      "product    0\n",
      "dtype: int64\n",
      "_________________________________________nunique_______________________________________________\n",
      "id          99990\n",
      "f0         100000\n",
      "f1         100000\n",
      "f2         100000\n",
      "product    100000\n",
      "dtype: int64\n",
      "___________________________________________corr________________________________________________\n",
      "               f0        f1        f2   product\n",
      "f0       1.000000 -0.440723 -0.003153  0.143536\n",
      "f1      -0.440723  1.000000  0.001724 -0.192356\n",
      "f2      -0.003153  0.001724  1.000000  0.483663\n",
      "product  0.143536 -0.192356  0.483663  1.000000\n",
      "\n",
      "\n",
      "*******************************************head************************************************\n",
      "\n",
      "\n",
      "      id         f0         f1        f2     product\n",
      "0  kBEdx -15.001348  -8.276000 -0.005876    3.179103\n",
      "1  62mP7  14.272088  -3.475083  0.999183   26.953261\n",
      "2  vyE1P   6.263187  -5.948386  5.001160  134.766305\n",
      "3  KcrkZ -13.081196 -11.506057  4.999415  137.945408\n",
      "4  AHL4O  12.702195  -8.147433  5.004363  134.766305\n",
      "________________________________________describe_______________________________________________\n",
      "                  f0             f1             f2        product\n",
      "count  100000.000000  100000.000000  100000.000000  100000.000000\n",
      "mean        1.141296      -4.796579       2.494541      68.825000\n",
      "std         8.965932       5.119872       1.703572      45.944423\n",
      "min       -31.609576     -26.358598      -0.018144       0.000000\n",
      "25%        -6.298551      -8.267985       1.000021      26.953261\n",
      "50%         1.153055      -4.813172       2.011479      57.085625\n",
      "75%         8.621015      -1.332816       3.999904     107.813044\n",
      "max        29.421755      18.734063       5.019721     137.945408\n",
      "__________________________________________info_________________________________________________\n",
      "<class 'pandas.core.frame.DataFrame'>\n",
      "RangeIndex: 100000 entries, 0 to 99999\n",
      "Data columns (total 5 columns):\n",
      " #   Column   Non-Null Count   Dtype  \n",
      "---  ------   --------------   -----  \n",
      " 0   id       100000 non-null  object \n",
      " 1   f0       100000 non-null  float64\n",
      " 2   f1       100000 non-null  float64\n",
      " 3   f2       100000 non-null  float64\n",
      " 4   product  100000 non-null  float64\n",
      "dtypes: float64(4), object(1)\n",
      "memory usage: 3.8+ MB\n",
      "________________________________________duplicated_____________________________________________\n",
      "0\n",
      "__________________________________________isnull_______________________________________________\n",
      "id         0\n",
      "f0         0\n",
      "f1         0\n",
      "f2         0\n",
      "product    0\n",
      "dtype: int64\n",
      "_________________________________________nunique_______________________________________________\n",
      "id          99996\n",
      "f0         100000\n",
      "f1         100000\n",
      "f2         100000\n",
      "product        12\n",
      "dtype: int64\n",
      "___________________________________________corr________________________________________________\n",
      "               f0        f1        f2   product\n",
      "f0       1.000000  0.182287 -0.001777 -0.030491\n",
      "f1       0.182287  1.000000 -0.002595 -0.010155\n",
      "f2      -0.001777 -0.002595  1.000000  0.999397\n",
      "product -0.030491 -0.010155  0.999397  1.000000\n",
      "\n",
      "\n",
      "*******************************************head************************************************\n",
      "\n",
      "\n",
      "      id        f0        f1        f2     product\n",
      "0  fwXo0 -1.146987  0.963328 -0.828965   27.758673\n",
      "1  WJtFt  0.262778  0.269839 -2.530187   56.069697\n",
      "2  ovLUW  0.194587  0.289035 -5.586433   62.871910\n",
      "3  q6cA6  2.236060 -0.553760  0.930038  114.572842\n",
      "4  WPMUX -0.515993  1.716266  5.899011  149.600746\n",
      "________________________________________describe_______________________________________________\n",
      "                  f0             f1             f2        product\n",
      "count  100000.000000  100000.000000  100000.000000  100000.000000\n",
      "mean        0.002023      -0.002081       2.495128      95.000000\n",
      "std         1.732045       1.730417       3.473445      44.749921\n",
      "min        -8.760004      -7.084020     -11.970335       0.000000\n",
      "25%        -1.162288      -1.174820       0.130359      59.450441\n",
      "50%         0.009424      -0.009482       2.484236      94.925613\n",
      "75%         1.158535       1.163678       4.858794     130.595027\n",
      "max         7.238262       7.844801      16.739402     190.029838\n",
      "__________________________________________info_________________________________________________\n",
      "<class 'pandas.core.frame.DataFrame'>\n",
      "RangeIndex: 100000 entries, 0 to 99999\n",
      "Data columns (total 5 columns):\n",
      " #   Column   Non-Null Count   Dtype  \n",
      "---  ------   --------------   -----  \n",
      " 0   id       100000 non-null  object \n",
      " 1   f0       100000 non-null  float64\n",
      " 2   f1       100000 non-null  float64\n",
      " 3   f2       100000 non-null  float64\n",
      " 4   product  100000 non-null  float64\n",
      "dtypes: float64(4), object(1)\n",
      "memory usage: 3.8+ MB\n",
      "________________________________________duplicated_____________________________________________\n",
      "0\n",
      "__________________________________________isnull_______________________________________________\n",
      "id         0\n",
      "f0         0\n",
      "f1         0\n",
      "f2         0\n",
      "product    0\n",
      "dtype: int64\n",
      "_________________________________________nunique_______________________________________________\n",
      "id          99996\n",
      "f0         100000\n",
      "f1         100000\n",
      "f2         100000\n",
      "product    100000\n",
      "dtype: int64\n",
      "___________________________________________corr________________________________________________\n",
      "               f0        f1        f2   product\n",
      "f0       1.000000  0.000528 -0.000448 -0.001987\n",
      "f1       0.000528  1.000000  0.000779 -0.001012\n",
      "f2      -0.000448  0.000779  1.000000  0.445871\n",
      "product -0.001987 -0.001012  0.445871  1.000000\n",
      "\n",
      "\n"
     ]
    }
   ],
   "source": [
    "sets = [data0, data1, data2]\n",
    "for s in sets:\n",
    "    inform(s)"
   ]
  },
  {
   "cell_type": "markdown",
   "metadata": {},
   "source": [
    "В целом, данные в порядке.\n",
    "У второго сета выявлена сильная взаимосвязь колонки f2 и product."
   ]
  },
  {
   "cell_type": "markdown",
   "metadata": {},
   "source": [
    "## Обучение и проверка модели"
   ]
  },
  {
   "cell_type": "code",
   "execution_count": 5,
   "metadata": {},
   "outputs": [],
   "source": [
    "model = LinearRegression()"
   ]
  },
  {
   "cell_type": "markdown",
   "metadata": {},
   "source": [
    "Преобразуем датасеты в фичи и таргеты. У фичей исключаем столбцы 'id', 'product', а у таргетов оставляем столбец 'product'. Сразу же сбалансируем данные, хоть они и выглядят, как сбалансированные."
   ]
  },
  {
   "cell_type": "code",
   "execution_count": 6,
   "metadata": {
    "scrolled": true
   },
   "outputs": [],
   "source": [
    "features0 = data0.drop(['id','product'], axis=1)\n",
    "target0 = data0['product']\n",
    "features_train0, features_valid0, target_train0, target_valid0 = train_test_split(features0, target0, test_size=0.25, random_state=12345)\n",
    "scaler0 = StandardScaler()\n",
    "scaler0.fit(features_train0)\n",
    "train_scaled0 = scaler0.transform(features_train0)\n",
    "valid_scaled0 = scaler0.transform(features_valid0)"
   ]
  },
  {
   "cell_type": "code",
   "execution_count": 7,
   "metadata": {},
   "outputs": [
    {
     "name": "stdout",
     "output_type": "stream",
     "text": [
      "Регион 1. Средний запас предсказанного сырья: 92.59256778438035, RMSE модели = 37.5794217150813\n"
     ]
    }
   ],
   "source": [
    "model0 = model.fit(train_scaled0, target_train0)\n",
    "predict0 = model0.predict(valid_scaled0)\n",
    "rmse0 = mean_squared_error(target_valid0, predict0)**0.5\n",
    "mean0=predict0.mean()\n",
    "print(f'Регион 1. Средний запас предсказанного сырья: {mean0}, RMSE модели = {rmse0}')"
   ]
  },
  {
   "cell_type": "code",
   "execution_count": 8,
   "metadata": {},
   "outputs": [],
   "source": [
    "features1 = data1.drop(['id','product'], axis=1)\n",
    "target1 = data1['product']\n",
    "features_train1, features_valid1, target_train1, target_valid1 = train_test_split(features1, target1, test_size=0.25, random_state=12345)\n",
    "scaler1 = StandardScaler()\n",
    "scaler1.fit(features_train1)\n",
    "train_scaled1 = scaler1.transform(features_train1)\n",
    "valid_scaled1 = scaler1.transform(features_valid1)"
   ]
  },
  {
   "cell_type": "code",
   "execution_count": 9,
   "metadata": {},
   "outputs": [
    {
     "name": "stdout",
     "output_type": "stream",
     "text": [
      "Регион 1. Средний запас предсказанного сырья: 68.728546895446, RMSE модели = 0.893099286775617\n"
     ]
    }
   ],
   "source": [
    "model1 = model.fit(train_scaled1, target_train1)\n",
    "predict1 = model1.predict(valid_scaled1)\n",
    "rmse1 = mean_squared_error(target_valid1, predict1)**0.5\n",
    "mean1 = predict1.mean()\n",
    "print(f'Регион 1. Средний запас предсказанного сырья: {mean1}, RMSE модели = {rmse1}')"
   ]
  },
  {
   "cell_type": "code",
   "execution_count": 10,
   "metadata": {},
   "outputs": [],
   "source": [
    "features2 = data2.drop(['id','product'], axis=1)\n",
    "target2 = data2['product']\n",
    "features_train2, features_valid2, target_train2, target_valid2 = train_test_split(features2, target2, test_size=0.25, random_state=12345)\n",
    "scaler2 = StandardScaler()\n",
    "scaler2.fit(features_train2)\n",
    "train_scaled2 = scaler2.transform(features_train2)\n",
    "valid_scaled2 = scaler2.transform(features_valid2)"
   ]
  },
  {
   "cell_type": "code",
   "execution_count": 11,
   "metadata": {},
   "outputs": [
    {
     "name": "stdout",
     "output_type": "stream",
     "text": [
      "Регион 1. Средний запас предсказанного сырья: 94.96504596800489, RMSE модели = 40.02970873393434\n"
     ]
    }
   ],
   "source": [
    "model2 = model.fit(train_scaled2, target_train2)\n",
    "predict2 = model2.predict(valid_scaled2)\n",
    "rmse2 = mean_squared_error(target_valid2, predict2)**0.5\n",
    "mean2 = predict2.mean()\n",
    "print(f'Регион 1. Средний запас предсказанного сырья: {mean2}, RMSE модели = {rmse2}')"
   ]
  },
  {
   "cell_type": "markdown",
   "metadata": {},
   "source": [
    "Создадим таблицу, отражающую результаты среднего запаса регионов и RMSE моделей"
   ]
  },
  {
   "cell_type": "code",
   "execution_count": 12,
   "metadata": {
    "scrolled": false
   },
   "outputs": [
    {
     "data": {
      "text/html": [
       "<div>\n",
       "<style scoped>\n",
       "    .dataframe tbody tr th:only-of-type {\n",
       "        vertical-align: middle;\n",
       "    }\n",
       "\n",
       "    .dataframe tbody tr th {\n",
       "        vertical-align: top;\n",
       "    }\n",
       "\n",
       "    .dataframe thead th {\n",
       "        text-align: right;\n",
       "    }\n",
       "</style>\n",
       "<table border=\"1\" class=\"dataframe\">\n",
       "  <thead>\n",
       "    <tr style=\"text-align: right;\">\n",
       "      <th></th>\n",
       "      <th>Регионы</th>\n",
       "      <th>Средний запас предсказанного сырья</th>\n",
       "      <th>RMSE модели</th>\n",
       "    </tr>\n",
       "  </thead>\n",
       "  <tbody>\n",
       "    <tr>\n",
       "      <th>0</th>\n",
       "      <td>Регион 1</td>\n",
       "      <td>68.728547</td>\n",
       "      <td>0.893099</td>\n",
       "    </tr>\n",
       "    <tr>\n",
       "      <th>1</th>\n",
       "      <td>Регион 0</td>\n",
       "      <td>92.592568</td>\n",
       "      <td>37.579422</td>\n",
       "    </tr>\n",
       "    <tr>\n",
       "      <th>2</th>\n",
       "      <td>Регион 2</td>\n",
       "      <td>94.965046</td>\n",
       "      <td>40.029709</td>\n",
       "    </tr>\n",
       "  </tbody>\n",
       "</table>\n",
       "</div>"
      ],
      "text/plain": [
       "    Регионы  Средний запас предсказанного сырья  RMSE модели\n",
       "0  Регион 1                           68.728547     0.893099\n",
       "1  Регион 0                           92.592568    37.579422\n",
       "2  Регион 2                           94.965046    40.029709"
      ]
     },
     "execution_count": 12,
     "metadata": {},
     "output_type": "execute_result"
    }
   ],
   "source": [
    "status = pd.DataFrame([['Регион 0', mean0,     rmse0],\n",
    "                  ['Регион 1',    mean1,   rmse1],\n",
    "                  ['Регион 2',  mean2, rmse2]],\n",
    "columns=['Регионы', 'Средний запас предсказанного сырья', 'RMSE модели'])\n",
    "status.sort_values('RMSE модели').reset_index(drop=True)"
   ]
  },
  {
   "cell_type": "markdown",
   "metadata": {},
   "source": [
    "На данный момент лучшим регионом показал себя регион 1 с RMSE = 0.893 и средним запасом предсказанного сырья в 68.728547 ед. Такое значение RMSE достигается за счет колонки 'f2' в датасете региона 1."
   ]
  },
  {
   "cell_type": "markdown",
   "metadata": {},
   "source": [
    "## Подготовка к расчёту прибыли"
   ]
  },
  {
   "cell_type": "markdown",
   "metadata": {},
   "source": [
    "Все ключевые значения для расчётов сохраним в отдельных переменных."
   ]
  },
  {
   "cell_type": "code",
   "execution_count": 13,
   "metadata": {},
   "outputs": [],
   "source": [
    "all_point = 500 # 500  точек для разработки\n",
    "best_point = 200 # 200 лучших точек для разработки\n",
    "budget = 10*10**9 # региональный бюджет\n",
    "per_barrel = 450 # цена за 1 баррель\n",
    "per_product = 450*10**3 # цена за единицу продукта (1000 баррелей)\n",
    "prop_loss = '2.5%' # граница вероятности убытков\n",
    "best_gerion = 'max_profit' # лучший регион с наибольшей средней прибылью"
   ]
  },
  {
   "cell_type": "markdown",
   "metadata": {},
   "source": [
    "Рассчитаем достаточный объём сырья для безубыточной разработки новой скважины"
   ]
  },
  {
   "cell_type": "code",
   "execution_count": 14,
   "metadata": {},
   "outputs": [
    {
     "name": "stdout",
     "output_type": "stream",
     "text": [
      "Достаточный обьем для безубыточной разработки новой скважины равен: 111.11111111111111\n"
     ]
    }
   ],
   "source": [
    "min_profitable = budget / per_product\n",
    "min_count_per_point = min_profitable / best_point\n",
    "print('Достаточный обьем для безубыточной разработки новой скважины равен:',min_count_per_point)"
   ]
  },
  {
   "cell_type": "markdown",
   "metadata": {},
   "source": [
    "Сравним полученный объём сырья со средним запасом в каждом регионе"
   ]
  },
  {
   "cell_type": "code",
   "execution_count": 15,
   "metadata": {},
   "outputs": [],
   "source": [
    "status['Необходимое кол-во сырья'] = min_count_per_point\n",
    "\n",
    "difference = []\n",
    "\n",
    "for value in status[\"Средний запас предсказанного сырья\"]:\n",
    "    if value >= min_count_per_point:\n",
    "        difference.append(min_count_per_point - value)\n",
    "    else:\n",
    "        difference.append(min_count_per_point - value)\n",
    "\n",
    "status['Разница'] = difference"
   ]
  },
  {
   "cell_type": "code",
   "execution_count": 16,
   "metadata": {
    "scrolled": true
   },
   "outputs": [
    {
     "data": {
      "text/html": [
       "<div>\n",
       "<style scoped>\n",
       "    .dataframe tbody tr th:only-of-type {\n",
       "        vertical-align: middle;\n",
       "    }\n",
       "\n",
       "    .dataframe tbody tr th {\n",
       "        vertical-align: top;\n",
       "    }\n",
       "\n",
       "    .dataframe thead th {\n",
       "        text-align: right;\n",
       "    }\n",
       "</style>\n",
       "<table border=\"1\" class=\"dataframe\">\n",
       "  <thead>\n",
       "    <tr style=\"text-align: right;\">\n",
       "      <th></th>\n",
       "      <th>Регионы</th>\n",
       "      <th>Средний запас предсказанного сырья</th>\n",
       "      <th>RMSE модели</th>\n",
       "      <th>Необходимое кол-во сырья</th>\n",
       "      <th>Разница</th>\n",
       "    </tr>\n",
       "  </thead>\n",
       "  <tbody>\n",
       "    <tr>\n",
       "      <th>0</th>\n",
       "      <td>Регион 0</td>\n",
       "      <td>92.592568</td>\n",
       "      <td>37.579422</td>\n",
       "      <td>111.111111</td>\n",
       "      <td>18.518543</td>\n",
       "    </tr>\n",
       "    <tr>\n",
       "      <th>1</th>\n",
       "      <td>Регион 1</td>\n",
       "      <td>68.728547</td>\n",
       "      <td>0.893099</td>\n",
       "      <td>111.111111</td>\n",
       "      <td>42.382564</td>\n",
       "    </tr>\n",
       "    <tr>\n",
       "      <th>2</th>\n",
       "      <td>Регион 2</td>\n",
       "      <td>94.965046</td>\n",
       "      <td>40.029709</td>\n",
       "      <td>111.111111</td>\n",
       "      <td>16.146065</td>\n",
       "    </tr>\n",
       "  </tbody>\n",
       "</table>\n",
       "</div>"
      ],
      "text/plain": [
       "    Регионы  Средний запас предсказанного сырья  RMSE модели  \\\n",
       "0  Регион 0                           92.592568    37.579422   \n",
       "1  Регион 1                           68.728547     0.893099   \n",
       "2  Регион 2                           94.965046    40.029709   \n",
       "\n",
       "   Необходимое кол-во сырья    Разница  \n",
       "0                111.111111  18.518543  \n",
       "1                111.111111  42.382564  \n",
       "2                111.111111  16.146065  "
      ]
     },
     "execution_count": 16,
     "metadata": {},
     "output_type": "execute_result"
    }
   ],
   "source": [
    "status"
   ]
  },
  {
   "cell_type": "markdown",
   "metadata": {},
   "source": [
    "Для регионов разница среднего обьема и безубыточного составила от 16.146 до 42.383"
   ]
  },
  {
   "cell_type": "markdown",
   "metadata": {},
   "source": [
    "## Расчёт прибыли и рисков "
   ]
  },
  {
   "cell_type": "markdown",
   "metadata": {},
   "source": [
    "Напишем функцию для расчета прибыли по регионам для 200 лучших скважин в каждом из них"
   ]
  },
  {
   "cell_type": "code",
   "execution_count": 17,
   "metadata": {},
   "outputs": [],
   "source": [
    " def revenue(target, predict):\n",
    "    target = pd.Series(target).reset_index(drop=True)\n",
    "    predict = pd.Series(predict).reset_index(drop=True).sort_values(ascending=False)\n",
    "    target_best = target[predict[:best_point].index]\n",
    "    revenue = target_best.sum() * per_product - budget\n",
    "    return revenue\n",
    "    "
   ]
  },
  {
   "cell_type": "code",
   "execution_count": 18,
   "metadata": {
    "scrolled": true
   },
   "outputs": [
    {
     "name": "stdout",
     "output_type": "stream",
     "text": [
      "Прибыль по региону 0 составит: 3320826043.1398506\n",
      "Прибыль по региону 1 составит: 2415086696.681511\n",
      "Прибыль по региону 2 составит: 2710349963.5998325\n"
     ]
    }
   ],
   "source": [
    "print('Прибыль по региону 0 составит:', revenue(target_valid0, predict0))\n",
    "print('Прибыль по региону 1 составит:', revenue(target_valid1, predict1))\n",
    "print('Прибыль по региону 2 составит:', revenue(target_valid2, predict2))"
   ]
  },
  {
   "cell_type": "markdown",
   "metadata": {},
   "source": [
    "Применим технику Bootstrap с 1000 выборок, чтобы найти распределение прибыли"
   ]
  },
  {
   "cell_type": "code",
   "execution_count": 19,
   "metadata": {},
   "outputs": [],
   "source": [
    "def boost(target, propabilities):\n",
    "    \n",
    "    state = np.random.RandomState(12345)\n",
    "    values = []\n",
    "    \n",
    "    for i in range(1000):\n",
    "        target_subsample = target.sample(n=500, replace=True, random_state=state)\n",
    "        probs_subsample = propabilities[target_subsample.index]\n",
    "        values.append(revenue(target_subsample, probs_subsample))\n",
    "\n",
    "    values = pd.Series(values)\n",
    "    risk = (values < 0).mean()*100\n",
    "    lower = values.quantile(0.025)\n",
    "    upper = values.quantile(0.975)\n",
    "    mean = values.mean()\n",
    "    \n",
    "    return  mean, risk, lower, upper"
   ]
  },
  {
   "cell_type": "code",
   "execution_count": 20,
   "metadata": {},
   "outputs": [
    {
     "name": "stdout",
     "output_type": "stream",
     "text": [
      "Средняя выручка по региону 0 = 396164984.8023711\n",
      "Риск убытков по региону 0 = 6.9\n",
      "Границы 95%-ого доверительного интервала региона 0: -111215545.89049526 - 909766941.5534226\n"
     ]
    }
   ],
   "source": [
    "mean_0, risk_0, lower_0, upper_0 = boost(target_valid0.reset_index(drop=True), predict0)\n",
    "print('Средняя выручка по региону 0 =', mean_0)\n",
    "print('Риск убытков по региону 0 =', risk_0)\n",
    "print('Границы 95%-ого доверительного интервала региона 0:', lower_0, '-', upper_0)"
   ]
  },
  {
   "cell_type": "code",
   "execution_count": 21,
   "metadata": {},
   "outputs": [
    {
     "name": "stdout",
     "output_type": "stream",
     "text": [
      "Средняя выручка по региону 1 = 456045105.7866608\n",
      "Риск убытков по региону 1 = 1.5\n",
      "Границы 95%-ого доверительного интервала региона 1: 33820509.39898363 - 852289453.866036\n"
     ]
    }
   ],
   "source": [
    "mean_1, risk_1, lower_1, upper_1 = boost(target_valid1.reset_index(drop=True), predict1)\n",
    "print('Средняя выручка по региону 1 =', mean_1)\n",
    "print('Риск убытков по региону 1 =', risk_1)\n",
    "print('Границы 95%-ого доверительного интервала региона 1:', lower_1, '-', upper_1)"
   ]
  },
  {
   "cell_type": "code",
   "execution_count": 22,
   "metadata": {
    "scrolled": true
   },
   "outputs": [
    {
     "name": "stdout",
     "output_type": "stream",
     "text": [
      "Средняя выручка по региону 2 = 404403866.5683568\n",
      "Риск убытков по региону 2 = 7.6\n",
      "Границы 95%-ого доверительного интервала региона 2: -163350413.39560106 - 950359574.9237995\n"
     ]
    }
   ],
   "source": [
    "mean_2, risk_2, lower_2, upper_2 = boost(target_valid2.reset_index(drop=True), predict2)\n",
    "print('Средняя выручка по региону 2 =', mean_2)\n",
    "print('Риск убытков по региону 2 =', risk_2)\n",
    "print('Границы 95%-ого доверительного интервала региона 2:', lower_2, '-', upper_2)"
   ]
  },
  {
   "cell_type": "code",
   "execution_count": 23,
   "metadata": {},
   "outputs": [
    {
     "data": {
      "text/html": [
       "<div>\n",
       "<style scoped>\n",
       "    .dataframe tbody tr th:only-of-type {\n",
       "        vertical-align: middle;\n",
       "    }\n",
       "\n",
       "    .dataframe tbody tr th {\n",
       "        vertical-align: top;\n",
       "    }\n",
       "\n",
       "    .dataframe thead th {\n",
       "        text-align: right;\n",
       "    }\n",
       "</style>\n",
       "<table border=\"1\" class=\"dataframe\">\n",
       "  <thead>\n",
       "    <tr style=\"text-align: right;\">\n",
       "      <th></th>\n",
       "      <th>Регионы</th>\n",
       "      <th>Средняя выручка по региону</th>\n",
       "      <th>Риск убытков по региону</th>\n",
       "      <th>Нижняя граница доверительного интервала</th>\n",
       "      <th>Верхняя граница доверительного интервала</th>\n",
       "    </tr>\n",
       "  </thead>\n",
       "  <tbody>\n",
       "    <tr>\n",
       "      <th>0</th>\n",
       "      <td>Регион 1</td>\n",
       "      <td>4.560451e+08</td>\n",
       "      <td>1.5</td>\n",
       "      <td>3.382051e+07</td>\n",
       "      <td>8.522895e+08</td>\n",
       "    </tr>\n",
       "    <tr>\n",
       "      <th>1</th>\n",
       "      <td>Регион 0</td>\n",
       "      <td>3.961650e+08</td>\n",
       "      <td>6.9</td>\n",
       "      <td>-1.112155e+08</td>\n",
       "      <td>9.097669e+08</td>\n",
       "    </tr>\n",
       "    <tr>\n",
       "      <th>2</th>\n",
       "      <td>Регион 2</td>\n",
       "      <td>4.044039e+08</td>\n",
       "      <td>7.6</td>\n",
       "      <td>-1.633504e+08</td>\n",
       "      <td>9.503596e+08</td>\n",
       "    </tr>\n",
       "  </tbody>\n",
       "</table>\n",
       "</div>"
      ],
      "text/plain": [
       "    Регионы  Средняя выручка по региону  Риск убытков по региону  \\\n",
       "0  Регион 1                4.560451e+08                      1.5   \n",
       "1  Регион 0                3.961650e+08                      6.9   \n",
       "2  Регион 2                4.044039e+08                      7.6   \n",
       "\n",
       "   Нижняя граница доверительного интервала  \\\n",
       "0                             3.382051e+07   \n",
       "1                            -1.112155e+08   \n",
       "2                            -1.633504e+08   \n",
       "\n",
       "   Верхняя граница доверительного интервала  \n",
       "0                              8.522895e+08  \n",
       "1                              9.097669e+08  \n",
       "2                              9.503596e+08  "
      ]
     },
     "execution_count": 23,
     "metadata": {},
     "output_type": "execute_result"
    }
   ],
   "source": [
    "best = pd.DataFrame([['Регион 0', mean_0, risk_0, lower_0, upper_0],\n",
    "                  ['Регион 1',    mean_1, risk_1, lower_1, upper_1],\n",
    "                  ['Регион 2',    mean_2, risk_2, lower_2, upper_2]],\n",
    "columns=['Регионы', 'Средняя выручка по региону', 'Риск убытков по региону', 'Нижняя граница доверительного интервала', 'Верхняя граница доверительного интервала'])\n",
    "best.sort_values('Риск убытков по региону').reset_index(drop=True)"
   ]
  },
  {
   "cell_type": "markdown",
   "metadata": {},
   "source": [
    "Лучшим регионом для разработки скважин с средней выручкой 456045105, риском убытков в 1.5% (по условию менее 2.5%) , и границами доверительного интервала 33820509-852289453, является регион 1."
   ]
  }
 ],
 "metadata": {
  "ExecuteTimeLog": [
   {
    "duration": 454,
    "start_time": "2022-04-30T16:08:57.740Z"
   },
   {
    "duration": 10,
    "start_time": "2022-04-30T16:09:14.512Z"
   },
   {
    "duration": 113,
    "start_time": "2022-04-30T16:09:23.962Z"
   },
   {
    "duration": 334,
    "start_time": "2022-04-30T16:09:38.377Z"
   },
   {
    "duration": 342,
    "start_time": "2022-04-30T16:09:49.988Z"
   },
   {
    "duration": 325,
    "start_time": "2022-04-30T16:09:59.408Z"
   },
   {
    "duration": 333,
    "start_time": "2022-04-30T16:10:03.240Z"
   },
   {
    "duration": 348,
    "start_time": "2022-04-30T16:51:30.254Z"
   },
   {
    "duration": 337,
    "start_time": "2022-04-30T16:51:37.450Z"
   },
   {
    "duration": 338,
    "start_time": "2022-04-30T16:51:43.879Z"
   },
   {
    "duration": 391,
    "start_time": "2022-04-30T16:51:49.274Z"
   },
   {
    "duration": 340,
    "start_time": "2022-04-30T16:52:03.876Z"
   },
   {
    "duration": 329,
    "start_time": "2022-04-30T17:28:18.423Z"
   },
   {
    "duration": 332,
    "start_time": "2022-04-30T17:28:26.708Z"
   },
   {
    "duration": 2,
    "start_time": "2022-04-30T17:28:28.238Z"
   },
   {
    "duration": 329,
    "start_time": "2022-04-30T17:28:28.633Z"
   },
   {
    "duration": 2,
    "start_time": "2022-04-30T17:53:31.173Z"
   },
   {
    "duration": 338,
    "start_time": "2022-04-30T17:53:31.547Z"
   },
   {
    "duration": 14,
    "start_time": "2022-04-30T17:53:40.743Z"
   },
   {
    "duration": 29,
    "start_time": "2022-04-30T17:54:57.578Z"
   },
   {
    "duration": 30,
    "start_time": "2022-04-30T17:55:14.268Z"
   },
   {
    "duration": 3,
    "start_time": "2022-04-30T17:55:29.912Z"
   },
   {
    "duration": 7,
    "start_time": "2022-04-30T17:56:15.348Z"
   },
   {
    "duration": 350,
    "start_time": "2022-04-30T17:56:19.636Z"
   },
   {
    "duration": 2,
    "start_time": "2022-04-30T17:56:19.992Z"
   },
   {
    "duration": 11,
    "start_time": "2022-04-30T17:56:20.009Z"
   },
   {
    "duration": 10,
    "start_time": "2022-04-30T17:56:25.466Z"
   },
   {
    "duration": 36,
    "start_time": "2022-04-30T17:56:44.364Z"
   },
   {
    "duration": 2,
    "start_time": "2022-04-30T17:57:13.061Z"
   },
   {
    "duration": 3,
    "start_time": "2022-04-30T17:57:13.279Z"
   },
   {
    "duration": 94,
    "start_time": "2022-04-30T17:57:23.968Z"
   },
   {
    "duration": 3,
    "start_time": "2022-04-30T17:57:25.031Z"
   },
   {
    "duration": 118,
    "start_time": "2022-04-30T17:57:28.110Z"
   },
   {
    "duration": 3,
    "start_time": "2022-04-30T17:57:28.820Z"
   },
   {
    "duration": 3,
    "start_time": "2022-04-30T17:57:40.600Z"
   },
   {
    "duration": 33,
    "start_time": "2022-04-30T17:57:42.032Z"
   },
   {
    "duration": 13,
    "start_time": "2022-05-01T05:45:33.026Z"
   },
   {
    "duration": 508,
    "start_time": "2022-05-01T05:45:37.482Z"
   },
   {
    "duration": 445,
    "start_time": "2022-05-01T05:45:37.992Z"
   },
   {
    "duration": 6,
    "start_time": "2022-05-01T05:45:38.440Z"
   },
   {
    "duration": 80,
    "start_time": "2022-05-01T05:45:38.449Z"
   },
   {
    "duration": 4,
    "start_time": "2022-05-01T05:46:07.846Z"
   },
   {
    "duration": 4,
    "start_time": "2022-05-01T05:46:13.865Z"
   },
   {
    "duration": 60,
    "start_time": "2022-05-01T05:46:14.064Z"
   },
   {
    "duration": 4,
    "start_time": "2022-05-01T05:46:37.325Z"
   },
   {
    "duration": 60,
    "start_time": "2022-05-01T05:46:39.908Z"
   },
   {
    "duration": 5,
    "start_time": "2022-05-01T05:47:01.645Z"
   },
   {
    "duration": 60,
    "start_time": "2022-05-01T05:47:02.385Z"
   },
   {
    "duration": 4,
    "start_time": "2022-05-01T05:47:31.002Z"
   },
   {
    "duration": 60,
    "start_time": "2022-05-01T05:47:31.296Z"
   },
   {
    "duration": 4,
    "start_time": "2022-05-01T05:51:46.725Z"
   },
   {
    "duration": 132,
    "start_time": "2022-05-01T05:52:04.005Z"
   },
   {
    "duration": 127,
    "start_time": "2022-05-01T05:52:20.326Z"
   },
   {
    "duration": 4,
    "start_time": "2022-05-01T05:52:31.447Z"
   },
   {
    "duration": 92,
    "start_time": "2022-05-01T05:52:45.665Z"
   },
   {
    "duration": 13,
    "start_time": "2022-05-01T05:52:50.465Z"
   },
   {
    "duration": 4,
    "start_time": "2022-05-01T05:53:04.705Z"
   },
   {
    "duration": 13,
    "start_time": "2022-05-01T05:53:06.365Z"
   },
   {
    "duration": 13,
    "start_time": "2022-05-01T05:53:42.791Z"
   },
   {
    "duration": 11,
    "start_time": "2022-05-01T05:55:02.085Z"
   },
   {
    "duration": 10,
    "start_time": "2022-05-01T05:55:30.865Z"
   },
   {
    "duration": 7,
    "start_time": "2022-05-01T05:55:35.365Z"
   },
   {
    "duration": 12,
    "start_time": "2022-05-01T05:55:50.066Z"
   },
   {
    "duration": 7,
    "start_time": "2022-05-01T05:56:04.385Z"
   },
   {
    "duration": 12,
    "start_time": "2022-05-01T05:56:14.506Z"
   },
   {
    "duration": 8,
    "start_time": "2022-05-01T05:56:18.845Z"
   },
   {
    "duration": 14,
    "start_time": "2022-05-01T05:59:01.662Z"
   },
   {
    "duration": 12,
    "start_time": "2022-05-01T05:59:27.017Z"
   },
   {
    "duration": 10,
    "start_time": "2022-05-01T05:59:33.226Z"
   },
   {
    "duration": 3,
    "start_time": "2022-05-01T05:59:50.866Z"
   },
   {
    "duration": 6,
    "start_time": "2022-05-01T05:59:57.278Z"
   },
   {
    "duration": 10,
    "start_time": "2022-05-01T06:00:17.445Z"
   },
   {
    "duration": 9,
    "start_time": "2022-05-01T06:00:22.086Z"
   },
   {
    "duration": 182,
    "start_time": "2022-05-01T06:01:39.644Z"
   },
   {
    "duration": 9,
    "start_time": "2022-05-01T06:01:45.583Z"
   },
   {
    "duration": 9,
    "start_time": "2022-05-01T06:01:48.983Z"
   },
   {
    "duration": 131,
    "start_time": "2022-05-01T06:01:54.523Z"
   },
   {
    "duration": 11,
    "start_time": "2022-05-01T06:03:08.725Z"
   },
   {
    "duration": 10,
    "start_time": "2022-05-01T06:07:37.925Z"
   },
   {
    "duration": 10,
    "start_time": "2022-05-01T06:14:03.485Z"
   },
   {
    "duration": 10,
    "start_time": "2022-05-01T06:14:09.864Z"
   },
   {
    "duration": 9,
    "start_time": "2022-05-01T06:14:19.925Z"
   },
   {
    "duration": 9,
    "start_time": "2022-05-01T06:14:25.306Z"
   },
   {
    "duration": 10,
    "start_time": "2022-05-01T06:14:38.485Z"
   },
   {
    "duration": 185,
    "start_time": "2022-05-01T06:14:48.825Z"
   },
   {
    "duration": 10,
    "start_time": "2022-05-01T06:14:52.393Z"
   },
   {
    "duration": 9,
    "start_time": "2022-05-01T06:15:02.122Z"
   },
   {
    "duration": 137,
    "start_time": "2022-05-01T06:15:10.645Z"
   },
   {
    "duration": 10,
    "start_time": "2022-05-01T06:15:13.965Z"
   },
   {
    "duration": 14,
    "start_time": "2022-05-01T06:16:01.245Z"
   },
   {
    "duration": 11,
    "start_time": "2022-05-01T06:16:05.665Z"
   },
   {
    "duration": 12,
    "start_time": "2022-05-01T06:16:08.965Z"
   },
   {
    "duration": 13,
    "start_time": "2022-05-01T06:16:17.485Z"
   },
   {
    "duration": 6,
    "start_time": "2022-05-01T06:16:28.545Z"
   },
   {
    "duration": 13,
    "start_time": "2022-05-01T06:16:50.445Z"
   },
   {
    "duration": 15,
    "start_time": "2022-05-01T06:17:00.745Z"
   },
   {
    "duration": 16,
    "start_time": "2022-05-01T06:17:06.725Z"
   },
   {
    "duration": 54,
    "start_time": "2022-05-01T06:17:21.333Z"
   },
   {
    "duration": 48,
    "start_time": "2022-05-01T06:17:30.386Z"
   },
   {
    "duration": 19,
    "start_time": "2022-05-01T06:17:43.523Z"
   },
   {
    "duration": 49,
    "start_time": "2022-05-01T06:18:12.946Z"
   },
   {
    "duration": 51,
    "start_time": "2022-05-01T06:18:27.745Z"
   },
   {
    "duration": 12,
    "start_time": "2022-05-01T06:18:36.905Z"
   },
   {
    "duration": 49,
    "start_time": "2022-05-01T06:18:42.045Z"
   },
   {
    "duration": 37,
    "start_time": "2022-05-01T06:18:52.045Z"
   },
   {
    "duration": 52,
    "start_time": "2022-05-01T06:18:59.965Z"
   },
   {
    "duration": 45,
    "start_time": "2022-05-01T06:19:18.971Z"
   },
   {
    "duration": 28,
    "start_time": "2022-05-01T06:30:33.925Z"
   },
   {
    "duration": 29,
    "start_time": "2022-05-01T06:30:56.239Z"
   },
   {
    "duration": 29,
    "start_time": "2022-05-01T06:31:10.405Z"
   },
   {
    "duration": 145,
    "start_time": "2022-05-01T06:31:28.425Z"
   },
   {
    "duration": 49,
    "start_time": "2022-05-01T06:31:35.373Z"
   },
   {
    "duration": 11,
    "start_time": "2022-05-01T06:31:47.464Z"
   },
   {
    "duration": 82,
    "start_time": "2022-05-01T06:31:55.025Z"
   },
   {
    "duration": 76,
    "start_time": "2022-05-01T06:31:59.685Z"
   },
   {
    "duration": 77,
    "start_time": "2022-05-01T06:32:07.845Z"
   },
   {
    "duration": 72,
    "start_time": "2022-05-01T06:32:11.944Z"
   },
   {
    "duration": 10,
    "start_time": "2022-05-01T06:32:23.404Z"
   },
   {
    "duration": 9,
    "start_time": "2022-05-01T06:32:26.865Z"
   },
   {
    "duration": 5,
    "start_time": "2022-05-01T06:32:32.224Z"
   },
   {
    "duration": 6,
    "start_time": "2022-05-01T06:32:37.758Z"
   },
   {
    "duration": 127,
    "start_time": "2022-05-01T06:34:00.765Z"
   },
   {
    "duration": 4,
    "start_time": "2022-05-01T06:34:08.085Z"
   },
   {
    "duration": 59,
    "start_time": "2022-05-01T06:34:14.465Z"
   },
   {
    "duration": 5,
    "start_time": "2022-05-01T06:34:36.464Z"
   },
   {
    "duration": 44,
    "start_time": "2022-05-01T06:34:37.124Z"
   },
   {
    "duration": 62,
    "start_time": "2022-05-01T06:34:39.204Z"
   },
   {
    "duration": 133,
    "start_time": "2022-05-01T06:35:06.664Z"
   },
   {
    "duration": 4,
    "start_time": "2022-05-01T06:35:19.047Z"
   },
   {
    "duration": 46,
    "start_time": "2022-05-01T06:35:22.764Z"
   },
   {
    "duration": 61,
    "start_time": "2022-05-01T06:35:23.404Z"
   },
   {
    "duration": 4,
    "start_time": "2022-05-01T06:42:44.484Z"
   },
   {
    "duration": 57,
    "start_time": "2022-05-01T06:42:44.805Z"
   },
   {
    "duration": 22,
    "start_time": "2022-05-01T07:04:16.424Z"
   },
   {
    "duration": 15,
    "start_time": "2022-05-01T07:04:23.085Z"
   },
   {
    "duration": 4,
    "start_time": "2022-05-01T07:04:27.303Z"
   },
   {
    "duration": 426,
    "start_time": "2022-05-01T07:04:27.463Z"
   },
   {
    "duration": 5,
    "start_time": "2022-05-01T07:04:27.893Z"
   },
   {
    "duration": 90,
    "start_time": "2022-05-01T07:04:27.901Z"
   },
   {
    "duration": 14,
    "start_time": "2022-05-01T07:04:27.995Z"
   },
   {
    "duration": 79,
    "start_time": "2022-05-01T07:04:55.524Z"
   },
   {
    "duration": 61,
    "start_time": "2022-05-01T07:05:49.223Z"
   },
   {
    "duration": 5,
    "start_time": "2022-05-01T07:05:50.843Z"
   },
   {
    "duration": 82,
    "start_time": "2022-05-01T07:05:51.097Z"
   },
   {
    "duration": 5,
    "start_time": "2022-05-01T07:06:17.170Z"
   },
   {
    "duration": 5,
    "start_time": "2022-05-01T07:06:52.621Z"
   },
   {
    "duration": 95,
    "start_time": "2022-05-01T07:06:54.689Z"
   },
   {
    "duration": 5,
    "start_time": "2022-05-01T07:08:01.290Z"
   },
   {
    "duration": 34,
    "start_time": "2022-05-01T07:08:02.192Z"
   },
   {
    "duration": 5,
    "start_time": "2022-05-01T07:08:09.982Z"
   },
   {
    "duration": 314,
    "start_time": "2022-05-01T07:08:11.062Z"
   },
   {
    "duration": 5,
    "start_time": "2022-05-01T07:09:24.182Z"
   },
   {
    "duration": 426,
    "start_time": "2022-05-01T07:09:24.224Z"
   },
   {
    "duration": 5,
    "start_time": "2022-05-01T07:10:10.941Z"
   },
   {
    "duration": 386,
    "start_time": "2022-05-01T07:10:11.181Z"
   },
   {
    "duration": 7,
    "start_time": "2022-05-01T07:10:33.262Z"
   },
   {
    "duration": 423,
    "start_time": "2022-05-01T07:10:33.491Z"
   },
   {
    "duration": 2333,
    "start_time": "2022-05-01T07:17:25.762Z"
   },
   {
    "duration": 1709,
    "start_time": "2022-05-01T10:23:50.384Z"
   },
   {
    "duration": 355,
    "start_time": "2022-05-01T10:23:52.095Z"
   },
   {
    "duration": 4,
    "start_time": "2022-05-01T10:23:52.451Z"
   },
   {
    "duration": 198,
    "start_time": "2022-05-01T10:23:52.457Z"
   },
   {
    "duration": 4,
    "start_time": "2022-05-01T10:24:48.344Z"
   },
   {
    "duration": 264,
    "start_time": "2022-05-01T10:24:48.799Z"
   },
   {
    "duration": 3,
    "start_time": "2022-05-01T10:25:07.184Z"
   },
   {
    "duration": 275,
    "start_time": "2022-05-01T10:25:08.626Z"
   },
   {
    "duration": 278,
    "start_time": "2022-05-01T10:26:53.243Z"
   },
   {
    "duration": 263,
    "start_time": "2022-05-01T10:27:00.764Z"
   },
   {
    "duration": 4,
    "start_time": "2022-05-01T10:28:56.884Z"
   },
   {
    "duration": 371,
    "start_time": "2022-05-01T10:28:57.363Z"
   },
   {
    "duration": 94,
    "start_time": "2022-05-01T10:29:27.444Z"
   },
   {
    "duration": 391,
    "start_time": "2022-05-01T10:29:27.724Z"
   },
   {
    "duration": 4,
    "start_time": "2022-05-01T10:29:36.224Z"
   },
   {
    "duration": 397,
    "start_time": "2022-05-01T10:29:36.707Z"
   },
   {
    "duration": 4,
    "start_time": "2022-05-01T10:29:55.144Z"
   },
   {
    "duration": 386,
    "start_time": "2022-05-01T10:29:55.764Z"
   },
   {
    "duration": 4,
    "start_time": "2022-05-01T10:30:53.324Z"
   },
   {
    "duration": 408,
    "start_time": "2022-05-01T10:30:53.503Z"
   },
   {
    "duration": 3,
    "start_time": "2022-05-01T10:32:50.384Z"
   },
   {
    "duration": 409,
    "start_time": "2022-05-01T10:32:51.864Z"
   },
   {
    "duration": 4,
    "start_time": "2022-05-01T10:33:38.285Z"
   },
   {
    "duration": 414,
    "start_time": "2022-05-01T10:33:40.125Z"
   },
   {
    "duration": 104,
    "start_time": "2022-05-01T10:38:03.283Z"
   },
   {
    "duration": 10,
    "start_time": "2022-05-01T10:38:17.151Z"
   },
   {
    "duration": 361,
    "start_time": "2022-05-01T10:38:33.991Z"
   },
   {
    "duration": 4,
    "start_time": "2022-05-01T10:38:34.438Z"
   },
   {
    "duration": 9,
    "start_time": "2022-05-01T10:38:35.123Z"
   },
   {
    "duration": 28,
    "start_time": "2022-05-01T10:38:43.923Z"
   },
   {
    "duration": 410,
    "start_time": "2022-05-01T10:38:46.623Z"
   },
   {
    "duration": 9,
    "start_time": "2022-05-01T10:39:02.902Z"
   },
   {
    "duration": 409,
    "start_time": "2022-05-01T10:40:26.452Z"
   },
   {
    "duration": 53,
    "start_time": "2022-05-01T16:47:34.746Z"
   },
   {
    "duration": 4,
    "start_time": "2022-05-01T18:57:29.410Z"
   },
   {
    "duration": 8,
    "start_time": "2022-05-01T18:58:00.732Z"
   },
   {
    "duration": 1772,
    "start_time": "2022-05-01T18:58:04.745Z"
   },
   {
    "duration": 496,
    "start_time": "2022-05-01T18:58:06.519Z"
   },
   {
    "duration": 5,
    "start_time": "2022-05-01T18:58:07.017Z"
   },
   {
    "duration": 112,
    "start_time": "2022-05-01T18:58:07.025Z"
   },
   {
    "duration": 0,
    "start_time": "2022-05-01T18:58:07.138Z"
   },
   {
    "duration": 0,
    "start_time": "2022-05-01T18:58:07.140Z"
   },
   {
    "duration": 553,
    "start_time": "2022-05-01T18:58:18.858Z"
   },
   {
    "duration": 3,
    "start_time": "2022-05-01T18:58:20.727Z"
   },
   {
    "duration": 18,
    "start_time": "2022-05-01T18:58:21.080Z"
   },
   {
    "duration": 18,
    "start_time": "2022-05-01T18:58:33.309Z"
   },
   {
    "duration": 18,
    "start_time": "2022-05-01T18:58:35.694Z"
   },
   {
    "duration": 5,
    "start_time": "2022-05-01T18:59:51.669Z"
   },
   {
    "duration": 30,
    "start_time": "2022-05-01T18:59:57.138Z"
   },
   {
    "duration": 10,
    "start_time": "2022-05-01T19:02:08.100Z"
   },
   {
    "duration": 11,
    "start_time": "2022-05-01T19:02:21.452Z"
   },
   {
    "duration": 15,
    "start_time": "2022-05-01T19:03:39.357Z"
   },
   {
    "duration": 16,
    "start_time": "2022-05-01T19:04:28.897Z"
   },
   {
    "duration": 15,
    "start_time": "2022-05-01T19:04:29.207Z"
   },
   {
    "duration": 3,
    "start_time": "2022-05-01T19:35:47.038Z"
   },
   {
    "duration": 10,
    "start_time": "2022-05-01T19:41:21.025Z"
   },
   {
    "duration": 20,
    "start_time": "2022-05-01T19:41:27.109Z"
   },
   {
    "duration": 15,
    "start_time": "2022-05-01T19:41:27.317Z"
   },
   {
    "duration": 13,
    "start_time": "2022-05-01T19:41:27.486Z"
   },
   {
    "duration": 3,
    "start_time": "2022-05-01T19:41:27.693Z"
   },
   {
    "duration": 26,
    "start_time": "2022-05-01T19:41:28.058Z"
   },
   {
    "duration": 23,
    "start_time": "2022-05-01T19:44:42.840Z"
   },
   {
    "duration": 14,
    "start_time": "2022-05-01T19:45:35.836Z"
   },
   {
    "duration": 23,
    "start_time": "2022-05-01T19:46:31.704Z"
   },
   {
    "duration": 98,
    "start_time": "2022-05-01T19:47:37.163Z"
   },
   {
    "duration": 38,
    "start_time": "2022-05-01T19:47:38.727Z"
   },
   {
    "duration": 26,
    "start_time": "2022-05-01T19:47:48.753Z"
   },
   {
    "duration": 61,
    "start_time": "2022-05-01T19:47:51.700Z"
   },
   {
    "duration": 17,
    "start_time": "2022-05-01T19:47:52.194Z"
   },
   {
    "duration": 19,
    "start_time": "2022-05-01T19:47:52.518Z"
   },
   {
    "duration": 23,
    "start_time": "2022-05-01T19:56:15.345Z"
   },
   {
    "duration": 28,
    "start_time": "2022-05-01T19:56:39.290Z"
   },
   {
    "duration": 31,
    "start_time": "2022-05-01T19:57:06.861Z"
   },
   {
    "duration": 24,
    "start_time": "2022-05-01T19:57:07.158Z"
   },
   {
    "duration": 21,
    "start_time": "2022-05-01T19:57:07.426Z"
   },
   {
    "duration": 3,
    "start_time": "2022-05-01T19:57:08.039Z"
   },
   {
    "duration": 43,
    "start_time": "2022-05-01T19:57:09.524Z"
   },
   {
    "duration": 14,
    "start_time": "2022-05-01T19:57:10.608Z"
   },
   {
    "duration": 15,
    "start_time": "2022-05-01T19:57:44.492Z"
   },
   {
    "duration": 12,
    "start_time": "2022-05-01T19:58:07.672Z"
   },
   {
    "duration": 12,
    "start_time": "2022-05-01T19:58:12.909Z"
   },
   {
    "duration": 156,
    "start_time": "2022-05-01T19:59:17.804Z"
   },
   {
    "duration": 140,
    "start_time": "2022-05-01T19:59:31.541Z"
   },
   {
    "duration": 91,
    "start_time": "2022-05-01T19:59:44.185Z"
   },
   {
    "duration": 209,
    "start_time": "2022-05-01T20:00:01.558Z"
   },
   {
    "duration": 11,
    "start_time": "2022-05-01T20:01:07.675Z"
   },
   {
    "duration": 1457,
    "start_time": "2022-05-01T20:01:49.769Z"
   },
   {
    "duration": 368,
    "start_time": "2022-05-01T20:01:51.228Z"
   },
   {
    "duration": 4,
    "start_time": "2022-05-01T20:01:51.598Z"
   },
   {
    "duration": 439,
    "start_time": "2022-05-01T20:01:51.605Z"
   },
   {
    "duration": 13,
    "start_time": "2022-05-01T20:01:52.046Z"
   },
   {
    "duration": 34,
    "start_time": "2022-05-01T20:01:52.061Z"
   },
   {
    "duration": 168,
    "start_time": "2022-05-01T20:01:52.096Z"
   },
   {
    "duration": 30,
    "start_time": "2022-05-01T20:01:52.267Z"
   },
   {
    "duration": 337,
    "start_time": "2022-05-01T20:01:52.298Z"
   },
   {
    "duration": 0,
    "start_time": "2022-05-01T20:01:52.636Z"
   },
   {
    "duration": 0,
    "start_time": "2022-05-01T20:01:52.638Z"
   },
   {
    "duration": 161,
    "start_time": "2022-05-01T20:02:57.316Z"
   },
   {
    "duration": 21,
    "start_time": "2022-05-01T20:03:08.814Z"
   },
   {
    "duration": 12,
    "start_time": "2022-05-01T20:03:44.519Z"
   },
   {
    "duration": 31,
    "start_time": "2022-05-01T20:03:52.077Z"
   },
   {
    "duration": 18,
    "start_time": "2022-05-01T20:03:52.659Z"
   },
   {
    "duration": 13,
    "start_time": "2022-05-01T20:09:48.283Z"
   },
   {
    "duration": 15,
    "start_time": "2022-05-01T20:23:19.079Z"
   },
   {
    "duration": 5,
    "start_time": "2022-05-01T20:26:32.958Z"
   },
   {
    "duration": 5,
    "start_time": "2022-05-01T20:33:08.167Z"
   },
   {
    "duration": 8,
    "start_time": "2022-05-02T08:53:43.882Z"
   },
   {
    "duration": 1912,
    "start_time": "2022-05-02T08:53:47.122Z"
   },
   {
    "duration": 465,
    "start_time": "2022-05-02T08:53:49.036Z"
   },
   {
    "duration": 6,
    "start_time": "2022-05-02T08:53:49.503Z"
   },
   {
    "duration": 365,
    "start_time": "2022-05-02T08:53:49.635Z"
   },
   {
    "duration": 4,
    "start_time": "2022-05-02T08:55:09.910Z"
   },
   {
    "duration": 368,
    "start_time": "2022-05-02T08:55:10.448Z"
   },
   {
    "duration": 4,
    "start_time": "2022-05-02T08:55:24.454Z"
   },
   {
    "duration": 373,
    "start_time": "2022-05-02T08:55:26.804Z"
   },
   {
    "duration": 3,
    "start_time": "2022-05-02T08:55:46.529Z"
   },
   {
    "duration": 366,
    "start_time": "2022-05-02T08:55:48.033Z"
   },
   {
    "duration": 19,
    "start_time": "2022-05-02T08:57:28.890Z"
   },
   {
    "duration": 20,
    "start_time": "2022-05-02T08:57:33.392Z"
   },
   {
    "duration": 102,
    "start_time": "2022-05-02T08:57:34.235Z"
   },
   {
    "duration": 3,
    "start_time": "2022-05-02T08:57:38.324Z"
   },
   {
    "duration": 18,
    "start_time": "2022-05-02T08:57:39.999Z"
   },
   {
    "duration": 60,
    "start_time": "2022-05-02T08:57:40.387Z"
   },
   {
    "duration": 5,
    "start_time": "2022-05-02T08:57:47.989Z"
   },
   {
    "duration": 479,
    "start_time": "2022-05-02T08:57:48.165Z"
   },
   {
    "duration": 5,
    "start_time": "2022-05-02T08:57:48.649Z"
   },
   {
    "duration": 385,
    "start_time": "2022-05-02T08:57:48.656Z"
   },
   {
    "duration": 3,
    "start_time": "2022-05-02T08:57:49.047Z"
   },
   {
    "duration": 21,
    "start_time": "2022-05-02T08:57:49.180Z"
   },
   {
    "duration": 91,
    "start_time": "2022-05-02T08:57:49.363Z"
   },
   {
    "duration": 18,
    "start_time": "2022-05-02T08:57:49.551Z"
   },
   {
    "duration": 18,
    "start_time": "2022-05-02T08:57:49.745Z"
   },
   {
    "duration": 22,
    "start_time": "2022-05-02T08:57:49.948Z"
   },
   {
    "duration": 23,
    "start_time": "2022-05-02T08:57:50.128Z"
   },
   {
    "duration": 13,
    "start_time": "2022-05-02T08:57:50.349Z"
   },
   {
    "duration": 2,
    "start_time": "2022-05-02T09:02:09.771Z"
   },
   {
    "duration": 3,
    "start_time": "2022-05-02T09:02:12.131Z"
   },
   {
    "duration": 2,
    "start_time": "2022-05-02T09:03:05.791Z"
   },
   {
    "duration": 4,
    "start_time": "2022-05-02T09:03:08.784Z"
   },
   {
    "duration": 3,
    "start_time": "2022-05-02T09:03:14.002Z"
   },
   {
    "duration": 77,
    "start_time": "2022-05-02T09:04:18.945Z"
   },
   {
    "duration": 2,
    "start_time": "2022-05-02T09:04:22.564Z"
   },
   {
    "duration": 3,
    "start_time": "2022-05-02T09:04:30.027Z"
   },
   {
    "duration": 9,
    "start_time": "2022-05-02T09:04:56.034Z"
   },
   {
    "duration": 3,
    "start_time": "2022-05-02T09:04:59.200Z"
   },
   {
    "duration": 12,
    "start_time": "2022-05-02T09:06:11.816Z"
   },
   {
    "duration": 2,
    "start_time": "2022-05-02T09:10:51.609Z"
   },
   {
    "duration": 4,
    "start_time": "2022-05-02T09:10:55.312Z"
   },
   {
    "duration": 4,
    "start_time": "2022-05-02T09:11:20.023Z"
   },
   {
    "duration": 3,
    "start_time": "2022-05-02T09:12:42.306Z"
   },
   {
    "duration": 4,
    "start_time": "2022-05-02T09:12:45.449Z"
   },
   {
    "duration": 3,
    "start_time": "2022-05-02T09:15:46.342Z"
   },
   {
    "duration": 3,
    "start_time": "2022-05-02T09:15:46.498Z"
   },
   {
    "duration": 7,
    "start_time": "2022-05-02T09:16:23.581Z"
   },
   {
    "duration": 3,
    "start_time": "2022-05-02T09:17:51.109Z"
   },
   {
    "duration": 8,
    "start_time": "2022-05-02T09:17:55.011Z"
   },
   {
    "duration": 81,
    "start_time": "2022-05-02T09:19:14.213Z"
   },
   {
    "duration": 106,
    "start_time": "2022-05-02T09:21:30.709Z"
   },
   {
    "duration": 5,
    "start_time": "2022-05-02T09:21:36.192Z"
   },
   {
    "duration": 9,
    "start_time": "2022-05-02T09:21:40.391Z"
   },
   {
    "duration": 4,
    "start_time": "2022-05-02T09:21:56.942Z"
   },
   {
    "duration": 7,
    "start_time": "2022-05-02T09:21:58.317Z"
   },
   {
    "duration": 4,
    "start_time": "2022-05-02T09:21:59.518Z"
   },
   {
    "duration": 8,
    "start_time": "2022-05-02T09:21:59.744Z"
   },
   {
    "duration": 19,
    "start_time": "2022-05-02T09:23:31.972Z"
   },
   {
    "duration": 84,
    "start_time": "2022-05-02T09:26:46.834Z"
   },
   {
    "duration": 80,
    "start_time": "2022-05-02T09:27:57.640Z"
   },
   {
    "duration": 22,
    "start_time": "2022-05-02T09:28:01.846Z"
   },
   {
    "duration": 23,
    "start_time": "2022-05-02T09:28:19.569Z"
   },
   {
    "duration": 21,
    "start_time": "2022-05-02T09:28:29.752Z"
   },
   {
    "duration": 86,
    "start_time": "2022-05-02T09:28:43.112Z"
   },
   {
    "duration": 12,
    "start_time": "2022-05-02T09:30:56.725Z"
   },
   {
    "duration": 12,
    "start_time": "2022-05-02T09:31:11.261Z"
   },
   {
    "duration": 92,
    "start_time": "2022-05-02T09:32:40.139Z"
   },
   {
    "duration": 84,
    "start_time": "2022-05-02T09:32:45.468Z"
   },
   {
    "duration": 114,
    "start_time": "2022-05-02T09:33:03.687Z"
   },
   {
    "duration": 11,
    "start_time": "2022-05-02T09:33:44.218Z"
   },
   {
    "duration": 9,
    "start_time": "2022-05-02T09:34:17.911Z"
   },
   {
    "duration": 10,
    "start_time": "2022-05-02T09:36:43.807Z"
   },
   {
    "duration": 10,
    "start_time": "2022-05-02T09:36:48.585Z"
   },
   {
    "duration": 1784,
    "start_time": "2022-05-02T09:36:56.610Z"
   },
   {
    "duration": 4,
    "start_time": "2022-05-02T09:37:09.418Z"
   },
   {
    "duration": 6,
    "start_time": "2022-05-02T09:37:56.196Z"
   },
   {
    "duration": 5,
    "start_time": "2022-05-02T09:37:58.488Z"
   },
   {
    "duration": 7,
    "start_time": "2022-05-02T09:37:59.914Z"
   },
   {
    "duration": 4,
    "start_time": "2022-05-02T09:38:21.779Z"
   },
   {
    "duration": 9,
    "start_time": "2022-05-02T09:38:22.581Z"
   },
   {
    "duration": 9,
    "start_time": "2022-05-02T09:38:29.678Z"
   },
   {
    "duration": 3,
    "start_time": "2022-05-02T09:38:31.131Z"
   },
   {
    "duration": 4,
    "start_time": "2022-05-02T09:38:31.599Z"
   },
   {
    "duration": 6,
    "start_time": "2022-05-02T09:38:32.073Z"
   },
   {
    "duration": 9,
    "start_time": "2022-05-02T09:38:33.667Z"
   },
   {
    "duration": 1394,
    "start_time": "2022-05-02T09:38:57.375Z"
   },
   {
    "duration": 344,
    "start_time": "2022-05-02T09:38:58.771Z"
   },
   {
    "duration": 4,
    "start_time": "2022-05-02T09:38:59.117Z"
   },
   {
    "duration": 437,
    "start_time": "2022-05-02T09:38:59.123Z"
   },
   {
    "duration": 3,
    "start_time": "2022-05-02T09:38:59.564Z"
   },
   {
    "duration": 29,
    "start_time": "2022-05-02T09:38:59.569Z"
   },
   {
    "duration": 67,
    "start_time": "2022-05-02T09:38:59.600Z"
   },
   {
    "duration": 26,
    "start_time": "2022-05-02T09:38:59.756Z"
   },
   {
    "duration": 75,
    "start_time": "2022-05-02T09:38:59.784Z"
   },
   {
    "duration": 106,
    "start_time": "2022-05-02T09:38:59.869Z"
   },
   {
    "duration": 73,
    "start_time": "2022-05-02T09:38:59.976Z"
   },
   {
    "duration": 104,
    "start_time": "2022-05-02T09:39:00.057Z"
   },
   {
    "duration": 7,
    "start_time": "2022-05-02T09:39:00.163Z"
   },
   {
    "duration": 12,
    "start_time": "2022-05-02T09:39:00.171Z"
   },
   {
    "duration": 9,
    "start_time": "2022-05-02T09:39:00.185Z"
   },
   {
    "duration": 18,
    "start_time": "2022-05-02T09:39:00.196Z"
   },
   {
    "duration": 7,
    "start_time": "2022-05-02T09:40:15.744Z"
   },
   {
    "duration": 13,
    "start_time": "2022-05-02T09:40:16.472Z"
   },
   {
    "duration": 112,
    "start_time": "2022-05-02T09:40:42.693Z"
   },
   {
    "duration": 5,
    "start_time": "2022-05-02T09:41:08.598Z"
   },
   {
    "duration": 9,
    "start_time": "2022-05-02T09:41:09.132Z"
   },
   {
    "duration": 4,
    "start_time": "2022-05-02T09:42:03.681Z"
   },
   {
    "duration": 13,
    "start_time": "2022-05-02T09:42:03.861Z"
   },
   {
    "duration": 19,
    "start_time": "2022-05-02T09:44:48.915Z"
   },
   {
    "duration": 9,
    "start_time": "2022-05-02T09:44:49.119Z"
   },
   {
    "duration": 209,
    "start_time": "2022-05-02T09:46:11.470Z"
   },
   {
    "duration": 9,
    "start_time": "2022-05-02T09:46:12.341Z"
   },
   {
    "duration": 85,
    "start_time": "2022-05-02T09:46:34.192Z"
   },
   {
    "duration": 18,
    "start_time": "2022-05-02T09:46:37.648Z"
   },
   {
    "duration": 12,
    "start_time": "2022-05-02T09:46:38.385Z"
   },
   {
    "duration": 14,
    "start_time": "2022-05-02T09:47:07.585Z"
   },
   {
    "duration": 15,
    "start_time": "2022-05-02T09:47:40.218Z"
   },
   {
    "duration": 9,
    "start_time": "2022-05-02T09:47:40.713Z"
   },
   {
    "duration": 14,
    "start_time": "2022-05-02T09:47:48.481Z"
   },
   {
    "duration": 14,
    "start_time": "2022-05-02T09:50:55.197Z"
   },
   {
    "duration": 14,
    "start_time": "2022-05-02T09:51:11.431Z"
   },
   {
    "duration": 8,
    "start_time": "2022-05-02T09:51:11.888Z"
   },
   {
    "duration": 14,
    "start_time": "2022-05-02T09:51:27.004Z"
   },
   {
    "duration": 5,
    "start_time": "2022-05-02T09:51:45.777Z"
   },
   {
    "duration": 4,
    "start_time": "2022-05-02T09:51:48.479Z"
   },
   {
    "duration": 8,
    "start_time": "2022-05-02T09:51:49.174Z"
   },
   {
    "duration": 80,
    "start_time": "2022-05-02T09:52:32.563Z"
   },
   {
    "duration": 5,
    "start_time": "2022-05-02T09:52:48.474Z"
   },
   {
    "duration": 24,
    "start_time": "2022-05-02T09:53:02.442Z"
   },
   {
    "duration": 10,
    "start_time": "2022-05-02T09:53:02.651Z"
   },
   {
    "duration": 13,
    "start_time": "2022-05-02T09:53:41.718Z"
   },
   {
    "duration": 8,
    "start_time": "2022-05-02T09:53:42.065Z"
   },
   {
    "duration": 1403,
    "start_time": "2022-05-02T09:54:03.220Z"
   },
   {
    "duration": 415,
    "start_time": "2022-05-02T09:54:04.625Z"
   },
   {
    "duration": 5,
    "start_time": "2022-05-02T09:54:05.041Z"
   },
   {
    "duration": 557,
    "start_time": "2022-05-02T09:54:05.049Z"
   },
   {
    "duration": 3,
    "start_time": "2022-05-02T09:54:05.608Z"
   },
   {
    "duration": 41,
    "start_time": "2022-05-02T09:54:05.613Z"
   },
   {
    "duration": 21,
    "start_time": "2022-05-02T09:54:05.656Z"
   },
   {
    "duration": 179,
    "start_time": "2022-05-02T09:54:05.679Z"
   },
   {
    "duration": 22,
    "start_time": "2022-05-02T09:54:05.860Z"
   },
   {
    "duration": 184,
    "start_time": "2022-05-02T09:54:05.885Z"
   },
   {
    "duration": 84,
    "start_time": "2022-05-02T09:54:06.072Z"
   },
   {
    "duration": 99,
    "start_time": "2022-05-02T09:54:06.159Z"
   },
   {
    "duration": 7,
    "start_time": "2022-05-02T09:54:06.260Z"
   },
   {
    "duration": 7,
    "start_time": "2022-05-02T09:54:06.268Z"
   },
   {
    "duration": 145,
    "start_time": "2022-05-02T09:54:06.277Z"
   },
   {
    "duration": 0,
    "start_time": "2022-05-02T09:54:06.423Z"
   },
   {
    "duration": 6,
    "start_time": "2022-05-02T09:54:36.659Z"
   },
   {
    "duration": 12,
    "start_time": "2022-05-02T09:54:37.001Z"
   },
   {
    "duration": 5,
    "start_time": "2022-05-02T09:55:06.386Z"
   },
   {
    "duration": 17,
    "start_time": "2022-05-02T09:55:07.038Z"
   },
   {
    "duration": 7,
    "start_time": "2022-05-02T09:55:27.702Z"
   },
   {
    "duration": 10,
    "start_time": "2022-05-02T09:55:28.061Z"
   },
   {
    "duration": 15,
    "start_time": "2022-05-02T09:55:35.431Z"
   },
   {
    "duration": 10,
    "start_time": "2022-05-02T09:55:36.033Z"
   },
   {
    "duration": 80,
    "start_time": "2022-05-02T09:55:55.841Z"
   },
   {
    "duration": 9,
    "start_time": "2022-05-02T09:55:56.393Z"
   },
   {
    "duration": 5,
    "start_time": "2022-05-02T09:56:04.884Z"
   },
   {
    "duration": 10,
    "start_time": "2022-05-02T09:56:06.428Z"
   },
   {
    "duration": 14,
    "start_time": "2022-05-02T09:56:13.583Z"
   },
   {
    "duration": 9,
    "start_time": "2022-05-02T09:56:14.162Z"
   },
   {
    "duration": 6,
    "start_time": "2022-05-02T09:56:17.598Z"
   },
   {
    "duration": 10,
    "start_time": "2022-05-02T09:56:18.192Z"
   },
   {
    "duration": 14,
    "start_time": "2022-05-02T09:57:30.130Z"
   },
   {
    "duration": 10,
    "start_time": "2022-05-02T09:57:31.037Z"
   },
   {
    "duration": 13,
    "start_time": "2022-05-02T09:58:14.219Z"
   },
   {
    "duration": 6,
    "start_time": "2022-05-02T09:58:58.080Z"
   },
   {
    "duration": 13,
    "start_time": "2022-05-02T09:58:58.173Z"
   },
   {
    "duration": 5,
    "start_time": "2022-05-02T09:59:01.329Z"
   },
   {
    "duration": 12,
    "start_time": "2022-05-02T09:59:01.756Z"
   },
   {
    "duration": 6,
    "start_time": "2022-05-02T09:59:22.745Z"
   },
   {
    "duration": 9,
    "start_time": "2022-05-02T09:59:23.076Z"
   },
   {
    "duration": 1405,
    "start_time": "2022-05-02T09:59:27.733Z"
   },
   {
    "duration": 467,
    "start_time": "2022-05-02T09:59:29.141Z"
   },
   {
    "duration": 6,
    "start_time": "2022-05-02T09:59:29.610Z"
   },
   {
    "duration": 414,
    "start_time": "2022-05-02T09:59:29.618Z"
   },
   {
    "duration": 3,
    "start_time": "2022-05-02T09:59:30.034Z"
   },
   {
    "duration": 33,
    "start_time": "2022-05-02T09:59:30.047Z"
   },
   {
    "duration": 75,
    "start_time": "2022-05-02T09:59:30.082Z"
   },
   {
    "duration": 115,
    "start_time": "2022-05-02T09:59:30.161Z"
   },
   {
    "duration": 88,
    "start_time": "2022-05-02T09:59:30.277Z"
   },
   {
    "duration": 112,
    "start_time": "2022-05-02T09:59:30.367Z"
   },
   {
    "duration": 78,
    "start_time": "2022-05-02T09:59:30.480Z"
   },
   {
    "duration": 105,
    "start_time": "2022-05-02T09:59:30.560Z"
   },
   {
    "duration": 6,
    "start_time": "2022-05-02T09:59:30.667Z"
   },
   {
    "duration": 15,
    "start_time": "2022-05-02T09:59:30.674Z"
   },
   {
    "duration": 9,
    "start_time": "2022-05-02T09:59:30.690Z"
   },
   {
    "duration": 14,
    "start_time": "2022-05-02T09:59:30.700Z"
   },
   {
    "duration": 5,
    "start_time": "2022-05-02T09:59:47.595Z"
   },
   {
    "duration": 9,
    "start_time": "2022-05-02T09:59:48.476Z"
   },
   {
    "duration": 6,
    "start_time": "2022-05-02T09:59:55.542Z"
   },
   {
    "duration": 11,
    "start_time": "2022-05-02T09:59:56.150Z"
   },
   {
    "duration": 1577,
    "start_time": "2022-05-02T10:00:04.035Z"
   },
   {
    "duration": 365,
    "start_time": "2022-05-02T10:00:05.614Z"
   },
   {
    "duration": 4,
    "start_time": "2022-05-02T10:00:05.981Z"
   },
   {
    "duration": 425,
    "start_time": "2022-05-02T10:00:05.987Z"
   },
   {
    "duration": 2,
    "start_time": "2022-05-02T10:00:06.414Z"
   },
   {
    "duration": 35,
    "start_time": "2022-05-02T10:00:06.417Z"
   },
   {
    "duration": 25,
    "start_time": "2022-05-02T10:00:06.455Z"
   },
   {
    "duration": 185,
    "start_time": "2022-05-02T10:00:06.482Z"
   },
   {
    "duration": 12,
    "start_time": "2022-05-02T10:00:06.669Z"
   },
   {
    "duration": 195,
    "start_time": "2022-05-02T10:00:06.684Z"
   },
   {
    "duration": 16,
    "start_time": "2022-05-02T10:00:06.881Z"
   },
   {
    "duration": 73,
    "start_time": "2022-05-02T10:00:06.899Z"
   },
   {
    "duration": 15,
    "start_time": "2022-05-02T10:00:07.053Z"
   },
   {
    "duration": 6,
    "start_time": "2022-05-02T10:00:07.070Z"
   },
   {
    "duration": 8,
    "start_time": "2022-05-02T10:00:07.078Z"
   },
   {
    "duration": 15,
    "start_time": "2022-05-02T10:00:07.088Z"
   },
   {
    "duration": 5,
    "start_time": "2022-05-02T12:09:12.628Z"
   },
   {
    "duration": 12,
    "start_time": "2022-05-02T12:09:14.170Z"
   },
   {
    "duration": 1365,
    "start_time": "2022-05-02T12:09:23.036Z"
   },
   {
    "duration": 341,
    "start_time": "2022-05-02T12:09:24.403Z"
   },
   {
    "duration": 4,
    "start_time": "2022-05-02T12:09:24.745Z"
   },
   {
    "duration": 390,
    "start_time": "2022-05-02T12:09:24.751Z"
   },
   {
    "duration": 3,
    "start_time": "2022-05-02T12:09:25.146Z"
   },
   {
    "duration": 24,
    "start_time": "2022-05-02T12:09:25.151Z"
   },
   {
    "duration": 77,
    "start_time": "2022-05-02T12:09:25.176Z"
   },
   {
    "duration": 111,
    "start_time": "2022-05-02T12:09:25.255Z"
   },
   {
    "duration": 13,
    "start_time": "2022-05-02T12:09:25.369Z"
   },
   {
    "duration": 115,
    "start_time": "2022-05-02T12:09:25.447Z"
   },
   {
    "duration": 13,
    "start_time": "2022-05-02T12:09:25.564Z"
   },
   {
    "duration": 171,
    "start_time": "2022-05-02T12:09:25.580Z"
   },
   {
    "duration": 5,
    "start_time": "2022-05-02T12:09:25.753Z"
   },
   {
    "duration": 7,
    "start_time": "2022-05-02T12:09:25.759Z"
   },
   {
    "duration": 6,
    "start_time": "2022-05-02T12:09:25.767Z"
   },
   {
    "duration": 9,
    "start_time": "2022-05-02T12:09:25.775Z"
   },
   {
    "duration": 4,
    "start_time": "2022-05-02T14:05:56.757Z"
   },
   {
    "duration": 95,
    "start_time": "2022-05-02T14:47:54.159Z"
   },
   {
    "duration": 6,
    "start_time": "2022-05-02T14:48:05.712Z"
   },
   {
    "duration": 9,
    "start_time": "2022-05-02T14:50:35.785Z"
   },
   {
    "duration": 13,
    "start_time": "2022-05-02T17:10:45.861Z"
   },
   {
    "duration": 76,
    "start_time": "2022-05-02T17:11:44.612Z"
   },
   {
    "duration": 2679,
    "start_time": "2022-05-02T17:11:54.409Z"
   },
   {
    "duration": 487,
    "start_time": "2022-05-02T17:11:57.091Z"
   },
   {
    "duration": 6,
    "start_time": "2022-05-02T17:11:57.580Z"
   },
   {
    "duration": 736,
    "start_time": "2022-05-02T17:11:57.589Z"
   },
   {
    "duration": 4,
    "start_time": "2022-05-02T17:11:58.329Z"
   },
   {
    "duration": 53,
    "start_time": "2022-05-02T17:11:58.336Z"
   },
   {
    "duration": 56,
    "start_time": "2022-05-02T17:11:58.392Z"
   },
   {
    "duration": 115,
    "start_time": "2022-05-02T17:11:58.528Z"
   },
   {
    "duration": 84,
    "start_time": "2022-05-02T17:11:58.647Z"
   },
   {
    "duration": 122,
    "start_time": "2022-05-02T17:11:58.740Z"
   },
   {
    "duration": 62,
    "start_time": "2022-05-02T17:11:58.864Z"
   },
   {
    "duration": 112,
    "start_time": "2022-05-02T17:11:58.930Z"
   },
   {
    "duration": 5,
    "start_time": "2022-05-02T17:11:59.046Z"
   },
   {
    "duration": 15,
    "start_time": "2022-05-02T17:11:59.054Z"
   },
   {
    "duration": 8,
    "start_time": "2022-05-02T17:11:59.072Z"
   },
   {
    "duration": 64,
    "start_time": "2022-05-02T17:11:59.082Z"
   },
   {
    "duration": 8,
    "start_time": "2022-05-02T17:11:59.149Z"
   },
   {
    "duration": 8,
    "start_time": "2022-05-02T17:11:59.159Z"
   },
   {
    "duration": 226,
    "start_time": "2022-05-02T17:11:59.169Z"
   },
   {
    "duration": 0,
    "start_time": "2022-05-02T17:11:59.398Z"
   },
   {
    "duration": 4,
    "start_time": "2022-05-02T17:12:13.451Z"
   },
   {
    "duration": 36,
    "start_time": "2022-05-02T17:12:15.139Z"
   },
   {
    "duration": 5,
    "start_time": "2022-05-02T17:12:49.837Z"
   },
   {
    "duration": 18,
    "start_time": "2022-05-02T17:12:51.013Z"
   },
   {
    "duration": 5,
    "start_time": "2022-05-02T17:13:02.586Z"
   },
   {
    "duration": 9,
    "start_time": "2022-05-02T17:13:03.639Z"
   },
   {
    "duration": 11,
    "start_time": "2022-05-02T17:15:39.170Z"
   },
   {
    "duration": 6,
    "start_time": "2022-05-02T17:16:43.788Z"
   },
   {
    "duration": 12,
    "start_time": "2022-05-02T17:16:44.274Z"
   },
   {
    "duration": 5,
    "start_time": "2022-05-02T17:17:21.056Z"
   },
   {
    "duration": 11,
    "start_time": "2022-05-02T17:17:21.753Z"
   },
   {
    "duration": 155,
    "start_time": "2022-05-02T17:18:07.792Z"
   },
   {
    "duration": 15,
    "start_time": "2022-05-02T17:18:11.878Z"
   },
   {
    "duration": 14,
    "start_time": "2022-05-02T17:18:20.598Z"
   },
   {
    "duration": 28,
    "start_time": "2022-05-02T17:18:47.485Z"
   },
   {
    "duration": 141,
    "start_time": "2022-05-02T20:12:25.880Z"
   },
   {
    "duration": 6,
    "start_time": "2022-05-02T20:12:30.575Z"
   },
   {
    "duration": 17,
    "start_time": "2022-05-02T20:13:03.015Z"
   },
   {
    "duration": 8,
    "start_time": "2022-05-02T20:13:26.788Z"
   },
   {
    "duration": 16,
    "start_time": "2022-05-02T20:13:27.236Z"
   },
   {
    "duration": 2176,
    "start_time": "2022-05-02T20:17:44.584Z"
   },
   {
    "duration": 530,
    "start_time": "2022-05-02T20:17:46.763Z"
   },
   {
    "duration": 6,
    "start_time": "2022-05-02T20:17:47.296Z"
   },
   {
    "duration": 756,
    "start_time": "2022-05-02T20:17:47.305Z"
   },
   {
    "duration": 5,
    "start_time": "2022-05-02T20:17:48.064Z"
   },
   {
    "duration": 46,
    "start_time": "2022-05-02T20:17:48.071Z"
   },
   {
    "duration": 117,
    "start_time": "2022-05-02T20:17:48.120Z"
   },
   {
    "duration": 135,
    "start_time": "2022-05-02T20:17:48.239Z"
   },
   {
    "duration": 15,
    "start_time": "2022-05-02T20:17:48.377Z"
   },
   {
    "duration": 131,
    "start_time": "2022-05-02T20:17:48.435Z"
   },
   {
    "duration": 61,
    "start_time": "2022-05-02T20:17:48.568Z"
   },
   {
    "duration": 124,
    "start_time": "2022-05-02T20:17:48.633Z"
   },
   {
    "duration": 5,
    "start_time": "2022-05-02T20:17:48.760Z"
   },
   {
    "duration": 7,
    "start_time": "2022-05-02T20:17:48.768Z"
   },
   {
    "duration": 9,
    "start_time": "2022-05-02T20:17:48.778Z"
   },
   {
    "duration": 44,
    "start_time": "2022-05-02T20:17:48.789Z"
   },
   {
    "duration": 24,
    "start_time": "2022-05-02T20:17:48.836Z"
   },
   {
    "duration": 23,
    "start_time": "2022-05-02T20:17:48.863Z"
   },
   {
    "duration": 7,
    "start_time": "2022-05-02T20:17:48.889Z"
   },
   {
    "duration": 203,
    "start_time": "2022-05-02T20:17:48.898Z"
   },
   {
    "duration": 0,
    "start_time": "2022-05-02T20:17:49.103Z"
   },
   {
    "duration": 5,
    "start_time": "2022-05-02T20:19:14.458Z"
   },
   {
    "duration": 19,
    "start_time": "2022-05-02T20:19:15.247Z"
   },
   {
    "duration": 6,
    "start_time": "2022-05-02T20:19:21.363Z"
   },
   {
    "duration": 18,
    "start_time": "2022-05-02T20:19:21.547Z"
   },
   {
    "duration": 19,
    "start_time": "2022-05-02T20:36:21.281Z"
   },
   {
    "duration": 19,
    "start_time": "2022-05-02T20:36:23.493Z"
   },
   {
    "duration": 18,
    "start_time": "2022-05-02T20:36:26.889Z"
   },
   {
    "duration": 19,
    "start_time": "2022-05-02T20:36:28.307Z"
   },
   {
    "duration": 7,
    "start_time": "2022-05-02T20:47:52.498Z"
   },
   {
    "duration": 18,
    "start_time": "2022-05-02T20:47:52.637Z"
   },
   {
    "duration": 17,
    "start_time": "2022-05-02T20:48:07.750Z"
   },
   {
    "duration": 17,
    "start_time": "2022-05-02T20:48:13.786Z"
   },
   {
    "duration": 17,
    "start_time": "2022-05-02T20:58:10.813Z"
   },
   {
    "duration": 1424,
    "start_time": "2022-05-02T20:58:34.031Z"
   },
   {
    "duration": 1686,
    "start_time": "2022-05-02T21:01:58.670Z"
   },
   {
    "duration": 1380,
    "start_time": "2022-05-02T21:02:57.642Z"
   },
   {
    "duration": 2081,
    "start_time": "2022-05-02T21:03:28.910Z"
   },
   {
    "duration": 9,
    "start_time": "2022-05-02T21:04:22.195Z"
   },
   {
    "duration": 2062,
    "start_time": "2022-05-02T21:04:23.145Z"
   },
   {
    "duration": 7,
    "start_time": "2022-05-02T21:04:37.731Z"
   },
   {
    "duration": 1370,
    "start_time": "2022-05-02T21:04:39.565Z"
   },
   {
    "duration": 6,
    "start_time": "2022-05-02T21:05:39.449Z"
   },
   {
    "duration": 1481,
    "start_time": "2022-05-02T21:05:40.215Z"
   },
   {
    "duration": 2070,
    "start_time": "2022-05-02T21:05:41.699Z"
   },
   {
    "duration": 1939,
    "start_time": "2022-05-02T21:05:43.771Z"
   },
   {
    "duration": 8,
    "start_time": "2022-05-02T21:05:59.291Z"
   },
   {
    "duration": 1587,
    "start_time": "2022-05-02T21:05:59.470Z"
   },
   {
    "duration": 1412,
    "start_time": "2022-05-02T21:06:01.060Z"
   },
   {
    "duration": 1505,
    "start_time": "2022-05-02T21:06:02.476Z"
   },
   {
    "duration": 1372,
    "start_time": "2022-05-02T21:06:43.156Z"
   },
   {
    "duration": 1500,
    "start_time": "2022-05-02T21:06:44.531Z"
   },
   {
    "duration": 1797,
    "start_time": "2022-05-02T21:06:46.033Z"
   },
   {
    "duration": 153,
    "start_time": "2022-05-02T21:06:47.833Z"
   },
   {
    "duration": 2634,
    "start_time": "2022-05-02T21:10:24.136Z"
   },
   {
    "duration": 737,
    "start_time": "2022-05-02T21:10:26.774Z"
   },
   {
    "duration": 11,
    "start_time": "2022-05-02T21:10:27.514Z"
   },
   {
    "duration": 716,
    "start_time": "2022-05-02T21:10:27.529Z"
   },
   {
    "duration": 4,
    "start_time": "2022-05-02T21:10:28.248Z"
   },
   {
    "duration": 70,
    "start_time": "2022-05-02T21:10:28.256Z"
   },
   {
    "duration": 108,
    "start_time": "2022-05-02T21:10:28.329Z"
   },
   {
    "duration": 47,
    "start_time": "2022-05-02T21:10:28.526Z"
   },
   {
    "duration": 155,
    "start_time": "2022-05-02T21:10:28.576Z"
   },
   {
    "duration": 109,
    "start_time": "2022-05-02T21:10:28.735Z"
   },
   {
    "duration": 80,
    "start_time": "2022-05-02T21:10:28.847Z"
   },
   {
    "duration": 106,
    "start_time": "2022-05-02T21:10:28.931Z"
   },
   {
    "duration": 5,
    "start_time": "2022-05-02T21:10:29.040Z"
   },
   {
    "duration": 12,
    "start_time": "2022-05-02T21:10:29.047Z"
   },
   {
    "duration": 11,
    "start_time": "2022-05-02T21:10:29.061Z"
   },
   {
    "duration": 56,
    "start_time": "2022-05-02T21:10:29.075Z"
   },
   {
    "duration": 9,
    "start_time": "2022-05-02T21:10:29.134Z"
   },
   {
    "duration": 27,
    "start_time": "2022-05-02T21:10:29.146Z"
   },
   {
    "duration": 8,
    "start_time": "2022-05-02T21:10:29.177Z"
   },
   {
    "duration": 1448,
    "start_time": "2022-05-02T21:10:29.188Z"
   },
   {
    "duration": 2088,
    "start_time": "2022-05-02T21:10:30.639Z"
   },
   {
    "duration": 2100,
    "start_time": "2022-05-02T21:10:32.729Z"
   },
   {
    "duration": 134,
    "start_time": "2022-05-02T21:10:34.831Z"
   },
   {
    "duration": 1742,
    "start_time": "2022-05-03T09:17:59.020Z"
   },
   {
    "duration": 388,
    "start_time": "2022-05-03T09:18:00.764Z"
   },
   {
    "duration": 6,
    "start_time": "2022-05-03T09:18:01.154Z"
   },
   {
    "duration": 453,
    "start_time": "2022-05-03T09:18:01.162Z"
   },
   {
    "duration": 8,
    "start_time": "2022-05-03T09:18:01.616Z"
   },
   {
    "duration": 43,
    "start_time": "2022-05-03T09:18:01.625Z"
   },
   {
    "duration": 58,
    "start_time": "2022-05-03T09:18:01.670Z"
   },
   {
    "duration": 113,
    "start_time": "2022-05-03T09:18:01.732Z"
   },
   {
    "duration": 84,
    "start_time": "2022-05-03T09:18:01.848Z"
   },
   {
    "duration": 201,
    "start_time": "2022-05-03T09:18:01.936Z"
   },
   {
    "duration": 85,
    "start_time": "2022-05-03T09:18:02.139Z"
   },
   {
    "duration": 107,
    "start_time": "2022-05-03T09:18:02.226Z"
   },
   {
    "duration": 22,
    "start_time": "2022-05-03T09:18:02.335Z"
   },
   {
    "duration": 14,
    "start_time": "2022-05-03T09:18:02.359Z"
   },
   {
    "duration": 15,
    "start_time": "2022-05-03T09:18:02.375Z"
   },
   {
    "duration": 32,
    "start_time": "2022-05-03T09:18:02.392Z"
   },
   {
    "duration": 9,
    "start_time": "2022-05-03T09:18:02.426Z"
   },
   {
    "duration": 44,
    "start_time": "2022-05-03T09:18:02.437Z"
   },
   {
    "duration": 15,
    "start_time": "2022-05-03T09:18:02.483Z"
   },
   {
    "duration": 889,
    "start_time": "2022-05-03T09:18:02.500Z"
   },
   {
    "duration": 860,
    "start_time": "2022-05-03T09:18:03.391Z"
   },
   {
    "duration": 841,
    "start_time": "2022-05-03T09:18:04.253Z"
   },
   {
    "duration": 165,
    "start_time": "2022-05-03T09:18:05.095Z"
   },
   {
    "duration": 860,
    "start_time": "2022-05-03T09:21:36.083Z"
   },
   {
    "duration": 778,
    "start_time": "2022-05-03T09:21:37.555Z"
   },
   {
    "duration": 820,
    "start_time": "2022-05-03T09:21:38.335Z"
   },
   {
    "duration": 799,
    "start_time": "2022-05-03T09:21:47.323Z"
   },
   {
    "duration": 810,
    "start_time": "2022-05-03T09:21:48.124Z"
   },
   {
    "duration": 912,
    "start_time": "2022-05-03T09:21:48.936Z"
   },
   {
    "duration": 841,
    "start_time": "2022-05-03T09:22:12.368Z"
   },
   {
    "duration": 834,
    "start_time": "2022-05-03T09:22:13.211Z"
   },
   {
    "duration": 847,
    "start_time": "2022-05-03T09:22:14.046Z"
   },
   {
    "duration": 14,
    "start_time": "2022-05-03T09:22:32.279Z"
   },
   {
    "duration": 4,
    "start_time": "2022-05-03T09:23:54.808Z"
   },
   {
    "duration": 9,
    "start_time": "2022-05-03T09:23:58.931Z"
   },
   {
    "duration": 10,
    "start_time": "2022-05-03T09:52:18.819Z"
   },
   {
    "duration": 20,
    "start_time": "2022-05-03T09:52:28.938Z"
   },
   {
    "duration": 11,
    "start_time": "2022-05-03T09:52:29.112Z"
   },
   {
    "duration": 20,
    "start_time": "2022-05-03T09:52:29.324Z"
   },
   {
    "duration": 12,
    "start_time": "2022-05-03T09:52:29.468Z"
   },
   {
    "duration": 20,
    "start_time": "2022-05-03T09:52:29.648Z"
   },
   {
    "duration": 12,
    "start_time": "2022-05-03T09:52:29.858Z"
   },
   {
    "duration": 10,
    "start_time": "2022-05-03T09:52:30.760Z"
   },
   {
    "duration": 19,
    "start_time": "2022-05-03T09:53:14.399Z"
   },
   {
    "duration": 11,
    "start_time": "2022-05-03T09:53:14.583Z"
   },
   {
    "duration": 19,
    "start_time": "2022-05-03T09:53:14.763Z"
   },
   {
    "duration": 87,
    "start_time": "2022-05-03T09:53:14.936Z"
   },
   {
    "duration": 10,
    "start_time": "2022-05-03T09:53:15.284Z"
   },
   {
    "duration": 4,
    "start_time": "2022-05-03T09:53:17.567Z"
   },
   {
    "duration": 4,
    "start_time": "2022-05-03T09:53:17.790Z"
   },
   {
    "duration": 5,
    "start_time": "2022-05-03T09:53:18.013Z"
   },
   {
    "duration": 9,
    "start_time": "2022-05-03T09:53:18.292Z"
   },
   {
    "duration": 4,
    "start_time": "2022-05-03T09:53:19.602Z"
   },
   {
    "duration": 16,
    "start_time": "2022-05-03T09:53:19.780Z"
   },
   {
    "duration": 5,
    "start_time": "2022-05-03T09:53:19.938Z"
   },
   {
    "duration": 843,
    "start_time": "2022-05-03T09:53:20.109Z"
   },
   {
    "duration": 834,
    "start_time": "2022-05-03T09:53:20.954Z"
   },
   {
    "duration": 965,
    "start_time": "2022-05-03T09:53:21.790Z"
   },
   {
    "duration": 342,
    "start_time": "2022-05-03T09:53:22.757Z"
   },
   {
    "duration": 19,
    "start_time": "2022-05-03T09:53:37.431Z"
   },
   {
    "duration": 12,
    "start_time": "2022-05-03T09:53:37.453Z"
   },
   {
    "duration": 109,
    "start_time": "2022-05-03T09:53:37.527Z"
   },
   {
    "duration": 11,
    "start_time": "2022-05-03T09:53:37.639Z"
   },
   {
    "duration": 10,
    "start_time": "2022-05-03T09:53:37.824Z"
   },
   {
    "duration": 3,
    "start_time": "2022-05-03T09:53:38.674Z"
   },
   {
    "duration": 4,
    "start_time": "2022-05-03T09:53:38.856Z"
   },
   {
    "duration": 4,
    "start_time": "2022-05-03T09:53:39.039Z"
   },
   {
    "duration": 8,
    "start_time": "2022-05-03T09:53:39.215Z"
   },
   {
    "duration": 3,
    "start_time": "2022-05-03T09:53:40.311Z"
   },
   {
    "duration": 14,
    "start_time": "2022-05-03T09:53:40.506Z"
   },
   {
    "duration": 5,
    "start_time": "2022-05-03T09:53:40.706Z"
   },
   {
    "duration": 795,
    "start_time": "2022-05-03T09:53:40.891Z"
   },
   {
    "duration": 862,
    "start_time": "2022-05-03T09:53:41.688Z"
   },
   {
    "duration": 824,
    "start_time": "2022-05-03T09:53:42.552Z"
   },
   {
    "duration": 154,
    "start_time": "2022-05-03T09:53:43.378Z"
   },
   {
    "duration": 4,
    "start_time": "2022-05-03T09:56:37.044Z"
   },
   {
    "duration": 13,
    "start_time": "2022-05-03T10:04:05.989Z"
   },
   {
    "duration": 13,
    "start_time": "2022-05-03T10:04:29.052Z"
   },
   {
    "duration": 9,
    "start_time": "2022-05-08T12:11:58.163Z"
   },
   {
    "duration": 57,
    "start_time": "2022-05-08T12:12:02.730Z"
   },
   {
    "duration": 1541,
    "start_time": "2022-05-08T12:12:07.525Z"
   },
   {
    "duration": 351,
    "start_time": "2022-05-08T12:12:09.068Z"
   },
   {
    "duration": 4,
    "start_time": "2022-05-08T12:12:09.421Z"
   },
   {
    "duration": 412,
    "start_time": "2022-05-08T12:12:09.427Z"
   },
   {
    "duration": 7,
    "start_time": "2022-05-08T12:12:09.840Z"
   },
   {
    "duration": 27,
    "start_time": "2022-05-08T12:12:09.849Z"
   },
   {
    "duration": 84,
    "start_time": "2022-05-08T12:12:09.877Z"
   },
   {
    "duration": 101,
    "start_time": "2022-05-08T12:12:09.963Z"
   },
   {
    "duration": 97,
    "start_time": "2022-05-08T12:12:10.068Z"
   },
   {
    "duration": 98,
    "start_time": "2022-05-08T12:12:10.173Z"
   },
   {
    "duration": 13,
    "start_time": "2022-05-08T12:12:10.272Z"
   },
   {
    "duration": 72,
    "start_time": "2022-05-08T12:12:10.288Z"
   },
   {
    "duration": 100,
    "start_time": "2022-05-08T12:12:10.362Z"
   },
   {
    "duration": 10,
    "start_time": "2022-05-08T12:12:10.464Z"
   },
   {
    "duration": 6,
    "start_time": "2022-05-08T12:12:10.475Z"
   },
   {
    "duration": 11,
    "start_time": "2022-05-08T12:12:10.483Z"
   },
   {
    "duration": 4,
    "start_time": "2022-05-08T12:12:10.496Z"
   },
   {
    "duration": 18,
    "start_time": "2022-05-08T12:12:10.502Z"
   },
   {
    "duration": 7,
    "start_time": "2022-05-08T12:12:10.522Z"
   },
   {
    "duration": 127,
    "start_time": "2022-05-08T12:12:10.531Z"
   },
   {
    "duration": 0,
    "start_time": "2022-05-08T12:12:10.659Z"
   },
   {
    "duration": 0,
    "start_time": "2022-05-08T12:12:10.661Z"
   },
   {
    "duration": 0,
    "start_time": "2022-05-08T12:12:10.662Z"
   },
   {
    "duration": 4,
    "start_time": "2022-05-08T12:15:50.686Z"
   },
   {
    "duration": 767,
    "start_time": "2022-05-08T12:15:51.085Z"
   },
   {
    "duration": 862,
    "start_time": "2022-05-08T12:15:51.854Z"
   },
   {
    "duration": 976,
    "start_time": "2022-05-08T12:15:52.718Z"
   },
   {
    "duration": 15,
    "start_time": "2022-05-08T12:15:53.696Z"
   },
   {
    "duration": 3,
    "start_time": "2022-05-08T12:59:20.207Z"
   },
   {
    "duration": 52,
    "start_time": "2022-05-08T12:59:21.886Z"
   },
   {
    "duration": 3,
    "start_time": "2022-05-08T12:59:42.207Z"
   },
   {
    "duration": 57,
    "start_time": "2022-05-08T12:59:42.527Z"
   },
   {
    "duration": 3,
    "start_time": "2022-05-08T12:59:55.207Z"
   },
   {
    "duration": 18,
    "start_time": "2022-05-08T12:59:55.417Z"
   },
   {
    "duration": 4,
    "start_time": "2022-05-08T13:00:00.887Z"
   },
   {
    "duration": 15,
    "start_time": "2022-05-08T13:00:01.327Z"
   },
   {
    "duration": 3,
    "start_time": "2022-05-08T13:00:10.907Z"
   },
   {
    "duration": 18,
    "start_time": "2022-05-08T13:00:11.327Z"
   },
   {
    "duration": 3,
    "start_time": "2022-05-08T13:00:23.567Z"
   },
   {
    "duration": 17,
    "start_time": "2022-05-08T13:00:24.087Z"
   },
   {
    "duration": 3,
    "start_time": "2022-05-08T13:00:26.907Z"
   },
   {
    "duration": 20,
    "start_time": "2022-05-08T13:00:27.347Z"
   },
   {
    "duration": 4,
    "start_time": "2022-05-08T13:00:28.727Z"
   },
   {
    "duration": 757,
    "start_time": "2022-05-08T13:00:32.351Z"
   },
   {
    "duration": 749,
    "start_time": "2022-05-08T13:00:35.067Z"
   },
   {
    "duration": 797,
    "start_time": "2022-05-08T13:00:36.586Z"
   },
   {
    "duration": 12,
    "start_time": "2022-05-08T13:00:37.385Z"
   },
   {
    "duration": 4,
    "start_time": "2022-05-08T13:00:58.227Z"
   },
   {
    "duration": 24,
    "start_time": "2022-05-08T13:00:58.726Z"
   },
   {
    "duration": 1442,
    "start_time": "2022-05-08T13:02:11.093Z"
   },
   {
    "duration": 367,
    "start_time": "2022-05-08T13:02:12.537Z"
   },
   {
    "duration": 5,
    "start_time": "2022-05-08T13:02:12.906Z"
   },
   {
    "duration": 405,
    "start_time": "2022-05-08T13:02:12.912Z"
   },
   {
    "duration": 3,
    "start_time": "2022-05-08T13:02:13.319Z"
   },
   {
    "duration": 37,
    "start_time": "2022-05-08T13:02:13.324Z"
   },
   {
    "duration": 15,
    "start_time": "2022-05-08T13:02:13.362Z"
   },
   {
    "duration": 174,
    "start_time": "2022-05-08T13:02:13.379Z"
   },
   {
    "duration": 13,
    "start_time": "2022-05-08T13:02:13.555Z"
   },
   {
    "duration": 184,
    "start_time": "2022-05-08T13:02:13.570Z"
   },
   {
    "duration": 26,
    "start_time": "2022-05-08T13:02:13.756Z"
   },
   {
    "duration": 174,
    "start_time": "2022-05-08T13:02:13.784Z"
   },
   {
    "duration": 4,
    "start_time": "2022-05-08T13:02:13.965Z"
   },
   {
    "duration": 7,
    "start_time": "2022-05-08T13:02:13.972Z"
   },
   {
    "duration": 8,
    "start_time": "2022-05-08T13:02:13.981Z"
   },
   {
    "duration": 10,
    "start_time": "2022-05-08T13:02:13.991Z"
   },
   {
    "duration": 11,
    "start_time": "2022-05-08T13:02:14.002Z"
   },
   {
    "duration": 6,
    "start_time": "2022-05-08T13:02:14.015Z"
   },
   {
    "duration": 5,
    "start_time": "2022-05-08T13:02:14.022Z"
   },
   {
    "duration": 38,
    "start_time": "2022-05-08T13:02:14.029Z"
   },
   {
    "duration": 6,
    "start_time": "2022-05-08T13:02:14.069Z"
   },
   {
    "duration": 808,
    "start_time": "2022-05-08T13:02:14.077Z"
   },
   {
    "duration": 767,
    "start_time": "2022-05-08T13:02:14.886Z"
   },
   {
    "duration": 856,
    "start_time": "2022-05-08T13:02:15.654Z"
   },
   {
    "duration": 17,
    "start_time": "2022-05-08T13:02:16.512Z"
   },
   {
    "duration": 4,
    "start_time": "2022-05-08T13:02:31.799Z"
   },
   {
    "duration": 7,
    "start_time": "2022-05-08T13:02:43.599Z"
   },
   {
    "duration": 4,
    "start_time": "2022-05-08T13:05:00.722Z"
   },
   {
    "duration": 23,
    "start_time": "2022-05-08T13:05:01.420Z"
   },
   {
    "duration": 6,
    "start_time": "2022-05-08T13:05:03.328Z"
   },
   {
    "duration": 747,
    "start_time": "2022-05-08T13:05:03.739Z"
   },
   {
    "duration": 743,
    "start_time": "2022-05-08T13:05:07.280Z"
   },
   {
    "duration": 4,
    "start_time": "2022-05-08T13:06:14.699Z"
   },
   {
    "duration": 108,
    "start_time": "2022-05-08T13:06:15.080Z"
   },
   {
    "duration": 4,
    "start_time": "2022-05-08T13:06:23.565Z"
   },
   {
    "duration": 19,
    "start_time": "2022-05-08T13:06:23.859Z"
   },
   {
    "duration": 9,
    "start_time": "2022-05-08T13:09:17.900Z"
   },
   {
    "duration": 10,
    "start_time": "2022-05-08T13:09:52.839Z"
   },
   {
    "duration": 6,
    "start_time": "2022-05-08T13:09:58.339Z"
   },
   {
    "duration": 4,
    "start_time": "2022-05-08T13:11:46.080Z"
   },
   {
    "duration": 28,
    "start_time": "2022-05-08T13:11:46.661Z"
   },
   {
    "duration": 3,
    "start_time": "2022-05-08T13:12:19.080Z"
   },
   {
    "duration": 14,
    "start_time": "2022-05-08T13:12:20.379Z"
   },
   {
    "duration": 1529,
    "start_time": "2022-05-08T13:12:55.772Z"
   },
   {
    "duration": 390,
    "start_time": "2022-05-08T13:12:57.303Z"
   },
   {
    "duration": 5,
    "start_time": "2022-05-08T13:12:57.695Z"
   },
   {
    "duration": 524,
    "start_time": "2022-05-08T13:12:57.702Z"
   },
   {
    "duration": 3,
    "start_time": "2022-05-08T13:12:58.229Z"
   },
   {
    "duration": 29,
    "start_time": "2022-05-08T13:12:58.234Z"
   },
   {
    "duration": 84,
    "start_time": "2022-05-08T13:12:58.265Z"
   },
   {
    "duration": 114,
    "start_time": "2022-05-08T13:12:58.353Z"
   },
   {
    "duration": 81,
    "start_time": "2022-05-08T13:12:58.472Z"
   },
   {
    "duration": 125,
    "start_time": "2022-05-08T13:12:58.555Z"
   },
   {
    "duration": 16,
    "start_time": "2022-05-08T13:12:58.684Z"
   },
   {
    "duration": 150,
    "start_time": "2022-05-08T13:12:58.704Z"
   },
   {
    "duration": 27,
    "start_time": "2022-05-08T13:12:58.856Z"
   },
   {
    "duration": 6,
    "start_time": "2022-05-08T13:12:58.888Z"
   },
   {
    "duration": 7,
    "start_time": "2022-05-08T13:12:58.896Z"
   },
   {
    "duration": 10,
    "start_time": "2022-05-08T13:12:58.905Z"
   },
   {
    "duration": 8,
    "start_time": "2022-05-08T13:12:58.917Z"
   },
   {
    "duration": 115,
    "start_time": "2022-05-08T13:12:58.927Z"
   },
   {
    "duration": 0,
    "start_time": "2022-05-08T13:12:59.043Z"
   },
   {
    "duration": 0,
    "start_time": "2022-05-08T13:12:59.048Z"
   },
   {
    "duration": 0,
    "start_time": "2022-05-08T13:12:59.049Z"
   },
   {
    "duration": 0,
    "start_time": "2022-05-08T13:12:59.050Z"
   },
   {
    "duration": 0,
    "start_time": "2022-05-08T13:12:59.052Z"
   },
   {
    "duration": 4,
    "start_time": "2022-05-08T13:18:14.123Z"
   },
   {
    "duration": 18,
    "start_time": "2022-05-08T13:18:14.504Z"
   },
   {
    "duration": 3,
    "start_time": "2022-05-08T13:18:30.392Z"
   },
   {
    "duration": 17,
    "start_time": "2022-05-08T13:18:30.751Z"
   },
   {
    "duration": 4,
    "start_time": "2022-05-08T13:18:38.503Z"
   },
   {
    "duration": 15,
    "start_time": "2022-05-08T13:18:38.844Z"
   },
   {
    "duration": 65,
    "start_time": "2022-06-15T20:51:36.106Z"
   },
   {
    "duration": 1414,
    "start_time": "2022-06-15T20:51:40.400Z"
   },
   {
    "duration": 842,
    "start_time": "2022-06-15T20:51:41.817Z"
   },
   {
    "duration": 5,
    "start_time": "2022-06-15T20:51:42.664Z"
   },
   {
    "duration": 441,
    "start_time": "2022-06-15T20:51:42.671Z"
   },
   {
    "duration": 3,
    "start_time": "2022-06-15T20:51:43.114Z"
   },
   {
    "duration": 35,
    "start_time": "2022-06-15T20:51:43.118Z"
   },
   {
    "duration": 21,
    "start_time": "2022-06-15T20:51:43.155Z"
   },
   {
    "duration": 110,
    "start_time": "2022-06-15T20:51:43.255Z"
   },
   {
    "duration": 15,
    "start_time": "2022-06-15T20:51:43.367Z"
   },
   {
    "duration": 184,
    "start_time": "2022-06-15T20:51:43.384Z"
   },
   {
    "duration": 14,
    "start_time": "2022-06-15T20:51:43.569Z"
   },
   {
    "duration": 168,
    "start_time": "2022-06-15T20:51:43.585Z"
   },
   {
    "duration": 4,
    "start_time": "2022-06-15T20:51:43.756Z"
   },
   {
    "duration": 12,
    "start_time": "2022-06-15T20:51:43.762Z"
   },
   {
    "duration": 12,
    "start_time": "2022-06-15T20:51:43.777Z"
   },
   {
    "duration": 16,
    "start_time": "2022-06-15T20:51:43.792Z"
   },
   {
    "duration": 11,
    "start_time": "2022-06-15T20:51:43.811Z"
   },
   {
    "duration": 30,
    "start_time": "2022-06-15T20:51:43.824Z"
   },
   {
    "duration": 6,
    "start_time": "2022-06-15T20:51:43.856Z"
   },
   {
    "duration": 950,
    "start_time": "2022-06-15T20:51:43.864Z"
   },
   {
    "duration": 1006,
    "start_time": "2022-06-15T20:51:44.817Z"
   },
   {
    "duration": 930,
    "start_time": "2022-06-15T20:51:45.825Z"
   },
   {
    "duration": 13,
    "start_time": "2022-06-15T20:51:46.757Z"
   }
  ],
  "kernelspec": {
   "display_name": "Python 3 (ipykernel)",
   "language": "python",
   "name": "python3"
  },
  "language_info": {
   "codemirror_mode": {
    "name": "ipython",
    "version": 3
   },
   "file_extension": ".py",
   "mimetype": "text/x-python",
   "name": "python",
   "nbconvert_exporter": "python",
   "pygments_lexer": "ipython3",
   "version": "3.9.13"
  },
  "toc": {
   "base_numbering": 1,
   "nav_menu": {},
   "number_sections": true,
   "sideBar": true,
   "skip_h1_title": true,
   "title_cell": "Table of Contents",
   "title_sidebar": "Contents",
   "toc_cell": false,
   "toc_position": {},
   "toc_section_display": true,
   "toc_window_display": false
  }
 },
 "nbformat": 4,
 "nbformat_minor": 2
}
