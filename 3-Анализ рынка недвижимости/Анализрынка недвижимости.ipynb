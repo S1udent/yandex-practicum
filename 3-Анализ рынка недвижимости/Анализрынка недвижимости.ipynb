{
 "cells": [
  {
   "cell_type": "markdown",
   "metadata": {
    "toc": true
   },
   "source": [
    "<h1>Содержание<span class=\"tocSkip\"></span></h1>\n",
    "<div class=\"toc\"><ul class=\"toc-item\"><li><span><a href=\"#Изучение-данных-из-файла\" data-toc-modified-id=\"Изучение-данных-из-файла-1\"><span class=\"toc-item-num\">1&nbsp;&nbsp;</span>Изучение данных из файла</a></span><ul class=\"toc-item\"><li><span><a href=\"#Вывод\" data-toc-modified-id=\"Вывод-1.1\"><span class=\"toc-item-num\">1.1&nbsp;&nbsp;</span>Вывод</a></span></li></ul></li><li><span><a href=\"#Предобработка-данных\" data-toc-modified-id=\"Предобработка-данных-2\"><span class=\"toc-item-num\">2&nbsp;&nbsp;</span>Предобработка данных</a></span></li><li><span><a href=\"#Расчёты-и-добавление-результатов-в-таблицу\" data-toc-modified-id=\"Расчёты-и-добавление-результатов-в-таблицу-3\"><span class=\"toc-item-num\">3&nbsp;&nbsp;</span>Расчёты и добавление результатов в таблицу</a></span></li><li><span><a href=\"#Исследовательский-анализ-данных\" data-toc-modified-id=\"Исследовательский-анализ-данных-4\"><span class=\"toc-item-num\">4&nbsp;&nbsp;</span>Исследовательский анализ данных</a></span></li><li><span><a href=\"#Общий-вывод\" data-toc-modified-id=\"Общий-вывод-5\"><span class=\"toc-item-num\">5&nbsp;&nbsp;</span>Общий вывод</a></span></li>"
   ]
  },
  {
   "cell_type": "markdown",
   "metadata": {},
   "source": [
    "# Исследование объявлений о продаже квартир\n",
    "В данном проекте необходимо определить параметры автоматизированной системы для отслеживания аномалий и мошеннической деятельности. Данные взяты из сервиса Яндекc Недвижимость, вкоючает в себя: архив объявлений о продаже квартир в Санкт-Петербурге и соседних населённых пунктах за несколько лет.\n",
    "\n",
    "По каждой квартире на продажу доступны два вида данных. Первые вписаны пользователем, вторые получены автоматически на основе картографических данных. Например, расстояние до центра, аэропорта, ближайшего парка и водоёма. "
   ]
  },
  {
   "cell_type": "markdown",
   "metadata": {},
   "source": [
    "## Изучение данных из файла"
   ]
  },
  {
   "cell_type": "code",
   "execution_count": 1,
   "metadata": {},
   "outputs": [],
   "source": [
    "import pandas as pd\n",
    "import matplotlib.pyplot as plt\n",
    "import numpy as np\n",
    "data=pd.read_csv('/datasets/real_estate_data.csv', sep='\\t')"
   ]
  },
  {
   "cell_type": "code",
   "execution_count": 2,
   "metadata": {},
   "outputs": [
    {
     "name": "stdout",
     "output_type": "stream",
     "text": [
      "<class 'pandas.core.frame.DataFrame'>\n",
      "RangeIndex: 23699 entries, 0 to 23698\n",
      "Data columns (total 22 columns):\n",
      " #   Column                Non-Null Count  Dtype  \n",
      "---  ------                --------------  -----  \n",
      " 0   total_images          23699 non-null  int64  \n",
      " 1   last_price            23699 non-null  float64\n",
      " 2   total_area            23699 non-null  float64\n",
      " 3   first_day_exposition  23699 non-null  object \n",
      " 4   rooms                 23699 non-null  int64  \n",
      " 5   ceiling_height        14504 non-null  float64\n",
      " 6   floors_total          23613 non-null  float64\n",
      " 7   living_area           21796 non-null  float64\n",
      " 8   floor                 23699 non-null  int64  \n",
      " 9   is_apartment          2775 non-null   object \n",
      " 10  studio                23699 non-null  bool   \n",
      " 11  open_plan             23699 non-null  bool   \n",
      " 12  kitchen_area          21421 non-null  float64\n",
      " 13  balcony               12180 non-null  float64\n",
      " 14  locality_name         23650 non-null  object \n",
      " 15  airports_nearest      18157 non-null  float64\n",
      " 16  cityCenters_nearest   18180 non-null  float64\n",
      " 17  parks_around3000      18181 non-null  float64\n",
      " 18  parks_nearest         8079 non-null   float64\n",
      " 19  ponds_around3000      18181 non-null  float64\n",
      " 20  ponds_nearest         9110 non-null   float64\n",
      " 21  days_exposition       20518 non-null  float64\n",
      "dtypes: bool(2), float64(14), int64(3), object(3)\n",
      "memory usage: 3.7+ MB\n"
     ]
    }
   ],
   "source": [
    "data.info()"
   ]
  },
  {
   "cell_type": "code",
   "execution_count": 3,
   "metadata": {
    "scrolled": true
   },
   "outputs": [
    {
     "data": {
      "text/html": [
       "<div>\n",
       "<style scoped>\n",
       "    .dataframe tbody tr th:only-of-type {\n",
       "        vertical-align: middle;\n",
       "    }\n",
       "\n",
       "    .dataframe tbody tr th {\n",
       "        vertical-align: top;\n",
       "    }\n",
       "\n",
       "    .dataframe thead th {\n",
       "        text-align: right;\n",
       "    }\n",
       "</style>\n",
       "<table border=\"1\" class=\"dataframe\">\n",
       "  <thead>\n",
       "    <tr style=\"text-align: right;\">\n",
       "      <th></th>\n",
       "      <th>total_images</th>\n",
       "      <th>last_price</th>\n",
       "      <th>total_area</th>\n",
       "      <th>first_day_exposition</th>\n",
       "      <th>rooms</th>\n",
       "      <th>ceiling_height</th>\n",
       "      <th>floors_total</th>\n",
       "      <th>living_area</th>\n",
       "      <th>floor</th>\n",
       "      <th>is_apartment</th>\n",
       "      <th>...</th>\n",
       "      <th>kitchen_area</th>\n",
       "      <th>balcony</th>\n",
       "      <th>locality_name</th>\n",
       "      <th>airports_nearest</th>\n",
       "      <th>cityCenters_nearest</th>\n",
       "      <th>parks_around3000</th>\n",
       "      <th>parks_nearest</th>\n",
       "      <th>ponds_around3000</th>\n",
       "      <th>ponds_nearest</th>\n",
       "      <th>days_exposition</th>\n",
       "    </tr>\n",
       "  </thead>\n",
       "  <tbody>\n",
       "    <tr>\n",
       "      <th>0</th>\n",
       "      <td>20</td>\n",
       "      <td>13000000.0</td>\n",
       "      <td>108.0</td>\n",
       "      <td>2019-03-07T00:00:00</td>\n",
       "      <td>3</td>\n",
       "      <td>2.70</td>\n",
       "      <td>16.0</td>\n",
       "      <td>51.0</td>\n",
       "      <td>8</td>\n",
       "      <td>NaN</td>\n",
       "      <td>...</td>\n",
       "      <td>25.0</td>\n",
       "      <td>NaN</td>\n",
       "      <td>Санкт-Петербург</td>\n",
       "      <td>18863.0</td>\n",
       "      <td>16028.0</td>\n",
       "      <td>1.0</td>\n",
       "      <td>482.0</td>\n",
       "      <td>2.0</td>\n",
       "      <td>755.0</td>\n",
       "      <td>NaN</td>\n",
       "    </tr>\n",
       "    <tr>\n",
       "      <th>1</th>\n",
       "      <td>7</td>\n",
       "      <td>3350000.0</td>\n",
       "      <td>40.4</td>\n",
       "      <td>2018-12-04T00:00:00</td>\n",
       "      <td>1</td>\n",
       "      <td>NaN</td>\n",
       "      <td>11.0</td>\n",
       "      <td>18.6</td>\n",
       "      <td>1</td>\n",
       "      <td>NaN</td>\n",
       "      <td>...</td>\n",
       "      <td>11.0</td>\n",
       "      <td>2.0</td>\n",
       "      <td>посёлок Шушары</td>\n",
       "      <td>12817.0</td>\n",
       "      <td>18603.0</td>\n",
       "      <td>0.0</td>\n",
       "      <td>NaN</td>\n",
       "      <td>0.0</td>\n",
       "      <td>NaN</td>\n",
       "      <td>81.0</td>\n",
       "    </tr>\n",
       "    <tr>\n",
       "      <th>2</th>\n",
       "      <td>10</td>\n",
       "      <td>5196000.0</td>\n",
       "      <td>56.0</td>\n",
       "      <td>2015-08-20T00:00:00</td>\n",
       "      <td>2</td>\n",
       "      <td>NaN</td>\n",
       "      <td>5.0</td>\n",
       "      <td>34.3</td>\n",
       "      <td>4</td>\n",
       "      <td>NaN</td>\n",
       "      <td>...</td>\n",
       "      <td>8.3</td>\n",
       "      <td>0.0</td>\n",
       "      <td>Санкт-Петербург</td>\n",
       "      <td>21741.0</td>\n",
       "      <td>13933.0</td>\n",
       "      <td>1.0</td>\n",
       "      <td>90.0</td>\n",
       "      <td>2.0</td>\n",
       "      <td>574.0</td>\n",
       "      <td>558.0</td>\n",
       "    </tr>\n",
       "    <tr>\n",
       "      <th>3</th>\n",
       "      <td>0</td>\n",
       "      <td>64900000.0</td>\n",
       "      <td>159.0</td>\n",
       "      <td>2015-07-24T00:00:00</td>\n",
       "      <td>3</td>\n",
       "      <td>NaN</td>\n",
       "      <td>14.0</td>\n",
       "      <td>NaN</td>\n",
       "      <td>9</td>\n",
       "      <td>NaN</td>\n",
       "      <td>...</td>\n",
       "      <td>NaN</td>\n",
       "      <td>0.0</td>\n",
       "      <td>Санкт-Петербург</td>\n",
       "      <td>28098.0</td>\n",
       "      <td>6800.0</td>\n",
       "      <td>2.0</td>\n",
       "      <td>84.0</td>\n",
       "      <td>3.0</td>\n",
       "      <td>234.0</td>\n",
       "      <td>424.0</td>\n",
       "    </tr>\n",
       "    <tr>\n",
       "      <th>4</th>\n",
       "      <td>2</td>\n",
       "      <td>10000000.0</td>\n",
       "      <td>100.0</td>\n",
       "      <td>2018-06-19T00:00:00</td>\n",
       "      <td>2</td>\n",
       "      <td>3.03</td>\n",
       "      <td>14.0</td>\n",
       "      <td>32.0</td>\n",
       "      <td>13</td>\n",
       "      <td>NaN</td>\n",
       "      <td>...</td>\n",
       "      <td>41.0</td>\n",
       "      <td>NaN</td>\n",
       "      <td>Санкт-Петербург</td>\n",
       "      <td>31856.0</td>\n",
       "      <td>8098.0</td>\n",
       "      <td>2.0</td>\n",
       "      <td>112.0</td>\n",
       "      <td>1.0</td>\n",
       "      <td>48.0</td>\n",
       "      <td>121.0</td>\n",
       "    </tr>\n",
       "  </tbody>\n",
       "</table>\n",
       "<p>5 rows × 22 columns</p>\n",
       "</div>"
      ],
      "text/plain": [
       "   total_images  last_price  total_area first_day_exposition  rooms  \\\n",
       "0            20  13000000.0       108.0  2019-03-07T00:00:00      3   \n",
       "1             7   3350000.0        40.4  2018-12-04T00:00:00      1   \n",
       "2            10   5196000.0        56.0  2015-08-20T00:00:00      2   \n",
       "3             0  64900000.0       159.0  2015-07-24T00:00:00      3   \n",
       "4             2  10000000.0       100.0  2018-06-19T00:00:00      2   \n",
       "\n",
       "   ceiling_height  floors_total  living_area  floor is_apartment  ...  \\\n",
       "0            2.70          16.0         51.0      8          NaN  ...   \n",
       "1             NaN          11.0         18.6      1          NaN  ...   \n",
       "2             NaN           5.0         34.3      4          NaN  ...   \n",
       "3             NaN          14.0          NaN      9          NaN  ...   \n",
       "4            3.03          14.0         32.0     13          NaN  ...   \n",
       "\n",
       "   kitchen_area  balcony    locality_name  airports_nearest  \\\n",
       "0          25.0      NaN  Санкт-Петербург           18863.0   \n",
       "1          11.0      2.0   посёлок Шушары           12817.0   \n",
       "2           8.3      0.0  Санкт-Петербург           21741.0   \n",
       "3           NaN      0.0  Санкт-Петербург           28098.0   \n",
       "4          41.0      NaN  Санкт-Петербург           31856.0   \n",
       "\n",
       "  cityCenters_nearest  parks_around3000  parks_nearest  ponds_around3000  \\\n",
       "0             16028.0               1.0          482.0               2.0   \n",
       "1             18603.0               0.0            NaN               0.0   \n",
       "2             13933.0               1.0           90.0               2.0   \n",
       "3              6800.0               2.0           84.0               3.0   \n",
       "4              8098.0               2.0          112.0               1.0   \n",
       "\n",
       "   ponds_nearest  days_exposition  \n",
       "0          755.0              NaN  \n",
       "1            NaN             81.0  \n",
       "2          574.0            558.0  \n",
       "3          234.0            424.0  \n",
       "4           48.0            121.0  \n",
       "\n",
       "[5 rows x 22 columns]"
      ]
     },
     "execution_count": 3,
     "metadata": {},
     "output_type": "execute_result"
    }
   ],
   "source": [
    "data.head()"
   ]
  },
  {
   "cell_type": "code",
   "execution_count": 4,
   "metadata": {
    "scrolled": true
   },
   "outputs": [
    {
     "data": {
      "text/plain": [
       "total_images                0\n",
       "last_price                  0\n",
       "total_area                  0\n",
       "first_day_exposition        0\n",
       "rooms                       0\n",
       "ceiling_height           9195\n",
       "floors_total               86\n",
       "living_area              1903\n",
       "floor                       0\n",
       "is_apartment            20924\n",
       "studio                      0\n",
       "open_plan                   0\n",
       "kitchen_area             2278\n",
       "balcony                 11519\n",
       "locality_name              49\n",
       "airports_nearest         5542\n",
       "cityCenters_nearest      5519\n",
       "parks_around3000         5518\n",
       "parks_nearest           15620\n",
       "ponds_around3000         5518\n",
       "ponds_nearest           14589\n",
       "days_exposition          3181\n",
       "dtype: int64"
      ]
     },
     "execution_count": 4,
     "metadata": {},
     "output_type": "execute_result"
    }
   ],
   "source": [
    "data.isna().sum()"
   ]
  },
  {
   "cell_type": "code",
   "execution_count": 5,
   "metadata": {
    "scrolled": true
   },
   "outputs": [
    {
     "data": {
      "text/html": [
       "<div>\n",
       "<style scoped>\n",
       "    .dataframe tbody tr th:only-of-type {\n",
       "        vertical-align: middle;\n",
       "    }\n",
       "\n",
       "    .dataframe tbody tr th {\n",
       "        vertical-align: top;\n",
       "    }\n",
       "\n",
       "    .dataframe thead th {\n",
       "        text-align: right;\n",
       "    }\n",
       "</style>\n",
       "<table border=\"1\" class=\"dataframe\">\n",
       "  <thead>\n",
       "    <tr style=\"text-align: right;\">\n",
       "      <th></th>\n",
       "      <th>total_images</th>\n",
       "      <th>last_price</th>\n",
       "      <th>total_area</th>\n",
       "      <th>rooms</th>\n",
       "      <th>ceiling_height</th>\n",
       "      <th>floors_total</th>\n",
       "      <th>living_area</th>\n",
       "      <th>floor</th>\n",
       "      <th>kitchen_area</th>\n",
       "      <th>balcony</th>\n",
       "      <th>airports_nearest</th>\n",
       "      <th>cityCenters_nearest</th>\n",
       "      <th>parks_around3000</th>\n",
       "      <th>parks_nearest</th>\n",
       "      <th>ponds_around3000</th>\n",
       "      <th>ponds_nearest</th>\n",
       "      <th>days_exposition</th>\n",
       "    </tr>\n",
       "  </thead>\n",
       "  <tbody>\n",
       "    <tr>\n",
       "      <th>count</th>\n",
       "      <td>23699.000000</td>\n",
       "      <td>2.369900e+04</td>\n",
       "      <td>23699.000000</td>\n",
       "      <td>23699.000000</td>\n",
       "      <td>14504.000000</td>\n",
       "      <td>23613.000000</td>\n",
       "      <td>21796.000000</td>\n",
       "      <td>23699.000000</td>\n",
       "      <td>21421.000000</td>\n",
       "      <td>12180.000000</td>\n",
       "      <td>18157.000000</td>\n",
       "      <td>18180.000000</td>\n",
       "      <td>18181.000000</td>\n",
       "      <td>8079.000000</td>\n",
       "      <td>18181.000000</td>\n",
       "      <td>9110.000000</td>\n",
       "      <td>20518.000000</td>\n",
       "    </tr>\n",
       "    <tr>\n",
       "      <th>mean</th>\n",
       "      <td>9.858475</td>\n",
       "      <td>6.541549e+06</td>\n",
       "      <td>60.348651</td>\n",
       "      <td>2.070636</td>\n",
       "      <td>2.771499</td>\n",
       "      <td>10.673824</td>\n",
       "      <td>34.457852</td>\n",
       "      <td>5.892358</td>\n",
       "      <td>10.569807</td>\n",
       "      <td>1.150082</td>\n",
       "      <td>28793.672193</td>\n",
       "      <td>14191.277833</td>\n",
       "      <td>0.611408</td>\n",
       "      <td>490.804555</td>\n",
       "      <td>0.770255</td>\n",
       "      <td>517.980900</td>\n",
       "      <td>180.888634</td>\n",
       "    </tr>\n",
       "    <tr>\n",
       "      <th>std</th>\n",
       "      <td>5.682529</td>\n",
       "      <td>1.088701e+07</td>\n",
       "      <td>35.654083</td>\n",
       "      <td>1.078405</td>\n",
       "      <td>1.261056</td>\n",
       "      <td>6.597173</td>\n",
       "      <td>22.030445</td>\n",
       "      <td>4.885249</td>\n",
       "      <td>5.905438</td>\n",
       "      <td>1.071300</td>\n",
       "      <td>12630.880622</td>\n",
       "      <td>8608.386210</td>\n",
       "      <td>0.802074</td>\n",
       "      <td>342.317995</td>\n",
       "      <td>0.938346</td>\n",
       "      <td>277.720643</td>\n",
       "      <td>219.727988</td>\n",
       "    </tr>\n",
       "    <tr>\n",
       "      <th>min</th>\n",
       "      <td>0.000000</td>\n",
       "      <td>1.219000e+04</td>\n",
       "      <td>12.000000</td>\n",
       "      <td>0.000000</td>\n",
       "      <td>1.000000</td>\n",
       "      <td>1.000000</td>\n",
       "      <td>2.000000</td>\n",
       "      <td>1.000000</td>\n",
       "      <td>1.300000</td>\n",
       "      <td>0.000000</td>\n",
       "      <td>0.000000</td>\n",
       "      <td>181.000000</td>\n",
       "      <td>0.000000</td>\n",
       "      <td>1.000000</td>\n",
       "      <td>0.000000</td>\n",
       "      <td>13.000000</td>\n",
       "      <td>1.000000</td>\n",
       "    </tr>\n",
       "    <tr>\n",
       "      <th>25%</th>\n",
       "      <td>6.000000</td>\n",
       "      <td>3.400000e+06</td>\n",
       "      <td>40.000000</td>\n",
       "      <td>1.000000</td>\n",
       "      <td>2.520000</td>\n",
       "      <td>5.000000</td>\n",
       "      <td>18.600000</td>\n",
       "      <td>2.000000</td>\n",
       "      <td>7.000000</td>\n",
       "      <td>0.000000</td>\n",
       "      <td>18585.000000</td>\n",
       "      <td>9238.000000</td>\n",
       "      <td>0.000000</td>\n",
       "      <td>288.000000</td>\n",
       "      <td>0.000000</td>\n",
       "      <td>294.000000</td>\n",
       "      <td>45.000000</td>\n",
       "    </tr>\n",
       "    <tr>\n",
       "      <th>50%</th>\n",
       "      <td>9.000000</td>\n",
       "      <td>4.650000e+06</td>\n",
       "      <td>52.000000</td>\n",
       "      <td>2.000000</td>\n",
       "      <td>2.650000</td>\n",
       "      <td>9.000000</td>\n",
       "      <td>30.000000</td>\n",
       "      <td>4.000000</td>\n",
       "      <td>9.100000</td>\n",
       "      <td>1.000000</td>\n",
       "      <td>26726.000000</td>\n",
       "      <td>13098.500000</td>\n",
       "      <td>0.000000</td>\n",
       "      <td>455.000000</td>\n",
       "      <td>1.000000</td>\n",
       "      <td>502.000000</td>\n",
       "      <td>95.000000</td>\n",
       "    </tr>\n",
       "    <tr>\n",
       "      <th>75%</th>\n",
       "      <td>14.000000</td>\n",
       "      <td>6.800000e+06</td>\n",
       "      <td>69.900000</td>\n",
       "      <td>3.000000</td>\n",
       "      <td>2.800000</td>\n",
       "      <td>16.000000</td>\n",
       "      <td>42.300000</td>\n",
       "      <td>8.000000</td>\n",
       "      <td>12.000000</td>\n",
       "      <td>2.000000</td>\n",
       "      <td>37273.000000</td>\n",
       "      <td>16293.000000</td>\n",
       "      <td>1.000000</td>\n",
       "      <td>612.000000</td>\n",
       "      <td>1.000000</td>\n",
       "      <td>729.000000</td>\n",
       "      <td>232.000000</td>\n",
       "    </tr>\n",
       "    <tr>\n",
       "      <th>max</th>\n",
       "      <td>50.000000</td>\n",
       "      <td>7.630000e+08</td>\n",
       "      <td>900.000000</td>\n",
       "      <td>19.000000</td>\n",
       "      <td>100.000000</td>\n",
       "      <td>60.000000</td>\n",
       "      <td>409.700000</td>\n",
       "      <td>33.000000</td>\n",
       "      <td>112.000000</td>\n",
       "      <td>5.000000</td>\n",
       "      <td>84869.000000</td>\n",
       "      <td>65968.000000</td>\n",
       "      <td>3.000000</td>\n",
       "      <td>3190.000000</td>\n",
       "      <td>3.000000</td>\n",
       "      <td>1344.000000</td>\n",
       "      <td>1580.000000</td>\n",
       "    </tr>\n",
       "  </tbody>\n",
       "</table>\n",
       "</div>"
      ],
      "text/plain": [
       "       total_images    last_price    total_area         rooms  ceiling_height  \\\n",
       "count  23699.000000  2.369900e+04  23699.000000  23699.000000    14504.000000   \n",
       "mean       9.858475  6.541549e+06     60.348651      2.070636        2.771499   \n",
       "std        5.682529  1.088701e+07     35.654083      1.078405        1.261056   \n",
       "min        0.000000  1.219000e+04     12.000000      0.000000        1.000000   \n",
       "25%        6.000000  3.400000e+06     40.000000      1.000000        2.520000   \n",
       "50%        9.000000  4.650000e+06     52.000000      2.000000        2.650000   \n",
       "75%       14.000000  6.800000e+06     69.900000      3.000000        2.800000   \n",
       "max       50.000000  7.630000e+08    900.000000     19.000000      100.000000   \n",
       "\n",
       "       floors_total   living_area         floor  kitchen_area       balcony  \\\n",
       "count  23613.000000  21796.000000  23699.000000  21421.000000  12180.000000   \n",
       "mean      10.673824     34.457852      5.892358     10.569807      1.150082   \n",
       "std        6.597173     22.030445      4.885249      5.905438      1.071300   \n",
       "min        1.000000      2.000000      1.000000      1.300000      0.000000   \n",
       "25%        5.000000     18.600000      2.000000      7.000000      0.000000   \n",
       "50%        9.000000     30.000000      4.000000      9.100000      1.000000   \n",
       "75%       16.000000     42.300000      8.000000     12.000000      2.000000   \n",
       "max       60.000000    409.700000     33.000000    112.000000      5.000000   \n",
       "\n",
       "       airports_nearest  cityCenters_nearest  parks_around3000  parks_nearest  \\\n",
       "count      18157.000000         18180.000000      18181.000000    8079.000000   \n",
       "mean       28793.672193         14191.277833          0.611408     490.804555   \n",
       "std        12630.880622          8608.386210          0.802074     342.317995   \n",
       "min            0.000000           181.000000          0.000000       1.000000   \n",
       "25%        18585.000000          9238.000000          0.000000     288.000000   \n",
       "50%        26726.000000         13098.500000          0.000000     455.000000   \n",
       "75%        37273.000000         16293.000000          1.000000     612.000000   \n",
       "max        84869.000000         65968.000000          3.000000    3190.000000   \n",
       "\n",
       "       ponds_around3000  ponds_nearest  days_exposition  \n",
       "count      18181.000000    9110.000000     20518.000000  \n",
       "mean           0.770255     517.980900       180.888634  \n",
       "std            0.938346     277.720643       219.727988  \n",
       "min            0.000000      13.000000         1.000000  \n",
       "25%            0.000000     294.000000        45.000000  \n",
       "50%            1.000000     502.000000        95.000000  \n",
       "75%            1.000000     729.000000       232.000000  \n",
       "max            3.000000    1344.000000      1580.000000  "
      ]
     },
     "execution_count": 5,
     "metadata": {},
     "output_type": "execute_result"
    }
   ],
   "source": [
    "data.describe()"
   ]
  },
  {
   "cell_type": "code",
   "execution_count": 6,
   "metadata": {},
   "outputs": [
    {
     "data": {
      "text/plain": [
       "45.0      880\n",
       "60.0      538\n",
       "7.0       234\n",
       "30.0      208\n",
       "90.0      204\n",
       "         ... \n",
       "969.0       1\n",
       "1.0         1\n",
       "1147.0      1\n",
       "1148.0      1\n",
       "1174.0      1\n",
       "Name: days_exposition, Length: 1141, dtype: int64"
      ]
     },
     "execution_count": 6,
     "metadata": {},
     "output_type": "execute_result"
    }
   ],
   "source": [
    "data['days_exposition'].value_counts()"
   ]
  },
  {
   "cell_type": "markdown",
   "metadata": {},
   "source": [
    "### Вывод\n",
    "В данных обнаружены:\n",
    "пропуски значений;\n",
    "неверные типы данных.\n",
    "аномалии.\n"
   ]
  },
  {
   "cell_type": "markdown",
   "metadata": {},
   "source": [
    "## Предобработка данных"
   ]
  },
  {
   "cell_type": "code",
   "execution_count": 7,
   "metadata": {},
   "outputs": [],
   "source": [
    "data['days_exposition'] = data['days_exposition'].fillna(9999).astype('int')\n",
    "data['total_images'] = data['total_images'].astype('int')\n",
    "data['last_price'] = data['last_price'].astype('int')\n",
    "data['is_apartment'] = data['is_apartment'].fillna(value=False)\n",
    "data['balcony'] = data['balcony'].fillna(0).astype('int')\n",
    "data['parks_around3000'] = data['parks_around3000'].fillna(0).astype('int')\n",
    "data['ponds_around3000'] = data['ponds_around3000'].fillna(0).astype('int')"
   ]
  },
  {
   "cell_type": "markdown",
   "metadata": {},
   "source": [
    "Заменяем пропущенные значения на \"0\", также переводим типы данных в целочисленные."
   ]
  },
  {
   "cell_type": "code",
   "execution_count": 9,
   "metadata": {},
   "outputs": [],
   "source": [
    "data['first_day_exposition'] = pd.to_datetime(data['first_day_exposition'], format = '%Y-%m-%d')"
   ]
  },
  {
   "cell_type": "markdown",
   "metadata": {
    "scrolled": true
   },
   "source": [
    "Приводим столбец к нужному формату."
   ]
  },
  {
   "cell_type": "code",
   "execution_count": 11,
   "metadata": {},
   "outputs": [],
   "source": [
    "data['ceiling_height'].fillna(data['ceiling_height'].median(), inplace=True)"
   ]
  },
  {
   "cell_type": "markdown",
   "metadata": {},
   "source": [
    "Заполняем пропущенные значения медианой по столбцу."
   ]
  },
  {
   "cell_type": "code",
   "execution_count": 13,
   "metadata": {},
   "outputs": [
    {
     "data": {
      "text/plain": [
       "0.5678598992678503"
      ]
     },
     "execution_count": 13,
     "metadata": {},
     "output_type": "execute_result"
    }
   ],
   "source": [
    "livmed=(data['living_area']/data['total_area']).dropna().reset_index(drop=True).median()\n",
    "livmed"
   ]
  },
  {
   "cell_type": "code",
   "execution_count": 14,
   "metadata": {},
   "outputs": [
    {
     "data": {
      "text/plain": [
       "0.1724137931034483"
      ]
     },
     "execution_count": 14,
     "metadata": {},
     "output_type": "execute_result"
    }
   ],
   "source": [
    "kitcmed=(data['kitchen_area']/data['total_area']).dropna().reset_index(drop=True).median()\n",
    "kitcmed"
   ]
  },
  {
   "cell_type": "code",
   "execution_count": 15,
   "metadata": {},
   "outputs": [],
   "source": [
    "data['living_area'].fillna(livmed*data['total_area'], inplace=True)"
   ]
  },
  {
   "cell_type": "code",
   "execution_count": 16,
   "metadata": {},
   "outputs": [],
   "source": [
    "data['kitchen_area'].fillna(kitcmed*data['total_area'], inplace=True)"
   ]
  },
  {
   "cell_type": "markdown",
   "metadata": {},
   "source": [
    "Заполним пропуски в 'living_area' и 'kitchen_area' медианными значениями процентных соотношений (в м^2) кухни и жилплощади к общей площади квартиры."
   ]
  },
  {
   "cell_type": "code",
   "execution_count": 18,
   "metadata": {},
   "outputs": [],
   "source": [
    "data.dropna(subset=['locality_name'], inplace=True)"
   ]
  },
  {
   "cell_type": "markdown",
   "metadata": {},
   "source": [
    "Удалим строки, где не указан населенный пункт"
   ]
  },
  {
   "cell_type": "code",
   "execution_count": 20,
   "metadata": {},
   "outputs": [],
   "source": [
    "data.dropna(subset=['floors_total'], inplace=True)"
   ]
  },
  {
   "cell_type": "markdown",
   "metadata": {},
   "source": [
    "Удалим строки, где не указано общее количество этажей"
   ]
  },
  {
   "cell_type": "code",
   "execution_count": 22,
   "metadata": {
    "scrolled": true
   },
   "outputs": [
    {
     "name": "stdout",
     "output_type": "stream",
     "text": [
      "<class 'pandas.core.frame.DataFrame'>\n",
      "Int64Index: 23565 entries, 0 to 23698\n",
      "Data columns (total 22 columns):\n",
      " #   Column                Non-Null Count  Dtype         \n",
      "---  ------                --------------  -----         \n",
      " 0   total_images          23565 non-null  int64         \n",
      " 1   last_price            23565 non-null  int64         \n",
      " 2   total_area            23565 non-null  float64       \n",
      " 3   first_day_exposition  23565 non-null  datetime64[ns]\n",
      " 4   rooms                 23565 non-null  int64         \n",
      " 5   ceiling_height        23565 non-null  float64       \n",
      " 6   floors_total          23565 non-null  float64       \n",
      " 7   living_area           23565 non-null  float64       \n",
      " 8   floor                 23565 non-null  int64         \n",
      " 9   is_apartment          23565 non-null  bool          \n",
      " 10  studio                23565 non-null  bool          \n",
      " 11  open_plan             23565 non-null  bool          \n",
      " 12  kitchen_area          23565 non-null  float64       \n",
      " 13  balcony               23565 non-null  int64         \n",
      " 14  locality_name         23565 non-null  object        \n",
      " 15  airports_nearest      18041 non-null  float64       \n",
      " 16  cityCenters_nearest   18064 non-null  float64       \n",
      " 17  parks_around3000      23565 non-null  int64         \n",
      " 18  parks_nearest         8030 non-null   float64       \n",
      " 19  ponds_around3000      23565 non-null  int64         \n",
      " 20  ponds_nearest         9036 non-null   float64       \n",
      " 21  days_exposition       23565 non-null  int64         \n",
      "dtypes: bool(3), datetime64[ns](1), float64(9), int64(8), object(1)\n",
      "memory usage: 3.7+ MB\n"
     ]
    }
   ],
   "source": [
    "data.info()"
   ]
  },
  {
   "cell_type": "markdown",
   "metadata": {},
   "source": [
    "Пропущенные значения балконов заменяем на 0, тк. считаем, что пропуски - это отсутствие балкона.\n",
    "Парки и пруды заменяем на 0, потому что их значения на исследование не влияют.\n",
    "    Пропуски обрабатываем для нормальной работы функций.\n",
    "Также значения меняем на целочисленный формат для удобства работы с ними.\n",
    "А в столбце days_exposition пропуски заменил на 9999, а не 0, чтобы на графике не было выбивающихся значений, поэтому и медиану не использовал. Данных и так достаточ\n",
    "но.\n"
   ]
  },
  {
   "cell_type": "markdown",
   "metadata": {},
   "source": [
    "## Расчёты и добавление результатов в таблицу"
   ]
  },
  {
   "cell_type": "code",
   "execution_count": 23,
   "metadata": {},
   "outputs": [],
   "source": [
    "data['sq_price'] = (data['last_price'] / data['total_area']).astype('int')"
   ]
  },
  {
   "cell_type": "markdown",
   "metadata": {},
   "source": [
    "Расчитали центу квадратного метра"
   ]
  },
  {
   "cell_type": "code",
   "execution_count": 25,
   "metadata": {},
   "outputs": [],
   "source": [
    "data['weekday'] = data['first_day_exposition'].dt.weekday\n",
    "data['month'] = data['first_day_exposition'].dt.month\n",
    "data['year'] = data['first_day_exposition'].dt.year"
   ]
  },
  {
   "cell_type": "markdown",
   "metadata": {},
   "source": [
    "Добавили день недели, месяц и год публикации объявления"
   ]
  },
  {
   "cell_type": "code",
   "execution_count": 27,
   "metadata": {},
   "outputs": [],
   "source": [
    "def name_f (row):\n",
    "    if row['floor']==1:\n",
    "        return 'первый'\n",
    "    elif row['floor']==row['floors_total']:\n",
    "        return 'последний'\n",
    "    else:\n",
    "        return 'другой'\n",
    "data['name_floors']=data.apply(name_f, axis=1)"
   ]
  },
  {
   "cell_type": "markdown",
   "metadata": {},
   "source": [
    "Добавили этаж квартиры: варианты — первый, последний, другой"
   ]
  },
  {
   "cell_type": "code",
   "execution_count": 29,
   "metadata": {},
   "outputs": [],
   "source": [
    "data['corr_liv']=(data['living_area'] / data['total_area'] * 100).astype('int')\n",
    "data['corr_kitch']=(data['kitchen_area'] / data['total_area'] * 100).astype('int')"
   ]
  },
  {
   "cell_type": "markdown",
   "metadata": {},
   "source": [
    "Добавили соотношение жилой и общей площади, а также отношение площади кухни к общей"
   ]
  },
  {
   "cell_type": "code",
   "execution_count": 31,
   "metadata": {
    "scrolled": true
   },
   "outputs": [
    {
     "name": "stdout",
     "output_type": "stream",
     "text": [
      "<class 'pandas.core.frame.DataFrame'>\n",
      "Int64Index: 23565 entries, 0 to 23698\n",
      "Data columns (total 29 columns):\n",
      " #   Column                Non-Null Count  Dtype         \n",
      "---  ------                --------------  -----         \n",
      " 0   total_images          23565 non-null  int64         \n",
      " 1   last_price            23565 non-null  int64         \n",
      " 2   total_area            23565 non-null  float64       \n",
      " 3   first_day_exposition  23565 non-null  datetime64[ns]\n",
      " 4   rooms                 23565 non-null  int64         \n",
      " 5   ceiling_height        23565 non-null  float64       \n",
      " 6   floors_total          23565 non-null  float64       \n",
      " 7   living_area           23565 non-null  float64       \n",
      " 8   floor                 23565 non-null  int64         \n",
      " 9   is_apartment          23565 non-null  bool          \n",
      " 10  studio                23565 non-null  bool          \n",
      " 11  open_plan             23565 non-null  bool          \n",
      " 12  kitchen_area          23565 non-null  float64       \n",
      " 13  balcony               23565 non-null  int64         \n",
      " 14  locality_name         23565 non-null  object        \n",
      " 15  airports_nearest      18041 non-null  float64       \n",
      " 16  cityCenters_nearest   18064 non-null  float64       \n",
      " 17  parks_around3000      23565 non-null  int64         \n",
      " 18  parks_nearest         8030 non-null   float64       \n",
      " 19  ponds_around3000      23565 non-null  int64         \n",
      " 20  ponds_nearest         9036 non-null   float64       \n",
      " 21  days_exposition       23565 non-null  int64         \n",
      " 22  sq_price              23565 non-null  int64         \n",
      " 23  weekday               23565 non-null  int64         \n",
      " 24  month                 23565 non-null  int64         \n",
      " 25  year                  23565 non-null  int64         \n",
      " 26  name_floors           23565 non-null  object        \n",
      " 27  corr_liv              23565 non-null  int64         \n",
      " 28  corr_kitch            23565 non-null  int64         \n",
      "dtypes: bool(3), datetime64[ns](1), float64(9), int64(14), object(2)\n",
      "memory usage: 4.9+ MB\n"
     ]
    }
   ],
   "source": [
    "data.info()"
   ]
  },
  {
   "cell_type": "markdown",
   "metadata": {},
   "source": [
    "## Исследовательский анализ данных"
   ]
  },
  {
   "cell_type": "markdown",
   "metadata": {},
   "source": [
    "Изучим следующие параметры: площадь, цена, число комнат, высота потолков. Построим гистограммы для каждого параметра"
   ]
  },
  {
   "cell_type": "code",
   "execution_count": 33,
   "metadata": {},
   "outputs": [
    {
     "data": {
      "text/plain": [
       "Text(0, 0.5, 'Количество квартир')"
      ]
     },
     "execution_count": 33,
     "metadata": {},
     "output_type": "execute_result"
    },
    {
     "data": {
      "image/png": "[encoded data removed]",
      "text/plain": [
       "<Figure size 432x288 with 1 Axes>"
      ]
     },
     "metadata": {
      "needs_background": "light"
     },
     "output_type": "display_data"
    }
   ],
   "source": [
    "data['total_area'].hist(bins=60, range=(10,300))\n",
    "plt.title('Площадь квартиры')\n",
    "plt.xlabel('Квадратный метр')\n",
    "plt.ylabel('Количество квартир')"
   ]
  },
  {
   "cell_type": "markdown",
   "metadata": {},
   "source": [
    "Гистограмма для площади квартир"
   ]
  },
  {
   "cell_type": "code",
   "execution_count": 35,
   "metadata": {},
   "outputs": [
    {
     "data": {
      "text/plain": [
       "Text(0, 0.5, 'Количество квартир')"
      ]
     },
     "execution_count": 35,
     "metadata": {},
     "output_type": "execute_result"
    },
    {
     "data": {
      "image/png": "[encoded data removed]",
      "text/plain": [
       "<Figure size 432x288 with 1 Axes>"
      ]
     },
     "metadata": {
      "needs_background": "light"
     },
     "output_type": "display_data"
    }
   ],
   "source": [
    "data['last_price'].hist(bins=50, range=(10000,17500000))\n",
    "plt.title('Цена квартиры')\n",
    "plt.xlabel('Цена')\n",
    "plt.ylabel('Количество квартир')"
   ]
  },
  {
   "cell_type": "markdown",
   "metadata": {},
   "source": [
    "Гистограмма для цены квартиры"
   ]
  },
  {
   "cell_type": "code",
   "execution_count": 37,
   "metadata": {},
   "outputs": [
    {
     "data": {
      "text/plain": [
       "Text(0, 0.5, 'Количество квартир')"
      ]
     },
     "execution_count": 37,
     "metadata": {},
     "output_type": "execute_result"
    },
    {
     "data": {
      "image/png": "[encoded data removed]",
      "text/plain": [
       "<Figure size 432x288 with 1 Axes>"
      ]
     },
     "metadata": {
      "needs_background": "light"
     },
     "output_type": "display_data"
    }
   ],
   "source": [
    "data['rooms'].hist(bins=15, range=(1,8))\n",
    "plt.title('Распределение комнат')\n",
    "plt.xlabel('Количество комнат')\n",
    "plt.ylabel('Количество квартир')"
   ]
  },
  {
   "cell_type": "markdown",
   "metadata": {},
   "source": [
    "Гистограмма для количества комнат"
   ]
  },
  {
   "cell_type": "code",
   "execution_count": 39,
   "metadata": {},
   "outputs": [
    {
     "data": {
      "text/plain": [
       "Text(0, 0.5, 'Количество квартир')"
      ]
     },
     "execution_count": 39,
     "metadata": {},
     "output_type": "execute_result"
    },
    {
     "data": {
      "image/png": "[encoded data removed]",
      "text/plain": [
       "<Figure size 432x288 with 1 Axes>"
      ]
     },
     "metadata": {
      "needs_background": "light"
     },
     "output_type": "display_data"
    }
   ],
   "source": [
    "data['ceiling_height'].hist(bins=10, range=(1,5))\n",
    "plt.title('Потолки')\n",
    "plt.xlabel('Высота потолка')\n",
    "plt.ylabel('Количество квартир')"
   ]
  },
  {
   "cell_type": "markdown",
   "metadata": {},
   "source": [
    "Гистограмма для высоты потолков"
   ]
  },
  {
   "cell_type": "markdown",
   "metadata": {},
   "source": [
    "Изучим время продажи квартиры"
   ]
  },
  {
   "cell_type": "code",
   "execution_count": 42,
   "metadata": {
    "scrolled": false
   },
   "outputs": [
    {
     "data": {
      "text/plain": [
       "Text(0, 0.5, 'Количество квартир')"
      ]
     },
     "execution_count": 42,
     "metadata": {},
     "output_type": "execute_result"
    },
    {
     "data": {
      "image/png": "[encoded data removed]",
      "text/plain": [
       "<Figure size 432x288 with 1 Axes>"
      ]
     },
     "metadata": {
      "needs_background": "light"
     },
     "output_type": "display_data"
    }
   ],
   "source": [
    "data['days_exposition'].hist(bins=100, range=(0,1000))\n",
    "plt.title('Общее время')\n",
    "plt.xlabel('Дни')\n",
    "plt.ylabel('Количество квартир')"
   ]
  },
  {
   "cell_type": "code",
   "execution_count": 46,
   "metadata": {
    "scrolled": false
   },
   "outputs": [
    {
     "data": {
      "text/plain": [
       "count    20394.000000\n",
       "mean       180.741395\n",
       "std        219.732782\n",
       "min          1.000000\n",
       "25%         45.000000\n",
       "50%         95.000000\n",
       "75%        231.000000\n",
       "max       1580.000000\n",
       "Name: days_exposition, dtype: float64"
      ]
     },
     "execution_count": 46,
     "metadata": {},
     "output_type": "execute_result"
    }
   ],
   "source": [
    "data[data['days_exposition']!=9999]['days_exposition'].describe()"
   ]
  },
  {
   "cell_type": "markdown",
   "metadata": {},
   "source": [
    "Среднее время продажи квартиры - полгода.\n",
    "Медианное значение - 95 дней.\n",
    "Быстрые продажи те, что заняли не более 45 дней, а долгие, когда продажадлилась более 230 дней.\n"
   ]
  },
  {
   "cell_type": "markdown",
   "metadata": {},
   "source": [
    "Выявим и уберем редкие и выбивающиеся значения\n"
   ]
  },
  {
   "cell_type": "code",
   "execution_count": null,
   "metadata": {},
   "outputs": [],
   "source": [
    "# Функция для подсчёта границ с учетом 1.5 размаха\n",
    "def quartile_range(df, column):\n",
    "    q1 = df[column].quantile(0.25)\n",
    "    q3 = df[column].quantile(0.75)\n",
    "    iqr = q3 - q1\n",
    "    dfq = df.loc[(df[column] < q3 + 1.5*iqr) & (df[column] > q1 - 1.5*iqr), column]\n",
    "    return dfq\n",
    "# Столбцы с выбросами\n",
    "list_features = ['last_price', 'total_area', 'kitchen_area', 'living_area', 'days_exposition', 'ceiling_height', 'rooms']\n",
    "for col in list_features:\n",
    "    data[col] = quartile_range(data, col)\n"
   ]
  },
  {
   "cell_type": "code",
   "execution_count": null,
   "metadata": {},
   "outputs": [],
   "source": [
    "data.describe()"
   ]
  },
  {
   "cell_type": "markdown",
   "metadata": {
    "scrolled": true
   },
   "source": [
    "Изучим, зависит ли цена от квадратного метра, числа комнат, этажа (первого или последнего), удалённости от центра. Также изучим зависимость от даты размещения: дня недели, месяца и года»."
   ]
  },
  {
   "cell_type": "code",
   "execution_count": 48,
   "metadata": {
    "scrolled": false
   },
   "outputs": [
    {
     "name": "stdout",
     "output_type": "stream",
     "text": [
      "<class 'pandas.core.frame.DataFrame'>\n",
      "Int64Index: 23565 entries, 0 to 23698\n",
      "Data columns (total 29 columns):\n",
      " #   Column                Non-Null Count  Dtype         \n",
      "---  ------                --------------  -----         \n",
      " 0   total_images          23565 non-null  int64         \n",
      " 1   last_price            23565 non-null  int64         \n",
      " 2   total_area            23565 non-null  float64       \n",
      " 3   first_day_exposition  23565 non-null  datetime64[ns]\n",
      " 4   rooms                 23565 non-null  int64         \n",
      " 5   ceiling_height        23565 non-null  float64       \n",
      " 6   floors_total          23565 non-null  float64       \n",
      " 7   living_area           23565 non-null  float64       \n",
      " 8   floor                 23565 non-null  int64         \n",
      " 9   is_apartment          23565 non-null  bool          \n",
      " 10  studio                23565 non-null  bool          \n",
      " 11  open_plan             23565 non-null  bool          \n",
      " 12  kitchen_area          23565 non-null  float64       \n",
      " 13  balcony               23565 non-null  int64         \n",
      " 14  locality_name         23565 non-null  object        \n",
      " 15  airports_nearest      18041 non-null  float64       \n",
      " 16  cityCenters_nearest   18064 non-null  float64       \n",
      " 17  parks_around3000      23565 non-null  int64         \n",
      " 18  parks_nearest         8030 non-null   float64       \n",
      " 19  ponds_around3000      23565 non-null  int64         \n",
      " 20  ponds_nearest         9036 non-null   float64       \n",
      " 21  days_exposition       23565 non-null  int64         \n",
      " 22  sq_price              23565 non-null  int64         \n",
      " 23  weekday               23565 non-null  int64         \n",
      " 24  month                 23565 non-null  int64         \n",
      " 25  year                  23565 non-null  int64         \n",
      " 26  name_floors           23565 non-null  object        \n",
      " 27  corr_liv              23565 non-null  int64         \n",
      " 28  corr_kitch            23565 non-null  int64         \n",
      "dtypes: bool(3), datetime64[ns](1), float64(9), int64(14), object(2)\n",
      "memory usage: 4.9+ MB\n"
     ]
    }
   ],
   "source": [
    "data.info()"
   ]
  },
  {
   "cell_type": "code",
   "execution_count": null,
   "metadata": {
    "scrolled": true
   },
   "outputs": [],
   "source": [
    "data.pivot_table(index='total_area', values='last_price').plot(style='o',grid=True, figsize=(5,5))\n",
    "plt.xlabel('Площадь квартиры')\n",
    "plt.ylabel('Цена квартиры')\n",
    "data.plot(x='total_area', y='last_price', kind='hexbin', gridsize=20, figsize=(5,5), sharex=False, grid=True)\n",
    "print('Корреляция равна:', data['total_area'].corr(data['last_price']))"
   ]
  },
  {
   "cell_type": "markdown",
   "metadata": {},
   "source": [
    "Чем больше площадь, тем больше цена квартиры."
   ]
  },
  {
   "cell_type": "code",
   "execution_count": null,
   "metadata": {
    "scrolled": true
   },
   "outputs": [],
   "source": [
    "data.query('rooms > 0').pivot_table(index='rooms', values='last_price').plot(grid=True, figsize=(5,5))\n",
    "plt.xlabel('Число комнат')\n",
    "plt.ylabel('Цена квартиры')\n",
    "data.plot(x='rooms', y='last_price', kind='hexbin', gridsize=20, figsize=(5,5), sharex=False, grid=True)\n",
    "print('Корреляция равна:', data['rooms'].corr(data['last_price']))\n"
   ]
  },
  {
   "cell_type": "markdown",
   "metadata": {
    "scrolled": true
   },
   "source": [
    "Чем больше комнат, тем больше цена"
   ]
  },
  {
   "cell_type": "code",
   "execution_count": null,
   "metadata": {},
   "outputs": [],
   "source": [
    "data.query('name_floors != \"другой\"').pivot_table(index='name_floors', values='last_price').plot(grid=True, figsize=(5,5))\n",
    "plt.xlabel('Этаж')\n",
    "plt.ylabel('Цена квартиры')"
   ]
  },
  {
   "cell_type": "markdown",
   "metadata": {},
   "source": [
    "Цена квартиры на первом этаже ниже цены квартиры последнего этажа"
   ]
  },
  {
   "cell_type": "code",
   "execution_count": null,
   "metadata": {},
   "outputs": [],
   "source": [
    "data.pivot_table(index='cityCenters_nearest', values='last_price').plot(style='o',grid=True, figsize=(5,5))\n",
    "plt.xlabel('Удаленность от  центра')\n",
    "plt.ylabel('Цена квартиры')\n",
    "data.plot(x='cityCenters_nearest', y='last_price', kind='hexbin', gridsize=20, figsize=(5,5), sharex=False, grid=True)\n",
    "print('Корреляция равна:', data['cityCenters_nearest'].corr(data['last_price']))"
   ]
  },
  {
   "cell_type": "markdown",
   "metadata": {},
   "source": [
    "Чем ближе к центру, тем выше стоимость"
   ]
  },
  {
   "cell_type": "code",
   "execution_count": null,
   "metadata": {},
   "outputs": [],
   "source": [
    "data.pivot_table(index='weekday', values='last_price').plot(grid=True, figsize=(5,5))\n",
    "plt.xlabel('День недели')\n",
    "plt.ylabel('Цена квартиры')\n",
    "data.plot(x='weekday', y='last_price', kind='hexbin', gridsize=10, figsize=(5,5), sharex=False, grid=True)\n",
    "print('Корреляция равна:', data['weekday'].corr(data['last_price']))"
   ]
  },
  {
   "cell_type": "markdown",
   "metadata": {},
   "source": [
    "Самые высокие цены обьявлений, опубликованных в среду, самые низкие - в субботу"
   ]
  },
  {
   "cell_type": "code",
   "execution_count": null,
   "metadata": {},
   "outputs": [],
   "source": [
    "data.pivot_table(index='month', values='last_price').plot(grid=True, figsize=(5,5))\n",
    "plt.xlabel('Месяц')\n",
    "plt.ylabel('Цена квартиры')\n",
    "data.plot(x='month', y='last_price', kind='hexbin', gridsize=30, figsize=(5,5), sharex=False, grid=True)\n",
    "print('Корреляция равна:', data['month'].corr(data['last_price']))"
   ]
  },
  {
   "cell_type": "markdown",
   "metadata": {},
   "source": [
    "В середине весны цены самые высокие, а с началом лета квартиры продаются дешевле"
   ]
  },
  {
   "cell_type": "code",
   "execution_count": null,
   "metadata": {},
   "outputs": [],
   "source": [
    "data.pivot_table(index='year', values='last_price').plot(grid=True, figsize=(5,5))\n",
    "plt.xlabel('Год')\n",
    "plt.ylabel('Цена квартиры')\n",
    "data.plot(x='year', y='last_price', kind='hexbin', gridsize=10, figsize=(5,5), sharex=False, grid=True)\n",
    "print('Корреляция равна:', data['year'].corr(data['last_price']))"
   ]
  },
  {
   "cell_type": "markdown",
   "metadata": {},
   "source": [
    "Самые дешевые квартиры были в 2016-2018 годах, а по приближению к кризисам - цены возрастают"
   ]
  },
  {
   "cell_type": "markdown",
   "metadata": {},
   "source": [
    "Выберем 10 населённых пунктов с наибольшим числом объявлений\n",
    "Посчитаем среднюю цену квадратного метра в этих населённых пунктах\n",
    "Выделим населённые пункты с самой высокой и низкой стоимостью жилья"
   ]
  },
  {
   "cell_type": "code",
   "execution_count": null,
   "metadata": {},
   "outputs": [],
   "source": [
    "top=data.pivot_table(index = 'locality_name', values = 'sq_price', aggfunc=['count','mean'])\n",
    "top.columns=['count','mean']\n",
    "top=top.sort_values('count', ascending = False).head(10).astype('int')\n",
    "top"
   ]
  },
  {
   "cell_type": "code",
   "execution_count": null,
   "metadata": {},
   "outputs": [],
   "source": [
    "print('Самая высокая стоимость квадратного метра:',top['mean'].max(),', а самая низкая:',top['mean'].min())"
   ]
  },
  {
   "cell_type": "markdown",
   "metadata": {},
   "source": [
    "Самая высокая стоимость жилья в Санкт-Петербурге, самая низкая в Выборге"
   ]
  },
  {
   "cell_type": "code",
   "execution_count": null,
   "metadata": {},
   "outputs": [],
   "source": [
    "data['near_centre']=data['cityCenters_nearest'] / 1000\n",
    "data['near_centre']=data['near_centre'].fillna(9999).astype('int')\n",
    "centre=data.query('locality_name == \"Санкт-Петербург\" and near_centre !=9999').pivot_table(index ='near_centre', values = 'last_price')\n",
    "centre.plot(grid=True, figsize=(5,5), style='o')\n"
   ]
  },
  {
   "cell_type": "markdown",
   "metadata": {},
   "source": [
    "Радиус центра питера составляет 7 км"
   ]
  },
  {
   "cell_type": "markdown",
   "metadata": {},
   "source": [
    "Выделим сегмент квартир в центре. Проанализируем эту территорию и изучим следующие параметры: площадь, цена, число комнат, высота потолков. Также выделим факторы, которые влияют на стоимость квартиры (число комнат, этаж, удалённость от центра, дата размещения объявления)."
   ]
  },
  {
   "cell_type": "code",
   "execution_count": null,
   "metadata": {},
   "outputs": [],
   "source": [
    "center_seg=data.query('near_centre <= 7 and locality_name == \"Санкт-Петербург\" and rooms!=0')"
   ]
  },
  {
   "cell_type": "code",
   "execution_count": null,
   "metadata": {},
   "outputs": [],
   "source": [
    "center_rooms=center_seg.pivot_table(index='rooms', values=['last_price'],aggfunc='median').plot()\n",
    "print('Корреляция равна:', data['year'].corr(data['last_price']))"
   ]
  },
  {
   "cell_type": "markdown",
   "metadata": {},
   "source": [
    "Общая стоимость квартиры растет с количеством комнат"
   ]
  },
  {
   "cell_type": "code",
   "execution_count": null,
   "metadata": {},
   "outputs": [],
   "source": [
    "center_floors=center_seg.pivot_table(index='name_floors', values=['last_price'],aggfunc='median').plot()"
   ]
  },
  {
   "cell_type": "markdown",
   "metadata": {},
   "source": [
    "Самые дешевые квартиры в центре на первом этаже"
   ]
  },
  {
   "cell_type": "code",
   "execution_count": null,
   "metadata": {},
   "outputs": [],
   "source": [
    "center_km=center_seg.pivot_table(index='cityCenters_nearest', values='last_price', aggfunc='median',).plot()\n",
    "center_seg.plot(x='cityCenters_nearest', y='last_price', kind='hexbin', gridsize=20, figsize=(5,5), sharex=False, grid=True)"
   ]
  },
  {
   "cell_type": "markdown",
   "metadata": {},
   "source": [
    "Зависимости цены от удаленности не наблюдается"
   ]
  },
  {
   "cell_type": "code",
   "execution_count": null,
   "metadata": {},
   "outputs": [],
   "source": [
    "center_km=center_seg.pivot_table(index='cityCenters_nearest', values='last_price', aggfunc='median',).plot()"
   ]
  },
  {
   "cell_type": "code",
   "execution_count": null,
   "metadata": {},
   "outputs": [],
   "source": [
    "center_seg.pivot_table(index='weekday', values='last_price').plot(grid=True, figsize=(5,5))\n",
    "center_seg.pivot_table(index='month', values='last_price').plot(grid=True, figsize=(12,5))\n",
    "center_seg.pivot_table(index='year', values='last_price').plot(grid=True, figsize=(5,5))"
   ]
  },
  {
   "cell_type": "markdown",
   "metadata": {},
   "source": [
    "В центре города по субботам цена объявления выше (возможно расчет на большее свободное время потенциальных покупателей, также на то, что в будни они работают)\n",
    "В сентябре центы также растут, а под новый год снижаются\n",
    "После кризиса квартиры поднялись в цене, затем рынок стабилизировался, ну и с санкциями цены вновь начали расти"
   ]
  },
  {
   "cell_type": "markdown",
   "metadata": {},
   "source": [
    "## Общий вывод"
   ]
  },
  {
   "cell_type": "markdown",
   "metadata": {},
   "source": [
    "Проанализировав данные сервиса Яндекс Недвижимость, мы научились определять рыночную стоимость жилья.\n",
    "Для некоторых пропущенных значений мы нашли логическую замену, для других - заполнили нулями.\n",
    "Произвели расчеты различных параметров, изучили их, а также визуализировали данные.\n",
    "Все это позволило нам определить:\n",
    "с увеличение площади квартиры как и числа комнат - увеличивается ее цена;\n",
    "цена квартиры на первом этаже ниже той, что распологается на последнем;\n",
    "удаленность жилья от центра города также влияет на ее стоимость;\n",
    "в середине рабочей недели цены на выставленные обьявления выше, а ниже - в субботу;\n",
    "весной цены на квартиры выше, а самые низкие - в июне;\n",
    "дешевле всего квартиры продавались в спокойное время для экономики;\n",
    "в Питере квартиры стоят дороже, чем в области;\n",
    "центром Питера является область с радиусом 7 км:\n",
    "при этом, в центре Питера и на удалении, рынок недвижимости ведет себя по-разному;\n",
    "На цену квартиры влияют рразличные параметры."
   ]
  },
  {
   "cell_type": "markdown",
   "metadata": {},
   "source": [
    "Параметрами мошеннической деятельности можно считать умышленное занижение/завышение тех значений, которые влияют на цену квартиры. Грубо говоря, если цена квартиры сильно отличается от рынка таких же квартир (не учитывая форсмажоры).\n"
   ]
  }
 ],
 "metadata": {
  "ExecuteTimeLog": [
   {
    "duration": 66,
    "start_time": "2022-03-06T13:19:33.273Z"
   },
   {
    "duration": 221,
    "start_time": "2022-03-06T13:21:52.326Z"
   },
   {
    "duration": 658,
    "start_time": "2022-03-06T13:22:09.753Z"
   },
   {
    "duration": 9,
    "start_time": "2022-03-06T13:22:21.817Z"
   },
   {
    "duration": 14,
    "start_time": "2022-03-06T13:22:46.437Z"
   },
   {
    "duration": 88,
    "start_time": "2022-03-06T13:23:00.889Z"
   },
   {
    "duration": 10,
    "start_time": "2022-03-06T13:23:03.417Z"
   },
   {
    "duration": 59,
    "start_time": "2022-03-06T13:23:23.236Z"
   },
   {
    "duration": 8,
    "start_time": "2022-03-06T13:23:26.514Z"
   },
   {
    "duration": 64,
    "start_time": "2022-03-06T13:24:51.422Z"
   },
   {
    "duration": 12,
    "start_time": "2022-03-06T13:24:54.321Z"
   },
   {
    "duration": 25,
    "start_time": "2022-03-06T13:24:57.145Z"
   },
   {
    "duration": 72,
    "start_time": "2022-03-06T13:26:43.245Z"
   },
   {
    "duration": 28,
    "start_time": "2022-03-06T13:31:14.078Z"
   },
   {
    "duration": 26,
    "start_time": "2022-03-06T13:31:18.528Z"
   },
   {
    "duration": 25,
    "start_time": "2022-03-06T13:31:21.118Z"
   },
   {
    "duration": 17,
    "start_time": "2022-03-06T13:33:55.929Z"
   },
   {
    "duration": 10,
    "start_time": "2022-03-06T13:33:57.868Z"
   },
   {
    "duration": 323,
    "start_time": "2022-03-06T13:34:56.838Z"
   },
   {
    "duration": 52,
    "start_time": "2022-03-06T13:35:12.649Z"
   },
   {
    "duration": 7,
    "start_time": "2022-03-06T13:35:16.869Z"
   },
   {
    "duration": 320,
    "start_time": "2022-03-07T08:40:39.292Z"
   },
   {
    "duration": 269,
    "start_time": "2022-03-07T08:40:41.602Z"
   },
   {
    "duration": 757,
    "start_time": "2022-03-07T08:40:53.592Z"
   },
   {
    "duration": 15,
    "start_time": "2022-03-07T08:40:54.352Z"
   },
   {
    "duration": 43,
    "start_time": "2022-03-07T08:40:54.373Z"
   },
   {
    "duration": 146,
    "start_time": "2022-03-07T08:40:54.418Z"
   },
   {
    "duration": 36,
    "start_time": "2022-03-07T08:40:54.567Z"
   },
   {
    "duration": 45,
    "start_time": "2022-03-07T08:40:54.605Z"
   },
   {
    "duration": 8,
    "start_time": "2022-03-07T08:40:54.654Z"
   },
   {
    "duration": 10,
    "start_time": "2022-03-07T08:41:59.885Z"
   },
   {
    "duration": 8,
    "start_time": "2022-03-07T08:42:06.935Z"
   },
   {
    "duration": 10,
    "start_time": "2022-03-07T08:42:11.803Z"
   },
   {
    "duration": 107,
    "start_time": "2022-03-07T09:19:40.085Z"
   },
   {
    "duration": 10,
    "start_time": "2022-03-07T09:31:46.913Z"
   },
   {
    "duration": 11,
    "start_time": "2022-03-07T09:32:01.520Z"
   },
   {
    "duration": 9,
    "start_time": "2022-03-07T09:32:13.139Z"
   },
   {
    "duration": 8,
    "start_time": "2022-03-07T09:32:39.255Z"
   },
   {
    "duration": 9,
    "start_time": "2022-03-07T09:32:48.710Z"
   },
   {
    "duration": 9,
    "start_time": "2022-03-07T09:33:03.708Z"
   },
   {
    "duration": 9,
    "start_time": "2022-03-07T09:33:14.261Z"
   },
   {
    "duration": 9,
    "start_time": "2022-03-07T09:33:26.225Z"
   },
   {
    "duration": 8,
    "start_time": "2022-03-07T09:33:32.362Z"
   },
   {
    "duration": 10,
    "start_time": "2022-03-07T09:33:47.253Z"
   },
   {
    "duration": 10,
    "start_time": "2022-03-07T09:34:05.091Z"
   },
   {
    "duration": 8,
    "start_time": "2022-03-07T09:34:27.923Z"
   },
   {
    "duration": 11,
    "start_time": "2022-03-07T09:34:47.115Z"
   },
   {
    "duration": 9,
    "start_time": "2022-03-07T09:35:36.716Z"
   },
   {
    "duration": 11,
    "start_time": "2022-03-07T09:35:59.360Z"
   },
   {
    "duration": 394,
    "start_time": "2022-03-07T09:36:19.416Z"
   },
   {
    "duration": 828,
    "start_time": "2022-03-07T09:38:16.545Z"
   },
   {
    "duration": 18,
    "start_time": "2022-03-07T09:38:17.377Z"
   },
   {
    "duration": 75,
    "start_time": "2022-03-07T09:38:17.399Z"
   },
   {
    "duration": 11,
    "start_time": "2022-03-07T09:38:17.477Z"
   },
   {
    "duration": 154,
    "start_time": "2022-03-07T09:38:17.490Z"
   },
   {
    "duration": 11,
    "start_time": "2022-03-07T09:38:17.646Z"
   },
   {
    "duration": 691,
    "start_time": "2022-03-07T09:38:17.660Z"
   },
   {
    "duration": 321,
    "start_time": "2022-03-07T09:39:05.004Z"
   },
   {
    "duration": 306,
    "start_time": "2022-03-07T09:45:13.789Z"
   },
   {
    "duration": 27,
    "start_time": "2022-03-07T09:45:47.367Z"
   },
   {
    "duration": 15,
    "start_time": "2022-03-07T09:46:18.438Z"
   },
   {
    "duration": 853,
    "start_time": "2022-03-07T09:46:25.336Z"
   },
   {
    "duration": 19,
    "start_time": "2022-03-07T09:46:26.192Z"
   },
   {
    "duration": 59,
    "start_time": "2022-03-07T09:46:26.214Z"
   },
   {
    "duration": 12,
    "start_time": "2022-03-07T09:46:26.275Z"
   },
   {
    "duration": 137,
    "start_time": "2022-03-07T09:46:26.289Z"
   },
   {
    "duration": 23,
    "start_time": "2022-03-07T09:46:26.428Z"
   },
   {
    "duration": 360,
    "start_time": "2022-03-07T09:46:26.453Z"
   },
   {
    "duration": 315,
    "start_time": "2022-03-07T09:46:40.295Z"
   },
   {
    "duration": 336,
    "start_time": "2022-03-07T09:47:15.433Z"
   },
   {
    "duration": 301,
    "start_time": "2022-03-07T09:47:25.117Z"
   },
   {
    "duration": 298,
    "start_time": "2022-03-07T09:47:29.817Z"
   },
   {
    "duration": 291,
    "start_time": "2022-03-07T09:47:35.786Z"
   },
   {
    "duration": 20,
    "start_time": "2022-03-07T09:47:38.151Z"
   },
   {
    "duration": 20,
    "start_time": "2022-03-07T09:49:06.988Z"
   },
   {
    "duration": 9,
    "start_time": "2022-03-07T09:53:52.760Z"
   },
   {
    "duration": 6,
    "start_time": "2022-03-07T09:55:37.324Z"
   },
   {
    "duration": 32,
    "start_time": "2022-03-07T09:55:48.797Z"
   },
   {
    "duration": 19,
    "start_time": "2022-03-07T09:56:41.642Z"
   },
   {
    "duration": 95,
    "start_time": "2022-03-07T09:57:36.890Z"
   },
   {
    "duration": 254,
    "start_time": "2022-03-07T09:57:50.260Z"
   },
   {
    "duration": 259,
    "start_time": "2022-03-07T09:58:02.007Z"
   },
   {
    "duration": 6,
    "start_time": "2022-03-07T09:58:20.664Z"
   },
   {
    "duration": 6,
    "start_time": "2022-03-07T09:58:39.368Z"
   },
   {
    "duration": 7,
    "start_time": "2022-03-07T09:59:10.170Z"
   },
   {
    "duration": 7,
    "start_time": "2022-03-07T09:59:18.283Z"
   },
   {
    "duration": 6,
    "start_time": "2022-03-07T10:00:13.947Z"
   },
   {
    "duration": 17,
    "start_time": "2022-03-07T12:04:05.003Z"
   },
   {
    "duration": 282,
    "start_time": "2022-03-07T12:04:05.708Z"
   },
   {
    "duration": 13,
    "start_time": "2022-03-07T12:04:28.067Z"
   },
   {
    "duration": 238,
    "start_time": "2022-03-07T12:04:30.006Z"
   },
   {
    "duration": 8,
    "start_time": "2022-03-07T12:05:50.608Z"
   },
   {
    "duration": 7,
    "start_time": "2022-03-07T12:05:51.112Z"
   },
   {
    "duration": 11,
    "start_time": "2022-03-07T12:08:19.960Z"
   },
   {
    "duration": 242,
    "start_time": "2022-03-07T12:08:20.396Z"
   },
   {
    "duration": 1866,
    "start_time": "2022-03-07T12:08:44.726Z"
   },
   {
    "duration": 90,
    "start_time": "2022-03-07T12:08:46.504Z"
   },
   {
    "duration": 1811,
    "start_time": "2022-03-07T12:08:47.780Z"
   },
   {
    "duration": 12,
    "start_time": "2022-03-07T12:19:58.155Z"
   },
   {
    "duration": 242,
    "start_time": "2022-03-07T12:20:00.761Z"
   },
   {
    "duration": 6,
    "start_time": "2022-03-07T12:20:49.628Z"
   },
   {
    "duration": 11,
    "start_time": "2022-03-07T12:20:54.622Z"
   },
   {
    "duration": 6,
    "start_time": "2022-03-07T12:20:54.914Z"
   },
   {
    "duration": 6,
    "start_time": "2022-03-07T12:22:15.819Z"
   },
   {
    "duration": 3,
    "start_time": "2022-03-07T12:22:16.127Z"
   },
   {
    "duration": 8,
    "start_time": "2022-03-07T12:22:16.526Z"
   },
   {
    "duration": 6,
    "start_time": "2022-03-07T12:22:25.111Z"
   },
   {
    "duration": 3,
    "start_time": "2022-03-07T12:22:25.392Z"
   },
   {
    "duration": 32,
    "start_time": "2022-03-07T12:22:25.623Z"
   },
   {
    "duration": 32,
    "start_time": "2022-03-07T12:26:44.000Z"
   },
   {
    "duration": 6,
    "start_time": "2022-03-07T12:44:14.078Z"
   },
   {
    "duration": 8,
    "start_time": "2022-03-07T12:44:39.634Z"
   },
   {
    "duration": 274,
    "start_time": "2022-03-07T12:49:03.976Z"
   },
   {
    "duration": 276,
    "start_time": "2022-03-07T12:49:13.070Z"
   },
   {
    "duration": 9,
    "start_time": "2022-03-07T12:57:47.217Z"
   },
   {
    "duration": 5,
    "start_time": "2022-03-07T12:58:00.415Z"
   },
   {
    "duration": 10,
    "start_time": "2022-03-07T12:58:06.161Z"
   },
   {
    "duration": 8,
    "start_time": "2022-03-07T13:04:19.981Z"
   },
   {
    "duration": 290,
    "start_time": "2022-03-07T13:05:33.497Z"
   },
   {
    "duration": 302,
    "start_time": "2022-03-07T13:07:05.521Z"
   },
   {
    "duration": 9,
    "start_time": "2022-03-07T13:07:19.357Z"
   },
   {
    "duration": 8,
    "start_time": "2022-03-07T13:07:39.008Z"
   },
   {
    "duration": 7,
    "start_time": "2022-03-07T13:07:56.338Z"
   },
   {
    "duration": 9,
    "start_time": "2022-03-07T13:08:00.225Z"
   },
   {
    "duration": 7,
    "start_time": "2022-03-07T13:12:25.186Z"
   },
   {
    "duration": 5,
    "start_time": "2022-03-07T13:12:28.383Z"
   },
   {
    "duration": 8,
    "start_time": "2022-03-07T13:12:41.799Z"
   },
   {
    "duration": 6,
    "start_time": "2022-03-07T13:13:52.804Z"
   },
   {
    "duration": 4,
    "start_time": "2022-03-07T13:13:53.460Z"
   },
   {
    "duration": 31,
    "start_time": "2022-03-07T13:14:10.896Z"
   },
   {
    "duration": 11,
    "start_time": "2022-03-07T13:15:33.971Z"
   },
   {
    "duration": 9,
    "start_time": "2022-03-07T13:15:35.930Z"
   },
   {
    "duration": 31,
    "start_time": "2022-03-07T13:15:38.497Z"
   },
   {
    "duration": 778,
    "start_time": "2022-03-07T13:16:05.385Z"
   },
   {
    "duration": 18,
    "start_time": "2022-03-07T13:16:06.166Z"
   },
   {
    "duration": 80,
    "start_time": "2022-03-07T13:16:06.191Z"
   },
   {
    "duration": 11,
    "start_time": "2022-03-07T13:16:06.273Z"
   },
   {
    "duration": 176,
    "start_time": "2022-03-07T13:16:06.286Z"
   },
   {
    "duration": 10,
    "start_time": "2022-03-07T13:16:06.464Z"
   },
   {
    "duration": 73,
    "start_time": "2022-03-07T13:16:06.478Z"
   },
   {
    "duration": 3,
    "start_time": "2022-03-07T13:16:06.554Z"
   },
   {
    "duration": 16,
    "start_time": "2022-03-07T13:16:06.560Z"
   },
   {
    "duration": 4,
    "start_time": "2022-03-07T13:16:06.578Z"
   },
   {
    "duration": 14,
    "start_time": "2022-03-07T13:16:06.584Z"
   },
   {
    "duration": 7,
    "start_time": "2022-03-07T13:16:06.600Z"
   },
   {
    "duration": 8,
    "start_time": "2022-03-07T13:16:06.652Z"
   },
   {
    "duration": 6,
    "start_time": "2022-03-07T13:16:06.662Z"
   },
   {
    "duration": 7,
    "start_time": "2022-03-07T13:16:06.670Z"
   },
   {
    "duration": 12,
    "start_time": "2022-03-07T13:16:06.679Z"
   },
   {
    "duration": 8,
    "start_time": "2022-03-07T13:16:06.693Z"
   },
   {
    "duration": 55,
    "start_time": "2022-03-07T13:16:06.703Z"
   },
   {
    "duration": 8,
    "start_time": "2022-03-07T13:16:06.761Z"
   },
   {
    "duration": 98,
    "start_time": "2022-03-07T13:16:06.771Z"
   },
   {
    "duration": 9,
    "start_time": "2022-03-07T13:18:12.629Z"
   },
   {
    "duration": 8,
    "start_time": "2022-03-07T13:18:13.973Z"
   },
   {
    "duration": 46,
    "start_time": "2022-03-07T13:18:15.924Z"
   },
   {
    "duration": 780,
    "start_time": "2022-03-07T13:18:34.975Z"
   },
   {
    "duration": 17,
    "start_time": "2022-03-07T13:18:35.757Z"
   },
   {
    "duration": 46,
    "start_time": "2022-03-07T13:18:35.776Z"
   },
   {
    "duration": 35,
    "start_time": "2022-03-07T13:18:35.825Z"
   },
   {
    "duration": 128,
    "start_time": "2022-03-07T13:18:35.862Z"
   },
   {
    "duration": 10,
    "start_time": "2022-03-07T13:18:35.992Z"
   },
   {
    "duration": 55,
    "start_time": "2022-03-07T13:18:36.005Z"
   },
   {
    "duration": 3,
    "start_time": "2022-03-07T13:18:36.064Z"
   },
   {
    "duration": 24,
    "start_time": "2022-03-07T13:18:36.070Z"
   },
   {
    "duration": 4,
    "start_time": "2022-03-07T13:18:36.097Z"
   },
   {
    "duration": 9,
    "start_time": "2022-03-07T13:18:36.104Z"
   },
   {
    "duration": 10,
    "start_time": "2022-03-07T13:18:36.115Z"
   },
   {
    "duration": 8,
    "start_time": "2022-03-07T13:18:36.152Z"
   },
   {
    "duration": 6,
    "start_time": "2022-03-07T13:18:36.162Z"
   },
   {
    "duration": 7,
    "start_time": "2022-03-07T13:18:36.170Z"
   },
   {
    "duration": 15,
    "start_time": "2022-03-07T13:18:36.180Z"
   },
   {
    "duration": 7,
    "start_time": "2022-03-07T13:18:36.197Z"
   },
   {
    "duration": 47,
    "start_time": "2022-03-07T13:18:36.207Z"
   },
   {
    "duration": 12,
    "start_time": "2022-03-07T13:18:36.256Z"
   },
   {
    "duration": 35,
    "start_time": "2022-03-07T13:18:36.271Z"
   },
   {
    "duration": 13,
    "start_time": "2022-03-07T13:19:41.255Z"
   },
   {
    "duration": 84,
    "start_time": "2022-03-07T13:20:02.683Z"
   },
   {
    "duration": 1171,
    "start_time": "2022-03-07T13:20:30.193Z"
   },
   {
    "duration": 24,
    "start_time": "2022-03-07T13:20:31.367Z"
   },
   {
    "duration": 62,
    "start_time": "2022-03-07T13:20:31.396Z"
   },
   {
    "duration": 12,
    "start_time": "2022-03-07T13:20:31.461Z"
   },
   {
    "duration": 140,
    "start_time": "2022-03-07T13:20:31.475Z"
   },
   {
    "duration": 9,
    "start_time": "2022-03-07T13:20:31.617Z"
   },
   {
    "duration": 42,
    "start_time": "2022-03-07T13:20:31.628Z"
   },
   {
    "duration": 3,
    "start_time": "2022-03-07T13:20:31.674Z"
   },
   {
    "duration": 13,
    "start_time": "2022-03-07T13:20:31.680Z"
   },
   {
    "duration": 5,
    "start_time": "2022-03-07T13:20:31.695Z"
   },
   {
    "duration": 87,
    "start_time": "2022-03-07T13:20:31.702Z"
   },
   {
    "duration": 161,
    "start_time": "2022-03-07T13:20:31.631Z"
   },
   {
    "duration": 153,
    "start_time": "2022-03-07T13:20:31.641Z"
   },
   {
    "duration": 152,
    "start_time": "2022-03-07T13:20:31.643Z"
   },
   {
    "duration": 152,
    "start_time": "2022-03-07T13:20:31.645Z"
   },
   {
    "duration": 152,
    "start_time": "2022-03-07T13:20:31.647Z"
   },
   {
    "duration": 151,
    "start_time": "2022-03-07T13:20:31.649Z"
   },
   {
    "duration": 147,
    "start_time": "2022-03-07T13:20:31.654Z"
   },
   {
    "duration": 148,
    "start_time": "2022-03-07T13:20:31.655Z"
   },
   {
    "duration": 148,
    "start_time": "2022-03-07T13:20:31.657Z"
   },
   {
    "duration": 32,
    "start_time": "2022-03-07T13:20:39.041Z"
   },
   {
    "duration": 6,
    "start_time": "2022-03-07T13:20:54.626Z"
   },
   {
    "duration": 3,
    "start_time": "2022-03-07T13:20:56.568Z"
   },
   {
    "duration": 2,
    "start_time": "2022-03-07T13:20:56.885Z"
   },
   {
    "duration": 3,
    "start_time": "2022-03-07T13:20:57.065Z"
   },
   {
    "duration": 3,
    "start_time": "2022-03-07T13:20:57.243Z"
   },
   {
    "duration": 13,
    "start_time": "2022-03-07T13:20:57.441Z"
   },
   {
    "duration": 10,
    "start_time": "2022-03-07T13:20:57.798Z"
   },
   {
    "duration": 11,
    "start_time": "2022-03-07T13:20:58.289Z"
   },
   {
    "duration": 8,
    "start_time": "2022-03-07T13:20:58.893Z"
   },
   {
    "duration": 37,
    "start_time": "2022-03-07T13:20:59.574Z"
   },
   {
    "duration": 7,
    "start_time": "2022-03-07T13:21:16.988Z"
   },
   {
    "duration": 12,
    "start_time": "2022-03-07T13:21:20.062Z"
   },
   {
    "duration": 8,
    "start_time": "2022-03-07T13:21:20.395Z"
   },
   {
    "duration": 5,
    "start_time": "2022-03-07T13:21:20.707Z"
   },
   {
    "duration": 6,
    "start_time": "2022-03-07T13:21:21.398Z"
   },
   {
    "duration": 35,
    "start_time": "2022-03-07T13:21:21.904Z"
   },
   {
    "duration": 4,
    "start_time": "2022-03-07T13:24:34.923Z"
   },
   {
    "duration": 32,
    "start_time": "2022-03-07T13:37:12.869Z"
   },
   {
    "duration": 35,
    "start_time": "2022-03-07T13:37:16.519Z"
   },
   {
    "duration": 19,
    "start_time": "2022-03-07T13:40:39.863Z"
   },
   {
    "duration": 3,
    "start_time": "2022-03-07T13:40:40.439Z"
   },
   {
    "duration": 8,
    "start_time": "2022-03-07T13:40:56.856Z"
   },
   {
    "duration": 4,
    "start_time": "2022-03-07T13:40:57.652Z"
   },
   {
    "duration": 6,
    "start_time": "2022-03-07T13:40:57.971Z"
   },
   {
    "duration": 3,
    "start_time": "2022-03-07T13:40:58.263Z"
   },
   {
    "duration": 8,
    "start_time": "2022-03-07T13:40:58.546Z"
   },
   {
    "duration": 9,
    "start_time": "2022-03-07T13:40:58.850Z"
   },
   {
    "duration": 7,
    "start_time": "2022-03-07T13:40:59.164Z"
   },
   {
    "duration": 5,
    "start_time": "2022-03-07T13:40:59.505Z"
   },
   {
    "duration": 3,
    "start_time": "2022-03-07T13:41:00.118Z"
   },
   {
    "duration": 37,
    "start_time": "2022-03-07T13:41:01.322Z"
   },
   {
    "duration": 574,
    "start_time": "2022-03-07T13:43:02.028Z"
   },
   {
    "duration": 13,
    "start_time": "2022-03-07T13:43:35.586Z"
   },
   {
    "duration": 322,
    "start_time": "2022-03-07T13:44:12.793Z"
   },
   {
    "duration": 52,
    "start_time": "2022-03-07T13:44:20.190Z"
   },
   {
    "duration": 11,
    "start_time": "2022-03-07T13:45:19.969Z"
   },
   {
    "duration": 4,
    "start_time": "2022-03-07T13:45:20.719Z"
   },
   {
    "duration": 35,
    "start_time": "2022-03-07T13:45:21.623Z"
   },
   {
    "duration": 6,
    "start_time": "2022-03-07T13:46:18.852Z"
   },
   {
    "duration": 6,
    "start_time": "2022-03-07T13:46:31.216Z"
   },
   {
    "duration": 6,
    "start_time": "2022-03-07T13:46:31.583Z"
   },
   {
    "duration": 4,
    "start_time": "2022-03-07T13:46:32.542Z"
   },
   {
    "duration": 11,
    "start_time": "2022-03-07T13:46:33.860Z"
   },
   {
    "duration": 3,
    "start_time": "2022-03-07T13:46:34.351Z"
   },
   {
    "duration": 12,
    "start_time": "2022-03-07T13:46:34.757Z"
   },
   {
    "duration": 2,
    "start_time": "2022-03-07T13:46:35.094Z"
   },
   {
    "duration": 35,
    "start_time": "2022-03-07T13:46:43.880Z"
   },
   {
    "duration": 11,
    "start_time": "2022-03-07T13:47:37.676Z"
   },
   {
    "duration": 831,
    "start_time": "2022-03-07T13:47:41.839Z"
   },
   {
    "duration": 15,
    "start_time": "2022-03-07T13:47:42.674Z"
   },
   {
    "duration": 97,
    "start_time": "2022-03-07T13:47:42.696Z"
   },
   {
    "duration": 12,
    "start_time": "2022-03-07T13:47:42.851Z"
   },
   {
    "duration": 213,
    "start_time": "2022-03-07T13:47:42.866Z"
   },
   {
    "duration": 9,
    "start_time": "2022-03-07T13:47:43.082Z"
   },
   {
    "duration": 82,
    "start_time": "2022-03-07T13:47:43.094Z"
   },
   {
    "duration": 3,
    "start_time": "2022-03-07T13:47:43.180Z"
   },
   {
    "duration": 69,
    "start_time": "2022-03-07T13:47:43.186Z"
   },
   {
    "duration": 4,
    "start_time": "2022-03-07T13:47:43.257Z"
   },
   {
    "duration": 7,
    "start_time": "2022-03-07T13:47:43.263Z"
   },
   {
    "duration": 8,
    "start_time": "2022-03-07T13:47:43.273Z"
   },
   {
    "duration": 12,
    "start_time": "2022-03-07T13:47:43.284Z"
   },
   {
    "duration": 59,
    "start_time": "2022-03-07T13:47:43.298Z"
   },
   {
    "duration": 6,
    "start_time": "2022-03-07T13:47:43.360Z"
   },
   {
    "duration": 7,
    "start_time": "2022-03-07T13:47:43.368Z"
   },
   {
    "duration": 5,
    "start_time": "2022-03-07T13:47:43.377Z"
   },
   {
    "duration": 69,
    "start_time": "2022-03-07T13:47:43.384Z"
   },
   {
    "duration": 3,
    "start_time": "2022-03-07T13:47:43.455Z"
   },
   {
    "duration": 13,
    "start_time": "2022-03-07T13:47:43.461Z"
   },
   {
    "duration": 4,
    "start_time": "2022-03-07T13:47:43.476Z"
   },
   {
    "duration": 10,
    "start_time": "2022-03-07T13:47:43.484Z"
   },
   {
    "duration": 36,
    "start_time": "2022-03-07T13:47:43.552Z"
   },
   {
    "duration": 34,
    "start_time": "2022-03-07T14:22:49.978Z"
   },
   {
    "duration": 379,
    "start_time": "2022-03-07T14:30:11.423Z"
   },
   {
    "duration": 6,
    "start_time": "2022-03-07T14:30:23.911Z"
   },
   {
    "duration": 19,
    "start_time": "2022-03-07T14:30:32.408Z"
   },
   {
    "duration": 7,
    "start_time": "2022-03-07T14:30:40.426Z"
   },
   {
    "duration": 15,
    "start_time": "2022-03-07T14:30:41.364Z"
   },
   {
    "duration": 14,
    "start_time": "2022-03-07T14:30:44.948Z"
   },
   {
    "duration": 6,
    "start_time": "2022-03-07T14:31:35.971Z"
   },
   {
    "duration": 17,
    "start_time": "2022-03-07T14:32:32.607Z"
   },
   {
    "duration": 270,
    "start_time": "2022-03-07T14:32:42.999Z"
   },
   {
    "duration": 20,
    "start_time": "2022-03-07T14:32:48.007Z"
   },
   {
    "duration": 1009,
    "start_time": "2022-03-07T14:37:49.116Z"
   },
   {
    "duration": 8,
    "start_time": "2022-03-07T14:40:59.093Z"
   },
   {
    "duration": 21,
    "start_time": "2022-03-07T14:41:13.364Z"
   },
   {
    "duration": 31,
    "start_time": "2022-03-07T14:41:23.501Z"
   },
   {
    "duration": 7,
    "start_time": "2022-03-08T12:39:26.589Z"
   },
   {
    "duration": 7,
    "start_time": "2022-03-08T12:39:38.004Z"
   },
   {
    "duration": 9,
    "start_time": "2022-03-08T12:39:48.651Z"
   },
   {
    "duration": 9,
    "start_time": "2022-03-08T12:40:00.267Z"
   },
   {
    "duration": 9,
    "start_time": "2022-03-08T12:40:07.685Z"
   },
   {
    "duration": 77,
    "start_time": "2022-03-08T12:42:55.620Z"
   },
   {
    "duration": 78,
    "start_time": "2022-03-08T12:43:01.674Z"
   },
   {
    "duration": 64,
    "start_time": "2022-03-08T12:43:03.332Z"
   },
   {
    "duration": 11,
    "start_time": "2022-03-08T12:43:10.642Z"
   },
   {
    "duration": 317,
    "start_time": "2022-03-08T12:43:26.863Z"
   },
   {
    "duration": 200,
    "start_time": "2022-03-08T12:43:31.886Z"
   },
   {
    "duration": 12,
    "start_time": "2022-03-08T12:43:39.636Z"
   },
   {
    "duration": 36,
    "start_time": "2022-03-08T12:44:08.365Z"
   },
   {
    "duration": 113,
    "start_time": "2022-03-08T12:48:52.738Z"
   },
   {
    "duration": 80,
    "start_time": "2022-03-08T12:50:07.356Z"
   },
   {
    "duration": 66,
    "start_time": "2022-03-08T12:50:49.254Z"
   },
   {
    "duration": 908,
    "start_time": "2022-03-08T12:50:54.252Z"
   },
   {
    "duration": 19,
    "start_time": "2022-03-08T12:50:55.163Z"
   },
   {
    "duration": 38,
    "start_time": "2022-03-08T12:50:55.184Z"
   },
   {
    "duration": 13,
    "start_time": "2022-03-08T12:50:55.224Z"
   },
   {
    "duration": 132,
    "start_time": "2022-03-08T12:50:55.239Z"
   },
   {
    "duration": 8,
    "start_time": "2022-03-08T12:50:55.382Z"
   },
   {
    "duration": 28,
    "start_time": "2022-03-08T12:50:55.393Z"
   },
   {
    "duration": 3,
    "start_time": "2022-03-08T12:50:55.424Z"
   },
   {
    "duration": 53,
    "start_time": "2022-03-08T12:50:55.430Z"
   },
   {
    "duration": 4,
    "start_time": "2022-03-08T12:50:55.485Z"
   },
   {
    "duration": 8,
    "start_time": "2022-03-08T12:50:55.491Z"
   },
   {
    "duration": 8,
    "start_time": "2022-03-08T12:50:55.502Z"
   },
   {
    "duration": 15,
    "start_time": "2022-03-08T12:50:55.513Z"
   },
   {
    "duration": 11,
    "start_time": "2022-03-08T12:50:55.530Z"
   },
   {
    "duration": 6,
    "start_time": "2022-03-08T12:50:55.583Z"
   },
   {
    "duration": 6,
    "start_time": "2022-03-08T12:50:55.592Z"
   },
   {
    "duration": 6,
    "start_time": "2022-03-08T12:50:55.600Z"
   },
   {
    "duration": 19,
    "start_time": "2022-03-08T12:50:55.608Z"
   },
   {
    "duration": 3,
    "start_time": "2022-03-08T12:50:55.630Z"
   },
   {
    "duration": 16,
    "start_time": "2022-03-08T12:50:55.683Z"
   },
   {
    "duration": 4,
    "start_time": "2022-03-08T12:50:55.701Z"
   },
   {
    "duration": 36,
    "start_time": "2022-03-08T12:50:55.708Z"
   },
   {
    "duration": 13,
    "start_time": "2022-03-08T12:50:55.783Z"
   },
   {
    "duration": 6,
    "start_time": "2022-03-08T12:50:55.799Z"
   },
   {
    "duration": 6,
    "start_time": "2022-03-08T12:50:55.807Z"
   },
   {
    "duration": 24,
    "start_time": "2022-03-08T12:50:55.815Z"
   },
   {
    "duration": 40,
    "start_time": "2022-03-08T12:50:55.842Z"
   },
   {
    "duration": 1086,
    "start_time": "2022-03-08T12:50:55.885Z"
   },
   {
    "duration": 3,
    "start_time": "2022-03-08T12:50:56.974Z"
   },
   {
    "duration": 12,
    "start_time": "2022-03-08T12:50:56.983Z"
   },
   {
    "duration": 3,
    "start_time": "2022-03-08T12:50:56.998Z"
   },
   {
    "duration": 8,
    "start_time": "2022-03-08T12:50:57.005Z"
   },
   {
    "duration": 68,
    "start_time": "2022-03-08T12:50:57.016Z"
   },
   {
    "duration": 124,
    "start_time": "2022-03-08T12:50:56.964Z"
   },
   {
    "duration": 413,
    "start_time": "2022-03-08T12:51:03.957Z"
   },
   {
    "duration": 421,
    "start_time": "2022-03-08T12:51:21.071Z"
   },
   {
    "duration": 280,
    "start_time": "2022-03-08T12:52:50.634Z"
   },
   {
    "duration": 323,
    "start_time": "2022-03-08T12:52:57.913Z"
   },
   {
    "duration": 569,
    "start_time": "2022-03-08T12:53:02.144Z"
   },
   {
    "duration": 421,
    "start_time": "2022-03-08T12:53:14.273Z"
   },
   {
    "duration": 710,
    "start_time": "2022-03-08T12:54:04.422Z"
   },
   {
    "duration": 426,
    "start_time": "2022-03-08T12:54:24.642Z"
   },
   {
    "duration": 488,
    "start_time": "2022-03-08T12:55:13.920Z"
   },
   {
    "duration": 431,
    "start_time": "2022-03-08T12:55:59.273Z"
   },
   {
    "duration": 616,
    "start_time": "2022-03-08T12:57:07.484Z"
   },
   {
    "duration": 418,
    "start_time": "2022-03-08T12:57:13.230Z"
   },
   {
    "duration": 426,
    "start_time": "2022-03-08T13:34:29.351Z"
   },
   {
    "duration": 417,
    "start_time": "2022-03-08T13:34:35.044Z"
   },
   {
    "duration": 428,
    "start_time": "2022-03-08T13:34:41.558Z"
   },
   {
    "duration": 498,
    "start_time": "2022-03-08T13:34:47.370Z"
   },
   {
    "duration": 428,
    "start_time": "2022-03-08T13:34:51.631Z"
   },
   {
    "duration": 438,
    "start_time": "2022-03-08T13:35:21.691Z"
   },
   {
    "duration": 313,
    "start_time": "2022-03-08T13:35:33.572Z"
   },
   {
    "duration": 30,
    "start_time": "2022-03-08T13:35:47.019Z"
   },
   {
    "duration": 297,
    "start_time": "2022-03-08T13:36:08.271Z"
   },
   {
    "duration": 7,
    "start_time": "2022-03-08T13:36:29.940Z"
   },
   {
    "duration": 5,
    "start_time": "2022-03-08T13:36:34.507Z"
   },
   {
    "duration": 303,
    "start_time": "2022-03-08T13:36:39.675Z"
   },
   {
    "duration": 558,
    "start_time": "2022-03-08T13:36:51.488Z"
   },
   {
    "duration": 632,
    "start_time": "2022-03-08T13:37:02.043Z"
   },
   {
    "duration": 519,
    "start_time": "2022-03-08T13:37:06.436Z"
   },
   {
    "duration": 520,
    "start_time": "2022-03-08T13:37:19.838Z"
   },
   {
    "duration": 527,
    "start_time": "2022-03-08T13:37:26.017Z"
   },
   {
    "duration": 523,
    "start_time": "2022-03-08T13:37:31.733Z"
   },
   {
    "duration": 551,
    "start_time": "2022-03-08T13:37:34.611Z"
   },
   {
    "duration": 656,
    "start_time": "2022-03-08T13:37:48.700Z"
   },
   {
    "duration": 303,
    "start_time": "2022-03-08T13:37:58.028Z"
   },
   {
    "duration": 455,
    "start_time": "2022-03-08T13:38:01.476Z"
   },
   {
    "duration": 406,
    "start_time": "2022-03-08T13:38:15.798Z"
   },
   {
    "duration": 6,
    "start_time": "2022-03-08T13:38:29.397Z"
   },
   {
    "duration": 407,
    "start_time": "2022-03-08T13:38:35.950Z"
   },
   {
    "duration": 535,
    "start_time": "2022-03-08T13:39:08.663Z"
   },
   {
    "duration": 517,
    "start_time": "2022-03-08T13:39:12.631Z"
   },
   {
    "duration": 506,
    "start_time": "2022-03-08T13:39:34.814Z"
   },
   {
    "duration": 339,
    "start_time": "2022-03-08T13:39:37.710Z"
   },
   {
    "duration": 388,
    "start_time": "2022-03-08T13:39:40.242Z"
   },
   {
    "duration": 564,
    "start_time": "2022-03-08T13:40:18.692Z"
   },
   {
    "duration": 308,
    "start_time": "2022-03-08T13:40:49.674Z"
   },
   {
    "duration": 416,
    "start_time": "2022-03-08T13:40:53.018Z"
   },
   {
    "duration": 497,
    "start_time": "2022-03-08T13:41:09.366Z"
   },
   {
    "duration": 612,
    "start_time": "2022-03-08T13:41:25.934Z"
   },
   {
    "duration": 654,
    "start_time": "2022-03-08T13:41:36.635Z"
   },
   {
    "duration": 24,
    "start_time": "2022-03-08T13:42:03.323Z"
   },
   {
    "duration": 421,
    "start_time": "2022-03-08T13:44:40.119Z"
   },
   {
    "duration": 427,
    "start_time": "2022-03-08T13:44:44.779Z"
   },
   {
    "duration": 423,
    "start_time": "2022-03-08T13:44:51.038Z"
   },
   {
    "duration": 434,
    "start_time": "2022-03-08T13:44:59.418Z"
   },
   {
    "duration": 424,
    "start_time": "2022-03-08T13:45:30.638Z"
   },
   {
    "duration": 450,
    "start_time": "2022-03-08T13:46:46.398Z"
   },
   {
    "duration": 453,
    "start_time": "2022-03-08T13:47:10.073Z"
   },
   {
    "duration": 416,
    "start_time": "2022-03-08T13:47:17.027Z"
   },
   {
    "duration": 425,
    "start_time": "2022-03-08T13:47:24.936Z"
   },
   {
    "duration": 679,
    "start_time": "2022-03-08T13:48:35.577Z"
   },
   {
    "duration": 441,
    "start_time": "2022-03-08T13:48:41.569Z"
   },
   {
    "duration": 291,
    "start_time": "2022-03-08T14:01:29.757Z"
   },
   {
    "duration": 296,
    "start_time": "2022-03-08T14:01:37.964Z"
   },
   {
    "duration": 358,
    "start_time": "2022-03-08T14:01:43.678Z"
   },
   {
    "duration": 337,
    "start_time": "2022-03-08T14:01:49.450Z"
   },
   {
    "duration": 326,
    "start_time": "2022-03-08T14:02:01.421Z"
   },
   {
    "duration": 299,
    "start_time": "2022-03-08T14:02:05.465Z"
   },
   {
    "duration": 285,
    "start_time": "2022-03-08T14:02:08.745Z"
   },
   {
    "duration": 300,
    "start_time": "2022-03-08T14:02:19.909Z"
   },
   {
    "duration": 333,
    "start_time": "2022-03-08T14:02:24.320Z"
   },
   {
    "duration": 317,
    "start_time": "2022-03-08T14:03:10.101Z"
   },
   {
    "duration": 334,
    "start_time": "2022-03-08T14:03:14.877Z"
   },
   {
    "duration": 345,
    "start_time": "2022-03-08T14:03:22.795Z"
   },
   {
    "duration": 329,
    "start_time": "2022-03-08T14:03:27.126Z"
   },
   {
    "duration": 333,
    "start_time": "2022-03-08T14:03:32.352Z"
   },
   {
    "duration": 331,
    "start_time": "2022-03-08T14:04:27.997Z"
   },
   {
    "duration": 336,
    "start_time": "2022-03-08T14:04:52.069Z"
   },
   {
    "duration": 363,
    "start_time": "2022-03-08T14:05:52.877Z"
   },
   {
    "duration": 307,
    "start_time": "2022-03-08T14:06:05.030Z"
   },
   {
    "duration": 293,
    "start_time": "2022-03-08T14:06:10.094Z"
   },
   {
    "duration": 264,
    "start_time": "2022-03-08T14:06:13.142Z"
   },
   {
    "duration": 288,
    "start_time": "2022-03-08T14:06:16.701Z"
   },
   {
    "duration": 312,
    "start_time": "2022-03-08T14:06:33.803Z"
   },
   {
    "duration": 340,
    "start_time": "2022-03-08T14:06:38.111Z"
   },
   {
    "duration": 299,
    "start_time": "2022-03-08T14:06:56.734Z"
   },
   {
    "duration": 1243,
    "start_time": "2022-03-08T14:07:00.845Z"
   },
   {
    "duration": 330,
    "start_time": "2022-03-08T14:07:38.453Z"
   },
   {
    "duration": 429,
    "start_time": "2022-03-08T14:35:00.033Z"
   },
   {
    "duration": 456,
    "start_time": "2022-03-08T14:35:09.683Z"
   },
   {
    "duration": 548,
    "start_time": "2022-03-08T14:35:20.213Z"
   },
   {
    "duration": 351,
    "start_time": "2022-03-08T14:35:26.724Z"
   },
   {
    "duration": 385,
    "start_time": "2022-03-08T14:35:42.223Z"
   },
   {
    "duration": 572,
    "start_time": "2022-03-08T14:35:49.082Z"
   },
   {
    "duration": 538,
    "start_time": "2022-03-08T14:36:02.292Z"
   },
   {
    "duration": 529,
    "start_time": "2022-03-08T14:36:09.020Z"
   },
   {
    "duration": 514,
    "start_time": "2022-03-08T14:36:17.468Z"
   },
   {
    "duration": 520,
    "start_time": "2022-03-08T14:37:05.244Z"
   },
   {
    "duration": 210,
    "start_time": "2022-03-08T14:39:10.002Z"
   },
   {
    "duration": 5,
    "start_time": "2022-03-08T14:39:35.289Z"
   },
   {
    "duration": 890,
    "start_time": "2022-03-08T14:39:44.594Z"
   },
   {
    "duration": 16,
    "start_time": "2022-03-08T14:39:45.486Z"
   },
   {
    "duration": 39,
    "start_time": "2022-03-08T14:39:45.506Z"
   },
   {
    "duration": 40,
    "start_time": "2022-03-08T14:39:45.548Z"
   },
   {
    "duration": 130,
    "start_time": "2022-03-08T14:39:45.592Z"
   },
   {
    "duration": 8,
    "start_time": "2022-03-08T14:39:45.725Z"
   },
   {
    "duration": 65,
    "start_time": "2022-03-08T14:39:45.736Z"
   },
   {
    "duration": 4,
    "start_time": "2022-03-08T14:39:45.807Z"
   },
   {
    "duration": 77,
    "start_time": "2022-03-08T14:39:45.815Z"
   },
   {
    "duration": 4,
    "start_time": "2022-03-08T14:39:45.895Z"
   },
   {
    "duration": 9,
    "start_time": "2022-03-08T14:39:45.902Z"
   },
   {
    "duration": 4,
    "start_time": "2022-03-08T14:39:45.913Z"
   },
   {
    "duration": 64,
    "start_time": "2022-03-08T14:39:45.920Z"
   },
   {
    "duration": 9,
    "start_time": "2022-03-08T14:39:45.986Z"
   },
   {
    "duration": 6,
    "start_time": "2022-03-08T14:39:45.997Z"
   },
   {
    "duration": 7,
    "start_time": "2022-03-08T14:39:46.006Z"
   },
   {
    "duration": 6,
    "start_time": "2022-03-08T14:39:46.015Z"
   },
   {
    "duration": 67,
    "start_time": "2022-03-08T14:39:46.024Z"
   },
   {
    "duration": 3,
    "start_time": "2022-03-08T14:39:46.093Z"
   },
   {
    "duration": 12,
    "start_time": "2022-03-08T14:39:46.099Z"
   },
   {
    "duration": 15,
    "start_time": "2022-03-08T14:39:46.113Z"
   },
   {
    "duration": 54,
    "start_time": "2022-03-08T14:39:46.130Z"
   },
   {
    "duration": 14,
    "start_time": "2022-03-08T14:39:46.189Z"
   },
   {
    "duration": 5,
    "start_time": "2022-03-08T14:39:46.206Z"
   },
   {
    "duration": 10,
    "start_time": "2022-03-08T14:39:46.213Z"
   },
   {
    "duration": 71,
    "start_time": "2022-03-08T14:39:46.226Z"
   },
   {
    "duration": 2,
    "start_time": "2022-03-08T14:39:46.299Z"
   },
   {
    "duration": 1206,
    "start_time": "2022-03-08T14:39:46.304Z"
   },
   {
    "duration": 3,
    "start_time": "2022-03-08T14:39:47.512Z"
   },
   {
    "duration": 24,
    "start_time": "2022-03-08T14:39:47.518Z"
   },
   {
    "duration": 14,
    "start_time": "2022-03-08T14:39:47.545Z"
   },
   {
    "duration": 13,
    "start_time": "2022-03-08T14:39:47.562Z"
   },
   {
    "duration": 500,
    "start_time": "2022-03-08T14:39:47.577Z"
   },
   {
    "duration": 3,
    "start_time": "2022-03-08T14:39:48.083Z"
   },
   {
    "duration": 465,
    "start_time": "2022-03-08T14:39:48.089Z"
   },
   {
    "duration": 4,
    "start_time": "2022-03-08T14:39:48.557Z"
   },
   {
    "duration": 380,
    "start_time": "2022-03-08T14:39:48.564Z"
   },
   {
    "duration": 3,
    "start_time": "2022-03-08T14:39:48.947Z"
   },
   {
    "duration": 351,
    "start_time": "2022-03-08T14:39:48.952Z"
   },
   {
    "duration": 4,
    "start_time": "2022-03-08T14:39:49.305Z"
   },
   {
    "duration": 6,
    "start_time": "2022-03-08T14:39:49.311Z"
   },
   {
    "duration": 555,
    "start_time": "2022-03-08T14:39:49.319Z"
   },
   {
    "duration": 8,
    "start_time": "2022-03-08T14:40:09.744Z"
   },
   {
    "duration": 332,
    "start_time": "2022-03-08T14:40:41.925Z"
   },
   {
    "duration": 6,
    "start_time": "2022-03-08T14:41:27.467Z"
   },
   {
    "duration": 22,
    "start_time": "2022-03-08T14:43:06.661Z"
   },
   {
    "duration": 918,
    "start_time": "2022-03-08T14:43:22.044Z"
   },
   {
    "duration": 24,
    "start_time": "2022-03-08T14:43:22.965Z"
   },
   {
    "duration": 43,
    "start_time": "2022-03-08T14:43:22.993Z"
   },
   {
    "duration": 49,
    "start_time": "2022-03-08T14:43:23.039Z"
   },
   {
    "duration": 126,
    "start_time": "2022-03-08T14:43:23.091Z"
   },
   {
    "duration": 10,
    "start_time": "2022-03-08T14:43:23.220Z"
   },
   {
    "duration": 59,
    "start_time": "2022-03-08T14:43:23.233Z"
   },
   {
    "duration": 3,
    "start_time": "2022-03-08T14:43:23.296Z"
   },
   {
    "duration": 15,
    "start_time": "2022-03-08T14:43:23.302Z"
   },
   {
    "duration": 3,
    "start_time": "2022-03-08T14:43:23.320Z"
   },
   {
    "duration": 10,
    "start_time": "2022-03-08T14:43:23.325Z"
   },
   {
    "duration": 46,
    "start_time": "2022-03-08T14:43:23.338Z"
   },
   {
    "duration": 15,
    "start_time": "2022-03-08T14:43:23.387Z"
   },
   {
    "duration": 8,
    "start_time": "2022-03-08T14:43:23.405Z"
   },
   {
    "duration": 5,
    "start_time": "2022-03-08T14:43:23.416Z"
   },
   {
    "duration": 13,
    "start_time": "2022-03-08T14:43:23.423Z"
   },
   {
    "duration": 44,
    "start_time": "2022-03-08T14:43:23.439Z"
   },
   {
    "duration": 23,
    "start_time": "2022-03-08T14:43:23.486Z"
   },
   {
    "duration": 3,
    "start_time": "2022-03-08T14:43:23.512Z"
   },
   {
    "duration": 17,
    "start_time": "2022-03-08T14:43:23.518Z"
   },
   {
    "duration": 3,
    "start_time": "2022-03-08T14:43:23.539Z"
   },
   {
    "duration": 54,
    "start_time": "2022-03-08T14:43:23.545Z"
   },
   {
    "duration": 7,
    "start_time": "2022-03-08T14:43:23.607Z"
   },
   {
    "duration": 6,
    "start_time": "2022-03-08T14:43:23.618Z"
   },
   {
    "duration": 61,
    "start_time": "2022-03-08T14:43:23.626Z"
   },
   {
    "duration": 3,
    "start_time": "2022-03-08T14:43:23.690Z"
   },
   {
    "duration": 1344,
    "start_time": "2022-03-08T14:43:23.696Z"
   },
   {
    "duration": 4,
    "start_time": "2022-03-08T14:43:25.042Z"
   },
   {
    "duration": 12,
    "start_time": "2022-03-08T14:43:25.048Z"
   },
   {
    "duration": 3,
    "start_time": "2022-03-08T14:43:25.083Z"
   },
   {
    "duration": 7,
    "start_time": "2022-03-08T14:43:25.088Z"
   },
   {
    "duration": 507,
    "start_time": "2022-03-08T14:43:25.098Z"
   },
   {
    "duration": 4,
    "start_time": "2022-03-08T14:43:25.609Z"
   },
   {
    "duration": 468,
    "start_time": "2022-03-08T14:43:25.616Z"
   },
   {
    "duration": 18,
    "start_time": "2022-03-08T14:43:26.086Z"
   },
   {
    "duration": 366,
    "start_time": "2022-03-08T14:43:26.107Z"
   },
   {
    "duration": 3,
    "start_time": "2022-03-08T14:43:26.482Z"
   },
   {
    "duration": 357,
    "start_time": "2022-03-08T14:43:26.488Z"
   },
   {
    "duration": 4,
    "start_time": "2022-03-08T14:43:26.847Z"
   },
   {
    "duration": 8,
    "start_time": "2022-03-08T14:43:26.853Z"
   },
   {
    "duration": 580,
    "start_time": "2022-03-08T14:43:26.883Z"
   },
   {
    "duration": 374,
    "start_time": "2022-03-08T14:43:48.860Z"
   },
   {
    "duration": 5,
    "start_time": "2022-03-08T14:44:19.801Z"
   },
   {
    "duration": 913,
    "start_time": "2022-03-08T14:44:38.236Z"
   },
   {
    "duration": 30,
    "start_time": "2022-03-08T14:44:39.152Z"
   },
   {
    "duration": 42,
    "start_time": "2022-03-08T14:44:39.188Z"
   },
   {
    "duration": 11,
    "start_time": "2022-03-08T14:44:39.233Z"
   },
   {
    "duration": 157,
    "start_time": "2022-03-08T14:44:39.246Z"
   },
   {
    "duration": 9,
    "start_time": "2022-03-08T14:44:39.406Z"
   },
   {
    "duration": 29,
    "start_time": "2022-03-08T14:44:39.419Z"
   },
   {
    "duration": 32,
    "start_time": "2022-03-08T14:44:39.451Z"
   },
   {
    "duration": 17,
    "start_time": "2022-03-08T14:44:39.485Z"
   },
   {
    "duration": 3,
    "start_time": "2022-03-08T14:44:39.504Z"
   },
   {
    "duration": 11,
    "start_time": "2022-03-08T14:44:39.510Z"
   },
   {
    "duration": 4,
    "start_time": "2022-03-08T14:44:39.523Z"
   },
   {
    "duration": 55,
    "start_time": "2022-03-08T14:44:39.529Z"
   },
   {
    "duration": 9,
    "start_time": "2022-03-08T14:44:39.587Z"
   },
   {
    "duration": 5,
    "start_time": "2022-03-08T14:44:39.598Z"
   },
   {
    "duration": 5,
    "start_time": "2022-03-08T14:44:39.606Z"
   },
   {
    "duration": 9,
    "start_time": "2022-03-08T14:44:39.613Z"
   },
   {
    "duration": 72,
    "start_time": "2022-03-08T14:44:39.625Z"
   },
   {
    "duration": 4,
    "start_time": "2022-03-08T14:44:39.699Z"
   },
   {
    "duration": 14,
    "start_time": "2022-03-08T14:44:39.706Z"
   },
   {
    "duration": 3,
    "start_time": "2022-03-08T14:44:39.723Z"
   },
   {
    "duration": 6,
    "start_time": "2022-03-08T14:44:39.781Z"
   },
   {
    "duration": 16,
    "start_time": "2022-03-08T14:44:39.790Z"
   },
   {
    "duration": 6,
    "start_time": "2022-03-08T14:44:39.808Z"
   },
   {
    "duration": 7,
    "start_time": "2022-03-08T14:44:39.816Z"
   },
   {
    "duration": 63,
    "start_time": "2022-03-08T14:44:39.826Z"
   },
   {
    "duration": 3,
    "start_time": "2022-03-08T14:44:39.892Z"
   },
   {
    "duration": 961,
    "start_time": "2022-03-08T14:44:39.898Z"
   },
   {
    "duration": 3,
    "start_time": "2022-03-08T14:44:40.861Z"
   },
   {
    "duration": 22,
    "start_time": "2022-03-08T14:44:40.867Z"
   },
   {
    "duration": 7,
    "start_time": "2022-03-08T14:44:40.891Z"
   },
   {
    "duration": 10,
    "start_time": "2022-03-08T14:44:40.900Z"
   },
   {
    "duration": 496,
    "start_time": "2022-03-08T14:44:40.912Z"
   },
   {
    "duration": 4,
    "start_time": "2022-03-08T14:44:41.410Z"
   },
   {
    "duration": 449,
    "start_time": "2022-03-08T14:44:41.417Z"
   },
   {
    "duration": 3,
    "start_time": "2022-03-08T14:44:41.869Z"
   },
   {
    "duration": 363,
    "start_time": "2022-03-08T14:44:41.882Z"
   },
   {
    "duration": 3,
    "start_time": "2022-03-08T14:44:42.247Z"
   },
   {
    "duration": 349,
    "start_time": "2022-03-08T14:44:42.253Z"
   },
   {
    "duration": 4,
    "start_time": "2022-03-08T14:44:42.604Z"
   },
   {
    "duration": 15,
    "start_time": "2022-03-08T14:44:42.610Z"
   },
   {
    "duration": 550,
    "start_time": "2022-03-08T14:44:42.628Z"
   },
   {
    "duration": 6,
    "start_time": "2022-03-08T14:46:10.029Z"
   },
   {
    "duration": 20,
    "start_time": "2022-03-08T14:46:11.293Z"
   },
   {
    "duration": 6,
    "start_time": "2022-03-08T14:46:11.587Z"
   },
   {
    "duration": 3,
    "start_time": "2022-03-08T14:46:11.745Z"
   },
   {
    "duration": 16,
    "start_time": "2022-03-08T14:46:11.902Z"
   },
   {
    "duration": 3,
    "start_time": "2022-03-08T14:46:12.070Z"
   },
   {
    "duration": 910,
    "start_time": "2022-03-08T14:46:12.223Z"
   },
   {
    "duration": 3,
    "start_time": "2022-03-08T14:46:13.136Z"
   },
   {
    "duration": 9,
    "start_time": "2022-03-08T14:46:13.142Z"
   },
   {
    "duration": 29,
    "start_time": "2022-03-08T14:46:13.153Z"
   },
   {
    "duration": 3,
    "start_time": "2022-03-08T14:46:13.185Z"
   },
   {
    "duration": 477,
    "start_time": "2022-03-08T14:46:13.196Z"
   },
   {
    "duration": 3,
    "start_time": "2022-03-08T14:46:13.683Z"
   },
   {
    "duration": 542,
    "start_time": "2022-03-08T14:46:13.689Z"
   },
   {
    "duration": 3,
    "start_time": "2022-03-08T14:46:14.234Z"
   },
   {
    "duration": 365,
    "start_time": "2022-03-08T14:46:14.239Z"
   },
   {
    "duration": 4,
    "start_time": "2022-03-08T14:46:14.607Z"
   },
   {
    "duration": 351,
    "start_time": "2022-03-08T14:46:14.613Z"
   },
   {
    "duration": 15,
    "start_time": "2022-03-08T14:46:14.967Z"
   },
   {
    "duration": 3,
    "start_time": "2022-03-08T14:46:14.984Z"
   },
   {
    "duration": 589,
    "start_time": "2022-03-08T14:46:14.989Z"
   },
   {
    "duration": 923,
    "start_time": "2022-03-08T14:46:43.206Z"
   },
   {
    "duration": 15,
    "start_time": "2022-03-08T14:46:44.132Z"
   },
   {
    "duration": 61,
    "start_time": "2022-03-08T14:46:44.153Z"
   },
   {
    "duration": 15,
    "start_time": "2022-03-08T14:46:44.217Z"
   },
   {
    "duration": 134,
    "start_time": "2022-03-08T14:46:44.234Z"
   },
   {
    "duration": 19,
    "start_time": "2022-03-08T14:46:44.370Z"
   },
   {
    "duration": 30,
    "start_time": "2022-03-08T14:46:44.393Z"
   },
   {
    "duration": 3,
    "start_time": "2022-03-08T14:46:44.427Z"
   },
   {
    "duration": 56,
    "start_time": "2022-03-08T14:46:44.433Z"
   },
   {
    "duration": 6,
    "start_time": "2022-03-08T14:46:44.492Z"
   },
   {
    "duration": 12,
    "start_time": "2022-03-08T14:46:44.501Z"
   },
   {
    "duration": 8,
    "start_time": "2022-03-08T14:46:44.515Z"
   },
   {
    "duration": 18,
    "start_time": "2022-03-08T14:46:44.525Z"
   },
   {
    "duration": 43,
    "start_time": "2022-03-08T14:46:44.546Z"
   },
   {
    "duration": 7,
    "start_time": "2022-03-08T14:46:44.593Z"
   },
   {
    "duration": 8,
    "start_time": "2022-03-08T14:46:44.603Z"
   },
   {
    "duration": 6,
    "start_time": "2022-03-08T14:46:44.614Z"
   },
   {
    "duration": 71,
    "start_time": "2022-03-08T14:46:44.623Z"
   },
   {
    "duration": 4,
    "start_time": "2022-03-08T14:46:44.696Z"
   },
   {
    "duration": 15,
    "start_time": "2022-03-08T14:46:44.702Z"
   },
   {
    "duration": 4,
    "start_time": "2022-03-08T14:46:44.719Z"
   },
   {
    "duration": 8,
    "start_time": "2022-03-08T14:46:44.728Z"
   },
   {
    "duration": 57,
    "start_time": "2022-03-08T14:46:44.739Z"
   },
   {
    "duration": 8,
    "start_time": "2022-03-08T14:46:44.799Z"
   },
   {
    "duration": 5,
    "start_time": "2022-03-08T14:46:44.810Z"
   },
   {
    "duration": 25,
    "start_time": "2022-03-08T14:46:44.817Z"
   },
   {
    "duration": 40,
    "start_time": "2022-03-08T14:46:44.844Z"
   },
   {
    "duration": 953,
    "start_time": "2022-03-08T14:46:44.887Z"
   },
   {
    "duration": 4,
    "start_time": "2022-03-08T14:46:45.842Z"
   },
   {
    "duration": 12,
    "start_time": "2022-03-08T14:46:45.849Z"
   },
   {
    "duration": 3,
    "start_time": "2022-03-08T14:46:45.883Z"
   },
   {
    "duration": 5,
    "start_time": "2022-03-08T14:46:45.890Z"
   },
   {
    "duration": 554,
    "start_time": "2022-03-08T14:46:45.898Z"
   },
   {
    "duration": 4,
    "start_time": "2022-03-08T14:46:46.455Z"
   },
   {
    "duration": 491,
    "start_time": "2022-03-08T14:46:46.462Z"
   },
   {
    "duration": 3,
    "start_time": "2022-03-08T14:46:46.955Z"
   },
   {
    "duration": 404,
    "start_time": "2022-03-08T14:46:46.961Z"
   },
   {
    "duration": 3,
    "start_time": "2022-03-08T14:46:47.367Z"
   },
   {
    "duration": 383,
    "start_time": "2022-03-08T14:46:47.373Z"
   },
   {
    "duration": 3,
    "start_time": "2022-03-08T14:46:47.758Z"
   },
   {
    "duration": 20,
    "start_time": "2022-03-08T14:46:47.764Z"
   },
   {
    "duration": 543,
    "start_time": "2022-03-08T14:46:47.786Z"
   },
   {
    "duration": 10,
    "start_time": "2022-03-08T14:47:13.755Z"
   },
   {
    "duration": 17,
    "start_time": "2022-03-08T14:47:34.436Z"
   },
   {
    "duration": 4,
    "start_time": "2022-03-08T14:47:35.422Z"
   },
   {
    "duration": 6,
    "start_time": "2022-03-08T14:47:35.647Z"
   },
   {
    "duration": 3,
    "start_time": "2022-03-08T14:47:35.840Z"
   },
   {
    "duration": 7,
    "start_time": "2022-03-08T14:47:36.002Z"
   },
   {
    "duration": 4,
    "start_time": "2022-03-08T14:47:36.164Z"
   },
   {
    "duration": 11,
    "start_time": "2022-03-08T14:47:36.328Z"
   },
   {
    "duration": 11,
    "start_time": "2022-03-08T14:47:36.488Z"
   },
   {
    "duration": 7,
    "start_time": "2022-03-08T14:47:36.682Z"
   },
   {
    "duration": 6,
    "start_time": "2022-03-08T14:47:36.859Z"
   },
   {
    "duration": 4,
    "start_time": "2022-03-08T14:47:37.031Z"
   },
   {
    "duration": 19,
    "start_time": "2022-03-08T14:47:37.195Z"
   },
   {
    "duration": 3,
    "start_time": "2022-03-08T14:47:37.359Z"
   },
   {
    "duration": 12,
    "start_time": "2022-03-08T14:47:37.544Z"
   },
   {
    "duration": 3,
    "start_time": "2022-03-08T14:47:37.747Z"
   },
   {
    "duration": 9,
    "start_time": "2022-03-08T14:47:37.979Z"
   },
   {
    "duration": 6,
    "start_time": "2022-03-08T14:47:42.828Z"
   },
   {
    "duration": 17,
    "start_time": "2022-03-08T14:47:43.709Z"
   },
   {
    "duration": 5,
    "start_time": "2022-03-08T14:47:44.063Z"
   },
   {
    "duration": 4,
    "start_time": "2022-03-08T14:47:44.130Z"
   },
   {
    "duration": 16,
    "start_time": "2022-03-08T14:47:44.261Z"
   },
   {
    "duration": 3,
    "start_time": "2022-03-08T14:47:44.353Z"
   },
   {
    "duration": 929,
    "start_time": "2022-03-08T14:47:44.462Z"
   },
   {
    "duration": 3,
    "start_time": "2022-03-08T14:47:45.394Z"
   },
   {
    "duration": 10,
    "start_time": "2022-03-08T14:47:45.400Z"
   },
   {
    "duration": 3,
    "start_time": "2022-03-08T14:47:45.413Z"
   },
   {
    "duration": 9,
    "start_time": "2022-03-08T14:47:45.418Z"
   },
   {
    "duration": 494,
    "start_time": "2022-03-08T14:47:45.429Z"
   },
   {
    "duration": 3,
    "start_time": "2022-03-08T14:47:45.925Z"
   },
   {
    "duration": 522,
    "start_time": "2022-03-08T14:47:45.931Z"
   },
   {
    "duration": 3,
    "start_time": "2022-03-08T14:47:46.456Z"
   },
   {
    "duration": 388,
    "start_time": "2022-03-08T14:47:46.462Z"
   },
   {
    "duration": 3,
    "start_time": "2022-03-08T14:47:46.853Z"
   },
   {
    "duration": 357,
    "start_time": "2022-03-08T14:47:46.859Z"
   },
   {
    "duration": 3,
    "start_time": "2022-03-08T14:47:47.220Z"
   },
   {
    "duration": 8,
    "start_time": "2022-03-08T14:47:47.225Z"
   },
   {
    "duration": 585,
    "start_time": "2022-03-08T14:47:47.236Z"
   },
   {
    "duration": 925,
    "start_time": "2022-03-08T14:47:54.575Z"
   },
   {
    "duration": 16,
    "start_time": "2022-03-08T14:47:55.502Z"
   },
   {
    "duration": 62,
    "start_time": "2022-03-08T14:47:55.521Z"
   },
   {
    "duration": 13,
    "start_time": "2022-03-08T14:47:55.586Z"
   },
   {
    "duration": 131,
    "start_time": "2022-03-08T14:47:55.601Z"
   },
   {
    "duration": 10,
    "start_time": "2022-03-08T14:47:55.734Z"
   },
   {
    "duration": 50,
    "start_time": "2022-03-08T14:47:55.747Z"
   },
   {
    "duration": 3,
    "start_time": "2022-03-08T14:47:55.801Z"
   },
   {
    "duration": 13,
    "start_time": "2022-03-08T14:47:55.807Z"
   },
   {
    "duration": 4,
    "start_time": "2022-03-08T14:47:55.823Z"
   },
   {
    "duration": 9,
    "start_time": "2022-03-08T14:47:55.829Z"
   },
   {
    "duration": 3,
    "start_time": "2022-03-08T14:47:55.840Z"
   },
   {
    "duration": 18,
    "start_time": "2022-03-08T14:47:55.883Z"
   },
   {
    "duration": 7,
    "start_time": "2022-03-08T14:47:55.903Z"
   },
   {
    "duration": 5,
    "start_time": "2022-03-08T14:47:55.912Z"
   },
   {
    "duration": 9,
    "start_time": "2022-03-08T14:47:55.920Z"
   },
   {
    "duration": 7,
    "start_time": "2022-03-08T14:47:55.932Z"
   },
   {
    "duration": 15,
    "start_time": "2022-03-08T14:47:55.983Z"
   },
   {
    "duration": 3,
    "start_time": "2022-03-08T14:47:56.001Z"
   },
   {
    "duration": 13,
    "start_time": "2022-03-08T14:47:56.006Z"
   },
   {
    "duration": 2,
    "start_time": "2022-03-08T14:47:56.022Z"
   },
   {
    "duration": 8,
    "start_time": "2022-03-08T14:47:56.027Z"
   },
   {
    "duration": 13,
    "start_time": "2022-03-08T14:47:56.081Z"
   },
   {
    "duration": 6,
    "start_time": "2022-03-08T14:47:56.097Z"
   },
   {
    "duration": 7,
    "start_time": "2022-03-08T14:47:56.105Z"
   },
   {
    "duration": 20,
    "start_time": "2022-03-08T14:47:56.114Z"
   },
   {
    "duration": 3,
    "start_time": "2022-03-08T14:47:56.136Z"
   },
   {
    "duration": 1329,
    "start_time": "2022-03-08T14:47:56.141Z"
   },
   {
    "duration": 3,
    "start_time": "2022-03-08T14:47:57.473Z"
   },
   {
    "duration": 15,
    "start_time": "2022-03-08T14:47:57.482Z"
   },
   {
    "duration": 31,
    "start_time": "2022-03-08T14:47:57.499Z"
   },
   {
    "duration": 26,
    "start_time": "2022-03-08T14:47:57.533Z"
   },
   {
    "duration": 502,
    "start_time": "2022-03-08T14:47:57.562Z"
   },
   {
    "duration": 15,
    "start_time": "2022-03-08T14:47:58.067Z"
   },
   {
    "duration": 457,
    "start_time": "2022-03-08T14:47:58.085Z"
   },
   {
    "duration": 3,
    "start_time": "2022-03-08T14:47:58.545Z"
   },
   {
    "duration": 419,
    "start_time": "2022-03-08T14:47:58.550Z"
   },
   {
    "duration": 11,
    "start_time": "2022-03-08T14:47:58.971Z"
   },
   {
    "duration": 353,
    "start_time": "2022-03-08T14:47:58.985Z"
   },
   {
    "duration": 4,
    "start_time": "2022-03-08T14:47:59.341Z"
   },
   {
    "duration": 16,
    "start_time": "2022-03-08T14:47:59.347Z"
   },
   {
    "duration": 572,
    "start_time": "2022-03-08T14:47:59.366Z"
   },
   {
    "duration": 3,
    "start_time": "2022-03-08T14:48:28.933Z"
   },
   {
    "duration": 13,
    "start_time": "2022-03-08T14:49:21.313Z"
   },
   {
    "duration": 8,
    "start_time": "2022-03-08T14:50:21.186Z"
   },
   {
    "duration": 134,
    "start_time": "2022-03-08T14:53:08.026Z"
   },
   {
    "duration": 3,
    "start_time": "2022-03-08T15:35:24.558Z"
   },
   {
    "duration": 1325,
    "start_time": "2022-03-08T15:37:00.992Z"
   },
   {
    "duration": 1593,
    "start_time": "2022-03-08T15:37:15.365Z"
   },
   {
    "duration": 1571,
    "start_time": "2022-03-08T15:37:24.592Z"
   },
   {
    "duration": 2132,
    "start_time": "2022-03-08T15:37:32.452Z"
   },
   {
    "duration": 1631,
    "start_time": "2022-03-08T15:37:36.738Z"
   },
   {
    "duration": 1718,
    "start_time": "2022-03-08T15:37:42.947Z"
   },
   {
    "duration": 1465,
    "start_time": "2022-03-08T15:37:48.976Z"
   },
   {
    "duration": 1442,
    "start_time": "2022-03-08T15:37:53.896Z"
   },
   {
    "duration": 1471,
    "start_time": "2022-03-08T15:37:59.056Z"
   },
   {
    "duration": 1563,
    "start_time": "2022-03-08T15:38:03.558Z"
   },
   {
    "duration": 1453,
    "start_time": "2022-03-08T15:38:29.175Z"
   },
   {
    "duration": 2411,
    "start_time": "2022-03-08T15:38:45.748Z"
   },
   {
    "duration": 5589,
    "start_time": "2022-03-08T16:58:43.348Z"
   },
   {
    "duration": 6292,
    "start_time": "2022-03-08T17:00:16.011Z"
   },
   {
    "duration": 5294,
    "start_time": "2022-03-08T17:06:03.307Z"
   },
   {
    "duration": 237,
    "start_time": "2022-03-08T17:41:39.847Z"
   },
   {
    "duration": 6,
    "start_time": "2022-03-08T17:43:20.927Z"
   },
   {
    "duration": 237,
    "start_time": "2022-03-08T17:45:51.920Z"
   },
   {
    "duration": 14,
    "start_time": "2022-03-08T17:46:32.360Z"
   },
   {
    "duration": 15,
    "start_time": "2022-03-08T17:46:40.983Z"
   },
   {
    "duration": 4,
    "start_time": "2022-03-08T17:46:41.720Z"
   },
   {
    "duration": 218,
    "start_time": "2022-03-08T17:46:42.028Z"
   },
   {
    "duration": 946,
    "start_time": "2022-03-08T17:46:46.738Z"
   },
   {
    "duration": 16,
    "start_time": "2022-03-08T17:46:47.687Z"
   },
   {
    "duration": 90,
    "start_time": "2022-03-08T17:46:47.706Z"
   },
   {
    "duration": 11,
    "start_time": "2022-03-08T17:46:47.799Z"
   },
   {
    "duration": 206,
    "start_time": "2022-03-08T17:46:47.813Z"
   },
   {
    "duration": 8,
    "start_time": "2022-03-08T17:46:48.022Z"
   },
   {
    "duration": 28,
    "start_time": "2022-03-08T17:46:48.083Z"
   },
   {
    "duration": 4,
    "start_time": "2022-03-08T17:46:48.116Z"
   },
   {
    "duration": 74,
    "start_time": "2022-03-08T17:46:48.124Z"
   },
   {
    "duration": 4,
    "start_time": "2022-03-08T17:46:48.201Z"
   },
   {
    "duration": 9,
    "start_time": "2022-03-08T17:46:48.208Z"
   },
   {
    "duration": 10,
    "start_time": "2022-03-08T17:46:48.220Z"
   },
   {
    "duration": 17,
    "start_time": "2022-03-08T17:46:48.281Z"
   },
   {
    "duration": 10,
    "start_time": "2022-03-08T17:46:48.302Z"
   },
   {
    "duration": 67,
    "start_time": "2022-03-08T17:46:48.315Z"
   },
   {
    "duration": 24,
    "start_time": "2022-03-08T17:46:48.386Z"
   },
   {
    "duration": 17,
    "start_time": "2022-03-08T17:46:48.413Z"
   },
   {
    "duration": 62,
    "start_time": "2022-03-08T17:46:48.433Z"
   },
   {
    "duration": 3,
    "start_time": "2022-03-08T17:46:48.499Z"
   },
   {
    "duration": 13,
    "start_time": "2022-03-08T17:46:48.505Z"
   },
   {
    "duration": 62,
    "start_time": "2022-03-08T17:46:48.520Z"
   },
   {
    "duration": 17,
    "start_time": "2022-03-08T17:46:48.585Z"
   },
   {
    "duration": 3,
    "start_time": "2022-03-08T17:46:48.608Z"
   },
   {
    "duration": 48,
    "start_time": "2022-03-08T17:46:48.614Z"
   },
   {
    "duration": 18,
    "start_time": "2022-03-08T17:46:48.665Z"
   },
   {
    "duration": 10,
    "start_time": "2022-03-08T17:46:48.685Z"
   },
   {
    "duration": 26,
    "start_time": "2022-03-08T17:46:48.698Z"
   },
   {
    "duration": 3,
    "start_time": "2022-03-08T17:46:48.727Z"
   },
   {
    "duration": 922,
    "start_time": "2022-03-08T17:46:48.732Z"
   },
   {
    "duration": 3,
    "start_time": "2022-03-08T17:46:49.656Z"
   },
   {
    "duration": 24,
    "start_time": "2022-03-08T17:46:49.662Z"
   },
   {
    "duration": 3,
    "start_time": "2022-03-08T17:46:49.688Z"
   },
   {
    "duration": 8,
    "start_time": "2022-03-08T17:46:49.693Z"
   },
   {
    "duration": 508,
    "start_time": "2022-03-08T17:46:49.703Z"
   },
   {
    "duration": 3,
    "start_time": "2022-03-08T17:46:50.213Z"
   },
   {
    "duration": 451,
    "start_time": "2022-03-08T17:46:50.218Z"
   },
   {
    "duration": 3,
    "start_time": "2022-03-08T17:46:50.671Z"
   },
   {
    "duration": 362,
    "start_time": "2022-03-08T17:46:50.683Z"
   },
   {
    "duration": 3,
    "start_time": "2022-03-08T17:46:51.047Z"
   },
   {
    "duration": 354,
    "start_time": "2022-03-08T17:46:51.053Z"
   },
   {
    "duration": 4,
    "start_time": "2022-03-08T17:46:51.409Z"
   },
   {
    "duration": 7,
    "start_time": "2022-03-08T17:46:51.415Z"
   },
   {
    "duration": 600,
    "start_time": "2022-03-08T17:46:51.424Z"
   },
   {
    "duration": 12,
    "start_time": "2022-03-08T17:46:52.026Z"
   },
   {
    "duration": 3,
    "start_time": "2022-03-08T17:46:52.040Z"
   },
   {
    "duration": 190,
    "start_time": "2022-03-08T17:46:52.045Z"
   },
   {
    "duration": 12,
    "start_time": "2022-03-08T17:46:52.238Z"
   },
   {
    "duration": 532,
    "start_time": "2022-03-08T17:47:07.246Z"
   },
   {
    "duration": 266,
    "start_time": "2022-03-08T17:48:23.391Z"
   },
   {
    "duration": 13,
    "start_time": "2022-03-08T17:48:24.589Z"
   },
   {
    "duration": 532,
    "start_time": "2022-03-08T17:48:26.666Z"
   },
   {
    "duration": 101,
    "start_time": "2022-03-08T17:50:00.020Z"
   },
   {
    "duration": 15,
    "start_time": "2022-03-08T17:50:02.841Z"
   },
   {
    "duration": 567,
    "start_time": "2022-03-08T17:50:03.881Z"
   },
   {
    "duration": 913,
    "start_time": "2022-03-08T17:50:14.301Z"
   },
   {
    "duration": 16,
    "start_time": "2022-03-08T17:50:15.217Z"
   },
   {
    "duration": 74,
    "start_time": "2022-03-08T17:50:15.239Z"
   },
   {
    "duration": 12,
    "start_time": "2022-03-08T17:50:15.316Z"
   },
   {
    "duration": 140,
    "start_time": "2022-03-08T17:50:15.330Z"
   },
   {
    "duration": 13,
    "start_time": "2022-03-08T17:50:15.483Z"
   },
   {
    "duration": 29,
    "start_time": "2022-03-08T17:50:15.503Z"
   },
   {
    "duration": 47,
    "start_time": "2022-03-08T17:50:15.536Z"
   },
   {
    "duration": 16,
    "start_time": "2022-03-08T17:50:15.586Z"
   },
   {
    "duration": 4,
    "start_time": "2022-03-08T17:50:15.605Z"
   },
   {
    "duration": 8,
    "start_time": "2022-03-08T17:50:15.612Z"
   },
   {
    "duration": 3,
    "start_time": "2022-03-08T17:50:15.623Z"
   },
   {
    "duration": 61,
    "start_time": "2022-03-08T17:50:15.629Z"
   },
   {
    "duration": 11,
    "start_time": "2022-03-08T17:50:15.693Z"
   },
   {
    "duration": 7,
    "start_time": "2022-03-08T17:50:15.707Z"
   },
   {
    "duration": 7,
    "start_time": "2022-03-08T17:50:15.716Z"
   },
   {
    "duration": 59,
    "start_time": "2022-03-08T17:50:15.725Z"
   },
   {
    "duration": 20,
    "start_time": "2022-03-08T17:50:15.787Z"
   },
   {
    "duration": 3,
    "start_time": "2022-03-08T17:50:15.810Z"
   },
   {
    "duration": 16,
    "start_time": "2022-03-08T17:50:15.815Z"
   },
   {
    "duration": 5,
    "start_time": "2022-03-08T17:50:15.833Z"
   },
   {
    "duration": 7,
    "start_time": "2022-03-08T17:50:15.886Z"
   },
   {
    "duration": 4,
    "start_time": "2022-03-08T17:50:15.898Z"
   },
   {
    "duration": 21,
    "start_time": "2022-03-08T17:50:15.904Z"
   },
   {
    "duration": 6,
    "start_time": "2022-03-08T17:50:15.927Z"
   },
   {
    "duration": 47,
    "start_time": "2022-03-08T17:50:15.935Z"
   },
   {
    "duration": 21,
    "start_time": "2022-03-08T17:50:15.985Z"
   },
   {
    "duration": 3,
    "start_time": "2022-03-08T17:50:16.008Z"
   },
   {
    "duration": 993,
    "start_time": "2022-03-08T17:50:16.014Z"
   },
   {
    "duration": 4,
    "start_time": "2022-03-08T17:50:17.009Z"
   },
   {
    "duration": 16,
    "start_time": "2022-03-08T17:50:17.015Z"
   },
   {
    "duration": 7,
    "start_time": "2022-03-08T17:50:17.033Z"
   },
   {
    "duration": 6,
    "start_time": "2022-03-08T17:50:17.042Z"
   },
   {
    "duration": 521,
    "start_time": "2022-03-08T17:50:17.050Z"
   },
   {
    "duration": 10,
    "start_time": "2022-03-08T17:50:17.573Z"
   },
   {
    "duration": 468,
    "start_time": "2022-03-08T17:50:17.585Z"
   },
   {
    "duration": 3,
    "start_time": "2022-03-08T17:50:18.056Z"
   },
   {
    "duration": 377,
    "start_time": "2022-03-08T17:50:18.062Z"
   },
   {
    "duration": 4,
    "start_time": "2022-03-08T17:50:18.442Z"
   },
   {
    "duration": 370,
    "start_time": "2022-03-08T17:50:18.449Z"
   },
   {
    "duration": 4,
    "start_time": "2022-03-08T17:50:18.822Z"
   },
   {
    "duration": 29,
    "start_time": "2022-03-08T17:50:18.829Z"
   },
   {
    "duration": 924,
    "start_time": "2022-03-08T17:50:18.861Z"
   },
   {
    "duration": 14,
    "start_time": "2022-03-08T17:50:19.788Z"
   },
   {
    "duration": 18,
    "start_time": "2022-03-08T17:50:19.805Z"
   },
   {
    "duration": 33,
    "start_time": "2022-03-08T17:50:19.825Z"
   },
   {
    "duration": 14,
    "start_time": "2022-03-08T17:50:19.882Z"
   },
   {
    "duration": 873,
    "start_time": "2022-03-08T17:50:19.899Z"
   },
   {
    "duration": 8,
    "start_time": "2022-03-08T17:57:03.277Z"
   },
   {
    "duration": 5,
    "start_time": "2022-03-08T18:06:34.826Z"
   },
   {
    "duration": 318,
    "start_time": "2022-03-08T18:11:20.945Z"
   },
   {
    "duration": 4,
    "start_time": "2022-03-08T18:11:53.485Z"
   },
   {
    "duration": 90,
    "start_time": "2022-03-08T18:12:05.672Z"
   },
   {
    "duration": 540,
    "start_time": "2022-03-08T18:12:34.268Z"
   },
   {
    "duration": 230,
    "start_time": "2022-03-08T18:14:31.451Z"
   },
   {
    "duration": 249,
    "start_time": "2022-03-08T18:14:33.838Z"
   },
   {
    "duration": 330,
    "start_time": "2022-03-08T18:14:44.556Z"
   },
   {
    "duration": 81,
    "start_time": "2022-03-08T18:15:41.744Z"
   },
   {
    "duration": 74,
    "start_time": "2022-03-08T18:15:45.217Z"
   },
   {
    "duration": 75,
    "start_time": "2022-03-08T18:16:21.701Z"
   },
   {
    "duration": 12,
    "start_time": "2022-03-08T18:16:25.890Z"
   },
   {
    "duration": 546,
    "start_time": "2022-03-08T18:16:27.219Z"
   },
   {
    "duration": 1289,
    "start_time": "2022-03-08T18:16:48.823Z"
   },
   {
    "duration": 1176,
    "start_time": "2022-03-08T18:17:02.500Z"
   },
   {
    "duration": 16,
    "start_time": "2022-03-08T18:17:03.679Z"
   },
   {
    "duration": 41,
    "start_time": "2022-03-08T18:17:03.701Z"
   },
   {
    "duration": 49,
    "start_time": "2022-03-08T18:17:03.745Z"
   },
   {
    "duration": 141,
    "start_time": "2022-03-08T18:17:03.797Z"
   },
   {
    "duration": 9,
    "start_time": "2022-03-08T18:17:03.940Z"
   },
   {
    "duration": 55,
    "start_time": "2022-03-08T18:17:03.951Z"
   },
   {
    "duration": 2,
    "start_time": "2022-03-08T18:17:04.011Z"
   },
   {
    "duration": 14,
    "start_time": "2022-03-08T18:17:04.016Z"
   },
   {
    "duration": 3,
    "start_time": "2022-03-08T18:17:04.033Z"
   },
   {
    "duration": 45,
    "start_time": "2022-03-08T18:17:04.038Z"
   },
   {
    "duration": 4,
    "start_time": "2022-03-08T18:17:04.085Z"
   },
   {
    "duration": 20,
    "start_time": "2022-03-08T18:17:04.091Z"
   },
   {
    "duration": 10,
    "start_time": "2022-03-08T18:17:04.113Z"
   },
   {
    "duration": 5,
    "start_time": "2022-03-08T18:17:04.125Z"
   },
   {
    "duration": 7,
    "start_time": "2022-03-08T18:17:04.132Z"
   },
   {
    "duration": 3,
    "start_time": "2022-03-08T18:17:04.182Z"
   },
   {
    "duration": 18,
    "start_time": "2022-03-08T18:17:04.187Z"
   },
   {
    "duration": 3,
    "start_time": "2022-03-08T18:17:04.207Z"
   },
   {
    "duration": 14,
    "start_time": "2022-03-08T18:17:04.212Z"
   },
   {
    "duration": 6,
    "start_time": "2022-03-08T18:17:04.228Z"
   },
   {
    "duration": 15,
    "start_time": "2022-03-08T18:17:04.236Z"
   },
   {
    "duration": 3,
    "start_time": "2022-03-08T18:17:04.283Z"
   },
   {
    "duration": 16,
    "start_time": "2022-03-08T18:17:04.288Z"
   },
   {
    "duration": 5,
    "start_time": "2022-03-08T18:17:04.307Z"
   },
   {
    "duration": 4,
    "start_time": "2022-03-08T18:17:04.318Z"
   },
   {
    "duration": 70,
    "start_time": "2022-03-08T18:17:04.325Z"
   },
   {
    "duration": 3,
    "start_time": "2022-03-08T18:17:04.397Z"
   },
   {
    "duration": 937,
    "start_time": "2022-03-08T18:17:04.403Z"
   },
   {
    "duration": 3,
    "start_time": "2022-03-08T18:17:05.343Z"
   },
   {
    "duration": 15,
    "start_time": "2022-03-08T18:17:05.349Z"
   },
   {
    "duration": 16,
    "start_time": "2022-03-08T18:17:05.367Z"
   },
   {
    "duration": 8,
    "start_time": "2022-03-08T18:17:05.386Z"
   },
   {
    "duration": 516,
    "start_time": "2022-03-08T18:17:05.396Z"
   },
   {
    "duration": 3,
    "start_time": "2022-03-08T18:17:05.915Z"
   },
   {
    "duration": 484,
    "start_time": "2022-03-08T18:17:05.920Z"
   },
   {
    "duration": 3,
    "start_time": "2022-03-08T18:17:06.407Z"
   },
   {
    "duration": 569,
    "start_time": "2022-03-08T18:17:06.413Z"
   },
   {
    "duration": 4,
    "start_time": "2022-03-08T18:17:06.986Z"
   },
   {
    "duration": 557,
    "start_time": "2022-03-08T18:17:06.994Z"
   },
   {
    "duration": 4,
    "start_time": "2022-03-08T18:17:07.554Z"
   },
   {
    "duration": 22,
    "start_time": "2022-03-08T18:17:07.562Z"
   },
   {
    "duration": 926,
    "start_time": "2022-03-08T18:17:07.587Z"
   },
   {
    "duration": 17,
    "start_time": "2022-03-08T18:17:08.516Z"
   },
   {
    "duration": 4,
    "start_time": "2022-03-08T18:17:08.536Z"
   },
   {
    "duration": 1451,
    "start_time": "2022-03-08T18:17:08.543Z"
   },
   {
    "duration": 12,
    "start_time": "2022-03-08T18:17:09.996Z"
   },
   {
    "duration": 753,
    "start_time": "2022-03-08T18:17:10.011Z"
   },
   {
    "duration": 10,
    "start_time": "2022-03-08T18:21:10.793Z"
   },
   {
    "duration": 858,
    "start_time": "2022-03-08T18:21:48.832Z"
   },
   {
    "duration": 16,
    "start_time": "2022-03-08T18:21:49.693Z"
   },
   {
    "duration": 40,
    "start_time": "2022-03-08T18:21:49.711Z"
   },
   {
    "duration": 13,
    "start_time": "2022-03-08T18:21:49.782Z"
   },
   {
    "duration": 131,
    "start_time": "2022-03-08T18:21:49.798Z"
   },
   {
    "duration": 14,
    "start_time": "2022-03-08T18:21:49.932Z"
   },
   {
    "duration": 47,
    "start_time": "2022-03-08T18:21:49.948Z"
   },
   {
    "duration": 3,
    "start_time": "2022-03-08T18:21:49.999Z"
   },
   {
    "duration": 17,
    "start_time": "2022-03-08T18:21:50.005Z"
   },
   {
    "duration": 5,
    "start_time": "2022-03-08T18:21:50.024Z"
   },
   {
    "duration": 12,
    "start_time": "2022-03-08T18:21:50.032Z"
   },
   {
    "duration": 38,
    "start_time": "2022-03-08T18:21:50.046Z"
   },
   {
    "duration": 16,
    "start_time": "2022-03-08T18:21:50.086Z"
   },
   {
    "duration": 8,
    "start_time": "2022-03-08T18:21:50.104Z"
   },
   {
    "duration": 6,
    "start_time": "2022-03-08T18:21:50.115Z"
   },
   {
    "duration": 9,
    "start_time": "2022-03-08T18:21:50.123Z"
   },
   {
    "duration": 49,
    "start_time": "2022-03-08T18:21:50.134Z"
   },
   {
    "duration": 18,
    "start_time": "2022-03-08T18:21:50.187Z"
   },
   {
    "duration": 4,
    "start_time": "2022-03-08T18:21:50.208Z"
   },
   {
    "duration": 17,
    "start_time": "2022-03-08T18:21:50.215Z"
   },
   {
    "duration": 3,
    "start_time": "2022-03-08T18:21:50.235Z"
   },
   {
    "duration": 8,
    "start_time": "2022-03-08T18:21:50.283Z"
   },
   {
    "duration": 3,
    "start_time": "2022-03-08T18:21:50.297Z"
   },
   {
    "duration": 18,
    "start_time": "2022-03-08T18:21:50.304Z"
   },
   {
    "duration": 6,
    "start_time": "2022-03-08T18:21:50.324Z"
   },
   {
    "duration": 4,
    "start_time": "2022-03-08T18:21:50.383Z"
   },
   {
    "duration": 24,
    "start_time": "2022-03-08T18:21:50.389Z"
   },
   {
    "duration": 3,
    "start_time": "2022-03-08T18:21:50.415Z"
   },
   {
    "duration": 1126,
    "start_time": "2022-03-08T18:21:50.421Z"
   },
   {
    "duration": 3,
    "start_time": "2022-03-08T18:21:51.550Z"
   },
   {
    "duration": 30,
    "start_time": "2022-03-08T18:21:51.557Z"
   },
   {
    "duration": 4,
    "start_time": "2022-03-08T18:21:51.589Z"
   },
   {
    "duration": 12,
    "start_time": "2022-03-08T18:21:51.596Z"
   },
   {
    "duration": 538,
    "start_time": "2022-03-08T18:21:51.610Z"
   },
   {
    "duration": 3,
    "start_time": "2022-03-08T18:21:52.150Z"
   },
   {
    "duration": 477,
    "start_time": "2022-03-08T18:21:52.155Z"
   },
   {
    "duration": 4,
    "start_time": "2022-03-08T18:21:52.635Z"
   },
   {
    "duration": 374,
    "start_time": "2022-03-08T18:21:52.641Z"
   },
   {
    "duration": 3,
    "start_time": "2022-03-08T18:21:53.018Z"
   },
   {
    "duration": 367,
    "start_time": "2022-03-08T18:21:53.024Z"
   },
   {
    "duration": 4,
    "start_time": "2022-03-08T18:21:53.394Z"
   },
   {
    "duration": 6,
    "start_time": "2022-03-08T18:21:53.400Z"
   },
   {
    "duration": 945,
    "start_time": "2022-03-08T18:21:53.409Z"
   },
   {
    "duration": 29,
    "start_time": "2022-03-08T18:21:54.356Z"
   },
   {
    "duration": 3,
    "start_time": "2022-03-08T18:21:54.388Z"
   },
   {
    "duration": 14,
    "start_time": "2022-03-08T18:21:54.394Z"
   },
   {
    "duration": 607,
    "start_time": "2022-03-08T18:21:54.410Z"
   },
   {
    "duration": 18,
    "start_time": "2022-03-08T18:24:40.955Z"
   },
   {
    "duration": 1120,
    "start_time": "2022-03-08T18:25:06.960Z"
   },
   {
    "duration": 17,
    "start_time": "2022-03-08T18:25:08.083Z"
   },
   {
    "duration": 42,
    "start_time": "2022-03-08T18:25:08.103Z"
   },
   {
    "duration": 41,
    "start_time": "2022-03-08T18:25:08.149Z"
   },
   {
    "duration": 128,
    "start_time": "2022-03-08T18:25:08.192Z"
   },
   {
    "duration": 9,
    "start_time": "2022-03-08T18:25:08.323Z"
   },
   {
    "duration": 48,
    "start_time": "2022-03-08T18:25:08.334Z"
   },
   {
    "duration": 3,
    "start_time": "2022-03-08T18:25:08.386Z"
   },
   {
    "duration": 18,
    "start_time": "2022-03-08T18:25:08.391Z"
   },
   {
    "duration": 2,
    "start_time": "2022-03-08T18:25:08.412Z"
   },
   {
    "duration": 8,
    "start_time": "2022-03-08T18:25:08.417Z"
   },
   {
    "duration": 3,
    "start_time": "2022-03-08T18:25:08.427Z"
   },
   {
    "duration": 49,
    "start_time": "2022-03-08T18:25:08.433Z"
   },
   {
    "duration": 9,
    "start_time": "2022-03-08T18:25:08.484Z"
   },
   {
    "duration": 9,
    "start_time": "2022-03-08T18:25:08.495Z"
   },
   {
    "duration": 10,
    "start_time": "2022-03-08T18:25:08.506Z"
   },
   {
    "duration": 6,
    "start_time": "2022-03-08T18:25:08.518Z"
   },
   {
    "duration": 60,
    "start_time": "2022-03-08T18:25:08.527Z"
   },
   {
    "duration": 2,
    "start_time": "2022-03-08T18:25:08.590Z"
   },
   {
    "duration": 13,
    "start_time": "2022-03-08T18:25:08.595Z"
   },
   {
    "duration": 2,
    "start_time": "2022-03-08T18:25:08.611Z"
   },
   {
    "duration": 16,
    "start_time": "2022-03-08T18:25:08.616Z"
   },
   {
    "duration": 47,
    "start_time": "2022-03-08T18:25:08.637Z"
   },
   {
    "duration": 6,
    "start_time": "2022-03-08T18:25:08.687Z"
   },
   {
    "duration": 19,
    "start_time": "2022-03-08T18:25:08.696Z"
   },
   {
    "duration": 3,
    "start_time": "2022-03-08T18:25:08.718Z"
   },
   {
    "duration": 961,
    "start_time": "2022-03-08T18:25:08.724Z"
   },
   {
    "duration": 3,
    "start_time": "2022-03-08T18:25:09.688Z"
   },
   {
    "duration": 22,
    "start_time": "2022-03-08T18:25:09.694Z"
   },
   {
    "duration": 4,
    "start_time": "2022-03-08T18:25:09.718Z"
   },
   {
    "duration": 8,
    "start_time": "2022-03-08T18:25:09.724Z"
   },
   {
    "duration": 535,
    "start_time": "2022-03-08T18:25:09.734Z"
   },
   {
    "duration": 12,
    "start_time": "2022-03-08T18:25:10.271Z"
   },
   {
    "duration": 464,
    "start_time": "2022-03-08T18:25:10.285Z"
   },
   {
    "duration": 4,
    "start_time": "2022-03-08T18:25:10.752Z"
   },
   {
    "duration": 649,
    "start_time": "2022-03-08T18:25:10.759Z"
   },
   {
    "duration": 4,
    "start_time": "2022-03-08T18:25:11.411Z"
   },
   {
    "duration": 612,
    "start_time": "2022-03-08T18:25:11.417Z"
   },
   {
    "duration": 3,
    "start_time": "2022-03-08T18:25:12.032Z"
   },
   {
    "duration": 8,
    "start_time": "2022-03-08T18:25:12.037Z"
   },
   {
    "duration": 571,
    "start_time": "2022-03-08T18:25:12.048Z"
   },
   {
    "duration": 12,
    "start_time": "2022-03-08T18:25:12.621Z"
   },
   {
    "duration": 3,
    "start_time": "2022-03-08T18:25:12.636Z"
   },
   {
    "duration": 51,
    "start_time": "2022-03-08T18:25:12.642Z"
   },
   {
    "duration": 591,
    "start_time": "2022-03-08T18:25:12.696Z"
   },
   {
    "duration": 1293,
    "start_time": "2022-03-08T18:26:08.714Z"
   },
   {
    "duration": 11,
    "start_time": "2022-03-08T18:29:20.738Z"
   },
   {
    "duration": 9,
    "start_time": "2022-03-08T18:29:25.507Z"
   },
   {
    "duration": 12,
    "start_time": "2022-03-08T18:29:29.490Z"
   },
   {
    "duration": 1230,
    "start_time": "2022-03-08T18:30:22.087Z"
   },
   {
    "duration": 1265,
    "start_time": "2022-03-08T18:30:30.555Z"
   },
   {
    "duration": 1278,
    "start_time": "2022-03-08T18:30:40.929Z"
   },
   {
    "duration": 940,
    "start_time": "2022-03-08T18:32:17.748Z"
   },
   {
    "duration": 18,
    "start_time": "2022-03-08T18:32:18.690Z"
   },
   {
    "duration": 70,
    "start_time": "2022-03-08T18:32:18.712Z"
   },
   {
    "duration": 12,
    "start_time": "2022-03-08T18:32:18.786Z"
   },
   {
    "duration": 132,
    "start_time": "2022-03-08T18:32:18.801Z"
   },
   {
    "duration": 10,
    "start_time": "2022-03-08T18:32:18.936Z"
   },
   {
    "duration": 6288,
    "start_time": "2022-03-08T18:32:18.948Z"
   },
   {
    "duration": 352,
    "start_time": "2022-03-08T18:32:24.889Z"
   },
   {
    "duration": 350,
    "start_time": "2022-03-08T18:32:24.893Z"
   },
   {
    "duration": 349,
    "start_time": "2022-03-08T18:32:24.896Z"
   },
   {
    "duration": 349,
    "start_time": "2022-03-08T18:32:24.899Z"
   },
   {
    "duration": 346,
    "start_time": "2022-03-08T18:32:24.903Z"
   },
   {
    "duration": 346,
    "start_time": "2022-03-08T18:32:24.905Z"
   },
   {
    "duration": 345,
    "start_time": "2022-03-08T18:32:24.907Z"
   },
   {
    "duration": 334,
    "start_time": "2022-03-08T18:32:24.920Z"
   },
   {
    "duration": 333,
    "start_time": "2022-03-08T18:32:24.923Z"
   },
   {
    "duration": 333,
    "start_time": "2022-03-08T18:32:24.924Z"
   },
   {
    "duration": 332,
    "start_time": "2022-03-08T18:32:24.926Z"
   },
   {
    "duration": 333,
    "start_time": "2022-03-08T18:32:24.927Z"
   },
   {
    "duration": 333,
    "start_time": "2022-03-08T18:32:24.928Z"
   },
   {
    "duration": 333,
    "start_time": "2022-03-08T18:32:24.930Z"
   },
   {
    "duration": 332,
    "start_time": "2022-03-08T18:32:24.932Z"
   },
   {
    "duration": 333,
    "start_time": "2022-03-08T18:32:24.933Z"
   },
   {
    "duration": 334,
    "start_time": "2022-03-08T18:32:24.934Z"
   },
   {
    "duration": 333,
    "start_time": "2022-03-08T18:32:24.936Z"
   },
   {
    "duration": 333,
    "start_time": "2022-03-08T18:32:24.937Z"
   },
   {
    "duration": 334,
    "start_time": "2022-03-08T18:32:24.938Z"
   },
   {
    "duration": 333,
    "start_time": "2022-03-08T18:32:24.940Z"
   },
   {
    "duration": 334,
    "start_time": "2022-03-08T18:32:24.941Z"
   },
   {
    "duration": 334,
    "start_time": "2022-03-08T18:32:24.943Z"
   },
   {
    "duration": 335,
    "start_time": "2022-03-08T18:32:24.944Z"
   },
   {
    "duration": 334,
    "start_time": "2022-03-08T18:32:24.946Z"
   },
   {
    "duration": 335,
    "start_time": "2022-03-08T18:32:24.947Z"
   },
   {
    "duration": 328,
    "start_time": "2022-03-08T18:32:24.955Z"
   },
   {
    "duration": 329,
    "start_time": "2022-03-08T18:32:24.956Z"
   },
   {
    "duration": 325,
    "start_time": "2022-03-08T18:32:24.962Z"
   },
   {
    "duration": 325,
    "start_time": "2022-03-08T18:32:24.963Z"
   },
   {
    "duration": 329,
    "start_time": "2022-03-08T18:32:24.965Z"
   },
   {
    "duration": 329,
    "start_time": "2022-03-08T18:32:24.966Z"
   },
   {
    "duration": 322,
    "start_time": "2022-03-08T18:32:24.975Z"
   },
   {
    "duration": 323,
    "start_time": "2022-03-08T18:32:24.976Z"
   },
   {
    "duration": 322,
    "start_time": "2022-03-08T18:32:24.978Z"
   },
   {
    "duration": 321,
    "start_time": "2022-03-08T18:32:24.980Z"
   },
   {
    "duration": 318,
    "start_time": "2022-03-08T18:32:24.984Z"
   },
   {
    "duration": 312,
    "start_time": "2022-03-08T18:32:24.992Z"
   },
   {
    "duration": 374,
    "start_time": "2022-03-08T18:32:40.374Z"
   },
   {
    "duration": 4,
    "start_time": "2022-03-08T18:32:41.485Z"
   },
   {
    "duration": 513,
    "start_time": "2022-03-08T18:32:41.759Z"
   },
   {
    "duration": 7,
    "start_time": "2022-03-08T18:32:42.275Z"
   },
   {
    "duration": 3,
    "start_time": "2022-03-08T18:32:42.286Z"
   },
   {
    "duration": 669,
    "start_time": "2022-03-08T18:32:42.373Z"
   },
   {
    "duration": 14,
    "start_time": "2022-03-08T18:32:44.083Z"
   },
   {
    "duration": 4,
    "start_time": "2022-03-08T18:32:44.277Z"
   },
   {
    "duration": 576,
    "start_time": "2022-03-08T18:32:44.447Z"
   },
   {
    "duration": 1384,
    "start_time": "2022-03-08T18:32:45.026Z"
   },
   {
    "duration": 269,
    "start_time": "2022-03-08T18:33:26.196Z"
   },
   {
    "duration": 1126,
    "start_time": "2022-03-08T18:33:36.296Z"
   },
   {
    "duration": 22,
    "start_time": "2022-03-08T18:33:37.426Z"
   },
   {
    "duration": 78,
    "start_time": "2022-03-08T18:33:37.452Z"
   },
   {
    "duration": 17,
    "start_time": "2022-03-08T18:33:37.535Z"
   },
   {
    "duration": 134,
    "start_time": "2022-03-08T18:33:37.584Z"
   },
   {
    "duration": 10,
    "start_time": "2022-03-08T18:33:37.720Z"
   },
   {
    "duration": 416,
    "start_time": "2022-03-08T18:33:37.733Z"
   },
   {
    "duration": 373,
    "start_time": "2022-03-08T18:33:37.784Z"
   },
   {
    "duration": 372,
    "start_time": "2022-03-08T18:33:37.787Z"
   },
   {
    "duration": 369,
    "start_time": "2022-03-08T18:33:37.792Z"
   },
   {
    "duration": 369,
    "start_time": "2022-03-08T18:33:37.794Z"
   },
   {
    "duration": 367,
    "start_time": "2022-03-08T18:33:37.797Z"
   },
   {
    "duration": 367,
    "start_time": "2022-03-08T18:33:37.799Z"
   },
   {
    "duration": 367,
    "start_time": "2022-03-08T18:33:37.801Z"
   },
   {
    "duration": 366,
    "start_time": "2022-03-08T18:33:37.804Z"
   },
   {
    "duration": 366,
    "start_time": "2022-03-08T18:33:37.806Z"
   },
   {
    "duration": 367,
    "start_time": "2022-03-08T18:33:37.807Z"
   },
   {
    "duration": 367,
    "start_time": "2022-03-08T18:33:37.809Z"
   },
   {
    "duration": 369,
    "start_time": "2022-03-08T18:33:37.810Z"
   },
   {
    "duration": 368,
    "start_time": "2022-03-08T18:33:37.812Z"
   },
   {
    "duration": 369,
    "start_time": "2022-03-08T18:33:37.813Z"
   },
   {
    "duration": 365,
    "start_time": "2022-03-08T18:33:37.819Z"
   },
   {
    "duration": 365,
    "start_time": "2022-03-08T18:33:37.821Z"
   },
   {
    "duration": 366,
    "start_time": "2022-03-08T18:33:37.822Z"
   },
   {
    "duration": 366,
    "start_time": "2022-03-08T18:33:37.824Z"
   },
   {
    "duration": 366,
    "start_time": "2022-03-08T18:33:37.825Z"
   },
   {
    "duration": 367,
    "start_time": "2022-03-08T18:33:37.827Z"
   },
   {
    "duration": 367,
    "start_time": "2022-03-08T18:33:37.828Z"
   },
   {
    "duration": 333,
    "start_time": "2022-03-08T18:33:37.864Z"
   },
   {
    "duration": 331,
    "start_time": "2022-03-08T18:33:37.868Z"
   },
   {
    "duration": 324,
    "start_time": "2022-03-08T18:33:37.876Z"
   },
   {
    "duration": 324,
    "start_time": "2022-03-08T18:33:37.879Z"
   },
   {
    "duration": 322,
    "start_time": "2022-03-08T18:33:37.882Z"
   },
   {
    "duration": 321,
    "start_time": "2022-03-08T18:33:37.885Z"
   },
   {
    "duration": 321,
    "start_time": "2022-03-08T18:33:37.887Z"
   },
   {
    "duration": 306,
    "start_time": "2022-03-08T18:33:37.904Z"
   },
   {
    "duration": 307,
    "start_time": "2022-03-08T18:33:37.905Z"
   },
   {
    "duration": 307,
    "start_time": "2022-03-08T18:33:37.907Z"
   },
   {
    "duration": 296,
    "start_time": "2022-03-08T18:33:37.920Z"
   },
   {
    "duration": 297,
    "start_time": "2022-03-08T18:33:37.921Z"
   },
   {
    "duration": 297,
    "start_time": "2022-03-08T18:33:37.923Z"
   },
   {
    "duration": 297,
    "start_time": "2022-03-08T18:33:37.925Z"
   },
   {
    "duration": 298,
    "start_time": "2022-03-08T18:33:37.926Z"
   },
   {
    "duration": 346,
    "start_time": "2022-03-08T18:33:37.936Z"
   },
   {
    "duration": 347,
    "start_time": "2022-03-08T18:33:37.938Z"
   },
   {
    "duration": 1297,
    "start_time": "2022-03-08T18:33:43.000Z"
   },
   {
    "duration": 93,
    "start_time": "2022-03-08T18:33:49.853Z"
   },
   {
    "duration": 17,
    "start_time": "2022-03-08T18:33:50.010Z"
   },
   {
    "duration": 40,
    "start_time": "2022-03-08T18:33:50.155Z"
   },
   {
    "duration": 18,
    "start_time": "2022-03-08T18:33:50.285Z"
   },
   {
    "duration": 187,
    "start_time": "2022-03-08T18:33:50.412Z"
   },
   {
    "duration": 10,
    "start_time": "2022-03-08T18:33:50.627Z"
   },
   {
    "duration": 265,
    "start_time": "2022-03-08T18:33:51.200Z"
   },
   {
    "duration": 362,
    "start_time": "2022-03-08T18:33:51.106Z"
   },
   {
    "duration": 14,
    "start_time": "2022-03-08T18:33:51.525Z"
   },
   {
    "duration": 4,
    "start_time": "2022-03-08T18:33:51.690Z"
   },
   {
    "duration": 6,
    "start_time": "2022-03-08T18:33:51.859Z"
   },
   {
    "duration": 295,
    "start_time": "2022-03-08T18:34:38.867Z"
   },
   {
    "duration": 19,
    "start_time": "2022-03-08T18:35:40.375Z"
   },
   {
    "duration": 3,
    "start_time": "2022-03-08T18:35:41.589Z"
   },
   {
    "duration": 6,
    "start_time": "2022-03-08T18:35:41.858Z"
   },
   {
    "duration": 3,
    "start_time": "2022-03-08T18:35:42.017Z"
   },
   {
    "duration": 5,
    "start_time": "2022-03-08T18:35:42.163Z"
   },
   {
    "duration": 3,
    "start_time": "2022-03-08T18:35:42.290Z"
   },
   {
    "duration": 9,
    "start_time": "2022-03-08T18:35:42.412Z"
   },
   {
    "duration": 8,
    "start_time": "2022-03-08T18:35:42.529Z"
   },
   {
    "duration": 6,
    "start_time": "2022-03-08T18:35:42.632Z"
   },
   {
    "duration": 6,
    "start_time": "2022-03-08T18:35:42.762Z"
   },
   {
    "duration": 4,
    "start_time": "2022-03-08T18:35:42.894Z"
   },
   {
    "duration": 16,
    "start_time": "2022-03-08T18:35:43.007Z"
   },
   {
    "duration": 3,
    "start_time": "2022-03-08T18:35:43.146Z"
   },
   {
    "duration": 10,
    "start_time": "2022-03-08T18:35:43.280Z"
   },
   {
    "duration": 3,
    "start_time": "2022-03-08T18:35:43.406Z"
   },
   {
    "duration": 15,
    "start_time": "2022-03-08T18:35:44.504Z"
   },
   {
    "duration": 6,
    "start_time": "2022-03-08T18:35:44.828Z"
   },
   {
    "duration": 3,
    "start_time": "2022-03-08T18:35:44.973Z"
   },
   {
    "duration": 17,
    "start_time": "2022-03-08T18:35:45.134Z"
   },
   {
    "duration": 3,
    "start_time": "2022-03-08T18:35:45.298Z"
   },
   {
    "duration": 975,
    "start_time": "2022-03-08T18:35:45.468Z"
   },
   {
    "duration": 3,
    "start_time": "2022-03-08T18:35:46.445Z"
   },
   {
    "duration": 32,
    "start_time": "2022-03-08T18:35:46.451Z"
   },
   {
    "duration": 3,
    "start_time": "2022-03-08T18:35:46.486Z"
   },
   {
    "duration": 3,
    "start_time": "2022-03-08T18:35:47.417Z"
   },
   {
    "duration": 468,
    "start_time": "2022-03-08T18:35:47.620Z"
   },
   {
    "duration": 3,
    "start_time": "2022-03-08T18:35:48.091Z"
   },
   {
    "duration": 476,
    "start_time": "2022-03-08T18:35:48.098Z"
   },
   {
    "duration": 6,
    "start_time": "2022-03-08T18:35:48.577Z"
   },
   {
    "duration": 367,
    "start_time": "2022-03-08T18:35:48.585Z"
   },
   {
    "duration": 3,
    "start_time": "2022-03-08T18:35:48.955Z"
   },
   {
    "duration": 351,
    "start_time": "2022-03-08T18:35:48.960Z"
   },
   {
    "duration": 3,
    "start_time": "2022-03-08T18:35:49.314Z"
   },
   {
    "duration": 4,
    "start_time": "2022-03-08T18:35:49.321Z"
   },
   {
    "duration": 572,
    "start_time": "2022-03-08T18:35:49.328Z"
   },
   {
    "duration": 12,
    "start_time": "2022-03-08T18:35:49.902Z"
   },
   {
    "duration": 4,
    "start_time": "2022-03-08T18:35:49.917Z"
   },
   {
    "duration": 623,
    "start_time": "2022-03-08T18:35:49.923Z"
   },
   {
    "duration": 1213,
    "start_time": "2022-03-08T18:35:50.548Z"
   },
   {
    "duration": 1233,
    "start_time": "2022-03-08T18:36:14.392Z"
   },
   {
    "duration": 570,
    "start_time": "2022-03-08T18:37:01.462Z"
   },
   {
    "duration": 580,
    "start_time": "2022-03-08T18:37:09.436Z"
   },
   {
    "duration": 627,
    "start_time": "2022-03-08T18:38:40.792Z"
   },
   {
    "duration": 13,
    "start_time": "2022-03-08T18:38:55.479Z"
   },
   {
    "duration": 16,
    "start_time": "2022-03-08T18:39:11.888Z"
   },
   {
    "duration": 66,
    "start_time": "2022-03-08T18:40:27.932Z"
   },
   {
    "duration": 72,
    "start_time": "2022-03-08T18:40:35.958Z"
   },
   {
    "duration": 74,
    "start_time": "2022-03-08T18:40:48.957Z"
   },
   {
    "duration": 570,
    "start_time": "2022-03-08T18:41:17.260Z"
   },
   {
    "duration": 12,
    "start_time": "2022-03-08T18:41:19.408Z"
   },
   {
    "duration": 4,
    "start_time": "2022-03-08T18:41:30.677Z"
   },
   {
    "duration": 534,
    "start_time": "2022-03-08T18:41:32.812Z"
   },
   {
    "duration": 11,
    "start_time": "2022-03-08T18:41:33.593Z"
   },
   {
    "duration": 11,
    "start_time": "2022-03-08T18:43:38.386Z"
   },
   {
    "duration": 218,
    "start_time": "2022-03-08T18:43:48.044Z"
   },
   {
    "duration": 182,
    "start_time": "2022-03-08T18:43:51.020Z"
   },
   {
    "duration": 8,
    "start_time": "2022-03-08T18:44:48.071Z"
   },
   {
    "duration": 5,
    "start_time": "2022-03-08T18:48:32.862Z"
   },
   {
    "duration": 70,
    "start_time": "2022-03-08T18:49:04.031Z"
   },
   {
    "duration": 390,
    "start_time": "2022-03-08T18:49:09.997Z"
   },
   {
    "duration": 7,
    "start_time": "2022-03-08T18:49:33.959Z"
   },
   {
    "duration": 551,
    "start_time": "2022-03-08T18:49:42.086Z"
   },
   {
    "duration": 909,
    "start_time": "2022-03-08T18:50:12.244Z"
   },
   {
    "duration": 26,
    "start_time": "2022-03-08T18:50:13.156Z"
   },
   {
    "duration": 41,
    "start_time": "2022-03-08T18:50:13.185Z"
   },
   {
    "duration": 11,
    "start_time": "2022-03-08T18:50:13.229Z"
   },
   {
    "duration": 140,
    "start_time": "2022-03-08T18:50:13.243Z"
   },
   {
    "duration": 13,
    "start_time": "2022-03-08T18:50:13.387Z"
   },
   {
    "duration": 20,
    "start_time": "2022-03-08T18:50:13.402Z"
   },
   {
    "duration": 3,
    "start_time": "2022-03-08T18:50:13.426Z"
   },
   {
    "duration": 57,
    "start_time": "2022-03-08T18:50:13.432Z"
   },
   {
    "duration": 3,
    "start_time": "2022-03-08T18:50:13.492Z"
   },
   {
    "duration": 12,
    "start_time": "2022-03-08T18:50:13.497Z"
   },
   {
    "duration": 9,
    "start_time": "2022-03-08T18:50:13.511Z"
   },
   {
    "duration": 20,
    "start_time": "2022-03-08T18:50:13.522Z"
   },
   {
    "duration": 41,
    "start_time": "2022-03-08T18:50:13.545Z"
   },
   {
    "duration": 4,
    "start_time": "2022-03-08T18:50:13.589Z"
   },
   {
    "duration": 12,
    "start_time": "2022-03-08T18:50:13.595Z"
   },
   {
    "duration": 4,
    "start_time": "2022-03-08T18:50:13.610Z"
   },
   {
    "duration": 24,
    "start_time": "2022-03-08T18:50:13.617Z"
   },
   {
    "duration": 3,
    "start_time": "2022-03-08T18:50:13.643Z"
   },
   {
    "duration": 41,
    "start_time": "2022-03-08T18:50:13.648Z"
   },
   {
    "duration": 3,
    "start_time": "2022-03-08T18:50:13.691Z"
   },
   {
    "duration": 24,
    "start_time": "2022-03-08T18:50:13.696Z"
   },
   {
    "duration": 6,
    "start_time": "2022-03-08T18:50:13.725Z"
   },
   {
    "duration": 7,
    "start_time": "2022-03-08T18:50:13.733Z"
   },
   {
    "duration": 59,
    "start_time": "2022-03-08T18:50:13.743Z"
   },
   {
    "duration": 4,
    "start_time": "2022-03-08T18:50:13.805Z"
   },
   {
    "duration": 941,
    "start_time": "2022-03-08T18:50:13.812Z"
   },
   {
    "duration": 3,
    "start_time": "2022-03-08T18:50:14.755Z"
   },
   {
    "duration": 25,
    "start_time": "2022-03-08T18:50:14.761Z"
   },
   {
    "duration": 19,
    "start_time": "2022-03-08T18:50:14.789Z"
   },
   {
    "duration": 13,
    "start_time": "2022-03-08T18:50:14.810Z"
   },
   {
    "duration": 508,
    "start_time": "2022-03-08T18:50:14.826Z"
   },
   {
    "duration": 3,
    "start_time": "2022-03-08T18:50:15.337Z"
   },
   {
    "duration": 452,
    "start_time": "2022-03-08T18:50:15.342Z"
   },
   {
    "duration": 4,
    "start_time": "2022-03-08T18:50:15.796Z"
   },
   {
    "duration": 371,
    "start_time": "2022-03-08T18:50:15.802Z"
   },
   {
    "duration": 8,
    "start_time": "2022-03-08T18:50:16.175Z"
   },
   {
    "duration": 350,
    "start_time": "2022-03-08T18:50:16.185Z"
   },
   {
    "duration": 3,
    "start_time": "2022-03-08T18:50:16.538Z"
   },
   {
    "duration": 8,
    "start_time": "2022-03-08T18:50:16.544Z"
   },
   {
    "duration": 563,
    "start_time": "2022-03-08T18:50:16.554Z"
   },
   {
    "duration": 6,
    "start_time": "2022-03-08T18:50:17.120Z"
   },
   {
    "duration": 581,
    "start_time": "2022-03-08T18:50:17.128Z"
   },
   {
    "duration": 4,
    "start_time": "2022-03-08T18:50:17.711Z"
   },
   {
    "duration": 907,
    "start_time": "2022-03-08T18:50:17.717Z"
   },
   {
    "duration": 12,
    "start_time": "2022-03-08T18:50:18.627Z"
   },
   {
    "duration": 615,
    "start_time": "2022-03-08T18:50:25.202Z"
   },
   {
    "duration": 4,
    "start_time": "2022-03-08T18:50:34.136Z"
   },
   {
    "duration": 550,
    "start_time": "2022-03-08T18:50:34.552Z"
   },
   {
    "duration": 16,
    "start_time": "2022-03-08T18:50:36.201Z"
   },
   {
    "duration": 7,
    "start_time": "2022-03-08T19:15:32.765Z"
   },
   {
    "duration": 8,
    "start_time": "2022-03-08T19:15:35.889Z"
   },
   {
    "duration": 9,
    "start_time": "2022-03-08T19:16:16.755Z"
   },
   {
    "duration": 9,
    "start_time": "2022-03-08T19:16:21.193Z"
   },
   {
    "duration": 7,
    "start_time": "2022-03-08T19:16:27.936Z"
   },
   {
    "duration": 8,
    "start_time": "2022-03-08T19:16:33.117Z"
   },
   {
    "duration": 7,
    "start_time": "2022-03-08T19:16:39.126Z"
   },
   {
    "duration": 541,
    "start_time": "2022-03-08T19:17:12.216Z"
   },
   {
    "duration": 13,
    "start_time": "2022-03-08T19:18:53.670Z"
   },
   {
    "duration": 9,
    "start_time": "2022-03-08T19:21:46.891Z"
   },
   {
    "duration": 7,
    "start_time": "2022-03-08T19:21:57.988Z"
   },
   {
    "duration": 8,
    "start_time": "2022-03-08T19:23:39.133Z"
   },
   {
    "duration": 8,
    "start_time": "2022-03-08T19:24:12.911Z"
   },
   {
    "duration": 5,
    "start_time": "2022-03-08T19:24:22.427Z"
   },
   {
    "duration": 6,
    "start_time": "2022-03-08T19:24:50.151Z"
   },
   {
    "duration": 5,
    "start_time": "2022-03-08T19:25:00.304Z"
   },
   {
    "duration": 544,
    "start_time": "2022-03-08T19:25:43.193Z"
   },
   {
    "duration": 6,
    "start_time": "2022-03-08T20:00:47.500Z"
   },
   {
    "duration": 6,
    "start_time": "2022-03-08T20:01:08.390Z"
   },
   {
    "duration": 6,
    "start_time": "2022-03-08T20:01:16.395Z"
   },
   {
    "duration": 6,
    "start_time": "2022-03-08T20:01:29.316Z"
   },
   {
    "duration": 1362,
    "start_time": "2022-03-09T13:25:42.202Z"
   },
   {
    "duration": 25,
    "start_time": "2022-03-09T13:25:43.567Z"
   },
   {
    "duration": 78,
    "start_time": "2022-03-09T13:25:43.596Z"
   },
   {
    "duration": 18,
    "start_time": "2022-03-09T13:25:43.677Z"
   },
   {
    "duration": 190,
    "start_time": "2022-03-09T13:25:43.698Z"
   },
   {
    "duration": 13,
    "start_time": "2022-03-09T13:25:43.891Z"
   },
   {
    "duration": 47,
    "start_time": "2022-03-09T13:25:43.907Z"
   },
   {
    "duration": 4,
    "start_time": "2022-03-09T13:25:43.959Z"
   },
   {
    "duration": 14,
    "start_time": "2022-03-09T13:25:43.966Z"
   },
   {
    "duration": 3,
    "start_time": "2022-03-09T13:25:43.983Z"
   },
   {
    "duration": 7,
    "start_time": "2022-03-09T13:25:43.989Z"
   },
   {
    "duration": 3,
    "start_time": "2022-03-09T13:25:44.034Z"
   },
   {
    "duration": 13,
    "start_time": "2022-03-09T13:25:44.040Z"
   },
   {
    "duration": 10,
    "start_time": "2022-03-09T13:25:44.055Z"
   },
   {
    "duration": 6,
    "start_time": "2022-03-09T13:25:44.067Z"
   },
   {
    "duration": 56,
    "start_time": "2022-03-09T13:25:44.076Z"
   },
   {
    "duration": 2,
    "start_time": "2022-03-09T13:25:44.135Z"
   },
   {
    "duration": 17,
    "start_time": "2022-03-09T13:25:44.140Z"
   },
   {
    "duration": 3,
    "start_time": "2022-03-09T13:25:44.159Z"
   },
   {
    "duration": 11,
    "start_time": "2022-03-09T13:25:44.164Z"
   },
   {
    "duration": 3,
    "start_time": "2022-03-09T13:25:44.178Z"
   },
   {
    "duration": 52,
    "start_time": "2022-03-09T13:25:44.183Z"
   },
   {
    "duration": 5,
    "start_time": "2022-03-09T13:25:44.243Z"
   },
   {
    "duration": 7,
    "start_time": "2022-03-09T13:25:44.251Z"
   },
   {
    "duration": 18,
    "start_time": "2022-03-09T13:25:44.260Z"
   },
   {
    "duration": 3,
    "start_time": "2022-03-09T13:25:44.280Z"
   },
   {
    "duration": 998,
    "start_time": "2022-03-09T13:25:44.286Z"
   },
   {
    "duration": 3,
    "start_time": "2022-03-09T13:25:45.287Z"
   },
   {
    "duration": 11,
    "start_time": "2022-03-09T13:25:45.292Z"
   },
   {
    "duration": 3,
    "start_time": "2022-03-09T13:25:45.305Z"
   },
   {
    "duration": 3,
    "start_time": "2022-03-09T13:25:45.333Z"
   },
   {
    "duration": 509,
    "start_time": "2022-03-09T13:25:45.338Z"
   },
   {
    "duration": 4,
    "start_time": "2022-03-09T13:25:45.850Z"
   },
   {
    "duration": 482,
    "start_time": "2022-03-09T13:25:45.856Z"
   },
   {
    "duration": 3,
    "start_time": "2022-03-09T13:25:46.341Z"
   },
   {
    "duration": 558,
    "start_time": "2022-03-09T13:25:46.347Z"
   },
   {
    "duration": 3,
    "start_time": "2022-03-09T13:25:46.909Z"
   },
   {
    "duration": 366,
    "start_time": "2022-03-09T13:25:46.914Z"
   },
   {
    "duration": 3,
    "start_time": "2022-03-09T13:25:47.283Z"
   },
   {
    "duration": 5,
    "start_time": "2022-03-09T13:25:47.289Z"
   },
   {
    "duration": 556,
    "start_time": "2022-03-09T13:25:47.296Z"
   },
   {
    "duration": 4,
    "start_time": "2022-03-09T13:25:47.855Z"
   },
   {
    "duration": 6,
    "start_time": "2022-03-09T13:25:47.862Z"
   },
   {
    "duration": 6,
    "start_time": "2022-03-09T13:25:47.871Z"
   },
   {
    "duration": 6,
    "start_time": "2022-03-09T13:25:47.879Z"
   },
   {
    "duration": 6,
    "start_time": "2022-03-09T13:25:47.887Z"
   },
   {
    "duration": 608,
    "start_time": "2022-03-09T13:25:47.895Z"
   },
   {
    "duration": 28,
    "start_time": "2022-03-09T13:25:48.506Z"
   },
   {
    "duration": 7,
    "start_time": "2022-03-09T13:27:54.298Z"
   },
   {
    "duration": 7599,
    "start_time": "2022-03-09T13:28:29.338Z"
   },
   {
    "duration": 8,
    "start_time": "2022-03-09T13:29:29.100Z"
   },
   {
    "duration": 98,
    "start_time": "2022-03-09T13:30:01.989Z"
   },
   {
    "duration": 101,
    "start_time": "2022-03-09T13:30:12.708Z"
   },
   {
    "duration": 51,
    "start_time": "2022-03-09T13:30:22.138Z"
   },
   {
    "duration": 20,
    "start_time": "2022-03-09T13:30:34.519Z"
   },
   {
    "duration": 51,
    "start_time": "2022-03-09T13:31:12.252Z"
   },
   {
    "duration": 12,
    "start_time": "2022-03-09T13:31:28.979Z"
   },
   {
    "duration": 80,
    "start_time": "2022-03-09T13:31:38.784Z"
   },
   {
    "duration": 26,
    "start_time": "2022-03-09T13:31:50.778Z"
   },
   {
    "duration": 81,
    "start_time": "2022-03-09T13:32:18.790Z"
   },
   {
    "duration": 240,
    "start_time": "2022-03-09T13:40:22.789Z"
   },
   {
    "duration": 327,
    "start_time": "2022-03-09T13:40:26.050Z"
   },
   {
    "duration": 5,
    "start_time": "2022-03-09T14:09:15.608Z"
   },
   {
    "duration": 8,
    "start_time": "2022-03-09T14:10:46.268Z"
   },
   {
    "duration": 7,
    "start_time": "2022-03-09T14:10:59.678Z"
   },
   {
    "duration": 6,
    "start_time": "2022-03-09T14:11:42.079Z"
   },
   {
    "duration": 6,
    "start_time": "2022-03-09T14:11:48.258Z"
   },
   {
    "duration": 6,
    "start_time": "2022-03-09T14:13:08.818Z"
   },
   {
    "duration": 6,
    "start_time": "2022-03-09T14:13:15.529Z"
   },
   {
    "duration": 10,
    "start_time": "2022-03-09T14:16:22.130Z"
   },
   {
    "duration": 17,
    "start_time": "2022-03-09T14:22:37.629Z"
   },
   {
    "duration": 8,
    "start_time": "2022-03-09T14:22:44.949Z"
   },
   {
    "duration": -1741,
    "start_time": "2022-03-09T14:23:03.940Z"
   },
   {
    "duration": 7,
    "start_time": "2022-03-09T14:23:05.769Z"
   },
   {
    "duration": 6,
    "start_time": "2022-03-09T14:24:46.100Z"
   },
   {
    "duration": 95,
    "start_time": "2022-03-09T14:24:58.427Z"
   },
   {
    "duration": 8,
    "start_time": "2022-03-09T14:25:04.898Z"
   },
   {
    "duration": 294,
    "start_time": "2022-03-09T14:26:16.019Z"
   },
   {
    "duration": 3,
    "start_time": "2022-03-09T14:26:42.068Z"
   },
   {
    "duration": 8,
    "start_time": "2022-03-09T14:26:45.708Z"
   },
   {
    "duration": 8,
    "start_time": "2022-03-09T14:27:11.888Z"
   },
   {
    "duration": 9,
    "start_time": "2022-03-09T14:28:16.519Z"
   },
   {
    "duration": 8,
    "start_time": "2022-03-09T14:28:23.826Z"
   },
   {
    "duration": 13,
    "start_time": "2022-03-09T14:28:30.661Z"
   },
   {
    "duration": 5,
    "start_time": "2022-03-09T14:42:27.329Z"
   },
   {
    "duration": 4,
    "start_time": "2022-03-09T14:42:37.059Z"
   },
   {
    "duration": 6,
    "start_time": "2022-03-09T14:42:45.658Z"
   },
   {
    "duration": 3,
    "start_time": "2022-03-09T14:43:08.979Z"
   },
   {
    "duration": 4,
    "start_time": "2022-03-09T14:43:11.488Z"
   },
   {
    "duration": 4,
    "start_time": "2022-03-09T14:43:16.079Z"
   },
   {
    "duration": 4,
    "start_time": "2022-03-09T14:43:17.349Z"
   },
   {
    "duration": 1014,
    "start_time": "2022-03-09T14:43:26.105Z"
   },
   {
    "duration": 17,
    "start_time": "2022-03-09T14:43:27.122Z"
   },
   {
    "duration": 41,
    "start_time": "2022-03-09T14:43:27.142Z"
   },
   {
    "duration": 11,
    "start_time": "2022-03-09T14:43:27.186Z"
   },
   {
    "duration": 109,
    "start_time": "2022-03-09T14:43:27.199Z"
   },
   {
    "duration": 9,
    "start_time": "2022-03-09T14:43:27.310Z"
   },
   {
    "duration": 23,
    "start_time": "2022-03-09T14:43:27.322Z"
   },
   {
    "duration": 3,
    "start_time": "2022-03-09T14:43:27.348Z"
   },
   {
    "duration": 15,
    "start_time": "2022-03-09T14:43:27.354Z"
   },
   {
    "duration": 2,
    "start_time": "2022-03-09T14:43:27.371Z"
   },
   {
    "duration": 14,
    "start_time": "2022-03-09T14:43:27.375Z"
   },
   {
    "duration": 4,
    "start_time": "2022-03-09T14:43:27.391Z"
   },
   {
    "duration": 24,
    "start_time": "2022-03-09T14:43:27.397Z"
   },
   {
    "duration": 8,
    "start_time": "2022-03-09T14:43:27.423Z"
   },
   {
    "duration": 5,
    "start_time": "2022-03-09T14:43:27.433Z"
   },
   {
    "duration": 6,
    "start_time": "2022-03-09T14:43:27.440Z"
   },
   {
    "duration": 3,
    "start_time": "2022-03-09T14:43:27.448Z"
   },
   {
    "duration": 18,
    "start_time": "2022-03-09T14:43:27.453Z"
   },
   {
    "duration": 3,
    "start_time": "2022-03-09T14:43:27.474Z"
   },
   {
    "duration": 12,
    "start_time": "2022-03-09T14:43:27.479Z"
   },
   {
    "duration": 3,
    "start_time": "2022-03-09T14:43:27.494Z"
   },
   {
    "duration": 16,
    "start_time": "2022-03-09T14:43:27.499Z"
   },
   {
    "duration": 15,
    "start_time": "2022-03-09T14:43:27.520Z"
   },
   {
    "duration": 6,
    "start_time": "2022-03-09T14:43:27.538Z"
   },
   {
    "duration": 29,
    "start_time": "2022-03-09T14:43:27.546Z"
   },
   {
    "duration": 4,
    "start_time": "2022-03-09T14:43:27.577Z"
   },
   {
    "duration": 1205,
    "start_time": "2022-03-09T14:43:27.583Z"
   },
   {
    "duration": 3,
    "start_time": "2022-03-09T14:43:28.791Z"
   },
   {
    "duration": 12,
    "start_time": "2022-03-09T14:43:28.797Z"
   },
   {
    "duration": 20,
    "start_time": "2022-03-09T14:43:28.812Z"
   },
   {
    "duration": 10,
    "start_time": "2022-03-09T14:43:28.835Z"
   },
   {
    "duration": 501,
    "start_time": "2022-03-09T14:43:28.847Z"
   },
   {
    "duration": 4,
    "start_time": "2022-03-09T14:43:29.350Z"
   },
   {
    "duration": 458,
    "start_time": "2022-03-09T14:43:29.357Z"
   },
   {
    "duration": 15,
    "start_time": "2022-03-09T14:43:29.818Z"
   },
   {
    "duration": 363,
    "start_time": "2022-03-09T14:43:29.836Z"
   },
   {
    "duration": 3,
    "start_time": "2022-03-09T14:43:30.201Z"
   },
   {
    "duration": 362,
    "start_time": "2022-03-09T14:43:30.206Z"
   },
   {
    "duration": 3,
    "start_time": "2022-03-09T14:43:30.570Z"
   },
   {
    "duration": 20,
    "start_time": "2022-03-09T14:43:30.576Z"
   },
   {
    "duration": 537,
    "start_time": "2022-03-09T14:43:30.599Z"
   },
   {
    "duration": 3,
    "start_time": "2022-03-09T14:43:31.139Z"
   },
   {
    "duration": 19,
    "start_time": "2022-03-09T14:43:31.145Z"
   },
   {
    "duration": 10,
    "start_time": "2022-03-09T14:43:31.166Z"
   },
   {
    "duration": 10,
    "start_time": "2022-03-09T14:43:31.179Z"
   },
   {
    "duration": 42,
    "start_time": "2022-03-09T14:43:31.192Z"
   },
   {
    "duration": 4,
    "start_time": "2022-03-09T14:43:31.236Z"
   },
   {
    "duration": 6,
    "start_time": "2022-03-09T14:43:31.242Z"
   },
   {
    "duration": 584,
    "start_time": "2022-03-09T14:43:31.251Z"
   },
   {
    "duration": 10,
    "start_time": "2022-03-09T14:43:31.838Z"
   },
   {
    "duration": 4,
    "start_time": "2022-03-09T14:43:43.105Z"
   },
   {
    "duration": 4,
    "start_time": "2022-03-09T14:43:45.879Z"
   },
   {
    "duration": 4,
    "start_time": "2022-03-09T14:44:00.208Z"
   },
   {
    "duration": 10,
    "start_time": "2022-03-09T14:44:30.136Z"
   },
   {
    "duration": 11,
    "start_time": "2022-03-09T14:44:49.355Z"
   },
   {
    "duration": 5,
    "start_time": "2022-03-09T14:44:51.765Z"
   },
   {
    "duration": 5,
    "start_time": "2022-03-09T14:44:52.065Z"
   },
   {
    "duration": 18,
    "start_time": "2022-03-09T14:45:47.966Z"
   },
   {
    "duration": 3,
    "start_time": "2022-03-09T14:49:18.806Z"
   },
   {
    "duration": 7,
    "start_time": "2022-03-09T14:49:19.205Z"
   },
   {
    "duration": 18,
    "start_time": "2022-03-09T14:49:20.515Z"
   },
   {
    "duration": 1058,
    "start_time": "2022-03-09T14:49:43.435Z"
   },
   {
    "duration": 13,
    "start_time": "2022-03-09T14:50:26.795Z"
   },
   {
    "duration": 12,
    "start_time": "2022-03-09T14:50:30.185Z"
   },
   {
    "duration": 998,
    "start_time": "2022-03-09T14:50:32.835Z"
   },
   {
    "duration": 15,
    "start_time": "2022-03-09T14:51:00.755Z"
   },
   {
    "duration": 939,
    "start_time": "2022-03-09T14:54:23.185Z"
   },
   {
    "duration": 16,
    "start_time": "2022-03-09T14:54:24.127Z"
   },
   {
    "duration": 38,
    "start_time": "2022-03-09T14:54:24.146Z"
   },
   {
    "duration": 15,
    "start_time": "2022-03-09T14:54:24.187Z"
   },
   {
    "duration": 131,
    "start_time": "2022-03-09T14:54:24.204Z"
   },
   {
    "duration": 10,
    "start_time": "2022-03-09T14:54:24.337Z"
   },
   {
    "duration": 21,
    "start_time": "2022-03-09T14:54:24.349Z"
   },
   {
    "duration": 3,
    "start_time": "2022-03-09T14:54:24.373Z"
   },
   {
    "duration": 12,
    "start_time": "2022-03-09T14:54:24.380Z"
   },
   {
    "duration": 3,
    "start_time": "2022-03-09T14:54:24.432Z"
   },
   {
    "duration": 7,
    "start_time": "2022-03-09T14:54:24.438Z"
   },
   {
    "duration": 3,
    "start_time": "2022-03-09T14:54:24.447Z"
   },
   {
    "duration": 13,
    "start_time": "2022-03-09T14:54:24.452Z"
   },
   {
    "duration": 8,
    "start_time": "2022-03-09T14:54:24.467Z"
   },
   {
    "duration": 4,
    "start_time": "2022-03-09T14:54:24.478Z"
   },
   {
    "duration": 48,
    "start_time": "2022-03-09T14:54:24.484Z"
   },
   {
    "duration": 4,
    "start_time": "2022-03-09T14:54:24.535Z"
   },
   {
    "duration": 15,
    "start_time": "2022-03-09T14:54:24.541Z"
   },
   {
    "duration": 3,
    "start_time": "2022-03-09T14:54:24.558Z"
   },
   {
    "duration": 11,
    "start_time": "2022-03-09T14:54:24.563Z"
   },
   {
    "duration": 3,
    "start_time": "2022-03-09T14:54:24.576Z"
   },
   {
    "duration": 56,
    "start_time": "2022-03-09T14:54:24.581Z"
   },
   {
    "duration": 6,
    "start_time": "2022-03-09T14:54:24.639Z"
   },
   {
    "duration": 6,
    "start_time": "2022-03-09T14:54:24.647Z"
   },
   {
    "duration": 20,
    "start_time": "2022-03-09T14:54:24.655Z"
   },
   {
    "duration": 3,
    "start_time": "2022-03-09T14:54:24.677Z"
   },
   {
    "duration": 1003,
    "start_time": "2022-03-09T14:54:24.685Z"
   },
   {
    "duration": 3,
    "start_time": "2022-03-09T14:54:25.691Z"
   },
   {
    "duration": 8,
    "start_time": "2022-03-09T14:54:25.697Z"
   },
   {
    "duration": 3,
    "start_time": "2022-03-09T14:54:25.708Z"
   },
   {
    "duration": 3,
    "start_time": "2022-03-09T14:54:25.733Z"
   },
   {
    "duration": 507,
    "start_time": "2022-03-09T14:54:25.738Z"
   },
   {
    "duration": 4,
    "start_time": "2022-03-09T14:54:26.248Z"
   },
   {
    "duration": 459,
    "start_time": "2022-03-09T14:54:26.255Z"
   },
   {
    "duration": 3,
    "start_time": "2022-03-09T14:54:26.717Z"
   },
   {
    "duration": 351,
    "start_time": "2022-03-09T14:54:26.732Z"
   },
   {
    "duration": 3,
    "start_time": "2022-03-09T14:54:27.085Z"
   },
   {
    "duration": 354,
    "start_time": "2022-03-09T14:54:27.090Z"
   },
   {
    "duration": 3,
    "start_time": "2022-03-09T14:54:27.447Z"
   },
   {
    "duration": 6,
    "start_time": "2022-03-09T14:54:27.452Z"
   },
   {
    "duration": 568,
    "start_time": "2022-03-09T14:54:27.460Z"
   },
   {
    "duration": 3,
    "start_time": "2022-03-09T14:54:28.033Z"
   },
   {
    "duration": 9,
    "start_time": "2022-03-09T14:54:28.038Z"
   },
   {
    "duration": 14,
    "start_time": "2022-03-09T14:54:28.049Z"
   },
   {
    "duration": 1037,
    "start_time": "2022-03-09T14:54:28.065Z"
   },
   {
    "duration": 372,
    "start_time": "2022-03-09T14:54:29.105Z"
   },
   {
    "duration": 15,
    "start_time": "2022-03-09T14:55:54.315Z"
   },
   {
    "duration": 28,
    "start_time": "2022-03-09T14:55:57.867Z"
   },
   {
    "duration": 29,
    "start_time": "2022-03-09T14:57:22.515Z"
   },
   {
    "duration": 27,
    "start_time": "2022-03-09T14:59:17.502Z"
   },
   {
    "duration": 631,
    "start_time": "2022-03-09T14:59:55.972Z"
   },
   {
    "duration": 1036,
    "start_time": "2022-03-09T15:00:12.106Z"
   },
   {
    "duration": 18,
    "start_time": "2022-03-09T15:00:13.145Z"
   },
   {
    "duration": 68,
    "start_time": "2022-03-09T15:00:13.166Z"
   },
   {
    "duration": 12,
    "start_time": "2022-03-09T15:00:13.237Z"
   },
   {
    "duration": 123,
    "start_time": "2022-03-09T15:00:13.252Z"
   },
   {
    "duration": 10,
    "start_time": "2022-03-09T15:00:13.378Z"
   },
   {
    "duration": 42,
    "start_time": "2022-03-09T15:00:13.390Z"
   },
   {
    "duration": 7,
    "start_time": "2022-03-09T15:00:13.435Z"
   },
   {
    "duration": 27,
    "start_time": "2022-03-09T15:00:13.446Z"
   },
   {
    "duration": 17,
    "start_time": "2022-03-09T15:00:13.476Z"
   },
   {
    "duration": 29,
    "start_time": "2022-03-09T15:00:13.496Z"
   },
   {
    "duration": 16,
    "start_time": "2022-03-09T15:00:13.527Z"
   },
   {
    "duration": 33,
    "start_time": "2022-03-09T15:00:13.546Z"
   },
   {
    "duration": 21,
    "start_time": "2022-03-09T15:00:13.582Z"
   },
   {
    "duration": 31,
    "start_time": "2022-03-09T15:00:13.606Z"
   },
   {
    "duration": 12,
    "start_time": "2022-03-09T15:00:13.640Z"
   },
   {
    "duration": 14,
    "start_time": "2022-03-09T15:00:13.656Z"
   },
   {
    "duration": 33,
    "start_time": "2022-03-09T15:00:13.672Z"
   },
   {
    "duration": 8,
    "start_time": "2022-03-09T15:00:13.708Z"
   },
   {
    "duration": 23,
    "start_time": "2022-03-09T15:00:13.719Z"
   },
   {
    "duration": 8,
    "start_time": "2022-03-09T15:00:13.745Z"
   },
   {
    "duration": 25,
    "start_time": "2022-03-09T15:00:13.756Z"
   },
   {
    "duration": 7,
    "start_time": "2022-03-09T15:00:13.784Z"
   },
   {
    "duration": 13,
    "start_time": "2022-03-09T15:00:13.794Z"
   },
   {
    "duration": 36,
    "start_time": "2022-03-09T15:00:13.809Z"
   },
   {
    "duration": 4,
    "start_time": "2022-03-09T15:00:13.848Z"
   },
   {
    "duration": 977,
    "start_time": "2022-03-09T15:00:13.860Z"
   },
   {
    "duration": 4,
    "start_time": "2022-03-09T15:00:14.840Z"
   },
   {
    "duration": 10,
    "start_time": "2022-03-09T15:00:14.848Z"
   },
   {
    "duration": 4,
    "start_time": "2022-03-09T15:00:14.861Z"
   },
   {
    "duration": 5,
    "start_time": "2022-03-09T15:00:14.868Z"
   },
   {
    "duration": 560,
    "start_time": "2022-03-09T15:00:14.876Z"
   },
   {
    "duration": 3,
    "start_time": "2022-03-09T15:00:15.439Z"
   },
   {
    "duration": 466,
    "start_time": "2022-03-09T15:00:15.445Z"
   },
   {
    "duration": 4,
    "start_time": "2022-03-09T15:00:15.914Z"
   },
   {
    "duration": 368,
    "start_time": "2022-03-09T15:00:15.932Z"
   },
   {
    "duration": 3,
    "start_time": "2022-03-09T15:00:16.302Z"
   },
   {
    "duration": 371,
    "start_time": "2022-03-09T15:00:16.307Z"
   },
   {
    "duration": 3,
    "start_time": "2022-03-09T15:00:16.680Z"
   },
   {
    "duration": 6,
    "start_time": "2022-03-09T15:00:16.685Z"
   },
   {
    "duration": 596,
    "start_time": "2022-03-09T15:00:16.694Z"
   },
   {
    "duration": 4,
    "start_time": "2022-03-09T15:00:17.293Z"
   },
   {
    "duration": 94,
    "start_time": "2022-03-09T15:00:17.300Z"
   },
   {
    "duration": 668,
    "start_time": "2022-03-09T15:00:17.397Z"
   },
   {
    "duration": 5,
    "start_time": "2022-03-09T15:00:18.068Z"
   },
   {
    "duration": 29,
    "start_time": "2022-03-09T15:00:18.076Z"
   },
   {
    "duration": 1264,
    "start_time": "2022-03-09T15:00:18.107Z"
   },
   {
    "duration": 381,
    "start_time": "2022-03-09T15:00:19.373Z"
   },
   {
    "duration": 291,
    "start_time": "2022-03-09T15:01:08.809Z"
   },
   {
    "duration": 155,
    "start_time": "2022-03-09T15:01:22.986Z"
   },
   {
    "duration": 301,
    "start_time": "2022-03-09T15:03:28.381Z"
   },
   {
    "duration": 4,
    "start_time": "2022-03-09T15:03:33.096Z"
   },
   {
    "duration": 294,
    "start_time": "2022-03-09T15:03:33.502Z"
   },
   {
    "duration": 282,
    "start_time": "2022-03-09T15:04:06.135Z"
   },
   {
    "duration": 96,
    "start_time": "2022-03-09T15:04:48.053Z"
   },
   {
    "duration": 28,
    "start_time": "2022-03-09T15:04:58.157Z"
   },
   {
    "duration": 533,
    "start_time": "2022-03-09T15:10:18.666Z"
   },
   {
    "duration": 92,
    "start_time": "2022-03-09T15:16:21.376Z"
   },
   {
    "duration": 55,
    "start_time": "2022-03-09T15:16:29.233Z"
   },
   {
    "duration": 126,
    "start_time": "2022-03-09T15:16:36.915Z"
   },
   {
    "duration": 52,
    "start_time": "2022-03-09T15:16:48.475Z"
   },
   {
    "duration": 988,
    "start_time": "2022-03-09T15:16:56.293Z"
   },
   {
    "duration": 16,
    "start_time": "2022-03-09T15:16:57.284Z"
   },
   {
    "duration": 56,
    "start_time": "2022-03-09T15:16:57.303Z"
   },
   {
    "duration": 11,
    "start_time": "2022-03-09T15:16:57.362Z"
   },
   {
    "duration": 133,
    "start_time": "2022-03-09T15:16:57.376Z"
   },
   {
    "duration": 26,
    "start_time": "2022-03-09T15:16:57.511Z"
   },
   {
    "duration": 19,
    "start_time": "2022-03-09T15:16:57.539Z"
   },
   {
    "duration": 3,
    "start_time": "2022-03-09T15:16:57.560Z"
   },
   {
    "duration": 12,
    "start_time": "2022-03-09T15:16:57.567Z"
   },
   {
    "duration": 5,
    "start_time": "2022-03-09T15:16:57.582Z"
   },
   {
    "duration": 43,
    "start_time": "2022-03-09T15:16:57.589Z"
   },
   {
    "duration": 3,
    "start_time": "2022-03-09T15:16:57.635Z"
   },
   {
    "duration": 19,
    "start_time": "2022-03-09T15:16:57.641Z"
   },
   {
    "duration": 9,
    "start_time": "2022-03-09T15:16:57.662Z"
   },
   {
    "duration": 6,
    "start_time": "2022-03-09T15:16:57.673Z"
   },
   {
    "duration": 6,
    "start_time": "2022-03-09T15:16:57.681Z"
   },
   {
    "duration": 4,
    "start_time": "2022-03-09T15:16:57.690Z"
   },
   {
    "duration": 49,
    "start_time": "2022-03-09T15:16:57.696Z"
   },
   {
    "duration": 2,
    "start_time": "2022-03-09T15:16:57.748Z"
   },
   {
    "duration": 11,
    "start_time": "2022-03-09T15:16:57.753Z"
   },
   {
    "duration": 2,
    "start_time": "2022-03-09T15:16:57.767Z"
   },
   {
    "duration": 15,
    "start_time": "2022-03-09T15:16:57.772Z"
   },
   {
    "duration": 42,
    "start_time": "2022-03-09T15:16:57.790Z"
   },
   {
    "duration": 3,
    "start_time": "2022-03-09T15:16:57.835Z"
   },
   {
    "duration": 19,
    "start_time": "2022-03-09T15:16:57.840Z"
   },
   {
    "duration": 3,
    "start_time": "2022-03-09T15:16:57.861Z"
   },
   {
    "duration": 963,
    "start_time": "2022-03-09T15:16:57.869Z"
   },
   {
    "duration": 3,
    "start_time": "2022-03-09T15:16:58.835Z"
   },
   {
    "duration": 13,
    "start_time": "2022-03-09T15:16:58.840Z"
   },
   {
    "duration": 3,
    "start_time": "2022-03-09T15:16:58.856Z"
   },
   {
    "duration": 6,
    "start_time": "2022-03-09T15:16:58.861Z"
   },
   {
    "duration": 546,
    "start_time": "2022-03-09T15:16:58.870Z"
   },
   {
    "duration": 3,
    "start_time": "2022-03-09T15:16:59.418Z"
   },
   {
    "duration": 452,
    "start_time": "2022-03-09T15:16:59.423Z"
   },
   {
    "duration": 3,
    "start_time": "2022-03-09T15:16:59.877Z"
   },
   {
    "duration": 377,
    "start_time": "2022-03-09T15:16:59.882Z"
   },
   {
    "duration": 3,
    "start_time": "2022-03-09T15:17:00.261Z"
   },
   {
    "duration": 351,
    "start_time": "2022-03-09T15:17:00.267Z"
   },
   {
    "duration": 13,
    "start_time": "2022-03-09T15:17:00.621Z"
   },
   {
    "duration": 6,
    "start_time": "2022-03-09T15:17:00.637Z"
   },
   {
    "duration": 556,
    "start_time": "2022-03-09T15:17:00.646Z"
   },
   {
    "duration": 3,
    "start_time": "2022-03-09T15:17:01.205Z"
   },
   {
    "duration": 72,
    "start_time": "2022-03-09T15:17:01.210Z"
   },
   {
    "duration": 152,
    "start_time": "2022-03-09T15:17:01.284Z"
   },
   {
    "duration": 571,
    "start_time": "2022-03-09T15:17:01.438Z"
   },
   {
    "duration": 16,
    "start_time": "2022-03-09T15:17:16.938Z"
   },
   {
    "duration": 15,
    "start_time": "2022-03-09T15:17:44.878Z"
   },
   {
    "duration": 948,
    "start_time": "2022-03-09T15:18:01.779Z"
   },
   {
    "duration": 18,
    "start_time": "2022-03-09T15:18:02.729Z"
   },
   {
    "duration": 42,
    "start_time": "2022-03-09T15:18:02.750Z"
   },
   {
    "duration": 40,
    "start_time": "2022-03-09T15:18:02.795Z"
   },
   {
    "duration": 128,
    "start_time": "2022-03-09T15:18:02.837Z"
   },
   {
    "duration": 10,
    "start_time": "2022-03-09T15:18:02.967Z"
   },
   {
    "duration": 21,
    "start_time": "2022-03-09T15:18:02.979Z"
   },
   {
    "duration": 3,
    "start_time": "2022-03-09T15:18:03.032Z"
   },
   {
    "duration": 14,
    "start_time": "2022-03-09T15:18:03.038Z"
   },
   {
    "duration": 4,
    "start_time": "2022-03-09T15:18:03.055Z"
   },
   {
    "duration": 9,
    "start_time": "2022-03-09T15:18:03.062Z"
   },
   {
    "duration": 4,
    "start_time": "2022-03-09T15:18:03.074Z"
   },
   {
    "duration": 14,
    "start_time": "2022-03-09T15:18:03.080Z"
   },
   {
    "duration": 39,
    "start_time": "2022-03-09T15:18:03.097Z"
   },
   {
    "duration": 5,
    "start_time": "2022-03-09T15:18:03.138Z"
   },
   {
    "duration": 6,
    "start_time": "2022-03-09T15:18:03.145Z"
   },
   {
    "duration": 4,
    "start_time": "2022-03-09T15:18:03.154Z"
   },
   {
    "duration": 16,
    "start_time": "2022-03-09T15:18:03.160Z"
   },
   {
    "duration": 4,
    "start_time": "2022-03-09T15:18:03.178Z"
   },
   {
    "duration": 57,
    "start_time": "2022-03-09T15:18:03.185Z"
   },
   {
    "duration": 4,
    "start_time": "2022-03-09T15:18:03.244Z"
   },
   {
    "duration": 18,
    "start_time": "2022-03-09T15:18:03.251Z"
   },
   {
    "duration": 5,
    "start_time": "2022-03-09T15:18:03.277Z"
   },
   {
    "duration": 4,
    "start_time": "2022-03-09T15:18:03.285Z"
   },
   {
    "duration": 50,
    "start_time": "2022-03-09T15:18:03.291Z"
   },
   {
    "duration": 3,
    "start_time": "2022-03-09T15:18:03.344Z"
   },
   {
    "duration": 985,
    "start_time": "2022-03-09T15:18:03.349Z"
   },
   {
    "duration": 3,
    "start_time": "2022-03-09T15:18:04.336Z"
   },
   {
    "duration": 11,
    "start_time": "2022-03-09T15:18:04.341Z"
   },
   {
    "duration": 5,
    "start_time": "2022-03-09T15:18:04.354Z"
   },
   {
    "duration": 20,
    "start_time": "2022-03-09T15:18:04.362Z"
   },
   {
    "duration": 2,
    "start_time": "2022-03-09T15:18:04.385Z"
   },
   {
    "duration": 537,
    "start_time": "2022-03-09T15:18:04.389Z"
   },
   {
    "duration": 3,
    "start_time": "2022-03-09T15:18:04.932Z"
   },
   {
    "duration": 461,
    "start_time": "2022-03-09T15:18:04.937Z"
   },
   {
    "duration": 3,
    "start_time": "2022-03-09T15:18:05.400Z"
   },
   {
    "duration": 376,
    "start_time": "2022-03-09T15:18:05.406Z"
   },
   {
    "duration": 3,
    "start_time": "2022-03-09T15:18:05.785Z"
   },
   {
    "duration": 369,
    "start_time": "2022-03-09T15:18:05.790Z"
   },
   {
    "duration": 3,
    "start_time": "2022-03-09T15:18:06.161Z"
   },
   {
    "duration": 6,
    "start_time": "2022-03-09T15:18:06.166Z"
   },
   {
    "duration": 591,
    "start_time": "2022-03-09T15:18:06.174Z"
   },
   {
    "duration": 3,
    "start_time": "2022-03-09T15:18:06.767Z"
   },
   {
    "duration": 74,
    "start_time": "2022-03-09T15:18:06.772Z"
   },
   {
    "duration": 144,
    "start_time": "2022-03-09T15:18:06.848Z"
   },
   {
    "duration": 561,
    "start_time": "2022-03-09T15:18:06.994Z"
   },
   {
    "duration": 15,
    "start_time": "2022-03-09T15:18:07.558Z"
   },
   {
    "duration": 5,
    "start_time": "2022-03-09T15:49:39.665Z"
   },
   {
    "duration": 53,
    "start_time": "2022-03-09T15:49:40.696Z"
   },
   {
    "duration": 127,
    "start_time": "2022-03-09T15:49:42.084Z"
   },
   {
    "duration": 613,
    "start_time": "2022-03-09T15:49:42.865Z"
   },
   {
    "duration": 421,
    "start_time": "2022-03-09T15:50:05.635Z"
   },
   {
    "duration": 372,
    "start_time": "2022-03-09T15:50:17.750Z"
   },
   {
    "duration": 3,
    "start_time": "2022-03-09T15:50:18.536Z"
   },
   {
    "duration": 25,
    "start_time": "2022-03-09T15:50:18.818Z"
   },
   {
    "duration": 907,
    "start_time": "2022-03-09T15:50:36.451Z"
   },
   {
    "duration": 15,
    "start_time": "2022-03-09T15:50:37.361Z"
   },
   {
    "duration": 39,
    "start_time": "2022-03-09T15:50:37.378Z"
   },
   {
    "duration": 11,
    "start_time": "2022-03-09T15:50:37.433Z"
   },
   {
    "duration": 120,
    "start_time": "2022-03-09T15:50:37.446Z"
   },
   {
    "duration": 8,
    "start_time": "2022-03-09T15:50:37.569Z"
   },
   {
    "duration": 21,
    "start_time": "2022-03-09T15:50:37.580Z"
   },
   {
    "duration": 29,
    "start_time": "2022-03-09T15:50:37.605Z"
   },
   {
    "duration": 13,
    "start_time": "2022-03-09T15:50:37.636Z"
   },
   {
    "duration": 16,
    "start_time": "2022-03-09T15:50:37.652Z"
   },
   {
    "duration": 17,
    "start_time": "2022-03-09T15:50:37.670Z"
   },
   {
    "duration": 9,
    "start_time": "2022-03-09T15:50:37.689Z"
   },
   {
    "duration": 27,
    "start_time": "2022-03-09T15:50:37.701Z"
   },
   {
    "duration": 20,
    "start_time": "2022-03-09T15:50:37.731Z"
   },
   {
    "duration": 12,
    "start_time": "2022-03-09T15:50:37.753Z"
   },
   {
    "duration": 16,
    "start_time": "2022-03-09T15:50:37.767Z"
   },
   {
    "duration": 10,
    "start_time": "2022-03-09T15:50:37.786Z"
   },
   {
    "duration": 32,
    "start_time": "2022-03-09T15:50:37.799Z"
   },
   {
    "duration": 3,
    "start_time": "2022-03-09T15:50:37.833Z"
   },
   {
    "duration": 15,
    "start_time": "2022-03-09T15:50:37.839Z"
   },
   {
    "duration": 7,
    "start_time": "2022-03-09T15:50:37.856Z"
   },
   {
    "duration": 25,
    "start_time": "2022-03-09T15:50:37.865Z"
   },
   {
    "duration": 6,
    "start_time": "2022-03-09T15:50:37.895Z"
   },
   {
    "duration": 29,
    "start_time": "2022-03-09T15:50:37.903Z"
   },
   {
    "duration": 18,
    "start_time": "2022-03-09T15:50:37.934Z"
   },
   {
    "duration": 3,
    "start_time": "2022-03-09T15:50:37.955Z"
   },
   {
    "duration": 974,
    "start_time": "2022-03-09T15:50:37.960Z"
   },
   {
    "duration": 3,
    "start_time": "2022-03-09T15:50:38.937Z"
   },
   {
    "duration": 26,
    "start_time": "2022-03-09T15:50:38.942Z"
   },
   {
    "duration": 9,
    "start_time": "2022-03-09T15:50:38.970Z"
   },
   {
    "duration": 41,
    "start_time": "2022-03-09T15:50:38.981Z"
   },
   {
    "duration": 7,
    "start_time": "2022-03-09T15:50:39.025Z"
   },
   {
    "duration": 827,
    "start_time": "2022-03-09T15:50:39.035Z"
   },
   {
    "duration": 2,
    "start_time": "2022-03-09T15:50:39.865Z"
   },
   {
    "duration": 510,
    "start_time": "2022-03-09T15:50:39.869Z"
   },
   {
    "duration": 3,
    "start_time": "2022-03-09T15:50:40.381Z"
   },
   {
    "duration": 361,
    "start_time": "2022-03-09T15:50:40.387Z"
   },
   {
    "duration": 3,
    "start_time": "2022-03-09T15:50:40.751Z"
   },
   {
    "duration": 346,
    "start_time": "2022-03-09T15:50:40.756Z"
   },
   {
    "duration": 3,
    "start_time": "2022-03-09T15:50:41.104Z"
   },
   {
    "duration": 6,
    "start_time": "2022-03-09T15:50:41.110Z"
   },
   {
    "duration": 552,
    "start_time": "2022-03-09T15:50:41.133Z"
   },
   {
    "duration": 3,
    "start_time": "2022-03-09T15:50:41.687Z"
   },
   {
    "duration": 9,
    "start_time": "2022-03-09T15:50:41.692Z"
   },
   {
    "duration": 72,
    "start_time": "2022-03-09T15:50:41.703Z"
   },
   {
    "duration": 136,
    "start_time": "2022-03-09T15:50:41.777Z"
   },
   {
    "duration": 586,
    "start_time": "2022-03-09T15:50:41.917Z"
   },
   {
    "duration": 27,
    "start_time": "2022-03-09T15:50:42.506Z"
   },
   {
    "duration": 50,
    "start_time": "2022-03-09T15:50:52.172Z"
   },
   {
    "duration": 128,
    "start_time": "2022-03-09T15:50:52.591Z"
   },
   {
    "duration": 537,
    "start_time": "2022-03-09T15:50:53.071Z"
   },
   {
    "duration": 17,
    "start_time": "2022-03-09T15:50:53.911Z"
   },
   {
    "duration": 28,
    "start_time": "2022-03-09T16:02:15.225Z"
   },
   {
    "duration": 3,
    "start_time": "2022-03-09T16:02:40.381Z"
   },
   {
    "duration": 851,
    "start_time": "2022-03-09T16:16:59.882Z"
   },
   {
    "duration": 48,
    "start_time": "2022-03-09T16:17:29.297Z"
   },
   {
    "duration": 130,
    "start_time": "2022-03-09T16:17:29.436Z"
   },
   {
    "duration": 972,
    "start_time": "2022-03-10T06:31:41.036Z"
   },
   {
    "duration": 18,
    "start_time": "2022-03-10T06:31:42.010Z"
   },
   {
    "duration": 56,
    "start_time": "2022-03-10T06:31:42.031Z"
   },
   {
    "duration": 12,
    "start_time": "2022-03-10T06:31:42.090Z"
   },
   {
    "duration": 119,
    "start_time": "2022-03-10T06:31:42.104Z"
   },
   {
    "duration": 10,
    "start_time": "2022-03-10T06:31:42.225Z"
   },
   {
    "duration": 27,
    "start_time": "2022-03-10T06:31:42.237Z"
   },
   {
    "duration": 21,
    "start_time": "2022-03-10T06:31:42.266Z"
   },
   {
    "duration": 13,
    "start_time": "2022-03-10T06:31:42.291Z"
   },
   {
    "duration": 14,
    "start_time": "2022-03-10T06:31:42.308Z"
   },
   {
    "duration": 16,
    "start_time": "2022-03-10T06:31:42.325Z"
   },
   {
    "duration": 4,
    "start_time": "2022-03-10T06:31:42.343Z"
   },
   {
    "duration": 11,
    "start_time": "2022-03-10T06:31:42.350Z"
   },
   {
    "duration": 28,
    "start_time": "2022-03-10T06:31:42.364Z"
   },
   {
    "duration": 5,
    "start_time": "2022-03-10T06:31:42.395Z"
   },
   {
    "duration": 8,
    "start_time": "2022-03-10T06:31:42.402Z"
   },
   {
    "duration": 5,
    "start_time": "2022-03-10T06:31:42.412Z"
   },
   {
    "duration": 24,
    "start_time": "2022-03-10T06:31:42.419Z"
   },
   {
    "duration": 4,
    "start_time": "2022-03-10T06:31:42.445Z"
   },
   {
    "duration": 44,
    "start_time": "2022-03-10T06:31:42.451Z"
   },
   {
    "duration": 3,
    "start_time": "2022-03-10T06:31:42.498Z"
   },
   {
    "duration": 20,
    "start_time": "2022-03-10T06:31:42.503Z"
   },
   {
    "duration": 5,
    "start_time": "2022-03-10T06:31:42.525Z"
   },
   {
    "duration": 4,
    "start_time": "2022-03-10T06:31:42.533Z"
   },
   {
    "duration": 58,
    "start_time": "2022-03-10T06:31:42.539Z"
   },
   {
    "duration": 3,
    "start_time": "2022-03-10T06:31:42.600Z"
   },
   {
    "duration": 963,
    "start_time": "2022-03-10T06:31:42.608Z"
   },
   {
    "duration": 3,
    "start_time": "2022-03-10T06:31:43.574Z"
   },
   {
    "duration": 13,
    "start_time": "2022-03-10T06:31:43.579Z"
   },
   {
    "duration": 4,
    "start_time": "2022-03-10T06:31:43.594Z"
   },
   {
    "duration": 25,
    "start_time": "2022-03-10T06:31:43.600Z"
   },
   {
    "duration": 3,
    "start_time": "2022-03-10T06:31:43.628Z"
   },
   {
    "duration": 556,
    "start_time": "2022-03-10T06:31:43.633Z"
   },
   {
    "duration": 3,
    "start_time": "2022-03-10T06:31:44.192Z"
   },
   {
    "duration": 467,
    "start_time": "2022-03-10T06:31:44.198Z"
   },
   {
    "duration": 3,
    "start_time": "2022-03-10T06:31:44.668Z"
   },
   {
    "duration": 392,
    "start_time": "2022-03-10T06:31:44.673Z"
   },
   {
    "duration": 3,
    "start_time": "2022-03-10T06:31:45.067Z"
   },
   {
    "duration": 359,
    "start_time": "2022-03-10T06:31:45.087Z"
   },
   {
    "duration": 4,
    "start_time": "2022-03-10T06:31:45.448Z"
   },
   {
    "duration": 9,
    "start_time": "2022-03-10T06:31:45.454Z"
   },
   {
    "duration": 605,
    "start_time": "2022-03-10T06:31:45.465Z"
   },
   {
    "duration": 4,
    "start_time": "2022-03-10T06:31:46.072Z"
   },
   {
    "duration": 63,
    "start_time": "2022-03-10T06:31:46.078Z"
   },
   {
    "duration": 148,
    "start_time": "2022-03-10T06:31:46.144Z"
   },
   {
    "duration": 1162,
    "start_time": "2022-03-10T06:57:03.083Z"
   },
   {
    "duration": 16,
    "start_time": "2022-03-10T06:57:04.248Z"
   },
   {
    "duration": 60,
    "start_time": "2022-03-10T06:57:04.267Z"
   },
   {
    "duration": 13,
    "start_time": "2022-03-10T06:57:04.330Z"
   },
   {
    "duration": 131,
    "start_time": "2022-03-10T06:57:04.346Z"
   },
   {
    "duration": 11,
    "start_time": "2022-03-10T06:57:04.488Z"
   },
   {
    "duration": 24,
    "start_time": "2022-03-10T06:57:04.502Z"
   },
   {
    "duration": 3,
    "start_time": "2022-03-10T06:57:04.529Z"
   },
   {
    "duration": 52,
    "start_time": "2022-03-10T06:57:04.536Z"
   },
   {
    "duration": 3,
    "start_time": "2022-03-10T06:57:04.591Z"
   },
   {
    "duration": 14,
    "start_time": "2022-03-10T06:57:04.597Z"
   },
   {
    "duration": 3,
    "start_time": "2022-03-10T06:57:04.614Z"
   },
   {
    "duration": 13,
    "start_time": "2022-03-10T06:57:04.620Z"
   },
   {
    "duration": 8,
    "start_time": "2022-03-10T06:57:04.635Z"
   },
   {
    "duration": 41,
    "start_time": "2022-03-10T06:57:04.645Z"
   },
   {
    "duration": 6,
    "start_time": "2022-03-10T06:57:04.690Z"
   },
   {
    "duration": 12,
    "start_time": "2022-03-10T06:57:04.698Z"
   },
   {
    "duration": 33,
    "start_time": "2022-03-10T06:57:04.712Z"
   },
   {
    "duration": 9,
    "start_time": "2022-03-10T06:57:04.748Z"
   },
   {
    "duration": 26,
    "start_time": "2022-03-10T06:57:04.760Z"
   },
   {
    "duration": 21,
    "start_time": "2022-03-10T06:57:04.788Z"
   },
   {
    "duration": 23,
    "start_time": "2022-03-10T06:57:04.811Z"
   },
   {
    "duration": 7,
    "start_time": "2022-03-10T06:57:04.842Z"
   },
   {
    "duration": 8,
    "start_time": "2022-03-10T06:57:04.852Z"
   },
   {
    "duration": 26,
    "start_time": "2022-03-10T06:57:04.863Z"
   },
   {
    "duration": 3,
    "start_time": "2022-03-10T06:57:04.891Z"
   },
   {
    "duration": 1019,
    "start_time": "2022-03-10T06:57:04.896Z"
   },
   {
    "duration": 3,
    "start_time": "2022-03-10T06:57:05.918Z"
   },
   {
    "duration": 16,
    "start_time": "2022-03-10T06:57:05.924Z"
   },
   {
    "duration": 13,
    "start_time": "2022-03-10T06:57:05.943Z"
   },
   {
    "duration": 33,
    "start_time": "2022-03-10T06:57:05.959Z"
   },
   {
    "duration": 3,
    "start_time": "2022-03-10T06:57:05.995Z"
   },
   {
    "duration": 534,
    "start_time": "2022-03-10T06:57:06.000Z"
   },
   {
    "duration": 4,
    "start_time": "2022-03-10T06:57:06.537Z"
   },
   {
    "duration": 496,
    "start_time": "2022-03-10T06:57:06.544Z"
   },
   {
    "duration": 3,
    "start_time": "2022-03-10T06:57:07.043Z"
   },
   {
    "duration": 369,
    "start_time": "2022-03-10T06:57:07.048Z"
   },
   {
    "duration": 3,
    "start_time": "2022-03-10T06:57:07.419Z"
   },
   {
    "duration": 376,
    "start_time": "2022-03-10T06:57:07.424Z"
   },
   {
    "duration": 3,
    "start_time": "2022-03-10T06:57:07.803Z"
   },
   {
    "duration": 7,
    "start_time": "2022-03-10T06:57:07.808Z"
   },
   {
    "duration": 610,
    "start_time": "2022-03-10T06:57:07.818Z"
   },
   {
    "duration": 3,
    "start_time": "2022-03-10T06:57:08.430Z"
   },
   {
    "duration": 77,
    "start_time": "2022-03-10T06:57:08.435Z"
   },
   {
    "duration": 144,
    "start_time": "2022-03-10T06:57:08.514Z"
   },
   {
    "duration": 24,
    "start_time": "2022-03-10T07:00:08.313Z"
   },
   {
    "duration": 8,
    "start_time": "2022-03-10T07:01:50.532Z"
   },
   {
    "duration": 374,
    "start_time": "2022-03-10T07:02:40.153Z"
   },
   {
    "duration": 22,
    "start_time": "2022-03-10T07:04:21.342Z"
   },
   {
    "duration": 714,
    "start_time": "2022-03-10T07:05:42.901Z"
   },
   {
    "duration": 720,
    "start_time": "2022-03-10T07:06:19.173Z"
   },
   {
    "duration": 317,
    "start_time": "2022-03-10T07:07:29.593Z"
   },
   {
    "duration": 301,
    "start_time": "2022-03-10T07:08:21.393Z"
   },
   {
    "duration": 533,
    "start_time": "2022-03-10T07:09:05.533Z"
   },
   {
    "duration": 347,
    "start_time": "2022-03-10T07:09:27.804Z"
   },
   {
    "duration": 352,
    "start_time": "2022-03-10T07:09:34.493Z"
   },
   {
    "duration": 443,
    "start_time": "2022-03-10T07:09:41.573Z"
   },
   {
    "duration": 464,
    "start_time": "2022-03-10T07:10:46.093Z"
   },
   {
    "duration": 445,
    "start_time": "2022-03-10T07:11:37.552Z"
   },
   {
    "duration": 443,
    "start_time": "2022-03-10T07:12:13.013Z"
   },
   {
    "duration": 451,
    "start_time": "2022-03-10T07:12:19.413Z"
   },
   {
    "duration": 536,
    "start_time": "2022-03-10T07:12:48.509Z"
   },
   {
    "duration": 457,
    "start_time": "2022-03-10T07:13:21.334Z"
   },
   {
    "duration": 286,
    "start_time": "2022-03-10T07:13:25.433Z"
   },
   {
    "duration": 455,
    "start_time": "2022-03-10T07:13:47.413Z"
   },
   {
    "duration": 972,
    "start_time": "2022-03-10T07:24:42.269Z"
   },
   {
    "duration": 15,
    "start_time": "2022-03-10T07:24:43.244Z"
   },
   {
    "duration": 52,
    "start_time": "2022-03-10T07:24:43.262Z"
   },
   {
    "duration": 12,
    "start_time": "2022-03-10T07:24:43.316Z"
   },
   {
    "duration": 135,
    "start_time": "2022-03-10T07:24:43.331Z"
   },
   {
    "duration": 18,
    "start_time": "2022-03-10T07:24:43.469Z"
   },
   {
    "duration": 21,
    "start_time": "2022-03-10T07:24:43.490Z"
   },
   {
    "duration": 3,
    "start_time": "2022-03-10T07:24:43.513Z"
   },
   {
    "duration": 22,
    "start_time": "2022-03-10T07:24:43.518Z"
   },
   {
    "duration": 7,
    "start_time": "2022-03-10T07:24:43.542Z"
   },
   {
    "duration": 36,
    "start_time": "2022-03-10T07:24:43.551Z"
   },
   {
    "duration": 3,
    "start_time": "2022-03-10T07:24:43.589Z"
   },
   {
    "duration": 14,
    "start_time": "2022-03-10T07:24:43.595Z"
   },
   {
    "duration": 8,
    "start_time": "2022-03-10T07:24:43.611Z"
   },
   {
    "duration": 6,
    "start_time": "2022-03-10T07:24:43.621Z"
   },
   {
    "duration": 8,
    "start_time": "2022-03-10T07:24:43.629Z"
   },
   {
    "duration": 3,
    "start_time": "2022-03-10T07:24:43.687Z"
   },
   {
    "duration": 14,
    "start_time": "2022-03-10T07:24:43.698Z"
   },
   {
    "duration": 3,
    "start_time": "2022-03-10T07:24:43.714Z"
   },
   {
    "duration": 15,
    "start_time": "2022-03-10T07:24:43.719Z"
   },
   {
    "duration": 8,
    "start_time": "2022-03-10T07:24:43.737Z"
   },
   {
    "duration": 43,
    "start_time": "2022-03-10T07:24:43.748Z"
   },
   {
    "duration": 6,
    "start_time": "2022-03-10T07:24:43.794Z"
   },
   {
    "duration": 5,
    "start_time": "2022-03-10T07:24:43.803Z"
   },
   {
    "duration": 23,
    "start_time": "2022-03-10T07:24:43.811Z"
   },
   {
    "duration": 3,
    "start_time": "2022-03-10T07:24:43.836Z"
   },
   {
    "duration": 1045,
    "start_time": "2022-03-10T07:24:43.842Z"
   },
   {
    "duration": 3,
    "start_time": "2022-03-10T07:24:44.889Z"
   },
   {
    "duration": 12,
    "start_time": "2022-03-10T07:24:44.894Z"
   },
   {
    "duration": 6,
    "start_time": "2022-03-10T07:24:44.908Z"
   },
   {
    "duration": 71,
    "start_time": "2022-03-10T07:24:44.916Z"
   },
   {
    "duration": 3,
    "start_time": "2022-03-10T07:24:44.990Z"
   },
   {
    "duration": 997,
    "start_time": "2022-03-10T07:24:44.995Z"
   },
   {
    "duration": 4,
    "start_time": "2022-03-10T07:24:45.994Z"
   },
   {
    "duration": 564,
    "start_time": "2022-03-10T07:24:46.000Z"
   },
   {
    "duration": 3,
    "start_time": "2022-03-10T07:24:46.566Z"
   },
   {
    "duration": 458,
    "start_time": "2022-03-10T07:24:46.571Z"
   },
   {
    "duration": 4,
    "start_time": "2022-03-10T07:24:47.032Z"
   },
   {
    "duration": 362,
    "start_time": "2022-03-10T07:24:47.038Z"
   },
   {
    "duration": 3,
    "start_time": "2022-03-10T07:24:47.403Z"
   },
   {
    "duration": 7,
    "start_time": "2022-03-10T07:24:47.408Z"
   },
   {
    "duration": 576,
    "start_time": "2022-03-10T07:24:47.417Z"
   },
   {
    "duration": 3,
    "start_time": "2022-03-10T07:24:47.997Z"
   },
   {
    "duration": 54,
    "start_time": "2022-03-10T07:24:48.004Z"
   },
   {
    "duration": 162,
    "start_time": "2022-03-10T07:24:48.060Z"
   },
   {
    "duration": 3,
    "start_time": "2022-03-10T07:24:48.224Z"
   },
   {
    "duration": 505,
    "start_time": "2022-03-10T07:24:48.229Z"
   },
   {
    "duration": 6942,
    "start_time": "2022-03-10T07:24:48.737Z"
   },
   {
    "duration": 535,
    "start_time": "2022-03-10T07:25:07.590Z"
   },
   {
    "duration": 486,
    "start_time": "2022-03-10T07:25:35.833Z"
   },
   {
    "duration": 331,
    "start_time": "2022-03-10T07:25:44.456Z"
   },
   {
    "duration": 869,
    "start_time": "2022-03-10T07:25:54.469Z"
   },
   {
    "duration": 1000,
    "start_time": "2022-03-10T07:26:27.148Z"
   },
   {
    "duration": 845,
    "start_time": "2022-03-10T07:26:39.189Z"
   },
   {
    "duration": 794,
    "start_time": "2022-03-10T07:26:48.710Z"
   },
   {
    "duration": 819,
    "start_time": "2022-03-10T07:26:55.270Z"
   },
   {
    "duration": 877,
    "start_time": "2022-03-10T07:27:08.910Z"
   },
   {
    "duration": 840,
    "start_time": "2022-03-10T07:27:22.509Z"
   },
   {
    "duration": 895,
    "start_time": "2022-03-10T07:27:34.432Z"
   },
   {
    "duration": 7,
    "start_time": "2022-03-10T07:29:29.778Z"
   },
   {
    "duration": 790,
    "start_time": "2022-03-10T07:30:12.149Z"
   },
   {
    "duration": 84,
    "start_time": "2022-03-10T07:30:40.470Z"
   },
   {
    "duration": 93,
    "start_time": "2022-03-10T07:30:53.069Z"
   },
   {
    "duration": 946,
    "start_time": "2022-03-10T07:31:04.905Z"
   },
   {
    "duration": 18,
    "start_time": "2022-03-10T07:31:05.854Z"
   },
   {
    "duration": 39,
    "start_time": "2022-03-10T07:31:05.888Z"
   },
   {
    "duration": 12,
    "start_time": "2022-03-10T07:31:05.929Z"
   },
   {
    "duration": 137,
    "start_time": "2022-03-10T07:31:05.943Z"
   },
   {
    "duration": 10,
    "start_time": "2022-03-10T07:31:06.086Z"
   },
   {
    "duration": 28,
    "start_time": "2022-03-10T07:31:06.099Z"
   },
   {
    "duration": 3,
    "start_time": "2022-03-10T07:31:06.131Z"
   },
   {
    "duration": 17,
    "start_time": "2022-03-10T07:31:06.137Z"
   },
   {
    "duration": 6,
    "start_time": "2022-03-10T07:31:06.156Z"
   },
   {
    "duration": 10,
    "start_time": "2022-03-10T07:31:06.188Z"
   },
   {
    "duration": 6,
    "start_time": "2022-03-10T07:31:06.201Z"
   },
   {
    "duration": 16,
    "start_time": "2022-03-10T07:31:06.209Z"
   },
   {
    "duration": 7,
    "start_time": "2022-03-10T07:31:06.228Z"
   },
   {
    "duration": 5,
    "start_time": "2022-03-10T07:31:06.237Z"
   },
   {
    "duration": 12,
    "start_time": "2022-03-10T07:31:06.244Z"
   },
   {
    "duration": 31,
    "start_time": "2022-03-10T07:31:06.259Z"
   },
   {
    "duration": 23,
    "start_time": "2022-03-10T07:31:06.292Z"
   },
   {
    "duration": 3,
    "start_time": "2022-03-10T07:31:06.317Z"
   },
   {
    "duration": 13,
    "start_time": "2022-03-10T07:31:06.322Z"
   },
   {
    "duration": 3,
    "start_time": "2022-03-10T07:31:06.337Z"
   },
   {
    "duration": 16,
    "start_time": "2022-03-10T07:31:06.342Z"
   },
   {
    "duration": 6,
    "start_time": "2022-03-10T07:31:06.389Z"
   },
   {
    "duration": 8,
    "start_time": "2022-03-10T07:31:06.398Z"
   },
   {
    "duration": 21,
    "start_time": "2022-03-10T07:31:06.408Z"
   },
   {
    "duration": 3,
    "start_time": "2022-03-10T07:31:06.431Z"
   },
   {
    "duration": 1356,
    "start_time": "2022-03-10T07:31:06.436Z"
   },
   {
    "duration": 3,
    "start_time": "2022-03-10T07:31:07.794Z"
   },
   {
    "duration": 10,
    "start_time": "2022-03-10T07:31:07.800Z"
   },
   {
    "duration": 4,
    "start_time": "2022-03-10T07:31:07.812Z"
   },
   {
    "duration": 19,
    "start_time": "2022-03-10T07:31:07.818Z"
   },
   {
    "duration": 3,
    "start_time": "2022-03-10T07:31:07.840Z"
   },
   {
    "duration": 552,
    "start_time": "2022-03-10T07:31:07.845Z"
   },
   {
    "duration": 3,
    "start_time": "2022-03-10T07:31:08.400Z"
   },
   {
    "duration": 489,
    "start_time": "2022-03-10T07:31:08.405Z"
   },
   {
    "duration": 3,
    "start_time": "2022-03-10T07:31:08.896Z"
   },
   {
    "duration": 375,
    "start_time": "2022-03-10T07:31:08.901Z"
   },
   {
    "duration": 9,
    "start_time": "2022-03-10T07:31:09.278Z"
   },
   {
    "duration": 352,
    "start_time": "2022-03-10T07:31:09.290Z"
   },
   {
    "duration": 3,
    "start_time": "2022-03-10T07:31:09.644Z"
   },
   {
    "duration": 9,
    "start_time": "2022-03-10T07:31:09.649Z"
   },
   {
    "duration": 590,
    "start_time": "2022-03-10T07:31:09.660Z"
   },
   {
    "duration": 3,
    "start_time": "2022-03-10T07:31:10.252Z"
   },
   {
    "duration": 72,
    "start_time": "2022-03-10T07:31:10.258Z"
   },
   {
    "duration": 141,
    "start_time": "2022-03-10T07:31:10.332Z"
   },
   {
    "duration": 3,
    "start_time": "2022-03-10T07:31:10.476Z"
   },
   {
    "duration": 102,
    "start_time": "2022-03-10T07:31:10.487Z"
   },
   {
    "duration": -626,
    "start_time": "2022-03-10T07:31:11.217Z"
   },
   {
    "duration": 96,
    "start_time": "2022-03-10T07:31:20.465Z"
   },
   {
    "duration": 825,
    "start_time": "2022-03-10T07:31:23.384Z"
   },
   {
    "duration": 1208,
    "start_time": "2022-03-10T07:38:05.306Z"
   },
   {
    "duration": 1142,
    "start_time": "2022-03-10T07:38:22.265Z"
   },
   {
    "duration": 1096,
    "start_time": "2022-03-10T07:39:52.296Z"
   },
   {
    "duration": 1045,
    "start_time": "2022-03-10T07:39:59.144Z"
   },
   {
    "duration": 918,
    "start_time": "2022-03-10T07:40:08.704Z"
   },
   {
    "duration": 16,
    "start_time": "2022-03-10T07:40:09.625Z"
   },
   {
    "duration": 59,
    "start_time": "2022-03-10T07:40:09.645Z"
   },
   {
    "duration": 14,
    "start_time": "2022-03-10T07:40:09.707Z"
   },
   {
    "duration": 139,
    "start_time": "2022-03-10T07:40:09.723Z"
   },
   {
    "duration": 22,
    "start_time": "2022-03-10T07:40:09.865Z"
   },
   {
    "duration": 24,
    "start_time": "2022-03-10T07:40:09.890Z"
   },
   {
    "duration": 3,
    "start_time": "2022-03-10T07:40:09.919Z"
   },
   {
    "duration": 13,
    "start_time": "2022-03-10T07:40:09.926Z"
   },
   {
    "duration": 4,
    "start_time": "2022-03-10T07:40:09.942Z"
   },
   {
    "duration": 8,
    "start_time": "2022-03-10T07:40:09.988Z"
   },
   {
    "duration": 4,
    "start_time": "2022-03-10T07:40:09.999Z"
   },
   {
    "duration": 15,
    "start_time": "2022-03-10T07:40:10.006Z"
   },
   {
    "duration": 11,
    "start_time": "2022-03-10T07:40:10.024Z"
   },
   {
    "duration": 54,
    "start_time": "2022-03-10T07:40:10.037Z"
   },
   {
    "duration": 7,
    "start_time": "2022-03-10T07:40:10.094Z"
   },
   {
    "duration": 8,
    "start_time": "2022-03-10T07:40:10.103Z"
   },
   {
    "duration": 27,
    "start_time": "2022-03-10T07:40:10.114Z"
   },
   {
    "duration": 4,
    "start_time": "2022-03-10T07:40:10.143Z"
   },
   {
    "duration": 43,
    "start_time": "2022-03-10T07:40:10.150Z"
   },
   {
    "duration": 4,
    "start_time": "2022-03-10T07:40:10.195Z"
   },
   {
    "duration": 17,
    "start_time": "2022-03-10T07:40:10.202Z"
   },
   {
    "duration": 6,
    "start_time": "2022-03-10T07:40:10.226Z"
   },
   {
    "duration": 8,
    "start_time": "2022-03-10T07:40:10.236Z"
   },
   {
    "duration": 54,
    "start_time": "2022-03-10T07:40:10.246Z"
   },
   {
    "duration": 4,
    "start_time": "2022-03-10T07:40:10.302Z"
   },
   {
    "duration": 955,
    "start_time": "2022-03-10T07:40:10.309Z"
   },
   {
    "duration": 3,
    "start_time": "2022-03-10T07:40:11.267Z"
   },
   {
    "duration": 10,
    "start_time": "2022-03-10T07:40:11.286Z"
   },
   {
    "duration": 5,
    "start_time": "2022-03-10T07:40:11.299Z"
   },
   {
    "duration": 24,
    "start_time": "2022-03-10T07:40:11.307Z"
   },
   {
    "duration": 3,
    "start_time": "2022-03-10T07:40:11.333Z"
   },
   {
    "duration": 549,
    "start_time": "2022-03-10T07:40:11.339Z"
   },
   {
    "duration": 3,
    "start_time": "2022-03-10T07:40:11.891Z"
   },
   {
    "duration": 445,
    "start_time": "2022-03-10T07:40:11.896Z"
   },
   {
    "duration": 3,
    "start_time": "2022-03-10T07:40:12.344Z"
   },
   {
    "duration": 372,
    "start_time": "2022-03-10T07:40:12.349Z"
   },
   {
    "duration": 3,
    "start_time": "2022-03-10T07:40:12.723Z"
   },
   {
    "duration": 362,
    "start_time": "2022-03-10T07:40:12.729Z"
   },
   {
    "duration": 3,
    "start_time": "2022-03-10T07:40:13.094Z"
   },
   {
    "duration": 8,
    "start_time": "2022-03-10T07:40:13.099Z"
   },
   {
    "duration": 582,
    "start_time": "2022-03-10T07:40:13.109Z"
   },
   {
    "duration": 3,
    "start_time": "2022-03-10T07:40:13.693Z"
   },
   {
    "duration": 60,
    "start_time": "2022-03-10T07:40:13.699Z"
   },
   {
    "duration": 152,
    "start_time": "2022-03-10T07:40:13.761Z"
   },
   {
    "duration": 3,
    "start_time": "2022-03-10T07:40:13.915Z"
   },
   {
    "duration": 1199,
    "start_time": "2022-03-10T07:40:13.920Z"
   },
   {
    "duration": -594,
    "start_time": "2022-03-10T07:40:15.716Z"
   },
   {
    "duration": 80,
    "start_time": "2022-03-10T07:40:49.584Z"
   },
   {
    "duration": 987,
    "start_time": "2022-03-10T07:40:57.554Z"
   },
   {
    "duration": 17,
    "start_time": "2022-03-10T07:40:58.544Z"
   },
   {
    "duration": 54,
    "start_time": "2022-03-10T07:40:58.564Z"
   },
   {
    "duration": 13,
    "start_time": "2022-03-10T07:40:58.620Z"
   },
   {
    "duration": 138,
    "start_time": "2022-03-10T07:40:58.635Z"
   },
   {
    "duration": 9,
    "start_time": "2022-03-10T07:40:58.786Z"
   },
   {
    "duration": 20,
    "start_time": "2022-03-10T07:40:58.798Z"
   },
   {
    "duration": 3,
    "start_time": "2022-03-10T07:40:58.822Z"
   },
   {
    "duration": 66,
    "start_time": "2022-03-10T07:40:58.828Z"
   },
   {
    "duration": 6,
    "start_time": "2022-03-10T07:40:58.897Z"
   },
   {
    "duration": 6,
    "start_time": "2022-03-10T07:40:58.906Z"
   },
   {
    "duration": 5,
    "start_time": "2022-03-10T07:40:58.915Z"
   },
   {
    "duration": 14,
    "start_time": "2022-03-10T07:40:58.923Z"
   },
   {
    "duration": 8,
    "start_time": "2022-03-10T07:40:58.987Z"
   },
   {
    "duration": 5,
    "start_time": "2022-03-10T07:40:58.998Z"
   },
   {
    "duration": 7,
    "start_time": "2022-03-10T07:40:59.005Z"
   },
   {
    "duration": 7,
    "start_time": "2022-03-10T07:40:59.014Z"
   },
   {
    "duration": 64,
    "start_time": "2022-03-10T07:40:59.023Z"
   },
   {
    "duration": 3,
    "start_time": "2022-03-10T07:40:59.089Z"
   },
   {
    "duration": 16,
    "start_time": "2022-03-10T07:40:59.094Z"
   },
   {
    "duration": 3,
    "start_time": "2022-03-10T07:40:59.113Z"
   },
   {
    "duration": 18,
    "start_time": "2022-03-10T07:40:59.118Z"
   },
   {
    "duration": 51,
    "start_time": "2022-03-10T07:40:59.141Z"
   },
   {
    "duration": 13,
    "start_time": "2022-03-10T07:40:59.195Z"
   },
   {
    "duration": 33,
    "start_time": "2022-03-10T07:40:59.210Z"
   },
   {
    "duration": 44,
    "start_time": "2022-03-10T07:40:59.245Z"
   },
   {
    "duration": 1315,
    "start_time": "2022-03-10T07:40:59.291Z"
   },
   {
    "duration": 3,
    "start_time": "2022-03-10T07:41:00.608Z"
   },
   {
    "duration": 18,
    "start_time": "2022-03-10T07:41:00.613Z"
   },
   {
    "duration": 10,
    "start_time": "2022-03-10T07:41:00.634Z"
   },
   {
    "duration": 25,
    "start_time": "2022-03-10T07:41:00.646Z"
   },
   {
    "duration": 13,
    "start_time": "2022-03-10T07:41:00.674Z"
   },
   {
    "duration": 531,
    "start_time": "2022-03-10T07:41:00.689Z"
   },
   {
    "duration": 3,
    "start_time": "2022-03-10T07:41:01.223Z"
   },
   {
    "duration": 471,
    "start_time": "2022-03-10T07:41:01.230Z"
   },
   {
    "duration": 4,
    "start_time": "2022-03-10T07:41:01.704Z"
   },
   {
    "duration": 374,
    "start_time": "2022-03-10T07:41:01.712Z"
   },
   {
    "duration": 4,
    "start_time": "2022-03-10T07:41:02.089Z"
   },
   {
    "duration": 399,
    "start_time": "2022-03-10T07:41:02.096Z"
   },
   {
    "duration": 4,
    "start_time": "2022-03-10T07:41:02.498Z"
   },
   {
    "duration": 13,
    "start_time": "2022-03-10T07:41:02.505Z"
   },
   {
    "duration": 585,
    "start_time": "2022-03-10T07:41:02.521Z"
   },
   {
    "duration": 4,
    "start_time": "2022-03-10T07:41:03.109Z"
   },
   {
    "duration": 83,
    "start_time": "2022-03-10T07:41:03.116Z"
   },
   {
    "duration": 146,
    "start_time": "2022-03-10T07:41:03.202Z"
   },
   {
    "duration": 3,
    "start_time": "2022-03-10T07:41:03.352Z"
   },
   {
    "duration": 1665,
    "start_time": "2022-03-10T07:41:03.358Z"
   },
   {
    "duration": -670,
    "start_time": "2022-03-10T07:41:05.696Z"
   },
   {
    "duration": 1808,
    "start_time": "2022-03-10T07:41:42.031Z"
   },
   {
    "duration": 846,
    "start_time": "2022-03-10T07:45:09.104Z"
   },
   {
    "duration": 109,
    "start_time": "2022-03-10T07:46:24.744Z"
   },
   {
    "duration": 100,
    "start_time": "2022-03-10T07:46:33.744Z"
   },
   {
    "duration": 91,
    "start_time": "2022-03-10T07:46:37.745Z"
   },
   {
    "duration": 1046,
    "start_time": "2022-03-10T07:46:47.024Z"
   },
   {
    "duration": 789,
    "start_time": "2022-03-10T07:47:05.825Z"
   },
   {
    "duration": 817,
    "start_time": "2022-03-10T07:49:23.425Z"
   },
   {
    "duration": 773,
    "start_time": "2022-03-10T07:49:37.145Z"
   },
   {
    "duration": 885,
    "start_time": "2022-03-10T07:50:22.265Z"
   },
   {
    "duration": 941,
    "start_time": "2022-03-10T07:50:41.108Z"
   },
   {
    "duration": 17,
    "start_time": "2022-03-10T07:50:42.051Z"
   },
   {
    "duration": 53,
    "start_time": "2022-03-10T07:50:42.071Z"
   },
   {
    "duration": 12,
    "start_time": "2022-03-10T07:50:42.127Z"
   },
   {
    "duration": 133,
    "start_time": "2022-03-10T07:50:42.141Z"
   },
   {
    "duration": 10,
    "start_time": "2022-03-10T07:50:42.286Z"
   },
   {
    "duration": 20,
    "start_time": "2022-03-10T07:50:42.298Z"
   },
   {
    "duration": 2,
    "start_time": "2022-03-10T07:50:42.322Z"
   },
   {
    "duration": 14,
    "start_time": "2022-03-10T07:50:42.327Z"
   },
   {
    "duration": 6,
    "start_time": "2022-03-10T07:50:42.343Z"
   },
   {
    "duration": 38,
    "start_time": "2022-03-10T07:50:42.351Z"
   },
   {
    "duration": 2,
    "start_time": "2022-03-10T07:50:42.392Z"
   },
   {
    "duration": 21,
    "start_time": "2022-03-10T07:50:42.396Z"
   },
   {
    "duration": 8,
    "start_time": "2022-03-10T07:50:42.419Z"
   },
   {
    "duration": 5,
    "start_time": "2022-03-10T07:50:42.429Z"
   },
   {
    "duration": 7,
    "start_time": "2022-03-10T07:50:42.436Z"
   },
   {
    "duration": 4,
    "start_time": "2022-03-10T07:50:42.445Z"
   },
   {
    "duration": 14,
    "start_time": "2022-03-10T07:50:42.488Z"
   },
   {
    "duration": 3,
    "start_time": "2022-03-10T07:50:42.504Z"
   },
   {
    "duration": 13,
    "start_time": "2022-03-10T07:50:42.510Z"
   },
   {
    "duration": 4,
    "start_time": "2022-03-10T07:50:42.526Z"
   },
   {
    "duration": 59,
    "start_time": "2022-03-10T07:50:42.533Z"
   },
   {
    "duration": 5,
    "start_time": "2022-03-10T07:50:42.597Z"
   },
   {
    "duration": 7,
    "start_time": "2022-03-10T07:50:42.605Z"
   },
   {
    "duration": 22,
    "start_time": "2022-03-10T07:50:42.614Z"
   },
   {
    "duration": 4,
    "start_time": "2022-03-10T07:50:42.638Z"
   },
   {
    "duration": 981,
    "start_time": "2022-03-10T07:50:42.644Z"
   },
   {
    "duration": 3,
    "start_time": "2022-03-10T07:50:43.627Z"
   },
   {
    "duration": 16,
    "start_time": "2022-03-10T07:50:43.632Z"
   },
   {
    "duration": 3,
    "start_time": "2022-03-10T07:50:43.651Z"
   },
   {
    "duration": 34,
    "start_time": "2022-03-10T07:50:43.656Z"
   },
   {
    "duration": 3,
    "start_time": "2022-03-10T07:50:43.692Z"
   },
   {
    "duration": 506,
    "start_time": "2022-03-10T07:50:43.699Z"
   },
   {
    "duration": 3,
    "start_time": "2022-03-10T07:50:44.208Z"
   },
   {
    "duration": 453,
    "start_time": "2022-03-10T07:50:44.213Z"
   },
   {
    "duration": 3,
    "start_time": "2022-03-10T07:50:44.669Z"
   },
   {
    "duration": 357,
    "start_time": "2022-03-10T07:50:44.674Z"
   },
   {
    "duration": 3,
    "start_time": "2022-03-10T07:50:45.034Z"
   },
   {
    "duration": 367,
    "start_time": "2022-03-10T07:50:45.039Z"
   },
   {
    "duration": 3,
    "start_time": "2022-03-10T07:50:45.409Z"
   },
   {
    "duration": 8,
    "start_time": "2022-03-10T07:50:45.414Z"
   },
   {
    "duration": 587,
    "start_time": "2022-03-10T07:50:45.425Z"
   },
   {
    "duration": 3,
    "start_time": "2022-03-10T07:50:46.014Z"
   },
   {
    "duration": 69,
    "start_time": "2022-03-10T07:50:46.020Z"
   },
   {
    "duration": 144,
    "start_time": "2022-03-10T07:50:46.092Z"
   },
   {
    "duration": 4,
    "start_time": "2022-03-10T07:50:46.239Z"
   },
   {
    "duration": 828,
    "start_time": "2022-03-10T07:50:46.246Z"
   },
   {
    "duration": 11,
    "start_time": "2022-03-10T07:50:47.077Z"
   },
   {
    "duration": 812,
    "start_time": "2022-03-10T07:50:47.090Z"
   },
   {
    "duration": 878,
    "start_time": "2022-03-10T07:51:53.468Z"
   },
   {
    "duration": 3,
    "start_time": "2022-03-10T07:55:05.807Z"
   },
   {
    "duration": 812,
    "start_time": "2022-03-10T07:55:06.087Z"
   },
   {
    "duration": 3,
    "start_time": "2022-03-10T07:55:06.902Z"
   },
   {
    "duration": 975,
    "start_time": "2022-03-10T07:59:15.943Z"
   },
   {
    "duration": 4,
    "start_time": "2022-03-10T07:59:17.267Z"
   },
   {
    "duration": 405,
    "start_time": "2022-03-10T07:59:18.500Z"
   },
   {
    "duration": -1061,
    "start_time": "2022-03-10T07:59:19.969Z"
   },
   {
    "duration": -1064,
    "start_time": "2022-03-10T07:59:19.973Z"
   },
   {
    "duration": 3,
    "start_time": "2022-03-10T07:59:19.268Z"
   },
   {
    "duration": 454,
    "start_time": "2022-03-10T07:59:20.036Z"
   },
   {
    "duration": 3,
    "start_time": "2022-03-10T07:59:20.848Z"
   },
   {
    "duration": 442,
    "start_time": "2022-03-10T07:59:21.708Z"
   },
   {
    "duration": 5,
    "start_time": "2022-03-10T07:59:22.152Z"
   },
   {
    "duration": 358,
    "start_time": "2022-03-10T07:59:22.708Z"
   },
   {
    "duration": 4,
    "start_time": "2022-03-10T07:59:23.068Z"
   },
   {
    "duration": 340,
    "start_time": "2022-03-10T07:59:23.328Z"
   },
   {
    "duration": 16,
    "start_time": "2022-03-10T07:59:23.671Z"
   },
   {
    "duration": 4,
    "start_time": "2022-03-10T07:59:24.105Z"
   },
   {
    "duration": 652,
    "start_time": "2022-03-10T07:59:24.268Z"
   },
   {
    "duration": 4,
    "start_time": "2022-03-10T07:59:24.924Z"
   },
   {
    "duration": 55,
    "start_time": "2022-03-10T07:59:25.287Z"
   },
   {
    "duration": 132,
    "start_time": "2022-03-10T07:59:27.347Z"
   },
   {
    "duration": 720,
    "start_time": "2022-03-10T08:00:09.747Z"
   },
   {
    "duration": 313,
    "start_time": "2022-03-10T08:00:29.148Z"
   },
   {
    "duration": 776,
    "start_time": "2022-03-10T08:00:44.367Z"
   },
   {
    "duration": 763,
    "start_time": "2022-03-10T08:00:57.787Z"
   },
   {
    "duration": 16,
    "start_time": "2022-03-10T08:01:29.510Z"
   },
   {
    "duration": 4,
    "start_time": "2022-03-10T08:01:47.727Z"
   },
   {
    "duration": 609,
    "start_time": "2022-03-10T08:02:21.427Z"
   },
   {
    "duration": 1333,
    "start_time": "2022-03-10T08:03:05.908Z"
   },
   {
    "duration": 274,
    "start_time": "2022-03-10T08:03:56.663Z"
   },
   {
    "duration": 285,
    "start_time": "2022-03-10T08:04:09.924Z"
   },
   {
    "duration": 92,
    "start_time": "2022-03-10T08:10:24.940Z"
   },
   {
    "duration": 94,
    "start_time": "2022-03-10T08:11:12.840Z"
   },
   {
    "duration": 91,
    "start_time": "2022-03-10T08:11:25.640Z"
   },
   {
    "duration": 352,
    "start_time": "2022-03-10T08:12:15.880Z"
   },
   {
    "duration": 257,
    "start_time": "2022-03-10T08:12:20.101Z"
   },
   {
    "duration": 844,
    "start_time": "2022-03-10T08:14:25.860Z"
   },
   {
    "duration": 835,
    "start_time": "2022-03-10T08:15:41.740Z"
   },
   {
    "duration": 852,
    "start_time": "2022-03-10T08:15:47.014Z"
   },
   {
    "duration": 850,
    "start_time": "2022-03-10T08:15:50.340Z"
   },
   {
    "duration": 904,
    "start_time": "2022-03-10T08:16:02.620Z"
   },
   {
    "duration": 815,
    "start_time": "2022-03-10T08:18:44.399Z"
   },
   {
    "duration": 789,
    "start_time": "2022-03-10T08:19:04.121Z"
   },
   {
    "duration": 813,
    "start_time": "2022-03-10T08:19:26.980Z"
   },
   {
    "duration": 776,
    "start_time": "2022-03-10T08:19:39.180Z"
   },
   {
    "duration": 883,
    "start_time": "2022-03-10T08:19:46.980Z"
   },
   {
    "duration": 933,
    "start_time": "2022-03-10T08:19:54.341Z"
   },
   {
    "duration": 808,
    "start_time": "2022-03-10T08:20:02.661Z"
   },
   {
    "duration": 789,
    "start_time": "2022-03-10T08:20:08.240Z"
   },
   {
    "duration": 760,
    "start_time": "2022-03-10T08:23:32.261Z"
   },
   {
    "duration": 745,
    "start_time": "2022-03-10T08:23:39.727Z"
   },
   {
    "duration": 756,
    "start_time": "2022-03-10T08:24:03.820Z"
   },
   {
    "duration": 886,
    "start_time": "2022-03-10T08:24:13.617Z"
   },
   {
    "duration": 823,
    "start_time": "2022-03-10T08:24:18.242Z"
   },
   {
    "duration": 801,
    "start_time": "2022-03-10T08:34:23.444Z"
   },
   {
    "duration": 804,
    "start_time": "2022-03-10T08:34:34.604Z"
   },
   {
    "duration": 804,
    "start_time": "2022-03-10T08:34:49.463Z"
   },
   {
    "duration": 897,
    "start_time": "2022-03-10T08:34:55.084Z"
   },
   {
    "duration": 14,
    "start_time": "2022-03-10T08:52:58.335Z"
   },
   {
    "duration": 325,
    "start_time": "2022-03-10T08:53:15.579Z"
   },
   {
    "duration": 322,
    "start_time": "2022-03-10T08:53:23.796Z"
   },
   {
    "duration": 81,
    "start_time": "2022-03-10T08:58:13.555Z"
   },
   {
    "duration": 298,
    "start_time": "2022-03-10T08:58:18.538Z"
   },
   {
    "duration": 288,
    "start_time": "2022-03-10T08:58:34.195Z"
   },
   {
    "duration": 25,
    "start_time": "2022-03-10T08:58:55.754Z"
   },
   {
    "duration": 105,
    "start_time": "2022-03-10T09:00:11.983Z"
   },
   {
    "duration": 291,
    "start_time": "2022-03-10T09:00:16.296Z"
   },
   {
    "duration": 297,
    "start_time": "2022-03-10T09:00:35.735Z"
   },
   {
    "duration": 11,
    "start_time": "2022-03-10T09:01:36.615Z"
   },
   {
    "duration": 12,
    "start_time": "2022-03-10T09:01:44.101Z"
   },
   {
    "duration": 11,
    "start_time": "2022-03-10T09:01:52.175Z"
   },
   {
    "duration": 119,
    "start_time": "2022-03-10T09:02:27.139Z"
   },
   {
    "duration": 717,
    "start_time": "2022-03-10T09:02:34.795Z"
   },
   {
    "duration": 283,
    "start_time": "2022-03-10T09:02:55.581Z"
   },
   {
    "duration": 11,
    "start_time": "2022-03-10T09:03:02.415Z"
   },
   {
    "duration": 277,
    "start_time": "2022-03-10T09:04:13.716Z"
   },
   {
    "duration": 23,
    "start_time": "2022-03-10T09:04:19.075Z"
   },
   {
    "duration": 288,
    "start_time": "2022-03-10T09:04:49.495Z"
   },
   {
    "duration": 281,
    "start_time": "2022-03-10T09:04:55.715Z"
   },
   {
    "duration": 18,
    "start_time": "2022-03-10T09:05:19.417Z"
   },
   {
    "duration": 26,
    "start_time": "2022-03-10T09:05:24.415Z"
   },
   {
    "duration": 11,
    "start_time": "2022-03-10T09:07:20.334Z"
   },
   {
    "duration": 715,
    "start_time": "2022-03-10T12:32:31.747Z"
   },
   {
    "duration": 11,
    "start_time": "2022-03-10T12:32:32.465Z"
   },
   {
    "duration": 27,
    "start_time": "2022-03-10T12:32:32.478Z"
   },
   {
    "duration": 14,
    "start_time": "2022-03-10T12:32:32.507Z"
   },
   {
    "duration": 84,
    "start_time": "2022-03-10T12:32:32.522Z"
   },
   {
    "duration": 7,
    "start_time": "2022-03-10T12:32:32.608Z"
   },
   {
    "duration": 35,
    "start_time": "2022-03-10T12:32:32.616Z"
   },
   {
    "duration": 2,
    "start_time": "2022-03-10T12:32:32.653Z"
   },
   {
    "duration": 15,
    "start_time": "2022-03-10T12:32:32.658Z"
   },
   {
    "duration": 11,
    "start_time": "2022-03-10T12:32:32.675Z"
   },
   {
    "duration": 7,
    "start_time": "2022-03-10T12:32:32.687Z"
   },
   {
    "duration": 8,
    "start_time": "2022-03-10T12:32:32.696Z"
   },
   {
    "duration": 10,
    "start_time": "2022-03-10T12:32:32.706Z"
   },
   {
    "duration": 9,
    "start_time": "2022-03-10T12:32:32.718Z"
   },
   {
    "duration": 4,
    "start_time": "2022-03-10T12:32:32.738Z"
   },
   {
    "duration": 9,
    "start_time": "2022-03-10T12:32:32.744Z"
   },
   {
    "duration": 5,
    "start_time": "2022-03-10T12:32:32.755Z"
   },
   {
    "duration": 17,
    "start_time": "2022-03-10T12:32:32.761Z"
   },
   {
    "duration": 2,
    "start_time": "2022-03-10T12:32:32.780Z"
   },
   {
    "duration": 13,
    "start_time": "2022-03-10T12:32:32.784Z"
   },
   {
    "duration": 4,
    "start_time": "2022-03-10T12:32:32.799Z"
   },
   {
    "duration": 11,
    "start_time": "2022-03-10T12:32:32.804Z"
   },
   {
    "duration": 20,
    "start_time": "2022-03-10T12:32:32.819Z"
   },
   {
    "duration": 2,
    "start_time": "2022-03-10T12:32:32.841Z"
   },
   {
    "duration": 20,
    "start_time": "2022-03-10T12:32:32.845Z"
   },
   {
    "duration": 3,
    "start_time": "2022-03-10T12:32:32.866Z"
   },
   {
    "duration": 587,
    "start_time": "2022-03-10T12:32:32.870Z"
   },
   {
    "duration": 2,
    "start_time": "2022-03-10T12:32:33.459Z"
   },
   {
    "duration": 32,
    "start_time": "2022-03-10T12:32:33.463Z"
   },
   {
    "duration": 3,
    "start_time": "2022-03-10T12:32:33.497Z"
   },
   {
    "duration": 17,
    "start_time": "2022-03-10T12:32:33.501Z"
   },
   {
    "duration": 2,
    "start_time": "2022-03-10T12:32:33.519Z"
   },
   {
    "duration": 336,
    "start_time": "2022-03-10T12:32:33.523Z"
   },
   {
    "duration": 2,
    "start_time": "2022-03-10T12:32:33.860Z"
   },
   {
    "duration": 307,
    "start_time": "2022-03-10T12:32:33.864Z"
   },
   {
    "duration": 2,
    "start_time": "2022-03-10T12:32:34.173Z"
   },
   {
    "duration": 250,
    "start_time": "2022-03-10T12:32:34.177Z"
   },
   {
    "duration": 10,
    "start_time": "2022-03-10T12:32:34.429Z"
   },
   {
    "duration": 238,
    "start_time": "2022-03-10T12:32:34.441Z"
   },
   {
    "duration": 2,
    "start_time": "2022-03-10T12:32:34.682Z"
   },
   {
    "duration": 9,
    "start_time": "2022-03-10T12:32:34.686Z"
   },
   {
    "duration": 382,
    "start_time": "2022-03-10T12:32:34.696Z"
   },
   {
    "duration": 3,
    "start_time": "2022-03-10T12:32:35.080Z"
   },
   {
    "duration": 53,
    "start_time": "2022-03-10T12:32:35.084Z"
   },
   {
    "duration": 99,
    "start_time": "2022-03-10T12:32:35.139Z"
   },
   {
    "duration": 2,
    "start_time": "2022-03-10T12:32:35.241Z"
   },
   {
    "duration": 537,
    "start_time": "2022-03-10T12:32:35.245Z"
   },
   {
    "duration": 2,
    "start_time": "2022-03-10T12:32:35.783Z"
   },
   {
    "duration": 530,
    "start_time": "2022-03-10T12:32:35.787Z"
   },
   {
    "duration": 2,
    "start_time": "2022-03-10T12:32:36.320Z"
   },
   {
    "duration": 266,
    "start_time": "2022-03-10T12:32:36.324Z"
   },
   {
    "duration": 2,
    "start_time": "2022-03-10T12:32:36.591Z"
   },
   {
    "duration": 546,
    "start_time": "2022-03-10T12:32:36.595Z"
   },
   {
    "duration": 3,
    "start_time": "2022-03-10T12:32:37.143Z"
   },
   {
    "duration": 516,
    "start_time": "2022-03-10T12:32:37.147Z"
   },
   {
    "duration": 3,
    "start_time": "2022-03-10T12:32:37.664Z"
   },
   {
    "duration": 521,
    "start_time": "2022-03-10T12:32:37.668Z"
   },
   {
    "duration": 2,
    "start_time": "2022-03-10T12:32:38.191Z"
   },
   {
    "duration": 518,
    "start_time": "2022-03-10T12:32:38.195Z"
   },
   {
    "duration": 3,
    "start_time": "2022-03-10T12:32:38.715Z"
   },
   {
    "duration": 7,
    "start_time": "2022-03-10T12:32:38.719Z"
   },
   {
    "duration": 16,
    "start_time": "2022-03-10T12:32:38.728Z"
   },
   {
    "duration": 11,
    "start_time": "2022-03-10T12:38:55.701Z"
   },
   {
    "duration": 21,
    "start_time": "2022-03-10T12:39:32.078Z"
   },
   {
    "duration": 21,
    "start_time": "2022-03-10T12:40:01.280Z"
   },
   {
    "duration": 222,
    "start_time": "2022-03-10T12:41:38.020Z"
   },
   {
    "duration": 175,
    "start_time": "2022-03-10T12:42:59.910Z"
   },
   {
    "duration": 21,
    "start_time": "2022-03-10T12:43:17.939Z"
   },
   {
    "duration": 65,
    "start_time": "2022-03-10T12:43:38.180Z"
   },
   {
    "duration": 26,
    "start_time": "2022-03-10T12:43:43.240Z"
   },
   {
    "duration": 157,
    "start_time": "2022-03-10T12:44:17.184Z"
   },
   {
    "duration": 20,
    "start_time": "2022-03-10T12:44:27.400Z"
   },
   {
    "duration": 27,
    "start_time": "2022-03-10T12:44:30.119Z"
   },
   {
    "duration": 24,
    "start_time": "2022-03-10T12:44:44.020Z"
   },
   {
    "duration": 25,
    "start_time": "2022-03-10T12:44:51.700Z"
   },
   {
    "duration": 26,
    "start_time": "2022-03-10T12:45:03.303Z"
   },
   {
    "duration": 25,
    "start_time": "2022-03-10T12:45:19.320Z"
   },
   {
    "duration": 19,
    "start_time": "2022-03-10T12:46:39.501Z"
   },
   {
    "duration": 26,
    "start_time": "2022-03-10T12:46:44.861Z"
   },
   {
    "duration": 19,
    "start_time": "2022-03-10T12:46:56.227Z"
   },
   {
    "duration": 25,
    "start_time": "2022-03-10T12:47:02.400Z"
   },
   {
    "duration": 163,
    "start_time": "2022-03-10T12:48:21.821Z"
   },
   {
    "duration": 27,
    "start_time": "2022-03-10T12:48:43.942Z"
   },
   {
    "duration": 25,
    "start_time": "2022-03-10T12:49:01.602Z"
   },
   {
    "duration": 43,
    "start_time": "2022-03-10T12:49:22.261Z"
   },
   {
    "duration": 48,
    "start_time": "2022-03-10T12:49:26.761Z"
   },
   {
    "duration": 44,
    "start_time": "2022-03-10T12:49:59.041Z"
   },
   {
    "duration": 48,
    "start_time": "2022-03-10T12:50:03.481Z"
   },
   {
    "duration": 46,
    "start_time": "2022-03-10T12:50:11.482Z"
   },
   {
    "duration": 49,
    "start_time": "2022-03-10T12:51:16.941Z"
   },
   {
    "duration": 24,
    "start_time": "2022-03-10T12:51:28.721Z"
   },
   {
    "duration": 187,
    "start_time": "2022-03-10T13:01:24.161Z"
   },
   {
    "duration": 23,
    "start_time": "2022-03-10T13:01:32.381Z"
   },
   {
    "duration": 24,
    "start_time": "2022-03-10T13:01:48.081Z"
   },
   {
    "duration": 5,
    "start_time": "2022-03-10T13:01:51.238Z"
   },
   {
    "duration": 5,
    "start_time": "2022-03-10T13:02:51.361Z"
   },
   {
    "duration": 5,
    "start_time": "2022-03-10T13:03:15.780Z"
   },
   {
    "duration": 4,
    "start_time": "2022-03-10T13:03:20.061Z"
   },
   {
    "duration": 4,
    "start_time": "2022-03-10T13:03:42.341Z"
   },
   {
    "duration": 3,
    "start_time": "2022-03-10T13:23:05.119Z"
   },
   {
    "duration": 25,
    "start_time": "2022-03-10T13:23:07.353Z"
   },
   {
    "duration": 5,
    "start_time": "2022-03-10T13:23:07.601Z"
   },
   {
    "duration": 3,
    "start_time": "2022-03-10T13:24:04.952Z"
   },
   {
    "duration": 23,
    "start_time": "2022-03-10T13:37:34.381Z"
   },
   {
    "duration": 24,
    "start_time": "2022-03-10T13:38:30.393Z"
   },
   {
    "duration": 22,
    "start_time": "2022-03-10T13:38:39.233Z"
   },
   {
    "duration": 743,
    "start_time": "2022-03-10T13:38:47.722Z"
   },
   {
    "duration": 12,
    "start_time": "2022-03-10T13:38:48.467Z"
   },
   {
    "duration": 31,
    "start_time": "2022-03-10T13:38:48.482Z"
   },
   {
    "duration": 24,
    "start_time": "2022-03-10T13:38:48.515Z"
   },
   {
    "duration": 77,
    "start_time": "2022-03-10T13:38:48.541Z"
   },
   {
    "duration": 21,
    "start_time": "2022-03-10T13:38:48.620Z"
   },
   {
    "duration": 18,
    "start_time": "2022-03-10T13:38:48.642Z"
   },
   {
    "duration": 2,
    "start_time": "2022-03-10T13:38:48.662Z"
   },
   {
    "duration": 12,
    "start_time": "2022-03-10T13:38:48.667Z"
   },
   {
    "duration": 4,
    "start_time": "2022-03-10T13:38:48.680Z"
   },
   {
    "duration": 8,
    "start_time": "2022-03-10T13:38:48.686Z"
   },
   {
    "duration": 3,
    "start_time": "2022-03-10T13:38:48.696Z"
   },
   {
    "duration": 40,
    "start_time": "2022-03-10T13:38:48.701Z"
   },
   {
    "duration": 12,
    "start_time": "2022-03-10T13:38:48.742Z"
   },
   {
    "duration": 7,
    "start_time": "2022-03-10T13:38:48.756Z"
   },
   {
    "duration": 12,
    "start_time": "2022-03-10T13:38:48.765Z"
   },
   {
    "duration": 10,
    "start_time": "2022-03-10T13:38:48.779Z"
   },
   {
    "duration": 19,
    "start_time": "2022-03-10T13:38:48.791Z"
   },
   {
    "duration": 2,
    "start_time": "2022-03-10T13:38:48.812Z"
   },
   {
    "duration": 21,
    "start_time": "2022-03-10T13:38:48.816Z"
   },
   {
    "duration": 3,
    "start_time": "2022-03-10T13:38:48.839Z"
   },
   {
    "duration": 15,
    "start_time": "2022-03-10T13:38:48.844Z"
   },
   {
    "duration": 5,
    "start_time": "2022-03-10T13:38:48.861Z"
   },
   {
    "duration": 5,
    "start_time": "2022-03-10T13:38:48.868Z"
   },
   {
    "duration": 18,
    "start_time": "2022-03-10T13:38:48.876Z"
   },
   {
    "duration": 2,
    "start_time": "2022-03-10T13:38:48.896Z"
   },
   {
    "duration": 616,
    "start_time": "2022-03-10T13:38:48.903Z"
   },
   {
    "duration": 2,
    "start_time": "2022-03-10T13:38:49.522Z"
   },
   {
    "duration": 13,
    "start_time": "2022-03-10T13:38:49.526Z"
   },
   {
    "duration": 3,
    "start_time": "2022-03-10T13:38:49.541Z"
   },
   {
    "duration": 22,
    "start_time": "2022-03-10T13:38:49.546Z"
   },
   {
    "duration": 2,
    "start_time": "2022-03-10T13:38:49.570Z"
   },
   {
    "duration": 370,
    "start_time": "2022-03-10T13:38:49.574Z"
   },
   {
    "duration": 3,
    "start_time": "2022-03-10T13:38:49.946Z"
   },
   {
    "duration": 318,
    "start_time": "2022-03-10T13:38:49.950Z"
   },
   {
    "duration": 3,
    "start_time": "2022-03-10T13:38:50.270Z"
   },
   {
    "duration": 254,
    "start_time": "2022-03-10T13:38:50.274Z"
   },
   {
    "duration": 8,
    "start_time": "2022-03-10T13:38:50.530Z"
   },
   {
    "duration": 244,
    "start_time": "2022-03-10T13:38:50.539Z"
   },
   {
    "duration": 2,
    "start_time": "2022-03-10T13:38:50.785Z"
   },
   {
    "duration": 10,
    "start_time": "2022-03-10T13:38:50.790Z"
   },
   {
    "duration": 384,
    "start_time": "2022-03-10T13:38:50.802Z"
   },
   {
    "duration": 3,
    "start_time": "2022-03-10T13:38:51.188Z"
   },
   {
    "duration": 25,
    "start_time": "2022-03-10T13:38:51.194Z"
   },
   {
    "duration": 39,
    "start_time": "2022-03-10T13:38:51.238Z"
   },
   {
    "duration": 106,
    "start_time": "2022-03-10T13:38:51.278Z"
   },
   {
    "duration": 3,
    "start_time": "2022-03-10T13:38:51.386Z"
   },
   {
    "duration": 550,
    "start_time": "2022-03-10T13:38:51.391Z"
   },
   {
    "duration": 3,
    "start_time": "2022-03-10T13:38:51.943Z"
   },
   {
    "duration": 565,
    "start_time": "2022-03-10T13:38:51.947Z"
   },
   {
    "duration": 3,
    "start_time": "2022-03-10T13:38:52.514Z"
   },
   {
    "duration": 270,
    "start_time": "2022-03-10T13:38:52.519Z"
   },
   {
    "duration": 3,
    "start_time": "2022-03-10T13:38:52.790Z"
   },
   {
    "duration": 565,
    "start_time": "2022-03-10T13:38:52.794Z"
   },
   {
    "duration": 3,
    "start_time": "2022-03-10T13:38:53.361Z"
   },
   {
    "duration": 554,
    "start_time": "2022-03-10T13:38:53.366Z"
   },
   {
    "duration": 2,
    "start_time": "2022-03-10T13:38:53.922Z"
   },
   {
    "duration": 545,
    "start_time": "2022-03-10T13:38:53.926Z"
   },
   {
    "duration": 2,
    "start_time": "2022-03-10T13:38:54.472Z"
   },
   {
    "duration": 601,
    "start_time": "2022-03-10T13:38:54.476Z"
   },
   {
    "duration": 3,
    "start_time": "2022-03-10T13:38:55.078Z"
   },
   {
    "duration": 2,
    "start_time": "2022-03-10T13:38:55.138Z"
   },
   {
    "duration": 27,
    "start_time": "2022-03-10T13:38:55.142Z"
   },
   {
    "duration": 4,
    "start_time": "2022-03-10T13:38:55.171Z"
   },
   {
    "duration": 5,
    "start_time": "2022-03-10T13:38:55.177Z"
   },
   {
    "duration": 74,
    "start_time": "2022-03-10T13:38:55.184Z"
   },
   {
    "duration": 32,
    "start_time": "2022-03-10T13:39:09.674Z"
   },
   {
    "duration": 6,
    "start_time": "2022-03-10T13:43:33.793Z"
   },
   {
    "duration": 220,
    "start_time": "2022-03-10T13:47:30.833Z"
   },
   {
    "duration": 200,
    "start_time": "2022-03-10T13:47:45.273Z"
   },
   {
    "duration": 275,
    "start_time": "2022-03-10T13:48:29.712Z"
   },
   {
    "duration": 204,
    "start_time": "2022-03-10T13:49:32.313Z"
   },
   {
    "duration": 208,
    "start_time": "2022-03-10T13:50:24.673Z"
   },
   {
    "duration": 207,
    "start_time": "2022-03-10T13:51:59.202Z"
   },
   {
    "duration": 329,
    "start_time": "2022-03-10T13:52:18.394Z"
   },
   {
    "duration": 276,
    "start_time": "2022-03-10T13:52:25.036Z"
   },
   {
    "duration": 199,
    "start_time": "2022-03-10T13:52:40.794Z"
   },
   {
    "duration": 192,
    "start_time": "2022-03-10T13:52:58.594Z"
   },
   {
    "duration": 3,
    "start_time": "2022-03-10T13:54:05.516Z"
   },
   {
    "duration": 42,
    "start_time": "2022-03-10T13:57:10.595Z"
   },
   {
    "duration": 3,
    "start_time": "2022-03-10T13:57:55.574Z"
   },
   {
    "duration": 10,
    "start_time": "2022-03-10T14:30:56.746Z"
   },
   {
    "duration": 193,
    "start_time": "2022-03-10T14:42:56.731Z"
   },
   {
    "duration": 9,
    "start_time": "2022-03-10T14:43:06.250Z"
   },
   {
    "duration": 11,
    "start_time": "2022-03-10T14:43:06.530Z"
   },
   {
    "duration": 180,
    "start_time": "2022-03-10T14:43:26.810Z"
   },
   {
    "duration": 10,
    "start_time": "2022-03-10T14:43:57.450Z"
   },
   {
    "duration": 201,
    "start_time": "2022-03-10T14:43:59.050Z"
   },
   {
    "duration": 196,
    "start_time": "2022-03-10T14:45:18.091Z"
   },
   {
    "duration": 193,
    "start_time": "2022-03-10T14:45:31.779Z"
   },
   {
    "duration": 204,
    "start_time": "2022-03-10T14:45:51.371Z"
   },
   {
    "duration": 14,
    "start_time": "2022-03-10T14:46:39.412Z"
   },
   {
    "duration": 465,
    "start_time": "2022-03-10T14:46:53.331Z"
   },
   {
    "duration": 422,
    "start_time": "2022-03-10T14:50:23.211Z"
   },
   {
    "duration": 404,
    "start_time": "2022-03-10T14:50:57.532Z"
   },
   {
    "duration": 2,
    "start_time": "2022-03-10T14:51:52.732Z"
   },
   {
    "duration": 201,
    "start_time": "2022-03-10T14:52:42.613Z"
   },
   {
    "duration": 2,
    "start_time": "2022-03-10T14:52:52.013Z"
   },
   {
    "duration": 132,
    "start_time": "2022-03-10T14:54:13.231Z"
   },
   {
    "duration": 169,
    "start_time": "2022-03-10T14:54:22.814Z"
   },
   {
    "duration": 57,
    "start_time": "2022-03-10T14:55:01.854Z"
   },
   {
    "duration": 11,
    "start_time": "2022-03-10T14:55:13.653Z"
   },
   {
    "duration": 162,
    "start_time": "2022-03-10T14:55:18.133Z"
   },
   {
    "duration": 10,
    "start_time": "2022-03-10T14:55:54.213Z"
   },
   {
    "duration": 201,
    "start_time": "2022-03-10T14:55:55.253Z"
   },
   {
    "duration": 2,
    "start_time": "2022-03-10T14:55:56.020Z"
   },
   {
    "duration": 175,
    "start_time": "2022-03-10T14:55:56.058Z"
   },
   {
    "duration": 3,
    "start_time": "2022-03-10T14:56:53.342Z"
   },
   {
    "duration": 38,
    "start_time": "2022-03-10T14:57:44.693Z"
   },
   {
    "duration": 169,
    "start_time": "2022-03-10T14:57:49.014Z"
   },
   {
    "duration": 191,
    "start_time": "2022-03-10T14:58:03.173Z"
   },
   {
    "duration": 332,
    "start_time": "2022-03-10T14:59:13.833Z"
   },
   {
    "duration": 120,
    "start_time": "2022-03-10T14:59:24.266Z"
   },
   {
    "duration": 122,
    "start_time": "2022-03-10T15:00:08.067Z"
   },
   {
    "duration": 147,
    "start_time": "2022-03-10T15:00:16.425Z"
   },
   {
    "duration": 208,
    "start_time": "2022-03-10T15:00:25.145Z"
   },
   {
    "duration": 120,
    "start_time": "2022-03-10T15:01:02.546Z"
   },
   {
    "duration": 220,
    "start_time": "2022-03-10T15:01:17.466Z"
   },
   {
    "duration": 504,
    "start_time": "2022-03-10T15:02:05.507Z"
   },
   {
    "duration": 499,
    "start_time": "2022-03-10T15:02:17.266Z"
   },
   {
    "duration": 743,
    "start_time": "2022-03-10T16:08:31.874Z"
   },
   {
    "duration": 11,
    "start_time": "2022-03-10T16:08:32.620Z"
   },
   {
    "duration": 36,
    "start_time": "2022-03-10T16:08:32.633Z"
   },
   {
    "duration": 9,
    "start_time": "2022-03-10T16:08:32.671Z"
   },
   {
    "duration": 77,
    "start_time": "2022-03-10T16:08:32.681Z"
   },
   {
    "duration": 7,
    "start_time": "2022-03-10T16:08:32.759Z"
   },
   {
    "duration": 17,
    "start_time": "2022-03-10T16:08:32.768Z"
   },
   {
    "duration": 3,
    "start_time": "2022-03-10T16:08:32.787Z"
   },
   {
    "duration": 10,
    "start_time": "2022-03-10T16:08:32.792Z"
   },
   {
    "duration": 4,
    "start_time": "2022-03-10T16:08:32.804Z"
   },
   {
    "duration": 5,
    "start_time": "2022-03-10T16:08:32.838Z"
   },
   {
    "duration": 8,
    "start_time": "2022-03-10T16:08:32.845Z"
   },
   {
    "duration": 10,
    "start_time": "2022-03-10T16:08:32.855Z"
   },
   {
    "duration": 7,
    "start_time": "2022-03-10T16:08:32.867Z"
   },
   {
    "duration": 5,
    "start_time": "2022-03-10T16:08:32.876Z"
   },
   {
    "duration": 6,
    "start_time": "2022-03-10T16:08:32.882Z"
   },
   {
    "duration": 12,
    "start_time": "2022-03-10T16:08:32.889Z"
   },
   {
    "duration": 13,
    "start_time": "2022-03-10T16:08:32.903Z"
   },
   {
    "duration": 22,
    "start_time": "2022-03-10T16:08:32.918Z"
   },
   {
    "duration": 18,
    "start_time": "2022-03-10T16:08:32.941Z"
   },
   {
    "duration": 12,
    "start_time": "2022-03-10T16:08:32.960Z"
   },
   {
    "duration": 12,
    "start_time": "2022-03-10T16:08:32.974Z"
   },
   {
    "duration": 5,
    "start_time": "2022-03-10T16:08:32.991Z"
   },
   {
    "duration": 9,
    "start_time": "2022-03-10T16:08:32.999Z"
   },
   {
    "duration": 17,
    "start_time": "2022-03-10T16:08:33.010Z"
   },
   {
    "duration": 9,
    "start_time": "2022-03-10T16:08:33.029Z"
   },
   {
    "duration": 561,
    "start_time": "2022-03-10T16:08:33.040Z"
   },
   {
    "duration": 3,
    "start_time": "2022-03-10T16:08:33.603Z"
   },
   {
    "duration": 8,
    "start_time": "2022-03-10T16:08:33.607Z"
   },
   {
    "duration": 5,
    "start_time": "2022-03-10T16:08:33.617Z"
   },
   {
    "duration": 23,
    "start_time": "2022-03-10T16:08:33.623Z"
   },
   {
    "duration": 2,
    "start_time": "2022-03-10T16:08:33.648Z"
   },
   {
    "duration": 346,
    "start_time": "2022-03-10T16:08:33.652Z"
   },
   {
    "duration": 3,
    "start_time": "2022-03-10T16:08:34.000Z"
   },
   {
    "duration": 297,
    "start_time": "2022-03-10T16:08:34.005Z"
   },
   {
    "duration": 3,
    "start_time": "2022-03-10T16:08:34.303Z"
   },
   {
    "duration": 245,
    "start_time": "2022-03-10T16:08:34.307Z"
   },
   {
    "duration": 2,
    "start_time": "2022-03-10T16:08:34.554Z"
   },
   {
    "duration": 234,
    "start_time": "2022-03-10T16:08:34.557Z"
   },
   {
    "duration": 3,
    "start_time": "2022-03-10T16:08:34.792Z"
   },
   {
    "duration": 6,
    "start_time": "2022-03-10T16:08:34.796Z"
   },
   {
    "duration": 379,
    "start_time": "2022-03-10T16:08:34.803Z"
   },
   {
    "duration": 2,
    "start_time": "2022-03-10T16:08:35.184Z"
   },
   {
    "duration": 50,
    "start_time": "2022-03-10T16:08:35.188Z"
   },
   {
    "duration": 89,
    "start_time": "2022-03-10T16:08:35.239Z"
   },
   {
    "duration": 10,
    "start_time": "2022-03-10T16:08:35.329Z"
   },
   {
    "duration": 531,
    "start_time": "2022-03-10T16:08:35.340Z"
   },
   {
    "duration": 2,
    "start_time": "2022-03-10T16:08:35.873Z"
   },
   {
    "duration": 548,
    "start_time": "2022-03-10T16:08:35.876Z"
   },
   {
    "duration": 2,
    "start_time": "2022-03-10T16:08:36.426Z"
   },
   {
    "duration": 256,
    "start_time": "2022-03-10T16:08:36.437Z"
   },
   {
    "duration": 2,
    "start_time": "2022-03-10T16:08:36.695Z"
   },
   {
    "duration": 545,
    "start_time": "2022-03-10T16:08:36.699Z"
   },
   {
    "duration": 2,
    "start_time": "2022-03-10T16:08:37.246Z"
   },
   {
    "duration": 545,
    "start_time": "2022-03-10T16:08:37.250Z"
   },
   {
    "duration": 3,
    "start_time": "2022-03-10T16:08:37.797Z"
   },
   {
    "duration": 534,
    "start_time": "2022-03-10T16:08:37.802Z"
   },
   {
    "duration": 3,
    "start_time": "2022-03-10T16:08:38.338Z"
   },
   {
    "duration": 505,
    "start_time": "2022-03-10T16:08:38.343Z"
   },
   {
    "duration": 3,
    "start_time": "2022-03-10T16:08:38.850Z"
   },
   {
    "duration": 6,
    "start_time": "2022-03-10T16:08:38.855Z"
   },
   {
    "duration": 25,
    "start_time": "2022-03-10T16:08:38.862Z"
   },
   {
    "duration": 4,
    "start_time": "2022-03-10T16:08:38.888Z"
   },
   {
    "duration": 5,
    "start_time": "2022-03-10T16:08:38.893Z"
   },
   {
    "duration": 233,
    "start_time": "2022-03-10T16:08:38.900Z"
   },
   {
    "duration": 2,
    "start_time": "2022-03-10T16:08:39.138Z"
   },
   {
    "duration": 5,
    "start_time": "2022-03-10T16:08:39.142Z"
   },
   {
    "duration": 10,
    "start_time": "2022-03-10T16:08:39.153Z"
   },
   {
    "duration": 213,
    "start_time": "2022-03-10T16:08:39.165Z"
   },
   {
    "duration": 2,
    "start_time": "2022-03-10T16:08:39.380Z"
   },
   {
    "duration": 274,
    "start_time": "2022-03-10T16:08:39.384Z"
   },
   {
    "duration": 2,
    "start_time": "2022-03-10T16:08:39.660Z"
   },
   {
    "duration": 519,
    "start_time": "2022-03-10T16:08:39.664Z"
   },
   {
    "duration": 3,
    "start_time": "2022-03-10T16:08:40.184Z"
   },
   {
    "duration": 220,
    "start_time": "2022-03-10T16:08:40.189Z"
   },
   {
    "duration": 625,
    "start_time": "2022-03-10T16:12:03.787Z"
   },
   {
    "duration": 623,
    "start_time": "2022-03-10T16:12:15.973Z"
   },
   {
    "duration": 646,
    "start_time": "2022-03-10T16:13:13.783Z"
   },
   {
    "duration": 1040,
    "start_time": "2022-03-10T20:51:10.001Z"
   },
   {
    "duration": 446,
    "start_time": "2022-03-10T20:51:11.043Z"
   },
   {
    "duration": 1143,
    "start_time": "2022-03-10T20:51:11.492Z"
   },
   {
    "duration": 2537,
    "start_time": "2022-03-10T20:51:12.637Z"
   },
   {
    "duration": 2283,
    "start_time": "2022-03-10T20:51:15.176Z"
   },
   {
    "duration": 1095,
    "start_time": "2022-03-10T20:51:17.461Z"
   },
   {
    "duration": 1397,
    "start_time": "2022-03-10T20:51:18.558Z"
   },
   {
    "duration": 1874,
    "start_time": "2022-03-10T20:51:19.958Z"
   },
   {
    "duration": 694,
    "start_time": "2022-03-10T20:51:21.834Z"
   },
   {
    "duration": 1419,
    "start_time": "2022-03-10T20:51:22.530Z"
   },
   {
    "duration": 1361,
    "start_time": "2022-03-10T20:51:23.951Z"
   },
   {
    "duration": 2331,
    "start_time": "2022-03-10T20:51:25.314Z"
   },
   {
    "duration": 1283,
    "start_time": "2022-03-10T20:51:27.647Z"
   },
   {
    "duration": 1633,
    "start_time": "2022-03-10T20:51:28.932Z"
   },
   {
    "duration": 1500,
    "start_time": "2022-03-10T20:51:30.567Z"
   },
   {
    "duration": 1528,
    "start_time": "2022-03-10T20:51:32.069Z"
   },
   {
    "duration": 1625,
    "start_time": "2022-03-10T20:51:33.600Z"
   },
   {
    "duration": 637,
    "start_time": "2022-03-10T20:51:35.227Z"
   },
   {
    "duration": 743,
    "start_time": "2022-03-10T20:51:35.866Z"
   },
   {
    "duration": 997,
    "start_time": "2022-03-10T20:51:36.611Z"
   },
   {
    "duration": 1087,
    "start_time": "2022-03-10T20:51:37.610Z"
   },
   {
    "duration": 2324,
    "start_time": "2022-03-10T20:51:38.699Z"
   },
   {
    "duration": 2719,
    "start_time": "2022-03-10T20:51:41.028Z"
   },
   {
    "duration": 1498,
    "start_time": "2022-03-10T20:51:43.749Z"
   },
   {
    "duration": 3116,
    "start_time": "2022-03-10T20:51:45.249Z"
   },
   {
    "duration": 2931,
    "start_time": "2022-03-10T20:51:48.367Z"
   },
   {
    "duration": 2678,
    "start_time": "2022-03-10T20:51:51.300Z"
   },
   {
    "duration": 1468,
    "start_time": "2022-03-10T20:51:53.980Z"
   },
   {
    "duration": 1928,
    "start_time": "2022-03-10T20:51:55.450Z"
   },
   {
    "duration": 3683,
    "start_time": "2022-03-10T20:51:57.379Z"
   },
   {
    "duration": 4380,
    "start_time": "2022-03-10T20:52:01.064Z"
   },
   {
    "duration": 1878,
    "start_time": "2022-03-10T20:52:05.446Z"
   },
   {
    "duration": 4289,
    "start_time": "2022-03-10T20:52:07.326Z"
   },
   {
    "duration": 2124,
    "start_time": "2022-03-10T20:52:11.617Z"
   },
   {
    "duration": 1934,
    "start_time": "2022-03-10T20:52:13.743Z"
   },
   {
    "duration": 1084,
    "start_time": "2022-03-10T20:52:15.679Z"
   },
   {
    "duration": 1866,
    "start_time": "2022-03-10T20:52:16.768Z"
   },
   {
    "duration": 545,
    "start_time": "2022-03-10T20:52:18.635Z"
   },
   {
    "duration": 1518,
    "start_time": "2022-03-10T20:52:19.183Z"
   },
   {
    "duration": 631,
    "start_time": "2022-03-10T20:52:20.703Z"
   },
   {
    "duration": 1000,
    "start_time": "2022-03-10T20:52:21.337Z"
   },
   {
    "duration": 2824,
    "start_time": "2022-03-10T20:52:22.340Z"
   },
   {
    "duration": 2579,
    "start_time": "2022-03-10T20:52:25.167Z"
   },
   {
    "duration": 3576,
    "start_time": "2022-03-10T20:52:27.748Z"
   },
   {
    "duration": 5190,
    "start_time": "2022-03-10T20:52:31.326Z"
   },
   {
    "duration": 3126,
    "start_time": "2022-03-10T20:52:36.518Z"
   },
   {
    "duration": 10624,
    "start_time": "2022-03-10T20:52:39.646Z"
   },
   {
    "duration": 6076,
    "start_time": "2022-03-10T20:52:50.273Z"
   },
   {
    "duration": 3934,
    "start_time": "2022-03-10T20:52:56.351Z"
   },
   {
    "duration": 1137,
    "start_time": "2022-03-10T20:53:00.287Z"
   },
   {
    "duration": 6563,
    "start_time": "2022-03-10T20:53:01.426Z"
   },
   {
    "duration": 3192,
    "start_time": "2022-03-10T20:53:07.991Z"
   },
   {
    "duration": 2699,
    "start_time": "2022-03-10T20:53:11.186Z"
   },
   {
    "duration": 1161,
    "start_time": "2022-03-10T20:53:13.886Z"
   },
   {
    "duration": 5950,
    "start_time": "2022-03-10T20:53:15.049Z"
   },
   {
    "duration": 3832,
    "start_time": "2022-03-10T20:53:21.001Z"
   },
   {
    "duration": 2134,
    "start_time": "2022-03-10T20:53:24.834Z"
   },
   {
    "duration": 2496,
    "start_time": "2022-03-10T20:53:26.970Z"
   },
   {
    "duration": 2319,
    "start_time": "2022-03-10T20:53:29.468Z"
   },
   {
    "duration": 1489,
    "start_time": "2022-03-10T20:53:31.789Z"
   },
   {
    "duration": 4673,
    "start_time": "2022-03-10T20:53:33.280Z"
   },
   {
    "duration": 5579,
    "start_time": "2022-03-10T20:53:37.955Z"
   },
   {
    "duration": 4884,
    "start_time": "2022-03-10T20:53:43.536Z"
   },
   {
    "duration": 5030,
    "start_time": "2022-03-10T20:53:48.422Z"
   },
   {
    "duration": 504,
    "start_time": "2022-03-10T20:53:53.454Z"
   },
   {
    "duration": 1070,
    "start_time": "2022-03-10T20:53:53.960Z"
   },
   {
    "duration": 2179,
    "start_time": "2022-03-10T20:53:55.032Z"
   },
   {
    "duration": 7261,
    "start_time": "2022-03-10T20:53:57.216Z"
   },
   {
    "duration": 2124,
    "start_time": "2022-03-10T20:54:04.479Z"
   },
   {
    "duration": 431,
    "start_time": "2022-03-10T20:54:06.605Z"
   },
   {
    "duration": 817,
    "start_time": "2022-03-10T20:54:07.038Z"
   },
   {
    "duration": 2611,
    "start_time": "2022-03-10T20:54:07.857Z"
   },
   {
    "duration": 2455,
    "start_time": "2022-03-10T20:54:10.470Z"
   },
   {
    "duration": 3023,
    "start_time": "2022-03-10T20:54:12.928Z"
   },
   {
    "duration": 5269,
    "start_time": "2022-03-10T20:54:15.953Z"
   },
   {
    "duration": 1838,
    "start_time": "2022-03-10T20:54:21.224Z"
   },
   {
    "duration": 1443,
    "start_time": "2022-03-10T20:54:23.064Z"
   },
   {
    "duration": 830,
    "start_time": "2022-03-10T20:54:38.038Z"
   },
   {
    "duration": 578,
    "start_time": "2022-03-10T20:54:38.870Z"
   },
   {
    "duration": 2220,
    "start_time": "2022-03-10T20:54:39.450Z"
   },
   {
    "duration": 2072,
    "start_time": "2022-03-10T20:54:41.672Z"
   },
   {
    "duration": 2088,
    "start_time": "2022-03-10T20:54:43.746Z"
   },
   {
    "duration": 12880,
    "start_time": "2022-03-10T20:54:45.836Z"
   },
   {
    "duration": 4437,
    "start_time": "2022-03-10T20:54:58.718Z"
   },
   {
    "duration": 4509,
    "start_time": "2022-03-10T20:55:03.158Z"
   },
   {
    "duration": 1499,
    "start_time": "2022-03-10T20:55:07.669Z"
   },
   {
    "duration": 1211,
    "start_time": "2022-03-10T20:55:09.170Z"
   },
   {
    "duration": 924,
    "start_time": "2022-03-10T20:55:10.383Z"
   },
   {
    "duration": 1628,
    "start_time": "2022-03-10T20:55:11.309Z"
   },
   {
    "duration": 1697,
    "start_time": "2022-03-10T20:55:12.939Z"
   },
   {
    "duration": 23334,
    "start_time": "2022-03-10T20:55:14.638Z"
   },
   {
    "duration": 2575,
    "start_time": "2022-03-10T20:55:37.974Z"
   },
   {
    "duration": 1487,
    "start_time": "2022-03-10T20:55:40.551Z"
   },
   {
    "duration": 2492,
    "start_time": "2022-03-10T20:55:42.039Z"
   },
   {
    "duration": 1621,
    "start_time": "2022-03-10T20:55:44.533Z"
   },
   {
    "duration": 2524,
    "start_time": "2022-03-10T20:55:46.156Z"
   },
   {
    "duration": 1510,
    "start_time": "2022-03-10T20:55:48.683Z"
   },
   {
    "duration": 1034,
    "start_time": "2022-03-10T20:55:50.195Z"
   },
   {
    "duration": 1334,
    "start_time": "2022-03-10T20:55:51.230Z"
   },
   {
    "duration": 1212,
    "start_time": "2022-03-10T20:55:52.568Z"
   },
   {
    "duration": 1015,
    "start_time": "2022-03-10T20:55:53.783Z"
   },
   {
    "duration": 4586,
    "start_time": "2022-03-10T20:55:54.800Z"
   },
   {
    "duration": 3063,
    "start_time": "2022-03-10T20:55:59.388Z"
   },
   {
    "duration": 3311,
    "start_time": "2022-03-10T20:56:02.453Z"
   },
   {
    "duration": 3776,
    "start_time": "2022-03-10T20:56:05.766Z"
   },
   {
    "duration": 2413,
    "start_time": "2022-03-10T20:56:09.544Z"
   },
   {
    "duration": 1508,
    "start_time": "2022-03-10T20:56:11.959Z"
   },
   {
    "duration": 3274,
    "start_time": "2022-03-10T20:56:13.469Z"
   },
   {
    "duration": 6332,
    "start_time": "2022-03-10T20:56:16.745Z"
   },
   {
    "duration": 9571,
    "start_time": "2022-03-10T20:56:23.079Z"
   },
   {
    "duration": 3232,
    "start_time": "2022-03-10T20:56:32.652Z"
   },
   {
    "duration": 1093,
    "start_time": "2022-03-10T20:56:35.886Z"
   },
   {
    "duration": 616,
    "start_time": "2022-03-10T20:56:36.981Z"
   },
   {
    "duration": 1633,
    "start_time": "2022-03-10T20:56:37.599Z"
   },
   {
    "duration": 512,
    "start_time": "2022-03-10T20:56:39.234Z"
   },
   {
    "duration": 1586,
    "start_time": "2022-03-10T20:56:39.748Z"
   },
   {
    "duration": 2224,
    "start_time": "2022-03-10T20:56:41.336Z"
   },
   {
    "duration": 2357,
    "start_time": "2022-03-10T20:56:43.562Z"
   },
   {
    "duration": 3519,
    "start_time": "2022-03-10T20:56:45.921Z"
   },
   {
    "duration": 3080,
    "start_time": "2022-03-10T20:56:49.442Z"
   },
   {
    "duration": 4678,
    "start_time": "2022-03-10T20:56:52.525Z"
   },
   {
    "duration": 4291,
    "start_time": "2022-03-10T20:56:57.205Z"
   },
   {
    "duration": 3643,
    "start_time": "2022-03-10T20:57:01.502Z"
   },
   {
    "duration": 1574,
    "start_time": "2022-03-10T20:57:05.147Z"
   },
   {
    "duration": 2285,
    "start_time": "2022-03-10T20:57:06.724Z"
   },
   {
    "duration": 3117,
    "start_time": "2022-03-10T20:57:09.011Z"
   },
   {
    "duration": 4207,
    "start_time": "2022-03-10T20:57:12.130Z"
   },
   {
    "duration": 4700,
    "start_time": "2022-03-10T20:57:16.339Z"
   },
   {
    "duration": 4435,
    "start_time": "2022-03-10T20:57:21.042Z"
   },
   {
    "duration": 4162,
    "start_time": "2022-03-10T20:57:25.480Z"
   },
   {
    "duration": 2657,
    "start_time": "2022-03-10T20:57:29.645Z"
   },
   {
    "duration": 4201,
    "start_time": "2022-03-10T20:57:32.304Z"
   },
   {
    "duration": 667,
    "start_time": "2022-03-10T20:57:36.508Z"
   },
   {
    "duration": 1668,
    "start_time": "2022-03-10T20:57:37.177Z"
   },
   {
    "duration": 2218,
    "start_time": "2022-03-10T20:57:38.847Z"
   },
   {
    "duration": 3389,
    "start_time": "2022-03-10T20:57:41.067Z"
   },
   {
    "duration": 1945,
    "start_time": "2022-03-10T20:57:44.458Z"
   },
   {
    "duration": 1875,
    "start_time": "2022-03-10T20:57:46.405Z"
   },
   {
    "duration": 3288,
    "start_time": "2022-03-10T20:57:48.282Z"
   },
   {
    "duration": 3366,
    "start_time": "2022-03-10T20:57:51.572Z"
   },
   {
    "duration": 1442,
    "start_time": "2022-03-10T20:57:54.940Z"
   },
   {
    "duration": 2509,
    "start_time": "2022-03-10T20:57:56.384Z"
   },
   {
    "duration": 1714,
    "start_time": "2022-03-10T20:57:58.896Z"
   },
   {
    "duration": 2979,
    "start_time": "2022-03-10T20:58:00.612Z"
   },
   {
    "duration": 2404,
    "start_time": "2022-03-10T20:58:03.597Z"
   },
   {
    "duration": 2945,
    "start_time": "2022-03-10T20:58:06.004Z"
   },
   {
    "duration": 2050,
    "start_time": "2022-03-10T20:58:08.951Z"
   },
   {
    "duration": 1489,
    "start_time": "2022-03-10T20:58:11.003Z"
   },
   {
    "duration": 1159,
    "start_time": "2022-03-10T20:58:12.494Z"
   },
   {
    "duration": 1980,
    "start_time": "2022-03-10T20:58:13.655Z"
   },
   {
    "duration": 719,
    "start_time": "2022-03-10T20:58:15.638Z"
   },
   {
    "duration": 1767,
    "start_time": "2022-03-10T20:58:16.359Z"
   },
   {
    "duration": 1569,
    "start_time": "2022-03-10T20:58:18.128Z"
   },
   {
    "duration": 250,
    "start_time": "2022-03-10T20:58:19.702Z"
   },
   {
    "duration": 118,
    "start_time": "2022-03-20T11:58:23.346Z"
   },
   {
    "duration": 47,
    "start_time": "2022-03-20T12:17:51.757Z"
   },
   {
    "duration": 1024,
    "start_time": "2022-03-20T12:18:01.872Z"
   },
   {
    "duration": 19,
    "start_time": "2022-03-20T12:18:02.899Z"
   },
   {
    "duration": 35,
    "start_time": "2022-03-20T12:18:02.920Z"
   },
   {
    "duration": 11,
    "start_time": "2022-03-20T12:18:02.958Z"
   },
   {
    "duration": 103,
    "start_time": "2022-03-20T12:18:02.971Z"
   },
   {
    "duration": 7,
    "start_time": "2022-03-20T12:18:03.076Z"
   },
   {
    "duration": 41,
    "start_time": "2022-03-20T12:18:03.085Z"
   },
   {
    "duration": 2,
    "start_time": "2022-03-20T12:18:03.128Z"
   },
   {
    "duration": 22,
    "start_time": "2022-03-20T12:18:03.132Z"
   },
   {
    "duration": 13,
    "start_time": "2022-03-20T12:18:03.157Z"
   },
   {
    "duration": 14,
    "start_time": "2022-03-20T12:18:03.173Z"
   },
   {
    "duration": 13,
    "start_time": "2022-03-20T12:18:03.189Z"
   },
   {
    "duration": 32,
    "start_time": "2022-03-20T12:18:03.204Z"
   },
   {
    "duration": 20,
    "start_time": "2022-03-20T12:18:03.238Z"
   },
   {
    "duration": 26,
    "start_time": "2022-03-20T12:18:03.260Z"
   },
   {
    "duration": 24,
    "start_time": "2022-03-20T12:18:03.288Z"
   },
   {
    "duration": 18,
    "start_time": "2022-03-20T12:18:03.314Z"
   },
   {
    "duration": 21,
    "start_time": "2022-03-20T12:18:03.335Z"
   },
   {
    "duration": 19,
    "start_time": "2022-03-20T12:18:03.358Z"
   },
   {
    "duration": 17,
    "start_time": "2022-03-20T12:18:03.379Z"
   },
   {
    "duration": 13,
    "start_time": "2022-03-20T12:18:03.398Z"
   },
   {
    "duration": 33,
    "start_time": "2022-03-20T12:18:03.413Z"
   },
   {
    "duration": 15,
    "start_time": "2022-03-20T12:18:03.448Z"
   },
   {
    "duration": 12,
    "start_time": "2022-03-20T12:18:03.466Z"
   },
   {
    "duration": 33,
    "start_time": "2022-03-20T12:18:03.480Z"
   },
   {
    "duration": 10,
    "start_time": "2022-03-20T12:18:03.516Z"
   },
   {
    "duration": 369,
    "start_time": "2022-03-20T12:18:03.528Z"
   },
   {
    "duration": 3,
    "start_time": "2022-03-20T12:18:03.903Z"
   },
   {
    "duration": 20,
    "start_time": "2022-03-20T12:18:03.908Z"
   },
   {
    "duration": 22,
    "start_time": "2022-03-20T12:18:03.930Z"
   },
   {
    "duration": 26,
    "start_time": "2022-03-20T12:18:03.954Z"
   },
   {
    "duration": 3,
    "start_time": "2022-03-20T12:18:03.982Z"
   },
   {
    "duration": 288,
    "start_time": "2022-03-20T12:18:03.986Z"
   },
   {
    "duration": 3,
    "start_time": "2022-03-20T12:18:04.276Z"
   },
   {
    "duration": 232,
    "start_time": "2022-03-20T12:18:04.280Z"
   },
   {
    "duration": 3,
    "start_time": "2022-03-20T12:18:04.514Z"
   },
   {
    "duration": 193,
    "start_time": "2022-03-20T12:18:04.519Z"
   },
   {
    "duration": 3,
    "start_time": "2022-03-20T12:18:04.714Z"
   },
   {
    "duration": 199,
    "start_time": "2022-03-20T12:18:04.719Z"
   },
   {
    "duration": 3,
    "start_time": "2022-03-20T12:18:04.920Z"
   },
   {
    "duration": 18,
    "start_time": "2022-03-20T12:18:04.925Z"
   },
   {
    "duration": 283,
    "start_time": "2022-03-20T12:18:04.945Z"
   },
   {
    "duration": 92,
    "start_time": "2022-03-20T12:18:05.229Z"
   },
   {
    "duration": 0,
    "start_time": "2022-03-20T12:18:05.322Z"
   },
   {
    "duration": 0,
    "start_time": "2022-03-20T12:18:05.324Z"
   },
   {
    "duration": 0,
    "start_time": "2022-03-20T12:18:05.325Z"
   },
   {
    "duration": 0,
    "start_time": "2022-03-20T12:18:05.326Z"
   },
   {
    "duration": 0,
    "start_time": "2022-03-20T12:18:05.327Z"
   },
   {
    "duration": 0,
    "start_time": "2022-03-20T12:18:05.328Z"
   },
   {
    "duration": 0,
    "start_time": "2022-03-20T12:18:05.330Z"
   },
   {
    "duration": 0,
    "start_time": "2022-03-20T12:18:05.331Z"
   },
   {
    "duration": 0,
    "start_time": "2022-03-20T12:18:05.332Z"
   },
   {
    "duration": 0,
    "start_time": "2022-03-20T12:18:05.333Z"
   },
   {
    "duration": 0,
    "start_time": "2022-03-20T12:18:05.334Z"
   },
   {
    "duration": 0,
    "start_time": "2022-03-20T12:18:05.334Z"
   },
   {
    "duration": 0,
    "start_time": "2022-03-20T12:18:05.336Z"
   },
   {
    "duration": 0,
    "start_time": "2022-03-20T12:18:05.337Z"
   },
   {
    "duration": 0,
    "start_time": "2022-03-20T12:18:05.338Z"
   },
   {
    "duration": 0,
    "start_time": "2022-03-20T12:18:05.339Z"
   },
   {
    "duration": 0,
    "start_time": "2022-03-20T12:18:05.340Z"
   },
   {
    "duration": 0,
    "start_time": "2022-03-20T12:18:05.341Z"
   },
   {
    "duration": 0,
    "start_time": "2022-03-20T12:18:05.342Z"
   },
   {
    "duration": 0,
    "start_time": "2022-03-20T12:18:05.343Z"
   },
   {
    "duration": 0,
    "start_time": "2022-03-20T12:18:05.345Z"
   },
   {
    "duration": 0,
    "start_time": "2022-03-20T12:18:05.346Z"
   },
   {
    "duration": 0,
    "start_time": "2022-03-20T12:18:05.347Z"
   },
   {
    "duration": 0,
    "start_time": "2022-03-20T12:18:05.348Z"
   },
   {
    "duration": 0,
    "start_time": "2022-03-20T12:18:05.349Z"
   },
   {
    "duration": 0,
    "start_time": "2022-03-20T12:18:05.350Z"
   },
   {
    "duration": 0,
    "start_time": "2022-03-20T12:18:05.351Z"
   },
   {
    "duration": 0,
    "start_time": "2022-03-20T12:18:05.352Z"
   },
   {
    "duration": 0,
    "start_time": "2022-03-20T12:18:05.401Z"
   },
   {
    "duration": 0,
    "start_time": "2022-03-20T12:18:05.403Z"
   },
   {
    "duration": 0,
    "start_time": "2022-03-20T12:18:05.404Z"
   },
   {
    "duration": 0,
    "start_time": "2022-03-20T12:18:05.405Z"
   },
   {
    "duration": 0,
    "start_time": "2022-03-20T12:18:05.406Z"
   },
   {
    "duration": 0,
    "start_time": "2022-03-20T12:18:05.407Z"
   },
   {
    "duration": 0,
    "start_time": "2022-03-20T12:18:05.408Z"
   },
   {
    "duration": 9,
    "start_time": "2022-03-20T12:18:29.433Z"
   },
   {
    "duration": 9,
    "start_time": "2022-03-20T12:22:25.964Z"
   },
   {
    "duration": 18,
    "start_time": "2022-03-20T12:22:50.280Z"
   },
   {
    "duration": 18,
    "start_time": "2022-03-20T12:27:23.138Z"
   },
   {
    "duration": 17,
    "start_time": "2022-03-20T12:28:36.108Z"
   }
  ],
  "kernelspec": {
   "display_name": "Python 3 (ipykernel)",
   "language": "python",
   "name": "python3"
  },
  "language_info": {
   "codemirror_mode": {
    "name": "ipython",
    "version": 3
   },
   "file_extension": ".py",
   "mimetype": "text/x-python",
   "name": "python",
   "nbconvert_exporter": "python",
   "pygments_lexer": "ipython3",
   "version": "3.9.13"
  },
  "toc": {
   "base_numbering": 1,
   "nav_menu": {},
   "number_sections": true,
   "sideBar": true,
   "skip_h1_title": true,
   "title_cell": "Содержание",
   "title_sidebar": "Contents",
   "toc_cell": true,
   "toc_position": {
    "height": "calc(100% - 180px)",
    "left": "10px",
    "top": "150px",
    "width": "165px"
   },
   "toc_section_display": true,
   "toc_window_display": false
  }
 },
 "nbformat": 4,
 "nbformat_minor": 4
}
