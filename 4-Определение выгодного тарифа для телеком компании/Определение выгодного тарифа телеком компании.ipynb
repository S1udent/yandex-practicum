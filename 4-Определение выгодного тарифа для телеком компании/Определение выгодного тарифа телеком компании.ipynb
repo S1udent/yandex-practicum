{
 "cells": [
  {
   "cell_type": "markdown",
   "metadata": {
    "scrolled": true
   },
   "source": [
    "# Определение перспективного тарифа для телеком-компании"
   ]
  },
  {
   "cell_type": "markdown",
   "metadata": {},
   "source": [
    "Телекомкомпания предлагает клиентам два тарифных плана: «Смарт» и «Ультра». Чтобы скорректировать рекламный бюджет, коммерческий департамент хочет понять, какой тариф приносит больше денег.\n",
    "Нам предстоит сделать предварительный анализ тарифов на небольшой выборке клиентов. В нашем распоряжении данные 500 пользователей: кто они, откуда, каким тарифом пользуются, сколько звонков и сообщений каждый отправил за 2018 год. Нужно проанализировать поведение клиентов и сделать вывод — какой тариф лучше."
   ]
  },
  {
   "cell_type": "markdown",
   "metadata": {},
   "source": [
    "## Изучение данных из файла"
   ]
  },
  {
   "cell_type": "code",
   "execution_count": 1,
   "metadata": {},
   "outputs": [],
   "source": [
    "import pandas as pd\n",
    "import matplotlib.pyplot as plt\n",
    "import numpy as np"
   ]
  },
  {
   "cell_type": "code",
   "execution_count": 2,
   "metadata": {},
   "outputs": [],
   "source": [
    "calls=pd.read_csv('/datasets/calls.csv')\n",
    "internet=pd.read_csv('/datasets/internet.csv').drop(['Unnamed: 0'],axis = 1) #Сразу удалим лишний столбец, т.к. по условию задачи его не должно быть там\n",
    "messages=pd.read_csv('/datasets/messages.csv')\n",
    "tariffs=pd.read_csv('/datasets/tariffs.csv')\n",
    "users=pd.read_csv('/datasets/users.csv')"
   ]
  },
  {
   "cell_type": "code",
   "execution_count": 3,
   "metadata": {},
   "outputs": [],
   "source": [
    "# Изначально создаем словарь названий таблиц и данных\n",
    "slovar ={\n",
    "    'calls': calls,\n",
    "    'internet': internet,\n",
    "    'messages': messages,\n",
    "    'tariffs': tariffs,\n",
    "    'users': users \n",
    "}"
   ]
  },
  {
   "cell_type": "code",
   "execution_count": 4,
   "metadata": {},
   "outputs": [],
   "source": [
    "# Теперь напишем функцию, создающую датафрейм с удобным отображением результата функции .info() по всем датасетам\n",
    "def stat(dict_of_frames):\n",
    "    \"\"\"Функция для агрегации данных о нескольких загруженных таблицах.\n",
    "    Собирает следующею информацию: количество объектов(строк) в данных,\n",
    "    количество null-значений и тип каждого столбца\n",
    "    \"\"\"\n",
    "    def table(dataframe, name): #\n",
    "\n",
    "        columns = dataframe.columns #Список столбцов\n",
    "        count_of_columns = len(columns) #Количество столбцов\n",
    "        total = dataframe.shape[0] #Количество строк датафрейма\n",
    "        \n",
    "        part_total_table = pd.DataFrame(data =[[0] * 6] * count_of_columns, \n",
    "                                        columns = ['total',\n",
    "                                                   'frame',\n",
    "                                                   \"columns\",\n",
    "                                                   \"null_values\",\n",
    "                                                   \"type\",\n",
    "                                                  \"duplicated\"]) #Создаем датафрейм с столбцами, добавляя строки\n",
    "    \n",
    "        part_total_table['total'] = [total] * count_of_columns #Добавляем в столбец 'total'\n",
    "        part_total_table['frame'] = [name] * count_of_columns #Добавляем в столбец 'name'\n",
    "        part_total_table['columns'] = columns #Добавляем столбцы\n",
    "        for column in columns: \n",
    "            curent_type = str(dataframe[column].dtype) #Часть цикла, которая покажет тип данных значений в столбце\n",
    "            count_of_duplucated = dataframe[column].duplicated().sum()#!!!!!!!!посчитаем дубликаты!!!!!!!!!\n",
    "            count_of_null = dataframe[column].isnull().sum() #Часть цикла, которая посчитает пропущенные значения в столбце\n",
    "            part_total_table.loc[part_total_table['columns'] == column,'null_values'] = count_of_null\n",
    "            part_total_table.loc[part_total_table['columns'] == column,'type'] = curent_type\n",
    "            part_total_table.loc[part_total_table['columns'] == column,'duplicated'] = count_of_duplucated #!!!!!!!!применим к столбце подсчет дубликатов!!!!!!!!!\n",
    "        return part_total_table\n",
    "        \n",
    "    final_frame = pd.DataFrame(columns = ['total','frame',\"columns\",\"null_values\",\"type\",\"duplicated\"]) #Добавляем в датафрейм столбцы с названиями, !!!+столбец с дубликатами\n",
    "    \n",
    "    for name,frame in dict_of_frames.items(): #Используем .items(), чтобы перебрать строки\n",
    "        part_of_table = table(frame,name)\n",
    "        final_frame = final_frame.append(part_of_table)\n",
    "        \n",
    "    final_frame = final_frame.reset_index(drop = True) #Обновляем индексацию\n",
    "    final_frame_grouped = final_frame.groupby(['total','frame',\"columns\"]).sum()\n",
    "    \n",
    "    return final_frame_grouped"
   ]
  },
  {
   "cell_type": "code",
   "execution_count": 5,
   "metadata": {
    "scrolled": true
   },
   "outputs": [
    {
     "data": {
      "text/html": [
       "<div>\n",
       "<style scoped>\n",
       "    .dataframe tbody tr th:only-of-type {\n",
       "        vertical-align: middle;\n",
       "    }\n",
       "\n",
       "    .dataframe tbody tr th {\n",
       "        vertical-align: top;\n",
       "    }\n",
       "\n",
       "    .dataframe thead th {\n",
       "        text-align: right;\n",
       "    }\n",
       "</style>\n",
       "<table border=\"1\" class=\"dataframe\">\n",
       "  <thead>\n",
       "    <tr style=\"text-align: right;\">\n",
       "      <th></th>\n",
       "      <th></th>\n",
       "      <th></th>\n",
       "      <th>null_values</th>\n",
       "      <th>type</th>\n",
       "      <th>duplicated</th>\n",
       "    </tr>\n",
       "    <tr>\n",
       "      <th>total</th>\n",
       "      <th>frame</th>\n",
       "      <th>columns</th>\n",
       "      <th></th>\n",
       "      <th></th>\n",
       "      <th></th>\n",
       "    </tr>\n",
       "  </thead>\n",
       "  <tbody>\n",
       "    <tr>\n",
       "      <th rowspan=\"8\" valign=\"top\">2</th>\n",
       "      <th rowspan=\"8\" valign=\"top\">tariffs</th>\n",
       "      <th>mb_per_month_included</th>\n",
       "      <td>0</td>\n",
       "      <td>int64</td>\n",
       "      <td>0</td>\n",
       "    </tr>\n",
       "    <tr>\n",
       "      <th>messages_included</th>\n",
       "      <td>0</td>\n",
       "      <td>int64</td>\n",
       "      <td>0</td>\n",
       "    </tr>\n",
       "    <tr>\n",
       "      <th>minutes_included</th>\n",
       "      <td>0</td>\n",
       "      <td>int64</td>\n",
       "      <td>0</td>\n",
       "    </tr>\n",
       "    <tr>\n",
       "      <th>rub_monthly_fee</th>\n",
       "      <td>0</td>\n",
       "      <td>int64</td>\n",
       "      <td>0</td>\n",
       "    </tr>\n",
       "    <tr>\n",
       "      <th>rub_per_gb</th>\n",
       "      <td>0</td>\n",
       "      <td>int64</td>\n",
       "      <td>0</td>\n",
       "    </tr>\n",
       "    <tr>\n",
       "      <th>rub_per_message</th>\n",
       "      <td>0</td>\n",
       "      <td>int64</td>\n",
       "      <td>0</td>\n",
       "    </tr>\n",
       "    <tr>\n",
       "      <th>rub_per_minute</th>\n",
       "      <td>0</td>\n",
       "      <td>int64</td>\n",
       "      <td>0</td>\n",
       "    </tr>\n",
       "    <tr>\n",
       "      <th>tariff_name</th>\n",
       "      <td>0</td>\n",
       "      <td>object</td>\n",
       "      <td>0</td>\n",
       "    </tr>\n",
       "    <tr>\n",
       "      <th rowspan=\"8\" valign=\"top\">500</th>\n",
       "      <th rowspan=\"8\" valign=\"top\">users</th>\n",
       "      <th>age</th>\n",
       "      <td>0</td>\n",
       "      <td>int64</td>\n",
       "      <td>442</td>\n",
       "    </tr>\n",
       "    <tr>\n",
       "      <th>churn_date</th>\n",
       "      <td>462</td>\n",
       "      <td>object</td>\n",
       "      <td>466</td>\n",
       "    </tr>\n",
       "    <tr>\n",
       "      <th>city</th>\n",
       "      <td>0</td>\n",
       "      <td>object</td>\n",
       "      <td>424</td>\n",
       "    </tr>\n",
       "    <tr>\n",
       "      <th>first_name</th>\n",
       "      <td>0</td>\n",
       "      <td>object</td>\n",
       "      <td>254</td>\n",
       "    </tr>\n",
       "    <tr>\n",
       "      <th>last_name</th>\n",
       "      <td>0</td>\n",
       "      <td>object</td>\n",
       "      <td>81</td>\n",
       "    </tr>\n",
       "    <tr>\n",
       "      <th>reg_date</th>\n",
       "      <td>0</td>\n",
       "      <td>object</td>\n",
       "      <td>230</td>\n",
       "    </tr>\n",
       "    <tr>\n",
       "      <th>tariff</th>\n",
       "      <td>0</td>\n",
       "      <td>object</td>\n",
       "      <td>498</td>\n",
       "    </tr>\n",
       "    <tr>\n",
       "      <th>user_id</th>\n",
       "      <td>0</td>\n",
       "      <td>int64</td>\n",
       "      <td>0</td>\n",
       "    </tr>\n",
       "    <tr>\n",
       "      <th rowspan=\"3\" valign=\"top\">123036</th>\n",
       "      <th rowspan=\"3\" valign=\"top\">messages</th>\n",
       "      <th>id</th>\n",
       "      <td>0</td>\n",
       "      <td>object</td>\n",
       "      <td>0</td>\n",
       "    </tr>\n",
       "    <tr>\n",
       "      <th>message_date</th>\n",
       "      <td>0</td>\n",
       "      <td>object</td>\n",
       "      <td>122672</td>\n",
       "    </tr>\n",
       "    <tr>\n",
       "      <th>user_id</th>\n",
       "      <td>0</td>\n",
       "      <td>int64</td>\n",
       "      <td>122610</td>\n",
       "    </tr>\n",
       "    <tr>\n",
       "      <th rowspan=\"4\" valign=\"top\">149396</th>\n",
       "      <th rowspan=\"4\" valign=\"top\">internet</th>\n",
       "      <th>id</th>\n",
       "      <td>0</td>\n",
       "      <td>object</td>\n",
       "      <td>0</td>\n",
       "    </tr>\n",
       "    <tr>\n",
       "      <th>mb_used</th>\n",
       "      <td>0</td>\n",
       "      <td>float64</td>\n",
       "      <td>79393</td>\n",
       "    </tr>\n",
       "    <tr>\n",
       "      <th>session_date</th>\n",
       "      <td>0</td>\n",
       "      <td>object</td>\n",
       "      <td>149031</td>\n",
       "    </tr>\n",
       "    <tr>\n",
       "      <th>user_id</th>\n",
       "      <td>0</td>\n",
       "      <td>int64</td>\n",
       "      <td>148899</td>\n",
       "    </tr>\n",
       "    <tr>\n",
       "      <th rowspan=\"4\" valign=\"top\">202607</th>\n",
       "      <th rowspan=\"4\" valign=\"top\">calls</th>\n",
       "      <th>call_date</th>\n",
       "      <td>0</td>\n",
       "      <td>object</td>\n",
       "      <td>202242</td>\n",
       "    </tr>\n",
       "    <tr>\n",
       "      <th>duration</th>\n",
       "      <td>0</td>\n",
       "      <td>float64</td>\n",
       "      <td>199736</td>\n",
       "    </tr>\n",
       "    <tr>\n",
       "      <th>id</th>\n",
       "      <td>0</td>\n",
       "      <td>object</td>\n",
       "      <td>0</td>\n",
       "    </tr>\n",
       "    <tr>\n",
       "      <th>user_id</th>\n",
       "      <td>0</td>\n",
       "      <td>int64</td>\n",
       "      <td>202115</td>\n",
       "    </tr>\n",
       "  </tbody>\n",
       "</table>\n",
       "</div>"
      ],
      "text/plain": [
       "                                       null_values     type  duplicated\n",
       "total  frame    columns                                                \n",
       "2      tariffs  mb_per_month_included            0    int64           0\n",
       "                messages_included                0    int64           0\n",
       "                minutes_included                 0    int64           0\n",
       "                rub_monthly_fee                  0    int64           0\n",
       "                rub_per_gb                       0    int64           0\n",
       "                rub_per_message                  0    int64           0\n",
       "                rub_per_minute                   0    int64           0\n",
       "                tariff_name                      0   object           0\n",
       "500    users    age                              0    int64         442\n",
       "                churn_date                     462   object         466\n",
       "                city                             0   object         424\n",
       "                first_name                       0   object         254\n",
       "                last_name                        0   object          81\n",
       "                reg_date                         0   object         230\n",
       "                tariff                           0   object         498\n",
       "                user_id                          0    int64           0\n",
       "123036 messages id                               0   object           0\n",
       "                message_date                     0   object      122672\n",
       "                user_id                          0    int64      122610\n",
       "149396 internet id                               0   object           0\n",
       "                mb_used                          0  float64       79393\n",
       "                session_date                     0   object      149031\n",
       "                user_id                          0    int64      148899\n",
       "202607 calls    call_date                        0   object      202242\n",
       "                duration                         0  float64      199736\n",
       "                id                               0   object           0\n",
       "                user_id                          0    int64      202115"
      ]
     },
     "execution_count": 5,
     "metadata": {},
     "output_type": "execute_result"
    }
   ],
   "source": [
    "stat(slovar)"
   ]
  },
  {
   "cell_type": "code",
   "execution_count": 6,
   "metadata": {},
   "outputs": [
    {
     "data": {
      "text/plain": [
       "0    NaN\n",
       "1    NaN\n",
       "2    NaN\n",
       "3    NaN\n",
       "4    NaN\n",
       "Name: churn_date, dtype: object"
      ]
     },
     "execution_count": 6,
     "metadata": {},
     "output_type": "execute_result"
    }
   ],
   "source": [
    "users['churn_date'].head()"
   ]
  },
  {
   "cell_type": "markdown",
   "metadata": {},
   "source": [
    "На выходе получаем датафрейм с сформированными данными в очень удобном виде\n",
    "Замечаем пропущенные значения в столбце \"churn_date\"\n",
    "Также необходимо изменить тип данный на datatime у 5 столбцов"
   ]
  },
  {
   "cell_type": "markdown",
   "metadata": {},
   "source": [
    "## Предобработка данных"
   ]
  },
  {
   "cell_type": "code",
   "execution_count": 8,
   "metadata": {},
   "outputs": [],
   "source": [
    "columns_to_datetime = {\"reg_date\":users,\n",
    "                       \"message_date\":messages,\n",
    "                       \"session_date\":internet,\n",
    "                       \"call_date\":calls} #Создадим словарь с столбцами, у которых нужно изменить тип данных на datatime\n",
    "\n",
    "for column, frame in columns_to_datetime.items():\n",
    "    frame[column] = pd.to_datetime(frame[column],format = '%Y-%m-%d') #Цикл, меняющий тип данных "
   ]
  },
  {
   "cell_type": "code",
   "execution_count": 10,
   "metadata": {},
   "outputs": [],
   "source": [
    "#Теперь добавим столбцы с месяцами в таблицы\n",
    "calls['month'] = pd.to_datetime(calls['call_date']).dt.month\n",
    "messages['month'] = pd.to_datetime(messages['message_date']).dt.month\n",
    "internet['month'] = pd.to_datetime(internet['session_date']).dt.month"
   ]
  },
  {
   "cell_type": "markdown",
   "metadata": {},
   "source": [
    "## Расчёты и добавление результатов в таблицу"
   ]
  },
  {
   "cell_type": "code",
   "execution_count": 11,
   "metadata": {
    "scrolled": true
   },
   "outputs": [],
   "source": [
    "#По условию задачи, округлим значения длительности вызова и количества использованного интернет-трафика в большую сторону\n",
    "calls['duration']=np.ceil(calls['duration']).astype(int)"
   ]
  },
  {
   "cell_type": "code",
   "execution_count": 12,
   "metadata": {},
   "outputs": [],
   "source": [
    "#Объединим таблицы звонков и сообщенй по id и month пользователя и заменим названия столбцов для удобства\n",
    "calls_group=calls.groupby(['user_id', 'month'])['duration'].agg(['count','sum']).reset_index()\n",
    "calls_group = calls_group.rename(columns={'count': 'calls_count','sum': 'minutes'})#rename\n",
    "messages_group=messages.groupby(['user_id', 'month'])['id'].agg(['count']).reset_index()\n",
    "messages_group = messages_group.rename(columns={'count': 'count_messages'})#rename\n",
    "internet_group=internet.groupby(['user_id', 'month'])['mb_used'].agg(['sum']).reset_index()\n",
    "internet_group = internet_group.rename(columns={'sum': 'count_mb'})#rename\n"
   ]
  },
  {
   "cell_type": "code",
   "execution_count": 13,
   "metadata": {},
   "outputs": [],
   "source": [
    "#Объединим таблицы в одну\n",
    "id_user=pd.merge(calls_group,messages_group, how='outer')\n",
    "id_user=pd.merge(id_user,internet_group, how='outer')\n",
    "id_user=pd.merge(id_user,users.loc[:,['user_id','tariff','city']], how='outer')"
   ]
  },
  {
   "cell_type": "markdown",
   "metadata": {},
   "source": [
    "Расчитаем помесячную выручку с каждого пользователя"
   ]
  },
  {
   "cell_type": "code",
   "execution_count": 15,
   "metadata": {
    "scrolled": false
   },
   "outputs": [
    {
     "data": {
      "text/plain": [
       "user_id             0\n",
       "month               2\n",
       "calls_count        42\n",
       "minutes            42\n",
       "count_messages    499\n",
       "count_mb           13\n",
       "tariff              0\n",
       "city                0\n",
       "dtype: int64"
      ]
     },
     "execution_count": 15,
     "metadata": {},
     "output_type": "execute_result"
    }
   ],
   "source": [
    "id_user.isna().sum()"
   ]
  },
  {
   "cell_type": "code",
   "execution_count": 16,
   "metadata": {
    "scrolled": true
   },
   "outputs": [
    {
     "name": "stdout",
     "output_type": "stream",
     "text": [
      "      user_id  month  calls_count  minutes  count_messages  count_mb tariff  \\\n",
      "584      1094    5.0         16.0    107.0             3.0       0.0  ultra   \n",
      "2278     1365   10.0          5.0     43.0             1.0       0.0  smart   \n",
      "\n",
      "                city  \n",
      "584      Новосибирск  \n",
      "2278  Ростов-на-Дону  \n",
      "Empty DataFrame\n",
      "Columns: [user_id, month, calls_count, minutes, count_messages, count_mb, tariff, city]\n",
      "Index: []\n",
      "      user_id  month  calls_count  minutes  count_messages  count_mb tariff  \\\n",
      "1493     1240    2.0          2.0      0.0             NaN    959.51  ultra   \n",
      "1605     1257    7.0          1.0      0.0           146.0  20014.22  ultra   \n",
      "1606     1257    8.0          2.0      0.0           157.0  25482.16  ultra   \n",
      "1607     1257    9.0          1.0      0.0           153.0  22753.12  ultra   \n",
      "2318     1373    1.0          2.0      0.0            28.0   9173.74  smart   \n",
      "2321     1373    4.0          1.0      0.0            48.0  20375.78  smart   \n",
      "\n",
      "                 city  \n",
      "1493          Воронеж  \n",
      "1605  Санкт-Петербург  \n",
      "1606  Санкт-Петербург  \n",
      "1607  Санкт-Петербург  \n",
      "2318         Улан-Удэ  \n",
      "2321         Улан-Удэ  \n",
      "Empty DataFrame\n",
      "Columns: [user_id, month, calls_count, minutes, count_messages, count_mb, tariff, city]\n",
      "Index: []\n"
     ]
    }
   ],
   "source": [
    "#Тут строки, где значение равно 0.\n",
    "print(id_user[id_user['count_mb']==0])\n",
    "print(id_user[id_user['count_messages']==0])\n",
    "print(id_user[id_user['minutes']==0])\n",
    "print(id_user[id_user['calls_count']==0])"
   ]
  },
  {
   "cell_type": "code",
   "execution_count": 17,
   "metadata": {},
   "outputs": [],
   "source": [
    "#Пропуски заполним нулями, пропуск в месяце заполним текущим месяцем\n",
    "id_user.loc[:,['calls_count','minutes','count_messages','count_mb']]=id_user.loc[:,['calls_count','minutes','count_messages','count_mb']].fillna(0)\n",
    "id_user.loc[:,['month']]=id_user.loc[:,['month']].fillna(3)"
   ]
  },
  {
   "cell_type": "code",
   "execution_count": 18,
   "metadata": {},
   "outputs": [
    {
     "data": {
      "text/plain": [
       "user_id           0\n",
       "month             0\n",
       "calls_count       0\n",
       "minutes           0\n",
       "count_messages    0\n",
       "count_mb          0\n",
       "tariff            0\n",
       "city              0\n",
       "dtype: int64"
      ]
     },
     "execution_count": 18,
     "metadata": {},
     "output_type": "execute_result"
    }
   ],
   "source": [
    "id_user.isna().sum()"
   ]
  },
  {
   "cell_type": "markdown",
   "metadata": {},
   "source": [
    "Создадим функцию revenue и столбец monthly revenue"
   ]
  },
  {
   "cell_type": "code",
   "execution_count": 21,
   "metadata": {},
   "outputs": [
    {
     "data": {
      "text/html": [
       "<div>\n",
       "<style scoped>\n",
       "    .dataframe tbody tr th:only-of-type {\n",
       "        vertical-align: middle;\n",
       "    }\n",
       "\n",
       "    .dataframe tbody tr th {\n",
       "        vertical-align: top;\n",
       "    }\n",
       "\n",
       "    .dataframe thead th {\n",
       "        text-align: right;\n",
       "    }\n",
       "</style>\n",
       "<table border=\"1\" class=\"dataframe\">\n",
       "  <thead>\n",
       "    <tr style=\"text-align: right;\">\n",
       "      <th></th>\n",
       "      <th>messages_included</th>\n",
       "      <th>mb_per_month_included</th>\n",
       "      <th>minutes_included</th>\n",
       "      <th>rub_monthly_fee</th>\n",
       "      <th>rub_per_gb</th>\n",
       "      <th>rub_per_message</th>\n",
       "      <th>rub_per_minute</th>\n",
       "      <th>tariff_name</th>\n",
       "    </tr>\n",
       "  </thead>\n",
       "  <tbody>\n",
       "    <tr>\n",
       "      <th>0</th>\n",
       "      <td>50</td>\n",
       "      <td>15360</td>\n",
       "      <td>500</td>\n",
       "      <td>550</td>\n",
       "      <td>200</td>\n",
       "      <td>3</td>\n",
       "      <td>3</td>\n",
       "      <td>smart</td>\n",
       "    </tr>\n",
       "    <tr>\n",
       "      <th>1</th>\n",
       "      <td>1000</td>\n",
       "      <td>30720</td>\n",
       "      <td>3000</td>\n",
       "      <td>1950</td>\n",
       "      <td>150</td>\n",
       "      <td>1</td>\n",
       "      <td>1</td>\n",
       "      <td>ultra</td>\n",
       "    </tr>\n",
       "  </tbody>\n",
       "</table>\n",
       "</div>"
      ],
      "text/plain": [
       "   messages_included  mb_per_month_included  minutes_included  \\\n",
       "0                 50                  15360               500   \n",
       "1               1000                  30720              3000   \n",
       "\n",
       "   rub_monthly_fee  rub_per_gb  rub_per_message  rub_per_minute tariff_name  \n",
       "0              550         200                3               3       smart  \n",
       "1             1950         150                1               1       ultra  "
      ]
     },
     "execution_count": 21,
     "metadata": {},
     "output_type": "execute_result"
    }
   ],
   "source": [
    "tariffs"
   ]
  },
  {
   "cell_type": "code",
   "execution_count": 22,
   "metadata": {},
   "outputs": [],
   "source": [
    "price_for_smart=tariffs.loc[0,'rub_monthly_fee']\n",
    "smart_tarif_min=tariffs.loc[0,'minutes_included']\n",
    "smart_tarif_mes=tariffs.loc[0,'messages_included']\n",
    "smart_tarif_gb=tariffs.loc[0,'mb_per_month_included']/1024\n",
    "smart_rub_gb=tariffs.loc[0,'rub_per_gb']\n",
    "smart_rub_min=tariffs.loc[0,'rub_per_minute']\n",
    "smart_rub_mes=tariffs.loc[0,'rub_per_message']"
   ]
  },
  {
   "cell_type": "code",
   "execution_count": 23,
   "metadata": {},
   "outputs": [],
   "source": [
    "price_for_ultra=tariffs.loc[1,'rub_monthly_fee']\n",
    "ultra_tarif_min=tariffs.loc[1,'minutes_included']\n",
    "ultra_tarif_mes=tariffs.loc[1,'messages_included']\n",
    "ultra_tarif_gb=tariffs.loc[1,'mb_per_month_included']/1024\n",
    "ultra_rub_gb=tariffs.loc[1,'rub_per_gb']\n",
    "ultra_rub_min=tariffs.loc[1,'rub_per_minute']\n",
    "ultra_rub_mes=tariffs.loc[1,'rub_per_message']\n"
   ]
  },
  {
   "cell_type": "code",
   "execution_count": 24,
   "metadata": {
    "scrolled": true
   },
   "outputs": [
    {
     "data": {
      "text/html": [
       "<div>\n",
       "<style scoped>\n",
       "    .dataframe tbody tr th:only-of-type {\n",
       "        vertical-align: middle;\n",
       "    }\n",
       "\n",
       "    .dataframe tbody tr th {\n",
       "        vertical-align: top;\n",
       "    }\n",
       "\n",
       "    .dataframe thead th {\n",
       "        text-align: right;\n",
       "    }\n",
       "</style>\n",
       "<table border=\"1\" class=\"dataframe\">\n",
       "  <thead>\n",
       "    <tr style=\"text-align: right;\">\n",
       "      <th></th>\n",
       "      <th>user_id</th>\n",
       "      <th>month</th>\n",
       "      <th>calls_count</th>\n",
       "      <th>minutes</th>\n",
       "      <th>count_messages</th>\n",
       "      <th>count_mb</th>\n",
       "      <th>tariff</th>\n",
       "      <th>city</th>\n",
       "    </tr>\n",
       "  </thead>\n",
       "  <tbody>\n",
       "    <tr>\n",
       "      <th>3200</th>\n",
       "      <td>1231</td>\n",
       "      <td>12.0</td>\n",
       "      <td>0.0</td>\n",
       "      <td>0.0</td>\n",
       "      <td>191.0</td>\n",
       "      <td>32448.00</td>\n",
       "      <td>ultra</td>\n",
       "      <td>Чебоксары</td>\n",
       "    </tr>\n",
       "    <tr>\n",
       "      <th>3202</th>\n",
       "      <td>1328</td>\n",
       "      <td>11.0</td>\n",
       "      <td>0.0</td>\n",
       "      <td>0.0</td>\n",
       "      <td>8.0</td>\n",
       "      <td>35525.58</td>\n",
       "      <td>ultra</td>\n",
       "      <td>Мурманск</td>\n",
       "    </tr>\n",
       "    <tr>\n",
       "      <th>3203</th>\n",
       "      <td>1328</td>\n",
       "      <td>12.0</td>\n",
       "      <td>0.0</td>\n",
       "      <td>0.0</td>\n",
       "      <td>7.0</td>\n",
       "      <td>39419.73</td>\n",
       "      <td>ultra</td>\n",
       "      <td>Мурманск</td>\n",
       "    </tr>\n",
       "  </tbody>\n",
       "</table>\n",
       "</div>"
      ],
      "text/plain": [
       "      user_id  month  calls_count  minutes  count_messages  count_mb tariff  \\\n",
       "3200     1231   12.0          0.0      0.0           191.0  32448.00  ultra   \n",
       "3202     1328   11.0          0.0      0.0             8.0  35525.58  ultra   \n",
       "3203     1328   12.0          0.0      0.0             7.0  39419.73  ultra   \n",
       "\n",
       "           city  \n",
       "3200  Чебоксары  \n",
       "3202   Мурманск  \n",
       "3203   Мурманск  "
      ]
     },
     "execution_count": 24,
     "metadata": {},
     "output_type": "execute_result"
    }
   ],
   "source": [
    "id_user[(id_user['tariff'] == \"ultra\") & (id_user['count_mb'] >30720)].tail(3)"
   ]
  },
  {
   "cell_type": "code",
   "execution_count": 25,
   "metadata": {},
   "outputs": [],
   "source": [
    "import math\n",
    "def revenue(row):\n",
    "    if row['tariff']=='smart':\n",
    "        if row['count_messages']>smart_tarif_mes:\n",
    "            money_messages=(row['count_messages']-smart_tarif_mes)*smart_rub_mes\n",
    "        else:\n",
    "            money_messages=0\n",
    "        if row['minutes']>smart_tarif_min:\n",
    "            money_minutes=(row['minutes']-smart_tarif_min)*smart_rub_min\n",
    "        else:\n",
    "            money_minutes=0\n",
    "        if (row['count_mb']/1024)>smart_tarif_gb:\n",
    "            money_gb=(math.ceil(row['count_mb']/1024)-smart_tarif_gb)*smart_rub_gb\n",
    "        else:\n",
    "            money_gb=0\n",
    "        money_total=price_for_smart+money_messages+money_minutes+money_gb\n",
    "\n",
    "    if row['tariff']=='ultra':\n",
    "        if row['count_messages']>ultra_tarif_mes:\n",
    "            money_messages=(row['count_messages']-ultra_tarif_mes)*ultra_tarif_mes\n",
    "        else:\n",
    "            money_messages=0\n",
    "        if row['minutes']>ultra_tarif_min:\n",
    "            money_minutes=(row['minutes']-ultra_tarif_min)*ultra_rub_min\n",
    "        else:\n",
    "            money_minutes=0\n",
    "        if (row['count_mb']/1024)>ultra_tarif_gb:\n",
    "            money_gb=(math.ceil(row['count_mb']/1024)-ultra_tarif_gb)*ultra_rub_gb\n",
    "        else:\n",
    "            money_gb=0\n",
    "        money_total=price_for_ultra+money_messages+money_minutes+money_gb\n",
    "    return money_total\n",
    "id_user['monthly revenue']=id_user.apply(revenue, axis=1)"
   ]
  },
  {
   "cell_type": "code",
   "execution_count": 26,
   "metadata": {},
   "outputs": [
    {
     "data": {
      "text/plain": [
       "4916951.0"
      ]
     },
     "execution_count": 26,
     "metadata": {},
     "output_type": "execute_result"
    }
   ],
   "source": [
    "id_user['monthly revenue'].sum()"
   ]
  },
  {
   "cell_type": "code",
   "execution_count": 27,
   "metadata": {},
   "outputs": [
    {
     "data": {
      "text/html": [
       "<div>\n",
       "<style scoped>\n",
       "    .dataframe tbody tr th:only-of-type {\n",
       "        vertical-align: middle;\n",
       "    }\n",
       "\n",
       "    .dataframe tbody tr th {\n",
       "        vertical-align: top;\n",
       "    }\n",
       "\n",
       "    .dataframe thead th {\n",
       "        text-align: right;\n",
       "    }\n",
       "</style>\n",
       "<table border=\"1\" class=\"dataframe\">\n",
       "  <thead>\n",
       "    <tr style=\"text-align: right;\">\n",
       "      <th></th>\n",
       "      <th>user_id</th>\n",
       "      <th>month</th>\n",
       "      <th>calls_count</th>\n",
       "      <th>minutes</th>\n",
       "      <th>count_messages</th>\n",
       "      <th>count_mb</th>\n",
       "      <th>tariff</th>\n",
       "      <th>city</th>\n",
       "      <th>monthly revenue</th>\n",
       "    </tr>\n",
       "  </thead>\n",
       "  <tbody>\n",
       "    <tr>\n",
       "      <th>3200</th>\n",
       "      <td>1231</td>\n",
       "      <td>12.0</td>\n",
       "      <td>0.0</td>\n",
       "      <td>0.0</td>\n",
       "      <td>191.0</td>\n",
       "      <td>32448.00</td>\n",
       "      <td>ultra</td>\n",
       "      <td>Чебоксары</td>\n",
       "      <td>2250.0</td>\n",
       "    </tr>\n",
       "    <tr>\n",
       "      <th>3202</th>\n",
       "      <td>1328</td>\n",
       "      <td>11.0</td>\n",
       "      <td>0.0</td>\n",
       "      <td>0.0</td>\n",
       "      <td>8.0</td>\n",
       "      <td>35525.58</td>\n",
       "      <td>ultra</td>\n",
       "      <td>Мурманск</td>\n",
       "      <td>2700.0</td>\n",
       "    </tr>\n",
       "    <tr>\n",
       "      <th>3203</th>\n",
       "      <td>1328</td>\n",
       "      <td>12.0</td>\n",
       "      <td>0.0</td>\n",
       "      <td>0.0</td>\n",
       "      <td>7.0</td>\n",
       "      <td>39419.73</td>\n",
       "      <td>ultra</td>\n",
       "      <td>Мурманск</td>\n",
       "      <td>3300.0</td>\n",
       "    </tr>\n",
       "  </tbody>\n",
       "</table>\n",
       "</div>"
      ],
      "text/plain": [
       "      user_id  month  calls_count  minutes  count_messages  count_mb tariff  \\\n",
       "3200     1231   12.0          0.0      0.0           191.0  32448.00  ultra   \n",
       "3202     1328   11.0          0.0      0.0             8.0  35525.58  ultra   \n",
       "3203     1328   12.0          0.0      0.0             7.0  39419.73  ultra   \n",
       "\n",
       "           city  monthly revenue  \n",
       "3200  Чебоксары           2250.0  \n",
       "3202   Мурманск           2700.0  \n",
       "3203   Мурманск           3300.0  "
      ]
     },
     "execution_count": 27,
     "metadata": {},
     "output_type": "execute_result"
    }
   ],
   "source": [
    "id_user[(id_user['tariff'] == \"ultra\") & (id_user['monthly revenue'] >1950)].tail(3)"
   ]
  },
  {
   "cell_type": "markdown",
   "metadata": {},
   "source": [
    "## Анализ данных"
   ]
  },
  {
   "cell_type": "markdown",
   "metadata": {},
   "source": [
    "Посчитаем среднее количество, дисперсию и стандартное отклонение"
   ]
  },
  {
   "cell_type": "code",
   "execution_count": 30,
   "metadata": {
    "scrolled": true
   },
   "outputs": [
    {
     "name": "stderr",
     "output_type": "stream",
     "text": [
      "/tmp/ipykernel_188/4003599135.py:1: FutureWarning: Indexing with multiple keys (implicitly converted to a tuple of keys) will be deprecated, use a list instead.\n",
      "  id_user_group=id_user.groupby(['tariff','month'])['minutes','count_messages','count_mb','monthly revenue'].sum().reset_index()\n",
      "/tmp/ipykernel_188/4003599135.py:3: FutureWarning: Indexing with multiple keys (implicitly converted to a tuple of keys) will be deprecated, use a list instead.\n",
      "  year=id_user.groupby(['tariff'])['minutes','count_messages','count_mb','monthly revenue'].sum().reset_index()\n"
     ]
    },
    {
     "data": {
      "text/html": [
       "<div>\n",
       "<style scoped>\n",
       "    .dataframe tbody tr th:only-of-type {\n",
       "        vertical-align: middle;\n",
       "    }\n",
       "\n",
       "    .dataframe tbody tr th {\n",
       "        vertical-align: top;\n",
       "    }\n",
       "\n",
       "    .dataframe thead th {\n",
       "        text-align: right;\n",
       "    }\n",
       "</style>\n",
       "<table border=\"1\" class=\"dataframe\">\n",
       "  <thead>\n",
       "    <tr style=\"text-align: right;\">\n",
       "      <th></th>\n",
       "      <th>tariff</th>\n",
       "      <th>minutes</th>\n",
       "      <th>count_messages</th>\n",
       "      <th>count_mb</th>\n",
       "      <th>monthly revenue</th>\n",
       "    </tr>\n",
       "  </thead>\n",
       "  <tbody>\n",
       "    <tr>\n",
       "      <th>0</th>\n",
       "      <td>smart</td>\n",
       "      <td>931577.0</td>\n",
       "      <td>74413.0</td>\n",
       "      <td>36128494.60</td>\n",
       "      <td>2875901.0</td>\n",
       "    </tr>\n",
       "    <tr>\n",
       "      <th>1</th>\n",
       "      <td>ultra</td>\n",
       "      <td>518724.0</td>\n",
       "      <td>48623.0</td>\n",
       "      <td>19176773.13</td>\n",
       "      <td>2041050.0</td>\n",
       "    </tr>\n",
       "  </tbody>\n",
       "</table>\n",
       "</div>"
      ],
      "text/plain": [
       "  tariff   minutes  count_messages     count_mb  monthly revenue\n",
       "0  smart  931577.0         74413.0  36128494.60        2875901.0\n",
       "1  ultra  518724.0         48623.0  19176773.13        2041050.0"
      ]
     },
     "execution_count": 30,
     "metadata": {},
     "output_type": "execute_result"
    }
   ],
   "source": [
    "id_user_group=id_user.groupby(['tariff','month'])['minutes','count_messages','count_mb','monthly revenue'].sum().reset_index()\n",
    "id_user_group\n",
    "year=id_user.groupby(['tariff'])['minutes','count_messages','count_mb','monthly revenue'].sum().reset_index()\n",
    "year"
   ]
  },
  {
   "cell_type": "code",
   "execution_count": 31,
   "metadata": {
    "scrolled": true
   },
   "outputs": [
    {
     "data": {
      "image/png": "[encoded data removed]",
      "text/plain": [
       "<Figure size 432x288 with 1 Axes>"
      ]
     },
     "metadata": {
      "needs_background": "light"
     },
     "output_type": "display_data"
    },
    {
     "data": {
      "image/png": "[encoded data removed]",
      "text/plain": [
       "<Figure size 432x288 with 1 Axes>"
      ]
     },
     "metadata": {
      "needs_background": "light"
     },
     "output_type": "display_data"
    },
    {
     "data": {
      "image/png": "[encoded data removed]",
      "text/plain": [
       "<Figure size 432x288 with 1 Axes>"
      ]
     },
     "metadata": {
      "needs_background": "light"
     },
     "output_type": "display_data"
    },
    {
     "data": {
      "image/png": "[encoded data removed]",
      "text/plain": [
       "<Figure size 432x288 with 1 Axes>"
      ]
     },
     "metadata": {
      "needs_background": "light"
     },
     "output_type": "display_data"
    }
   ],
   "source": [
    "#Построим гистограмму сравнения расхода трафика пользователей двух тарифов\n",
    "\n",
    "id_user_group_ultra=id_user_group.query('tariff==\"ultra\"').reset_index(drop=True)\n",
    "id_user_group_smart=id_user_group.query('tariff==\"smart\"').reset_index(drop=True)\n",
    "for idx in ['minutes','count_messages', 'count_mb','monthly revenue']:\n",
    "    plt.bar(id_user_group_ultra['month'], id_user_group_ultra[idx],label='ultra', alpha=0.5, color='r')\n",
    "    plt.bar(id_user_group_smart['month'], id_user_group_smart[idx],label='smart', alpha=0.5, color='g')\n",
    "    plt.xlabel('month')\n",
    "    plt.ylabel(idx)\n",
    "    plt.grid()\n",
    "    plt.legend()\n",
    "    plt.show()"
   ]
  },
  {
   "cell_type": "markdown",
   "metadata": {},
   "source": [
    "Судя по гравфикам, пользователи тарифа 'smart' приносят гораздо больше выручки, чем пользователи другого тарифа. \n",
    "С каждым месяцем выручка увеличивается\n",
    "Тоже самое можно сказать и про расход всего трафика."
   ]
  },
  {
   "cell_type": "code",
   "execution_count": 37,
   "metadata": {},
   "outputs": [
    {
     "data": {
      "text/html": [
       "<div>\n",
       "<style scoped>\n",
       "    .dataframe tbody tr th:only-of-type {\n",
       "        vertical-align: middle;\n",
       "    }\n",
       "\n",
       "    .dataframe tbody tr th {\n",
       "        vertical-align: top;\n",
       "    }\n",
       "\n",
       "    .dataframe thead th {\n",
       "        text-align: right;\n",
       "    }\n",
       "</style>\n",
       "<table border=\"1\" class=\"dataframe\">\n",
       "  <thead>\n",
       "    <tr style=\"text-align: right;\">\n",
       "      <th></th>\n",
       "      <th>user_id</th>\n",
       "      <th>month</th>\n",
       "      <th>calls_count</th>\n",
       "      <th>minutes</th>\n",
       "      <th>count_messages</th>\n",
       "      <th>count_mb</th>\n",
       "      <th>tariff</th>\n",
       "      <th>city</th>\n",
       "      <th>monthly revenue</th>\n",
       "    </tr>\n",
       "  </thead>\n",
       "  <tbody>\n",
       "    <tr>\n",
       "      <th>0</th>\n",
       "      <td>1000</td>\n",
       "      <td>5.0</td>\n",
       "      <td>22.0</td>\n",
       "      <td>159.0</td>\n",
       "      <td>22.0</td>\n",
       "      <td>2253.49</td>\n",
       "      <td>ultra</td>\n",
       "      <td>Краснодар</td>\n",
       "      <td>1950.0</td>\n",
       "    </tr>\n",
       "    <tr>\n",
       "      <th>1</th>\n",
       "      <td>1000</td>\n",
       "      <td>6.0</td>\n",
       "      <td>43.0</td>\n",
       "      <td>172.0</td>\n",
       "      <td>60.0</td>\n",
       "      <td>23233.77</td>\n",
       "      <td>ultra</td>\n",
       "      <td>Краснодар</td>\n",
       "      <td>1950.0</td>\n",
       "    </tr>\n",
       "    <tr>\n",
       "      <th>2</th>\n",
       "      <td>1000</td>\n",
       "      <td>7.0</td>\n",
       "      <td>47.0</td>\n",
       "      <td>340.0</td>\n",
       "      <td>75.0</td>\n",
       "      <td>14003.64</td>\n",
       "      <td>ultra</td>\n",
       "      <td>Краснодар</td>\n",
       "      <td>1950.0</td>\n",
       "    </tr>\n",
       "    <tr>\n",
       "      <th>3</th>\n",
       "      <td>1000</td>\n",
       "      <td>8.0</td>\n",
       "      <td>52.0</td>\n",
       "      <td>408.0</td>\n",
       "      <td>81.0</td>\n",
       "      <td>14055.93</td>\n",
       "      <td>ultra</td>\n",
       "      <td>Краснодар</td>\n",
       "      <td>1950.0</td>\n",
       "    </tr>\n",
       "    <tr>\n",
       "      <th>4</th>\n",
       "      <td>1000</td>\n",
       "      <td>9.0</td>\n",
       "      <td>58.0</td>\n",
       "      <td>466.0</td>\n",
       "      <td>57.0</td>\n",
       "      <td>14568.91</td>\n",
       "      <td>ultra</td>\n",
       "      <td>Краснодар</td>\n",
       "      <td>1950.0</td>\n",
       "    </tr>\n",
       "    <tr>\n",
       "      <th>...</th>\n",
       "      <td>...</td>\n",
       "      <td>...</td>\n",
       "      <td>...</td>\n",
       "      <td>...</td>\n",
       "      <td>...</td>\n",
       "      <td>...</td>\n",
       "      <td>...</td>\n",
       "      <td>...</td>\n",
       "      <td>...</td>\n",
       "    </tr>\n",
       "    <tr>\n",
       "      <th>3211</th>\n",
       "      <td>1489</td>\n",
       "      <td>10.0</td>\n",
       "      <td>0.0</td>\n",
       "      <td>0.0</td>\n",
       "      <td>21.0</td>\n",
       "      <td>19559.44</td>\n",
       "      <td>smart</td>\n",
       "      <td>Санкт-Петербург</td>\n",
       "      <td>1550.0</td>\n",
       "    </tr>\n",
       "    <tr>\n",
       "      <th>3212</th>\n",
       "      <td>1489</td>\n",
       "      <td>11.0</td>\n",
       "      <td>0.0</td>\n",
       "      <td>0.0</td>\n",
       "      <td>20.0</td>\n",
       "      <td>17491.56</td>\n",
       "      <td>smart</td>\n",
       "      <td>Санкт-Петербург</td>\n",
       "      <td>1150.0</td>\n",
       "    </tr>\n",
       "    <tr>\n",
       "      <th>3213</th>\n",
       "      <td>1489</td>\n",
       "      <td>12.0</td>\n",
       "      <td>0.0</td>\n",
       "      <td>0.0</td>\n",
       "      <td>35.0</td>\n",
       "      <td>17322.51</td>\n",
       "      <td>smart</td>\n",
       "      <td>Санкт-Петербург</td>\n",
       "      <td>950.0</td>\n",
       "    </tr>\n",
       "    <tr>\n",
       "      <th>3214</th>\n",
       "      <td>1128</td>\n",
       "      <td>3.0</td>\n",
       "      <td>0.0</td>\n",
       "      <td>0.0</td>\n",
       "      <td>0.0</td>\n",
       "      <td>0.00</td>\n",
       "      <td>ultra</td>\n",
       "      <td>Волжский</td>\n",
       "      <td>1950.0</td>\n",
       "    </tr>\n",
       "    <tr>\n",
       "      <th>3215</th>\n",
       "      <td>1371</td>\n",
       "      <td>3.0</td>\n",
       "      <td>0.0</td>\n",
       "      <td>0.0</td>\n",
       "      <td>0.0</td>\n",
       "      <td>0.00</td>\n",
       "      <td>smart</td>\n",
       "      <td>Омск</td>\n",
       "      <td>550.0</td>\n",
       "    </tr>\n",
       "  </tbody>\n",
       "</table>\n",
       "<p>3216 rows × 9 columns</p>\n",
       "</div>"
      ],
      "text/plain": [
       "      user_id  month  calls_count  minutes  count_messages  count_mb tariff  \\\n",
       "0        1000    5.0         22.0    159.0            22.0   2253.49  ultra   \n",
       "1        1000    6.0         43.0    172.0            60.0  23233.77  ultra   \n",
       "2        1000    7.0         47.0    340.0            75.0  14003.64  ultra   \n",
       "3        1000    8.0         52.0    408.0            81.0  14055.93  ultra   \n",
       "4        1000    9.0         58.0    466.0            57.0  14568.91  ultra   \n",
       "...       ...    ...          ...      ...             ...       ...    ...   \n",
       "3211     1489   10.0          0.0      0.0            21.0  19559.44  smart   \n",
       "3212     1489   11.0          0.0      0.0            20.0  17491.56  smart   \n",
       "3213     1489   12.0          0.0      0.0            35.0  17322.51  smart   \n",
       "3214     1128    3.0          0.0      0.0             0.0      0.00  ultra   \n",
       "3215     1371    3.0          0.0      0.0             0.0      0.00  smart   \n",
       "\n",
       "                 city  monthly revenue  \n",
       "0           Краснодар           1950.0  \n",
       "1           Краснодар           1950.0  \n",
       "2           Краснодар           1950.0  \n",
       "3           Краснодар           1950.0  \n",
       "4           Краснодар           1950.0  \n",
       "...               ...              ...  \n",
       "3211  Санкт-Петербург           1550.0  \n",
       "3212  Санкт-Петербург           1150.0  \n",
       "3213  Санкт-Петербург            950.0  \n",
       "3214         Волжский           1950.0  \n",
       "3215             Омск            550.0  \n",
       "\n",
       "[3216 rows x 9 columns]"
      ]
     },
     "execution_count": 37,
     "metadata": {},
     "output_type": "execute_result"
    }
   ],
   "source": [
    "id_user"
   ]
  },
  {
   "cell_type": "code",
   "execution_count": 38,
   "metadata": {
    "scrolled": true
   },
   "outputs": [],
   "source": [
    "id_user['count_mb']=id_user['count_mb']/1024"
   ]
  },
  {
   "cell_type": "code",
   "execution_count": 39,
   "metadata": {},
   "outputs": [
    {
     "data": {
      "text/html": [
       "<div>\n",
       "<style scoped>\n",
       "    .dataframe tbody tr th:only-of-type {\n",
       "        vertical-align: middle;\n",
       "    }\n",
       "\n",
       "    .dataframe tbody tr th {\n",
       "        vertical-align: top;\n",
       "    }\n",
       "\n",
       "    .dataframe thead th {\n",
       "        text-align: right;\n",
       "    }\n",
       "</style>\n",
       "<table border=\"1\" class=\"dataframe\">\n",
       "  <thead>\n",
       "    <tr style=\"text-align: right;\">\n",
       "      <th></th>\n",
       "      <th>user_id</th>\n",
       "      <th>month</th>\n",
       "      <th>calls_count</th>\n",
       "      <th>minutes</th>\n",
       "      <th>count_messages</th>\n",
       "      <th>count_mb</th>\n",
       "      <th>tariff</th>\n",
       "      <th>city</th>\n",
       "      <th>monthly revenue</th>\n",
       "    </tr>\n",
       "  </thead>\n",
       "  <tbody>\n",
       "    <tr>\n",
       "      <th>0</th>\n",
       "      <td>1000</td>\n",
       "      <td>5.0</td>\n",
       "      <td>22.0</td>\n",
       "      <td>159.0</td>\n",
       "      <td>22.0</td>\n",
       "      <td>2.200674</td>\n",
       "      <td>ultra</td>\n",
       "      <td>Краснодар</td>\n",
       "      <td>1950.0</td>\n",
       "    </tr>\n",
       "    <tr>\n",
       "      <th>1</th>\n",
       "      <td>1000</td>\n",
       "      <td>6.0</td>\n",
       "      <td>43.0</td>\n",
       "      <td>172.0</td>\n",
       "      <td>60.0</td>\n",
       "      <td>22.689229</td>\n",
       "      <td>ultra</td>\n",
       "      <td>Краснодар</td>\n",
       "      <td>1950.0</td>\n",
       "    </tr>\n",
       "    <tr>\n",
       "      <th>2</th>\n",
       "      <td>1000</td>\n",
       "      <td>7.0</td>\n",
       "      <td>47.0</td>\n",
       "      <td>340.0</td>\n",
       "      <td>75.0</td>\n",
       "      <td>13.675430</td>\n",
       "      <td>ultra</td>\n",
       "      <td>Краснодар</td>\n",
       "      <td>1950.0</td>\n",
       "    </tr>\n",
       "    <tr>\n",
       "      <th>3</th>\n",
       "      <td>1000</td>\n",
       "      <td>8.0</td>\n",
       "      <td>52.0</td>\n",
       "      <td>408.0</td>\n",
       "      <td>81.0</td>\n",
       "      <td>13.726494</td>\n",
       "      <td>ultra</td>\n",
       "      <td>Краснодар</td>\n",
       "      <td>1950.0</td>\n",
       "    </tr>\n",
       "    <tr>\n",
       "      <th>4</th>\n",
       "      <td>1000</td>\n",
       "      <td>9.0</td>\n",
       "      <td>58.0</td>\n",
       "      <td>466.0</td>\n",
       "      <td>57.0</td>\n",
       "      <td>14.227451</td>\n",
       "      <td>ultra</td>\n",
       "      <td>Краснодар</td>\n",
       "      <td>1950.0</td>\n",
       "    </tr>\n",
       "    <tr>\n",
       "      <th>...</th>\n",
       "      <td>...</td>\n",
       "      <td>...</td>\n",
       "      <td>...</td>\n",
       "      <td>...</td>\n",
       "      <td>...</td>\n",
       "      <td>...</td>\n",
       "      <td>...</td>\n",
       "      <td>...</td>\n",
       "      <td>...</td>\n",
       "    </tr>\n",
       "    <tr>\n",
       "      <th>3211</th>\n",
       "      <td>1489</td>\n",
       "      <td>10.0</td>\n",
       "      <td>0.0</td>\n",
       "      <td>0.0</td>\n",
       "      <td>21.0</td>\n",
       "      <td>19.101016</td>\n",
       "      <td>smart</td>\n",
       "      <td>Санкт-Петербург</td>\n",
       "      <td>1550.0</td>\n",
       "    </tr>\n",
       "    <tr>\n",
       "      <th>3212</th>\n",
       "      <td>1489</td>\n",
       "      <td>11.0</td>\n",
       "      <td>0.0</td>\n",
       "      <td>0.0</td>\n",
       "      <td>20.0</td>\n",
       "      <td>17.081602</td>\n",
       "      <td>smart</td>\n",
       "      <td>Санкт-Петербург</td>\n",
       "      <td>1150.0</td>\n",
       "    </tr>\n",
       "    <tr>\n",
       "      <th>3213</th>\n",
       "      <td>1489</td>\n",
       "      <td>12.0</td>\n",
       "      <td>0.0</td>\n",
       "      <td>0.0</td>\n",
       "      <td>35.0</td>\n",
       "      <td>16.916514</td>\n",
       "      <td>smart</td>\n",
       "      <td>Санкт-Петербург</td>\n",
       "      <td>950.0</td>\n",
       "    </tr>\n",
       "    <tr>\n",
       "      <th>3214</th>\n",
       "      <td>1128</td>\n",
       "      <td>3.0</td>\n",
       "      <td>0.0</td>\n",
       "      <td>0.0</td>\n",
       "      <td>0.0</td>\n",
       "      <td>0.000000</td>\n",
       "      <td>ultra</td>\n",
       "      <td>Волжский</td>\n",
       "      <td>1950.0</td>\n",
       "    </tr>\n",
       "    <tr>\n",
       "      <th>3215</th>\n",
       "      <td>1371</td>\n",
       "      <td>3.0</td>\n",
       "      <td>0.0</td>\n",
       "      <td>0.0</td>\n",
       "      <td>0.0</td>\n",
       "      <td>0.000000</td>\n",
       "      <td>smart</td>\n",
       "      <td>Омск</td>\n",
       "      <td>550.0</td>\n",
       "    </tr>\n",
       "  </tbody>\n",
       "</table>\n",
       "<p>3216 rows × 9 columns</p>\n",
       "</div>"
      ],
      "text/plain": [
       "      user_id  month  calls_count  minutes  count_messages   count_mb tariff  \\\n",
       "0        1000    5.0         22.0    159.0            22.0   2.200674  ultra   \n",
       "1        1000    6.0         43.0    172.0            60.0  22.689229  ultra   \n",
       "2        1000    7.0         47.0    340.0            75.0  13.675430  ultra   \n",
       "3        1000    8.0         52.0    408.0            81.0  13.726494  ultra   \n",
       "4        1000    9.0         58.0    466.0            57.0  14.227451  ultra   \n",
       "...       ...    ...          ...      ...             ...        ...    ...   \n",
       "3211     1489   10.0          0.0      0.0            21.0  19.101016  smart   \n",
       "3212     1489   11.0          0.0      0.0            20.0  17.081602  smart   \n",
       "3213     1489   12.0          0.0      0.0            35.0  16.916514  smart   \n",
       "3214     1128    3.0          0.0      0.0             0.0   0.000000  ultra   \n",
       "3215     1371    3.0          0.0      0.0             0.0   0.000000  smart   \n",
       "\n",
       "                 city  monthly revenue  \n",
       "0           Краснодар           1950.0  \n",
       "1           Краснодар           1950.0  \n",
       "2           Краснодар           1950.0  \n",
       "3           Краснодар           1950.0  \n",
       "4           Краснодар           1950.0  \n",
       "...               ...              ...  \n",
       "3211  Санкт-Петербург           1550.0  \n",
       "3212  Санкт-Петербург           1150.0  \n",
       "3213  Санкт-Петербург            950.0  \n",
       "3214         Волжский           1950.0  \n",
       "3215             Омск            550.0  \n",
       "\n",
       "[3216 rows x 9 columns]"
      ]
     },
     "execution_count": 39,
     "metadata": {},
     "output_type": "execute_result"
    }
   ],
   "source": [
    "id_user"
   ]
  },
  {
   "cell_type": "code",
   "execution_count": 40,
   "metadata": {},
   "outputs": [
    {
     "data": {
      "text/html": [
       "<div>\n",
       "<style scoped>\n",
       "    .dataframe tbody tr th:only-of-type {\n",
       "        vertical-align: middle;\n",
       "    }\n",
       "\n",
       "    .dataframe tbody tr th {\n",
       "        vertical-align: top;\n",
       "    }\n",
       "\n",
       "    .dataframe thead th {\n",
       "        text-align: right;\n",
       "    }\n",
       "</style>\n",
       "<table border=\"1\" class=\"dataframe\">\n",
       "  <thead>\n",
       "    <tr style=\"text-align: right;\">\n",
       "      <th></th>\n",
       "      <th>tariff</th>\n",
       "      <th>smart</th>\n",
       "      <th>ultra</th>\n",
       "    </tr>\n",
       "  </thead>\n",
       "  <tbody>\n",
       "    <tr>\n",
       "      <th rowspan=\"5\" valign=\"top\">mean</th>\n",
       "      <th>кол-во звонков</th>\n",
       "      <td>58.4</td>\n",
       "      <td>73.3</td>\n",
       "    </tr>\n",
       "    <tr>\n",
       "      <th>Гб.</th>\n",
       "      <td>15.8</td>\n",
       "      <td>19.0</td>\n",
       "    </tr>\n",
       "    <tr>\n",
       "      <th>смс</th>\n",
       "      <td>33.4</td>\n",
       "      <td>49.3</td>\n",
       "    </tr>\n",
       "    <tr>\n",
       "      <th>мин-ты</th>\n",
       "      <td>417.7</td>\n",
       "      <td>526.1</td>\n",
       "    </tr>\n",
       "    <tr>\n",
       "      <th>выручка</th>\n",
       "      <td>1289.6</td>\n",
       "      <td>2070.0</td>\n",
       "    </tr>\n",
       "    <tr>\n",
       "      <th rowspan=\"5\" valign=\"top\">std</th>\n",
       "      <th>кол-во звонков</th>\n",
       "      <td>26.0</td>\n",
       "      <td>44.0</td>\n",
       "    </tr>\n",
       "    <tr>\n",
       "      <th>Гб.</th>\n",
       "      <td>5.7</td>\n",
       "      <td>9.9</td>\n",
       "    </tr>\n",
       "    <tr>\n",
       "      <th>смс</th>\n",
       "      <td>28.2</td>\n",
       "      <td>47.8</td>\n",
       "    </tr>\n",
       "    <tr>\n",
       "      <th>мин-ты</th>\n",
       "      <td>190.5</td>\n",
       "      <td>317.9</td>\n",
       "    </tr>\n",
       "    <tr>\n",
       "      <th>выручка</th>\n",
       "      <td>818.4</td>\n",
       "      <td>376.0</td>\n",
       "    </tr>\n",
       "    <tr>\n",
       "      <th rowspan=\"5\" valign=\"top\">var</th>\n",
       "      <th>кол-во звонков</th>\n",
       "      <td>674.1</td>\n",
       "      <td>1932.2</td>\n",
       "    </tr>\n",
       "    <tr>\n",
       "      <th>Гб.</th>\n",
       "      <td>33.0</td>\n",
       "      <td>97.3</td>\n",
       "    </tr>\n",
       "    <tr>\n",
       "      <th>смс</th>\n",
       "      <td>797.0</td>\n",
       "      <td>2285.4</td>\n",
       "    </tr>\n",
       "    <tr>\n",
       "      <th>мин-ты</th>\n",
       "      <td>36281.4</td>\n",
       "      <td>101052.5</td>\n",
       "    </tr>\n",
       "    <tr>\n",
       "      <th>выручка</th>\n",
       "      <td>669730.8</td>\n",
       "      <td>141387.7</td>\n",
       "    </tr>\n",
       "  </tbody>\n",
       "</table>\n",
       "</div>"
      ],
      "text/plain": [
       "tariff                  smart     ultra\n",
       "mean кол-во звонков      58.4      73.3\n",
       "     Гб.                 15.8      19.0\n",
       "     смс                 33.4      49.3\n",
       "     мин-ты             417.7     526.1\n",
       "     выручка           1289.6    2070.0\n",
       "std  кол-во звонков      26.0      44.0\n",
       "     Гб.                  5.7       9.9\n",
       "     смс                 28.2      47.8\n",
       "     мин-ты             190.5     317.9\n",
       "     выручка            818.4     376.0\n",
       "var  кол-во звонков     674.1    1932.2\n",
       "     Гб.                 33.0      97.3\n",
       "     смс                797.0    2285.4\n",
       "     мин-ты           36281.4  101052.5\n",
       "     выручка         669730.8  141387.7"
      ]
     },
     "execution_count": 40,
     "metadata": {},
     "output_type": "execute_result"
    }
   ],
   "source": [
    "(\n",
    "    id_user\n",
    "         .pivot_table(index = 'tariff', values = ['calls_count', 'minutes', 'count_messages',\n",
    "       'count_mb', 'monthly revenue'], \n",
    "                                                                  aggfunc = ['mean', 'std', 'var'])\n",
    "         .round(1)\n",
    "         .rename(columns={'calls_count': 'кол-во звонков', 'minutes' : \"мин-ты\", 'count_messages':\"смс\",\n",
    "       'count_mb':\"Гб.\", 'monthly revenue':\"выручка\"})\n",
    "         .transpose()      \n",
    "            )"
   ]
  },
  {
   "cell_type": "code",
   "execution_count": 41,
   "metadata": {
    "scrolled": true
   },
   "outputs": [
    {
     "data": {
      "text/html": [
       "<div>\n",
       "<style scoped>\n",
       "    .dataframe tbody tr th:only-of-type {\n",
       "        vertical-align: middle;\n",
       "    }\n",
       "\n",
       "    .dataframe tbody tr th {\n",
       "        vertical-align: top;\n",
       "    }\n",
       "\n",
       "    .dataframe thead th {\n",
       "        text-align: right;\n",
       "    }\n",
       "</style>\n",
       "<table border=\"1\" class=\"dataframe\">\n",
       "  <thead>\n",
       "    <tr style=\"text-align: right;\">\n",
       "      <th></th>\n",
       "      <th>calls_count</th>\n",
       "      <th>minutes</th>\n",
       "      <th>count_messages</th>\n",
       "      <th>count_mb</th>\n",
       "      <th>monthly revenue</th>\n",
       "    </tr>\n",
       "  </thead>\n",
       "  <tbody>\n",
       "    <tr>\n",
       "      <th>min</th>\n",
       "      <td>0.0</td>\n",
       "      <td>0.0</td>\n",
       "      <td>0.0</td>\n",
       "      <td>0.0</td>\n",
       "      <td>550.0</td>\n",
       "    </tr>\n",
       "    <tr>\n",
       "      <th>mean</th>\n",
       "      <td>58.4</td>\n",
       "      <td>417.7</td>\n",
       "      <td>33.4</td>\n",
       "      <td>15.8</td>\n",
       "      <td>1289.6</td>\n",
       "    </tr>\n",
       "    <tr>\n",
       "      <th>median</th>\n",
       "      <td>60.0</td>\n",
       "      <td>421.5</td>\n",
       "      <td>28.0</td>\n",
       "      <td>16.1</td>\n",
       "      <td>1021.0</td>\n",
       "    </tr>\n",
       "    <tr>\n",
       "      <th>max</th>\n",
       "      <td>198.0</td>\n",
       "      <td>1435.0</td>\n",
       "      <td>143.0</td>\n",
       "      <td>37.6</td>\n",
       "      <td>6770.0</td>\n",
       "    </tr>\n",
       "  </tbody>\n",
       "</table>\n",
       "</div>"
      ],
      "text/plain": [
       "        calls_count  minutes  count_messages  count_mb  monthly revenue\n",
       "min             0.0      0.0             0.0       0.0            550.0\n",
       "mean           58.4    417.7            33.4      15.8           1289.6\n",
       "median         60.0    421.5            28.0      16.1           1021.0\n",
       "max           198.0   1435.0           143.0      37.6           6770.0"
      ]
     },
     "execution_count": 41,
     "metadata": {},
     "output_type": "execute_result"
    }
   ],
   "source": [
    "(\n",
    "    id_user.query('tariff == \"smart\"')\n",
    "                    [['calls_count', 'minutes', 'count_messages', 'count_mb', 'monthly revenue']]\n",
    "                        .apply (['min', 'mean', 'median',  'max'])   \n",
    "                        .round(1)\n",
    ")"
   ]
  },
  {
   "cell_type": "code",
   "execution_count": 42,
   "metadata": {
    "scrolled": true
   },
   "outputs": [
    {
     "data": {
      "text/html": [
       "<div>\n",
       "<style scoped>\n",
       "    .dataframe tbody tr th:only-of-type {\n",
       "        vertical-align: middle;\n",
       "    }\n",
       "\n",
       "    .dataframe tbody tr th {\n",
       "        vertical-align: top;\n",
       "    }\n",
       "\n",
       "    .dataframe thead th {\n",
       "        text-align: right;\n",
       "    }\n",
       "</style>\n",
       "<table border=\"1\" class=\"dataframe\">\n",
       "  <thead>\n",
       "    <tr style=\"text-align: right;\">\n",
       "      <th></th>\n",
       "      <th>calls_count</th>\n",
       "      <th>minutes</th>\n",
       "      <th>count_messages</th>\n",
       "      <th>count_mb</th>\n",
       "      <th>monthly revenue</th>\n",
       "    </tr>\n",
       "  </thead>\n",
       "  <tbody>\n",
       "    <tr>\n",
       "      <th>min</th>\n",
       "      <td>0.0</td>\n",
       "      <td>0.0</td>\n",
       "      <td>0.0</td>\n",
       "      <td>0.0</td>\n",
       "      <td>1950.0</td>\n",
       "    </tr>\n",
       "    <tr>\n",
       "      <th>mean</th>\n",
       "      <td>73.3</td>\n",
       "      <td>526.1</td>\n",
       "      <td>49.3</td>\n",
       "      <td>19.0</td>\n",
       "      <td>2070.0</td>\n",
       "    </tr>\n",
       "    <tr>\n",
       "      <th>median</th>\n",
       "      <td>73.5</td>\n",
       "      <td>518.0</td>\n",
       "      <td>38.0</td>\n",
       "      <td>18.9</td>\n",
       "      <td>1950.0</td>\n",
       "    </tr>\n",
       "    <tr>\n",
       "      <th>max</th>\n",
       "      <td>244.0</td>\n",
       "      <td>1673.0</td>\n",
       "      <td>224.0</td>\n",
       "      <td>48.6</td>\n",
       "      <td>4800.0</td>\n",
       "    </tr>\n",
       "  </tbody>\n",
       "</table>\n",
       "</div>"
      ],
      "text/plain": [
       "        calls_count  minutes  count_messages  count_mb  monthly revenue\n",
       "min             0.0      0.0             0.0       0.0           1950.0\n",
       "mean           73.3    526.1            49.3      19.0           2070.0\n",
       "median         73.5    518.0            38.0      18.9           1950.0\n",
       "max           244.0   1673.0           224.0      48.6           4800.0"
      ]
     },
     "execution_count": 42,
     "metadata": {},
     "output_type": "execute_result"
    }
   ],
   "source": [
    "(\n",
    "    id_user.query('tariff == \"ultra\"')\n",
    "                    [['calls_count', 'minutes', 'count_messages', 'count_mb', 'monthly revenue']]\n",
    "                        .apply (['min', 'mean', 'median',  'max'])   \n",
    "                        .round(1)\n",
    ")"
   ]
  },
  {
   "cell_type": "markdown",
   "metadata": {},
   "source": [
    "Значения тарифов не сильно отличаются друг от друга, при этом:\n",
    "клиенты обоих тарифов мало пользуются смс-услугами;\n",
    "примерно одинаково говорят по телефону;\n",
    "пользователи тарифа smart часто превышают лимит интернет-тарфика.\n",
    "Большая выручка идет от клиентов smart из-за большего количества пользователей по тарифу.\n",
    "Но больше выручки, в среднем, приносят пользователи тарифа ультра."
   ]
  },
  {
   "cell_type": "code",
   "execution_count": 44,
   "metadata": {},
   "outputs": [
    {
     "data": {
      "text/plain": [
       "<AxesSubplot:title={'center':'var'}, xlabel='tariff'>"
      ]
     },
     "execution_count": 44,
     "metadata": {},
     "output_type": "execute_result"
    },
    {
     "data": {
      "image/png": "[encoded data removed]",
      "text/plain": [
       "<Figure size 360x720 with 1 Axes>"
      ]
     },
     "metadata": {
      "needs_background": "light"
     },
     "output_type": "display_data"
    },
    {
     "data": {
      "image/png": "[encoded data removed]",
      "text/plain": [
       "<Figure size 360x720 with 1 Axes>"
      ]
     },
     "metadata": {
      "needs_background": "light"
     },
     "output_type": "display_data"
    },
    {
     "data": {
      "image/png": "[encoded data removed]",
      "text/plain": [
       "<Figure size 360x720 with 1 Axes>"
      ]
     },
     "metadata": {
      "needs_background": "light"
     },
     "output_type": "display_data"
    }
   ],
   "source": [
    "id_user=id_user.rename(columns={'count_mb':\"count_gb\"})\n",
    "for_plot=id_user.drop(columns=['user_id', 'month', 'calls_count', 'city'])\n",
    "for_plot.groupby(by='tariff').agg('mean').plot(kind='bar', title ='mean', grid=True, figsize=(5,10))\n",
    "for_plot.groupby(by='tariff').agg('std').plot(kind='bar', title ='std', grid=True, figsize=(5,10))\n",
    "for_plot.groupby(by='tariff').agg('var').plot(kind='bar', title ='var', grid=True, figsize=(5,10))"
   ]
  },
  {
   "cell_type": "markdown",
   "metadata": {},
   "source": [
    "Графики подтверждают предыдущие выводы"
   ]
  },
  {
   "cell_type": "code",
   "execution_count": 46,
   "metadata": {},
   "outputs": [
    {
     "name": "stdout",
     "output_type": "stream",
     "text": [
      "Доля пользователей, превышающих лимит тарифа смарт по минутам:  33.81165919282511\n",
      "Доля пользователей, превышающих лимит тарифа смарт по сообщениям:  25.291479820627803\n",
      "Доля пользователей, превышающих лимит тарифа смарт по гигабайтам:  58.47533632286996\n"
     ]
    },
    {
     "data": {
      "text/plain": [
       "149"
      ]
     },
     "execution_count": 46,
     "metadata": {},
     "output_type": "execute_result"
    }
   ],
   "source": [
    "uniq_smart=id_user.query('tariff==\"smart\"')\n",
    "uniq_ultra=id_user.query('tariff==\"ultra\"')\n",
    "smart_tarif_min=500\n",
    "smart_tarif_mes=50\n",
    "smart_tarif_gb=15\n",
    "\n",
    "\n",
    "uniic_min=uniq_smart[uniq_smart['minutes'] > smart_tarif_min].count()\n",
    "uniic_min=uniic_min['minutes']\n",
    "\n",
    "uniic_mes=uniq_smart[uniq_smart['count_messages'] > smart_tarif_mes].count()\n",
    "uniic_mes=uniic_mes['count_messages']\n",
    "\n",
    "uniic_gb=uniq_smart[uniq_smart['count_gb'] > smart_tarif_gb].count()\n",
    "uniic_gb=uniic_gb['count_gb']\n",
    "\n",
    "print('Доля пользователей, превышающих лимит тарифа смарт по минутам: ',uniic_min*100/uniq_smart['minutes'].count())\n",
    "print('Доля пользователей, превышающих лимит тарифа смарт по сообщениям: ',uniic_mes*100/uniq_smart['count_messages'].count())\n",
    "print('Доля пользователей, превышающих лимит тарифа смарт по гигабайтам: ',uniic_gb*100/uniq_smart['count_gb'].count())\n",
    "\n",
    "uniq_smart['user_id'].nunique()\n",
    "uniq_ultra['user_id'].nunique()"
   ]
  },
  {
   "cell_type": "markdown",
   "metadata": {},
   "source": [
    "## Проверим гипотезы"
   ]
  },
  {
   "cell_type": "markdown",
   "metadata": {},
   "source": [
    "Сформируем нулевую и альтернативную гипотезы:\n",
    "H0 - средняя выручка пользователей тарифов «Ультра» и «Смарт» различаются\n",
    "H1 - средняя выручка пользователей тарифов «Ультра» и «Смарт» не различаются"
   ]
  },
  {
   "cell_type": "code",
   "execution_count": 48,
   "metadata": {},
   "outputs": [
    {
     "name": "stdout",
     "output_type": "stream",
     "text": [
      "p-значение:8.081909555489933e-161\n",
      "Не получилось отвергнуть нулевую гипотезу\n"
     ]
    }
   ],
   "source": [
    "import scipy.stats as st\n",
    "alpha = 0.05\n",
    "ultra = id_user.loc[id_user.loc[:,'tariff'] == 'ultra']['monthly revenue']\n",
    "smart = id_user.loc[id_user.loc[:,'tariff'] == 'smart']['monthly revenue']\n",
    "result = st.ttest_ind(ultra, smart) \n",
    "prob = result.pvalue\n",
    "print(\"p-значение:{}\".format(prob))\n",
    "if prob > alpha:\n",
    "    print(\"Отвергаем нулевую гипотезу\")\n",
    "else:\n",
    "    print(\"Не получилось отвергнуть нулевую гипотезу\")\n"
   ]
  },
  {
   "cell_type": "markdown",
   "metadata": {},
   "source": [
    "p-значение:8.081909555489933e-161 - крайне маленькое,\n",
    "что означает крайне малую вероятность совпадения средних значений."
   ]
  },
  {
   "cell_type": "markdown",
   "metadata": {},
   "source": [
    "Принимаем гипотезу - средняя выручка пользователей из Москвы равна выручке пользователей из других регионов\n",
    "Cредняя выручка пользователей тарифов «Ультра» и «Смарт» различается"
   ]
  },
  {
   "cell_type": "markdown",
   "metadata": {},
   "source": [
    "Сформируем нулевую и альтернативную гипотезы:\n",
    "H0 - средняя выручка пользователей из Москвы отличается от выручки пользователей из других регионов.\n",
    "H1 - средняя выручка пользователей из Москвы не отличается от выручки пользователей из других регионов."
   ]
  },
  {
   "cell_type": "code",
   "execution_count": 52,
   "metadata": {
    "scrolled": true
   },
   "outputs": [
    {
     "name": "stdout",
     "output_type": "stream",
     "text": [
      "p-значение:0.5216952110000279\n",
      "Отвергаем нулевую гипотезу\n"
     ]
    }
   ],
   "source": [
    "moscow = id_user.loc[id_user.loc[:,'city'] == 'Москва']['monthly revenue']\n",
    "other = id_user.loc[id_user.loc[:,'city'] != 'Москва']['monthly revenue']\n",
    "result_city = st.ttest_ind(moscow,other,equal_var=False) \n",
    "city = result_city.pvalue\n",
    "print(\"p-значение:{}\".format(city))\n",
    "alpha = 0.05\n",
    "if city > alpha:\n",
    "    print(\"Отвергаем нулевую гипотезу\")\n",
    "else:\n",
    "    print(\"Не получилось отвергнуть нулевую гипотезу\")"
   ]
  },
  {
   "cell_type": "markdown",
   "metadata": {},
   "source": [
    "p-значение - вероятность ошибочного предположения *\n",
    "p-значение:0.5216952110000279, что говорит нам о большой вероятности ошибки.*\n",
    "Тк p-value больше 5%*"
   ]
  },
  {
   "cell_type": "markdown",
   "metadata": {},
   "source": [
    "Принимаем гипотезу - средняя выручка пользователей из Москвы равна выручке пользователей из других регионов"
   ]
  },
  {
   "cell_type": "markdown",
   "metadata": {},
   "source": [
    "P-value - это вероятность получить наблюдаемый или еще более далекий от предполагаемого результат при условии, *\n",
    "    что нулевая гипотеза верна. *\n",
    "Если alpha=0.05 - допускается вероятность получить ошибочный результат сосавляет не больше 5%, а по расчетам 52%*\n",
    "вероятность ошибки при отклонении нулевой гипотезы (ошибки первого рода)"
   ]
  },
  {
   "cell_type": "markdown",
   "metadata": {},
   "source": [
    "## Общий  вывод"
   ]
  },
  {
   "cell_type": "markdown",
   "metadata": {},
   "source": [
    "Данные пришли к нам в хорошем состоянии\n",
    "Пользователи обоих тарифов укладываются в выделенные минуты разговора. С каждым смесяцем пользователи дольше говорят по телефону\n",
    "Смс не так популярна у пользователей, видимо, соцсети заменяют им эту потребность\n",
    "Пользователи много сидят в интернете, примерно расходуя 10-20 гб в месяц, поэтому и переплачивают на тарифе смарт\n",
    "Гипотеза о различии среднейвыручки тарифов подтвердилась\n",
    "Гипотеза об отличии средней выручки пользователей Москвы и регионов не подтвердилась\n",
    "Пользователи тарифа смарт почти в 2 раза больше расходуют трафик, выходя за его пределы и оплачивая сверх нормы. 1230,2 р. в среднем в месяц, при месячной стоимости тарифа - 550 р.. А пользователи Тарифа ультра, при месячной стоимости тарифа в 1950 р., в среднем платят 2059.8 р.\n",
    "Больше выручки, в среднем, приносят пользователи тарифа ультра: 2059.8 р. против 1230,2 р. за тариф ультра на одного пользователя.\n",
    "Рекламный бюджет стоит направить в сторону тарифа смарт, тк больший доход идет от оплаты сверх лимитов тарифа.\n",
    "На настоящий момент кодовая выручка тарифа смарт составляет 2743331 р, против тарифа ультра с выручкой 2030931 р. При этом, количество уникальных пользователей тарифа смарт - 351, ультра - 149.\n",
    "Соответственно, выручка на доного пользователя тарифа смарт -7815 р., ультра -13630 р.\n",
    "\n",
    "\n",
    "\n"
   ]
  },
  {
   "cell_type": "code",
   "execution_count": 58,
   "metadata": {},
   "outputs": [],
   "source": [
    "import seaborn as sns"
   ]
  },
  {
   "cell_type": "code",
   "execution_count": 59,
   "metadata": {},
   "outputs": [
    {
     "data": {
      "image/png": "[encoded data removed]",
      "text/plain": [
       "<Figure size 864x144 with 1 Axes>"
      ]
     },
     "metadata": {
      "needs_background": "light"
     },
     "output_type": "display_data"
    },
    {
     "data": {
      "image/png": "[encoded data removed]",
      "text/plain": [
       "<Figure size 864x144 with 1 Axes>"
      ]
     },
     "metadata": {
      "needs_background": "light"
     },
     "output_type": "display_data"
    },
    {
     "data": {
      "image/png": "[encoded data removed]",
      "text/plain": [
       "<Figure size 864x144 with 1 Axes>"
      ]
     },
     "metadata": {
      "needs_background": "light"
     },
     "output_type": "display_data"
    },
    {
     "data": {
      "image/png": "[encoded data removed]",
      "text/plain": [
       "<Figure size 864x144 with 1 Axes>"
      ]
     },
     "metadata": {
      "needs_background": "light"
     },
     "output_type": "display_data"
    },
    {
     "data": {
      "image/png": "[encoded data removed]",
      "text/plain": [
       "<Figure size 864x144 with 1 Axes>"
      ]
     },
     "metadata": {
      "needs_background": "light"
     },
     "output_type": "display_data"
    }
   ],
   "source": [
    "for column in ['calls_count', 'minutes', 'count_messages',\n",
    "       'count_gb', 'monthly revenue']:    \n",
    "    g = sns.catplot(y='tariff', x=column, kind=\"box\", data=id_user, orient='h', palette = 'pastel')\n",
    "    g.fig.set_figwidth(12)\n",
    "    g.fig.set_figheight(2)"
   ]
  }
 ],
 "metadata": {
  "ExecuteTimeLog": [
   {
    "duration": 20,
    "start_time": "2022-03-21T15:29:04.373Z"
   },
   {
    "duration": 517,
    "start_time": "2022-03-21T15:29:39.616Z"
   },
   {
    "duration": 645,
    "start_time": "2022-03-21T15:29:58.898Z"
   },
   {
    "duration": 202,
    "start_time": "2022-03-21T15:30:37.859Z"
   },
   {
    "duration": 568,
    "start_time": "2022-03-21T15:31:29.326Z"
   },
   {
    "duration": 4,
    "start_time": "2022-03-21T15:33:13.848Z"
   },
   {
    "duration": 110,
    "start_time": "2022-03-21T15:34:41.653Z"
   },
   {
    "duration": 12,
    "start_time": "2022-03-21T15:34:52.842Z"
   },
   {
    "duration": 567,
    "start_time": "2022-03-21T15:36:00.535Z"
   },
   {
    "duration": 11,
    "start_time": "2022-03-21T15:36:01.105Z"
   },
   {
    "duration": 4,
    "start_time": "2022-03-21T15:36:03.229Z"
   },
   {
    "duration": 4,
    "start_time": "2022-03-21T15:36:03.435Z"
   },
   {
    "duration": 687,
    "start_time": "2022-03-21T15:36:03.606Z"
   },
   {
    "duration": 14,
    "start_time": "2022-03-21T15:36:04.297Z"
   },
   {
    "duration": 222,
    "start_time": "2022-03-21T15:36:12.973Z"
   },
   {
    "duration": 215,
    "start_time": "2022-03-21T15:36:57.569Z"
   },
   {
    "duration": 240,
    "start_time": "2022-03-21T15:37:13.855Z"
   },
   {
    "duration": 221,
    "start_time": "2022-03-21T15:37:18.617Z"
   },
   {
    "duration": 192,
    "start_time": "2022-03-21T15:37:25.456Z"
   },
   {
    "duration": 273,
    "start_time": "2022-03-21T15:38:00.322Z"
   },
   {
    "duration": 204,
    "start_time": "2022-03-21T15:38:12.901Z"
   },
   {
    "duration": 219,
    "start_time": "2022-03-21T15:38:43.804Z"
   },
   {
    "duration": 215,
    "start_time": "2022-03-21T15:38:51.122Z"
   },
   {
    "duration": 226,
    "start_time": "2022-03-21T15:39:06.724Z"
   },
   {
    "duration": 289,
    "start_time": "2022-03-21T15:42:28.877Z"
   },
   {
    "duration": 339,
    "start_time": "2022-03-21T15:44:47.935Z"
   },
   {
    "duration": 5,
    "start_time": "2022-03-21T15:45:29.939Z"
   },
   {
    "duration": 432,
    "start_time": "2022-03-21T15:45:33.474Z"
   },
   {
    "duration": 293,
    "start_time": "2022-03-21T15:46:11.498Z"
   },
   {
    "duration": 302,
    "start_time": "2022-03-21T15:46:29.703Z"
   },
   {
    "duration": 316,
    "start_time": "2022-03-21T15:46:38.352Z"
   },
   {
    "duration": 319,
    "start_time": "2022-03-21T15:46:58.073Z"
   },
   {
    "duration": 307,
    "start_time": "2022-03-21T15:47:06.197Z"
   },
   {
    "duration": 363,
    "start_time": "2022-03-21T15:47:12.782Z"
   },
   {
    "duration": 6,
    "start_time": "2022-03-21T16:00:07.441Z"
   },
   {
    "duration": 3,
    "start_time": "2022-03-21T16:02:14.886Z"
   },
   {
    "duration": 4,
    "start_time": "2022-03-21T16:02:16.278Z"
   },
   {
    "duration": 3,
    "start_time": "2022-03-21T16:02:17.184Z"
   },
   {
    "duration": 4,
    "start_time": "2022-03-21T16:02:17.434Z"
   },
   {
    "duration": 23,
    "start_time": "2022-03-21T16:02:22.817Z"
   },
   {
    "duration": 6,
    "start_time": "2022-03-21T16:02:22.843Z"
   },
   {
    "duration": 489,
    "start_time": "2022-03-21T16:02:22.854Z"
   },
   {
    "duration": 357,
    "start_time": "2022-03-21T16:02:23.345Z"
   },
   {
    "duration": 550,
    "start_time": "2022-03-21T16:02:23.704Z"
   },
   {
    "duration": 341,
    "start_time": "2022-03-21T16:02:24.257Z"
   },
   {
    "duration": 5,
    "start_time": "2022-03-21T16:02:24.601Z"
   },
   {
    "duration": 4,
    "start_time": "2022-03-21T16:03:16.105Z"
   },
   {
    "duration": 54,
    "start_time": "2022-03-21T16:07:22.865Z"
   },
   {
    "duration": 7,
    "start_time": "2022-03-21T17:14:07.230Z"
   },
   {
    "duration": 7,
    "start_time": "2022-03-21T17:14:14.261Z"
   },
   {
    "duration": 7,
    "start_time": "2022-03-21T17:14:54.091Z"
   },
   {
    "duration": 6,
    "start_time": "2022-03-21T17:15:24.407Z"
   },
   {
    "duration": 6,
    "start_time": "2022-03-21T17:15:42.790Z"
   },
   {
    "duration": 5,
    "start_time": "2022-03-21T17:15:47.573Z"
   },
   {
    "duration": 5,
    "start_time": "2022-03-21T17:15:50.127Z"
   },
   {
    "duration": 7,
    "start_time": "2022-03-21T17:17:08.417Z"
   },
   {
    "duration": 353,
    "start_time": "2022-03-21T17:23:44.506Z"
   },
   {
    "duration": 311,
    "start_time": "2022-03-21T17:24:04.600Z"
   },
   {
    "duration": 172,
    "start_time": "2022-03-21T17:43:07.067Z"
   },
   {
    "duration": 6,
    "start_time": "2022-03-21T17:43:13.932Z"
   },
   {
    "duration": 6,
    "start_time": "2022-03-21T17:43:20.757Z"
   },
   {
    "duration": 19,
    "start_time": "2022-03-21T17:43:30.848Z"
   },
   {
    "duration": 123,
    "start_time": "2022-03-21T17:45:26.292Z"
   },
   {
    "duration": 8,
    "start_time": "2022-03-21T17:45:35.176Z"
   },
   {
    "duration": 20,
    "start_time": "2022-03-21T17:45:36.690Z"
   },
   {
    "duration": 5,
    "start_time": "2022-03-21T17:45:51.258Z"
   },
   {
    "duration": 20,
    "start_time": "2022-03-21T17:45:51.906Z"
   },
   {
    "duration": 8,
    "start_time": "2022-03-21T17:46:03.673Z"
   },
   {
    "duration": 8,
    "start_time": "2022-03-21T17:46:10.708Z"
   },
   {
    "duration": 7,
    "start_time": "2022-03-21T17:46:16.080Z"
   },
   {
    "duration": 23,
    "start_time": "2022-03-21T17:46:30.069Z"
   },
   {
    "duration": 9,
    "start_time": "2022-03-21T17:46:30.096Z"
   },
   {
    "duration": 532,
    "start_time": "2022-03-21T17:46:30.107Z"
   },
   {
    "duration": 463,
    "start_time": "2022-03-21T17:46:30.643Z"
   },
   {
    "duration": 555,
    "start_time": "2022-03-21T17:46:31.109Z"
   },
   {
    "duration": 318,
    "start_time": "2022-03-21T17:46:31.666Z"
   },
   {
    "duration": 6,
    "start_time": "2022-03-21T17:46:31.986Z"
   },
   {
    "duration": 4,
    "start_time": "2022-03-21T17:46:31.994Z"
   },
   {
    "duration": 44,
    "start_time": "2022-03-21T17:46:32.000Z"
   },
   {
    "duration": 51,
    "start_time": "2022-03-21T17:46:32.046Z"
   },
   {
    "duration": 57,
    "start_time": "2022-03-21T17:46:32.099Z"
   },
   {
    "duration": 30,
    "start_time": "2022-03-21T17:46:32.158Z"
   },
   {
    "duration": 8,
    "start_time": "2022-03-21T17:46:32.190Z"
   },
   {
    "duration": 60,
    "start_time": "2022-03-21T17:46:32.204Z"
   },
   {
    "duration": 25,
    "start_time": "2022-03-21T17:46:32.266Z"
   },
   {
    "duration": 21,
    "start_time": "2022-03-21T17:46:32.293Z"
   },
   {
    "duration": 5,
    "start_time": "2022-03-21T17:46:32.316Z"
   },
   {
    "duration": 6,
    "start_time": "2022-03-21T17:46:32.343Z"
   },
   {
    "duration": 20,
    "start_time": "2022-03-21T17:46:32.351Z"
   },
   {
    "duration": 7,
    "start_time": "2022-03-21T17:46:32.374Z"
   },
   {
    "duration": 8,
    "start_time": "2022-03-21T17:46:32.384Z"
   },
   {
    "duration": 51,
    "start_time": "2022-03-21T17:46:32.394Z"
   },
   {
    "duration": 8,
    "start_time": "2022-03-21T17:46:55.579Z"
   },
   {
    "duration": 7,
    "start_time": "2022-03-21T17:46:57.204Z"
   },
   {
    "duration": 196,
    "start_time": "2022-03-21T17:48:09.517Z"
   },
   {
    "duration": 183,
    "start_time": "2022-03-21T17:48:24.140Z"
   },
   {
    "duration": 7,
    "start_time": "2022-03-21T17:51:52.282Z"
   },
   {
    "duration": 21,
    "start_time": "2022-03-21T17:51:58.078Z"
   },
   {
    "duration": 4,
    "start_time": "2022-03-21T17:51:58.101Z"
   },
   {
    "duration": 555,
    "start_time": "2022-03-21T17:51:58.107Z"
   },
   {
    "duration": 384,
    "start_time": "2022-03-21T17:51:58.665Z"
   },
   {
    "duration": 575,
    "start_time": "2022-03-21T17:51:59.051Z"
   },
   {
    "duration": 345,
    "start_time": "2022-03-21T17:51:59.628Z"
   },
   {
    "duration": 7,
    "start_time": "2022-03-21T17:51:59.976Z"
   },
   {
    "duration": 7,
    "start_time": "2022-03-21T17:51:59.985Z"
   },
   {
    "duration": 49,
    "start_time": "2022-03-21T17:51:59.994Z"
   },
   {
    "duration": 55,
    "start_time": "2022-03-21T17:52:00.050Z"
   },
   {
    "duration": 59,
    "start_time": "2022-03-21T17:52:00.107Z"
   },
   {
    "duration": 34,
    "start_time": "2022-03-21T17:52:00.168Z"
   },
   {
    "duration": 9,
    "start_time": "2022-03-21T17:52:00.204Z"
   },
   {
    "duration": 60,
    "start_time": "2022-03-21T17:52:00.215Z"
   },
   {
    "duration": 28,
    "start_time": "2022-03-21T17:52:00.278Z"
   },
   {
    "duration": 43,
    "start_time": "2022-03-21T17:52:00.308Z"
   },
   {
    "duration": 5,
    "start_time": "2022-03-21T17:52:00.353Z"
   },
   {
    "duration": 14,
    "start_time": "2022-03-21T17:52:00.360Z"
   },
   {
    "duration": 43,
    "start_time": "2022-03-21T17:52:00.376Z"
   },
   {
    "duration": 7,
    "start_time": "2022-03-21T17:52:00.421Z"
   },
   {
    "duration": 130,
    "start_time": "2022-03-21T17:52:00.430Z"
   },
   {
    "duration": 0,
    "start_time": "2022-03-21T17:52:00.563Z"
   },
   {
    "duration": 13,
    "start_time": "2022-03-21T17:52:26.371Z"
   },
   {
    "duration": 4,
    "start_time": "2022-03-21T17:52:31.144Z"
   },
   {
    "duration": 4,
    "start_time": "2022-03-21T17:52:32.847Z"
   },
   {
    "duration": 9,
    "start_time": "2022-03-21T17:52:37.079Z"
   },
   {
    "duration": 7,
    "start_time": "2022-03-21T17:52:39.515Z"
   },
   {
    "duration": 7,
    "start_time": "2022-03-21T17:52:45.940Z"
   },
   {
    "duration": 6,
    "start_time": "2022-03-21T17:52:47.021Z"
   },
   {
    "duration": 20,
    "start_time": "2022-03-21T17:54:42.571Z"
   },
   {
    "duration": 45,
    "start_time": "2022-03-22T07:09:54.987Z"
   },
   {
    "duration": 11,
    "start_time": "2022-03-22T07:10:08.299Z"
   },
   {
    "duration": 3,
    "start_time": "2022-03-22T07:10:08.312Z"
   },
   {
    "duration": 811,
    "start_time": "2022-03-22T07:10:08.316Z"
   },
   {
    "duration": 383,
    "start_time": "2022-03-22T07:10:09.129Z"
   },
   {
    "duration": 118,
    "start_time": "2022-03-22T07:10:09.514Z"
   },
   {
    "duration": 4,
    "start_time": "2022-03-22T07:10:09.634Z"
   },
   {
    "duration": 4,
    "start_time": "2022-03-22T07:10:09.640Z"
   },
   {
    "duration": 4,
    "start_time": "2022-03-22T07:10:09.647Z"
   },
   {
    "duration": 69,
    "start_time": "2022-03-22T07:10:09.652Z"
   },
   {
    "duration": 23,
    "start_time": "2022-03-22T07:10:09.723Z"
   },
   {
    "duration": 20,
    "start_time": "2022-03-22T07:10:09.747Z"
   },
   {
    "duration": 5,
    "start_time": "2022-03-22T07:10:09.769Z"
   },
   {
    "duration": 40,
    "start_time": "2022-03-22T07:10:09.776Z"
   },
   {
    "duration": 17,
    "start_time": "2022-03-22T07:10:09.818Z"
   },
   {
    "duration": 14,
    "start_time": "2022-03-22T07:10:09.837Z"
   },
   {
    "duration": 4,
    "start_time": "2022-03-22T07:10:09.853Z"
   },
   {
    "duration": 8,
    "start_time": "2022-03-22T07:10:09.858Z"
   },
   {
    "duration": 39,
    "start_time": "2022-03-22T07:10:09.867Z"
   },
   {
    "duration": 3,
    "start_time": "2022-03-22T07:10:09.908Z"
   },
   {
    "duration": 5,
    "start_time": "2022-03-22T07:10:09.913Z"
   },
   {
    "duration": 64,
    "start_time": "2022-03-22T07:10:53.236Z"
   },
   {
    "duration": 4,
    "start_time": "2022-03-22T07:11:02.716Z"
   },
   {
    "duration": 3,
    "start_time": "2022-03-22T07:11:08.316Z"
   },
   {
    "duration": 7,
    "start_time": "2022-03-22T07:11:13.235Z"
   },
   {
    "duration": 17,
    "start_time": "2022-03-22T07:11:42.455Z"
   },
   {
    "duration": 9,
    "start_time": "2022-03-22T07:14:27.156Z"
   },
   {
    "duration": 7,
    "start_time": "2022-03-22T07:14:29.557Z"
   },
   {
    "duration": 185,
    "start_time": "2022-03-22T07:14:37.317Z"
   },
   {
    "duration": 5247,
    "start_time": "2022-03-22T07:14:39.695Z"
   },
   {
    "duration": 0,
    "start_time": "2022-03-22T07:14:44.944Z"
   },
   {
    "duration": 12,
    "start_time": "2022-03-22T07:14:49.276Z"
   },
   {
    "duration": 7,
    "start_time": "2022-03-22T07:14:58.328Z"
   },
   {
    "duration": 7,
    "start_time": "2022-03-22T07:15:10.275Z"
   },
   {
    "duration": 8,
    "start_time": "2022-03-22T07:15:33.835Z"
   },
   {
    "duration": 3,
    "start_time": "2022-03-22T07:20:08.496Z"
   },
   {
    "duration": 4,
    "start_time": "2022-03-22T07:20:10.098Z"
   },
   {
    "duration": 2,
    "start_time": "2022-03-22T07:20:10.216Z"
   },
   {
    "duration": 3,
    "start_time": "2022-03-22T07:20:16.356Z"
   },
   {
    "duration": 3,
    "start_time": "2022-03-22T07:20:16.536Z"
   },
   {
    "duration": 2,
    "start_time": "2022-03-22T07:20:16.696Z"
   },
   {
    "duration": 386,
    "start_time": "2022-03-22T07:20:16.781Z"
   },
   {
    "duration": 3,
    "start_time": "2022-03-22T07:20:17.168Z"
   },
   {
    "duration": 5,
    "start_time": "2022-03-22T07:20:17.172Z"
   },
   {
    "duration": 2,
    "start_time": "2022-03-22T07:20:17.217Z"
   },
   {
    "duration": 3,
    "start_time": "2022-03-22T07:20:17.379Z"
   },
   {
    "duration": 3,
    "start_time": "2022-03-22T07:20:17.519Z"
   },
   {
    "duration": 3,
    "start_time": "2022-03-22T07:20:17.696Z"
   },
   {
    "duration": 2,
    "start_time": "2022-03-22T07:20:17.773Z"
   },
   {
    "duration": 237,
    "start_time": "2022-03-22T07:21:36.759Z"
   },
   {
    "duration": 223,
    "start_time": "2022-03-22T07:22:41.507Z"
   },
   {
    "duration": 238,
    "start_time": "2022-03-22T07:23:13.996Z"
   },
   {
    "duration": 477,
    "start_time": "2022-03-22T07:23:19.588Z"
   },
   {
    "duration": 261,
    "start_time": "2022-03-22T07:23:32.238Z"
   },
   {
    "duration": 0,
    "start_time": "2022-03-22T07:23:32.500Z"
   },
   {
    "duration": 0,
    "start_time": "2022-03-22T07:23:32.502Z"
   },
   {
    "duration": 0,
    "start_time": "2022-03-22T07:23:32.503Z"
   },
   {
    "duration": 0,
    "start_time": "2022-03-22T07:23:32.504Z"
   },
   {
    "duration": 0,
    "start_time": "2022-03-22T07:23:32.505Z"
   },
   {
    "duration": 0,
    "start_time": "2022-03-22T07:23:32.507Z"
   },
   {
    "duration": 0,
    "start_time": "2022-03-22T07:23:32.508Z"
   },
   {
    "duration": 0,
    "start_time": "2022-03-22T07:23:32.509Z"
   },
   {
    "duration": 0,
    "start_time": "2022-03-22T07:23:32.510Z"
   },
   {
    "duration": 0,
    "start_time": "2022-03-22T07:23:32.511Z"
   },
   {
    "duration": 0,
    "start_time": "2022-03-22T07:23:32.512Z"
   },
   {
    "duration": 204,
    "start_time": "2022-03-22T07:24:27.879Z"
   },
   {
    "duration": 3,
    "start_time": "2022-03-22T07:26:20.433Z"
   },
   {
    "duration": 3,
    "start_time": "2022-03-22T07:26:24.192Z"
   },
   {
    "duration": 8,
    "start_time": "2022-03-22T07:38:27.533Z"
   },
   {
    "duration": 4,
    "start_time": "2022-03-22T07:38:27.839Z"
   },
   {
    "duration": 4,
    "start_time": "2022-03-22T07:38:29.030Z"
   },
   {
    "duration": 42,
    "start_time": "2022-03-22T07:57:41.413Z"
   },
   {
    "duration": 7,
    "start_time": "2022-03-22T07:57:47.052Z"
   },
   {
    "duration": 6,
    "start_time": "2022-03-22T07:57:47.332Z"
   },
   {
    "duration": 896,
    "start_time": "2022-03-22T07:57:51.574Z"
   },
   {
    "duration": 380,
    "start_time": "2022-03-22T07:57:52.472Z"
   },
   {
    "duration": 2,
    "start_time": "2022-03-22T07:57:52.854Z"
   },
   {
    "duration": 8,
    "start_time": "2022-03-22T08:01:05.401Z"
   },
   {
    "duration": 6,
    "start_time": "2022-03-22T08:01:14.400Z"
   },
   {
    "duration": 96,
    "start_time": "2022-03-22T08:01:23.112Z"
   },
   {
    "duration": 388,
    "start_time": "2022-03-22T08:02:53.553Z"
   },
   {
    "duration": 11,
    "start_time": "2022-03-22T08:02:56.227Z"
   },
   {
    "duration": 7,
    "start_time": "2022-03-22T08:02:56.241Z"
   },
   {
    "duration": 894,
    "start_time": "2022-03-22T08:22:59.161Z"
   },
   {
    "duration": 430,
    "start_time": "2022-03-22T08:23:00.057Z"
   },
   {
    "duration": 3,
    "start_time": "2022-03-22T08:23:00.489Z"
   },
   {
    "duration": 11,
    "start_time": "2022-03-22T08:23:00.494Z"
   },
   {
    "duration": 137,
    "start_time": "2022-03-22T08:23:00.507Z"
   },
   {
    "duration": 6,
    "start_time": "2022-03-22T08:39:18.504Z"
   },
   {
    "duration": 6,
    "start_time": "2022-03-22T08:39:37.084Z"
   },
   {
    "duration": 3034,
    "start_time": "2022-03-22T08:40:04.996Z"
   },
   {
    "duration": 67,
    "start_time": "2022-03-22T09:25:55.697Z"
   },
   {
    "duration": 4,
    "start_time": "2022-03-22T09:26:21.466Z"
   },
   {
    "duration": 14,
    "start_time": "2022-03-22T09:26:32.164Z"
   },
   {
    "duration": 8,
    "start_time": "2022-03-22T09:27:07.885Z"
   },
   {
    "duration": 781,
    "start_time": "2022-03-23T12:19:23.475Z"
   },
   {
    "duration": 388,
    "start_time": "2022-03-23T12:19:24.258Z"
   },
   {
    "duration": 3,
    "start_time": "2022-03-23T12:19:24.648Z"
   },
   {
    "duration": 17,
    "start_time": "2022-03-23T12:19:24.653Z"
   },
   {
    "duration": 114,
    "start_time": "2022-03-23T12:19:24.672Z"
   },
   {
    "duration": 12,
    "start_time": "2022-03-23T12:19:24.787Z"
   },
   {
    "duration": 7,
    "start_time": "2022-03-23T12:57:35.745Z"
   },
   {
    "duration": 5,
    "start_time": "2022-03-23T13:09:26.494Z"
   },
   {
    "duration": 73,
    "start_time": "2022-03-23T13:16:46.895Z"
   },
   {
    "duration": 3,
    "start_time": "2022-03-23T13:16:47.409Z"
   },
   {
    "duration": 73,
    "start_time": "2022-03-23T13:21:49.576Z"
   },
   {
    "duration": 8,
    "start_time": "2022-03-23T13:22:07.045Z"
   },
   {
    "duration": 84,
    "start_time": "2022-03-23T13:22:15.504Z"
   },
   {
    "duration": 6,
    "start_time": "2022-03-23T13:23:16.772Z"
   },
   {
    "duration": 6,
    "start_time": "2022-03-23T13:23:28.830Z"
   },
   {
    "duration": 5,
    "start_time": "2022-03-23T13:23:33.267Z"
   },
   {
    "duration": 6,
    "start_time": "2022-03-23T13:23:34.456Z"
   },
   {
    "duration": 6,
    "start_time": "2022-03-23T13:23:35.355Z"
   },
   {
    "duration": 7,
    "start_time": "2022-03-23T13:24:13.597Z"
   },
   {
    "duration": 7,
    "start_time": "2022-03-23T13:24:18.599Z"
   },
   {
    "duration": 5,
    "start_time": "2022-03-23T13:24:26.486Z"
   },
   {
    "duration": 5,
    "start_time": "2022-03-23T13:24:27.961Z"
   },
   {
    "duration": 8,
    "start_time": "2022-03-23T13:25:26.392Z"
   },
   {
    "duration": 7,
    "start_time": "2022-03-23T13:27:57.781Z"
   },
   {
    "duration": 216,
    "start_time": "2022-03-23T13:37:17.939Z"
   },
   {
    "duration": 14,
    "start_time": "2022-03-23T13:37:24.269Z"
   },
   {
    "duration": 238,
    "start_time": "2022-03-23T13:40:09.679Z"
   },
   {
    "duration": 15,
    "start_time": "2022-03-23T13:40:10.899Z"
   },
   {
    "duration": 193,
    "start_time": "2022-03-23T13:40:25.305Z"
   },
   {
    "duration": 15,
    "start_time": "2022-03-23T13:40:34.295Z"
   },
   {
    "duration": 2615,
    "start_time": "2022-03-23T13:42:32.739Z"
   },
   {
    "duration": 20,
    "start_time": "2022-03-23T13:42:35.356Z"
   },
   {
    "duration": 236,
    "start_time": "2022-03-23T13:43:03.252Z"
   },
   {
    "duration": 16,
    "start_time": "2022-03-23T13:43:04.679Z"
   },
   {
    "duration": 12,
    "start_time": "2022-03-23T13:43:34.085Z"
   },
   {
    "duration": 12,
    "start_time": "2022-03-23T13:43:45.204Z"
   },
   {
    "duration": 13,
    "start_time": "2022-03-23T13:43:52.808Z"
   },
   {
    "duration": 242,
    "start_time": "2022-03-23T13:44:45.175Z"
   },
   {
    "duration": 14,
    "start_time": "2022-03-23T13:44:45.480Z"
   },
   {
    "duration": 1031,
    "start_time": "2022-03-23T15:52:34.148Z"
   },
   {
    "duration": 15,
    "start_time": "2022-03-23T15:52:40.528Z"
   },
   {
    "duration": 238,
    "start_time": "2022-03-23T15:52:45.520Z"
   },
   {
    "duration": 16,
    "start_time": "2022-03-23T15:52:56.316Z"
   },
   {
    "duration": 263,
    "start_time": "2022-03-23T15:53:01.237Z"
   },
   {
    "duration": 15,
    "start_time": "2022-03-23T15:53:01.945Z"
   },
   {
    "duration": 252,
    "start_time": "2022-03-23T15:53:15.413Z"
   },
   {
    "duration": 15,
    "start_time": "2022-03-23T15:53:21.728Z"
   },
   {
    "duration": 1757,
    "start_time": "2022-03-23T15:53:31.737Z"
   },
   {
    "duration": 247,
    "start_time": "2022-03-23T15:53:33.496Z"
   },
   {
    "duration": 15,
    "start_time": "2022-03-23T15:53:34.238Z"
   },
   {
    "duration": 16,
    "start_time": "2022-03-23T15:53:35.150Z"
   },
   {
    "duration": 10874,
    "start_time": "2022-03-23T15:54:06.736Z"
   },
   {
    "duration": 18,
    "start_time": "2022-03-23T15:54:20.561Z"
   },
   {
    "duration": 280,
    "start_time": "2022-03-23T15:58:21.228Z"
   },
   {
    "duration": 22,
    "start_time": "2022-03-23T15:58:27.711Z"
   },
   {
    "duration": 23,
    "start_time": "2022-03-23T15:58:29.744Z"
   },
   {
    "duration": 399,
    "start_time": "2022-03-23T15:58:32.706Z"
   },
   {
    "duration": 2610,
    "start_time": "2022-03-23T15:58:33.108Z"
   },
   {
    "duration": 24,
    "start_time": "2022-03-23T15:58:35.721Z"
   },
   {
    "duration": 46,
    "start_time": "2022-03-23T15:58:35.747Z"
   },
   {
    "duration": 274,
    "start_time": "2022-03-23T15:58:46.867Z"
   },
   {
    "duration": 377,
    "start_time": "2022-03-23T15:58:50.873Z"
   },
   {
    "duration": 23,
    "start_time": "2022-03-23T15:58:55.367Z"
   },
   {
    "duration": 1995,
    "start_time": "2022-03-23T15:59:29.202Z"
   },
   {
    "duration": 23,
    "start_time": "2022-03-23T15:59:40.974Z"
   },
   {
    "duration": 29,
    "start_time": "2022-03-23T16:00:19.872Z"
   },
   {
    "duration": 15,
    "start_time": "2022-03-23T16:00:38.292Z"
   },
   {
    "duration": 22,
    "start_time": "2022-03-23T16:01:06.255Z"
   },
   {
    "duration": 26,
    "start_time": "2022-03-23T16:01:14.191Z"
   },
   {
    "duration": 24,
    "start_time": "2022-03-23T16:01:22.470Z"
   },
   {
    "duration": 258,
    "start_time": "2022-03-23T16:01:24.674Z"
   },
   {
    "duration": 30,
    "start_time": "2022-03-23T16:01:24.934Z"
   },
   {
    "duration": 16,
    "start_time": "2022-03-23T16:01:25.003Z"
   },
   {
    "duration": 710,
    "start_time": "2022-03-23T16:01:30.152Z"
   },
   {
    "duration": 423,
    "start_time": "2022-03-23T16:01:30.865Z"
   },
   {
    "duration": 3,
    "start_time": "2022-03-23T16:01:31.290Z"
   },
   {
    "duration": 21,
    "start_time": "2022-03-23T16:01:31.295Z"
   },
   {
    "duration": 88,
    "start_time": "2022-03-23T16:01:31.318Z"
   },
   {
    "duration": 0,
    "start_time": "2022-03-23T16:01:31.408Z"
   },
   {
    "duration": 0,
    "start_time": "2022-03-23T16:01:31.410Z"
   },
   {
    "duration": 0,
    "start_time": "2022-03-23T16:01:31.411Z"
   },
   {
    "duration": 1,
    "start_time": "2022-03-23T16:01:31.412Z"
   },
   {
    "duration": 0,
    "start_time": "2022-03-23T16:01:31.414Z"
   },
   {
    "duration": 0,
    "start_time": "2022-03-23T16:01:31.415Z"
   },
   {
    "duration": 0,
    "start_time": "2022-03-23T16:01:31.417Z"
   },
   {
    "duration": 0,
    "start_time": "2022-03-23T16:01:31.419Z"
   },
   {
    "duration": 0,
    "start_time": "2022-03-23T16:01:31.420Z"
   },
   {
    "duration": 0,
    "start_time": "2022-03-23T16:01:31.421Z"
   },
   {
    "duration": 6,
    "start_time": "2022-03-23T16:02:30.600Z"
   },
   {
    "duration": 126,
    "start_time": "2022-03-23T16:02:32.550Z"
   },
   {
    "duration": 5,
    "start_time": "2022-03-23T16:02:38.121Z"
   },
   {
    "duration": 2,
    "start_time": "2022-03-23T16:02:38.314Z"
   },
   {
    "duration": 82,
    "start_time": "2022-03-23T16:02:38.698Z"
   },
   {
    "duration": 4,
    "start_time": "2022-03-23T16:02:38.851Z"
   },
   {
    "duration": 85,
    "start_time": "2022-03-23T16:02:38.947Z"
   },
   {
    "duration": 9,
    "start_time": "2022-03-23T16:02:39.372Z"
   },
   {
    "duration": 9,
    "start_time": "2022-03-23T16:02:39.571Z"
   },
   {
    "duration": 291,
    "start_time": "2022-03-23T16:02:39.860Z"
   },
   {
    "duration": 39,
    "start_time": "2022-03-23T16:02:40.153Z"
   },
   {
    "duration": 15,
    "start_time": "2022-03-23T16:02:41.040Z"
   },
   {
    "duration": 9,
    "start_time": "2022-03-23T16:03:13.464Z"
   },
   {
    "duration": 16,
    "start_time": "2022-03-23T16:03:19.035Z"
   },
   {
    "duration": 204,
    "start_time": "2022-03-23T16:06:00.899Z"
   },
   {
    "duration": 16,
    "start_time": "2022-03-23T16:06:01.300Z"
   },
   {
    "duration": 15,
    "start_time": "2022-03-23T16:06:05.339Z"
   },
   {
    "duration": 15,
    "start_time": "2022-03-23T16:06:06.458Z"
   },
   {
    "duration": 265,
    "start_time": "2022-03-23T16:06:13.093Z"
   },
   {
    "duration": 15,
    "start_time": "2022-03-23T16:06:13.997Z"
   },
   {
    "duration": 192,
    "start_time": "2022-03-23T16:06:18.906Z"
   },
   {
    "duration": 14,
    "start_time": "2022-03-23T16:06:19.448Z"
   },
   {
    "duration": 27,
    "start_time": "2022-03-23T16:08:38.267Z"
   },
   {
    "duration": 324,
    "start_time": "2022-03-23T16:09:00.258Z"
   },
   {
    "duration": 11,
    "start_time": "2022-03-23T16:09:13.354Z"
   },
   {
    "duration": 11,
    "start_time": "2022-03-23T16:10:51.982Z"
   },
   {
    "duration": 16,
    "start_time": "2022-03-23T16:10:53.793Z"
   },
   {
    "duration": 448,
    "start_time": "2022-03-23T16:11:33.331Z"
   },
   {
    "duration": 43,
    "start_time": "2022-03-23T16:12:45.980Z"
   },
   {
    "duration": 11,
    "start_time": "2022-03-23T16:12:49.628Z"
   },
   {
    "duration": 10,
    "start_time": "2022-03-23T16:12:51.022Z"
   },
   {
    "duration": 10,
    "start_time": "2022-03-23T16:12:52.690Z"
   },
   {
    "duration": 8,
    "start_time": "2022-03-23T16:13:27.967Z"
   },
   {
    "duration": 47,
    "start_time": "2022-03-23T16:13:30.711Z"
   },
   {
    "duration": 10,
    "start_time": "2022-03-23T16:13:31.517Z"
   },
   {
    "duration": 10,
    "start_time": "2022-03-23T16:13:32.126Z"
   },
   {
    "duration": 11,
    "start_time": "2022-03-23T16:13:33.387Z"
   },
   {
    "duration": 6,
    "start_time": "2022-03-23T16:15:11.861Z"
   },
   {
    "duration": 40,
    "start_time": "2022-03-23T16:15:12.478Z"
   },
   {
    "duration": 10,
    "start_time": "2022-03-23T16:15:12.682Z"
   },
   {
    "duration": 11,
    "start_time": "2022-03-23T16:15:12.847Z"
   },
   {
    "duration": 10,
    "start_time": "2022-03-23T16:15:13.010Z"
   },
   {
    "duration": 10,
    "start_time": "2022-03-23T16:15:15.764Z"
   },
   {
    "duration": 6,
    "start_time": "2022-03-23T16:15:35.098Z"
   },
   {
    "duration": 43,
    "start_time": "2022-03-23T16:15:35.292Z"
   },
   {
    "duration": 10,
    "start_time": "2022-03-23T16:15:35.447Z"
   },
   {
    "duration": 10,
    "start_time": "2022-03-23T16:15:35.597Z"
   },
   {
    "duration": 11,
    "start_time": "2022-03-23T16:15:35.743Z"
   },
   {
    "duration": 5,
    "start_time": "2022-03-23T16:16:18.372Z"
   },
   {
    "duration": 628,
    "start_time": "2022-03-23T16:16:32.793Z"
   },
   {
    "duration": 402,
    "start_time": "2022-03-23T16:16:33.423Z"
   },
   {
    "duration": 4,
    "start_time": "2022-03-23T16:16:33.826Z"
   },
   {
    "duration": 31,
    "start_time": "2022-03-23T16:16:33.832Z"
   },
   {
    "duration": 116,
    "start_time": "2022-03-23T16:16:33.864Z"
   },
   {
    "duration": 5,
    "start_time": "2022-03-23T16:16:33.981Z"
   },
   {
    "duration": 20,
    "start_time": "2022-03-23T16:16:33.987Z"
   },
   {
    "duration": 85,
    "start_time": "2022-03-23T16:16:34.008Z"
   },
   {
    "duration": 4,
    "start_time": "2022-03-23T16:16:34.094Z"
   },
   {
    "duration": 108,
    "start_time": "2022-03-23T16:16:34.100Z"
   },
   {
    "duration": 7,
    "start_time": "2022-03-23T16:16:34.210Z"
   },
   {
    "duration": 61,
    "start_time": "2022-03-23T16:16:34.219Z"
   },
   {
    "duration": 10,
    "start_time": "2022-03-23T16:16:34.282Z"
   },
   {
    "duration": 32,
    "start_time": "2022-03-23T16:16:34.293Z"
   },
   {
    "duration": 37,
    "start_time": "2022-03-23T16:16:34.326Z"
   },
   {
    "duration": 17,
    "start_time": "2022-03-23T16:17:00.250Z"
   },
   {
    "duration": 52,
    "start_time": "2022-03-23T16:17:01.179Z"
   },
   {
    "duration": 10,
    "start_time": "2022-03-23T16:17:02.123Z"
   },
   {
    "duration": 9,
    "start_time": "2022-03-23T16:17:02.817Z"
   },
   {
    "duration": 9,
    "start_time": "2022-03-23T16:17:03.870Z"
   },
   {
    "duration": 9,
    "start_time": "2022-03-23T16:17:21.452Z"
   },
   {
    "duration": 51,
    "start_time": "2022-03-23T16:17:21.699Z"
   },
   {
    "duration": 11,
    "start_time": "2022-03-23T16:17:21.902Z"
   },
   {
    "duration": 9,
    "start_time": "2022-03-23T16:17:22.105Z"
   },
   {
    "duration": 9,
    "start_time": "2022-03-23T16:17:22.321Z"
   },
   {
    "duration": 10,
    "start_time": "2022-03-23T16:17:57.383Z"
   },
   {
    "duration": 53,
    "start_time": "2022-03-23T16:17:58.618Z"
   },
   {
    "duration": 10,
    "start_time": "2022-03-23T16:17:59.063Z"
   },
   {
    "duration": 11,
    "start_time": "2022-03-23T16:17:59.421Z"
   },
   {
    "duration": 12,
    "start_time": "2022-03-23T16:18:00.094Z"
   },
   {
    "duration": 8,
    "start_time": "2022-03-23T16:18:17.013Z"
   },
   {
    "duration": 48,
    "start_time": "2022-03-23T16:18:17.285Z"
   },
   {
    "duration": 10,
    "start_time": "2022-03-23T16:18:17.462Z"
   },
   {
    "duration": 9,
    "start_time": "2022-03-23T16:18:17.612Z"
   },
   {
    "duration": 10,
    "start_time": "2022-03-23T16:18:17.755Z"
   },
   {
    "duration": 671,
    "start_time": "2022-03-23T16:18:24.860Z"
   },
   {
    "duration": 391,
    "start_time": "2022-03-23T16:18:25.533Z"
   },
   {
    "duration": 4,
    "start_time": "2022-03-23T16:18:25.925Z"
   },
   {
    "duration": 20,
    "start_time": "2022-03-23T16:18:25.932Z"
   },
   {
    "duration": 127,
    "start_time": "2022-03-23T16:18:25.953Z"
   },
   {
    "duration": 6,
    "start_time": "2022-03-23T16:18:26.082Z"
   },
   {
    "duration": 8,
    "start_time": "2022-03-23T16:18:26.090Z"
   },
   {
    "duration": 96,
    "start_time": "2022-03-23T16:18:26.100Z"
   },
   {
    "duration": 5,
    "start_time": "2022-03-23T16:18:26.198Z"
   },
   {
    "duration": 93,
    "start_time": "2022-03-23T16:18:26.205Z"
   },
   {
    "duration": 7,
    "start_time": "2022-03-23T16:18:26.300Z"
   },
   {
    "duration": 62,
    "start_time": "2022-03-23T16:18:26.309Z"
   },
   {
    "duration": 10,
    "start_time": "2022-03-23T16:18:26.373Z"
   },
   {
    "duration": 24,
    "start_time": "2022-03-23T16:18:26.384Z"
   },
   {
    "duration": 24,
    "start_time": "2022-03-23T16:18:26.410Z"
   },
   {
    "duration": 12,
    "start_time": "2022-03-23T16:18:43.626Z"
   },
   {
    "duration": 50,
    "start_time": "2022-03-23T16:18:43.988Z"
   },
   {
    "duration": 11,
    "start_time": "2022-03-23T16:18:44.205Z"
   },
   {
    "duration": 10,
    "start_time": "2022-03-23T16:18:44.429Z"
   },
   {
    "duration": 12,
    "start_time": "2022-03-23T16:18:44.803Z"
   },
   {
    "duration": 10,
    "start_time": "2022-03-23T16:20:37.442Z"
   },
   {
    "duration": 50,
    "start_time": "2022-03-23T16:20:37.585Z"
   },
   {
    "duration": 11,
    "start_time": "2022-03-23T16:20:37.730Z"
   },
   {
    "duration": 10,
    "start_time": "2022-03-23T16:20:37.872Z"
   },
   {
    "duration": 13,
    "start_time": "2022-03-23T16:20:38.007Z"
   },
   {
    "duration": 639,
    "start_time": "2022-03-23T16:20:43.797Z"
   },
   {
    "duration": 396,
    "start_time": "2022-03-23T16:20:44.438Z"
   },
   {
    "duration": 3,
    "start_time": "2022-03-23T16:20:44.836Z"
   },
   {
    "duration": 20,
    "start_time": "2022-03-23T16:20:44.841Z"
   },
   {
    "duration": 123,
    "start_time": "2022-03-23T16:20:44.862Z"
   },
   {
    "duration": 5,
    "start_time": "2022-03-23T16:20:44.987Z"
   },
   {
    "duration": 21,
    "start_time": "2022-03-23T16:20:44.993Z"
   },
   {
    "duration": 99,
    "start_time": "2022-03-23T16:20:45.015Z"
   },
   {
    "duration": 5,
    "start_time": "2022-03-23T16:20:45.116Z"
   },
   {
    "duration": 108,
    "start_time": "2022-03-23T16:20:45.124Z"
   },
   {
    "duration": 14,
    "start_time": "2022-03-23T16:20:45.234Z"
   },
   {
    "duration": 64,
    "start_time": "2022-03-23T16:20:45.249Z"
   },
   {
    "duration": 12,
    "start_time": "2022-03-23T16:20:45.315Z"
   },
   {
    "duration": 17,
    "start_time": "2022-03-23T16:20:45.330Z"
   },
   {
    "duration": 27,
    "start_time": "2022-03-23T16:20:45.348Z"
   },
   {
    "duration": 3,
    "start_time": "2022-03-23T16:21:05.121Z"
   },
   {
    "duration": 4,
    "start_time": "2022-03-23T16:23:34.237Z"
   },
   {
    "duration": 8,
    "start_time": "2022-03-23T16:25:34.951Z"
   },
   {
    "duration": 11,
    "start_time": "2022-03-23T16:25:41.218Z"
   },
   {
    "duration": 86,
    "start_time": "2022-03-23T16:26:05.456Z"
   },
   {
    "duration": 9,
    "start_time": "2022-03-23T16:26:15.035Z"
   },
   {
    "duration": 17,
    "start_time": "2022-03-23T16:27:15.468Z"
   },
   {
    "duration": 13,
    "start_time": "2022-03-23T16:27:15.785Z"
   },
   {
    "duration": 8,
    "start_time": "2022-03-23T16:28:43.707Z"
   },
   {
    "duration": 7,
    "start_time": "2022-03-23T16:28:46.460Z"
   },
   {
    "duration": 12,
    "start_time": "2022-03-23T16:28:50.921Z"
   },
   {
    "duration": 52,
    "start_time": "2022-03-23T16:31:10.140Z"
   },
   {
    "duration": 10,
    "start_time": "2022-03-23T16:31:10.536Z"
   },
   {
    "duration": 49,
    "start_time": "2022-03-23T16:31:37.290Z"
   },
   {
    "duration": 10,
    "start_time": "2022-03-23T16:31:37.709Z"
   },
   {
    "duration": 9,
    "start_time": "2022-03-23T16:31:38.653Z"
   },
   {
    "duration": 48,
    "start_time": "2022-03-23T16:31:51.462Z"
   },
   {
    "duration": 10,
    "start_time": "2022-03-23T16:31:52.183Z"
   },
   {
    "duration": 8,
    "start_time": "2022-03-23T16:31:53.685Z"
   },
   {
    "duration": 10,
    "start_time": "2022-03-23T16:31:55.238Z"
   },
   {
    "duration": 12,
    "start_time": "2022-03-23T16:31:56.406Z"
   },
   {
    "duration": 12,
    "start_time": "2022-03-23T16:31:57.007Z"
   },
   {
    "duration": 9,
    "start_time": "2022-03-23T16:32:26.931Z"
   },
   {
    "duration": 2,
    "start_time": "2022-03-23T17:43:59.981Z"
   },
   {
    "duration": 16,
    "start_time": "2022-03-23T17:46:11.237Z"
   },
   {
    "duration": 15,
    "start_time": "2022-03-23T17:46:27.277Z"
   },
   {
    "duration": 13,
    "start_time": "2022-03-23T17:46:28.899Z"
   },
   {
    "duration": 5,
    "start_time": "2022-03-23T17:47:28.938Z"
   },
   {
    "duration": 5,
    "start_time": "2022-03-23T17:47:32.490Z"
   },
   {
    "duration": 5,
    "start_time": "2022-03-23T17:47:50.817Z"
   },
   {
    "duration": 5,
    "start_time": "2022-03-23T17:48:07.378Z"
   },
   {
    "duration": 5,
    "start_time": "2022-03-23T17:48:14.399Z"
   },
   {
    "duration": 5,
    "start_time": "2022-03-23T17:48:22.034Z"
   },
   {
    "duration": 19,
    "start_time": "2022-03-23T17:49:07.378Z"
   },
   {
    "duration": 5,
    "start_time": "2022-03-23T17:49:07.744Z"
   },
   {
    "duration": 16,
    "start_time": "2022-03-23T17:49:11.065Z"
   },
   {
    "duration": 7,
    "start_time": "2022-03-23T17:49:55.745Z"
   },
   {
    "duration": 11,
    "start_time": "2022-03-23T17:50:35.784Z"
   },
   {
    "duration": 4,
    "start_time": "2022-03-23T17:52:43.156Z"
   },
   {
    "duration": 8,
    "start_time": "2022-03-23T17:54:04.669Z"
   },
   {
    "duration": 12,
    "start_time": "2022-03-23T17:59:12.348Z"
   },
   {
    "duration": 53,
    "start_time": "2022-03-23T17:59:13.034Z"
   },
   {
    "duration": 11,
    "start_time": "2022-03-23T17:59:14.193Z"
   },
   {
    "duration": 9,
    "start_time": "2022-03-23T17:59:18.612Z"
   },
   {
    "duration": 6,
    "start_time": "2022-03-23T17:59:20.755Z"
   },
   {
    "duration": 20,
    "start_time": "2022-03-23T17:59:33.043Z"
   },
   {
    "duration": 15,
    "start_time": "2022-03-23T17:59:34.227Z"
   },
   {
    "duration": 675,
    "start_time": "2022-03-23T17:59:40.235Z"
   },
   {
    "duration": 393,
    "start_time": "2022-03-23T17:59:40.912Z"
   },
   {
    "duration": 3,
    "start_time": "2022-03-23T17:59:41.307Z"
   },
   {
    "duration": 7,
    "start_time": "2022-03-23T17:59:41.312Z"
   },
   {
    "duration": 101,
    "start_time": "2022-03-23T17:59:41.321Z"
   },
   {
    "duration": 5,
    "start_time": "2022-03-23T17:59:41.423Z"
   },
   {
    "duration": 6,
    "start_time": "2022-03-23T17:59:41.429Z"
   },
   {
    "duration": 94,
    "start_time": "2022-03-23T17:59:41.437Z"
   },
   {
    "duration": 4,
    "start_time": "2022-03-23T17:59:41.533Z"
   },
   {
    "duration": 94,
    "start_time": "2022-03-23T17:59:41.539Z"
   },
   {
    "duration": 13,
    "start_time": "2022-03-23T17:59:41.635Z"
   },
   {
    "duration": 58,
    "start_time": "2022-03-23T17:59:41.649Z"
   },
   {
    "duration": 11,
    "start_time": "2022-03-23T17:59:41.708Z"
   },
   {
    "duration": 12,
    "start_time": "2022-03-23T17:59:41.721Z"
   },
   {
    "duration": 41,
    "start_time": "2022-03-23T17:59:41.735Z"
   },
   {
    "duration": 15,
    "start_time": "2022-03-23T17:59:41.778Z"
   },
   {
    "duration": 2,
    "start_time": "2022-03-23T17:59:41.795Z"
   },
   {
    "duration": 8,
    "start_time": "2022-03-23T17:59:41.799Z"
   },
   {
    "duration": 10,
    "start_time": "2022-03-23T17:59:41.808Z"
   },
   {
    "duration": 6,
    "start_time": "2022-03-23T17:59:41.820Z"
   },
   {
    "duration": 3,
    "start_time": "2022-03-23T17:59:41.863Z"
   },
   {
    "duration": 97,
    "start_time": "2022-03-23T17:59:41.868Z"
   },
   {
    "duration": 5,
    "start_time": "2022-03-23T17:59:59.372Z"
   },
   {
    "duration": 9,
    "start_time": "2022-03-23T18:00:50.577Z"
   },
   {
    "duration": 72,
    "start_time": "2022-03-23T18:00:51.011Z"
   },
   {
    "duration": 15,
    "start_time": "2022-03-23T18:00:51.214Z"
   },
   {
    "duration": 11,
    "start_time": "2022-03-23T18:00:51.402Z"
   },
   {
    "duration": 22,
    "start_time": "2022-03-23T18:00:52.044Z"
   },
   {
    "duration": 18,
    "start_time": "2022-03-23T18:00:52.874Z"
   },
   {
    "duration": 885,
    "start_time": "2022-03-23T18:00:58.402Z"
   },
   {
    "duration": 424,
    "start_time": "2022-03-23T18:00:59.289Z"
   },
   {
    "duration": 3,
    "start_time": "2022-03-23T18:00:59.715Z"
   },
   {
    "duration": 8,
    "start_time": "2022-03-23T18:00:59.720Z"
   },
   {
    "duration": 108,
    "start_time": "2022-03-23T18:00:59.730Z"
   },
   {
    "duration": 5,
    "start_time": "2022-03-23T18:00:59.839Z"
   },
   {
    "duration": 4,
    "start_time": "2022-03-23T18:00:59.846Z"
   },
   {
    "duration": 88,
    "start_time": "2022-03-23T18:00:59.863Z"
   },
   {
    "duration": 3,
    "start_time": "2022-03-23T18:00:59.963Z"
   },
   {
    "duration": 101,
    "start_time": "2022-03-23T18:00:59.969Z"
   },
   {
    "duration": 12,
    "start_time": "2022-03-23T18:01:00.072Z"
   },
   {
    "duration": 53,
    "start_time": "2022-03-23T18:01:00.086Z"
   },
   {
    "duration": 29,
    "start_time": "2022-03-23T18:01:00.141Z"
   },
   {
    "duration": 12,
    "start_time": "2022-03-23T18:01:00.171Z"
   },
   {
    "duration": 43,
    "start_time": "2022-03-23T18:01:00.185Z"
   },
   {
    "duration": 48,
    "start_time": "2022-03-23T18:01:00.231Z"
   },
   {
    "duration": 11,
    "start_time": "2022-03-23T18:01:00.281Z"
   },
   {
    "duration": 13,
    "start_time": "2022-03-23T18:01:00.294Z"
   },
   {
    "duration": 22,
    "start_time": "2022-03-23T18:01:00.309Z"
   },
   {
    "duration": 9,
    "start_time": "2022-03-23T18:01:00.332Z"
   },
   {
    "duration": 28,
    "start_time": "2022-03-23T18:01:00.342Z"
   },
   {
    "duration": 170,
    "start_time": "2022-03-23T18:01:00.373Z"
   },
   {
    "duration": 11,
    "start_time": "2022-03-23T18:01:21.982Z"
   },
   {
    "duration": 79,
    "start_time": "2022-03-23T18:01:49.116Z"
   },
   {
    "duration": 17,
    "start_time": "2022-03-23T18:04:01.830Z"
   },
   {
    "duration": 17,
    "start_time": "2022-03-23T18:04:23.438Z"
   },
   {
    "duration": 6,
    "start_time": "2022-03-23T18:04:25.334Z"
   },
   {
    "duration": 15,
    "start_time": "2022-03-23T18:04:25.835Z"
   },
   {
    "duration": 7,
    "start_time": "2022-03-23T18:04:41.365Z"
   },
   {
    "duration": 7,
    "start_time": "2022-03-23T18:04:46.811Z"
   },
   {
    "duration": 8,
    "start_time": "2022-03-23T18:05:38.860Z"
   },
   {
    "duration": 8,
    "start_time": "2022-03-23T18:05:39.881Z"
   },
   {
    "duration": 6,
    "start_time": "2022-03-23T18:05:45.494Z"
   },
   {
    "duration": 5,
    "start_time": "2022-03-23T18:06:42.466Z"
   },
   {
    "duration": 6,
    "start_time": "2022-03-23T18:06:44.131Z"
   },
   {
    "duration": 11,
    "start_time": "2022-03-23T18:09:19.416Z"
   },
   {
    "duration": 7,
    "start_time": "2022-03-23T18:09:19.668Z"
   },
   {
    "duration": 3,
    "start_time": "2022-03-23T18:09:39.458Z"
   },
   {
    "duration": 7,
    "start_time": "2022-03-23T18:09:41.392Z"
   },
   {
    "duration": 18,
    "start_time": "2022-03-23T18:10:57.745Z"
   },
   {
    "duration": 13,
    "start_time": "2022-03-23T19:13:02.530Z"
   },
   {
    "duration": 68,
    "start_time": "2022-03-23T19:13:07.869Z"
   },
   {
    "duration": 19,
    "start_time": "2022-03-23T19:13:10.318Z"
   },
   {
    "duration": 2,
    "start_time": "2022-03-23T19:14:53.293Z"
   },
   {
    "duration": 25,
    "start_time": "2022-03-23T19:20:47.487Z"
   },
   {
    "duration": 16,
    "start_time": "2022-03-23T19:21:02.460Z"
   },
   {
    "duration": 25,
    "start_time": "2022-03-23T19:24:36.259Z"
   },
   {
    "duration": 669,
    "start_time": "2022-03-23T19:24:56.173Z"
   },
   {
    "duration": 394,
    "start_time": "2022-03-23T19:24:56.845Z"
   },
   {
    "duration": 4,
    "start_time": "2022-03-23T19:24:57.240Z"
   },
   {
    "duration": 19,
    "start_time": "2022-03-23T19:24:57.246Z"
   },
   {
    "duration": 127,
    "start_time": "2022-03-23T19:24:57.266Z"
   },
   {
    "duration": 5,
    "start_time": "2022-03-23T19:24:57.395Z"
   },
   {
    "duration": 40,
    "start_time": "2022-03-23T19:24:57.402Z"
   },
   {
    "duration": 113,
    "start_time": "2022-03-23T19:24:57.443Z"
   },
   {
    "duration": 4,
    "start_time": "2022-03-23T19:24:57.558Z"
   },
   {
    "duration": 89,
    "start_time": "2022-03-23T19:24:57.564Z"
   },
   {
    "duration": 16,
    "start_time": "2022-03-23T19:24:57.655Z"
   },
   {
    "duration": 54,
    "start_time": "2022-03-23T19:24:57.672Z"
   },
   {
    "duration": 10,
    "start_time": "2022-03-23T19:24:57.728Z"
   },
   {
    "duration": 43,
    "start_time": "2022-03-23T19:24:57.739Z"
   },
   {
    "duration": 34,
    "start_time": "2022-03-23T19:24:57.784Z"
   },
   {
    "duration": 14,
    "start_time": "2022-03-23T19:24:57.819Z"
   },
   {
    "duration": 5,
    "start_time": "2022-03-23T19:24:57.835Z"
   },
   {
    "duration": 8,
    "start_time": "2022-03-23T19:24:57.841Z"
   },
   {
    "duration": 8,
    "start_time": "2022-03-23T19:24:57.851Z"
   },
   {
    "duration": 6,
    "start_time": "2022-03-23T19:24:57.860Z"
   },
   {
    "duration": 5,
    "start_time": "2022-03-23T19:24:57.868Z"
   },
   {
    "duration": 7,
    "start_time": "2022-03-23T19:24:57.875Z"
   },
   {
    "duration": 82,
    "start_time": "2022-03-23T19:24:57.883Z"
   },
   {
    "duration": 22,
    "start_time": "2022-03-23T19:24:57.967Z"
   },
   {
    "duration": 8,
    "start_time": "2022-03-23T19:24:57.990Z"
   },
   {
    "duration": 27,
    "start_time": "2022-03-23T19:24:57.999Z"
   },
   {
    "duration": 112,
    "start_time": "2022-03-23T19:27:20.053Z"
   },
   {
    "duration": 4,
    "start_time": "2022-03-23T19:27:25.673Z"
   },
   {
    "duration": 9,
    "start_time": "2022-03-23T19:27:34.376Z"
   },
   {
    "duration": 25,
    "start_time": "2022-03-23T19:27:37.802Z"
   },
   {
    "duration": 5,
    "start_time": "2022-03-23T19:29:22.615Z"
   },
   {
    "duration": 4,
    "start_time": "2022-03-23T19:30:23.180Z"
   },
   {
    "duration": 4,
    "start_time": "2022-03-23T19:30:27.836Z"
   },
   {
    "duration": 2,
    "start_time": "2022-03-23T19:30:30.302Z"
   },
   {
    "duration": 3,
    "start_time": "2022-03-23T19:30:30.629Z"
   },
   {
    "duration": 3,
    "start_time": "2022-03-23T19:31:54.857Z"
   },
   {
    "duration": 8,
    "start_time": "2022-03-23T19:32:06.729Z"
   },
   {
    "duration": 11,
    "start_time": "2022-03-23T19:32:08.444Z"
   },
   {
    "duration": 1885,
    "start_time": "2022-03-23T19:35:59.530Z"
   },
   {
    "duration": 1723,
    "start_time": "2022-03-23T19:36:04.988Z"
   },
   {
    "duration": 1763,
    "start_time": "2022-03-23T19:36:34.655Z"
   },
   {
    "duration": 1651,
    "start_time": "2022-03-23T19:38:17.124Z"
   },
   {
    "duration": 22,
    "start_time": "2022-03-23T19:38:26.719Z"
   },
   {
    "duration": 99,
    "start_time": "2022-03-23T19:41:18.200Z"
   },
   {
    "duration": 6,
    "start_time": "2022-03-23T19:41:28.170Z"
   },
   {
    "duration": 18,
    "start_time": "2022-03-23T19:41:39.259Z"
   },
   {
    "duration": 8,
    "start_time": "2022-03-23T19:41:53.640Z"
   },
   {
    "duration": 491,
    "start_time": "2022-03-23T19:48:09.919Z"
   },
   {
    "duration": 398,
    "start_time": "2022-03-23T19:48:38.508Z"
   },
   {
    "duration": 147,
    "start_time": "2022-03-23T19:49:27.555Z"
   },
   {
    "duration": 16,
    "start_time": "2022-03-23T19:51:27.896Z"
   },
   {
    "duration": 118,
    "start_time": "2022-03-23T19:51:37.332Z"
   },
   {
    "duration": 101,
    "start_time": "2022-03-23T19:52:02.269Z"
   },
   {
    "duration": 1785,
    "start_time": "2022-03-23T19:52:47.815Z"
   },
   {
    "duration": 1750,
    "start_time": "2022-03-23T19:53:04.180Z"
   },
   {
    "duration": 660,
    "start_time": "2022-03-23T19:53:17.165Z"
   },
   {
    "duration": 417,
    "start_time": "2022-03-23T19:53:17.827Z"
   },
   {
    "duration": 3,
    "start_time": "2022-03-23T19:53:18.246Z"
   },
   {
    "duration": 10,
    "start_time": "2022-03-23T19:53:18.252Z"
   },
   {
    "duration": 109,
    "start_time": "2022-03-23T19:53:18.264Z"
   },
   {
    "duration": 5,
    "start_time": "2022-03-23T19:53:18.375Z"
   },
   {
    "duration": 5,
    "start_time": "2022-03-23T19:53:18.381Z"
   },
   {
    "duration": 91,
    "start_time": "2022-03-23T19:53:18.387Z"
   },
   {
    "duration": 4,
    "start_time": "2022-03-23T19:53:18.479Z"
   },
   {
    "duration": 93,
    "start_time": "2022-03-23T19:53:18.486Z"
   },
   {
    "duration": 13,
    "start_time": "2022-03-23T19:53:18.580Z"
   },
   {
    "duration": 51,
    "start_time": "2022-03-23T19:53:18.594Z"
   },
   {
    "duration": 26,
    "start_time": "2022-03-23T19:53:18.647Z"
   },
   {
    "duration": 14,
    "start_time": "2022-03-23T19:53:18.675Z"
   },
   {
    "duration": 32,
    "start_time": "2022-03-23T19:53:18.691Z"
   },
   {
    "duration": 21,
    "start_time": "2022-03-23T19:53:18.725Z"
   },
   {
    "duration": 3,
    "start_time": "2022-03-23T19:53:18.763Z"
   },
   {
    "duration": 18,
    "start_time": "2022-03-23T19:53:18.768Z"
   },
   {
    "duration": 14,
    "start_time": "2022-03-23T19:53:18.788Z"
   },
   {
    "duration": 7,
    "start_time": "2022-03-23T19:53:18.804Z"
   },
   {
    "duration": 4,
    "start_time": "2022-03-23T19:53:18.813Z"
   },
   {
    "duration": 7,
    "start_time": "2022-03-23T19:53:18.819Z"
   },
   {
    "duration": 125,
    "start_time": "2022-03-23T19:53:18.828Z"
   },
   {
    "duration": 20,
    "start_time": "2022-03-23T19:53:18.955Z"
   },
   {
    "duration": 3,
    "start_time": "2022-03-23T19:53:18.976Z"
   },
   {
    "duration": 30,
    "start_time": "2022-03-23T19:53:18.980Z"
   },
   {
    "duration": 22,
    "start_time": "2022-03-23T19:53:19.012Z"
   },
   {
    "duration": 1992,
    "start_time": "2022-03-23T19:53:19.037Z"
   },
   {
    "duration": 0,
    "start_time": "2022-03-23T19:53:21.031Z"
   },
   {
    "duration": 1782,
    "start_time": "2022-03-23T19:54:15.875Z"
   },
   {
    "duration": 1794,
    "start_time": "2022-03-23T19:55:01.856Z"
   },
   {
    "duration": 10,
    "start_time": "2022-03-23T19:55:11.003Z"
   },
   {
    "duration": 105,
    "start_time": "2022-03-23T19:56:56.904Z"
   },
   {
    "duration": 104,
    "start_time": "2022-03-23T19:57:03.113Z"
   },
   {
    "duration": 1740,
    "start_time": "2022-03-23T19:57:29.330Z"
   },
   {
    "duration": 1753,
    "start_time": "2022-03-23T19:57:55.498Z"
   },
   {
    "duration": 2095,
    "start_time": "2022-03-23T19:59:43.559Z"
   },
   {
    "duration": 15,
    "start_time": "2022-03-23T20:00:00.094Z"
   },
   {
    "duration": 7,
    "start_time": "2022-03-23T20:00:43.919Z"
   },
   {
    "duration": 1795,
    "start_time": "2022-03-23T20:02:06.663Z"
   },
   {
    "duration": 1832,
    "start_time": "2022-03-23T20:02:26.144Z"
   },
   {
    "duration": 1778,
    "start_time": "2022-03-23T20:02:57.940Z"
   },
   {
    "duration": 102,
    "start_time": "2022-03-23T20:03:32.416Z"
   },
   {
    "duration": 4,
    "start_time": "2022-03-23T20:03:39.290Z"
   },
   {
    "duration": 5,
    "start_time": "2022-03-23T20:03:41.121Z"
   },
   {
    "duration": 1956,
    "start_time": "2022-03-23T20:03:44.773Z"
   },
   {
    "duration": 24,
    "start_time": "2022-03-23T20:04:45.058Z"
   },
   {
    "duration": 70,
    "start_time": "2022-03-23T20:05:12.103Z"
   },
   {
    "duration": 1697,
    "start_time": "2022-03-23T20:05:31.777Z"
   },
   {
    "duration": 862,
    "start_time": "2022-03-23T20:05:54.594Z"
   },
   {
    "duration": 584,
    "start_time": "2022-03-23T20:05:55.459Z"
   },
   {
    "duration": 4,
    "start_time": "2022-03-23T20:05:56.045Z"
   },
   {
    "duration": 8,
    "start_time": "2022-03-23T20:05:56.052Z"
   },
   {
    "duration": 180,
    "start_time": "2022-03-23T20:05:56.062Z"
   },
   {
    "duration": 6,
    "start_time": "2022-03-23T20:05:56.244Z"
   },
   {
    "duration": 13,
    "start_time": "2022-03-23T20:05:56.251Z"
   },
   {
    "duration": 141,
    "start_time": "2022-03-23T20:05:56.266Z"
   },
   {
    "duration": 6,
    "start_time": "2022-03-23T20:05:56.410Z"
   },
   {
    "duration": 134,
    "start_time": "2022-03-23T20:05:56.420Z"
   },
   {
    "duration": 19,
    "start_time": "2022-03-23T20:05:56.556Z"
   },
   {
    "duration": 86,
    "start_time": "2022-03-23T20:05:56.577Z"
   },
   {
    "duration": 14,
    "start_time": "2022-03-23T20:05:56.665Z"
   },
   {
    "duration": 36,
    "start_time": "2022-03-23T20:05:56.681Z"
   },
   {
    "duration": 36,
    "start_time": "2022-03-23T20:05:56.719Z"
   },
   {
    "duration": 29,
    "start_time": "2022-03-23T20:05:56.757Z"
   },
   {
    "duration": 24,
    "start_time": "2022-03-23T20:05:56.788Z"
   },
   {
    "duration": 29,
    "start_time": "2022-03-23T20:05:56.814Z"
   },
   {
    "duration": 35,
    "start_time": "2022-03-23T20:05:56.845Z"
   },
   {
    "duration": 26,
    "start_time": "2022-03-23T20:05:56.882Z"
   },
   {
    "duration": 47,
    "start_time": "2022-03-23T20:05:56.910Z"
   },
   {
    "duration": 13,
    "start_time": "2022-03-23T20:05:56.959Z"
   },
   {
    "duration": 82,
    "start_time": "2022-03-23T20:05:56.973Z"
   },
   {
    "duration": 19,
    "start_time": "2022-03-23T20:05:57.057Z"
   },
   {
    "duration": 11,
    "start_time": "2022-03-23T20:05:57.078Z"
   },
   {
    "duration": 54,
    "start_time": "2022-03-23T20:05:57.090Z"
   },
   {
    "duration": 35,
    "start_time": "2022-03-23T20:05:57.146Z"
   },
   {
    "duration": 1830,
    "start_time": "2022-03-23T20:05:57.185Z"
   },
   {
    "duration": 1,
    "start_time": "2022-03-23T20:05:59.017Z"
   },
   {
    "duration": 14,
    "start_time": "2022-03-23T20:07:42.248Z"
   },
   {
    "duration": 29,
    "start_time": "2022-03-23T20:07:54.853Z"
   },
   {
    "duration": 2025,
    "start_time": "2022-03-23T20:07:56.023Z"
   },
   {
    "duration": 13,
    "start_time": "2022-03-23T20:11:33.217Z"
   },
   {
    "duration": 32,
    "start_time": "2022-03-23T20:11:42.836Z"
   },
   {
    "duration": 12,
    "start_time": "2022-03-23T20:11:45.565Z"
   },
   {
    "duration": 23,
    "start_time": "2022-03-23T20:11:50.293Z"
   },
   {
    "duration": 11,
    "start_time": "2022-03-23T20:17:35.188Z"
   },
   {
    "duration": 23,
    "start_time": "2022-03-23T20:17:45.048Z"
   },
   {
    "duration": 526,
    "start_time": "2022-03-23T20:17:52.335Z"
   },
   {
    "duration": 488,
    "start_time": "2022-03-23T20:18:02.661Z"
   },
   {
    "duration": 411,
    "start_time": "2022-03-23T20:19:12.424Z"
   },
   {
    "duration": 407,
    "start_time": "2022-03-23T20:19:17.493Z"
   },
   {
    "duration": 493,
    "start_time": "2022-03-23T20:19:33.081Z"
   },
   {
    "duration": 134,
    "start_time": "2022-03-23T20:19:41.845Z"
   },
   {
    "duration": 411,
    "start_time": "2022-03-23T20:19:44.440Z"
   },
   {
    "duration": 133,
    "start_time": "2022-03-23T20:19:54.674Z"
   },
   {
    "duration": 136,
    "start_time": "2022-03-23T20:19:58.970Z"
   },
   {
    "duration": 403,
    "start_time": "2022-03-23T20:20:03.117Z"
   },
   {
    "duration": 12,
    "start_time": "2022-03-23T20:33:37.460Z"
   },
   {
    "duration": 485,
    "start_time": "2022-03-23T20:33:56.439Z"
   },
   {
    "duration": 709,
    "start_time": "2022-03-23T20:34:18.639Z"
   },
   {
    "duration": 765,
    "start_time": "2022-03-23T20:39:21.629Z"
   },
   {
    "duration": 33,
    "start_time": "2022-03-23T20:45:09.233Z"
   },
   {
    "duration": 21,
    "start_time": "2022-03-23T20:45:15.098Z"
   },
   {
    "duration": 25,
    "start_time": "2022-03-23T20:45:19.870Z"
   },
   {
    "duration": 107,
    "start_time": "2022-03-23T20:47:29.692Z"
   },
   {
    "duration": 107,
    "start_time": "2022-03-23T20:47:34.398Z"
   },
   {
    "duration": 8,
    "start_time": "2022-03-23T20:47:38.953Z"
   },
   {
    "duration": 9,
    "start_time": "2022-03-23T20:47:49.534Z"
   },
   {
    "duration": 23,
    "start_time": "2022-03-23T20:47:51.843Z"
   },
   {
    "duration": 30,
    "start_time": "2022-03-23T20:48:28.653Z"
   },
   {
    "duration": 692,
    "start_time": "2022-03-23T20:48:38.651Z"
   },
   {
    "duration": 413,
    "start_time": "2022-03-23T20:48:39.346Z"
   },
   {
    "duration": 3,
    "start_time": "2022-03-23T20:48:39.761Z"
   },
   {
    "duration": 22,
    "start_time": "2022-03-23T20:48:39.766Z"
   },
   {
    "duration": 120,
    "start_time": "2022-03-23T20:48:39.790Z"
   },
   {
    "duration": 5,
    "start_time": "2022-03-23T20:48:39.912Z"
   },
   {
    "duration": 9,
    "start_time": "2022-03-23T20:48:39.918Z"
   },
   {
    "duration": 90,
    "start_time": "2022-03-23T20:48:39.928Z"
   },
   {
    "duration": 5,
    "start_time": "2022-03-23T20:48:40.020Z"
   },
   {
    "duration": 98,
    "start_time": "2022-03-23T20:48:40.027Z"
   },
   {
    "duration": 13,
    "start_time": "2022-03-23T20:48:40.127Z"
   },
   {
    "duration": 61,
    "start_time": "2022-03-23T20:48:40.142Z"
   },
   {
    "duration": 11,
    "start_time": "2022-03-23T20:48:40.205Z"
   },
   {
    "duration": 16,
    "start_time": "2022-03-23T20:48:40.217Z"
   },
   {
    "duration": 38,
    "start_time": "2022-03-23T20:48:40.235Z"
   },
   {
    "duration": 16,
    "start_time": "2022-03-23T20:48:40.275Z"
   },
   {
    "duration": 6,
    "start_time": "2022-03-23T20:48:40.293Z"
   },
   {
    "duration": 12,
    "start_time": "2022-03-23T20:48:40.301Z"
   },
   {
    "duration": 11,
    "start_time": "2022-03-23T20:48:40.314Z"
   },
   {
    "duration": 8,
    "start_time": "2022-03-23T20:48:40.327Z"
   },
   {
    "duration": 8,
    "start_time": "2022-03-23T20:48:40.336Z"
   },
   {
    "duration": 3,
    "start_time": "2022-03-23T20:48:40.363Z"
   },
   {
    "duration": 70,
    "start_time": "2022-03-23T20:48:40.368Z"
   },
   {
    "duration": 30,
    "start_time": "2022-03-23T20:48:40.440Z"
   },
   {
    "duration": 7,
    "start_time": "2022-03-23T20:48:40.472Z"
   },
   {
    "duration": 28,
    "start_time": "2022-03-23T20:48:40.481Z"
   },
   {
    "duration": 21,
    "start_time": "2022-03-23T20:48:40.511Z"
   },
   {
    "duration": 561,
    "start_time": "2022-03-23T20:48:40.535Z"
   },
   {
    "duration": 3,
    "start_time": "2022-03-23T20:48:41.098Z"
   },
   {
    "duration": 11,
    "start_time": "2022-03-23T20:48:41.103Z"
   },
   {
    "duration": 24,
    "start_time": "2022-03-23T20:48:41.115Z"
   },
   {
    "duration": 32,
    "start_time": "2022-03-23T20:48:41.140Z"
   },
   {
    "duration": 22,
    "start_time": "2022-03-23T20:49:18.405Z"
   },
   {
    "duration": 22,
    "start_time": "2022-03-23T20:49:23.375Z"
   },
   {
    "duration": 20,
    "start_time": "2022-03-23T20:50:32.727Z"
   },
   {
    "duration": 73,
    "start_time": "2022-03-23T21:04:57.154Z"
   },
   {
    "duration": 9,
    "start_time": "2022-03-23T21:05:06.945Z"
   },
   {
    "duration": 14,
    "start_time": "2022-03-23T21:05:10.157Z"
   },
   {
    "duration": 10,
    "start_time": "2022-03-23T21:05:14.900Z"
   },
   {
    "duration": 21,
    "start_time": "2022-03-23T21:05:24.295Z"
   },
   {
    "duration": 9,
    "start_time": "2022-03-23T21:05:24.512Z"
   },
   {
    "duration": 12,
    "start_time": "2022-03-23T21:05:59.271Z"
   },
   {
    "duration": 325,
    "start_time": "2022-03-23T21:06:10.602Z"
   },
   {
    "duration": 9,
    "start_time": "2022-03-23T21:07:41.360Z"
   },
   {
    "duration": 12,
    "start_time": "2022-03-23T21:08:07.929Z"
   },
   {
    "duration": 19,
    "start_time": "2022-03-23T21:08:25.573Z"
   },
   {
    "duration": 19,
    "start_time": "2022-03-23T21:08:36.165Z"
   },
   {
    "duration": 19,
    "start_time": "2022-03-23T21:08:37.468Z"
   },
   {
    "duration": 15,
    "start_time": "2022-03-23T21:08:46.602Z"
   },
   {
    "duration": 804,
    "start_time": "2022-03-23T21:09:10.236Z"
   },
   {
    "duration": 398,
    "start_time": "2022-03-23T21:09:11.042Z"
   },
   {
    "duration": 2,
    "start_time": "2022-03-23T21:09:11.443Z"
   },
   {
    "duration": 11,
    "start_time": "2022-03-23T21:09:11.448Z"
   },
   {
    "duration": 111,
    "start_time": "2022-03-23T21:09:11.460Z"
   },
   {
    "duration": 5,
    "start_time": "2022-03-23T21:09:11.572Z"
   },
   {
    "duration": 8,
    "start_time": "2022-03-23T21:09:11.579Z"
   },
   {
    "duration": 84,
    "start_time": "2022-03-23T21:09:11.589Z"
   },
   {
    "duration": 4,
    "start_time": "2022-03-23T21:09:11.675Z"
   },
   {
    "duration": 94,
    "start_time": "2022-03-23T21:09:11.682Z"
   },
   {
    "duration": 14,
    "start_time": "2022-03-23T21:09:11.779Z"
   },
   {
    "duration": 90,
    "start_time": "2022-03-23T21:09:11.796Z"
   },
   {
    "duration": 13,
    "start_time": "2022-03-23T21:09:11.888Z"
   },
   {
    "duration": 13,
    "start_time": "2022-03-23T21:09:11.903Z"
   },
   {
    "duration": 24,
    "start_time": "2022-03-23T21:09:11.918Z"
   },
   {
    "duration": 21,
    "start_time": "2022-03-23T21:09:11.962Z"
   },
   {
    "duration": 2,
    "start_time": "2022-03-23T21:09:11.985Z"
   },
   {
    "duration": 8,
    "start_time": "2022-03-23T21:09:11.989Z"
   },
   {
    "duration": 7,
    "start_time": "2022-03-23T21:09:11.999Z"
   },
   {
    "duration": 7,
    "start_time": "2022-03-23T21:09:12.008Z"
   },
   {
    "duration": 4,
    "start_time": "2022-03-23T21:09:12.017Z"
   },
   {
    "duration": 5,
    "start_time": "2022-03-23T21:09:12.023Z"
   },
   {
    "duration": 66,
    "start_time": "2022-03-23T21:09:12.063Z"
   },
   {
    "duration": 17,
    "start_time": "2022-03-23T21:09:12.131Z"
   },
   {
    "duration": 3,
    "start_time": "2022-03-23T21:09:12.172Z"
   },
   {
    "duration": 30,
    "start_time": "2022-03-23T21:09:12.177Z"
   },
   {
    "duration": 21,
    "start_time": "2022-03-23T21:09:12.209Z"
   },
   {
    "duration": 596,
    "start_time": "2022-03-23T21:09:12.234Z"
   },
   {
    "duration": 3,
    "start_time": "2022-03-23T21:09:12.832Z"
   },
   {
    "duration": 12,
    "start_time": "2022-03-23T21:09:12.837Z"
   },
   {
    "duration": 27,
    "start_time": "2022-03-23T21:09:12.850Z"
   },
   {
    "duration": 13,
    "start_time": "2022-03-23T21:09:12.879Z"
   },
   {
    "duration": 22,
    "start_time": "2022-03-23T21:09:12.894Z"
   },
   {
    "duration": 879,
    "start_time": "2022-03-23T21:10:04.748Z"
   },
   {
    "duration": 508,
    "start_time": "2022-03-23T21:10:05.630Z"
   },
   {
    "duration": 4,
    "start_time": "2022-03-23T21:10:06.140Z"
   },
   {
    "duration": 21,
    "start_time": "2022-03-23T21:10:06.147Z"
   },
   {
    "duration": 123,
    "start_time": "2022-03-23T21:10:06.170Z"
   },
   {
    "duration": 4,
    "start_time": "2022-03-23T21:10:06.295Z"
   },
   {
    "duration": 17,
    "start_time": "2022-03-23T21:10:06.301Z"
   },
   {
    "duration": 92,
    "start_time": "2022-03-23T21:10:06.320Z"
   },
   {
    "duration": 4,
    "start_time": "2022-03-23T21:10:06.414Z"
   },
   {
    "duration": 112,
    "start_time": "2022-03-23T21:10:06.420Z"
   },
   {
    "duration": 13,
    "start_time": "2022-03-23T21:10:06.534Z"
   },
   {
    "duration": 72,
    "start_time": "2022-03-23T21:10:06.548Z"
   },
   {
    "duration": 10,
    "start_time": "2022-03-23T21:10:06.621Z"
   },
   {
    "duration": 62,
    "start_time": "2022-03-23T21:10:06.633Z"
   },
   {
    "duration": 45,
    "start_time": "2022-03-23T21:10:06.696Z"
   },
   {
    "duration": 40,
    "start_time": "2022-03-23T21:10:06.743Z"
   },
   {
    "duration": 28,
    "start_time": "2022-03-23T21:10:06.785Z"
   },
   {
    "duration": 35,
    "start_time": "2022-03-23T21:10:06.815Z"
   },
   {
    "duration": 20,
    "start_time": "2022-03-23T21:10:06.851Z"
   },
   {
    "duration": 30,
    "start_time": "2022-03-23T21:10:06.873Z"
   },
   {
    "duration": 28,
    "start_time": "2022-03-23T21:10:06.905Z"
   },
   {
    "duration": 32,
    "start_time": "2022-03-23T21:10:06.935Z"
   },
   {
    "duration": 93,
    "start_time": "2022-03-23T21:10:06.969Z"
   },
   {
    "duration": 18,
    "start_time": "2022-03-23T21:10:07.064Z"
   },
   {
    "duration": 11,
    "start_time": "2022-03-23T21:10:07.083Z"
   },
   {
    "duration": 51,
    "start_time": "2022-03-23T21:10:07.096Z"
   },
   {
    "duration": 22,
    "start_time": "2022-03-23T21:10:07.149Z"
   },
   {
    "duration": 544,
    "start_time": "2022-03-23T21:10:07.175Z"
   },
   {
    "duration": 3,
    "start_time": "2022-03-23T21:10:07.721Z"
   },
   {
    "duration": 37,
    "start_time": "2022-03-23T21:10:07.726Z"
   },
   {
    "duration": 49,
    "start_time": "2022-03-23T21:10:07.765Z"
   },
   {
    "duration": 11,
    "start_time": "2022-03-23T21:10:07.816Z"
   },
   {
    "duration": 49,
    "start_time": "2022-03-23T21:10:07.828Z"
   },
   {
    "duration": 21,
    "start_time": "2022-03-23T21:12:01.326Z"
   },
   {
    "duration": 148,
    "start_time": "2022-03-23T21:13:31.930Z"
   },
   {
    "duration": 7,
    "start_time": "2022-03-23T21:13:39.783Z"
   },
   {
    "duration": 14,
    "start_time": "2022-03-23T21:13:51.909Z"
   },
   {
    "duration": 2,
    "start_time": "2022-03-23T21:36:18.711Z"
   },
   {
    "duration": 6,
    "start_time": "2022-03-23T21:36:19.338Z"
   },
   {
    "duration": 84,
    "start_time": "2022-03-23T21:36:24.070Z"
   },
   {
    "duration": 5,
    "start_time": "2022-03-23T21:36:28.024Z"
   },
   {
    "duration": 3,
    "start_time": "2022-03-23T21:36:28.318Z"
   },
   {
    "duration": 38,
    "start_time": "2022-03-23T21:36:28.780Z"
   },
   {
    "duration": 4,
    "start_time": "2022-03-23T21:36:29.099Z"
   },
   {
    "duration": 88,
    "start_time": "2022-03-23T21:36:29.436Z"
   },
   {
    "duration": 8,
    "start_time": "2022-03-23T21:36:30.098Z"
   },
   {
    "duration": 53,
    "start_time": "2022-03-23T21:36:30.371Z"
   },
   {
    "duration": 11,
    "start_time": "2022-03-23T21:36:30.741Z"
   },
   {
    "duration": 10,
    "start_time": "2022-03-23T21:36:31.130Z"
   },
   {
    "duration": 17,
    "start_time": "2022-03-23T21:36:31.566Z"
   },
   {
    "duration": 16,
    "start_time": "2022-03-23T21:36:31.975Z"
   },
   {
    "duration": 3,
    "start_time": "2022-03-23T21:36:32.400Z"
   },
   {
    "duration": 6,
    "start_time": "2022-03-23T21:36:32.847Z"
   },
   {
    "duration": 9,
    "start_time": "2022-03-23T21:36:33.225Z"
   },
   {
    "duration": 7,
    "start_time": "2022-03-23T21:36:33.588Z"
   },
   {
    "duration": 4,
    "start_time": "2022-03-23T21:36:33.959Z"
   },
   {
    "duration": 3,
    "start_time": "2022-03-23T21:36:34.371Z"
   },
   {
    "duration": 64,
    "start_time": "2022-03-23T21:36:34.795Z"
   },
   {
    "duration": 21,
    "start_time": "2022-03-23T21:36:35.222Z"
   },
   {
    "duration": 3,
    "start_time": "2022-03-23T21:36:35.916Z"
   },
   {
    "duration": 25,
    "start_time": "2022-03-23T21:36:36.323Z"
   },
   {
    "duration": 23,
    "start_time": "2022-03-23T21:36:38.087Z"
   },
   {
    "duration": 619,
    "start_time": "2022-03-23T21:36:42.168Z"
   },
   {
    "duration": 3,
    "start_time": "2022-03-23T21:36:42.789Z"
   },
   {
    "duration": 70,
    "start_time": "2022-03-23T21:36:42.793Z"
   },
   {
    "duration": 11,
    "start_time": "2022-03-23T21:36:42.866Z"
   },
   {
    "duration": 18,
    "start_time": "2022-03-23T21:36:58.322Z"
   },
   {
    "duration": 9,
    "start_time": "2022-03-23T21:38:34.093Z"
   },
   {
    "duration": 11,
    "start_time": "2022-03-23T21:38:39.521Z"
   },
   {
    "duration": 10,
    "start_time": "2022-03-23T21:38:45.833Z"
   },
   {
    "duration": 644,
    "start_time": "2022-03-23T21:40:24.653Z"
   },
   {
    "duration": 483,
    "start_time": "2022-03-23T21:41:25.325Z"
   },
   {
    "duration": 588,
    "start_time": "2022-03-23T21:41:37.891Z"
   },
   {
    "duration": 490,
    "start_time": "2022-03-23T21:41:41.931Z"
   },
   {
    "duration": 490,
    "start_time": "2022-03-23T21:41:48.254Z"
   },
   {
    "duration": 473,
    "start_time": "2022-03-23T21:41:54.831Z"
   },
   {
    "duration": 191,
    "start_time": "2022-03-23T21:41:59.822Z"
   },
   {
    "duration": 227,
    "start_time": "2022-03-23T21:42:03.540Z"
   },
   {
    "duration": 491,
    "start_time": "2022-03-23T21:42:06.358Z"
   },
   {
    "duration": 496,
    "start_time": "2022-03-23T21:42:09.935Z"
   },
   {
    "duration": 646,
    "start_time": "2022-03-23T21:42:36.074Z"
   },
   {
    "duration": 631,
    "start_time": "2022-03-23T21:42:44.421Z"
   },
   {
    "duration": 630,
    "start_time": "2022-03-23T21:42:50.047Z"
   },
   {
    "duration": 613,
    "start_time": "2022-03-23T21:42:56.286Z"
   },
   {
    "duration": 637,
    "start_time": "2022-03-23T21:43:00.536Z"
   },
   {
    "duration": 629,
    "start_time": "2022-03-23T21:43:09.223Z"
   },
   {
    "duration": 721,
    "start_time": "2022-03-23T21:43:25.341Z"
   },
   {
    "duration": 649,
    "start_time": "2022-03-23T21:43:30.003Z"
   },
   {
    "duration": 658,
    "start_time": "2022-03-23T21:43:41.711Z"
   },
   {
    "duration": 14,
    "start_time": "2022-03-23T21:44:02.453Z"
   },
   {
    "duration": 729,
    "start_time": "2022-03-23T21:44:18.378Z"
   },
   {
    "duration": 679,
    "start_time": "2022-03-23T21:44:22.057Z"
   },
   {
    "duration": 671,
    "start_time": "2022-03-23T21:44:26.929Z"
   },
   {
    "duration": 320,
    "start_time": "2022-03-23T21:45:46.031Z"
   },
   {
    "duration": 509,
    "start_time": "2022-03-23T21:48:07.223Z"
   },
   {
    "duration": 19,
    "start_time": "2022-03-23T21:48:55.469Z"
   },
   {
    "duration": 580,
    "start_time": "2022-03-23T21:49:23.825Z"
   },
   {
    "duration": 675,
    "start_time": "2022-03-23T21:49:30.885Z"
   },
   {
    "duration": 6,
    "start_time": "2022-03-23T22:16:21.617Z"
   },
   {
    "duration": 6,
    "start_time": "2022-03-23T22:16:34.574Z"
   },
   {
    "duration": 7,
    "start_time": "2022-03-23T22:23:16.404Z"
   },
   {
    "duration": 7,
    "start_time": "2022-03-23T22:23:30.183Z"
   },
   {
    "duration": 109,
    "start_time": "2022-03-23T22:41:03.986Z"
   },
   {
    "duration": 6,
    "start_time": "2022-03-23T22:44:47.837Z"
   },
   {
    "duration": 11,
    "start_time": "2022-03-23T22:45:11.728Z"
   },
   {
    "duration": 15,
    "start_time": "2022-03-23T22:45:15.896Z"
   },
   {
    "duration": 11,
    "start_time": "2022-03-23T22:51:28.758Z"
   },
   {
    "duration": 15,
    "start_time": "2022-03-23T22:53:50.393Z"
   },
   {
    "duration": 15,
    "start_time": "2022-03-23T22:54:17.728Z"
   },
   {
    "duration": 7,
    "start_time": "2022-03-23T22:54:53.617Z"
   },
   {
    "duration": 12,
    "start_time": "2022-03-23T23:25:16.504Z"
   },
   {
    "duration": 10,
    "start_time": "2022-03-23T23:25:22.909Z"
   },
   {
    "duration": 16,
    "start_time": "2022-03-23T23:25:27.115Z"
   },
   {
    "duration": 5,
    "start_time": "2022-03-23T23:25:39.964Z"
   },
   {
    "duration": 5,
    "start_time": "2022-03-23T23:26:05.579Z"
   },
   {
    "duration": 5,
    "start_time": "2022-03-23T23:26:13.987Z"
   },
   {
    "duration": 20,
    "start_time": "2022-03-23T23:26:22.234Z"
   },
   {
    "duration": 5,
    "start_time": "2022-03-23T23:26:35.535Z"
   },
   {
    "duration": 61,
    "start_time": "2022-03-23T23:27:34.626Z"
   },
   {
    "duration": 15,
    "start_time": "2022-03-23T23:27:34.826Z"
   },
   {
    "duration": 627,
    "start_time": "2022-03-23T23:28:20.596Z"
   },
   {
    "duration": 388,
    "start_time": "2022-03-23T23:28:21.225Z"
   },
   {
    "duration": 3,
    "start_time": "2022-03-23T23:28:21.614Z"
   },
   {
    "duration": 10,
    "start_time": "2022-03-23T23:28:21.619Z"
   },
   {
    "duration": 98,
    "start_time": "2022-03-23T23:28:21.631Z"
   },
   {
    "duration": 4,
    "start_time": "2022-03-23T23:28:21.731Z"
   },
   {
    "duration": 4,
    "start_time": "2022-03-23T23:28:21.737Z"
   },
   {
    "duration": 83,
    "start_time": "2022-03-23T23:28:21.742Z"
   },
   {
    "duration": 3,
    "start_time": "2022-03-23T23:28:21.827Z"
   },
   {
    "duration": 90,
    "start_time": "2022-03-23T23:28:21.832Z"
   },
   {
    "duration": 12,
    "start_time": "2022-03-23T23:28:21.924Z"
   },
   {
    "duration": 63,
    "start_time": "2022-03-23T23:28:21.937Z"
   },
   {
    "duration": 9,
    "start_time": "2022-03-23T23:28:22.002Z"
   },
   {
    "duration": 9,
    "start_time": "2022-03-23T23:28:22.015Z"
   },
   {
    "duration": 41,
    "start_time": "2022-03-23T23:28:22.026Z"
   },
   {
    "duration": 15,
    "start_time": "2022-03-23T23:28:22.069Z"
   },
   {
    "duration": 7,
    "start_time": "2022-03-23T23:28:22.085Z"
   },
   {
    "duration": 10,
    "start_time": "2022-03-23T23:28:22.093Z"
   },
   {
    "duration": 8,
    "start_time": "2022-03-23T23:28:22.105Z"
   },
   {
    "duration": 7,
    "start_time": "2022-03-23T23:28:22.115Z"
   },
   {
    "duration": 9,
    "start_time": "2022-03-23T23:28:22.123Z"
   },
   {
    "duration": 8,
    "start_time": "2022-03-23T23:28:22.133Z"
   },
   {
    "duration": 66,
    "start_time": "2022-03-23T23:28:22.163Z"
   },
   {
    "duration": 34,
    "start_time": "2022-03-23T23:28:22.230Z"
   },
   {
    "duration": 4,
    "start_time": "2022-03-23T23:28:22.266Z"
   },
   {
    "duration": 30,
    "start_time": "2022-03-23T23:28:22.272Z"
   },
   {
    "duration": 24,
    "start_time": "2022-03-23T23:28:22.304Z"
   },
   {
    "duration": 692,
    "start_time": "2022-03-23T23:28:22.330Z"
   },
   {
    "duration": 3,
    "start_time": "2022-03-23T23:28:23.023Z"
   },
   {
    "duration": 27,
    "start_time": "2022-03-23T23:28:23.028Z"
   },
   {
    "duration": 22,
    "start_time": "2022-03-23T23:28:23.056Z"
   },
   {
    "duration": 84,
    "start_time": "2022-03-23T23:28:23.080Z"
   },
   {
    "duration": 0,
    "start_time": "2022-03-23T23:28:23.165Z"
   },
   {
    "duration": 0,
    "start_time": "2022-03-23T23:28:23.167Z"
   },
   {
    "duration": 7,
    "start_time": "2022-03-23T23:33:59.133Z"
   },
   {
    "duration": 6,
    "start_time": "2022-03-23T23:34:04.129Z"
   },
   {
    "duration": 5,
    "start_time": "2022-03-23T23:34:05.537Z"
   },
   {
    "duration": 4,
    "start_time": "2022-03-23T23:34:11.359Z"
   },
   {
    "duration": 5,
    "start_time": "2022-03-23T23:34:14.961Z"
   },
   {
    "duration": 4,
    "start_time": "2022-03-23T23:34:18.680Z"
   },
   {
    "duration": 5,
    "start_time": "2022-03-23T23:34:21.483Z"
   },
   {
    "duration": 626,
    "start_time": "2022-03-23T23:34:43.489Z"
   },
   {
    "duration": 382,
    "start_time": "2022-03-23T23:34:44.117Z"
   },
   {
    "duration": 3,
    "start_time": "2022-03-23T23:34:44.501Z"
   },
   {
    "duration": 31,
    "start_time": "2022-03-23T23:34:44.506Z"
   },
   {
    "duration": 114,
    "start_time": "2022-03-23T23:34:44.538Z"
   },
   {
    "duration": 4,
    "start_time": "2022-03-23T23:34:44.653Z"
   },
   {
    "duration": 20,
    "start_time": "2022-03-23T23:34:44.662Z"
   },
   {
    "duration": 93,
    "start_time": "2022-03-23T23:34:44.683Z"
   },
   {
    "duration": 3,
    "start_time": "2022-03-23T23:34:44.778Z"
   },
   {
    "duration": 87,
    "start_time": "2022-03-23T23:34:44.784Z"
   },
   {
    "duration": 11,
    "start_time": "2022-03-23T23:34:44.872Z"
   },
   {
    "duration": 50,
    "start_time": "2022-03-23T23:34:44.884Z"
   },
   {
    "duration": 9,
    "start_time": "2022-03-23T23:34:44.935Z"
   },
   {
    "duration": 9,
    "start_time": "2022-03-23T23:34:44.963Z"
   },
   {
    "duration": 18,
    "start_time": "2022-03-23T23:34:44.973Z"
   },
   {
    "duration": 19,
    "start_time": "2022-03-23T23:34:44.993Z"
   },
   {
    "duration": 26,
    "start_time": "2022-03-23T23:34:45.013Z"
   },
   {
    "duration": 14,
    "start_time": "2022-03-23T23:34:45.041Z"
   },
   {
    "duration": 13,
    "start_time": "2022-03-23T23:34:45.056Z"
   },
   {
    "duration": 12,
    "start_time": "2022-03-23T23:34:45.070Z"
   },
   {
    "duration": 16,
    "start_time": "2022-03-23T23:34:45.083Z"
   },
   {
    "duration": 15,
    "start_time": "2022-03-23T23:34:45.101Z"
   },
   {
    "duration": 72,
    "start_time": "2022-03-23T23:34:45.118Z"
   },
   {
    "duration": 15,
    "start_time": "2022-03-23T23:34:45.192Z"
   },
   {
    "duration": 8,
    "start_time": "2022-03-23T23:34:45.209Z"
   },
   {
    "duration": 28,
    "start_time": "2022-03-23T23:34:45.218Z"
   },
   {
    "duration": 29,
    "start_time": "2022-03-23T23:34:45.247Z"
   },
   {
    "duration": 685,
    "start_time": "2022-03-23T23:34:45.279Z"
   },
   {
    "duration": 2,
    "start_time": "2022-03-23T23:34:45.966Z"
   },
   {
    "duration": 24,
    "start_time": "2022-03-23T23:34:45.969Z"
   },
   {
    "duration": 18,
    "start_time": "2022-03-23T23:34:45.995Z"
   },
   {
    "duration": 89,
    "start_time": "2022-03-23T23:34:46.015Z"
   },
   {
    "duration": 0,
    "start_time": "2022-03-23T23:34:46.106Z"
   },
   {
    "duration": 0,
    "start_time": "2022-03-23T23:34:46.107Z"
   },
   {
    "duration": 9,
    "start_time": "2022-03-23T23:35:04.004Z"
   },
   {
    "duration": 3,
    "start_time": "2022-03-23T23:35:09.489Z"
   },
   {
    "duration": 382,
    "start_time": "2022-03-23T23:35:09.672Z"
   },
   {
    "duration": 3,
    "start_time": "2022-03-23T23:35:10.056Z"
   },
   {
    "duration": 8,
    "start_time": "2022-03-23T23:35:10.060Z"
   },
   {
    "duration": 95,
    "start_time": "2022-03-23T23:35:10.131Z"
   },
   {
    "duration": 5,
    "start_time": "2022-03-23T23:35:10.282Z"
   },
   {
    "duration": 2,
    "start_time": "2022-03-23T23:35:10.426Z"
   },
   {
    "duration": 83,
    "start_time": "2022-03-23T23:35:10.778Z"
   },
   {
    "duration": 4,
    "start_time": "2022-03-23T23:35:10.942Z"
   },
   {
    "duration": 76,
    "start_time": "2022-03-23T23:35:11.127Z"
   },
   {
    "duration": 8,
    "start_time": "2022-03-23T23:35:11.465Z"
   },
   {
    "duration": 40,
    "start_time": "2022-03-23T23:35:11.635Z"
   },
   {
    "duration": 10,
    "start_time": "2022-03-23T23:35:11.800Z"
   },
   {
    "duration": 8,
    "start_time": "2022-03-23T23:35:11.963Z"
   },
   {
    "duration": 18,
    "start_time": "2022-03-23T23:35:12.137Z"
   },
   {
    "duration": 15,
    "start_time": "2022-03-23T23:35:12.311Z"
   },
   {
    "duration": 3,
    "start_time": "2022-03-23T23:35:12.472Z"
   },
   {
    "duration": 6,
    "start_time": "2022-03-23T23:35:12.652Z"
   },
   {
    "duration": 9,
    "start_time": "2022-03-23T23:35:12.835Z"
   },
   {
    "duration": 7,
    "start_time": "2022-03-23T23:35:13.009Z"
   },
   {
    "duration": 4,
    "start_time": "2022-03-23T23:35:13.181Z"
   },
   {
    "duration": 2,
    "start_time": "2022-03-23T23:35:13.361Z"
   },
   {
    "duration": 67,
    "start_time": "2022-03-23T23:35:13.560Z"
   },
   {
    "duration": 17,
    "start_time": "2022-03-23T23:35:13.742Z"
   },
   {
    "duration": 2,
    "start_time": "2022-03-23T23:35:14.128Z"
   },
   {
    "duration": 26,
    "start_time": "2022-03-23T23:35:14.301Z"
   },
   {
    "duration": 20,
    "start_time": "2022-03-23T23:35:14.490Z"
   },
   {
    "duration": 702,
    "start_time": "2022-03-23T23:35:14.671Z"
   },
   {
    "duration": 3,
    "start_time": "2022-03-23T23:35:15.375Z"
   },
   {
    "duration": 32,
    "start_time": "2022-03-23T23:35:15.379Z"
   },
   {
    "duration": 17,
    "start_time": "2022-03-23T23:35:15.413Z"
   },
   {
    "duration": 9,
    "start_time": "2022-03-23T23:35:15.463Z"
   },
   {
    "duration": 6,
    "start_time": "2022-03-23T23:35:15.642Z"
   },
   {
    "duration": 5,
    "start_time": "2022-03-23T23:35:17.122Z"
   },
   {
    "duration": 11,
    "start_time": "2022-03-23T23:37:16.331Z"
   },
   {
    "duration": 10,
    "start_time": "2022-03-23T23:37:29.775Z"
   },
   {
    "duration": 10,
    "start_time": "2022-03-23T23:37:34.974Z"
   },
   {
    "duration": 17,
    "start_time": "2022-03-23T23:38:32.897Z"
   },
   {
    "duration": 5,
    "start_time": "2022-03-23T23:39:40.666Z"
   },
   {
    "duration": 4,
    "start_time": "2022-03-23T23:39:45.024Z"
   },
   {
    "duration": 10,
    "start_time": "2022-03-23T23:40:16.476Z"
   },
   {
    "duration": 5,
    "start_time": "2022-03-23T23:40:42.965Z"
   },
   {
    "duration": 4,
    "start_time": "2022-03-23T23:40:48.630Z"
   },
   {
    "duration": 4,
    "start_time": "2022-03-23T23:40:48.995Z"
   },
   {
    "duration": 640,
    "start_time": "2022-03-23T23:41:26.551Z"
   },
   {
    "duration": 425,
    "start_time": "2022-03-23T23:41:27.193Z"
   },
   {
    "duration": 4,
    "start_time": "2022-03-23T23:41:27.620Z"
   },
   {
    "duration": 17,
    "start_time": "2022-03-23T23:41:27.626Z"
   },
   {
    "duration": 101,
    "start_time": "2022-03-23T23:41:27.645Z"
   },
   {
    "duration": 5,
    "start_time": "2022-03-23T23:41:27.747Z"
   },
   {
    "duration": 9,
    "start_time": "2022-03-23T23:41:27.754Z"
   },
   {
    "duration": 75,
    "start_time": "2022-03-23T23:41:27.765Z"
   },
   {
    "duration": 4,
    "start_time": "2022-03-23T23:41:27.841Z"
   },
   {
    "duration": 87,
    "start_time": "2022-03-23T23:41:27.847Z"
   },
   {
    "duration": 11,
    "start_time": "2022-03-23T23:41:27.935Z"
   },
   {
    "duration": 62,
    "start_time": "2022-03-23T23:41:27.947Z"
   },
   {
    "duration": 10,
    "start_time": "2022-03-23T23:41:28.011Z"
   },
   {
    "duration": 9,
    "start_time": "2022-03-23T23:41:28.022Z"
   },
   {
    "duration": 39,
    "start_time": "2022-03-23T23:41:28.032Z"
   },
   {
    "duration": 15,
    "start_time": "2022-03-23T23:41:28.072Z"
   },
   {
    "duration": 2,
    "start_time": "2022-03-23T23:41:28.089Z"
   },
   {
    "duration": 8,
    "start_time": "2022-03-23T23:41:28.093Z"
   },
   {
    "duration": 12,
    "start_time": "2022-03-23T23:41:28.103Z"
   },
   {
    "duration": 7,
    "start_time": "2022-03-23T23:41:28.116Z"
   },
   {
    "duration": 3,
    "start_time": "2022-03-23T23:41:28.124Z"
   },
   {
    "duration": 6,
    "start_time": "2022-03-23T23:41:28.129Z"
   },
   {
    "duration": 87,
    "start_time": "2022-03-23T23:41:28.136Z"
   },
   {
    "duration": 16,
    "start_time": "2022-03-23T23:41:28.225Z"
   },
   {
    "duration": 20,
    "start_time": "2022-03-23T23:41:28.243Z"
   },
   {
    "duration": 28,
    "start_time": "2022-03-23T23:41:28.264Z"
   },
   {
    "duration": 20,
    "start_time": "2022-03-23T23:41:28.293Z"
   },
   {
    "duration": 691,
    "start_time": "2022-03-23T23:41:28.316Z"
   },
   {
    "duration": 2,
    "start_time": "2022-03-23T23:41:29.009Z"
   },
   {
    "duration": 24,
    "start_time": "2022-03-23T23:41:29.012Z"
   },
   {
    "duration": 30,
    "start_time": "2022-03-23T23:41:29.037Z"
   },
   {
    "duration": 11,
    "start_time": "2022-03-23T23:41:29.068Z"
   },
   {
    "duration": 6,
    "start_time": "2022-03-23T23:41:29.080Z"
   },
   {
    "duration": 18,
    "start_time": "2022-03-23T23:41:29.087Z"
   },
   {
    "duration": 15,
    "start_time": "2022-03-23T23:41:29.106Z"
   },
   {
    "duration": 5,
    "start_time": "2022-03-23T23:41:40.842Z"
   },
   {
    "duration": 71,
    "start_time": "2022-03-23T23:44:13.989Z"
   },
   {
    "duration": 688,
    "start_time": "2022-03-23T23:44:20.573Z"
   },
   {
    "duration": 379,
    "start_time": "2022-03-23T23:44:21.263Z"
   },
   {
    "duration": 3,
    "start_time": "2022-03-23T23:44:21.644Z"
   },
   {
    "duration": 20,
    "start_time": "2022-03-23T23:44:21.649Z"
   },
   {
    "duration": 108,
    "start_time": "2022-03-23T23:44:21.671Z"
   },
   {
    "duration": 4,
    "start_time": "2022-03-23T23:44:21.781Z"
   },
   {
    "duration": 5,
    "start_time": "2022-03-23T23:44:21.787Z"
   },
   {
    "duration": 85,
    "start_time": "2022-03-23T23:44:21.794Z"
   },
   {
    "duration": 3,
    "start_time": "2022-03-23T23:44:21.881Z"
   },
   {
    "duration": 100,
    "start_time": "2022-03-23T23:44:21.887Z"
   },
   {
    "duration": 11,
    "start_time": "2022-03-23T23:44:21.989Z"
   },
   {
    "duration": 59,
    "start_time": "2022-03-23T23:44:22.001Z"
   },
   {
    "duration": 9,
    "start_time": "2022-03-23T23:44:22.062Z"
   },
   {
    "duration": 18,
    "start_time": "2022-03-23T23:44:22.073Z"
   },
   {
    "duration": 24,
    "start_time": "2022-03-23T23:44:22.092Z"
   },
   {
    "duration": 19,
    "start_time": "2022-03-23T23:44:22.117Z"
   },
   {
    "duration": 11,
    "start_time": "2022-03-23T23:44:22.138Z"
   },
   {
    "duration": 16,
    "start_time": "2022-03-23T23:44:22.151Z"
   },
   {
    "duration": 24,
    "start_time": "2022-03-23T23:44:22.168Z"
   },
   {
    "duration": 19,
    "start_time": "2022-03-23T23:44:22.194Z"
   },
   {
    "duration": 15,
    "start_time": "2022-03-23T23:44:22.215Z"
   },
   {
    "duration": 7,
    "start_time": "2022-03-23T23:44:22.232Z"
   },
   {
    "duration": 83,
    "start_time": "2022-03-23T23:44:22.241Z"
   },
   {
    "duration": 16,
    "start_time": "2022-03-23T23:44:22.326Z"
   },
   {
    "duration": 8,
    "start_time": "2022-03-23T23:44:22.344Z"
   },
   {
    "duration": 36,
    "start_time": "2022-03-23T23:44:22.354Z"
   },
   {
    "duration": 18,
    "start_time": "2022-03-23T23:44:22.392Z"
   },
   {
    "duration": 681,
    "start_time": "2022-03-23T23:44:22.413Z"
   },
   {
    "duration": 3,
    "start_time": "2022-03-23T23:44:23.095Z"
   },
   {
    "duration": 32,
    "start_time": "2022-03-23T23:44:23.100Z"
   },
   {
    "duration": 27,
    "start_time": "2022-03-23T23:44:23.134Z"
   },
   {
    "duration": 11,
    "start_time": "2022-03-23T23:44:23.163Z"
   },
   {
    "duration": 24,
    "start_time": "2022-03-23T23:44:23.176Z"
   },
   {
    "duration": 11,
    "start_time": "2022-03-23T23:44:23.202Z"
   },
   {
    "duration": 28,
    "start_time": "2022-03-23T23:44:23.214Z"
   },
   {
    "duration": 19,
    "start_time": "2022-03-23T23:44:23.244Z"
   },
   {
    "duration": 72,
    "start_time": "2022-03-23T23:57:20.639Z"
   },
   {
    "duration": 17,
    "start_time": "2022-03-23T23:57:33.428Z"
   },
   {
    "duration": 624,
    "start_time": "2022-03-23T23:58:27.470Z"
   },
   {
    "duration": 379,
    "start_time": "2022-03-23T23:58:28.095Z"
   },
   {
    "duration": 3,
    "start_time": "2022-03-23T23:58:28.476Z"
   },
   {
    "duration": 14,
    "start_time": "2022-03-23T23:58:28.481Z"
   },
   {
    "duration": 117,
    "start_time": "2022-03-23T23:58:28.496Z"
   },
   {
    "duration": 4,
    "start_time": "2022-03-23T23:58:28.614Z"
   },
   {
    "duration": 5,
    "start_time": "2022-03-23T23:58:28.620Z"
   },
   {
    "duration": 90,
    "start_time": "2022-03-23T23:58:28.626Z"
   },
   {
    "duration": 3,
    "start_time": "2022-03-23T23:58:28.718Z"
   },
   {
    "duration": 82,
    "start_time": "2022-03-23T23:58:28.724Z"
   },
   {
    "duration": 11,
    "start_time": "2022-03-23T23:58:28.807Z"
   },
   {
    "duration": 59,
    "start_time": "2022-03-23T23:58:28.820Z"
   },
   {
    "duration": 9,
    "start_time": "2022-03-23T23:58:28.880Z"
   },
   {
    "duration": 10,
    "start_time": "2022-03-23T23:58:28.891Z"
   },
   {
    "duration": 17,
    "start_time": "2022-03-23T23:58:28.903Z"
   },
   {
    "duration": 13,
    "start_time": "2022-03-23T23:58:28.922Z"
   },
   {
    "duration": 27,
    "start_time": "2022-03-23T23:58:28.936Z"
   },
   {
    "duration": 17,
    "start_time": "2022-03-23T23:58:28.965Z"
   },
   {
    "duration": 16,
    "start_time": "2022-03-23T23:58:28.983Z"
   },
   {
    "duration": 18,
    "start_time": "2022-03-23T23:58:29.001Z"
   },
   {
    "duration": 9,
    "start_time": "2022-03-23T23:58:29.020Z"
   },
   {
    "duration": 20,
    "start_time": "2022-03-23T23:58:29.030Z"
   },
   {
    "duration": 71,
    "start_time": "2022-03-23T23:58:29.052Z"
   },
   {
    "duration": 16,
    "start_time": "2022-03-23T23:58:29.125Z"
   },
   {
    "duration": 17,
    "start_time": "2022-03-23T23:58:29.143Z"
   },
   {
    "duration": 26,
    "start_time": "2022-03-23T23:58:29.162Z"
   },
   {
    "duration": 18,
    "start_time": "2022-03-23T23:58:29.190Z"
   },
   {
    "duration": 797,
    "start_time": "2022-03-23T23:58:29.211Z"
   },
   {
    "duration": 3,
    "start_time": "2022-03-23T23:58:30.011Z"
   },
   {
    "duration": 33,
    "start_time": "2022-03-23T23:58:30.016Z"
   },
   {
    "duration": 26,
    "start_time": "2022-03-23T23:58:30.051Z"
   },
   {
    "duration": 11,
    "start_time": "2022-03-23T23:58:30.079Z"
   },
   {
    "duration": 85,
    "start_time": "2022-03-23T23:58:30.091Z"
   },
   {
    "duration": 34,
    "start_time": "2022-03-23T23:59:08.441Z"
   },
   {
    "duration": 32,
    "start_time": "2022-03-23T23:59:51.641Z"
   },
   {
    "duration": 31,
    "start_time": "2022-03-24T00:00:01.382Z"
   },
   {
    "duration": 32,
    "start_time": "2022-03-24T00:00:07.606Z"
   },
   {
    "duration": 9,
    "start_time": "2022-03-24T00:14:24.529Z"
   },
   {
    "duration": 9,
    "start_time": "2022-03-24T00:14:39.580Z"
   },
   {
    "duration": 13,
    "start_time": "2022-03-24T00:14:42.335Z"
   },
   {
    "duration": 701,
    "start_time": "2022-03-24T00:14:47.284Z"
   },
   {
    "duration": 402,
    "start_time": "2022-03-24T00:14:47.987Z"
   },
   {
    "duration": 3,
    "start_time": "2022-03-24T00:14:48.390Z"
   },
   {
    "duration": 13,
    "start_time": "2022-03-24T00:14:48.396Z"
   },
   {
    "duration": 123,
    "start_time": "2022-03-24T00:14:48.410Z"
   },
   {
    "duration": 5,
    "start_time": "2022-03-24T00:14:48.535Z"
   },
   {
    "duration": 10,
    "start_time": "2022-03-24T00:14:48.542Z"
   },
   {
    "duration": 92,
    "start_time": "2022-03-24T00:14:48.553Z"
   },
   {
    "duration": 4,
    "start_time": "2022-03-24T00:14:48.647Z"
   },
   {
    "duration": 86,
    "start_time": "2022-03-24T00:14:48.653Z"
   },
   {
    "duration": 12,
    "start_time": "2022-03-24T00:14:48.741Z"
   },
   {
    "duration": 54,
    "start_time": "2022-03-24T00:14:48.755Z"
   },
   {
    "duration": 10,
    "start_time": "2022-03-24T00:14:48.811Z"
   },
   {
    "duration": 9,
    "start_time": "2022-03-24T00:14:48.823Z"
   },
   {
    "duration": 42,
    "start_time": "2022-03-24T00:14:48.834Z"
   },
   {
    "duration": 13,
    "start_time": "2022-03-24T00:14:48.878Z"
   },
   {
    "duration": 11,
    "start_time": "2022-03-24T00:14:48.893Z"
   },
   {
    "duration": 11,
    "start_time": "2022-03-24T00:14:48.906Z"
   },
   {
    "duration": 8,
    "start_time": "2022-03-24T00:14:48.919Z"
   },
   {
    "duration": 7,
    "start_time": "2022-03-24T00:14:48.929Z"
   },
   {
    "duration": 25,
    "start_time": "2022-03-24T00:14:48.938Z"
   },
   {
    "duration": 5,
    "start_time": "2022-03-24T00:14:48.965Z"
   },
   {
    "duration": 79,
    "start_time": "2022-03-24T00:14:48.971Z"
   },
   {
    "duration": 27,
    "start_time": "2022-03-24T00:14:49.052Z"
   },
   {
    "duration": 3,
    "start_time": "2022-03-24T00:14:49.081Z"
   },
   {
    "duration": 28,
    "start_time": "2022-03-24T00:14:49.085Z"
   },
   {
    "duration": 49,
    "start_time": "2022-03-24T00:14:49.114Z"
   },
   {
    "duration": 761,
    "start_time": "2022-03-24T00:14:49.166Z"
   },
   {
    "duration": 3,
    "start_time": "2022-03-24T00:14:49.929Z"
   },
   {
    "duration": 31,
    "start_time": "2022-03-24T00:14:49.934Z"
   },
   {
    "duration": 21,
    "start_time": "2022-03-24T00:14:49.966Z"
   },
   {
    "duration": 12,
    "start_time": "2022-03-24T00:14:49.989Z"
   },
   {
    "duration": 62,
    "start_time": "2022-03-24T00:14:50.003Z"
   },
   {
    "duration": 10,
    "start_time": "2022-03-24T00:14:50.067Z"
   },
   {
    "duration": 85,
    "start_time": "2022-03-24T00:14:50.078Z"
   },
   {
    "duration": 12,
    "start_time": "2022-03-24T00:15:06.429Z"
   },
   {
    "duration": 419,
    "start_time": "2022-03-24T00:18:01.987Z"
   },
   {
    "duration": 19,
    "start_time": "2022-03-24T00:23:00.504Z"
   },
   {
    "duration": 17,
    "start_time": "2022-03-24T00:23:01.622Z"
   },
   {
    "duration": 3,
    "start_time": "2022-03-24T00:23:03.086Z"
   },
   {
    "duration": 7,
    "start_time": "2022-03-24T00:23:03.300Z"
   },
   {
    "duration": 8,
    "start_time": "2022-03-24T00:23:03.449Z"
   },
   {
    "duration": 7,
    "start_time": "2022-03-24T00:23:03.595Z"
   },
   {
    "duration": 4,
    "start_time": "2022-03-24T00:23:04.096Z"
   },
   {
    "duration": 3,
    "start_time": "2022-03-24T00:23:04.127Z"
   },
   {
    "duration": 66,
    "start_time": "2022-03-24T00:23:04.175Z"
   },
   {
    "duration": 17,
    "start_time": "2022-03-24T00:23:04.243Z"
   },
   {
    "duration": 2,
    "start_time": "2022-03-24T00:23:04.262Z"
   },
   {
    "duration": 24,
    "start_time": "2022-03-24T00:23:04.293Z"
   },
   {
    "duration": 21,
    "start_time": "2022-03-24T00:23:04.352Z"
   },
   {
    "duration": 689,
    "start_time": "2022-03-24T00:23:04.402Z"
   },
   {
    "duration": 3,
    "start_time": "2022-03-24T00:23:05.092Z"
   },
   {
    "duration": 24,
    "start_time": "2022-03-24T00:23:05.096Z"
   },
   {
    "duration": 17,
    "start_time": "2022-03-24T00:23:05.122Z"
   },
   {
    "duration": 32,
    "start_time": "2022-03-24T00:23:05.141Z"
   },
   {
    "duration": 32,
    "start_time": "2022-03-24T00:23:05.175Z"
   },
   {
    "duration": 6,
    "start_time": "2022-03-24T00:23:05.208Z"
   },
   {
    "duration": 12,
    "start_time": "2022-03-24T00:23:05.216Z"
   },
   {
    "duration": 8,
    "start_time": "2022-03-24T00:24:30.299Z"
   },
   {
    "duration": 5,
    "start_time": "2022-03-24T00:24:40.590Z"
   },
   {
    "duration": 8,
    "start_time": "2022-03-24T00:37:07.620Z"
   },
   {
    "duration": 8,
    "start_time": "2022-03-24T00:37:18.080Z"
   },
   {
    "duration": 8,
    "start_time": "2022-03-24T00:37:24.218Z"
   },
   {
    "duration": 26,
    "start_time": "2022-03-24T00:38:46.229Z"
   },
   {
    "duration": 24,
    "start_time": "2022-03-24T00:38:57.852Z"
   },
   {
    "duration": 10,
    "start_time": "2022-03-24T00:38:58.983Z"
   },
   {
    "duration": 23,
    "start_time": "2022-03-24T00:38:59.371Z"
   },
   {
    "duration": 25,
    "start_time": "2022-03-24T00:39:03.000Z"
   },
   {
    "duration": 608,
    "start_time": "2022-03-24T00:39:11.190Z"
   },
   {
    "duration": 394,
    "start_time": "2022-03-24T00:39:11.800Z"
   },
   {
    "duration": 3,
    "start_time": "2022-03-24T00:39:12.195Z"
   },
   {
    "duration": 9,
    "start_time": "2022-03-24T00:39:12.200Z"
   },
   {
    "duration": 101,
    "start_time": "2022-03-24T00:39:12.211Z"
   },
   {
    "duration": 4,
    "start_time": "2022-03-24T00:39:12.313Z"
   },
   {
    "duration": 10,
    "start_time": "2022-03-24T00:39:12.319Z"
   },
   {
    "duration": 103,
    "start_time": "2022-03-24T00:39:12.330Z"
   },
   {
    "duration": 5,
    "start_time": "2022-03-24T00:39:12.434Z"
   },
   {
    "duration": 91,
    "start_time": "2022-03-24T00:39:12.442Z"
   },
   {
    "duration": 11,
    "start_time": "2022-03-24T00:39:12.534Z"
   },
   {
    "duration": 61,
    "start_time": "2022-03-24T00:39:12.547Z"
   },
   {
    "duration": 10,
    "start_time": "2022-03-24T00:39:12.610Z"
   },
   {
    "duration": 15,
    "start_time": "2022-03-24T00:39:12.621Z"
   },
   {
    "duration": 32,
    "start_time": "2022-03-24T00:39:12.638Z"
   },
   {
    "duration": 15,
    "start_time": "2022-03-24T00:39:12.671Z"
   },
   {
    "duration": 5,
    "start_time": "2022-03-24T00:39:12.687Z"
   },
   {
    "duration": 9,
    "start_time": "2022-03-24T00:39:12.693Z"
   },
   {
    "duration": 9,
    "start_time": "2022-03-24T00:39:12.703Z"
   },
   {
    "duration": 10,
    "start_time": "2022-03-24T00:39:12.713Z"
   },
   {
    "duration": 4,
    "start_time": "2022-03-24T00:39:12.725Z"
   },
   {
    "duration": 12,
    "start_time": "2022-03-24T00:39:12.730Z"
   },
   {
    "duration": 76,
    "start_time": "2022-03-24T00:39:12.744Z"
   },
   {
    "duration": 19,
    "start_time": "2022-03-24T00:39:12.822Z"
   },
   {
    "duration": 19,
    "start_time": "2022-03-24T00:39:12.843Z"
   },
   {
    "duration": 25,
    "start_time": "2022-03-24T00:39:12.865Z"
   },
   {
    "duration": 20,
    "start_time": "2022-03-24T00:39:12.892Z"
   },
   {
    "duration": 711,
    "start_time": "2022-03-24T00:39:12.916Z"
   },
   {
    "duration": 3,
    "start_time": "2022-03-24T00:39:13.628Z"
   },
   {
    "duration": 32,
    "start_time": "2022-03-24T00:39:13.632Z"
   },
   {
    "duration": 17,
    "start_time": "2022-03-24T00:39:13.666Z"
   },
   {
    "duration": 10,
    "start_time": "2022-03-24T00:39:13.684Z"
   },
   {
    "duration": 89,
    "start_time": "2022-03-24T00:39:13.696Z"
   },
   {
    "duration": 0,
    "start_time": "2022-03-24T00:39:13.786Z"
   },
   {
    "duration": 0,
    "start_time": "2022-03-24T00:39:13.787Z"
   },
   {
    "duration": 0,
    "start_time": "2022-03-24T00:39:13.789Z"
   },
   {
    "duration": 0,
    "start_time": "2022-03-24T00:39:13.789Z"
   },
   {
    "duration": 0,
    "start_time": "2022-03-24T00:39:13.790Z"
   },
   {
    "duration": 0,
    "start_time": "2022-03-24T00:39:13.792Z"
   },
   {
    "duration": 0,
    "start_time": "2022-03-24T00:39:13.793Z"
   },
   {
    "duration": 27,
    "start_time": "2022-03-24T00:39:37.748Z"
   },
   {
    "duration": 31,
    "start_time": "2022-03-24T00:39:40.812Z"
   },
   {
    "duration": 667,
    "start_time": "2022-03-24T00:39:46.733Z"
   },
   {
    "duration": 373,
    "start_time": "2022-03-24T00:39:47.402Z"
   },
   {
    "duration": 2,
    "start_time": "2022-03-24T00:39:47.777Z"
   },
   {
    "duration": 14,
    "start_time": "2022-03-24T00:39:47.781Z"
   },
   {
    "duration": 98,
    "start_time": "2022-03-24T00:39:47.797Z"
   },
   {
    "duration": 5,
    "start_time": "2022-03-24T00:39:47.896Z"
   },
   {
    "duration": 5,
    "start_time": "2022-03-24T00:39:47.902Z"
   },
   {
    "duration": 87,
    "start_time": "2022-03-24T00:39:47.909Z"
   },
   {
    "duration": 3,
    "start_time": "2022-03-24T00:39:47.998Z"
   },
   {
    "duration": 86,
    "start_time": "2022-03-24T00:39:48.004Z"
   },
   {
    "duration": 11,
    "start_time": "2022-03-24T00:39:48.092Z"
   },
   {
    "duration": 59,
    "start_time": "2022-03-24T00:39:48.105Z"
   },
   {
    "duration": 11,
    "start_time": "2022-03-24T00:39:48.165Z"
   },
   {
    "duration": 9,
    "start_time": "2022-03-24T00:39:48.178Z"
   },
   {
    "duration": 28,
    "start_time": "2022-03-24T00:39:48.188Z"
   },
   {
    "duration": 15,
    "start_time": "2022-03-24T00:39:48.217Z"
   },
   {
    "duration": 2,
    "start_time": "2022-03-24T00:39:48.233Z"
   },
   {
    "duration": 27,
    "start_time": "2022-03-24T00:39:48.237Z"
   },
   {
    "duration": 8,
    "start_time": "2022-03-24T00:39:48.265Z"
   },
   {
    "duration": 6,
    "start_time": "2022-03-24T00:39:48.275Z"
   },
   {
    "duration": 6,
    "start_time": "2022-03-24T00:39:48.282Z"
   },
   {
    "duration": 6,
    "start_time": "2022-03-24T00:39:48.289Z"
   },
   {
    "duration": 81,
    "start_time": "2022-03-24T00:39:48.296Z"
   },
   {
    "duration": 16,
    "start_time": "2022-03-24T00:39:48.379Z"
   },
   {
    "duration": 5,
    "start_time": "2022-03-24T00:39:48.396Z"
   },
   {
    "duration": 33,
    "start_time": "2022-03-24T00:39:48.403Z"
   },
   {
    "duration": 34,
    "start_time": "2022-03-24T00:39:48.437Z"
   },
   {
    "duration": 662,
    "start_time": "2022-03-24T00:39:48.475Z"
   },
   {
    "duration": 3,
    "start_time": "2022-03-24T00:39:49.138Z"
   },
   {
    "duration": 29,
    "start_time": "2022-03-24T00:39:49.142Z"
   },
   {
    "duration": 17,
    "start_time": "2022-03-24T00:39:49.173Z"
   },
   {
    "duration": 11,
    "start_time": "2022-03-24T00:39:49.191Z"
   },
   {
    "duration": 32,
    "start_time": "2022-03-24T00:39:49.204Z"
   },
   {
    "duration": 28,
    "start_time": "2022-03-24T00:39:49.237Z"
   },
   {
    "duration": 387,
    "start_time": "2022-03-24T00:39:49.267Z"
   },
   {
    "duration": 2,
    "start_time": "2022-03-24T00:39:49.656Z"
   },
   {
    "duration": 100,
    "start_time": "2022-03-24T00:39:49.663Z"
   },
   {
    "duration": 0,
    "start_time": "2022-03-24T00:39:49.764Z"
   },
   {
    "duration": 0,
    "start_time": "2022-03-24T00:39:49.766Z"
   },
   {
    "duration": 0,
    "start_time": "2022-03-24T00:39:49.767Z"
   },
   {
    "duration": 8,
    "start_time": "2022-03-24T00:40:04.649Z"
   },
   {
    "duration": 662,
    "start_time": "2022-03-24T00:40:11.450Z"
   },
   {
    "duration": 390,
    "start_time": "2022-03-24T00:40:12.115Z"
   },
   {
    "duration": 3,
    "start_time": "2022-03-24T00:40:12.507Z"
   },
   {
    "duration": 84,
    "start_time": "2022-03-24T00:40:12.513Z"
   },
   {
    "duration": 219,
    "start_time": "2022-03-24T00:40:12.600Z"
   },
   {
    "duration": 5,
    "start_time": "2022-03-24T00:40:12.821Z"
   },
   {
    "duration": 94,
    "start_time": "2022-03-24T00:40:12.827Z"
   },
   {
    "duration": 171,
    "start_time": "2022-03-24T00:40:12.923Z"
   },
   {
    "duration": 4,
    "start_time": "2022-03-24T00:40:13.096Z"
   },
   {
    "duration": 186,
    "start_time": "2022-03-24T00:40:13.103Z"
   },
   {
    "duration": 21,
    "start_time": "2022-03-24T00:40:13.291Z"
   },
   {
    "duration": 120,
    "start_time": "2022-03-24T00:40:13.313Z"
   },
   {
    "duration": 64,
    "start_time": "2022-03-24T00:40:13.435Z"
   },
   {
    "duration": 14,
    "start_time": "2022-03-24T00:40:13.500Z"
   },
   {
    "duration": 19,
    "start_time": "2022-03-24T00:40:13.515Z"
   },
   {
    "duration": 15,
    "start_time": "2022-03-24T00:40:13.536Z"
   },
   {
    "duration": 3,
    "start_time": "2022-03-24T00:40:13.552Z"
   },
   {
    "duration": 10,
    "start_time": "2022-03-24T00:40:13.556Z"
   },
   {
    "duration": 7,
    "start_time": "2022-03-24T00:40:13.568Z"
   },
   {
    "duration": 6,
    "start_time": "2022-03-24T00:40:13.577Z"
   },
   {
    "duration": 5,
    "start_time": "2022-03-24T00:40:13.584Z"
   },
   {
    "duration": 4,
    "start_time": "2022-03-24T00:40:13.590Z"
   },
   {
    "duration": 80,
    "start_time": "2022-03-24T00:40:13.596Z"
   },
   {
    "duration": 17,
    "start_time": "2022-03-24T00:40:13.677Z"
   },
   {
    "duration": 5,
    "start_time": "2022-03-24T00:40:13.696Z"
   },
   {
    "duration": 26,
    "start_time": "2022-03-24T00:40:13.702Z"
   },
   {
    "duration": 42,
    "start_time": "2022-03-24T00:40:13.730Z"
   },
   {
    "duration": 677,
    "start_time": "2022-03-24T00:40:13.776Z"
   },
   {
    "duration": 3,
    "start_time": "2022-03-24T00:40:14.462Z"
   },
   {
    "duration": 28,
    "start_time": "2022-03-24T00:40:14.466Z"
   },
   {
    "duration": 17,
    "start_time": "2022-03-24T00:40:14.495Z"
   },
   {
    "duration": 15,
    "start_time": "2022-03-24T00:40:14.513Z"
   },
   {
    "duration": 41,
    "start_time": "2022-03-24T00:40:14.529Z"
   },
   {
    "duration": 3,
    "start_time": "2022-03-24T00:40:14.571Z"
   },
   {
    "duration": 385,
    "start_time": "2022-03-24T00:40:14.575Z"
   },
   {
    "duration": 2,
    "start_time": "2022-03-24T00:40:14.963Z"
   },
   {
    "duration": 8,
    "start_time": "2022-03-24T00:40:14.967Z"
   },
   {
    "duration": 110,
    "start_time": "2022-03-24T00:40:14.977Z"
   },
   {
    "duration": 0,
    "start_time": "2022-03-24T00:40:15.088Z"
   },
   {
    "duration": 0,
    "start_time": "2022-03-24T00:40:15.089Z"
   },
   {
    "duration": 619,
    "start_time": "2022-03-24T00:40:23.019Z"
   },
   {
    "duration": 368,
    "start_time": "2022-03-24T00:40:23.640Z"
   },
   {
    "duration": 3,
    "start_time": "2022-03-24T00:40:24.009Z"
   },
   {
    "duration": 13,
    "start_time": "2022-03-24T00:40:24.015Z"
   },
   {
    "duration": 101,
    "start_time": "2022-03-24T00:40:24.029Z"
   },
   {
    "duration": 4,
    "start_time": "2022-03-24T00:40:24.132Z"
   },
   {
    "duration": 5,
    "start_time": "2022-03-24T00:40:24.138Z"
   },
   {
    "duration": 85,
    "start_time": "2022-03-24T00:40:24.144Z"
   },
   {
    "duration": 3,
    "start_time": "2022-03-24T00:40:24.231Z"
   },
   {
    "duration": 88,
    "start_time": "2022-03-24T00:40:24.237Z"
   },
   {
    "duration": 10,
    "start_time": "2022-03-24T00:40:24.326Z"
   },
   {
    "duration": 60,
    "start_time": "2022-03-24T00:40:24.337Z"
   },
   {
    "duration": 9,
    "start_time": "2022-03-24T00:40:24.399Z"
   },
   {
    "duration": 11,
    "start_time": "2022-03-24T00:40:24.409Z"
   },
   {
    "duration": 22,
    "start_time": "2022-03-24T00:40:24.421Z"
   },
   {
    "duration": 33,
    "start_time": "2022-03-24T00:40:24.444Z"
   },
   {
    "duration": 3,
    "start_time": "2022-03-24T00:40:24.478Z"
   },
   {
    "duration": 8,
    "start_time": "2022-03-24T00:40:24.483Z"
   },
   {
    "duration": 7,
    "start_time": "2022-03-24T00:40:24.493Z"
   },
   {
    "duration": 14,
    "start_time": "2022-03-24T00:40:24.501Z"
   },
   {
    "duration": 5,
    "start_time": "2022-03-24T00:40:24.516Z"
   },
   {
    "duration": 8,
    "start_time": "2022-03-24T00:40:24.522Z"
   },
   {
    "duration": 83,
    "start_time": "2022-03-24T00:40:24.531Z"
   },
   {
    "duration": 17,
    "start_time": "2022-03-24T00:40:24.616Z"
   },
   {
    "duration": 4,
    "start_time": "2022-03-24T00:40:24.634Z"
   },
   {
    "duration": 37,
    "start_time": "2022-03-24T00:40:24.640Z"
   },
   {
    "duration": 19,
    "start_time": "2022-03-24T00:40:24.679Z"
   },
   {
    "duration": 669,
    "start_time": "2022-03-24T00:40:24.701Z"
   },
   {
    "duration": 2,
    "start_time": "2022-03-24T00:40:25.372Z"
   },
   {
    "duration": 27,
    "start_time": "2022-03-24T00:40:25.375Z"
   },
   {
    "duration": 16,
    "start_time": "2022-03-24T00:40:25.403Z"
   },
   {
    "duration": 11,
    "start_time": "2022-03-24T00:40:25.421Z"
   },
   {
    "duration": 56,
    "start_time": "2022-03-24T00:40:25.434Z"
   },
   {
    "duration": 4,
    "start_time": "2022-03-24T00:40:25.492Z"
   },
   {
    "duration": 366,
    "start_time": "2022-03-24T00:40:25.498Z"
   },
   {
    "duration": 2,
    "start_time": "2022-03-24T00:40:25.866Z"
   },
   {
    "duration": 8,
    "start_time": "2022-03-24T00:40:25.869Z"
   },
   {
    "duration": 97,
    "start_time": "2022-03-24T00:40:25.879Z"
   },
   {
    "duration": 0,
    "start_time": "2022-03-24T00:40:25.978Z"
   },
   {
    "duration": 0,
    "start_time": "2022-03-24T00:40:25.979Z"
   },
   {
    "duration": 4,
    "start_time": "2022-03-24T00:40:35.108Z"
   },
   {
    "duration": 624,
    "start_time": "2022-03-24T00:40:41.592Z"
   },
   {
    "duration": 389,
    "start_time": "2022-03-24T00:40:42.219Z"
   },
   {
    "duration": 3,
    "start_time": "2022-03-24T00:40:42.609Z"
   },
   {
    "duration": 8,
    "start_time": "2022-03-24T00:40:42.614Z"
   },
   {
    "duration": 101,
    "start_time": "2022-03-24T00:40:42.623Z"
   },
   {
    "duration": 5,
    "start_time": "2022-03-24T00:40:42.725Z"
   },
   {
    "duration": 6,
    "start_time": "2022-03-24T00:40:42.731Z"
   },
   {
    "duration": 79,
    "start_time": "2022-03-24T00:40:42.738Z"
   },
   {
    "duration": 4,
    "start_time": "2022-03-24T00:40:42.819Z"
   },
   {
    "duration": 93,
    "start_time": "2022-03-24T00:40:42.825Z"
   },
   {
    "duration": 10,
    "start_time": "2022-03-24T00:40:42.919Z"
   },
   {
    "duration": 56,
    "start_time": "2022-03-24T00:40:42.930Z"
   },
   {
    "duration": 10,
    "start_time": "2022-03-24T00:40:42.987Z"
   },
   {
    "duration": 12,
    "start_time": "2022-03-24T00:40:42.998Z"
   },
   {
    "duration": 22,
    "start_time": "2022-03-24T00:40:43.012Z"
   },
   {
    "duration": 29,
    "start_time": "2022-03-24T00:40:43.035Z"
   },
   {
    "duration": 2,
    "start_time": "2022-03-24T00:40:43.066Z"
   },
   {
    "duration": 14,
    "start_time": "2022-03-24T00:40:43.069Z"
   },
   {
    "duration": 7,
    "start_time": "2022-03-24T00:40:43.086Z"
   },
   {
    "duration": 7,
    "start_time": "2022-03-24T00:40:43.094Z"
   },
   {
    "duration": 4,
    "start_time": "2022-03-24T00:40:43.102Z"
   },
   {
    "duration": 8,
    "start_time": "2022-03-24T00:40:43.107Z"
   },
   {
    "duration": 78,
    "start_time": "2022-03-24T00:40:43.116Z"
   },
   {
    "duration": 17,
    "start_time": "2022-03-24T00:40:43.196Z"
   },
   {
    "duration": 4,
    "start_time": "2022-03-24T00:40:43.215Z"
   },
   {
    "duration": 30,
    "start_time": "2022-03-24T00:40:43.220Z"
   },
   {
    "duration": 29,
    "start_time": "2022-03-24T00:40:43.251Z"
   },
   {
    "duration": 697,
    "start_time": "2022-03-24T00:40:43.284Z"
   },
   {
    "duration": 3,
    "start_time": "2022-03-24T00:40:43.983Z"
   },
   {
    "duration": 22,
    "start_time": "2022-03-24T00:40:43.988Z"
   },
   {
    "duration": 17,
    "start_time": "2022-03-24T00:40:44.012Z"
   },
   {
    "duration": 39,
    "start_time": "2022-03-24T00:40:44.031Z"
   },
   {
    "duration": 31,
    "start_time": "2022-03-24T00:40:44.072Z"
   },
   {
    "duration": 11,
    "start_time": "2022-03-24T00:40:44.105Z"
   },
   {
    "duration": 435,
    "start_time": "2022-03-24T00:40:44.118Z"
   },
   {
    "duration": 8,
    "start_time": "2022-03-24T00:40:44.555Z"
   },
   {
    "duration": 12,
    "start_time": "2022-03-24T00:40:44.565Z"
   },
   {
    "duration": 6,
    "start_time": "2022-03-24T00:40:44.579Z"
   },
   {
    "duration": 6,
    "start_time": "2022-03-24T00:40:44.587Z"
   },
   {
    "duration": 4,
    "start_time": "2022-03-24T00:40:44.595Z"
   },
   {
    "duration": 126,
    "start_time": "2022-04-04T11:16:05.055Z"
   },
   {
    "duration": 139,
    "start_time": "2022-04-04T11:25:32.488Z"
   },
   {
    "duration": 852,
    "start_time": "2022-04-04T11:30:04.481Z"
   },
   {
    "duration": 514,
    "start_time": "2022-04-04T11:30:05.336Z"
   },
   {
    "duration": 3,
    "start_time": "2022-04-04T11:30:05.853Z"
   },
   {
    "duration": 13,
    "start_time": "2022-04-04T11:30:05.858Z"
   },
   {
    "duration": 207,
    "start_time": "2022-04-04T11:30:05.875Z"
   },
   {
    "duration": 9,
    "start_time": "2022-04-04T11:30:06.086Z"
   },
   {
    "duration": 5,
    "start_time": "2022-04-04T11:30:06.098Z"
   },
   {
    "duration": 141,
    "start_time": "2022-04-04T11:30:06.105Z"
   },
   {
    "duration": 6,
    "start_time": "2022-04-04T11:30:06.248Z"
   },
   {
    "duration": 130,
    "start_time": "2022-04-04T11:30:06.256Z"
   },
   {
    "duration": 13,
    "start_time": "2022-04-04T11:30:06.389Z"
   },
   {
    "duration": 96,
    "start_time": "2022-04-04T11:30:06.404Z"
   },
   {
    "duration": 15,
    "start_time": "2022-04-04T11:30:06.502Z"
   },
   {
    "duration": 15,
    "start_time": "2022-04-04T11:30:06.522Z"
   },
   {
    "duration": 59,
    "start_time": "2022-04-04T11:30:06.539Z"
   },
   {
    "duration": 24,
    "start_time": "2022-04-04T11:30:06.600Z"
   },
   {
    "duration": 4,
    "start_time": "2022-04-04T11:30:06.627Z"
   },
   {
    "duration": 49,
    "start_time": "2022-04-04T11:30:06.633Z"
   },
   {
    "duration": 17,
    "start_time": "2022-04-04T11:30:06.685Z"
   },
   {
    "duration": 11,
    "start_time": "2022-04-04T11:30:06.705Z"
   },
   {
    "duration": 5,
    "start_time": "2022-04-04T11:30:06.719Z"
   },
   {
    "duration": 41,
    "start_time": "2022-04-04T11:30:06.726Z"
   },
   {
    "duration": 128,
    "start_time": "2022-04-04T11:30:06.769Z"
   },
   {
    "duration": 28,
    "start_time": "2022-04-04T11:30:06.900Z"
   },
   {
    "duration": 4,
    "start_time": "2022-04-04T11:30:06.930Z"
   },
   {
    "duration": 70,
    "start_time": "2022-04-04T11:30:06.936Z"
   },
   {
    "duration": 33,
    "start_time": "2022-04-04T11:30:07.008Z"
   },
   {
    "duration": 1216,
    "start_time": "2022-04-04T11:30:07.043Z"
   },
   {
    "duration": 12,
    "start_time": "2022-04-04T11:30:08.261Z"
   },
   {
    "duration": 38,
    "start_time": "2022-04-04T11:30:08.278Z"
   },
   {
    "duration": 28,
    "start_time": "2022-04-04T11:30:08.318Z"
   },
   {
    "duration": 41,
    "start_time": "2022-04-04T11:30:08.348Z"
   },
   {
    "duration": 95,
    "start_time": "2022-04-04T11:30:08.392Z"
   },
   {
    "duration": 3,
    "start_time": "2022-04-04T11:30:08.490Z"
   },
   {
    "duration": 546,
    "start_time": "2022-04-04T11:30:08.496Z"
   },
   {
    "duration": 4,
    "start_time": "2022-04-04T11:30:09.044Z"
   },
   {
    "duration": 27,
    "start_time": "2022-04-04T11:30:09.052Z"
   },
   {
    "duration": 9,
    "start_time": "2022-04-04T11:30:09.082Z"
   },
   {
    "duration": 7,
    "start_time": "2022-04-04T11:30:09.093Z"
   },
   {
    "duration": 15,
    "start_time": "2022-04-04T11:30:09.102Z"
   },
   {
    "duration": 16,
    "start_time": "2022-04-04T11:30:15.181Z"
   },
   {
    "duration": 96,
    "start_time": "2022-04-04T11:31:18.701Z"
   },
   {
    "duration": 7,
    "start_time": "2022-04-04T11:32:48.464Z"
   },
   {
    "duration": 27,
    "start_time": "2022-04-04T12:12:27.454Z"
   },
   {
    "duration": 27,
    "start_time": "2022-04-04T12:12:31.877Z"
   },
   {
    "duration": 27,
    "start_time": "2022-04-04T12:12:33.342Z"
   },
   {
    "duration": 157,
    "start_time": "2022-04-04T12:12:47.911Z"
   },
   {
    "duration": 6,
    "start_time": "2022-04-04T12:12:59.191Z"
   },
   {
    "duration": 51,
    "start_time": "2022-04-04T12:13:23.667Z"
   },
   {
    "duration": 16,
    "start_time": "2022-04-04T12:14:45.980Z"
   },
   {
    "duration": 62,
    "start_time": "2022-04-04T12:15:25.166Z"
   },
   {
    "duration": 72,
    "start_time": "2022-04-04T12:17:24.706Z"
   },
   {
    "duration": 66,
    "start_time": "2022-04-04T12:17:36.938Z"
   },
   {
    "duration": 65,
    "start_time": "2022-04-04T12:18:25.196Z"
   },
   {
    "duration": 59,
    "start_time": "2022-04-04T12:18:35.180Z"
   },
   {
    "duration": 64,
    "start_time": "2022-04-04T12:18:40.516Z"
   },
   {
    "duration": 24,
    "start_time": "2022-04-04T12:21:11.874Z"
   },
   {
    "duration": 26,
    "start_time": "2022-04-04T12:21:33.267Z"
   },
   {
    "duration": 26,
    "start_time": "2022-04-04T12:22:14.646Z"
   },
   {
    "duration": 26,
    "start_time": "2022-04-04T12:22:18.789Z"
   },
   {
    "duration": 26,
    "start_time": "2022-04-04T12:22:33.781Z"
   },
   {
    "duration": 27,
    "start_time": "2022-04-04T12:22:51.181Z"
   },
   {
    "duration": 30,
    "start_time": "2022-04-04T12:23:08.774Z"
   },
   {
    "duration": 33,
    "start_time": "2022-04-04T12:23:29.494Z"
   },
   {
    "duration": 31,
    "start_time": "2022-04-04T12:23:34.615Z"
   },
   {
    "duration": 32,
    "start_time": "2022-04-04T12:24:47.722Z"
   },
   {
    "duration": 106,
    "start_time": "2022-04-04T12:27:15.983Z"
   },
   {
    "duration": 791,
    "start_time": "2022-04-04T12:33:52.080Z"
   },
   {
    "duration": 501,
    "start_time": "2022-04-04T12:33:52.874Z"
   },
   {
    "duration": 4,
    "start_time": "2022-04-04T12:33:53.378Z"
   },
   {
    "duration": 18,
    "start_time": "2022-04-04T12:33:53.384Z"
   },
   {
    "duration": 158,
    "start_time": "2022-04-04T12:33:53.404Z"
   },
   {
    "duration": 6,
    "start_time": "2022-04-04T12:33:53.568Z"
   },
   {
    "duration": 9,
    "start_time": "2022-04-04T12:33:53.576Z"
   },
   {
    "duration": 129,
    "start_time": "2022-04-04T12:33:53.587Z"
   },
   {
    "duration": 5,
    "start_time": "2022-04-04T12:33:53.718Z"
   },
   {
    "duration": 136,
    "start_time": "2022-04-04T12:33:53.725Z"
   },
   {
    "duration": 13,
    "start_time": "2022-04-04T12:33:53.863Z"
   },
   {
    "duration": 67,
    "start_time": "2022-04-04T12:33:53.878Z"
   },
   {
    "duration": 30,
    "start_time": "2022-04-04T12:33:53.947Z"
   },
   {
    "duration": 13,
    "start_time": "2022-04-04T12:33:53.982Z"
   },
   {
    "duration": 30,
    "start_time": "2022-04-04T12:33:53.997Z"
   },
   {
    "duration": 59,
    "start_time": "2022-04-04T12:33:54.029Z"
   },
   {
    "duration": 3,
    "start_time": "2022-04-04T12:33:54.090Z"
   },
   {
    "duration": 10,
    "start_time": "2022-04-04T12:33:54.095Z"
   },
   {
    "duration": 12,
    "start_time": "2022-04-04T12:33:54.107Z"
   },
   {
    "duration": 46,
    "start_time": "2022-04-04T12:33:54.121Z"
   },
   {
    "duration": 4,
    "start_time": "2022-04-04T12:33:54.170Z"
   },
   {
    "duration": 4,
    "start_time": "2022-04-04T12:33:54.176Z"
   },
   {
    "duration": 148,
    "start_time": "2022-04-04T12:33:54.182Z"
   },
   {
    "duration": 35,
    "start_time": "2022-04-04T12:33:54.332Z"
   },
   {
    "duration": 9,
    "start_time": "2022-04-04T12:33:54.369Z"
   },
   {
    "duration": 5,
    "start_time": "2022-04-04T12:33:54.380Z"
   },
   {
    "duration": 40,
    "start_time": "2022-04-04T12:33:54.387Z"
   },
   {
    "duration": 61,
    "start_time": "2022-04-04T12:33:54.429Z"
   },
   {
    "duration": 1185,
    "start_time": "2022-04-04T12:33:54.493Z"
   },
   {
    "duration": 4,
    "start_time": "2022-04-04T12:33:55.680Z"
   },
   {
    "duration": 32,
    "start_time": "2022-04-04T12:33:55.685Z"
   },
   {
    "duration": 56,
    "start_time": "2022-04-04T12:33:55.720Z"
   },
   {
    "duration": 16,
    "start_time": "2022-04-04T12:33:55.778Z"
   },
   {
    "duration": 82,
    "start_time": "2022-04-04T12:33:55.796Z"
   },
   {
    "duration": 65,
    "start_time": "2022-04-04T12:33:55.880Z"
   },
   {
    "duration": 32,
    "start_time": "2022-04-04T12:33:55.967Z"
   },
   {
    "duration": 33,
    "start_time": "2022-04-04T12:33:56.002Z"
   },
   {
    "duration": 30,
    "start_time": "2022-04-04T12:33:56.038Z"
   },
   {
    "duration": 498,
    "start_time": "2022-04-04T12:33:56.071Z"
   },
   {
    "duration": 4,
    "start_time": "2022-04-04T12:33:56.571Z"
   },
   {
    "duration": 11,
    "start_time": "2022-04-04T12:33:56.582Z"
   },
   {
    "duration": 7,
    "start_time": "2022-04-04T12:33:56.596Z"
   },
   {
    "duration": 5,
    "start_time": "2022-04-04T12:33:56.605Z"
   },
   {
    "duration": 10,
    "start_time": "2022-04-04T12:33:56.612Z"
   },
   {
    "duration": 843,
    "start_time": "2022-04-04T14:29:42.336Z"
   },
   {
    "duration": 413,
    "start_time": "2022-04-04T14:29:43.182Z"
   },
   {
    "duration": 3,
    "start_time": "2022-04-04T14:29:43.597Z"
   },
   {
    "duration": 8,
    "start_time": "2022-04-04T14:29:43.602Z"
   },
   {
    "duration": 105,
    "start_time": "2022-04-04T14:29:43.612Z"
   },
   {
    "duration": 5,
    "start_time": "2022-04-04T14:29:43.719Z"
   },
   {
    "duration": 8,
    "start_time": "2022-04-04T14:29:43.725Z"
   },
   {
    "duration": 82,
    "start_time": "2022-04-04T14:29:43.734Z"
   },
   {
    "duration": 4,
    "start_time": "2022-04-04T14:29:43.818Z"
   },
   {
    "duration": 92,
    "start_time": "2022-04-04T14:29:43.825Z"
   },
   {
    "duration": 21,
    "start_time": "2022-04-04T14:29:43.919Z"
   },
   {
    "duration": 120,
    "start_time": "2022-04-04T14:29:43.942Z"
   },
   {
    "duration": 11,
    "start_time": "2022-04-04T14:29:44.064Z"
   },
   {
    "duration": 11,
    "start_time": "2022-04-04T14:29:44.076Z"
   },
   {
    "duration": 23,
    "start_time": "2022-04-04T14:29:44.089Z"
   },
   {
    "duration": 38,
    "start_time": "2022-04-04T14:29:44.114Z"
   },
   {
    "duration": 2,
    "start_time": "2022-04-04T14:29:44.154Z"
   },
   {
    "duration": 11,
    "start_time": "2022-04-04T14:29:44.158Z"
   },
   {
    "duration": 18,
    "start_time": "2022-04-04T14:29:44.171Z"
   },
   {
    "duration": 9,
    "start_time": "2022-04-04T14:29:44.191Z"
   },
   {
    "duration": 8,
    "start_time": "2022-04-04T14:29:44.202Z"
   },
   {
    "duration": 9,
    "start_time": "2022-04-04T14:29:44.212Z"
   },
   {
    "duration": 67,
    "start_time": "2022-04-04T14:29:44.238Z"
   },
   {
    "duration": 31,
    "start_time": "2022-04-04T14:29:44.307Z"
   },
   {
    "duration": 4,
    "start_time": "2022-04-04T14:29:44.340Z"
   },
   {
    "duration": 6,
    "start_time": "2022-04-04T14:29:44.346Z"
   },
   {
    "duration": 31,
    "start_time": "2022-04-04T14:29:44.353Z"
   },
   {
    "duration": 22,
    "start_time": "2022-04-04T14:29:44.387Z"
   },
   {
    "duration": 774,
    "start_time": "2022-04-04T14:29:44.412Z"
   },
   {
    "duration": 4,
    "start_time": "2022-04-04T14:29:45.188Z"
   },
   {
    "duration": 28,
    "start_time": "2022-04-04T14:29:45.194Z"
   },
   {
    "duration": 34,
    "start_time": "2022-04-04T14:29:45.224Z"
   },
   {
    "duration": 13,
    "start_time": "2022-04-04T14:29:45.260Z"
   },
   {
    "duration": 35,
    "start_time": "2022-04-04T14:29:45.275Z"
   },
   {
    "duration": 42,
    "start_time": "2022-04-04T14:29:45.339Z"
   },
   {
    "duration": 22,
    "start_time": "2022-04-04T14:29:45.383Z"
   },
   {
    "duration": 46,
    "start_time": "2022-04-04T14:29:45.406Z"
   },
   {
    "duration": 2,
    "start_time": "2022-04-04T14:29:45.454Z"
   },
   {
    "duration": 440,
    "start_time": "2022-04-04T14:29:45.458Z"
   },
   {
    "duration": 3,
    "start_time": "2022-04-04T14:29:45.899Z"
   },
   {
    "duration": 9,
    "start_time": "2022-04-04T14:29:45.904Z"
   },
   {
    "duration": 23,
    "start_time": "2022-04-04T14:29:45.915Z"
   },
   {
    "duration": 2,
    "start_time": "2022-04-04T14:29:45.940Z"
   },
   {
    "duration": 10,
    "start_time": "2022-04-04T14:29:45.944Z"
   },
   {
    "duration": 7,
    "start_time": "2022-04-04T14:35:59.494Z"
   },
   {
    "duration": 7,
    "start_time": "2022-04-04T14:36:09.742Z"
   },
   {
    "duration": 8,
    "start_time": "2022-04-04T14:37:47.298Z"
   },
   {
    "duration": 241,
    "start_time": "2022-04-04T14:37:48.729Z"
   },
   {
    "duration": 9,
    "start_time": "2022-04-04T14:38:02.586Z"
   },
   {
    "duration": 129,
    "start_time": "2022-04-04T14:38:03.761Z"
   },
   {
    "duration": 7,
    "start_time": "2022-04-04T14:38:08.043Z"
   },
   {
    "duration": 219,
    "start_time": "2022-04-04T14:38:08.283Z"
   },
   {
    "duration": 7,
    "start_time": "2022-04-04T14:39:00.646Z"
   },
   {
    "duration": 5,
    "start_time": "2022-04-04T14:39:04.402Z"
   },
   {
    "duration": 5,
    "start_time": "2022-04-04T14:39:13.366Z"
   },
   {
    "duration": 12,
    "start_time": "2022-04-04T14:39:20.972Z"
   },
   {
    "duration": 7,
    "start_time": "2022-04-04T14:39:34.268Z"
   },
   {
    "duration": 209,
    "start_time": "2022-04-04T14:39:35.064Z"
   },
   {
    "duration": 7,
    "start_time": "2022-04-04T14:39:47.226Z"
   },
   {
    "duration": 222,
    "start_time": "2022-04-04T14:39:47.516Z"
   },
   {
    "duration": 5,
    "start_time": "2022-04-04T14:44:13.639Z"
   },
   {
    "duration": 160,
    "start_time": "2022-04-04T14:46:18.919Z"
   },
   {
    "duration": 77,
    "start_time": "2022-04-04T14:46:32.328Z"
   },
   {
    "duration": 132,
    "start_time": "2022-04-04T14:46:58.904Z"
   },
   {
    "duration": 73,
    "start_time": "2022-04-04T14:53:04.321Z"
   },
   {
    "duration": 101,
    "start_time": "2022-04-04T14:53:08.616Z"
   },
   {
    "duration": 3,
    "start_time": "2022-04-04T14:53:08.810Z"
   },
   {
    "duration": 73,
    "start_time": "2022-04-04T14:53:10.808Z"
   },
   {
    "duration": 8,
    "start_time": "2022-04-04T14:53:13.224Z"
   },
   {
    "duration": 80,
    "start_time": "2022-04-04T14:54:44.829Z"
   },
   {
    "duration": 66,
    "start_time": "2022-04-04T14:55:33.870Z"
   },
   {
    "duration": 14,
    "start_time": "2022-04-04T14:55:43.410Z"
   },
   {
    "duration": 46,
    "start_time": "2022-04-04T14:56:12.728Z"
   },
   {
    "duration": 10,
    "start_time": "2022-04-04T14:56:13.785Z"
   },
   {
    "duration": 45,
    "start_time": "2022-04-04T14:56:21.565Z"
   },
   {
    "duration": 11,
    "start_time": "2022-04-04T14:56:23.699Z"
   },
   {
    "duration": 12,
    "start_time": "2022-04-04T14:56:31.945Z"
   },
   {
    "duration": 11,
    "start_time": "2022-04-04T14:57:07.756Z"
   },
   {
    "duration": 13,
    "start_time": "2022-04-04T14:57:27.253Z"
   },
   {
    "duration": 13,
    "start_time": "2022-04-04T14:57:31.943Z"
   },
   {
    "duration": 49,
    "start_time": "2022-04-04T14:57:38.993Z"
   },
   {
    "duration": 10,
    "start_time": "2022-04-04T14:57:40.282Z"
   },
   {
    "duration": 11,
    "start_time": "2022-04-04T14:58:49.193Z"
   },
   {
    "duration": 42,
    "start_time": "2022-04-04T14:59:06.165Z"
   },
   {
    "duration": 9,
    "start_time": "2022-04-04T14:59:06.753Z"
   },
   {
    "duration": 45,
    "start_time": "2022-04-04T14:59:42.342Z"
   },
   {
    "duration": 10,
    "start_time": "2022-04-04T14:59:42.735Z"
   },
   {
    "duration": 46,
    "start_time": "2022-04-04T15:00:24.880Z"
   },
   {
    "duration": 11,
    "start_time": "2022-04-04T15:00:27.882Z"
   },
   {
    "duration": 45,
    "start_time": "2022-04-04T15:00:52.598Z"
   },
   {
    "duration": 9,
    "start_time": "2022-04-04T15:00:53.355Z"
   },
   {
    "duration": 11,
    "start_time": "2022-04-04T15:01:16.513Z"
   },
   {
    "duration": 58,
    "start_time": "2022-04-04T15:01:48.808Z"
   },
   {
    "duration": 12,
    "start_time": "2022-04-04T15:01:49.793Z"
   },
   {
    "duration": 59,
    "start_time": "2022-04-04T15:02:13.371Z"
   },
   {
    "duration": 12,
    "start_time": "2022-04-04T15:02:39.933Z"
   },
   {
    "duration": 35,
    "start_time": "2022-04-04T15:02:46.453Z"
   },
   {
    "duration": 3,
    "start_time": "2022-04-04T15:02:46.636Z"
   },
   {
    "duration": 148,
    "start_time": "2022-04-04T15:02:47.696Z"
   },
   {
    "duration": 13,
    "start_time": "2022-04-04T15:02:49.239Z"
   },
   {
    "duration": 8,
    "start_time": "2022-04-04T15:03:20.336Z"
   },
   {
    "duration": 13,
    "start_time": "2022-04-04T15:03:23.697Z"
   },
   {
    "duration": 3,
    "start_time": "2022-04-04T15:03:31.097Z"
   },
   {
    "duration": 380,
    "start_time": "2022-04-04T15:03:31.332Z"
   },
   {
    "duration": 3,
    "start_time": "2022-04-04T15:03:31.780Z"
   },
   {
    "duration": 12,
    "start_time": "2022-04-04T15:03:37.248Z"
   },
   {
    "duration": 114,
    "start_time": "2022-04-04T15:04:49.019Z"
   },
   {
    "duration": 20,
    "start_time": "2022-04-04T15:05:06.503Z"
   },
   {
    "duration": 17,
    "start_time": "2022-04-04T15:05:09.658Z"
   },
   {
    "duration": 49,
    "start_time": "2022-04-04T15:05:40.475Z"
   },
   {
    "duration": 648,
    "start_time": "2022-04-04T15:05:42.542Z"
   },
   {
    "duration": 378,
    "start_time": "2022-04-04T15:05:43.192Z"
   },
   {
    "duration": 3,
    "start_time": "2022-04-04T15:05:44.250Z"
   },
   {
    "duration": 17,
    "start_time": "2022-04-04T15:05:57.081Z"
   },
   {
    "duration": 8,
    "start_time": "2022-04-04T15:06:03.800Z"
   },
   {
    "duration": 247,
    "start_time": "2022-04-04T15:06:04.223Z"
   },
   {
    "duration": 5,
    "start_time": "2022-04-04T15:06:04.703Z"
   },
   {
    "duration": 2,
    "start_time": "2022-04-04T15:06:07.140Z"
   },
   {
    "duration": 68,
    "start_time": "2022-04-04T15:06:09.754Z"
   },
   {
    "duration": 2,
    "start_time": "2022-04-04T15:06:10.122Z"
   },
   {
    "duration": 79,
    "start_time": "2022-04-04T15:06:12.941Z"
   },
   {
    "duration": 6,
    "start_time": "2022-04-04T15:06:15.990Z"
   },
   {
    "duration": 47,
    "start_time": "2022-04-04T15:06:18.868Z"
   },
   {
    "duration": 19,
    "start_time": "2022-04-04T15:06:20.419Z"
   },
   {
    "duration": 16,
    "start_time": "2022-04-04T15:06:21.894Z"
   },
   {
    "duration": 2,
    "start_time": "2022-04-04T15:06:29.382Z"
   },
   {
    "duration": 8,
    "start_time": "2022-04-04T15:06:29.510Z"
   },
   {
    "duration": 623,
    "start_time": "2022-04-04T15:07:30.791Z"
   },
   {
    "duration": 386,
    "start_time": "2022-04-04T15:07:31.416Z"
   },
   {
    "duration": 3,
    "start_time": "2022-04-04T15:07:31.803Z"
   },
   {
    "duration": 35,
    "start_time": "2022-04-04T15:07:31.808Z"
   },
   {
    "duration": 282,
    "start_time": "2022-04-04T15:07:31.844Z"
   },
   {
    "duration": 4,
    "start_time": "2022-04-04T15:07:32.129Z"
   },
   {
    "duration": 3,
    "start_time": "2022-04-04T15:07:33.100Z"
   },
   {
    "duration": 69,
    "start_time": "2022-04-04T15:07:35.220Z"
   },
   {
    "duration": 2,
    "start_time": "2022-04-04T15:07:35.705Z"
   },
   {
    "duration": 79,
    "start_time": "2022-04-04T15:07:38.476Z"
   },
   {
    "duration": 8,
    "start_time": "2022-04-04T15:07:40.607Z"
   },
   {
    "duration": 48,
    "start_time": "2022-04-04T15:07:45.636Z"
   },
   {
    "duration": 20,
    "start_time": "2022-04-04T15:07:52.316Z"
   },
   {
    "duration": 17,
    "start_time": "2022-04-04T15:07:53.199Z"
   },
   {
    "duration": 3,
    "start_time": "2022-04-04T15:07:54.746Z"
   },
   {
    "duration": 8,
    "start_time": "2022-04-04T15:07:55.006Z"
   },
   {
    "duration": 13,
    "start_time": "2022-04-04T15:08:57.143Z"
   },
   {
    "duration": 8,
    "start_time": "2022-04-04T15:09:20.481Z"
   },
   {
    "duration": 12,
    "start_time": "2022-04-04T15:09:33.612Z"
   },
   {
    "duration": 7,
    "start_time": "2022-04-04T15:09:52.280Z"
   },
   {
    "duration": 14,
    "start_time": "2022-04-04T15:17:29.886Z"
   },
   {
    "duration": 14,
    "start_time": "2022-04-04T15:17:59.814Z"
   },
   {
    "duration": 7,
    "start_time": "2022-04-04T15:18:04.512Z"
   },
   {
    "duration": 15,
    "start_time": "2022-04-04T15:18:38.848Z"
   },
   {
    "duration": 79,
    "start_time": "2022-04-04T15:19:58.732Z"
   },
   {
    "duration": 16,
    "start_time": "2022-04-04T15:20:03.849Z"
   },
   {
    "duration": 20,
    "start_time": "2022-04-04T15:20:08.620Z"
   },
   {
    "duration": 11,
    "start_time": "2022-04-04T15:20:16.413Z"
   },
   {
    "duration": 9,
    "start_time": "2022-04-04T15:20:22.085Z"
   },
   {
    "duration": 8,
    "start_time": "2022-04-04T15:20:29.729Z"
   },
   {
    "duration": 19,
    "start_time": "2022-04-04T15:20:50.149Z"
   },
   {
    "duration": 3,
    "start_time": "2022-04-04T15:20:50.275Z"
   },
   {
    "duration": 7,
    "start_time": "2022-04-04T15:20:50.423Z"
   },
   {
    "duration": 16,
    "start_time": "2022-04-04T15:20:59.109Z"
   },
   {
    "duration": 9,
    "start_time": "2022-04-04T15:21:00.157Z"
   },
   {
    "duration": 7,
    "start_time": "2022-04-04T15:21:02.088Z"
   },
   {
    "duration": 15,
    "start_time": "2022-04-04T15:21:20.767Z"
   },
   {
    "duration": 16,
    "start_time": "2022-04-04T15:21:26.528Z"
   },
   {
    "duration": 31,
    "start_time": "2022-04-04T15:21:43.242Z"
   },
   {
    "duration": 38,
    "start_time": "2022-04-04T15:21:53.908Z"
   },
   {
    "duration": 605,
    "start_time": "2022-04-04T15:22:29.370Z"
   },
   {
    "duration": 407,
    "start_time": "2022-04-04T15:22:29.977Z"
   },
   {
    "duration": 3,
    "start_time": "2022-04-04T15:22:30.386Z"
   },
   {
    "duration": 13,
    "start_time": "2022-04-04T15:22:30.391Z"
   },
   {
    "duration": 276,
    "start_time": "2022-04-04T15:22:30.406Z"
   },
   {
    "duration": 4,
    "start_time": "2022-04-04T15:22:30.684Z"
   },
   {
    "duration": 8,
    "start_time": "2022-04-04T15:22:30.690Z"
   },
   {
    "duration": 70,
    "start_time": "2022-04-04T15:22:33.477Z"
   },
   {
    "duration": 3,
    "start_time": "2022-04-04T15:22:34.830Z"
   },
   {
    "duration": 77,
    "start_time": "2022-04-04T15:22:37.257Z"
   },
   {
    "duration": 6,
    "start_time": "2022-04-04T15:22:38.076Z"
   },
   {
    "duration": 50,
    "start_time": "2022-04-04T15:22:40.044Z"
   },
   {
    "duration": 20,
    "start_time": "2022-04-04T15:22:42.214Z"
   },
   {
    "duration": 2,
    "start_time": "2022-04-04T15:22:42.683Z"
   },
   {
    "duration": 7,
    "start_time": "2022-04-04T15:22:43.097Z"
   },
   {
    "duration": 17,
    "start_time": "2022-04-04T15:22:43.902Z"
   },
   {
    "duration": 14,
    "start_time": "2022-04-04T15:22:50.468Z"
   },
   {
    "duration": 14,
    "start_time": "2022-04-04T15:23:03.955Z"
   },
   {
    "duration": 7,
    "start_time": "2022-04-04T15:23:13.825Z"
   },
   {
    "duration": 8,
    "start_time": "2022-04-04T15:23:22.771Z"
   },
   {
    "duration": 8,
    "start_time": "2022-04-04T15:23:32.355Z"
   },
   {
    "duration": 15,
    "start_time": "2022-04-04T15:23:36.327Z"
   },
   {
    "duration": 14,
    "start_time": "2022-04-04T15:24:38.364Z"
   },
   {
    "duration": 9,
    "start_time": "2022-04-04T15:24:39.094Z"
   },
   {
    "duration": 7,
    "start_time": "2022-04-04T15:31:12.300Z"
   },
   {
    "duration": 4,
    "start_time": "2022-04-04T15:31:22.268Z"
   },
   {
    "duration": 2,
    "start_time": "2022-04-04T15:31:23.389Z"
   },
   {
    "duration": 1612,
    "start_time": "2022-04-04T15:32:07.878Z"
   },
   {
    "duration": 69,
    "start_time": "2022-04-04T15:32:30.277Z"
   },
   {
    "duration": 84,
    "start_time": "2022-04-04T15:47:11.083Z"
   },
   {
    "duration": 19,
    "start_time": "2022-04-04T15:47:17.542Z"
   },
   {
    "duration": 83,
    "start_time": "2022-04-04T15:48:37.715Z"
   },
   {
    "duration": 17,
    "start_time": "2022-04-04T15:48:39.027Z"
   },
   {
    "duration": 69,
    "start_time": "2022-04-04T15:49:32.681Z"
   },
   {
    "duration": 17,
    "start_time": "2022-04-04T15:49:37.287Z"
   },
   {
    "duration": 83,
    "start_time": "2022-04-04T15:50:10.198Z"
   },
   {
    "duration": 17,
    "start_time": "2022-04-04T15:51:08.261Z"
   },
   {
    "duration": 5,
    "start_time": "2022-04-04T15:51:10.690Z"
   },
   {
    "duration": 12,
    "start_time": "2022-04-04T15:54:46.959Z"
   },
   {
    "duration": 19,
    "start_time": "2022-04-04T15:54:55.571Z"
   },
   {
    "duration": 1904,
    "start_time": "2022-04-04T15:55:28.584Z"
   },
   {
    "duration": 654,
    "start_time": "2022-04-04T15:55:43.648Z"
   },
   {
    "duration": 3,
    "start_time": "2022-04-04T16:01:48.531Z"
   },
   {
    "duration": 3,
    "start_time": "2022-04-04T16:02:21.291Z"
   },
   {
    "duration": 2,
    "start_time": "2022-04-04T16:02:23.159Z"
   },
   {
    "duration": 3,
    "start_time": "2022-04-04T16:02:23.488Z"
   },
   {
    "duration": 3,
    "start_time": "2022-04-04T16:02:23.622Z"
   },
   {
    "duration": 3,
    "start_time": "2022-04-04T16:02:23.809Z"
   },
   {
    "duration": 2,
    "start_time": "2022-04-04T16:02:23.994Z"
   },
   {
    "duration": 2,
    "start_time": "2022-04-04T16:02:24.163Z"
   },
   {
    "duration": 2,
    "start_time": "2022-04-04T16:02:24.330Z"
   },
   {
    "duration": 3,
    "start_time": "2022-04-04T16:02:24.496Z"
   },
   {
    "duration": 3,
    "start_time": "2022-04-04T16:02:24.852Z"
   },
   {
    "duration": 2,
    "start_time": "2022-04-04T16:02:25.582Z"
   },
   {
    "duration": 3,
    "start_time": "2022-04-04T16:02:25.763Z"
   },
   {
    "duration": 2,
    "start_time": "2022-04-04T16:02:26.258Z"
   },
   {
    "duration": 9,
    "start_time": "2022-04-04T16:09:32.641Z"
   },
   {
    "duration": 19,
    "start_time": "2022-04-04T16:09:43.158Z"
   },
   {
    "duration": 18,
    "start_time": "2022-04-04T16:09:50.470Z"
   },
   {
    "duration": 19,
    "start_time": "2022-04-04T16:09:55.291Z"
   },
   {
    "duration": 147,
    "start_time": "2022-04-04T16:10:14.594Z"
   },
   {
    "duration": 22,
    "start_time": "2022-04-04T16:10:25.104Z"
   },
   {
    "duration": 15,
    "start_time": "2022-04-04T17:09:53.972Z"
   },
   {
    "duration": 23,
    "start_time": "2022-04-04T17:10:10.512Z"
   },
   {
    "duration": 23,
    "start_time": "2022-04-04T17:10:22.791Z"
   },
   {
    "duration": 52,
    "start_time": "2022-04-04T17:11:30.648Z"
   },
   {
    "duration": 43,
    "start_time": "2022-04-04T17:11:36.015Z"
   },
   {
    "duration": 40,
    "start_time": "2022-04-04T17:11:39.547Z"
   },
   {
    "duration": 37,
    "start_time": "2022-04-04T17:11:44.878Z"
   },
   {
    "duration": 35,
    "start_time": "2022-04-04T17:12:18.240Z"
   },
   {
    "duration": 50,
    "start_time": "2022-04-04T17:12:35.013Z"
   },
   {
    "duration": 14,
    "start_time": "2022-04-04T17:16:07.111Z"
   },
   {
    "duration": 21,
    "start_time": "2022-04-04T17:16:15.485Z"
   },
   {
    "duration": 34,
    "start_time": "2022-04-04T17:19:48.228Z"
   },
   {
    "duration": 19,
    "start_time": "2022-04-04T17:20:03.454Z"
   },
   {
    "duration": 6,
    "start_time": "2022-04-04T17:21:44.623Z"
   },
   {
    "duration": 6,
    "start_time": "2022-04-04T17:21:49.738Z"
   },
   {
    "duration": 3,
    "start_time": "2022-04-04T17:26:51.384Z"
   },
   {
    "duration": 27,
    "start_time": "2022-04-04T17:27:42.132Z"
   },
   {
    "duration": 90,
    "start_time": "2022-04-04T17:27:50.299Z"
   },
   {
    "duration": 33,
    "start_time": "2022-04-04T17:27:53.660Z"
   },
   {
    "duration": 47,
    "start_time": "2022-04-04T17:27:58.826Z"
   },
   {
    "duration": 1324,
    "start_time": "2022-04-04T17:37:28.454Z"
   },
   {
    "duration": 5,
    "start_time": "2022-04-04T17:37:36.621Z"
   },
   {
    "duration": 17,
    "start_time": "2022-04-04T17:38:12.546Z"
   },
   {
    "duration": 1508,
    "start_time": "2022-04-04T17:38:32.538Z"
   },
   {
    "duration": 1439,
    "start_time": "2022-04-04T17:39:21.904Z"
   },
   {
    "duration": 1282,
    "start_time": "2022-04-04T17:39:32.784Z"
   },
   {
    "duration": 45,
    "start_time": "2022-04-04T17:40:39.208Z"
   },
   {
    "duration": 34,
    "start_time": "2022-04-04T17:40:46.461Z"
   },
   {
    "duration": 10,
    "start_time": "2022-04-04T17:40:55.092Z"
   },
   {
    "duration": 42,
    "start_time": "2022-04-04T17:41:34.055Z"
   },
   {
    "duration": 16,
    "start_time": "2022-04-04T17:41:36.838Z"
   },
   {
    "duration": 20,
    "start_time": "2022-04-04T17:43:59.143Z"
   },
   {
    "duration": 1415,
    "start_time": "2022-04-04T17:44:07.503Z"
   },
   {
    "duration": 1311,
    "start_time": "2022-04-04T17:44:49.509Z"
   },
   {
    "duration": 1372,
    "start_time": "2022-04-04T17:46:30.435Z"
   },
   {
    "duration": 1327,
    "start_time": "2022-04-04T17:48:26.065Z"
   },
   {
    "duration": 10,
    "start_time": "2022-04-04T17:48:29.494Z"
   },
   {
    "duration": 10,
    "start_time": "2022-04-04T17:48:32.989Z"
   },
   {
    "duration": 1429,
    "start_time": "2022-04-04T17:48:39.711Z"
   },
   {
    "duration": 639,
    "start_time": "2022-04-04T17:48:46.555Z"
   },
   {
    "duration": 423,
    "start_time": "2022-04-04T17:48:47.197Z"
   },
   {
    "duration": 3,
    "start_time": "2022-04-04T17:48:47.622Z"
   },
   {
    "duration": 8,
    "start_time": "2022-04-04T17:48:47.627Z"
   },
   {
    "duration": 272,
    "start_time": "2022-04-04T17:48:47.637Z"
   },
   {
    "duration": 5,
    "start_time": "2022-04-04T17:48:47.910Z"
   },
   {
    "duration": 10,
    "start_time": "2022-04-04T17:48:47.917Z"
   },
   {
    "duration": 80,
    "start_time": "2022-04-04T17:48:47.929Z"
   },
   {
    "duration": 3,
    "start_time": "2022-04-04T17:48:48.011Z"
   },
   {
    "duration": 96,
    "start_time": "2022-04-04T17:48:48.016Z"
   },
   {
    "duration": 6,
    "start_time": "2022-04-04T17:48:48.114Z"
   },
   {
    "duration": 58,
    "start_time": "2022-04-04T17:48:48.122Z"
   },
   {
    "duration": 21,
    "start_time": "2022-04-04T17:48:48.182Z"
   },
   {
    "duration": 2,
    "start_time": "2022-04-04T17:48:48.205Z"
   },
   {
    "duration": 29,
    "start_time": "2022-04-04T17:48:48.209Z"
   },
   {
    "duration": 17,
    "start_time": "2022-04-04T17:48:48.240Z"
   },
   {
    "duration": 8,
    "start_time": "2022-04-04T17:48:48.259Z"
   },
   {
    "duration": 7,
    "start_time": "2022-04-04T17:48:48.269Z"
   },
   {
    "duration": 8,
    "start_time": "2022-04-04T17:48:48.278Z"
   },
   {
    "duration": 5,
    "start_time": "2022-04-04T17:48:48.288Z"
   },
   {
    "duration": 97,
    "start_time": "2022-04-04T17:48:48.294Z"
   },
   {
    "duration": 21,
    "start_time": "2022-04-04T17:48:48.393Z"
   },
   {
    "duration": 21,
    "start_time": "2022-04-04T17:48:48.416Z"
   },
   {
    "duration": 2,
    "start_time": "2022-04-04T17:48:48.439Z"
   },
   {
    "duration": 5,
    "start_time": "2022-04-04T17:48:48.443Z"
   },
   {
    "duration": 6,
    "start_time": "2022-04-04T17:48:48.450Z"
   },
   {
    "duration": 8,
    "start_time": "2022-04-04T17:48:48.458Z"
   },
   {
    "duration": 4,
    "start_time": "2022-04-04T17:48:48.470Z"
   },
   {
    "duration": 8,
    "start_time": "2022-04-04T17:48:48.475Z"
   },
   {
    "duration": 5,
    "start_time": "2022-04-04T17:48:48.484Z"
   },
   {
    "duration": 7,
    "start_time": "2022-04-04T17:48:48.491Z"
   },
   {
    "duration": 8,
    "start_time": "2022-04-04T17:48:48.499Z"
   },
   {
    "duration": 59,
    "start_time": "2022-04-04T17:48:48.508Z"
   },
   {
    "duration": 2,
    "start_time": "2022-04-04T17:48:48.568Z"
   },
   {
    "duration": 1367,
    "start_time": "2022-04-04T17:48:48.572Z"
   },
   {
    "duration": 0,
    "start_time": "2022-04-04T17:48:49.942Z"
   },
   {
    "duration": 0,
    "start_time": "2022-04-04T17:48:49.943Z"
   },
   {
    "duration": 0,
    "start_time": "2022-04-04T17:48:49.945Z"
   },
   {
    "duration": 0,
    "start_time": "2022-04-04T17:48:49.946Z"
   },
   {
    "duration": 0,
    "start_time": "2022-04-04T17:48:49.947Z"
   },
   {
    "duration": 0,
    "start_time": "2022-04-04T17:48:49.949Z"
   },
   {
    "duration": 0,
    "start_time": "2022-04-04T17:48:49.950Z"
   },
   {
    "duration": 0,
    "start_time": "2022-04-04T17:48:49.951Z"
   },
   {
    "duration": 0,
    "start_time": "2022-04-04T17:48:49.952Z"
   },
   {
    "duration": 0,
    "start_time": "2022-04-04T17:48:49.954Z"
   },
   {
    "duration": 0,
    "start_time": "2022-04-04T17:48:49.955Z"
   },
   {
    "duration": 0,
    "start_time": "2022-04-04T17:48:49.957Z"
   },
   {
    "duration": 1365,
    "start_time": "2022-04-04T17:49:40.938Z"
   },
   {
    "duration": 1325,
    "start_time": "2022-04-04T17:50:05.439Z"
   },
   {
    "duration": 11,
    "start_time": "2022-04-04T17:53:45.255Z"
   },
   {
    "duration": 10,
    "start_time": "2022-04-04T17:53:57.878Z"
   },
   {
    "duration": 1515,
    "start_time": "2022-04-04T17:54:05.431Z"
   },
   {
    "duration": 1067,
    "start_time": "2022-04-04T17:55:35.156Z"
   },
   {
    "duration": 48,
    "start_time": "2022-04-04T17:59:07.834Z"
   },
   {
    "duration": 12,
    "start_time": "2022-04-04T17:59:15.032Z"
   },
   {
    "duration": 10,
    "start_time": "2022-04-04T18:00:36.277Z"
   },
   {
    "duration": 3,
    "start_time": "2022-04-04T18:00:38.103Z"
   },
   {
    "duration": 44,
    "start_time": "2022-04-04T18:00:38.583Z"
   },
   {
    "duration": 3,
    "start_time": "2022-04-04T18:00:38.973Z"
   },
   {
    "duration": 22,
    "start_time": "2022-04-04T18:00:40.016Z"
   },
   {
    "duration": 6,
    "start_time": "2022-04-04T18:01:17.231Z"
   },
   {
    "duration": 18,
    "start_time": "2022-04-04T18:04:05.102Z"
   },
   {
    "duration": 17,
    "start_time": "2022-04-04T18:04:10.095Z"
   },
   {
    "duration": 6,
    "start_time": "2022-04-04T18:04:22.193Z"
   },
   {
    "duration": 1496,
    "start_time": "2022-04-04T18:04:30.311Z"
   },
   {
    "duration": 1306,
    "start_time": "2022-04-04T18:04:34.699Z"
   },
   {
    "duration": 9,
    "start_time": "2022-04-04T18:04:38.754Z"
   },
   {
    "duration": 8,
    "start_time": "2022-04-04T18:04:43.254Z"
   },
   {
    "duration": 8,
    "start_time": "2022-04-04T18:05:02.536Z"
   },
   {
    "duration": 10,
    "start_time": "2022-04-04T18:05:07.877Z"
   },
   {
    "duration": 8,
    "start_time": "2022-04-04T18:05:12.258Z"
   },
   {
    "duration": 165,
    "start_time": "2022-04-04T18:05:37.441Z"
   },
   {
    "duration": 186,
    "start_time": "2022-04-04T18:05:53.155Z"
   },
   {
    "duration": 17,
    "start_time": "2022-04-04T18:06:32.557Z"
   },
   {
    "duration": 11,
    "start_time": "2022-04-04T18:06:41.322Z"
   },
   {
    "duration": 19,
    "start_time": "2022-04-04T18:06:43.919Z"
   },
   {
    "duration": 14,
    "start_time": "2022-04-04T18:06:52.394Z"
   },
   {
    "duration": 15,
    "start_time": "2022-04-04T18:06:55.609Z"
   },
   {
    "duration": 1601,
    "start_time": "2022-04-04T18:06:57.387Z"
   },
   {
    "duration": 1725,
    "start_time": "2022-04-04T18:06:59.188Z"
   },
   {
    "duration": 1501,
    "start_time": "2022-04-04T18:07:09.840Z"
   },
   {
    "duration": 1459,
    "start_time": "2022-04-04T18:07:17.720Z"
   },
   {
    "duration": 8,
    "start_time": "2022-04-04T18:07:21.879Z"
   },
   {
    "duration": 10,
    "start_time": "2022-04-04T18:12:03.052Z"
   },
   {
    "duration": 1411,
    "start_time": "2022-04-04T18:12:14.277Z"
   },
   {
    "duration": 1607,
    "start_time": "2022-04-04T18:12:19.014Z"
   },
   {
    "duration": 8,
    "start_time": "2022-04-04T18:12:35.391Z"
   },
   {
    "duration": 7,
    "start_time": "2022-04-04T18:12:57.420Z"
   },
   {
    "duration": 159,
    "start_time": "2022-04-04T18:13:17.772Z"
   },
   {
    "duration": 6,
    "start_time": "2022-04-04T18:13:24.276Z"
   },
   {
    "duration": 87,
    "start_time": "2022-04-04T18:13:40.967Z"
   },
   {
    "duration": 156,
    "start_time": "2022-04-04T18:13:44.313Z"
   },
   {
    "duration": 1511,
    "start_time": "2022-04-04T18:15:28.841Z"
   },
   {
    "duration": 1372,
    "start_time": "2022-04-04T18:15:42.867Z"
   },
   {
    "duration": 1606,
    "start_time": "2022-04-04T18:15:48.717Z"
   },
   {
    "duration": 6,
    "start_time": "2022-04-04T18:15:56.401Z"
   },
   {
    "duration": 135,
    "start_time": "2022-04-04T18:16:04.525Z"
   },
   {
    "duration": 6,
    "start_time": "2022-04-04T18:16:08.852Z"
   },
   {
    "duration": 9,
    "start_time": "2022-04-04T18:21:02.103Z"
   },
   {
    "duration": 1401,
    "start_time": "2022-04-04T18:21:09.869Z"
   },
   {
    "duration": 1086,
    "start_time": "2022-04-04T18:23:42.538Z"
   },
   {
    "duration": 1388,
    "start_time": "2022-04-04T18:23:59.075Z"
   },
   {
    "duration": 21,
    "start_time": "2022-04-04T19:23:32.469Z"
   },
   {
    "duration": 0,
    "start_time": "2022-04-04T19:23:54.274Z"
   },
   {
    "duration": 1418,
    "start_time": "2022-04-04T19:23:57.434Z"
   },
   {
    "duration": 8,
    "start_time": "2022-04-04T19:24:01.021Z"
   },
   {
    "duration": 11,
    "start_time": "2022-04-04T19:24:10.180Z"
   },
   {
    "duration": 114,
    "start_time": "2022-04-04T19:24:26.914Z"
   },
   {
    "duration": 14,
    "start_time": "2022-04-04T19:25:08.220Z"
   },
   {
    "duration": 12,
    "start_time": "2022-04-04T19:25:11.356Z"
   },
   {
    "duration": 11,
    "start_time": "2022-04-04T19:25:13.451Z"
   },
   {
    "duration": 11,
    "start_time": "2022-04-04T19:25:18.781Z"
   },
   {
    "duration": 4766,
    "start_time": "2022-04-04T19:25:22.175Z"
   },
   {
    "duration": 12,
    "start_time": "2022-04-04T19:25:36.906Z"
   },
   {
    "duration": 1505,
    "start_time": "2022-04-04T19:25:59.460Z"
   },
   {
    "duration": 14,
    "start_time": "2022-04-04T19:26:05.666Z"
   },
   {
    "duration": 91,
    "start_time": "2022-04-04T19:26:12.386Z"
   },
   {
    "duration": 1441,
    "start_time": "2022-04-04T19:26:15.152Z"
   },
   {
    "duration": 15,
    "start_time": "2022-04-04T19:26:20.255Z"
   },
   {
    "duration": 1472,
    "start_time": "2022-04-04T19:26:39.307Z"
   },
   {
    "duration": 1425,
    "start_time": "2022-04-04T19:26:46.790Z"
   },
   {
    "duration": 2163,
    "start_time": "2022-04-04T19:27:45.429Z"
   },
   {
    "duration": 5,
    "start_time": "2022-04-04T19:28:15.498Z"
   },
   {
    "duration": 14,
    "start_time": "2022-04-04T19:28:26.628Z"
   },
   {
    "duration": 10,
    "start_time": "2022-04-04T19:28:30.492Z"
   },
   {
    "duration": 6,
    "start_time": "2022-04-04T19:28:40.137Z"
   },
   {
    "duration": 1344,
    "start_time": "2022-04-04T19:28:48.832Z"
   },
   {
    "duration": 96,
    "start_time": "2022-04-04T19:28:55.735Z"
   },
   {
    "duration": 20,
    "start_time": "2022-04-04T19:28:58.806Z"
   },
   {
    "duration": 15,
    "start_time": "2022-04-04T19:29:12.118Z"
   },
   {
    "duration": 14,
    "start_time": "2022-04-04T19:29:13.998Z"
   },
   {
    "duration": 14,
    "start_time": "2022-04-04T19:29:16.600Z"
   },
   {
    "duration": 1390,
    "start_time": "2022-04-04T19:29:19.033Z"
   },
   {
    "duration": 1381,
    "start_time": "2022-04-04T19:29:33.218Z"
   },
   {
    "duration": 1547,
    "start_time": "2022-04-04T19:29:40.739Z"
   },
   {
    "duration": 1462,
    "start_time": "2022-04-04T19:29:44.812Z"
   },
   {
    "duration": 1514,
    "start_time": "2022-04-04T19:40:51.317Z"
   },
   {
    "duration": 6,
    "start_time": "2022-04-04T19:40:53.572Z"
   },
   {
    "duration": 10,
    "start_time": "2022-04-04T19:41:07.308Z"
   },
   {
    "duration": 13,
    "start_time": "2022-04-04T19:41:25.511Z"
   },
   {
    "duration": 89,
    "start_time": "2022-04-04T19:41:34.737Z"
   },
   {
    "duration": 11,
    "start_time": "2022-04-04T19:41:38.823Z"
   },
   {
    "duration": 1330,
    "start_time": "2022-04-04T19:41:41.270Z"
   },
   {
    "duration": 34,
    "start_time": "2022-04-04T19:42:09.757Z"
   },
   {
    "duration": 1286,
    "start_time": "2022-04-04T19:42:18.041Z"
   },
   {
    "duration": 1344,
    "start_time": "2022-04-04T19:45:42.867Z"
   },
   {
    "duration": 51,
    "start_time": "2022-04-04T19:46:06.427Z"
   },
   {
    "duration": 2,
    "start_time": "2022-04-04T19:46:08.514Z"
   },
   {
    "duration": 6,
    "start_time": "2022-04-04T19:46:10.140Z"
   },
   {
    "duration": 8,
    "start_time": "2022-04-04T19:46:22.313Z"
   },
   {
    "duration": 77,
    "start_time": "2022-04-04T19:46:37.345Z"
   },
   {
    "duration": 88,
    "start_time": "2022-04-04T19:46:51.749Z"
   },
   {
    "duration": 6,
    "start_time": "2022-04-04T19:46:56.609Z"
   },
   {
    "duration": 14,
    "start_time": "2022-04-04T19:47:33.387Z"
   },
   {
    "duration": 10,
    "start_time": "2022-04-04T19:47:59.221Z"
   },
   {
    "duration": 408,
    "start_time": "2022-04-04T19:48:03.684Z"
   },
   {
    "duration": 4,
    "start_time": "2022-04-04T19:49:08.990Z"
   },
   {
    "duration": 34,
    "start_time": "2022-04-04T19:49:15.385Z"
   },
   {
    "duration": 5,
    "start_time": "2022-04-04T19:49:17.155Z"
   },
   {
    "duration": 7,
    "start_time": "2022-04-04T19:49:55.300Z"
   },
   {
    "duration": 43,
    "start_time": "2022-04-04T19:50:07.045Z"
   },
   {
    "duration": 9,
    "start_time": "2022-04-04T19:50:08.619Z"
   },
   {
    "duration": 7,
    "start_time": "2022-04-04T19:50:12.954Z"
   },
   {
    "duration": 41,
    "start_time": "2022-04-04T19:50:18.383Z"
   },
   {
    "duration": 2,
    "start_time": "2022-04-04T19:50:18.730Z"
   },
   {
    "duration": 4,
    "start_time": "2022-04-04T19:50:22.890Z"
   },
   {
    "duration": 4,
    "start_time": "2022-04-04T19:50:28.611Z"
   },
   {
    "duration": 33,
    "start_time": "2022-04-04T19:50:34.095Z"
   },
   {
    "duration": 5,
    "start_time": "2022-04-04T19:50:36.605Z"
   },
   {
    "duration": 4,
    "start_time": "2022-04-04T19:50:47.598Z"
   },
   {
    "duration": 4,
    "start_time": "2022-04-04T19:51:02.884Z"
   },
   {
    "duration": 4,
    "start_time": "2022-04-04T19:51:05.151Z"
   },
   {
    "duration": 36,
    "start_time": "2022-04-04T19:51:38.000Z"
   },
   {
    "duration": 7,
    "start_time": "2022-04-04T19:52:00.272Z"
   },
   {
    "duration": 710,
    "start_time": "2022-04-04T19:52:12.889Z"
   },
   {
    "duration": 1362,
    "start_time": "2022-04-04T19:52:17.827Z"
   },
   {
    "duration": 1349,
    "start_time": "2022-04-04T19:52:32.425Z"
   },
   {
    "duration": 1297,
    "start_time": "2022-04-04T19:52:37.323Z"
   },
   {
    "duration": 5,
    "start_time": "2022-04-04T19:53:10.462Z"
   },
   {
    "duration": 91,
    "start_time": "2022-04-04T19:53:19.234Z"
   },
   {
    "duration": 6,
    "start_time": "2022-04-04T19:53:22.934Z"
   },
   {
    "duration": 9,
    "start_time": "2022-04-04T19:53:36.115Z"
   },
   {
    "duration": 229,
    "start_time": "2022-04-04T19:53:54.124Z"
   },
   {
    "duration": 4,
    "start_time": "2022-04-04T19:54:49.207Z"
   },
   {
    "duration": 35,
    "start_time": "2022-04-04T19:54:50.536Z"
   },
   {
    "duration": 33,
    "start_time": "2022-04-04T19:54:57.362Z"
   },
   {
    "duration": 34,
    "start_time": "2022-04-04T19:55:03.882Z"
   },
   {
    "duration": 3,
    "start_time": "2022-04-04T19:55:06.614Z"
   },
   {
    "duration": 5,
    "start_time": "2022-04-04T19:55:06.859Z"
   },
   {
    "duration": 197,
    "start_time": "2022-04-04T19:55:10.042Z"
   },
   {
    "duration": 1919,
    "start_time": "2022-04-04T19:55:48.997Z"
   },
   {
    "duration": 123,
    "start_time": "2022-04-04T19:55:58.649Z"
   },
   {
    "duration": 41,
    "start_time": "2022-04-04T19:56:37.650Z"
   },
   {
    "duration": 2,
    "start_time": "2022-04-04T19:56:38.613Z"
   },
   {
    "duration": 4,
    "start_time": "2022-04-04T19:56:39.094Z"
   },
   {
    "duration": 15,
    "start_time": "2022-04-04T19:56:39.741Z"
   },
   {
    "duration": 126,
    "start_time": "2022-04-04T19:56:47.992Z"
   },
   {
    "duration": 511,
    "start_time": "2022-04-04T19:59:32.453Z"
   },
   {
    "duration": 390,
    "start_time": "2022-04-04T20:01:45.115Z"
   },
   {
    "duration": 177,
    "start_time": "2022-04-04T20:01:59.539Z"
   },
   {
    "duration": 187,
    "start_time": "2022-04-04T20:02:31.151Z"
   },
   {
    "duration": 88,
    "start_time": "2022-04-04T20:02:50.372Z"
   },
   {
    "duration": 89,
    "start_time": "2022-04-04T20:02:51.927Z"
   },
   {
    "duration": 211,
    "start_time": "2022-04-04T20:02:55.937Z"
   },
   {
    "duration": 191,
    "start_time": "2022-04-04T20:03:12.855Z"
   },
   {
    "duration": 395,
    "start_time": "2022-04-04T20:03:25.497Z"
   },
   {
    "duration": 10,
    "start_time": "2022-04-04T20:06:36.094Z"
   },
   {
    "duration": 11,
    "start_time": "2022-04-04T20:06:40.116Z"
   },
   {
    "duration": 548,
    "start_time": "2022-04-04T20:06:49.640Z"
   },
   {
    "duration": 76,
    "start_time": "2022-04-04T20:06:58.410Z"
   },
   {
    "duration": 2066,
    "start_time": "2022-04-04T20:07:11.401Z"
   },
   {
    "duration": 1579,
    "start_time": "2022-04-04T20:07:22.936Z"
   },
   {
    "duration": 1504,
    "start_time": "2022-04-04T20:07:51.974Z"
   },
   {
    "duration": 479,
    "start_time": "2022-04-04T20:08:01.404Z"
   },
   {
    "duration": 177,
    "start_time": "2022-04-04T20:08:56.554Z"
   },
   {
    "duration": 173,
    "start_time": "2022-04-04T20:09:02.556Z"
   },
   {
    "duration": 2095,
    "start_time": "2022-04-04T20:10:11.989Z"
   },
   {
    "duration": 2322,
    "start_time": "2022-04-04T20:10:33.361Z"
   },
   {
    "duration": 1931,
    "start_time": "2022-04-04T20:10:46.273Z"
   },
   {
    "duration": 167,
    "start_time": "2022-04-04T20:10:51.652Z"
   },
   {
    "duration": 125,
    "start_time": "2022-04-04T20:12:07.631Z"
   },
   {
    "duration": 11,
    "start_time": "2022-04-04T20:12:31.964Z"
   },
   {
    "duration": 1930,
    "start_time": "2022-04-04T20:12:38.853Z"
   },
   {
    "duration": 7,
    "start_time": "2022-04-04T20:13:35.710Z"
   },
   {
    "duration": 1164,
    "start_time": "2022-04-04T20:13:49.932Z"
   },
   {
    "duration": 1338,
    "start_time": "2022-04-04T20:14:03.446Z"
   },
   {
    "duration": 37,
    "start_time": "2022-04-04T20:15:35.729Z"
   },
   {
    "duration": 3,
    "start_time": "2022-04-04T20:15:36.935Z"
   },
   {
    "duration": 3,
    "start_time": "2022-04-04T20:15:37.477Z"
   },
   {
    "duration": 19,
    "start_time": "2022-04-04T20:15:39.538Z"
   },
   {
    "duration": 192,
    "start_time": "2022-04-04T20:16:31.197Z"
   },
   {
    "duration": 131,
    "start_time": "2022-04-04T20:17:36.919Z"
   },
   {
    "duration": 37,
    "start_time": "2022-04-04T20:20:28.595Z"
   },
   {
    "duration": 44,
    "start_time": "2022-04-04T20:20:35.785Z"
   },
   {
    "duration": 2,
    "start_time": "2022-04-04T20:20:42.433Z"
   },
   {
    "duration": 4,
    "start_time": "2022-04-04T20:20:42.860Z"
   },
   {
    "duration": 8,
    "start_time": "2022-04-04T20:20:43.308Z"
   },
   {
    "duration": 1360,
    "start_time": "2022-04-04T20:20:43.843Z"
   },
   {
    "duration": 0,
    "start_time": "2022-04-04T20:20:45.204Z"
   },
   {
    "duration": 140,
    "start_time": "2022-04-04T20:20:59.911Z"
   },
   {
    "duration": 4,
    "start_time": "2022-04-04T20:21:35.981Z"
   },
   {
    "duration": 7,
    "start_time": "2022-04-04T20:21:36.360Z"
   },
   {
    "duration": 136,
    "start_time": "2022-04-04T20:21:36.818Z"
   },
   {
    "duration": 45,
    "start_time": "2022-04-04T20:21:40.669Z"
   },
   {
    "duration": 3,
    "start_time": "2022-04-04T20:21:41.011Z"
   },
   {
    "duration": 3,
    "start_time": "2022-04-04T20:21:41.154Z"
   },
   {
    "duration": 8,
    "start_time": "2022-04-04T20:21:41.318Z"
   },
   {
    "duration": 135,
    "start_time": "2022-04-04T20:21:42.193Z"
   },
   {
    "duration": 8,
    "start_time": "2022-04-04T20:22:33.923Z"
   },
   {
    "duration": 8,
    "start_time": "2022-04-04T20:22:35.805Z"
   },
   {
    "duration": 7,
    "start_time": "2022-04-04T20:22:40.948Z"
   },
   {
    "duration": 18,
    "start_time": "2022-04-04T20:22:44.345Z"
   },
   {
    "duration": 21,
    "start_time": "2022-04-04T20:22:44.500Z"
   },
   {
    "duration": 412,
    "start_time": "2022-04-04T20:22:44.663Z"
   },
   {
    "duration": 582,
    "start_time": "2022-04-04T20:23:53.943Z"
   },
   {
    "duration": 129,
    "start_time": "2022-04-04T20:24:53.582Z"
   },
   {
    "duration": 1420,
    "start_time": "2022-04-04T20:27:30.456Z"
   },
   {
    "duration": 86,
    "start_time": "2022-04-04T20:27:41.850Z"
   },
   {
    "duration": 82,
    "start_time": "2022-04-04T20:27:45.585Z"
   },
   {
    "duration": 85,
    "start_time": "2022-04-04T20:27:49.946Z"
   },
   {
    "duration": 11,
    "start_time": "2022-04-04T20:27:53.102Z"
   },
   {
    "duration": 88,
    "start_time": "2022-04-04T20:27:56.892Z"
   },
   {
    "duration": 33,
    "start_time": "2022-04-04T20:28:17.622Z"
   },
   {
    "duration": 21,
    "start_time": "2022-04-04T20:28:18.199Z"
   },
   {
    "duration": 408,
    "start_time": "2022-04-04T20:28:18.538Z"
   },
   {
    "duration": 415,
    "start_time": "2022-04-04T20:28:35.533Z"
   },
   {
    "duration": 21,
    "start_time": "2022-04-04T20:28:43.330Z"
   },
   {
    "duration": 34,
    "start_time": "2022-04-04T20:29:10.107Z"
   },
   {
    "duration": 9,
    "start_time": "2022-04-04T20:30:07.339Z"
   },
   {
    "duration": 22,
    "start_time": "2022-04-04T20:30:09.448Z"
   },
   {
    "duration": 674,
    "start_time": "2022-04-04T20:30:09.707Z"
   },
   {
    "duration": 601,
    "start_time": "2022-04-04T20:32:04.585Z"
   },
   {
    "duration": 721,
    "start_time": "2022-04-04T20:32:11.870Z"
   },
   {
    "duration": 707,
    "start_time": "2022-04-04T20:33:06.913Z"
   },
   {
    "duration": 428,
    "start_time": "2022-04-04T20:33:07.622Z"
   },
   {
    "duration": 2,
    "start_time": "2022-04-04T20:33:08.052Z"
   },
   {
    "duration": 7,
    "start_time": "2022-04-04T20:33:08.057Z"
   },
   {
    "duration": 268,
    "start_time": "2022-04-04T20:33:08.066Z"
   },
   {
    "duration": 5,
    "start_time": "2022-04-04T20:33:08.335Z"
   },
   {
    "duration": 4,
    "start_time": "2022-04-04T20:33:08.342Z"
   },
   {
    "duration": 75,
    "start_time": "2022-04-04T20:33:08.348Z"
   },
   {
    "duration": 13,
    "start_time": "2022-04-04T20:33:08.425Z"
   },
   {
    "duration": 82,
    "start_time": "2022-04-04T20:33:08.441Z"
   },
   {
    "duration": 15,
    "start_time": "2022-04-04T20:33:08.526Z"
   },
   {
    "duration": 49,
    "start_time": "2022-04-04T20:33:08.543Z"
   },
   {
    "duration": 18,
    "start_time": "2022-04-04T20:33:08.594Z"
   },
   {
    "duration": 2,
    "start_time": "2022-04-04T20:33:08.614Z"
   },
   {
    "duration": 7,
    "start_time": "2022-04-04T20:33:08.639Z"
   },
   {
    "duration": 17,
    "start_time": "2022-04-04T20:33:08.648Z"
   },
   {
    "duration": 9,
    "start_time": "2022-04-04T20:33:08.666Z"
   },
   {
    "duration": 7,
    "start_time": "2022-04-04T20:33:08.677Z"
   },
   {
    "duration": 8,
    "start_time": "2022-04-04T20:33:08.685Z"
   },
   {
    "duration": 5,
    "start_time": "2022-04-04T20:33:08.694Z"
   },
   {
    "duration": 102,
    "start_time": "2022-04-04T20:33:08.701Z"
   },
   {
    "duration": 20,
    "start_time": "2022-04-04T20:33:08.805Z"
   },
   {
    "duration": 3,
    "start_time": "2022-04-04T20:33:08.838Z"
   },
   {
    "duration": 4,
    "start_time": "2022-04-04T20:33:08.843Z"
   },
   {
    "duration": 25,
    "start_time": "2022-04-04T20:33:08.849Z"
   },
   {
    "duration": 775,
    "start_time": "2022-04-04T20:33:08.875Z"
   },
   {
    "duration": 2,
    "start_time": "2022-04-04T20:33:09.652Z"
   },
   {
    "duration": 4,
    "start_time": "2022-04-04T20:33:09.658Z"
   },
   {
    "duration": 8,
    "start_time": "2022-04-04T20:33:09.663Z"
   },
   {
    "duration": 6,
    "start_time": "2022-04-04T20:33:09.673Z"
   },
   {
    "duration": 7,
    "start_time": "2022-04-04T20:33:09.680Z"
   },
   {
    "duration": 11,
    "start_time": "2022-04-04T20:33:09.689Z"
   },
   {
    "duration": 7,
    "start_time": "2022-04-04T20:33:09.701Z"
   },
   {
    "duration": 52,
    "start_time": "2022-04-04T20:33:09.709Z"
   },
   {
    "duration": 2,
    "start_time": "2022-04-04T20:33:09.763Z"
   },
   {
    "duration": 27,
    "start_time": "2022-04-04T20:33:09.767Z"
   },
   {
    "duration": 43,
    "start_time": "2022-04-04T20:33:09.796Z"
   },
   {
    "duration": 3,
    "start_time": "2022-04-04T20:33:09.841Z"
   },
   {
    "duration": 6,
    "start_time": "2022-04-04T20:33:09.846Z"
   },
   {
    "duration": 9,
    "start_time": "2022-04-04T20:33:09.853Z"
   },
   {
    "duration": 2,
    "start_time": "2022-04-04T20:33:09.864Z"
   },
   {
    "duration": 376,
    "start_time": "2022-04-04T20:33:09.867Z"
   },
   {
    "duration": 2,
    "start_time": "2022-04-04T20:33:10.245Z"
   },
   {
    "duration": 10,
    "start_time": "2022-04-04T20:33:10.249Z"
   },
   {
    "duration": 5,
    "start_time": "2022-04-04T20:33:10.260Z"
   },
   {
    "duration": 3,
    "start_time": "2022-04-04T20:33:10.267Z"
   },
   {
    "duration": 7,
    "start_time": "2022-04-04T20:33:10.272Z"
   },
   {
    "duration": 775,
    "start_time": "2022-04-04T20:36:52.586Z"
   },
   {
    "duration": 9,
    "start_time": "2022-04-04T20:42:31.058Z"
   },
   {
    "duration": 9,
    "start_time": "2022-04-04T21:02:51.249Z"
   },
   {
    "duration": 25,
    "start_time": "2022-04-04T21:02:55.754Z"
   },
   {
    "duration": 25,
    "start_time": "2022-04-04T21:03:03.347Z"
   },
   {
    "duration": 9,
    "start_time": "2022-04-04T21:03:14.670Z"
   },
   {
    "duration": 28,
    "start_time": "2022-04-04T21:05:27.139Z"
   },
   {
    "duration": 1574,
    "start_time": "2022-04-04T21:06:20.075Z"
   },
   {
    "duration": 15,
    "start_time": "2022-04-04T21:06:39.468Z"
   },
   {
    "duration": 15,
    "start_time": "2022-04-04T21:06:42.839Z"
   },
   {
    "duration": 15,
    "start_time": "2022-04-04T21:06:49.745Z"
   },
   {
    "duration": 651,
    "start_time": "2022-04-04T21:06:54.371Z"
   },
   {
    "duration": 383,
    "start_time": "2022-04-04T21:06:55.024Z"
   },
   {
    "duration": 4,
    "start_time": "2022-04-04T21:06:55.409Z"
   },
   {
    "duration": 7,
    "start_time": "2022-04-04T21:06:55.415Z"
   },
   {
    "duration": 257,
    "start_time": "2022-04-04T21:06:55.424Z"
   },
   {
    "duration": 5,
    "start_time": "2022-04-04T21:06:55.683Z"
   },
   {
    "duration": 6,
    "start_time": "2022-04-04T21:06:55.690Z"
   },
   {
    "duration": 82,
    "start_time": "2022-04-04T21:06:55.697Z"
   },
   {
    "duration": 2,
    "start_time": "2022-04-04T21:06:55.781Z"
   },
   {
    "duration": 87,
    "start_time": "2022-04-04T21:06:55.786Z"
   },
   {
    "duration": 5,
    "start_time": "2022-04-04T21:06:55.875Z"
   },
   {
    "duration": 60,
    "start_time": "2022-04-04T21:06:55.882Z"
   },
   {
    "duration": 18,
    "start_time": "2022-04-04T21:06:55.944Z"
   },
   {
    "duration": 2,
    "start_time": "2022-04-04T21:06:55.964Z"
   },
   {
    "duration": 14,
    "start_time": "2022-04-04T21:06:55.967Z"
   },
   {
    "duration": 20,
    "start_time": "2022-04-04T21:06:55.982Z"
   },
   {
    "duration": 7,
    "start_time": "2022-04-04T21:06:56.004Z"
   },
   {
    "duration": 26,
    "start_time": "2022-04-04T21:06:56.013Z"
   },
   {
    "duration": 4,
    "start_time": "2022-04-04T21:06:56.041Z"
   },
   {
    "duration": 11,
    "start_time": "2022-04-04T21:06:56.046Z"
   },
   {
    "duration": 79,
    "start_time": "2022-04-04T21:06:56.059Z"
   },
   {
    "duration": 19,
    "start_time": "2022-04-04T21:06:56.140Z"
   },
   {
    "duration": 2,
    "start_time": "2022-04-04T21:06:56.160Z"
   },
   {
    "duration": 6,
    "start_time": "2022-04-04T21:06:56.164Z"
   },
   {
    "duration": 24,
    "start_time": "2022-04-04T21:06:56.171Z"
   },
   {
    "duration": 733,
    "start_time": "2022-04-04T21:06:56.196Z"
   },
   {
    "duration": 7,
    "start_time": "2022-04-04T21:06:56.930Z"
   },
   {
    "duration": 2,
    "start_time": "2022-04-04T21:06:56.941Z"
   },
   {
    "duration": 5,
    "start_time": "2022-04-04T21:06:56.944Z"
   },
   {
    "duration": 5,
    "start_time": "2022-04-04T21:06:56.950Z"
   },
   {
    "duration": 6,
    "start_time": "2022-04-04T21:06:56.957Z"
   },
   {
    "duration": 8,
    "start_time": "2022-04-04T21:06:56.964Z"
   },
   {
    "duration": 6,
    "start_time": "2022-04-04T21:06:56.973Z"
   },
   {
    "duration": 35,
    "start_time": "2022-04-04T21:06:56.980Z"
   },
   {
    "duration": 41,
    "start_time": "2022-04-04T21:06:57.017Z"
   },
   {
    "duration": 22,
    "start_time": "2022-04-04T21:06:57.060Z"
   },
   {
    "duration": 2,
    "start_time": "2022-04-04T21:06:57.084Z"
   },
   {
    "duration": 9,
    "start_time": "2022-04-04T21:06:57.088Z"
   },
   {
    "duration": 12,
    "start_time": "2022-04-04T21:06:57.098Z"
   },
   {
    "duration": 29,
    "start_time": "2022-04-04T21:06:57.137Z"
   },
   {
    "duration": 3,
    "start_time": "2022-04-04T21:06:57.167Z"
   },
   {
    "duration": 401,
    "start_time": "2022-04-04T21:06:57.171Z"
   },
   {
    "duration": 2,
    "start_time": "2022-04-04T21:06:57.574Z"
   },
   {
    "duration": 9,
    "start_time": "2022-04-04T21:06:57.578Z"
   },
   {
    "duration": 7,
    "start_time": "2022-04-04T21:06:57.588Z"
   },
   {
    "duration": 9,
    "start_time": "2022-04-04T21:06:57.597Z"
   },
   {
    "duration": 7,
    "start_time": "2022-04-04T21:06:57.608Z"
   },
   {
    "duration": 18,
    "start_time": "2022-04-04T21:09:26.031Z"
   },
   {
    "duration": 89,
    "start_time": "2022-04-04T21:09:39.620Z"
   },
   {
    "duration": 9,
    "start_time": "2022-04-04T21:09:45.372Z"
   },
   {
    "duration": 4,
    "start_time": "2022-04-04T21:09:52.461Z"
   },
   {
    "duration": 100,
    "start_time": "2022-04-04T21:10:02.193Z"
   },
   {
    "duration": 16,
    "start_time": "2022-04-04T21:11:17.885Z"
   },
   {
    "duration": 1415,
    "start_time": "2022-04-04T21:11:20.429Z"
   },
   {
    "duration": 14,
    "start_time": "2022-04-04T21:11:27.036Z"
   },
   {
    "duration": 11,
    "start_time": "2022-04-04T21:11:37.095Z"
   },
   {
    "duration": 198,
    "start_time": "2022-04-04T21:11:45.951Z"
   },
   {
    "duration": 304,
    "start_time": "2022-04-04T21:12:31.617Z"
   },
   {
    "duration": 242,
    "start_time": "2022-04-04T21:18:07.527Z"
   },
   {
    "duration": 224,
    "start_time": "2022-04-04T21:18:15.591Z"
   },
   {
    "duration": 219,
    "start_time": "2022-04-04T21:18:26.616Z"
   },
   {
    "duration": 229,
    "start_time": "2022-04-04T21:18:35.955Z"
   },
   {
    "duration": 219,
    "start_time": "2022-04-04T21:18:39.689Z"
   },
   {
    "duration": 222,
    "start_time": "2022-04-04T21:18:48.487Z"
   },
   {
    "duration": 339,
    "start_time": "2022-04-04T21:18:59.919Z"
   },
   {
    "duration": 228,
    "start_time": "2022-04-04T21:19:18.851Z"
   },
   {
    "duration": 230,
    "start_time": "2022-04-04T21:19:32.177Z"
   },
   {
    "duration": 22,
    "start_time": "2022-04-04T21:21:13.688Z"
   },
   {
    "duration": 20,
    "start_time": "2022-04-04T21:21:47.555Z"
   },
   {
    "duration": 101,
    "start_time": "2022-04-04T21:21:56.693Z"
   },
   {
    "duration": 110,
    "start_time": "2022-04-04T21:22:10.082Z"
   },
   {
    "duration": 116,
    "start_time": "2022-04-04T21:22:19.854Z"
   },
   {
    "duration": 119,
    "start_time": "2022-04-04T21:22:38.903Z"
   },
   {
    "duration": 123,
    "start_time": "2022-04-04T21:23:27.092Z"
   },
   {
    "duration": 113,
    "start_time": "2022-04-04T21:23:31.886Z"
   },
   {
    "duration": 86,
    "start_time": "2022-04-04T21:23:58.773Z"
   },
   {
    "duration": 147,
    "start_time": "2022-04-04T21:24:02.634Z"
   },
   {
    "duration": 11,
    "start_time": "2022-04-04T21:24:11.424Z"
   },
   {
    "duration": 19,
    "start_time": "2022-04-04T21:24:19.927Z"
   },
   {
    "duration": 431,
    "start_time": "2022-04-04T21:24:29.464Z"
   },
   {
    "duration": 430,
    "start_time": "2022-04-04T21:24:44.693Z"
   },
   {
    "duration": 514,
    "start_time": "2022-04-04T21:25:20.875Z"
   },
   {
    "duration": 18,
    "start_time": "2022-04-04T21:26:35.900Z"
   },
   {
    "duration": 528,
    "start_time": "2022-04-04T21:27:40.078Z"
   },
   {
    "duration": 17,
    "start_time": "2022-04-04T21:27:51.438Z"
   },
   {
    "duration": 162,
    "start_time": "2022-04-04T21:28:19.049Z"
   },
   {
    "duration": 556,
    "start_time": "2022-04-04T21:28:39.156Z"
   },
   {
    "duration": 444,
    "start_time": "2022-04-04T21:29:27.809Z"
   },
   {
    "duration": 444,
    "start_time": "2022-04-04T21:29:34.626Z"
   },
   {
    "duration": 448,
    "start_time": "2022-04-04T21:29:44.814Z"
   },
   {
    "duration": 96,
    "start_time": "2022-04-04T21:32:05.870Z"
   },
   {
    "duration": 142,
    "start_time": "2022-04-04T21:32:21.552Z"
   },
   {
    "duration": 1393,
    "start_time": "2022-04-04T21:32:33.354Z"
   },
   {
    "duration": 1470,
    "start_time": "2022-04-04T21:32:35.582Z"
   },
   {
    "duration": 1297,
    "start_time": "2022-04-04T21:32:43.639Z"
   },
   {
    "duration": 442,
    "start_time": "2022-04-04T21:33:12.063Z"
   },
   {
    "duration": 575,
    "start_time": "2022-04-04T21:33:24.921Z"
   },
   {
    "duration": 464,
    "start_time": "2022-04-04T21:33:44.671Z"
   },
   {
    "duration": 450,
    "start_time": "2022-04-04T21:33:52.949Z"
   },
   {
    "duration": 1793,
    "start_time": "2022-04-04T21:34:08.922Z"
   },
   {
    "duration": 457,
    "start_time": "2022-04-04T21:34:14.112Z"
   },
   {
    "duration": 463,
    "start_time": "2022-04-04T21:34:20.487Z"
   },
   {
    "duration": 496,
    "start_time": "2022-04-04T21:34:32.376Z"
   },
   {
    "duration": 685,
    "start_time": "2022-04-04T21:35:32.391Z"
   },
   {
    "duration": 3,
    "start_time": "2022-04-04T21:36:17.759Z"
   },
   {
    "duration": 12,
    "start_time": "2022-04-04T21:36:29.568Z"
   },
   {
    "duration": 13,
    "start_time": "2022-04-04T21:36:34.954Z"
   },
   {
    "duration": 668,
    "start_time": "2022-04-04T21:36:43.229Z"
   },
   {
    "duration": 395,
    "start_time": "2022-04-04T21:36:43.899Z"
   },
   {
    "duration": 3,
    "start_time": "2022-04-04T21:36:44.296Z"
   },
   {
    "duration": 7,
    "start_time": "2022-04-04T21:36:44.301Z"
   },
   {
    "duration": 255,
    "start_time": "2022-04-04T21:36:44.310Z"
   },
   {
    "duration": 5,
    "start_time": "2022-04-04T21:36:44.566Z"
   },
   {
    "duration": 4,
    "start_time": "2022-04-04T21:36:44.572Z"
   },
   {
    "duration": 87,
    "start_time": "2022-04-04T21:36:44.578Z"
   },
   {
    "duration": 3,
    "start_time": "2022-04-04T21:36:44.667Z"
   },
   {
    "duration": 90,
    "start_time": "2022-04-04T21:36:44.672Z"
   },
   {
    "duration": 7,
    "start_time": "2022-04-04T21:36:44.764Z"
   },
   {
    "duration": 66,
    "start_time": "2022-04-04T21:36:44.772Z"
   },
   {
    "duration": 20,
    "start_time": "2022-04-04T21:36:44.840Z"
   },
   {
    "duration": 3,
    "start_time": "2022-04-04T21:36:44.862Z"
   },
   {
    "duration": 13,
    "start_time": "2022-04-04T21:36:44.866Z"
   },
   {
    "duration": 18,
    "start_time": "2022-04-04T21:36:44.881Z"
   },
   {
    "duration": 40,
    "start_time": "2022-04-04T21:36:44.901Z"
   },
   {
    "duration": 8,
    "start_time": "2022-04-04T21:36:44.942Z"
   },
   {
    "duration": 5,
    "start_time": "2022-04-04T21:36:44.952Z"
   },
   {
    "duration": 4,
    "start_time": "2022-04-04T21:36:44.959Z"
   },
   {
    "duration": 93,
    "start_time": "2022-04-04T21:36:44.964Z"
   },
   {
    "duration": 20,
    "start_time": "2022-04-04T21:36:45.059Z"
   },
   {
    "duration": 9,
    "start_time": "2022-04-04T21:36:45.082Z"
   },
   {
    "duration": 7,
    "start_time": "2022-04-04T21:36:45.092Z"
   },
   {
    "duration": 41,
    "start_time": "2022-04-04T21:36:45.101Z"
   },
   {
    "duration": 750,
    "start_time": "2022-04-04T21:36:45.144Z"
   },
   {
    "duration": 3,
    "start_time": "2022-04-04T21:36:45.895Z"
   },
   {
    "duration": 5,
    "start_time": "2022-04-04T21:36:45.901Z"
   },
   {
    "duration": 6,
    "start_time": "2022-04-04T21:36:45.907Z"
   },
   {
    "duration": 11,
    "start_time": "2022-04-04T21:36:45.914Z"
   },
   {
    "duration": 14,
    "start_time": "2022-04-04T21:36:45.927Z"
   },
   {
    "duration": 10,
    "start_time": "2022-04-04T21:36:45.942Z"
   },
   {
    "duration": 7,
    "start_time": "2022-04-04T21:36:45.953Z"
   },
   {
    "duration": 36,
    "start_time": "2022-04-04T21:36:45.961Z"
   },
   {
    "duration": 22,
    "start_time": "2022-04-04T21:36:45.999Z"
   },
   {
    "duration": 32,
    "start_time": "2022-04-04T21:36:46.023Z"
   },
   {
    "duration": 2,
    "start_time": "2022-04-04T21:36:46.057Z"
   },
   {
    "duration": 502,
    "start_time": "2022-04-04T21:36:46.060Z"
   },
   {
    "duration": 3,
    "start_time": "2022-04-04T21:36:46.564Z"
   },
   {
    "duration": 479,
    "start_time": "2022-04-04T21:36:46.568Z"
   },
   {
    "duration": 2,
    "start_time": "2022-04-04T21:36:47.049Z"
   },
   {
    "duration": 12,
    "start_time": "2022-04-04T21:36:47.053Z"
   },
   {
    "duration": 5,
    "start_time": "2022-04-04T21:36:47.067Z"
   },
   {
    "duration": 4,
    "start_time": "2022-04-04T21:36:47.073Z"
   },
   {
    "duration": 9,
    "start_time": "2022-04-04T21:36:47.079Z"
   },
   {
    "duration": 6,
    "start_time": "2022-04-04T21:44:06.328Z"
   },
   {
    "duration": 18,
    "start_time": "2022-04-04T21:45:20.985Z"
   },
   {
    "duration": 102,
    "start_time": "2022-04-04T21:45:33.915Z"
   },
   {
    "duration": 6,
    "start_time": "2022-04-04T21:45:40.073Z"
   },
   {
    "duration": 7,
    "start_time": "2022-04-04T21:46:20.426Z"
   },
   {
    "duration": 9,
    "start_time": "2022-04-04T21:46:24.372Z"
   },
   {
    "duration": 830,
    "start_time": "2022-04-04T21:46:33.907Z"
   },
   {
    "duration": 8,
    "start_time": "2022-04-04T21:46:36.891Z"
   },
   {
    "duration": 13,
    "start_time": "2022-04-04T21:47:30.830Z"
   },
   {
    "duration": 23,
    "start_time": "2022-04-04T21:47:49.557Z"
   },
   {
    "duration": 21,
    "start_time": "2022-04-04T21:47:54.820Z"
   },
   {
    "duration": 683,
    "start_time": "2022-04-04T21:47:59.308Z"
   },
   {
    "duration": 425,
    "start_time": "2022-04-04T21:47:59.993Z"
   },
   {
    "duration": 2,
    "start_time": "2022-04-04T21:48:00.420Z"
   },
   {
    "duration": 10,
    "start_time": "2022-04-04T21:48:00.424Z"
   },
   {
    "duration": 290,
    "start_time": "2022-04-04T21:48:00.436Z"
   },
   {
    "duration": 10,
    "start_time": "2022-04-04T21:48:00.728Z"
   },
   {
    "duration": 8,
    "start_time": "2022-04-04T21:48:00.740Z"
   },
   {
    "duration": 76,
    "start_time": "2022-04-04T21:48:00.749Z"
   },
   {
    "duration": 3,
    "start_time": "2022-04-04T21:48:00.827Z"
   },
   {
    "duration": 89,
    "start_time": "2022-04-04T21:48:00.837Z"
   },
   {
    "duration": 12,
    "start_time": "2022-04-04T21:48:00.928Z"
   },
   {
    "duration": 70,
    "start_time": "2022-04-04T21:48:00.942Z"
   },
   {
    "duration": 23,
    "start_time": "2022-04-04T21:48:01.014Z"
   },
   {
    "duration": 3,
    "start_time": "2022-04-04T21:48:01.039Z"
   },
   {
    "duration": 18,
    "start_time": "2022-04-04T21:48:01.044Z"
   },
   {
    "duration": 21,
    "start_time": "2022-04-04T21:48:01.064Z"
   },
   {
    "duration": 24,
    "start_time": "2022-04-04T21:48:01.087Z"
   },
   {
    "duration": 8,
    "start_time": "2022-04-04T21:48:01.113Z"
   },
   {
    "duration": 14,
    "start_time": "2022-04-04T21:48:01.123Z"
   },
   {
    "duration": 28,
    "start_time": "2022-04-04T21:48:01.139Z"
   },
   {
    "duration": 101,
    "start_time": "2022-04-04T21:48:01.169Z"
   },
   {
    "duration": 19,
    "start_time": "2022-04-04T21:48:01.272Z"
   },
   {
    "duration": 35,
    "start_time": "2022-04-04T21:48:01.293Z"
   },
   {
    "duration": 31,
    "start_time": "2022-04-04T21:48:01.330Z"
   },
   {
    "duration": 45,
    "start_time": "2022-04-04T21:48:01.362Z"
   },
   {
    "duration": 769,
    "start_time": "2022-04-04T21:48:01.409Z"
   },
   {
    "duration": 2,
    "start_time": "2022-04-04T21:48:02.180Z"
   },
   {
    "duration": 22,
    "start_time": "2022-04-04T21:48:02.186Z"
   },
   {
    "duration": 32,
    "start_time": "2022-04-04T21:48:02.210Z"
   },
   {
    "duration": 24,
    "start_time": "2022-04-04T21:48:02.244Z"
   },
   {
    "duration": 36,
    "start_time": "2022-04-04T21:48:02.270Z"
   },
   {
    "duration": 32,
    "start_time": "2022-04-04T21:48:02.308Z"
   },
   {
    "duration": 54,
    "start_time": "2022-04-04T21:48:02.342Z"
   },
   {
    "duration": 23,
    "start_time": "2022-04-04T21:48:02.398Z"
   },
   {
    "duration": 26,
    "start_time": "2022-04-04T21:48:02.423Z"
   },
   {
    "duration": 34,
    "start_time": "2022-04-04T21:48:02.452Z"
   },
   {
    "duration": 543,
    "start_time": "2022-04-04T21:48:02.488Z"
   },
   {
    "duration": 5,
    "start_time": "2022-04-04T21:48:03.033Z"
   },
   {
    "duration": 35,
    "start_time": "2022-04-04T21:48:03.040Z"
   },
   {
    "duration": 23,
    "start_time": "2022-04-04T21:48:03.077Z"
   },
   {
    "duration": 530,
    "start_time": "2022-04-04T21:48:03.101Z"
   },
   {
    "duration": 2,
    "start_time": "2022-04-04T21:48:03.637Z"
   },
   {
    "duration": 14,
    "start_time": "2022-04-04T21:48:03.641Z"
   },
   {
    "duration": 10,
    "start_time": "2022-04-04T21:48:03.657Z"
   },
   {
    "duration": 5,
    "start_time": "2022-04-04T21:48:03.669Z"
   },
   {
    "duration": 11,
    "start_time": "2022-04-04T21:48:03.676Z"
   },
   {
    "duration": 97,
    "start_time": "2022-04-04T21:48:27.386Z"
   },
   {
    "duration": 15,
    "start_time": "2022-04-04T21:57:18.289Z"
   },
   {
    "duration": 21,
    "start_time": "2022-04-04T22:00:15.145Z"
   },
   {
    "duration": 22,
    "start_time": "2022-04-04T22:00:24.864Z"
   },
   {
    "duration": 9,
    "start_time": "2022-04-04T22:00:40.471Z"
   },
   {
    "duration": 18,
    "start_time": "2022-04-04T22:01:04.823Z"
   },
   {
    "duration": 23,
    "start_time": "2022-04-04T22:01:58.281Z"
   },
   {
    "duration": 15,
    "start_time": "2022-04-04T22:03:56.838Z"
   },
   {
    "duration": 2378,
    "start_time": "2022-04-04T22:04:02.546Z"
   },
   {
    "duration": 19,
    "start_time": "2022-04-04T22:04:17.506Z"
   },
   {
    "duration": 9,
    "start_time": "2022-04-04T22:04:34.169Z"
   },
   {
    "duration": 6,
    "start_time": "2022-04-04T22:05:10.073Z"
   },
   {
    "duration": 1321,
    "start_time": "2022-04-04T22:09:12.408Z"
   },
   {
    "duration": 19,
    "start_time": "2022-04-04T22:13:04.791Z"
   },
   {
    "duration": 8,
    "start_time": "2022-04-04T22:17:49.301Z"
   },
   {
    "duration": 13,
    "start_time": "2022-04-04T22:17:59.853Z"
   },
   {
    "duration": 14,
    "start_time": "2022-04-04T22:18:09.364Z"
   },
   {
    "duration": 14,
    "start_time": "2022-04-04T22:18:34.392Z"
   },
   {
    "duration": 13,
    "start_time": "2022-04-04T22:23:46.504Z"
   },
   {
    "duration": 20,
    "start_time": "2022-04-04T22:23:55.734Z"
   },
   {
    "duration": 80,
    "start_time": "2022-04-04T22:25:26.826Z"
   },
   {
    "duration": 17,
    "start_time": "2022-04-04T22:27:52.680Z"
   },
   {
    "duration": 16,
    "start_time": "2022-04-04T22:28:18.440Z"
   },
   {
    "duration": 15,
    "start_time": "2022-04-04T22:28:25.539Z"
   },
   {
    "duration": 14,
    "start_time": "2022-04-04T22:28:29.573Z"
   },
   {
    "duration": 15,
    "start_time": "2022-04-04T22:29:03.621Z"
   },
   {
    "duration": 31,
    "start_time": "2022-04-04T22:31:10.094Z"
   },
   {
    "duration": 34,
    "start_time": "2022-04-04T22:32:34.871Z"
   },
   {
    "duration": 11,
    "start_time": "2022-04-04T22:32:40.422Z"
   },
   {
    "duration": 26,
    "start_time": "2022-04-04T22:32:48.778Z"
   },
   {
    "duration": 14,
    "start_time": "2022-04-04T22:32:59.799Z"
   },
   {
    "duration": 16,
    "start_time": "2022-04-04T22:33:03.611Z"
   },
   {
    "duration": 12,
    "start_time": "2022-04-04T22:35:33.277Z"
   },
   {
    "duration": 15,
    "start_time": "2022-04-04T22:35:43.500Z"
   },
   {
    "duration": 6,
    "start_time": "2022-04-04T22:35:51.767Z"
   },
   {
    "duration": 20,
    "start_time": "2022-04-04T22:35:55.692Z"
   },
   {
    "duration": 9,
    "start_time": "2022-04-04T22:36:02.313Z"
   },
   {
    "duration": 11,
    "start_time": "2022-04-04T22:36:06.487Z"
   },
   {
    "duration": 107,
    "start_time": "2022-04-04T22:36:34.872Z"
   },
   {
    "duration": 116,
    "start_time": "2022-04-04T22:36:39.118Z"
   },
   {
    "duration": 80,
    "start_time": "2022-04-04T22:36:56.719Z"
   },
   {
    "duration": 83,
    "start_time": "2022-04-04T22:37:00.041Z"
   },
   {
    "duration": 625,
    "start_time": "2022-04-04T22:37:13.583Z"
   },
   {
    "duration": 390,
    "start_time": "2022-04-04T22:37:14.210Z"
   },
   {
    "duration": 4,
    "start_time": "2022-04-04T22:37:14.602Z"
   },
   {
    "duration": 8,
    "start_time": "2022-04-04T22:37:14.609Z"
   },
   {
    "duration": 251,
    "start_time": "2022-04-04T22:37:14.619Z"
   },
   {
    "duration": 6,
    "start_time": "2022-04-04T22:37:14.872Z"
   },
   {
    "duration": 4,
    "start_time": "2022-04-04T22:37:14.880Z"
   },
   {
    "duration": 86,
    "start_time": "2022-04-04T22:37:14.886Z"
   },
   {
    "duration": 3,
    "start_time": "2022-04-04T22:37:14.974Z"
   },
   {
    "duration": 95,
    "start_time": "2022-04-04T22:37:14.981Z"
   },
   {
    "duration": 6,
    "start_time": "2022-04-04T22:37:15.078Z"
   },
   {
    "duration": 67,
    "start_time": "2022-04-04T22:37:15.085Z"
   },
   {
    "duration": 19,
    "start_time": "2022-04-04T22:37:15.154Z"
   },
   {
    "duration": 3,
    "start_time": "2022-04-04T22:37:15.174Z"
   },
   {
    "duration": 9,
    "start_time": "2022-04-04T22:37:15.179Z"
   },
   {
    "duration": 17,
    "start_time": "2022-04-04T22:37:15.190Z"
   },
   {
    "duration": 38,
    "start_time": "2022-04-04T22:37:15.209Z"
   },
   {
    "duration": 7,
    "start_time": "2022-04-04T22:37:15.249Z"
   },
   {
    "duration": 3,
    "start_time": "2022-04-04T22:37:15.259Z"
   },
   {
    "duration": 7,
    "start_time": "2022-04-04T22:37:15.264Z"
   },
   {
    "duration": 92,
    "start_time": "2022-04-04T22:37:15.272Z"
   },
   {
    "duration": 20,
    "start_time": "2022-04-04T22:37:15.366Z"
   },
   {
    "duration": 3,
    "start_time": "2022-04-04T22:37:15.388Z"
   },
   {
    "duration": 7,
    "start_time": "2022-04-04T22:37:15.392Z"
   },
   {
    "duration": 43,
    "start_time": "2022-04-04T22:37:15.401Z"
   },
   {
    "duration": 746,
    "start_time": "2022-04-04T22:37:15.446Z"
   },
   {
    "duration": 3,
    "start_time": "2022-04-04T22:37:16.194Z"
   },
   {
    "duration": 4,
    "start_time": "2022-04-04T22:37:16.201Z"
   },
   {
    "duration": 5,
    "start_time": "2022-04-04T22:37:16.207Z"
   },
   {
    "duration": 7,
    "start_time": "2022-04-04T22:37:16.213Z"
   },
   {
    "duration": 4,
    "start_time": "2022-04-04T22:37:16.237Z"
   },
   {
    "duration": 8,
    "start_time": "2022-04-04T22:37:16.243Z"
   },
   {
    "duration": 36,
    "start_time": "2022-04-04T22:37:16.253Z"
   },
   {
    "duration": 21,
    "start_time": "2022-04-04T22:37:16.291Z"
   },
   {
    "duration": 38,
    "start_time": "2022-04-04T22:37:16.313Z"
   },
   {
    "duration": 2,
    "start_time": "2022-04-04T22:37:16.352Z"
   },
   {
    "duration": 502,
    "start_time": "2022-04-04T22:37:16.356Z"
   },
   {
    "duration": 3,
    "start_time": "2022-04-04T22:37:16.860Z"
   },
   {
    "duration": 132,
    "start_time": "2022-04-04T22:37:16.864Z"
   },
   {
    "duration": 0,
    "start_time": "2022-04-04T22:37:16.998Z"
   },
   {
    "duration": 0,
    "start_time": "2022-04-04T22:37:16.999Z"
   },
   {
    "duration": 0,
    "start_time": "2022-04-04T22:37:17.001Z"
   },
   {
    "duration": 0,
    "start_time": "2022-04-04T22:37:17.002Z"
   },
   {
    "duration": 0,
    "start_time": "2022-04-04T22:37:17.003Z"
   },
   {
    "duration": 0,
    "start_time": "2022-04-04T22:37:17.004Z"
   },
   {
    "duration": 0,
    "start_time": "2022-04-04T22:37:17.005Z"
   },
   {
    "duration": 155,
    "start_time": "2022-04-04T22:37:30.217Z"
   },
   {
    "duration": 89,
    "start_time": "2022-04-04T22:37:37.325Z"
   },
   {
    "duration": 12,
    "start_time": "2022-04-04T22:37:45.670Z"
   },
   {
    "duration": 111,
    "start_time": "2022-04-04T22:39:19.889Z"
   },
   {
    "duration": 10,
    "start_time": "2022-04-04T22:39:25.094Z"
   },
   {
    "duration": 81,
    "start_time": "2022-04-04T22:39:41.182Z"
   },
   {
    "duration": 11,
    "start_time": "2022-04-04T22:39:51.102Z"
   },
   {
    "duration": 14,
    "start_time": "2022-04-04T22:40:36.422Z"
   },
   {
    "duration": 16,
    "start_time": "2022-04-04T22:40:39.219Z"
   },
   {
    "duration": 14,
    "start_time": "2022-04-04T22:41:08.287Z"
   },
   {
    "duration": 16,
    "start_time": "2022-04-04T22:41:11.850Z"
   },
   {
    "duration": 18,
    "start_time": "2022-04-04T22:42:21.539Z"
   },
   {
    "duration": 18,
    "start_time": "2022-04-04T22:42:25.057Z"
   },
   {
    "duration": 17,
    "start_time": "2022-04-04T22:42:26.642Z"
   },
   {
    "duration": 13,
    "start_time": "2022-04-04T22:43:31.577Z"
   },
   {
    "duration": 18,
    "start_time": "2022-04-04T22:43:35.516Z"
   },
   {
    "duration": 21,
    "start_time": "2022-04-04T22:44:21.016Z"
   },
   {
    "duration": 22,
    "start_time": "2022-04-04T22:44:25.273Z"
   },
   {
    "duration": 23,
    "start_time": "2022-04-04T22:44:33.823Z"
   },
   {
    "duration": 13,
    "start_time": "2022-04-04T22:44:55.171Z"
   },
   {
    "duration": 15,
    "start_time": "2022-04-04T22:44:58.466Z"
   },
   {
    "duration": 17,
    "start_time": "2022-04-04T22:45:03.471Z"
   },
   {
    "duration": 16,
    "start_time": "2022-04-04T22:45:07.385Z"
   },
   {
    "duration": 17,
    "start_time": "2022-04-04T22:45:12.448Z"
   },
   {
    "duration": 16,
    "start_time": "2022-04-04T22:45:26.521Z"
   },
   {
    "duration": 16,
    "start_time": "2022-04-04T22:45:28.558Z"
   },
   {
    "duration": 19,
    "start_time": "2022-04-04T22:46:16.585Z"
   },
   {
    "duration": 14,
    "start_time": "2022-04-04T22:46:30.330Z"
   },
   {
    "duration": 18,
    "start_time": "2022-04-04T22:48:13.164Z"
   },
   {
    "duration": 22,
    "start_time": "2022-04-04T22:48:27.134Z"
   },
   {
    "duration": 23,
    "start_time": "2022-04-04T22:49:46.352Z"
   },
   {
    "duration": 24,
    "start_time": "2022-04-04T22:51:37.380Z"
   },
   {
    "duration": 25,
    "start_time": "2022-04-04T22:51:58.218Z"
   },
   {
    "duration": 27,
    "start_time": "2022-04-04T22:52:00.483Z"
   },
   {
    "duration": 25,
    "start_time": "2022-04-04T22:52:52.980Z"
   },
   {
    "duration": 25,
    "start_time": "2022-04-04T22:53:20.280Z"
   },
   {
    "duration": 23,
    "start_time": "2022-04-04T22:53:28.704Z"
   },
   {
    "duration": 4,
    "start_time": "2022-04-04T22:55:04.376Z"
   },
   {
    "duration": 25,
    "start_time": "2022-04-04T22:55:16.616Z"
   },
   {
    "duration": 5,
    "start_time": "2022-04-04T22:56:19.024Z"
   },
   {
    "duration": 21,
    "start_time": "2022-04-04T22:56:29.497Z"
   },
   {
    "duration": 24,
    "start_time": "2022-04-04T22:57:21.898Z"
   },
   {
    "duration": 24,
    "start_time": "2022-04-04T22:57:35.652Z"
   },
   {
    "duration": 23,
    "start_time": "2022-04-04T22:57:51.341Z"
   },
   {
    "duration": 24,
    "start_time": "2022-04-04T22:58:27.725Z"
   },
   {
    "duration": 24,
    "start_time": "2022-04-04T22:58:42.458Z"
   },
   {
    "duration": 658,
    "start_time": "2022-04-04T22:58:49.727Z"
   },
   {
    "duration": 398,
    "start_time": "2022-04-04T22:58:50.387Z"
   },
   {
    "duration": 3,
    "start_time": "2022-04-04T22:58:50.787Z"
   },
   {
    "duration": 11,
    "start_time": "2022-04-04T22:58:50.792Z"
   },
   {
    "duration": 254,
    "start_time": "2022-04-04T22:58:50.804Z"
   },
   {
    "duration": 5,
    "start_time": "2022-04-04T22:58:51.060Z"
   },
   {
    "duration": 6,
    "start_time": "2022-04-04T22:58:51.067Z"
   },
   {
    "duration": 78,
    "start_time": "2022-04-04T22:58:51.074Z"
   },
   {
    "duration": 3,
    "start_time": "2022-04-04T22:58:51.154Z"
   },
   {
    "duration": 87,
    "start_time": "2022-04-04T22:58:51.159Z"
   },
   {
    "duration": 6,
    "start_time": "2022-04-04T22:58:51.248Z"
   },
   {
    "duration": 49,
    "start_time": "2022-04-04T22:58:51.255Z"
   },
   {
    "duration": 40,
    "start_time": "2022-04-04T22:58:51.306Z"
   },
   {
    "duration": 2,
    "start_time": "2022-04-04T22:58:51.348Z"
   },
   {
    "duration": 10,
    "start_time": "2022-04-04T22:58:51.351Z"
   },
   {
    "duration": 16,
    "start_time": "2022-04-04T22:58:51.362Z"
   },
   {
    "duration": 8,
    "start_time": "2022-04-04T22:58:51.380Z"
   },
   {
    "duration": 6,
    "start_time": "2022-04-04T22:58:51.390Z"
   },
   {
    "duration": 7,
    "start_time": "2022-04-04T22:58:51.398Z"
   },
   {
    "duration": 30,
    "start_time": "2022-04-04T22:58:51.407Z"
   },
   {
    "duration": 67,
    "start_time": "2022-04-04T22:58:51.438Z"
   },
   {
    "duration": 32,
    "start_time": "2022-04-04T22:58:51.506Z"
   },
   {
    "duration": 3,
    "start_time": "2022-04-04T22:58:51.539Z"
   },
   {
    "duration": 6,
    "start_time": "2022-04-04T22:58:51.544Z"
   },
   {
    "duration": 22,
    "start_time": "2022-04-04T22:58:51.551Z"
   },
   {
    "duration": 746,
    "start_time": "2022-04-04T22:58:51.575Z"
   },
   {
    "duration": 3,
    "start_time": "2022-04-04T22:58:52.323Z"
   },
   {
    "duration": 9,
    "start_time": "2022-04-04T22:58:52.329Z"
   },
   {
    "duration": 5,
    "start_time": "2022-04-04T22:58:52.340Z"
   },
   {
    "duration": 5,
    "start_time": "2022-04-04T22:58:52.346Z"
   },
   {
    "duration": 5,
    "start_time": "2022-04-04T22:58:52.353Z"
   },
   {
    "duration": 11,
    "start_time": "2022-04-04T22:58:52.360Z"
   },
   {
    "duration": 37,
    "start_time": "2022-04-04T22:58:52.373Z"
   },
   {
    "duration": 34,
    "start_time": "2022-04-04T22:58:52.412Z"
   },
   {
    "duration": 19,
    "start_time": "2022-04-04T22:58:52.448Z"
   },
   {
    "duration": 2,
    "start_time": "2022-04-04T22:58:52.468Z"
   },
   {
    "duration": 514,
    "start_time": "2022-04-04T22:58:52.472Z"
   },
   {
    "duration": 2,
    "start_time": "2022-04-04T22:58:52.988Z"
   },
   {
    "duration": 28,
    "start_time": "2022-04-04T22:58:52.992Z"
   },
   {
    "duration": 480,
    "start_time": "2022-04-04T22:58:53.022Z"
   },
   {
    "duration": 3,
    "start_time": "2022-04-04T22:58:53.503Z"
   },
   {
    "duration": 10,
    "start_time": "2022-04-04T22:58:53.508Z"
   },
   {
    "duration": 8,
    "start_time": "2022-04-04T22:58:53.519Z"
   },
   {
    "duration": 3,
    "start_time": "2022-04-04T22:58:53.538Z"
   },
   {
    "duration": 6,
    "start_time": "2022-04-04T22:58:53.542Z"
   },
   {
    "duration": 25,
    "start_time": "2022-04-04T22:59:09.884Z"
   },
   {
    "duration": 22,
    "start_time": "2022-04-04T22:59:20.886Z"
   },
   {
    "duration": 27,
    "start_time": "2022-04-04T22:59:53.113Z"
   },
   {
    "duration": 26,
    "start_time": "2022-04-04T23:00:35.052Z"
   },
   {
    "duration": 23,
    "start_time": "2022-04-04T23:01:02.958Z"
   },
   {
    "duration": 22,
    "start_time": "2022-04-04T23:01:31.339Z"
   },
   {
    "duration": 16,
    "start_time": "2022-04-04T23:01:52.294Z"
   },
   {
    "duration": 16,
    "start_time": "2022-04-04T23:02:04.932Z"
   },
   {
    "duration": 17,
    "start_time": "2022-04-04T23:02:13.489Z"
   },
   {
    "duration": 17,
    "start_time": "2022-04-04T23:02:15.107Z"
   },
   {
    "duration": 8,
    "start_time": "2022-04-04T23:16:48.523Z"
   },
   {
    "duration": 8,
    "start_time": "2022-04-04T23:22:35.709Z"
   },
   {
    "duration": 8,
    "start_time": "2022-04-04T23:23:36.310Z"
   },
   {
    "duration": 8,
    "start_time": "2022-04-04T23:28:50.552Z"
   },
   {
    "duration": 8,
    "start_time": "2022-04-04T23:28:56.097Z"
   },
   {
    "duration": 9,
    "start_time": "2022-04-04T23:29:00.805Z"
   },
   {
    "duration": 3,
    "start_time": "2022-04-04T23:29:01.884Z"
   },
   {
    "duration": 3,
    "start_time": "2022-04-04T23:29:02.303Z"
   },
   {
    "duration": 2,
    "start_time": "2022-04-04T23:29:03.193Z"
   },
   {
    "duration": 8,
    "start_time": "2022-04-04T23:29:05.169Z"
   },
   {
    "duration": 9,
    "start_time": "2022-04-04T23:31:01.521Z"
   },
   {
    "duration": 8,
    "start_time": "2022-04-04T23:31:08.312Z"
   },
   {
    "duration": 8,
    "start_time": "2022-04-04T23:31:11.263Z"
   },
   {
    "duration": 9,
    "start_time": "2022-04-04T23:31:13.489Z"
   },
   {
    "duration": 9,
    "start_time": "2022-04-04T23:31:17.124Z"
   },
   {
    "duration": 9,
    "start_time": "2022-04-04T23:31:19.600Z"
   },
   {
    "duration": 648,
    "start_time": "2022-04-04T23:31:25.401Z"
   },
   {
    "duration": 419,
    "start_time": "2022-04-04T23:31:26.051Z"
   },
   {
    "duration": 3,
    "start_time": "2022-04-04T23:31:26.472Z"
   },
   {
    "duration": 10,
    "start_time": "2022-04-04T23:31:26.478Z"
   },
   {
    "duration": 279,
    "start_time": "2022-04-04T23:31:26.489Z"
   },
   {
    "duration": 6,
    "start_time": "2022-04-04T23:31:26.770Z"
   },
   {
    "duration": 8,
    "start_time": "2022-04-04T23:31:26.778Z"
   },
   {
    "duration": 89,
    "start_time": "2022-04-04T23:31:26.788Z"
   },
   {
    "duration": 3,
    "start_time": "2022-04-04T23:31:26.879Z"
   },
   {
    "duration": 91,
    "start_time": "2022-04-04T23:31:26.885Z"
   },
   {
    "duration": 7,
    "start_time": "2022-04-04T23:31:26.978Z"
   },
   {
    "duration": 70,
    "start_time": "2022-04-04T23:31:26.987Z"
   },
   {
    "duration": 21,
    "start_time": "2022-04-04T23:31:27.059Z"
   },
   {
    "duration": 3,
    "start_time": "2022-04-04T23:31:27.082Z"
   },
   {
    "duration": 14,
    "start_time": "2022-04-04T23:31:27.087Z"
   },
   {
    "duration": 41,
    "start_time": "2022-04-04T23:31:27.103Z"
   },
   {
    "duration": 10,
    "start_time": "2022-04-04T23:31:27.146Z"
   },
   {
    "duration": 8,
    "start_time": "2022-04-04T23:31:27.158Z"
   },
   {
    "duration": 8,
    "start_time": "2022-04-04T23:31:27.167Z"
   },
   {
    "duration": 6,
    "start_time": "2022-04-04T23:31:27.176Z"
   },
   {
    "duration": 92,
    "start_time": "2022-04-04T23:31:27.184Z"
   },
   {
    "duration": 22,
    "start_time": "2022-04-04T23:31:27.278Z"
   },
   {
    "duration": 3,
    "start_time": "2022-04-04T23:31:27.302Z"
   },
   {
    "duration": 5,
    "start_time": "2022-04-04T23:31:27.307Z"
   },
   {
    "duration": 44,
    "start_time": "2022-04-04T23:31:27.314Z"
   },
   {
    "duration": 765,
    "start_time": "2022-04-04T23:31:27.360Z"
   },
   {
    "duration": 2,
    "start_time": "2022-04-04T23:31:28.127Z"
   },
   {
    "duration": 3,
    "start_time": "2022-04-04T23:31:28.137Z"
   },
   {
    "duration": 8,
    "start_time": "2022-04-04T23:31:28.142Z"
   },
   {
    "duration": 6,
    "start_time": "2022-04-04T23:31:28.152Z"
   },
   {
    "duration": 10,
    "start_time": "2022-04-04T23:31:28.159Z"
   },
   {
    "duration": 9,
    "start_time": "2022-04-04T23:31:28.171Z"
   },
   {
    "duration": 40,
    "start_time": "2022-04-04T23:31:28.182Z"
   },
   {
    "duration": 30,
    "start_time": "2022-04-04T23:31:28.223Z"
   },
   {
    "duration": 22,
    "start_time": "2022-04-04T23:31:28.255Z"
   },
   {
    "duration": 2,
    "start_time": "2022-04-04T23:31:28.279Z"
   },
   {
    "duration": 525,
    "start_time": "2022-04-04T23:31:28.283Z"
   },
   {
    "duration": 2,
    "start_time": "2022-04-04T23:31:28.810Z"
   },
   {
    "duration": 26,
    "start_time": "2022-04-04T23:31:28.814Z"
   },
   {
    "duration": 2,
    "start_time": "2022-04-04T23:31:28.842Z"
   },
   {
    "duration": 475,
    "start_time": "2022-04-04T23:31:28.846Z"
   },
   {
    "duration": 2,
    "start_time": "2022-04-04T23:31:29.323Z"
   },
   {
    "duration": 12,
    "start_time": "2022-04-04T23:31:29.327Z"
   },
   {
    "duration": 5,
    "start_time": "2022-04-04T23:31:29.341Z"
   },
   {
    "duration": 9,
    "start_time": "2022-04-04T23:31:29.348Z"
   },
   {
    "duration": 2,
    "start_time": "2022-04-04T23:31:29.359Z"
   },
   {
    "duration": 13,
    "start_time": "2022-04-04T23:31:29.363Z"
   },
   {
    "duration": 5,
    "start_time": "2022-04-04T23:31:29.377Z"
   },
   {
    "duration": 8,
    "start_time": "2022-04-04T23:31:29.384Z"
   },
   {
    "duration": 9,
    "start_time": "2022-04-04T23:31:34.213Z"
   },
   {
    "duration": 9,
    "start_time": "2022-04-04T23:31:39.652Z"
   },
   {
    "duration": 8,
    "start_time": "2022-04-04T23:31:42.329Z"
   },
   {
    "duration": 8,
    "start_time": "2022-04-04T23:31:54.147Z"
   },
   {
    "duration": 2,
    "start_time": "2022-04-04T23:36:00.093Z"
   },
   {
    "duration": 81,
    "start_time": "2022-04-04T23:39:57.985Z"
   },
   {
    "duration": 17,
    "start_time": "2022-04-04T23:40:39.493Z"
   },
   {
    "duration": 2,
    "start_time": "2022-04-04T23:41:47.191Z"
   },
   {
    "duration": 93,
    "start_time": "2022-04-04T23:57:36.831Z"
   },
   {
    "duration": 599,
    "start_time": "2022-04-04T23:57:53.489Z"
   },
   {
    "duration": 390,
    "start_time": "2022-04-04T23:57:54.090Z"
   },
   {
    "duration": 3,
    "start_time": "2022-04-04T23:57:54.482Z"
   },
   {
    "duration": 8,
    "start_time": "2022-04-04T23:57:54.487Z"
   },
   {
    "duration": 270,
    "start_time": "2022-04-04T23:57:54.496Z"
   },
   {
    "duration": 5,
    "start_time": "2022-04-04T23:57:54.767Z"
   },
   {
    "duration": 5,
    "start_time": "2022-04-04T23:57:54.773Z"
   },
   {
    "duration": 85,
    "start_time": "2022-04-04T23:57:54.780Z"
   },
   {
    "duration": 3,
    "start_time": "2022-04-04T23:57:54.867Z"
   },
   {
    "duration": 85,
    "start_time": "2022-04-04T23:57:54.872Z"
   },
   {
    "duration": 6,
    "start_time": "2022-04-04T23:57:54.958Z"
   },
   {
    "duration": 51,
    "start_time": "2022-04-04T23:57:54.966Z"
   },
   {
    "duration": 37,
    "start_time": "2022-04-04T23:57:55.018Z"
   },
   {
    "duration": 2,
    "start_time": "2022-04-04T23:57:55.056Z"
   },
   {
    "duration": 13,
    "start_time": "2022-04-04T23:57:55.060Z"
   },
   {
    "duration": 17,
    "start_time": "2022-04-04T23:57:55.074Z"
   },
   {
    "duration": 8,
    "start_time": "2022-04-04T23:57:55.093Z"
   },
   {
    "duration": 9,
    "start_time": "2022-04-04T23:57:55.102Z"
   },
   {
    "duration": 27,
    "start_time": "2022-04-04T23:57:55.112Z"
   },
   {
    "duration": 6,
    "start_time": "2022-04-04T23:57:55.141Z"
   },
   {
    "duration": 66,
    "start_time": "2022-04-04T23:57:55.148Z"
   },
   {
    "duration": 26,
    "start_time": "2022-04-04T23:57:55.216Z"
   },
   {
    "duration": 5,
    "start_time": "2022-04-04T23:57:55.244Z"
   },
   {
    "duration": 6,
    "start_time": "2022-04-04T23:57:55.250Z"
   },
   {
    "duration": 13,
    "start_time": "2022-04-04T23:57:55.257Z"
   },
   {
    "duration": 714,
    "start_time": "2022-04-04T23:57:55.271Z"
   },
   {
    "duration": 3,
    "start_time": "2022-04-04T23:57:55.987Z"
   },
   {
    "duration": 8,
    "start_time": "2022-04-04T23:57:55.993Z"
   },
   {
    "duration": 8,
    "start_time": "2022-04-04T23:57:56.002Z"
   },
   {
    "duration": 7,
    "start_time": "2022-04-04T23:57:56.011Z"
   },
   {
    "duration": 18,
    "start_time": "2022-04-04T23:57:56.020Z"
   },
   {
    "duration": 10,
    "start_time": "2022-04-04T23:57:56.040Z"
   },
   {
    "duration": 35,
    "start_time": "2022-04-04T23:57:56.052Z"
   },
   {
    "duration": 20,
    "start_time": "2022-04-04T23:57:56.088Z"
   },
   {
    "duration": 36,
    "start_time": "2022-04-04T23:57:56.110Z"
   },
   {
    "duration": 2,
    "start_time": "2022-04-04T23:57:56.148Z"
   },
   {
    "duration": 491,
    "start_time": "2022-04-04T23:57:56.152Z"
   },
   {
    "duration": 2,
    "start_time": "2022-04-04T23:57:56.644Z"
   },
   {
    "duration": 18,
    "start_time": "2022-04-04T23:57:56.648Z"
   },
   {
    "duration": 2,
    "start_time": "2022-04-04T23:57:56.668Z"
   },
   {
    "duration": 469,
    "start_time": "2022-04-04T23:57:56.672Z"
   },
   {
    "duration": 2,
    "start_time": "2022-04-04T23:57:57.142Z"
   },
   {
    "duration": 7,
    "start_time": "2022-04-04T23:57:57.146Z"
   },
   {
    "duration": 8,
    "start_time": "2022-04-04T23:57:57.155Z"
   },
   {
    "duration": 15,
    "start_time": "2022-04-04T23:57:57.164Z"
   },
   {
    "duration": 3,
    "start_time": "2022-04-04T23:57:57.181Z"
   },
   {
    "duration": 5,
    "start_time": "2022-04-04T23:57:57.185Z"
   },
   {
    "duration": 8,
    "start_time": "2022-04-04T23:57:57.192Z"
   },
   {
    "duration": 6,
    "start_time": "2022-04-04T23:57:57.202Z"
   },
   {
    "duration": 3,
    "start_time": "2022-04-04T23:58:09.788Z"
   },
   {
    "duration": 399,
    "start_time": "2022-04-04T23:58:10.131Z"
   },
   {
    "duration": 3,
    "start_time": "2022-04-04T23:58:10.632Z"
   },
   {
    "duration": 7,
    "start_time": "2022-04-04T23:58:10.749Z"
   },
   {
    "duration": 261,
    "start_time": "2022-04-04T23:58:10.778Z"
   },
   {
    "duration": 4,
    "start_time": "2022-04-04T23:58:11.041Z"
   },
   {
    "duration": 9,
    "start_time": "2022-04-04T23:58:11.047Z"
   },
   {
    "duration": 94,
    "start_time": "2022-04-04T23:58:11.059Z"
   },
   {
    "duration": 2,
    "start_time": "2022-04-04T23:58:11.155Z"
   },
   {
    "duration": 87,
    "start_time": "2022-04-04T23:58:11.159Z"
   },
   {
    "duration": 4,
    "start_time": "2022-04-04T23:58:11.248Z"
   },
   {
    "duration": 41,
    "start_time": "2022-04-04T23:58:11.297Z"
   },
   {
    "duration": 19,
    "start_time": "2022-04-04T23:58:13.322Z"
   },
   {
    "duration": 2,
    "start_time": "2022-04-04T23:58:13.529Z"
   },
   {
    "duration": 7,
    "start_time": "2022-04-04T23:58:13.681Z"
   },
   {
    "duration": 16,
    "start_time": "2022-04-04T23:58:13.842Z"
   },
   {
    "duration": 9,
    "start_time": "2022-04-04T23:58:14.173Z"
   },
   {
    "duration": 8,
    "start_time": "2022-04-04T23:58:15.058Z"
   },
   {
    "duration": 4,
    "start_time": "2022-04-04T23:58:15.270Z"
   },
   {
    "duration": 3,
    "start_time": "2022-04-04T23:58:15.479Z"
   },
   {
    "duration": 71,
    "start_time": "2022-04-04T23:58:15.672Z"
   },
   {
    "duration": 19,
    "start_time": "2022-04-04T23:58:16.509Z"
   },
   {
    "duration": 3,
    "start_time": "2022-04-04T23:58:16.994Z"
   },
   {
    "duration": 3,
    "start_time": "2022-04-04T23:58:17.345Z"
   },
   {
    "duration": 13,
    "start_time": "2022-04-04T23:58:18.273Z"
   },
   {
    "duration": 18,
    "start_time": "2022-04-04T23:58:26.307Z"
   },
   {
    "duration": 1497,
    "start_time": "2022-04-05T00:01:58.312Z"
   },
   {
    "duration": 641,
    "start_time": "2022-04-05T00:02:07.936Z"
   },
   {
    "duration": 398,
    "start_time": "2022-04-05T00:02:08.580Z"
   },
   {
    "duration": 3,
    "start_time": "2022-04-05T00:02:08.980Z"
   },
   {
    "duration": 11,
    "start_time": "2022-04-05T00:02:08.985Z"
   },
   {
    "duration": 269,
    "start_time": "2022-04-05T00:02:08.998Z"
   },
   {
    "duration": 5,
    "start_time": "2022-04-05T00:02:09.269Z"
   },
   {
    "duration": 8,
    "start_time": "2022-04-05T00:02:09.276Z"
   },
   {
    "duration": 82,
    "start_time": "2022-04-05T00:02:09.286Z"
   },
   {
    "duration": 3,
    "start_time": "2022-04-05T00:02:09.370Z"
   },
   {
    "duration": 98,
    "start_time": "2022-04-05T00:02:09.376Z"
   },
   {
    "duration": 7,
    "start_time": "2022-04-05T00:02:09.476Z"
   },
   {
    "duration": 66,
    "start_time": "2022-04-05T00:02:09.485Z"
   },
   {
    "duration": 20,
    "start_time": "2022-04-05T00:02:09.553Z"
   },
   {
    "duration": 3,
    "start_time": "2022-04-05T00:02:09.575Z"
   },
   {
    "duration": 13,
    "start_time": "2022-04-05T00:02:09.580Z"
   },
   {
    "duration": 19,
    "start_time": "2022-04-05T00:02:09.595Z"
   },
   {
    "duration": 11,
    "start_time": "2022-04-05T00:02:09.637Z"
   },
   {
    "duration": 9,
    "start_time": "2022-04-05T00:02:09.650Z"
   },
   {
    "duration": 4,
    "start_time": "2022-04-05T00:02:09.661Z"
   },
   {
    "duration": 4,
    "start_time": "2022-04-05T00:02:09.667Z"
   },
   {
    "duration": 92,
    "start_time": "2022-04-05T00:02:09.673Z"
   },
   {
    "duration": 20,
    "start_time": "2022-04-05T00:02:09.767Z"
   },
   {
    "duration": 3,
    "start_time": "2022-04-05T00:02:09.789Z"
   },
   {
    "duration": 6,
    "start_time": "2022-04-05T00:02:09.794Z"
   },
   {
    "duration": 46,
    "start_time": "2022-04-05T00:02:09.801Z"
   },
   {
    "duration": 766,
    "start_time": "2022-04-05T00:02:09.849Z"
   },
   {
    "duration": 3,
    "start_time": "2022-04-05T00:02:10.617Z"
   },
   {
    "duration": 2,
    "start_time": "2022-04-05T00:02:10.638Z"
   },
   {
    "duration": 5,
    "start_time": "2022-04-05T00:02:10.642Z"
   },
   {
    "duration": 5,
    "start_time": "2022-04-05T00:02:10.649Z"
   },
   {
    "duration": 6,
    "start_time": "2022-04-05T00:02:10.656Z"
   },
   {
    "duration": 5,
    "start_time": "2022-04-05T00:02:10.664Z"
   },
   {
    "duration": 35,
    "start_time": "2022-04-05T00:02:10.671Z"
   },
   {
    "duration": 44,
    "start_time": "2022-04-05T00:02:10.709Z"
   },
   {
    "duration": 24,
    "start_time": "2022-04-05T00:02:10.756Z"
   },
   {
    "duration": 3,
    "start_time": "2022-04-05T00:02:10.781Z"
   },
   {
    "duration": 515,
    "start_time": "2022-04-05T00:02:10.786Z"
   },
   {
    "duration": 3,
    "start_time": "2022-04-05T00:02:11.303Z"
   },
   {
    "duration": 99,
    "start_time": "2022-04-05T00:02:11.308Z"
   },
   {
    "duration": 1,
    "start_time": "2022-04-05T00:02:11.409Z"
   },
   {
    "duration": 0,
    "start_time": "2022-04-05T00:02:11.411Z"
   },
   {
    "duration": 0,
    "start_time": "2022-04-05T00:02:11.412Z"
   },
   {
    "duration": 0,
    "start_time": "2022-04-05T00:02:11.414Z"
   },
   {
    "duration": 0,
    "start_time": "2022-04-05T00:02:11.415Z"
   },
   {
    "duration": 0,
    "start_time": "2022-04-05T00:02:11.416Z"
   },
   {
    "duration": 0,
    "start_time": "2022-04-05T00:02:11.418Z"
   },
   {
    "duration": 0,
    "start_time": "2022-04-05T00:02:11.419Z"
   },
   {
    "duration": 0,
    "start_time": "2022-04-05T00:02:11.437Z"
   },
   {
    "duration": 0,
    "start_time": "2022-04-05T00:02:11.440Z"
   },
   {
    "duration": 19,
    "start_time": "2022-04-05T00:02:39.591Z"
   },
   {
    "duration": 21,
    "start_time": "2022-04-05T00:02:45.231Z"
   },
   {
    "duration": 24,
    "start_time": "2022-04-05T00:02:58.792Z"
   },
   {
    "duration": 21,
    "start_time": "2022-04-05T00:03:16.058Z"
   },
   {
    "duration": 35,
    "start_time": "2022-04-05T00:03:57.069Z"
   },
   {
    "duration": 21,
    "start_time": "2022-04-05T00:04:13.455Z"
   },
   {
    "duration": 21,
    "start_time": "2022-04-05T00:04:44.066Z"
   },
   {
    "duration": 23,
    "start_time": "2022-04-05T00:04:57.381Z"
   },
   {
    "duration": 23,
    "start_time": "2022-04-05T00:05:05.601Z"
   },
   {
    "duration": 24,
    "start_time": "2022-04-05T00:05:09.159Z"
   },
   {
    "duration": 17,
    "start_time": "2022-04-05T00:05:14.312Z"
   },
   {
    "duration": 24,
    "start_time": "2022-04-05T00:05:32.789Z"
   },
   {
    "duration": 17,
    "start_time": "2022-04-05T00:05:44.257Z"
   },
   {
    "duration": 23,
    "start_time": "2022-04-05T00:06:07.718Z"
   },
   {
    "duration": 21,
    "start_time": "2022-04-05T00:06:46.729Z"
   },
   {
    "duration": 22,
    "start_time": "2022-04-05T00:08:53.043Z"
   },
   {
    "duration": 24,
    "start_time": "2022-04-05T00:09:02.128Z"
   },
   {
    "duration": 3,
    "start_time": "2022-04-05T00:10:40.506Z"
   },
   {
    "duration": 4,
    "start_time": "2022-04-05T00:10:55.537Z"
   },
   {
    "duration": 143,
    "start_time": "2022-04-05T14:20:48.187Z"
   },
   {
    "duration": 66,
    "start_time": "2022-04-05T14:29:55.814Z"
   },
   {
    "duration": 867,
    "start_time": "2022-04-05T14:30:03.683Z"
   },
   {
    "duration": 490,
    "start_time": "2022-04-05T14:30:04.553Z"
   },
   {
    "duration": 3,
    "start_time": "2022-04-05T14:30:05.045Z"
   },
   {
    "duration": 13,
    "start_time": "2022-04-05T14:30:05.051Z"
   },
   {
    "duration": 335,
    "start_time": "2022-04-05T14:30:05.067Z"
   },
   {
    "duration": 6,
    "start_time": "2022-04-05T14:30:05.404Z"
   },
   {
    "duration": 11,
    "start_time": "2022-04-05T14:30:05.412Z"
   },
   {
    "duration": 118,
    "start_time": "2022-04-05T14:30:05.425Z"
   },
   {
    "duration": 3,
    "start_time": "2022-04-05T14:30:05.545Z"
   },
   {
    "duration": 155,
    "start_time": "2022-04-05T14:30:05.552Z"
   },
   {
    "duration": 6,
    "start_time": "2022-04-05T14:30:05.710Z"
   },
   {
    "duration": 83,
    "start_time": "2022-04-05T14:30:05.718Z"
   },
   {
    "duration": 29,
    "start_time": "2022-04-05T14:30:05.803Z"
   },
   {
    "duration": 3,
    "start_time": "2022-04-05T14:30:05.834Z"
   },
   {
    "duration": 11,
    "start_time": "2022-04-05T14:30:05.839Z"
   },
   {
    "duration": 28,
    "start_time": "2022-04-05T14:30:05.874Z"
   },
   {
    "duration": 12,
    "start_time": "2022-04-05T14:30:05.904Z"
   },
   {
    "duration": 10,
    "start_time": "2022-04-05T14:30:05.918Z"
   },
   {
    "duration": 4,
    "start_time": "2022-04-05T14:30:05.930Z"
   },
   {
    "duration": 41,
    "start_time": "2022-04-05T14:30:05.936Z"
   },
   {
    "duration": 122,
    "start_time": "2022-04-05T14:30:05.979Z"
   },
   {
    "duration": 28,
    "start_time": "2022-04-05T14:30:06.103Z"
   },
   {
    "duration": 8,
    "start_time": "2022-04-05T14:30:06.133Z"
   },
   {
    "duration": 31,
    "start_time": "2022-04-05T14:30:06.143Z"
   },
   {
    "duration": 8,
    "start_time": "2022-04-05T14:30:06.176Z"
   },
   {
    "duration": 26,
    "start_time": "2022-04-05T14:30:06.186Z"
   },
   {
    "duration": 1281,
    "start_time": "2022-04-05T14:30:06.214Z"
   },
   {
    "duration": 3,
    "start_time": "2022-04-05T14:30:07.501Z"
   },
   {
    "duration": 9,
    "start_time": "2022-04-05T14:30:07.506Z"
   },
   {
    "duration": 11,
    "start_time": "2022-04-05T14:30:07.517Z"
   },
   {
    "duration": 9,
    "start_time": "2022-04-05T14:30:07.530Z"
   },
   {
    "duration": 11,
    "start_time": "2022-04-05T14:30:07.541Z"
   },
   {
    "duration": 20,
    "start_time": "2022-04-05T14:30:07.554Z"
   },
   {
    "duration": 53,
    "start_time": "2022-04-05T14:30:07.576Z"
   },
   {
    "duration": 48,
    "start_time": "2022-04-05T14:30:07.631Z"
   },
   {
    "duration": 30,
    "start_time": "2022-04-05T14:30:07.681Z"
   },
   {
    "duration": 3,
    "start_time": "2022-04-05T14:30:07.713Z"
   },
   {
    "duration": 836,
    "start_time": "2022-04-05T14:30:07.718Z"
   },
   {
    "duration": 3,
    "start_time": "2022-04-05T14:30:08.556Z"
   },
   {
    "duration": 40,
    "start_time": "2022-04-05T14:30:08.561Z"
   },
   {
    "duration": 3,
    "start_time": "2022-04-05T14:30:08.603Z"
   },
   {
    "duration": 628,
    "start_time": "2022-04-05T14:30:08.608Z"
   },
   {
    "duration": 2,
    "start_time": "2022-04-05T14:30:09.239Z"
   },
   {
    "duration": 34,
    "start_time": "2022-04-05T14:30:09.243Z"
   },
   {
    "duration": 26,
    "start_time": "2022-04-05T14:30:09.280Z"
   },
   {
    "duration": 34,
    "start_time": "2022-04-05T14:30:09.308Z"
   },
   {
    "duration": 25,
    "start_time": "2022-04-05T14:30:09.344Z"
   },
   {
    "duration": 23,
    "start_time": "2022-04-05T14:30:09.371Z"
   },
   {
    "duration": 40,
    "start_time": "2022-04-05T14:30:09.396Z"
   },
   {
    "duration": 31,
    "start_time": "2022-04-05T14:30:09.439Z"
   },
   {
    "duration": 6,
    "start_time": "2022-04-05T14:30:59.789Z"
   },
   {
    "duration": 6,
    "start_time": "2022-04-05T14:31:01.571Z"
   },
   {
    "duration": 19,
    "start_time": "2022-04-05T14:31:35.805Z"
   },
   {
    "duration": 19,
    "start_time": "2022-04-05T14:32:10.296Z"
   },
   {
    "duration": 124,
    "start_time": "2022-04-05T14:36:30.583Z"
   },
   {
    "duration": 2494,
    "start_time": "2022-04-05T14:36:47.781Z"
   },
   {
    "duration": 1956,
    "start_time": "2022-04-05T14:37:03.864Z"
   },
   {
    "duration": 2458,
    "start_time": "2022-04-05T14:37:31.529Z"
   },
   {
    "duration": 954,
    "start_time": "2022-04-05T14:38:03.700Z"
   },
   {
    "duration": 567,
    "start_time": "2022-04-05T14:38:04.657Z"
   },
   {
    "duration": 3,
    "start_time": "2022-04-05T14:38:05.226Z"
   },
   {
    "duration": 21,
    "start_time": "2022-04-05T14:38:05.232Z"
   },
   {
    "duration": 346,
    "start_time": "2022-04-05T14:38:05.255Z"
   },
   {
    "duration": 7,
    "start_time": "2022-04-05T14:38:05.603Z"
   },
   {
    "duration": 11,
    "start_time": "2022-04-05T14:38:05.612Z"
   },
   {
    "duration": 131,
    "start_time": "2022-04-05T14:38:05.625Z"
   },
   {
    "duration": 4,
    "start_time": "2022-04-05T14:38:05.758Z"
   },
   {
    "duration": 120,
    "start_time": "2022-04-05T14:38:05.774Z"
   },
   {
    "duration": 7,
    "start_time": "2022-04-05T14:38:05.896Z"
   },
   {
    "duration": 87,
    "start_time": "2022-04-05T14:38:05.906Z"
   },
   {
    "duration": 30,
    "start_time": "2022-04-05T14:38:05.996Z"
   },
   {
    "duration": 4,
    "start_time": "2022-04-05T14:38:06.028Z"
   },
   {
    "duration": 11,
    "start_time": "2022-04-05T14:38:06.034Z"
   },
   {
    "duration": 53,
    "start_time": "2022-04-05T14:38:06.048Z"
   },
   {
    "duration": 14,
    "start_time": "2022-04-05T14:38:06.103Z"
   },
   {
    "duration": 30,
    "start_time": "2022-04-05T14:38:06.120Z"
   },
   {
    "duration": 10,
    "start_time": "2022-04-05T14:38:06.152Z"
   },
   {
    "duration": 3,
    "start_time": "2022-04-05T14:38:06.174Z"
   },
   {
    "duration": 134,
    "start_time": "2022-04-05T14:38:06.179Z"
   },
   {
    "duration": 41,
    "start_time": "2022-04-05T14:38:06.315Z"
   },
   {
    "duration": 22,
    "start_time": "2022-04-05T14:38:06.358Z"
   },
   {
    "duration": 27,
    "start_time": "2022-04-05T14:38:06.383Z"
   },
   {
    "duration": 3,
    "start_time": "2022-04-05T14:38:06.413Z"
   },
   {
    "duration": 6,
    "start_time": "2022-04-05T14:38:06.419Z"
   },
   {
    "duration": 60,
    "start_time": "2022-04-05T14:38:06.428Z"
   },
   {
    "duration": 1182,
    "start_time": "2022-04-05T14:38:06.495Z"
   },
   {
    "duration": 3,
    "start_time": "2022-04-05T14:38:07.680Z"
   },
   {
    "duration": 26,
    "start_time": "2022-04-05T14:38:07.686Z"
   },
   {
    "duration": 21,
    "start_time": "2022-04-05T14:38:07.714Z"
   },
   {
    "duration": 22,
    "start_time": "2022-04-05T14:38:07.737Z"
   },
   {
    "duration": 14,
    "start_time": "2022-04-05T14:38:07.762Z"
   },
   {
    "duration": 34,
    "start_time": "2022-04-05T14:38:07.778Z"
   },
   {
    "duration": 81,
    "start_time": "2022-04-05T14:38:07.815Z"
   },
   {
    "duration": 35,
    "start_time": "2022-04-05T14:38:07.899Z"
   },
   {
    "duration": 56,
    "start_time": "2022-04-05T14:38:07.937Z"
   },
   {
    "duration": 4,
    "start_time": "2022-04-05T14:38:07.996Z"
   },
   {
    "duration": 835,
    "start_time": "2022-04-05T14:38:08.002Z"
   },
   {
    "duration": 4,
    "start_time": "2022-04-05T14:38:08.839Z"
   },
   {
    "duration": 50,
    "start_time": "2022-04-05T14:38:08.846Z"
   },
   {
    "duration": 17,
    "start_time": "2022-04-05T14:38:08.898Z"
   },
   {
    "duration": 617,
    "start_time": "2022-04-05T14:38:08.917Z"
   },
   {
    "duration": 3,
    "start_time": "2022-04-05T14:38:09.536Z"
   },
   {
    "duration": 32,
    "start_time": "2022-04-05T14:38:09.540Z"
   },
   {
    "duration": 15,
    "start_time": "2022-04-05T14:38:09.574Z"
   },
   {
    "duration": 32,
    "start_time": "2022-04-05T14:38:09.591Z"
   },
   {
    "duration": 14,
    "start_time": "2022-04-05T14:38:09.625Z"
   },
   {
    "duration": 24,
    "start_time": "2022-04-05T14:38:09.641Z"
   },
   {
    "duration": 35,
    "start_time": "2022-04-05T14:38:09.667Z"
   },
   {
    "duration": 19,
    "start_time": "2022-04-05T14:38:09.704Z"
   },
   {
    "duration": 891,
    "start_time": "2022-04-05T14:50:02.497Z"
   },
   {
    "duration": 512,
    "start_time": "2022-04-05T14:50:03.391Z"
   },
   {
    "duration": 4,
    "start_time": "2022-04-05T14:50:03.905Z"
   },
   {
    "duration": 22,
    "start_time": "2022-04-05T14:50:03.912Z"
   },
   {
    "duration": 380,
    "start_time": "2022-04-05T14:50:03.936Z"
   },
   {
    "duration": 7,
    "start_time": "2022-04-05T14:50:04.318Z"
   },
   {
    "duration": 6,
    "start_time": "2022-04-05T14:50:04.327Z"
   },
   {
    "duration": 131,
    "start_time": "2022-04-05T14:50:04.336Z"
   },
   {
    "duration": 6,
    "start_time": "2022-04-05T14:50:04.469Z"
   },
   {
    "duration": 132,
    "start_time": "2022-04-05T14:50:04.478Z"
   },
   {
    "duration": 8,
    "start_time": "2022-04-05T14:50:04.613Z"
   },
   {
    "duration": 99,
    "start_time": "2022-04-05T14:50:04.623Z"
   },
   {
    "duration": 30,
    "start_time": "2022-04-05T14:50:04.724Z"
   },
   {
    "duration": 3,
    "start_time": "2022-04-05T14:50:04.756Z"
   },
   {
    "duration": 10,
    "start_time": "2022-04-05T14:50:04.774Z"
   },
   {
    "duration": 34,
    "start_time": "2022-04-05T14:50:04.786Z"
   },
   {
    "duration": 13,
    "start_time": "2022-04-05T14:50:04.822Z"
   },
   {
    "duration": 48,
    "start_time": "2022-04-05T14:50:04.838Z"
   },
   {
    "duration": 9,
    "start_time": "2022-04-05T14:50:04.889Z"
   },
   {
    "duration": 7,
    "start_time": "2022-04-05T14:50:04.901Z"
   },
   {
    "duration": 219,
    "start_time": "2022-04-05T14:50:04.911Z"
   },
   {
    "duration": 56,
    "start_time": "2022-04-05T14:50:05.132Z"
   },
   {
    "duration": 8,
    "start_time": "2022-04-05T14:50:05.191Z"
   },
   {
    "duration": 26,
    "start_time": "2022-04-05T14:50:05.203Z"
   },
   {
    "duration": 4,
    "start_time": "2022-04-05T14:50:05.231Z"
   },
   {
    "duration": 37,
    "start_time": "2022-04-05T14:50:05.238Z"
   },
   {
    "duration": 31,
    "start_time": "2022-04-05T14:50:05.277Z"
   },
   {
    "duration": 1394,
    "start_time": "2022-04-05T14:50:05.315Z"
   },
   {
    "duration": 3,
    "start_time": "2022-04-05T14:50:06.711Z"
   },
   {
    "duration": 15,
    "start_time": "2022-04-05T14:50:06.717Z"
   },
   {
    "duration": 13,
    "start_time": "2022-04-05T14:50:06.735Z"
   },
   {
    "duration": 15,
    "start_time": "2022-04-05T14:50:06.751Z"
   },
   {
    "duration": 12,
    "start_time": "2022-04-05T14:50:06.768Z"
   },
   {
    "duration": 11,
    "start_time": "2022-04-05T14:50:06.782Z"
   },
   {
    "duration": 76,
    "start_time": "2022-04-05T14:50:06.795Z"
   },
   {
    "duration": 32,
    "start_time": "2022-04-05T14:50:06.874Z"
   },
   {
    "duration": 31,
    "start_time": "2022-04-05T14:50:06.909Z"
   },
   {
    "duration": 3,
    "start_time": "2022-04-05T14:50:06.942Z"
   },
   {
    "duration": 845,
    "start_time": "2022-04-05T14:50:06.948Z"
   },
   {
    "duration": 3,
    "start_time": "2022-04-05T14:50:07.796Z"
   },
   {
    "duration": 44,
    "start_time": "2022-04-05T14:50:07.801Z"
   },
   {
    "duration": 3,
    "start_time": "2022-04-05T14:50:07.848Z"
   },
   {
    "duration": 591,
    "start_time": "2022-04-05T14:50:07.853Z"
   },
   {
    "duration": 3,
    "start_time": "2022-04-05T14:50:08.446Z"
   },
   {
    "duration": 9,
    "start_time": "2022-04-05T14:50:08.452Z"
   },
   {
    "duration": 16,
    "start_time": "2022-04-05T14:50:08.463Z"
   },
   {
    "duration": 48,
    "start_time": "2022-04-05T14:50:08.481Z"
   },
   {
    "duration": 13,
    "start_time": "2022-04-05T14:50:08.531Z"
   },
   {
    "duration": 33,
    "start_time": "2022-04-05T14:50:08.547Z"
   },
   {
    "duration": 39,
    "start_time": "2022-04-05T14:50:08.582Z"
   },
   {
    "duration": 13,
    "start_time": "2022-04-05T14:50:08.623Z"
   },
   {
    "duration": 859,
    "start_time": "2022-04-05T14:50:59.806Z"
   },
   {
    "duration": 557,
    "start_time": "2022-04-05T14:51:00.667Z"
   },
   {
    "duration": 4,
    "start_time": "2022-04-05T14:51:01.226Z"
   },
   {
    "duration": 22,
    "start_time": "2022-04-05T14:51:01.232Z"
   },
   {
    "duration": 365,
    "start_time": "2022-04-05T14:51:01.257Z"
   },
   {
    "duration": 7,
    "start_time": "2022-04-05T14:51:01.624Z"
   },
   {
    "duration": 18,
    "start_time": "2022-04-05T14:51:01.633Z"
   },
   {
    "duration": 124,
    "start_time": "2022-04-05T14:51:01.653Z"
   },
   {
    "duration": 3,
    "start_time": "2022-04-05T14:51:01.780Z"
   },
   {
    "duration": 142,
    "start_time": "2022-04-05T14:51:01.785Z"
   },
   {
    "duration": 7,
    "start_time": "2022-04-05T14:51:01.930Z"
   },
   {
    "duration": 94,
    "start_time": "2022-04-05T14:51:01.940Z"
   },
   {
    "duration": 38,
    "start_time": "2022-04-05T14:51:02.036Z"
   },
   {
    "duration": 4,
    "start_time": "2022-04-05T14:51:02.079Z"
   },
   {
    "duration": 37,
    "start_time": "2022-04-05T14:51:02.085Z"
   },
   {
    "duration": 52,
    "start_time": "2022-04-05T14:51:02.124Z"
   },
   {
    "duration": 12,
    "start_time": "2022-04-05T14:51:02.179Z"
   },
   {
    "duration": 21,
    "start_time": "2022-04-05T14:51:02.193Z"
   },
   {
    "duration": 28,
    "start_time": "2022-04-05T14:51:02.216Z"
   },
   {
    "duration": 34,
    "start_time": "2022-04-05T14:51:02.247Z"
   },
   {
    "duration": 136,
    "start_time": "2022-04-05T14:51:02.284Z"
   },
   {
    "duration": 29,
    "start_time": "2022-04-05T14:51:02.422Z"
   },
   {
    "duration": 25,
    "start_time": "2022-04-05T14:51:02.453Z"
   },
   {
    "duration": 30,
    "start_time": "2022-04-05T14:51:02.480Z"
   },
   {
    "duration": 6,
    "start_time": "2022-04-05T14:51:02.512Z"
   },
   {
    "duration": 19,
    "start_time": "2022-04-05T14:51:02.520Z"
   },
   {
    "duration": 37,
    "start_time": "2022-04-05T14:51:02.541Z"
   },
   {
    "duration": 1173,
    "start_time": "2022-04-05T14:51:02.580Z"
   },
   {
    "duration": 4,
    "start_time": "2022-04-05T14:51:03.756Z"
   },
   {
    "duration": 17,
    "start_time": "2022-04-05T14:51:03.762Z"
   },
   {
    "duration": 26,
    "start_time": "2022-04-05T14:51:03.782Z"
   },
   {
    "duration": 28,
    "start_time": "2022-04-05T14:51:03.810Z"
   },
   {
    "duration": 30,
    "start_time": "2022-04-05T14:51:03.841Z"
   },
   {
    "duration": 29,
    "start_time": "2022-04-05T14:51:03.874Z"
   },
   {
    "duration": 62,
    "start_time": "2022-04-05T14:51:03.905Z"
   },
   {
    "duration": 29,
    "start_time": "2022-04-05T14:51:03.969Z"
   },
   {
    "duration": 35,
    "start_time": "2022-04-05T14:51:04.000Z"
   },
   {
    "duration": 3,
    "start_time": "2022-04-05T14:51:04.037Z"
   },
   {
    "duration": 822,
    "start_time": "2022-04-05T14:51:04.042Z"
   },
   {
    "duration": 8,
    "start_time": "2022-04-05T14:51:04.866Z"
   },
   {
    "duration": 31,
    "start_time": "2022-04-05T14:51:04.879Z"
   },
   {
    "duration": 3,
    "start_time": "2022-04-05T14:51:04.912Z"
   },
   {
    "duration": 611,
    "start_time": "2022-04-05T14:51:04.917Z"
   },
   {
    "duration": 3,
    "start_time": "2022-04-05T14:51:05.530Z"
   },
   {
    "duration": 194,
    "start_time": "2022-04-05T14:51:05.535Z"
   },
   {
    "duration": 7,
    "start_time": "2022-04-05T14:51:05.732Z"
   },
   {
    "duration": 13,
    "start_time": "2022-04-05T14:51:05.741Z"
   },
   {
    "duration": 3,
    "start_time": "2022-04-05T14:51:05.757Z"
   },
   {
    "duration": 10,
    "start_time": "2022-04-05T14:51:05.763Z"
   },
   {
    "duration": 7,
    "start_time": "2022-04-05T14:51:05.776Z"
   },
   {
    "duration": 9,
    "start_time": "2022-04-05T14:51:05.785Z"
   },
   {
    "duration": 47,
    "start_time": "2022-04-05T16:19:33.968Z"
   },
   {
    "duration": 803,
    "start_time": "2022-04-05T16:19:44.776Z"
   },
   {
    "duration": 389,
    "start_time": "2022-04-05T16:19:45.581Z"
   },
   {
    "duration": 3,
    "start_time": "2022-04-05T16:19:45.972Z"
   },
   {
    "duration": 7,
    "start_time": "2022-04-05T16:19:46.052Z"
   },
   {
    "duration": 249,
    "start_time": "2022-04-05T16:19:46.543Z"
   },
   {
    "duration": 5,
    "start_time": "2022-04-05T16:19:46.920Z"
   },
   {
    "duration": 2,
    "start_time": "2022-04-05T16:19:47.457Z"
   },
   {
    "duration": 72,
    "start_time": "2022-04-05T16:19:48.950Z"
   },
   {
    "duration": 3,
    "start_time": "2022-04-05T16:19:49.151Z"
   },
   {
    "duration": 96,
    "start_time": "2022-04-05T16:19:51.455Z"
   },
   {
    "duration": 5,
    "start_time": "2022-04-05T16:19:52.342Z"
   },
   {
    "duration": 47,
    "start_time": "2022-04-05T16:19:53.575Z"
   },
   {
    "duration": 19,
    "start_time": "2022-04-05T16:19:54.750Z"
   },
   {
    "duration": 3,
    "start_time": "2022-04-05T16:19:55.138Z"
   },
   {
    "duration": 8,
    "start_time": "2022-04-05T16:19:55.587Z"
   },
   {
    "duration": 17,
    "start_time": "2022-04-05T16:19:56.172Z"
   },
   {
    "duration": 9,
    "start_time": "2022-04-05T16:19:57.714Z"
   },
   {
    "duration": 6,
    "start_time": "2022-04-05T16:19:59.674Z"
   },
   {
    "duration": 2,
    "start_time": "2022-04-05T16:20:00.383Z"
   },
   {
    "duration": 3,
    "start_time": "2022-04-05T16:20:03.724Z"
   },
   {
    "duration": 8,
    "start_time": "2022-04-05T16:20:04.073Z"
   },
   {
    "duration": 36,
    "start_time": "2022-04-05T16:21:14.139Z"
   },
   {
    "duration": 13,
    "start_time": "2022-04-05T16:21:19.196Z"
   },
   {
    "duration": 11,
    "start_time": "2022-04-05T16:21:28.674Z"
   },
   {
    "duration": 3,
    "start_time": "2022-04-05T16:21:30.974Z"
   },
   {
    "duration": 5,
    "start_time": "2022-04-05T16:23:44.595Z"
   },
   {
    "duration": 11,
    "start_time": "2022-04-05T16:23:51.204Z"
   },
   {
    "duration": 4,
    "start_time": "2022-04-05T16:24:01.482Z"
   },
   {
    "duration": 11,
    "start_time": "2022-04-05T16:25:49.674Z"
   },
   {
    "duration": 8,
    "start_time": "2022-04-05T16:26:26.394Z"
   },
   {
    "duration": 5,
    "start_time": "2022-04-05T16:26:30.109Z"
   },
   {
    "duration": 6,
    "start_time": "2022-04-05T16:28:04.394Z"
   },
   {
    "duration": 5,
    "start_time": "2022-04-05T16:28:09.237Z"
   },
   {
    "duration": 6,
    "start_time": "2022-04-05T16:28:11.939Z"
   },
   {
    "duration": 5,
    "start_time": "2022-04-05T16:28:17.268Z"
   },
   {
    "duration": 5,
    "start_time": "2022-04-05T16:28:21.786Z"
   },
   {
    "duration": 5,
    "start_time": "2022-04-05T16:28:28.557Z"
   },
   {
    "duration": 5,
    "start_time": "2022-04-05T16:28:36.502Z"
   },
   {
    "duration": 5,
    "start_time": "2022-04-05T16:29:21.613Z"
   },
   {
    "duration": 5,
    "start_time": "2022-04-05T16:29:26.621Z"
   },
   {
    "duration": 5,
    "start_time": "2022-04-05T16:29:32.187Z"
   },
   {
    "duration": 5,
    "start_time": "2022-04-05T16:29:39.068Z"
   },
   {
    "duration": 5,
    "start_time": "2022-04-05T16:29:44.928Z"
   },
   {
    "duration": 5,
    "start_time": "2022-04-05T16:29:49.772Z"
   },
   {
    "duration": 5,
    "start_time": "2022-04-05T16:29:54.115Z"
   },
   {
    "duration": 4,
    "start_time": "2022-04-05T16:29:59.727Z"
   },
   {
    "duration": 4,
    "start_time": "2022-04-05T16:29:59.905Z"
   },
   {
    "duration": 87,
    "start_time": "2022-04-05T16:30:15.261Z"
   },
   {
    "duration": 22,
    "start_time": "2022-04-05T16:31:04.220Z"
   },
   {
    "duration": 5,
    "start_time": "2022-04-05T16:31:12.545Z"
   },
   {
    "duration": 14,
    "start_time": "2022-04-05T16:31:21.068Z"
   },
   {
    "duration": 19,
    "start_time": "2022-04-05T16:36:34.566Z"
   },
   {
    "duration": 5,
    "start_time": "2022-04-05T16:36:48.533Z"
   },
   {
    "duration": 18,
    "start_time": "2022-04-05T16:36:49.311Z"
   },
   {
    "duration": 4,
    "start_time": "2022-04-05T16:36:57.995Z"
   },
   {
    "duration": 4,
    "start_time": "2022-04-05T16:36:58.265Z"
   },
   {
    "duration": 102,
    "start_time": "2022-04-05T16:36:58.711Z"
   },
   {
    "duration": 17,
    "start_time": "2022-04-05T16:37:02.956Z"
   },
   {
    "duration": 18,
    "start_time": "2022-04-05T16:37:58.095Z"
   },
   {
    "duration": 4,
    "start_time": "2022-04-05T16:38:06.015Z"
   },
   {
    "duration": 17,
    "start_time": "2022-04-05T16:40:58.260Z"
   },
   {
    "duration": 1813,
    "start_time": "2022-04-05T16:41:22.950Z"
   },
   {
    "duration": 18,
    "start_time": "2022-04-05T16:41:31.714Z"
   },
   {
    "duration": 4,
    "start_time": "2022-04-05T16:41:51.566Z"
   },
   {
    "duration": 4,
    "start_time": "2022-04-05T16:41:51.759Z"
   },
   {
    "duration": 101,
    "start_time": "2022-04-05T16:41:52.298Z"
   },
   {
    "duration": 19,
    "start_time": "2022-04-05T16:41:53.469Z"
   },
   {
    "duration": 106,
    "start_time": "2022-04-05T16:51:20.296Z"
   },
   {
    "duration": 17,
    "start_time": "2022-04-05T16:51:22.101Z"
   },
   {
    "duration": 16,
    "start_time": "2022-04-05T16:51:31.745Z"
   },
   {
    "duration": 7,
    "start_time": "2022-04-05T16:51:34.835Z"
   },
   {
    "duration": 4,
    "start_time": "2022-04-05T16:53:09.162Z"
   },
   {
    "duration": 3,
    "start_time": "2022-04-05T16:53:09.447Z"
   },
   {
    "duration": 98,
    "start_time": "2022-04-05T16:53:10.093Z"
   },
   {
    "duration": 24,
    "start_time": "2022-04-05T16:53:11.721Z"
   },
   {
    "duration": 102,
    "start_time": "2022-04-05T16:55:23.247Z"
   },
   {
    "duration": 99,
    "start_time": "2022-04-05T16:56:02.401Z"
   },
   {
    "duration": 18,
    "start_time": "2022-04-05T16:56:06.559Z"
   },
   {
    "duration": 95,
    "start_time": "2022-04-05T16:56:13.759Z"
   },
   {
    "duration": 21,
    "start_time": "2022-04-05T16:56:21.136Z"
   },
   {
    "duration": 17,
    "start_time": "2022-04-05T16:56:28.664Z"
   },
   {
    "duration": 20,
    "start_time": "2022-04-05T16:57:02.648Z"
   },
   {
    "duration": 93,
    "start_time": "2022-04-05T16:57:25.043Z"
   },
   {
    "duration": 20,
    "start_time": "2022-04-05T16:57:29.395Z"
   },
   {
    "duration": 4,
    "start_time": "2022-04-05T16:57:35.605Z"
   },
   {
    "duration": 9,
    "start_time": "2022-04-05T16:58:10.529Z"
   },
   {
    "duration": 10,
    "start_time": "2022-04-05T16:58:13.421Z"
   },
   {
    "duration": 18,
    "start_time": "2022-04-05T16:58:16.379Z"
   },
   {
    "duration": 99,
    "start_time": "2022-04-05T16:58:36.952Z"
   },
   {
    "duration": 16,
    "start_time": "2022-04-05T16:58:42.006Z"
   },
   {
    "duration": 4,
    "start_time": "2022-04-05T16:58:47.073Z"
   },
   {
    "duration": 14,
    "start_time": "2022-04-05T17:00:05.301Z"
   },
   {
    "duration": 3,
    "start_time": "2022-04-05T17:00:20.456Z"
   },
   {
    "duration": 2,
    "start_time": "2022-04-05T17:00:20.824Z"
   },
   {
    "duration": 23,
    "start_time": "2022-04-05T17:00:21.634Z"
   },
   {
    "duration": 736,
    "start_time": "2022-04-05T17:00:23.455Z"
   },
   {
    "duration": 3,
    "start_time": "2022-04-05T17:00:26.956Z"
   },
   {
    "duration": 3,
    "start_time": "2022-04-05T17:00:27.275Z"
   },
   {
    "duration": 3,
    "start_time": "2022-04-05T17:00:27.614Z"
   },
   {
    "duration": 2,
    "start_time": "2022-04-05T17:00:28.013Z"
   },
   {
    "duration": 3,
    "start_time": "2022-04-05T17:00:28.711Z"
   },
   {
    "duration": 4,
    "start_time": "2022-04-05T17:00:32.104Z"
   },
   {
    "duration": 34,
    "start_time": "2022-04-05T17:00:38.547Z"
   },
   {
    "duration": 20,
    "start_time": "2022-04-05T17:00:44.310Z"
   },
   {
    "duration": 91,
    "start_time": "2022-04-05T17:02:15.695Z"
   },
   {
    "duration": 5,
    "start_time": "2022-04-05T17:02:19.999Z"
   },
   {
    "duration": 92,
    "start_time": "2022-04-05T17:02:29.393Z"
   },
   {
    "duration": 5,
    "start_time": "2022-04-05T17:02:35.765Z"
   },
   {
    "duration": 10,
    "start_time": "2022-04-05T17:02:37.429Z"
   },
   {
    "duration": 7,
    "start_time": "2022-04-05T17:02:40.609Z"
   },
   {
    "duration": 2,
    "start_time": "2022-04-05T17:02:40.799Z"
   },
   {
    "duration": 3,
    "start_time": "2022-04-05T17:02:41.497Z"
   },
   {
    "duration": 8,
    "start_time": "2022-04-05T17:02:41.992Z"
   },
   {
    "duration": 4,
    "start_time": "2022-04-05T17:02:42.706Z"
   },
   {
    "duration": 3,
    "start_time": "2022-04-05T17:02:43.090Z"
   },
   {
    "duration": 91,
    "start_time": "2022-04-05T17:02:45.457Z"
   },
   {
    "duration": 4,
    "start_time": "2022-04-05T17:02:48.487Z"
   },
   {
    "duration": 677,
    "start_time": "2022-04-05T17:02:54.679Z"
   },
   {
    "duration": 398,
    "start_time": "2022-04-05T17:02:55.358Z"
   },
   {
    "duration": 3,
    "start_time": "2022-04-05T17:02:55.758Z"
   },
   {
    "duration": 8,
    "start_time": "2022-04-05T17:02:55.763Z"
   },
   {
    "duration": 261,
    "start_time": "2022-04-05T17:02:55.773Z"
   },
   {
    "duration": 5,
    "start_time": "2022-04-05T17:02:56.036Z"
   },
   {
    "duration": 13,
    "start_time": "2022-04-05T17:02:56.043Z"
   },
   {
    "duration": 78,
    "start_time": "2022-04-05T17:02:56.058Z"
   },
   {
    "duration": 4,
    "start_time": "2022-04-05T17:02:56.138Z"
   },
   {
    "duration": 95,
    "start_time": "2022-04-05T17:02:56.145Z"
   },
   {
    "duration": 8,
    "start_time": "2022-04-05T17:02:56.242Z"
   },
   {
    "duration": 50,
    "start_time": "2022-04-05T17:02:56.251Z"
   },
   {
    "duration": 39,
    "start_time": "2022-04-05T17:02:56.302Z"
   },
   {
    "duration": 4,
    "start_time": "2022-04-05T17:02:56.343Z"
   },
   {
    "duration": 11,
    "start_time": "2022-04-05T17:02:56.349Z"
   },
   {
    "duration": 17,
    "start_time": "2022-04-05T17:02:56.362Z"
   },
   {
    "duration": 9,
    "start_time": "2022-04-05T17:02:56.381Z"
   },
   {
    "duration": 23,
    "start_time": "2022-04-05T17:02:56.391Z"
   },
   {
    "duration": 15,
    "start_time": "2022-04-05T17:02:56.416Z"
   },
   {
    "duration": 18,
    "start_time": "2022-04-05T17:02:56.434Z"
   },
   {
    "duration": 10,
    "start_time": "2022-04-05T17:02:56.453Z"
   },
   {
    "duration": 6,
    "start_time": "2022-04-05T17:02:56.465Z"
   },
   {
    "duration": 5,
    "start_time": "2022-04-05T17:02:56.473Z"
   },
   {
    "duration": 106,
    "start_time": "2022-04-05T17:02:56.479Z"
   },
   {
    "duration": 0,
    "start_time": "2022-04-05T17:02:56.587Z"
   },
   {
    "duration": 0,
    "start_time": "2022-04-05T17:02:56.588Z"
   },
   {
    "duration": 0,
    "start_time": "2022-04-05T17:02:56.589Z"
   },
   {
    "duration": 0,
    "start_time": "2022-04-05T17:02:56.590Z"
   },
   {
    "duration": 0,
    "start_time": "2022-04-05T17:02:56.591Z"
   },
   {
    "duration": 0,
    "start_time": "2022-04-05T17:02:56.593Z"
   },
   {
    "duration": 0,
    "start_time": "2022-04-05T17:02:56.593Z"
   },
   {
    "duration": 0,
    "start_time": "2022-04-05T17:02:56.594Z"
   },
   {
    "duration": 0,
    "start_time": "2022-04-05T17:02:56.595Z"
   },
   {
    "duration": 0,
    "start_time": "2022-04-05T17:02:56.597Z"
   },
   {
    "duration": 0,
    "start_time": "2022-04-05T17:02:56.598Z"
   },
   {
    "duration": 0,
    "start_time": "2022-04-05T17:02:56.599Z"
   },
   {
    "duration": 0,
    "start_time": "2022-04-05T17:02:56.600Z"
   },
   {
    "duration": 0,
    "start_time": "2022-04-05T17:02:56.634Z"
   },
   {
    "duration": 0,
    "start_time": "2022-04-05T17:02:56.636Z"
   },
   {
    "duration": 0,
    "start_time": "2022-04-05T17:02:56.637Z"
   },
   {
    "duration": 0,
    "start_time": "2022-04-05T17:02:56.639Z"
   },
   {
    "duration": 0,
    "start_time": "2022-04-05T17:02:56.641Z"
   },
   {
    "duration": 0,
    "start_time": "2022-04-05T17:02:56.642Z"
   },
   {
    "duration": 0,
    "start_time": "2022-04-05T17:02:56.643Z"
   },
   {
    "duration": 0,
    "start_time": "2022-04-05T17:02:56.644Z"
   },
   {
    "duration": 0,
    "start_time": "2022-04-05T17:02:56.646Z"
   },
   {
    "duration": 0,
    "start_time": "2022-04-05T17:02:56.647Z"
   },
   {
    "duration": 0,
    "start_time": "2022-04-05T17:02:56.649Z"
   },
   {
    "duration": 0,
    "start_time": "2022-04-05T17:02:56.650Z"
   },
   {
    "duration": 0,
    "start_time": "2022-04-05T17:02:56.652Z"
   },
   {
    "duration": 0,
    "start_time": "2022-04-05T17:02:56.653Z"
   },
   {
    "duration": 0,
    "start_time": "2022-04-05T17:02:56.654Z"
   },
   {
    "duration": 0,
    "start_time": "2022-04-05T17:02:56.656Z"
   },
   {
    "duration": 3,
    "start_time": "2022-04-05T17:03:51.799Z"
   },
   {
    "duration": 5,
    "start_time": "2022-04-05T17:03:52.145Z"
   },
   {
    "duration": 94,
    "start_time": "2022-04-05T17:03:53.192Z"
   },
   {
    "duration": 6,
    "start_time": "2022-04-05T17:03:56.937Z"
   },
   {
    "duration": 14,
    "start_time": "2022-04-05T17:04:03.249Z"
   },
   {
    "duration": 96,
    "start_time": "2022-04-05T17:04:54.872Z"
   },
   {
    "duration": 5,
    "start_time": "2022-04-05T17:04:56.971Z"
   },
   {
    "duration": 13,
    "start_time": "2022-04-05T17:05:00.150Z"
   },
   {
    "duration": 705,
    "start_time": "2022-04-05T17:06:40.614Z"
   },
   {
    "duration": 400,
    "start_time": "2022-04-05T17:06:41.321Z"
   },
   {
    "duration": 3,
    "start_time": "2022-04-05T17:06:41.724Z"
   },
   {
    "duration": 11,
    "start_time": "2022-04-05T17:06:41.729Z"
   },
   {
    "duration": 272,
    "start_time": "2022-04-05T17:06:41.743Z"
   },
   {
    "duration": 4,
    "start_time": "2022-04-05T17:06:42.017Z"
   },
   {
    "duration": 7,
    "start_time": "2022-04-05T17:06:42.023Z"
   },
   {
    "duration": 78,
    "start_time": "2022-04-05T17:06:42.033Z"
   },
   {
    "duration": 2,
    "start_time": "2022-04-05T17:06:42.113Z"
   },
   {
    "duration": 82,
    "start_time": "2022-04-05T17:06:42.135Z"
   },
   {
    "duration": 6,
    "start_time": "2022-04-05T17:06:42.234Z"
   },
   {
    "duration": 48,
    "start_time": "2022-04-05T17:06:42.241Z"
   },
   {
    "duration": 20,
    "start_time": "2022-04-05T17:06:42.291Z"
   },
   {
    "duration": 3,
    "start_time": "2022-04-05T17:06:42.332Z"
   },
   {
    "duration": 10,
    "start_time": "2022-04-05T17:06:42.337Z"
   },
   {
    "duration": 19,
    "start_time": "2022-04-05T17:06:42.349Z"
   },
   {
    "duration": 8,
    "start_time": "2022-04-05T17:06:42.370Z"
   },
   {
    "duration": 13,
    "start_time": "2022-04-05T17:06:42.380Z"
   },
   {
    "duration": 5,
    "start_time": "2022-04-05T17:06:42.395Z"
   },
   {
    "duration": 32,
    "start_time": "2022-04-05T17:06:42.401Z"
   },
   {
    "duration": 20,
    "start_time": "2022-04-05T17:06:42.436Z"
   },
   {
    "duration": 5,
    "start_time": "2022-04-05T17:06:42.458Z"
   },
   {
    "duration": 4,
    "start_time": "2022-04-05T17:06:42.465Z"
   },
   {
    "duration": 99,
    "start_time": "2022-04-05T17:06:42.471Z"
   },
   {
    "duration": 5,
    "start_time": "2022-04-05T17:06:42.571Z"
   },
   {
    "duration": 15,
    "start_time": "2022-04-05T17:06:42.578Z"
   },
   {
    "duration": 3,
    "start_time": "2022-04-05T17:06:42.595Z"
   },
   {
    "duration": 5,
    "start_time": "2022-04-05T17:06:42.602Z"
   },
   {
    "duration": 45,
    "start_time": "2022-04-05T17:06:42.609Z"
   },
   {
    "duration": 849,
    "start_time": "2022-04-05T17:06:42.656Z"
   },
   {
    "duration": 3,
    "start_time": "2022-04-05T17:06:43.507Z"
   },
   {
    "duration": 12,
    "start_time": "2022-04-05T17:06:43.511Z"
   },
   {
    "duration": 8,
    "start_time": "2022-04-05T17:06:43.525Z"
   },
   {
    "duration": 16,
    "start_time": "2022-04-05T17:06:43.535Z"
   },
   {
    "duration": 6,
    "start_time": "2022-04-05T17:06:43.553Z"
   },
   {
    "duration": 5,
    "start_time": "2022-04-05T17:06:43.561Z"
   },
   {
    "duration": 34,
    "start_time": "2022-04-05T17:06:43.567Z"
   },
   {
    "duration": 36,
    "start_time": "2022-04-05T17:06:43.603Z"
   },
   {
    "duration": 25,
    "start_time": "2022-04-05T17:06:43.640Z"
   },
   {
    "duration": 4,
    "start_time": "2022-04-05T17:06:43.667Z"
   },
   {
    "duration": 502,
    "start_time": "2022-04-05T17:06:43.673Z"
   },
   {
    "duration": 2,
    "start_time": "2022-04-05T17:06:44.177Z"
   },
   {
    "duration": 22,
    "start_time": "2022-04-05T17:06:44.181Z"
   },
   {
    "duration": 2,
    "start_time": "2022-04-05T17:06:44.205Z"
   },
   {
    "duration": 510,
    "start_time": "2022-04-05T17:06:44.209Z"
   },
   {
    "duration": 2,
    "start_time": "2022-04-05T17:06:44.721Z"
   },
   {
    "duration": 3,
    "start_time": "2022-04-05T17:06:44.733Z"
   },
   {
    "duration": 15,
    "start_time": "2022-04-05T17:06:44.738Z"
   },
   {
    "duration": 8,
    "start_time": "2022-04-05T17:06:44.755Z"
   },
   {
    "duration": 2,
    "start_time": "2022-04-05T17:06:44.765Z"
   },
   {
    "duration": 4,
    "start_time": "2022-04-05T17:06:44.769Z"
   },
   {
    "duration": 6,
    "start_time": "2022-04-05T17:06:44.774Z"
   },
   {
    "duration": 6,
    "start_time": "2022-04-05T17:06:44.781Z"
   },
   {
    "duration": 5,
    "start_time": "2022-04-05T17:26:58.403Z"
   },
   {
    "duration": 1310,
    "start_time": "2022-04-05T17:28:26.551Z"
   },
   {
    "duration": 5,
    "start_time": "2022-04-05T17:28:30.138Z"
   },
   {
    "duration": 17,
    "start_time": "2022-04-05T17:28:30.717Z"
   },
   {
    "duration": 2,
    "start_time": "2022-04-05T17:28:36.035Z"
   },
   {
    "duration": 2,
    "start_time": "2022-04-05T17:28:36.253Z"
   },
   {
    "duration": 16,
    "start_time": "2022-04-05T17:28:37.590Z"
   },
   {
    "duration": 618,
    "start_time": "2022-04-05T17:28:38.100Z"
   },
   {
    "duration": 3,
    "start_time": "2022-04-05T17:28:38.749Z"
   },
   {
    "duration": 2,
    "start_time": "2022-04-05T17:28:39.128Z"
   },
   {
    "duration": 3,
    "start_time": "2022-04-05T17:28:39.507Z"
   },
   {
    "duration": 2,
    "start_time": "2022-04-05T17:28:39.794Z"
   },
   {
    "duration": 2,
    "start_time": "2022-04-05T17:28:40.104Z"
   },
   {
    "duration": 1278,
    "start_time": "2022-04-05T17:28:41.096Z"
   },
   {
    "duration": 0,
    "start_time": "2022-04-05T17:28:42.376Z"
   },
   {
    "duration": 0,
    "start_time": "2022-04-05T17:28:42.377Z"
   },
   {
    "duration": 15,
    "start_time": "2022-04-05T17:28:42.517Z"
   },
   {
    "duration": 1393,
    "start_time": "2022-04-05T17:30:26.404Z"
   },
   {
    "duration": 673,
    "start_time": "2022-04-05T17:30:33.972Z"
   },
   {
    "duration": 412,
    "start_time": "2022-04-05T17:30:34.647Z"
   },
   {
    "duration": 3,
    "start_time": "2022-04-05T17:30:35.060Z"
   },
   {
    "duration": 9,
    "start_time": "2022-04-05T17:30:35.066Z"
   },
   {
    "duration": 288,
    "start_time": "2022-04-05T17:30:35.076Z"
   },
   {
    "duration": 5,
    "start_time": "2022-04-05T17:30:35.366Z"
   },
   {
    "duration": 10,
    "start_time": "2022-04-05T17:30:35.372Z"
   },
   {
    "duration": 84,
    "start_time": "2022-04-05T17:30:35.384Z"
   },
   {
    "duration": 2,
    "start_time": "2022-04-05T17:30:35.470Z"
   },
   {
    "duration": 95,
    "start_time": "2022-04-05T17:30:35.475Z"
   },
   {
    "duration": 5,
    "start_time": "2022-04-05T17:30:35.572Z"
   },
   {
    "duration": 58,
    "start_time": "2022-04-05T17:30:35.579Z"
   },
   {
    "duration": 20,
    "start_time": "2022-04-05T17:30:35.640Z"
   },
   {
    "duration": 2,
    "start_time": "2022-04-05T17:30:35.662Z"
   },
   {
    "duration": 11,
    "start_time": "2022-04-05T17:30:35.666Z"
   },
   {
    "duration": 19,
    "start_time": "2022-04-05T17:30:35.679Z"
   },
   {
    "duration": 37,
    "start_time": "2022-04-05T17:30:35.700Z"
   },
   {
    "duration": 9,
    "start_time": "2022-04-05T17:30:35.740Z"
   },
   {
    "duration": 7,
    "start_time": "2022-04-05T17:30:35.751Z"
   },
   {
    "duration": 6,
    "start_time": "2022-04-05T17:30:35.759Z"
   },
   {
    "duration": 15,
    "start_time": "2022-04-05T17:30:35.767Z"
   },
   {
    "duration": 7,
    "start_time": "2022-04-05T17:30:35.783Z"
   },
   {
    "duration": 6,
    "start_time": "2022-04-05T17:30:35.792Z"
   },
   {
    "duration": 112,
    "start_time": "2022-04-05T17:30:35.799Z"
   },
   {
    "duration": 4,
    "start_time": "2022-04-05T17:30:35.913Z"
   },
   {
    "duration": 30,
    "start_time": "2022-04-05T17:30:35.919Z"
   },
   {
    "duration": 3,
    "start_time": "2022-04-05T17:30:35.951Z"
   },
   {
    "duration": 3,
    "start_time": "2022-04-05T17:30:35.958Z"
   },
   {
    "duration": 19,
    "start_time": "2022-04-05T17:30:35.963Z"
   },
   {
    "duration": 798,
    "start_time": "2022-04-05T17:30:35.984Z"
   },
   {
    "duration": 3,
    "start_time": "2022-04-05T17:30:36.783Z"
   },
   {
    "duration": 7,
    "start_time": "2022-04-05T17:30:36.787Z"
   },
   {
    "duration": 4,
    "start_time": "2022-04-05T17:30:36.796Z"
   },
   {
    "duration": 4,
    "start_time": "2022-04-05T17:30:36.802Z"
   },
   {
    "duration": 8,
    "start_time": "2022-04-05T17:30:36.807Z"
   },
   {
    "duration": 87,
    "start_time": "2022-04-05T17:30:36.816Z"
   },
   {
    "duration": 0,
    "start_time": "2022-04-05T17:30:36.905Z"
   },
   {
    "duration": 0,
    "start_time": "2022-04-05T17:30:36.906Z"
   },
   {
    "duration": 0,
    "start_time": "2022-04-05T17:30:36.907Z"
   },
   {
    "duration": 0,
    "start_time": "2022-04-05T17:30:36.908Z"
   },
   {
    "duration": 0,
    "start_time": "2022-04-05T17:30:36.909Z"
   },
   {
    "duration": 0,
    "start_time": "2022-04-05T17:30:36.910Z"
   },
   {
    "duration": 0,
    "start_time": "2022-04-05T17:30:36.911Z"
   },
   {
    "duration": 0,
    "start_time": "2022-04-05T17:30:36.912Z"
   },
   {
    "duration": 0,
    "start_time": "2022-04-05T17:30:36.913Z"
   },
   {
    "duration": 0,
    "start_time": "2022-04-05T17:30:36.914Z"
   },
   {
    "duration": 0,
    "start_time": "2022-04-05T17:30:36.915Z"
   },
   {
    "duration": 0,
    "start_time": "2022-04-05T17:30:36.915Z"
   },
   {
    "duration": 0,
    "start_time": "2022-04-05T17:30:36.936Z"
   },
   {
    "duration": 0,
    "start_time": "2022-04-05T17:30:36.939Z"
   },
   {
    "duration": 0,
    "start_time": "2022-04-05T17:30:36.941Z"
   },
   {
    "duration": 0,
    "start_time": "2022-04-05T17:30:36.943Z"
   },
   {
    "duration": 0,
    "start_time": "2022-04-05T17:30:36.945Z"
   },
   {
    "duration": 20,
    "start_time": "2022-04-05T17:32:56.439Z"
   },
   {
    "duration": 4,
    "start_time": "2022-04-05T17:33:51.486Z"
   },
   {
    "duration": 17,
    "start_time": "2022-04-05T17:33:54.397Z"
   },
   {
    "duration": 19,
    "start_time": "2022-04-05T17:34:42.384Z"
   },
   {
    "duration": 4,
    "start_time": "2022-04-05T17:34:45.465Z"
   },
   {
    "duration": 17,
    "start_time": "2022-04-05T17:34:47.172Z"
   },
   {
    "duration": 17,
    "start_time": "2022-04-05T17:34:49.751Z"
   },
   {
    "duration": 17,
    "start_time": "2022-04-05T17:34:51.278Z"
   },
   {
    "duration": 3,
    "start_time": "2022-04-05T17:34:52.553Z"
   },
   {
    "duration": 16,
    "start_time": "2022-04-05T17:34:54.296Z"
   },
   {
    "duration": 681,
    "start_time": "2022-04-05T17:34:58.699Z"
   },
   {
    "duration": 425,
    "start_time": "2022-04-05T17:34:59.382Z"
   },
   {
    "duration": 2,
    "start_time": "2022-04-05T17:34:59.809Z"
   },
   {
    "duration": 11,
    "start_time": "2022-04-05T17:34:59.813Z"
   },
   {
    "duration": 294,
    "start_time": "2022-04-05T17:34:59.826Z"
   },
   {
    "duration": 10,
    "start_time": "2022-04-05T17:35:00.122Z"
   },
   {
    "duration": 19,
    "start_time": "2022-04-05T17:35:00.134Z"
   },
   {
    "duration": 84,
    "start_time": "2022-04-05T17:35:00.154Z"
   },
   {
    "duration": 3,
    "start_time": "2022-04-05T17:35:00.240Z"
   },
   {
    "duration": 98,
    "start_time": "2022-04-05T17:35:00.247Z"
   },
   {
    "duration": 7,
    "start_time": "2022-04-05T17:35:00.348Z"
   },
   {
    "duration": 71,
    "start_time": "2022-04-05T17:35:00.357Z"
   },
   {
    "duration": 24,
    "start_time": "2022-04-05T17:35:00.430Z"
   },
   {
    "duration": 5,
    "start_time": "2022-04-05T17:35:00.455Z"
   },
   {
    "duration": 27,
    "start_time": "2022-04-05T17:35:00.462Z"
   },
   {
    "duration": 17,
    "start_time": "2022-04-05T17:35:00.491Z"
   },
   {
    "duration": 8,
    "start_time": "2022-04-05T17:35:00.510Z"
   },
   {
    "duration": 20,
    "start_time": "2022-04-05T17:35:00.520Z"
   },
   {
    "duration": 14,
    "start_time": "2022-04-05T17:35:00.542Z"
   },
   {
    "duration": 12,
    "start_time": "2022-04-05T17:35:00.558Z"
   },
   {
    "duration": 18,
    "start_time": "2022-04-05T17:35:00.572Z"
   },
   {
    "duration": 21,
    "start_time": "2022-04-05T17:35:00.592Z"
   },
   {
    "duration": 13,
    "start_time": "2022-04-05T17:35:00.614Z"
   },
   {
    "duration": 124,
    "start_time": "2022-04-05T17:35:00.629Z"
   },
   {
    "duration": 4,
    "start_time": "2022-04-05T17:35:00.754Z"
   },
   {
    "duration": 23,
    "start_time": "2022-04-05T17:35:00.760Z"
   },
   {
    "duration": 3,
    "start_time": "2022-04-05T17:35:00.784Z"
   },
   {
    "duration": 8,
    "start_time": "2022-04-05T17:35:00.791Z"
   },
   {
    "duration": 34,
    "start_time": "2022-04-05T17:35:00.801Z"
   },
   {
    "duration": 782,
    "start_time": "2022-04-05T17:35:00.837Z"
   },
   {
    "duration": 2,
    "start_time": "2022-04-05T17:35:01.621Z"
   },
   {
    "duration": 4,
    "start_time": "2022-04-05T17:35:01.633Z"
   },
   {
    "duration": 19,
    "start_time": "2022-04-05T17:35:01.640Z"
   },
   {
    "duration": 9,
    "start_time": "2022-04-05T17:35:01.661Z"
   },
   {
    "duration": 8,
    "start_time": "2022-04-05T17:35:01.672Z"
   },
   {
    "duration": 23,
    "start_time": "2022-04-05T17:35:01.682Z"
   },
   {
    "duration": 7,
    "start_time": "2022-04-05T17:35:01.707Z"
   },
   {
    "duration": 31,
    "start_time": "2022-04-05T17:35:01.716Z"
   },
   {
    "duration": 37,
    "start_time": "2022-04-05T17:35:01.750Z"
   },
   {
    "duration": 21,
    "start_time": "2022-04-05T17:35:01.789Z"
   },
   {
    "duration": 25,
    "start_time": "2022-04-05T17:35:01.834Z"
   },
   {
    "duration": 3,
    "start_time": "2022-04-05T17:35:01.861Z"
   },
   {
    "duration": 530,
    "start_time": "2022-04-05T17:35:01.865Z"
   },
   {
    "duration": 2,
    "start_time": "2022-04-05T17:35:02.397Z"
   },
   {
    "duration": 44,
    "start_time": "2022-04-05T17:35:02.401Z"
   },
   {
    "duration": 3,
    "start_time": "2022-04-05T17:35:02.447Z"
   },
   {
    "duration": 473,
    "start_time": "2022-04-05T17:35:02.451Z"
   },
   {
    "duration": 3,
    "start_time": "2022-04-05T17:35:02.925Z"
   },
   {
    "duration": 10,
    "start_time": "2022-04-05T17:35:02.933Z"
   },
   {
    "duration": 9,
    "start_time": "2022-04-05T17:35:02.946Z"
   },
   {
    "duration": 9,
    "start_time": "2022-04-05T17:35:02.956Z"
   },
   {
    "duration": 4,
    "start_time": "2022-04-05T17:35:02.967Z"
   },
   {
    "duration": 5,
    "start_time": "2022-04-05T17:35:02.972Z"
   },
   {
    "duration": 6,
    "start_time": "2022-04-05T17:35:02.979Z"
   },
   {
    "duration": 5,
    "start_time": "2022-04-05T17:35:02.987Z"
   },
   {
    "duration": 1663,
    "start_time": "2022-04-05T17:37:06.264Z"
   },
   {
    "duration": 709,
    "start_time": "2022-04-05T17:37:19.346Z"
   },
   {
    "duration": 420,
    "start_time": "2022-04-05T17:37:20.057Z"
   },
   {
    "duration": 3,
    "start_time": "2022-04-05T17:37:20.479Z"
   },
   {
    "duration": 8,
    "start_time": "2022-04-05T17:37:20.484Z"
   },
   {
    "duration": 278,
    "start_time": "2022-04-05T17:37:20.495Z"
   },
   {
    "duration": 5,
    "start_time": "2022-04-05T17:37:20.775Z"
   },
   {
    "duration": 4,
    "start_time": "2022-04-05T17:37:20.782Z"
   },
   {
    "duration": 105,
    "start_time": "2022-04-05T17:37:20.787Z"
   },
   {
    "duration": 2,
    "start_time": "2022-04-05T17:37:20.894Z"
   },
   {
    "duration": 95,
    "start_time": "2022-04-05T17:37:20.898Z"
   },
   {
    "duration": 6,
    "start_time": "2022-04-05T17:37:20.995Z"
   },
   {
    "duration": 71,
    "start_time": "2022-04-05T17:37:21.003Z"
   },
   {
    "duration": 19,
    "start_time": "2022-04-05T17:37:21.076Z"
   },
   {
    "duration": 2,
    "start_time": "2022-04-05T17:37:21.098Z"
   },
   {
    "duration": 10,
    "start_time": "2022-04-05T17:37:21.102Z"
   },
   {
    "duration": 44,
    "start_time": "2022-04-05T17:37:21.114Z"
   },
   {
    "duration": 9,
    "start_time": "2022-04-05T17:37:21.160Z"
   },
   {
    "duration": 8,
    "start_time": "2022-04-05T17:37:21.171Z"
   },
   {
    "duration": 3,
    "start_time": "2022-04-05T17:37:21.181Z"
   },
   {
    "duration": 5,
    "start_time": "2022-04-05T17:37:21.186Z"
   },
   {
    "duration": 12,
    "start_time": "2022-04-05T17:37:21.193Z"
   },
   {
    "duration": 29,
    "start_time": "2022-04-05T17:37:21.206Z"
   },
   {
    "duration": 14,
    "start_time": "2022-04-05T17:37:21.237Z"
   },
   {
    "duration": 102,
    "start_time": "2022-04-05T17:37:21.253Z"
   },
   {
    "duration": 4,
    "start_time": "2022-04-05T17:37:21.357Z"
   },
   {
    "duration": 18,
    "start_time": "2022-04-05T17:37:21.363Z"
   },
   {
    "duration": 8,
    "start_time": "2022-04-05T17:37:21.383Z"
   },
   {
    "duration": 11,
    "start_time": "2022-04-05T17:37:21.393Z"
   },
   {
    "duration": 32,
    "start_time": "2022-04-05T17:37:21.405Z"
   },
   {
    "duration": 798,
    "start_time": "2022-04-05T17:37:21.439Z"
   },
   {
    "duration": 3,
    "start_time": "2022-04-05T17:37:22.239Z"
   },
   {
    "duration": 12,
    "start_time": "2022-04-05T17:37:22.245Z"
   },
   {
    "duration": 4,
    "start_time": "2022-04-05T17:37:22.259Z"
   },
   {
    "duration": 4,
    "start_time": "2022-04-05T17:37:22.265Z"
   },
   {
    "duration": 6,
    "start_time": "2022-04-05T17:37:22.271Z"
   },
   {
    "duration": 19,
    "start_time": "2022-04-05T17:37:22.279Z"
   },
   {
    "duration": 106,
    "start_time": "2022-04-05T17:37:22.300Z"
   },
   {
    "duration": 0,
    "start_time": "2022-04-05T17:37:22.409Z"
   },
   {
    "duration": 0,
    "start_time": "2022-04-05T17:37:22.410Z"
   },
   {
    "duration": 0,
    "start_time": "2022-04-05T17:37:22.412Z"
   },
   {
    "duration": 0,
    "start_time": "2022-04-05T17:37:22.413Z"
   },
   {
    "duration": 0,
    "start_time": "2022-04-05T17:37:22.414Z"
   },
   {
    "duration": 0,
    "start_time": "2022-04-05T17:37:22.434Z"
   },
   {
    "duration": 0,
    "start_time": "2022-04-05T17:37:22.436Z"
   },
   {
    "duration": 0,
    "start_time": "2022-04-05T17:37:22.437Z"
   },
   {
    "duration": 0,
    "start_time": "2022-04-05T17:37:22.439Z"
   },
   {
    "duration": 0,
    "start_time": "2022-04-05T17:37:22.440Z"
   },
   {
    "duration": 0,
    "start_time": "2022-04-05T17:37:22.441Z"
   },
   {
    "duration": 0,
    "start_time": "2022-04-05T17:37:22.443Z"
   },
   {
    "duration": 0,
    "start_time": "2022-04-05T17:37:22.444Z"
   },
   {
    "duration": 0,
    "start_time": "2022-04-05T17:37:22.445Z"
   },
   {
    "duration": 0,
    "start_time": "2022-04-05T17:37:22.446Z"
   },
   {
    "duration": 0,
    "start_time": "2022-04-05T17:37:22.447Z"
   },
   {
    "duration": 0,
    "start_time": "2022-04-05T17:37:22.449Z"
   },
   {
    "duration": 0,
    "start_time": "2022-04-05T17:37:22.451Z"
   },
   {
    "duration": 10,
    "start_time": "2022-04-05T17:37:46.644Z"
   },
   {
    "duration": 10,
    "start_time": "2022-04-05T17:37:49.809Z"
   },
   {
    "duration": 71,
    "start_time": "2022-04-05T17:37:59.052Z"
   },
   {
    "duration": 10,
    "start_time": "2022-04-05T17:38:05.148Z"
   },
   {
    "duration": 10,
    "start_time": "2022-04-05T17:38:06.449Z"
   },
   {
    "duration": 22,
    "start_time": "2022-04-05T17:38:21.616Z"
   },
   {
    "duration": 701,
    "start_time": "2022-04-05T17:38:27.394Z"
   },
   {
    "duration": 455,
    "start_time": "2022-04-05T17:38:28.098Z"
   },
   {
    "duration": 3,
    "start_time": "2022-04-05T17:38:28.555Z"
   },
   {
    "duration": 8,
    "start_time": "2022-04-05T17:38:28.560Z"
   },
   {
    "duration": 282,
    "start_time": "2022-04-05T17:38:28.570Z"
   },
   {
    "duration": 5,
    "start_time": "2022-04-05T17:38:28.853Z"
   },
   {
    "duration": 3,
    "start_time": "2022-04-05T17:38:28.861Z"
   },
   {
    "duration": 97,
    "start_time": "2022-04-05T17:38:28.866Z"
   },
   {
    "duration": 3,
    "start_time": "2022-04-05T17:38:28.965Z"
   },
   {
    "duration": 97,
    "start_time": "2022-04-05T17:38:28.971Z"
   },
   {
    "duration": 6,
    "start_time": "2022-04-05T17:38:29.070Z"
   },
   {
    "duration": 65,
    "start_time": "2022-04-05T17:38:29.078Z"
   },
   {
    "duration": 24,
    "start_time": "2022-04-05T17:38:29.145Z"
   },
   {
    "duration": 2,
    "start_time": "2022-04-05T17:38:29.171Z"
   },
   {
    "duration": 10,
    "start_time": "2022-04-05T17:38:29.174Z"
   },
   {
    "duration": 16,
    "start_time": "2022-04-05T17:38:29.186Z"
   },
   {
    "duration": 37,
    "start_time": "2022-04-05T17:38:29.204Z"
   },
   {
    "duration": 18,
    "start_time": "2022-04-05T17:38:29.243Z"
   },
   {
    "duration": 3,
    "start_time": "2022-04-05T17:38:29.264Z"
   },
   {
    "duration": 7,
    "start_time": "2022-04-05T17:38:29.269Z"
   },
   {
    "duration": 20,
    "start_time": "2022-04-05T17:38:29.278Z"
   },
   {
    "duration": 13,
    "start_time": "2022-04-05T17:38:29.300Z"
   },
   {
    "duration": 23,
    "start_time": "2022-04-05T17:38:29.315Z"
   },
   {
    "duration": 116,
    "start_time": "2022-04-05T17:38:29.339Z"
   },
   {
    "duration": 4,
    "start_time": "2022-04-05T17:38:29.457Z"
   },
   {
    "duration": 18,
    "start_time": "2022-04-05T17:38:29.463Z"
   },
   {
    "duration": 2,
    "start_time": "2022-04-05T17:38:29.483Z"
   },
   {
    "duration": 3,
    "start_time": "2022-04-05T17:38:29.489Z"
   },
   {
    "duration": 48,
    "start_time": "2022-04-05T17:38:29.493Z"
   },
   {
    "duration": 778,
    "start_time": "2022-04-05T17:38:29.543Z"
   },
   {
    "duration": 3,
    "start_time": "2022-04-05T17:38:30.323Z"
   },
   {
    "duration": 20,
    "start_time": "2022-04-05T17:38:30.333Z"
   },
   {
    "duration": 13,
    "start_time": "2022-04-05T17:38:30.355Z"
   },
   {
    "duration": 12,
    "start_time": "2022-04-05T17:38:30.370Z"
   },
   {
    "duration": 10,
    "start_time": "2022-04-05T17:38:30.384Z"
   },
   {
    "duration": 24,
    "start_time": "2022-04-05T17:38:30.395Z"
   },
   {
    "duration": 87,
    "start_time": "2022-04-05T17:38:30.420Z"
   },
   {
    "duration": 0,
    "start_time": "2022-04-05T17:38:30.509Z"
   },
   {
    "duration": 0,
    "start_time": "2022-04-05T17:38:30.510Z"
   },
   {
    "duration": 0,
    "start_time": "2022-04-05T17:38:30.512Z"
   },
   {
    "duration": 0,
    "start_time": "2022-04-05T17:38:30.513Z"
   },
   {
    "duration": 0,
    "start_time": "2022-04-05T17:38:30.515Z"
   },
   {
    "duration": 0,
    "start_time": "2022-04-05T17:38:30.534Z"
   },
   {
    "duration": 0,
    "start_time": "2022-04-05T17:38:30.536Z"
   },
   {
    "duration": 0,
    "start_time": "2022-04-05T17:38:30.537Z"
   },
   {
    "duration": 0,
    "start_time": "2022-04-05T17:38:30.539Z"
   },
   {
    "duration": 0,
    "start_time": "2022-04-05T17:38:30.541Z"
   },
   {
    "duration": 0,
    "start_time": "2022-04-05T17:38:30.542Z"
   },
   {
    "duration": 0,
    "start_time": "2022-04-05T17:38:30.544Z"
   },
   {
    "duration": 0,
    "start_time": "2022-04-05T17:38:30.545Z"
   },
   {
    "duration": 0,
    "start_time": "2022-04-05T17:38:30.547Z"
   },
   {
    "duration": 0,
    "start_time": "2022-04-05T17:38:30.548Z"
   },
   {
    "duration": 0,
    "start_time": "2022-04-05T17:38:30.550Z"
   },
   {
    "duration": 0,
    "start_time": "2022-04-05T17:38:30.551Z"
   },
   {
    "duration": 0,
    "start_time": "2022-04-05T17:38:30.554Z"
   },
   {
    "duration": 14,
    "start_time": "2022-04-05T17:42:59.140Z"
   },
   {
    "duration": 4,
    "start_time": "2022-04-05T18:15:45.002Z"
   },
   {
    "duration": 17,
    "start_time": "2022-04-05T18:15:46.319Z"
   },
   {
    "duration": 615,
    "start_time": "2022-04-05T18:15:52.777Z"
   },
   {
    "duration": 382,
    "start_time": "2022-04-05T18:15:53.394Z"
   },
   {
    "duration": 3,
    "start_time": "2022-04-05T18:15:53.777Z"
   },
   {
    "duration": 7,
    "start_time": "2022-04-05T18:15:53.782Z"
   },
   {
    "duration": 279,
    "start_time": "2022-04-05T18:15:53.791Z"
   },
   {
    "duration": 4,
    "start_time": "2022-04-05T18:15:54.072Z"
   },
   {
    "duration": 8,
    "start_time": "2022-04-05T18:15:54.078Z"
   },
   {
    "duration": 82,
    "start_time": "2022-04-05T18:15:54.087Z"
   },
   {
    "duration": 2,
    "start_time": "2022-04-05T18:15:54.171Z"
   },
   {
    "duration": 92,
    "start_time": "2022-04-05T18:15:54.176Z"
   },
   {
    "duration": 5,
    "start_time": "2022-04-05T18:15:54.270Z"
   },
   {
    "duration": 61,
    "start_time": "2022-04-05T18:15:54.277Z"
   },
   {
    "duration": 19,
    "start_time": "2022-04-05T18:15:54.340Z"
   },
   {
    "duration": 2,
    "start_time": "2022-04-05T18:15:54.361Z"
   },
   {
    "duration": 8,
    "start_time": "2022-04-05T18:15:54.365Z"
   },
   {
    "duration": 16,
    "start_time": "2022-04-05T18:15:54.375Z"
   },
   {
    "duration": 8,
    "start_time": "2022-04-05T18:15:54.392Z"
   },
   {
    "duration": 32,
    "start_time": "2022-04-05T18:15:54.402Z"
   },
   {
    "duration": 6,
    "start_time": "2022-04-05T18:15:54.435Z"
   },
   {
    "duration": 5,
    "start_time": "2022-04-05T18:15:54.443Z"
   },
   {
    "duration": 13,
    "start_time": "2022-04-05T18:15:54.449Z"
   },
   {
    "duration": 7,
    "start_time": "2022-04-05T18:15:54.464Z"
   },
   {
    "duration": 8,
    "start_time": "2022-04-05T18:15:54.472Z"
   },
   {
    "duration": 107,
    "start_time": "2022-04-05T18:15:54.482Z"
   },
   {
    "duration": 4,
    "start_time": "2022-04-05T18:15:54.591Z"
   },
   {
    "duration": 14,
    "start_time": "2022-04-05T18:15:54.597Z"
   },
   {
    "duration": 21,
    "start_time": "2022-04-05T18:15:54.612Z"
   },
   {
    "duration": 2,
    "start_time": "2022-04-05T18:15:54.637Z"
   },
   {
    "duration": 18,
    "start_time": "2022-04-05T18:15:54.641Z"
   },
   {
    "duration": 703,
    "start_time": "2022-04-05T18:15:54.661Z"
   },
   {
    "duration": 2,
    "start_time": "2022-04-05T18:15:55.366Z"
   },
   {
    "duration": 6,
    "start_time": "2022-04-05T18:15:55.369Z"
   },
   {
    "duration": 4,
    "start_time": "2022-04-05T18:15:55.377Z"
   },
   {
    "duration": 5,
    "start_time": "2022-04-05T18:15:55.382Z"
   },
   {
    "duration": 6,
    "start_time": "2022-04-05T18:15:55.389Z"
   },
   {
    "duration": 17,
    "start_time": "2022-04-05T18:15:55.397Z"
   },
   {
    "duration": 19,
    "start_time": "2022-04-05T18:15:55.416Z"
   },
   {
    "duration": 18,
    "start_time": "2022-04-05T18:15:55.436Z"
   },
   {
    "duration": 31,
    "start_time": "2022-04-05T18:15:55.455Z"
   },
   {
    "duration": 19,
    "start_time": "2022-04-05T18:15:55.488Z"
   },
   {
    "duration": 21,
    "start_time": "2022-04-05T18:15:55.533Z"
   },
   {
    "duration": 2,
    "start_time": "2022-04-05T18:15:55.556Z"
   },
   {
    "duration": 472,
    "start_time": "2022-04-05T18:15:55.560Z"
   },
   {
    "duration": 3,
    "start_time": "2022-04-05T18:15:56.034Z"
   },
   {
    "duration": 26,
    "start_time": "2022-04-05T18:15:56.038Z"
   },
   {
    "duration": 3,
    "start_time": "2022-04-05T18:15:56.065Z"
   },
   {
    "duration": 439,
    "start_time": "2022-04-05T18:15:56.069Z"
   },
   {
    "duration": 2,
    "start_time": "2022-04-05T18:15:56.510Z"
   },
   {
    "duration": 8,
    "start_time": "2022-04-05T18:15:56.513Z"
   },
   {
    "duration": 10,
    "start_time": "2022-04-05T18:15:56.523Z"
   },
   {
    "duration": 10,
    "start_time": "2022-04-05T18:15:56.534Z"
   },
   {
    "duration": 4,
    "start_time": "2022-04-05T18:15:56.546Z"
   },
   {
    "duration": 5,
    "start_time": "2022-04-05T18:15:56.552Z"
   },
   {
    "duration": 6,
    "start_time": "2022-04-05T18:15:56.559Z"
   },
   {
    "duration": 6,
    "start_time": "2022-04-05T18:15:56.566Z"
   },
   {
    "duration": 9,
    "start_time": "2022-04-05T18:16:29.073Z"
   },
   {
    "duration": 8,
    "start_time": "2022-04-05T18:18:00.388Z"
   },
   {
    "duration": 11,
    "start_time": "2022-04-05T18:18:05.845Z"
   },
   {
    "duration": 9,
    "start_time": "2022-04-05T18:18:08.918Z"
   },
   {
    "duration": 12,
    "start_time": "2022-04-05T18:18:12.763Z"
   },
   {
    "duration": 13,
    "start_time": "2022-04-05T18:18:31.811Z"
   },
   {
    "duration": 10,
    "start_time": "2022-04-05T18:18:42.014Z"
   },
   {
    "duration": 16,
    "start_time": "2022-04-05T18:18:49.850Z"
   },
   {
    "duration": 8,
    "start_time": "2022-04-05T18:19:00.850Z"
   },
   {
    "duration": 12,
    "start_time": "2022-04-05T18:19:45.259Z"
   },
   {
    "duration": 8,
    "start_time": "2022-04-05T18:19:51.411Z"
   },
   {
    "duration": 13,
    "start_time": "2022-04-05T18:20:41.547Z"
   },
   {
    "duration": 637,
    "start_time": "2022-04-05T18:21:00.366Z"
   },
   {
    "duration": 409,
    "start_time": "2022-04-05T18:21:01.005Z"
   },
   {
    "duration": 2,
    "start_time": "2022-04-05T18:21:01.416Z"
   },
   {
    "duration": 19,
    "start_time": "2022-04-05T18:21:01.420Z"
   },
   {
    "duration": 285,
    "start_time": "2022-04-05T18:21:01.441Z"
   },
   {
    "duration": 10,
    "start_time": "2022-04-05T18:21:01.727Z"
   },
   {
    "duration": 8,
    "start_time": "2022-04-05T18:21:01.738Z"
   },
   {
    "duration": 85,
    "start_time": "2022-04-05T18:21:01.748Z"
   },
   {
    "duration": 3,
    "start_time": "2022-04-05T18:21:01.835Z"
   },
   {
    "duration": 93,
    "start_time": "2022-04-05T18:21:01.841Z"
   },
   {
    "duration": 6,
    "start_time": "2022-04-05T18:21:01.936Z"
   },
   {
    "duration": 62,
    "start_time": "2022-04-05T18:21:01.944Z"
   },
   {
    "duration": 29,
    "start_time": "2022-04-05T18:21:02.008Z"
   },
   {
    "duration": 3,
    "start_time": "2022-04-05T18:21:02.038Z"
   },
   {
    "duration": 19,
    "start_time": "2022-04-05T18:21:02.042Z"
   },
   {
    "duration": 26,
    "start_time": "2022-04-05T18:21:02.063Z"
   },
   {
    "duration": 9,
    "start_time": "2022-04-05T18:21:02.091Z"
   },
   {
    "duration": 11,
    "start_time": "2022-04-05T18:21:02.102Z"
   },
   {
    "duration": 5,
    "start_time": "2022-04-05T18:21:02.115Z"
   },
   {
    "duration": 12,
    "start_time": "2022-04-05T18:21:02.122Z"
   },
   {
    "duration": 11,
    "start_time": "2022-04-05T18:21:02.135Z"
   },
   {
    "duration": 7,
    "start_time": "2022-04-05T18:21:02.147Z"
   },
   {
    "duration": 26,
    "start_time": "2022-04-05T18:21:02.155Z"
   },
   {
    "duration": 97,
    "start_time": "2022-04-05T18:21:02.182Z"
   },
   {
    "duration": 5,
    "start_time": "2022-04-05T18:21:02.282Z"
   },
   {
    "duration": 15,
    "start_time": "2022-04-05T18:21:02.289Z"
   },
   {
    "duration": 2,
    "start_time": "2022-04-05T18:21:02.306Z"
   },
   {
    "duration": 3,
    "start_time": "2022-04-05T18:21:02.332Z"
   },
   {
    "duration": 20,
    "start_time": "2022-04-05T18:21:02.337Z"
   },
   {
    "duration": 732,
    "start_time": "2022-04-05T18:21:02.358Z"
   },
   {
    "duration": 3,
    "start_time": "2022-04-05T18:21:03.091Z"
   },
   {
    "duration": 11,
    "start_time": "2022-04-05T18:21:03.095Z"
   },
   {
    "duration": 8,
    "start_time": "2022-04-05T18:21:03.108Z"
   },
   {
    "duration": 7,
    "start_time": "2022-04-05T18:21:03.118Z"
   },
   {
    "duration": 8,
    "start_time": "2022-04-05T18:21:03.127Z"
   },
   {
    "duration": 21,
    "start_time": "2022-04-05T18:21:03.137Z"
   },
   {
    "duration": 8,
    "start_time": "2022-04-05T18:21:03.160Z"
   },
   {
    "duration": 21,
    "start_time": "2022-04-05T18:21:03.170Z"
   },
   {
    "duration": 46,
    "start_time": "2022-04-05T18:21:03.193Z"
   },
   {
    "duration": 22,
    "start_time": "2022-04-05T18:21:03.241Z"
   },
   {
    "duration": 20,
    "start_time": "2022-04-05T18:21:03.265Z"
   },
   {
    "duration": 3,
    "start_time": "2022-04-05T18:21:03.287Z"
   },
   {
    "duration": 488,
    "start_time": "2022-04-05T18:21:03.291Z"
   },
   {
    "duration": 2,
    "start_time": "2022-04-05T18:21:03.781Z"
   },
   {
    "duration": 31,
    "start_time": "2022-04-05T18:21:03.785Z"
   },
   {
    "duration": 3,
    "start_time": "2022-04-05T18:21:03.818Z"
   },
   {
    "duration": 477,
    "start_time": "2022-04-05T18:21:03.832Z"
   },
   {
    "duration": 3,
    "start_time": "2022-04-05T18:21:04.310Z"
   },
   {
    "duration": 6,
    "start_time": "2022-04-05T18:21:04.315Z"
   },
   {
    "duration": 12,
    "start_time": "2022-04-05T18:21:04.322Z"
   },
   {
    "duration": 7,
    "start_time": "2022-04-05T18:21:04.336Z"
   },
   {
    "duration": 2,
    "start_time": "2022-04-05T18:21:04.345Z"
   },
   {
    "duration": 4,
    "start_time": "2022-04-05T18:21:04.349Z"
   },
   {
    "duration": 6,
    "start_time": "2022-04-05T18:21:04.355Z"
   },
   {
    "duration": 13,
    "start_time": "2022-04-05T18:21:04.363Z"
   },
   {
    "duration": 7,
    "start_time": "2022-04-05T18:21:18.364Z"
   },
   {
    "duration": 4,
    "start_time": "2022-04-05T18:21:44.510Z"
   },
   {
    "duration": 6,
    "start_time": "2022-04-05T18:21:48.183Z"
   },
   {
    "duration": 5,
    "start_time": "2022-04-05T18:21:59.358Z"
   },
   {
    "duration": 4,
    "start_time": "2022-04-05T18:22:03.996Z"
   },
   {
    "duration": 8,
    "start_time": "2022-04-05T18:22:08.874Z"
   },
   {
    "duration": 23,
    "start_time": "2022-04-05T18:22:23.457Z"
   },
   {
    "duration": 96,
    "start_time": "2022-04-05T18:22:27.371Z"
   },
   {
    "duration": 653,
    "start_time": "2022-04-05T18:22:37.737Z"
   },
   {
    "duration": 381,
    "start_time": "2022-04-05T18:22:38.391Z"
   },
   {
    "duration": 3,
    "start_time": "2022-04-05T18:22:38.774Z"
   },
   {
    "duration": 12,
    "start_time": "2022-04-05T18:22:38.779Z"
   },
   {
    "duration": 256,
    "start_time": "2022-04-05T18:22:38.792Z"
   },
   {
    "duration": 5,
    "start_time": "2022-04-05T18:22:39.049Z"
   },
   {
    "duration": 6,
    "start_time": "2022-04-05T18:22:39.055Z"
   },
   {
    "duration": 84,
    "start_time": "2022-04-05T18:22:39.062Z"
   },
   {
    "duration": 2,
    "start_time": "2022-04-05T18:22:39.148Z"
   },
   {
    "duration": 91,
    "start_time": "2022-04-05T18:22:39.153Z"
   },
   {
    "duration": 6,
    "start_time": "2022-04-05T18:22:39.246Z"
   },
   {
    "duration": 51,
    "start_time": "2022-04-05T18:22:39.253Z"
   },
   {
    "duration": 37,
    "start_time": "2022-04-05T18:22:39.305Z"
   },
   {
    "duration": 3,
    "start_time": "2022-04-05T18:22:39.343Z"
   },
   {
    "duration": 10,
    "start_time": "2022-04-05T18:22:39.347Z"
   },
   {
    "duration": 19,
    "start_time": "2022-04-05T18:22:39.359Z"
   },
   {
    "duration": 8,
    "start_time": "2022-04-05T18:22:39.380Z"
   },
   {
    "duration": 7,
    "start_time": "2022-04-05T18:22:39.389Z"
   },
   {
    "duration": 8,
    "start_time": "2022-04-05T18:22:39.398Z"
   },
   {
    "duration": 3,
    "start_time": "2022-04-05T18:22:39.432Z"
   },
   {
    "duration": 13,
    "start_time": "2022-04-05T18:22:39.436Z"
   },
   {
    "duration": 5,
    "start_time": "2022-04-05T18:22:39.451Z"
   },
   {
    "duration": 8,
    "start_time": "2022-04-05T18:22:39.458Z"
   },
   {
    "duration": 99,
    "start_time": "2022-04-05T18:22:39.467Z"
   },
   {
    "duration": 4,
    "start_time": "2022-04-05T18:22:39.567Z"
   },
   {
    "duration": 15,
    "start_time": "2022-04-05T18:22:39.573Z"
   },
   {
    "duration": 3,
    "start_time": "2022-04-05T18:22:39.589Z"
   },
   {
    "duration": 6,
    "start_time": "2022-04-05T18:22:39.595Z"
   },
   {
    "duration": 38,
    "start_time": "2022-04-05T18:22:39.603Z"
   },
   {
    "duration": 808,
    "start_time": "2022-04-05T18:22:39.642Z"
   },
   {
    "duration": 3,
    "start_time": "2022-04-05T18:22:40.452Z"
   },
   {
    "duration": 10,
    "start_time": "2022-04-05T18:22:40.456Z"
   },
   {
    "duration": 7,
    "start_time": "2022-04-05T18:22:40.468Z"
   },
   {
    "duration": 8,
    "start_time": "2022-04-05T18:22:40.477Z"
   },
   {
    "duration": 10,
    "start_time": "2022-04-05T18:22:40.486Z"
   },
   {
    "duration": 21,
    "start_time": "2022-04-05T18:22:40.498Z"
   },
   {
    "duration": 13,
    "start_time": "2022-04-05T18:22:40.520Z"
   },
   {
    "duration": 18,
    "start_time": "2022-04-05T18:22:40.535Z"
   },
   {
    "duration": 34,
    "start_time": "2022-04-05T18:22:40.554Z"
   },
   {
    "duration": 45,
    "start_time": "2022-04-05T18:22:40.589Z"
   },
   {
    "duration": 20,
    "start_time": "2022-04-05T18:22:40.636Z"
   },
   {
    "duration": 2,
    "start_time": "2022-04-05T18:22:40.657Z"
   },
   {
    "duration": 546,
    "start_time": "2022-04-05T18:22:40.661Z"
   },
   {
    "duration": 2,
    "start_time": "2022-04-05T18:22:41.209Z"
   },
   {
    "duration": 30,
    "start_time": "2022-04-05T18:22:41.213Z"
   },
   {
    "duration": 2,
    "start_time": "2022-04-05T18:22:41.245Z"
   },
   {
    "duration": 513,
    "start_time": "2022-04-05T18:22:41.249Z"
   },
   {
    "duration": 3,
    "start_time": "2022-04-05T18:22:41.764Z"
   },
   {
    "duration": 5,
    "start_time": "2022-04-05T18:22:41.769Z"
   },
   {
    "duration": 6,
    "start_time": "2022-04-05T18:22:41.776Z"
   },
   {
    "duration": 10,
    "start_time": "2022-04-05T18:22:41.784Z"
   },
   {
    "duration": 5,
    "start_time": "2022-04-05T18:22:41.796Z"
   },
   {
    "duration": 7,
    "start_time": "2022-04-05T18:22:41.802Z"
   },
   {
    "duration": 29,
    "start_time": "2022-04-05T18:22:41.811Z"
   },
   {
    "duration": 6,
    "start_time": "2022-04-05T18:22:41.842Z"
   },
   {
    "duration": 10,
    "start_time": "2022-04-05T18:23:50.318Z"
   },
   {
    "duration": 18,
    "start_time": "2022-04-05T18:25:19.996Z"
   },
   {
    "duration": 17,
    "start_time": "2022-04-05T18:25:26.098Z"
   },
   {
    "duration": 634,
    "start_time": "2022-04-05T18:25:32.240Z"
   },
   {
    "duration": 379,
    "start_time": "2022-04-05T18:25:32.876Z"
   },
   {
    "duration": 3,
    "start_time": "2022-04-05T18:25:33.257Z"
   },
   {
    "duration": 8,
    "start_time": "2022-04-05T18:25:33.262Z"
   },
   {
    "duration": 266,
    "start_time": "2022-04-05T18:25:33.271Z"
   },
   {
    "duration": 4,
    "start_time": "2022-04-05T18:25:33.539Z"
   },
   {
    "duration": 4,
    "start_time": "2022-04-05T18:25:33.545Z"
   },
   {
    "duration": 86,
    "start_time": "2022-04-05T18:25:33.551Z"
   },
   {
    "duration": 2,
    "start_time": "2022-04-05T18:25:33.639Z"
   },
   {
    "duration": 89,
    "start_time": "2022-04-05T18:25:33.644Z"
   },
   {
    "duration": 6,
    "start_time": "2022-04-05T18:25:33.734Z"
   },
   {
    "duration": 47,
    "start_time": "2022-04-05T18:25:33.742Z"
   },
   {
    "duration": 18,
    "start_time": "2022-04-05T18:25:33.791Z"
   },
   {
    "duration": 22,
    "start_time": "2022-04-05T18:25:33.811Z"
   },
   {
    "duration": 8,
    "start_time": "2022-04-05T18:25:33.835Z"
   },
   {
    "duration": 17,
    "start_time": "2022-04-05T18:25:33.844Z"
   },
   {
    "duration": 7,
    "start_time": "2022-04-05T18:25:33.863Z"
   },
   {
    "duration": 6,
    "start_time": "2022-04-05T18:25:33.872Z"
   },
   {
    "duration": 5,
    "start_time": "2022-04-05T18:25:33.879Z"
   },
   {
    "duration": 5,
    "start_time": "2022-04-05T18:25:33.885Z"
   },
   {
    "duration": 12,
    "start_time": "2022-04-05T18:25:33.891Z"
   },
   {
    "duration": 4,
    "start_time": "2022-04-05T18:25:33.932Z"
   },
   {
    "duration": 6,
    "start_time": "2022-04-05T18:25:33.938Z"
   },
   {
    "duration": 17,
    "start_time": "2022-04-05T18:25:33.945Z"
   },
   {
    "duration": 103,
    "start_time": "2022-04-05T18:25:33.963Z"
   },
   {
    "duration": 18,
    "start_time": "2022-04-05T18:25:34.068Z"
   },
   {
    "duration": 7,
    "start_time": "2022-04-05T18:25:34.087Z"
   },
   {
    "duration": 10,
    "start_time": "2022-04-05T18:25:34.097Z"
   },
   {
    "duration": 3,
    "start_time": "2022-04-05T18:25:34.109Z"
   },
   {
    "duration": 7,
    "start_time": "2022-04-05T18:25:34.133Z"
   },
   {
    "duration": 17,
    "start_time": "2022-04-05T18:25:34.142Z"
   },
   {
    "duration": 710,
    "start_time": "2022-04-05T18:25:34.160Z"
   },
   {
    "duration": 3,
    "start_time": "2022-04-05T18:25:34.871Z"
   },
   {
    "duration": 8,
    "start_time": "2022-04-05T18:25:34.875Z"
   },
   {
    "duration": 8,
    "start_time": "2022-04-05T18:25:34.884Z"
   },
   {
    "duration": 10,
    "start_time": "2022-04-05T18:25:34.893Z"
   },
   {
    "duration": 8,
    "start_time": "2022-04-05T18:25:34.904Z"
   },
   {
    "duration": 21,
    "start_time": "2022-04-05T18:25:34.913Z"
   },
   {
    "duration": 9,
    "start_time": "2022-04-05T18:25:34.935Z"
   },
   {
    "duration": 19,
    "start_time": "2022-04-05T18:25:34.946Z"
   },
   {
    "duration": 32,
    "start_time": "2022-04-05T18:25:34.967Z"
   },
   {
    "duration": 46,
    "start_time": "2022-04-05T18:25:35.001Z"
   },
   {
    "duration": 19,
    "start_time": "2022-04-05T18:25:35.048Z"
   },
   {
    "duration": 2,
    "start_time": "2022-04-05T18:25:35.069Z"
   },
   {
    "duration": 487,
    "start_time": "2022-04-05T18:25:35.073Z"
   },
   {
    "duration": 2,
    "start_time": "2022-04-05T18:25:35.562Z"
   },
   {
    "duration": 23,
    "start_time": "2022-04-05T18:25:35.566Z"
   },
   {
    "duration": 2,
    "start_time": "2022-04-05T18:25:35.591Z"
   },
   {
    "duration": 676,
    "start_time": "2022-04-05T18:25:35.595Z"
   },
   {
    "duration": 2,
    "start_time": "2022-04-05T18:25:36.273Z"
   },
   {
    "duration": 10,
    "start_time": "2022-04-05T18:25:36.277Z"
   },
   {
    "duration": 6,
    "start_time": "2022-04-05T18:25:36.289Z"
   },
   {
    "duration": 11,
    "start_time": "2022-04-05T18:25:36.297Z"
   },
   {
    "duration": 24,
    "start_time": "2022-04-05T18:25:36.310Z"
   },
   {
    "duration": 5,
    "start_time": "2022-04-05T18:25:36.336Z"
   },
   {
    "duration": 12,
    "start_time": "2022-04-05T18:25:36.342Z"
   },
   {
    "duration": 8,
    "start_time": "2022-04-05T18:25:36.356Z"
   },
   {
    "duration": 1402,
    "start_time": "2022-04-05T18:26:42.148Z"
   },
   {
    "duration": 18,
    "start_time": "2022-04-05T18:26:43.663Z"
   },
   {
    "duration": 13,
    "start_time": "2022-04-05T18:26:55.273Z"
   },
   {
    "duration": 13,
    "start_time": "2022-04-05T18:27:02.512Z"
   },
   {
    "duration": 9,
    "start_time": "2022-04-05T18:27:07.844Z"
   },
   {
    "duration": 656,
    "start_time": "2022-04-05T18:27:33.556Z"
   },
   {
    "duration": 397,
    "start_time": "2022-04-05T18:27:34.214Z"
   },
   {
    "duration": 3,
    "start_time": "2022-04-05T18:27:34.613Z"
   },
   {
    "duration": 8,
    "start_time": "2022-04-05T18:27:34.618Z"
   },
   {
    "duration": 253,
    "start_time": "2022-04-05T18:27:34.627Z"
   },
   {
    "duration": 5,
    "start_time": "2022-04-05T18:27:34.881Z"
   },
   {
    "duration": 7,
    "start_time": "2022-04-05T18:27:34.888Z"
   },
   {
    "duration": 84,
    "start_time": "2022-04-05T18:27:34.896Z"
   },
   {
    "duration": 3,
    "start_time": "2022-04-05T18:27:34.982Z"
   },
   {
    "duration": 170,
    "start_time": "2022-04-05T18:27:34.987Z"
   },
   {
    "duration": 6,
    "start_time": "2022-04-05T18:27:35.160Z"
   },
   {
    "duration": 121,
    "start_time": "2022-04-05T18:27:35.169Z"
   },
   {
    "duration": 17,
    "start_time": "2022-04-05T18:27:35.292Z"
   },
   {
    "duration": 3,
    "start_time": "2022-04-05T18:27:35.311Z"
   },
   {
    "duration": 24,
    "start_time": "2022-04-05T18:27:35.315Z"
   },
   {
    "duration": 24,
    "start_time": "2022-04-05T18:27:35.341Z"
   },
   {
    "duration": 11,
    "start_time": "2022-04-05T18:27:35.367Z"
   },
   {
    "duration": 7,
    "start_time": "2022-04-05T18:27:35.380Z"
   },
   {
    "duration": 3,
    "start_time": "2022-04-05T18:27:35.389Z"
   },
   {
    "duration": 5,
    "start_time": "2022-04-05T18:27:35.393Z"
   },
   {
    "duration": 10,
    "start_time": "2022-04-05T18:27:35.399Z"
   },
   {
    "duration": 4,
    "start_time": "2022-04-05T18:27:35.411Z"
   },
   {
    "duration": 6,
    "start_time": "2022-04-05T18:27:35.416Z"
   },
   {
    "duration": 30,
    "start_time": "2022-04-05T18:27:35.423Z"
   },
   {
    "duration": 119,
    "start_time": "2022-04-05T18:27:35.455Z"
   },
   {
    "duration": 19,
    "start_time": "2022-04-05T18:27:35.577Z"
   },
   {
    "duration": 4,
    "start_time": "2022-04-05T18:27:35.598Z"
   },
   {
    "duration": 10,
    "start_time": "2022-04-05T18:27:35.606Z"
   },
   {
    "duration": 3,
    "start_time": "2022-04-05T18:27:35.618Z"
   },
   {
    "duration": 11,
    "start_time": "2022-04-05T18:27:35.623Z"
   },
   {
    "duration": 20,
    "start_time": "2022-04-05T18:27:35.636Z"
   },
   {
    "duration": 901,
    "start_time": "2022-04-05T18:27:35.657Z"
   },
   {
    "duration": 3,
    "start_time": "2022-04-05T18:27:36.560Z"
   },
   {
    "duration": 6,
    "start_time": "2022-04-05T18:27:36.564Z"
   },
   {
    "duration": 6,
    "start_time": "2022-04-05T18:27:36.571Z"
   },
   {
    "duration": 4,
    "start_time": "2022-04-05T18:27:36.579Z"
   },
   {
    "duration": 7,
    "start_time": "2022-04-05T18:27:36.585Z"
   },
   {
    "duration": 40,
    "start_time": "2022-04-05T18:27:36.594Z"
   },
   {
    "duration": 4,
    "start_time": "2022-04-05T18:27:36.636Z"
   },
   {
    "duration": 21,
    "start_time": "2022-04-05T18:27:36.642Z"
   },
   {
    "duration": 35,
    "start_time": "2022-04-05T18:27:36.665Z"
   },
   {
    "duration": 46,
    "start_time": "2022-04-05T18:27:36.702Z"
   },
   {
    "duration": 20,
    "start_time": "2022-04-05T18:27:36.749Z"
   },
   {
    "duration": 3,
    "start_time": "2022-04-05T18:27:36.770Z"
   },
   {
    "duration": 489,
    "start_time": "2022-04-05T18:27:36.774Z"
   },
   {
    "duration": 2,
    "start_time": "2022-04-05T18:27:37.265Z"
   },
   {
    "duration": 25,
    "start_time": "2022-04-05T18:27:37.269Z"
   },
   {
    "duration": 2,
    "start_time": "2022-04-05T18:27:37.295Z"
   },
   {
    "duration": 508,
    "start_time": "2022-04-05T18:27:37.299Z"
   },
   {
    "duration": 2,
    "start_time": "2022-04-05T18:27:37.809Z"
   },
   {
    "duration": 6,
    "start_time": "2022-04-05T18:27:37.813Z"
   },
   {
    "duration": 13,
    "start_time": "2022-04-05T18:27:37.820Z"
   },
   {
    "duration": 9,
    "start_time": "2022-04-05T18:27:37.835Z"
   },
   {
    "duration": 4,
    "start_time": "2022-04-05T18:27:37.845Z"
   },
   {
    "duration": 4,
    "start_time": "2022-04-05T18:27:37.851Z"
   },
   {
    "duration": 8,
    "start_time": "2022-04-05T18:27:37.857Z"
   },
   {
    "duration": 7,
    "start_time": "2022-04-05T18:27:37.866Z"
   },
   {
    "duration": 98,
    "start_time": "2022-04-05T18:29:31.091Z"
   },
   {
    "duration": 13,
    "start_time": "2022-04-05T18:29:39.952Z"
   },
   {
    "duration": 9,
    "start_time": "2022-04-05T18:29:54.665Z"
   },
   {
    "duration": 643,
    "start_time": "2022-04-05T18:30:05.776Z"
   },
   {
    "duration": 382,
    "start_time": "2022-04-05T18:30:06.421Z"
   },
   {
    "duration": 3,
    "start_time": "2022-04-05T18:30:06.804Z"
   },
   {
    "duration": 7,
    "start_time": "2022-04-05T18:30:06.810Z"
   },
   {
    "duration": 267,
    "start_time": "2022-04-05T18:30:06.819Z"
   },
   {
    "duration": 5,
    "start_time": "2022-04-05T18:30:07.087Z"
   },
   {
    "duration": 5,
    "start_time": "2022-04-05T18:30:07.094Z"
   },
   {
    "duration": 89,
    "start_time": "2022-04-05T18:30:07.101Z"
   },
   {
    "duration": 3,
    "start_time": "2022-04-05T18:30:07.192Z"
   },
   {
    "duration": 93,
    "start_time": "2022-04-05T18:30:07.197Z"
   },
   {
    "duration": 5,
    "start_time": "2022-04-05T18:30:07.292Z"
   },
   {
    "duration": 63,
    "start_time": "2022-04-05T18:30:07.299Z"
   },
   {
    "duration": 19,
    "start_time": "2022-04-05T18:30:07.364Z"
   },
   {
    "duration": 2,
    "start_time": "2022-04-05T18:30:07.385Z"
   },
   {
    "duration": 9,
    "start_time": "2022-04-05T18:30:07.388Z"
   },
   {
    "duration": 36,
    "start_time": "2022-04-05T18:30:07.399Z"
   },
   {
    "duration": 9,
    "start_time": "2022-04-05T18:30:07.437Z"
   },
   {
    "duration": 7,
    "start_time": "2022-04-05T18:30:07.447Z"
   },
   {
    "duration": 8,
    "start_time": "2022-04-05T18:30:07.456Z"
   },
   {
    "duration": 6,
    "start_time": "2022-04-05T18:30:07.466Z"
   },
   {
    "duration": 12,
    "start_time": "2022-04-05T18:30:07.474Z"
   },
   {
    "duration": 6,
    "start_time": "2022-04-05T18:30:07.488Z"
   },
   {
    "duration": 8,
    "start_time": "2022-04-05T18:30:07.495Z"
   },
   {
    "duration": 35,
    "start_time": "2022-04-05T18:30:07.505Z"
   },
   {
    "duration": 100,
    "start_time": "2022-04-05T18:30:07.541Z"
   },
   {
    "duration": 18,
    "start_time": "2022-04-05T18:30:07.642Z"
   },
   {
    "duration": 8,
    "start_time": "2022-04-05T18:30:07.662Z"
   },
   {
    "duration": 9,
    "start_time": "2022-04-05T18:30:07.673Z"
   },
   {
    "duration": 6,
    "start_time": "2022-04-05T18:30:07.684Z"
   },
   {
    "duration": 6,
    "start_time": "2022-04-05T18:30:07.691Z"
   },
   {
    "duration": 44,
    "start_time": "2022-04-05T18:30:07.698Z"
   },
   {
    "duration": 725,
    "start_time": "2022-04-05T18:30:07.744Z"
   },
   {
    "duration": 3,
    "start_time": "2022-04-05T18:30:08.471Z"
   },
   {
    "duration": 5,
    "start_time": "2022-04-05T18:30:08.475Z"
   },
   {
    "duration": 5,
    "start_time": "2022-04-05T18:30:08.481Z"
   },
   {
    "duration": 5,
    "start_time": "2022-04-05T18:30:08.487Z"
   },
   {
    "duration": 6,
    "start_time": "2022-04-05T18:30:08.493Z"
   },
   {
    "duration": 38,
    "start_time": "2022-04-05T18:30:08.501Z"
   },
   {
    "duration": 4,
    "start_time": "2022-04-05T18:30:08.541Z"
   },
   {
    "duration": 18,
    "start_time": "2022-04-05T18:30:08.547Z"
   },
   {
    "duration": 34,
    "start_time": "2022-04-05T18:30:08.566Z"
   },
   {
    "duration": 42,
    "start_time": "2022-04-05T18:30:08.601Z"
   },
   {
    "duration": 20,
    "start_time": "2022-04-05T18:30:08.644Z"
   },
   {
    "duration": 3,
    "start_time": "2022-04-05T18:30:08.665Z"
   },
   {
    "duration": 491,
    "start_time": "2022-04-05T18:30:08.670Z"
   },
   {
    "duration": 3,
    "start_time": "2022-04-05T18:30:09.162Z"
   },
   {
    "duration": 26,
    "start_time": "2022-04-05T18:30:09.166Z"
   },
   {
    "duration": 3,
    "start_time": "2022-04-05T18:30:09.194Z"
   },
   {
    "duration": 508,
    "start_time": "2022-04-05T18:30:09.198Z"
   },
   {
    "duration": 3,
    "start_time": "2022-04-05T18:30:09.708Z"
   },
   {
    "duration": 5,
    "start_time": "2022-04-05T18:30:09.712Z"
   },
   {
    "duration": 13,
    "start_time": "2022-04-05T18:30:09.719Z"
   },
   {
    "duration": 11,
    "start_time": "2022-04-05T18:30:09.733Z"
   },
   {
    "duration": 3,
    "start_time": "2022-04-05T18:30:09.746Z"
   },
   {
    "duration": 7,
    "start_time": "2022-04-05T18:30:09.751Z"
   },
   {
    "duration": 29,
    "start_time": "2022-04-05T18:30:09.760Z"
   },
   {
    "duration": 11,
    "start_time": "2022-04-05T18:30:09.791Z"
   },
   {
    "duration": 1361,
    "start_time": "2022-04-05T18:30:37.085Z"
   },
   {
    "duration": 676,
    "start_time": "2022-04-05T18:30:47.006Z"
   },
   {
    "duration": 379,
    "start_time": "2022-04-05T18:30:47.684Z"
   },
   {
    "duration": 3,
    "start_time": "2022-04-05T18:30:48.064Z"
   },
   {
    "duration": 8,
    "start_time": "2022-04-05T18:30:48.069Z"
   },
   {
    "duration": 263,
    "start_time": "2022-04-05T18:30:48.078Z"
   },
   {
    "duration": 6,
    "start_time": "2022-04-05T18:30:48.342Z"
   },
   {
    "duration": 5,
    "start_time": "2022-04-05T18:30:48.349Z"
   },
   {
    "duration": 87,
    "start_time": "2022-04-05T18:30:48.356Z"
   },
   {
    "duration": 2,
    "start_time": "2022-04-05T18:30:48.445Z"
   },
   {
    "duration": 89,
    "start_time": "2022-04-05T18:30:48.449Z"
   },
   {
    "duration": 6,
    "start_time": "2022-04-05T18:30:48.539Z"
   },
   {
    "duration": 49,
    "start_time": "2022-04-05T18:30:48.547Z"
   },
   {
    "duration": 40,
    "start_time": "2022-04-05T18:30:48.597Z"
   },
   {
    "duration": 2,
    "start_time": "2022-04-05T18:30:48.639Z"
   },
   {
    "duration": 9,
    "start_time": "2022-04-05T18:30:48.643Z"
   },
   {
    "duration": 24,
    "start_time": "2022-04-05T18:30:48.653Z"
   },
   {
    "duration": 9,
    "start_time": "2022-04-05T18:30:48.678Z"
   },
   {
    "duration": 13,
    "start_time": "2022-04-05T18:30:48.688Z"
   },
   {
    "duration": 4,
    "start_time": "2022-04-05T18:30:48.703Z"
   },
   {
    "duration": 25,
    "start_time": "2022-04-05T18:30:48.708Z"
   },
   {
    "duration": 17,
    "start_time": "2022-04-05T18:30:48.735Z"
   },
   {
    "duration": 16,
    "start_time": "2022-04-05T18:30:48.754Z"
   },
   {
    "duration": 10,
    "start_time": "2022-04-05T18:30:48.772Z"
   },
   {
    "duration": 15,
    "start_time": "2022-04-05T18:30:48.784Z"
   },
   {
    "duration": 90,
    "start_time": "2022-04-05T18:30:48.800Z"
   },
   {
    "duration": 18,
    "start_time": "2022-04-05T18:30:48.892Z"
   },
   {
    "duration": 4,
    "start_time": "2022-04-05T18:30:48.912Z"
   },
   {
    "duration": 11,
    "start_time": "2022-04-05T18:30:48.932Z"
   },
   {
    "duration": 4,
    "start_time": "2022-04-05T18:30:48.945Z"
   },
   {
    "duration": 4,
    "start_time": "2022-04-05T18:30:48.951Z"
   },
   {
    "duration": 18,
    "start_time": "2022-04-05T18:30:48.957Z"
   },
   {
    "duration": 735,
    "start_time": "2022-04-05T18:30:48.977Z"
   },
   {
    "duration": 3,
    "start_time": "2022-04-05T18:30:49.714Z"
   },
   {
    "duration": 14,
    "start_time": "2022-04-05T18:30:49.718Z"
   },
   {
    "duration": 3,
    "start_time": "2022-04-05T18:30:49.734Z"
   },
   {
    "duration": 5,
    "start_time": "2022-04-05T18:30:49.739Z"
   },
   {
    "duration": 8,
    "start_time": "2022-04-05T18:30:49.746Z"
   },
   {
    "duration": 20,
    "start_time": "2022-04-05T18:30:49.756Z"
   },
   {
    "duration": 7,
    "start_time": "2022-04-05T18:30:49.778Z"
   },
   {
    "duration": 20,
    "start_time": "2022-04-05T18:30:49.786Z"
   },
   {
    "duration": 57,
    "start_time": "2022-04-05T18:30:49.807Z"
   },
   {
    "duration": 20,
    "start_time": "2022-04-05T18:30:49.866Z"
   },
   {
    "duration": 20,
    "start_time": "2022-04-05T18:30:49.888Z"
   },
   {
    "duration": 3,
    "start_time": "2022-04-05T18:30:49.933Z"
   },
   {
    "duration": 473,
    "start_time": "2022-04-05T18:30:49.938Z"
   },
   {
    "duration": 2,
    "start_time": "2022-04-05T18:30:50.413Z"
   },
   {
    "duration": 30,
    "start_time": "2022-04-05T18:30:50.417Z"
   },
   {
    "duration": 3,
    "start_time": "2022-04-05T18:30:50.448Z"
   },
   {
    "duration": 453,
    "start_time": "2022-04-05T18:30:50.452Z"
   },
   {
    "duration": 2,
    "start_time": "2022-04-05T18:30:50.907Z"
   },
   {
    "duration": 4,
    "start_time": "2022-04-05T18:30:50.911Z"
   },
   {
    "duration": 4,
    "start_time": "2022-04-05T18:30:50.917Z"
   },
   {
    "duration": 9,
    "start_time": "2022-04-05T18:30:50.933Z"
   },
   {
    "duration": 3,
    "start_time": "2022-04-05T18:30:50.944Z"
   },
   {
    "duration": 4,
    "start_time": "2022-04-05T18:30:50.948Z"
   },
   {
    "duration": 6,
    "start_time": "2022-04-05T18:30:50.953Z"
   },
   {
    "duration": 5,
    "start_time": "2022-04-05T18:30:50.961Z"
   },
   {
    "duration": 3,
    "start_time": "2022-04-05T18:32:11.804Z"
   },
   {
    "duration": 4,
    "start_time": "2022-04-05T18:32:14.036Z"
   },
   {
    "duration": 1755,
    "start_time": "2022-04-05T18:32:14.651Z"
   },
   {
    "duration": 1259,
    "start_time": "2022-04-05T18:32:19.179Z"
   },
   {
    "duration": 644,
    "start_time": "2022-04-05T18:32:25.151Z"
   },
   {
    "duration": 381,
    "start_time": "2022-04-05T18:32:25.796Z"
   },
   {
    "duration": 3,
    "start_time": "2022-04-05T18:32:26.179Z"
   },
   {
    "duration": 8,
    "start_time": "2022-04-05T18:32:26.184Z"
   },
   {
    "duration": 286,
    "start_time": "2022-04-05T18:32:26.193Z"
   },
   {
    "duration": 5,
    "start_time": "2022-04-05T18:32:26.480Z"
   },
   {
    "duration": 6,
    "start_time": "2022-04-05T18:32:26.486Z"
   },
   {
    "duration": 84,
    "start_time": "2022-04-05T18:32:26.494Z"
   },
   {
    "duration": 2,
    "start_time": "2022-04-05T18:32:26.580Z"
   },
   {
    "duration": 91,
    "start_time": "2022-04-05T18:32:26.585Z"
   },
   {
    "duration": 5,
    "start_time": "2022-04-05T18:32:26.678Z"
   },
   {
    "duration": 59,
    "start_time": "2022-04-05T18:32:26.685Z"
   },
   {
    "duration": 18,
    "start_time": "2022-04-05T18:32:26.746Z"
   },
   {
    "duration": 3,
    "start_time": "2022-04-05T18:32:26.765Z"
   },
   {
    "duration": 8,
    "start_time": "2022-04-05T18:32:26.769Z"
   },
   {
    "duration": 17,
    "start_time": "2022-04-05T18:32:26.778Z"
   },
   {
    "duration": 38,
    "start_time": "2022-04-05T18:32:26.797Z"
   },
   {
    "duration": 7,
    "start_time": "2022-04-05T18:32:26.837Z"
   },
   {
    "duration": 8,
    "start_time": "2022-04-05T18:32:26.846Z"
   },
   {
    "duration": 5,
    "start_time": "2022-04-05T18:32:26.855Z"
   },
   {
    "duration": 12,
    "start_time": "2022-04-05T18:32:26.862Z"
   },
   {
    "duration": 6,
    "start_time": "2022-04-05T18:32:26.876Z"
   },
   {
    "duration": 9,
    "start_time": "2022-04-05T18:32:26.883Z"
   },
   {
    "duration": 13,
    "start_time": "2022-04-05T18:32:26.893Z"
   },
   {
    "duration": 111,
    "start_time": "2022-04-05T18:32:26.908Z"
   },
   {
    "duration": 26,
    "start_time": "2022-04-05T18:32:27.020Z"
   },
   {
    "duration": 5,
    "start_time": "2022-04-05T18:32:27.048Z"
   },
   {
    "duration": 13,
    "start_time": "2022-04-05T18:32:27.057Z"
   },
   {
    "duration": 6,
    "start_time": "2022-04-05T18:32:27.072Z"
   },
   {
    "duration": 6,
    "start_time": "2022-04-05T18:32:27.079Z"
   },
   {
    "duration": 19,
    "start_time": "2022-04-05T18:32:27.087Z"
   },
   {
    "duration": 711,
    "start_time": "2022-04-05T18:32:27.132Z"
   },
   {
    "duration": 2,
    "start_time": "2022-04-05T18:32:27.845Z"
   },
   {
    "duration": 6,
    "start_time": "2022-04-05T18:32:27.849Z"
   },
   {
    "duration": 7,
    "start_time": "2022-04-05T18:32:27.857Z"
   },
   {
    "duration": 5,
    "start_time": "2022-04-05T18:32:27.866Z"
   },
   {
    "duration": 12,
    "start_time": "2022-04-05T18:32:27.873Z"
   },
   {
    "duration": 20,
    "start_time": "2022-04-05T18:32:27.886Z"
   },
   {
    "duration": 5,
    "start_time": "2022-04-05T18:32:27.907Z"
   },
   {
    "duration": 32,
    "start_time": "2022-04-05T18:32:27.914Z"
   },
   {
    "duration": 32,
    "start_time": "2022-04-05T18:32:27.948Z"
   },
   {
    "duration": 19,
    "start_time": "2022-04-05T18:32:27.981Z"
   },
   {
    "duration": 48,
    "start_time": "2022-04-05T18:32:28.002Z"
   },
   {
    "duration": 3,
    "start_time": "2022-04-05T18:32:28.051Z"
   },
   {
    "duration": 495,
    "start_time": "2022-04-05T18:32:28.055Z"
   },
   {
    "duration": 3,
    "start_time": "2022-04-05T18:32:28.552Z"
   },
   {
    "duration": 23,
    "start_time": "2022-04-05T18:32:28.556Z"
   },
   {
    "duration": 3,
    "start_time": "2022-04-05T18:32:28.581Z"
   },
   {
    "duration": 511,
    "start_time": "2022-04-05T18:32:28.586Z"
   },
   {
    "duration": 2,
    "start_time": "2022-04-05T18:32:29.099Z"
   },
   {
    "duration": 5,
    "start_time": "2022-04-05T18:32:29.103Z"
   },
   {
    "duration": 4,
    "start_time": "2022-04-05T18:32:29.110Z"
   },
   {
    "duration": 22,
    "start_time": "2022-04-05T18:32:29.115Z"
   },
   {
    "duration": 4,
    "start_time": "2022-04-05T18:32:29.138Z"
   },
   {
    "duration": 5,
    "start_time": "2022-04-05T18:32:29.143Z"
   },
   {
    "duration": 7,
    "start_time": "2022-04-05T18:32:29.149Z"
   },
   {
    "duration": 6,
    "start_time": "2022-04-05T18:32:29.157Z"
   },
   {
    "duration": 9,
    "start_time": "2022-04-05T18:49:58.558Z"
   },
   {
    "duration": 10,
    "start_time": "2022-04-05T18:50:11.825Z"
   },
   {
    "duration": 9,
    "start_time": "2022-04-05T18:53:29.265Z"
   },
   {
    "duration": 2,
    "start_time": "2022-04-05T18:53:43.853Z"
   },
   {
    "duration": 9,
    "start_time": "2022-04-05T18:53:45.615Z"
   },
   {
    "duration": 8,
    "start_time": "2022-04-05T18:54:06.606Z"
   },
   {
    "duration": 9,
    "start_time": "2022-04-05T18:54:24.371Z"
   },
   {
    "duration": 3,
    "start_time": "2022-04-05T18:54:57.654Z"
   },
   {
    "duration": 49,
    "start_time": "2022-04-06T09:13:52.337Z"
   },
   {
    "duration": 676,
    "start_time": "2022-04-06T09:14:41.604Z"
   },
   {
    "duration": 376,
    "start_time": "2022-04-06T09:14:42.282Z"
   },
   {
    "duration": 3,
    "start_time": "2022-04-06T09:14:42.659Z"
   },
   {
    "duration": 9,
    "start_time": "2022-04-06T09:14:42.664Z"
   },
   {
    "duration": 268,
    "start_time": "2022-04-06T09:14:42.675Z"
   },
   {
    "duration": 5,
    "start_time": "2022-04-06T09:14:42.945Z"
   },
   {
    "duration": 13,
    "start_time": "2022-04-06T09:14:42.952Z"
   },
   {
    "duration": 78,
    "start_time": "2022-04-06T09:14:42.967Z"
   },
   {
    "duration": 2,
    "start_time": "2022-04-06T09:14:43.047Z"
   },
   {
    "duration": 93,
    "start_time": "2022-04-06T09:14:43.052Z"
   },
   {
    "duration": 7,
    "start_time": "2022-04-06T09:14:43.147Z"
   },
   {
    "duration": 48,
    "start_time": "2022-04-06T09:14:43.156Z"
   },
   {
    "duration": 36,
    "start_time": "2022-04-06T09:14:43.206Z"
   },
   {
    "duration": 2,
    "start_time": "2022-04-06T09:14:43.246Z"
   },
   {
    "duration": 12,
    "start_time": "2022-04-06T09:14:43.250Z"
   },
   {
    "duration": 24,
    "start_time": "2022-04-06T09:14:43.264Z"
   },
   {
    "duration": 12,
    "start_time": "2022-04-06T09:14:43.289Z"
   },
   {
    "duration": 10,
    "start_time": "2022-04-06T09:14:43.303Z"
   },
   {
    "duration": 19,
    "start_time": "2022-04-06T09:14:43.315Z"
   },
   {
    "duration": 4,
    "start_time": "2022-04-06T09:14:43.336Z"
   },
   {
    "duration": 12,
    "start_time": "2022-04-06T09:14:43.342Z"
   },
   {
    "duration": 8,
    "start_time": "2022-04-06T09:14:43.356Z"
   },
   {
    "duration": 6,
    "start_time": "2022-04-06T09:14:43.365Z"
   },
   {
    "duration": 13,
    "start_time": "2022-04-06T09:14:43.372Z"
   },
   {
    "duration": 114,
    "start_time": "2022-04-06T09:14:43.387Z"
   },
   {
    "duration": 4,
    "start_time": "2022-04-06T09:14:43.503Z"
   },
   {
    "duration": 15,
    "start_time": "2022-04-06T09:14:43.509Z"
   },
   {
    "duration": 2,
    "start_time": "2022-04-06T09:14:43.533Z"
   },
   {
    "duration": 4,
    "start_time": "2022-04-06T09:14:43.537Z"
   },
   {
    "duration": 19,
    "start_time": "2022-04-06T09:14:43.543Z"
   },
   {
    "duration": 717,
    "start_time": "2022-04-06T09:14:43.563Z"
   },
   {
    "duration": 3,
    "start_time": "2022-04-06T09:14:44.282Z"
   },
   {
    "duration": 4,
    "start_time": "2022-04-06T09:14:44.286Z"
   },
   {
    "duration": 5,
    "start_time": "2022-04-06T09:14:44.292Z"
   },
   {
    "duration": 5,
    "start_time": "2022-04-06T09:14:44.298Z"
   },
   {
    "duration": 7,
    "start_time": "2022-04-06T09:14:44.304Z"
   },
   {
    "duration": 33,
    "start_time": "2022-04-06T09:14:44.313Z"
   },
   {
    "duration": 3,
    "start_time": "2022-04-06T09:14:44.348Z"
   },
   {
    "duration": 19,
    "start_time": "2022-04-06T09:14:44.353Z"
   },
   {
    "duration": 47,
    "start_time": "2022-04-06T09:14:44.374Z"
   },
   {
    "duration": 19,
    "start_time": "2022-04-06T09:14:44.434Z"
   },
   {
    "duration": 24,
    "start_time": "2022-04-06T09:14:44.455Z"
   },
   {
    "duration": 3,
    "start_time": "2022-04-06T09:14:44.480Z"
   },
   {
    "duration": 481,
    "start_time": "2022-04-06T09:14:44.484Z"
   },
   {
    "duration": 2,
    "start_time": "2022-04-06T09:14:44.967Z"
   },
   {
    "duration": 26,
    "start_time": "2022-04-06T09:14:44.971Z"
   },
   {
    "duration": 6,
    "start_time": "2022-04-06T09:14:44.999Z"
   },
   {
    "duration": 495,
    "start_time": "2022-04-06T09:14:45.007Z"
   },
   {
    "duration": 3,
    "start_time": "2022-04-06T09:14:45.503Z"
   },
   {
    "duration": 17,
    "start_time": "2022-04-06T09:14:45.508Z"
   },
   {
    "duration": 11,
    "start_time": "2022-04-06T09:14:45.527Z"
   },
   {
    "duration": 14,
    "start_time": "2022-04-06T09:14:45.540Z"
   },
   {
    "duration": 9,
    "start_time": "2022-04-06T09:14:45.556Z"
   },
   {
    "duration": 14,
    "start_time": "2022-04-06T09:14:45.566Z"
   },
   {
    "duration": 13,
    "start_time": "2022-04-06T09:14:45.582Z"
   },
   {
    "duration": 12,
    "start_time": "2022-04-06T09:14:45.596Z"
   },
   {
    "duration": 10,
    "start_time": "2022-04-06T09:14:45.610Z"
   },
   {
    "duration": 18,
    "start_time": "2022-04-06T09:14:45.622Z"
   },
   {
    "duration": 53,
    "start_time": "2022-04-06T09:15:50.221Z"
   },
   {
    "duration": 1326,
    "start_time": "2022-04-06T09:16:31.928Z"
   },
   {
    "duration": 35,
    "start_time": "2022-04-06T09:16:43.007Z"
   },
   {
    "duration": 95,
    "start_time": "2022-04-06T09:17:19.865Z"
   },
   {
    "duration": 261,
    "start_time": "2022-04-06T09:17:59.848Z"
   },
   {
    "duration": 14,
    "start_time": "2022-04-06T09:18:01.946Z"
   },
   {
    "duration": 11,
    "start_time": "2022-04-06T09:18:04.730Z"
   },
   {
    "duration": 662,
    "start_time": "2022-04-06T09:19:04.128Z"
   },
   {
    "duration": 390,
    "start_time": "2022-04-06T09:19:04.793Z"
   },
   {
    "duration": 3,
    "start_time": "2022-04-06T09:19:05.185Z"
   },
   {
    "duration": 8,
    "start_time": "2022-04-06T09:19:05.189Z"
   },
   {
    "duration": 245,
    "start_time": "2022-04-06T09:19:05.199Z"
   },
   {
    "duration": 6,
    "start_time": "2022-04-06T09:19:05.446Z"
   },
   {
    "duration": 5,
    "start_time": "2022-04-06T09:19:05.454Z"
   },
   {
    "duration": 89,
    "start_time": "2022-04-06T09:19:05.460Z"
   },
   {
    "duration": 3,
    "start_time": "2022-04-06T09:19:05.550Z"
   },
   {
    "duration": 89,
    "start_time": "2022-04-06T09:19:05.555Z"
   },
   {
    "duration": 7,
    "start_time": "2022-04-06T09:19:05.646Z"
   },
   {
    "duration": 50,
    "start_time": "2022-04-06T09:19:05.655Z"
   },
   {
    "duration": 37,
    "start_time": "2022-04-06T09:19:05.706Z"
   },
   {
    "duration": 2,
    "start_time": "2022-04-06T09:19:05.748Z"
   },
   {
    "duration": 9,
    "start_time": "2022-04-06T09:19:05.752Z"
   },
   {
    "duration": 18,
    "start_time": "2022-04-06T09:19:05.763Z"
   },
   {
    "duration": 10,
    "start_time": "2022-04-06T09:19:05.783Z"
   },
   {
    "duration": 39,
    "start_time": "2022-04-06T09:19:05.795Z"
   },
   {
    "duration": 2,
    "start_time": "2022-04-06T09:19:05.836Z"
   },
   {
    "duration": 5,
    "start_time": "2022-04-06T09:19:05.840Z"
   },
   {
    "duration": 13,
    "start_time": "2022-04-06T09:19:05.846Z"
   },
   {
    "duration": 6,
    "start_time": "2022-04-06T09:19:05.860Z"
   },
   {
    "duration": 5,
    "start_time": "2022-04-06T09:19:05.868Z"
   },
   {
    "duration": 15,
    "start_time": "2022-04-06T09:19:05.875Z"
   },
   {
    "duration": 124,
    "start_time": "2022-04-06T09:19:05.892Z"
   },
   {
    "duration": 6,
    "start_time": "2022-04-06T09:19:06.018Z"
   },
   {
    "duration": 14,
    "start_time": "2022-04-06T09:19:06.033Z"
   },
   {
    "duration": 3,
    "start_time": "2022-04-06T09:19:06.049Z"
   },
   {
    "duration": 4,
    "start_time": "2022-04-06T09:19:06.054Z"
   },
   {
    "duration": 21,
    "start_time": "2022-04-06T09:19:06.059Z"
   },
   {
    "duration": 725,
    "start_time": "2022-04-06T09:19:06.082Z"
   },
   {
    "duration": 2,
    "start_time": "2022-04-06T09:19:06.809Z"
   },
   {
    "duration": 5,
    "start_time": "2022-04-06T09:19:06.813Z"
   },
   {
    "duration": 2,
    "start_time": "2022-04-06T09:19:06.833Z"
   },
   {
    "duration": 6,
    "start_time": "2022-04-06T09:19:06.837Z"
   },
   {
    "duration": 7,
    "start_time": "2022-04-06T09:19:06.844Z"
   },
   {
    "duration": 20,
    "start_time": "2022-04-06T09:19:06.853Z"
   },
   {
    "duration": 6,
    "start_time": "2022-04-06T09:19:06.875Z"
   },
   {
    "duration": 19,
    "start_time": "2022-04-06T09:19:06.883Z"
   },
   {
    "duration": 57,
    "start_time": "2022-04-06T09:19:06.904Z"
   },
   {
    "duration": 22,
    "start_time": "2022-04-06T09:19:06.966Z"
   },
   {
    "duration": 44,
    "start_time": "2022-04-06T09:19:06.990Z"
   },
   {
    "duration": 3,
    "start_time": "2022-04-06T09:19:07.036Z"
   },
   {
    "duration": 487,
    "start_time": "2022-04-06T09:19:07.041Z"
   },
   {
    "duration": 2,
    "start_time": "2022-04-06T09:19:07.532Z"
   },
   {
    "duration": 22,
    "start_time": "2022-04-06T09:19:07.536Z"
   },
   {
    "duration": 2,
    "start_time": "2022-04-06T09:19:07.560Z"
   },
   {
    "duration": 435,
    "start_time": "2022-04-06T09:19:07.564Z"
   },
   {
    "duration": 3,
    "start_time": "2022-04-06T09:19:08.000Z"
   },
   {
    "duration": 7,
    "start_time": "2022-04-06T09:19:08.004Z"
   },
   {
    "duration": 4,
    "start_time": "2022-04-06T09:19:08.013Z"
   },
   {
    "duration": 19,
    "start_time": "2022-04-06T09:19:08.019Z"
   },
   {
    "duration": 4,
    "start_time": "2022-04-06T09:19:08.040Z"
   },
   {
    "duration": 6,
    "start_time": "2022-04-06T09:19:08.045Z"
   },
   {
    "duration": 6,
    "start_time": "2022-04-06T09:19:08.053Z"
   },
   {
    "duration": 5,
    "start_time": "2022-04-06T09:19:08.060Z"
   },
   {
    "duration": 4,
    "start_time": "2022-04-06T09:19:08.066Z"
   },
   {
    "duration": 77,
    "start_time": "2022-04-06T09:19:08.072Z"
   },
   {
    "duration": 1341,
    "start_time": "2022-04-06T09:19:08.151Z"
   },
   {
    "duration": 31,
    "start_time": "2022-04-06T09:19:09.493Z"
   },
   {
    "duration": 160,
    "start_time": "2022-04-06T09:19:09.533Z"
   },
   {
    "duration": 180,
    "start_time": "2022-04-06T09:19:09.695Z"
   },
   {
    "duration": 183,
    "start_time": "2022-04-06T09:19:09.877Z"
   }
  ],
  "kernelspec": {
   "display_name": "Python 3 (ipykernel)",
   "language": "python",
   "name": "python3"
  },
  "language_info": {
   "codemirror_mode": {
    "name": "ipython",
    "version": 3
   },
   "file_extension": ".py",
   "mimetype": "text/x-python",
   "name": "python",
   "nbconvert_exporter": "python",
   "pygments_lexer": "ipython3",
   "version": "3.9.13"
  },
  "toc": {
   "base_numbering": 1,
   "nav_menu": {},
   "number_sections": true,
   "sideBar": true,
   "skip_h1_title": true,
   "title_cell": "Table of Contents",
   "title_sidebar": "Contents",
   "toc_cell": false,
   "toc_position": {},
   "toc_section_display": true,
   "toc_window_display": false
  }
 },
 "nbformat": 4,
 "nbformat_minor": 2
}
