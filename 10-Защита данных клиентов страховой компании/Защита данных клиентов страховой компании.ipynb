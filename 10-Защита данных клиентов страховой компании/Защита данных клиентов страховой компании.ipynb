{
 "cells": [
  {
   "cell_type": "markdown",
   "metadata": {
    "toc": true
   },
   "source": [
    "<h1>Содержание<span class=\"tocSkip\"></span></h1>\n",
    "<div class=\"toc\"><ul class=\"toc-item\"><li><span><a href=\"#Загрузка-данных\" data-toc-modified-id=\"Загрузка-данных-1\"><span class=\"toc-item-num\">1&nbsp;&nbsp;</span>Загрузка данных</a></span></li><li><span><a href=\"#Умножение-матриц\" data-toc-modified-id=\"Умножение-матриц-2\"><span class=\"toc-item-num\">2&nbsp;&nbsp;</span>Умножение матриц</a></span></li><li><span><a href=\"#Алгоритм-преобразования\" data-toc-modified-id=\"Алгоритм-преобразования-3\"><span class=\"toc-item-num\">3&nbsp;&nbsp;</span>Алгоритм преобразования</a></span></li><li><span><a href=\"#Проверка-алгоритма\" data-toc-modified-id=\"Проверка-алгоритма-4\"><span class=\"toc-item-num\">4&nbsp;&nbsp;</span>Проверка алгоритма</a></span></li>"
   ]
  },
  {
   "cell_type": "markdown",
   "metadata": {},
   "source": [
    "# Защита персональных данных клиентов"
   ]
  },
  {
   "cell_type": "markdown",
   "metadata": {},
   "source": [
    "Нам нужно защитить данные клиентов страховой компании. Необходимо разработать такой метод преобразования данных, чтобы по ним было сложно восстановить персональную информацию. Необходимо обосновать корректность его работы.\n",
    "\n",
    "Нужно защитить данные, чтобы при преобразовании качество моделей машинного обучения не ухудшилось. Подбирать наилучшую модель не требуется."
   ]
  },
  {
   "cell_type": "markdown",
   "metadata": {},
   "source": [
    "## Загрузка данных"
   ]
  },
  {
   "cell_type": "code",
   "execution_count": 1,
   "metadata": {},
   "outputs": [],
   "source": [
    "import pandas as pd\n",
    "import numpy as np\n",
    "import seaborn as sns\n",
    "from sklearn.linear_model import LinearRegression\n",
    "from sklearn.metrics import r2_score\n",
    "import matplotlib.pyplot as plt\n",
    "from sklearn.model_selection import train_test_split\n"
   ]
  },
  {
   "cell_type": "code",
   "execution_count": 2,
   "metadata": {},
   "outputs": [],
   "source": [
    "data = pd.read_csv('/datasets/insurance.csv')\n"
   ]
  },
  {
   "cell_type": "code",
   "execution_count": 3,
   "metadata": {},
   "outputs": [
    {
     "name": "stdout",
     "output_type": "stream",
     "text": [
      "<class 'pandas.core.frame.DataFrame'>\n",
      "RangeIndex: 5000 entries, 0 to 4999\n",
      "Data columns (total 5 columns):\n",
      " #   Column             Non-Null Count  Dtype  \n",
      "---  ------             --------------  -----  \n",
      " 0   Пол                5000 non-null   int64  \n",
      " 1   Возраст            5000 non-null   float64\n",
      " 2   Зарплата           5000 non-null   float64\n",
      " 3   Члены семьи        5000 non-null   int64  \n",
      " 4   Страховые выплаты  5000 non-null   int64  \n",
      "dtypes: float64(2), int64(3)\n",
      "memory usage: 195.4 KB\n"
     ]
    }
   ],
   "source": [
    "data.info()"
   ]
  },
  {
   "cell_type": "code",
   "execution_count": 4,
   "metadata": {},
   "outputs": [
    {
     "data": {
      "text/plain": [
       "153"
      ]
     },
     "execution_count": 4,
     "metadata": {},
     "output_type": "execute_result"
    }
   ],
   "source": [
    "data.duplicated().sum()"
   ]
  },
  {
   "cell_type": "code",
   "execution_count": 5,
   "metadata": {
    "scrolled": true
   },
   "outputs": [
    {
     "data": {
      "text/plain": [
       "0"
      ]
     },
     "execution_count": 5,
     "metadata": {},
     "output_type": "execute_result"
    }
   ],
   "source": [
    "data = data.drop_duplicates().reset_index(drop=True)\n",
    "data.duplicated().sum()"
   ]
  },
  {
   "cell_type": "code",
   "execution_count": 6,
   "metadata": {},
   "outputs": [
    {
     "data": {
      "text/html": [
       "<div>\n",
       "<style scoped>\n",
       "    .dataframe tbody tr th:only-of-type {\n",
       "        vertical-align: middle;\n",
       "    }\n",
       "\n",
       "    .dataframe tbody tr th {\n",
       "        vertical-align: top;\n",
       "    }\n",
       "\n",
       "    .dataframe thead th {\n",
       "        text-align: right;\n",
       "    }\n",
       "</style>\n",
       "<table border=\"1\" class=\"dataframe\">\n",
       "  <thead>\n",
       "    <tr style=\"text-align: right;\">\n",
       "      <th></th>\n",
       "      <th>Пол</th>\n",
       "      <th>Возраст</th>\n",
       "      <th>Зарплата</th>\n",
       "      <th>Члены семьи</th>\n",
       "      <th>Страховые выплаты</th>\n",
       "    </tr>\n",
       "  </thead>\n",
       "  <tbody>\n",
       "    <tr>\n",
       "      <th>count</th>\n",
       "      <td>4847.000000</td>\n",
       "      <td>4847.000000</td>\n",
       "      <td>4847.000000</td>\n",
       "      <td>4847.000000</td>\n",
       "      <td>4847.000000</td>\n",
       "    </tr>\n",
       "    <tr>\n",
       "      <th>mean</th>\n",
       "      <td>0.498453</td>\n",
       "      <td>31.023932</td>\n",
       "      <td>39895.811842</td>\n",
       "      <td>1.203425</td>\n",
       "      <td>0.152259</td>\n",
       "    </tr>\n",
       "    <tr>\n",
       "      <th>std</th>\n",
       "      <td>0.500049</td>\n",
       "      <td>8.487995</td>\n",
       "      <td>9972.953985</td>\n",
       "      <td>1.098664</td>\n",
       "      <td>0.468934</td>\n",
       "    </tr>\n",
       "    <tr>\n",
       "      <th>min</th>\n",
       "      <td>0.000000</td>\n",
       "      <td>18.000000</td>\n",
       "      <td>5300.000000</td>\n",
       "      <td>0.000000</td>\n",
       "      <td>0.000000</td>\n",
       "    </tr>\n",
       "    <tr>\n",
       "      <th>25%</th>\n",
       "      <td>0.000000</td>\n",
       "      <td>24.000000</td>\n",
       "      <td>33200.000000</td>\n",
       "      <td>0.000000</td>\n",
       "      <td>0.000000</td>\n",
       "    </tr>\n",
       "    <tr>\n",
       "      <th>50%</th>\n",
       "      <td>0.000000</td>\n",
       "      <td>30.000000</td>\n",
       "      <td>40200.000000</td>\n",
       "      <td>1.000000</td>\n",
       "      <td>0.000000</td>\n",
       "    </tr>\n",
       "    <tr>\n",
       "      <th>75%</th>\n",
       "      <td>1.000000</td>\n",
       "      <td>37.000000</td>\n",
       "      <td>46600.000000</td>\n",
       "      <td>2.000000</td>\n",
       "      <td>0.000000</td>\n",
       "    </tr>\n",
       "    <tr>\n",
       "      <th>max</th>\n",
       "      <td>1.000000</td>\n",
       "      <td>65.000000</td>\n",
       "      <td>79000.000000</td>\n",
       "      <td>6.000000</td>\n",
       "      <td>5.000000</td>\n",
       "    </tr>\n",
       "  </tbody>\n",
       "</table>\n",
       "</div>"
      ],
      "text/plain": [
       "               Пол      Возраст      Зарплата  Члены семьи  Страховые выплаты\n",
       "count  4847.000000  4847.000000   4847.000000  4847.000000        4847.000000\n",
       "mean      0.498453    31.023932  39895.811842     1.203425           0.152259\n",
       "std       0.500049     8.487995   9972.953985     1.098664           0.468934\n",
       "min       0.000000    18.000000   5300.000000     0.000000           0.000000\n",
       "25%       0.000000    24.000000  33200.000000     0.000000           0.000000\n",
       "50%       0.000000    30.000000  40200.000000     1.000000           0.000000\n",
       "75%       1.000000    37.000000  46600.000000     2.000000           0.000000\n",
       "max       1.000000    65.000000  79000.000000     6.000000           5.000000"
      ]
     },
     "execution_count": 6,
     "metadata": {},
     "output_type": "execute_result"
    }
   ],
   "source": [
    "data.describe()"
   ]
  },
  {
   "cell_type": "code",
   "execution_count": 7,
   "metadata": {},
   "outputs": [
    {
     "data": {
      "text/html": [
       "<div>\n",
       "<style scoped>\n",
       "    .dataframe tbody tr th:only-of-type {\n",
       "        vertical-align: middle;\n",
       "    }\n",
       "\n",
       "    .dataframe tbody tr th {\n",
       "        vertical-align: top;\n",
       "    }\n",
       "\n",
       "    .dataframe thead th {\n",
       "        text-align: right;\n",
       "    }\n",
       "</style>\n",
       "<table border=\"1\" class=\"dataframe\">\n",
       "  <thead>\n",
       "    <tr style=\"text-align: right;\">\n",
       "      <th></th>\n",
       "      <th>Пол</th>\n",
       "      <th>Возраст</th>\n",
       "      <th>Зарплата</th>\n",
       "      <th>Члены семьи</th>\n",
       "      <th>Страховые выплаты</th>\n",
       "    </tr>\n",
       "  </thead>\n",
       "  <tbody>\n",
       "    <tr>\n",
       "      <th>Пол</th>\n",
       "      <td>1.000000</td>\n",
       "      <td>0.001953</td>\n",
       "      <td>0.015456</td>\n",
       "      <td>-0.007315</td>\n",
       "      <td>0.011565</td>\n",
       "    </tr>\n",
       "    <tr>\n",
       "      <th>Возраст</th>\n",
       "      <td>0.001953</td>\n",
       "      <td>1.000000</td>\n",
       "      <td>-0.017386</td>\n",
       "      <td>-0.009064</td>\n",
       "      <td>0.654964</td>\n",
       "    </tr>\n",
       "    <tr>\n",
       "      <th>Зарплата</th>\n",
       "      <td>0.015456</td>\n",
       "      <td>-0.017386</td>\n",
       "      <td>1.000000</td>\n",
       "      <td>-0.031687</td>\n",
       "      <td>-0.013123</td>\n",
       "    </tr>\n",
       "    <tr>\n",
       "      <th>Члены семьи</th>\n",
       "      <td>-0.007315</td>\n",
       "      <td>-0.009064</td>\n",
       "      <td>-0.031687</td>\n",
       "      <td>1.000000</td>\n",
       "      <td>-0.039303</td>\n",
       "    </tr>\n",
       "    <tr>\n",
       "      <th>Страховые выплаты</th>\n",
       "      <td>0.011565</td>\n",
       "      <td>0.654964</td>\n",
       "      <td>-0.013123</td>\n",
       "      <td>-0.039303</td>\n",
       "      <td>1.000000</td>\n",
       "    </tr>\n",
       "  </tbody>\n",
       "</table>\n",
       "</div>"
      ],
      "text/plain": [
       "                        Пол   Возраст  Зарплата  Члены семьи  \\\n",
       "Пол                1.000000  0.001953  0.015456    -0.007315   \n",
       "Возраст            0.001953  1.000000 -0.017386    -0.009064   \n",
       "Зарплата           0.015456 -0.017386  1.000000    -0.031687   \n",
       "Члены семьи       -0.007315 -0.009064 -0.031687     1.000000   \n",
       "Страховые выплаты  0.011565  0.654964 -0.013123    -0.039303   \n",
       "\n",
       "                   Страховые выплаты  \n",
       "Пол                         0.011565  \n",
       "Возраст                     0.654964  \n",
       "Зарплата                   -0.013123  \n",
       "Члены семьи                -0.039303  \n",
       "Страховые выплаты           1.000000  "
      ]
     },
     "execution_count": 7,
     "metadata": {},
     "output_type": "execute_result"
    }
   ],
   "source": [
    "data.corr()"
   ]
  },
  {
   "cell_type": "code",
   "execution_count": 8,
   "metadata": {},
   "outputs": [
    {
     "data": {
      "text/html": [
       "<div>\n",
       "<style scoped>\n",
       "    .dataframe tbody tr th:only-of-type {\n",
       "        vertical-align: middle;\n",
       "    }\n",
       "\n",
       "    .dataframe tbody tr th {\n",
       "        vertical-align: top;\n",
       "    }\n",
       "\n",
       "    .dataframe thead th {\n",
       "        text-align: right;\n",
       "    }\n",
       "</style>\n",
       "<table border=\"1\" class=\"dataframe\">\n",
       "  <thead>\n",
       "    <tr style=\"text-align: right;\">\n",
       "      <th></th>\n",
       "      <th>Пол</th>\n",
       "      <th>Возраст</th>\n",
       "      <th>Зарплата</th>\n",
       "      <th>Члены семьи</th>\n",
       "      <th>Страховые выплаты</th>\n",
       "    </tr>\n",
       "  </thead>\n",
       "  <tbody>\n",
       "    <tr>\n",
       "      <th>0</th>\n",
       "      <td>1</td>\n",
       "      <td>41.0</td>\n",
       "      <td>49600.0</td>\n",
       "      <td>1</td>\n",
       "      <td>0</td>\n",
       "    </tr>\n",
       "    <tr>\n",
       "      <th>1</th>\n",
       "      <td>0</td>\n",
       "      <td>46.0</td>\n",
       "      <td>38000.0</td>\n",
       "      <td>1</td>\n",
       "      <td>1</td>\n",
       "    </tr>\n",
       "    <tr>\n",
       "      <th>2</th>\n",
       "      <td>0</td>\n",
       "      <td>29.0</td>\n",
       "      <td>21000.0</td>\n",
       "      <td>0</td>\n",
       "      <td>0</td>\n",
       "    </tr>\n",
       "    <tr>\n",
       "      <th>3</th>\n",
       "      <td>0</td>\n",
       "      <td>21.0</td>\n",
       "      <td>41700.0</td>\n",
       "      <td>2</td>\n",
       "      <td>0</td>\n",
       "    </tr>\n",
       "    <tr>\n",
       "      <th>4</th>\n",
       "      <td>1</td>\n",
       "      <td>28.0</td>\n",
       "      <td>26100.0</td>\n",
       "      <td>0</td>\n",
       "      <td>0</td>\n",
       "    </tr>\n",
       "  </tbody>\n",
       "</table>\n",
       "</div>"
      ],
      "text/plain": [
       "   Пол  Возраст  Зарплата  Члены семьи  Страховые выплаты\n",
       "0    1     41.0   49600.0            1                  0\n",
       "1    0     46.0   38000.0            1                  1\n",
       "2    0     29.0   21000.0            0                  0\n",
       "3    0     21.0   41700.0            2                  0\n",
       "4    1     28.0   26100.0            0                  0"
      ]
     },
     "execution_count": 8,
     "metadata": {},
     "output_type": "execute_result"
    }
   ],
   "source": [
    "data.head()"
   ]
  },
  {
   "cell_type": "code",
   "execution_count": 9,
   "metadata": {
    "scrolled": true
   },
   "outputs": [
    {
     "data": {
      "text/plain": [
       "<BarContainer object of 4847 artists>"
      ]
     },
     "execution_count": 9,
     "metadata": {},
     "output_type": "execute_result"
    },
    {
     "data": {
      "image/png": "[encoded data removed]",
      "text/plain": [
       "<Figure size 432x288 with 1 Axes>"
      ]
     },
     "metadata": {
      "needs_background": "light"
     },
     "output_type": "display_data"
    }
   ],
   "source": [
    "plt.bar(data['Возраст'], data['Страховые выплаты'])"
   ]
  },
  {
   "cell_type": "code",
   "execution_count": 10,
   "metadata": {},
   "outputs": [],
   "source": [
    "features = data.drop(['Страховые выплаты'], axis=1)\n",
    "target = data['Страховые выплаты']"
   ]
  },
  {
   "cell_type": "code",
   "execution_count": 11,
   "metadata": {},
   "outputs": [],
   "source": [
    "features_train, features_test, target_train, target_test = train_test_split(features, target, test_size=0.4, random_state=12345)"
   ]
  },
  {
   "cell_type": "markdown",
   "metadata": {},
   "source": [
    "Удалили дубликаты.\n",
    "Выявили высокую корреляцию между выплатами и возрастом.\n",
    "Определили фичи и таргеты."
   ]
  },
  {
   "cell_type": "markdown",
   "metadata": {},
   "source": [
    "## Умножение матриц"
   ]
  },
  {
   "cell_type": "markdown",
   "metadata": {},
   "source": [
    "В этом задании вы можете записывать формулы в *Jupyter Notebook.*\n",
    "\n",
    "Чтобы записать формулу внутри текста, окружите её символами доллара \\\\$; если снаружи —  двойными символами \\\\$\\\\$. Эти формулы записываются на языке вёрстки *LaTeX.* \n",
    "\n",
    "Для примера мы записали формулы линейной регрессии. Можете их скопировать и отредактировать, чтобы решить задачу.\n",
    "\n",
    "Работать в *LaTeX* необязательно."
   ]
  },
  {
   "cell_type": "markdown",
   "metadata": {},
   "source": [
    "Обозначения:\n",
    "\n",
    "- $X$ — матрица признаков (нулевой столбец состоит из единиц)\n",
    "\n",
    "- $y$ — вектор целевого признака\n",
    "\n",
    "- $P$ — матрица, на которую умножаются признаки\n",
    "\n",
    "- $w$ — вектор весов линейной регрессии (нулевой элемент равен сдвигу)"
   ]
  },
  {
   "cell_type": "markdown",
   "metadata": {},
   "source": [
    "Предсказания:\n",
    "\n",
    "$$\n",
    "a = Xw\n",
    "$$\n",
    "\n",
    "Задача обучения:\n",
    "\n",
    "$$\n",
    "w = \\arg\\min_w MSE(Xw, y)\n",
    "$$\n",
    "\n",
    "Формула обучения:\n",
    "\n",
    "$$\n",
    "w = (X^T X)^{-1} X^T y\n",
    "$$"
   ]
  },
  {
   "cell_type": "markdown",
   "metadata": {},
   "source": [
    "**Ответ:** Не изменится\n",
    "\n",
    "**Обоснование:** "
   ]
  },
  {
   "cell_type": "markdown",
   "metadata": {},
   "source": [
    "E - единичная матрица\n",
    "P - обратимая матрица"
   ]
  },
  {
   "cell_type": "markdown",
   "metadata": {},
   "source": [
    "Представим новую матрицу $$ X = X * P $$ "
   ]
  },
  {
   "cell_type": "markdown",
   "metadata": {},
   "source": [
    "Подставим все в формулу обучения\n",
    "$$\n",
    "w = ((XP)^T XP)^{-1} (XP)^T y = P^{-1}(X^TX)^{-1}EX^Ty = P^{-1}(X^TX)^{-1}X^Ty = P^{-1}w\n",
    "$$"
   ]
  },
  {
   "cell_type": "markdown",
   "metadata": {},
   "source": [
    "Теперь подставим все в формулу предсказания\n",
    "$$ a = Xw = XPP^{-1}w = XEw = Xw = a $$"
   ]
  },
  {
   "cell_type": "markdown",
   "metadata": {},
   "source": [
    " Вывод: качество предсказания не изменится"
   ]
  },
  {
   "cell_type": "markdown",
   "metadata": {},
   "source": [
    "## Алгоритм преобразования"
   ]
  },
  {
   "cell_type": "markdown",
   "metadata": {},
   "source": [
    "**Алгоритм**\n",
    "\n",
    "Создаем обратимую матрицу с случайными значениями. \n",
    "Получаем преобразованные признаки.\n"
   ]
  },
  {
   "cell_type": "markdown",
   "metadata": {},
   "source": [
    "**Обоснование**\n",
    "\n"
   ]
  },
  {
   "cell_type": "markdown",
   "metadata": {},
   "source": [
    "Создадим матрицы из фичей"
   ]
  },
  {
   "cell_type": "code",
   "execution_count": 12,
   "metadata": {},
   "outputs": [],
   "source": [
    "matrix_train = features_train.values\n",
    "matrix_test = features_test.values"
   ]
  },
  {
   "cell_type": "markdown",
   "metadata": {},
   "source": [
    "Создадим матрицу из случайных значений"
   ]
  },
  {
   "cell_type": "code",
   "execution_count": 13,
   "metadata": {},
   "outputs": [
    {
     "data": {
      "text/plain": [
       "array([[ 0.34471642, -0.13337868,  0.4960332 , -0.48067294],\n",
       "       [ 0.52841748,  1.31099489, -1.50792473,  0.61734558],\n",
       "       [ 0.09757611,  0.62356628,  0.45231683, -2.5225638 ],\n",
       "       [ 1.08876903,  0.19412461,  0.12584486,  1.15612946]])"
      ]
     },
     "execution_count": 13,
     "metadata": {},
     "output_type": "execute_result"
    }
   ],
   "source": [
    "random_matrix = np.random.randn(4, 4)\n",
    "random_matrix"
   ]
  },
  {
   "cell_type": "markdown",
   "metadata": {},
   "source": [
    "Проверим свойство обратимости матрицы"
   ]
  },
  {
   "cell_type": "code",
   "execution_count": 14,
   "metadata": {
    "scrolled": true
   },
   "outputs": [
    {
     "data": {
      "text/plain": [
       "array([[ 1.,  0.,  0.,  0.],\n",
       "       [ 0.,  1., -0., -0.],\n",
       "       [ 0.,  0.,  1., -0.],\n",
       "       [ 0., -0.,  0.,  1.]])"
      ]
     },
     "execution_count": 14,
     "metadata": {},
     "output_type": "execute_result"
    }
   ],
   "source": [
    "np.round(random_matrix @ np.linalg.inv(random_matrix))"
   ]
  },
  {
   "cell_type": "markdown",
   "metadata": {},
   "source": [
    "Матрица обратимая. Теперь умножаем фичи на матрицу."
   ]
  },
  {
   "cell_type": "code",
   "execution_count": 15,
   "metadata": {},
   "outputs": [],
   "source": [
    "matrix_test_ = matrix_test.dot(random_matrix)\n",
    "matrix_train_ = matrix_train.dot(random_matrix)"
   ]
  },
  {
   "cell_type": "markdown",
   "metadata": {},
   "source": [
    "## Проверка алгоритма"
   ]
  },
  {
   "cell_type": "markdown",
   "metadata": {},
   "source": [
    "Проверим алгоритм на модели линейной регрессии"
   ]
  },
  {
   "cell_type": "code",
   "execution_count": 16,
   "metadata": {},
   "outputs": [],
   "source": [
    "model = LinearRegression()\n",
    "model.fit(matrix_train, target_train)\n",
    "predicted = model.predict(features_test)\n",
    "r2 = model.score(features_test, target_test)"
   ]
  },
  {
   "cell_type": "code",
   "execution_count": 17,
   "metadata": {},
   "outputs": [],
   "source": [
    "model.fit(matrix_train_, target_train)\n",
    "predicted_code = model.predict(matrix_test_)\n",
    "code_r2 = model.score(matrix_test_, target_test)"
   ]
  },
  {
   "cell_type": "code",
   "execution_count": 18,
   "metadata": {
    "scrolled": true
   },
   "outputs": [
    {
     "name": "stdout",
     "output_type": "stream",
     "text": [
      "R2 марицы:  0.4272661343811538\n",
      "R2 закодированной марицы:  0.42726613438188266\n"
     ]
    }
   ],
   "source": [
    "print('R2 марицы: ', r2)\n",
    "print('R2 закодированной марицы: ', code_r2)"
   ]
  },
  {
   "cell_type": "markdown",
   "metadata": {},
   "source": [
    "Вывод: алгоритм проверен, метрики близки друг к другу."
   ]
  }
 ],
 "metadata": {
  "ExecuteTimeLog": [
   {
    "duration": 604,
    "start_time": "2022-05-31T18:27:25.778Z"
   },
   {
    "duration": 69,
    "start_time": "2022-05-31T18:27:51.988Z"
   },
   {
    "duration": 128,
    "start_time": "2022-05-31T18:27:56.080Z"
   },
   {
    "duration": 53,
    "start_time": "2022-05-31T18:28:00.698Z"
   },
   {
    "duration": 30,
    "start_time": "2022-05-31T18:28:58.997Z"
   },
   {
    "duration": 11,
    "start_time": "2022-05-31T18:29:06.831Z"
   },
   {
    "duration": 11,
    "start_time": "2022-05-31T18:29:18.833Z"
   },
   {
    "duration": 7,
    "start_time": "2022-05-31T18:33:37.935Z"
   },
   {
    "duration": 7,
    "start_time": "2022-05-31T18:34:03.529Z"
   },
   {
    "duration": 5,
    "start_time": "2022-05-31T18:34:08.032Z"
   },
   {
    "duration": 5,
    "start_time": "2022-05-31T18:34:20.233Z"
   },
   {
    "duration": 9,
    "start_time": "2022-05-31T18:34:24.435Z"
   },
   {
    "duration": 1160,
    "start_time": "2022-05-31T18:37:56.316Z"
   },
   {
    "duration": 25,
    "start_time": "2022-05-31T18:39:12.515Z"
   },
   {
    "duration": 15,
    "start_time": "2022-05-31T18:39:20.611Z"
   },
   {
    "duration": 11,
    "start_time": "2022-05-31T18:39:36.458Z"
   },
   {
    "duration": 3,
    "start_time": "2022-05-31T18:40:37.980Z"
   },
   {
    "duration": 33,
    "start_time": "2022-05-31T18:41:37.604Z"
   },
   {
    "duration": 32,
    "start_time": "2022-05-31T18:41:43.483Z"
   },
   {
    "duration": 77,
    "start_time": "2022-05-31T18:41:48.142Z"
   },
   {
    "duration": 22,
    "start_time": "2022-05-31T18:42:12.700Z"
   },
   {
    "duration": 10,
    "start_time": "2022-05-31T18:42:21.834Z"
   },
   {
    "duration": 47,
    "start_time": "2022-05-31T18:42:30.493Z"
   },
   {
    "duration": 2196,
    "start_time": "2022-05-31T18:45:27.840Z"
   },
   {
    "duration": 236,
    "start_time": "2022-05-31T18:46:52.829Z"
   },
   {
    "duration": 412,
    "start_time": "2022-05-31T18:47:04.556Z"
   },
   {
    "duration": 220,
    "start_time": "2022-05-31T18:47:10.476Z"
   },
   {
    "duration": 276,
    "start_time": "2022-05-31T18:47:15.347Z"
   },
   {
    "duration": 188,
    "start_time": "2022-05-31T18:47:22.625Z"
   },
   {
    "duration": 279,
    "start_time": "2022-05-31T18:47:49.086Z"
   },
   {
    "duration": 146,
    "start_time": "2022-05-31T18:49:07.935Z"
   },
   {
    "duration": 167,
    "start_time": "2022-05-31T18:49:19.333Z"
   },
   {
    "duration": 7892,
    "start_time": "2022-05-31T18:49:41.492Z"
   },
   {
    "duration": 8147,
    "start_time": "2022-05-31T18:50:32.636Z"
   },
   {
    "duration": 237,
    "start_time": "2022-05-31T18:50:42.066Z"
   },
   {
    "duration": 9027,
    "start_time": "2022-05-31T18:51:14.908Z"
   },
   {
    "duration": 1489,
    "start_time": "2022-06-01T06:04:30.914Z"
   },
   {
    "duration": 75,
    "start_time": "2022-06-01T06:04:32.406Z"
   },
   {
    "duration": 12,
    "start_time": "2022-06-01T06:04:32.483Z"
   },
   {
    "duration": 8,
    "start_time": "2022-06-01T06:04:32.497Z"
   },
   {
    "duration": 8,
    "start_time": "2022-06-01T06:04:32.507Z"
   },
   {
    "duration": 33,
    "start_time": "2022-06-01T06:04:32.517Z"
   },
   {
    "duration": 11,
    "start_time": "2022-06-01T06:04:32.552Z"
   },
   {
    "duration": 12,
    "start_time": "2022-06-01T06:04:32.564Z"
   },
   {
    "duration": 6361,
    "start_time": "2022-06-01T06:04:32.577Z"
   },
   {
    "duration": 1574,
    "start_time": "2022-06-01T12:40:44.754Z"
   },
   {
    "duration": 79,
    "start_time": "2022-06-01T12:40:46.330Z"
   },
   {
    "duration": 14,
    "start_time": "2022-06-01T12:40:46.411Z"
   },
   {
    "duration": 9,
    "start_time": "2022-06-01T12:40:46.427Z"
   },
   {
    "duration": 8,
    "start_time": "2022-06-01T12:40:46.438Z"
   },
   {
    "duration": 26,
    "start_time": "2022-06-01T12:40:46.448Z"
   },
   {
    "duration": 11,
    "start_time": "2022-06-01T12:40:46.475Z"
   },
   {
    "duration": 10,
    "start_time": "2022-06-01T12:40:46.487Z"
   },
   {
    "duration": 6714,
    "start_time": "2022-06-01T12:40:46.498Z"
   },
   {
    "duration": 126,
    "start_time": "2022-06-01T12:47:19.146Z"
   },
   {
    "duration": 4,
    "start_time": "2022-06-01T12:48:15.674Z"
   },
   {
    "duration": 14,
    "start_time": "2022-06-01T12:48:22.151Z"
   },
   {
    "duration": 5,
    "start_time": "2022-06-01T12:48:28.476Z"
   },
   {
    "duration": 4,
    "start_time": "2022-06-01T12:50:19.574Z"
   },
   {
    "duration": 14,
    "start_time": "2022-06-01T12:50:30.739Z"
   },
   {
    "duration": 11,
    "start_time": "2022-06-01T12:51:27.751Z"
   },
   {
    "duration": 33,
    "start_time": "2022-06-01T12:51:28.806Z"
   },
   {
    "duration": 13,
    "start_time": "2022-06-01T12:51:30.130Z"
   },
   {
    "duration": 11,
    "start_time": "2022-06-01T12:51:33.773Z"
   },
   {
    "duration": 7797,
    "start_time": "2022-06-01T12:51:35.452Z"
   },
   {
    "duration": 4,
    "start_time": "2022-06-01T12:51:43.251Z"
   },
   {
    "duration": 13,
    "start_time": "2022-06-01T12:51:46.222Z"
   },
   {
    "duration": 1201,
    "start_time": "2022-06-01T13:35:44.616Z"
   },
   {
    "duration": 29,
    "start_time": "2022-06-01T13:35:45.819Z"
   },
   {
    "duration": 11,
    "start_time": "2022-06-01T13:35:45.850Z"
   },
   {
    "duration": 9,
    "start_time": "2022-06-01T13:35:45.863Z"
   },
   {
    "duration": 16,
    "start_time": "2022-06-01T13:35:45.874Z"
   },
   {
    "duration": 27,
    "start_time": "2022-06-01T13:35:45.893Z"
   },
   {
    "duration": 11,
    "start_time": "2022-06-01T13:35:45.922Z"
   },
   {
    "duration": 30,
    "start_time": "2022-06-01T13:35:45.935Z"
   },
   {
    "duration": 6532,
    "start_time": "2022-06-01T13:35:45.966Z"
   },
   {
    "duration": 3,
    "start_time": "2022-06-01T13:35:52.501Z"
   },
   {
    "duration": 17,
    "start_time": "2022-06-01T13:35:52.506Z"
   },
   {
    "duration": 1253,
    "start_time": "2022-06-01T14:26:38.213Z"
   },
   {
    "duration": 29,
    "start_time": "2022-06-01T14:26:39.468Z"
   },
   {
    "duration": 12,
    "start_time": "2022-06-01T14:26:39.498Z"
   },
   {
    "duration": 6,
    "start_time": "2022-06-01T14:26:39.512Z"
   },
   {
    "duration": 12,
    "start_time": "2022-06-01T14:26:39.520Z"
   },
   {
    "duration": 31,
    "start_time": "2022-06-01T14:26:39.534Z"
   },
   {
    "duration": 11,
    "start_time": "2022-06-01T14:26:39.567Z"
   },
   {
    "duration": 9,
    "start_time": "2022-06-01T14:26:39.579Z"
   },
   {
    "duration": 6488,
    "start_time": "2022-06-01T14:26:39.590Z"
   },
   {
    "duration": 4,
    "start_time": "2022-06-01T14:26:46.080Z"
   },
   {
    "duration": 15,
    "start_time": "2022-06-01T14:26:46.086Z"
   },
   {
    "duration": 1474,
    "start_time": "2022-06-01T17:10:34.450Z"
   },
   {
    "duration": 74,
    "start_time": "2022-06-01T17:10:35.926Z"
   },
   {
    "duration": 11,
    "start_time": "2022-06-01T17:10:36.002Z"
   },
   {
    "duration": 12,
    "start_time": "2022-06-01T17:10:36.016Z"
   },
   {
    "duration": 9,
    "start_time": "2022-06-01T17:10:36.029Z"
   },
   {
    "duration": 26,
    "start_time": "2022-06-01T17:10:36.039Z"
   },
   {
    "duration": 10,
    "start_time": "2022-06-01T17:10:36.067Z"
   },
   {
    "duration": 9,
    "start_time": "2022-06-01T17:10:36.078Z"
   },
   {
    "duration": 6241,
    "start_time": "2022-06-01T17:10:36.089Z"
   },
   {
    "duration": 4,
    "start_time": "2022-06-01T17:10:42.332Z"
   },
   {
    "duration": 21,
    "start_time": "2022-06-01T17:10:42.338Z"
   },
   {
    "duration": 115,
    "start_time": "2022-06-01T19:01:38.435Z"
   },
   {
    "duration": 4,
    "start_time": "2022-06-01T19:02:01.773Z"
   },
   {
    "duration": 5,
    "start_time": "2022-06-01T19:02:07.989Z"
   },
   {
    "duration": 5,
    "start_time": "2022-06-01T19:02:11.382Z"
   },
   {
    "duration": 4,
    "start_time": "2022-06-01T19:04:00.790Z"
   },
   {
    "duration": 5,
    "start_time": "2022-06-01T19:04:08.832Z"
   },
   {
    "duration": 5,
    "start_time": "2022-06-01T19:04:15.953Z"
   },
   {
    "duration": 7,
    "start_time": "2022-06-01T19:04:21.773Z"
   },
   {
    "duration": 4,
    "start_time": "2022-06-01T19:04:37.849Z"
   },
   {
    "duration": 12,
    "start_time": "2022-06-01T19:04:44.259Z"
   },
   {
    "duration": 13,
    "start_time": "2022-06-01T19:06:02.205Z"
   },
   {
    "duration": 9,
    "start_time": "2022-06-01T19:06:08.168Z"
   },
   {
    "duration": 26,
    "start_time": "2022-06-01T19:06:10.451Z"
   },
   {
    "duration": 12,
    "start_time": "2022-06-01T19:06:11.186Z"
   },
   {
    "duration": 10,
    "start_time": "2022-06-01T19:06:11.404Z"
   },
   {
    "duration": 7149,
    "start_time": "2022-06-01T19:06:11.574Z"
   },
   {
    "duration": 4,
    "start_time": "2022-06-01T19:06:18.726Z"
   },
   {
    "duration": 7,
    "start_time": "2022-06-01T19:06:18.732Z"
   },
   {
    "duration": 4,
    "start_time": "2022-06-01T19:06:18.741Z"
   },
   {
    "duration": 17,
    "start_time": "2022-06-01T19:06:18.746Z"
   },
   {
    "duration": 1335,
    "start_time": "2022-06-01T19:06:34.858Z"
   },
   {
    "duration": 28,
    "start_time": "2022-06-01T19:06:36.196Z"
   },
   {
    "duration": 13,
    "start_time": "2022-06-01T19:06:36.225Z"
   },
   {
    "duration": 18,
    "start_time": "2022-06-01T19:06:36.239Z"
   },
   {
    "duration": 17,
    "start_time": "2022-06-01T19:06:36.259Z"
   },
   {
    "duration": 32,
    "start_time": "2022-06-01T19:06:36.278Z"
   },
   {
    "duration": 21,
    "start_time": "2022-06-01T19:06:36.312Z"
   },
   {
    "duration": 16,
    "start_time": "2022-06-01T19:06:36.334Z"
   },
   {
    "duration": 6522,
    "start_time": "2022-06-01T19:06:36.353Z"
   },
   {
    "duration": 4,
    "start_time": "2022-06-01T19:06:42.877Z"
   },
   {
    "duration": 9,
    "start_time": "2022-06-01T19:06:42.883Z"
   },
   {
    "duration": 11,
    "start_time": "2022-06-01T19:06:42.894Z"
   },
   {
    "duration": 13,
    "start_time": "2022-06-01T19:06:42.907Z"
   },
   {
    "duration": 3,
    "start_time": "2022-06-01T19:07:35.737Z"
   },
   {
    "duration": 45,
    "start_time": "2022-06-01T19:07:45.335Z"
   },
   {
    "duration": 34,
    "start_time": "2022-06-01T19:42:39.075Z"
   },
   {
    "duration": 5,
    "start_time": "2022-06-01T19:42:50.487Z"
   },
   {
    "duration": 5,
    "start_time": "2022-06-01T19:43:51.336Z"
   },
   {
    "duration": 6,
    "start_time": "2022-06-01T19:44:13.146Z"
   },
   {
    "duration": 7,
    "start_time": "2022-06-01T19:44:15.754Z"
   },
   {
    "duration": 3,
    "start_time": "2022-06-01T19:46:21.204Z"
   },
   {
    "duration": 8,
    "start_time": "2022-06-01T19:51:34.097Z"
   },
   {
    "duration": 6,
    "start_time": "2022-06-01T19:52:31.211Z"
   },
   {
    "duration": 4,
    "start_time": "2022-06-01T19:52:37.840Z"
   },
   {
    "duration": 8,
    "start_time": "2022-06-01T19:53:00.321Z"
   },
   {
    "duration": 120,
    "start_time": "2022-06-01T19:54:06.657Z"
   },
   {
    "duration": 12,
    "start_time": "2022-06-01T19:54:10.101Z"
   },
   {
    "duration": 6,
    "start_time": "2022-06-01T19:54:13.671Z"
   },
   {
    "duration": 3,
    "start_time": "2022-06-01T19:54:14.013Z"
   },
   {
    "duration": 4,
    "start_time": "2022-06-01T19:54:41.340Z"
   },
   {
    "duration": 32,
    "start_time": "2022-06-01T19:55:42.084Z"
   },
   {
    "duration": 1361,
    "start_time": "2022-06-02T14:22:24.492Z"
   },
   {
    "duration": 29,
    "start_time": "2022-06-02T14:22:25.855Z"
   },
   {
    "duration": 12,
    "start_time": "2022-06-02T14:22:25.885Z"
   },
   {
    "duration": 10,
    "start_time": "2022-06-02T14:22:25.899Z"
   },
   {
    "duration": 8,
    "start_time": "2022-06-02T14:22:25.911Z"
   },
   {
    "duration": 60,
    "start_time": "2022-06-02T14:22:25.921Z"
   },
   {
    "duration": 12,
    "start_time": "2022-06-02T14:22:25.983Z"
   },
   {
    "duration": 9,
    "start_time": "2022-06-02T14:22:25.997Z"
   },
   {
    "duration": 6463,
    "start_time": "2022-06-02T14:22:26.008Z"
   },
   {
    "duration": 9,
    "start_time": "2022-06-02T14:22:32.474Z"
   },
   {
    "duration": 22,
    "start_time": "2022-06-02T14:22:32.485Z"
   },
   {
    "duration": 13,
    "start_time": "2022-06-02T14:22:32.510Z"
   },
   {
    "duration": 12,
    "start_time": "2022-06-02T14:22:32.525Z"
   },
   {
    "duration": 15,
    "start_time": "2022-06-02T14:22:32.540Z"
   },
   {
    "duration": 41,
    "start_time": "2022-06-02T14:22:32.557Z"
   },
   {
    "duration": 90,
    "start_time": "2022-06-02T14:22:32.600Z"
   },
   {
    "duration": 9,
    "start_time": "2022-06-02T14:22:32.692Z"
   },
   {
    "duration": 9,
    "start_time": "2022-06-02T14:22:32.704Z"
   }
  ],
  "kernelspec": {
   "display_name": "Python 3 (ipykernel)",
   "language": "python",
   "name": "python3"
  },
  "language_info": {
   "codemirror_mode": {
    "name": "ipython",
    "version": 3
   },
   "file_extension": ".py",
   "mimetype": "text/x-python",
   "name": "python",
   "nbconvert_exporter": "python",
   "pygments_lexer": "ipython3",
   "version": "3.9.13"
  },
  "toc": {
   "base_numbering": 1,
   "nav_menu": {},
   "number_sections": true,
   "sideBar": true,
   "skip_h1_title": true,
   "title_cell": "Содержание",
   "title_sidebar": "Contents",
   "toc_cell": true,
   "toc_position": {},
   "toc_section_display": true,
   "toc_window_display": true
  }
 },
 "nbformat": 4,
 "nbformat_minor": 2
}
