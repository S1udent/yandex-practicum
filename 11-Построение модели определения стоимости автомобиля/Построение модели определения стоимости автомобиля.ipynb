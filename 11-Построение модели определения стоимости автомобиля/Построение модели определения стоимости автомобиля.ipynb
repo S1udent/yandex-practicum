{
 "cells": [
  {
   "cell_type": "markdown",
   "metadata": {
    "toc": true
   },
   "source": [
    "<h1>Содержание<span class=\"tocSkip\"></span></h1>\n",
    "<div class=\"toc\"><ul class=\"toc-item\"><li><span><a href=\"#Подготовка-данных\" data-toc-modified-id=\"Подготовка-данных-1\"><span class=\"toc-item-num\">1&nbsp;&nbsp;</span>Подготовка данных</a></span></li><li><span><a href=\"#Обучение-моделей\" data-toc-modified-id=\"Обучение-моделей-2\"><span class=\"toc-item-num\">2&nbsp;&nbsp;</span>Обучение моделей</a></span></li><li><span><a href=\"#Анализ-моделей\" data-toc-modified-id=\"Анализ-моделей-3\"><span class=\"toc-item-num\">3&nbsp;&nbsp;</span>Анализ моделей</a></span></li></ul></div>"
   ]
  },
  {
   "cell_type": "markdown",
   "metadata": {},
   "source": [
    "# Определение стоимости автомобилей"
   ]
  },
  {
   "cell_type": "markdown",
   "metadata": {},
   "source": [
    "Необходимо построить модель для определения стоимости автомобилей для сервис по продаже автомобилей с пробегом. В нём можно быстро узнать рыночную стоимость своего автомобиля. В вашем распоряжении исторические данные: технические характеристики, комплектации и цены автомобилей.\n",
    "\n",
    "Заказчику важны:\n",
    "\n",
    "- качество предсказания;\n",
    "- скорость предсказания;\n",
    "- время обучения."
   ]
  },
  {
   "cell_type": "markdown",
   "metadata": {},
   "source": [
    "## Подготовка данных"
   ]
  },
  {
   "cell_type": "code",
   "execution_count": 1,
   "metadata": {},
   "outputs": [],
   "source": [
    "import pandas as pd\n",
    "from sklearn.model_selection import train_test_split\n",
    "from catboost import CatBoostRegressor\n",
    "from catboost import cv, Pool\n",
    "from sklearn.metrics import mean_squared_error\n",
    "from lightgbm import LGBMRegressor\n",
    "from sklearn.preprocessing import StandardScaler,OrdinalEncoder, OneHotEncoder\n",
    "import numpy as np\n",
    "from sklearn.linear_model import LinearRegression\n",
    "from sklearn.tree import DecisionTreeRegressor\n",
    "from time import time\n",
    "from sklearn.model_selection import GridSearchCV\n",
    "from sklearn.linear_model import Ridge\n",
    "import warnings\n",
    "warnings.filterwarnings('ignore')"
   ]
  },
  {
   "cell_type": "code",
   "execution_count": 2,
   "metadata": {},
   "outputs": [],
   "source": [
    "data = pd.read_csv('/datasets/autos.csv')\n"
   ]
  },
  {
   "cell_type": "code",
   "execution_count": 3,
   "metadata": {
    "scrolled": false
   },
   "outputs": [
    {
     "name": "stdout",
     "output_type": "stream",
     "text": [
      "<class 'pandas.core.frame.DataFrame'>\n",
      "RangeIndex: 354369 entries, 0 to 354368\n",
      "Data columns (total 16 columns):\n",
      " #   Column             Non-Null Count   Dtype \n",
      "---  ------             --------------   ----- \n",
      " 0   DateCrawled        354369 non-null  object\n",
      " 1   Price              354369 non-null  int64 \n",
      " 2   VehicleType        316879 non-null  object\n",
      " 3   RegistrationYear   354369 non-null  int64 \n",
      " 4   Gearbox            334536 non-null  object\n",
      " 5   Power              354369 non-null  int64 \n",
      " 6   Model              334664 non-null  object\n",
      " 7   Kilometer          354369 non-null  int64 \n",
      " 8   RegistrationMonth  354369 non-null  int64 \n",
      " 9   FuelType           321474 non-null  object\n",
      " 10  Brand              354369 non-null  object\n",
      " 11  NotRepaired        283215 non-null  object\n",
      " 12  DateCreated        354369 non-null  object\n",
      " 13  NumberOfPictures   354369 non-null  int64 \n",
      " 14  PostalCode         354369 non-null  int64 \n",
      " 15  LastSeen           354369 non-null  object\n",
      "dtypes: int64(7), object(9)\n",
      "memory usage: 43.3+ MB\n"
     ]
    }
   ],
   "source": [
    "data.info()"
   ]
  },
  {
   "cell_type": "code",
   "execution_count": 4,
   "metadata": {
    "scrolled": true
   },
   "outputs": [
    {
     "data": {
      "text/html": [
       "<div>\n",
       "<style scoped>\n",
       "    .dataframe tbody tr th:only-of-type {\n",
       "        vertical-align: middle;\n",
       "    }\n",
       "\n",
       "    .dataframe tbody tr th {\n",
       "        vertical-align: top;\n",
       "    }\n",
       "\n",
       "    .dataframe thead th {\n",
       "        text-align: right;\n",
       "    }\n",
       "</style>\n",
       "<table border=\"1\" class=\"dataframe\">\n",
       "  <thead>\n",
       "    <tr style=\"text-align: right;\">\n",
       "      <th></th>\n",
       "      <th>Price</th>\n",
       "      <th>RegistrationYear</th>\n",
       "      <th>Power</th>\n",
       "      <th>Kilometer</th>\n",
       "      <th>RegistrationMonth</th>\n",
       "      <th>NumberOfPictures</th>\n",
       "      <th>PostalCode</th>\n",
       "    </tr>\n",
       "  </thead>\n",
       "  <tbody>\n",
       "    <tr>\n",
       "      <th>count</th>\n",
       "      <td>354369.000000</td>\n",
       "      <td>354369.000000</td>\n",
       "      <td>354369.000000</td>\n",
       "      <td>354369.000000</td>\n",
       "      <td>354369.000000</td>\n",
       "      <td>354369.0</td>\n",
       "      <td>354369.000000</td>\n",
       "    </tr>\n",
       "    <tr>\n",
       "      <th>mean</th>\n",
       "      <td>4416.656776</td>\n",
       "      <td>2004.234448</td>\n",
       "      <td>110.094337</td>\n",
       "      <td>128211.172535</td>\n",
       "      <td>5.714645</td>\n",
       "      <td>0.0</td>\n",
       "      <td>50508.689087</td>\n",
       "    </tr>\n",
       "    <tr>\n",
       "      <th>std</th>\n",
       "      <td>4514.158514</td>\n",
       "      <td>90.227958</td>\n",
       "      <td>189.850405</td>\n",
       "      <td>37905.341530</td>\n",
       "      <td>3.726421</td>\n",
       "      <td>0.0</td>\n",
       "      <td>25783.096248</td>\n",
       "    </tr>\n",
       "    <tr>\n",
       "      <th>min</th>\n",
       "      <td>0.000000</td>\n",
       "      <td>1000.000000</td>\n",
       "      <td>0.000000</td>\n",
       "      <td>5000.000000</td>\n",
       "      <td>0.000000</td>\n",
       "      <td>0.0</td>\n",
       "      <td>1067.000000</td>\n",
       "    </tr>\n",
       "    <tr>\n",
       "      <th>25%</th>\n",
       "      <td>1050.000000</td>\n",
       "      <td>1999.000000</td>\n",
       "      <td>69.000000</td>\n",
       "      <td>125000.000000</td>\n",
       "      <td>3.000000</td>\n",
       "      <td>0.0</td>\n",
       "      <td>30165.000000</td>\n",
       "    </tr>\n",
       "    <tr>\n",
       "      <th>50%</th>\n",
       "      <td>2700.000000</td>\n",
       "      <td>2003.000000</td>\n",
       "      <td>105.000000</td>\n",
       "      <td>150000.000000</td>\n",
       "      <td>6.000000</td>\n",
       "      <td>0.0</td>\n",
       "      <td>49413.000000</td>\n",
       "    </tr>\n",
       "    <tr>\n",
       "      <th>75%</th>\n",
       "      <td>6400.000000</td>\n",
       "      <td>2008.000000</td>\n",
       "      <td>143.000000</td>\n",
       "      <td>150000.000000</td>\n",
       "      <td>9.000000</td>\n",
       "      <td>0.0</td>\n",
       "      <td>71083.000000</td>\n",
       "    </tr>\n",
       "    <tr>\n",
       "      <th>max</th>\n",
       "      <td>20000.000000</td>\n",
       "      <td>9999.000000</td>\n",
       "      <td>20000.000000</td>\n",
       "      <td>150000.000000</td>\n",
       "      <td>12.000000</td>\n",
       "      <td>0.0</td>\n",
       "      <td>99998.000000</td>\n",
       "    </tr>\n",
       "  </tbody>\n",
       "</table>\n",
       "</div>"
      ],
      "text/plain": [
       "               Price  RegistrationYear          Power      Kilometer  \\\n",
       "count  354369.000000     354369.000000  354369.000000  354369.000000   \n",
       "mean     4416.656776       2004.234448     110.094337  128211.172535   \n",
       "std      4514.158514         90.227958     189.850405   37905.341530   \n",
       "min         0.000000       1000.000000       0.000000    5000.000000   \n",
       "25%      1050.000000       1999.000000      69.000000  125000.000000   \n",
       "50%      2700.000000       2003.000000     105.000000  150000.000000   \n",
       "75%      6400.000000       2008.000000     143.000000  150000.000000   \n",
       "max     20000.000000       9999.000000   20000.000000  150000.000000   \n",
       "\n",
       "       RegistrationMonth  NumberOfPictures     PostalCode  \n",
       "count      354369.000000          354369.0  354369.000000  \n",
       "mean            5.714645               0.0   50508.689087  \n",
       "std             3.726421               0.0   25783.096248  \n",
       "min             0.000000               0.0    1067.000000  \n",
       "25%             3.000000               0.0   30165.000000  \n",
       "50%             6.000000               0.0   49413.000000  \n",
       "75%             9.000000               0.0   71083.000000  \n",
       "max            12.000000               0.0   99998.000000  "
      ]
     },
     "execution_count": 4,
     "metadata": {},
     "output_type": "execute_result"
    }
   ],
   "source": [
    "data.describe()"
   ]
  },
  {
   "cell_type": "code",
   "execution_count": 5,
   "metadata": {
    "scrolled": true
   },
   "outputs": [
    {
     "data": {
      "text/plain": [
       "DateCrawled              0\n",
       "Price                    0\n",
       "VehicleType          37490\n",
       "RegistrationYear         0\n",
       "Gearbox              19833\n",
       "Power                    0\n",
       "Model                19705\n",
       "Kilometer                0\n",
       "RegistrationMonth        0\n",
       "FuelType             32895\n",
       "Brand                    0\n",
       "NotRepaired          71154\n",
       "DateCreated              0\n",
       "NumberOfPictures         0\n",
       "PostalCode               0\n",
       "LastSeen                 0\n",
       "dtype: int64"
      ]
     },
     "execution_count": 5,
     "metadata": {},
     "output_type": "execute_result"
    }
   ],
   "source": [
    "data.isna().sum()"
   ]
  },
  {
   "cell_type": "markdown",
   "metadata": {},
   "source": [
    "В сете присутствует очень много пропусков, дубликаты и ненормальные значения.\n",
    "Средняя цена авто: 4416\n",
    "Средняя мощность: 110\n",
    "Средний пробег: 128211\n",
    "Минимальные и максимальные знчения ненормальны."
   ]
  },
  {
   "cell_type": "code",
   "execution_count": 6,
   "metadata": {},
   "outputs": [],
   "source": [
    "# Удалим столбцы, не влияющие на стоимость авто (по личным ощущениям)\n",
    "data = data.drop(['DateCrawled', 'DateCreated', 'NumberOfPictures', 'PostalCode', 'LastSeen'], axis=1)"
   ]
  },
  {
   "cell_type": "code",
   "execution_count": 7,
   "metadata": {},
   "outputs": [
    {
     "data": {
      "text/plain": [
       "(354369, 11)"
      ]
     },
     "execution_count": 7,
     "metadata": {},
     "output_type": "execute_result"
    }
   ],
   "source": [
    "data.shape"
   ]
  },
  {
   "cell_type": "code",
   "execution_count": 8,
   "metadata": {
    "scrolled": true
   },
   "outputs": [
    {
     "data": {
      "text/plain": [
       "27543"
      ]
     },
     "execution_count": 8,
     "metadata": {},
     "output_type": "execute_result"
    }
   ],
   "source": [
    "data.duplicated().sum()"
   ]
  },
  {
   "cell_type": "code",
   "execution_count": 9,
   "metadata": {},
   "outputs": [],
   "source": [
    "#Удалим дубликаты\n",
    "data.drop_duplicates(inplace=True)"
   ]
  },
  {
   "cell_type": "code",
   "execution_count": 10,
   "metadata": {},
   "outputs": [
    {
     "data": {
      "text/plain": [
       "(326826, 11)"
      ]
     },
     "execution_count": 10,
     "metadata": {},
     "output_type": "execute_result"
    }
   ],
   "source": [
    "data.shape"
   ]
  },
  {
   "cell_type": "code",
   "execution_count": 11,
   "metadata": {},
   "outputs": [
    {
     "data": {
      "text/html": [
       "<div>\n",
       "<style scoped>\n",
       "    .dataframe tbody tr th:only-of-type {\n",
       "        vertical-align: middle;\n",
       "    }\n",
       "\n",
       "    .dataframe tbody tr th {\n",
       "        vertical-align: top;\n",
       "    }\n",
       "\n",
       "    .dataframe thead th {\n",
       "        text-align: right;\n",
       "    }\n",
       "</style>\n",
       "<table border=\"1\" class=\"dataframe\">\n",
       "  <thead>\n",
       "    <tr style=\"text-align: right;\">\n",
       "      <th></th>\n",
       "      <th>Price</th>\n",
       "      <th>VehicleType</th>\n",
       "      <th>RegistrationYear</th>\n",
       "      <th>Gearbox</th>\n",
       "      <th>Power</th>\n",
       "      <th>Model</th>\n",
       "      <th>Kilometer</th>\n",
       "      <th>RegistrationMonth</th>\n",
       "      <th>FuelType</th>\n",
       "      <th>Brand</th>\n",
       "      <th>NotRepaired</th>\n",
       "    </tr>\n",
       "  </thead>\n",
       "  <tbody>\n",
       "    <tr>\n",
       "      <th>0</th>\n",
       "      <td>480</td>\n",
       "      <td>NaN</td>\n",
       "      <td>1993</td>\n",
       "      <td>manual</td>\n",
       "      <td>0</td>\n",
       "      <td>golf</td>\n",
       "      <td>150000</td>\n",
       "      <td>0</td>\n",
       "      <td>petrol</td>\n",
       "      <td>volkswagen</td>\n",
       "      <td>NaN</td>\n",
       "    </tr>\n",
       "    <tr>\n",
       "      <th>1</th>\n",
       "      <td>18300</td>\n",
       "      <td>coupe</td>\n",
       "      <td>2011</td>\n",
       "      <td>manual</td>\n",
       "      <td>190</td>\n",
       "      <td>NaN</td>\n",
       "      <td>125000</td>\n",
       "      <td>5</td>\n",
       "      <td>gasoline</td>\n",
       "      <td>audi</td>\n",
       "      <td>yes</td>\n",
       "    </tr>\n",
       "    <tr>\n",
       "      <th>2</th>\n",
       "      <td>9800</td>\n",
       "      <td>suv</td>\n",
       "      <td>2004</td>\n",
       "      <td>auto</td>\n",
       "      <td>163</td>\n",
       "      <td>grand</td>\n",
       "      <td>125000</td>\n",
       "      <td>8</td>\n",
       "      <td>gasoline</td>\n",
       "      <td>jeep</td>\n",
       "      <td>NaN</td>\n",
       "    </tr>\n",
       "    <tr>\n",
       "      <th>3</th>\n",
       "      <td>1500</td>\n",
       "      <td>small</td>\n",
       "      <td>2001</td>\n",
       "      <td>manual</td>\n",
       "      <td>75</td>\n",
       "      <td>golf</td>\n",
       "      <td>150000</td>\n",
       "      <td>6</td>\n",
       "      <td>petrol</td>\n",
       "      <td>volkswagen</td>\n",
       "      <td>no</td>\n",
       "    </tr>\n",
       "    <tr>\n",
       "      <th>4</th>\n",
       "      <td>3600</td>\n",
       "      <td>small</td>\n",
       "      <td>2008</td>\n",
       "      <td>manual</td>\n",
       "      <td>69</td>\n",
       "      <td>fabia</td>\n",
       "      <td>90000</td>\n",
       "      <td>7</td>\n",
       "      <td>gasoline</td>\n",
       "      <td>skoda</td>\n",
       "      <td>no</td>\n",
       "    </tr>\n",
       "  </tbody>\n",
       "</table>\n",
       "</div>"
      ],
      "text/plain": [
       "   Price VehicleType  RegistrationYear Gearbox  Power  Model  Kilometer  \\\n",
       "0    480         NaN              1993  manual      0   golf     150000   \n",
       "1  18300       coupe              2011  manual    190    NaN     125000   \n",
       "2   9800         suv              2004    auto    163  grand     125000   \n",
       "3   1500       small              2001  manual     75   golf     150000   \n",
       "4   3600       small              2008  manual     69  fabia      90000   \n",
       "\n",
       "   RegistrationMonth  FuelType       Brand NotRepaired  \n",
       "0                  0    petrol  volkswagen         NaN  \n",
       "1                  5  gasoline        audi         yes  \n",
       "2                  8  gasoline        jeep         NaN  \n",
       "3                  6    petrol  volkswagen          no  \n",
       "4                  7  gasoline       skoda          no  "
      ]
     },
     "execution_count": 11,
     "metadata": {},
     "output_type": "execute_result"
    }
   ],
   "source": [
    "data.head()"
   ]
  },
  {
   "cell_type": "code",
   "execution_count": 12,
   "metadata": {},
   "outputs": [],
   "source": [
    "data[['Price', 'RegistrationYear', 'Power', 'Kilometer', 'RegistrationMonth']] = data[['Price', 'RegistrationYear', 'Power', 'Kilometer', 'RegistrationMonth']].astype('int32')"
   ]
  },
  {
   "cell_type": "code",
   "execution_count": 13,
   "metadata": {},
   "outputs": [],
   "source": [
    "#Создадим список категориальных признаков\n",
    "cat_features = ['VehicleType', 'Gearbox', 'Model', 'FuelType', 'Brand', 'NotRepaired']"
   ]
  },
  {
   "cell_type": "code",
   "execution_count": 14,
   "metadata": {},
   "outputs": [
    {
     "data": {
      "text/plain": [
       "VehicleType    35249\n",
       "Gearbox        17578\n",
       "Model          18532\n",
       "FuelType       31122\n",
       "Brand              0\n",
       "NotRepaired    66427\n",
       "dtype: int64"
      ]
     },
     "execution_count": 14,
     "metadata": {},
     "output_type": "execute_result"
    }
   ],
   "source": [
    "data[cat_features].isna().sum()"
   ]
  },
  {
   "cell_type": "code",
   "execution_count": 15,
   "metadata": {},
   "outputs": [],
   "source": [
    "#Пропуски в категориальных признаках заполним 'no_info'\n",
    "data[cat_features] = data[cat_features].fillna('no_info')"
   ]
  },
  {
   "cell_type": "code",
   "execution_count": 16,
   "metadata": {},
   "outputs": [],
   "source": [
    "data = data[data['Price']>100]"
   ]
  },
  {
   "cell_type": "code",
   "execution_count": 17,
   "metadata": {},
   "outputs": [
    {
     "name": "stdout",
     "output_type": "stream",
     "text": [
      "<class 'pandas.core.frame.DataFrame'>\n",
      "Int64Index: 314059 entries, 0 to 354368\n",
      "Data columns (total 11 columns):\n",
      " #   Column             Non-Null Count   Dtype \n",
      "---  ------             --------------   ----- \n",
      " 0   Price              314059 non-null  int32 \n",
      " 1   VehicleType        314059 non-null  object\n",
      " 2   RegistrationYear   314059 non-null  int32 \n",
      " 3   Gearbox            314059 non-null  object\n",
      " 4   Power              314059 non-null  int32 \n",
      " 5   Model              314059 non-null  object\n",
      " 6   Kilometer          314059 non-null  int32 \n",
      " 7   RegistrationMonth  314059 non-null  int32 \n",
      " 8   FuelType           314059 non-null  object\n",
      " 9   Brand              314059 non-null  object\n",
      " 10  NotRepaired        314059 non-null  object\n",
      "dtypes: int32(5), object(6)\n",
      "memory usage: 22.8+ MB\n"
     ]
    }
   ],
   "source": [
    "data.info()"
   ]
  },
  {
   "cell_type": "code",
   "execution_count": 18,
   "metadata": {},
   "outputs": [
    {
     "data": {
      "text/html": [
       "<div>\n",
       "<style scoped>\n",
       "    .dataframe tbody tr th:only-of-type {\n",
       "        vertical-align: middle;\n",
       "    }\n",
       "\n",
       "    .dataframe tbody tr th {\n",
       "        vertical-align: top;\n",
       "    }\n",
       "\n",
       "    .dataframe thead th {\n",
       "        text-align: right;\n",
       "    }\n",
       "</style>\n",
       "<table border=\"1\" class=\"dataframe\">\n",
       "  <thead>\n",
       "    <tr style=\"text-align: right;\">\n",
       "      <th></th>\n",
       "      <th>Price</th>\n",
       "      <th>VehicleType</th>\n",
       "      <th>RegistrationYear</th>\n",
       "      <th>Gearbox</th>\n",
       "      <th>Power</th>\n",
       "      <th>Model</th>\n",
       "      <th>Kilometer</th>\n",
       "      <th>RegistrationMonth</th>\n",
       "      <th>FuelType</th>\n",
       "      <th>Brand</th>\n",
       "      <th>NotRepaired</th>\n",
       "    </tr>\n",
       "  </thead>\n",
       "  <tbody>\n",
       "    <tr>\n",
       "      <th>0</th>\n",
       "      <td>480</td>\n",
       "      <td>no_info</td>\n",
       "      <td>1993</td>\n",
       "      <td>manual</td>\n",
       "      <td>0</td>\n",
       "      <td>golf</td>\n",
       "      <td>150000</td>\n",
       "      <td>0</td>\n",
       "      <td>petrol</td>\n",
       "      <td>volkswagen</td>\n",
       "      <td>no_info</td>\n",
       "    </tr>\n",
       "    <tr>\n",
       "      <th>1</th>\n",
       "      <td>18300</td>\n",
       "      <td>coupe</td>\n",
       "      <td>2011</td>\n",
       "      <td>manual</td>\n",
       "      <td>190</td>\n",
       "      <td>no_info</td>\n",
       "      <td>125000</td>\n",
       "      <td>5</td>\n",
       "      <td>gasoline</td>\n",
       "      <td>audi</td>\n",
       "      <td>yes</td>\n",
       "    </tr>\n",
       "    <tr>\n",
       "      <th>2</th>\n",
       "      <td>9800</td>\n",
       "      <td>suv</td>\n",
       "      <td>2004</td>\n",
       "      <td>auto</td>\n",
       "      <td>163</td>\n",
       "      <td>grand</td>\n",
       "      <td>125000</td>\n",
       "      <td>8</td>\n",
       "      <td>gasoline</td>\n",
       "      <td>jeep</td>\n",
       "      <td>no_info</td>\n",
       "    </tr>\n",
       "    <tr>\n",
       "      <th>3</th>\n",
       "      <td>1500</td>\n",
       "      <td>small</td>\n",
       "      <td>2001</td>\n",
       "      <td>manual</td>\n",
       "      <td>75</td>\n",
       "      <td>golf</td>\n",
       "      <td>150000</td>\n",
       "      <td>6</td>\n",
       "      <td>petrol</td>\n",
       "      <td>volkswagen</td>\n",
       "      <td>no</td>\n",
       "    </tr>\n",
       "    <tr>\n",
       "      <th>4</th>\n",
       "      <td>3600</td>\n",
       "      <td>small</td>\n",
       "      <td>2008</td>\n",
       "      <td>manual</td>\n",
       "      <td>69</td>\n",
       "      <td>fabia</td>\n",
       "      <td>90000</td>\n",
       "      <td>7</td>\n",
       "      <td>gasoline</td>\n",
       "      <td>skoda</td>\n",
       "      <td>no</td>\n",
       "    </tr>\n",
       "  </tbody>\n",
       "</table>\n",
       "</div>"
      ],
      "text/plain": [
       "   Price VehicleType  RegistrationYear Gearbox  Power    Model  Kilometer  \\\n",
       "0    480     no_info              1993  manual      0     golf     150000   \n",
       "1  18300       coupe              2011  manual    190  no_info     125000   \n",
       "2   9800         suv              2004    auto    163    grand     125000   \n",
       "3   1500       small              2001  manual     75     golf     150000   \n",
       "4   3600       small              2008  manual     69    fabia      90000   \n",
       "\n",
       "   RegistrationMonth  FuelType       Brand NotRepaired  \n",
       "0                  0    petrol  volkswagen     no_info  \n",
       "1                  5  gasoline        audi         yes  \n",
       "2                  8  gasoline        jeep     no_info  \n",
       "3                  6    petrol  volkswagen          no  \n",
       "4                  7  gasoline       skoda          no  "
      ]
     },
     "execution_count": 18,
     "metadata": {},
     "output_type": "execute_result"
    }
   ],
   "source": [
    "data.head()"
   ]
  },
  {
   "cell_type": "markdown",
   "metadata": {},
   "source": [
    "**Разобьем датасет на трейн и тест**"
   ]
  },
  {
   "cell_type": "code",
   "execution_count": 19,
   "metadata": {},
   "outputs": [],
   "source": [
    "train, test = train_test_split(data, train_size=0.75,random_state=2007)\n",
    "features = data.drop(['Price'],axis=1) \n",
    "target = data['Price']\n",
    "\n",
    "X_train, X_test, y_train, y_test= train_test_split(features, target, train_size=0.6,random_state=2007)\n",
    "X_valid, X_test, y_valid, y_test= train_test_split(X_test, y_test, train_size=0.5,random_state=2007)"
   ]
  },
  {
   "cell_type": "code",
   "execution_count": 20,
   "metadata": {},
   "outputs": [
    {
     "name": "stdout",
     "output_type": "stream",
     "text": [
      "(188435, 10) (188435,)\n",
      "(62812, 10) (62812,)\n",
      "(62812, 10) (62812,)\n"
     ]
    }
   ],
   "source": [
    "print(X_train.shape, y_train.shape)\n",
    "print(X_valid.shape, y_valid.shape)\n",
    "print(X_test.shape, y_test.shape)"
   ]
  },
  {
   "cell_type": "code",
   "execution_count": 21,
   "metadata": {},
   "outputs": [
    {
     "name": "stdout",
     "output_type": "stream",
     "text": [
      "['VehicleType', 'Gearbox', 'Model', 'FuelType', 'Brand', 'NotRepaired'] Index(['RegistrationYear', 'Power', 'Kilometer', 'RegistrationMonth'], dtype='object')\n"
     ]
    }
   ],
   "source": [
    "# Для кэтбуста, енкодера, выберем столбцы с типом 'object'\n",
    "column_category = X_train.select_dtypes(include='object').columns.to_list()\n",
    "column_numeric  = X_train.select_dtypes(exclude='object').columns\n",
    "print(column_category, column_numeric)"
   ]
  },
  {
   "cell_type": "code",
   "execution_count": 22,
   "metadata": {
    "scrolled": true
   },
   "outputs": [
    {
     "data": {
      "text/html": [
       "<div>\n",
       "<style scoped>\n",
       "    .dataframe tbody tr th:only-of-type {\n",
       "        vertical-align: middle;\n",
       "    }\n",
       "\n",
       "    .dataframe tbody tr th {\n",
       "        vertical-align: top;\n",
       "    }\n",
       "\n",
       "    .dataframe thead th {\n",
       "        text-align: right;\n",
       "    }\n",
       "</style>\n",
       "<table border=\"1\" class=\"dataframe\">\n",
       "  <thead>\n",
       "    <tr style=\"text-align: right;\">\n",
       "      <th></th>\n",
       "      <th>VehicleType</th>\n",
       "      <th>RegistrationYear</th>\n",
       "      <th>Gearbox</th>\n",
       "      <th>Power</th>\n",
       "      <th>Model</th>\n",
       "      <th>Kilometer</th>\n",
       "      <th>RegistrationMonth</th>\n",
       "      <th>FuelType</th>\n",
       "      <th>Brand</th>\n",
       "      <th>NotRepaired</th>\n",
       "    </tr>\n",
       "  </thead>\n",
       "  <tbody>\n",
       "    <tr>\n",
       "      <th>124422</th>\n",
       "      <td>5.0</td>\n",
       "      <td>2008</td>\n",
       "      <td>1.0</td>\n",
       "      <td>80</td>\n",
       "      <td>116.0</td>\n",
       "      <td>90000</td>\n",
       "      <td>5</td>\n",
       "      <td>7.0</td>\n",
       "      <td>38.0</td>\n",
       "      <td>0.0</td>\n",
       "    </tr>\n",
       "    <tr>\n",
       "      <th>253446</th>\n",
       "      <td>5.0</td>\n",
       "      <td>1998</td>\n",
       "      <td>0.0</td>\n",
       "      <td>136</td>\n",
       "      <td>95.0</td>\n",
       "      <td>125000</td>\n",
       "      <td>10</td>\n",
       "      <td>7.0</td>\n",
       "      <td>20.0</td>\n",
       "      <td>1.0</td>\n",
       "    </tr>\n",
       "    <tr>\n",
       "      <th>281813</th>\n",
       "      <td>5.0</td>\n",
       "      <td>1997</td>\n",
       "      <td>1.0</td>\n",
       "      <td>0</td>\n",
       "      <td>116.0</td>\n",
       "      <td>70000</td>\n",
       "      <td>8</td>\n",
       "      <td>7.0</td>\n",
       "      <td>38.0</td>\n",
       "      <td>0.0</td>\n",
       "    </tr>\n",
       "    <tr>\n",
       "      <th>278672</th>\n",
       "      <td>0.0</td>\n",
       "      <td>1998</td>\n",
       "      <td>1.0</td>\n",
       "      <td>0</td>\n",
       "      <td>161.0</td>\n",
       "      <td>150000</td>\n",
       "      <td>4</td>\n",
       "      <td>2.0</td>\n",
       "      <td>33.0</td>\n",
       "      <td>0.0</td>\n",
       "    </tr>\n",
       "    <tr>\n",
       "      <th>295318</th>\n",
       "      <td>6.0</td>\n",
       "      <td>2013</td>\n",
       "      <td>1.0</td>\n",
       "      <td>75</td>\n",
       "      <td>152.0</td>\n",
       "      <td>20000</td>\n",
       "      <td>5</td>\n",
       "      <td>7.0</td>\n",
       "      <td>30.0</td>\n",
       "      <td>1.0</td>\n",
       "    </tr>\n",
       "  </tbody>\n",
       "</table>\n",
       "</div>"
      ],
      "text/plain": [
       "        VehicleType  RegistrationYear  Gearbox  Power  Model  Kilometer  \\\n",
       "124422          5.0              2008      1.0     80  116.0      90000   \n",
       "253446          5.0              1998      0.0    136   95.0     125000   \n",
       "281813          5.0              1997      1.0      0  116.0      70000   \n",
       "278672          0.0              1998      1.0      0  161.0     150000   \n",
       "295318          6.0              2013      1.0     75  152.0      20000   \n",
       "\n",
       "        RegistrationMonth  FuelType  Brand  NotRepaired  \n",
       "124422                  5       7.0   38.0          0.0  \n",
       "253446                 10       7.0   20.0          1.0  \n",
       "281813                  8       7.0   38.0          0.0  \n",
       "278672                  4       2.0   33.0          0.0  \n",
       "295318                  5       7.0   30.0          1.0  "
      ]
     },
     "execution_count": 22,
     "metadata": {},
     "output_type": "execute_result"
    }
   ],
   "source": [
    "encoder_OE_train = OrdinalEncoder()\n",
    "X_train_OE = X_train.copy()\n",
    "X_test_OE = X_test.copy()\n",
    "X_train_OE.loc[:,column_category] = pd.DataFrame(encoder_OE_train.fit_transform(X_train.loc[:,column_category]),columns=column_category,index=X_train.index)\n",
    "X_test_OE.loc[:,column_category] = pd.DataFrame(encoder_OE_train.transform(X_test.loc[:,column_category]),columns=column_category,index=X_test.index)\n",
    "X_test_OE.head()"
   ]
  },
  {
   "cell_type": "code",
   "execution_count": 23,
   "metadata": {},
   "outputs": [],
   "source": [
    "# Стандартизируем данные\n",
    "scaler = StandardScaler()\n",
    "X_train_OE =  pd.DataFrame(scaler.fit_transform(X_train_OE),columns=X_train_OE.columns,index=X_train_OE.index)\n",
    "X_test_OE =  pd.DataFrame(scaler.transform(X_test_OE),columns=X_train_OE.columns,index=X_test_OE.index)"
   ]
  },
  {
   "cell_type": "code",
   "execution_count": 24,
   "metadata": {},
   "outputs": [],
   "source": [
    "# X,y для пула\n",
    "X = ['RegistrationYear', 'Power', 'Kilometer', 'RegistrationMonth', 'VehicleType', 'Gearbox', 'Model', 'FuelType', 'Brand', 'NotRepaired']\n",
    "y = ['Price']"
   ]
  },
  {
   "cell_type": "code",
   "execution_count": 25,
   "metadata": {},
   "outputs": [],
   "source": [
    "#Создадим пул для трейна\n",
    "train_data = Pool(data=train[X],\n",
    "                  label=train[y],\n",
    "                  cat_features=cat_features\n",
    "                 )"
   ]
  },
  {
   "cell_type": "code",
   "execution_count": 26,
   "metadata": {},
   "outputs": [],
   "source": [
    "#Создадим пул для теста\n",
    "test_data = Pool(data=test[X],\n",
    "                  label=test[y],\n",
    "                  cat_features=cat_features\n",
    "                 )"
   ]
  },
  {
   "cell_type": "markdown",
   "metadata": {},
   "source": [
    "**Запуск кросс-валидации для CatBoost**"
   ]
  },
  {
   "cell_type": "code",
   "execution_count": 27,
   "metadata": {},
   "outputs": [],
   "source": [
    "params = {'cat_features': cat_features,\n",
    "              'eval_metric': 'RMSE',\n",
    "              'loss_function': 'RMSE',\n",
    "              'learning_rate': 0.15,\n",
    "              'random_seed': 2007,\n",
    "              'verbose':100}"
   ]
  },
  {
   "cell_type": "code",
   "execution_count": 28,
   "metadata": {},
   "outputs": [
    {
     "name": "stdout",
     "output_type": "stream",
     "text": [
      "Training on fold [0/3]\n",
      "0:\tlearn: 5656.1736382\ttest: 5643.4170966\tbest: 5643.4170966 (0)\ttotal: 517ms\tremaining: 8m 36s\n",
      "100:\tlearn: 1750.3051576\ttest: 1771.1882684\tbest: 1771.1882684 (100)\ttotal: 25.7s\tremaining: 3m 49s\n",
      "200:\tlearn: 1677.1100600\ttest: 1711.5435037\tbest: 1711.5435037 (200)\ttotal: 52.5s\tremaining: 3m 28s\n",
      "300:\tlearn: 1640.1532082\ttest: 1688.1374474\tbest: 1688.1374474 (300)\ttotal: 1m 16s\tremaining: 2m 57s\n",
      "400:\tlearn: 1614.4286910\ttest: 1674.1455551\tbest: 1674.1455551 (400)\ttotal: 1m 44s\tremaining: 2m 35s\n",
      "500:\tlearn: 1593.7746672\ttest: 1664.4624934\tbest: 1664.4624934 (500)\ttotal: 2m 10s\tremaining: 2m 9s\n",
      "600:\tlearn: 1573.8693192\ttest: 1655.9376321\tbest: 1655.9376321 (600)\ttotal: 2m 36s\tremaining: 1m 43s\n",
      "700:\tlearn: 1560.1693292\ttest: 1652.1043977\tbest: 1652.0261477 (699)\ttotal: 3m 3s\tremaining: 1m 18s\n",
      "800:\tlearn: 1546.8885089\ttest: 1648.1401054\tbest: 1648.1401054 (800)\ttotal: 3m 30s\tremaining: 52.4s\n",
      "900:\tlearn: 1534.8343954\ttest: 1644.6906965\tbest: 1644.6798166 (899)\ttotal: 3m 57s\tremaining: 26.1s\n",
      "999:\tlearn: 1524.0246495\ttest: 1642.0583086\tbest: 1642.0583086 (999)\ttotal: 4m 23s\tremaining: 0us\n",
      "\n",
      "bestTest = 1642.058309\n",
      "bestIteration = 999\n",
      "\n",
      "Training on fold [1/3]\n",
      "0:\tlearn: 5654.2137145\ttest: 5656.4112721\tbest: 5656.4112721 (0)\ttotal: 354ms\tremaining: 5m 53s\n",
      "100:\tlearn: 1752.8954343\ttest: 1758.7737179\tbest: 1758.7737179 (100)\ttotal: 28.5s\tremaining: 4m 13s\n",
      "200:\tlearn: 1676.5899745\ttest: 1703.2185075\tbest: 1703.2185075 (200)\ttotal: 56s\tremaining: 3m 42s\n",
      "300:\tlearn: 1639.6360288\ttest: 1682.3944096\tbest: 1682.3944096 (300)\ttotal: 1m 23s\tremaining: 3m 13s\n",
      "400:\tlearn: 1611.5147891\ttest: 1667.6274632\tbest: 1667.6274632 (400)\ttotal: 1m 49s\tremaining: 2m 43s\n",
      "500:\tlearn: 1591.8262181\ttest: 1658.7957342\tbest: 1658.7789761 (499)\ttotal: 2m 17s\tremaining: 2m 16s\n",
      "600:\tlearn: 1575.4662407\ttest: 1653.0599572\tbest: 1653.0599572 (600)\ttotal: 2m 41s\tremaining: 1m 47s\n",
      "700:\tlearn: 1561.0433667\ttest: 1647.9861597\tbest: 1647.9861597 (700)\ttotal: 3m 8s\tremaining: 1m 20s\n",
      "800:\tlearn: 1548.5590404\ttest: 1644.4032438\tbest: 1644.3468673 (798)\ttotal: 3m 37s\tremaining: 54.1s\n",
      "900:\tlearn: 1538.1195029\ttest: 1640.7337328\tbest: 1640.6901900 (895)\ttotal: 4m 5s\tremaining: 27s\n",
      "999:\tlearn: 1526.7075638\ttest: 1637.6801592\tbest: 1637.6010854 (996)\ttotal: 4m 32s\tremaining: 0us\n",
      "\n",
      "bestTest = 1637.601085\n",
      "bestIteration = 996\n",
      "\n",
      "Training on fold [2/3]\n",
      "0:\tlearn: 5651.9303486\ttest: 5663.8093606\tbest: 5663.8093606 (0)\ttotal: 418ms\tremaining: 6m 57s\n",
      "100:\tlearn: 1749.2263817\ttest: 1774.0071792\tbest: 1774.0071792 (100)\ttotal: 27.4s\tremaining: 4m 4s\n",
      "200:\tlearn: 1673.8932700\ttest: 1715.7771777\tbest: 1715.7771777 (200)\ttotal: 51.5s\tremaining: 3m 24s\n",
      "300:\tlearn: 1636.7813377\ttest: 1696.0803913\tbest: 1696.0803913 (300)\ttotal: 1m 15s\tremaining: 2m 54s\n",
      "400:\tlearn: 1607.8478085\ttest: 1681.7508316\tbest: 1681.7508316 (400)\ttotal: 1m 39s\tremaining: 2m 28s\n",
      "500:\tlearn: 1588.9880778\ttest: 1674.9403953\tbest: 1674.9403953 (500)\ttotal: 2m 4s\tremaining: 2m 3s\n",
      "600:\tlearn: 1572.4681961\ttest: 1668.0993769\tbest: 1668.0952021 (597)\ttotal: 2m 26s\tremaining: 1m 37s\n",
      "700:\tlearn: 1558.1099771\ttest: 1662.7705003\tbest: 1662.7705003 (700)\ttotal: 2m 50s\tremaining: 1m 12s\n",
      "800:\tlearn: 1544.4805829\ttest: 1658.1404053\tbest: 1658.1404053 (800)\ttotal: 3m 14s\tremaining: 48.2s\n",
      "900:\tlearn: 1532.5937576\ttest: 1653.7748328\tbest: 1653.7722068 (897)\ttotal: 3m 38s\tremaining: 24.1s\n",
      "999:\tlearn: 1520.8355839\ttest: 1650.8291511\tbest: 1650.7766676 (997)\ttotal: 4m 3s\tremaining: 0us\n",
      "\n",
      "bestTest = 1650.776668\n",
      "bestIteration = 997\n",
      "\n"
     ]
    }
   ],
   "source": [
    "cv_data = cv(\n",
    "    params = params,\n",
    "    pool = train_data,\n",
    "    fold_count=3,\n",
    "    shuffle=True,\n",
    "    partition_random_seed=0,\n",
    "    stratified=False,\n",
    "    verbose=100,\n",
    "    early_stopping_rounds=200\n",
    ")"
   ]
  },
  {
   "cell_type": "code",
   "execution_count": 29,
   "metadata": {},
   "outputs": [
    {
     "data": {
      "text/html": [
       "<div>\n",
       "<style scoped>\n",
       "    .dataframe tbody tr th:only-of-type {\n",
       "        vertical-align: middle;\n",
       "    }\n",
       "\n",
       "    .dataframe tbody tr th {\n",
       "        vertical-align: top;\n",
       "    }\n",
       "\n",
       "    .dataframe thead th {\n",
       "        text-align: right;\n",
       "    }\n",
       "</style>\n",
       "<table border=\"1\" class=\"dataframe\">\n",
       "  <thead>\n",
       "    <tr style=\"text-align: right;\">\n",
       "      <th></th>\n",
       "      <th>iterations</th>\n",
       "      <th>test-RMSE-mean</th>\n",
       "      <th>test-RMSE-std</th>\n",
       "      <th>train-RMSE-mean</th>\n",
       "      <th>train-RMSE-std</th>\n",
       "    </tr>\n",
       "  </thead>\n",
       "  <tbody>\n",
       "    <tr>\n",
       "      <th>997</th>\n",
       "      <td>997</td>\n",
       "      <td>1643.519208</td>\n",
       "      <td>6.660425</td>\n",
       "      <td>1523.978316</td>\n",
       "      <td>2.870819</td>\n",
       "    </tr>\n",
       "  </tbody>\n",
       "</table>\n",
       "</div>"
      ],
      "text/plain": [
       "     iterations  test-RMSE-mean  test-RMSE-std  train-RMSE-mean  \\\n",
       "997         997     1643.519208       6.660425      1523.978316   \n",
       "\n",
       "     train-RMSE-std  \n",
       "997        2.870819  "
      ]
     },
     "execution_count": 29,
     "metadata": {},
     "output_type": "execute_result"
    }
   ],
   "source": [
    "cv_data[cv_data['test-RMSE-mean'] == cv_data['test-RMSE-mean'].min()]"
   ]
  },
  {
   "cell_type": "code",
   "execution_count": 30,
   "metadata": {},
   "outputs": [
    {
     "data": {
      "text/plain": [
       "997"
      ]
     },
     "execution_count": 30,
     "metadata": {},
     "output_type": "execute_result"
    }
   ],
   "source": [
    "n_iters = cv_data[cv_data['test-RMSE-mean'] == cv_data['test-RMSE-mean'].min()]['iterations'].values[0]\n",
    "n_iters"
   ]
  },
  {
   "cell_type": "markdown",
   "metadata": {},
   "source": [
    "## Обучение моделей"
   ]
  },
  {
   "cell_type": "markdown",
   "metadata": {},
   "source": [
    "**LightGBM**"
   ]
  },
  {
   "cell_type": "code",
   "execution_count": 31,
   "metadata": {},
   "outputs": [
    {
     "name": "stdout",
     "output_type": "stream",
     "text": [
      "RMSE: 1696.6803901305632\n",
      "CPU times: user 6min 12s, sys: 3.3 s, total: 6min 15s\n",
      "Wall time: 6min 20s\n"
     ]
    }
   ],
   "source": [
    "%%time\n",
    "LGBM_t0 = time()\n",
    "LGBM = LGBMRegressor(metric='rmse', max_depth = 10, n_estimators = 100, random_state = 2007, n_jobs = -1,learning_rate = 0.22)\n",
    "LGBM.fit(X_train_OE,y_train)\n",
    "LGBM_t1 = time()\n",
    "predict_LGBM = LGBM.predict(X_test_OE)\n",
    "RMSE_LGBM = mean_squared_error(predict_LGBM, y_test)**0.5\n",
    "LGBM_t2 = time()\n",
    "print('RMSE:', RMSE_LGBM)\n",
    "LGBM_time_fit = LGBM_t1 - LGBM_t0\n",
    "LGBM_time_predict = LGBM_t2 - LGBM_t1"
   ]
  },
  {
   "cell_type": "markdown",
   "metadata": {},
   "source": [
    "**DecisionTreeRegressor**"
   ]
  },
  {
   "cell_type": "code",
   "execution_count": 32,
   "metadata": {},
   "outputs": [
    {
     "name": "stdout",
     "output_type": "stream",
     "text": [
      "RMSE: 2044.6880196160962\n",
      "CPU times: user 550 ms, sys: 0 ns, total: 550 ms\n",
      "Wall time: 570 ms\n"
     ]
    }
   ],
   "source": [
    "%%time\n",
    "DTR_t0 = time()\n",
    "DTR = DecisionTreeRegressor(max_depth=10)\n",
    "DTR.fit(X_train_OE,y_train)\n",
    "DTR_t1 = time()\n",
    "predict_DTR = DTR.predict(X_test_OE)\n",
    "RMSE_DTR = mean_squared_error(y_test, predict_DTR)**0.5\n",
    "DTR_t2 = time()\n",
    "print('RMSE:', RMSE_DTR)\n",
    "DTR_time_fit = DTR_t1 - DTR_t0\n",
    "DTR_time_predict = DTR_t2 - DTR_t1"
   ]
  },
  {
   "cell_type": "markdown",
   "metadata": {},
   "source": [
    "**LinearGegression**"
   ]
  },
  {
   "cell_type": "markdown",
   "metadata": {},
   "source": [
    "Для линейных моделей категоризируем данные через ohe и стандартизируем через standart scaler. Будем использовать гридсерч в Ridge."
   ]
  },
  {
   "cell_type": "code",
   "execution_count": 33,
   "metadata": {},
   "outputs": [],
   "source": [
    "data_ohe = pd.get_dummies(data, drop_first=True)\n",
    "features_LR = data_ohe.drop(['Price'],axis=1) \n",
    "target_LR = data_ohe['Price']"
   ]
  },
  {
   "cell_type": "code",
   "execution_count": 38,
   "metadata": {},
   "outputs": [],
   "source": [
    "X_train_LR, X_test_LR, y_train_LR, y_test_LR= train_test_split(features_LR, target_LR, train_size=0.6,random_state=2007)\n",
    "X_valid_LR, X_test_LR, y_valid_LR, y_test_LR= train_test_split(X_test_LR, y_test_LR, train_size=0.5,random_state=2007)"
   ]
  },
  {
   "cell_type": "code",
   "execution_count": 39,
   "metadata": {},
   "outputs": [],
   "source": [
    "scaler = StandardScaler()\n",
    "scaler.fit(X_train_LR)\n",
    "features_train_scaled = scaler.transform(X_train_LR)\n",
    "features_valid_scaled = scaler.transform(X_valid_LR)\n",
    "features_valid_scaled = scaler.transform(X_test_LR)"
   ]
  },
  {
   "cell_type": "code",
   "execution_count": 40,
   "metadata": {},
   "outputs": [
    {
     "name": "stdout",
     "output_type": "stream",
     "text": [
      "RMSE: 3129.006479173038\n",
      "CPU times: user 22.7 s, sys: 25.5 s, total: 48.2 s\n",
      "Wall time: 48.4 s\n"
     ]
    }
   ],
   "source": [
    "%%time\n",
    "LR_t0 = time()\n",
    "LR = LinearRegression()\n",
    "LR = LR.fit(X_train_LR, y_train_LR)\n",
    "LR_t1 = time()\n",
    "predict_LR_VD = LR.predict(X_valid_LR)\n",
    "RMSE_LR_VD = mean_squared_error(y_valid_LR, predict_LR_VD)**0.5\n",
    "LR_t2 = time()\n",
    "print('RMSE:', RMSE_LR_VD)\n",
    "LR_time_fit = LR_t1 - LR_t0\n",
    "LR_time_valid_predict = LR_t2 - LR_t1"
   ]
  },
  {
   "cell_type": "code",
   "execution_count": 41,
   "metadata": {},
   "outputs": [
    {
     "name": "stdout",
     "output_type": "stream",
     "text": [
      "RMSE: 3129.8899368763773\n"
     ]
    }
   ],
   "source": [
    "LR_test_t0 = time()\n",
    "predict_LR = LR.predict(X_test_LR)\n",
    "RMSE_LR = mean_squared_error(y_test_LR, predict_LR)**0.5\n",
    "print('RMSE:', RMSE_LR)\n",
    "LR_test_t1 = time()\n",
    "LR_time_predict = LR_test_t1 - LR_test_t0"
   ]
  },
  {
   "cell_type": "markdown",
   "metadata": {},
   "source": [
    "**Ridge**"
   ]
  },
  {
   "cell_type": "code",
   "execution_count": 43,
   "metadata": {},
   "outputs": [
    {
     "data": {
      "text/plain": [
       "GridSearchCV(cv=5, estimator=Ridge(),\n",
       "             param_grid={'alpha': [1e-15, 1e-10, 1e-08, 0.001, 0.01, 1, 5, 10,\n",
       "                                   20, 30, 35, 40, 45, 50, 55, 100]},\n",
       "             scoring='neg_mean_squared_error')"
      ]
     },
     "execution_count": 43,
     "metadata": {},
     "output_type": "execute_result"
    }
   ],
   "source": [
    "R=Ridge()\n",
    "parameters={'alpha':[1e-15,1e-10,1e-8,1e-3,1e-2,1,5,10,20,30,35,40,45,50,55,100]}\n",
    "R_regressor=GridSearchCV(R,parameters,scoring='neg_mean_squared_error',cv=5)\n",
    "R_regressor.fit(X_valid_LR,y_valid_LR)"
   ]
  },
  {
   "cell_type": "code",
   "execution_count": 62,
   "metadata": {},
   "outputs": [
    {
     "data": {
      "text/plain": [
       "{'alpha': 0.01}"
      ]
     },
     "execution_count": 62,
     "metadata": {},
     "output_type": "execute_result"
    }
   ],
   "source": [
    "R_regressor.best_params_"
   ]
  },
  {
   "cell_type": "code",
   "execution_count": 63,
   "metadata": {},
   "outputs": [],
   "source": [
    "R_test = Ridge(alpha = 0.01)\n",
    "R_t0 = time()\n",
    "R_test.fit(X_train_LR,y_train_LR)\n",
    "R_t1 = time()\n",
    "predict_R=R_test.predict(X_test_LR)\n",
    "R_t2 = time()\n",
    "R_time_fit = R_t1 - R_t0\n",
    "R_time_predict = R_t2 - R_t1"
   ]
  },
  {
   "cell_type": "code",
   "execution_count": 64,
   "metadata": {},
   "outputs": [
    {
     "data": {
      "text/plain": [
       "3129.8809727005037"
      ]
     },
     "execution_count": 64,
     "metadata": {},
     "output_type": "execute_result"
    }
   ],
   "source": [
    "rmse_R = mean_squared_error(y_test_LR, predict_R)**0.5\n",
    "rmse_R"
   ]
  },
  {
   "cell_type": "markdown",
   "metadata": {},
   "source": [
    "**CatBoost**"
   ]
  },
  {
   "cell_type": "code",
   "execution_count": null,
   "metadata": {},
   "outputs": [
    {
     "name": "stdout",
     "output_type": "stream",
     "text": [
      "0:\tlearn: 4091.4104522\ttotal: 417ms\tremaining: 6m 56s\n"
     ]
    }
   ],
   "source": [
    "%%time\n",
    "CB_t0 = time()\n",
    "CB = CatBoostRegressor(**params)\n",
    "CB.fit(train_data)\n",
    "CB_t1 = time()\n",
    "test['y_pred'] = CB.predict(test_data)\n",
    "CB_t2 = time()\n",
    "RMSE_CB = mean_squared_error(test['Price'],test['y_pred'])**0.5\n",
    "cv_data[cv_data['test-RMSE-mean'] == cv_data['test-RMSE-mean'].min()]\n",
    "CB_time_fit = CB_t1 - CB_t0\n",
    "CB_time_predict = CB_t2 - CB_t1"
   ]
  },
  {
   "cell_type": "markdown",
   "metadata": {},
   "source": [
    "## Анализ моделей"
   ]
  },
  {
   "cell_type": "code",
   "execution_count": null,
   "metadata": {},
   "outputs": [],
   "source": [
    "results = pd.DataFrame([['LGBMRegressor',        RMSE_LGBM, LGBM_time_fit,  LGBM_time_predict],\n",
    "                        ['DecisionTreeRegressor',RMSE_DTR,  DTR_time_fit,   DTR_time_predict],\n",
    "                        ['LinearGegression',     RMSE_LR,   LR_time_fit,    LR_time_predict],\n",
    "                        ['CatBoostRegressor',    RMSE_CB,   CB_time_fit,    CB_time_predict],\n",
    "                        ['Ridge',                rmse_R,    R_time_fit,     CB_time_predict]],\n",
    "columns=['Model', 'RMSE', 'Time_fit, sec', 'Time_predict, sec'])\n",
    "results.sort_values('RMSE').reset_index(drop=True)"
   ]
  },
  {
   "cell_type": "code",
   "execution_count": null,
   "metadata": {
    "scrolled": true
   },
   "outputs": [],
   "source": [
    "results.sort_values('Time_fit, sec').reset_index(drop=True)"
   ]
  },
  {
   "cell_type": "markdown",
   "metadata": {},
   "source": [
    "Стандартные простые модели работают быстро, но качество предсказания ниже порогового. Лучшей моделью по качеству оказалась CatBoostRegressor, LGBM на втором месте. При этом, у кэтбуста больше всех параметров, что замедляет время предсказания.\n",
    "При увеличении количества гиперпараметров увеличивается и время обучения, при этом улучшается качетво модели. По-хорошему нужно сравнивать модели с одинаковыми гиперпараметрами, или вовсе без них. Также можно улучшить качество моделей, детально выполнив предобработку, но пороговый RMSE был достигнут и без этого."
   ]
  }
 ],
 "metadata": {
  "ExecuteTimeLog": [
   {
    "duration": 43,
    "start_time": "2022-06-11T22:05:15.589Z"
   },
   {
    "duration": 513,
    "start_time": "2022-06-11T22:05:26.945Z"
   },
   {
    "duration": 1312,
    "start_time": "2022-06-11T22:05:27.464Z"
   },
   {
    "duration": 28,
    "start_time": "2022-06-11T22:05:34.188Z"
   },
   {
    "duration": 501,
    "start_time": "2022-06-11T22:06:14.346Z"
   },
   {
    "duration": 452,
    "start_time": "2022-06-11T22:06:18.875Z"
   },
   {
    "duration": 38,
    "start_time": "2022-06-11T22:06:32.621Z"
   },
   {
    "duration": 528,
    "start_time": "2022-06-11T22:06:39.808Z"
   },
   {
    "duration": 143,
    "start_time": "2022-06-11T22:06:57.491Z"
   },
   {
    "duration": 130,
    "start_time": "2022-06-11T22:07:00.766Z"
   },
   {
    "duration": 89,
    "start_time": "2022-06-11T22:07:55.616Z"
   },
   {
    "duration": 121,
    "start_time": "2022-06-11T22:07:58.065Z"
   },
   {
    "duration": 114,
    "start_time": "2022-06-11T22:08:16.675Z"
   },
   {
    "duration": 82,
    "start_time": "2022-06-11T22:08:26.998Z"
   },
   {
    "duration": 432,
    "start_time": "2022-06-11T22:09:17.604Z"
   },
   {
    "duration": 115,
    "start_time": "2022-06-11T22:11:28.111Z"
   },
   {
    "duration": 12,
    "start_time": "2022-06-11T22:12:00.876Z"
   },
   {
    "duration": 76,
    "start_time": "2022-06-13T13:33:43.429Z"
   },
   {
    "duration": 508,
    "start_time": "2022-06-13T13:33:51.680Z"
   },
   {
    "duration": 3183,
    "start_time": "2022-06-13T13:33:52.192Z"
   },
   {
    "duration": 155,
    "start_time": "2022-06-13T13:33:55.377Z"
   },
   {
    "duration": 577,
    "start_time": "2022-06-13T13:33:55.534Z"
   },
   {
    "duration": 118,
    "start_time": "2022-06-13T13:33:56.113Z"
   },
   {
    "duration": 104,
    "start_time": "2022-06-13T13:33:56.233Z"
   },
   {
    "duration": 546,
    "start_time": "2022-06-13T13:33:56.338Z"
   },
   {
    "duration": 141,
    "start_time": "2022-06-13T13:33:56.886Z"
   },
   {
    "duration": 14,
    "start_time": "2022-06-13T13:33:57.029Z"
   },
   {
    "duration": 7,
    "start_time": "2022-06-13T13:33:57.059Z"
   },
   {
    "duration": 5,
    "start_time": "2022-06-13T13:34:37.975Z"
   },
   {
    "duration": 76,
    "start_time": "2022-06-13T13:34:41.248Z"
   },
   {
    "duration": 523,
    "start_time": "2022-06-13T13:34:46.971Z"
   },
   {
    "duration": 102,
    "start_time": "2022-06-13T13:34:51.645Z"
   },
   {
    "duration": 102,
    "start_time": "2022-06-13T13:34:51.798Z"
   },
   {
    "duration": 572,
    "start_time": "2022-06-13T13:34:51.959Z"
   },
   {
    "duration": 176,
    "start_time": "2022-06-13T13:34:52.533Z"
   },
   {
    "duration": 15,
    "start_time": "2022-06-13T13:34:52.710Z"
   },
   {
    "duration": 7,
    "start_time": "2022-06-13T13:34:52.728Z"
   },
   {
    "duration": 31,
    "start_time": "2022-06-13T13:36:55.338Z"
   },
   {
    "duration": 13,
    "start_time": "2022-06-13T13:37:13.196Z"
   },
   {
    "duration": 45,
    "start_time": "2022-06-13T13:37:16.644Z"
   },
   {
    "duration": 12,
    "start_time": "2022-06-13T13:37:21.126Z"
   },
   {
    "duration": 9,
    "start_time": "2022-06-13T13:38:53.586Z"
   },
   {
    "duration": 2,
    "start_time": "2022-06-13T13:39:32.993Z"
   },
   {
    "duration": 3,
    "start_time": "2022-06-13T13:39:50.204Z"
   },
   {
    "duration": 8,
    "start_time": "2022-06-13T13:39:50.934Z"
   },
   {
    "duration": 9,
    "start_time": "2022-06-13T13:40:45.308Z"
   },
   {
    "duration": 104,
    "start_time": "2022-06-13T13:40:53.441Z"
   },
   {
    "duration": 446,
    "start_time": "2022-06-13T13:41:32.228Z"
   },
   {
    "duration": 965,
    "start_time": "2022-06-13T13:41:32.677Z"
   },
   {
    "duration": 189,
    "start_time": "2022-06-13T13:41:33.644Z"
   },
   {
    "duration": 561,
    "start_time": "2022-06-13T13:41:33.835Z"
   },
   {
    "duration": 558,
    "start_time": "2022-06-13T13:41:34.398Z"
   },
   {
    "duration": 109,
    "start_time": "2022-06-13T13:41:34.958Z"
   },
   {
    "duration": 75,
    "start_time": "2022-06-13T13:41:35.069Z"
   },
   {
    "duration": 522,
    "start_time": "2022-06-13T13:41:35.146Z"
   },
   {
    "duration": 159,
    "start_time": "2022-06-13T13:41:35.670Z"
   },
   {
    "duration": 27,
    "start_time": "2022-06-13T13:41:35.831Z"
   },
   {
    "duration": 5,
    "start_time": "2022-06-13T13:41:35.861Z"
   },
   {
    "duration": 33,
    "start_time": "2022-06-13T13:41:35.868Z"
   },
   {
    "duration": 15,
    "start_time": "2022-06-13T13:41:35.903Z"
   },
   {
    "duration": 4,
    "start_time": "2022-06-13T13:41:35.921Z"
   },
   {
    "duration": 89,
    "start_time": "2022-06-13T13:41:35.927Z"
   },
   {
    "duration": 8,
    "start_time": "2022-06-13T13:42:17.920Z"
   },
   {
    "duration": 5,
    "start_time": "2022-06-13T13:44:12.184Z"
   },
   {
    "duration": 41,
    "start_time": "2022-06-13T13:45:19.053Z"
   },
   {
    "duration": 4,
    "start_time": "2022-06-13T13:45:20.485Z"
   },
   {
    "duration": 12,
    "start_time": "2022-06-13T13:45:21.209Z"
   },
   {
    "duration": 6,
    "start_time": "2022-06-13T13:45:28.619Z"
   },
   {
    "duration": 8,
    "start_time": "2022-06-13T13:45:29.085Z"
   },
   {
    "duration": 4,
    "start_time": "2022-06-13T13:45:32.345Z"
   },
   {
    "duration": 11,
    "start_time": "2022-06-13T13:45:32.584Z"
   },
   {
    "duration": 138,
    "start_time": "2022-06-13T13:46:48.391Z"
   },
   {
    "duration": 135,
    "start_time": "2022-06-13T13:46:58.028Z"
   },
   {
    "duration": 130,
    "start_time": "2022-06-13T13:47:02.867Z"
   },
   {
    "duration": 718,
    "start_time": "2022-06-13T13:47:29.632Z"
   },
   {
    "duration": 44,
    "start_time": "2022-06-13T13:49:17.003Z"
   },
   {
    "duration": 10,
    "start_time": "2022-06-13T13:49:22.697Z"
   },
   {
    "duration": 702,
    "start_time": "2022-06-13T13:49:27.755Z"
   },
   {
    "duration": 473,
    "start_time": "2022-06-13T13:52:58.460Z"
   },
   {
    "duration": 48,
    "start_time": "2022-06-13T13:53:03.899Z"
   },
   {
    "duration": 77,
    "start_time": "2022-06-13T13:53:35.565Z"
   },
   {
    "duration": 20,
    "start_time": "2022-06-13T13:53:48.539Z"
   },
   {
    "duration": 89,
    "start_time": "2022-06-13T13:54:23.488Z"
   },
   {
    "duration": 8,
    "start_time": "2022-06-13T13:54:43.083Z"
   },
   {
    "duration": 1306,
    "start_time": "2022-06-13T14:10:24.571Z"
   },
   {
    "duration": 1121,
    "start_time": "2022-06-13T14:10:25.880Z"
   },
   {
    "duration": 165,
    "start_time": "2022-06-13T14:10:27.002Z"
   },
   {
    "duration": 610,
    "start_time": "2022-06-13T14:10:27.169Z"
   },
   {
    "duration": 617,
    "start_time": "2022-06-13T14:10:27.785Z"
   },
   {
    "duration": 17,
    "start_time": "2022-06-13T14:10:28.404Z"
   },
   {
    "duration": 5,
    "start_time": "2022-06-13T14:10:28.423Z"
   },
   {
    "duration": 55,
    "start_time": "2022-06-13T14:10:28.429Z"
   },
   {
    "duration": 29,
    "start_time": "2022-06-13T14:10:28.487Z"
   },
   {
    "duration": 22,
    "start_time": "2022-06-13T14:10:28.517Z"
   },
   {
    "duration": 57,
    "start_time": "2022-06-13T14:10:28.541Z"
   },
   {
    "duration": 23,
    "start_time": "2022-06-13T14:10:28.601Z"
   },
   {
    "duration": 220,
    "start_time": "2022-06-13T14:10:28.626Z"
   },
   {
    "duration": 233,
    "start_time": "2022-06-13T14:10:28.858Z"
   },
   {
    "duration": 8,
    "start_time": "2022-06-13T14:10:29.094Z"
   },
   {
    "duration": 0,
    "start_time": "2022-06-13T14:10:29.104Z"
   },
   {
    "duration": 133,
    "start_time": "2022-06-13T14:11:01.094Z"
   },
   {
    "duration": 28,
    "start_time": "2022-06-13T14:11:12.100Z"
   },
   {
    "duration": 14,
    "start_time": "2022-06-13T14:11:27.981Z"
   },
   {
    "duration": 12,
    "start_time": "2022-06-13T14:11:33.284Z"
   },
   {
    "duration": 134,
    "start_time": "2022-06-13T14:11:48.221Z"
   },
   {
    "duration": 8,
    "start_time": "2022-06-13T14:11:48.576Z"
   },
   {
    "duration": 14,
    "start_time": "2022-06-13T14:11:57.395Z"
   },
   {
    "duration": 1347,
    "start_time": "2022-06-13T14:12:20.159Z"
   },
   {
    "duration": 1180,
    "start_time": "2022-06-13T14:12:21.508Z"
   },
   {
    "duration": 185,
    "start_time": "2022-06-13T14:12:22.696Z"
   },
   {
    "duration": 655,
    "start_time": "2022-06-13T14:12:22.890Z"
   },
   {
    "duration": 717,
    "start_time": "2022-06-13T14:12:23.547Z"
   },
   {
    "duration": 28,
    "start_time": "2022-06-13T14:12:24.267Z"
   },
   {
    "duration": 13,
    "start_time": "2022-06-13T14:12:24.298Z"
   },
   {
    "duration": 39,
    "start_time": "2022-06-13T14:12:24.313Z"
   },
   {
    "duration": 53,
    "start_time": "2022-06-13T14:12:24.354Z"
   },
   {
    "duration": 43,
    "start_time": "2022-06-13T14:12:24.411Z"
   },
   {
    "duration": 5,
    "start_time": "2022-06-13T14:12:24.456Z"
   },
   {
    "duration": 163,
    "start_time": "2022-06-13T14:12:24.466Z"
   },
   {
    "duration": 207,
    "start_time": "2022-06-13T14:12:24.631Z"
   },
   {
    "duration": 117,
    "start_time": "2022-06-13T14:12:24.840Z"
   },
   {
    "duration": 128,
    "start_time": "2022-06-13T14:12:24.959Z"
   },
   {
    "duration": 1145,
    "start_time": "2022-06-13T14:36:35.396Z"
   },
   {
    "duration": 1157,
    "start_time": "2022-06-13T14:36:36.545Z"
   },
   {
    "duration": 255,
    "start_time": "2022-06-13T14:36:37.704Z"
   },
   {
    "duration": 655,
    "start_time": "2022-06-13T14:36:37.962Z"
   },
   {
    "duration": 672,
    "start_time": "2022-06-13T14:36:38.620Z"
   },
   {
    "duration": 22,
    "start_time": "2022-06-13T14:36:39.294Z"
   },
   {
    "duration": 8,
    "start_time": "2022-06-13T14:36:39.319Z"
   },
   {
    "duration": 55,
    "start_time": "2022-06-13T14:36:39.329Z"
   },
   {
    "duration": 6,
    "start_time": "2022-06-13T14:36:39.387Z"
   },
   {
    "duration": 35,
    "start_time": "2022-06-13T14:36:39.396Z"
   },
   {
    "duration": 4,
    "start_time": "2022-06-13T14:36:39.433Z"
   },
   {
    "duration": 145,
    "start_time": "2022-06-13T14:36:39.458Z"
   },
   {
    "duration": 209,
    "start_time": "2022-06-13T14:36:39.605Z"
   },
   {
    "duration": 142,
    "start_time": "2022-06-13T14:36:39.817Z"
   },
   {
    "duration": 161,
    "start_time": "2022-06-13T14:36:39.965Z"
   },
   {
    "duration": 1166,
    "start_time": "2022-06-13T14:37:44.124Z"
   },
   {
    "duration": 1037,
    "start_time": "2022-06-13T14:37:45.293Z"
   },
   {
    "duration": 211,
    "start_time": "2022-06-13T14:37:46.332Z"
   },
   {
    "duration": 593,
    "start_time": "2022-06-13T14:37:46.544Z"
   },
   {
    "duration": 677,
    "start_time": "2022-06-13T14:37:47.139Z"
   },
   {
    "duration": 18,
    "start_time": "2022-06-13T14:37:47.819Z"
   },
   {
    "duration": 30,
    "start_time": "2022-06-13T14:37:47.839Z"
   },
   {
    "duration": 46,
    "start_time": "2022-06-13T14:37:47.873Z"
   },
   {
    "duration": 10,
    "start_time": "2022-06-13T14:37:47.921Z"
   },
   {
    "duration": 40,
    "start_time": "2022-06-13T14:37:47.933Z"
   },
   {
    "duration": 47,
    "start_time": "2022-06-13T14:37:47.975Z"
   },
   {
    "duration": 198,
    "start_time": "2022-06-13T14:37:48.025Z"
   },
   {
    "duration": 240,
    "start_time": "2022-06-13T14:37:48.226Z"
   },
   {
    "duration": 3,
    "start_time": "2022-06-13T14:37:48.470Z"
   },
   {
    "duration": 113,
    "start_time": "2022-06-13T14:39:10.923Z"
   },
   {
    "duration": 5,
    "start_time": "2022-06-13T14:39:11.123Z"
   },
   {
    "duration": 16,
    "start_time": "2022-06-13T14:39:11.283Z"
   },
   {
    "duration": 3,
    "start_time": "2022-06-13T14:39:11.426Z"
   },
   {
    "duration": 120,
    "start_time": "2022-06-13T14:39:11.577Z"
   },
   {
    "duration": 1082,
    "start_time": "2022-06-13T14:39:24.483Z"
   },
   {
    "duration": 970,
    "start_time": "2022-06-13T14:39:25.570Z"
   },
   {
    "duration": 169,
    "start_time": "2022-06-13T14:39:26.545Z"
   },
   {
    "duration": 627,
    "start_time": "2022-06-13T14:39:26.715Z"
   },
   {
    "duration": 682,
    "start_time": "2022-06-13T14:39:27.345Z"
   },
   {
    "duration": 19,
    "start_time": "2022-06-13T14:39:28.030Z"
   },
   {
    "duration": 5,
    "start_time": "2022-06-13T14:39:28.060Z"
   },
   {
    "duration": 62,
    "start_time": "2022-06-13T14:39:28.067Z"
   },
   {
    "duration": 109,
    "start_time": "2022-06-13T14:39:28.131Z"
   },
   {
    "duration": 0,
    "start_time": "2022-06-13T14:39:28.243Z"
   },
   {
    "duration": 0,
    "start_time": "2022-06-13T14:39:28.244Z"
   },
   {
    "duration": 0,
    "start_time": "2022-06-13T14:39:28.246Z"
   },
   {
    "duration": 0,
    "start_time": "2022-06-13T14:39:28.247Z"
   },
   {
    "duration": 0,
    "start_time": "2022-06-13T14:39:28.248Z"
   },
   {
    "duration": 0,
    "start_time": "2022-06-13T14:39:28.250Z"
   },
   {
    "duration": 9,
    "start_time": "2022-06-13T14:39:33.542Z"
   },
   {
    "duration": 3,
    "start_time": "2022-06-13T14:39:37.652Z"
   },
   {
    "duration": 4,
    "start_time": "2022-06-13T14:39:40.032Z"
   },
   {
    "duration": 3,
    "start_time": "2022-06-13T14:39:43.503Z"
   },
   {
    "duration": 13,
    "start_time": "2022-06-13T14:40:04.083Z"
   },
   {
    "duration": 1181,
    "start_time": "2022-06-13T14:40:16.184Z"
   },
   {
    "duration": 1032,
    "start_time": "2022-06-13T14:40:17.368Z"
   },
   {
    "duration": 164,
    "start_time": "2022-06-13T14:40:18.402Z"
   },
   {
    "duration": 578,
    "start_time": "2022-06-13T14:40:18.569Z"
   },
   {
    "duration": 614,
    "start_time": "2022-06-13T14:40:19.148Z"
   },
   {
    "duration": 22,
    "start_time": "2022-06-13T14:40:19.764Z"
   },
   {
    "duration": 7,
    "start_time": "2022-06-13T14:40:19.788Z"
   },
   {
    "duration": 25,
    "start_time": "2022-06-13T14:40:19.797Z"
   },
   {
    "duration": 54,
    "start_time": "2022-06-13T14:40:19.824Z"
   },
   {
    "duration": 4,
    "start_time": "2022-06-13T14:40:19.882Z"
   },
   {
    "duration": 137,
    "start_time": "2022-06-13T14:40:19.888Z"
   },
   {
    "duration": 196,
    "start_time": "2022-06-13T14:40:20.026Z"
   },
   {
    "duration": 5,
    "start_time": "2022-06-13T14:40:20.224Z"
   },
   {
    "duration": 137,
    "start_time": "2022-06-13T14:40:20.231Z"
   },
   {
    "duration": 37,
    "start_time": "2022-06-13T14:40:48.974Z"
   },
   {
    "duration": 34,
    "start_time": "2022-06-13T14:42:37.968Z"
   },
   {
    "duration": 112,
    "start_time": "2022-06-13T14:42:41.123Z"
   },
   {
    "duration": 15,
    "start_time": "2022-06-13T14:51:02.487Z"
   },
   {
    "duration": 1384,
    "start_time": "2022-06-13T14:53:01.888Z"
   },
   {
    "duration": 1113,
    "start_time": "2022-06-13T14:53:03.275Z"
   },
   {
    "duration": 192,
    "start_time": "2022-06-13T14:53:04.391Z"
   },
   {
    "duration": 638,
    "start_time": "2022-06-13T14:53:04.585Z"
   },
   {
    "duration": 696,
    "start_time": "2022-06-13T14:53:05.227Z"
   },
   {
    "duration": 27,
    "start_time": "2022-06-13T14:53:05.925Z"
   },
   {
    "duration": 6,
    "start_time": "2022-06-13T14:53:05.961Z"
   },
   {
    "duration": 59,
    "start_time": "2022-06-13T14:53:05.969Z"
   },
   {
    "duration": 35,
    "start_time": "2022-06-13T14:53:06.030Z"
   },
   {
    "duration": 8,
    "start_time": "2022-06-13T14:53:06.067Z"
   },
   {
    "duration": 171,
    "start_time": "2022-06-13T14:53:06.079Z"
   },
   {
    "duration": 194,
    "start_time": "2022-06-13T14:53:06.252Z"
   },
   {
    "duration": 87,
    "start_time": "2022-06-13T14:53:06.447Z"
   },
   {
    "duration": 3,
    "start_time": "2022-06-13T14:53:06.537Z"
   },
   {
    "duration": 66,
    "start_time": "2022-06-13T14:53:06.542Z"
   },
   {
    "duration": 6,
    "start_time": "2022-06-13T14:53:06.610Z"
   },
   {
    "duration": 348,
    "start_time": "2022-06-13T14:54:06.327Z"
   },
   {
    "duration": 127,
    "start_time": "2022-06-13T14:54:06.678Z"
   },
   {
    "duration": 3,
    "start_time": "2022-06-13T14:55:05.446Z"
   },
   {
    "duration": 163400,
    "start_time": "2022-06-13T14:55:05.676Z"
   },
   {
    "duration": 4,
    "start_time": "2022-06-13T15:00:03.992Z"
   },
   {
    "duration": 1367,
    "start_time": "2022-06-13T15:00:18.157Z"
   },
   {
    "duration": 1119,
    "start_time": "2022-06-13T15:00:19.526Z"
   },
   {
    "duration": 199,
    "start_time": "2022-06-13T15:00:20.647Z"
   },
   {
    "duration": 733,
    "start_time": "2022-06-13T15:00:20.861Z"
   },
   {
    "duration": 910,
    "start_time": "2022-06-13T15:00:21.602Z"
   },
   {
    "duration": 25,
    "start_time": "2022-06-13T15:00:22.515Z"
   },
   {
    "duration": 20,
    "start_time": "2022-06-13T15:00:22.542Z"
   },
   {
    "duration": 77,
    "start_time": "2022-06-13T15:00:22.567Z"
   },
   {
    "duration": 42,
    "start_time": "2022-06-13T15:00:22.647Z"
   },
   {
    "duration": 29,
    "start_time": "2022-06-13T15:00:22.693Z"
   },
   {
    "duration": 226,
    "start_time": "2022-06-13T15:00:22.724Z"
   },
   {
    "duration": 250,
    "start_time": "2022-06-13T15:00:22.953Z"
   },
   {
    "duration": 110,
    "start_time": "2022-06-13T15:00:23.205Z"
   },
   {
    "duration": 3,
    "start_time": "2022-06-13T15:00:23.319Z"
   },
   {
    "duration": 33,
    "start_time": "2022-06-13T15:00:23.324Z"
   },
   {
    "duration": 396,
    "start_time": "2022-06-13T15:00:23.370Z"
   },
   {
    "duration": 134,
    "start_time": "2022-06-13T15:00:23.768Z"
   },
   {
    "duration": 3,
    "start_time": "2022-06-13T15:00:23.905Z"
   },
   {
    "duration": 140594,
    "start_time": "2022-06-13T15:00:23.910Z"
   },
   {
    "duration": 0,
    "start_time": "2022-06-13T15:02:44.506Z"
   },
   {
    "duration": 1269,
    "start_time": "2022-06-13T15:02:52.276Z"
   },
   {
    "duration": 1126,
    "start_time": "2022-06-13T15:02:53.547Z"
   },
   {
    "duration": 201,
    "start_time": "2022-06-13T15:02:54.675Z"
   },
   {
    "duration": 653,
    "start_time": "2022-06-13T15:02:54.879Z"
   },
   {
    "duration": 691,
    "start_time": "2022-06-13T15:02:55.533Z"
   },
   {
    "duration": 18,
    "start_time": "2022-06-13T15:02:56.227Z"
   },
   {
    "duration": 68,
    "start_time": "2022-06-13T15:02:56.247Z"
   },
   {
    "duration": 55,
    "start_time": "2022-06-13T15:02:56.317Z"
   },
   {
    "duration": 67,
    "start_time": "2022-06-13T15:02:56.374Z"
   },
   {
    "duration": 3,
    "start_time": "2022-06-13T15:02:56.444Z"
   },
   {
    "duration": 179,
    "start_time": "2022-06-13T15:02:56.448Z"
   },
   {
    "duration": 188,
    "start_time": "2022-06-13T15:02:56.629Z"
   },
   {
    "duration": 119,
    "start_time": "2022-06-13T15:02:56.820Z"
   },
   {
    "duration": 3,
    "start_time": "2022-06-13T15:02:56.941Z"
   },
   {
    "duration": 27,
    "start_time": "2022-06-13T15:02:56.945Z"
   },
   {
    "duration": 377,
    "start_time": "2022-06-13T15:02:56.975Z"
   },
   {
    "duration": 125,
    "start_time": "2022-06-13T15:02:57.354Z"
   },
   {
    "duration": 11,
    "start_time": "2022-06-13T15:02:57.481Z"
   },
   {
    "duration": 0,
    "start_time": "2022-06-13T15:05:36.644Z"
   },
   {
    "duration": 0,
    "start_time": "2022-06-13T15:05:36.645Z"
   },
   {
    "duration": 1193,
    "start_time": "2022-06-13T15:05:39.089Z"
   },
   {
    "duration": 1093,
    "start_time": "2022-06-13T15:05:40.284Z"
   },
   {
    "duration": 207,
    "start_time": "2022-06-13T15:05:41.379Z"
   },
   {
    "duration": 693,
    "start_time": "2022-06-13T15:05:41.588Z"
   },
   {
    "duration": 723,
    "start_time": "2022-06-13T15:05:42.293Z"
   },
   {
    "duration": 16,
    "start_time": "2022-06-13T15:05:43.018Z"
   },
   {
    "duration": 4,
    "start_time": "2022-06-13T15:05:43.036Z"
   },
   {
    "duration": 38,
    "start_time": "2022-06-13T15:05:43.061Z"
   },
   {
    "duration": 33,
    "start_time": "2022-06-13T15:05:43.101Z"
   },
   {
    "duration": 4,
    "start_time": "2022-06-13T15:05:43.136Z"
   },
   {
    "duration": 201,
    "start_time": "2022-06-13T15:05:43.142Z"
   },
   {
    "duration": 185,
    "start_time": "2022-06-13T15:05:43.344Z"
   },
   {
    "duration": 95,
    "start_time": "2022-06-13T15:05:43.530Z"
   },
   {
    "duration": 3,
    "start_time": "2022-06-13T15:05:43.628Z"
   },
   {
    "duration": 26,
    "start_time": "2022-06-13T15:05:43.633Z"
   },
   {
    "duration": 384,
    "start_time": "2022-06-13T15:05:43.661Z"
   },
   {
    "duration": 116,
    "start_time": "2022-06-13T15:05:44.047Z"
   },
   {
    "duration": 3,
    "start_time": "2022-06-13T15:05:44.166Z"
   },
   {
    "duration": 97023,
    "start_time": "2022-06-13T15:05:44.173Z"
   },
   {
    "duration": 1375,
    "start_time": "2022-06-13T15:10:13.493Z"
   },
   {
    "duration": 1169,
    "start_time": "2022-06-13T15:10:14.871Z"
   },
   {
    "duration": 216,
    "start_time": "2022-06-13T15:10:16.041Z"
   },
   {
    "duration": 663,
    "start_time": "2022-06-13T15:10:16.268Z"
   },
   {
    "duration": 710,
    "start_time": "2022-06-13T15:10:16.933Z"
   },
   {
    "duration": 19,
    "start_time": "2022-06-13T15:10:17.645Z"
   },
   {
    "duration": 52,
    "start_time": "2022-06-13T15:10:17.666Z"
   },
   {
    "duration": 33,
    "start_time": "2022-06-13T15:10:17.720Z"
   },
   {
    "duration": 89,
    "start_time": "2022-06-13T15:10:17.756Z"
   },
   {
    "duration": 4,
    "start_time": "2022-06-13T15:10:17.846Z"
   },
   {
    "duration": 156,
    "start_time": "2022-06-13T15:10:19.780Z"
   },
   {
    "duration": 207,
    "start_time": "2022-06-13T15:10:19.945Z"
   },
   {
    "duration": 102,
    "start_time": "2022-06-13T15:10:21.414Z"
   },
   {
    "duration": 4,
    "start_time": "2022-06-13T15:10:21.812Z"
   },
   {
    "duration": 23,
    "start_time": "2022-06-13T15:10:23.095Z"
   },
   {
    "duration": 147,
    "start_time": "2022-06-13T15:10:29.746Z"
   },
   {
    "duration": 4,
    "start_time": "2022-06-13T15:10:32.625Z"
   },
   {
    "duration": 7,
    "start_time": "2022-06-13T15:10:54.577Z"
   },
   {
    "duration": 375,
    "start_time": "2022-06-13T15:11:42.246Z"
   },
   {
    "duration": 113,
    "start_time": "2022-06-13T15:11:42.623Z"
   },
   {
    "duration": 3,
    "start_time": "2022-06-13T15:11:43.446Z"
   },
   {
    "duration": 337689,
    "start_time": "2022-06-13T15:11:43.646Z"
   },
   {
    "duration": 4,
    "start_time": "2022-06-13T15:17:21.337Z"
   },
   {
    "duration": 26,
    "start_time": "2022-06-13T15:17:25.976Z"
   },
   {
    "duration": 53,
    "start_time": "2022-06-13T15:17:33.878Z"
   },
   {
    "duration": 5,
    "start_time": "2022-06-13T15:17:34.826Z"
   },
   {
    "duration": 1322,
    "start_time": "2022-06-13T15:17:46.013Z"
   },
   {
    "duration": 1188,
    "start_time": "2022-06-13T15:17:47.338Z"
   },
   {
    "duration": 213,
    "start_time": "2022-06-13T15:17:48.528Z"
   },
   {
    "duration": 685,
    "start_time": "2022-06-13T15:17:48.744Z"
   },
   {
    "duration": 716,
    "start_time": "2022-06-13T15:17:49.431Z"
   },
   {
    "duration": 21,
    "start_time": "2022-06-13T15:17:50.149Z"
   },
   {
    "duration": 52,
    "start_time": "2022-06-13T15:17:50.172Z"
   },
   {
    "duration": 98,
    "start_time": "2022-06-13T15:17:50.226Z"
   },
   {
    "duration": 57,
    "start_time": "2022-06-13T15:17:50.326Z"
   },
   {
    "duration": 36,
    "start_time": "2022-06-13T15:17:50.387Z"
   },
   {
    "duration": 194,
    "start_time": "2022-06-13T15:17:50.425Z"
   },
   {
    "duration": 186,
    "start_time": "2022-06-13T15:17:50.621Z"
   },
   {
    "duration": 126,
    "start_time": "2022-06-13T15:17:50.811Z"
   },
   {
    "duration": 3,
    "start_time": "2022-06-13T15:17:50.939Z"
   },
   {
    "duration": 42,
    "start_time": "2022-06-13T15:17:50.944Z"
   },
   {
    "duration": 427,
    "start_time": "2022-06-13T15:17:50.988Z"
   },
   {
    "duration": 130,
    "start_time": "2022-06-13T15:17:51.417Z"
   },
   {
    "duration": 13,
    "start_time": "2022-06-13T15:17:51.549Z"
   },
   {
    "duration": 1423,
    "start_time": "2022-06-13T15:18:27.456Z"
   },
   {
    "duration": 1176,
    "start_time": "2022-06-13T15:18:28.887Z"
   },
   {
    "duration": 198,
    "start_time": "2022-06-13T15:18:30.065Z"
   },
   {
    "duration": 690,
    "start_time": "2022-06-13T15:18:30.265Z"
   },
   {
    "duration": 778,
    "start_time": "2022-06-13T15:18:30.956Z"
   },
   {
    "duration": 15,
    "start_time": "2022-06-13T15:18:31.736Z"
   },
   {
    "duration": 20,
    "start_time": "2022-06-13T15:18:31.759Z"
   },
   {
    "duration": 79,
    "start_time": "2022-06-13T15:18:31.786Z"
   },
   {
    "duration": 90,
    "start_time": "2022-06-13T15:18:31.867Z"
   },
   {
    "duration": 4,
    "start_time": "2022-06-13T15:18:31.963Z"
   },
   {
    "duration": 276,
    "start_time": "2022-06-13T15:18:31.969Z"
   },
   {
    "duration": 252,
    "start_time": "2022-06-13T15:18:32.252Z"
   },
   {
    "duration": 129,
    "start_time": "2022-06-13T15:18:32.506Z"
   },
   {
    "duration": 4,
    "start_time": "2022-06-13T15:18:32.638Z"
   },
   {
    "duration": 47,
    "start_time": "2022-06-13T15:18:32.644Z"
   },
   {
    "duration": 505,
    "start_time": "2022-06-13T15:18:32.693Z"
   },
   {
    "duration": 141,
    "start_time": "2022-06-13T15:18:33.200Z"
   },
   {
    "duration": 3,
    "start_time": "2022-06-13T15:18:33.343Z"
   },
   {
    "duration": 1263,
    "start_time": "2022-06-13T15:18:57.083Z"
   },
   {
    "duration": 1139,
    "start_time": "2022-06-13T15:18:58.348Z"
   },
   {
    "duration": 196,
    "start_time": "2022-06-13T15:18:59.494Z"
   },
   {
    "duration": 686,
    "start_time": "2022-06-13T15:18:59.692Z"
   },
   {
    "duration": 731,
    "start_time": "2022-06-13T15:19:00.381Z"
   },
   {
    "duration": 24,
    "start_time": "2022-06-13T15:19:01.115Z"
   },
   {
    "duration": 5,
    "start_time": "2022-06-13T15:19:01.141Z"
   },
   {
    "duration": 66,
    "start_time": "2022-06-13T15:19:01.148Z"
   },
   {
    "duration": 31,
    "start_time": "2022-06-13T15:19:01.216Z"
   },
   {
    "duration": 3,
    "start_time": "2022-06-13T15:19:01.248Z"
   },
   {
    "duration": 209,
    "start_time": "2022-06-13T15:19:01.253Z"
   },
   {
    "duration": 201,
    "start_time": "2022-06-13T15:19:01.466Z"
   },
   {
    "duration": 95,
    "start_time": "2022-06-13T15:19:01.672Z"
   },
   {
    "duration": 8,
    "start_time": "2022-06-13T15:19:01.783Z"
   },
   {
    "duration": 50,
    "start_time": "2022-06-13T15:19:01.793Z"
   },
   {
    "duration": 507,
    "start_time": "2022-06-13T15:19:01.845Z"
   },
   {
    "duration": 170,
    "start_time": "2022-06-13T15:19:02.355Z"
   },
   {
    "duration": 3,
    "start_time": "2022-06-13T15:19:02.528Z"
   },
   {
    "duration": 82,
    "start_time": "2022-06-13T15:19:11.327Z"
   },
   {
    "duration": 1267,
    "start_time": "2022-06-13T15:19:16.753Z"
   },
   {
    "duration": 1091,
    "start_time": "2022-06-13T15:19:18.022Z"
   },
   {
    "duration": 187,
    "start_time": "2022-06-13T15:19:19.115Z"
   },
   {
    "duration": 665,
    "start_time": "2022-06-13T15:19:19.305Z"
   },
   {
    "duration": 708,
    "start_time": "2022-06-13T15:19:19.973Z"
   },
   {
    "duration": 21,
    "start_time": "2022-06-13T15:19:20.683Z"
   },
   {
    "duration": 38,
    "start_time": "2022-06-13T15:19:20.706Z"
   },
   {
    "duration": 92,
    "start_time": "2022-06-13T15:19:20.746Z"
   },
   {
    "duration": 99,
    "start_time": "2022-06-13T15:19:20.841Z"
   },
   {
    "duration": 13,
    "start_time": "2022-06-13T15:19:20.944Z"
   },
   {
    "duration": 194,
    "start_time": "2022-06-13T15:19:20.958Z"
   },
   {
    "duration": 194,
    "start_time": "2022-06-13T15:19:21.154Z"
   },
   {
    "duration": 93,
    "start_time": "2022-06-13T15:19:21.350Z"
   },
   {
    "duration": 4,
    "start_time": "2022-06-13T15:19:21.444Z"
   },
   {
    "duration": 38,
    "start_time": "2022-06-13T15:19:21.458Z"
   },
   {
    "duration": 413,
    "start_time": "2022-06-13T15:19:21.501Z"
   },
   {
    "duration": 137,
    "start_time": "2022-06-13T15:19:21.921Z"
   },
   {
    "duration": 12,
    "start_time": "2022-06-13T15:19:22.064Z"
   },
   {
    "duration": 50,
    "start_time": "2022-06-13T15:19:57.991Z"
   },
   {
    "duration": 8,
    "start_time": "2022-06-13T15:20:03.992Z"
   },
   {
    "duration": 17,
    "start_time": "2022-06-13T15:20:04.181Z"
   },
   {
    "duration": 7,
    "start_time": "2022-06-13T15:20:04.302Z"
   },
   {
    "duration": 1236,
    "start_time": "2022-06-13T15:20:11.134Z"
   },
   {
    "duration": 1113,
    "start_time": "2022-06-13T15:20:12.373Z"
   },
   {
    "duration": 235,
    "start_time": "2022-06-13T15:20:13.488Z"
   },
   {
    "duration": 720,
    "start_time": "2022-06-13T15:20:13.727Z"
   },
   {
    "duration": 775,
    "start_time": "2022-06-13T15:20:14.449Z"
   },
   {
    "duration": 16,
    "start_time": "2022-06-13T15:20:15.226Z"
   },
   {
    "duration": 4,
    "start_time": "2022-06-13T15:20:15.243Z"
   },
   {
    "duration": 74,
    "start_time": "2022-06-13T15:20:15.249Z"
   },
   {
    "duration": 32,
    "start_time": "2022-06-13T15:20:15.325Z"
   },
   {
    "duration": 15,
    "start_time": "2022-06-13T15:20:15.368Z"
   },
   {
    "duration": 155,
    "start_time": "2022-06-13T15:20:15.396Z"
   },
   {
    "duration": 188,
    "start_time": "2022-06-13T15:20:15.553Z"
   },
   {
    "duration": 83,
    "start_time": "2022-06-13T15:20:15.743Z"
   },
   {
    "duration": 3,
    "start_time": "2022-06-13T15:20:15.828Z"
   },
   {
    "duration": 28,
    "start_time": "2022-06-13T15:20:15.833Z"
   },
   {
    "duration": 365,
    "start_time": "2022-06-13T15:20:15.865Z"
   },
   {
    "duration": 124,
    "start_time": "2022-06-13T15:20:16.232Z"
   },
   {
    "duration": 4,
    "start_time": "2022-06-13T15:20:16.358Z"
   },
   {
    "duration": 1368,
    "start_time": "2022-06-13T15:21:14.482Z"
   },
   {
    "duration": 1098,
    "start_time": "2022-06-13T15:21:15.852Z"
   },
   {
    "duration": 197,
    "start_time": "2022-06-13T15:21:16.951Z"
   },
   {
    "duration": 655,
    "start_time": "2022-06-13T15:21:17.150Z"
   },
   {
    "duration": 672,
    "start_time": "2022-06-13T15:21:17.820Z"
   },
   {
    "duration": 22,
    "start_time": "2022-06-13T15:21:18.497Z"
   },
   {
    "duration": 3,
    "start_time": "2022-06-13T15:21:18.521Z"
   },
   {
    "duration": 44,
    "start_time": "2022-06-13T15:21:18.526Z"
   },
   {
    "duration": 46,
    "start_time": "2022-06-13T15:21:18.572Z"
   },
   {
    "duration": 3,
    "start_time": "2022-06-13T15:21:18.619Z"
   },
   {
    "duration": 5,
    "start_time": "2022-06-13T15:21:18.624Z"
   },
   {
    "duration": 6,
    "start_time": "2022-06-13T15:21:18.631Z"
   },
   {
    "duration": 110,
    "start_time": "2022-06-13T15:21:18.639Z"
   },
   {
    "duration": 3,
    "start_time": "2022-06-13T15:21:18.751Z"
   },
   {
    "duration": 72,
    "start_time": "2022-06-13T15:21:18.756Z"
   },
   {
    "duration": 215,
    "start_time": "2022-06-13T15:21:18.829Z"
   },
   {
    "duration": 0,
    "start_time": "2022-06-13T15:21:19.046Z"
   },
   {
    "duration": 0,
    "start_time": "2022-06-13T15:21:19.047Z"
   },
   {
    "duration": 0,
    "start_time": "2022-06-13T15:21:19.048Z"
   },
   {
    "duration": 0,
    "start_time": "2022-06-13T15:21:19.049Z"
   },
   {
    "duration": 0,
    "start_time": "2022-06-13T15:21:19.050Z"
   },
   {
    "duration": 0,
    "start_time": "2022-06-13T15:21:19.051Z"
   },
   {
    "duration": 0,
    "start_time": "2022-06-13T15:21:19.052Z"
   },
   {
    "duration": 0,
    "start_time": "2022-06-13T15:21:19.053Z"
   },
   {
    "duration": 0,
    "start_time": "2022-06-13T15:21:19.054Z"
   },
   {
    "duration": 0,
    "start_time": "2022-06-13T15:21:19.055Z"
   },
   {
    "duration": 0,
    "start_time": "2022-06-13T15:21:19.057Z"
   },
   {
    "duration": 0,
    "start_time": "2022-06-13T15:21:19.058Z"
   },
   {
    "duration": 146,
    "start_time": "2022-06-13T15:21:41.425Z"
   },
   {
    "duration": 208,
    "start_time": "2022-06-13T15:21:47.025Z"
   },
   {
    "duration": 92,
    "start_time": "2022-06-13T15:22:12.345Z"
   },
   {
    "duration": 52,
    "start_time": "2022-06-13T15:22:13.089Z"
   },
   {
    "duration": 1346,
    "start_time": "2022-06-13T15:22:35.525Z"
   },
   {
    "duration": 1105,
    "start_time": "2022-06-13T15:22:36.876Z"
   },
   {
    "duration": 201,
    "start_time": "2022-06-13T15:22:37.983Z"
   },
   {
    "duration": 640,
    "start_time": "2022-06-13T15:22:38.186Z"
   },
   {
    "duration": 709,
    "start_time": "2022-06-13T15:22:38.830Z"
   },
   {
    "duration": 18,
    "start_time": "2022-06-13T15:22:39.541Z"
   },
   {
    "duration": 4,
    "start_time": "2022-06-13T15:22:39.561Z"
   },
   {
    "duration": 75,
    "start_time": "2022-06-13T15:22:39.567Z"
   },
   {
    "duration": 36,
    "start_time": "2022-06-13T15:22:39.643Z"
   },
   {
    "duration": 30,
    "start_time": "2022-06-13T15:22:39.681Z"
   },
   {
    "duration": 140,
    "start_time": "2022-06-13T15:22:39.713Z"
   },
   {
    "duration": 185,
    "start_time": "2022-06-13T15:22:39.854Z"
   },
   {
    "duration": 98,
    "start_time": "2022-06-13T15:22:40.040Z"
   },
   {
    "duration": 3,
    "start_time": "2022-06-13T15:22:40.141Z"
   },
   {
    "duration": 36,
    "start_time": "2022-06-13T15:22:40.146Z"
   },
   {
    "duration": 369,
    "start_time": "2022-06-13T15:22:40.185Z"
   },
   {
    "duration": 131,
    "start_time": "2022-06-13T15:22:40.555Z"
   },
   {
    "duration": 4,
    "start_time": "2022-06-13T15:22:40.689Z"
   },
   {
    "duration": 430,
    "start_time": "2022-06-13T15:22:40.695Z"
   },
   {
    "duration": 0,
    "start_time": "2022-06-13T15:22:41.127Z"
   },
   {
    "duration": 0,
    "start_time": "2022-06-13T15:22:41.128Z"
   },
   {
    "duration": 0,
    "start_time": "2022-06-13T15:22:41.129Z"
   },
   {
    "duration": 0,
    "start_time": "2022-06-13T15:22:41.131Z"
   },
   {
    "duration": 0,
    "start_time": "2022-06-13T15:22:41.132Z"
   },
   {
    "duration": 0,
    "start_time": "2022-06-13T15:22:41.134Z"
   },
   {
    "duration": 0,
    "start_time": "2022-06-13T15:22:41.135Z"
   },
   {
    "duration": 0,
    "start_time": "2022-06-13T15:22:41.136Z"
   },
   {
    "duration": 0,
    "start_time": "2022-06-13T15:22:41.138Z"
   },
   {
    "duration": 1342,
    "start_time": "2022-06-13T15:23:21.615Z"
   },
   {
    "duration": 1110,
    "start_time": "2022-06-13T15:23:22.963Z"
   },
   {
    "duration": 210,
    "start_time": "2022-06-13T15:23:24.081Z"
   },
   {
    "duration": 653,
    "start_time": "2022-06-13T15:23:24.293Z"
   },
   {
    "duration": 718,
    "start_time": "2022-06-13T15:23:24.948Z"
   },
   {
    "duration": 28,
    "start_time": "2022-06-13T15:23:25.671Z"
   },
   {
    "duration": 18,
    "start_time": "2022-06-13T15:23:25.701Z"
   },
   {
    "duration": 33,
    "start_time": "2022-06-13T15:23:25.721Z"
   },
   {
    "duration": 77,
    "start_time": "2022-06-13T15:23:25.755Z"
   },
   {
    "duration": 2,
    "start_time": "2022-06-13T15:23:25.834Z"
   },
   {
    "duration": 177,
    "start_time": "2022-06-13T15:23:25.838Z"
   },
   {
    "duration": 193,
    "start_time": "2022-06-13T15:23:26.017Z"
   },
   {
    "duration": 104,
    "start_time": "2022-06-13T15:23:26.216Z"
   },
   {
    "duration": 4,
    "start_time": "2022-06-13T15:23:26.324Z"
   },
   {
    "duration": 22,
    "start_time": "2022-06-13T15:23:26.330Z"
   },
   {
    "duration": 382,
    "start_time": "2022-06-13T15:23:26.354Z"
   },
   {
    "duration": 123,
    "start_time": "2022-06-13T15:23:26.737Z"
   },
   {
    "duration": 17,
    "start_time": "2022-06-13T15:23:26.863Z"
   },
   {
    "duration": 327549,
    "start_time": "2022-06-13T15:23:26.887Z"
   },
   {
    "duration": 12,
    "start_time": "2022-06-13T15:28:54.438Z"
   },
   {
    "duration": 29,
    "start_time": "2022-06-13T15:28:54.452Z"
   },
   {
    "duration": 7,
    "start_time": "2022-06-13T15:28:54.484Z"
   },
   {
    "duration": 10,
    "start_time": "2022-06-13T15:28:54.498Z"
   },
   {
    "duration": 4,
    "start_time": "2022-06-13T15:28:54.510Z"
   },
   {
    "duration": 90533,
    "start_time": "2022-06-13T15:28:54.515Z"
   },
   {
    "duration": 0,
    "start_time": "2022-06-13T15:30:25.050Z"
   },
   {
    "duration": 0,
    "start_time": "2022-06-13T15:30:25.054Z"
   },
   {
    "duration": 0,
    "start_time": "2022-06-13T15:30:25.055Z"
   },
   {
    "duration": 1347,
    "start_time": "2022-06-13T15:47:32.014Z"
   },
   {
    "duration": 1160,
    "start_time": "2022-06-13T15:47:33.372Z"
   },
   {
    "duration": 246,
    "start_time": "2022-06-13T15:47:34.534Z"
   },
   {
    "duration": 758,
    "start_time": "2022-06-13T15:47:34.794Z"
   },
   {
    "duration": 833,
    "start_time": "2022-06-13T15:47:35.555Z"
   },
   {
    "duration": 26,
    "start_time": "2022-06-13T15:47:36.393Z"
   },
   {
    "duration": 5,
    "start_time": "2022-06-13T15:47:36.421Z"
   },
   {
    "duration": 48,
    "start_time": "2022-06-13T15:47:36.427Z"
   },
   {
    "duration": 75,
    "start_time": "2022-06-13T15:47:36.478Z"
   },
   {
    "duration": 8,
    "start_time": "2022-06-13T15:47:36.555Z"
   },
   {
    "duration": 231,
    "start_time": "2022-06-13T15:47:36.564Z"
   },
   {
    "duration": 211,
    "start_time": "2022-06-13T15:47:36.797Z"
   },
   {
    "duration": 107,
    "start_time": "2022-06-13T15:47:37.011Z"
   },
   {
    "duration": 5,
    "start_time": "2022-06-13T15:47:37.123Z"
   },
   {
    "duration": 110,
    "start_time": "2022-06-13T15:47:37.130Z"
   },
   {
    "duration": 420,
    "start_time": "2022-06-13T15:47:37.242Z"
   },
   {
    "duration": 140,
    "start_time": "2022-06-13T15:47:37.663Z"
   },
   {
    "duration": 3,
    "start_time": "2022-06-13T15:47:37.805Z"
   },
   {
    "duration": 1221,
    "start_time": "2022-06-13T15:48:50.445Z"
   },
   {
    "duration": 1142,
    "start_time": "2022-06-13T15:48:51.673Z"
   },
   {
    "duration": 212,
    "start_time": "2022-06-13T15:48:52.817Z"
   },
   {
    "duration": 617,
    "start_time": "2022-06-13T15:48:53.031Z"
   },
   {
    "duration": 738,
    "start_time": "2022-06-13T15:48:53.650Z"
   },
   {
    "duration": 28,
    "start_time": "2022-06-13T15:48:54.392Z"
   },
   {
    "duration": 5,
    "start_time": "2022-06-13T15:48:54.422Z"
   },
   {
    "duration": 47,
    "start_time": "2022-06-13T15:48:54.429Z"
   },
   {
    "duration": 55,
    "start_time": "2022-06-13T15:48:54.484Z"
   },
   {
    "duration": 3,
    "start_time": "2022-06-13T15:48:54.541Z"
   },
   {
    "duration": 159,
    "start_time": "2022-06-13T15:48:54.546Z"
   },
   {
    "duration": 202,
    "start_time": "2022-06-13T15:48:54.707Z"
   },
   {
    "duration": 93,
    "start_time": "2022-06-13T15:48:54.912Z"
   },
   {
    "duration": 6,
    "start_time": "2022-06-13T15:48:55.008Z"
   },
   {
    "duration": 21,
    "start_time": "2022-06-13T15:48:55.015Z"
   },
   {
    "duration": 401,
    "start_time": "2022-06-13T15:48:55.038Z"
   },
   {
    "duration": 125,
    "start_time": "2022-06-13T15:48:55.441Z"
   },
   {
    "duration": 18,
    "start_time": "2022-06-13T15:48:55.568Z"
   },
   {
    "duration": 109929,
    "start_time": "2022-06-13T15:48:55.587Z"
   },
   {
    "duration": 0,
    "start_time": "2022-06-13T15:50:45.519Z"
   },
   {
    "duration": 0,
    "start_time": "2022-06-13T15:50:45.520Z"
   },
   {
    "duration": 0,
    "start_time": "2022-06-13T15:50:45.522Z"
   },
   {
    "duration": 0,
    "start_time": "2022-06-13T15:50:45.524Z"
   },
   {
    "duration": 0,
    "start_time": "2022-06-13T15:50:45.525Z"
   },
   {
    "duration": 0,
    "start_time": "2022-06-13T15:50:45.528Z"
   },
   {
    "duration": 0,
    "start_time": "2022-06-13T15:50:45.529Z"
   },
   {
    "duration": 0,
    "start_time": "2022-06-13T15:50:45.530Z"
   },
   {
    "duration": 0,
    "start_time": "2022-06-13T15:50:45.532Z"
   },
   {
    "duration": 10,
    "start_time": "2022-06-13T15:50:52.046Z"
   },
   {
    "duration": 5886,
    "start_time": "2022-06-13T15:53:44.707Z"
   },
   {
    "duration": 10,
    "start_time": "2022-06-13T15:54:59.181Z"
   },
   {
    "duration": 4697,
    "start_time": "2022-06-13T15:54:59.725Z"
   },
   {
    "duration": 29,
    "start_time": "2022-06-13T15:55:34.504Z"
   },
   {
    "duration": 2,
    "start_time": "2022-06-13T15:55:39.905Z"
   },
   {
    "duration": 47286,
    "start_time": "2022-06-13T15:55:40.425Z"
   },
   {
    "duration": 3,
    "start_time": "2022-06-13T15:58:14.743Z"
   },
   {
    "duration": 49803,
    "start_time": "2022-06-13T15:58:15.423Z"
   },
   {
    "duration": 9,
    "start_time": "2022-06-13T15:59:11.119Z"
   },
   {
    "duration": 685,
    "start_time": "2022-06-13T15:59:13.143Z"
   },
   {
    "duration": 0,
    "start_time": "2022-06-13T15:59:13.830Z"
   },
   {
    "duration": 12,
    "start_time": "2022-06-13T15:59:14.024Z"
   },
   {
    "duration": 704,
    "start_time": "2022-06-13T15:59:19.022Z"
   },
   {
    "duration": 700,
    "start_time": "2022-06-13T15:59:42.022Z"
   },
   {
    "duration": 16,
    "start_time": "2022-06-13T15:59:47.191Z"
   },
   {
    "duration": 5,
    "start_time": "2022-06-13T16:00:02.604Z"
   },
   {
    "duration": 8,
    "start_time": "2022-06-13T16:00:04.363Z"
   },
   {
    "duration": 3,
    "start_time": "2022-06-13T16:00:11.923Z"
   },
   {
    "duration": 41984,
    "start_time": "2022-06-13T16:00:12.203Z"
   },
   {
    "duration": 3,
    "start_time": "2022-06-13T16:00:54.192Z"
   },
   {
    "duration": 0,
    "start_time": "2022-06-13T16:00:54.198Z"
   },
   {
    "duration": 0,
    "start_time": "2022-06-13T16:00:54.199Z"
   },
   {
    "duration": 0,
    "start_time": "2022-06-13T16:00:54.200Z"
   },
   {
    "duration": 1150,
    "start_time": "2022-06-13T16:00:55.788Z"
   },
   {
    "duration": 1121,
    "start_time": "2022-06-13T16:00:56.942Z"
   },
   {
    "duration": 192,
    "start_time": "2022-06-13T16:00:58.072Z"
   },
   {
    "duration": 642,
    "start_time": "2022-06-13T16:00:58.269Z"
   },
   {
    "duration": 692,
    "start_time": "2022-06-13T16:00:58.916Z"
   },
   {
    "duration": 16,
    "start_time": "2022-06-13T16:00:59.612Z"
   },
   {
    "duration": 4,
    "start_time": "2022-06-13T16:00:59.630Z"
   },
   {
    "duration": 49,
    "start_time": "2022-06-13T16:00:59.635Z"
   },
   {
    "duration": 58,
    "start_time": "2022-06-13T16:00:59.687Z"
   },
   {
    "duration": 3,
    "start_time": "2022-06-13T16:00:59.746Z"
   },
   {
    "duration": 172,
    "start_time": "2022-06-13T16:00:59.751Z"
   },
   {
    "duration": 193,
    "start_time": "2022-06-13T16:00:59.925Z"
   },
   {
    "duration": 115,
    "start_time": "2022-06-13T16:01:00.122Z"
   },
   {
    "duration": 4,
    "start_time": "2022-06-13T16:01:00.239Z"
   },
   {
    "duration": 98,
    "start_time": "2022-06-13T16:01:00.245Z"
   },
   {
    "duration": 423,
    "start_time": "2022-06-13T16:01:00.345Z"
   },
   {
    "duration": 143,
    "start_time": "2022-06-13T16:01:00.773Z"
   },
   {
    "duration": 5,
    "start_time": "2022-06-13T16:01:00.918Z"
   },
   {
    "duration": 1261,
    "start_time": "2022-06-13T18:05:47.096Z"
   },
   {
    "duration": 35,
    "start_time": "2022-06-13T18:05:48.368Z"
   },
   {
    "duration": 0,
    "start_time": "2022-06-13T18:05:48.406Z"
   },
   {
    "duration": 0,
    "start_time": "2022-06-13T18:05:48.407Z"
   },
   {
    "duration": 0,
    "start_time": "2022-06-13T18:05:48.408Z"
   },
   {
    "duration": 0,
    "start_time": "2022-06-13T18:05:48.409Z"
   },
   {
    "duration": 0,
    "start_time": "2022-06-13T18:05:48.411Z"
   },
   {
    "duration": 0,
    "start_time": "2022-06-13T18:05:48.412Z"
   },
   {
    "duration": 0,
    "start_time": "2022-06-13T18:05:48.413Z"
   },
   {
    "duration": 0,
    "start_time": "2022-06-13T18:05:48.414Z"
   },
   {
    "duration": 0,
    "start_time": "2022-06-13T18:05:48.415Z"
   },
   {
    "duration": 0,
    "start_time": "2022-06-13T18:05:48.416Z"
   },
   {
    "duration": 0,
    "start_time": "2022-06-13T18:05:48.417Z"
   },
   {
    "duration": 0,
    "start_time": "2022-06-13T18:05:48.418Z"
   },
   {
    "duration": 0,
    "start_time": "2022-06-13T18:05:48.420Z"
   },
   {
    "duration": 0,
    "start_time": "2022-06-13T18:05:48.421Z"
   },
   {
    "duration": 0,
    "start_time": "2022-06-13T18:05:48.422Z"
   },
   {
    "duration": 0,
    "start_time": "2022-06-13T18:05:48.423Z"
   },
   {
    "duration": 0,
    "start_time": "2022-06-13T18:05:48.425Z"
   },
   {
    "duration": 0,
    "start_time": "2022-06-13T18:05:48.426Z"
   },
   {
    "duration": 0,
    "start_time": "2022-06-13T18:05:48.427Z"
   },
   {
    "duration": 0,
    "start_time": "2022-06-13T18:05:48.428Z"
   },
   {
    "duration": 0,
    "start_time": "2022-06-13T18:05:48.429Z"
   },
   {
    "duration": 0,
    "start_time": "2022-06-13T18:05:48.430Z"
   },
   {
    "duration": 0,
    "start_time": "2022-06-13T18:05:48.431Z"
   },
   {
    "duration": 0,
    "start_time": "2022-06-13T18:05:48.432Z"
   },
   {
    "duration": 0,
    "start_time": "2022-06-13T18:05:48.433Z"
   },
   {
    "duration": 0,
    "start_time": "2022-06-13T18:05:48.434Z"
   },
   {
    "duration": 151,
    "start_time": "2022-06-13T18:09:13.882Z"
   },
   {
    "duration": 1239,
    "start_time": "2022-06-13T18:09:19.850Z"
   },
   {
    "duration": 11,
    "start_time": "2022-06-13T18:09:21.093Z"
   },
   {
    "duration": 0,
    "start_time": "2022-06-13T18:09:21.108Z"
   },
   {
    "duration": 0,
    "start_time": "2022-06-13T18:09:21.111Z"
   },
   {
    "duration": 0,
    "start_time": "2022-06-13T18:09:21.113Z"
   },
   {
    "duration": 0,
    "start_time": "2022-06-13T18:09:21.114Z"
   },
   {
    "duration": 0,
    "start_time": "2022-06-13T18:09:21.115Z"
   },
   {
    "duration": 0,
    "start_time": "2022-06-13T18:09:21.117Z"
   },
   {
    "duration": 0,
    "start_time": "2022-06-13T18:09:21.119Z"
   },
   {
    "duration": 0,
    "start_time": "2022-06-13T18:09:21.121Z"
   },
   {
    "duration": 0,
    "start_time": "2022-06-13T18:09:21.122Z"
   },
   {
    "duration": 0,
    "start_time": "2022-06-13T18:09:21.123Z"
   },
   {
    "duration": 0,
    "start_time": "2022-06-13T18:09:21.124Z"
   },
   {
    "duration": 0,
    "start_time": "2022-06-13T18:09:21.126Z"
   },
   {
    "duration": 0,
    "start_time": "2022-06-13T18:09:21.127Z"
   },
   {
    "duration": 0,
    "start_time": "2022-06-13T18:09:21.128Z"
   },
   {
    "duration": 0,
    "start_time": "2022-06-13T18:09:21.129Z"
   },
   {
    "duration": 0,
    "start_time": "2022-06-13T18:09:21.130Z"
   },
   {
    "duration": 0,
    "start_time": "2022-06-13T18:09:21.160Z"
   },
   {
    "duration": 0,
    "start_time": "2022-06-13T18:09:21.162Z"
   },
   {
    "duration": 0,
    "start_time": "2022-06-13T18:09:21.163Z"
   },
   {
    "duration": 0,
    "start_time": "2022-06-13T18:09:21.173Z"
   },
   {
    "duration": 0,
    "start_time": "2022-06-13T18:09:21.175Z"
   },
   {
    "duration": 0,
    "start_time": "2022-06-13T18:09:21.177Z"
   },
   {
    "duration": 1,
    "start_time": "2022-06-13T18:09:21.178Z"
   },
   {
    "duration": 0,
    "start_time": "2022-06-13T18:09:21.180Z"
   },
   {
    "duration": 0,
    "start_time": "2022-06-13T18:09:21.182Z"
   },
   {
    "duration": 0,
    "start_time": "2022-06-13T18:09:21.184Z"
   },
   {
    "duration": 1033,
    "start_time": "2022-06-13T18:09:34.166Z"
   },
   {
    "duration": 1253,
    "start_time": "2022-06-13T18:09:38.900Z"
   },
   {
    "duration": 1168,
    "start_time": "2022-06-13T18:09:40.154Z"
   },
   {
    "duration": 210,
    "start_time": "2022-06-13T18:09:41.324Z"
   },
   {
    "duration": 667,
    "start_time": "2022-06-13T18:09:41.536Z"
   },
   {
    "duration": 664,
    "start_time": "2022-06-13T18:09:42.207Z"
   },
   {
    "duration": 19,
    "start_time": "2022-06-13T18:09:42.873Z"
   },
   {
    "duration": 23,
    "start_time": "2022-06-13T18:09:42.894Z"
   },
   {
    "duration": 28,
    "start_time": "2022-06-13T18:09:42.919Z"
   },
   {
    "duration": 47,
    "start_time": "2022-06-13T18:09:42.948Z"
   },
   {
    "duration": 12,
    "start_time": "2022-06-13T18:09:42.997Z"
   },
   {
    "duration": 134,
    "start_time": "2022-06-13T18:09:43.011Z"
   },
   {
    "duration": 189,
    "start_time": "2022-06-13T18:09:43.147Z"
   },
   {
    "duration": 89,
    "start_time": "2022-06-13T18:09:43.339Z"
   },
   {
    "duration": 3,
    "start_time": "2022-06-13T18:09:43.430Z"
   },
   {
    "duration": 31,
    "start_time": "2022-06-13T18:09:43.435Z"
   },
   {
    "duration": 428,
    "start_time": "2022-06-13T18:09:43.468Z"
   },
   {
    "duration": 127,
    "start_time": "2022-06-13T18:09:43.898Z"
   },
   {
    "duration": 5,
    "start_time": "2022-06-13T18:09:44.027Z"
   },
   {
    "duration": 158,
    "start_time": "2022-06-13T18:09:44.034Z"
   },
   {
    "duration": 0,
    "start_time": "2022-06-13T18:09:44.194Z"
   },
   {
    "duration": 0,
    "start_time": "2022-06-13T18:09:44.195Z"
   },
   {
    "duration": 0,
    "start_time": "2022-06-13T18:09:44.198Z"
   },
   {
    "duration": 0,
    "start_time": "2022-06-13T18:09:44.200Z"
   },
   {
    "duration": 0,
    "start_time": "2022-06-13T18:09:44.203Z"
   },
   {
    "duration": 0,
    "start_time": "2022-06-13T18:09:44.207Z"
   },
   {
    "duration": 0,
    "start_time": "2022-06-13T18:09:44.208Z"
   },
   {
    "duration": 0,
    "start_time": "2022-06-13T18:09:44.211Z"
   },
   {
    "duration": 0,
    "start_time": "2022-06-13T18:09:44.213Z"
   },
   {
    "duration": 5,
    "start_time": "2022-06-13T18:09:58.875Z"
   },
   {
    "duration": 67,
    "start_time": "2022-06-13T18:10:00.579Z"
   },
   {
    "duration": 4,
    "start_time": "2022-06-13T18:10:46.920Z"
   },
   {
    "duration": 687,
    "start_time": "2022-06-13T18:10:47.666Z"
   },
   {
    "duration": 4,
    "start_time": "2022-06-13T18:11:06.040Z"
   },
   {
    "duration": 1177,
    "start_time": "2022-06-13T18:12:56.959Z"
   },
   {
    "duration": 1051,
    "start_time": "2022-06-13T18:12:58.138Z"
   },
   {
    "duration": 165,
    "start_time": "2022-06-13T18:12:59.191Z"
   },
   {
    "duration": 581,
    "start_time": "2022-06-13T18:12:59.364Z"
   },
   {
    "duration": 683,
    "start_time": "2022-06-13T18:12:59.947Z"
   },
   {
    "duration": 16,
    "start_time": "2022-06-13T18:13:00.631Z"
   },
   {
    "duration": 11,
    "start_time": "2022-06-13T18:13:00.660Z"
   },
   {
    "duration": 56,
    "start_time": "2022-06-13T18:13:00.673Z"
   },
   {
    "duration": 45,
    "start_time": "2022-06-13T18:13:00.730Z"
   },
   {
    "duration": 13,
    "start_time": "2022-06-13T18:13:00.777Z"
   },
   {
    "duration": 146,
    "start_time": "2022-06-13T18:13:00.792Z"
   },
   {
    "duration": 166,
    "start_time": "2022-06-13T18:13:00.941Z"
   },
   {
    "duration": 94,
    "start_time": "2022-06-13T18:13:01.109Z"
   },
   {
    "duration": 3,
    "start_time": "2022-06-13T18:13:01.206Z"
   },
   {
    "duration": 31,
    "start_time": "2022-06-13T18:13:01.211Z"
   },
   {
    "duration": 349,
    "start_time": "2022-06-13T18:13:01.244Z"
   },
   {
    "duration": 111,
    "start_time": "2022-06-13T18:13:01.595Z"
   },
   {
    "duration": 3,
    "start_time": "2022-06-13T18:13:01.708Z"
   },
   {
    "duration": 1177,
    "start_time": "2022-06-13T18:13:48.056Z"
   },
   {
    "duration": 1002,
    "start_time": "2022-06-13T18:13:49.235Z"
   },
   {
    "duration": 182,
    "start_time": "2022-06-13T18:13:50.239Z"
   },
   {
    "duration": 625,
    "start_time": "2022-06-13T18:13:50.423Z"
   },
   {
    "duration": 666,
    "start_time": "2022-06-13T18:13:51.051Z"
   },
   {
    "duration": 18,
    "start_time": "2022-06-13T18:13:51.719Z"
   },
   {
    "duration": 4,
    "start_time": "2022-06-13T18:13:51.739Z"
   },
   {
    "duration": 71,
    "start_time": "2022-06-13T18:13:51.774Z"
   },
   {
    "duration": 35,
    "start_time": "2022-06-13T18:13:51.847Z"
   },
   {
    "duration": 32,
    "start_time": "2022-06-13T18:13:51.884Z"
   },
   {
    "duration": 171,
    "start_time": "2022-06-13T18:13:51.919Z"
   },
   {
    "duration": 197,
    "start_time": "2022-06-13T18:13:52.092Z"
   },
   {
    "duration": 91,
    "start_time": "2022-06-13T18:13:52.292Z"
   },
   {
    "duration": 4,
    "start_time": "2022-06-13T18:13:52.388Z"
   },
   {
    "duration": 22,
    "start_time": "2022-06-13T18:13:52.393Z"
   },
   {
    "duration": 323,
    "start_time": "2022-06-13T18:13:52.417Z"
   },
   {
    "duration": 131,
    "start_time": "2022-06-13T18:13:52.742Z"
   },
   {
    "duration": 3,
    "start_time": "2022-06-13T18:13:52.878Z"
   },
   {
    "duration": 131,
    "start_time": "2022-06-13T18:13:52.882Z"
   },
   {
    "duration": 0,
    "start_time": "2022-06-13T18:13:53.015Z"
   },
   {
    "duration": 0,
    "start_time": "2022-06-13T18:13:53.016Z"
   },
   {
    "duration": 0,
    "start_time": "2022-06-13T18:13:53.017Z"
   },
   {
    "duration": 0,
    "start_time": "2022-06-13T18:13:53.018Z"
   },
   {
    "duration": 0,
    "start_time": "2022-06-13T18:13:53.019Z"
   },
   {
    "duration": 0,
    "start_time": "2022-06-13T18:13:53.020Z"
   },
   {
    "duration": 0,
    "start_time": "2022-06-13T18:13:53.021Z"
   },
   {
    "duration": 0,
    "start_time": "2022-06-13T18:13:53.023Z"
   },
   {
    "duration": 0,
    "start_time": "2022-06-13T18:13:53.024Z"
   },
   {
    "duration": 7,
    "start_time": "2022-06-13T18:14:02.245Z"
   },
   {
    "duration": 299,
    "start_time": "2022-06-13T18:14:03.320Z"
   },
   {
    "duration": 4,
    "start_time": "2022-06-13T18:18:31.823Z"
   },
   {
    "duration": 43472,
    "start_time": "2022-06-13T18:18:31.987Z"
   },
   {
    "duration": 1288,
    "start_time": "2022-06-13T18:20:13.423Z"
   },
   {
    "duration": 1088,
    "start_time": "2022-06-13T18:20:14.713Z"
   },
   {
    "duration": 169,
    "start_time": "2022-06-13T18:20:15.803Z"
   },
   {
    "duration": 624,
    "start_time": "2022-06-13T18:20:15.974Z"
   },
   {
    "duration": 712,
    "start_time": "2022-06-13T18:20:16.602Z"
   },
   {
    "duration": 17,
    "start_time": "2022-06-13T18:20:17.317Z"
   },
   {
    "duration": 5,
    "start_time": "2022-06-13T18:20:17.336Z"
   },
   {
    "duration": 39,
    "start_time": "2022-06-13T18:20:17.364Z"
   },
   {
    "duration": 34,
    "start_time": "2022-06-13T18:20:17.406Z"
   },
   {
    "duration": 3,
    "start_time": "2022-06-13T18:20:17.441Z"
   },
   {
    "duration": 150,
    "start_time": "2022-06-13T18:20:17.459Z"
   },
   {
    "duration": 185,
    "start_time": "2022-06-13T18:20:17.611Z"
   },
   {
    "duration": 90,
    "start_time": "2022-06-13T18:20:17.798Z"
   },
   {
    "duration": 3,
    "start_time": "2022-06-13T18:20:17.894Z"
   },
   {
    "duration": 23,
    "start_time": "2022-06-13T18:20:17.901Z"
   },
   {
    "duration": 368,
    "start_time": "2022-06-13T18:20:17.926Z"
   },
   {
    "duration": 116,
    "start_time": "2022-06-13T18:20:18.296Z"
   },
   {
    "duration": 3,
    "start_time": "2022-06-13T18:20:18.414Z"
   },
   {
    "duration": 1294,
    "start_time": "2022-06-13T18:40:57.925Z"
   },
   {
    "duration": 1092,
    "start_time": "2022-06-13T18:40:59.222Z"
   },
   {
    "duration": 178,
    "start_time": "2022-06-13T18:41:00.317Z"
   },
   {
    "duration": 682,
    "start_time": "2022-06-13T18:41:00.498Z"
   },
   {
    "duration": 712,
    "start_time": "2022-06-13T18:41:01.188Z"
   },
   {
    "duration": 19,
    "start_time": "2022-06-13T18:41:01.905Z"
   },
   {
    "duration": 28,
    "start_time": "2022-06-13T18:41:01.926Z"
   },
   {
    "duration": 80,
    "start_time": "2022-06-13T18:41:01.956Z"
   },
   {
    "duration": 79,
    "start_time": "2022-06-13T18:41:02.039Z"
   },
   {
    "duration": 13,
    "start_time": "2022-06-13T18:41:02.121Z"
   },
   {
    "duration": 244,
    "start_time": "2022-06-13T18:41:02.136Z"
   },
   {
    "duration": 200,
    "start_time": "2022-06-13T18:41:02.394Z"
   },
   {
    "duration": 115,
    "start_time": "2022-06-13T18:41:02.597Z"
   },
   {
    "duration": 3,
    "start_time": "2022-06-13T18:41:02.714Z"
   },
   {
    "duration": 32,
    "start_time": "2022-06-13T18:41:02.719Z"
   },
   {
    "duration": 395,
    "start_time": "2022-06-13T18:41:02.754Z"
   },
   {
    "duration": 160,
    "start_time": "2022-06-13T18:41:03.151Z"
   },
   {
    "duration": 4,
    "start_time": "2022-06-13T18:41:03.313Z"
   },
   {
    "duration": 1893198,
    "start_time": "2022-06-13T18:41:03.319Z"
   },
   {
    "duration": 10,
    "start_time": "2022-06-13T19:12:36.519Z"
   },
   {
    "duration": 56,
    "start_time": "2022-06-13T19:12:36.531Z"
   },
   {
    "duration": 5,
    "start_time": "2022-06-13T19:12:36.589Z"
   },
   {
    "duration": 6,
    "start_time": "2022-06-13T19:12:36.596Z"
   },
   {
    "duration": 4,
    "start_time": "2022-06-13T19:12:36.604Z"
   },
   {
    "duration": 751778,
    "start_time": "2022-06-13T19:12:36.610Z"
   },
   {
    "duration": 2104,
    "start_time": "2022-06-13T19:25:08.390Z"
   },
   {
    "duration": 138,
    "start_time": "2022-06-13T19:25:10.495Z"
   },
   {
    "duration": 0,
    "start_time": "2022-06-13T19:25:10.635Z"
   },
   {
    "duration": 9,
    "start_time": "2022-06-13T19:25:59.097Z"
   },
   {
    "duration": 683,
    "start_time": "2022-06-13T19:26:22.414Z"
   },
   {
    "duration": 5,
    "start_time": "2022-06-13T19:26:33.798Z"
   },
   {
    "duration": 4,
    "start_time": "2022-06-13T19:26:39.815Z"
   },
   {
    "duration": 5,
    "start_time": "2022-06-13T19:26:43.387Z"
   },
   {
    "duration": 5,
    "start_time": "2022-06-13T19:26:47.390Z"
   },
   {
    "duration": 11,
    "start_time": "2022-06-13T19:26:57.643Z"
   },
   {
    "duration": 4,
    "start_time": "2022-06-13T20:35:01.853Z"
   },
   {
    "duration": 12106,
    "start_time": "2022-06-13T20:35:02.113Z"
   },
   {
    "duration": 0,
    "start_time": "2022-06-13T20:35:14.231Z"
   },
   {
    "duration": 5101,
    "start_time": "2022-06-13T20:35:21.656Z"
   },
   {
    "duration": 4822,
    "start_time": "2022-06-13T20:35:26.766Z"
   },
   {
    "duration": 260,
    "start_time": "2022-06-13T20:35:31.594Z"
   },
   {
    "duration": 795,
    "start_time": "2022-06-13T20:35:31.856Z"
   },
   {
    "duration": 826,
    "start_time": "2022-06-13T20:35:32.659Z"
   },
   {
    "duration": 36,
    "start_time": "2022-06-13T20:35:33.495Z"
   },
   {
    "duration": 35,
    "start_time": "2022-06-13T20:35:33.534Z"
   },
   {
    "duration": 145,
    "start_time": "2022-06-13T20:35:33.571Z"
   },
   {
    "duration": 106,
    "start_time": "2022-06-13T20:35:33.722Z"
   },
   {
    "duration": 125,
    "start_time": "2022-06-13T20:35:33.830Z"
   },
   {
    "duration": 294,
    "start_time": "2022-06-13T20:35:33.957Z"
   },
   {
    "duration": 229,
    "start_time": "2022-06-13T20:35:34.253Z"
   },
   {
    "duration": 129,
    "start_time": "2022-06-13T20:35:34.495Z"
   },
   {
    "duration": 5,
    "start_time": "2022-06-13T20:35:34.634Z"
   },
   {
    "duration": 29,
    "start_time": "2022-06-13T20:35:34.641Z"
   },
   {
    "duration": 510,
    "start_time": "2022-06-13T20:35:34.672Z"
   },
   {
    "duration": 153,
    "start_time": "2022-06-13T20:35:35.192Z"
   },
   {
    "duration": 4,
    "start_time": "2022-06-13T20:35:35.348Z"
   },
   {
    "duration": 1558,
    "start_time": "2022-06-13T20:44:58.437Z"
   },
   {
    "duration": 1431,
    "start_time": "2022-06-13T20:44:59.998Z"
   },
   {
    "duration": 287,
    "start_time": "2022-06-13T20:45:01.431Z"
   },
   {
    "duration": 854,
    "start_time": "2022-06-13T20:45:01.721Z"
   },
   {
    "duration": 898,
    "start_time": "2022-06-13T20:45:02.587Z"
   },
   {
    "duration": 34,
    "start_time": "2022-06-13T20:45:03.490Z"
   },
   {
    "duration": 125,
    "start_time": "2022-06-13T20:45:03.526Z"
   },
   {
    "duration": 313,
    "start_time": "2022-06-13T20:45:03.653Z"
   },
   {
    "duration": 0,
    "start_time": "2022-06-13T20:45:03.970Z"
   },
   {
    "duration": 0,
    "start_time": "2022-06-13T20:45:03.972Z"
   },
   {
    "duration": 0,
    "start_time": "2022-06-13T20:45:03.977Z"
   },
   {
    "duration": 0,
    "start_time": "2022-06-13T20:45:03.979Z"
   },
   {
    "duration": 0,
    "start_time": "2022-06-13T20:45:03.980Z"
   },
   {
    "duration": 0,
    "start_time": "2022-06-13T20:45:03.981Z"
   },
   {
    "duration": 0,
    "start_time": "2022-06-13T20:45:03.983Z"
   },
   {
    "duration": 0,
    "start_time": "2022-06-13T20:45:03.984Z"
   },
   {
    "duration": 0,
    "start_time": "2022-06-13T20:45:03.993Z"
   },
   {
    "duration": 0,
    "start_time": "2022-06-13T20:45:03.996Z"
   },
   {
    "duration": 0,
    "start_time": "2022-06-13T20:45:03.998Z"
   },
   {
    "duration": 0,
    "start_time": "2022-06-13T20:45:03.999Z"
   },
   {
    "duration": 0,
    "start_time": "2022-06-13T20:45:04.000Z"
   },
   {
    "duration": 0,
    "start_time": "2022-06-13T20:45:04.005Z"
   },
   {
    "duration": 0,
    "start_time": "2022-06-13T20:45:04.006Z"
   },
   {
    "duration": 0,
    "start_time": "2022-06-13T20:45:04.007Z"
   },
   {
    "duration": 0,
    "start_time": "2022-06-13T20:45:04.009Z"
   },
   {
    "duration": 1,
    "start_time": "2022-06-13T20:45:04.010Z"
   },
   {
    "duration": 0,
    "start_time": "2022-06-13T20:45:04.012Z"
   },
   {
    "duration": 0,
    "start_time": "2022-06-13T20:45:04.014Z"
   },
   {
    "duration": 54,
    "start_time": "2022-06-13T20:46:07.783Z"
   },
   {
    "duration": 6,
    "start_time": "2022-06-13T20:46:09.088Z"
   },
   {
    "duration": 216,
    "start_time": "2022-06-13T20:46:09.399Z"
   },
   {
    "duration": 286,
    "start_time": "2022-06-13T20:46:09.656Z"
   },
   {
    "duration": 1386,
    "start_time": "2022-06-13T20:47:41.137Z"
   },
   {
    "duration": 1269,
    "start_time": "2022-06-13T20:47:42.526Z"
   },
   {
    "duration": 257,
    "start_time": "2022-06-13T20:47:43.797Z"
   },
   {
    "duration": 163,
    "start_time": "2022-06-13T20:47:44.065Z"
   },
   {
    "duration": 0,
    "start_time": "2022-06-13T20:47:44.231Z"
   },
   {
    "duration": 0,
    "start_time": "2022-06-13T20:47:44.232Z"
   },
   {
    "duration": 0,
    "start_time": "2022-06-13T20:47:44.234Z"
   },
   {
    "duration": 0,
    "start_time": "2022-06-13T20:47:44.235Z"
   },
   {
    "duration": 0,
    "start_time": "2022-06-13T20:47:44.235Z"
   },
   {
    "duration": 0,
    "start_time": "2022-06-13T20:47:44.236Z"
   },
   {
    "duration": 0,
    "start_time": "2022-06-13T20:47:44.238Z"
   },
   {
    "duration": 0,
    "start_time": "2022-06-13T20:47:44.238Z"
   },
   {
    "duration": 0,
    "start_time": "2022-06-13T20:47:44.239Z"
   },
   {
    "duration": 0,
    "start_time": "2022-06-13T20:47:44.240Z"
   },
   {
    "duration": 0,
    "start_time": "2022-06-13T20:47:44.241Z"
   },
   {
    "duration": 0,
    "start_time": "2022-06-13T20:47:44.242Z"
   },
   {
    "duration": 0,
    "start_time": "2022-06-13T20:47:44.269Z"
   },
   {
    "duration": 0,
    "start_time": "2022-06-13T20:47:44.270Z"
   },
   {
    "duration": 0,
    "start_time": "2022-06-13T20:47:44.271Z"
   },
   {
    "duration": 0,
    "start_time": "2022-06-13T20:47:44.271Z"
   },
   {
    "duration": 0,
    "start_time": "2022-06-13T20:47:44.272Z"
   },
   {
    "duration": 0,
    "start_time": "2022-06-13T20:47:44.273Z"
   },
   {
    "duration": 0,
    "start_time": "2022-06-13T20:47:44.274Z"
   },
   {
    "duration": 0,
    "start_time": "2022-06-13T20:47:44.274Z"
   },
   {
    "duration": 0,
    "start_time": "2022-06-13T20:47:44.275Z"
   },
   {
    "duration": 0,
    "start_time": "2022-06-13T20:47:44.275Z"
   },
   {
    "duration": 0,
    "start_time": "2022-06-13T20:47:44.276Z"
   },
   {
    "duration": 0,
    "start_time": "2022-06-13T20:47:44.277Z"
   },
   {
    "duration": 4,
    "start_time": "2022-06-13T20:47:56.520Z"
   },
   {
    "duration": 20,
    "start_time": "2022-06-13T20:48:02.717Z"
   },
   {
    "duration": 14,
    "start_time": "2022-06-13T20:48:06.422Z"
   },
   {
    "duration": 31,
    "start_time": "2022-06-13T20:49:27.882Z"
   },
   {
    "duration": 19,
    "start_time": "2022-06-13T20:49:33.029Z"
   },
   {
    "duration": 30,
    "start_time": "2022-06-13T20:50:13.204Z"
   },
   {
    "duration": 1228,
    "start_time": "2022-06-13T20:51:59.225Z"
   },
   {
    "duration": 1076,
    "start_time": "2022-06-13T20:52:00.455Z"
   },
   {
    "duration": 207,
    "start_time": "2022-06-13T20:52:01.532Z"
   },
   {
    "duration": 81,
    "start_time": "2022-06-13T20:52:01.741Z"
   },
   {
    "duration": 318,
    "start_time": "2022-06-13T20:52:01.827Z"
   },
   {
    "duration": 360,
    "start_time": "2022-06-13T20:52:02.147Z"
   },
   {
    "duration": 19,
    "start_time": "2022-06-13T20:52:02.511Z"
   },
   {
    "duration": 6,
    "start_time": "2022-06-13T20:52:02.532Z"
   },
   {
    "duration": 55,
    "start_time": "2022-06-13T20:52:02.540Z"
   },
   {
    "duration": 15,
    "start_time": "2022-06-13T20:52:02.601Z"
   },
   {
    "duration": 173,
    "start_time": "2022-06-13T20:52:02.618Z"
   },
   {
    "duration": 180,
    "start_time": "2022-06-13T20:52:02.798Z"
   },
   {
    "duration": 71,
    "start_time": "2022-06-13T20:52:02.984Z"
   },
   {
    "duration": 11,
    "start_time": "2022-06-13T20:52:03.064Z"
   },
   {
    "duration": 36,
    "start_time": "2022-06-13T20:52:03.085Z"
   },
   {
    "duration": 352,
    "start_time": "2022-06-13T20:52:03.123Z"
   },
   {
    "duration": 122,
    "start_time": "2022-06-13T20:52:03.483Z"
   },
   {
    "duration": 4,
    "start_time": "2022-06-13T20:52:03.610Z"
   },
   {
    "duration": 76026,
    "start_time": "2022-06-13T20:52:03.616Z"
   },
   {
    "duration": 1,
    "start_time": "2022-06-13T20:53:19.643Z"
   },
   {
    "duration": 0,
    "start_time": "2022-06-13T20:53:19.645Z"
   },
   {
    "duration": 0,
    "start_time": "2022-06-13T20:53:19.646Z"
   },
   {
    "duration": 0,
    "start_time": "2022-06-13T20:53:19.648Z"
   },
   {
    "duration": 0,
    "start_time": "2022-06-13T20:53:19.649Z"
   },
   {
    "duration": 0,
    "start_time": "2022-06-13T20:53:19.650Z"
   },
   {
    "duration": 0,
    "start_time": "2022-06-13T20:53:19.652Z"
   },
   {
    "duration": 0,
    "start_time": "2022-06-13T20:53:19.653Z"
   },
   {
    "duration": 0,
    "start_time": "2022-06-13T20:53:19.654Z"
   },
   {
    "duration": 1345,
    "start_time": "2022-06-13T20:53:45.957Z"
   },
   {
    "duration": 1095,
    "start_time": "2022-06-13T20:53:47.308Z"
   },
   {
    "duration": 185,
    "start_time": "2022-06-13T20:53:48.405Z"
   },
   {
    "duration": 76,
    "start_time": "2022-06-13T20:53:48.592Z"
   },
   {
    "duration": 298,
    "start_time": "2022-06-13T20:53:48.678Z"
   },
   {
    "duration": 230,
    "start_time": "2022-06-13T20:53:48.986Z"
   },
   {
    "duration": 14,
    "start_time": "2022-06-13T20:53:49.217Z"
   },
   {
    "duration": 5,
    "start_time": "2022-06-13T20:53:49.232Z"
   },
   {
    "duration": 43,
    "start_time": "2022-06-13T20:53:49.238Z"
   },
   {
    "duration": 7,
    "start_time": "2022-06-13T20:53:49.287Z"
   },
   {
    "duration": 175,
    "start_time": "2022-06-13T20:53:49.298Z"
   },
   {
    "duration": 169,
    "start_time": "2022-06-13T20:53:49.475Z"
   },
   {
    "duration": 76,
    "start_time": "2022-06-13T20:53:49.646Z"
   },
   {
    "duration": 3,
    "start_time": "2022-06-13T20:53:49.725Z"
   },
   {
    "duration": 17,
    "start_time": "2022-06-13T20:53:49.730Z"
   },
   {
    "duration": 337,
    "start_time": "2022-06-13T20:53:49.749Z"
   },
   {
    "duration": 119,
    "start_time": "2022-06-13T20:53:50.088Z"
   },
   {
    "duration": 3,
    "start_time": "2022-06-13T20:53:50.210Z"
   },
   {
    "duration": 1242,
    "start_time": "2022-06-13T20:55:40.306Z"
   },
   {
    "duration": 1181,
    "start_time": "2022-06-13T20:55:41.551Z"
   },
   {
    "duration": 206,
    "start_time": "2022-06-13T20:55:42.733Z"
   },
   {
    "duration": 77,
    "start_time": "2022-06-13T20:55:42.941Z"
   },
   {
    "duration": 125,
    "start_time": "2022-06-13T20:55:43.021Z"
   },
   {
    "duration": 0,
    "start_time": "2022-06-13T20:55:43.149Z"
   },
   {
    "duration": 0,
    "start_time": "2022-06-13T20:55:43.150Z"
   },
   {
    "duration": 0,
    "start_time": "2022-06-13T20:55:43.162Z"
   },
   {
    "duration": 0,
    "start_time": "2022-06-13T20:55:43.162Z"
   },
   {
    "duration": 0,
    "start_time": "2022-06-13T20:55:43.163Z"
   },
   {
    "duration": 0,
    "start_time": "2022-06-13T20:55:43.164Z"
   },
   {
    "duration": 0,
    "start_time": "2022-06-13T20:55:43.164Z"
   },
   {
    "duration": 0,
    "start_time": "2022-06-13T20:55:43.165Z"
   },
   {
    "duration": 0,
    "start_time": "2022-06-13T20:55:43.166Z"
   },
   {
    "duration": 0,
    "start_time": "2022-06-13T20:55:43.167Z"
   },
   {
    "duration": 0,
    "start_time": "2022-06-13T20:55:43.167Z"
   },
   {
    "duration": 0,
    "start_time": "2022-06-13T20:55:43.168Z"
   },
   {
    "duration": 0,
    "start_time": "2022-06-13T20:55:43.171Z"
   },
   {
    "duration": 0,
    "start_time": "2022-06-13T20:55:43.172Z"
   },
   {
    "duration": 0,
    "start_time": "2022-06-13T20:55:43.174Z"
   },
   {
    "duration": 0,
    "start_time": "2022-06-13T20:55:43.175Z"
   },
   {
    "duration": 0,
    "start_time": "2022-06-13T20:55:43.176Z"
   },
   {
    "duration": 0,
    "start_time": "2022-06-13T20:55:43.178Z"
   },
   {
    "duration": 0,
    "start_time": "2022-06-13T20:55:43.179Z"
   },
   {
    "duration": 0,
    "start_time": "2022-06-13T20:55:43.181Z"
   },
   {
    "duration": 0,
    "start_time": "2022-06-13T20:55:43.182Z"
   },
   {
    "duration": 0,
    "start_time": "2022-06-13T20:55:43.183Z"
   },
   {
    "duration": 0,
    "start_time": "2022-06-13T20:55:43.185Z"
   },
   {
    "duration": 0,
    "start_time": "2022-06-13T20:55:43.186Z"
   },
   {
    "duration": 0,
    "start_time": "2022-06-13T20:55:43.187Z"
   },
   {
    "duration": 8,
    "start_time": "2022-06-13T20:55:48.449Z"
   },
   {
    "duration": 271,
    "start_time": "2022-06-13T20:55:50.817Z"
   },
   {
    "duration": 273,
    "start_time": "2022-06-13T20:55:51.091Z"
   },
   {
    "duration": 4,
    "start_time": "2022-06-13T20:55:53.534Z"
   },
   {
    "duration": 13,
    "start_time": "2022-06-13T20:55:57.938Z"
   },
   {
    "duration": 3,
    "start_time": "2022-06-13T20:55:58.152Z"
   },
   {
    "duration": 23,
    "start_time": "2022-06-13T20:55:58.686Z"
   },
   {
    "duration": 5,
    "start_time": "2022-06-13T20:55:58.898Z"
   },
   {
    "duration": 135,
    "start_time": "2022-06-13T20:55:59.086Z"
   },
   {
    "duration": 183,
    "start_time": "2022-06-13T20:55:59.284Z"
   },
   {
    "duration": 94,
    "start_time": "2022-06-13T20:55:59.654Z"
   },
   {
    "duration": 5,
    "start_time": "2022-06-13T20:56:00.059Z"
   },
   {
    "duration": 20,
    "start_time": "2022-06-13T20:56:00.381Z"
   },
   {
    "duration": 365,
    "start_time": "2022-06-13T20:56:00.558Z"
   },
   {
    "duration": 113,
    "start_time": "2022-06-13T20:56:00.925Z"
   },
   {
    "duration": 3,
    "start_time": "2022-06-13T20:56:01.142Z"
   },
   {
    "duration": 22092,
    "start_time": "2022-06-13T20:56:01.322Z"
   },
   {
    "duration": 0,
    "start_time": "2022-06-13T20:56:23.418Z"
   },
   {
    "duration": 0,
    "start_time": "2022-06-13T20:56:23.419Z"
   },
   {
    "duration": 0,
    "start_time": "2022-06-13T20:56:23.420Z"
   },
   {
    "duration": 0,
    "start_time": "2022-06-13T20:56:23.421Z"
   },
   {
    "duration": 0,
    "start_time": "2022-06-13T20:56:23.422Z"
   },
   {
    "duration": 0,
    "start_time": "2022-06-13T20:56:23.423Z"
   },
   {
    "duration": 0,
    "start_time": "2022-06-13T20:56:23.426Z"
   },
   {
    "duration": 0,
    "start_time": "2022-06-13T20:56:23.427Z"
   },
   {
    "duration": 0,
    "start_time": "2022-06-13T20:56:23.428Z"
   },
   {
    "duration": 1271,
    "start_time": "2022-06-13T20:56:30.429Z"
   },
   {
    "duration": 1179,
    "start_time": "2022-06-13T20:56:31.702Z"
   },
   {
    "duration": 193,
    "start_time": "2022-06-13T20:56:32.883Z"
   },
   {
    "duration": 71,
    "start_time": "2022-06-13T20:56:33.077Z"
   },
   {
    "duration": 14,
    "start_time": "2022-06-13T20:56:33.151Z"
   },
   {
    "duration": 307,
    "start_time": "2022-06-13T20:56:33.173Z"
   },
   {
    "duration": 288,
    "start_time": "2022-06-13T20:56:33.482Z"
   },
   {
    "duration": 7,
    "start_time": "2022-06-13T20:56:33.780Z"
   },
   {
    "duration": 49,
    "start_time": "2022-06-13T20:56:33.790Z"
   },
   {
    "duration": 4,
    "start_time": "2022-06-13T20:56:33.841Z"
   },
   {
    "duration": 31,
    "start_time": "2022-06-13T20:56:33.846Z"
   },
   {
    "duration": 35,
    "start_time": "2022-06-13T20:56:33.881Z"
   },
   {
    "duration": 147,
    "start_time": "2022-06-13T20:56:33.919Z"
   },
   {
    "duration": 174,
    "start_time": "2022-06-13T20:56:34.069Z"
   },
   {
    "duration": 79,
    "start_time": "2022-06-13T20:56:34.245Z"
   },
   {
    "duration": 3,
    "start_time": "2022-06-13T20:56:34.326Z"
   },
   {
    "duration": 14,
    "start_time": "2022-06-13T20:56:34.331Z"
   },
   {
    "duration": 351,
    "start_time": "2022-06-13T20:56:34.358Z"
   },
   {
    "duration": 114,
    "start_time": "2022-06-13T20:56:34.718Z"
   },
   {
    "duration": 4,
    "start_time": "2022-06-13T20:56:34.833Z"
   },
   {
    "duration": 1433565,
    "start_time": "2022-06-13T20:56:34.838Z"
   },
   {
    "duration": 0,
    "start_time": "2022-06-13T21:20:28.404Z"
   },
   {
    "duration": 0,
    "start_time": "2022-06-13T21:20:28.405Z"
   },
   {
    "duration": 0,
    "start_time": "2022-06-13T21:20:28.407Z"
   },
   {
    "duration": 0,
    "start_time": "2022-06-13T21:20:28.407Z"
   },
   {
    "duration": 0,
    "start_time": "2022-06-13T21:20:28.408Z"
   },
   {
    "duration": 0,
    "start_time": "2022-06-13T21:20:28.409Z"
   },
   {
    "duration": 0,
    "start_time": "2022-06-13T21:20:28.410Z"
   },
   {
    "duration": 0,
    "start_time": "2022-06-13T21:20:28.412Z"
   },
   {
    "duration": 0,
    "start_time": "2022-06-13T21:20:28.413Z"
   },
   {
    "duration": 1115,
    "start_time": "2022-06-14T19:31:33.104Z"
   },
   {
    "duration": 1234,
    "start_time": "2022-06-14T19:31:34.221Z"
   },
   {
    "duration": 134,
    "start_time": "2022-06-14T19:31:35.457Z"
   },
   {
    "duration": 47,
    "start_time": "2022-06-14T19:31:35.593Z"
   },
   {
    "duration": 14,
    "start_time": "2022-06-14T19:31:35.651Z"
   },
   {
    "duration": 271,
    "start_time": "2022-06-14T19:31:35.667Z"
   },
   {
    "duration": 254,
    "start_time": "2022-06-14T19:31:35.940Z"
   },
   {
    "duration": 5,
    "start_time": "2022-06-14T19:31:36.195Z"
   },
   {
    "duration": 18,
    "start_time": "2022-06-14T19:31:36.202Z"
   },
   {
    "duration": 5,
    "start_time": "2022-06-14T19:31:36.222Z"
   },
   {
    "duration": 21,
    "start_time": "2022-06-14T19:31:36.251Z"
   },
   {
    "duration": 3,
    "start_time": "2022-06-14T19:31:36.273Z"
   },
   {
    "duration": 107,
    "start_time": "2022-06-14T19:31:36.278Z"
   },
   {
    "duration": 120,
    "start_time": "2022-06-14T19:31:36.387Z"
   },
   {
    "duration": 63,
    "start_time": "2022-06-14T19:31:36.508Z"
   },
   {
    "duration": 3,
    "start_time": "2022-06-14T19:31:36.573Z"
   },
   {
    "duration": 14,
    "start_time": "2022-06-14T19:31:36.578Z"
   },
   {
    "duration": 314,
    "start_time": "2022-06-14T19:31:36.594Z"
   },
   {
    "duration": 95,
    "start_time": "2022-06-14T19:31:36.910Z"
   },
   {
    "duration": 3,
    "start_time": "2022-06-14T19:31:37.006Z"
   },
   {
    "duration": 1117432,
    "start_time": "2022-06-14T19:31:37.010Z"
   },
   {
    "duration": 9,
    "start_time": "2022-06-14T19:50:14.444Z"
   },
   {
    "duration": 36,
    "start_time": "2022-06-14T19:50:14.455Z"
   },
   {
    "duration": 4,
    "start_time": "2022-06-14T19:50:14.492Z"
   },
   {
    "duration": 21,
    "start_time": "2022-06-14T19:50:14.498Z"
   },
   {
    "duration": 254805,
    "start_time": "2022-06-14T19:50:14.521Z"
   },
   {
    "duration": 114,
    "start_time": "2022-06-14T20:43:55.979Z"
   },
   {
    "duration": 119,
    "start_time": "2022-06-14T20:44:55.380Z"
   },
   {
    "duration": 4,
    "start_time": "2022-06-14T20:45:04.719Z"
   },
   {
    "duration": 5,
    "start_time": "2022-06-14T20:45:10.654Z"
   },
   {
    "duration": 3,
    "start_time": "2022-06-14T20:45:14.784Z"
   },
   {
    "duration": 4,
    "start_time": "2022-06-14T20:45:18.218Z"
   },
   {
    "duration": 31,
    "start_time": "2022-06-14T20:52:20.142Z"
   },
   {
    "duration": 21,
    "start_time": "2022-06-14T20:53:25.478Z"
   },
   {
    "duration": 15,
    "start_time": "2022-06-14T20:53:39.055Z"
   },
   {
    "duration": 12,
    "start_time": "2022-06-14T20:54:04.616Z"
   },
   {
    "duration": 15,
    "start_time": "2022-06-14T20:54:17.120Z"
   },
   {
    "duration": 32,
    "start_time": "2022-06-14T20:54:33.207Z"
   },
   {
    "duration": 92,
    "start_time": "2022-06-14T20:54:42.428Z"
   },
   {
    "duration": 15,
    "start_time": "2022-06-14T20:54:47.567Z"
   },
   {
    "duration": 135,
    "start_time": "2022-06-14T20:54:57.250Z"
   },
   {
    "duration": 27,
    "start_time": "2022-06-14T20:55:10.015Z"
   },
   {
    "duration": 3,
    "start_time": "2022-06-14T20:57:08.600Z"
   },
   {
    "duration": 3,
    "start_time": "2022-06-14T21:02:24.637Z"
   },
   {
    "duration": 82,
    "start_time": "2022-06-14T21:02:36.868Z"
   },
   {
    "duration": 3,
    "start_time": "2022-06-14T21:02:40.020Z"
   },
   {
    "duration": 13,
    "start_time": "2022-06-14T21:03:05.813Z"
   },
   {
    "duration": 22,
    "start_time": "2022-06-14T21:05:58.024Z"
   },
   {
    "duration": 12,
    "start_time": "2022-06-14T21:08:23.035Z"
   },
   {
    "duration": 12,
    "start_time": "2022-06-14T21:08:37.604Z"
   },
   {
    "duration": 15,
    "start_time": "2022-06-14T21:11:22.363Z"
   },
   {
    "duration": 139,
    "start_time": "2022-06-14T21:33:10.377Z"
   },
   {
    "duration": 16,
    "start_time": "2022-06-14T21:59:04.795Z"
   },
   {
    "duration": 10,
    "start_time": "2022-06-14T21:59:05.466Z"
   },
   {
    "duration": 3,
    "start_time": "2022-06-14T21:59:25.857Z"
   },
   {
    "duration": 43,
    "start_time": "2022-06-14T21:59:29.353Z"
   },
   {
    "duration": 1099,
    "start_time": "2022-06-14T22:00:49.003Z"
   },
   {
    "duration": 856,
    "start_time": "2022-06-14T22:00:50.104Z"
   },
   {
    "duration": 122,
    "start_time": "2022-06-14T22:00:50.962Z"
   },
   {
    "duration": 58,
    "start_time": "2022-06-14T22:00:51.095Z"
   },
   {
    "duration": 11,
    "start_time": "2022-06-14T22:00:51.156Z"
   },
   {
    "duration": 211,
    "start_time": "2022-06-14T22:00:51.169Z"
   },
   {
    "duration": 194,
    "start_time": "2022-06-14T22:00:51.382Z"
   },
   {
    "duration": 3,
    "start_time": "2022-06-14T22:00:51.578Z"
   },
   {
    "duration": 19,
    "start_time": "2022-06-14T22:00:51.583Z"
   },
   {
    "duration": 4,
    "start_time": "2022-06-14T22:00:51.604Z"
   },
   {
    "duration": 42,
    "start_time": "2022-06-14T22:00:51.610Z"
   },
   {
    "duration": 2,
    "start_time": "2022-06-14T22:00:51.655Z"
   },
   {
    "duration": 101,
    "start_time": "2022-06-14T22:00:51.659Z"
   },
   {
    "duration": 125,
    "start_time": "2022-06-14T22:00:51.763Z"
   },
   {
    "duration": 156,
    "start_time": "2022-06-14T22:00:51.890Z"
   },
   {
    "duration": 23,
    "start_time": "2022-06-14T22:00:52.051Z"
   },
   {
    "duration": 38,
    "start_time": "2022-06-14T22:00:52.076Z"
   },
   {
    "duration": 3,
    "start_time": "2022-06-14T22:00:52.116Z"
   },
   {
    "duration": 32,
    "start_time": "2022-06-14T22:00:52.121Z"
   },
   {
    "duration": 262,
    "start_time": "2022-06-14T22:00:52.155Z"
   },
   {
    "duration": 93,
    "start_time": "2022-06-14T22:00:52.418Z"
   },
   {
    "duration": 3,
    "start_time": "2022-06-14T22:00:52.513Z"
   },
   {
    "duration": 10,
    "start_time": "2022-06-14T22:00:52.518Z"
   },
   {
    "duration": 10,
    "start_time": "2022-06-14T22:00:52.530Z"
   },
   {
    "duration": 10,
    "start_time": "2022-06-14T22:00:52.542Z"
   },
   {
    "duration": 19,
    "start_time": "2022-06-14T22:00:52.554Z"
   },
   {
    "duration": 4,
    "start_time": "2022-06-14T22:01:29.483Z"
   },
   {
    "duration": 4,
    "start_time": "2022-06-14T22:01:30.907Z"
   },
   {
    "duration": 19,
    "start_time": "2022-06-14T22:01:33.206Z"
   },
   {
    "duration": 1053,
    "start_time": "2022-06-14T22:05:06.395Z"
   },
   {
    "duration": 778,
    "start_time": "2022-06-14T22:05:07.450Z"
   },
   {
    "duration": 126,
    "start_time": "2022-06-14T22:05:08.230Z"
   },
   {
    "duration": 63,
    "start_time": "2022-06-14T22:05:08.358Z"
   },
   {
    "duration": 29,
    "start_time": "2022-06-14T22:05:08.424Z"
   },
   {
    "duration": 232,
    "start_time": "2022-06-14T22:05:08.455Z"
   },
   {
    "duration": 197,
    "start_time": "2022-06-14T22:05:08.689Z"
   },
   {
    "duration": 4,
    "start_time": "2022-06-14T22:05:08.887Z"
   },
   {
    "duration": 25,
    "start_time": "2022-06-14T22:05:08.893Z"
   },
   {
    "duration": 4,
    "start_time": "2022-06-14T22:05:08.920Z"
   },
   {
    "duration": 38,
    "start_time": "2022-06-14T22:05:08.925Z"
   },
   {
    "duration": 3,
    "start_time": "2022-06-14T22:05:08.965Z"
   },
   {
    "duration": 99,
    "start_time": "2022-06-14T22:05:08.970Z"
   },
   {
    "duration": 140,
    "start_time": "2022-06-14T22:05:09.072Z"
   },
   {
    "duration": 72,
    "start_time": "2022-06-14T22:05:09.214Z"
   },
   {
    "duration": 167,
    "start_time": "2022-06-14T22:05:09.289Z"
   },
   {
    "duration": 21,
    "start_time": "2022-06-14T22:05:09.457Z"
   },
   {
    "duration": 499,
    "start_time": "2022-06-14T22:05:09.480Z"
   },
   {
    "duration": 2,
    "start_time": "2022-06-14T22:05:09.981Z"
   },
   {
    "duration": 19,
    "start_time": "2022-06-14T22:05:09.985Z"
   },
   {
    "duration": 283,
    "start_time": "2022-06-14T22:05:10.005Z"
   },
   {
    "duration": 95,
    "start_time": "2022-06-14T22:05:10.290Z"
   },
   {
    "duration": 3,
    "start_time": "2022-06-14T22:05:10.387Z"
   },
   {
    "duration": 7,
    "start_time": "2022-06-14T22:05:10.391Z"
   },
   {
    "duration": 8,
    "start_time": "2022-06-14T22:05:10.400Z"
   },
   {
    "duration": 7,
    "start_time": "2022-06-14T22:05:10.410Z"
   },
   {
    "duration": 6,
    "start_time": "2022-06-14T22:05:10.419Z"
   },
   {
    "duration": 99,
    "start_time": "2022-06-14T22:06:15.396Z"
   },
   {
    "duration": 64,
    "start_time": "2022-06-14T22:06:52.183Z"
   },
   {
    "duration": 56,
    "start_time": "2022-06-14T22:07:09.502Z"
   },
   {
    "duration": 62,
    "start_time": "2022-06-14T22:07:14.171Z"
   },
   {
    "duration": 114,
    "start_time": "2022-06-14T22:08:01.272Z"
   },
   {
    "duration": 22,
    "start_time": "2022-06-14T22:10:04.647Z"
   },
   {
    "duration": 10,
    "start_time": "2022-06-14T22:11:28.279Z"
   },
   {
    "duration": 365615,
    "start_time": "2022-06-14T22:11:54.059Z"
   },
   {
    "duration": 4,
    "start_time": "2022-06-14T22:23:19.112Z"
   },
   {
    "duration": 1064,
    "start_time": "2022-06-14T22:23:24.693Z"
   },
   {
    "duration": 781,
    "start_time": "2022-06-14T22:23:25.759Z"
   },
   {
    "duration": 117,
    "start_time": "2022-06-14T22:23:26.542Z"
   },
   {
    "duration": 48,
    "start_time": "2022-06-14T22:23:26.662Z"
   },
   {
    "duration": 12,
    "start_time": "2022-06-14T22:23:26.712Z"
   },
   {
    "duration": 194,
    "start_time": "2022-06-14T22:23:26.726Z"
   },
   {
    "duration": 176,
    "start_time": "2022-06-14T22:23:26.922Z"
   },
   {
    "duration": 5,
    "start_time": "2022-06-14T22:23:27.099Z"
   },
   {
    "duration": 14,
    "start_time": "2022-06-14T22:23:27.106Z"
   },
   {
    "duration": 3,
    "start_time": "2022-06-14T22:23:27.124Z"
   },
   {
    "duration": 51,
    "start_time": "2022-06-14T22:23:27.129Z"
   },
   {
    "duration": 3,
    "start_time": "2022-06-14T22:23:27.182Z"
   },
   {
    "duration": 80,
    "start_time": "2022-06-14T22:23:27.188Z"
   },
   {
    "duration": 121,
    "start_time": "2022-06-14T22:23:27.270Z"
   },
   {
    "duration": 142,
    "start_time": "2022-06-14T22:23:27.392Z"
   },
   {
    "duration": 26,
    "start_time": "2022-06-14T22:23:27.536Z"
   },
   {
    "duration": 504,
    "start_time": "2022-06-14T22:23:27.564Z"
   },
   {
    "duration": 93,
    "start_time": "2022-06-14T22:23:28.070Z"
   },
   {
    "duration": 3,
    "start_time": "2022-06-14T22:23:28.166Z"
   },
   {
    "duration": 281,
    "start_time": "2022-06-14T22:23:28.171Z"
   },
   {
    "duration": 79,
    "start_time": "2022-06-14T22:23:28.453Z"
   },
   {
    "duration": 3,
    "start_time": "2022-06-14T22:23:28.534Z"
   },
   {
    "duration": 3,
    "start_time": "2022-06-14T22:23:28.551Z"
   },
   {
    "duration": 7,
    "start_time": "2022-06-14T22:23:28.556Z"
   },
   {
    "duration": 5,
    "start_time": "2022-06-14T22:23:28.565Z"
   },
   {
    "duration": 316715,
    "start_time": "2022-06-14T22:23:28.571Z"
   },
   {
    "duration": 0,
    "start_time": "2022-06-14T22:28:45.288Z"
   },
   {
    "duration": 198789,
    "start_time": "2022-06-14T23:08:22.478Z"
   },
   {
    "duration": 1177,
    "start_time": "2022-06-15T13:54:25.556Z"
   },
   {
    "duration": 1271,
    "start_time": "2022-06-15T13:54:26.735Z"
   },
   {
    "duration": 158,
    "start_time": "2022-06-15T13:54:28.009Z"
   },
   {
    "duration": 56,
    "start_time": "2022-06-15T13:54:28.170Z"
   },
   {
    "duration": 13,
    "start_time": "2022-06-15T13:54:28.228Z"
   },
   {
    "duration": 219,
    "start_time": "2022-06-15T13:54:28.243Z"
   },
   {
    "duration": 257,
    "start_time": "2022-06-15T13:54:28.464Z"
   },
   {
    "duration": 5,
    "start_time": "2022-06-15T13:54:28.723Z"
   },
   {
    "duration": 26,
    "start_time": "2022-06-15T13:54:28.729Z"
   },
   {
    "duration": 12,
    "start_time": "2022-06-15T13:54:28.759Z"
   },
   {
    "duration": 30,
    "start_time": "2022-06-15T13:54:28.773Z"
   },
   {
    "duration": 3,
    "start_time": "2022-06-15T13:54:28.805Z"
   },
   {
    "duration": 133,
    "start_time": "2022-06-15T13:54:28.810Z"
   },
   {
    "duration": 175,
    "start_time": "2022-06-15T13:54:28.945Z"
   },
   {
    "duration": 233,
    "start_time": "2022-06-15T13:54:29.124Z"
   },
   {
    "duration": 24,
    "start_time": "2022-06-15T13:54:29.359Z"
   },
   {
    "duration": 624,
    "start_time": "2022-06-15T13:54:29.395Z"
   },
   {
    "duration": 95,
    "start_time": "2022-06-15T13:54:30.020Z"
   },
   {
    "duration": 4,
    "start_time": "2022-06-15T13:54:30.117Z"
   },
   {
    "duration": 300,
    "start_time": "2022-06-15T13:54:30.123Z"
   },
   {
    "duration": 96,
    "start_time": "2022-06-15T13:54:30.425Z"
   },
   {
    "duration": 3,
    "start_time": "2022-06-15T13:54:30.522Z"
   },
   {
    "duration": 9,
    "start_time": "2022-06-15T13:54:30.527Z"
   },
   {
    "duration": 7,
    "start_time": "2022-06-15T13:54:30.538Z"
   },
   {
    "duration": 8,
    "start_time": "2022-06-15T13:54:30.547Z"
   },
   {
    "duration": 54756,
    "start_time": "2022-06-15T13:54:30.557Z"
   },
   {
    "duration": 3,
    "start_time": "2022-06-15T13:55:25.314Z"
   },
   {
    "duration": 38,
    "start_time": "2022-06-15T14:49:19.001Z"
   },
   {
    "duration": 120,
    "start_time": "2022-06-15T14:51:50.696Z"
   },
   {
    "duration": 31,
    "start_time": "2022-06-15T14:52:09.019Z"
   },
   {
    "duration": 218,
    "start_time": "2022-06-15T14:52:13.477Z"
   },
   {
    "duration": 138,
    "start_time": "2022-06-15T14:54:23.064Z"
   },
   {
    "duration": 156,
    "start_time": "2022-06-15T14:54:34.747Z"
   },
   {
    "duration": 88,
    "start_time": "2022-06-15T15:05:16.163Z"
   },
   {
    "duration": 360,
    "start_time": "2022-06-15T15:07:26.183Z"
   },
   {
    "duration": 653,
    "start_time": "2022-06-15T15:07:29.997Z"
   },
   {
    "duration": 1548,
    "start_time": "2022-06-15T15:09:00.662Z"
   },
   {
    "duration": 1038,
    "start_time": "2022-06-15T15:09:02.212Z"
   },
   {
    "duration": 161,
    "start_time": "2022-06-15T15:09:03.252Z"
   },
   {
    "duration": 65,
    "start_time": "2022-06-15T15:09:03.416Z"
   },
   {
    "duration": 13,
    "start_time": "2022-06-15T15:09:03.497Z"
   },
   {
    "duration": 234,
    "start_time": "2022-06-15T15:09:03.512Z"
   },
   {
    "duration": 278,
    "start_time": "2022-06-15T15:09:03.748Z"
   },
   {
    "duration": 5,
    "start_time": "2022-06-15T15:09:04.028Z"
   },
   {
    "duration": 26,
    "start_time": "2022-06-15T15:09:04.035Z"
   },
   {
    "duration": 7,
    "start_time": "2022-06-15T15:09:04.063Z"
   },
   {
    "duration": 61,
    "start_time": "2022-06-15T15:09:04.072Z"
   },
   {
    "duration": 3,
    "start_time": "2022-06-15T15:09:04.135Z"
   },
   {
    "duration": 101,
    "start_time": "2022-06-15T15:09:04.140Z"
   },
   {
    "duration": 145,
    "start_time": "2022-06-15T15:09:04.244Z"
   },
   {
    "duration": 160,
    "start_time": "2022-06-15T15:09:04.391Z"
   },
   {
    "duration": 22,
    "start_time": "2022-06-15T15:09:04.553Z"
   },
   {
    "duration": 610,
    "start_time": "2022-06-15T15:09:04.577Z"
   },
   {
    "duration": 105,
    "start_time": "2022-06-15T15:09:05.189Z"
   },
   {
    "duration": 4,
    "start_time": "2022-06-15T15:09:05.297Z"
   },
   {
    "duration": 272,
    "start_time": "2022-06-15T15:09:05.303Z"
   },
   {
    "duration": 89,
    "start_time": "2022-06-15T15:09:05.577Z"
   },
   {
    "duration": 4,
    "start_time": "2022-06-15T15:09:05.667Z"
   },
   {
    "duration": 636320,
    "start_time": "2022-06-15T15:09:05.673Z"
   },
   {
    "duration": 36,
    "start_time": "2022-06-15T15:19:41.995Z"
   },
   {
    "duration": 6,
    "start_time": "2022-06-15T15:19:42.033Z"
   },
   {
    "duration": 23,
    "start_time": "2022-06-15T15:19:42.041Z"
   },
   {
    "duration": 0,
    "start_time": "2022-06-15T15:19:42.066Z"
   },
   {
    "duration": 0,
    "start_time": "2022-06-15T15:19:42.067Z"
   },
   {
    "duration": 0,
    "start_time": "2022-06-15T15:19:42.068Z"
   },
   {
    "duration": 14199,
    "start_time": "2022-06-15T15:21:42.222Z"
   },
   {
    "duration": 562,
    "start_time": "2022-06-15T15:30:36.254Z"
   },
   {
    "duration": 80,
    "start_time": "2022-06-15T15:30:37.018Z"
   },
   {
    "duration": 255628,
    "start_time": "2022-06-15T15:30:37.451Z"
   },
   {
    "duration": 49,
    "start_time": "2022-06-15T18:43:11.881Z"
   },
   {
    "duration": 1210,
    "start_time": "2022-06-15T18:43:14.475Z"
   },
   {
    "duration": 1160,
    "start_time": "2022-06-15T18:43:15.687Z"
   },
   {
    "duration": 116,
    "start_time": "2022-06-15T18:43:16.849Z"
   },
   {
    "duration": 105,
    "start_time": "2022-06-15T18:43:16.967Z"
   },
   {
    "duration": 109,
    "start_time": "2022-06-15T18:43:40.356Z"
   },
   {
    "duration": 114,
    "start_time": "2022-06-15T18:43:44.147Z"
   },
   {
    "duration": 13,
    "start_time": "2022-06-15T18:47:24.346Z"
   },
   {
    "duration": 14,
    "start_time": "2022-06-15T18:47:35.481Z"
   },
   {
    "duration": 1123,
    "start_time": "2022-06-15T18:47:47.986Z"
   },
   {
    "duration": 869,
    "start_time": "2022-06-15T18:47:49.111Z"
   },
   {
    "duration": 118,
    "start_time": "2022-06-15T18:47:49.982Z"
   },
   {
    "duration": 133,
    "start_time": "2022-06-15T18:47:50.102Z"
   },
   {
    "duration": 118,
    "start_time": "2022-06-15T18:47:50.236Z"
   },
   {
    "duration": 47,
    "start_time": "2022-06-15T18:47:50.355Z"
   },
   {
    "duration": 9,
    "start_time": "2022-06-15T18:47:50.404Z"
   },
   {
    "duration": 203,
    "start_time": "2022-06-15T18:47:50.415Z"
   },
   {
    "duration": 186,
    "start_time": "2022-06-15T18:47:50.621Z"
   },
   {
    "duration": 4,
    "start_time": "2022-06-15T18:47:50.808Z"
   },
   {
    "duration": 11,
    "start_time": "2022-06-15T18:47:51.579Z"
   },
   {
    "duration": 17,
    "start_time": "2022-06-15T18:47:54.851Z"
   },
   {
    "duration": 11,
    "start_time": "2022-06-15T18:47:55.016Z"
   },
   {
    "duration": 3,
    "start_time": "2022-06-15T18:48:14.052Z"
   },
   {
    "duration": 76,
    "start_time": "2022-06-15T18:48:14.222Z"
   },
   {
    "duration": 108,
    "start_time": "2022-06-15T18:48:14.377Z"
   },
   {
    "duration": 102,
    "start_time": "2022-06-15T18:50:06.621Z"
   },
   {
    "duration": 1143,
    "start_time": "2022-06-15T20:13:55.894Z"
   },
   {
    "duration": 866,
    "start_time": "2022-06-15T20:13:57.040Z"
   },
   {
    "duration": 146,
    "start_time": "2022-06-15T20:13:57.908Z"
   },
   {
    "duration": 168,
    "start_time": "2022-06-15T20:13:58.056Z"
   },
   {
    "duration": 111,
    "start_time": "2022-06-15T20:13:58.227Z"
   },
   {
    "duration": 47,
    "start_time": "2022-06-15T20:13:58.339Z"
   },
   {
    "duration": 17,
    "start_time": "2022-06-15T20:13:58.388Z"
   },
   {
    "duration": 220,
    "start_time": "2022-06-15T20:13:58.407Z"
   },
   {
    "duration": 185,
    "start_time": "2022-06-15T20:13:58.628Z"
   },
   {
    "duration": 4,
    "start_time": "2022-06-15T20:13:58.815Z"
   },
   {
    "duration": 15,
    "start_time": "2022-06-15T20:13:58.821Z"
   },
   {
    "duration": 30,
    "start_time": "2022-06-15T20:13:58.838Z"
   },
   {
    "duration": 3,
    "start_time": "2022-06-15T20:13:58.869Z"
   },
   {
    "duration": 89,
    "start_time": "2022-06-15T20:13:58.875Z"
   },
   {
    "duration": 109,
    "start_time": "2022-06-15T20:13:58.965Z"
   },
   {
    "duration": 159,
    "start_time": "2022-06-15T20:13:59.076Z"
   },
   {
    "duration": 26,
    "start_time": "2022-06-15T20:13:59.236Z"
   },
   {
    "duration": 488,
    "start_time": "2022-06-15T20:13:59.264Z"
   },
   {
    "duration": 76,
    "start_time": "2022-06-15T20:13:59.753Z"
   },
   {
    "duration": 3,
    "start_time": "2022-06-15T20:13:59.831Z"
   },
   {
    "duration": 263,
    "start_time": "2022-06-15T20:13:59.835Z"
   },
   {
    "duration": 94,
    "start_time": "2022-06-15T20:14:00.100Z"
   },
   {
    "duration": 3,
    "start_time": "2022-06-15T20:14:00.195Z"
   },
   {
    "duration": 600987,
    "start_time": "2022-06-15T20:14:00.200Z"
   },
   {
    "duration": 12,
    "start_time": "2022-06-15T20:24:01.189Z"
   },
   {
    "duration": 7,
    "start_time": "2022-06-15T20:24:01.202Z"
   },
   {
    "duration": 22,
    "start_time": "2022-06-15T20:24:01.210Z"
   },
   {
    "duration": 0,
    "start_time": "2022-06-15T20:24:01.233Z"
   },
   {
    "duration": 0,
    "start_time": "2022-06-15T20:24:01.235Z"
   },
   {
    "duration": 0,
    "start_time": "2022-06-15T20:24:01.237Z"
   },
   {
    "duration": 0,
    "start_time": "2022-06-15T20:24:01.238Z"
   },
   {
    "duration": 315709,
    "start_time": "2022-06-15T20:31:12.952Z"
   },
   {
    "duration": 566,
    "start_time": "2022-06-15T20:36:28.663Z"
   },
   {
    "duration": 221,
    "start_time": "2022-06-15T20:36:29.231Z"
   },
   {
    "duration": 257188,
    "start_time": "2022-06-15T20:36:29.455Z"
   },
   {
    "duration": 4,
    "start_time": "2022-06-15T20:44:04.333Z"
   },
   {
    "duration": 6,
    "start_time": "2022-06-15T20:44:09.028Z"
   },
   {
    "duration": 10,
    "start_time": "2022-06-15T20:44:24.452Z"
   },
   {
    "duration": 27,
    "start_time": "2022-06-15T20:46:03.535Z"
   },
   {
    "duration": 28,
    "start_time": "2022-06-15T20:47:18.831Z"
   },
   {
    "duration": 104,
    "start_time": "2022-06-15T20:47:24.795Z"
   },
   {
    "duration": 13,
    "start_time": "2022-06-15T20:47:36.338Z"
   },
   {
    "duration": 12,
    "start_time": "2022-06-15T20:54:32.617Z"
   },
   {
    "duration": 10,
    "start_time": "2022-06-15T20:54:47.506Z"
   },
   {
    "duration": 13,
    "start_time": "2022-06-15T20:55:11.153Z"
   },
   {
    "duration": 16,
    "start_time": "2022-06-15T20:56:22.553Z"
   },
   {
    "duration": 3,
    "start_time": "2022-06-15T20:56:25.720Z"
   },
   {
    "duration": 15,
    "start_time": "2022-06-15T20:56:25.926Z"
   },
   {
    "duration": 12,
    "start_time": "2022-06-15T20:56:52.513Z"
   },
   {
    "duration": 1121,
    "start_time": "2022-06-15T20:57:16.621Z"
   },
   {
    "duration": 853,
    "start_time": "2022-06-15T20:57:17.744Z"
   },
   {
    "duration": 108,
    "start_time": "2022-06-15T20:57:18.599Z"
   },
   {
    "duration": 112,
    "start_time": "2022-06-15T20:57:18.709Z"
   },
   {
    "duration": 103,
    "start_time": "2022-06-15T20:57:18.823Z"
   },
   {
    "duration": 57,
    "start_time": "2022-06-15T20:57:18.928Z"
   },
   {
    "duration": 3,
    "start_time": "2022-06-15T20:57:18.987Z"
   },
   {
    "duration": 186,
    "start_time": "2022-06-15T20:57:18.991Z"
   },
   {
    "duration": 177,
    "start_time": "2022-06-15T20:57:19.179Z"
   },
   {
    "duration": 4,
    "start_time": "2022-06-15T20:57:19.358Z"
   },
   {
    "duration": 13,
    "start_time": "2022-06-15T20:57:19.363Z"
   },
   {
    "duration": 24,
    "start_time": "2022-06-15T20:57:19.378Z"
   },
   {
    "duration": 2,
    "start_time": "2022-06-15T20:57:19.404Z"
   },
   {
    "duration": 95,
    "start_time": "2022-06-15T20:57:19.409Z"
   },
   {
    "duration": 105,
    "start_time": "2022-06-15T20:57:19.506Z"
   },
   {
    "duration": 149,
    "start_time": "2022-06-15T20:57:19.612Z"
   },
   {
    "duration": 20,
    "start_time": "2022-06-15T20:57:19.763Z"
   },
   {
    "duration": 522,
    "start_time": "2022-06-15T20:57:19.785Z"
   },
   {
    "duration": 80,
    "start_time": "2022-06-15T20:57:20.309Z"
   },
   {
    "duration": 3,
    "start_time": "2022-06-15T20:57:20.391Z"
   },
   {
    "duration": 246,
    "start_time": "2022-06-15T20:57:20.396Z"
   },
   {
    "duration": 85,
    "start_time": "2022-06-15T20:57:20.644Z"
   },
   {
    "duration": 2,
    "start_time": "2022-06-15T20:57:20.731Z"
   },
   {
    "duration": 604159,
    "start_time": "2022-06-15T20:57:20.735Z"
   },
   {
    "duration": 10,
    "start_time": "2022-06-15T21:07:24.896Z"
   },
   {
    "duration": 5,
    "start_time": "2022-06-15T21:07:24.908Z"
   },
   {
    "duration": 204151,
    "start_time": "2022-06-15T21:07:24.915Z"
   },
   {
    "duration": 567,
    "start_time": "2022-06-15T21:10:49.067Z"
   },
   {
    "duration": 117,
    "start_time": "2022-06-15T21:10:49.636Z"
   },
   {
    "duration": 242774,
    "start_time": "2022-06-15T21:10:49.755Z"
   },
   {
    "duration": 11,
    "start_time": "2022-06-15T21:14:52.530Z"
   },
   {
    "duration": 22,
    "start_time": "2022-06-15T21:14:52.553Z"
   },
   {
    "duration": 20,
    "start_time": "2022-06-15T21:14:52.577Z"
   },
   {
    "duration": 3,
    "start_time": "2022-06-15T21:25:49.100Z"
   },
   {
    "duration": 19,
    "start_time": "2022-06-15T21:27:08.056Z"
   },
   {
    "duration": 341,
    "start_time": "2022-06-15T21:27:18.299Z"
   },
   {
    "duration": 200,
    "start_time": "2022-06-15T21:27:36.552Z"
   },
   {
    "duration": 66,
    "start_time": "2022-06-15T21:28:34.903Z"
   },
   {
    "duration": 84,
    "start_time": "2022-06-15T21:28:42.972Z"
   },
   {
    "duration": 1071,
    "start_time": "2022-06-15T21:31:15.402Z"
   },
   {
    "duration": 811,
    "start_time": "2022-06-15T21:31:16.475Z"
   },
   {
    "duration": 110,
    "start_time": "2022-06-15T21:31:17.288Z"
   },
   {
    "duration": 104,
    "start_time": "2022-06-15T21:31:17.400Z"
   },
   {
    "duration": 102,
    "start_time": "2022-06-15T21:31:17.506Z"
   },
   {
    "duration": 60,
    "start_time": "2022-06-15T21:31:17.610Z"
   },
   {
    "duration": 3,
    "start_time": "2022-06-15T21:31:17.672Z"
   },
   {
    "duration": 175,
    "start_time": "2022-06-15T21:31:17.677Z"
   },
   {
    "duration": 161,
    "start_time": "2022-06-15T21:31:17.854Z"
   },
   {
    "duration": 4,
    "start_time": "2022-06-15T21:31:18.017Z"
   },
   {
    "duration": 20,
    "start_time": "2022-06-15T21:31:18.022Z"
   },
   {
    "duration": 21,
    "start_time": "2022-06-15T21:31:18.043Z"
   },
   {
    "duration": 2,
    "start_time": "2022-06-15T21:31:18.066Z"
   },
   {
    "duration": 103,
    "start_time": "2022-06-15T21:31:18.071Z"
   },
   {
    "duration": 108,
    "start_time": "2022-06-15T21:31:18.176Z"
   },
   {
    "duration": 130,
    "start_time": "2022-06-15T21:31:18.285Z"
   },
   {
    "duration": 21,
    "start_time": "2022-06-15T21:31:18.416Z"
   },
   {
    "duration": 481,
    "start_time": "2022-06-15T21:31:18.438Z"
   },
   {
    "duration": 82,
    "start_time": "2022-06-15T21:31:18.920Z"
   },
   {
    "duration": 2,
    "start_time": "2022-06-15T21:31:19.004Z"
   },
   {
    "duration": 247,
    "start_time": "2022-06-15T21:31:19.008Z"
   },
   {
    "duration": 79,
    "start_time": "2022-06-15T21:31:19.257Z"
   },
   {
    "duration": 3,
    "start_time": "2022-06-15T21:31:19.337Z"
   },
   {
    "duration": 582101,
    "start_time": "2022-06-15T21:31:19.341Z"
   },
   {
    "duration": 10,
    "start_time": "2022-06-15T21:41:01.444Z"
   },
   {
    "duration": 22,
    "start_time": "2022-06-15T21:41:01.456Z"
   },
   {
    "duration": 6546,
    "start_time": "2022-06-15T21:41:01.480Z"
   },
   {
    "duration": 499,
    "start_time": "2022-06-15T21:41:08.027Z"
   },
   {
    "duration": 59,
    "start_time": "2022-06-15T21:41:08.528Z"
   },
   {
    "duration": 246095,
    "start_time": "2022-06-15T21:41:08.653Z"
   },
   {
    "duration": 11,
    "start_time": "2022-06-15T21:45:14.750Z"
   },
   {
    "duration": 4621,
    "start_time": "2022-06-15T21:55:37.139Z"
   },
   {
    "duration": 10,
    "start_time": "2022-06-15T21:55:53.029Z"
   },
   {
    "duration": 1089,
    "start_time": "2022-06-15T21:56:18.644Z"
   },
   {
    "duration": 831,
    "start_time": "2022-06-15T21:56:19.735Z"
   },
   {
    "duration": 104,
    "start_time": "2022-06-15T21:56:20.568Z"
   },
   {
    "duration": 105,
    "start_time": "2022-06-15T21:56:20.673Z"
   },
   {
    "duration": 109,
    "start_time": "2022-06-15T21:56:20.780Z"
   },
   {
    "duration": 47,
    "start_time": "2022-06-15T21:56:20.891Z"
   },
   {
    "duration": 4,
    "start_time": "2022-06-15T21:56:20.952Z"
   },
   {
    "duration": 173,
    "start_time": "2022-06-15T21:56:20.957Z"
   },
   {
    "duration": 171,
    "start_time": "2022-06-15T21:56:21.131Z"
   },
   {
    "duration": 3,
    "start_time": "2022-06-15T21:56:21.304Z"
   },
   {
    "duration": 19,
    "start_time": "2022-06-15T21:56:21.308Z"
   },
   {
    "duration": 24,
    "start_time": "2022-06-15T21:56:21.328Z"
   },
   {
    "duration": 3,
    "start_time": "2022-06-15T21:56:21.353Z"
   },
   {
    "duration": 84,
    "start_time": "2022-06-15T21:56:21.358Z"
   },
   {
    "duration": 93,
    "start_time": "2022-06-15T21:56:21.443Z"
   },
   {
    "duration": 140,
    "start_time": "2022-06-15T21:56:21.537Z"
   },
   {
    "duration": 20,
    "start_time": "2022-06-15T21:56:21.678Z"
   },
   {
    "duration": 500,
    "start_time": "2022-06-15T21:56:21.700Z"
   },
   {
    "duration": 81,
    "start_time": "2022-06-15T21:56:22.201Z"
   },
   {
    "duration": 3,
    "start_time": "2022-06-15T21:56:22.283Z"
   },
   {
    "duration": 260,
    "start_time": "2022-06-15T21:56:22.288Z"
   },
   {
    "duration": 101,
    "start_time": "2022-06-15T21:56:22.551Z"
   },
   {
    "duration": 2,
    "start_time": "2022-06-15T21:56:22.654Z"
   },
   {
    "duration": 591807,
    "start_time": "2022-06-15T21:56:22.658Z"
   },
   {
    "duration": 12,
    "start_time": "2022-06-15T22:06:14.466Z"
   },
   {
    "duration": 8,
    "start_time": "2022-06-15T22:06:14.479Z"
   },
   {
    "duration": 313083,
    "start_time": "2022-06-15T22:06:14.489Z"
   },
   {
    "duration": 580,
    "start_time": "2022-06-15T22:11:27.574Z"
   },
   {
    "duration": 209,
    "start_time": "2022-06-15T22:11:28.156Z"
   },
   {
    "duration": 243610,
    "start_time": "2022-06-15T22:11:28.367Z"
   },
   {
    "duration": 14,
    "start_time": "2022-06-15T22:15:31.979Z"
   },
   {
    "duration": 80,
    "start_time": "2022-06-15T22:15:31.995Z"
   },
   {
    "duration": 41,
    "start_time": "2022-06-15T22:17:14.331Z"
   },
   {
    "duration": 31,
    "start_time": "2022-06-15T22:17:33.502Z"
   },
   {
    "duration": 34,
    "start_time": "2022-06-15T22:17:40.164Z"
   },
   {
    "duration": 8,
    "start_time": "2022-06-15T22:17:46.705Z"
   },
   {
    "duration": 461,
    "start_time": "2022-06-15T22:25:08.632Z"
   },
   {
    "duration": 46,
    "start_time": "2022-06-16T13:00:40.950Z"
   },
   {
    "duration": 1178,
    "start_time": "2022-06-16T13:00:47.014Z"
   },
   {
    "duration": 1134,
    "start_time": "2022-06-16T13:00:48.194Z"
   },
   {
    "duration": 130,
    "start_time": "2022-06-16T13:00:49.330Z"
   },
   {
    "duration": 123,
    "start_time": "2022-06-16T13:00:49.462Z"
   },
   {
    "duration": 128,
    "start_time": "2022-06-16T13:00:49.587Z"
   },
   {
    "duration": 49,
    "start_time": "2022-06-16T13:00:49.717Z"
   },
   {
    "duration": 6,
    "start_time": "2022-06-16T13:00:49.768Z"
   },
   {
    "duration": 184,
    "start_time": "2022-06-16T13:00:49.901Z"
   },
   {
    "duration": 167,
    "start_time": "2022-06-16T13:00:50.100Z"
   },
   {
    "duration": 4,
    "start_time": "2022-06-16T13:00:50.295Z"
   },
   {
    "duration": 11,
    "start_time": "2022-06-16T13:00:51.166Z"
   },
   {
    "duration": 16,
    "start_time": "2022-06-16T13:00:51.456Z"
   },
   {
    "duration": 2,
    "start_time": "2022-06-16T13:00:51.688Z"
   },
   {
    "duration": 83,
    "start_time": "2022-06-16T13:00:51.882Z"
   },
   {
    "duration": 100,
    "start_time": "2022-06-16T13:00:52.745Z"
   },
   {
    "duration": 88,
    "start_time": "2022-06-16T13:00:54.152Z"
   },
   {
    "duration": 12,
    "start_time": "2022-06-16T13:01:17.372Z"
   },
   {
    "duration": 12,
    "start_time": "2022-06-16T13:01:20.399Z"
   },
   {
    "duration": 15,
    "start_time": "2022-06-16T13:01:45.689Z"
   },
   {
    "duration": 30,
    "start_time": "2022-06-16T13:02:02.575Z"
   },
   {
    "duration": 71,
    "start_time": "2022-06-16T13:02:22.105Z"
   },
   {
    "duration": 29,
    "start_time": "2022-06-16T13:02:29.163Z"
   },
   {
    "duration": 24,
    "start_time": "2022-06-16T13:02:45.758Z"
   },
   {
    "duration": 43,
    "start_time": "2022-06-16T13:02:53.300Z"
   },
   {
    "duration": 108,
    "start_time": "2022-06-16T13:03:04.679Z"
   },
   {
    "duration": 21,
    "start_time": "2022-06-16T13:03:10.397Z"
   },
   {
    "duration": 110,
    "start_time": "2022-06-16T13:03:13.042Z"
   },
   {
    "duration": 12,
    "start_time": "2022-06-16T13:03:23.938Z"
   },
   {
    "duration": 28,
    "start_time": "2022-06-16T13:03:27.827Z"
   },
   {
    "duration": 23,
    "start_time": "2022-06-16T13:03:31.395Z"
   },
   {
    "duration": 130,
    "start_time": "2022-06-16T13:03:35.315Z"
   },
   {
    "duration": 27,
    "start_time": "2022-06-16T13:03:50.456Z"
   },
   {
    "duration": 91,
    "start_time": "2022-06-16T13:03:55.548Z"
   },
   {
    "duration": 103,
    "start_time": "2022-06-16T13:04:00.376Z"
   },
   {
    "duration": 93,
    "start_time": "2022-06-16T13:04:02.933Z"
   },
   {
    "duration": 94,
    "start_time": "2022-06-16T13:04:07.140Z"
   },
   {
    "duration": 97,
    "start_time": "2022-06-16T13:04:10.041Z"
   },
   {
    "duration": 89,
    "start_time": "2022-06-16T13:04:13.149Z"
   },
   {
    "duration": 117,
    "start_time": "2022-06-16T13:04:35.978Z"
   },
   {
    "duration": 109,
    "start_time": "2022-06-16T13:04:49.466Z"
   },
   {
    "duration": 129,
    "start_time": "2022-06-16T13:04:52.853Z"
   },
   {
    "duration": 114,
    "start_time": "2022-06-16T13:04:55.975Z"
   },
   {
    "duration": 30,
    "start_time": "2022-06-16T13:05:10.392Z"
   },
   {
    "duration": 30,
    "start_time": "2022-06-16T13:05:12.886Z"
   },
   {
    "duration": 30,
    "start_time": "2022-06-16T13:05:15.786Z"
   },
   {
    "duration": 32,
    "start_time": "2022-06-16T13:05:21.657Z"
   },
   {
    "duration": 36,
    "start_time": "2022-06-16T13:05:23.649Z"
   },
   {
    "duration": 34,
    "start_time": "2022-06-16T13:05:59.713Z"
   },
   {
    "duration": 35,
    "start_time": "2022-06-16T13:06:13.847Z"
   },
   {
    "duration": 31,
    "start_time": "2022-06-16T13:06:40.938Z"
   },
   {
    "duration": 28,
    "start_time": "2022-06-16T13:07:00.125Z"
   },
   {
    "duration": 26,
    "start_time": "2022-06-16T13:07:05.508Z"
   },
   {
    "duration": 20,
    "start_time": "2022-06-16T13:07:31.330Z"
   },
   {
    "duration": 160,
    "start_time": "2022-06-16T13:07:44.690Z"
   },
   {
    "duration": 145,
    "start_time": "2022-06-16T13:07:48.032Z"
   },
   {
    "duration": 84,
    "start_time": "2022-06-16T13:08:00.883Z"
   },
   {
    "duration": 88,
    "start_time": "2022-06-16T13:08:07.436Z"
   },
   {
    "duration": 93,
    "start_time": "2022-06-16T13:08:13.982Z"
   },
   {
    "duration": 31,
    "start_time": "2022-06-16T13:08:21.258Z"
   },
   {
    "duration": 44,
    "start_time": "2022-06-16T13:08:30.060Z"
   },
   {
    "duration": 25,
    "start_time": "2022-06-16T13:08:32.465Z"
   },
   {
    "duration": 0,
    "start_time": "2022-06-16T13:09:06.390Z"
   },
   {
    "duration": 3,
    "start_time": "2022-06-16T13:09:11.365Z"
   },
   {
    "duration": 4,
    "start_time": "2022-06-16T13:09:13.235Z"
   },
   {
    "duration": 8,
    "start_time": "2022-06-16T13:09:34.413Z"
   },
   {
    "duration": 6,
    "start_time": "2022-06-16T13:09:45.649Z"
   },
   {
    "duration": 11,
    "start_time": "2022-06-16T13:09:47.728Z"
   },
   {
    "duration": 21,
    "start_time": "2022-06-16T13:13:08.134Z"
   },
   {
    "duration": 16,
    "start_time": "2022-06-16T13:14:29.403Z"
   },
   {
    "duration": 8,
    "start_time": "2022-06-16T13:14:34.049Z"
   },
   {
    "duration": 15,
    "start_time": "2022-06-16T13:14:40.640Z"
   },
   {
    "duration": 6,
    "start_time": "2022-06-16T13:14:53.693Z"
   },
   {
    "duration": 10,
    "start_time": "2022-06-16T13:14:54.230Z"
   },
   {
    "duration": 7,
    "start_time": "2022-06-16T13:15:12.036Z"
   },
   {
    "duration": 1118,
    "start_time": "2022-06-16T13:15:23.168Z"
   },
   {
    "duration": 939,
    "start_time": "2022-06-16T13:15:24.288Z"
   },
   {
    "duration": 141,
    "start_time": "2022-06-16T13:15:25.229Z"
   },
   {
    "duration": 119,
    "start_time": "2022-06-16T13:15:25.373Z"
   },
   {
    "duration": 156,
    "start_time": "2022-06-16T13:15:25.494Z"
   },
   {
    "duration": 54,
    "start_time": "2022-06-16T13:15:25.651Z"
   },
   {
    "duration": 20,
    "start_time": "2022-06-16T13:15:25.707Z"
   },
   {
    "duration": 210,
    "start_time": "2022-06-16T13:15:25.729Z"
   },
   {
    "duration": 188,
    "start_time": "2022-06-16T13:15:25.942Z"
   },
   {
    "duration": 4,
    "start_time": "2022-06-16T13:15:26.131Z"
   },
   {
    "duration": 13,
    "start_time": "2022-06-16T13:15:26.136Z"
   },
   {
    "duration": 18,
    "start_time": "2022-06-16T13:15:26.608Z"
   },
   {
    "duration": 3,
    "start_time": "2022-06-16T13:15:26.844Z"
   },
   {
    "duration": 93,
    "start_time": "2022-06-16T13:15:27.170Z"
   },
   {
    "duration": 107,
    "start_time": "2022-06-16T13:15:27.617Z"
   },
   {
    "duration": 22,
    "start_time": "2022-06-16T13:15:28.835Z"
   },
   {
    "duration": 73,
    "start_time": "2022-06-16T13:15:29.078Z"
   },
   {
    "duration": 14,
    "start_time": "2022-06-16T13:15:33.563Z"
   },
   {
    "duration": 47,
    "start_time": "2022-06-16T13:17:05.557Z"
   },
   {
    "duration": 149,
    "start_time": "2022-06-16T13:43:47.592Z"
   },
   {
    "duration": 110,
    "start_time": "2022-06-16T13:43:56.513Z"
   },
   {
    "duration": 1196,
    "start_time": "2022-06-16T13:44:49.918Z"
   },
   {
    "duration": 894,
    "start_time": "2022-06-16T13:44:51.116Z"
   },
   {
    "duration": 155,
    "start_time": "2022-06-16T13:44:52.012Z"
   },
   {
    "duration": 120,
    "start_time": "2022-06-16T13:44:52.170Z"
   },
   {
    "duration": 136,
    "start_time": "2022-06-16T13:44:52.292Z"
   },
   {
    "duration": 47,
    "start_time": "2022-06-16T13:44:52.430Z"
   },
   {
    "duration": 9,
    "start_time": "2022-06-16T13:44:52.479Z"
   },
   {
    "duration": 197,
    "start_time": "2022-06-16T13:44:52.490Z"
   },
   {
    "duration": 207,
    "start_time": "2022-06-16T13:44:52.689Z"
   },
   {
    "duration": 6,
    "start_time": "2022-06-16T13:44:53.191Z"
   },
   {
    "duration": 11,
    "start_time": "2022-06-16T13:44:53.387Z"
   },
   {
    "duration": 18,
    "start_time": "2022-06-16T13:45:00.119Z"
   },
   {
    "duration": 3,
    "start_time": "2022-06-16T13:45:00.295Z"
   },
   {
    "duration": 85,
    "start_time": "2022-06-16T13:45:00.649Z"
   },
   {
    "duration": 108,
    "start_time": "2022-06-16T13:45:00.956Z"
   },
   {
    "duration": 20,
    "start_time": "2022-06-16T13:45:02.673Z"
   },
   {
    "duration": 77,
    "start_time": "2022-06-16T13:45:03.353Z"
   },
   {
    "duration": 14,
    "start_time": "2022-06-16T13:45:04.830Z"
   },
   {
    "duration": 173,
    "start_time": "2022-06-16T13:45:09.378Z"
   },
   {
    "duration": 115,
    "start_time": "2022-06-16T13:45:10.400Z"
   },
   {
    "duration": 3,
    "start_time": "2022-06-16T13:45:16.348Z"
   },
   {
    "duration": 4,
    "start_time": "2022-06-16T13:46:09.850Z"
   },
   {
    "duration": 47,
    "start_time": "2022-06-16T14:50:21.086Z"
   },
   {
    "duration": 3,
    "start_time": "2022-06-16T14:50:24.681Z"
   },
   {
    "duration": 7,
    "start_time": "2022-06-16T14:50:51.250Z"
   },
   {
    "duration": 13,
    "start_time": "2022-06-16T15:12:00.208Z"
   },
   {
    "duration": 3,
    "start_time": "2022-06-16T15:12:27.580Z"
   },
   {
    "duration": 17,
    "start_time": "2022-06-16T15:16:25.753Z"
   },
   {
    "duration": 449,
    "start_time": "2022-06-16T15:16:26.089Z"
   },
   {
    "duration": 495,
    "start_time": "2022-06-16T15:17:41.408Z"
   },
   {
    "duration": 290,
    "start_time": "2022-06-16T15:18:29.384Z"
   },
   {
    "duration": 4,
    "start_time": "2022-06-16T15:18:32.681Z"
   },
   {
    "duration": 8,
    "start_time": "2022-06-16T15:19:27.945Z"
   },
   {
    "duration": 5,
    "start_time": "2022-06-16T15:20:21.749Z"
   },
   {
    "duration": 3,
    "start_time": "2022-06-16T15:20:28.781Z"
   },
   {
    "duration": 131,
    "start_time": "2022-06-16T15:20:30.691Z"
   },
   {
    "duration": 4,
    "start_time": "2022-06-16T15:22:11.411Z"
   },
   {
    "duration": 3,
    "start_time": "2022-06-16T15:22:42.323Z"
   },
   {
    "duration": 67,
    "start_time": "2022-06-16T15:22:43.011Z"
   },
   {
    "duration": 10,
    "start_time": "2022-06-16T15:23:04.551Z"
   },
   {
    "duration": 34,
    "start_time": "2022-06-16T15:23:18.276Z"
   },
   {
    "duration": 74,
    "start_time": "2022-06-16T15:28:22.042Z"
   },
   {
    "duration": 56,
    "start_time": "2022-06-16T15:28:24.102Z"
   },
   {
    "duration": 817,
    "start_time": "2022-06-16T15:29:30.387Z"
   },
   {
    "duration": 5,
    "start_time": "2022-06-16T15:29:32.759Z"
   },
   {
    "duration": 2,
    "start_time": "2022-06-16T15:29:33.931Z"
   },
   {
    "duration": 211,
    "start_time": "2022-06-16T15:29:34.542Z"
   },
   {
    "duration": 10,
    "start_time": "2022-06-16T15:29:55.395Z"
   },
   {
    "duration": 5,
    "start_time": "2022-06-16T15:29:59.784Z"
   },
   {
    "duration": 1097,
    "start_time": "2022-06-16T15:33:39.485Z"
   },
   {
    "duration": 885,
    "start_time": "2022-06-16T15:33:40.584Z"
   },
   {
    "duration": 137,
    "start_time": "2022-06-16T15:33:41.471Z"
   },
   {
    "duration": 104,
    "start_time": "2022-06-16T15:33:41.611Z"
   },
   {
    "duration": 130,
    "start_time": "2022-06-16T15:33:41.716Z"
   },
   {
    "duration": 48,
    "start_time": "2022-06-16T15:33:41.848Z"
   },
   {
    "duration": 5,
    "start_time": "2022-06-16T15:33:41.898Z"
   },
   {
    "duration": 196,
    "start_time": "2022-06-16T15:33:46.852Z"
   },
   {
    "duration": 243,
    "start_time": "2022-06-16T15:33:47.051Z"
   },
   {
    "duration": 4,
    "start_time": "2022-06-16T15:33:47.297Z"
   },
   {
    "duration": 13,
    "start_time": "2022-06-16T15:33:47.538Z"
   },
   {
    "duration": 17,
    "start_time": "2022-06-16T15:33:54.800Z"
   },
   {
    "duration": 3,
    "start_time": "2022-06-16T15:33:55.879Z"
   },
   {
    "duration": 92,
    "start_time": "2022-06-16T15:33:56.943Z"
   },
   {
    "duration": 119,
    "start_time": "2022-06-16T15:33:58.083Z"
   },
   {
    "duration": 19,
    "start_time": "2022-06-16T15:34:01.482Z"
   },
   {
    "duration": 108,
    "start_time": "2022-06-16T15:34:01.878Z"
   },
   {
    "duration": 11,
    "start_time": "2022-06-16T15:34:02.780Z"
   },
   {
    "duration": 16,
    "start_time": "2022-06-16T15:34:16.453Z"
   },
   {
    "duration": 1421,
    "start_time": "2022-06-16T15:34:16.915Z"
   },
   {
    "duration": 5,
    "start_time": "2022-06-16T15:34:19.257Z"
   },
   {
    "duration": 2,
    "start_time": "2022-06-16T15:34:30.447Z"
   },
   {
    "duration": 379,
    "start_time": "2022-06-16T15:34:31.878Z"
   },
   {
    "duration": 1545,
    "start_time": "2022-06-16T15:34:32.879Z"
   },
   {
    "duration": 1936,
    "start_time": "2022-06-16T15:34:51.706Z"
   },
   {
    "duration": 2,
    "start_time": "2022-06-16T15:41:05.707Z"
   },
   {
    "duration": 3,
    "start_time": "2022-06-16T15:41:06.084Z"
   },
   {
    "duration": 3,
    "start_time": "2022-06-16T15:41:09.212Z"
   },
   {
    "duration": 2,
    "start_time": "2022-06-16T15:41:12.536Z"
   },
   {
    "duration": 2,
    "start_time": "2022-06-16T15:41:16.633Z"
   },
   {
    "duration": 1331,
    "start_time": "2022-06-16T15:41:28.585Z"
   },
   {
    "duration": 911,
    "start_time": "2022-06-16T15:41:29.918Z"
   },
   {
    "duration": 143,
    "start_time": "2022-06-16T15:41:30.830Z"
   },
   {
    "duration": 108,
    "start_time": "2022-06-16T15:41:30.975Z"
   },
   {
    "duration": 120,
    "start_time": "2022-06-16T15:41:31.084Z"
   },
   {
    "duration": 61,
    "start_time": "2022-06-16T15:41:31.206Z"
   },
   {
    "duration": 10,
    "start_time": "2022-06-16T15:41:31.269Z"
   },
   {
    "duration": 216,
    "start_time": "2022-06-16T15:41:31.281Z"
   },
   {
    "duration": 238,
    "start_time": "2022-06-16T15:41:31.498Z"
   },
   {
    "duration": 4,
    "start_time": "2022-06-16T15:41:31.738Z"
   },
   {
    "duration": 36,
    "start_time": "2022-06-16T15:41:31.744Z"
   },
   {
    "duration": 25,
    "start_time": "2022-06-16T15:41:31.781Z"
   },
   {
    "duration": 2,
    "start_time": "2022-06-16T15:41:31.808Z"
   },
   {
    "duration": 103,
    "start_time": "2022-06-16T15:41:33.203Z"
   },
   {
    "duration": 118,
    "start_time": "2022-06-16T15:41:33.489Z"
   },
   {
    "duration": 20,
    "start_time": "2022-06-16T15:41:35.784Z"
   },
   {
    "duration": 82,
    "start_time": "2022-06-16T15:41:35.948Z"
   },
   {
    "duration": 15,
    "start_time": "2022-06-16T15:41:36.233Z"
   },
   {
    "duration": 4,
    "start_time": "2022-06-16T15:42:28.102Z"
   },
   {
    "duration": 13,
    "start_time": "2022-06-16T15:42:34.250Z"
   },
   {
    "duration": 500,
    "start_time": "2022-06-16T15:42:34.568Z"
   },
   {
    "duration": 3,
    "start_time": "2022-06-16T15:43:29.108Z"
   },
   {
    "duration": 714,
    "start_time": "2022-06-16T15:43:32.171Z"
   },
   {
    "duration": 753,
    "start_time": "2022-06-16T15:43:53.236Z"
   },
   {
    "duration": 1129,
    "start_time": "2022-06-16T15:45:10.859Z"
   },
   {
    "duration": 918,
    "start_time": "2022-06-16T15:45:11.990Z"
   },
   {
    "duration": 156,
    "start_time": "2022-06-16T15:45:12.910Z"
   },
   {
    "duration": 119,
    "start_time": "2022-06-16T15:45:13.068Z"
   },
   {
    "duration": 166,
    "start_time": "2022-06-16T15:45:13.189Z"
   },
   {
    "duration": 50,
    "start_time": "2022-06-16T15:45:13.358Z"
   },
   {
    "duration": 18,
    "start_time": "2022-06-16T15:45:13.410Z"
   },
   {
    "duration": 231,
    "start_time": "2022-06-16T15:45:13.430Z"
   },
   {
    "duration": 279,
    "start_time": "2022-06-16T15:45:13.662Z"
   },
   {
    "duration": 4,
    "start_time": "2022-06-16T15:45:13.944Z"
   },
   {
    "duration": 28,
    "start_time": "2022-06-16T15:45:13.950Z"
   },
   {
    "duration": 24,
    "start_time": "2022-06-16T15:45:13.980Z"
   },
   {
    "duration": 3,
    "start_time": "2022-06-16T15:45:14.006Z"
   },
   {
    "duration": 116,
    "start_time": "2022-06-16T15:45:14.011Z"
   },
   {
    "duration": 116,
    "start_time": "2022-06-16T15:45:14.190Z"
   },
   {
    "duration": 20,
    "start_time": "2022-06-16T15:45:15.795Z"
   },
   {
    "duration": 74,
    "start_time": "2022-06-16T15:45:16.129Z"
   },
   {
    "duration": 11,
    "start_time": "2022-06-16T15:45:17.415Z"
   },
   {
    "duration": 4,
    "start_time": "2022-06-16T15:45:28.488Z"
   },
   {
    "duration": 837,
    "start_time": "2022-06-16T15:45:28.683Z"
   },
   {
    "duration": 888,
    "start_time": "2022-06-16T15:45:50.221Z"
   },
   {
    "duration": 356,
    "start_time": "2022-06-16T15:47:35.402Z"
   },
   {
    "duration": 1969,
    "start_time": "2022-06-16T15:47:36.294Z"
   },
   {
    "duration": 7,
    "start_time": "2022-06-16T17:40:44.710Z"
   },
   {
    "duration": 894,
    "start_time": "2022-06-16T17:40:45.098Z"
   },
   {
    "duration": 209,
    "start_time": "2022-06-16T17:40:45.996Z"
   },
   {
    "duration": 89,
    "start_time": "2022-06-16T17:40:46.810Z"
   },
   {
    "duration": 209,
    "start_time": "2022-06-16T17:40:46.990Z"
   },
   {
    "duration": 37,
    "start_time": "2022-06-16T17:40:49.003Z"
   },
   {
    "duration": 4,
    "start_time": "2022-06-16T17:40:49.328Z"
   },
   {
    "duration": 153,
    "start_time": "2022-06-16T17:40:49.479Z"
   },
   {
    "duration": 225,
    "start_time": "2022-06-16T17:40:49.653Z"
   },
   {
    "duration": 4,
    "start_time": "2022-06-16T17:40:50.057Z"
   },
   {
    "duration": 15,
    "start_time": "2022-06-16T17:40:50.347Z"
   },
   {
    "duration": 18,
    "start_time": "2022-06-16T17:40:51.306Z"
   },
   {
    "duration": 3,
    "start_time": "2022-06-16T17:40:51.521Z"
   },
   {
    "duration": 108,
    "start_time": "2022-06-16T17:40:51.764Z"
   },
   {
    "duration": 108,
    "start_time": "2022-06-16T17:40:53.606Z"
   },
   {
    "duration": 21,
    "start_time": "2022-06-16T17:40:54.570Z"
   },
   {
    "duration": 119,
    "start_time": "2022-06-16T17:40:54.991Z"
   },
   {
    "duration": 11,
    "start_time": "2022-06-16T17:40:56.125Z"
   },
   {
    "duration": 57065,
    "start_time": "2022-06-16T17:43:50.361Z"
   },
   {
    "duration": 199,
    "start_time": "2022-06-16T17:44:51.031Z"
   },
   {
    "duration": 226,
    "start_time": "2022-06-16T17:45:00.908Z"
   },
   {
    "duration": 469,
    "start_time": "2022-06-16T17:45:48.919Z"
   },
   {
    "duration": 283,
    "start_time": "2022-06-16T17:45:57.354Z"
   },
   {
    "duration": 199,
    "start_time": "2022-06-16T17:46:01.140Z"
   },
   {
    "duration": 281,
    "start_time": "2022-06-16T17:46:05.755Z"
   },
   {
    "duration": 148,
    "start_time": "2022-06-16T17:46:13.988Z"
   },
   {
    "duration": 5,
    "start_time": "2022-06-16T17:48:21.874Z"
   },
   {
    "duration": 20,
    "start_time": "2022-06-16T17:48:31.250Z"
   },
   {
    "duration": 4,
    "start_time": "2022-06-16T17:48:59.711Z"
   },
   {
    "duration": 5,
    "start_time": "2022-06-16T17:49:07.080Z"
   },
   {
    "duration": 5,
    "start_time": "2022-06-16T17:49:14.037Z"
   },
   {
    "duration": 274,
    "start_time": "2022-06-16T17:49:25.063Z"
   },
   {
    "duration": 209,
    "start_time": "2022-06-16T17:49:29.824Z"
   },
   {
    "duration": 8,
    "start_time": "2022-06-16T17:49:33.044Z"
   },
   {
    "duration": 10,
    "start_time": "2022-06-16T18:13:23.101Z"
   },
   {
    "duration": 4,
    "start_time": "2022-06-16T18:14:00.149Z"
   },
   {
    "duration": 71624,
    "start_time": "2022-06-16T18:14:06.026Z"
   },
   {
    "duration": 1311,
    "start_time": "2022-06-16T18:20:08.362Z"
   },
   {
    "duration": 1057,
    "start_time": "2022-06-16T18:20:09.675Z"
   },
   {
    "duration": 174,
    "start_time": "2022-06-16T18:20:10.734Z"
   },
   {
    "duration": 111,
    "start_time": "2022-06-16T18:20:10.911Z"
   },
   {
    "duration": 176,
    "start_time": "2022-06-16T18:20:11.023Z"
   },
   {
    "duration": 76,
    "start_time": "2022-06-16T18:20:11.200Z"
   },
   {
    "duration": 11,
    "start_time": "2022-06-16T18:20:11.278Z"
   },
   {
    "duration": 243,
    "start_time": "2022-06-16T18:20:11.291Z"
   },
   {
    "duration": 232,
    "start_time": "2022-06-16T18:20:11.536Z"
   },
   {
    "duration": 4,
    "start_time": "2022-06-16T18:20:11.772Z"
   },
   {
    "duration": 14,
    "start_time": "2022-06-16T18:20:11.777Z"
   },
   {
    "duration": 18,
    "start_time": "2022-06-16T18:20:11.792Z"
   },
   {
    "duration": 2,
    "start_time": "2022-06-16T18:20:11.812Z"
   },
   {
    "duration": 127,
    "start_time": "2022-06-16T18:20:11.816Z"
   },
   {
    "duration": 131,
    "start_time": "2022-06-16T18:20:11.945Z"
   },
   {
    "duration": 21,
    "start_time": "2022-06-16T18:20:12.189Z"
   },
   {
    "duration": 96,
    "start_time": "2022-06-16T18:20:12.371Z"
   },
   {
    "duration": 10,
    "start_time": "2022-06-16T18:20:12.568Z"
   },
   {
    "duration": 1038,
    "start_time": "2022-06-16T18:20:18.148Z"
   },
   {
    "duration": 4,
    "start_time": "2022-06-16T18:20:19.189Z"
   },
   {
    "duration": 17,
    "start_time": "2022-06-16T18:20:19.195Z"
   },
   {
    "duration": 39,
    "start_time": "2022-06-16T18:20:19.215Z"
   },
   {
    "duration": 19,
    "start_time": "2022-06-16T18:20:19.256Z"
   },
   {
    "duration": 2,
    "start_time": "2022-06-16T18:20:19.311Z"
   },
   {
    "duration": 128,
    "start_time": "2022-06-16T18:20:19.649Z"
   },
   {
    "duration": 495,
    "start_time": "2022-06-16T18:20:31.454Z"
   },
   {
    "duration": 2263,
    "start_time": "2022-06-16T18:20:32.407Z"
   },
   {
    "duration": 28274,
    "start_time": "2022-06-16T18:20:34.673Z"
   },
   {
    "duration": 275,
    "start_time": "2022-06-16T18:21:02.954Z"
   },
   {
    "duration": 4,
    "start_time": "2022-06-16T18:21:03.231Z"
   },
   {
    "duration": 117,
    "start_time": "2022-06-16T18:21:03.237Z"
   },
   {
    "duration": 14,
    "start_time": "2022-06-16T18:21:03.356Z"
   },
   {
    "duration": 0,
    "start_time": "2022-06-16T18:21:03.372Z"
   },
   {
    "duration": 0,
    "start_time": "2022-06-16T18:21:03.374Z"
   },
   {
    "duration": 0,
    "start_time": "2022-06-16T18:21:03.377Z"
   },
   {
    "duration": 14,
    "start_time": "2022-06-16T18:21:10.102Z"
   },
   {
    "duration": 11,
    "start_time": "2022-06-16T18:23:24.352Z"
   },
   {
    "duration": 12,
    "start_time": "2022-06-16T18:23:33.548Z"
   },
   {
    "duration": 5,
    "start_time": "2022-06-16T18:23:44.913Z"
   },
   {
    "duration": 11,
    "start_time": "2022-06-16T18:23:45.569Z"
   },
   {
    "duration": 13,
    "start_time": "2022-06-16T18:26:06.923Z"
   },
   {
    "duration": 29,
    "start_time": "2022-06-16T18:26:20.198Z"
   },
   {
    "duration": 2,
    "start_time": "2022-06-16T18:26:45.617Z"
   },
   {
    "duration": 9,
    "start_time": "2022-06-16T18:26:45.796Z"
   },
   {
    "duration": 11,
    "start_time": "2022-06-16T18:28:57.124Z"
   },
   {
    "duration": 4,
    "start_time": "2022-06-16T18:31:25.267Z"
   },
   {
    "duration": 196377,
    "start_time": "2022-06-16T18:32:55.363Z"
   },
   {
    "duration": 7,
    "start_time": "2022-06-16T18:36:21.816Z"
   },
   {
    "duration": 18,
    "start_time": "2022-06-16T18:38:37.657Z"
   },
   {
    "duration": 226669,
    "start_time": "2022-06-16T18:38:50.376Z"
   },
   {
    "duration": 79,
    "start_time": "2022-06-16T18:42:37.048Z"
   },
   {
    "duration": 110065,
    "start_time": "2022-06-16T18:43:22.381Z"
   },
   {
    "duration": 7,
    "start_time": "2022-06-16T18:45:12.451Z"
   },
   {
    "duration": 170,
    "start_time": "2022-06-16T18:45:12.459Z"
   },
   {
    "duration": 388533,
    "start_time": "2022-06-16T18:45:33.405Z"
   },
   {
    "duration": 0,
    "start_time": "2022-06-16T18:52:02.039Z"
   },
   {
    "duration": 23,
    "start_time": "2022-06-16T18:52:17.248Z"
   },
   {
    "duration": 18,
    "start_time": "2022-06-16T18:52:32.303Z"
   },
   {
    "duration": 5,
    "start_time": "2022-06-16T18:53:44.558Z"
   },
   {
    "duration": 16,
    "start_time": "2022-06-16T18:53:49.444Z"
   },
   {
    "duration": 4,
    "start_time": "2022-06-16T18:53:52.369Z"
   },
   {
    "duration": 5,
    "start_time": "2022-06-16T18:54:03.553Z"
   },
   {
    "duration": 6,
    "start_time": "2022-06-16T18:54:31.273Z"
   },
   {
    "duration": 15,
    "start_time": "2022-06-16T19:31:20.321Z"
   },
   {
    "duration": 2787,
    "start_time": "2022-06-16T19:32:12.615Z"
   },
   {
    "duration": 1308,
    "start_time": "2022-06-16T19:32:15.406Z"
   },
   {
    "duration": 232,
    "start_time": "2022-06-16T19:32:16.716Z"
   },
   {
    "duration": 138,
    "start_time": "2022-06-16T19:32:16.952Z"
   },
   {
    "duration": 199,
    "start_time": "2022-06-16T19:32:17.094Z"
   },
   {
    "duration": 92,
    "start_time": "2022-06-16T19:32:17.295Z"
   },
   {
    "duration": 6,
    "start_time": "2022-06-16T19:32:17.389Z"
   },
   {
    "duration": 280,
    "start_time": "2022-06-16T19:32:17.397Z"
   },
   {
    "duration": 240,
    "start_time": "2022-06-16T19:32:17.680Z"
   },
   {
    "duration": 5,
    "start_time": "2022-06-16T19:32:17.924Z"
   },
   {
    "duration": 68,
    "start_time": "2022-06-16T19:32:17.931Z"
   },
   {
    "duration": 22,
    "start_time": "2022-06-16T19:32:18.001Z"
   },
   {
    "duration": 9,
    "start_time": "2022-06-16T19:32:18.025Z"
   },
   {
    "duration": 163,
    "start_time": "2022-06-16T19:32:18.038Z"
   },
   {
    "duration": 154,
    "start_time": "2022-06-16T19:32:18.203Z"
   },
   {
    "duration": 24,
    "start_time": "2022-06-16T19:32:18.360Z"
   },
   {
    "duration": 104,
    "start_time": "2022-06-16T19:32:18.386Z"
   },
   {
    "duration": 11,
    "start_time": "2022-06-16T19:32:18.492Z"
   },
   {
    "duration": 234,
    "start_time": "2022-06-16T19:32:18.505Z"
   },
   {
    "duration": 4,
    "start_time": "2022-06-16T19:32:18.741Z"
   },
   {
    "duration": 39,
    "start_time": "2022-06-16T19:32:18.747Z"
   },
   {
    "duration": 523,
    "start_time": "2022-06-16T19:32:18.788Z"
   },
   {
    "duration": 72,
    "start_time": "2022-06-16T19:32:19.313Z"
   },
   {
    "duration": 4,
    "start_time": "2022-06-16T19:32:19.387Z"
   },
   {
    "duration": 334,
    "start_time": "2022-06-16T19:32:19.392Z"
   },
   {
    "duration": 94,
    "start_time": "2022-06-16T19:32:19.734Z"
   },
   {
    "duration": 3,
    "start_time": "2022-06-16T19:32:19.830Z"
   },
   {
    "duration": 799755,
    "start_time": "2022-06-16T19:32:19.834Z"
   },
   {
    "duration": 12,
    "start_time": "2022-06-16T19:45:39.590Z"
   },
   {
    "duration": 23,
    "start_time": "2022-06-16T19:45:39.604Z"
   },
   {
    "duration": 380549,
    "start_time": "2022-06-16T19:45:39.629Z"
   },
   {
    "duration": 575,
    "start_time": "2022-06-16T19:52:00.183Z"
   },
   {
    "duration": 1018,
    "start_time": "2022-06-16T19:52:00.759Z"
   },
   {
    "duration": 3,
    "start_time": "2022-06-16T19:52:01.779Z"
   },
   {
    "duration": 19,
    "start_time": "2022-06-16T19:52:01.784Z"
   },
   {
    "duration": 65,
    "start_time": "2022-06-16T19:52:01.805Z"
   },
   {
    "duration": 38,
    "start_time": "2022-06-16T19:52:01.873Z"
   },
   {
    "duration": 576,
    "start_time": "2022-06-16T19:52:01.914Z"
   },
   {
    "duration": 2245,
    "start_time": "2022-06-16T19:52:02.492Z"
   },
   {
    "duration": 48421,
    "start_time": "2022-06-16T19:52:04.740Z"
   },
   {
    "duration": 220,
    "start_time": "2022-06-16T19:52:53.235Z"
   },
   {
    "duration": 319,
    "start_time": "2022-06-16T19:52:53.462Z"
   },
   {
    "duration": 0,
    "start_time": "2022-06-16T19:52:53.786Z"
   },
   {
    "duration": 0,
    "start_time": "2022-06-16T19:52:53.787Z"
   },
   {
    "duration": 0,
    "start_time": "2022-06-16T19:52:53.787Z"
   },
   {
    "duration": 0,
    "start_time": "2022-06-16T19:52:53.788Z"
   },
   {
    "duration": 0,
    "start_time": "2022-06-16T19:52:53.789Z"
   },
   {
    "duration": 0,
    "start_time": "2022-06-16T19:52:53.792Z"
   },
   {
    "duration": 149882,
    "start_time": "2022-06-16T20:00:15.484Z"
   },
   {
    "duration": 12,
    "start_time": "2022-06-16T20:02:45.431Z"
   },
   {
    "duration": 7181,
    "start_time": "2022-06-16T20:02:45.451Z"
   },
   {
    "duration": 14,
    "start_time": "2022-06-16T20:02:52.651Z"
   },
   {
    "duration": 338598,
    "start_time": "2022-06-16T20:02:52.667Z"
   },
   {
    "duration": 21,
    "start_time": "2022-06-16T20:08:31.267Z"
   },
   {
    "duration": 25,
    "start_time": "2022-06-16T20:08:31.289Z"
   },
   {
    "duration": 16,
    "start_time": "2022-06-16T20:09:05.380Z"
   },
   {
    "duration": 12,
    "start_time": "2022-06-16T20:09:24.152Z"
   },
   {
    "duration": 66,
    "start_time": "2022-06-16T20:13:09.991Z"
   },
   {
    "duration": 52,
    "start_time": "2022-06-16T20:13:14.912Z"
   },
   {
    "duration": 33,
    "start_time": "2022-06-16T20:13:17.696Z"
   },
   {
    "duration": 25,
    "start_time": "2022-06-16T20:13:31.300Z"
   },
   {
    "duration": 53,
    "start_time": "2022-06-16T20:13:44.729Z"
   },
   {
    "duration": 12,
    "start_time": "2022-06-16T20:15:04.810Z"
   },
   {
    "duration": 4241,
    "start_time": "2022-06-16T20:15:05.901Z"
   },
   {
    "duration": 15,
    "start_time": "2022-06-16T20:15:10.144Z"
   },
   {
    "duration": 6,
    "start_time": "2022-06-16T20:15:17.754Z"
   },
   {
    "duration": 718,
    "start_time": "2022-06-16T20:15:20.263Z"
   },
   {
    "duration": 5,
    "start_time": "2022-06-16T20:15:26.203Z"
   },
   {
    "duration": 5401,
    "start_time": "2022-06-16T20:15:27.148Z"
   },
   {
    "duration": 6,
    "start_time": "2022-06-16T20:15:38.396Z"
   },
   {
    "duration": 1448,
    "start_time": "2022-06-21T20:42:29.309Z"
   }
  ],
  "kernelspec": {
   "display_name": "Python 3 (ipykernel)",
   "language": "python",
   "name": "python3"
  },
  "language_info": {
   "codemirror_mode": {
    "name": "ipython",
    "version": 3
   },
   "file_extension": ".py",
   "mimetype": "text/x-python",
   "name": "python",
   "nbconvert_exporter": "python",
   "pygments_lexer": "ipython3",
   "version": "3.9.13"
  },
  "toc": {
   "base_numbering": 1,
   "nav_menu": {},
   "number_sections": true,
   "sideBar": true,
   "skip_h1_title": true,
   "title_cell": "Содержание",
   "title_sidebar": "Contents",
   "toc_cell": true,
   "toc_position": {},
   "toc_section_display": true,
   "toc_window_display": true
  }
 },
 "nbformat": 4,
 "nbformat_minor": 2
}
