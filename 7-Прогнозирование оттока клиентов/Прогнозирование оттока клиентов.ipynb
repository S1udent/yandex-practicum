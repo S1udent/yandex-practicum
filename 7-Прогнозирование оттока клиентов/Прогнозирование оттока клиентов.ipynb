{
 "cells": [
  {
   "cell_type": "markdown",
   "metadata": {
    "toc": true
   },
   "source": [
    "<h1>Содержание<span class=\"tocSkip\"></span></h1>\n",
    "<div class=\"toc\"><ul class=\"toc-item\"><li><span><a href=\"#Подготовка-данных\" data-toc-modified-id=\"Подготовка-данных-1\"><span class=\"toc-item-num\">1&nbsp;&nbsp;</span>Подготовка данных</a></span></li><li><span><a href=\"#Исследование-задачи\" data-toc-modified-id=\"Исследование-задачи-2\"><span class=\"toc-item-num\">2&nbsp;&nbsp;</span>Исследование задачи</a></span></li><li><span><a href=\"#Борьба-с-дисбалансом\" data-toc-modified-id=\"Борьба-с-дисбалансом-3\"><span class=\"toc-item-num\">3&nbsp;&nbsp;</span>Борьба с дисбалансом</a></span></li><li><span><a href=\"#Тестирование-модели\" data-toc-modified-id=\"Тестирование-модели-4\"><span class=\"toc-item-num\">4&nbsp;&nbsp;</span>Тестирование модели</a></span></li><li><span><a href=\"#Вывод\" data-toc-modified-id=\"Вывод-5\"><span class=\"toc-item-num\">5&nbsp;&nbsp;</span>Вывод</a></span></li>"
   ]
  },
  {
   "cell_type": "markdown",
   "metadata": {},
   "source": [
    "# Отток клиентов"
   ]
  },
  {
   "cell_type": "markdown",
   "metadata": {},
   "source": [
    "В нашем распоряжении исторические данные о поведении клиентов и расторжении договоров с банком. \n",
    "Нужно спрогнозировать, уйдёт клиент из банка в ближайшее время или нет. \n",
    "\n",
    "Необходимо построить модель довкдя метрику F1 до 0.59.\n",
    "\n",
    "Дополнительно измеряем *AUC-ROC*, сравним её значение с *F1*-мерой.\n",
    "\n",
    "Источник данных: [https://www.kaggle.com/barelydedicated/bank-customer-churn-modeling](https://www.kaggle.com/barelydedicated/bank-customer-churn-modeling)"
   ]
  },
  {
   "cell_type": "markdown",
   "metadata": {},
   "source": [
    "## Подготовка данных"
   ]
  },
  {
   "cell_type": "code",
   "execution_count": 1,
   "metadata": {},
   "outputs": [],
   "source": [
    "import pandas as pd\n",
    "import matplotlib.pyplot as plt\n",
    "import numpy as np\n",
    "from sklearn.tree import DecisionTreeClassifier\n",
    "from sklearn.ensemble import RandomForestClassifier\n",
    "from sklearn.linear_model import LogisticRegression\n",
    "from sklearn.model_selection import train_test_split\n",
    "from sklearn.preprocessing import OrdinalEncoder\n",
    "from sklearn.preprocessing import StandardScaler\n",
    "from sklearn.metrics import accuracy_score\n",
    "from sklearn.metrics import f1_score\n",
    "from sklearn.metrics import roc_curve\n",
    "from sklearn.metrics import roc_auc_score\n",
    "from sklearn.utils import shuffle\n",
    "import warnings\n",
    "warnings.filterwarnings('ignore')"
   ]
  },
  {
   "cell_type": "code",
   "execution_count": 2,
   "metadata": {},
   "outputs": [],
   "source": [
    "data=pd.read_csv('/datasets/Churn.csv')"
   ]
  },
  {
   "cell_type": "code",
   "execution_count": 3,
   "metadata": {
    "scrolled": false
   },
   "outputs": [
    {
     "data": {
      "text/html": [
       "<div>\n",
       "<style scoped>\n",
       "    .dataframe tbody tr th:only-of-type {\n",
       "        vertical-align: middle;\n",
       "    }\n",
       "\n",
       "    .dataframe tbody tr th {\n",
       "        vertical-align: top;\n",
       "    }\n",
       "\n",
       "    .dataframe thead th {\n",
       "        text-align: right;\n",
       "    }\n",
       "</style>\n",
       "<table border=\"1\" class=\"dataframe\">\n",
       "  <thead>\n",
       "    <tr style=\"text-align: right;\">\n",
       "      <th></th>\n",
       "      <th>RowNumber</th>\n",
       "      <th>CustomerId</th>\n",
       "      <th>Surname</th>\n",
       "      <th>CreditScore</th>\n",
       "      <th>Geography</th>\n",
       "      <th>Gender</th>\n",
       "      <th>Age</th>\n",
       "      <th>Tenure</th>\n",
       "      <th>Balance</th>\n",
       "      <th>NumOfProducts</th>\n",
       "      <th>HasCrCard</th>\n",
       "      <th>IsActiveMember</th>\n",
       "      <th>EstimatedSalary</th>\n",
       "      <th>Exited</th>\n",
       "    </tr>\n",
       "  </thead>\n",
       "  <tbody>\n",
       "    <tr>\n",
       "      <th>0</th>\n",
       "      <td>1</td>\n",
       "      <td>15634602</td>\n",
       "      <td>Hargrave</td>\n",
       "      <td>619</td>\n",
       "      <td>France</td>\n",
       "      <td>Female</td>\n",
       "      <td>42</td>\n",
       "      <td>2.0</td>\n",
       "      <td>0.00</td>\n",
       "      <td>1</td>\n",
       "      <td>1</td>\n",
       "      <td>1</td>\n",
       "      <td>101348.88</td>\n",
       "      <td>1</td>\n",
       "    </tr>\n",
       "    <tr>\n",
       "      <th>1</th>\n",
       "      <td>2</td>\n",
       "      <td>15647311</td>\n",
       "      <td>Hill</td>\n",
       "      <td>608</td>\n",
       "      <td>Spain</td>\n",
       "      <td>Female</td>\n",
       "      <td>41</td>\n",
       "      <td>1.0</td>\n",
       "      <td>83807.86</td>\n",
       "      <td>1</td>\n",
       "      <td>0</td>\n",
       "      <td>1</td>\n",
       "      <td>112542.58</td>\n",
       "      <td>0</td>\n",
       "    </tr>\n",
       "    <tr>\n",
       "      <th>2</th>\n",
       "      <td>3</td>\n",
       "      <td>15619304</td>\n",
       "      <td>Onio</td>\n",
       "      <td>502</td>\n",
       "      <td>France</td>\n",
       "      <td>Female</td>\n",
       "      <td>42</td>\n",
       "      <td>8.0</td>\n",
       "      <td>159660.80</td>\n",
       "      <td>3</td>\n",
       "      <td>1</td>\n",
       "      <td>0</td>\n",
       "      <td>113931.57</td>\n",
       "      <td>1</td>\n",
       "    </tr>\n",
       "    <tr>\n",
       "      <th>3</th>\n",
       "      <td>4</td>\n",
       "      <td>15701354</td>\n",
       "      <td>Boni</td>\n",
       "      <td>699</td>\n",
       "      <td>France</td>\n",
       "      <td>Female</td>\n",
       "      <td>39</td>\n",
       "      <td>1.0</td>\n",
       "      <td>0.00</td>\n",
       "      <td>2</td>\n",
       "      <td>0</td>\n",
       "      <td>0</td>\n",
       "      <td>93826.63</td>\n",
       "      <td>0</td>\n",
       "    </tr>\n",
       "    <tr>\n",
       "      <th>4</th>\n",
       "      <td>5</td>\n",
       "      <td>15737888</td>\n",
       "      <td>Mitchell</td>\n",
       "      <td>850</td>\n",
       "      <td>Spain</td>\n",
       "      <td>Female</td>\n",
       "      <td>43</td>\n",
       "      <td>2.0</td>\n",
       "      <td>125510.82</td>\n",
       "      <td>1</td>\n",
       "      <td>1</td>\n",
       "      <td>1</td>\n",
       "      <td>79084.10</td>\n",
       "      <td>0</td>\n",
       "    </tr>\n",
       "    <tr>\n",
       "      <th>...</th>\n",
       "      <td>...</td>\n",
       "      <td>...</td>\n",
       "      <td>...</td>\n",
       "      <td>...</td>\n",
       "      <td>...</td>\n",
       "      <td>...</td>\n",
       "      <td>...</td>\n",
       "      <td>...</td>\n",
       "      <td>...</td>\n",
       "      <td>...</td>\n",
       "      <td>...</td>\n",
       "      <td>...</td>\n",
       "      <td>...</td>\n",
       "      <td>...</td>\n",
       "    </tr>\n",
       "    <tr>\n",
       "      <th>9995</th>\n",
       "      <td>9996</td>\n",
       "      <td>15606229</td>\n",
       "      <td>Obijiaku</td>\n",
       "      <td>771</td>\n",
       "      <td>France</td>\n",
       "      <td>Male</td>\n",
       "      <td>39</td>\n",
       "      <td>5.0</td>\n",
       "      <td>0.00</td>\n",
       "      <td>2</td>\n",
       "      <td>1</td>\n",
       "      <td>0</td>\n",
       "      <td>96270.64</td>\n",
       "      <td>0</td>\n",
       "    </tr>\n",
       "    <tr>\n",
       "      <th>9996</th>\n",
       "      <td>9997</td>\n",
       "      <td>15569892</td>\n",
       "      <td>Johnstone</td>\n",
       "      <td>516</td>\n",
       "      <td>France</td>\n",
       "      <td>Male</td>\n",
       "      <td>35</td>\n",
       "      <td>10.0</td>\n",
       "      <td>57369.61</td>\n",
       "      <td>1</td>\n",
       "      <td>1</td>\n",
       "      <td>1</td>\n",
       "      <td>101699.77</td>\n",
       "      <td>0</td>\n",
       "    </tr>\n",
       "    <tr>\n",
       "      <th>9997</th>\n",
       "      <td>9998</td>\n",
       "      <td>15584532</td>\n",
       "      <td>Liu</td>\n",
       "      <td>709</td>\n",
       "      <td>France</td>\n",
       "      <td>Female</td>\n",
       "      <td>36</td>\n",
       "      <td>7.0</td>\n",
       "      <td>0.00</td>\n",
       "      <td>1</td>\n",
       "      <td>0</td>\n",
       "      <td>1</td>\n",
       "      <td>42085.58</td>\n",
       "      <td>1</td>\n",
       "    </tr>\n",
       "    <tr>\n",
       "      <th>9998</th>\n",
       "      <td>9999</td>\n",
       "      <td>15682355</td>\n",
       "      <td>Sabbatini</td>\n",
       "      <td>772</td>\n",
       "      <td>Germany</td>\n",
       "      <td>Male</td>\n",
       "      <td>42</td>\n",
       "      <td>3.0</td>\n",
       "      <td>75075.31</td>\n",
       "      <td>2</td>\n",
       "      <td>1</td>\n",
       "      <td>0</td>\n",
       "      <td>92888.52</td>\n",
       "      <td>1</td>\n",
       "    </tr>\n",
       "    <tr>\n",
       "      <th>9999</th>\n",
       "      <td>10000</td>\n",
       "      <td>15628319</td>\n",
       "      <td>Walker</td>\n",
       "      <td>792</td>\n",
       "      <td>France</td>\n",
       "      <td>Female</td>\n",
       "      <td>28</td>\n",
       "      <td>NaN</td>\n",
       "      <td>130142.79</td>\n",
       "      <td>1</td>\n",
       "      <td>1</td>\n",
       "      <td>0</td>\n",
       "      <td>38190.78</td>\n",
       "      <td>0</td>\n",
       "    </tr>\n",
       "  </tbody>\n",
       "</table>\n",
       "<p>10000 rows × 14 columns</p>\n",
       "</div>"
      ],
      "text/plain": [
       "      RowNumber  CustomerId    Surname  CreditScore Geography  Gender  Age  \\\n",
       "0             1    15634602   Hargrave          619    France  Female   42   \n",
       "1             2    15647311       Hill          608     Spain  Female   41   \n",
       "2             3    15619304       Onio          502    France  Female   42   \n",
       "3             4    15701354       Boni          699    France  Female   39   \n",
       "4             5    15737888   Mitchell          850     Spain  Female   43   \n",
       "...         ...         ...        ...          ...       ...     ...  ...   \n",
       "9995       9996    15606229   Obijiaku          771    France    Male   39   \n",
       "9996       9997    15569892  Johnstone          516    France    Male   35   \n",
       "9997       9998    15584532        Liu          709    France  Female   36   \n",
       "9998       9999    15682355  Sabbatini          772   Germany    Male   42   \n",
       "9999      10000    15628319     Walker          792    France  Female   28   \n",
       "\n",
       "      Tenure    Balance  NumOfProducts  HasCrCard  IsActiveMember  \\\n",
       "0        2.0       0.00              1          1               1   \n",
       "1        1.0   83807.86              1          0               1   \n",
       "2        8.0  159660.80              3          1               0   \n",
       "3        1.0       0.00              2          0               0   \n",
       "4        2.0  125510.82              1          1               1   \n",
       "...      ...        ...            ...        ...             ...   \n",
       "9995     5.0       0.00              2          1               0   \n",
       "9996    10.0   57369.61              1          1               1   \n",
       "9997     7.0       0.00              1          0               1   \n",
       "9998     3.0   75075.31              2          1               0   \n",
       "9999     NaN  130142.79              1          1               0   \n",
       "\n",
       "      EstimatedSalary  Exited  \n",
       "0           101348.88       1  \n",
       "1           112542.58       0  \n",
       "2           113931.57       1  \n",
       "3            93826.63       0  \n",
       "4            79084.10       0  \n",
       "...               ...     ...  \n",
       "9995         96270.64       0  \n",
       "9996        101699.77       0  \n",
       "9997         42085.58       1  \n",
       "9998         92888.52       1  \n",
       "9999         38190.78       0  \n",
       "\n",
       "[10000 rows x 14 columns]"
      ]
     },
     "metadata": {},
     "output_type": "display_data"
    }
   ],
   "source": [
    "display(data)"
   ]
  },
  {
   "cell_type": "markdown",
   "metadata": {},
   "source": [
    "Поменяем все буквы в названиях столбцов на строчные"
   ]
  },
  {
   "cell_type": "code",
   "execution_count": 4,
   "metadata": {},
   "outputs": [],
   "source": [
    "data.columns=data.columns.str.lower()"
   ]
  },
  {
   "cell_type": "markdown",
   "metadata": {},
   "source": [
    "Переименуем названия столбцов в удобный нам вид"
   ]
  },
  {
   "cell_type": "code",
   "execution_count": 5,
   "metadata": {},
   "outputs": [],
   "source": [
    "data.rename(columns={'rownumber': 'row_number', 'customerid': 'customer_id', 'creditscore': 'credit_score', 'numofproducts': 'num_of_products', 'hascrcard': 'has_cr_card', 'isactivemember': 'is_active_member', 'estimatedsalary': 'estimated_salary'}, inplace=True)"
   ]
  },
  {
   "cell_type": "code",
   "execution_count": 6,
   "metadata": {
    "scrolled": true
   },
   "outputs": [
    {
     "name": "stdout",
     "output_type": "stream",
     "text": [
      "<class 'pandas.core.frame.DataFrame'>\n",
      "RangeIndex: 10000 entries, 0 to 9999\n",
      "Data columns (total 14 columns):\n",
      " #   Column            Non-Null Count  Dtype  \n",
      "---  ------            --------------  -----  \n",
      " 0   row_number        10000 non-null  int64  \n",
      " 1   customer_id       10000 non-null  int64  \n",
      " 2   surname           10000 non-null  object \n",
      " 3   credit_score      10000 non-null  int64  \n",
      " 4   geography         10000 non-null  object \n",
      " 5   gender            10000 non-null  object \n",
      " 6   age               10000 non-null  int64  \n",
      " 7   tenure            9091 non-null   float64\n",
      " 8   balance           10000 non-null  float64\n",
      " 9   num_of_products   10000 non-null  int64  \n",
      " 10  has_cr_card       10000 non-null  int64  \n",
      " 11  is_active_member  10000 non-null  int64  \n",
      " 12  estimated_salary  10000 non-null  float64\n",
      " 13  exited            10000 non-null  int64  \n",
      "dtypes: float64(3), int64(8), object(3)\n",
      "memory usage: 1.1+ MB\n",
      "None\n"
     ]
    }
   ],
   "source": [
    "print(data.info())"
   ]
  },
  {
   "cell_type": "code",
   "execution_count": 7,
   "metadata": {
    "scrolled": true
   },
   "outputs": [
    {
     "name": "stdout",
     "output_type": "stream",
     "text": [
      "row_number            0\n",
      "customer_id           0\n",
      "surname               0\n",
      "credit_score          0\n",
      "geography             0\n",
      "gender                0\n",
      "age                   0\n",
      "tenure              909\n",
      "balance               0\n",
      "num_of_products       0\n",
      "has_cr_card           0\n",
      "is_active_member      0\n",
      "estimated_salary      0\n",
      "exited                0\n",
      "dtype: int64\n"
     ]
    }
   ],
   "source": [
    "print(data.isnull().sum())"
   ]
  },
  {
   "cell_type": "markdown",
   "metadata": {},
   "source": [
    "Обнаружили 909 пропусков, есть подозрения, что NaNы это люди, которые являются клиентами банка меньше года"
   ]
  },
  {
   "cell_type": "code",
   "execution_count": 8,
   "metadata": {
    "scrolled": false
   },
   "outputs": [
    {
     "data": {
      "text/plain": [
       "row_number          382\n",
       "customer_id         382\n",
       "surname             382\n",
       "credit_score        382\n",
       "geography           382\n",
       "gender              382\n",
       "age                 382\n",
       "tenure              382\n",
       "balance             382\n",
       "num_of_products     382\n",
       "has_cr_card         382\n",
       "is_active_member    382\n",
       "estimated_salary    382\n",
       "exited              382\n",
       "dtype: int64"
      ]
     },
     "execution_count": 8,
     "metadata": {},
     "output_type": "execute_result"
    }
   ],
   "source": [
    "data[data['tenure']==0].count()"
   ]
  },
  {
   "cell_type": "markdown",
   "metadata": {},
   "source": [
    "Предположение не подтвердилось"
   ]
  },
  {
   "cell_type": "code",
   "execution_count": 9,
   "metadata": {
    "scrolled": true
   },
   "outputs": [
    {
     "data": {
      "text/html": [
       "<div>\n",
       "<style scoped>\n",
       "    .dataframe tbody tr th:only-of-type {\n",
       "        vertical-align: middle;\n",
       "    }\n",
       "\n",
       "    .dataframe tbody tr th {\n",
       "        vertical-align: top;\n",
       "    }\n",
       "\n",
       "    .dataframe thead th {\n",
       "        text-align: right;\n",
       "    }\n",
       "</style>\n",
       "<table border=\"1\" class=\"dataframe\">\n",
       "  <thead>\n",
       "    <tr style=\"text-align: right;\">\n",
       "      <th></th>\n",
       "      <th>row_number</th>\n",
       "      <th>customer_id</th>\n",
       "      <th>surname</th>\n",
       "      <th>credit_score</th>\n",
       "      <th>geography</th>\n",
       "      <th>gender</th>\n",
       "      <th>age</th>\n",
       "      <th>tenure</th>\n",
       "      <th>balance</th>\n",
       "      <th>num_of_products</th>\n",
       "      <th>has_cr_card</th>\n",
       "      <th>is_active_member</th>\n",
       "      <th>estimated_salary</th>\n",
       "      <th>exited</th>\n",
       "    </tr>\n",
       "  </thead>\n",
       "  <tbody>\n",
       "    <tr>\n",
       "      <th>30</th>\n",
       "      <td>31</td>\n",
       "      <td>15589475</td>\n",
       "      <td>Azikiwe</td>\n",
       "      <td>591</td>\n",
       "      <td>Spain</td>\n",
       "      <td>Female</td>\n",
       "      <td>39</td>\n",
       "      <td>NaN</td>\n",
       "      <td>0.00</td>\n",
       "      <td>3</td>\n",
       "      <td>1</td>\n",
       "      <td>0</td>\n",
       "      <td>140469.38</td>\n",
       "      <td>1</td>\n",
       "    </tr>\n",
       "    <tr>\n",
       "      <th>48</th>\n",
       "      <td>49</td>\n",
       "      <td>15766205</td>\n",
       "      <td>Yin</td>\n",
       "      <td>550</td>\n",
       "      <td>Germany</td>\n",
       "      <td>Male</td>\n",
       "      <td>38</td>\n",
       "      <td>NaN</td>\n",
       "      <td>103391.38</td>\n",
       "      <td>1</td>\n",
       "      <td>0</td>\n",
       "      <td>1</td>\n",
       "      <td>90878.13</td>\n",
       "      <td>0</td>\n",
       "    </tr>\n",
       "    <tr>\n",
       "      <th>51</th>\n",
       "      <td>52</td>\n",
       "      <td>15768193</td>\n",
       "      <td>Trevisani</td>\n",
       "      <td>585</td>\n",
       "      <td>Germany</td>\n",
       "      <td>Male</td>\n",
       "      <td>36</td>\n",
       "      <td>NaN</td>\n",
       "      <td>146050.97</td>\n",
       "      <td>2</td>\n",
       "      <td>0</td>\n",
       "      <td>0</td>\n",
       "      <td>86424.57</td>\n",
       "      <td>0</td>\n",
       "    </tr>\n",
       "    <tr>\n",
       "      <th>53</th>\n",
       "      <td>54</td>\n",
       "      <td>15702298</td>\n",
       "      <td>Parkhill</td>\n",
       "      <td>655</td>\n",
       "      <td>Germany</td>\n",
       "      <td>Male</td>\n",
       "      <td>41</td>\n",
       "      <td>NaN</td>\n",
       "      <td>125561.97</td>\n",
       "      <td>1</td>\n",
       "      <td>0</td>\n",
       "      <td>0</td>\n",
       "      <td>164040.94</td>\n",
       "      <td>1</td>\n",
       "    </tr>\n",
       "    <tr>\n",
       "      <th>60</th>\n",
       "      <td>61</td>\n",
       "      <td>15651280</td>\n",
       "      <td>Hunter</td>\n",
       "      <td>742</td>\n",
       "      <td>Germany</td>\n",
       "      <td>Male</td>\n",
       "      <td>35</td>\n",
       "      <td>NaN</td>\n",
       "      <td>136857.00</td>\n",
       "      <td>1</td>\n",
       "      <td>0</td>\n",
       "      <td>0</td>\n",
       "      <td>84509.57</td>\n",
       "      <td>0</td>\n",
       "    </tr>\n",
       "    <tr>\n",
       "      <th>...</th>\n",
       "      <td>...</td>\n",
       "      <td>...</td>\n",
       "      <td>...</td>\n",
       "      <td>...</td>\n",
       "      <td>...</td>\n",
       "      <td>...</td>\n",
       "      <td>...</td>\n",
       "      <td>...</td>\n",
       "      <td>...</td>\n",
       "      <td>...</td>\n",
       "      <td>...</td>\n",
       "      <td>...</td>\n",
       "      <td>...</td>\n",
       "      <td>...</td>\n",
       "    </tr>\n",
       "    <tr>\n",
       "      <th>9944</th>\n",
       "      <td>9945</td>\n",
       "      <td>15703923</td>\n",
       "      <td>Cameron</td>\n",
       "      <td>744</td>\n",
       "      <td>Germany</td>\n",
       "      <td>Male</td>\n",
       "      <td>41</td>\n",
       "      <td>NaN</td>\n",
       "      <td>190409.34</td>\n",
       "      <td>2</td>\n",
       "      <td>1</td>\n",
       "      <td>1</td>\n",
       "      <td>138361.48</td>\n",
       "      <td>0</td>\n",
       "    </tr>\n",
       "    <tr>\n",
       "      <th>9956</th>\n",
       "      <td>9957</td>\n",
       "      <td>15707861</td>\n",
       "      <td>Nucci</td>\n",
       "      <td>520</td>\n",
       "      <td>France</td>\n",
       "      <td>Female</td>\n",
       "      <td>46</td>\n",
       "      <td>NaN</td>\n",
       "      <td>85216.61</td>\n",
       "      <td>1</td>\n",
       "      <td>1</td>\n",
       "      <td>0</td>\n",
       "      <td>117369.52</td>\n",
       "      <td>1</td>\n",
       "    </tr>\n",
       "    <tr>\n",
       "      <th>9964</th>\n",
       "      <td>9965</td>\n",
       "      <td>15642785</td>\n",
       "      <td>Douglas</td>\n",
       "      <td>479</td>\n",
       "      <td>France</td>\n",
       "      <td>Male</td>\n",
       "      <td>34</td>\n",
       "      <td>NaN</td>\n",
       "      <td>117593.48</td>\n",
       "      <td>2</td>\n",
       "      <td>0</td>\n",
       "      <td>0</td>\n",
       "      <td>113308.29</td>\n",
       "      <td>0</td>\n",
       "    </tr>\n",
       "    <tr>\n",
       "      <th>9985</th>\n",
       "      <td>9986</td>\n",
       "      <td>15586914</td>\n",
       "      <td>Nepean</td>\n",
       "      <td>659</td>\n",
       "      <td>France</td>\n",
       "      <td>Male</td>\n",
       "      <td>36</td>\n",
       "      <td>NaN</td>\n",
       "      <td>123841.49</td>\n",
       "      <td>2</td>\n",
       "      <td>1</td>\n",
       "      <td>0</td>\n",
       "      <td>96833.00</td>\n",
       "      <td>0</td>\n",
       "    </tr>\n",
       "    <tr>\n",
       "      <th>9999</th>\n",
       "      <td>10000</td>\n",
       "      <td>15628319</td>\n",
       "      <td>Walker</td>\n",
       "      <td>792</td>\n",
       "      <td>France</td>\n",
       "      <td>Female</td>\n",
       "      <td>28</td>\n",
       "      <td>NaN</td>\n",
       "      <td>130142.79</td>\n",
       "      <td>1</td>\n",
       "      <td>1</td>\n",
       "      <td>0</td>\n",
       "      <td>38190.78</td>\n",
       "      <td>0</td>\n",
       "    </tr>\n",
       "  </tbody>\n",
       "</table>\n",
       "<p>909 rows × 14 columns</p>\n",
       "</div>"
      ],
      "text/plain": [
       "      row_number  customer_id    surname  credit_score geography  gender  age  \\\n",
       "30            31     15589475    Azikiwe           591     Spain  Female   39   \n",
       "48            49     15766205        Yin           550   Germany    Male   38   \n",
       "51            52     15768193  Trevisani           585   Germany    Male   36   \n",
       "53            54     15702298   Parkhill           655   Germany    Male   41   \n",
       "60            61     15651280     Hunter           742   Germany    Male   35   \n",
       "...          ...          ...        ...           ...       ...     ...  ...   \n",
       "9944        9945     15703923    Cameron           744   Germany    Male   41   \n",
       "9956        9957     15707861      Nucci           520    France  Female   46   \n",
       "9964        9965     15642785    Douglas           479    France    Male   34   \n",
       "9985        9986     15586914     Nepean           659    France    Male   36   \n",
       "9999       10000     15628319     Walker           792    France  Female   28   \n",
       "\n",
       "      tenure    balance  num_of_products  has_cr_card  is_active_member  \\\n",
       "30       NaN       0.00                3            1                 0   \n",
       "48       NaN  103391.38                1            0                 1   \n",
       "51       NaN  146050.97                2            0                 0   \n",
       "53       NaN  125561.97                1            0                 0   \n",
       "60       NaN  136857.00                1            0                 0   \n",
       "...      ...        ...              ...          ...               ...   \n",
       "9944     NaN  190409.34                2            1                 1   \n",
       "9956     NaN   85216.61                1            1                 0   \n",
       "9964     NaN  117593.48                2            0                 0   \n",
       "9985     NaN  123841.49                2            1                 0   \n",
       "9999     NaN  130142.79                1            1                 0   \n",
       "\n",
       "      estimated_salary  exited  \n",
       "30           140469.38       1  \n",
       "48            90878.13       0  \n",
       "51            86424.57       0  \n",
       "53           164040.94       1  \n",
       "60            84509.57       0  \n",
       "...                ...     ...  \n",
       "9944         138361.48       0  \n",
       "9956         117369.52       1  \n",
       "9964         113308.29       0  \n",
       "9985          96833.00       0  \n",
       "9999          38190.78       0  \n",
       "\n",
       "[909 rows x 14 columns]"
      ]
     },
     "execution_count": 9,
     "metadata": {},
     "output_type": "execute_result"
    }
   ],
   "source": [
    "data[data.isnull().any(1)]"
   ]
  },
  {
   "cell_type": "code",
   "execution_count": 10,
   "metadata": {
    "scrolled": true
   },
   "outputs": [],
   "source": [
    "data['tenure']=data['tenure'].fillna(data['tenure'].median())"
   ]
  },
  {
   "cell_type": "code",
   "execution_count": 11,
   "metadata": {},
   "outputs": [
    {
     "name": "stdout",
     "output_type": "stream",
     "text": [
      "row_number          0\n",
      "customer_id         0\n",
      "surname             0\n",
      "credit_score        0\n",
      "geography           0\n",
      "gender              0\n",
      "age                 0\n",
      "tenure              0\n",
      "balance             0\n",
      "num_of_products     0\n",
      "has_cr_card         0\n",
      "is_active_member    0\n",
      "estimated_salary    0\n",
      "exited              0\n",
      "dtype: int64\n"
     ]
    }
   ],
   "source": [
    "print(data.isnull().sum())"
   ]
  },
  {
   "cell_type": "markdown",
   "metadata": {},
   "source": [
    "Пропуски заполним медианным значением по столбцу"
   ]
  },
  {
   "cell_type": "code",
   "execution_count": 12,
   "metadata": {},
   "outputs": [
    {
     "data": {
      "text/plain": [
       "row_number          10000\n",
       "customer_id         10000\n",
       "surname              2932\n",
       "credit_score          460\n",
       "geography               3\n",
       "gender                  2\n",
       "age                    70\n",
       "tenure                 11\n",
       "balance              6382\n",
       "num_of_products         4\n",
       "has_cr_card             2\n",
       "is_active_member        2\n",
       "estimated_salary     9999\n",
       "exited                  2\n",
       "dtype: int64"
      ]
     },
     "execution_count": 12,
     "metadata": {},
     "output_type": "execute_result"
    }
   ],
   "source": [
    "data.nunique()"
   ]
  },
  {
   "cell_type": "markdown",
   "metadata": {},
   "source": [
    "Id пользователей уникальны, повторов нет."
   ]
  },
  {
   "cell_type": "code",
   "execution_count": 13,
   "metadata": {},
   "outputs": [
    {
     "data": {
      "text/html": [
       "<div>\n",
       "<style scoped>\n",
       "    .dataframe tbody tr th:only-of-type {\n",
       "        vertical-align: middle;\n",
       "    }\n",
       "\n",
       "    .dataframe tbody tr th {\n",
       "        vertical-align: top;\n",
       "    }\n",
       "\n",
       "    .dataframe thead th {\n",
       "        text-align: right;\n",
       "    }\n",
       "</style>\n",
       "<table border=\"1\" class=\"dataframe\">\n",
       "  <thead>\n",
       "    <tr style=\"text-align: right;\">\n",
       "      <th></th>\n",
       "      <th>row_number</th>\n",
       "      <th>customer_id</th>\n",
       "      <th>surname</th>\n",
       "      <th>credit_score</th>\n",
       "      <th>geography</th>\n",
       "      <th>gender</th>\n",
       "      <th>age</th>\n",
       "      <th>tenure</th>\n",
       "      <th>balance</th>\n",
       "      <th>num_of_products</th>\n",
       "      <th>has_cr_card</th>\n",
       "      <th>is_active_member</th>\n",
       "      <th>estimated_salary</th>\n",
       "      <th>exited</th>\n",
       "    </tr>\n",
       "  </thead>\n",
       "  <tbody>\n",
       "    <tr>\n",
       "      <th>3620</th>\n",
       "      <td>3621</td>\n",
       "      <td>15763806</td>\n",
       "      <td>Astorga</td>\n",
       "      <td>773</td>\n",
       "      <td>France</td>\n",
       "      <td>Male</td>\n",
       "      <td>41</td>\n",
       "      <td>4.0</td>\n",
       "      <td>0.0</td>\n",
       "      <td>2</td>\n",
       "      <td>1</td>\n",
       "      <td>1</td>\n",
       "      <td>24924.92</td>\n",
       "      <td>0</td>\n",
       "    </tr>\n",
       "  </tbody>\n",
       "</table>\n",
       "</div>"
      ],
      "text/plain": [
       "      row_number  customer_id  surname  credit_score geography gender  age  \\\n",
       "3620        3621     15763806  Astorga           773    France   Male   41   \n",
       "\n",
       "      tenure  balance  num_of_products  has_cr_card  is_active_member  \\\n",
       "3620     4.0      0.0                2            1                 1   \n",
       "\n",
       "      estimated_salary  exited  \n",
       "3620          24924.92       0  "
      ]
     },
     "execution_count": 13,
     "metadata": {},
     "output_type": "execute_result"
    }
   ],
   "source": [
    "data[data['estimated_salary'].duplicated()==True]"
   ]
  },
  {
   "cell_type": "code",
   "execution_count": 14,
   "metadata": {},
   "outputs": [
    {
     "data": {
      "text/html": [
       "<div>\n",
       "<style scoped>\n",
       "    .dataframe tbody tr th:only-of-type {\n",
       "        vertical-align: middle;\n",
       "    }\n",
       "\n",
       "    .dataframe tbody tr th {\n",
       "        vertical-align: top;\n",
       "    }\n",
       "\n",
       "    .dataframe thead th {\n",
       "        text-align: right;\n",
       "    }\n",
       "</style>\n",
       "<table border=\"1\" class=\"dataframe\">\n",
       "  <thead>\n",
       "    <tr style=\"text-align: right;\">\n",
       "      <th></th>\n",
       "      <th>row_number</th>\n",
       "      <th>customer_id</th>\n",
       "      <th>surname</th>\n",
       "      <th>credit_score</th>\n",
       "      <th>geography</th>\n",
       "      <th>gender</th>\n",
       "      <th>age</th>\n",
       "      <th>tenure</th>\n",
       "      <th>balance</th>\n",
       "      <th>num_of_products</th>\n",
       "      <th>has_cr_card</th>\n",
       "      <th>is_active_member</th>\n",
       "      <th>estimated_salary</th>\n",
       "      <th>exited</th>\n",
       "    </tr>\n",
       "  </thead>\n",
       "  <tbody>\n",
       "    <tr>\n",
       "      <th>3620</th>\n",
       "      <td>3621</td>\n",
       "      <td>15763806</td>\n",
       "      <td>Astorga</td>\n",
       "      <td>773</td>\n",
       "      <td>France</td>\n",
       "      <td>Male</td>\n",
       "      <td>41</td>\n",
       "      <td>4.0</td>\n",
       "      <td>0.0</td>\n",
       "      <td>2</td>\n",
       "      <td>1</td>\n",
       "      <td>1</td>\n",
       "      <td>24924.92</td>\n",
       "      <td>0</td>\n",
       "    </tr>\n",
       "  </tbody>\n",
       "</table>\n",
       "</div>"
      ],
      "text/plain": [
       "      row_number  customer_id  surname  credit_score geography gender  age  \\\n",
       "3620        3621     15763806  Astorga           773    France   Male   41   \n",
       "\n",
       "      tenure  balance  num_of_products  has_cr_card  is_active_member  \\\n",
       "3620     4.0      0.0                2            1                 1   \n",
       "\n",
       "      estimated_salary  exited  \n",
       "3620          24924.92       0  "
      ]
     },
     "execution_count": 14,
     "metadata": {},
     "output_type": "execute_result"
    }
   ],
   "source": [
    "data[data['customer_id']==15763806]"
   ]
  },
  {
   "cell_type": "code",
   "execution_count": 15,
   "metadata": {},
   "outputs": [
    {
     "data": {
      "text/html": [
       "<div>\n",
       "<style scoped>\n",
       "    .dataframe tbody tr th:only-of-type {\n",
       "        vertical-align: middle;\n",
       "    }\n",
       "\n",
       "    .dataframe tbody tr th {\n",
       "        vertical-align: top;\n",
       "    }\n",
       "\n",
       "    .dataframe thead th {\n",
       "        text-align: right;\n",
       "    }\n",
       "</style>\n",
       "<table border=\"1\" class=\"dataframe\">\n",
       "  <thead>\n",
       "    <tr style=\"text-align: right;\">\n",
       "      <th></th>\n",
       "      <th>row_number</th>\n",
       "      <th>customer_id</th>\n",
       "      <th>surname</th>\n",
       "      <th>credit_score</th>\n",
       "      <th>geography</th>\n",
       "      <th>gender</th>\n",
       "      <th>age</th>\n",
       "      <th>tenure</th>\n",
       "      <th>balance</th>\n",
       "      <th>num_of_products</th>\n",
       "      <th>has_cr_card</th>\n",
       "      <th>is_active_member</th>\n",
       "      <th>estimated_salary</th>\n",
       "      <th>exited</th>\n",
       "    </tr>\n",
       "  </thead>\n",
       "  <tbody>\n",
       "    <tr>\n",
       "      <th>3176</th>\n",
       "      <td>3177</td>\n",
       "      <td>15613014</td>\n",
       "      <td>Hs?</td>\n",
       "      <td>722</td>\n",
       "      <td>Germany</td>\n",
       "      <td>Male</td>\n",
       "      <td>29</td>\n",
       "      <td>1.0</td>\n",
       "      <td>107233.85</td>\n",
       "      <td>2</td>\n",
       "      <td>1</td>\n",
       "      <td>0</td>\n",
       "      <td>24924.92</td>\n",
       "      <td>0</td>\n",
       "    </tr>\n",
       "    <tr>\n",
       "      <th>3620</th>\n",
       "      <td>3621</td>\n",
       "      <td>15763806</td>\n",
       "      <td>Astorga</td>\n",
       "      <td>773</td>\n",
       "      <td>France</td>\n",
       "      <td>Male</td>\n",
       "      <td>41</td>\n",
       "      <td>4.0</td>\n",
       "      <td>0.00</td>\n",
       "      <td>2</td>\n",
       "      <td>1</td>\n",
       "      <td>1</td>\n",
       "      <td>24924.92</td>\n",
       "      <td>0</td>\n",
       "    </tr>\n",
       "  </tbody>\n",
       "</table>\n",
       "</div>"
      ],
      "text/plain": [
       "      row_number  customer_id  surname  credit_score geography gender  age  \\\n",
       "3176        3177     15613014      Hs?           722   Germany   Male   29   \n",
       "3620        3621     15763806  Astorga           773    France   Male   41   \n",
       "\n",
       "      tenure    balance  num_of_products  has_cr_card  is_active_member  \\\n",
       "3176     1.0  107233.85                2            1                 0   \n",
       "3620     4.0       0.00                2            1                 1   \n",
       "\n",
       "      estimated_salary  exited  \n",
       "3176          24924.92       0  \n",
       "3620          24924.92       0  "
      ]
     },
     "execution_count": 15,
     "metadata": {},
     "output_type": "execute_result"
    }
   ],
   "source": [
    "data[data['estimated_salary']==24924.92]"
   ]
  },
  {
   "cell_type": "markdown",
   "metadata": {},
   "source": [
    "Увидев дубликат в солбце estimated_salary, мы обнаружили строку с значением в столбце surname, - 'Hs?'"
   ]
  },
  {
   "cell_type": "code",
   "execution_count": 16,
   "metadata": {},
   "outputs": [
    {
     "data": {
      "text/html": [
       "<div>\n",
       "<style scoped>\n",
       "    .dataframe tbody tr th:only-of-type {\n",
       "        vertical-align: middle;\n",
       "    }\n",
       "\n",
       "    .dataframe tbody tr th {\n",
       "        vertical-align: top;\n",
       "    }\n",
       "\n",
       "    .dataframe thead th {\n",
       "        text-align: right;\n",
       "    }\n",
       "</style>\n",
       "<table border=\"1\" class=\"dataframe\">\n",
       "  <thead>\n",
       "    <tr style=\"text-align: right;\">\n",
       "      <th></th>\n",
       "      <th>row_number</th>\n",
       "      <th>customer_id</th>\n",
       "      <th>surname</th>\n",
       "      <th>credit_score</th>\n",
       "      <th>geography</th>\n",
       "      <th>gender</th>\n",
       "      <th>age</th>\n",
       "      <th>tenure</th>\n",
       "      <th>balance</th>\n",
       "      <th>num_of_products</th>\n",
       "      <th>has_cr_card</th>\n",
       "      <th>is_active_member</th>\n",
       "      <th>estimated_salary</th>\n",
       "      <th>exited</th>\n",
       "    </tr>\n",
       "  </thead>\n",
       "  <tbody>\n",
       "    <tr>\n",
       "      <th>9</th>\n",
       "      <td>10</td>\n",
       "      <td>15592389</td>\n",
       "      <td>H?</td>\n",
       "      <td>684</td>\n",
       "      <td>France</td>\n",
       "      <td>Male</td>\n",
       "      <td>27</td>\n",
       "      <td>2.0</td>\n",
       "      <td>134603.88</td>\n",
       "      <td>1</td>\n",
       "      <td>1</td>\n",
       "      <td>1</td>\n",
       "      <td>71725.73</td>\n",
       "      <td>0</td>\n",
       "    </tr>\n",
       "    <tr>\n",
       "      <th>329</th>\n",
       "      <td>330</td>\n",
       "      <td>15624528</td>\n",
       "      <td>L?</td>\n",
       "      <td>664</td>\n",
       "      <td>Germany</td>\n",
       "      <td>Male</td>\n",
       "      <td>26</td>\n",
       "      <td>5.0</td>\n",
       "      <td>116244.14</td>\n",
       "      <td>2</td>\n",
       "      <td>1</td>\n",
       "      <td>1</td>\n",
       "      <td>95145.14</td>\n",
       "      <td>0</td>\n",
       "    </tr>\n",
       "    <tr>\n",
       "      <th>437</th>\n",
       "      <td>438</td>\n",
       "      <td>15624623</td>\n",
       "      <td>Hs?</td>\n",
       "      <td>516</td>\n",
       "      <td>France</td>\n",
       "      <td>Male</td>\n",
       "      <td>35</td>\n",
       "      <td>10.0</td>\n",
       "      <td>104088.59</td>\n",
       "      <td>2</td>\n",
       "      <td>0</td>\n",
       "      <td>0</td>\n",
       "      <td>119666.00</td>\n",
       "      <td>0</td>\n",
       "    </tr>\n",
       "    <tr>\n",
       "      <th>941</th>\n",
       "      <td>942</td>\n",
       "      <td>15676521</td>\n",
       "      <td>Y?an</td>\n",
       "      <td>696</td>\n",
       "      <td>France</td>\n",
       "      <td>Female</td>\n",
       "      <td>31</td>\n",
       "      <td>8.0</td>\n",
       "      <td>0.00</td>\n",
       "      <td>2</td>\n",
       "      <td>0</td>\n",
       "      <td>0</td>\n",
       "      <td>191074.11</td>\n",
       "      <td>0</td>\n",
       "    </tr>\n",
       "    <tr>\n",
       "      <th>970</th>\n",
       "      <td>971</td>\n",
       "      <td>15805955</td>\n",
       "      <td>L?</td>\n",
       "      <td>638</td>\n",
       "      <td>France</td>\n",
       "      <td>Female</td>\n",
       "      <td>48</td>\n",
       "      <td>10.0</td>\n",
       "      <td>138333.03</td>\n",
       "      <td>1</td>\n",
       "      <td>1</td>\n",
       "      <td>1</td>\n",
       "      <td>47679.14</td>\n",
       "      <td>0</td>\n",
       "    </tr>\n",
       "    <tr>\n",
       "      <th>...</th>\n",
       "      <td>...</td>\n",
       "      <td>...</td>\n",
       "      <td>...</td>\n",
       "      <td>...</td>\n",
       "      <td>...</td>\n",
       "      <td>...</td>\n",
       "      <td>...</td>\n",
       "      <td>...</td>\n",
       "      <td>...</td>\n",
       "      <td>...</td>\n",
       "      <td>...</td>\n",
       "      <td>...</td>\n",
       "      <td>...</td>\n",
       "      <td>...</td>\n",
       "    </tr>\n",
       "    <tr>\n",
       "      <th>9633</th>\n",
       "      <td>9634</td>\n",
       "      <td>15668057</td>\n",
       "      <td>K?</td>\n",
       "      <td>669</td>\n",
       "      <td>France</td>\n",
       "      <td>Female</td>\n",
       "      <td>31</td>\n",
       "      <td>6.0</td>\n",
       "      <td>113000.66</td>\n",
       "      <td>1</td>\n",
       "      <td>1</td>\n",
       "      <td>0</td>\n",
       "      <td>40467.82</td>\n",
       "      <td>0</td>\n",
       "    </tr>\n",
       "    <tr>\n",
       "      <th>9704</th>\n",
       "      <td>9705</td>\n",
       "      <td>15759872</td>\n",
       "      <td>L?</td>\n",
       "      <td>625</td>\n",
       "      <td>France</td>\n",
       "      <td>Male</td>\n",
       "      <td>22</td>\n",
       "      <td>9.0</td>\n",
       "      <td>0.00</td>\n",
       "      <td>2</td>\n",
       "      <td>1</td>\n",
       "      <td>0</td>\n",
       "      <td>157072.91</td>\n",
       "      <td>0</td>\n",
       "    </tr>\n",
       "    <tr>\n",
       "      <th>9792</th>\n",
       "      <td>9793</td>\n",
       "      <td>15787168</td>\n",
       "      <td>Y?</td>\n",
       "      <td>819</td>\n",
       "      <td>Spain</td>\n",
       "      <td>Female</td>\n",
       "      <td>28</td>\n",
       "      <td>8.0</td>\n",
       "      <td>168253.21</td>\n",
       "      <td>1</td>\n",
       "      <td>1</td>\n",
       "      <td>1</td>\n",
       "      <td>102799.14</td>\n",
       "      <td>0</td>\n",
       "    </tr>\n",
       "    <tr>\n",
       "      <th>9857</th>\n",
       "      <td>9858</td>\n",
       "      <td>15779423</td>\n",
       "      <td>K?</td>\n",
       "      <td>716</td>\n",
       "      <td>France</td>\n",
       "      <td>Male</td>\n",
       "      <td>39</td>\n",
       "      <td>1.0</td>\n",
       "      <td>70657.61</td>\n",
       "      <td>2</td>\n",
       "      <td>1</td>\n",
       "      <td>1</td>\n",
       "      <td>76476.05</td>\n",
       "      <td>0</td>\n",
       "    </tr>\n",
       "    <tr>\n",
       "      <th>9910</th>\n",
       "      <td>9911</td>\n",
       "      <td>15784042</td>\n",
       "      <td>L?</td>\n",
       "      <td>624</td>\n",
       "      <td>France</td>\n",
       "      <td>Male</td>\n",
       "      <td>55</td>\n",
       "      <td>7.0</td>\n",
       "      <td>118793.60</td>\n",
       "      <td>1</td>\n",
       "      <td>1</td>\n",
       "      <td>1</td>\n",
       "      <td>95022.02</td>\n",
       "      <td>1</td>\n",
       "    </tr>\n",
       "  </tbody>\n",
       "</table>\n",
       "<p>92 rows × 14 columns</p>\n",
       "</div>"
      ],
      "text/plain": [
       "      row_number  customer_id surname  credit_score geography  gender  age  \\\n",
       "9             10     15592389      H?           684    France    Male   27   \n",
       "329          330     15624528      L?           664   Germany    Male   26   \n",
       "437          438     15624623     Hs?           516    France    Male   35   \n",
       "941          942     15676521    Y?an           696    France  Female   31   \n",
       "970          971     15805955      L?           638    France  Female   48   \n",
       "...          ...          ...     ...           ...       ...     ...  ...   \n",
       "9633        9634     15668057      K?           669    France  Female   31   \n",
       "9704        9705     15759872      L?           625    France    Male   22   \n",
       "9792        9793     15787168      Y?           819     Spain  Female   28   \n",
       "9857        9858     15779423      K?           716    France    Male   39   \n",
       "9910        9911     15784042      L?           624    France    Male   55   \n",
       "\n",
       "      tenure    balance  num_of_products  has_cr_card  is_active_member  \\\n",
       "9        2.0  134603.88                1            1                 1   \n",
       "329      5.0  116244.14                2            1                 1   \n",
       "437     10.0  104088.59                2            0                 0   \n",
       "941      8.0       0.00                2            0                 0   \n",
       "970     10.0  138333.03                1            1                 1   \n",
       "...      ...        ...              ...          ...               ...   \n",
       "9633     6.0  113000.66                1            1                 0   \n",
       "9704     9.0       0.00                2            1                 0   \n",
       "9792     8.0  168253.21                1            1                 1   \n",
       "9857     1.0   70657.61                2            1                 1   \n",
       "9910     7.0  118793.60                1            1                 1   \n",
       "\n",
       "      estimated_salary  exited  \n",
       "9             71725.73       0  \n",
       "329           95145.14       0  \n",
       "437          119666.00       0  \n",
       "941          191074.11       0  \n",
       "970           47679.14       0  \n",
       "...                ...     ...  \n",
       "9633          40467.82       0  \n",
       "9704         157072.91       0  \n",
       "9792         102799.14       0  \n",
       "9857          76476.05       0  \n",
       "9910          95022.02       1  \n",
       "\n",
       "[92 rows x 14 columns]"
      ]
     },
     "execution_count": 16,
     "metadata": {},
     "output_type": "execute_result"
    }
   ],
   "source": [
    "data[data['surname'].str.contains('\\\\?')==True]"
   ]
  },
  {
   "cell_type": "markdown",
   "metadata": {},
   "source": [
    "Скорее всего данные записаны неверно оператором, или ошибка какая"
   ]
  },
  {
   "cell_type": "code",
   "execution_count": 17,
   "metadata": {
    "scrolled": true
   },
   "outputs": [
    {
     "data": {
      "text/html": [
       "<div>\n",
       "<style scoped>\n",
       "    .dataframe tbody tr th:only-of-type {\n",
       "        vertical-align: middle;\n",
       "    }\n",
       "\n",
       "    .dataframe tbody tr th {\n",
       "        vertical-align: top;\n",
       "    }\n",
       "\n",
       "    .dataframe thead th {\n",
       "        text-align: right;\n",
       "    }\n",
       "</style>\n",
       "<table border=\"1\" class=\"dataframe\">\n",
       "  <thead>\n",
       "    <tr style=\"text-align: right;\">\n",
       "      <th></th>\n",
       "      <th>row_number</th>\n",
       "      <th>customer_id</th>\n",
       "      <th>credit_score</th>\n",
       "      <th>age</th>\n",
       "      <th>tenure</th>\n",
       "      <th>balance</th>\n",
       "      <th>num_of_products</th>\n",
       "      <th>has_cr_card</th>\n",
       "      <th>is_active_member</th>\n",
       "      <th>estimated_salary</th>\n",
       "      <th>exited</th>\n",
       "    </tr>\n",
       "  </thead>\n",
       "  <tbody>\n",
       "    <tr>\n",
       "      <th>count</th>\n",
       "      <td>10000.00000</td>\n",
       "      <td>1.000000e+04</td>\n",
       "      <td>10000.000000</td>\n",
       "      <td>10000.000000</td>\n",
       "      <td>10000.00000</td>\n",
       "      <td>10000.000000</td>\n",
       "      <td>10000.000000</td>\n",
       "      <td>10000.00000</td>\n",
       "      <td>10000.000000</td>\n",
       "      <td>10000.000000</td>\n",
       "      <td>10000.000000</td>\n",
       "    </tr>\n",
       "    <tr>\n",
       "      <th>mean</th>\n",
       "      <td>5000.50000</td>\n",
       "      <td>1.569094e+07</td>\n",
       "      <td>650.528800</td>\n",
       "      <td>38.921800</td>\n",
       "      <td>4.99790</td>\n",
       "      <td>76485.889288</td>\n",
       "      <td>1.530200</td>\n",
       "      <td>0.70550</td>\n",
       "      <td>0.515100</td>\n",
       "      <td>100090.239881</td>\n",
       "      <td>0.203700</td>\n",
       "    </tr>\n",
       "    <tr>\n",
       "      <th>std</th>\n",
       "      <td>2886.89568</td>\n",
       "      <td>7.193619e+04</td>\n",
       "      <td>96.653299</td>\n",
       "      <td>10.487806</td>\n",
       "      <td>2.76001</td>\n",
       "      <td>62397.405202</td>\n",
       "      <td>0.581654</td>\n",
       "      <td>0.45584</td>\n",
       "      <td>0.499797</td>\n",
       "      <td>57510.492818</td>\n",
       "      <td>0.402769</td>\n",
       "    </tr>\n",
       "    <tr>\n",
       "      <th>min</th>\n",
       "      <td>1.00000</td>\n",
       "      <td>1.556570e+07</td>\n",
       "      <td>350.000000</td>\n",
       "      <td>18.000000</td>\n",
       "      <td>0.00000</td>\n",
       "      <td>0.000000</td>\n",
       "      <td>1.000000</td>\n",
       "      <td>0.00000</td>\n",
       "      <td>0.000000</td>\n",
       "      <td>11.580000</td>\n",
       "      <td>0.000000</td>\n",
       "    </tr>\n",
       "    <tr>\n",
       "      <th>25%</th>\n",
       "      <td>2500.75000</td>\n",
       "      <td>1.562853e+07</td>\n",
       "      <td>584.000000</td>\n",
       "      <td>32.000000</td>\n",
       "      <td>3.00000</td>\n",
       "      <td>0.000000</td>\n",
       "      <td>1.000000</td>\n",
       "      <td>0.00000</td>\n",
       "      <td>0.000000</td>\n",
       "      <td>51002.110000</td>\n",
       "      <td>0.000000</td>\n",
       "    </tr>\n",
       "    <tr>\n",
       "      <th>50%</th>\n",
       "      <td>5000.50000</td>\n",
       "      <td>1.569074e+07</td>\n",
       "      <td>652.000000</td>\n",
       "      <td>37.000000</td>\n",
       "      <td>5.00000</td>\n",
       "      <td>97198.540000</td>\n",
       "      <td>1.000000</td>\n",
       "      <td>1.00000</td>\n",
       "      <td>1.000000</td>\n",
       "      <td>100193.915000</td>\n",
       "      <td>0.000000</td>\n",
       "    </tr>\n",
       "    <tr>\n",
       "      <th>75%</th>\n",
       "      <td>7500.25000</td>\n",
       "      <td>1.575323e+07</td>\n",
       "      <td>718.000000</td>\n",
       "      <td>44.000000</td>\n",
       "      <td>7.00000</td>\n",
       "      <td>127644.240000</td>\n",
       "      <td>2.000000</td>\n",
       "      <td>1.00000</td>\n",
       "      <td>1.000000</td>\n",
       "      <td>149388.247500</td>\n",
       "      <td>0.000000</td>\n",
       "    </tr>\n",
       "    <tr>\n",
       "      <th>max</th>\n",
       "      <td>10000.00000</td>\n",
       "      <td>1.581569e+07</td>\n",
       "      <td>850.000000</td>\n",
       "      <td>92.000000</td>\n",
       "      <td>10.00000</td>\n",
       "      <td>250898.090000</td>\n",
       "      <td>4.000000</td>\n",
       "      <td>1.00000</td>\n",
       "      <td>1.000000</td>\n",
       "      <td>199992.480000</td>\n",
       "      <td>1.000000</td>\n",
       "    </tr>\n",
       "  </tbody>\n",
       "</table>\n",
       "</div>"
      ],
      "text/plain": [
       "        row_number   customer_id  credit_score           age       tenure  \\\n",
       "count  10000.00000  1.000000e+04  10000.000000  10000.000000  10000.00000   \n",
       "mean    5000.50000  1.569094e+07    650.528800     38.921800      4.99790   \n",
       "std     2886.89568  7.193619e+04     96.653299     10.487806      2.76001   \n",
       "min        1.00000  1.556570e+07    350.000000     18.000000      0.00000   \n",
       "25%     2500.75000  1.562853e+07    584.000000     32.000000      3.00000   \n",
       "50%     5000.50000  1.569074e+07    652.000000     37.000000      5.00000   \n",
       "75%     7500.25000  1.575323e+07    718.000000     44.000000      7.00000   \n",
       "max    10000.00000  1.581569e+07    850.000000     92.000000     10.00000   \n",
       "\n",
       "             balance  num_of_products  has_cr_card  is_active_member  \\\n",
       "count   10000.000000     10000.000000  10000.00000      10000.000000   \n",
       "mean    76485.889288         1.530200      0.70550          0.515100   \n",
       "std     62397.405202         0.581654      0.45584          0.499797   \n",
       "min         0.000000         1.000000      0.00000          0.000000   \n",
       "25%         0.000000         1.000000      0.00000          0.000000   \n",
       "50%     97198.540000         1.000000      1.00000          1.000000   \n",
       "75%    127644.240000         2.000000      1.00000          1.000000   \n",
       "max    250898.090000         4.000000      1.00000          1.000000   \n",
       "\n",
       "       estimated_salary        exited  \n",
       "count      10000.000000  10000.000000  \n",
       "mean      100090.239881      0.203700  \n",
       "std        57510.492818      0.402769  \n",
       "min           11.580000      0.000000  \n",
       "25%        51002.110000      0.000000  \n",
       "50%       100193.915000      0.000000  \n",
       "75%       149388.247500      0.000000  \n",
       "max       199992.480000      1.000000  "
      ]
     },
     "execution_count": 17,
     "metadata": {},
     "output_type": "execute_result"
    }
   ],
   "source": [
    "data.describe()"
   ]
  },
  {
   "cell_type": "markdown",
   "metadata": {},
   "source": [
    "Теперь необходимо искоючить столбцы, не учавствующие в исследовании, а такжеразбить датасет на выборки"
   ]
  },
  {
   "cell_type": "code",
   "execution_count": 18,
   "metadata": {},
   "outputs": [],
   "source": [
    "data=data.drop(['row_number', 'customer_id', 'surname'], axis=1)"
   ]
  },
  {
   "cell_type": "code",
   "execution_count": 19,
   "metadata": {},
   "outputs": [
    {
     "data": {
      "text/html": [
       "<div>\n",
       "<style scoped>\n",
       "    .dataframe tbody tr th:only-of-type {\n",
       "        vertical-align: middle;\n",
       "    }\n",
       "\n",
       "    .dataframe tbody tr th {\n",
       "        vertical-align: top;\n",
       "    }\n",
       "\n",
       "    .dataframe thead th {\n",
       "        text-align: right;\n",
       "    }\n",
       "</style>\n",
       "<table border=\"1\" class=\"dataframe\">\n",
       "  <thead>\n",
       "    <tr style=\"text-align: right;\">\n",
       "      <th></th>\n",
       "      <th>credit_score</th>\n",
       "      <th>age</th>\n",
       "      <th>tenure</th>\n",
       "      <th>balance</th>\n",
       "      <th>num_of_products</th>\n",
       "      <th>has_cr_card</th>\n",
       "      <th>is_active_member</th>\n",
       "      <th>estimated_salary</th>\n",
       "      <th>exited</th>\n",
       "    </tr>\n",
       "  </thead>\n",
       "  <tbody>\n",
       "    <tr>\n",
       "      <th>credit_score</th>\n",
       "      <td>1.000000</td>\n",
       "      <td>-0.003965</td>\n",
       "      <td>-0.000060</td>\n",
       "      <td>0.006268</td>\n",
       "      <td>0.012238</td>\n",
       "      <td>-0.005458</td>\n",
       "      <td>0.025651</td>\n",
       "      <td>-0.001384</td>\n",
       "      <td>-0.027094</td>\n",
       "    </tr>\n",
       "    <tr>\n",
       "      <th>age</th>\n",
       "      <td>-0.003965</td>\n",
       "      <td>1.000000</td>\n",
       "      <td>-0.012606</td>\n",
       "      <td>0.028308</td>\n",
       "      <td>-0.030680</td>\n",
       "      <td>-0.011721</td>\n",
       "      <td>0.085472</td>\n",
       "      <td>-0.007201</td>\n",
       "      <td>0.285323</td>\n",
       "    </tr>\n",
       "    <tr>\n",
       "      <th>tenure</th>\n",
       "      <td>-0.000060</td>\n",
       "      <td>-0.012606</td>\n",
       "      <td>1.000000</td>\n",
       "      <td>-0.007535</td>\n",
       "      <td>0.011409</td>\n",
       "      <td>0.025979</td>\n",
       "      <td>-0.030681</td>\n",
       "      <td>0.010049</td>\n",
       "      <td>-0.015989</td>\n",
       "    </tr>\n",
       "    <tr>\n",
       "      <th>balance</th>\n",
       "      <td>0.006268</td>\n",
       "      <td>0.028308</td>\n",
       "      <td>-0.007535</td>\n",
       "      <td>1.000000</td>\n",
       "      <td>-0.304180</td>\n",
       "      <td>-0.014858</td>\n",
       "      <td>-0.010084</td>\n",
       "      <td>0.012797</td>\n",
       "      <td>0.118533</td>\n",
       "    </tr>\n",
       "    <tr>\n",
       "      <th>num_of_products</th>\n",
       "      <td>0.012238</td>\n",
       "      <td>-0.030680</td>\n",
       "      <td>0.011409</td>\n",
       "      <td>-0.304180</td>\n",
       "      <td>1.000000</td>\n",
       "      <td>0.003183</td>\n",
       "      <td>0.009612</td>\n",
       "      <td>0.014204</td>\n",
       "      <td>-0.047820</td>\n",
       "    </tr>\n",
       "    <tr>\n",
       "      <th>has_cr_card</th>\n",
       "      <td>-0.005458</td>\n",
       "      <td>-0.011721</td>\n",
       "      <td>0.025979</td>\n",
       "      <td>-0.014858</td>\n",
       "      <td>0.003183</td>\n",
       "      <td>1.000000</td>\n",
       "      <td>-0.011866</td>\n",
       "      <td>-0.009933</td>\n",
       "      <td>-0.007138</td>\n",
       "    </tr>\n",
       "    <tr>\n",
       "      <th>is_active_member</th>\n",
       "      <td>0.025651</td>\n",
       "      <td>0.085472</td>\n",
       "      <td>-0.030681</td>\n",
       "      <td>-0.010084</td>\n",
       "      <td>0.009612</td>\n",
       "      <td>-0.011866</td>\n",
       "      <td>1.000000</td>\n",
       "      <td>-0.011421</td>\n",
       "      <td>-0.156128</td>\n",
       "    </tr>\n",
       "    <tr>\n",
       "      <th>estimated_salary</th>\n",
       "      <td>-0.001384</td>\n",
       "      <td>-0.007201</td>\n",
       "      <td>0.010049</td>\n",
       "      <td>0.012797</td>\n",
       "      <td>0.014204</td>\n",
       "      <td>-0.009933</td>\n",
       "      <td>-0.011421</td>\n",
       "      <td>1.000000</td>\n",
       "      <td>0.012097</td>\n",
       "    </tr>\n",
       "    <tr>\n",
       "      <th>exited</th>\n",
       "      <td>-0.027094</td>\n",
       "      <td>0.285323</td>\n",
       "      <td>-0.015989</td>\n",
       "      <td>0.118533</td>\n",
       "      <td>-0.047820</td>\n",
       "      <td>-0.007138</td>\n",
       "      <td>-0.156128</td>\n",
       "      <td>0.012097</td>\n",
       "      <td>1.000000</td>\n",
       "    </tr>\n",
       "  </tbody>\n",
       "</table>\n",
       "</div>"
      ],
      "text/plain": [
       "                  credit_score       age    tenure   balance  num_of_products  \\\n",
       "credit_score          1.000000 -0.003965 -0.000060  0.006268         0.012238   \n",
       "age                  -0.003965  1.000000 -0.012606  0.028308        -0.030680   \n",
       "tenure               -0.000060 -0.012606  1.000000 -0.007535         0.011409   \n",
       "balance               0.006268  0.028308 -0.007535  1.000000        -0.304180   \n",
       "num_of_products       0.012238 -0.030680  0.011409 -0.304180         1.000000   \n",
       "has_cr_card          -0.005458 -0.011721  0.025979 -0.014858         0.003183   \n",
       "is_active_member      0.025651  0.085472 -0.030681 -0.010084         0.009612   \n",
       "estimated_salary     -0.001384 -0.007201  0.010049  0.012797         0.014204   \n",
       "exited               -0.027094  0.285323 -0.015989  0.118533        -0.047820   \n",
       "\n",
       "                  has_cr_card  is_active_member  estimated_salary    exited  \n",
       "credit_score        -0.005458          0.025651         -0.001384 -0.027094  \n",
       "age                 -0.011721          0.085472         -0.007201  0.285323  \n",
       "tenure               0.025979         -0.030681          0.010049 -0.015989  \n",
       "balance             -0.014858         -0.010084          0.012797  0.118533  \n",
       "num_of_products      0.003183          0.009612          0.014204 -0.047820  \n",
       "has_cr_card          1.000000         -0.011866         -0.009933 -0.007138  \n",
       "is_active_member    -0.011866          1.000000         -0.011421 -0.156128  \n",
       "estimated_salary    -0.009933         -0.011421          1.000000  0.012097  \n",
       "exited              -0.007138         -0.156128          0.012097  1.000000  "
      ]
     },
     "execution_count": 19,
     "metadata": {},
     "output_type": "execute_result"
    }
   ],
   "source": [
    "data.corr()"
   ]
  },
  {
   "cell_type": "markdown",
   "metadata": {},
   "source": [
    "Зависимость признаков друг от друга маленькая. Наибольшая зависимость между age и exited с значением 0.28"
   ]
  },
  {
   "cell_type": "code",
   "execution_count": 20,
   "metadata": {},
   "outputs": [
    {
     "data": {
      "text/plain": [
       "<AxesSubplot:xlabel='age'>"
      ]
     },
     "execution_count": 20,
     "metadata": {},
     "output_type": "execute_result"
    },
    {
     "data": {
      "image/png": "[encoded data removed]",
      "text/plain": [
       "<Figure size 1440x720 with 1 Axes>"
      ]
     },
     "metadata": {
      "needs_background": "light"
     },
     "output_type": "display_data"
    }
   ],
   "source": [
    "data.groupby('age')['exited'].sum().plot(kind='bar', figsize=(20,10))"
   ]
  },
  {
   "cell_type": "markdown",
   "metadata": {},
   "source": [
    "Теперь необходимо перевести категориальные признаки в количественные с помощью метода ohe."
   ]
  },
  {
   "cell_type": "code",
   "execution_count": 21,
   "metadata": {},
   "outputs": [],
   "source": [
    "categori_columns = ['geography', 'gender']\n",
    "data_ohe = pd.get_dummies(data, drop_first = True, columns=categori_columns)"
   ]
  },
  {
   "cell_type": "code",
   "execution_count": 22,
   "metadata": {
    "scrolled": false
   },
   "outputs": [
    {
     "data": {
      "text/html": [
       "<div>\n",
       "<style scoped>\n",
       "    .dataframe tbody tr th:only-of-type {\n",
       "        vertical-align: middle;\n",
       "    }\n",
       "\n",
       "    .dataframe tbody tr th {\n",
       "        vertical-align: top;\n",
       "    }\n",
       "\n",
       "    .dataframe thead th {\n",
       "        text-align: right;\n",
       "    }\n",
       "</style>\n",
       "<table border=\"1\" class=\"dataframe\">\n",
       "  <thead>\n",
       "    <tr style=\"text-align: right;\">\n",
       "      <th></th>\n",
       "      <th>credit_score</th>\n",
       "      <th>age</th>\n",
       "      <th>tenure</th>\n",
       "      <th>balance</th>\n",
       "      <th>num_of_products</th>\n",
       "      <th>has_cr_card</th>\n",
       "      <th>is_active_member</th>\n",
       "      <th>estimated_salary</th>\n",
       "      <th>exited</th>\n",
       "      <th>geography_Germany</th>\n",
       "      <th>geography_Spain</th>\n",
       "      <th>gender_Male</th>\n",
       "    </tr>\n",
       "  </thead>\n",
       "  <tbody>\n",
       "    <tr>\n",
       "      <th>0</th>\n",
       "      <td>619</td>\n",
       "      <td>42</td>\n",
       "      <td>2.0</td>\n",
       "      <td>0.00</td>\n",
       "      <td>1</td>\n",
       "      <td>1</td>\n",
       "      <td>1</td>\n",
       "      <td>101348.88</td>\n",
       "      <td>1</td>\n",
       "      <td>0</td>\n",
       "      <td>0</td>\n",
       "      <td>0</td>\n",
       "    </tr>\n",
       "    <tr>\n",
       "      <th>1</th>\n",
       "      <td>608</td>\n",
       "      <td>41</td>\n",
       "      <td>1.0</td>\n",
       "      <td>83807.86</td>\n",
       "      <td>1</td>\n",
       "      <td>0</td>\n",
       "      <td>1</td>\n",
       "      <td>112542.58</td>\n",
       "      <td>0</td>\n",
       "      <td>0</td>\n",
       "      <td>1</td>\n",
       "      <td>0</td>\n",
       "    </tr>\n",
       "    <tr>\n",
       "      <th>2</th>\n",
       "      <td>502</td>\n",
       "      <td>42</td>\n",
       "      <td>8.0</td>\n",
       "      <td>159660.80</td>\n",
       "      <td>3</td>\n",
       "      <td>1</td>\n",
       "      <td>0</td>\n",
       "      <td>113931.57</td>\n",
       "      <td>1</td>\n",
       "      <td>0</td>\n",
       "      <td>0</td>\n",
       "      <td>0</td>\n",
       "    </tr>\n",
       "    <tr>\n",
       "      <th>3</th>\n",
       "      <td>699</td>\n",
       "      <td>39</td>\n",
       "      <td>1.0</td>\n",
       "      <td>0.00</td>\n",
       "      <td>2</td>\n",
       "      <td>0</td>\n",
       "      <td>0</td>\n",
       "      <td>93826.63</td>\n",
       "      <td>0</td>\n",
       "      <td>0</td>\n",
       "      <td>0</td>\n",
       "      <td>0</td>\n",
       "    </tr>\n",
       "    <tr>\n",
       "      <th>4</th>\n",
       "      <td>850</td>\n",
       "      <td>43</td>\n",
       "      <td>2.0</td>\n",
       "      <td>125510.82</td>\n",
       "      <td>1</td>\n",
       "      <td>1</td>\n",
       "      <td>1</td>\n",
       "      <td>79084.10</td>\n",
       "      <td>0</td>\n",
       "      <td>0</td>\n",
       "      <td>1</td>\n",
       "      <td>0</td>\n",
       "    </tr>\n",
       "    <tr>\n",
       "      <th>...</th>\n",
       "      <td>...</td>\n",
       "      <td>...</td>\n",
       "      <td>...</td>\n",
       "      <td>...</td>\n",
       "      <td>...</td>\n",
       "      <td>...</td>\n",
       "      <td>...</td>\n",
       "      <td>...</td>\n",
       "      <td>...</td>\n",
       "      <td>...</td>\n",
       "      <td>...</td>\n",
       "      <td>...</td>\n",
       "    </tr>\n",
       "    <tr>\n",
       "      <th>9995</th>\n",
       "      <td>771</td>\n",
       "      <td>39</td>\n",
       "      <td>5.0</td>\n",
       "      <td>0.00</td>\n",
       "      <td>2</td>\n",
       "      <td>1</td>\n",
       "      <td>0</td>\n",
       "      <td>96270.64</td>\n",
       "      <td>0</td>\n",
       "      <td>0</td>\n",
       "      <td>0</td>\n",
       "      <td>1</td>\n",
       "    </tr>\n",
       "    <tr>\n",
       "      <th>9996</th>\n",
       "      <td>516</td>\n",
       "      <td>35</td>\n",
       "      <td>10.0</td>\n",
       "      <td>57369.61</td>\n",
       "      <td>1</td>\n",
       "      <td>1</td>\n",
       "      <td>1</td>\n",
       "      <td>101699.77</td>\n",
       "      <td>0</td>\n",
       "      <td>0</td>\n",
       "      <td>0</td>\n",
       "      <td>1</td>\n",
       "    </tr>\n",
       "    <tr>\n",
       "      <th>9997</th>\n",
       "      <td>709</td>\n",
       "      <td>36</td>\n",
       "      <td>7.0</td>\n",
       "      <td>0.00</td>\n",
       "      <td>1</td>\n",
       "      <td>0</td>\n",
       "      <td>1</td>\n",
       "      <td>42085.58</td>\n",
       "      <td>1</td>\n",
       "      <td>0</td>\n",
       "      <td>0</td>\n",
       "      <td>0</td>\n",
       "    </tr>\n",
       "    <tr>\n",
       "      <th>9998</th>\n",
       "      <td>772</td>\n",
       "      <td>42</td>\n",
       "      <td>3.0</td>\n",
       "      <td>75075.31</td>\n",
       "      <td>2</td>\n",
       "      <td>1</td>\n",
       "      <td>0</td>\n",
       "      <td>92888.52</td>\n",
       "      <td>1</td>\n",
       "      <td>1</td>\n",
       "      <td>0</td>\n",
       "      <td>1</td>\n",
       "    </tr>\n",
       "    <tr>\n",
       "      <th>9999</th>\n",
       "      <td>792</td>\n",
       "      <td>28</td>\n",
       "      <td>5.0</td>\n",
       "      <td>130142.79</td>\n",
       "      <td>1</td>\n",
       "      <td>1</td>\n",
       "      <td>0</td>\n",
       "      <td>38190.78</td>\n",
       "      <td>0</td>\n",
       "      <td>0</td>\n",
       "      <td>0</td>\n",
       "      <td>0</td>\n",
       "    </tr>\n",
       "  </tbody>\n",
       "</table>\n",
       "<p>10000 rows × 12 columns</p>\n",
       "</div>"
      ],
      "text/plain": [
       "      credit_score  age  tenure    balance  num_of_products  has_cr_card  \\\n",
       "0              619   42     2.0       0.00                1            1   \n",
       "1              608   41     1.0   83807.86                1            0   \n",
       "2              502   42     8.0  159660.80                3            1   \n",
       "3              699   39     1.0       0.00                2            0   \n",
       "4              850   43     2.0  125510.82                1            1   \n",
       "...            ...  ...     ...        ...              ...          ...   \n",
       "9995           771   39     5.0       0.00                2            1   \n",
       "9996           516   35    10.0   57369.61                1            1   \n",
       "9997           709   36     7.0       0.00                1            0   \n",
       "9998           772   42     3.0   75075.31                2            1   \n",
       "9999           792   28     5.0  130142.79                1            1   \n",
       "\n",
       "      is_active_member  estimated_salary  exited  geography_Germany  \\\n",
       "0                    1         101348.88       1                  0   \n",
       "1                    1         112542.58       0                  0   \n",
       "2                    0         113931.57       1                  0   \n",
       "3                    0          93826.63       0                  0   \n",
       "4                    1          79084.10       0                  0   \n",
       "...                ...               ...     ...                ...   \n",
       "9995                 0          96270.64       0                  0   \n",
       "9996                 1         101699.77       0                  0   \n",
       "9997                 1          42085.58       1                  0   \n",
       "9998                 0          92888.52       1                  1   \n",
       "9999                 0          38190.78       0                  0   \n",
       "\n",
       "      geography_Spain  gender_Male  \n",
       "0                   0            0  \n",
       "1                   1            0  \n",
       "2                   0            0  \n",
       "3                   0            0  \n",
       "4                   1            0  \n",
       "...               ...          ...  \n",
       "9995                0            1  \n",
       "9996                0            1  \n",
       "9997                0            0  \n",
       "9998                0            1  \n",
       "9999                0            0  \n",
       "\n",
       "[10000 rows x 12 columns]"
      ]
     },
     "metadata": {},
     "output_type": "display_data"
    }
   ],
   "source": [
    "display(data_ohe)"
   ]
  },
  {
   "cell_type": "code",
   "execution_count": 23,
   "metadata": {},
   "outputs": [],
   "source": [
    "data_ohe.columns=data_ohe.columns.str.lower()"
   ]
  },
  {
   "cell_type": "code",
   "execution_count": 24,
   "metadata": {},
   "outputs": [],
   "source": [
    "data_train, data_valid = train_test_split(data_ohe, test_size=0.4, random_state=1)\n",
    "data_valid, data_test = train_test_split(data_valid, test_size=0.5, random_state=1)\n",
    "features_train=data_train.drop(['exited'], axis=1)\n",
    "target_train=data_train['exited']\n",
    "features_valid=data_valid.drop(['exited'], axis=1)\n",
    "target_valid=data_valid['exited']\n",
    "features_test=data_test.drop(['exited'], axis=1)\n",
    "target_test=data_test['exited']"
   ]
  },
  {
   "cell_type": "code",
   "execution_count": 25,
   "metadata": {},
   "outputs": [],
   "source": [
    "numeric = ['credit_score', 'age', 'tenure', 'balance', 'estimated_salary']\n",
    "\n",
    "scaler = StandardScaler()\n",
    "scaler.fit(features_train[numeric])\n",
    "features_train[numeric] = scaler.transform(features_train[numeric])\n",
    "features_valid[numeric] = scaler.transform(features_valid[numeric]) \n",
    "features_test[numeric] = scaler.transform(features_test[numeric]) "
   ]
  },
  {
   "cell_type": "markdown",
   "metadata": {},
   "source": [
    "На этом пока что закончим подготовку данных.\n",
    "Найдены фамилии, в которых присутствует символ \"?\".\n",
    "Обнаружениы 909 пропусков в столбце tenure и заполнены медианным значением по столбцу.\n",
    "Изменены названия столбцов.\n",
    "Удалены ненужные столбцы.\n",
    "Выявлена небольшая зависимость age и exited. Наибольший отток клиентов выявлен в возрасте от 40 до 50 лет.\n",
    "Категориальные данные переведены в количественные.\n",
    "Был обнаружен большой разброс значений признаков, принято решение масштабировать их."
   ]
  },
  {
   "cell_type": "markdown",
   "metadata": {},
   "source": [
    "## Исследование задачи"
   ]
  },
  {
   "cell_type": "markdown",
   "metadata": {},
   "source": [
    "Исследуйте баланс классов, обучите модель без учёта дисбаланса. Кратко опишите выводы."
   ]
  },
  {
   "cell_type": "code",
   "execution_count": 26,
   "metadata": {
    "scrolled": false
   },
   "outputs": [
    {
     "name": "stdout",
     "output_type": "stream",
     "text": [
      "0.0\n",
      "0.5278911564625851\n",
      "0.39194139194139194\n",
      "0.5319148936170213\n",
      "0.5171849427168577\n",
      "0.5970588235294118\n",
      "0.6037735849056604\n",
      "0.611413043478261\n",
      "0.5659340659340659\n",
      "F1 лучшей модели tree: 0.611413043478261 , при параметре max_depth = 9 , auc_roc равен 0.785905869645992\n",
      "*********************************************************************************************************\n",
      "0.6081871345029239\n",
      "0.6046511627906976\n",
      "0.5832106038291606\n",
      "0.5804511278195489\n",
      "0.5991316931982633\n",
      "0.5949926362297496\n",
      "0.6014598540145986\n",
      "0.5873715124816447\n",
      "0.5774436090225564\n",
      "0.6005830903790088\n",
      "0.58493353028065\n",
      "0.5988372093023256\n",
      "0.5941176470588234\n",
      "0.5901639344262295\n",
      "0.6032210834553441\n",
      "0.5837037037037037\n",
      "0.5973645680819911\n",
      "0.5920471281296023\n",
      "0.5943536404160475\n",
      "0.6005830903790088\n",
      "0.5929203539823009\n",
      "0.597667638483965\n",
      "0.5911764705882353\n",
      "0.5952380952380951\n",
      "0.6120058565153734\n",
      "F1 наилучшей модели forest: 0.6120058565153734 , при параметре n_estimators = 46 ,при параметре max_depth = 19 , auc_roc равен 0.8535476766768106\n",
      "*********************************************************************************************************\n",
      "0.32269503546099293 newton-cg\n",
      "0.32269503546099293 lbfgs\n",
      "0.3256637168141593 liblinear\n",
      "0.32269503546099293 sag\n",
      "0.32269503546099293 saga\n",
      "F1 наилучшей модели logistic: 0.3256637168141593 , при параметре solver =  saga , auc_roc равен 0.7715954202951747\n"
     ]
    }
   ],
   "source": [
    "best_model_tree = None\n",
    "best_result_tree = 0\n",
    "for depth in range(1,10):\n",
    "    model_tree = DecisionTreeClassifier(random_state=1, max_depth=depth)\n",
    "    model_tree.fit(features_train, target_train)\n",
    "    predictions_valid_tree = model_tree.predict(features_valid)\n",
    "    result_tree = f1_score(target_valid, predictions_valid_tree)\n",
    "    print(result_tree)\n",
    "    probabilities_valid = model_tree.predict_proba(features_valid)\n",
    "    probabilities_one_valid = probabilities_valid[:, 1]\n",
    "    auc_roc_tree_simple=roc_auc_score(target_valid,probabilities_one_valid)\n",
    "    if result_tree>best_result_tree:\n",
    "        best_model_tree = model_tree\n",
    "        best_result_tree = result_tree\n",
    "print(\"F1 лучшей модели tree:\", best_result_tree, \", при параметре max_depth =\",depth, ', auc_roc равен', auc_roc_tree_simple)\n",
    "\n",
    "print('*********************************************************************************************************')\n",
    "best_model_forest = None\n",
    "best_result_forest = 0\n",
    "for est in range(30, 50, 4):\n",
    "     for depth in range(15,20,1):\n",
    "        model_forest = RandomForestClassifier(random_state=1, n_estimators=est, max_depth=depth) \n",
    "        model_forest.fit(features_train,target_train) \n",
    "        predictions_valid_forest = model_forest.predict(features_valid)\n",
    "        result_forest = f1_score(target_valid, predictions_valid_forest) \n",
    "        print(result_forest)\n",
    "        probabilities_valid = model_forest.predict_proba(features_valid)\n",
    "        probabilities_one_valid = probabilities_valid[:, 1]\n",
    "        auc_roc_forest_simple=roc_auc_score(target_valid,probabilities_one_valid)\n",
    "        if result_forest > best_result_forest:\n",
    "            best_model_forest = model_forest\n",
    "            best_result_forest = result_forest\n",
    "print(\"F1 наилучшей модели forest:\", best_result_forest, \", при параметре n_estimators =\",est, ',при параметре max_depth =',depth, ', auc_roc равен', auc_roc_forest_simple )\n",
    "\n",
    "print('*********************************************************************************************************')\n",
    "best_model_logistict = None\n",
    "best_result_logistic = 0\n",
    "solver=['newton-cg', 'lbfgs', 'liblinear', 'sag', 'saga']\n",
    "for solver in solver:\n",
    "    model_logistic = LogisticRegression(random_state=1, solver=solver, max_iter=1000)\n",
    "    model_logistic.fit(features_train,target_train) \n",
    "    predictions_valid_logistic = model_logistic.predict(features_valid)\n",
    "    result_logistic = f1_score(target_valid, predictions_valid_logistic) \n",
    "    print(result_logistic,solver)\n",
    "    probabilities_valid = model_logistic.predict_proba(features_valid)\n",
    "    probabilities_one_valid = probabilities_valid[:, 1]\n",
    "    auc_roc_logistic_simple=roc_auc_score(target_valid,probabilities_one_valid)\n",
    "    if result_logistic > best_result_logistic:\n",
    "        best_model_logistic = model_logistic\n",
    "        best_result_logistic = result_logistic\n",
    "print(\"F1 наилучшей модели logistic:\", best_result_logistic, \", при параметре solver = \",solver, ', auc_roc равен', auc_roc_logistic_simple )"
   ]
  },
  {
   "cell_type": "markdown",
   "metadata": {},
   "source": [
    "При переборе гиперпараметров, F1 наилучшей модели forest: 0.583 , при параметре n_estimators = 46 ,при параметре max_depth = 19. Худшая модель - LogisticRegression с значением F1 = 0.295."
   ]
  },
  {
   "cell_type": "markdown",
   "metadata": {},
   "source": [
    "## Борьба с дисбалансом"
   ]
  },
  {
   "cell_type": "markdown",
   "metadata": {},
   "source": [
    "Преобразуем выборку методом увеличения данных.\n",
    "Разделяем обучающую выборку на отрицательные и положительные объекты;\n",
    "Скопируем несколько раз положительные объекты;\n",
    "С учётом полученных данных создаем новую обучающую выборку;\n",
    "Перемешиваем данные, в данном случае, 10 раз."
   ]
  },
  {
   "cell_type": "code",
   "execution_count": 27,
   "metadata": {},
   "outputs": [],
   "source": [
    "def upsample(features, target, repeat):\n",
    "    features_zeros = features[target == 0]\n",
    "    features_ones = features[target == 1]\n",
    "    target_zeros = target[target == 0]\n",
    "    target_ones = target[target == 1]\n",
    "\n",
    "    features_upsampled = pd.concat([features_zeros] + [features_ones] * repeat)\n",
    "    target_upsampled = pd.concat([target_zeros] + [target_ones] * repeat)\n",
    "    \n",
    "    features_upsampled, target_upsampled = shuffle(\n",
    "        features_upsampled, target_upsampled, random_state=12345)\n",
    "    \n",
    "    return features_upsampled, target_upsampled\n",
    "\n",
    "features_upsampled, target_upsampled = upsample(features_train, target_train, 10)"
   ]
  },
  {
   "cell_type": "markdown",
   "metadata": {},
   "source": [
    "Преобразуем выборку методом уменьшения данных\n",
    "Разделим обучающую выборку на отрицательные и положительные объекты;\n",
    "Случайным образом отбросим часть из отрицательных объектов;\n",
    "С учётом полученных данных создадим новую обучающую выборку;\n",
    "Перемешаем данные."
   ]
  },
  {
   "cell_type": "code",
   "execution_count": 28,
   "metadata": {},
   "outputs": [],
   "source": [
    "def downsample(features, target, fraction):\n",
    "    features_zeros = features[target == 0]\n",
    "    features_ones = features[target == 1]\n",
    "    target_zeros = target[target == 0]\n",
    "    target_ones = target[target == 1]\n",
    "\n",
    "    features_downsampled = pd.concat(\n",
    "        [features_zeros.sample(frac=fraction, random_state=12345)] + [features_ones])\n",
    "    target_downsampled = pd.concat(\n",
    "        [target_zeros.sample(frac=fraction, random_state=12345)] + [target_ones])\n",
    "    \n",
    "    features_downsampled, target_downsampled = shuffle(\n",
    "        features_downsampled, target_downsampled, random_state=12345)\n",
    "    \n",
    "    return features_downsampled, target_downsampled\n",
    "\n",
    "features_downsampled, target_downsampled = downsample(features_train, target_train, 0.1)"
   ]
  },
  {
   "cell_type": "markdown",
   "metadata": {},
   "source": [
    "Решил выбрать метод увеличения данных"
   ]
  },
  {
   "cell_type": "markdown",
   "metadata": {},
   "source": [
    "Теперь протестируем модель на выборке, применив метод upsample"
   ]
  },
  {
   "cell_type": "code",
   "execution_count": 29,
   "metadata": {
    "scrolled": false
   },
   "outputs": [
    {
     "name": "stdout",
     "output_type": "stream",
     "text": [
      "F1 лучшей модели tree: 0.5053598774885145 , при параметре max_depth = 9\n",
      "AUC-ROC модели дерева решений 0.7930340168391854\n",
      "CPU times: user 413 ms, sys: 0 ns, total: 413 ms\n",
      "Wall time: 412 ms\n"
     ]
    }
   ],
   "source": [
    "%%time\n",
    "best_model_tree_up = None\n",
    "best_result_tree_up = 0\n",
    "for depth in range(1,10):\n",
    "    model_tree_up = DecisionTreeClassifier(random_state=1, max_depth=depth)\n",
    "    model_tree_up.fit(features_upsampled, target_upsampled)\n",
    "    predictions_valid_tree_up = model_tree_up.predict(features_valid)\n",
    "    result_tree_up = f1_score(target_valid, predictions_valid_tree_up)\n",
    "    if result_tree>best_result_tree_up:\n",
    "        best_model_tree_up = model_tree_up\n",
    "        best_result_tree_up = result_tree_up\n",
    "print(\"F1 лучшей модели tree:\", best_result_tree_up, \", при параметре max_depth =\",depth )\n",
    "probabilities_valid_tree_up = best_model_tree_up.predict_proba(features_valid)\n",
    "probabilities_one_valid_tree_up = probabilities_valid_tree_up[:, 1]\n",
    "auc_roc_tree_up=roc_auc_score(target_valid,probabilities_one_valid_tree_up)\n",
    "print('AUC-ROC модели дерева решений', auc_roc_tree_up)"
   ]
  },
  {
   "cell_type": "code",
   "execution_count": 30,
   "metadata": {
    "scrolled": true
   },
   "outputs": [
    {
     "name": "stdout",
     "output_type": "stream",
     "text": [
      "F1 наилучшей модели forest: 0.615 , при параметре n_estimators = 46 ,при параметре max_depth = 19\n",
      "AUC-ROC модели случайного дерева 0.8571707942276826\n",
      "CPU times: user 26.5 s, sys: 29.5 ms, total: 26.5 s\n",
      "Wall time: 26.9 s\n"
     ]
    }
   ],
   "source": [
    "%%time\n",
    "best_model_forest_up = None\n",
    "best_result_forest_up = 0\n",
    "for est in range(30, 50, 4):\n",
    "     for depth in range(15,20,1):\n",
    "        model_forest_up = RandomForestClassifier(random_state=1, n_estimators=est, max_depth=depth) \n",
    "        model_forest_up.fit(features_upsampled, target_upsampled) \n",
    "        predictions_valid_forest_up = model_forest_up.predict(features_valid)\n",
    "        result_forest_up = f1_score(target_valid, predictions_valid_forest_up) \n",
    "        if result_forest_up > best_result_forest_up:\n",
    "            best_model_forest_up = model_forest_up\n",
    "            best_result_forest_up = result_forest_up\n",
    "print(\"F1 наилучшей модели forest:\", best_result_forest_up, \", при параметре n_estimators =\",est, ',при параметре max_depth =',depth )\n",
    "probabilities_valid_forest_up = best_model_forest_up.predict_proba(features_valid)\n",
    "probabilities_one_valid_forest_up = probabilities_valid_forest_up[:, 1]\n",
    "auc_roc_forest_up=roc_auc_score(target_valid,probabilities_one_valid_forest_up)\n",
    "print('AUC-ROC модели случайного дерева', auc_roc_forest_up)"
   ]
  },
  {
   "cell_type": "code",
   "execution_count": 31,
   "metadata": {
    "scrolled": true
   },
   "outputs": [
    {
     "name": "stdout",
     "output_type": "stream",
     "text": [
      "F1 наилучшей модели logistic: 0.4259055982436883 , при параметре solver =  saga\n",
      "AUC-ROC модели логистической регрессии 0.7772591269918873\n",
      "CPU times: user 2.11 s, sys: 1.85 s, total: 3.97 s\n",
      "Wall time: 4.02 s\n"
     ]
    }
   ],
   "source": [
    "%%time\n",
    "best_model_logistict_up = None\n",
    "best_result_logistic_up = 0\n",
    "solver=['newton-cg', 'lbfgs', 'liblinear', 'sag', 'saga']\n",
    "for solver in solver:\n",
    "    model_logistic_up = LogisticRegression(random_state=1, solver=solver, max_iter=1000)\n",
    "    model_logistic_up.fit(features_upsampled, target_upsampled) \n",
    "    predictions_valid_logistic_up = model_logistic_up.predict(features_valid)\n",
    "    result_logistic_up = f1_score(target_valid, predictions_valid_logistic_up) \n",
    "    if result_logistic_up > best_result_logistic_up:\n",
    "        best_model_logistic_up = model_logistic_up\n",
    "        best_result_logistic_up = result_logistic_up\n",
    "print(\"F1 наилучшей модели logistic:\", best_result_logistic_up, \", при параметре solver = \",solver)\n",
    "probabilities_valid_logistic_up = best_model_logistic_up.predict_proba(features_valid)\n",
    "probabilities_one_valid_logistic_up = probabilities_valid_logistic_up[:, 1]\n",
    "auc_roc_logistic_up=roc_auc_score(target_valid,probabilities_one_valid_logistic_up)\n",
    "print('AUC-ROC модели логистической регрессии', auc_roc_logistic_up)"
   ]
  },
  {
   "cell_type": "markdown",
   "metadata": {},
   "source": [
    "Теперь протестируем модель на выборке, применив метод downsample"
   ]
  },
  {
   "cell_type": "code",
   "execution_count": 32,
   "metadata": {},
   "outputs": [
    {
     "name": "stdout",
     "output_type": "stream",
     "text": [
      "F1 лучшей модели tree: 0.49644381223328593 , при параметре max_depth = 9\n",
      "AUC-ROC модели дерева решений 0.7827836855161043\n",
      "CPU times: user 148 ms, sys: 27.9 ms, total: 176 ms\n",
      "Wall time: 238 ms\n"
     ]
    }
   ],
   "source": [
    "%%time\n",
    "best_model_tree_down = None\n",
    "best_result_tree_down = 0\n",
    "for depth in range(1,10):\n",
    "    model_tree_down = DecisionTreeClassifier(random_state=1, max_depth=depth)\n",
    "    model_tree_down.fit(features_downsampled, target_downsampled)\n",
    "    predictions_valid_tree_down = model_tree_down.predict(features_valid)\n",
    "    result_tree_down = f1_score(target_valid, predictions_valid_tree_down)\n",
    "    if result_tree_down>best_result_tree_down:\n",
    "        best_model_tree_down = model_tree_down\n",
    "        best_result_tree_down = result_tree_down\n",
    "print(\"F1 лучшей модели tree:\", best_result_tree_down, \", при параметре max_depth =\",depth )\n",
    "probabilities_valid_tree_down = best_model_tree_down.predict_proba(features_valid)\n",
    "probabilities_one_valid_tree_down = probabilities_valid_tree_down[:, 1]\n",
    "auc_roc_tree_down=roc_auc_score(target_valid,probabilities_one_valid_tree_down)\n",
    "print('AUC-ROC модели дерева решений', auc_roc_tree_down)"
   ]
  },
  {
   "cell_type": "code",
   "execution_count": 33,
   "metadata": {},
   "outputs": [
    {
     "name": "stdout",
     "output_type": "stream",
     "text": [
      "F1 наилучшей модели forest: 0.48749198203976907 , при параметре n_estimators = 46 ,при параметре max_depth = 19\n",
      "AUC-ROC модели случайного дерева 0.8302347166416701\n",
      "CPU times: user 5.39 s, sys: 32.5 ms, total: 5.42 s\n",
      "Wall time: 5.67 s\n"
     ]
    }
   ],
   "source": [
    "%%time\n",
    "best_model_forest_down = None\n",
    "best_result_forest_down = 0\n",
    "for est in range(30, 50, 4):\n",
    "     for depth in range(15,20,1):\n",
    "        model_forest_down = RandomForestClassifier(random_state=1, n_estimators=est, max_depth=depth) \n",
    "        model_forest_down.fit(features_downsampled, target_downsampled) \n",
    "        predictions_valid_forest_down = model_forest_down.predict(features_valid)\n",
    "        result_forest_down = f1_score(target_valid, predictions_valid_forest_down) \n",
    "        if result_forest_down > best_result_forest_down:\n",
    "            best_model_forest_down = model_forest_down\n",
    "            best_result_forest_down = result_forest_down\n",
    "print(\"F1 наилучшей модели forest:\", best_result_forest_down, \", при параметре n_estimators =\",est, ',при параметре max_depth =',depth )\n",
    "probabilities_valid_forest_down = best_model_forest_down.predict_proba(features_valid)\n",
    "probabilities_one_valid_forest_down = probabilities_valid_forest_down[:, 1]\n",
    "auc_roc_forest_down=roc_auc_score(target_valid,probabilities_one_valid_forest_down)\n",
    "print('AUC-ROC модели случайного дерева', auc_roc_forest_down)"
   ]
  },
  {
   "cell_type": "code",
   "execution_count": 34,
   "metadata": {},
   "outputs": [
    {
     "name": "stdout",
     "output_type": "stream",
     "text": [
      "F1 наилучшей модели logistic: 0.4290465631929046 , при параметре solver =  saga\n",
      "AUC-ROC модели логистической регрессии 0.7741512337553911\n",
      "CPU times: user 1.29 s, sys: 1.59 s, total: 2.88 s\n",
      "Wall time: 2.87 s\n"
     ]
    }
   ],
   "source": [
    "%%time\n",
    "best_model_logistict_down = None\n",
    "best_result_logistic_down = 0\n",
    "solver=['newton-cg', 'lbfgs', 'liblinear', 'sag', 'saga']\n",
    "for solver in solver:\n",
    "    model_logistic_down = LogisticRegression(random_state=1, solver=solver, max_iter=1000)\n",
    "    model_logistic_down.fit(features_downsampled, target_downsampled) \n",
    "    predictions_valid_logistic_down = model_logistic_down.predict(features_valid)\n",
    "    result_logistic_down = f1_score(target_valid, predictions_valid_logistic_down) \n",
    "    if result_logistic_down > best_result_logistic_down:\n",
    "        best_model_logistic_down = model_logistic_down\n",
    "        best_result_logistic_down = result_logistic_down\n",
    "print(\"F1 наилучшей модели logistic:\", best_result_logistic_down, \", при параметре solver = \",solver)\n",
    "probabilities_valid_logistic_down = best_model_logistic_down.predict_proba(features_valid)\n",
    "probabilities_one_valid_logistic_down = probabilities_valid_logistic_down[:, 1]\n",
    "auc_roc_logistic_down=roc_auc_score(target_valid,probabilities_one_valid_logistic_down)\n",
    "print('AUC-ROC модели логистической регрессии', auc_roc_logistic_down)"
   ]
  },
  {
   "cell_type": "markdown",
   "metadata": {},
   "source": [
    "Продолжим применять методы борьбы с дисбалансом. Применим метод взвешивания классов."
   ]
  },
  {
   "cell_type": "code",
   "execution_count": 35,
   "metadata": {},
   "outputs": [
    {
     "name": "stdout",
     "output_type": "stream",
     "text": [
      "F1 лучшей модели tree: 0.5907407407407407 , при параметре max_depth = 9\n",
      "AUC-ROC модели дерева решений 0.8388491167475731\n",
      "CPU times: user 251 ms, sys: 11.5 ms, total: 262 ms\n",
      "Wall time: 268 ms\n"
     ]
    }
   ],
   "source": [
    "%%time\n",
    "best_model_tree_blnc = None\n",
    "best_result_tree_blnc = 0\n",
    "for depth in range(1,10):\n",
    "    model_tree_blnc = DecisionTreeClassifier(random_state=1, max_depth=depth,class_weight='balanced')\n",
    "    model_tree_blnc.fit(features_train, target_train)\n",
    "    predictions_valid_tree_blnc = model_tree_blnc.predict(features_valid)\n",
    "    result_tree_blnc = f1_score(target_valid, predictions_valid_tree_blnc)\n",
    "    if result_tree_blnc>best_result_tree_blnc:\n",
    "        best_model_tree_blnc = model_tree_blnc\n",
    "        best_result_tree_blnc = result_tree_blnc\n",
    "print(\"F1 лучшей модели tree:\", best_result_tree_blnc, \", при параметре max_depth =\",depth )\n",
    "probabilities_valid_tree_blnc = best_model_tree_blnc.predict_proba(features_valid)\n",
    "probabilities_one_valid_tree_blnc = probabilities_valid_tree_blnc[:, 1]\n",
    "auc_roc_tree_blnc=roc_auc_score(target_valid,probabilities_one_valid_tree_blnc)\n",
    "print('AUC-ROC модели дерева решений', auc_roc_tree_blnc)"
   ]
  },
  {
   "cell_type": "code",
   "execution_count": 36,
   "metadata": {},
   "outputs": [
    {
     "name": "stdout",
     "output_type": "stream",
     "text": [
      "F1 наилучшей модели forest: 0.6052631578947367 , при параметре n_estimators = 46 ,при параметре max_depth = 19\n",
      "AUC-ROC модели случайного дерева 0.8547729327470557\n",
      "CPU times: user 12.2 s, sys: 33.8 ms, total: 12.3 s\n",
      "Wall time: 13 s\n"
     ]
    }
   ],
   "source": [
    "%%time\n",
    "best_model_forest_blnc = None\n",
    "best_result_forest_blnc = 0\n",
    "for est in range(30, 50, 4):\n",
    "     for depth in range(15,20,1):\n",
    "        model_forest_blnc = RandomForestClassifier(random_state=1, n_estimators=est, max_depth=depth,class_weight='balanced') \n",
    "        model_forest_blnc.fit(features_train, target_train) \n",
    "        predictions_valid_forest_blnc = model_forest_blnc.predict(features_valid)\n",
    "        result_forest_blnc = f1_score(target_valid, predictions_valid_forest_blnc) \n",
    "        if result_forest_blnc > best_result_forest_blnc:\n",
    "            best_model_forest_blnc = model_forest_blnc\n",
    "            best_result_forest_blnc = result_forest_blnc\n",
    "print(\"F1 наилучшей модели forest:\", best_result_forest_blnc, \", при параметре n_estimators =\",est, ',при параметре max_depth =',depth )\n",
    "probabilities_valid_forest_blnc = best_model_forest_blnc.predict_proba(features_valid)\n",
    "probabilities_one_valid_forest_blnc = probabilities_valid_forest_blnc[:, 1]\n",
    "auc_roc_forest_blnc=roc_auc_score(target_valid,probabilities_one_valid_forest_blnc)\n",
    "print('AUC-ROC модели случайного дерева', auc_roc_forest_blnc)"
   ]
  },
  {
   "cell_type": "code",
   "execution_count": 37,
   "metadata": {},
   "outputs": [
    {
     "name": "stdout",
     "output_type": "stream",
     "text": [
      "F1 наилучшей модели logistic: 0.5080713678844521 , при параметре solver =  saga\n",
      "AUC-ROC модели логистической регрессии 0.7759774595003603\n",
      "CPU times: user 1.03 s, sys: 1.13 s, total: 2.16 s\n",
      "Wall time: 2.17 s\n"
     ]
    }
   ],
   "source": [
    "%%time\n",
    "best_model_logistict_blnc = None\n",
    "best_result_logistic_blnc = 0\n",
    "solver=['newton-cg', 'lbfgs', 'liblinear', 'sag', 'saga']\n",
    "for solver in solver:\n",
    "    model_logistic_blnc = LogisticRegression(random_state=1, solver=solver, max_iter=1000,class_weight='balanced')\n",
    "    model_logistic_blnc.fit(features_train, target_train) \n",
    "    predictions_valid_logistic_blnc = model_logistic_blnc.predict(features_valid)\n",
    "    result_logistic_blnc = f1_score(target_valid, predictions_valid_logistic_blnc) \n",
    "    if result_logistic_blnc > best_result_logistic_blnc:\n",
    "        best_model_logistic_blnc = model_logistic_blnc\n",
    "        best_result_logistic_blnc = result_logistic_blnc\n",
    "print(\"F1 наилучшей модели logistic:\", best_result_logistic_blnc, \", при параметре solver = \",solver)\n",
    "probabilities_valid_logistic_blnc = best_model_logistic_blnc.predict_proba(features_valid)\n",
    "probabilities_one_valid_logistic_blnc = probabilities_valid_logistic_blnc[:, 1]\n",
    "auc_roc_logistic_blnc=roc_auc_score(target_valid,probabilities_one_valid_logistic_blnc)\n",
    "print('AUC-ROC модели логистической регрессии', auc_roc_logistic_blnc)"
   ]
  },
  {
   "cell_type": "markdown",
   "metadata": {},
   "source": [
    "Приментив 3 метода борьбы с дисбалансом на трех моделях, выявлена лучшая модель случайного леса, полученная с помощью метода увеличения тестовой выборки.\n",
    "F1 наилучшей модели forest: 0.615 , при параметре n_estimators = 46 ,при параметре max_depth = 19\n",
    "AUC-ROC модели случайного дерева 0.8571707942276826\n",
    "CPU times: user 20.6 s, sys: 4.58 ms, total: 20.6 s\n",
    "Wall time: 21 s"
   ]
  },
  {
   "cell_type": "markdown",
   "metadata": {},
   "source": [
    "## Тестирование модели"
   ]
  },
  {
   "cell_type": "markdown",
   "metadata": {},
   "source": [
    "Протестируем лучшую модель на тестовой выборке."
   ]
  },
  {
   "cell_type": "code",
   "execution_count": 41,
   "metadata": {},
   "outputs": [
    {
     "name": "stdout",
     "output_type": "stream",
     "text": [
      "F1 наилучшей тестовой forest: 0.6143437077131259 , при параметре n_estimators = 46 ,при параметре max_depth = 19\n",
      "AUC-ROC тестовой модели случайного дерева 0.8529279686558168\n",
      "CPU times: user 1.36 s, sys: 1.68 ms, total: 1.36 s\n",
      "Wall time: 1.36 s\n"
     ]
    }
   ],
   "source": [
    "%%time\n",
    "model_forest_test = RandomForestClassifier(random_state=1, n_estimators=46, max_depth=19) \n",
    "model_forest_test.fit(features_upsampled, target_upsampled) \n",
    "predictions_forest_test = model_forest_test.predict(features_test)\n",
    "result_forest_test = f1_score(target_test, predictions_forest_test) \n",
    "print(\"F1 наилучшей тестовой forest:\", result_forest_test, \", при параметре n_estimators =\",est, ',при параметре max_depth =',depth )\n",
    "probabilities_forest_test = model_forest_test.predict_proba(features_test)\n",
    "probabilities_one_forest_test = probabilities_forest_test[:, 1]\n",
    "auc_roc_forest_test=roc_auc_score(target_test,probabilities_one_forest_test)\n",
    "print('AUC-ROC тестовой модели случайного дерева', auc_roc_forest_test)"
   ]
  },
  {
   "cell_type": "markdown",
   "metadata": {},
   "source": [
    "Финальная сравнительная таблица результатов моделей"
   ]
  },
  {
   "cell_type": "code",
   "execution_count": 42,
   "metadata": {},
   "outputs": [
    {
     "data": {
      "text/html": [
       "<div>\n",
       "<style scoped>\n",
       "    .dataframe tbody tr th:only-of-type {\n",
       "        vertical-align: middle;\n",
       "    }\n",
       "\n",
       "    .dataframe tbody tr th {\n",
       "        vertical-align: top;\n",
       "    }\n",
       "\n",
       "    .dataframe thead th {\n",
       "        text-align: right;\n",
       "    }\n",
       "</style>\n",
       "<table border=\"1\" class=\"dataframe\">\n",
       "  <thead>\n",
       "    <tr style=\"text-align: right;\">\n",
       "      <th></th>\n",
       "      <th>model</th>\n",
       "      <th>result_F1_simple</th>\n",
       "      <th>auc_roc_simple</th>\n",
       "      <th>result_F1_up</th>\n",
       "      <th>auc_roc_up</th>\n",
       "      <th>result_F1_down</th>\n",
       "      <th>auc_roc_down</th>\n",
       "      <th>result_F1_blnc</th>\n",
       "      <th>auc_roc_blnc</th>\n",
       "      <th>result_F1_test</th>\n",
       "      <th>auc_roc_test</th>\n",
       "    </tr>\n",
       "  </thead>\n",
       "  <tbody>\n",
       "    <tr>\n",
       "      <th>0</th>\n",
       "      <td>forest</td>\n",
       "      <td>0.612006</td>\n",
       "      <td>0.853548</td>\n",
       "      <td>0.615000</td>\n",
       "      <td>0.857171</td>\n",
       "      <td>0.487492</td>\n",
       "      <td>0.830235</td>\n",
       "      <td>0.605263</td>\n",
       "      <td>0.854773</td>\n",
       "      <td>0.614344</td>\n",
       "      <td>0.852928</td>\n",
       "    </tr>\n",
       "    <tr>\n",
       "      <th>1</th>\n",
       "      <td>tree</td>\n",
       "      <td>0.611413</td>\n",
       "      <td>0.785906</td>\n",
       "      <td>0.505360</td>\n",
       "      <td>0.793034</td>\n",
       "      <td>0.496444</td>\n",
       "      <td>0.782784</td>\n",
       "      <td>0.590741</td>\n",
       "      <td>0.838849</td>\n",
       "      <td>NaN</td>\n",
       "      <td>NaN</td>\n",
       "    </tr>\n",
       "    <tr>\n",
       "      <th>2</th>\n",
       "      <td>logistic</td>\n",
       "      <td>0.325664</td>\n",
       "      <td>0.771595</td>\n",
       "      <td>0.425906</td>\n",
       "      <td>0.777259</td>\n",
       "      <td>0.429047</td>\n",
       "      <td>0.774151</td>\n",
       "      <td>0.508071</td>\n",
       "      <td>0.775977</td>\n",
       "      <td>NaN</td>\n",
       "      <td>NaN</td>\n",
       "    </tr>\n",
       "  </tbody>\n",
       "</table>\n",
       "</div>"
      ],
      "text/plain": [
       "      model  result_F1_simple  auc_roc_simple  result_F1_up  auc_roc_up  \\\n",
       "0    forest          0.612006        0.853548      0.615000    0.857171   \n",
       "1      tree          0.611413        0.785906      0.505360    0.793034   \n",
       "2  logistic          0.325664        0.771595      0.425906    0.777259   \n",
       "\n",
       "   result_F1_down  auc_roc_down  result_F1_blnc  auc_roc_blnc  result_F1_test  \\\n",
       "0        0.487492      0.830235        0.605263      0.854773        0.614344   \n",
       "1        0.496444      0.782784        0.590741      0.838849             NaN   \n",
       "2        0.429047      0.774151        0.508071      0.775977             NaN   \n",
       "\n",
       "   auc_roc_test  \n",
       "0      0.852928  \n",
       "1           NaN  \n",
       "2           NaN  "
      ]
     },
     "execution_count": 42,
     "metadata": {},
     "output_type": "execute_result"
    }
   ],
   "source": [
    "status = pd.DataFrame([['tree', best_result_tree,     auc_roc_tree_simple,     best_result_tree_up,     auc_roc_tree_up,     best_result_tree_down,     auc_roc_tree_down,     best_result_tree_blnc,     auc_roc_tree_blnc],\n",
    "                  ['forest',    best_result_forest,   auc_roc_forest_simple,   best_result_forest_up,   auc_roc_forest_up,   best_result_forest_down,   auc_roc_forest_down,   best_result_forest_blnc,   auc_roc_forest_blnc,  result_forest_test, auc_roc_forest_test],\n",
    "                  ['logistic',  best_result_logistic, auc_roc_logistic_simple, best_result_logistic_up, auc_roc_logistic_up, best_result_logistic_down, auc_roc_logistic_down, best_result_logistic_blnc, auc_roc_logistic_blnc]],\n",
    "columns=['model','result_F1_simple', 'auc_roc_simple', 'result_F1_up', 'auc_roc_up','result_F1_down','auc_roc_down','result_F1_blnc','auc_roc_blnc','result_F1_test','auc_roc_test'])\n",
    "status.sort_values('result_F1_test', ascending=False).reset_index(drop=True)"
   ]
  },
  {
   "cell_type": "markdown",
   "metadata": {},
   "source": [
    "## Вывод"
   ]
  },
  {
   "cell_type": "markdown",
   "metadata": {},
   "source": [
    "Протестировав разные модели с различными гиперпараметрами и методами баланса класснов, по метрике F1, равной 0.615 на валидационной выборке и методом увеличения тренировочной выборки, была протестирована тестовая выборка. По результатам теста мы получили F1 = 0.614, AUC-ROC = 0.853.\n",
    "AUC-ROC говорит об отличии от случайной модели и средней доли истинно положительных ответов."
   ]
  }
 ],
 "metadata": {
  "ExecuteTimeLog": [
   {
    "duration": 47,
    "start_time": "2022-04-21T15:34:46.947Z"
   },
   {
    "duration": 409,
    "start_time": "2022-04-21T15:34:47.977Z"
   },
   {
    "duration": 25,
    "start_time": "2022-04-21T15:34:48.388Z"
   },
   {
    "duration": 20,
    "start_time": "2022-04-21T15:34:54.229Z"
   },
   {
    "duration": 32,
    "start_time": "2022-04-21T15:36:47.473Z"
   },
   {
    "duration": 7,
    "start_time": "2022-04-21T15:36:50.901Z"
   },
   {
    "duration": 8,
    "start_time": "2022-04-21T15:37:04.572Z"
   },
   {
    "duration": 35,
    "start_time": "2022-04-21T15:38:53.194Z"
   },
   {
    "duration": 12,
    "start_time": "2022-04-21T15:39:25.910Z"
   },
   {
    "duration": 21,
    "start_time": "2022-04-21T15:39:27.944Z"
   },
   {
    "duration": 6,
    "start_time": "2022-04-21T15:39:28.234Z"
   },
   {
    "duration": 22,
    "start_time": "2022-04-21T15:39:33.243Z"
   },
   {
    "duration": 4,
    "start_time": "2022-04-21T15:40:47.661Z"
   },
   {
    "duration": 13,
    "start_time": "2022-04-21T15:43:04.487Z"
   },
   {
    "duration": 11,
    "start_time": "2022-04-21T15:43:07.567Z"
   },
   {
    "duration": 1374,
    "start_time": "2022-04-21T15:44:20.431Z"
   },
   {
    "duration": 7,
    "start_time": "2022-04-21T15:44:32.032Z"
   },
   {
    "duration": 6,
    "start_time": "2022-04-21T15:44:38.811Z"
   },
   {
    "duration": 5,
    "start_time": "2022-04-21T15:44:41.726Z"
   },
   {
    "duration": 21,
    "start_time": "2022-04-21T15:50:21.605Z"
   },
   {
    "duration": 4,
    "start_time": "2022-04-21T15:52:31.028Z"
   },
   {
    "duration": 18,
    "start_time": "2022-04-21T15:52:34.913Z"
   },
   {
    "duration": 5,
    "start_time": "2022-04-21T15:52:43.763Z"
   },
   {
    "duration": 18,
    "start_time": "2022-04-21T15:52:44.302Z"
   },
   {
    "duration": 9,
    "start_time": "2022-04-21T15:53:01.386Z"
   },
   {
    "duration": 5,
    "start_time": "2022-04-21T15:53:09.031Z"
   },
   {
    "duration": 31,
    "start_time": "2022-04-21T15:53:36.562Z"
   },
   {
    "duration": 12,
    "start_time": "2022-04-21T15:53:49.203Z"
   },
   {
    "duration": 9,
    "start_time": "2022-04-21T15:54:04.033Z"
   },
   {
    "duration": 8,
    "start_time": "2022-04-21T15:54:27.100Z"
   },
   {
    "duration": 7,
    "start_time": "2022-04-21T15:54:30.764Z"
   },
   {
    "duration": 7,
    "start_time": "2022-04-21T15:55:03.307Z"
   },
   {
    "duration": 7,
    "start_time": "2022-04-21T15:55:06.930Z"
   },
   {
    "duration": 393,
    "start_time": "2022-04-22T08:03:49.235Z"
   },
   {
    "duration": 654,
    "start_time": "2022-04-22T08:03:49.630Z"
   },
   {
    "duration": 27,
    "start_time": "2022-04-22T08:03:50.286Z"
   },
   {
    "duration": 3,
    "start_time": "2022-04-22T08:03:50.315Z"
   },
   {
    "duration": 36,
    "start_time": "2022-04-22T08:03:50.319Z"
   },
   {
    "duration": 17,
    "start_time": "2022-04-22T08:03:50.356Z"
   },
   {
    "duration": 18,
    "start_time": "2022-04-22T08:03:50.375Z"
   },
   {
    "duration": 6,
    "start_time": "2022-04-22T08:03:52.215Z"
   },
   {
    "duration": 10,
    "start_time": "2022-04-22T08:03:55.995Z"
   },
   {
    "duration": 91,
    "start_time": "2022-04-22T08:16:18.376Z"
   },
   {
    "duration": 22,
    "start_time": "2022-04-22T08:21:48.752Z"
   },
   {
    "duration": 4,
    "start_time": "2022-04-22T08:30:04.883Z"
   },
   {
    "duration": 4,
    "start_time": "2022-04-22T08:30:10.393Z"
   },
   {
    "duration": 61,
    "start_time": "2022-04-22T08:30:17.381Z"
   },
   {
    "duration": 7,
    "start_time": "2022-04-22T08:30:30.832Z"
   },
   {
    "duration": 7,
    "start_time": "2022-04-22T08:30:39.853Z"
   },
   {
    "duration": 5,
    "start_time": "2022-04-22T08:30:49.152Z"
   },
   {
    "duration": 6,
    "start_time": "2022-04-22T08:31:01.873Z"
   },
   {
    "duration": 4,
    "start_time": "2022-04-22T08:32:57.814Z"
   },
   {
    "duration": 7,
    "start_time": "2022-04-22T08:33:54.912Z"
   },
   {
    "duration": 16,
    "start_time": "2022-04-22T08:33:58.872Z"
   },
   {
    "duration": 6,
    "start_time": "2022-04-22T08:35:02.253Z"
   },
   {
    "duration": 6,
    "start_time": "2022-04-22T08:35:09.552Z"
   },
   {
    "duration": 5,
    "start_time": "2022-04-22T08:35:22.693Z"
   },
   {
    "duration": 11,
    "start_time": "2022-04-22T08:36:19.052Z"
   },
   {
    "duration": 6,
    "start_time": "2022-04-22T08:36:28.753Z"
   },
   {
    "duration": 12,
    "start_time": "2022-04-22T08:36:51.912Z"
   },
   {
    "duration": 11,
    "start_time": "2022-04-22T08:37:20.533Z"
   },
   {
    "duration": 83,
    "start_time": "2022-04-22T08:38:10.493Z"
   },
   {
    "duration": 3,
    "start_time": "2022-04-22T08:38:20.913Z"
   },
   {
    "duration": 12,
    "start_time": "2022-04-22T08:38:31.193Z"
   },
   {
    "duration": 23,
    "start_time": "2022-04-22T08:44:34.593Z"
   },
   {
    "duration": 9,
    "start_time": "2022-04-22T08:47:12.652Z"
   },
   {
    "duration": 24,
    "start_time": "2022-04-22T08:47:28.541Z"
   },
   {
    "duration": 12,
    "start_time": "2022-04-22T08:47:51.252Z"
   },
   {
    "duration": 12,
    "start_time": "2022-04-22T08:47:55.393Z"
   },
   {
    "duration": 11,
    "start_time": "2022-04-22T08:48:03.033Z"
   },
   {
    "duration": 24,
    "start_time": "2022-04-22T08:48:06.073Z"
   },
   {
    "duration": 12,
    "start_time": "2022-04-22T08:50:22.513Z"
   },
   {
    "duration": 56,
    "start_time": "2022-04-22T08:50:32.981Z"
   },
   {
    "duration": 561,
    "start_time": "2022-04-22T12:10:31.300Z"
   },
   {
    "duration": 50,
    "start_time": "2022-04-22T12:10:31.864Z"
   },
   {
    "duration": 42,
    "start_time": "2022-04-22T12:10:31.916Z"
   },
   {
    "duration": 4,
    "start_time": "2022-04-22T12:10:32.160Z"
   },
   {
    "duration": 8,
    "start_time": "2022-04-22T12:10:32.502Z"
   },
   {
    "duration": 18,
    "start_time": "2022-04-22T12:10:32.728Z"
   },
   {
    "duration": 10,
    "start_time": "2022-04-22T12:10:32.921Z"
   },
   {
    "duration": 16,
    "start_time": "2022-04-22T12:10:33.302Z"
   },
   {
    "duration": 34,
    "start_time": "2022-04-22T12:10:33.740Z"
   },
   {
    "duration": 27,
    "start_time": "2022-04-22T12:10:34.204Z"
   },
   {
    "duration": 20,
    "start_time": "2022-04-22T12:10:34.721Z"
   },
   {
    "duration": 19,
    "start_time": "2022-04-22T12:10:34.946Z"
   },
   {
    "duration": 25,
    "start_time": "2022-04-22T12:10:35.181Z"
   },
   {
    "duration": 44,
    "start_time": "2022-04-22T12:10:35.680Z"
   },
   {
    "duration": 68,
    "start_time": "2022-04-22T12:10:36.879Z"
   },
   {
    "duration": 139,
    "start_time": "2022-04-22T12:10:38.159Z"
   },
   {
    "duration": 162,
    "start_time": "2022-04-22T12:10:47.009Z"
   },
   {
    "duration": 35,
    "start_time": "2022-04-22T12:25:38.719Z"
   },
   {
    "duration": 105,
    "start_time": "2022-04-22T12:28:29.700Z"
   },
   {
    "duration": 11,
    "start_time": "2022-04-22T12:28:39.600Z"
   },
   {
    "duration": 7,
    "start_time": "2022-04-22T12:29:46.320Z"
   },
   {
    "duration": 34,
    "start_time": "2022-04-22T12:29:49.359Z"
   },
   {
    "duration": 22,
    "start_time": "2022-04-22T12:31:01.705Z"
   },
   {
    "duration": 1174,
    "start_time": "2022-04-22T12:31:23.823Z"
   },
   {
    "duration": 49,
    "start_time": "2022-04-22T12:31:27.080Z"
   },
   {
    "duration": 34,
    "start_time": "2022-04-22T12:31:27.600Z"
   },
   {
    "duration": 4,
    "start_time": "2022-04-22T12:31:28.106Z"
   },
   {
    "duration": 8,
    "start_time": "2022-04-22T12:31:28.508Z"
   },
   {
    "duration": 22,
    "start_time": "2022-04-22T12:31:28.680Z"
   },
   {
    "duration": 13,
    "start_time": "2022-04-22T12:31:28.861Z"
   },
   {
    "duration": 11,
    "start_time": "2022-04-22T12:31:29.208Z"
   },
   {
    "duration": 36,
    "start_time": "2022-04-22T12:31:29.600Z"
   },
   {
    "duration": 19,
    "start_time": "2022-04-22T12:31:29.940Z"
   },
   {
    "duration": 18,
    "start_time": "2022-04-22T12:31:30.300Z"
   },
   {
    "duration": 28,
    "start_time": "2022-04-22T12:31:30.480Z"
   },
   {
    "duration": 18,
    "start_time": "2022-04-22T12:31:30.661Z"
   },
   {
    "duration": 42,
    "start_time": "2022-04-22T12:31:31.020Z"
   },
   {
    "duration": 59,
    "start_time": "2022-04-22T12:31:31.420Z"
   },
   {
    "duration": 6,
    "start_time": "2022-04-22T12:31:32.300Z"
   },
   {
    "duration": 29,
    "start_time": "2022-04-22T12:31:32.650Z"
   },
   {
    "duration": 8,
    "start_time": "2022-04-22T12:31:32.920Z"
   },
   {
    "duration": 43,
    "start_time": "2022-04-22T12:50:18.383Z"
   },
   {
    "duration": 973,
    "start_time": "2022-04-22T12:53:44.344Z"
   },
   {
    "duration": 18,
    "start_time": "2022-04-22T12:54:44.623Z"
   },
   {
    "duration": 542,
    "start_time": "2022-04-22T12:54:53.864Z"
   },
   {
    "duration": 1359,
    "start_time": "2022-04-22T12:55:03.823Z"
   },
   {
    "duration": 1778,
    "start_time": "2022-04-22T12:55:17.843Z"
   },
   {
    "duration": 2351,
    "start_time": "2022-04-22T12:55:28.783Z"
   },
   {
    "duration": 279,
    "start_time": "2022-04-22T13:04:55.444Z"
   },
   {
    "duration": 27,
    "start_time": "2022-04-22T13:32:59.237Z"
   },
   {
    "duration": 13,
    "start_time": "2022-04-22T13:33:23.137Z"
   },
   {
    "duration": 29,
    "start_time": "2022-04-22T13:33:24.398Z"
   },
   {
    "duration": 27,
    "start_time": "2022-04-22T13:33:34.158Z"
   },
   {
    "duration": 27,
    "start_time": "2022-04-22T13:34:22.117Z"
   },
   {
    "duration": 6,
    "start_time": "2022-04-22T13:50:29.177Z"
   },
   {
    "duration": 5,
    "start_time": "2022-04-22T13:51:19.457Z"
   },
   {
    "duration": 5,
    "start_time": "2022-04-22T13:51:19.858Z"
   },
   {
    "duration": 26,
    "start_time": "2022-04-22T13:51:28.657Z"
   },
   {
    "duration": 11,
    "start_time": "2022-04-22T13:53:56.507Z"
   },
   {
    "duration": 20,
    "start_time": "2022-04-22T13:58:54.219Z"
   },
   {
    "duration": 64,
    "start_time": "2022-04-22T13:59:11.399Z"
   },
   {
    "duration": 27,
    "start_time": "2022-04-22T13:59:11.600Z"
   },
   {
    "duration": 33,
    "start_time": "2022-04-22T13:59:11.759Z"
   },
   {
    "duration": 5,
    "start_time": "2022-04-22T13:59:12.079Z"
   },
   {
    "duration": 6,
    "start_time": "2022-04-22T13:59:12.359Z"
   },
   {
    "duration": 19,
    "start_time": "2022-04-22T13:59:12.499Z"
   },
   {
    "duration": 9,
    "start_time": "2022-04-22T13:59:12.660Z"
   },
   {
    "duration": 12,
    "start_time": "2022-04-22T13:59:12.939Z"
   },
   {
    "duration": 34,
    "start_time": "2022-04-22T13:59:13.219Z"
   },
   {
    "duration": 20,
    "start_time": "2022-04-22T13:59:13.559Z"
   },
   {
    "duration": 19,
    "start_time": "2022-04-22T13:59:13.859Z"
   },
   {
    "duration": 18,
    "start_time": "2022-04-22T13:59:13.996Z"
   },
   {
    "duration": 19,
    "start_time": "2022-04-22T13:59:14.159Z"
   },
   {
    "duration": 50,
    "start_time": "2022-04-22T13:59:14.519Z"
   },
   {
    "duration": 56,
    "start_time": "2022-04-22T13:59:14.819Z"
   },
   {
    "duration": 6,
    "start_time": "2022-04-22T13:59:15.159Z"
   },
   {
    "duration": 21,
    "start_time": "2022-04-22T13:59:15.319Z"
   },
   {
    "duration": 1462,
    "start_time": "2022-04-22T13:59:15.660Z"
   },
   {
    "duration": 12,
    "start_time": "2022-04-22T13:59:17.125Z"
   },
   {
    "duration": 45,
    "start_time": "2022-04-22T13:59:17.139Z"
   },
   {
    "duration": 4,
    "start_time": "2022-04-22T13:59:17.187Z"
   },
   {
    "duration": 13,
    "start_time": "2022-04-22T13:59:17.193Z"
   },
   {
    "duration": 34,
    "start_time": "2022-04-22T13:59:17.208Z"
   },
   {
    "duration": 26,
    "start_time": "2022-04-22T13:59:45.379Z"
   },
   {
    "duration": 25,
    "start_time": "2022-04-22T14:00:04.882Z"
   },
   {
    "duration": 6,
    "start_time": "2022-04-22T14:20:19.759Z"
   },
   {
    "duration": 29,
    "start_time": "2022-04-22T14:20:21.001Z"
   },
   {
    "duration": 33,
    "start_time": "2022-04-22T14:20:21.199Z"
   },
   {
    "duration": 5,
    "start_time": "2022-04-22T14:20:21.519Z"
   },
   {
    "duration": 5,
    "start_time": "2022-04-22T14:20:21.827Z"
   },
   {
    "duration": 17,
    "start_time": "2022-04-22T14:20:21.979Z"
   },
   {
    "duration": 9,
    "start_time": "2022-04-22T14:20:22.119Z"
   },
   {
    "duration": 11,
    "start_time": "2022-04-22T14:20:22.439Z"
   },
   {
    "duration": 33,
    "start_time": "2022-04-22T14:20:22.738Z"
   },
   {
    "duration": 20,
    "start_time": "2022-04-22T14:20:22.993Z"
   },
   {
    "duration": 18,
    "start_time": "2022-04-22T14:20:23.279Z"
   },
   {
    "duration": 18,
    "start_time": "2022-04-22T14:20:23.419Z"
   },
   {
    "duration": 18,
    "start_time": "2022-04-22T14:20:23.559Z"
   },
   {
    "duration": 40,
    "start_time": "2022-04-22T14:20:23.879Z"
   },
   {
    "duration": 55,
    "start_time": "2022-04-22T14:20:24.259Z"
   },
   {
    "duration": 5,
    "start_time": "2022-04-22T14:20:24.739Z"
   },
   {
    "duration": 22,
    "start_time": "2022-04-22T14:20:25.039Z"
   },
   {
    "duration": 1396,
    "start_time": "2022-04-22T14:20:25.619Z"
   },
   {
    "duration": 13,
    "start_time": "2022-04-22T14:20:27.017Z"
   },
   {
    "duration": 28,
    "start_time": "2022-04-22T14:20:27.032Z"
   },
   {
    "duration": 4,
    "start_time": "2022-04-22T14:20:27.082Z"
   },
   {
    "duration": 13,
    "start_time": "2022-04-22T14:20:27.088Z"
   },
   {
    "duration": 32,
    "start_time": "2022-04-22T14:20:27.103Z"
   },
   {
    "duration": 6,
    "start_time": "2022-04-22T15:42:13.883Z"
   },
   {
    "duration": 27,
    "start_time": "2022-04-22T15:42:14.023Z"
   },
   {
    "duration": 33,
    "start_time": "2022-04-22T15:42:14.144Z"
   },
   {
    "duration": 5,
    "start_time": "2022-04-22T15:42:14.403Z"
   },
   {
    "duration": 5,
    "start_time": "2022-04-22T15:42:14.663Z"
   },
   {
    "duration": 25,
    "start_time": "2022-04-22T15:42:14.783Z"
   },
   {
    "duration": 9,
    "start_time": "2022-04-22T15:42:14.911Z"
   },
   {
    "duration": 11,
    "start_time": "2022-04-22T15:42:15.192Z"
   },
   {
    "duration": 33,
    "start_time": "2022-04-22T15:42:15.503Z"
   },
   {
    "duration": 20,
    "start_time": "2022-04-22T15:42:15.784Z"
   },
   {
    "duration": 18,
    "start_time": "2022-04-22T15:42:16.104Z"
   },
   {
    "duration": 18,
    "start_time": "2022-04-22T15:42:16.743Z"
   },
   {
    "duration": 18,
    "start_time": "2022-04-22T15:42:17.283Z"
   },
   {
    "duration": 38,
    "start_time": "2022-04-22T15:42:18.107Z"
   },
   {
    "duration": 55,
    "start_time": "2022-04-22T15:42:19.617Z"
   },
   {
    "duration": 6,
    "start_time": "2022-04-22T15:42:20.563Z"
   },
   {
    "duration": 23,
    "start_time": "2022-04-22T15:42:21.083Z"
   },
   {
    "duration": 1488,
    "start_time": "2022-04-22T15:42:21.803Z"
   },
   {
    "duration": 12,
    "start_time": "2022-04-22T15:42:23.294Z"
   },
   {
    "duration": 29,
    "start_time": "2022-04-22T15:42:23.308Z"
   },
   {
    "duration": 4,
    "start_time": "2022-04-22T15:42:23.340Z"
   },
   {
    "duration": 13,
    "start_time": "2022-04-22T15:42:23.382Z"
   },
   {
    "duration": 31,
    "start_time": "2022-04-22T15:42:23.563Z"
   },
   {
    "duration": 38,
    "start_time": "2022-04-22T15:42:52.851Z"
   },
   {
    "duration": 9,
    "start_time": "2022-04-22T15:45:33.083Z"
   },
   {
    "duration": 1938,
    "start_time": "2022-04-22T15:46:30.459Z"
   },
   {
    "duration": 32,
    "start_time": "2022-04-22T15:46:32.400Z"
   },
   {
    "duration": 50,
    "start_time": "2022-04-22T15:46:32.435Z"
   },
   {
    "duration": 4,
    "start_time": "2022-04-22T15:46:32.487Z"
   },
   {
    "duration": 6,
    "start_time": "2022-04-22T15:46:32.494Z"
   },
   {
    "duration": 21,
    "start_time": "2022-04-22T15:46:32.503Z"
   },
   {
    "duration": 8,
    "start_time": "2022-04-22T15:46:32.526Z"
   },
   {
    "duration": 51,
    "start_time": "2022-04-22T15:46:32.536Z"
   },
   {
    "duration": 36,
    "start_time": "2022-04-22T15:46:32.589Z"
   },
   {
    "duration": 9,
    "start_time": "2022-04-22T15:46:32.627Z"
   },
   {
    "duration": 50,
    "start_time": "2022-04-22T15:46:32.638Z"
   },
   {
    "duration": 17,
    "start_time": "2022-04-22T15:46:32.691Z"
   },
   {
    "duration": 18,
    "start_time": "2022-04-22T15:46:32.710Z"
   },
   {
    "duration": 17,
    "start_time": "2022-04-22T15:46:32.732Z"
   },
   {
    "duration": 39,
    "start_time": "2022-04-22T15:46:32.782Z"
   },
   {
    "duration": 80,
    "start_time": "2022-04-22T15:46:32.823Z"
   },
   {
    "duration": 5,
    "start_time": "2022-04-22T15:46:32.906Z"
   },
   {
    "duration": 25,
    "start_time": "2022-04-22T15:46:32.914Z"
   },
   {
    "duration": 1423,
    "start_time": "2022-04-22T15:46:32.942Z"
   },
   {
    "duration": 20,
    "start_time": "2022-04-22T15:46:34.367Z"
   },
   {
    "duration": 27,
    "start_time": "2022-04-22T15:46:34.390Z"
   },
   {
    "duration": 4,
    "start_time": "2022-04-22T15:46:34.419Z"
   },
   {
    "duration": 13,
    "start_time": "2022-04-22T15:46:34.426Z"
   },
   {
    "duration": 64,
    "start_time": "2022-04-22T15:46:34.442Z"
   },
   {
    "duration": 190,
    "start_time": "2022-04-22T15:46:34.508Z"
   },
   {
    "duration": 9,
    "start_time": "2022-04-22T15:47:47.922Z"
   },
   {
    "duration": 6,
    "start_time": "2022-04-22T15:47:58.182Z"
   },
   {
    "duration": 8,
    "start_time": "2022-04-22T15:48:00.273Z"
   },
   {
    "duration": 24,
    "start_time": "2022-04-22T15:48:02.262Z"
   },
   {
    "duration": 25,
    "start_time": "2022-04-22T15:48:02.582Z"
   },
   {
    "duration": 2233,
    "start_time": "2022-04-22T15:48:02.714Z"
   },
   {
    "duration": 0,
    "start_time": "2022-04-22T15:48:04.950Z"
   },
   {
    "duration": 0,
    "start_time": "2022-04-22T15:48:04.952Z"
   },
   {
    "duration": 0,
    "start_time": "2022-04-22T15:48:04.955Z"
   },
   {
    "duration": 0,
    "start_time": "2022-04-22T15:48:04.957Z"
   },
   {
    "duration": 0,
    "start_time": "2022-04-22T15:48:04.961Z"
   },
   {
    "duration": 0,
    "start_time": "2022-04-22T15:48:04.963Z"
   },
   {
    "duration": 0,
    "start_time": "2022-04-22T15:48:04.965Z"
   },
   {
    "duration": 37,
    "start_time": "2022-04-22T15:48:04.969Z"
   },
   {
    "duration": 4,
    "start_time": "2022-04-22T15:48:05.079Z"
   },
   {
    "duration": 10,
    "start_time": "2022-04-22T15:48:05.262Z"
   },
   {
    "duration": 32,
    "start_time": "2022-04-22T15:48:05.402Z"
   },
   {
    "duration": 31,
    "start_time": "2022-04-22T15:48:06.029Z"
   },
   {
    "duration": 30,
    "start_time": "2022-04-22T15:48:13.829Z"
   },
   {
    "duration": 2531,
    "start_time": "2022-04-22T15:48:22.903Z"
   },
   {
    "duration": 42,
    "start_time": "2022-04-22T15:48:25.438Z"
   },
   {
    "duration": 54,
    "start_time": "2022-04-22T15:48:25.482Z"
   },
   {
    "duration": 5,
    "start_time": "2022-04-22T15:48:25.539Z"
   },
   {
    "duration": 6,
    "start_time": "2022-04-22T15:48:25.547Z"
   },
   {
    "duration": 44,
    "start_time": "2022-04-22T15:48:25.555Z"
   },
   {
    "duration": 10,
    "start_time": "2022-04-22T15:48:25.601Z"
   },
   {
    "duration": 16,
    "start_time": "2022-04-22T15:48:25.614Z"
   },
   {
    "duration": 75,
    "start_time": "2022-04-22T15:48:25.632Z"
   },
   {
    "duration": 6,
    "start_time": "2022-04-22T15:48:25.713Z"
   },
   {
    "duration": 10,
    "start_time": "2022-04-22T15:48:25.722Z"
   },
   {
    "duration": 54,
    "start_time": "2022-04-22T15:48:25.735Z"
   },
   {
    "duration": 19,
    "start_time": "2022-04-22T15:48:25.792Z"
   },
   {
    "duration": 18,
    "start_time": "2022-04-22T15:48:25.814Z"
   },
   {
    "duration": 52,
    "start_time": "2022-04-22T15:48:25.834Z"
   },
   {
    "duration": 38,
    "start_time": "2022-04-22T15:48:25.888Z"
   },
   {
    "duration": 74,
    "start_time": "2022-04-22T15:48:25.929Z"
   },
   {
    "duration": 6,
    "start_time": "2022-04-22T15:48:26.005Z"
   },
   {
    "duration": 24,
    "start_time": "2022-04-22T15:48:26.013Z"
   },
   {
    "duration": 1431,
    "start_time": "2022-04-22T15:48:26.040Z"
   },
   {
    "duration": 18,
    "start_time": "2022-04-22T15:48:27.473Z"
   },
   {
    "duration": 26,
    "start_time": "2022-04-22T15:48:27.494Z"
   },
   {
    "duration": 4,
    "start_time": "2022-04-22T15:48:27.523Z"
   },
   {
    "duration": 20,
    "start_time": "2022-04-22T15:48:27.529Z"
   },
   {
    "duration": 55,
    "start_time": "2022-04-22T15:48:27.551Z"
   },
   {
    "duration": 188,
    "start_time": "2022-04-22T15:48:27.608Z"
   },
   {
    "duration": 6,
    "start_time": "2022-04-22T15:49:28.978Z"
   },
   {
    "duration": 14412,
    "start_time": "2022-04-22T15:49:33.615Z"
   },
   {
    "duration": 28,
    "start_time": "2022-04-22T15:55:05.646Z"
   },
   {
    "duration": 31,
    "start_time": "2022-04-22T15:55:22.514Z"
   },
   {
    "duration": 13764,
    "start_time": "2022-04-22T15:55:43.967Z"
   },
   {
    "duration": 14619,
    "start_time": "2022-04-22T15:56:28.586Z"
   },
   {
    "duration": 153,
    "start_time": "2022-04-22T15:59:49.485Z"
   },
   {
    "duration": 27710,
    "start_time": "2022-04-22T16:06:09.984Z"
   },
   {
    "duration": 45739,
    "start_time": "2022-04-22T16:06:40.885Z"
   },
   {
    "duration": 21283,
    "start_time": "2022-04-22T16:08:01.145Z"
   },
   {
    "duration": 36315,
    "start_time": "2022-04-22T16:08:54.107Z"
   },
   {
    "duration": 13480,
    "start_time": "2022-04-22T16:09:39.845Z"
   },
   {
    "duration": 14117,
    "start_time": "2022-04-22T16:10:31.366Z"
   },
   {
    "duration": 15662,
    "start_time": "2022-04-22T16:14:50.663Z"
   },
   {
    "duration": 1673,
    "start_time": "2022-04-23T07:04:03.780Z"
   },
   {
    "duration": 102,
    "start_time": "2022-04-23T07:07:37.519Z"
   },
   {
    "duration": 1389,
    "start_time": "2022-04-23T07:08:15.333Z"
   },
   {
    "duration": 29,
    "start_time": "2022-04-23T07:08:16.725Z"
   },
   {
    "duration": 23,
    "start_time": "2022-04-23T07:08:16.756Z"
   },
   {
    "duration": 3,
    "start_time": "2022-04-23T07:08:16.781Z"
   },
   {
    "duration": 4,
    "start_time": "2022-04-23T07:08:16.786Z"
   },
   {
    "duration": 20,
    "start_time": "2022-04-23T07:08:16.792Z"
   },
   {
    "duration": 6,
    "start_time": "2022-04-23T07:08:16.814Z"
   },
   {
    "duration": 35,
    "start_time": "2022-04-23T07:08:16.821Z"
   },
   {
    "duration": 21,
    "start_time": "2022-04-23T07:08:16.857Z"
   },
   {
    "duration": 5,
    "start_time": "2022-04-23T07:08:16.879Z"
   },
   {
    "duration": 7,
    "start_time": "2022-04-23T07:08:16.885Z"
   },
   {
    "duration": 57,
    "start_time": "2022-04-23T07:08:16.895Z"
   },
   {
    "duration": 12,
    "start_time": "2022-04-23T07:08:16.954Z"
   },
   {
    "duration": 21,
    "start_time": "2022-04-23T07:08:16.969Z"
   },
   {
    "duration": 14,
    "start_time": "2022-04-23T07:08:16.992Z"
   },
   {
    "duration": 40,
    "start_time": "2022-04-23T07:08:17.008Z"
   },
   {
    "duration": 35,
    "start_time": "2022-04-23T07:08:17.050Z"
   },
   {
    "duration": 4,
    "start_time": "2022-04-23T07:08:17.086Z"
   },
   {
    "duration": 16,
    "start_time": "2022-04-23T07:08:17.091Z"
   },
   {
    "duration": 819,
    "start_time": "2022-04-23T07:08:17.109Z"
   },
   {
    "duration": 20,
    "start_time": "2022-04-23T07:08:17.930Z"
   },
   {
    "duration": 19,
    "start_time": "2022-04-23T07:08:17.952Z"
   },
   {
    "duration": 4,
    "start_time": "2022-04-23T07:08:17.972Z"
   },
   {
    "duration": 11,
    "start_time": "2022-04-23T07:08:17.978Z"
   },
   {
    "duration": 20,
    "start_time": "2022-04-23T07:08:17.991Z"
   },
   {
    "duration": 9147,
    "start_time": "2022-04-23T07:08:18.013Z"
   },
   {
    "duration": 186,
    "start_time": "2022-04-23T07:08:27.162Z"
   },
   {
    "duration": 17,
    "start_time": "2022-04-23T07:17:14.238Z"
   },
   {
    "duration": 18256,
    "start_time": "2022-04-23T07:20:45.593Z"
   },
   {
    "duration": 83,
    "start_time": "2022-04-23T07:27:07.219Z"
   },
   {
    "duration": 79,
    "start_time": "2022-04-23T07:27:24.038Z"
   },
   {
    "duration": 83,
    "start_time": "2022-04-23T07:27:44.539Z"
   },
   {
    "duration": 79,
    "start_time": "2022-04-23T07:27:48.499Z"
   },
   {
    "duration": 80,
    "start_time": "2022-04-23T07:27:54.141Z"
   },
   {
    "duration": 4,
    "start_time": "2022-04-23T07:27:58.959Z"
   },
   {
    "duration": 3,
    "start_time": "2022-04-23T07:28:10.119Z"
   },
   {
    "duration": 4,
    "start_time": "2022-04-23T07:28:29.019Z"
   },
   {
    "duration": 4,
    "start_time": "2022-04-23T07:28:37.779Z"
   },
   {
    "duration": 3,
    "start_time": "2022-04-23T07:29:12.339Z"
   },
   {
    "duration": 5,
    "start_time": "2022-04-23T07:29:52.000Z"
   },
   {
    "duration": 5,
    "start_time": "2022-04-23T07:30:10.719Z"
   },
   {
    "duration": 19423,
    "start_time": "2022-04-23T07:31:56.646Z"
   },
   {
    "duration": 5,
    "start_time": "2022-04-23T07:32:30.859Z"
   },
   {
    "duration": 1380,
    "start_time": "2022-04-23T07:32:41.432Z"
   },
   {
    "duration": 23,
    "start_time": "2022-04-23T07:32:42.814Z"
   },
   {
    "duration": 24,
    "start_time": "2022-04-23T07:32:42.839Z"
   },
   {
    "duration": 3,
    "start_time": "2022-04-23T07:32:42.864Z"
   },
   {
    "duration": 6,
    "start_time": "2022-04-23T07:32:42.869Z"
   },
   {
    "duration": 14,
    "start_time": "2022-04-23T07:32:42.876Z"
   },
   {
    "duration": 8,
    "start_time": "2022-04-23T07:32:42.892Z"
   },
   {
    "duration": 12,
    "start_time": "2022-04-23T07:32:42.902Z"
   },
   {
    "duration": 52,
    "start_time": "2022-04-23T07:32:42.916Z"
   },
   {
    "duration": 5,
    "start_time": "2022-04-23T07:32:42.970Z"
   },
   {
    "duration": 8,
    "start_time": "2022-04-23T07:32:42.977Z"
   },
   {
    "duration": 15,
    "start_time": "2022-04-23T07:32:42.986Z"
   },
   {
    "duration": 11,
    "start_time": "2022-04-23T07:32:43.003Z"
   },
   {
    "duration": 39,
    "start_time": "2022-04-23T07:32:43.017Z"
   },
   {
    "duration": 14,
    "start_time": "2022-04-23T07:32:43.058Z"
   },
   {
    "duration": 27,
    "start_time": "2022-04-23T07:32:43.074Z"
   },
   {
    "duration": 54,
    "start_time": "2022-04-23T07:32:43.103Z"
   },
   {
    "duration": 3,
    "start_time": "2022-04-23T07:32:43.159Z"
   },
   {
    "duration": 20,
    "start_time": "2022-04-23T07:32:43.164Z"
   },
   {
    "duration": 1211,
    "start_time": "2022-04-23T07:32:43.186Z"
   },
   {
    "duration": 11,
    "start_time": "2022-04-23T07:32:44.399Z"
   },
   {
    "duration": 37,
    "start_time": "2022-04-23T07:32:44.412Z"
   },
   {
    "duration": 3,
    "start_time": "2022-04-23T07:32:44.451Z"
   },
   {
    "duration": 14,
    "start_time": "2022-04-23T07:32:44.456Z"
   },
   {
    "duration": 20,
    "start_time": "2022-04-23T07:32:44.472Z"
   },
   {
    "duration": 9065,
    "start_time": "2022-04-23T07:32:44.494Z"
   },
   {
    "duration": 191,
    "start_time": "2022-04-23T07:32:53.561Z"
   },
   {
    "duration": 17395,
    "start_time": "2022-04-23T07:32:53.754Z"
   },
   {
    "duration": 6,
    "start_time": "2022-04-23T07:33:11.152Z"
   },
   {
    "duration": 4,
    "start_time": "2022-04-23T07:33:16.976Z"
   },
   {
    "duration": 154,
    "start_time": "2022-04-23T07:33:57.716Z"
   },
   {
    "duration": 11,
    "start_time": "2022-04-23T07:34:06.375Z"
   },
   {
    "duration": 5,
    "start_time": "2022-04-23T07:34:14.355Z"
   },
   {
    "duration": 5,
    "start_time": "2022-04-23T07:34:52.136Z"
   },
   {
    "duration": 88,
    "start_time": "2022-04-23T07:40:20.277Z"
   },
   {
    "duration": 76,
    "start_time": "2022-04-23T07:40:24.608Z"
   },
   {
    "duration": 5,
    "start_time": "2022-04-23T07:40:37.576Z"
   },
   {
    "duration": 175,
    "start_time": "2022-04-23T07:40:44.244Z"
   },
   {
    "duration": 96,
    "start_time": "2022-04-23T07:41:07.216Z"
   },
   {
    "duration": 75,
    "start_time": "2022-04-23T07:41:10.456Z"
   },
   {
    "duration": 115,
    "start_time": "2022-04-23T07:41:30.716Z"
   },
   {
    "duration": 92,
    "start_time": "2022-04-23T07:41:49.616Z"
   },
   {
    "duration": 5,
    "start_time": "2022-04-23T07:42:06.816Z"
   },
   {
    "duration": 317,
    "start_time": "2022-04-23T07:43:10.563Z"
   },
   {
    "duration": 18848,
    "start_time": "2022-04-23T07:44:17.928Z"
   },
   {
    "duration": 313,
    "start_time": "2022-04-23T07:45:27.676Z"
   },
   {
    "duration": 14238,
    "start_time": "2022-04-23T07:45:46.576Z"
   },
   {
    "duration": 2742,
    "start_time": "2022-04-23T07:46:00.816Z"
   },
   {
    "duration": 80,
    "start_time": "2022-04-23T07:47:46.538Z"
   },
   {
    "duration": 2993,
    "start_time": "2022-04-23T07:50:21.458Z"
   },
   {
    "duration": 13900,
    "start_time": "2022-04-23T07:50:37.719Z"
   },
   {
    "duration": 301,
    "start_time": "2022-04-23T07:50:57.215Z"
   },
   {
    "duration": 12,
    "start_time": "2022-04-23T07:59:19.828Z"
   },
   {
    "duration": 33,
    "start_time": "2022-04-23T08:02:18.820Z"
   },
   {
    "duration": 9,
    "start_time": "2022-04-23T08:03:14.520Z"
   },
   {
    "duration": 9,
    "start_time": "2022-04-23T08:04:39.360Z"
   },
   {
    "duration": 34,
    "start_time": "2022-04-23T08:05:46.456Z"
   },
   {
    "duration": 45,
    "start_time": "2022-04-23T08:05:54.837Z"
   },
   {
    "duration": 33,
    "start_time": "2022-04-23T08:06:06.918Z"
   },
   {
    "duration": 8,
    "start_time": "2022-04-23T08:06:41.807Z"
   },
   {
    "duration": 81,
    "start_time": "2022-04-23T08:06:47.958Z"
   },
   {
    "duration": 8,
    "start_time": "2022-04-23T08:06:51.238Z"
   },
   {
    "duration": 9,
    "start_time": "2022-04-23T08:07:04.945Z"
   },
   {
    "duration": 78,
    "start_time": "2022-04-23T08:07:58.491Z"
   },
   {
    "duration": 8,
    "start_time": "2022-04-23T08:08:01.977Z"
   },
   {
    "duration": 11,
    "start_time": "2022-04-23T08:08:47.918Z"
   },
   {
    "duration": 10,
    "start_time": "2022-04-23T08:08:55.538Z"
   },
   {
    "duration": 8,
    "start_time": "2022-04-23T08:09:33.677Z"
   },
   {
    "duration": 31,
    "start_time": "2022-04-23T08:09:46.938Z"
   },
   {
    "duration": 69,
    "start_time": "2022-04-23T08:10:32.798Z"
   },
   {
    "duration": 27,
    "start_time": "2022-04-23T08:10:37.698Z"
   },
   {
    "duration": 30,
    "start_time": "2022-04-23T08:10:48.201Z"
   },
   {
    "duration": 25,
    "start_time": "2022-04-23T08:11:02.558Z"
   },
   {
    "duration": 17,
    "start_time": "2022-04-23T08:12:25.038Z"
   },
   {
    "duration": 9,
    "start_time": "2022-04-23T08:12:43.738Z"
   },
   {
    "duration": 283,
    "start_time": "2022-04-23T08:15:21.638Z"
   },
   {
    "duration": 765,
    "start_time": "2022-04-23T08:16:07.318Z"
   },
   {
    "duration": 16,
    "start_time": "2022-04-23T08:20:35.958Z"
   },
   {
    "duration": 11,
    "start_time": "2022-04-23T08:20:52.298Z"
   },
   {
    "duration": 13,
    "start_time": "2022-04-23T08:24:56.016Z"
   },
   {
    "duration": 13,
    "start_time": "2022-04-23T08:25:32.316Z"
   },
   {
    "duration": 16,
    "start_time": "2022-04-23T08:26:42.136Z"
   },
   {
    "duration": 19,
    "start_time": "2022-04-23T08:26:52.716Z"
   },
   {
    "duration": 15,
    "start_time": "2022-04-23T08:28:08.976Z"
   },
   {
    "duration": 81,
    "start_time": "2022-04-23T08:35:31.701Z"
   },
   {
    "duration": 107,
    "start_time": "2022-04-23T08:38:40.676Z"
   },
   {
    "duration": 11,
    "start_time": "2022-04-23T08:39:23.843Z"
   },
   {
    "duration": 1707,
    "start_time": "2022-04-23T13:40:50.909Z"
   },
   {
    "duration": 30,
    "start_time": "2022-04-23T13:40:52.618Z"
   },
   {
    "duration": 27,
    "start_time": "2022-04-23T13:40:52.650Z"
   },
   {
    "duration": 3,
    "start_time": "2022-04-23T13:40:52.679Z"
   },
   {
    "duration": 13,
    "start_time": "2022-04-23T13:40:52.684Z"
   },
   {
    "duration": 23,
    "start_time": "2022-04-23T13:40:52.699Z"
   },
   {
    "duration": 16,
    "start_time": "2022-04-23T13:40:52.723Z"
   },
   {
    "duration": 12,
    "start_time": "2022-04-23T13:40:52.740Z"
   },
   {
    "duration": 23,
    "start_time": "2022-04-23T13:40:52.753Z"
   },
   {
    "duration": 5,
    "start_time": "2022-04-23T13:40:52.780Z"
   },
   {
    "duration": 7,
    "start_time": "2022-04-23T13:40:52.787Z"
   },
   {
    "duration": 49,
    "start_time": "2022-04-23T13:40:52.797Z"
   },
   {
    "duration": 14,
    "start_time": "2022-04-23T13:40:52.848Z"
   },
   {
    "duration": 14,
    "start_time": "2022-04-23T13:40:52.864Z"
   },
   {
    "duration": 16,
    "start_time": "2022-04-23T13:40:52.880Z"
   },
   {
    "duration": 59,
    "start_time": "2022-04-23T13:40:52.898Z"
   },
   {
    "duration": 42,
    "start_time": "2022-04-23T13:40:52.959Z"
   },
   {
    "duration": 4,
    "start_time": "2022-04-23T13:40:53.003Z"
   },
   {
    "duration": 18,
    "start_time": "2022-04-23T13:40:53.033Z"
   },
   {
    "duration": 973,
    "start_time": "2022-04-23T13:40:53.053Z"
   },
   {
    "duration": 13,
    "start_time": "2022-04-23T13:40:54.028Z"
   },
   {
    "duration": 23,
    "start_time": "2022-04-23T13:40:54.043Z"
   },
   {
    "duration": 3,
    "start_time": "2022-04-23T13:40:54.068Z"
   },
   {
    "duration": 10,
    "start_time": "2022-04-23T13:40:54.073Z"
   },
   {
    "duration": 49,
    "start_time": "2022-04-23T13:40:54.085Z"
   },
   {
    "duration": 11222,
    "start_time": "2022-04-23T13:40:54.136Z"
   },
   {
    "duration": 103,
    "start_time": "2022-04-23T13:41:05.435Z"
   },
   {
    "duration": 13,
    "start_time": "2022-04-23T13:41:05.541Z"
   },
   {
    "duration": 683,
    "start_time": "2022-04-23T13:41:05.556Z"
   },
   {
    "duration": 33019,
    "start_time": "2022-04-23T13:41:06.241Z"
   },
   {
    "duration": 2874,
    "start_time": "2022-04-23T13:41:39.261Z"
   },
   {
    "duration": 96,
    "start_time": "2022-04-23T13:41:42.139Z"
   },
   {
    "duration": 9,
    "start_time": "2022-04-23T13:41:42.237Z"
   },
   {
    "duration": 95,
    "start_time": "2022-04-23T13:41:42.248Z"
   },
   {
    "duration": 94,
    "start_time": "2022-04-23T13:41:42.345Z"
   },
   {
    "duration": 109,
    "start_time": "2022-04-23T13:41:42.441Z"
   },
   {
    "duration": 1874,
    "start_time": "2022-04-23T20:37:41.918Z"
   },
   {
    "duration": 47,
    "start_time": "2022-04-23T20:37:43.795Z"
   },
   {
    "duration": 36,
    "start_time": "2022-04-23T20:37:43.844Z"
   },
   {
    "duration": 4,
    "start_time": "2022-04-23T20:37:43.894Z"
   },
   {
    "duration": 10,
    "start_time": "2022-04-23T20:37:43.900Z"
   },
   {
    "duration": 20,
    "start_time": "2022-04-23T20:37:43.912Z"
   },
   {
    "duration": 8,
    "start_time": "2022-04-23T20:37:43.934Z"
   },
   {
    "duration": 53,
    "start_time": "2022-04-23T20:37:43.944Z"
   },
   {
    "duration": 33,
    "start_time": "2022-04-23T20:37:43.999Z"
   },
   {
    "duration": 6,
    "start_time": "2022-04-23T20:37:44.036Z"
   },
   {
    "duration": 49,
    "start_time": "2022-04-23T20:37:44.044Z"
   },
   {
    "duration": 22,
    "start_time": "2022-04-23T20:37:44.095Z"
   },
   {
    "duration": 17,
    "start_time": "2022-04-23T20:37:44.119Z"
   },
   {
    "duration": 56,
    "start_time": "2022-04-23T20:37:44.138Z"
   },
   {
    "duration": 27,
    "start_time": "2022-04-23T20:37:44.196Z"
   },
   {
    "duration": 40,
    "start_time": "2022-04-23T20:37:44.225Z"
   },
   {
    "duration": 85,
    "start_time": "2022-04-23T20:37:44.267Z"
   },
   {
    "duration": 6,
    "start_time": "2022-04-23T20:37:44.354Z"
   },
   {
    "duration": 52,
    "start_time": "2022-04-23T20:37:44.362Z"
   },
   {
    "duration": 1426,
    "start_time": "2022-04-23T20:37:44.416Z"
   },
   {
    "duration": 17,
    "start_time": "2022-04-23T20:37:45.845Z"
   },
   {
    "duration": 58,
    "start_time": "2022-04-23T20:37:45.865Z"
   },
   {
    "duration": 6,
    "start_time": "2022-04-23T20:37:45.926Z"
   },
   {
    "duration": 24,
    "start_time": "2022-04-23T20:37:45.934Z"
   },
   {
    "duration": 54,
    "start_time": "2022-04-23T20:37:45.961Z"
   },
   {
    "duration": 11576,
    "start_time": "2022-04-23T20:37:46.018Z"
   },
   {
    "duration": 112,
    "start_time": "2022-04-23T20:37:57.597Z"
   },
   {
    "duration": 19,
    "start_time": "2022-04-23T20:37:57.713Z"
   },
   {
    "duration": 469,
    "start_time": "2022-04-23T20:37:57.734Z"
   },
   {
    "duration": 19664,
    "start_time": "2022-04-23T20:37:58.206Z"
   },
   {
    "duration": 2732,
    "start_time": "2022-04-23T20:38:17.873Z"
   },
   {
    "duration": 10,
    "start_time": "2022-04-23T20:38:20.693Z"
   },
   {
    "duration": 19,
    "start_time": "2022-04-23T20:38:20.793Z"
   },
   {
    "duration": 79,
    "start_time": "2022-04-23T20:38:20.814Z"
   },
   {
    "duration": 103,
    "start_time": "2022-04-23T20:38:20.895Z"
   },
   {
    "duration": 112,
    "start_time": "2022-04-23T20:38:21.002Z"
   },
   {
    "duration": 15,
    "start_time": "2022-04-23T20:38:46.015Z"
   },
   {
    "duration": 33,
    "start_time": "2022-04-23T20:38:49.141Z"
   },
   {
    "duration": 34,
    "start_time": "2022-04-23T20:39:00.829Z"
   },
   {
    "duration": 33,
    "start_time": "2022-04-23T20:39:05.140Z"
   },
   {
    "duration": 13,
    "start_time": "2022-04-23T21:35:48.527Z"
   },
   {
    "duration": 38,
    "start_time": "2022-04-23T21:36:23.130Z"
   },
   {
    "duration": 191,
    "start_time": "2022-04-23T22:36:44.253Z"
   },
   {
    "duration": 28,
    "start_time": "2022-04-23T22:37:19.502Z"
   },
   {
    "duration": 2619,
    "start_time": "2022-04-23T22:37:29.264Z"
   },
   {
    "duration": 40,
    "start_time": "2022-04-23T22:37:31.887Z"
   },
   {
    "duration": 35,
    "start_time": "2022-04-23T22:37:31.930Z"
   },
   {
    "duration": 3,
    "start_time": "2022-04-23T22:37:31.968Z"
   },
   {
    "duration": 8,
    "start_time": "2022-04-23T22:37:31.993Z"
   },
   {
    "duration": 32,
    "start_time": "2022-04-23T22:37:32.003Z"
   },
   {
    "duration": 10,
    "start_time": "2022-04-23T22:37:32.037Z"
   },
   {
    "duration": 24,
    "start_time": "2022-04-23T22:37:32.050Z"
   },
   {
    "duration": 64,
    "start_time": "2022-04-23T22:37:32.076Z"
   },
   {
    "duration": 7,
    "start_time": "2022-04-23T22:37:32.146Z"
   },
   {
    "duration": 37,
    "start_time": "2022-04-23T22:37:32.156Z"
   },
   {
    "duration": 26,
    "start_time": "2022-04-23T22:37:32.198Z"
   },
   {
    "duration": 18,
    "start_time": "2022-04-23T22:37:32.226Z"
   },
   {
    "duration": 47,
    "start_time": "2022-04-23T22:37:32.246Z"
   },
   {
    "duration": 28,
    "start_time": "2022-04-23T22:37:32.295Z"
   },
   {
    "duration": 39,
    "start_time": "2022-04-23T22:37:32.326Z"
   },
   {
    "duration": 58,
    "start_time": "2022-04-23T22:37:32.400Z"
   },
   {
    "duration": 6,
    "start_time": "2022-04-23T22:37:32.461Z"
   },
   {
    "duration": 44,
    "start_time": "2022-04-23T22:37:32.469Z"
   },
   {
    "duration": 1437,
    "start_time": "2022-04-23T22:37:32.516Z"
   },
   {
    "duration": 13,
    "start_time": "2022-04-23T22:37:33.956Z"
   },
   {
    "duration": 42,
    "start_time": "2022-04-23T22:37:33.971Z"
   },
   {
    "duration": 4,
    "start_time": "2022-04-23T22:37:34.015Z"
   },
   {
    "duration": 18,
    "start_time": "2022-04-23T22:37:34.022Z"
   },
   {
    "duration": 68,
    "start_time": "2022-04-23T22:37:34.042Z"
   },
   {
    "duration": 182,
    "start_time": "2022-04-23T22:37:34.117Z"
   },
   {
    "duration": 0,
    "start_time": "2022-04-23T22:37:34.303Z"
   },
   {
    "duration": 0,
    "start_time": "2022-04-23T22:37:34.305Z"
   },
   {
    "duration": 0,
    "start_time": "2022-04-23T22:37:34.307Z"
   },
   {
    "duration": 0,
    "start_time": "2022-04-23T22:37:34.309Z"
   },
   {
    "duration": 0,
    "start_time": "2022-04-23T22:37:34.311Z"
   },
   {
    "duration": 0,
    "start_time": "2022-04-23T22:37:34.313Z"
   },
   {
    "duration": 0,
    "start_time": "2022-04-23T22:37:34.315Z"
   },
   {
    "duration": 0,
    "start_time": "2022-04-23T22:37:34.316Z"
   },
   {
    "duration": 0,
    "start_time": "2022-04-23T22:37:34.318Z"
   },
   {
    "duration": 0,
    "start_time": "2022-04-23T22:37:34.319Z"
   },
   {
    "duration": 2708,
    "start_time": "2022-04-23T22:37:58.137Z"
   },
   {
    "duration": 54,
    "start_time": "2022-04-23T22:38:00.849Z"
   },
   {
    "duration": 60,
    "start_time": "2022-04-23T22:38:00.908Z"
   },
   {
    "duration": 25,
    "start_time": "2022-04-23T22:38:00.972Z"
   },
   {
    "duration": 31,
    "start_time": "2022-04-23T22:38:01.001Z"
   },
   {
    "duration": 49,
    "start_time": "2022-04-23T22:38:01.034Z"
   },
   {
    "duration": 13,
    "start_time": "2022-04-23T22:38:01.086Z"
   },
   {
    "duration": 44,
    "start_time": "2022-04-23T22:38:01.102Z"
   },
   {
    "duration": 54,
    "start_time": "2022-04-23T22:38:01.150Z"
   },
   {
    "duration": 8,
    "start_time": "2022-04-23T22:38:01.210Z"
   },
   {
    "duration": 30,
    "start_time": "2022-04-23T22:38:01.221Z"
   },
   {
    "duration": 60,
    "start_time": "2022-04-23T22:38:01.254Z"
   },
   {
    "duration": 28,
    "start_time": "2022-04-23T22:38:01.317Z"
   },
   {
    "duration": 52,
    "start_time": "2022-04-23T22:38:01.349Z"
   },
   {
    "duration": 22,
    "start_time": "2022-04-23T22:38:01.404Z"
   },
   {
    "duration": 42,
    "start_time": "2022-04-23T22:38:01.429Z"
   },
   {
    "duration": 81,
    "start_time": "2022-04-23T22:38:01.474Z"
   },
   {
    "duration": 8,
    "start_time": "2022-04-23T22:38:01.558Z"
   },
   {
    "duration": 47,
    "start_time": "2022-04-23T22:38:01.568Z"
   },
   {
    "duration": 1478,
    "start_time": "2022-04-23T22:38:01.618Z"
   },
   {
    "duration": 18,
    "start_time": "2022-04-23T22:38:03.098Z"
   },
   {
    "duration": 30,
    "start_time": "2022-04-23T22:38:03.119Z"
   },
   {
    "duration": 9,
    "start_time": "2022-04-23T22:38:03.151Z"
   },
   {
    "duration": 38,
    "start_time": "2022-04-23T22:38:03.163Z"
   },
   {
    "duration": 42,
    "start_time": "2022-04-23T22:38:03.203Z"
   },
   {
    "duration": 211,
    "start_time": "2022-04-23T22:38:03.248Z"
   },
   {
    "duration": 0,
    "start_time": "2022-04-23T22:38:03.463Z"
   },
   {
    "duration": 0,
    "start_time": "2022-04-23T22:38:03.464Z"
   },
   {
    "duration": 0,
    "start_time": "2022-04-23T22:38:03.466Z"
   },
   {
    "duration": 0,
    "start_time": "2022-04-23T22:38:03.468Z"
   },
   {
    "duration": 0,
    "start_time": "2022-04-23T22:38:03.470Z"
   },
   {
    "duration": 0,
    "start_time": "2022-04-23T22:38:03.496Z"
   },
   {
    "duration": 0,
    "start_time": "2022-04-23T22:38:03.498Z"
   },
   {
    "duration": 0,
    "start_time": "2022-04-23T22:38:03.499Z"
   },
   {
    "duration": 0,
    "start_time": "2022-04-23T22:38:03.500Z"
   },
   {
    "duration": 0,
    "start_time": "2022-04-23T22:38:03.507Z"
   },
   {
    "duration": 26,
    "start_time": "2022-04-23T23:04:02.163Z"
   },
   {
    "duration": 39,
    "start_time": "2022-04-23T23:05:50.042Z"
   },
   {
    "duration": 36,
    "start_time": "2022-04-23T23:05:53.758Z"
   },
   {
    "duration": 2155,
    "start_time": "2022-04-23T23:06:02.968Z"
   },
   {
    "duration": 50,
    "start_time": "2022-04-23T23:06:05.127Z"
   },
   {
    "duration": 62,
    "start_time": "2022-04-23T23:06:05.180Z"
   },
   {
    "duration": 5,
    "start_time": "2022-04-23T23:06:05.247Z"
   },
   {
    "duration": 12,
    "start_time": "2022-04-23T23:06:05.254Z"
   },
   {
    "duration": 41,
    "start_time": "2022-04-23T23:06:05.269Z"
   },
   {
    "duration": 11,
    "start_time": "2022-04-23T23:06:05.312Z"
   },
   {
    "duration": 21,
    "start_time": "2022-04-23T23:06:05.325Z"
   },
   {
    "duration": 66,
    "start_time": "2022-04-23T23:06:05.348Z"
   },
   {
    "duration": 7,
    "start_time": "2022-04-23T23:06:05.418Z"
   },
   {
    "duration": 12,
    "start_time": "2022-04-23T23:06:05.427Z"
   },
   {
    "duration": 54,
    "start_time": "2022-04-23T23:06:05.442Z"
   },
   {
    "duration": 20,
    "start_time": "2022-04-23T23:06:05.498Z"
   },
   {
    "duration": 19,
    "start_time": "2022-04-23T23:06:05.520Z"
   },
   {
    "duration": 54,
    "start_time": "2022-04-23T23:06:05.541Z"
   },
   {
    "duration": 46,
    "start_time": "2022-04-23T23:06:05.598Z"
   },
   {
    "duration": 71,
    "start_time": "2022-04-23T23:06:05.646Z"
   },
   {
    "duration": 7,
    "start_time": "2022-04-23T23:06:05.721Z"
   },
   {
    "duration": 38,
    "start_time": "2022-04-23T23:06:05.731Z"
   },
   {
    "duration": 2392,
    "start_time": "2022-04-23T23:06:05.772Z"
   },
   {
    "duration": 33,
    "start_time": "2022-04-23T23:06:08.166Z"
   },
   {
    "duration": 46,
    "start_time": "2022-04-23T23:06:08.203Z"
   },
   {
    "duration": 6,
    "start_time": "2022-04-23T23:06:08.252Z"
   },
   {
    "duration": 43,
    "start_time": "2022-04-23T23:06:08.261Z"
   },
   {
    "duration": 62,
    "start_time": "2022-04-23T23:06:08.307Z"
   },
   {
    "duration": 203,
    "start_time": "2022-04-23T23:06:08.372Z"
   },
   {
    "duration": 0,
    "start_time": "2022-04-23T23:06:08.578Z"
   },
   {
    "duration": 0,
    "start_time": "2022-04-23T23:06:08.579Z"
   },
   {
    "duration": 0,
    "start_time": "2022-04-23T23:06:08.581Z"
   },
   {
    "duration": 0,
    "start_time": "2022-04-23T23:06:08.582Z"
   },
   {
    "duration": 0,
    "start_time": "2022-04-23T23:06:08.593Z"
   },
   {
    "duration": 0,
    "start_time": "2022-04-23T23:06:08.594Z"
   },
   {
    "duration": 0,
    "start_time": "2022-04-23T23:06:08.595Z"
   },
   {
    "duration": 0,
    "start_time": "2022-04-23T23:06:08.597Z"
   },
   {
    "duration": 0,
    "start_time": "2022-04-23T23:06:08.598Z"
   },
   {
    "duration": 0,
    "start_time": "2022-04-23T23:06:08.599Z"
   },
   {
    "duration": 13,
    "start_time": "2022-04-23T23:07:40.379Z"
   },
   {
    "duration": 36,
    "start_time": "2022-04-23T23:07:42.310Z"
   },
   {
    "duration": 1947,
    "start_time": "2022-04-23T23:07:50.833Z"
   },
   {
    "duration": 40,
    "start_time": "2022-04-23T23:07:52.782Z"
   },
   {
    "duration": 39,
    "start_time": "2022-04-23T23:07:52.824Z"
   },
   {
    "duration": 5,
    "start_time": "2022-04-23T23:07:52.866Z"
   },
   {
    "duration": 5,
    "start_time": "2022-04-23T23:07:52.893Z"
   },
   {
    "duration": 27,
    "start_time": "2022-04-23T23:07:52.901Z"
   },
   {
    "duration": 12,
    "start_time": "2022-04-23T23:07:52.931Z"
   },
   {
    "duration": 21,
    "start_time": "2022-04-23T23:07:52.945Z"
   },
   {
    "duration": 56,
    "start_time": "2022-04-23T23:07:52.968Z"
   },
   {
    "duration": 6,
    "start_time": "2022-04-23T23:07:53.028Z"
   },
   {
    "duration": 15,
    "start_time": "2022-04-23T23:07:53.036Z"
   },
   {
    "duration": 50,
    "start_time": "2022-04-23T23:07:53.053Z"
   },
   {
    "duration": 18,
    "start_time": "2022-04-23T23:07:53.105Z"
   },
   {
    "duration": 32,
    "start_time": "2022-04-23T23:07:53.125Z"
   },
   {
    "duration": 36,
    "start_time": "2022-04-23T23:07:53.159Z"
   },
   {
    "duration": 40,
    "start_time": "2022-04-23T23:07:53.197Z"
   },
   {
    "duration": 79,
    "start_time": "2022-04-23T23:07:53.239Z"
   },
   {
    "duration": 6,
    "start_time": "2022-04-23T23:07:53.320Z"
   },
   {
    "duration": 25,
    "start_time": "2022-04-23T23:07:53.330Z"
   },
   {
    "duration": 1456,
    "start_time": "2022-04-23T23:07:53.358Z"
   },
   {
    "duration": 16,
    "start_time": "2022-04-23T23:07:54.817Z"
   },
   {
    "duration": 28,
    "start_time": "2022-04-23T23:07:54.835Z"
   },
   {
    "duration": 5,
    "start_time": "2022-04-23T23:07:54.893Z"
   },
   {
    "duration": 15,
    "start_time": "2022-04-23T23:07:54.900Z"
   },
   {
    "duration": 37,
    "start_time": "2022-04-23T23:07:54.917Z"
   },
   {
    "duration": 208,
    "start_time": "2022-04-23T23:07:54.956Z"
   },
   {
    "duration": 0,
    "start_time": "2022-04-23T23:07:55.166Z"
   },
   {
    "duration": 0,
    "start_time": "2022-04-23T23:07:55.168Z"
   },
   {
    "duration": 0,
    "start_time": "2022-04-23T23:07:55.170Z"
   },
   {
    "duration": 0,
    "start_time": "2022-04-23T23:07:55.171Z"
   },
   {
    "duration": 0,
    "start_time": "2022-04-23T23:07:55.173Z"
   },
   {
    "duration": 0,
    "start_time": "2022-04-23T23:07:55.194Z"
   },
   {
    "duration": 0,
    "start_time": "2022-04-23T23:07:55.195Z"
   },
   {
    "duration": 0,
    "start_time": "2022-04-23T23:07:55.197Z"
   },
   {
    "duration": 0,
    "start_time": "2022-04-23T23:07:55.199Z"
   },
   {
    "duration": 0,
    "start_time": "2022-04-23T23:07:55.200Z"
   },
   {
    "duration": 2049,
    "start_time": "2022-04-23T23:08:25.893Z"
   },
   {
    "duration": 37,
    "start_time": "2022-04-23T23:08:27.944Z"
   },
   {
    "duration": 38,
    "start_time": "2022-04-23T23:08:27.983Z"
   },
   {
    "duration": 4,
    "start_time": "2022-04-23T23:08:28.024Z"
   },
   {
    "duration": 7,
    "start_time": "2022-04-23T23:08:28.030Z"
   },
   {
    "duration": 20,
    "start_time": "2022-04-23T23:08:28.039Z"
   },
   {
    "duration": 10,
    "start_time": "2022-04-23T23:08:28.093Z"
   },
   {
    "duration": 16,
    "start_time": "2022-04-23T23:08:28.105Z"
   },
   {
    "duration": 33,
    "start_time": "2022-04-23T23:08:28.123Z"
   },
   {
    "duration": 36,
    "start_time": "2022-04-23T23:08:28.160Z"
   },
   {
    "duration": 14,
    "start_time": "2022-04-23T23:08:28.198Z"
   },
   {
    "duration": 22,
    "start_time": "2022-04-23T23:08:28.214Z"
   },
   {
    "duration": 17,
    "start_time": "2022-04-23T23:08:28.239Z"
   },
   {
    "duration": 49,
    "start_time": "2022-04-23T23:08:28.258Z"
   },
   {
    "duration": 19,
    "start_time": "2022-04-23T23:08:28.309Z"
   },
   {
    "duration": 39,
    "start_time": "2022-04-23T23:08:28.330Z"
   },
   {
    "duration": 81,
    "start_time": "2022-04-23T23:08:28.371Z"
   },
   {
    "duration": 6,
    "start_time": "2022-04-23T23:08:28.454Z"
   },
   {
    "duration": 47,
    "start_time": "2022-04-23T23:08:28.462Z"
   },
   {
    "duration": 2272,
    "start_time": "2022-04-23T23:08:28.511Z"
   },
   {
    "duration": 21,
    "start_time": "2022-04-23T23:08:30.786Z"
   },
   {
    "duration": 51,
    "start_time": "2022-04-23T23:08:30.809Z"
   },
   {
    "duration": 6,
    "start_time": "2022-04-23T23:08:30.863Z"
   },
   {
    "duration": 19,
    "start_time": "2022-04-23T23:08:30.895Z"
   },
   {
    "duration": 78,
    "start_time": "2022-04-23T23:08:30.916Z"
   },
   {
    "duration": 302,
    "start_time": "2022-04-23T23:08:30.997Z"
   },
   {
    "duration": 0,
    "start_time": "2022-04-23T23:08:31.303Z"
   },
   {
    "duration": 0,
    "start_time": "2022-04-23T23:08:31.305Z"
   },
   {
    "duration": 0,
    "start_time": "2022-04-23T23:08:31.307Z"
   },
   {
    "duration": 0,
    "start_time": "2022-04-23T23:08:31.309Z"
   },
   {
    "duration": 0,
    "start_time": "2022-04-23T23:08:31.312Z"
   },
   {
    "duration": 0,
    "start_time": "2022-04-23T23:08:31.314Z"
   },
   {
    "duration": 0,
    "start_time": "2022-04-23T23:08:31.316Z"
   },
   {
    "duration": 0,
    "start_time": "2022-04-23T23:08:31.318Z"
   },
   {
    "duration": 0,
    "start_time": "2022-04-23T23:08:31.320Z"
   },
   {
    "duration": 0,
    "start_time": "2022-04-23T23:08:31.321Z"
   },
   {
    "duration": 13,
    "start_time": "2022-04-23T23:09:08.380Z"
   },
   {
    "duration": 44,
    "start_time": "2022-04-23T23:09:09.443Z"
   },
   {
    "duration": 27,
    "start_time": "2022-04-23T23:09:13.676Z"
   },
   {
    "duration": 32,
    "start_time": "2022-04-23T23:10:20.063Z"
   },
   {
    "duration": 20,
    "start_time": "2022-04-23T23:10:42.893Z"
   },
   {
    "duration": 34,
    "start_time": "2022-04-23T23:10:46.055Z"
   },
   {
    "duration": 342,
    "start_time": "2022-04-23T23:10:48.080Z"
   },
   {
    "duration": 13735,
    "start_time": "2022-04-23T23:10:58.186Z"
   },
   {
    "duration": 15,
    "start_time": "2022-04-23T23:11:49.322Z"
   },
   {
    "duration": 33,
    "start_time": "2022-04-23T23:14:06.729Z"
   },
   {
    "duration": 33113,
    "start_time": "2022-04-23T23:14:43.200Z"
   },
   {
    "duration": 34803,
    "start_time": "2022-04-23T23:16:36.593Z"
   },
   {
    "duration": 36782,
    "start_time": "2022-04-23T23:17:57.813Z"
   },
   {
    "duration": 32814,
    "start_time": "2022-04-23T23:19:58.488Z"
   },
   {
    "duration": 32295,
    "start_time": "2022-04-23T23:23:28.498Z"
   },
   {
    "duration": 32648,
    "start_time": "2022-04-23T23:24:15.448Z"
   },
   {
    "duration": 20,
    "start_time": "2022-04-23T23:24:48.192Z"
   },
   {
    "duration": 17,
    "start_time": "2022-04-23T23:24:48.214Z"
   },
   {
    "duration": 450,
    "start_time": "2022-04-23T23:24:48.234Z"
   },
   {
    "duration": 20573,
    "start_time": "2022-04-23T23:24:48.686Z"
   },
   {
    "duration": 32152,
    "start_time": "2022-04-23T23:25:09.262Z"
   },
   {
    "duration": 81,
    "start_time": "2022-04-23T23:25:41.417Z"
   },
   {
    "duration": 101,
    "start_time": "2022-04-23T23:25:41.503Z"
   },
   {
    "duration": 39,
    "start_time": "2022-04-23T23:25:41.606Z"
   },
   {
    "duration": 59,
    "start_time": "2022-04-23T23:25:41.648Z"
   },
   {
    "duration": 192,
    "start_time": "2022-04-23T23:25:41.710Z"
   },
   {
    "duration": 26,
    "start_time": "2022-04-23T23:27:41.137Z"
   },
   {
    "duration": 1948,
    "start_time": "2022-04-23T23:27:49.032Z"
   },
   {
    "duration": 182,
    "start_time": "2022-04-23T23:27:50.983Z"
   },
   {
    "duration": 0,
    "start_time": "2022-04-23T23:27:51.170Z"
   },
   {
    "duration": 0,
    "start_time": "2022-04-23T23:27:51.171Z"
   },
   {
    "duration": 0,
    "start_time": "2022-04-23T23:27:51.174Z"
   },
   {
    "duration": 0,
    "start_time": "2022-04-23T23:27:51.175Z"
   },
   {
    "duration": 0,
    "start_time": "2022-04-23T23:27:51.177Z"
   },
   {
    "duration": 0,
    "start_time": "2022-04-23T23:27:51.178Z"
   },
   {
    "duration": 0,
    "start_time": "2022-04-23T23:27:51.179Z"
   },
   {
    "duration": 0,
    "start_time": "2022-04-23T23:27:51.180Z"
   },
   {
    "duration": 0,
    "start_time": "2022-04-23T23:27:51.194Z"
   },
   {
    "duration": 0,
    "start_time": "2022-04-23T23:27:51.196Z"
   },
   {
    "duration": 0,
    "start_time": "2022-04-23T23:27:51.198Z"
   },
   {
    "duration": 0,
    "start_time": "2022-04-23T23:27:51.200Z"
   },
   {
    "duration": 0,
    "start_time": "2022-04-23T23:27:51.202Z"
   },
   {
    "duration": 0,
    "start_time": "2022-04-23T23:27:51.204Z"
   },
   {
    "duration": 0,
    "start_time": "2022-04-23T23:27:51.206Z"
   },
   {
    "duration": 0,
    "start_time": "2022-04-23T23:27:51.208Z"
   },
   {
    "duration": 0,
    "start_time": "2022-04-23T23:27:51.210Z"
   },
   {
    "duration": 0,
    "start_time": "2022-04-23T23:27:51.211Z"
   },
   {
    "duration": 0,
    "start_time": "2022-04-23T23:27:51.213Z"
   },
   {
    "duration": 0,
    "start_time": "2022-04-23T23:27:51.215Z"
   },
   {
    "duration": 0,
    "start_time": "2022-04-23T23:27:51.216Z"
   },
   {
    "duration": 0,
    "start_time": "2022-04-23T23:27:51.217Z"
   },
   {
    "duration": 0,
    "start_time": "2022-04-23T23:27:51.218Z"
   },
   {
    "duration": 0,
    "start_time": "2022-04-23T23:27:51.219Z"
   },
   {
    "duration": 0,
    "start_time": "2022-04-23T23:27:51.221Z"
   },
   {
    "duration": 0,
    "start_time": "2022-04-23T23:27:51.222Z"
   },
   {
    "duration": 0,
    "start_time": "2022-04-23T23:27:51.223Z"
   },
   {
    "duration": 0,
    "start_time": "2022-04-23T23:27:51.224Z"
   },
   {
    "duration": 0,
    "start_time": "2022-04-23T23:27:51.225Z"
   },
   {
    "duration": 0,
    "start_time": "2022-04-23T23:27:51.227Z"
   },
   {
    "duration": 0,
    "start_time": "2022-04-23T23:27:51.228Z"
   },
   {
    "duration": 0,
    "start_time": "2022-04-23T23:27:51.229Z"
   },
   {
    "duration": 0,
    "start_time": "2022-04-23T23:27:51.230Z"
   },
   {
    "duration": 0,
    "start_time": "2022-04-23T23:27:51.232Z"
   },
   {
    "duration": 0,
    "start_time": "2022-04-23T23:27:51.293Z"
   },
   {
    "duration": 71,
    "start_time": "2022-04-23T23:28:01.158Z"
   },
   {
    "duration": 36,
    "start_time": "2022-04-23T23:28:13.917Z"
   },
   {
    "duration": 33,
    "start_time": "2022-04-23T23:28:19.895Z"
   },
   {
    "duration": 5,
    "start_time": "2022-04-23T23:28:20.435Z"
   },
   {
    "duration": 6,
    "start_time": "2022-04-23T23:28:20.495Z"
   },
   {
    "duration": 19,
    "start_time": "2022-04-23T23:28:20.567Z"
   },
   {
    "duration": 11,
    "start_time": "2022-04-23T23:28:20.592Z"
   },
   {
    "duration": 14,
    "start_time": "2022-04-23T23:28:20.697Z"
   },
   {
    "duration": 36,
    "start_time": "2022-04-23T23:28:20.761Z"
   },
   {
    "duration": 7,
    "start_time": "2022-04-23T23:28:20.816Z"
   },
   {
    "duration": 10,
    "start_time": "2022-04-23T23:28:20.875Z"
   },
   {
    "duration": 22,
    "start_time": "2022-04-23T23:28:20.926Z"
   },
   {
    "duration": 20,
    "start_time": "2022-04-23T23:28:20.988Z"
   },
   {
    "duration": 20,
    "start_time": "2022-04-23T23:28:21.019Z"
   },
   {
    "duration": 18,
    "start_time": "2022-04-23T23:28:21.055Z"
   },
   {
    "duration": 39,
    "start_time": "2022-04-23T23:28:21.119Z"
   },
   {
    "duration": 57,
    "start_time": "2022-04-23T23:28:21.191Z"
   },
   {
    "duration": 5,
    "start_time": "2022-04-23T23:28:21.252Z"
   },
   {
    "duration": 22,
    "start_time": "2022-04-23T23:28:21.327Z"
   },
   {
    "duration": 1434,
    "start_time": "2022-04-23T23:28:21.415Z"
   },
   {
    "duration": 13,
    "start_time": "2022-04-23T23:28:22.852Z"
   },
   {
    "duration": 45,
    "start_time": "2022-04-23T23:28:22.867Z"
   },
   {
    "duration": 5,
    "start_time": "2022-04-23T23:28:22.915Z"
   },
   {
    "duration": 23,
    "start_time": "2022-04-23T23:28:22.922Z"
   },
   {
    "duration": 57,
    "start_time": "2022-04-23T23:28:22.947Z"
   },
   {
    "duration": 16495,
    "start_time": "2022-04-23T23:28:23.006Z"
   },
   {
    "duration": 103,
    "start_time": "2022-04-23T23:28:39.504Z"
   },
   {
    "duration": 89,
    "start_time": "2022-04-23T23:28:39.609Z"
   },
   {
    "duration": 439,
    "start_time": "2022-04-23T23:28:39.702Z"
   },
   {
    "duration": 20775,
    "start_time": "2022-04-23T23:28:40.143Z"
   },
   {
    "duration": 2874,
    "start_time": "2022-04-23T23:29:00.921Z"
   },
   {
    "duration": 99,
    "start_time": "2022-04-23T23:29:03.798Z"
   },
   {
    "duration": 14,
    "start_time": "2022-04-23T23:29:03.899Z"
   },
   {
    "duration": 29,
    "start_time": "2022-04-23T23:29:03.915Z"
   },
   {
    "duration": 148,
    "start_time": "2022-04-23T23:29:03.946Z"
   },
   {
    "duration": 26,
    "start_time": "2022-04-23T23:29:04.097Z"
   },
   {
    "duration": 2957,
    "start_time": "2022-04-24T13:02:05.947Z"
   },
   {
    "duration": 53,
    "start_time": "2022-04-24T13:02:08.908Z"
   },
   {
    "duration": 77,
    "start_time": "2022-04-24T13:02:08.963Z"
   },
   {
    "duration": 5,
    "start_time": "2022-04-24T13:02:09.044Z"
   },
   {
    "duration": 19,
    "start_time": "2022-04-24T13:02:09.051Z"
   },
   {
    "duration": 33,
    "start_time": "2022-04-24T13:02:09.072Z"
   },
   {
    "duration": 27,
    "start_time": "2022-04-24T13:02:09.108Z"
   },
   {
    "duration": 41,
    "start_time": "2022-04-24T13:02:09.138Z"
   },
   {
    "duration": 61,
    "start_time": "2022-04-24T13:02:09.182Z"
   },
   {
    "duration": 10,
    "start_time": "2022-04-24T13:02:09.249Z"
   },
   {
    "duration": 23,
    "start_time": "2022-04-24T13:02:09.263Z"
   },
   {
    "duration": 55,
    "start_time": "2022-04-24T13:02:09.290Z"
   },
   {
    "duration": 28,
    "start_time": "2022-04-24T13:02:09.349Z"
   },
   {
    "duration": 48,
    "start_time": "2022-04-24T13:02:09.379Z"
   },
   {
    "duration": 35,
    "start_time": "2022-04-24T13:02:09.430Z"
   },
   {
    "duration": 88,
    "start_time": "2022-04-24T13:02:09.468Z"
   },
   {
    "duration": 101,
    "start_time": "2022-04-24T13:02:09.560Z"
   },
   {
    "duration": 7,
    "start_time": "2022-04-24T13:02:09.664Z"
   },
   {
    "duration": 61,
    "start_time": "2022-04-24T13:02:09.674Z"
   },
   {
    "duration": 2189,
    "start_time": "2022-04-24T13:02:09.738Z"
   },
   {
    "duration": 18,
    "start_time": "2022-04-24T13:02:11.931Z"
   },
   {
    "duration": 56,
    "start_time": "2022-04-24T13:02:11.953Z"
   },
   {
    "duration": 2401,
    "start_time": "2022-04-24T13:02:12.012Z"
   },
   {
    "duration": 375,
    "start_time": "2022-04-24T13:02:14.418Z"
   },
   {
    "duration": 65,
    "start_time": "2022-04-24T13:02:14.795Z"
   },
   {
    "duration": 17093,
    "start_time": "2022-04-24T13:02:14.864Z"
   },
   {
    "duration": 161,
    "start_time": "2022-04-24T13:02:31.966Z"
   },
   {
    "duration": 28,
    "start_time": "2022-04-24T13:02:32.138Z"
   },
   {
    "duration": 648,
    "start_time": "2022-04-24T13:02:32.171Z"
   },
   {
    "duration": 23042,
    "start_time": "2022-04-24T13:02:32.826Z"
   },
   {
    "duration": 3691,
    "start_time": "2022-04-24T13:02:55.871Z"
   },
   {
    "duration": 37,
    "start_time": "2022-04-24T13:02:59.625Z"
   },
   {
    "duration": 20,
    "start_time": "2022-04-24T13:02:59.679Z"
   },
   {
    "duration": 87,
    "start_time": "2022-04-24T13:02:59.702Z"
   },
   {
    "duration": 92,
    "start_time": "2022-04-24T13:02:59.794Z"
   },
   {
    "duration": 51,
    "start_time": "2022-04-24T13:02:59.946Z"
   },
   {
    "duration": 469,
    "start_time": "2022-04-24T13:35:20.384Z"
   },
   {
    "duration": 28390,
    "start_time": "2022-04-24T13:35:44.748Z"
   },
   {
    "duration": 3288,
    "start_time": "2022-04-24T13:36:13.144Z"
   },
   {
    "duration": 35,
    "start_time": "2022-04-24T13:38:01.950Z"
   },
   {
    "duration": 22,
    "start_time": "2022-04-24T13:38:25.403Z"
   },
   {
    "duration": 276,
    "start_time": "2022-04-24T13:38:32.550Z"
   },
   {
    "duration": 20,
    "start_time": "2022-04-24T13:38:53.629Z"
   },
   {
    "duration": 22,
    "start_time": "2022-04-24T13:38:59.053Z"
   },
   {
    "duration": 20,
    "start_time": "2022-04-24T13:39:08.555Z"
   },
   {
    "duration": 16,
    "start_time": "2022-04-24T13:39:16.258Z"
   },
   {
    "duration": 494,
    "start_time": "2022-04-24T15:20:47.604Z"
   },
   {
    "duration": 27355,
    "start_time": "2022-04-24T15:20:49.204Z"
   },
   {
    "duration": 3977,
    "start_time": "2022-04-24T15:21:16.563Z"
   },
   {
    "duration": 180,
    "start_time": "2022-04-24T15:21:20.547Z"
   },
   {
    "duration": 52,
    "start_time": "2022-04-24T15:23:30.949Z"
   },
   {
    "duration": 25,
    "start_time": "2022-04-24T15:23:43.173Z"
   },
   {
    "duration": 27,
    "start_time": "2022-04-24T15:23:49.662Z"
   },
   {
    "duration": 39,
    "start_time": "2022-04-24T15:24:43.002Z"
   },
   {
    "duration": 45,
    "start_time": "2022-04-24T15:24:52.359Z"
   },
   {
    "duration": 2308,
    "start_time": "2022-04-24T15:25:36.249Z"
   },
   {
    "duration": 46,
    "start_time": "2022-04-24T15:25:38.562Z"
   },
   {
    "duration": 51,
    "start_time": "2022-04-24T15:25:38.611Z"
   },
   {
    "duration": 4,
    "start_time": "2022-04-24T15:25:38.665Z"
   },
   {
    "duration": 11,
    "start_time": "2022-04-24T15:25:38.671Z"
   },
   {
    "duration": 24,
    "start_time": "2022-04-24T15:25:38.759Z"
   },
   {
    "duration": 12,
    "start_time": "2022-04-24T15:25:39.175Z"
   },
   {
    "duration": 20,
    "start_time": "2022-04-24T15:25:39.678Z"
   },
   {
    "duration": 36,
    "start_time": "2022-04-24T15:25:40.008Z"
   },
   {
    "duration": 6,
    "start_time": "2022-04-24T15:25:40.167Z"
   },
   {
    "duration": 9,
    "start_time": "2022-04-24T15:25:40.503Z"
   },
   {
    "duration": 26,
    "start_time": "2022-04-24T15:25:40.833Z"
   },
   {
    "duration": 24,
    "start_time": "2022-04-24T15:25:41.159Z"
   },
   {
    "duration": 22,
    "start_time": "2022-04-24T15:25:41.335Z"
   },
   {
    "duration": 20,
    "start_time": "2022-04-24T15:25:41.522Z"
   },
   {
    "duration": 64,
    "start_time": "2022-04-24T15:25:41.879Z"
   },
   {
    "duration": 89,
    "start_time": "2022-04-24T15:25:42.266Z"
   },
   {
    "duration": 7,
    "start_time": "2022-04-24T15:25:42.633Z"
   },
   {
    "duration": 33,
    "start_time": "2022-04-24T15:25:43.149Z"
   },
   {
    "duration": 2062,
    "start_time": "2022-04-24T15:25:43.851Z"
   },
   {
    "duration": 21,
    "start_time": "2022-04-24T15:25:45.916Z"
   },
   {
    "duration": 39,
    "start_time": "2022-04-24T15:25:45.942Z"
   },
   {
    "duration": 5,
    "start_time": "2022-04-24T15:25:45.985Z"
   },
   {
    "duration": 48,
    "start_time": "2022-04-24T15:25:45.992Z"
   },
   {
    "duration": 52,
    "start_time": "2022-04-24T15:25:47.615Z"
   },
   {
    "duration": 12414,
    "start_time": "2022-04-24T15:25:56.322Z"
   },
   {
    "duration": 20,
    "start_time": "2022-04-24T15:27:12.007Z"
   },
   {
    "duration": 16,
    "start_time": "2022-04-24T15:27:13.184Z"
   },
   {
    "duration": 535,
    "start_time": "2022-04-24T15:27:15.604Z"
   },
   {
    "duration": 26220,
    "start_time": "2022-04-24T15:27:16.143Z"
   },
   {
    "duration": 3072,
    "start_time": "2022-04-24T15:27:42.367Z"
   },
   {
    "duration": 299,
    "start_time": "2022-04-24T15:27:45.444Z"
   },
   {
    "duration": 5714,
    "start_time": "2022-04-24T15:27:45.747Z"
   },
   {
    "duration": 1761,
    "start_time": "2022-04-24T15:27:51.464Z"
   },
   {
    "duration": 397,
    "start_time": "2022-04-24T15:30:25.070Z"
   },
   {
    "duration": 396,
    "start_time": "2022-04-24T15:30:37.689Z"
   },
   {
    "duration": 419,
    "start_time": "2022-04-24T15:32:34.195Z"
   },
   {
    "duration": 21004,
    "start_time": "2022-04-24T15:33:39.033Z"
   },
   {
    "duration": 4055,
    "start_time": "2022-04-24T15:34:45.769Z"
   },
   {
    "duration": 123,
    "start_time": "2022-04-24T15:35:46.947Z"
   },
   {
    "duration": 4282,
    "start_time": "2022-04-24T15:36:31.548Z"
   },
   {
    "duration": 1820,
    "start_time": "2022-04-24T15:37:18.808Z"
   },
   {
    "duration": 177,
    "start_time": "2022-04-24T15:41:06.964Z"
   },
   {
    "duration": 5572,
    "start_time": "2022-04-24T15:41:07.326Z"
   },
   {
    "duration": 832,
    "start_time": "2022-04-24T15:41:12.901Z"
   },
   {
    "duration": 2319,
    "start_time": "2022-04-24T15:47:04.409Z"
   },
   {
    "duration": 37,
    "start_time": "2022-04-24T15:47:06.733Z"
   },
   {
    "duration": 37,
    "start_time": "2022-04-24T15:47:06.772Z"
   },
   {
    "duration": 5,
    "start_time": "2022-04-24T15:47:06.826Z"
   },
   {
    "duration": 35,
    "start_time": "2022-04-24T15:47:06.834Z"
   },
   {
    "duration": 31,
    "start_time": "2022-04-24T15:47:06.871Z"
   },
   {
    "duration": 11,
    "start_time": "2022-04-24T15:47:06.905Z"
   },
   {
    "duration": 34,
    "start_time": "2022-04-24T15:47:06.919Z"
   },
   {
    "duration": 37,
    "start_time": "2022-04-24T15:47:06.956Z"
   },
   {
    "duration": 29,
    "start_time": "2022-04-24T15:47:06.999Z"
   },
   {
    "duration": 20,
    "start_time": "2022-04-24T15:47:07.031Z"
   },
   {
    "duration": 42,
    "start_time": "2022-04-24T15:47:07.053Z"
   },
   {
    "duration": 50,
    "start_time": "2022-04-24T15:47:07.098Z"
   },
   {
    "duration": 23,
    "start_time": "2022-04-24T15:47:07.151Z"
   },
   {
    "duration": 25,
    "start_time": "2022-04-24T15:47:07.177Z"
   },
   {
    "duration": 47,
    "start_time": "2022-04-24T15:47:07.231Z"
   },
   {
    "duration": 85,
    "start_time": "2022-04-24T15:47:07.281Z"
   },
   {
    "duration": 6,
    "start_time": "2022-04-24T15:47:07.368Z"
   },
   {
    "duration": 61,
    "start_time": "2022-04-24T15:47:07.376Z"
   },
   {
    "duration": 1900,
    "start_time": "2022-04-24T15:47:07.440Z"
   },
   {
    "duration": 21,
    "start_time": "2022-04-24T15:47:09.343Z"
   },
   {
    "duration": 58,
    "start_time": "2022-04-24T15:47:09.367Z"
   },
   {
    "duration": 8,
    "start_time": "2022-04-24T15:47:09.431Z"
   },
   {
    "duration": 31,
    "start_time": "2022-04-24T15:47:09.442Z"
   },
   {
    "duration": 41,
    "start_time": "2022-04-24T15:47:09.475Z"
   },
   {
    "duration": 14920,
    "start_time": "2022-04-24T15:47:09.519Z"
   },
   {
    "duration": 98,
    "start_time": "2022-04-24T15:47:24.445Z"
   },
   {
    "duration": 23,
    "start_time": "2022-04-24T15:47:24.557Z"
   },
   {
    "duration": 446,
    "start_time": "2022-04-24T15:47:24.584Z"
   },
   {
    "duration": 26208,
    "start_time": "2022-04-24T15:47:25.032Z"
   },
   {
    "duration": 3881,
    "start_time": "2022-04-24T15:47:51.243Z"
   },
   {
    "duration": 259,
    "start_time": "2022-04-24T15:47:55.130Z"
   },
   {
    "duration": 4156,
    "start_time": "2022-04-24T15:47:55.391Z"
   },
   {
    "duration": 2597,
    "start_time": "2022-04-24T15:47:59.550Z"
   },
   {
    "duration": 397,
    "start_time": "2022-04-24T15:48:02.164Z"
   },
   {
    "duration": 12698,
    "start_time": "2022-04-24T15:48:02.564Z"
   },
   {
    "duration": 3100,
    "start_time": "2022-04-24T15:48:15.264Z"
   },
   {
    "duration": 23589,
    "start_time": "2022-04-24T15:48:18.434Z"
   },
   {
    "duration": 248,
    "start_time": "2022-04-24T15:48:42.030Z"
   },
   {
    "duration": 0,
    "start_time": "2022-04-24T15:48:42.282Z"
   },
   {
    "duration": 1451,
    "start_time": "2022-04-24T15:50:57.345Z"
   },
   {
    "duration": 1498,
    "start_time": "2022-04-24T15:51:28.854Z"
   },
   {
    "duration": 17701,
    "start_time": "2022-04-24T15:57:14.658Z"
   },
   {
    "duration": 15923,
    "start_time": "2022-04-24T15:58:00.607Z"
   },
   {
    "duration": 1301,
    "start_time": "2022-04-24T16:06:27.780Z"
   },
   {
    "duration": 1482,
    "start_time": "2022-04-24T16:06:46.447Z"
   },
   {
    "duration": 1171,
    "start_time": "2022-04-24T16:07:33.476Z"
   },
   {
    "duration": 33,
    "start_time": "2022-04-24T16:09:50.744Z"
   },
   {
    "duration": 2419,
    "start_time": "2022-04-24T16:10:33.275Z"
   },
   {
    "duration": 42,
    "start_time": "2022-04-24T16:10:35.726Z"
   },
   {
    "duration": 93,
    "start_time": "2022-04-24T16:10:35.771Z"
   },
   {
    "duration": 7,
    "start_time": "2022-04-24T16:10:35.869Z"
   },
   {
    "duration": 18,
    "start_time": "2022-04-24T16:10:35.879Z"
   },
   {
    "duration": 48,
    "start_time": "2022-04-24T16:10:35.900Z"
   },
   {
    "duration": 13,
    "start_time": "2022-04-24T16:10:35.951Z"
   },
   {
    "duration": 19,
    "start_time": "2022-04-24T16:10:35.967Z"
   },
   {
    "duration": 87,
    "start_time": "2022-04-24T16:10:35.991Z"
   },
   {
    "duration": 7,
    "start_time": "2022-04-24T16:10:36.083Z"
   },
   {
    "duration": 39,
    "start_time": "2022-04-24T16:10:36.093Z"
   },
   {
    "duration": 32,
    "start_time": "2022-04-24T16:10:36.135Z"
   },
   {
    "duration": 26,
    "start_time": "2022-04-24T16:10:36.169Z"
   },
   {
    "duration": 25,
    "start_time": "2022-04-24T16:10:36.224Z"
   },
   {
    "duration": 23,
    "start_time": "2022-04-24T16:10:36.251Z"
   },
   {
    "duration": 79,
    "start_time": "2022-04-24T16:10:36.277Z"
   },
   {
    "duration": 78,
    "start_time": "2022-04-24T16:10:36.358Z"
   },
   {
    "duration": 9,
    "start_time": "2022-04-24T16:10:36.439Z"
   },
   {
    "duration": 33,
    "start_time": "2022-04-24T16:10:36.451Z"
   },
   {
    "duration": 2170,
    "start_time": "2022-04-24T16:10:36.486Z"
   },
   {
    "duration": 21,
    "start_time": "2022-04-24T16:10:38.659Z"
   },
   {
    "duration": 61,
    "start_time": "2022-04-24T16:10:38.684Z"
   },
   {
    "duration": 5,
    "start_time": "2022-04-24T16:10:38.748Z"
   },
   {
    "duration": 30,
    "start_time": "2022-04-24T16:10:38.757Z"
   },
   {
    "duration": 69,
    "start_time": "2022-04-24T16:10:38.790Z"
   },
   {
    "duration": 17377,
    "start_time": "2022-04-24T16:10:38.863Z"
   },
   {
    "duration": 91,
    "start_time": "2022-04-24T16:10:56.244Z"
   },
   {
    "duration": 30,
    "start_time": "2022-04-24T16:10:56.343Z"
   },
   {
    "duration": 419,
    "start_time": "2022-04-24T16:10:56.381Z"
   },
   {
    "duration": 26934,
    "start_time": "2022-04-24T16:10:56.803Z"
   },
   {
    "duration": 4030,
    "start_time": "2022-04-24T16:11:23.741Z"
   },
   {
    "duration": 320,
    "start_time": "2022-04-24T16:11:27.780Z"
   },
   {
    "duration": 5673,
    "start_time": "2022-04-24T16:11:28.103Z"
   },
   {
    "duration": 2882,
    "start_time": "2022-04-24T16:11:33.779Z"
   },
   {
    "duration": 331,
    "start_time": "2022-04-24T16:11:36.672Z"
   },
   {
    "duration": 13041,
    "start_time": "2022-04-24T16:11:37.007Z"
   },
   {
    "duration": 2198,
    "start_time": "2022-04-24T16:11:50.055Z"
   },
   {
    "duration": 1551,
    "start_time": "2022-04-24T16:11:52.297Z"
   },
   {
    "duration": 41,
    "start_time": "2022-04-24T16:11:53.853Z"
   },
   {
    "duration": 170,
    "start_time": "2022-04-24T16:16:28.313Z"
   },
   {
    "duration": 1364,
    "start_time": "2022-04-24T16:20:15.249Z"
   },
   {
    "duration": 27,
    "start_time": "2022-04-24T16:20:22.957Z"
   },
   {
    "duration": 174,
    "start_time": "2022-04-24T16:21:34.004Z"
   }
  ],
  "kernelspec": {
   "display_name": "Python 3 (ipykernel)",
   "language": "python",
   "name": "python3"
  },
  "language_info": {
   "codemirror_mode": {
    "name": "ipython",
    "version": 3
   },
   "file_extension": ".py",
   "mimetype": "text/x-python",
   "name": "python",
   "nbconvert_exporter": "python",
   "pygments_lexer": "ipython3",
   "version": "3.9.13"
  },
  "toc": {
   "base_numbering": 1,
   "nav_menu": {},
   "number_sections": true,
   "sideBar": true,
   "skip_h1_title": true,
   "title_cell": "Содержание",
   "title_sidebar": "Contents",
   "toc_cell": true,
   "toc_position": {
    "height": "calc(100% - 180px)",
    "left": "10px",
    "top": "150px",
    "width": "165px"
   },
   "toc_section_display": true,
   "toc_window_display": true
  }
 },
 "nbformat": 4,
 "nbformat_minor": 2
}
