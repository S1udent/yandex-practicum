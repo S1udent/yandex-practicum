{
 "cells": [
  {
   "cell_type": "markdown",
   "metadata": {
    "toc": true
   },
   "source": [
    "<h1>Содержание<span class=\"tocSkip\"></span></h1>\n",
    "<div class=\"toc\"><ul class=\"toc-item\"><li><span><a href=\"#Откроем-и-изучим-файл\" data-toc-modified-id=\"Откроем-и-изучим-файл-1\"><span class=\"toc-item-num\">1&nbsp;&nbsp;</span>Откроем и изучим файл</a></span></li><li><span><a href=\"#Разбьем-данные-на-выборки\" data-toc-modified-id=\"Разбьем-данные-на-выборки-2\"><span class=\"toc-item-num\">2&nbsp;&nbsp;</span>Разбьем данные на выборки</a></span></li><li><span><a href=\"#Исследуем-модели\" data-toc-modified-id=\"Исследуем-модели-3\"><span class=\"toc-item-num\">3&nbsp;&nbsp;</span>Исследуем модели</a></span></li><li><span><a href=\"#Проверим-модель-на-тестовой-выборке\" data-toc-modified-id=\"Проверим-модель-на-тестовой-выборке-4\"><span class=\"toc-item-num\">4&nbsp;&nbsp;</span>Проверим модель на тестовой выборке</a></span></li><li><span><a href=\"#(бонус)-Проверим-модели-на-адекватность\" data-toc-modified-id=\"(бонус)-Проверим-модели-на-адекватность-5\"><span class=\"toc-item-num\">5&nbsp;&nbsp;</span>(бонус) Проверим модели на адекватность</a></span></li></ul></div>"
   ]
  },
  {
   "cell_type": "markdown",
   "metadata": {},
   "source": [
    "# Рекомендация тарифов"
   ]
  },
  {
   "cell_type": "markdown",
   "metadata": {},
   "source": [
    "В нашем распоряжении данные о поведении клиентов, которые уже перешли на эти тарифы (из проекта курса «Статистический анализ данных»). Нужно построить модель для задачи классификации, которая выберет подходящий тариф. Предобработка данных не понадобится — вы её уже сделали.\n",
    "\n",
    "Постройим модель с максимально большим значением *accuracy*. Чтобы сдать проект успешно, нужно довести долю правильных ответов по крайней мере до 0.75. Проверьте *accuracy* на тестовой выборке самостоятельно."
   ]
  },
  {
   "cell_type": "markdown",
   "metadata": {},
   "source": [
    "## Откроем и изучим файл"
   ]
  },
  {
   "cell_type": "code",
   "execution_count": 30,
   "metadata": {},
   "outputs": [
    {
     "data": {
      "text/html": [
       "<div>\n",
       "<style scoped>\n",
       "    .dataframe tbody tr th:only-of-type {\n",
       "        vertical-align: middle;\n",
       "    }\n",
       "\n",
       "    .dataframe tbody tr th {\n",
       "        vertical-align: top;\n",
       "    }\n",
       "\n",
       "    .dataframe thead th {\n",
       "        text-align: right;\n",
       "    }\n",
       "</style>\n",
       "<table border=\"1\" class=\"dataframe\">\n",
       "  <thead>\n",
       "    <tr style=\"text-align: right;\">\n",
       "      <th></th>\n",
       "      <th>calls</th>\n",
       "      <th>minutes</th>\n",
       "      <th>messages</th>\n",
       "      <th>mb_used</th>\n",
       "      <th>is_ultra</th>\n",
       "    </tr>\n",
       "  </thead>\n",
       "  <tbody>\n",
       "    <tr>\n",
       "      <th>0</th>\n",
       "      <td>40.0</td>\n",
       "      <td>311.90</td>\n",
       "      <td>83.0</td>\n",
       "      <td>19915.42</td>\n",
       "      <td>0</td>\n",
       "    </tr>\n",
       "    <tr>\n",
       "      <th>1</th>\n",
       "      <td>85.0</td>\n",
       "      <td>516.75</td>\n",
       "      <td>56.0</td>\n",
       "      <td>22696.96</td>\n",
       "      <td>0</td>\n",
       "    </tr>\n",
       "    <tr>\n",
       "      <th>2</th>\n",
       "      <td>77.0</td>\n",
       "      <td>467.66</td>\n",
       "      <td>86.0</td>\n",
       "      <td>21060.45</td>\n",
       "      <td>0</td>\n",
       "    </tr>\n",
       "    <tr>\n",
       "      <th>3</th>\n",
       "      <td>106.0</td>\n",
       "      <td>745.53</td>\n",
       "      <td>81.0</td>\n",
       "      <td>8437.39</td>\n",
       "      <td>1</td>\n",
       "    </tr>\n",
       "    <tr>\n",
       "      <th>4</th>\n",
       "      <td>66.0</td>\n",
       "      <td>418.74</td>\n",
       "      <td>1.0</td>\n",
       "      <td>14502.75</td>\n",
       "      <td>0</td>\n",
       "    </tr>\n",
       "  </tbody>\n",
       "</table>\n",
       "</div>"
      ],
      "text/plain": [
       "   calls  minutes  messages   mb_used  is_ultra\n",
       "0   40.0   311.90      83.0  19915.42         0\n",
       "1   85.0   516.75      56.0  22696.96         0\n",
       "2   77.0   467.66      86.0  21060.45         0\n",
       "3  106.0   745.53      81.0   8437.39         1\n",
       "4   66.0   418.74       1.0  14502.75         0"
      ]
     },
     "execution_count": 30,
     "metadata": {},
     "output_type": "execute_result"
    }
   ],
   "source": [
    "import pandas as pd\n",
    "import numpy as np\n",
    "from sklearn.model_selection import train_test_split\n",
    "from sklearn.tree import DecisionTreeClassifier\n",
    "from sklearn.ensemble import RandomForestClassifier\n",
    "from sklearn.linear_model import LogisticRegression\n",
    "from sklearn.dummy import DummyClassifier\n",
    "from sklearn.metrics import accuracy_score\n",
    "import numpy as np\n",
    "from sklearn.dummy import DummyClassifier\n",
    "import matplotlib.pyplot as plt\n",
    "\n",
    "data=pd.read_csv('/datasets/users_behavior.csv')\n",
    "data.head()"
   ]
  },
  {
   "cell_type": "code",
   "execution_count": 31,
   "metadata": {
    "scrolled": true
   },
   "outputs": [
    {
     "name": "stdout",
     "output_type": "stream",
     "text": [
      "0.9820832355742292\n",
      "0.17738450121769536\n",
      "0.28644151203505447\n",
      "0.17311022580969082\n",
      "0.28096693508821474\n",
      "0.1957211209558215\n"
     ]
    }
   ],
   "source": [
    "print(data['calls'].corr(data['minutes']))\n",
    "print(data['calls'].corr(data['messages']))\n",
    "print(data['calls'].corr(data['mb_used']))\n",
    "print(data['minutes'].corr(data['messages']))\n",
    "print(data['minutes'].corr(data['mb_used']))\n",
    "print(data['messages'].corr(data['mb_used']))"
   ]
  },
  {
   "cell_type": "code",
   "execution_count": 32,
   "metadata": {
    "scrolled": true
   },
   "outputs": [
    {
     "data": {
      "text/plain": [
       "Text(0, 0.5, 'minutes')"
      ]
     },
     "execution_count": 32,
     "metadata": {},
     "output_type": "execute_result"
    },
    {
     "data": {
      "image/png": "[encoded data removed]",
      "text/plain": [
       "<Figure size 432x288 with 1 Axes>"
      ]
     },
     "metadata": {
      "needs_background": "light"
     },
     "output_type": "display_data"
    }
   ],
   "source": [
    "plt.scatter(data=data, x=\"calls\", y=\"minutes\", alpha = 0.1)\n",
    "plt.xlabel(\"calls\")\n",
    "plt.ylabel(\"minutes\")"
   ]
  },
  {
   "cell_type": "code",
   "execution_count": 28,
   "metadata": {},
   "outputs": [
    {
     "data": {
      "text/html": [
       "<div>\n",
       "<style scoped>\n",
       "    .dataframe tbody tr th:only-of-type {\n",
       "        vertical-align: middle;\n",
       "    }\n",
       "\n",
       "    .dataframe tbody tr th {\n",
       "        vertical-align: top;\n",
       "    }\n",
       "\n",
       "    .dataframe thead th {\n",
       "        text-align: right;\n",
       "    }\n",
       "</style>\n",
       "<table border=\"1\" class=\"dataframe\">\n",
       "  <thead>\n",
       "    <tr style=\"text-align: right;\">\n",
       "      <th></th>\n",
       "      <th>minutes</th>\n",
       "      <th>messages</th>\n",
       "      <th>mb_used</th>\n",
       "      <th>is_ultra</th>\n",
       "    </tr>\n",
       "  </thead>\n",
       "  <tbody>\n",
       "    <tr>\n",
       "      <th>0</th>\n",
       "      <td>311.90</td>\n",
       "      <td>83.0</td>\n",
       "      <td>19915.42</td>\n",
       "      <td>0</td>\n",
       "    </tr>\n",
       "    <tr>\n",
       "      <th>1</th>\n",
       "      <td>516.75</td>\n",
       "      <td>56.0</td>\n",
       "      <td>22696.96</td>\n",
       "      <td>0</td>\n",
       "    </tr>\n",
       "    <tr>\n",
       "      <th>2</th>\n",
       "      <td>467.66</td>\n",
       "      <td>86.0</td>\n",
       "      <td>21060.45</td>\n",
       "      <td>0</td>\n",
       "    </tr>\n",
       "    <tr>\n",
       "      <th>3</th>\n",
       "      <td>745.53</td>\n",
       "      <td>81.0</td>\n",
       "      <td>8437.39</td>\n",
       "      <td>1</td>\n",
       "    </tr>\n",
       "    <tr>\n",
       "      <th>4</th>\n",
       "      <td>418.74</td>\n",
       "      <td>1.0</td>\n",
       "      <td>14502.75</td>\n",
       "      <td>0</td>\n",
       "    </tr>\n",
       "  </tbody>\n",
       "</table>\n",
       "</div>"
      ],
      "text/plain": [
       "   minutes  messages   mb_used  is_ultra\n",
       "0   311.90      83.0  19915.42         0\n",
       "1   516.75      56.0  22696.96         0\n",
       "2   467.66      86.0  21060.45         0\n",
       "3   745.53      81.0   8437.39         1\n",
       "4   418.74       1.0  14502.75         0"
      ]
     },
     "execution_count": 28,
     "metadata": {},
     "output_type": "execute_result"
    }
   ],
   "source": [
    "data=data.drop(['calls'], axis=1)\n",
    "data.head()"
   ]
  },
  {
   "cell_type": "markdown",
   "metadata": {},
   "source": [
    "Наибольшая корреляция наблюдается между столбцами calls и minutes и равна 0.9820832355742292\n",
    "Тк. в тарифах обычно трафиком является не количество звонков, а количество минут, то столбец calls можно исключить."
   ]
  },
  {
   "cell_type": "markdown",
   "metadata": {},
   "source": [
    "## Разбьем данные на выборки"
   ]
  },
  {
   "cell_type": "code",
   "execution_count": 14,
   "metadata": {},
   "outputs": [],
   "source": [
    "data_train, data_valid = train_test_split(data, test_size=0.4, random_state=1)\n",
    "data_valid, data_test = train_test_split(data_valid, test_size=0.5, random_state=1)\n",
    "features_train=data_train.drop(['is_ultra'], axis=1)\n",
    "target_train=data_train['is_ultra']\n",
    "features_valid=data_valid.drop(['is_ultra'], axis=1)\n",
    "target_valid=data_valid['is_ultra']\n",
    "features_test=data_test.drop(['is_ultra'], axis=1)\n",
    "target_test=data_test['is_ultra']"
   ]
  },
  {
   "cell_type": "markdown",
   "metadata": {},
   "source": [
    "## Исследуем модели"
   ]
  },
  {
   "cell_type": "code",
   "execution_count": 15,
   "metadata": {},
   "outputs": [
    {
     "name": "stdout",
     "output_type": "stream",
     "text": [
      "0.71850699844479\n",
      "0.7558320373250389\n",
      "0.7713841368584758\n",
      "0.7573872472783826\n",
      "0.7682737169517885\n",
      "0.7620528771384136\n",
      "0.7542768273716952\n",
      "0.7558320373250389\n",
      "0.7698289269051322\n",
      "Accuracy лучшей модели tree: 0.7713841368584758 , при параметре max_depth = 9\n",
      "******************************************************************************\n",
      "0.7371695178849145\n",
      "0.7713841368584758\n",
      "0.7682737169517885\n",
      "0.7791601866251944\n",
      "0.7744945567651633\n",
      "0.7744945567651633\n",
      "0.7807153965785381\n",
      "0.7869362363919129\n",
      "0.7900466562986003\n",
      "0.7822706065318819\n",
      "0.7822706065318819\n",
      "0.7853810264385692\n",
      "0.7838258164852255\n",
      "0.7822706065318819\n",
      "0.7838258164852255\n",
      "0.7807153965785381\n",
      "0.776049766718507\n",
      "0.776049766718507\n",
      "0.776049766718507\n",
      "0.7776049766718507\n",
      "Accuracy наилучшей модели forest: 0.7900466562986003 , при параметре n_estimators = 96\n",
      "******************************************************************************\n",
      "0.713841368584759 newton-cg\n"
     ]
    },
    {
     "name": "stderr",
     "output_type": "stream",
     "text": [
      "/opt/conda/lib/python3.9/site-packages/scipy/optimize/_linesearch.py:456: LineSearchWarning: The line search algorithm did not converge\n",
      "  warn('The line search algorithm did not converge', LineSearchWarning)\n",
      "/opt/conda/lib/python3.9/site-packages/scipy/optimize/_linesearch.py:305: LineSearchWarning: The line search algorithm did not converge\n",
      "  warn('The line search algorithm did not converge', LineSearchWarning)\n",
      "/opt/conda/lib/python3.9/site-packages/scipy/optimize/_linesearch.py:456: LineSearchWarning: The line search algorithm did not converge\n",
      "  warn('The line search algorithm did not converge', LineSearchWarning)\n",
      "/opt/conda/lib/python3.9/site-packages/scipy/optimize/_linesearch.py:305: LineSearchWarning: The line search algorithm did not converge\n",
      "  warn('The line search algorithm did not converge', LineSearchWarning)\n",
      "/opt/conda/lib/python3.9/site-packages/scipy/optimize/_linesearch.py:415: LineSearchWarning: Rounding errors prevent the line search from converging\n",
      "  warn(msg, LineSearchWarning)\n",
      "/opt/conda/lib/python3.9/site-packages/scipy/optimize/_linesearch.py:305: LineSearchWarning: The line search algorithm did not converge\n",
      "  warn('The line search algorithm did not converge', LineSearchWarning)\n",
      "/opt/conda/lib/python3.9/site-packages/sklearn/utils/optimize.py:195: UserWarning: Line Search failed\n",
      "  warnings.warn('Line Search failed')\n"
     ]
    },
    {
     "name": "stdout",
     "output_type": "stream",
     "text": [
      "0.713841368584759 lbfgs\n",
      "0.6749611197511665 liblinear\n"
     ]
    },
    {
     "name": "stderr",
     "output_type": "stream",
     "text": [
      "/opt/conda/lib/python3.9/site-packages/sklearn/linear_model/_sag.py:328: ConvergenceWarning: The max_iter was reached which means the coef_ did not converge\n",
      "  warnings.warn(\"The max_iter was reached which means \"\n"
     ]
    },
    {
     "name": "stdout",
     "output_type": "stream",
     "text": [
      "0.6687402799377916 sag\n",
      "0.6640746500777605 saga\n",
      "Accuracy наилучшей модели logistic: 0.713841368584759 , при параметре solver =  saga\n"
     ]
    },
    {
     "name": "stderr",
     "output_type": "stream",
     "text": [
      "/opt/conda/lib/python3.9/site-packages/sklearn/linear_model/_sag.py:328: ConvergenceWarning: The max_iter was reached which means the coef_ did not converge\n",
      "  warnings.warn(\"The max_iter was reached which means \"\n"
     ]
    }
   ],
   "source": [
    "best_model_tree = None\n",
    "best_result_tree = 0\n",
    "for depth in range(1,10):\n",
    "    model_tree = DecisionTreeClassifier(random_state=1, max_depth=depth)\n",
    "    model_tree.fit(features_train, target_train)\n",
    "    predictions_valid_tree = model_tree.predict(features_valid)\n",
    "    result_tree = accuracy_score(target_valid, predictions_valid_tree)\n",
    "    print(result_tree)\n",
    "    if result_tree>best_result_tree:\n",
    "        best_model_tree = model_tree\n",
    "        best_result_tree = result_tree\n",
    "print(\"Accuracy лучшей модели tree:\", best_result_tree, \", при параметре max_depth =\",depth )\n",
    "print('******************************************************************************')\n",
    "best_model_forest = None\n",
    "best_result_forest = 0\n",
    "for est in range(1, 100, 5):\n",
    "    model_forest = RandomForestClassifier(random_state=1, n_estimators=est) \n",
    "    model_forest.fit(features_train,target_train) \n",
    "    predictions_valid_forest = model_forest.predict(features_valid)\n",
    "    result_forest = accuracy_score(target_valid, predictions_valid_forest) \n",
    "    print(result_forest)\n",
    "    if result_forest > best_result_forest:\n",
    "        best_model_forest = model_forest\n",
    "        best_result_forest = result_forest\n",
    "\n",
    "print(\"Accuracy наилучшей модели forest:\", best_result_forest, \", при параметре n_estimators =\",est )\n",
    "print('******************************************************************************')\n",
    "best_model_logistict = None\n",
    "best_result_logistic = 0\n",
    "solver=['newton-cg', 'lbfgs', 'liblinear', 'sag', 'saga']\n",
    "for solver in solver:\n",
    "    model_logistic = LogisticRegression(random_state=1, solver=solver, max_iter=1000)\n",
    "    model_logistic.fit(features_train,target_train) \n",
    "    predictions_valid_logistic = model_logistic.predict(features_valid)\n",
    "    result_logistic = accuracy_score(target_valid, predictions_valid_logistic) \n",
    "    print(result_logistic,solver)\n",
    "    if result_logistic > best_result_logistic:\n",
    "        best_model_logistic = model_logistic\n",
    "        best_result_logistic = result_logistic\n",
    "print(\"Accuracy наилучшей модели logistic:\", best_result_logistic, \", при параметре solver = \",solver)"
   ]
  },
  {
   "cell_type": "markdown",
   "metadata": {},
   "source": [
    "## Проверим модель на тестовой выборке"
   ]
  },
  {
   "cell_type": "code",
   "execution_count": 16,
   "metadata": {},
   "outputs": [
    {
     "name": "stdout",
     "output_type": "stream",
     "text": [
      "0.776049766718507\n",
      "Accuracy модели tree_test: 0.776049766718507\n",
      "******************************************************************************\n",
      "Accuracy наилучшей модели forest_test: 0.7947122861586314 , при параметре n_estimators = 96\n",
      "******************************************************************************\n",
      "0.6982892690513219\n",
      "Accuracy наилучшей модели logistic: 0.6982892690513219 , при параметре max_iter = 1000\n"
     ]
    },
    {
     "name": "stderr",
     "output_type": "stream",
     "text": [
      "/opt/conda/lib/python3.9/site-packages/sklearn/linear_model/_sag.py:328: ConvergenceWarning: The max_iter was reached which means the coef_ did not converge\n",
      "  warnings.warn(\"The max_iter was reached which means \"\n"
     ]
    }
   ],
   "source": [
    "model_tree = DecisionTreeClassifier(random_state=1, max_depth=9)\n",
    "model_tree.fit(features_train, target_train)\n",
    "predictions_test_tree = model_tree.predict(features_test)\n",
    "result_tree_test = accuracy_score(target_test, predictions_test_tree)\n",
    "print(result_tree_test)\n",
    "print(\"Accuracy модели tree_test:\", result_tree_test)\n",
    "print('******************************************************************************')\n",
    "model_forest = RandomForestClassifier(random_state=1, n_estimators=96) \n",
    "model_forest.fit(features_train,target_train) \n",
    "predictions_test_forest = model_forest.predict(features_test)\n",
    "result_forest_test = accuracy_score(target_test, predictions_test_forest) \n",
    "print(\"Accuracy наилучшей модели forest_test:\", result_forest_test, \", при параметре n_estimators = 96\" )\n",
    "print('******************************************************************************')\n",
    "model_logistic = LogisticRegression(random_state=1, solver='saga', max_iter=1000)\n",
    "model_logistic.fit(features_train,target_train) \n",
    "predictions_test_logistic = model_logistic.predict(features_test)\n",
    "result_logistic_test = accuracy_score(target_test, predictions_test_logistic) \n",
    "print(result_logistic_test)\n",
    "print(\"Accuracy наилучшей модели logistic:\", result_logistic_test, \", при параметре max_iter = 1000\")"
   ]
  },
  {
   "cell_type": "markdown",
   "metadata": {},
   "source": [
    "## (бонус) Проверим модели на адекватность"
   ]
  },
  {
   "cell_type": "code",
   "execution_count": 17,
   "metadata": {},
   "outputs": [
    {
     "name": "stdout",
     "output_type": "stream",
     "text": [
      "Точность:  0.6936236391912908\n"
     ]
    }
   ],
   "source": [
    "# DummyClassifier to predict only target 0\n",
    "dummy = DummyClassifier(random_state=1, strategy='most_frequent').fit(features_train, target_train)\n",
    "dummy_pred = dummy.predict(features_test)\n",
    "result_dummy = accuracy_score(target_test, dummy_pred)\n",
    "print('Точность: ', result_dummy)"
   ]
  },
  {
   "cell_type": "code",
   "execution_count": 18,
   "metadata": {
    "scrolled": true
   },
   "outputs": [
    {
     "data": {
      "text/html": [
       "<div>\n",
       "<style scoped>\n",
       "    .dataframe tbody tr th:only-of-type {\n",
       "        vertical-align: middle;\n",
       "    }\n",
       "\n",
       "    .dataframe tbody tr th {\n",
       "        vertical-align: top;\n",
       "    }\n",
       "\n",
       "    .dataframe thead th {\n",
       "        text-align: right;\n",
       "    }\n",
       "</style>\n",
       "<table border=\"1\" class=\"dataframe\">\n",
       "  <thead>\n",
       "    <tr style=\"text-align: right;\">\n",
       "      <th></th>\n",
       "      <th>model</th>\n",
       "      <th>result_valid</th>\n",
       "      <th>result_test</th>\n",
       "      <th>dummy</th>\n",
       "      <th>test-dummy</th>\n",
       "    </tr>\n",
       "  </thead>\n",
       "  <tbody>\n",
       "    <tr>\n",
       "      <th>0</th>\n",
       "      <td>forest</td>\n",
       "      <td>0.790047</td>\n",
       "      <td>0.794712</td>\n",
       "      <td>0.693624</td>\n",
       "      <td>0.101089</td>\n",
       "    </tr>\n",
       "    <tr>\n",
       "      <th>1</th>\n",
       "      <td>tree</td>\n",
       "      <td>0.771384</td>\n",
       "      <td>0.776050</td>\n",
       "      <td>0.693624</td>\n",
       "      <td>0.082426</td>\n",
       "    </tr>\n",
       "    <tr>\n",
       "      <th>2</th>\n",
       "      <td>logistic</td>\n",
       "      <td>0.713841</td>\n",
       "      <td>0.698289</td>\n",
       "      <td>0.693624</td>\n",
       "      <td>0.004666</td>\n",
       "    </tr>\n",
       "  </tbody>\n",
       "</table>\n",
       "</div>"
      ],
      "text/plain": [
       "      model  result_valid  result_test     dummy  test-dummy\n",
       "0    forest      0.790047     0.794712  0.693624    0.101089\n",
       "1      tree      0.771384     0.776050  0.693624    0.082426\n",
       "2  logistic      0.713841     0.698289  0.693624    0.004666"
      ]
     },
     "execution_count": 18,
     "metadata": {},
     "output_type": "execute_result"
    }
   ],
   "source": [
    "status = pd.DataFrame([['tree',best_result_tree,result_tree_test,result_dummy],\n",
    "                  ['forest',best_result_forest,result_forest_test,result_dummy],\n",
    "                  ['logistic',best_result_logistic,result_logistic_test,result_dummy]], \n",
    "columns=['model','result_valid','result_test','dummy'])\n",
    "status['test-dummy']=status['result_test']-status['dummy']\n",
    "status.sort_values('result_valid', ascending=False).reset_index(drop=True)"
   ]
  },
  {
   "cell_type": "markdown",
   "metadata": {},
   "source": [
    "Обучив модели DecisionTreeClassifier, RandomForestClassifier, LogisticRegression, мы добились точности на валидационной выборке от 0.720062\tдо 0.797823 и точности от 0.698289 до 0.802488 на тестовой выборке. Применив метод дамми на тестовых данных, мы достигли точности в 0.6936236391912908. "
   ]
  }
 ],
 "metadata": {
  "ExecuteTimeLog": [
   {
    "duration": 1317,
    "start_time": "2022-04-20T21:00:43.830Z"
   },
   {
    "duration": 71,
    "start_time": "2022-04-20T21:01:00.361Z"
   },
   {
    "duration": 6,
    "start_time": "2022-04-20T21:01:28.695Z"
   },
   {
    "duration": 6,
    "start_time": "2022-04-20T21:01:33.411Z"
   },
   {
    "duration": 9,
    "start_time": "2022-04-20T21:01:50.441Z"
   },
   {
    "duration": 62,
    "start_time": "2022-04-20T21:02:19.086Z"
   },
   {
    "duration": 59,
    "start_time": "2022-04-20T21:02:24.514Z"
   },
   {
    "duration": 4056,
    "start_time": "2022-04-20T21:02:36.620Z"
   },
   {
    "duration": 4291,
    "start_time": "2022-04-20T21:02:59.897Z"
   },
   {
    "duration": 553,
    "start_time": "2022-04-20T21:03:50.660Z"
   },
   {
    "duration": 575,
    "start_time": "2022-04-20T21:04:12.522Z"
   },
   {
    "duration": 4233,
    "start_time": "2022-04-20T21:12:51.598Z"
   },
   {
    "duration": 421,
    "start_time": "2022-04-20T21:12:55.832Z"
   },
   {
    "duration": 9,
    "start_time": "2022-04-20T21:12:58.059Z"
   },
   {
    "duration": 4294,
    "start_time": "2022-04-20T21:12:59.110Z"
   },
   {
    "duration": 547,
    "start_time": "2022-04-20T21:13:31.262Z"
   },
   {
    "duration": 21,
    "start_time": "2022-04-20T21:13:59.636Z"
   },
   {
    "duration": 6,
    "start_time": "2022-04-20T21:14:19.450Z"
   },
   {
    "duration": 15,
    "start_time": "2022-04-20T21:14:30.651Z"
   },
   {
    "duration": 5,
    "start_time": "2022-04-20T21:55:16.619Z"
   },
   {
    "duration": 5,
    "start_time": "2022-04-20T21:55:18.019Z"
   },
   {
    "duration": 13,
    "start_time": "2022-04-20T21:55:19.266Z"
   },
   {
    "duration": 25,
    "start_time": "2022-04-20T21:55:21.890Z"
   },
   {
    "duration": 9,
    "start_time": "2022-04-20T21:55:22.267Z"
   },
   {
    "duration": 4184,
    "start_time": "2022-04-20T21:55:22.584Z"
   },
   {
    "duration": 555,
    "start_time": "2022-04-20T21:55:26.770Z"
   },
   {
    "duration": 6,
    "start_time": "2022-04-20T21:55:27.326Z"
   },
   {
    "duration": 12,
    "start_time": "2022-04-20T21:55:27.333Z"
   },
   {
    "duration": 72728,
    "start_time": "2022-04-21T00:39:02.247Z"
   },
   {
    "duration": 12,
    "start_time": "2022-04-21T00:40:14.981Z"
   },
   {
    "duration": 6402,
    "start_time": "2022-04-21T00:41:21.003Z"
   },
   {
    "duration": 859,
    "start_time": "2022-04-21T00:42:26.107Z"
   },
   {
    "duration": 8,
    "start_time": "2022-04-21T00:42:55.383Z"
   },
   {
    "duration": 25,
    "start_time": "2022-04-21T00:42:56.181Z"
   },
   {
    "duration": 70,
    "start_time": "2022-04-21T13:13:56.455Z"
   },
   {
    "duration": 2510,
    "start_time": "2022-04-21T13:14:01.036Z"
   },
   {
    "duration": 8,
    "start_time": "2022-04-21T13:14:03.550Z"
   },
   {
    "duration": 17,
    "start_time": "2022-04-21T13:16:04.633Z"
   },
   {
    "duration": 13,
    "start_time": "2022-04-21T13:16:25.717Z"
   },
   {
    "duration": 12,
    "start_time": "2022-04-21T13:16:36.773Z"
   },
   {
    "duration": 12,
    "start_time": "2022-04-21T13:31:02.148Z"
   },
   {
    "duration": 121,
    "start_time": "2022-04-21T13:44:00.835Z"
   },
   {
    "duration": 5,
    "start_time": "2022-04-21T13:45:13.088Z"
   },
   {
    "duration": 17,
    "start_time": "2022-04-21T13:45:16.928Z"
   },
   {
    "duration": 29,
    "start_time": "2022-04-21T13:45:46.449Z"
   },
   {
    "duration": 12,
    "start_time": "2022-04-21T13:45:47.616Z"
   },
   {
    "duration": 18,
    "start_time": "2022-04-21T13:45:48.917Z"
   },
   {
    "duration": 14,
    "start_time": "2022-04-21T13:45:54.226Z"
   },
   {
    "duration": 5305,
    "start_time": "2022-04-21T13:45:56.834Z"
   },
   {
    "duration": 673,
    "start_time": "2022-04-21T13:46:08.005Z"
   },
   {
    "duration": 8,
    "start_time": "2022-04-21T13:46:13.764Z"
   },
   {
    "duration": 24,
    "start_time": "2022-04-21T13:46:16.986Z"
   },
   {
    "duration": 29,
    "start_time": "2022-04-21T13:47:55.922Z"
   },
   {
    "duration": 13,
    "start_time": "2022-04-21T13:47:58.731Z"
   },
   {
    "duration": 13,
    "start_time": "2022-04-21T13:50:39.786Z"
   },
   {
    "duration": 12,
    "start_time": "2022-04-21T13:50:50.752Z"
   },
   {
    "duration": 229,
    "start_time": "2022-04-21T13:51:21.540Z"
   },
   {
    "duration": 224,
    "start_time": "2022-04-21T13:52:05.600Z"
   },
   {
    "duration": 291,
    "start_time": "2022-04-21T13:53:10.815Z"
   },
   {
    "duration": 243,
    "start_time": "2022-04-21T13:53:14.764Z"
   },
   {
    "duration": 242,
    "start_time": "2022-04-21T13:53:20.364Z"
   },
   {
    "duration": 15,
    "start_time": "2022-04-21T13:58:45.434Z"
   },
   {
    "duration": 170,
    "start_time": "2022-04-21T13:59:01.672Z"
   },
   {
    "duration": 49,
    "start_time": "2022-04-21T13:59:05.279Z"
   },
   {
    "duration": 16,
    "start_time": "2022-04-21T13:59:06.437Z"
   },
   {
    "duration": 381,
    "start_time": "2022-04-21T13:59:07.253Z"
   }
  ],
  "kernelspec": {
   "display_name": "Python 3 (ipykernel)",
   "language": "python",
   "name": "python3"
  },
  "language_info": {
   "codemirror_mode": {
    "name": "ipython",
    "version": 3
   },
   "file_extension": ".py",
   "mimetype": "text/x-python",
   "name": "python",
   "nbconvert_exporter": "python",
   "pygments_lexer": "ipython3",
   "version": "3.9.13"
  },
  "toc": {
   "base_numbering": 1,
   "nav_menu": {},
   "number_sections": true,
   "sideBar": true,
   "skip_h1_title": true,
   "title_cell": "Содержание",
   "title_sidebar": "Contents",
   "toc_cell": true,
   "toc_position": {},
   "toc_section_display": true,
   "toc_window_display": true
  }
 },
 "nbformat": 4,
 "nbformat_minor": 2
}
