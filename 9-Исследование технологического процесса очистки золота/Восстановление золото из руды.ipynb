{
 "cells": [
  {
   "cell_type": "markdown",
   "metadata": {
    "toc": true
   },
   "source": [
    "<h1>Содержание<span class=\"tocSkip\"></span></h1>\n",
    "<div class=\"toc\"><ul class=\"toc-item\"><li><span><a href=\"#Подготовка-данных\" data-toc-modified-id=\"Подготовка-данных-1\"><span class=\"toc-item-num\">1&nbsp;&nbsp;</span>Подготовка данных</a></span><ul class=\"toc-item\"><li><span><a href=\"#Проверим-формулу-вычисления-эффективности-обогащения\" data-toc-modified-id=\"Проверим-формулу-вычисления-эффективности-обогащения-1.1\"><span class=\"toc-item-num\">1.1&nbsp;&nbsp;</span>Проверим формулу вычисления эффективности обогащения</a></span></li><li><span><a href=\"#Проанализируем-признаки,-недоступные-в-тестовой-выборке.\" data-toc-modified-id=\"Проанализируем-признаки,-недоступные-в-тестовой-выборке.-1.2\"><span class=\"toc-item-num\">1.2&nbsp;&nbsp;</span>Проанализируем признаки, недоступные в тестовой выборке.</a></span></li><li><span><a href=\"#Проведем-предобработку-данных\" data-toc-modified-id=\"Проведем-предобработку-данных-1.3\"><span class=\"toc-item-num\">1.3&nbsp;&nbsp;</span>Проведем предобработку данных</a></span></li></ul></li><li><span><a href=\"#Анализ-данных\" data-toc-modified-id=\"Анализ-данных-2\"><span class=\"toc-item-num\">2&nbsp;&nbsp;</span>Анализ данных</a></span><ul class=\"toc-item\"><li><span><a href=\"#Исследуем-изменение-концентрации-элементов-на-каждом-этапе\" data-toc-modified-id=\"Исследуем-изменение-концентрации-элементов-на-каждом-этапе-2.1\"><span class=\"toc-item-num\">2.1&nbsp;&nbsp;</span>Исследуем изменение концентрации элементов на каждом этапе</a></span></li><li><span><a href=\"#Проанализируем-распределения-размеров-гранул-на-обучающей-и-тестовой-выборках\" data-toc-modified-id=\"Проанализируем-распределения-размеров-гранул-на-обучающей-и-тестовой-выборках-2.2\"><span class=\"toc-item-num\">2.2&nbsp;&nbsp;</span>Проанализируем распределения размеров гранул на обучающей и тестовой выборках</a></span></li><li><span><a href=\"#Исследуем-суммарные-концентрации\" data-toc-modified-id=\"Исследуем-суммарные-концентрации-2.3\"><span class=\"toc-item-num\">2.3&nbsp;&nbsp;</span>Исследуем суммарные концентрации</a></span></li></ul></li><li><span><a href=\"#Модель\" data-toc-modified-id=\"Модель-3\"><span class=\"toc-item-num\">3&nbsp;&nbsp;</span>Модель</a></span><ul class=\"toc-item\"><li><span><a href=\"#Напишем-функцию-для-вычисления-итоговой-sMAPE.\" data-toc-modified-id=\"Напишем-функцию-для-вычисления-итоговой-sMAPE.-3.1\"><span class=\"toc-item-num\">3.1&nbsp;&nbsp;</span>Напишем функцию для вычисления итоговой sMAPE.</a></span></li><li><span><a href=\"#Обучим-разные-модели-и-оценим-их-качество-кросс-валидацией.-Выберем-лучшую-модель-и-проверим-её-на-тестовой-выборке.-Опишим-выводы.\" data-toc-modified-id=\"Обучим-разные-модели-и-оценим-их-качество-кросс-валидацией.-Выберем-лучшую-модель-и-проверим-её-на-тестовой-выборке.-Опишим-выводы.-3.2\"><span class=\"toc-item-num\">3.2&nbsp;&nbsp;</span>Обучим разные модели и оценим их качество кросс-валидацией. Выберем лучшую модель и проверим её на тестовой выборке. Опишим выводы.</a></span></li></ul>"
   ]
  },
  {
   "cell_type": "markdown",
   "metadata": {},
   "source": [
    "# Восстановление золота из руды"
   ]
  },
  {
   "cell_type": "markdown",
   "metadata": {},
   "source": [
    "Необходимо подготовить прототип модели машинного обучения. Компания разрабатывает решения для эффективной работы промышленных предприятий.\n",
    "\n",
    "Модель должна предсказать коэффициент восстановления золота из золотосодержащей руды. Используем данные с параметрами добычи и очистки. \n",
    "\n",
    "Модель поможет оптимизировать производство, чтобы не запускать предприятие с убыточными характеристиками.\n"
   ]
  },
  {
   "cell_type": "markdown",
   "metadata": {},
   "source": [
    "## Подготовка данных"
   ]
  },
  {
   "cell_type": "markdown",
   "metadata": {},
   "source": [
    "Загрузим необходимые библиотеки"
   ]
  },
  {
   "cell_type": "code",
   "execution_count": 1,
   "metadata": {},
   "outputs": [],
   "source": [
    "import pandas as pd\n",
    "import matplotlib.pyplot as plt\n",
    "import numpy as np\n",
    "from sklearn.linear_model import LinearRegression\n",
    "from sklearn.ensemble import RandomForestRegressor\n",
    "from sklearn.tree import DecisionTreeRegressor\n",
    "from sklearn.model_selection import train_test_split\n",
    "from sklearn.preprocessing import StandardScaler\n",
    "from sklearn.model_selection import cross_val_score\n",
    "from sklearn.metrics import mean_squared_error\n",
    "from sklearn.metrics import accuracy_score\n",
    "from sklearn.utils import shuffle\n",
    "from sklearn.metrics import mean_absolute_error\n",
    "from sklearn.metrics import make_scorer\n",
    "import seaborn as sns\n",
    "import warnings\n",
    "warnings.filterwarnings('ignore')"
   ]
  },
  {
   "cell_type": "markdown",
   "metadata": {},
   "source": [
    "Загрузим датасеты"
   ]
  },
  {
   "cell_type": "code",
   "execution_count": 2,
   "metadata": {},
   "outputs": [],
   "source": [
    "data_train = pd.read_csv('/datasets/gold_recovery_train_new.csv')\n",
    "data_test = pd.read_csv('/datasets/gold_recovery_test_new.csv')\n",
    "data_full = pd.read_csv('/datasets/gold_recovery_full_new.csv')"
   ]
  },
  {
   "cell_type": "markdown",
   "metadata": {},
   "source": [
    "Посмотрим на данные"
   ]
  },
  {
   "cell_type": "code",
   "execution_count": 3,
   "metadata": {},
   "outputs": [
    {
     "name": "stdout",
     "output_type": "stream",
     "text": [
      "*******************************************head************************************************\n",
      "                  date  final.output.concentrate_ag  \\\n",
      "0  2016-01-15 00:00:00                     6.055403   \n",
      "1  2016-01-15 01:00:00                     6.029369   \n",
      "2  2016-01-15 02:00:00                     6.055926   \n",
      "3  2016-01-15 03:00:00                     6.047977   \n",
      "4  2016-01-15 04:00:00                     6.148599   \n",
      "\n",
      "   final.output.concentrate_pb  final.output.concentrate_sol  \\\n",
      "0                     9.889648                      5.507324   \n",
      "1                     9.968944                      5.257781   \n",
      "2                    10.213995                      5.383759   \n",
      "3                     9.977019                      4.858634   \n",
      "4                    10.142511                      4.939416   \n",
      "\n",
      "   final.output.concentrate_au  final.output.recovery  final.output.tail_ag  \\\n",
      "0                    42.192020              70.541216             10.411962   \n",
      "1                    42.701629              69.266198             10.462676   \n",
      "2                    42.657501              68.116445             10.507046   \n",
      "3                    42.689819              68.347543             10.422762   \n",
      "4                    42.774141              66.927016             10.360302   \n",
      "\n",
      "   final.output.tail_pb  final.output.tail_sol  final.output.tail_au  ...  \\\n",
      "0              0.895447              16.904297              2.143149  ...   \n",
      "1              0.927452              16.634514              2.224930  ...   \n",
      "2              0.953716              16.208849              2.257889  ...   \n",
      "3              0.883763              16.532835              2.146849  ...   \n",
      "4              0.792826              16.525686              2.055292  ...   \n",
      "\n",
      "   secondary_cleaner.state.floatbank4_a_air  \\\n",
      "0                                 14.016835   \n",
      "1                                 13.992281   \n",
      "2                                 14.015015   \n",
      "3                                 14.036510   \n",
      "4                                 14.027298   \n",
      "\n",
      "   secondary_cleaner.state.floatbank4_a_level  \\\n",
      "0                                 -502.488007   \n",
      "1                                 -505.503262   \n",
      "2                                 -502.520901   \n",
      "3                                 -500.857308   \n",
      "4                                 -499.838632   \n",
      "\n",
      "   secondary_cleaner.state.floatbank4_b_air  \\\n",
      "0                                 12.099931   \n",
      "1                                 11.950531   \n",
      "2                                 11.912783   \n",
      "3                                 11.999550   \n",
      "4                                 11.953070   \n",
      "\n",
      "   secondary_cleaner.state.floatbank4_b_level  \\\n",
      "0                                 -504.715942   \n",
      "1                                 -501.331529   \n",
      "2                                 -501.133383   \n",
      "3                                 -501.193686   \n",
      "4                                 -501.053894   \n",
      "\n",
      "   secondary_cleaner.state.floatbank5_a_air  \\\n",
      "0                                  9.925633   \n",
      "1                                 10.039245   \n",
      "2                                 10.070913   \n",
      "3                                  9.970366   \n",
      "4                                  9.925709   \n",
      "\n",
      "   secondary_cleaner.state.floatbank5_a_level  \\\n",
      "0                                 -498.310211   \n",
      "1                                 -500.169983   \n",
      "2                                 -500.129135   \n",
      "3                                 -499.201640   \n",
      "4                                 -501.686727   \n",
      "\n",
      "   secondary_cleaner.state.floatbank5_b_air  \\\n",
      "0                                  8.079666   \n",
      "1                                  7.984757   \n",
      "2                                  8.013877   \n",
      "3                                  7.977324   \n",
      "4                                  7.894242   \n",
      "\n",
      "   secondary_cleaner.state.floatbank5_b_level  \\\n",
      "0                                 -500.470978   \n",
      "1                                 -500.582168   \n",
      "2                                 -500.517572   \n",
      "3                                 -500.255908   \n",
      "4                                 -500.356035   \n",
      "\n",
      "   secondary_cleaner.state.floatbank6_a_air  \\\n",
      "0                                 14.151341   \n",
      "1                                 13.998353   \n",
      "2                                 14.028663   \n",
      "3                                 14.005551   \n",
      "4                                 13.996647   \n",
      "\n",
      "   secondary_cleaner.state.floatbank6_a_level  \n",
      "0                                 -605.841980  \n",
      "1                                 -599.787184  \n",
      "2                                 -601.427363  \n",
      "3                                 -599.996129  \n",
      "4                                 -601.496691  \n",
      "\n",
      "[5 rows x 87 columns]\n",
      "*******************************************head************************************************\n",
      "                  date  primary_cleaner.input.sulfate  \\\n",
      "0  2016-09-01 00:59:59                     210.800909   \n",
      "1  2016-09-01 01:59:59                     215.392455   \n",
      "2  2016-09-01 02:59:59                     215.259946   \n",
      "3  2016-09-01 03:59:59                     215.336236   \n",
      "4  2016-09-01 04:59:59                     199.099327   \n",
      "\n",
      "   primary_cleaner.input.depressant  primary_cleaner.input.feed_size  \\\n",
      "0                         14.993118                         8.080000   \n",
      "1                         14.987471                         8.080000   \n",
      "2                         12.884934                         7.786667   \n",
      "3                         12.006805                         7.640000   \n",
      "4                         10.682530                         7.530000   \n",
      "\n",
      "   primary_cleaner.input.xanthate  primary_cleaner.state.floatbank8_a_air  \\\n",
      "0                        1.005021                             1398.981301   \n",
      "1                        0.990469                             1398.777912   \n",
      "2                        0.996043                             1398.493666   \n",
      "3                        0.863514                             1399.618111   \n",
      "4                        0.805575                             1401.268123   \n",
      "\n",
      "   primary_cleaner.state.floatbank8_a_level  \\\n",
      "0                               -500.225577   \n",
      "1                               -500.057435   \n",
      "2                               -500.868360   \n",
      "3                               -498.863574   \n",
      "4                               -500.808305   \n",
      "\n",
      "   primary_cleaner.state.floatbank8_b_air  \\\n",
      "0                             1399.144926   \n",
      "1                             1398.055362   \n",
      "2                             1398.860436   \n",
      "3                             1397.440120   \n",
      "4                             1398.128818   \n",
      "\n",
      "   primary_cleaner.state.floatbank8_b_level  \\\n",
      "0                               -499.919735   \n",
      "1                               -499.778182   \n",
      "2                               -499.764529   \n",
      "3                               -499.211024   \n",
      "4                               -499.504543   \n",
      "\n",
      "   primary_cleaner.state.floatbank8_c_air  ...  \\\n",
      "0                             1400.102998  ...   \n",
      "1                             1396.151033  ...   \n",
      "2                             1398.075709  ...   \n",
      "3                             1400.129303  ...   \n",
      "4                             1402.172226  ...   \n",
      "\n",
      "   secondary_cleaner.state.floatbank4_a_air  \\\n",
      "0                                 12.023554   \n",
      "1                                 12.058140   \n",
      "2                                 11.962366   \n",
      "3                                 12.033091   \n",
      "4                                 12.025367   \n",
      "\n",
      "   secondary_cleaner.state.floatbank4_a_level  \\\n",
      "0                                 -497.795834   \n",
      "1                                 -498.695773   \n",
      "2                                 -498.767484   \n",
      "3                                 -498.350935   \n",
      "4                                 -500.786497   \n",
      "\n",
      "   secondary_cleaner.state.floatbank4_b_air  \\\n",
      "0                                  8.016656   \n",
      "1                                  8.130979   \n",
      "2                                  8.096893   \n",
      "3                                  8.074946   \n",
      "4                                  8.054678   \n",
      "\n",
      "   secondary_cleaner.state.floatbank4_b_level  \\\n",
      "0                                 -501.289139   \n",
      "1                                 -499.634209   \n",
      "2                                 -500.827423   \n",
      "3                                 -499.474407   \n",
      "4                                 -500.397500   \n",
      "\n",
      "   secondary_cleaner.state.floatbank5_a_air  \\\n",
      "0                                  7.946562   \n",
      "1                                  7.958270   \n",
      "2                                  8.071056   \n",
      "3                                  7.897085   \n",
      "4                                  8.107890   \n",
      "\n",
      "   secondary_cleaner.state.floatbank5_a_level  \\\n",
      "0                                 -432.317850   \n",
      "1                                 -525.839648   \n",
      "2                                 -500.801673   \n",
      "3                                 -500.868509   \n",
      "4                                 -509.526725   \n",
      "\n",
      "   secondary_cleaner.state.floatbank5_b_air  \\\n",
      "0                                  4.872511   \n",
      "1                                  4.878850   \n",
      "2                                  4.905125   \n",
      "3                                  4.931400   \n",
      "4                                  4.957674   \n",
      "\n",
      "   secondary_cleaner.state.floatbank5_b_level  \\\n",
      "0                                 -500.037437   \n",
      "1                                 -500.162375   \n",
      "2                                 -499.828510   \n",
      "3                                 -499.963623   \n",
      "4                                 -500.360026   \n",
      "\n",
      "   secondary_cleaner.state.floatbank6_a_air  \\\n",
      "0                                 26.705889   \n",
      "1                                 25.019940   \n",
      "2                                 24.994862   \n",
      "3                                 24.948919   \n",
      "4                                 25.003331   \n",
      "\n",
      "   secondary_cleaner.state.floatbank6_a_level  \n",
      "0                                 -499.709414  \n",
      "1                                 -499.819438  \n",
      "2                                 -500.622559  \n",
      "3                                 -498.709987  \n",
      "4                                 -500.856333  \n",
      "\n",
      "[5 rows x 53 columns]\n",
      "*******************************************head************************************************\n",
      "                  date  final.output.concentrate_ag  \\\n",
      "0  2016-01-15 00:00:00                     6.055403   \n",
      "1  2016-01-15 01:00:00                     6.029369   \n",
      "2  2016-01-15 02:00:00                     6.055926   \n",
      "3  2016-01-15 03:00:00                     6.047977   \n",
      "4  2016-01-15 04:00:00                     6.148599   \n",
      "\n",
      "   final.output.concentrate_pb  final.output.concentrate_sol  \\\n",
      "0                     9.889648                      5.507324   \n",
      "1                     9.968944                      5.257781   \n",
      "2                    10.213995                      5.383759   \n",
      "3                     9.977019                      4.858634   \n",
      "4                    10.142511                      4.939416   \n",
      "\n",
      "   final.output.concentrate_au  final.output.recovery  final.output.tail_ag  \\\n",
      "0                    42.192020              70.541216             10.411962   \n",
      "1                    42.701629              69.266198             10.462676   \n",
      "2                    42.657501              68.116445             10.507046   \n",
      "3                    42.689819              68.347543             10.422762   \n",
      "4                    42.774141              66.927016             10.360302   \n",
      "\n",
      "   final.output.tail_pb  final.output.tail_sol  final.output.tail_au  ...  \\\n",
      "0              0.895447              16.904297              2.143149  ...   \n",
      "1              0.927452              16.634514              2.224930  ...   \n",
      "2              0.953716              16.208849              2.257889  ...   \n",
      "3              0.883763              16.532835              2.146849  ...   \n",
      "4              0.792826              16.525686              2.055292  ...   \n",
      "\n",
      "   secondary_cleaner.state.floatbank4_a_air  \\\n",
      "0                                 14.016835   \n",
      "1                                 13.992281   \n",
      "2                                 14.015015   \n",
      "3                                 14.036510   \n",
      "4                                 14.027298   \n",
      "\n",
      "   secondary_cleaner.state.floatbank4_a_level  \\\n",
      "0                                 -502.488007   \n",
      "1                                 -505.503262   \n",
      "2                                 -502.520901   \n",
      "3                                 -500.857308   \n",
      "4                                 -499.838632   \n",
      "\n",
      "   secondary_cleaner.state.floatbank4_b_air  \\\n",
      "0                                 12.099931   \n",
      "1                                 11.950531   \n",
      "2                                 11.912783   \n",
      "3                                 11.999550   \n",
      "4                                 11.953070   \n",
      "\n",
      "   secondary_cleaner.state.floatbank4_b_level  \\\n",
      "0                                 -504.715942   \n",
      "1                                 -501.331529   \n",
      "2                                 -501.133383   \n",
      "3                                 -501.193686   \n",
      "4                                 -501.053894   \n",
      "\n",
      "   secondary_cleaner.state.floatbank5_a_air  \\\n",
      "0                                  9.925633   \n",
      "1                                 10.039245   \n",
      "2                                 10.070913   \n",
      "3                                  9.970366   \n",
      "4                                  9.925709   \n",
      "\n",
      "   secondary_cleaner.state.floatbank5_a_level  \\\n",
      "0                                 -498.310211   \n",
      "1                                 -500.169983   \n",
      "2                                 -500.129135   \n",
      "3                                 -499.201640   \n",
      "4                                 -501.686727   \n",
      "\n",
      "   secondary_cleaner.state.floatbank5_b_air  \\\n",
      "0                                  8.079666   \n",
      "1                                  7.984757   \n",
      "2                                  8.013877   \n",
      "3                                  7.977324   \n",
      "4                                  7.894242   \n",
      "\n",
      "   secondary_cleaner.state.floatbank5_b_level  \\\n",
      "0                                 -500.470978   \n",
      "1                                 -500.582168   \n",
      "2                                 -500.517572   \n",
      "3                                 -500.255908   \n",
      "4                                 -500.356035   \n",
      "\n",
      "   secondary_cleaner.state.floatbank6_a_air  \\\n",
      "0                                 14.151341   \n",
      "1                                 13.998353   \n",
      "2                                 14.028663   \n",
      "3                                 14.005551   \n",
      "4                                 13.996647   \n",
      "\n",
      "   secondary_cleaner.state.floatbank6_a_level  \n",
      "0                                 -605.841980  \n",
      "1                                 -599.787184  \n",
      "2                                 -601.427363  \n",
      "3                                 -599.996129  \n",
      "4                                 -601.496691  \n",
      "\n",
      "[5 rows x 87 columns]\n"
     ]
    }
   ],
   "source": [
    "def heads(data):\n",
    "    print('*******************************************head************************************************')\n",
    "    print(data.head())\n",
    "    return data\n",
    "sets = [data_train, data_test, data_full]\n",
    "for s in sets:\n",
    "    heads(s)"
   ]
  },
  {
   "cell_type": "code",
   "execution_count": 4,
   "metadata": {},
   "outputs": [
    {
     "name": "stdout",
     "output_type": "stream",
     "text": [
      "*******************************************info*************************************************\n",
      "<class 'pandas.core.frame.DataFrame'>\n",
      "RangeIndex: 14149 entries, 0 to 14148\n",
      "Data columns (total 87 columns):\n",
      " #   Column                                              Non-Null Count  Dtype  \n",
      "---  ------                                              --------------  -----  \n",
      " 0   date                                                14149 non-null  object \n",
      " 1   final.output.concentrate_ag                         14148 non-null  float64\n",
      " 2   final.output.concentrate_pb                         14148 non-null  float64\n",
      " 3   final.output.concentrate_sol                        13938 non-null  float64\n",
      " 4   final.output.concentrate_au                         14149 non-null  float64\n",
      " 5   final.output.recovery                               14149 non-null  float64\n",
      " 6   final.output.tail_ag                                14149 non-null  float64\n",
      " 7   final.output.tail_pb                                14049 non-null  float64\n",
      " 8   final.output.tail_sol                               14144 non-null  float64\n",
      " 9   final.output.tail_au                                14149 non-null  float64\n",
      " 10  primary_cleaner.input.sulfate                       14129 non-null  float64\n",
      " 11  primary_cleaner.input.depressant                    14117 non-null  float64\n",
      " 12  primary_cleaner.input.feed_size                     14149 non-null  float64\n",
      " 13  primary_cleaner.input.xanthate                      14049 non-null  float64\n",
      " 14  primary_cleaner.output.concentrate_ag               14149 non-null  float64\n",
      " 15  primary_cleaner.output.concentrate_pb               14063 non-null  float64\n",
      " 16  primary_cleaner.output.concentrate_sol              13863 non-null  float64\n",
      " 17  primary_cleaner.output.concentrate_au               14149 non-null  float64\n",
      " 18  primary_cleaner.output.tail_ag                      14148 non-null  float64\n",
      " 19  primary_cleaner.output.tail_pb                      14134 non-null  float64\n",
      " 20  primary_cleaner.output.tail_sol                     14103 non-null  float64\n",
      " 21  primary_cleaner.output.tail_au                      14149 non-null  float64\n",
      " 22  primary_cleaner.state.floatbank8_a_air              14145 non-null  float64\n",
      " 23  primary_cleaner.state.floatbank8_a_level            14148 non-null  float64\n",
      " 24  primary_cleaner.state.floatbank8_b_air              14145 non-null  float64\n",
      " 25  primary_cleaner.state.floatbank8_b_level            14148 non-null  float64\n",
      " 26  primary_cleaner.state.floatbank8_c_air              14147 non-null  float64\n",
      " 27  primary_cleaner.state.floatbank8_c_level            14148 non-null  float64\n",
      " 28  primary_cleaner.state.floatbank8_d_air              14146 non-null  float64\n",
      " 29  primary_cleaner.state.floatbank8_d_level            14148 non-null  float64\n",
      " 30  rougher.calculation.sulfate_to_au_concentrate       14148 non-null  float64\n",
      " 31  rougher.calculation.floatbank10_sulfate_to_au_feed  14148 non-null  float64\n",
      " 32  rougher.calculation.floatbank11_sulfate_to_au_feed  14148 non-null  float64\n",
      " 33  rougher.calculation.au_pb_ratio                     14149 non-null  float64\n",
      " 34  rougher.input.feed_ag                               14149 non-null  float64\n",
      " 35  rougher.input.feed_pb                               14049 non-null  float64\n",
      " 36  rougher.input.feed_rate                             14141 non-null  float64\n",
      " 37  rougher.input.feed_size                             14005 non-null  float64\n",
      " 38  rougher.input.feed_sol                              14071 non-null  float64\n",
      " 39  rougher.input.feed_au                               14149 non-null  float64\n",
      " 40  rougher.input.floatbank10_sulfate                   14120 non-null  float64\n",
      " 41  rougher.input.floatbank10_xanthate                  14141 non-null  float64\n",
      " 42  rougher.input.floatbank11_sulfate                   14113 non-null  float64\n",
      " 43  rougher.input.floatbank11_xanthate                  13721 non-null  float64\n",
      " 44  rougher.output.concentrate_ag                       14149 non-null  float64\n",
      " 45  rougher.output.concentrate_pb                       14149 non-null  float64\n",
      " 46  rougher.output.concentrate_sol                      14127 non-null  float64\n",
      " 47  rougher.output.concentrate_au                       14149 non-null  float64\n",
      " 48  rougher.output.recovery                             14149 non-null  float64\n",
      " 49  rougher.output.tail_ag                              14148 non-null  float64\n",
      " 50  rougher.output.tail_pb                              14149 non-null  float64\n",
      " 51  rougher.output.tail_sol                             14149 non-null  float64\n",
      " 52  rougher.output.tail_au                              14149 non-null  float64\n",
      " 53  rougher.state.floatbank10_a_air                     14148 non-null  float64\n",
      " 54  rougher.state.floatbank10_a_level                   14148 non-null  float64\n",
      " 55  rougher.state.floatbank10_b_air                     14148 non-null  float64\n",
      " 56  rougher.state.floatbank10_b_level                   14148 non-null  float64\n",
      " 57  rougher.state.floatbank10_c_air                     14148 non-null  float64\n",
      " 58  rougher.state.floatbank10_c_level                   14148 non-null  float64\n",
      " 59  rougher.state.floatbank10_d_air                     14149 non-null  float64\n",
      " 60  rougher.state.floatbank10_d_level                   14149 non-null  float64\n",
      " 61  rougher.state.floatbank10_e_air                     13713 non-null  float64\n",
      " 62  rougher.state.floatbank10_e_level                   14149 non-null  float64\n",
      " 63  rougher.state.floatbank10_f_air                     14149 non-null  float64\n",
      " 64  rougher.state.floatbank10_f_level                   14149 non-null  float64\n",
      " 65  secondary_cleaner.output.tail_ag                    14147 non-null  float64\n",
      " 66  secondary_cleaner.output.tail_pb                    14139 non-null  float64\n",
      " 67  secondary_cleaner.output.tail_sol                   12544 non-null  float64\n",
      " 68  secondary_cleaner.output.tail_au                    14149 non-null  float64\n",
      " 69  secondary_cleaner.state.floatbank2_a_air            13932 non-null  float64\n",
      " 70  secondary_cleaner.state.floatbank2_a_level          14148 non-null  float64\n",
      " 71  secondary_cleaner.state.floatbank2_b_air            14128 non-null  float64\n",
      " 72  secondary_cleaner.state.floatbank2_b_level          14148 non-null  float64\n",
      " 73  secondary_cleaner.state.floatbank3_a_air            14145 non-null  float64\n",
      " 74  secondary_cleaner.state.floatbank3_a_level          14148 non-null  float64\n",
      " 75  secondary_cleaner.state.floatbank3_b_air            14148 non-null  float64\n",
      " 76  secondary_cleaner.state.floatbank3_b_level          14148 non-null  float64\n",
      " 77  secondary_cleaner.state.floatbank4_a_air            14143 non-null  float64\n",
      " 78  secondary_cleaner.state.floatbank4_a_level          14148 non-null  float64\n",
      " 79  secondary_cleaner.state.floatbank4_b_air            14148 non-null  float64\n",
      " 80  secondary_cleaner.state.floatbank4_b_level          14148 non-null  float64\n",
      " 81  secondary_cleaner.state.floatbank5_a_air            14148 non-null  float64\n",
      " 82  secondary_cleaner.state.floatbank5_a_level          14148 non-null  float64\n",
      " 83  secondary_cleaner.state.floatbank5_b_air            14148 non-null  float64\n",
      " 84  secondary_cleaner.state.floatbank5_b_level          14148 non-null  float64\n",
      " 85  secondary_cleaner.state.floatbank6_a_air            14147 non-null  float64\n",
      " 86  secondary_cleaner.state.floatbank6_a_level          14148 non-null  float64\n",
      "dtypes: float64(86), object(1)\n",
      "memory usage: 9.4+ MB\n",
      "*******************************************info*************************************************\n",
      "<class 'pandas.core.frame.DataFrame'>\n",
      "RangeIndex: 5290 entries, 0 to 5289\n",
      "Data columns (total 53 columns):\n",
      " #   Column                                      Non-Null Count  Dtype  \n",
      "---  ------                                      --------------  -----  \n",
      " 0   date                                        5290 non-null   object \n",
      " 1   primary_cleaner.input.sulfate               5286 non-null   float64\n",
      " 2   primary_cleaner.input.depressant            5285 non-null   float64\n",
      " 3   primary_cleaner.input.feed_size             5290 non-null   float64\n",
      " 4   primary_cleaner.input.xanthate              5286 non-null   float64\n",
      " 5   primary_cleaner.state.floatbank8_a_air      5290 non-null   float64\n",
      " 6   primary_cleaner.state.floatbank8_a_level    5290 non-null   float64\n",
      " 7   primary_cleaner.state.floatbank8_b_air      5290 non-null   float64\n",
      " 8   primary_cleaner.state.floatbank8_b_level    5290 non-null   float64\n",
      " 9   primary_cleaner.state.floatbank8_c_air      5290 non-null   float64\n",
      " 10  primary_cleaner.state.floatbank8_c_level    5290 non-null   float64\n",
      " 11  primary_cleaner.state.floatbank8_d_air      5290 non-null   float64\n",
      " 12  primary_cleaner.state.floatbank8_d_level    5290 non-null   float64\n",
      " 13  rougher.input.feed_ag                       5290 non-null   float64\n",
      " 14  rougher.input.feed_pb                       5290 non-null   float64\n",
      " 15  rougher.input.feed_rate                     5287 non-null   float64\n",
      " 16  rougher.input.feed_size                     5289 non-null   float64\n",
      " 17  rougher.input.feed_sol                      5269 non-null   float64\n",
      " 18  rougher.input.feed_au                       5290 non-null   float64\n",
      " 19  rougher.input.floatbank10_sulfate           5285 non-null   float64\n",
      " 20  rougher.input.floatbank10_xanthate          5290 non-null   float64\n",
      " 21  rougher.input.floatbank11_sulfate           5282 non-null   float64\n",
      " 22  rougher.input.floatbank11_xanthate          5265 non-null   float64\n",
      " 23  rougher.state.floatbank10_a_air             5290 non-null   float64\n",
      " 24  rougher.state.floatbank10_a_level           5290 non-null   float64\n",
      " 25  rougher.state.floatbank10_b_air             5290 non-null   float64\n",
      " 26  rougher.state.floatbank10_b_level           5290 non-null   float64\n",
      " 27  rougher.state.floatbank10_c_air             5290 non-null   float64\n",
      " 28  rougher.state.floatbank10_c_level           5290 non-null   float64\n",
      " 29  rougher.state.floatbank10_d_air             5290 non-null   float64\n",
      " 30  rougher.state.floatbank10_d_level           5290 non-null   float64\n",
      " 31  rougher.state.floatbank10_e_air             5290 non-null   float64\n",
      " 32  rougher.state.floatbank10_e_level           5290 non-null   float64\n",
      " 33  rougher.state.floatbank10_f_air             5290 non-null   float64\n",
      " 34  rougher.state.floatbank10_f_level           5290 non-null   float64\n",
      " 35  secondary_cleaner.state.floatbank2_a_air    5287 non-null   float64\n",
      " 36  secondary_cleaner.state.floatbank2_a_level  5290 non-null   float64\n",
      " 37  secondary_cleaner.state.floatbank2_b_air    5288 non-null   float64\n",
      " 38  secondary_cleaner.state.floatbank2_b_level  5290 non-null   float64\n",
      " 39  secondary_cleaner.state.floatbank3_a_air    5281 non-null   float64\n",
      " 40  secondary_cleaner.state.floatbank3_a_level  5290 non-null   float64\n",
      " 41  secondary_cleaner.state.floatbank3_b_air    5290 non-null   float64\n",
      " 42  secondary_cleaner.state.floatbank3_b_level  5290 non-null   float64\n",
      " 43  secondary_cleaner.state.floatbank4_a_air    5290 non-null   float64\n",
      " 44  secondary_cleaner.state.floatbank4_a_level  5290 non-null   float64\n",
      " 45  secondary_cleaner.state.floatbank4_b_air    5290 non-null   float64\n",
      " 46  secondary_cleaner.state.floatbank4_b_level  5290 non-null   float64\n",
      " 47  secondary_cleaner.state.floatbank5_a_air    5290 non-null   float64\n",
      " 48  secondary_cleaner.state.floatbank5_a_level  5290 non-null   float64\n",
      " 49  secondary_cleaner.state.floatbank5_b_air    5290 non-null   float64\n",
      " 50  secondary_cleaner.state.floatbank5_b_level  5290 non-null   float64\n",
      " 51  secondary_cleaner.state.floatbank6_a_air    5290 non-null   float64\n",
      " 52  secondary_cleaner.state.floatbank6_a_level  5290 non-null   float64\n",
      "dtypes: float64(52), object(1)\n",
      "memory usage: 2.1+ MB\n",
      "*******************************************info*************************************************\n",
      "<class 'pandas.core.frame.DataFrame'>\n",
      "RangeIndex: 19439 entries, 0 to 19438\n",
      "Data columns (total 87 columns):\n",
      " #   Column                                              Non-Null Count  Dtype  \n",
      "---  ------                                              --------------  -----  \n",
      " 0   date                                                19439 non-null  object \n",
      " 1   final.output.concentrate_ag                         19438 non-null  float64\n",
      " 2   final.output.concentrate_pb                         19438 non-null  float64\n",
      " 3   final.output.concentrate_sol                        19228 non-null  float64\n",
      " 4   final.output.concentrate_au                         19439 non-null  float64\n",
      " 5   final.output.recovery                               19439 non-null  float64\n",
      " 6   final.output.tail_ag                                19438 non-null  float64\n",
      " 7   final.output.tail_pb                                19338 non-null  float64\n",
      " 8   final.output.tail_sol                               19433 non-null  float64\n",
      " 9   final.output.tail_au                                19439 non-null  float64\n",
      " 10  primary_cleaner.input.sulfate                       19415 non-null  float64\n",
      " 11  primary_cleaner.input.depressant                    19402 non-null  float64\n",
      " 12  primary_cleaner.input.feed_size                     19439 non-null  float64\n",
      " 13  primary_cleaner.input.xanthate                      19335 non-null  float64\n",
      " 14  primary_cleaner.output.concentrate_ag               19439 non-null  float64\n",
      " 15  primary_cleaner.output.concentrate_pb               19323 non-null  float64\n",
      " 16  primary_cleaner.output.concentrate_sol              19069 non-null  float64\n",
      " 17  primary_cleaner.output.concentrate_au               19439 non-null  float64\n",
      " 18  primary_cleaner.output.tail_ag                      19435 non-null  float64\n",
      " 19  primary_cleaner.output.tail_pb                      19418 non-null  float64\n",
      " 20  primary_cleaner.output.tail_sol                     19377 non-null  float64\n",
      " 21  primary_cleaner.output.tail_au                      19439 non-null  float64\n",
      " 22  primary_cleaner.state.floatbank8_a_air              19435 non-null  float64\n",
      " 23  primary_cleaner.state.floatbank8_a_level            19438 non-null  float64\n",
      " 24  primary_cleaner.state.floatbank8_b_air              19435 non-null  float64\n",
      " 25  primary_cleaner.state.floatbank8_b_level            19438 non-null  float64\n",
      " 26  primary_cleaner.state.floatbank8_c_air              19437 non-null  float64\n",
      " 27  primary_cleaner.state.floatbank8_c_level            19438 non-null  float64\n",
      " 28  primary_cleaner.state.floatbank8_d_air              19436 non-null  float64\n",
      " 29  primary_cleaner.state.floatbank8_d_level            19438 non-null  float64\n",
      " 30  rougher.calculation.sulfate_to_au_concentrate       19437 non-null  float64\n",
      " 31  rougher.calculation.floatbank10_sulfate_to_au_feed  19437 non-null  float64\n",
      " 32  rougher.calculation.floatbank11_sulfate_to_au_feed  19437 non-null  float64\n",
      " 33  rougher.calculation.au_pb_ratio                     19439 non-null  float64\n",
      " 34  rougher.input.feed_ag                               19439 non-null  float64\n",
      " 35  rougher.input.feed_pb                               19339 non-null  float64\n",
      " 36  rougher.input.feed_rate                             19428 non-null  float64\n",
      " 37  rougher.input.feed_size                             19294 non-null  float64\n",
      " 38  rougher.input.feed_sol                              19340 non-null  float64\n",
      " 39  rougher.input.feed_au                               19439 non-null  float64\n",
      " 40  rougher.input.floatbank10_sulfate                   19405 non-null  float64\n",
      " 41  rougher.input.floatbank10_xanthate                  19431 non-null  float64\n",
      " 42  rougher.input.floatbank11_sulfate                   19395 non-null  float64\n",
      " 43  rougher.input.floatbank11_xanthate                  18986 non-null  float64\n",
      " 44  rougher.output.concentrate_ag                       19439 non-null  float64\n",
      " 45  rougher.output.concentrate_pb                       19439 non-null  float64\n",
      " 46  rougher.output.concentrate_sol                      19416 non-null  float64\n",
      " 47  rougher.output.concentrate_au                       19439 non-null  float64\n",
      " 48  rougher.output.recovery                             19439 non-null  float64\n",
      " 49  rougher.output.tail_ag                              19438 non-null  float64\n",
      " 50  rougher.output.tail_pb                              19439 non-null  float64\n",
      " 51  rougher.output.tail_sol                             19439 non-null  float64\n",
      " 52  rougher.output.tail_au                              19439 non-null  float64\n",
      " 53  rougher.state.floatbank10_a_air                     19438 non-null  float64\n",
      " 54  rougher.state.floatbank10_a_level                   19438 non-null  float64\n",
      " 55  rougher.state.floatbank10_b_air                     19438 non-null  float64\n",
      " 56  rougher.state.floatbank10_b_level                   19438 non-null  float64\n",
      " 57  rougher.state.floatbank10_c_air                     19438 non-null  float64\n",
      " 58  rougher.state.floatbank10_c_level                   19438 non-null  float64\n",
      " 59  rougher.state.floatbank10_d_air                     19439 non-null  float64\n",
      " 60  rougher.state.floatbank10_d_level                   19439 non-null  float64\n",
      " 61  rougher.state.floatbank10_e_air                     19003 non-null  float64\n",
      " 62  rougher.state.floatbank10_e_level                   19439 non-null  float64\n",
      " 63  rougher.state.floatbank10_f_air                     19439 non-null  float64\n",
      " 64  rougher.state.floatbank10_f_level                   19439 non-null  float64\n",
      " 65  secondary_cleaner.output.tail_ag                    19437 non-null  float64\n",
      " 66  secondary_cleaner.output.tail_pb                    19427 non-null  float64\n",
      " 67  secondary_cleaner.output.tail_sol                   17691 non-null  float64\n",
      " 68  secondary_cleaner.output.tail_au                    19439 non-null  float64\n",
      " 69  secondary_cleaner.state.floatbank2_a_air            19219 non-null  float64\n",
      " 70  secondary_cleaner.state.floatbank2_a_level          19438 non-null  float64\n",
      " 71  secondary_cleaner.state.floatbank2_b_air            19416 non-null  float64\n",
      " 72  secondary_cleaner.state.floatbank2_b_level          19438 non-null  float64\n",
      " 73  secondary_cleaner.state.floatbank3_a_air            19426 non-null  float64\n",
      " 74  secondary_cleaner.state.floatbank3_a_level          19438 non-null  float64\n",
      " 75  secondary_cleaner.state.floatbank3_b_air            19438 non-null  float64\n",
      " 76  secondary_cleaner.state.floatbank3_b_level          19438 non-null  float64\n",
      " 77  secondary_cleaner.state.floatbank4_a_air            19433 non-null  float64\n",
      " 78  secondary_cleaner.state.floatbank4_a_level          19438 non-null  float64\n",
      " 79  secondary_cleaner.state.floatbank4_b_air            19438 non-null  float64\n",
      " 80  secondary_cleaner.state.floatbank4_b_level          19438 non-null  float64\n",
      " 81  secondary_cleaner.state.floatbank5_a_air            19438 non-null  float64\n",
      " 82  secondary_cleaner.state.floatbank5_a_level          19438 non-null  float64\n",
      " 83  secondary_cleaner.state.floatbank5_b_air            19438 non-null  float64\n",
      " 84  secondary_cleaner.state.floatbank5_b_level          19438 non-null  float64\n",
      " 85  secondary_cleaner.state.floatbank6_a_air            19437 non-null  float64\n",
      " 86  secondary_cleaner.state.floatbank6_a_level          19438 non-null  float64\n",
      "dtypes: float64(86), object(1)\n",
      "memory usage: 12.9+ MB\n"
     ]
    }
   ],
   "source": [
    "def infos(data):    \n",
    "    print('*******************************************info*************************************************')\n",
    "    data.info()\n",
    "    return data\n",
    "for s in sets:\n",
    "    infos(s)"
   ]
  },
  {
   "cell_type": "markdown",
   "metadata": {},
   "source": [
    "### Проверим формулу вычисления эффективности обогащения"
   ]
  },
  {
   "cell_type": "code",
   "execution_count": 5,
   "metadata": {
    "scrolled": true
   },
   "outputs": [
    {
     "data": {
      "text/plain": [
       "Index(['date', 'final.output.concentrate_ag', 'final.output.concentrate_pb',\n",
       "       'final.output.concentrate_sol', 'final.output.concentrate_au',\n",
       "       'final.output.recovery', 'final.output.tail_ag', 'final.output.tail_pb',\n",
       "       'final.output.tail_sol', 'final.output.tail_au',\n",
       "       'primary_cleaner.input.sulfate', 'primary_cleaner.input.depressant',\n",
       "       'primary_cleaner.input.feed_size', 'primary_cleaner.input.xanthate',\n",
       "       'primary_cleaner.output.concentrate_ag',\n",
       "       'primary_cleaner.output.concentrate_pb',\n",
       "       'primary_cleaner.output.concentrate_sol',\n",
       "       'primary_cleaner.output.concentrate_au',\n",
       "       'primary_cleaner.output.tail_ag', 'primary_cleaner.output.tail_pb',\n",
       "       'primary_cleaner.output.tail_sol', 'primary_cleaner.output.tail_au',\n",
       "       'primary_cleaner.state.floatbank8_a_air',\n",
       "       'primary_cleaner.state.floatbank8_a_level',\n",
       "       'primary_cleaner.state.floatbank8_b_air',\n",
       "       'primary_cleaner.state.floatbank8_b_level',\n",
       "       'primary_cleaner.state.floatbank8_c_air',\n",
       "       'primary_cleaner.state.floatbank8_c_level',\n",
       "       'primary_cleaner.state.floatbank8_d_air',\n",
       "       'primary_cleaner.state.floatbank8_d_level',\n",
       "       'rougher.calculation.sulfate_to_au_concentrate',\n",
       "       'rougher.calculation.floatbank10_sulfate_to_au_feed',\n",
       "       'rougher.calculation.floatbank11_sulfate_to_au_feed',\n",
       "       'rougher.calculation.au_pb_ratio', 'rougher.input.feed_ag',\n",
       "       'rougher.input.feed_pb', 'rougher.input.feed_rate',\n",
       "       'rougher.input.feed_size', 'rougher.input.feed_sol',\n",
       "       'rougher.input.feed_au', 'rougher.input.floatbank10_sulfate',\n",
       "       'rougher.input.floatbank10_xanthate',\n",
       "       'rougher.input.floatbank11_sulfate',\n",
       "       'rougher.input.floatbank11_xanthate', 'rougher.output.concentrate_ag',\n",
       "       'rougher.output.concentrate_pb', 'rougher.output.concentrate_sol',\n",
       "       'rougher.output.concentrate_au', 'rougher.output.recovery',\n",
       "       'rougher.output.tail_ag', 'rougher.output.tail_pb',\n",
       "       'rougher.output.tail_sol', 'rougher.output.tail_au',\n",
       "       'rougher.state.floatbank10_a_air', 'rougher.state.floatbank10_a_level',\n",
       "       'rougher.state.floatbank10_b_air', 'rougher.state.floatbank10_b_level',\n",
       "       'rougher.state.floatbank10_c_air', 'rougher.state.floatbank10_c_level',\n",
       "       'rougher.state.floatbank10_d_air', 'rougher.state.floatbank10_d_level',\n",
       "       'rougher.state.floatbank10_e_air', 'rougher.state.floatbank10_e_level',\n",
       "       'rougher.state.floatbank10_f_air', 'rougher.state.floatbank10_f_level',\n",
       "       'secondary_cleaner.output.tail_ag', 'secondary_cleaner.output.tail_pb',\n",
       "       'secondary_cleaner.output.tail_sol', 'secondary_cleaner.output.tail_au',\n",
       "       'secondary_cleaner.state.floatbank2_a_air',\n",
       "       'secondary_cleaner.state.floatbank2_a_level',\n",
       "       'secondary_cleaner.state.floatbank2_b_air',\n",
       "       'secondary_cleaner.state.floatbank2_b_level',\n",
       "       'secondary_cleaner.state.floatbank3_a_air',\n",
       "       'secondary_cleaner.state.floatbank3_a_level',\n",
       "       'secondary_cleaner.state.floatbank3_b_air',\n",
       "       'secondary_cleaner.state.floatbank3_b_level',\n",
       "       'secondary_cleaner.state.floatbank4_a_air',\n",
       "       'secondary_cleaner.state.floatbank4_a_level',\n",
       "       'secondary_cleaner.state.floatbank4_b_air',\n",
       "       'secondary_cleaner.state.floatbank4_b_level',\n",
       "       'secondary_cleaner.state.floatbank5_a_air',\n",
       "       'secondary_cleaner.state.floatbank5_a_level',\n",
       "       'secondary_cleaner.state.floatbank5_b_air',\n",
       "       'secondary_cleaner.state.floatbank5_b_level',\n",
       "       'secondary_cleaner.state.floatbank6_a_air',\n",
       "       'secondary_cleaner.state.floatbank6_a_level'],\n",
       "      dtype='object')"
      ]
     },
     "execution_count": 5,
     "metadata": {},
     "output_type": "execute_result"
    }
   ],
   "source": [
    "data_train.columns"
   ]
  },
  {
   "cell_type": "markdown",
   "metadata": {},
   "source": [
    "Создадим выборку из данных, необходимых для проверки формулы. Данные связаны с этапом флотации - rougher."
   ]
  },
  {
   "cell_type": "code",
   "execution_count": 6,
   "metadata": {},
   "outputs": [],
   "source": [
    "recovery_au = data_train[['rougher.input.feed_au', 'rougher.output.concentrate_au', 'rougher.output.tail_au', 'rougher.output.recovery']]"
   ]
  },
  {
   "cell_type": "markdown",
   "metadata": {},
   "source": [
    "Напишем функцию для расчета эффективности и сравним с данной эффективностью в сете"
   ]
  },
  {
   "cell_type": "code",
   "execution_count": 7,
   "metadata": {},
   "outputs": [],
   "source": [
    "def recovery_a(row):\n",
    "    c = row['rougher.output.concentrate_au']\n",
    "    f = row['rougher.input.feed_au']\n",
    "    t = row['rougher.output.tail_au']\n",
    "    recovery = ((c*(f-t)) / (f*(c-t))) * 100\n",
    "    return recovery"
   ]
  },
  {
   "cell_type": "markdown",
   "metadata": {},
   "source": [
    "C — доля золота в концентрате после флотации/очистки;\n",
    "F — доля золота в сырье/концентрате до флотации/очистки;\n",
    "T — доля золота в отвальных хвостах после флотации/очистки."
   ]
  },
  {
   "cell_type": "code",
   "execution_count": 8,
   "metadata": {},
   "outputs": [],
   "source": [
    "recovery_au['recovery_au']=recovery_a(recovery_au)"
   ]
  },
  {
   "cell_type": "code",
   "execution_count": 9,
   "metadata": {
    "scrolled": true
   },
   "outputs": [
    {
     "data": {
      "text/plain": [
       "9.73512347450521e-15"
      ]
     },
     "execution_count": 9,
     "metadata": {},
     "output_type": "execute_result"
    }
   ],
   "source": [
    "mean_absolute_error(recovery_au['recovery_au'], recovery_au['rougher.output.recovery'])"
   ]
  },
  {
   "cell_type": "markdown",
   "metadata": {},
   "source": [
    "Полученное значение MSE свидетельствует о маленькой разнице между расчетными и данными значениями. Данные значения верны."
   ]
  },
  {
   "cell_type": "markdown",
   "metadata": {},
   "source": [
    "### Проанализируем признаки, недоступные в тестовой выборке."
   ]
  },
  {
   "cell_type": "code",
   "execution_count": 10,
   "metadata": {
    "scrolled": true
   },
   "outputs": [
    {
     "name": "stdout",
     "output_type": "stream",
     "text": [
      "final.output.concentrate_ag\n",
      "final.output.concentrate_pb\n",
      "final.output.concentrate_sol\n",
      "final.output.concentrate_au\n",
      "final.output.recovery\n",
      "final.output.tail_ag\n",
      "final.output.tail_pb\n",
      "final.output.tail_sol\n",
      "final.output.tail_au\n",
      "primary_cleaner.output.concentrate_ag\n",
      "primary_cleaner.output.concentrate_pb\n",
      "primary_cleaner.output.concentrate_sol\n",
      "primary_cleaner.output.concentrate_au\n",
      "primary_cleaner.output.tail_ag\n",
      "primary_cleaner.output.tail_pb\n",
      "primary_cleaner.output.tail_sol\n",
      "primary_cleaner.output.tail_au\n",
      "rougher.calculation.sulfate_to_au_concentrate\n",
      "rougher.calculation.floatbank10_sulfate_to_au_feed\n",
      "rougher.calculation.floatbank11_sulfate_to_au_feed\n",
      "rougher.calculation.au_pb_ratio\n",
      "rougher.output.concentrate_ag\n",
      "rougher.output.concentrate_pb\n",
      "rougher.output.concentrate_sol\n",
      "rougher.output.concentrate_au\n",
      "rougher.output.recovery\n",
      "rougher.output.tail_ag\n",
      "rougher.output.tail_pb\n",
      "rougher.output.tail_sol\n",
      "rougher.output.tail_au\n",
      "secondary_cleaner.output.tail_ag\n",
      "secondary_cleaner.output.tail_pb\n",
      "secondary_cleaner.output.tail_sol\n",
      "secondary_cleaner.output.tail_au\n"
     ]
    }
   ],
   "source": [
    "column_train = data_train.columns\n",
    "column_test = data_test.columns\n",
    "for i in column_train:\n",
    "    if i not in column_test:\n",
    "        print(i)"
   ]
  },
  {
   "cell_type": "markdown",
   "metadata": {},
   "source": [
    "В тестовой выборке недоступны признаки этапов:\n",
    "1. Флотации\n",
    "* Расчетные характеристики\n",
    "* Концентрации ag, pb, sol, au\n",
    "* Концентрации ag, pb, sol, au в отвальных хвостах\n",
    "* Эффективности обогащения\n",
    "2. Первичной очистки\n",
    "* Концентрации ag, pb, sol, au\n",
    "* Концентрации ag, pb, sol, au в отвальных хвостах\n",
    "3. Вторичной очистки\n",
    "* Концентрации ag, pb, sol, au в отвальных хвостах\n",
    "4. Финальной характеристики\n",
    "* Концентрации ag, pb, sol, au\n",
    "* Концентрации ag, pb, sol, au в отвальных хвостах\n",
    "* Эффективности обогащения        "
   ]
  },
  {
   "cell_type": "markdown",
   "metadata": {},
   "source": [
    "### Проведем предобработку данных"
   ]
  },
  {
   "cell_type": "markdown",
   "metadata": {},
   "source": [
    "Датасеты необходимо приветси к \"общему знаменателю\", добавить и удалить недостающие столбцы теста и трейна. Пропущенные значения или заменим медианной по столбцу, или удалим (при их небольшом количестве)"
   ]
  },
  {
   "cell_type": "markdown",
   "metadata": {},
   "source": [
    "Добавим в тестовую выборку целевые признаки из исходных данных, по столбцу date"
   ]
  },
  {
   "cell_type": "code",
   "execution_count": 11,
   "metadata": {},
   "outputs": [],
   "source": [
    "targets = ['rougher.output.recovery', 'final.output.recovery']"
   ]
  },
  {
   "cell_type": "code",
   "execution_count": 12,
   "metadata": {},
   "outputs": [],
   "source": [
    "df_test = data_test\n",
    "df_full = data_full\n",
    "df_test = pd.concat([df_test, df_full.loc[df_test.index][targets]], axis=1)\n"
   ]
  },
  {
   "cell_type": "code",
   "execution_count": 13,
   "metadata": {},
   "outputs": [],
   "source": [
    "df_full.dropna(subset=targets, inplace=True)\n"
   ]
  },
  {
   "cell_type": "code",
   "execution_count": 14,
   "metadata": {},
   "outputs": [],
   "source": [
    "# df_full.dropna(subset=targets, inplace=True)\n",
    "df_test.dropna(subset=targets, inplace=True)"
   ]
  },
  {
   "cell_type": "code",
   "execution_count": 15,
   "metadata": {},
   "outputs": [],
   "source": [
    "# df_full.dropna(subset=targets, inplace=True)\n",
    "data_train.dropna(subset=targets, inplace=True)"
   ]
  },
  {
   "cell_type": "markdown",
   "metadata": {},
   "source": [
    "По условию задачи. *Некоторые параметры недоступны, потому что замеряются и/или рассчитываются значительно позже. Из-за этого в тестовой выборке отсутствуют некоторые признаки, которые могут быть в обучающей. Также в тестовом наборе нет целевых признаков.*\n",
    "Поэтому будем приводить трейн к \"общему знаменателю\" теста"
   ]
  },
  {
   "cell_type": "code",
   "execution_count": 16,
   "metadata": {
    "scrolled": true
   },
   "outputs": [],
   "source": [
    "df_train = data_train[df_test.columns]"
   ]
  },
  {
   "cell_type": "code",
   "execution_count": 17,
   "metadata": {},
   "outputs": [],
   "source": [
    "df_train = df_train.fillna(method='ffill')\n",
    "df_test = df_test.fillna(method='ffill')\n",
    "df_full = data_full.fillna(method='ffill')"
   ]
  },
  {
   "cell_type": "markdown",
   "metadata": {},
   "source": [
    "Удалим ненужный столбец"
   ]
  },
  {
   "cell_type": "code",
   "execution_count": 18,
   "metadata": {},
   "outputs": [],
   "source": [
    "df_train = df_train.drop(\"date\", axis=1)\n",
    "df_test = df_test.drop(\"date\", axis=1)\n",
    "df_full = df_full.drop(\"date\", axis=1)"
   ]
  },
  {
   "cell_type": "markdown",
   "metadata": {},
   "source": [
    "## Анализ данных"
   ]
  },
  {
   "cell_type": "markdown",
   "metadata": {},
   "source": [
    "### Исследуем изменение концентрации элементов на каждом этапе"
   ]
  },
  {
   "cell_type": "markdown",
   "metadata": {},
   "source": [
    "(Au, Ag, Pb)"
   ]
  },
  {
   "cell_type": "code",
   "execution_count": 19,
   "metadata": {},
   "outputs": [],
   "source": [
    "concentrate = df_full[['rougher.output.concentrate_ag', \n",
    "           'rougher.output.concentrate_pb', \n",
    "           'rougher.output.concentrate_au', \n",
    "           'primary_cleaner.output.concentrate_ag', \n",
    "           'primary_cleaner.output.concentrate_pb', \n",
    "           'primary_cleaner.output.concentrate_au', \n",
    "           'final.output.concentrate_ag', \n",
    "           'final.output.concentrate_pb', \n",
    "           'final.output.concentrate_au']]\n",
    "\n",
    "concentrate.rename(columns={'rougher.output.concentrate_ag' : 'концентрат флотации ag', \n",
    "           'rougher.output.concentrate_pb' : 'концентрат флотации pb', \n",
    "           'rougher.output.concentrate_au' : 'концентрат флотации au', \n",
    "           'primary_cleaner.output.concentrate_ag' : 'концентрат первичной очистки ag', \n",
    "           'primary_cleaner.output.concentrate_pb' : 'концентрат первичной очистки pb', \n",
    "           'primary_cleaner.output.concentrate_au' : 'концентрат первичной очистки au', \n",
    "           'final.output.concentrate_ag' : 'финальный концентрат ag', \n",
    "           'final.output.concentrate_pb' : 'финальный концентрат pb', \n",
    "           'final.output.concentrate_au' : 'финальный концентрат au'}, inplace=True)\n"
   ]
  },
  {
   "cell_type": "code",
   "execution_count": 20,
   "metadata": {
    "scrolled": true
   },
   "outputs": [
    {
     "data": {
      "text/plain": [
       "<AxesSubplot:>"
      ]
     },
     "execution_count": 20,
     "metadata": {},
     "output_type": "execute_result"
    },
    {
     "data": {
      "image/png": "[encoded data removed]",
      "text/plain": [
       "<Figure size 432x288 with 1 Axes>"
      ]
     },
     "metadata": {
      "needs_background": "light"
     },
     "output_type": "display_data"
    }
   ],
   "source": [
    "concentrate.mean().plot(kind = 'bar', grid = True)"
   ]
  },
  {
   "cell_type": "markdown",
   "metadata": {},
   "source": [
    "Концентрация серебра падает с каждым этапом. Концентрация свинца вырастает после первого этапа и не изменяется на втором и третьем. Концентрация золота интенсивно растет с каждым этапом. "
   ]
  },
  {
   "cell_type": "markdown",
   "metadata": {},
   "source": [
    " ### Проанализируем распределения размеров гранул на обучающей и тестовой выборках"
   ]
  },
  {
   "cell_type": "code",
   "execution_count": 21,
   "metadata": {
    "scrolled": true
   },
   "outputs": [
    {
     "data": {
      "text/plain": [
       "<AxesSubplot:title={'center':'Распределение размеров гранул сырья на этапе первичной очистки'}, xlabel='Размер гранул сырья', ylabel='Количество'>"
      ]
     },
     "execution_count": 21,
     "metadata": {},
     "output_type": "execute_result"
    },
    {
     "data": {
      "image/png": "[encoded data removed]",
      "text/plain": [
       "<Figure size 432x288 with 1 Axes>"
      ]
     },
     "metadata": {
      "needs_background": "light"
     },
     "output_type": "display_data"
    }
   ],
   "source": [
    "df_train['primary_cleaner.input.feed_size'].hist(bins=120, alpha=.7)\n",
    "plt.title('Распределение размеров гранул сырья на этапе первичной очистки')\n",
    "plt.xlabel('Размер гранул сырья')\n",
    "plt.ylabel('Количество')\n",
    "df_test['primary_cleaner.input.feed_size'].hist(bins=120, alpha=.7)\n"
   ]
  },
  {
   "cell_type": "code",
   "execution_count": 22,
   "metadata": {},
   "outputs": [
    {
     "data": {
      "image/png": "[encoded data removed]",
      "text/plain": [
       "<Figure size 1000x500 with 1 Axes>"
      ]
     },
     "metadata": {
      "needs_background": "light"
     },
     "output_type": "display_data"
    }
   ],
   "source": [
    "plt.figure(figsize=(10,5), dpi= 100)\n",
    "sns.kdeplot(df_train['primary_cleaner.input.feed_size'], shade=True, color=\"g\", label=\"train\", alpha=.7)\n",
    "sns.kdeplot(df_test['primary_cleaner.input.feed_size'], shade=True, color=\"r\", label=\"test\", alpha=.7)\n",
    "\n",
    "plt.title('Распределение размеров гранул сырья на этапе первичной очистки', fontsize=10)\n",
    "plt.legend()\n",
    "plt.show()"
   ]
  },
  {
   "cell_type": "code",
   "execution_count": 23,
   "metadata": {
    "scrolled": true
   },
   "outputs": [
    {
     "data": {
      "text/plain": [
       "<AxesSubplot:title={'center':'Распределение размеров гранул сырья на этапе флотации'}, xlabel='Размер гранул сырья', ylabel='Количество'>"
      ]
     },
     "execution_count": 23,
     "metadata": {},
     "output_type": "execute_result"
    },
    {
     "data": {
      "image/png": "[encoded data removed]",
      "text/plain": [
       "<Figure size 432x288 with 1 Axes>"
      ]
     },
     "metadata": {
      "needs_background": "light"
     },
     "output_type": "display_data"
    }
   ],
   "source": [
    "df_train['rougher.input.feed_size'].hist(bins=120, alpha=.7)\n",
    "plt.title('Распределение размеров гранул сырья на этапе флотации')\n",
    "plt.xlabel('Размер гранул сырья')\n",
    "plt.ylabel('Количество')\n",
    "df_test['rougher.input.feed_size'].hist(bins=120, alpha=.7)"
   ]
  },
  {
   "cell_type": "code",
   "execution_count": 24,
   "metadata": {},
   "outputs": [
    {
     "data": {
      "image/png": "[encoded data removed]",
      "text/plain": [
       "<Figure size 1000x500 with 1 Axes>"
      ]
     },
     "metadata": {
      "needs_background": "light"
     },
     "output_type": "display_data"
    }
   ],
   "source": [
    "plt.figure(figsize=(10,5), dpi= 100)\n",
    "sns.kdeplot(df_train['rougher.input.feed_size'], shade=True, color=\"g\", label=\"train\", alpha=.7)\n",
    "sns.kdeplot(df_test['rougher.input.feed_size'], shade=True, color=\"r\", label=\"test\", alpha=.7)\n",
    "\n",
    "plt.title('Распределение размеров гранул сырья на этапе флотации', fontsize=10)\n",
    "plt.legend()\n",
    "plt.show()"
   ]
  },
  {
   "cell_type": "markdown",
   "metadata": {},
   "source": [
    "Распределения размеров похожие, несильно различаются. Оценка модели будет правильная"
   ]
  },
  {
   "cell_type": "markdown",
   "metadata": {},
   "source": [
    "### Исследуем суммарные концентрации"
   ]
  },
  {
   "cell_type": "markdown",
   "metadata": {},
   "source": [
    "Исследуйте суммарную концентрацию всех веществ на разных стадиях: в сырье, в черновом и финальном концентратах."
   ]
  },
  {
   "cell_type": "code",
   "execution_count": 25,
   "metadata": {},
   "outputs": [],
   "source": [
    "df_full_sum = df_full[['rougher.input.feed_ag', \n",
    "    'rougher.input.feed_pb', \n",
    "    'rougher.input.feed_sol', \n",
    "    'rougher.input.feed_au', \n",
    "    'rougher.output.concentrate_ag', \n",
    "    'rougher.output.concentrate_pb', \n",
    "    'rougher.output.concentrate_sol', \n",
    "    'rougher.output.concentrate_au', \n",
    "    'final.output.concentrate_ag', \n",
    "    'final.output.concentrate_pb', \n",
    "    'final.output.concentrate_sol', \n",
    "    'final.output.concentrate_au']]\n",
    "df_full_sum['rougher.input.feed'] = df_full_sum['rougher.input.feed_ag'] + df_full_sum['rougher.input.feed_pb'] + df_full_sum['rougher.input.feed_sol'] + df_full_sum['rougher.input.feed_au'] \n",
    "df_full_sum['rougher.output.concentrate'] = df_full_sum['rougher.output.concentrate_ag'] + df_full_sum['rougher.output.concentrate_pb'] + df_full_sum['rougher.output.concentrate_sol'] + df_full_sum['rougher.output.concentrate_au'] \n",
    "df_full_sum['final.output.concentrate'] = df_full_sum['final.output.concentrate_ag'] + df_full_sum['final.output.concentrate_pb'] + df_full_sum['final.output.concentrate_sol'] + df_full_sum['final.output.concentrate_au'] "
   ]
  },
  {
   "cell_type": "code",
   "execution_count": 26,
   "metadata": {
    "scrolled": false
   },
   "outputs": [
    {
     "data": {
      "image/png": "[encoded data removed]",
      "text/plain": [
       "<Figure size 1000x500 with 1 Axes>"
      ]
     },
     "metadata": {
      "needs_background": "light"
     },
     "output_type": "display_data"
    }
   ],
   "source": [
    "plt.figure(figsize=(10,5), dpi= 100)\n",
    "sns.kdeplot(df_full_sum['rougher.input.feed'], shade=True, color=\"g\", label=\"rougher.input\", alpha=.7)\n",
    "sns.kdeplot(df_full_sum['rougher.output.concentrate'], shade=True, color=\"r\", label=\"rougher.output\", alpha=.7)\n",
    "sns.kdeplot(df_full_sum['final.output.concentrate'], shade=True, color=\"b\", label=\"final.output\", alpha=.7)\n",
    "\n",
    "plt.title('Распределение суммарной концентрации всех веществ на разных стадиях', fontsize=10)\n",
    "plt.legend()\n",
    "plt.show()"
   ]
  },
  {
   "cell_type": "code",
   "execution_count": 27,
   "metadata": {},
   "outputs": [
    {
     "data": {
      "text/plain": [
       "Text(0.5, 0, 'Концентрация вещества')"
      ]
     },
     "execution_count": 27,
     "metadata": {},
     "output_type": "execute_result"
    },
    {
     "data": {
      "image/png": "[encoded data removed]",
      "text/plain": [
       "<Figure size 432x288 with 1 Axes>"
      ]
     },
     "metadata": {
      "needs_background": "light"
     },
     "output_type": "display_data"
    }
   ],
   "source": [
    "df_full_sum['rougher.input.feed'].hist(bins=120, alpha=.7)\n",
    "df_full_sum['rougher.output.concentrate'].hist(bins=120, alpha=.7)\n",
    "df_full_sum['final.output.concentrate'].hist(bins=120, alpha=.7)\n",
    "plt.title('Распределение суммарной концентрации всех веществ на разных стадиях')\n",
    "plt.xlabel('Концентрация вещества')"
   ]
  },
  {
   "cell_type": "markdown",
   "metadata": {},
   "source": [
    "На графике видны значениия выборки, близкие к нулю, считаем их выбросами. На финальном этапе концентрация плотнее и находится в пределах 60-80, чем на сырье и черновом этапе"
   ]
  },
  {
   "cell_type": "code",
   "execution_count": 28,
   "metadata": {
    "scrolled": true
   },
   "outputs": [],
   "source": [
    "non_nulls_fulls = df_full_sum.loc[df_full_sum['rougher.input.feed'] > 20]\n",
    "non_nulls_fulls = non_nulls_fulls.loc[non_nulls_fulls['rougher.output.concentrate'] > 20]\n",
    "non_nulls_fulls = non_nulls_fulls.loc[non_nulls_fulls['final.output.concentrate'] > 20]"
   ]
  },
  {
   "cell_type": "code",
   "execution_count": 29,
   "metadata": {
    "scrolled": true
   },
   "outputs": [
    {
     "data": {
      "image/png": "[encoded data removed]",
      "text/plain": [
       "<Figure size 1000x500 with 1 Axes>"
      ]
     },
     "metadata": {
      "needs_background": "light"
     },
     "output_type": "display_data"
    }
   ],
   "source": [
    "plt.figure(figsize=(10,5), dpi= 100)\n",
    "sns.kdeplot(non_nulls_fulls['rougher.input.feed'], shade=True, color=\"g\", label=\"rougher.input\", alpha=.7)\n",
    "sns.kdeplot(non_nulls_fulls['rougher.output.concentrate'], shade=True, color=\"r\", label=\"rougher.output\", alpha=.7)\n",
    "sns.kdeplot(non_nulls_fulls['final.output.concentrate'], shade=True, color=\"b\", label=\"final.output\", alpha=.7)\n",
    "\n",
    "plt.title('Распределение суммарной концентрации всех веществ на разных стадиях', fontsize=10)\n",
    "plt.legend()\n",
    "plt.show()"
   ]
  },
  {
   "cell_type": "markdown",
   "metadata": {},
   "source": [
    "## Модель"
   ]
  },
  {
   "cell_type": "markdown",
   "metadata": {},
   "source": [
    "### Напишем функцию для вычисления итоговой sMAPE."
   ]
  },
  {
   "cell_type": "markdown",
   "metadata": {},
   "source": [
    "Функция sMAPE"
   ]
  },
  {
   "cell_type": "code",
   "execution_count": 30,
   "metadata": {},
   "outputs": [],
   "source": [
    "def scorer(estimator, X, y):\n",
    "    predict = estimator.predict(X)\n",
    "\n",
    "    return 1 / len(y) * sum( abs(y - predict) / ( (abs(y) + abs(predict)) * 0.5) ) * 100"
   ]
  },
  {
   "cell_type": "code",
   "execution_count": 31,
   "metadata": {},
   "outputs": [],
   "source": [
    "def smape(y, x):\n",
    "     return 1 / len(y) * sum( abs(y - x) / ( (abs(y) + abs(x)) * 0.5) ) * 100"
   ]
  },
  {
   "cell_type": "markdown",
   "metadata": {},
   "source": [
    "Функция итоговое sMAPE"
   ]
  },
  {
   "cell_type": "code",
   "execution_count": 32,
   "metadata": {},
   "outputs": [],
   "source": [
    " def final_smape(smape_rougher, smape_final):\n",
    "    f_smp = (0.25 * smape_rougher) + (0.75 * smape_final)\n",
    "    return f_smp"
   ]
  },
  {
   "cell_type": "markdown",
   "metadata": {},
   "source": [
    "### Обучим разные модели и оценим их качество кросс-валидацией. Выберем лучшую модель и проверим её на тестовой выборке. Опишим выводы."
   ]
  },
  {
   "cell_type": "markdown",
   "metadata": {},
   "source": [
    "Для начала уберем значения таргетов меньше 20"
   ]
  },
  {
   "cell_type": "code",
   "execution_count": 33,
   "metadata": {
    "scrolled": true
   },
   "outputs": [],
   "source": [
    "df_test = df_test[(df_test['rougher.input.feed_au'] > 5) & \n",
    "                  (df_test['rougher.input.feed_sol'] > 5) & \n",
    "                  (df_test['rougher.input.feed_pb'] > 5) & \n",
    "                  (df_test['rougher.input.feed_ag'] > 5)]"
   ]
  },
  {
   "cell_type": "code",
   "execution_count": 34,
   "metadata": {
    "scrolled": true
   },
   "outputs": [],
   "source": [
    "df_train = df_train[(df_train['rougher.input.feed_au'] > 5) & \n",
    "                  (df_train['rougher.input.feed_sol'] > 5) & \n",
    "                  (df_train['rougher.input.feed_pb'] > 5) & \n",
    "                  (df_train['rougher.input.feed_ag'] > 5)]"
   ]
  },
  {
   "cell_type": "markdown",
   "metadata": {},
   "source": [
    "Оставляем только те строки, в которых нет выбросов, выявленных в пункте 2.3, фильтруя по целевым признакам."
   ]
  },
  {
   "cell_type": "markdown",
   "metadata": {},
   "source": [
    "Принято решение ввести границу выбросов 5, вместо 20, тк при 20 данных становится мало или они совсем пропадают*"
   ]
  },
  {
   "cell_type": "markdown",
   "metadata": {},
   "source": [
    "Определим фичи и таргеты тренировочной выборки"
   ]
  },
  {
   "cell_type": "code",
   "execution_count": 35,
   "metadata": {},
   "outputs": [],
   "source": [
    "features_train = df_train.drop(['rougher.output.recovery','final.output.recovery'],axis=1)\n",
    "target_train_rougher = df_train['rougher.output.recovery']\n",
    "target_train_final = df_train['final.output.recovery']"
   ]
  },
  {
   "cell_type": "code",
   "execution_count": 36,
   "metadata": {},
   "outputs": [],
   "source": [
    "features1 = features_train.drop(['primary_cleaner.input.sulfate', 'primary_cleaner.input.depressant',\n",
    "       'primary_cleaner.input.feed_size', 'primary_cleaner.input.xanthate',\n",
    "       'primary_cleaner.state.floatbank8_a_air',\n",
    "       'primary_cleaner.state.floatbank8_a_level',\n",
    "       'primary_cleaner.state.floatbank8_b_air',\n",
    "       'primary_cleaner.state.floatbank8_b_level',\n",
    "       'primary_cleaner.state.floatbank8_c_air',\n",
    "       'primary_cleaner.state.floatbank8_c_level',\n",
    "       'primary_cleaner.state.floatbank8_d_air',\n",
    "       'primary_cleaner.state.floatbank8_d_level', 'secondary_cleaner.state.floatbank2_a_air',\n",
    "       'secondary_cleaner.state.floatbank2_a_level',\n",
    "       'secondary_cleaner.state.floatbank2_b_air',\n",
    "       'secondary_cleaner.state.floatbank2_b_level',\n",
    "       'secondary_cleaner.state.floatbank3_a_air',\n",
    "       'secondary_cleaner.state.floatbank3_a_level',\n",
    "       'secondary_cleaner.state.floatbank3_b_air',\n",
    "       'secondary_cleaner.state.floatbank3_b_level',\n",
    "       'secondary_cleaner.state.floatbank4_a_air',\n",
    "       'secondary_cleaner.state.floatbank4_a_level',\n",
    "       'secondary_cleaner.state.floatbank4_b_air',\n",
    "       'secondary_cleaner.state.floatbank4_b_level',\n",
    "       'secondary_cleaner.state.floatbank5_a_air',\n",
    "       'secondary_cleaner.state.floatbank5_a_level',\n",
    "       'secondary_cleaner.state.floatbank5_b_air',\n",
    "       'secondary_cleaner.state.floatbank5_b_level',\n",
    "       'secondary_cleaner.state.floatbank6_a_air',\n",
    "       'secondary_cleaner.state.floatbank6_a_level'],axis=1)\n",
    "features2 = features_train.drop(['rougher.input.feed_ag',\n",
    "       'rougher.input.feed_pb', 'rougher.input.feed_rate',\n",
    "       'rougher.input.feed_size', 'rougher.input.feed_sol',\n",
    "       'rougher.input.feed_au', 'rougher.input.floatbank10_sulfate',\n",
    "       'rougher.input.floatbank10_xanthate',\n",
    "       'rougher.input.floatbank11_sulfate',\n",
    "       'rougher.input.floatbank11_xanthate', 'rougher.state.floatbank10_a_air',\n",
    "       'rougher.state.floatbank10_a_level', 'rougher.state.floatbank10_b_air',\n",
    "       'rougher.state.floatbank10_b_level', 'rougher.state.floatbank10_c_air',\n",
    "       'rougher.state.floatbank10_c_level', 'rougher.state.floatbank10_d_air',\n",
    "       'rougher.state.floatbank10_d_level', 'rougher.state.floatbank10_e_air',\n",
    "       'rougher.state.floatbank10_e_level', 'rougher.state.floatbank10_f_air',\n",
    "       'rougher.state.floatbank10_f_level'],axis=1)\n"
   ]
  },
  {
   "cell_type": "markdown",
   "metadata": {},
   "source": [
    "Выровняем данные"
   ]
  },
  {
   "cell_type": "code",
   "execution_count": 37,
   "metadata": {},
   "outputs": [],
   "source": [
    "scaler1 = StandardScaler()\n",
    "scaler1.fit(features1)\n",
    "features1 = scaler1.transform(features1)\n",
    "scaler2 = StandardScaler()\n",
    "scaler2.fit(features2)\n",
    "features2 = scaler2.transform(features2)"
   ]
  },
  {
   "cell_type": "markdown",
   "metadata": {},
   "source": [
    "Проверим модели кросс-валидации"
   ]
  },
  {
   "cell_type": "code",
   "execution_count": 38,
   "metadata": {},
   "outputs": [
    {
     "name": "stdout",
     "output_type": "stream",
     "text": [
      "модель DecisionTreeRegressor max_depth = 1:\n",
      "Средняя оценка качества модели: 18.138158356588427\n",
      "Средняя оценка качества модели: 9.71000338931827\n",
      "модель DecisionTreeRegressor max_depth = 2:\n",
      "Средняя оценка качества модели: 14.778625250045186\n",
      "Средняя оценка качества модели: 9.907049156880136\n",
      "модель DecisionTreeRegressor max_depth = 3:\n",
      "Средняя оценка качества модели: 16.169255956593755\n",
      "Средняя оценка качества модели: 10.52429216427149\n",
      "модель DecisionTreeRegressor max_depth = 4:\n",
      "Средняя оценка качества модели: 16.821611976213838\n",
      "Средняя оценка качества модели: 10.82334663156691\n",
      "модель DecisionTreeRegressor max_depth = 5:\n",
      "Средняя оценка качества модели: nan\n",
      "Средняя оценка качества модели: 11.070763836054443\n",
      "модель DecisionTreeRegressor max_depth = 6:\n",
      "Средняя оценка качества модели: nan\n",
      "Средняя оценка качества модели: 11.065429594449618\n",
      "модель DecisionTreeRegressor max_depth = 7:\n",
      "Средняя оценка качества модели: nan\n",
      "Средняя оценка качества модели: 11.530900592868505\n",
      "модель DecisionTreeRegressor max_depth = 8:\n",
      "Средняя оценка качества модели: nan\n",
      "Средняя оценка качества модели: 11.893560621693457\n",
      "модель DecisionTreeRegressor max_depth = 9:\n",
      "Средняя оценка качества модели: nan\n",
      "Средняя оценка качества модели: 12.504129765183027\n"
     ]
    }
   ],
   "source": [
    "for i in range(1,10):   \n",
    "    model_tree = DecisionTreeRegressor(max_depth=i)\n",
    "\n",
    "    scores_tree=cross_val_score(model_tree, features1, target_train_rougher, cv=5, scoring = scorer)\n",
    "\n",
    "    scores_tree2=cross_val_score(model_tree, features2, target_train_final, cv=5, scoring = scorer)\n",
    "    \n",
    "    print(f'модель DecisionTreeRegressor max_depth = {i}:')\n",
    "    \n",
    "    print('Средняя оценка качества модели:', scores_tree.mean())\n",
    "\n",
    "    print('Средняя оценка качества модели:', scores_tree2.mean())"
   ]
  },
  {
   "cell_type": "code",
   "execution_count": 39,
   "metadata": {},
   "outputs": [
    {
     "name": "stdout",
     "output_type": "stream",
     "text": [
      "Средняя оценка качества модели: 22.654234905819834\n",
      "Средняя оценка качества модели: 9.945849326845234\n",
      "Средняя оценка качества модели final sMAPE: 13.122945721588884\n"
     ]
    }
   ],
   "source": [
    "model_linear = LinearRegression()\n",
    "\n",
    "scores_linear=cross_val_score(model_linear, features1, target_train_rougher, cv=5, scoring = scorer)\n",
    "\n",
    "scores_linear2=cross_val_score(model_linear, features2, target_train_final, cv=5, scoring = scorer)\n",
    "\n",
    "print('Средняя оценка качества модели:', scores_linear.mean())\n",
    "\n",
    "print('Средняя оценка качества модели:', scores_linear2.mean())\n",
    "\n",
    "print('Средняя оценка качества модели final sMAPE:', final_smape(scores_linear.mean(), scores_linear2.mean()))"
   ]
  },
  {
   "cell_type": "code",
   "execution_count": 40,
   "metadata": {
    "scrolled": true
   },
   "outputs": [
    {
     "name": "stdout",
     "output_type": "stream",
     "text": [
      "модель RandomForestRegressor max_depth = 1:\n",
      "Средняя оценка качества модели: 18.113931681815572\n",
      "Средняя оценка качества модели: 9.017020561831632\n",
      "модель RandomForestRegressor max_depth = 2:\n",
      "Средняя оценка качества модели: 17.86075643534417\n",
      "Средняя оценка качества модели: 9.055466320141615\n",
      "модель RandomForestRegressor max_depth = 3:\n",
      "Средняя оценка качества модели: 18.048277617788237\n",
      "Средняя оценка качества модели: 9.160781518826315\n",
      "модель RandomForestRegressor max_depth = 4:\n",
      "Средняя оценка качества модели: 18.22127947081225\n",
      "Средняя оценка качества модели: 9.208231932517887\n",
      "модель RandomForestRegressor max_depth = 5:\n",
      "Средняя оценка качества модели: 18.38276796509246\n",
      "Средняя оценка качества модели: 9.297294560725835\n",
      "модель RandomForestRegressor max_depth = 6:\n",
      "Средняя оценка качества модели: 18.367917100515214\n",
      "Средняя оценка качества модели: 9.312079574312543\n",
      "модель RandomForestRegressor max_depth = 7:\n",
      "Средняя оценка качества модели: 18.317869623421124\n",
      "Средняя оценка качества модели: 9.261633508404623\n",
      "модель RandomForestRegressor max_depth = 8:\n",
      "Средняя оценка качества модели: 18.401999482687394\n",
      "Средняя оценка качества модели: 9.42752494119209\n",
      "модель RandomForestRegressor max_depth = 9:\n",
      "Средняя оценка качества модели: 18.26200971340456\n",
      "Средняя оценка качества модели: 9.426110523194343\n"
     ]
    }
   ],
   "source": [
    "for i in range(1,10):\n",
    "    model_forest = RandomForestRegressor(n_estimators=100, max_depth=i, random_state=12345)\n",
    "\n",
    "    scores_forest=cross_val_score(model_forest, features1, target_train_rougher, cv=5, scoring = scorer) \n",
    "\n",
    "    scores_forest2=cross_val_score(model_forest, features2, target_train_final, cv=5, scoring = scorer) \n",
    "\n",
    "    print(f'модель RandomForestRegressor max_depth = {i}:')\n",
    "   \n",
    "    print('Средняя оценка качества модели:', scores_forest.mean())\n",
    "\n",
    "    print('Средняя оценка качества модели:', scores_forest2.mean())"
   ]
  },
  {
   "cell_type": "markdown",
   "metadata": {},
   "source": [
    "Наилучший результат на обучающей выборке показала модель RandomForestRegressor с параметром max_depth = 5"
   ]
  },
  {
   "cell_type": "markdown",
   "metadata": {},
   "source": [
    "Применим модель к тестовым данным"
   ]
  },
  {
   "cell_type": "code",
   "execution_count": 41,
   "metadata": {},
   "outputs": [],
   "source": [
    "features_test = df_test.drop(['rougher.output.recovery','final.output.recovery'],axis=1)\n",
    "target_test_rougher = df_test['rougher.output.recovery']\n",
    "target_test_final = df_test['final.output.recovery']"
   ]
  },
  {
   "cell_type": "code",
   "execution_count": 42,
   "metadata": {},
   "outputs": [],
   "source": [
    "features_test_1 = features_test.drop([\n",
    "    'primary_cleaner.input.sulfate', \n",
    "                                      'primary_cleaner.input.depressant',\n",
    "       'primary_cleaner.input.feed_size', \n",
    "        'primary_cleaner.input.xanthate',\n",
    "       'primary_cleaner.state.floatbank8_a_air',\n",
    "       'primary_cleaner.state.floatbank8_a_level',\n",
    "       'primary_cleaner.state.floatbank8_b_air',\n",
    "       'primary_cleaner.state.floatbank8_b_level',\n",
    "       'primary_cleaner.state.floatbank8_c_air',\n",
    "       'primary_cleaner.state.floatbank8_c_level',\n",
    "       'primary_cleaner.state.floatbank8_d_air',\n",
    "       'primary_cleaner.state.floatbank8_d_level', 'secondary_cleaner.state.floatbank2_a_air',\n",
    "       'secondary_cleaner.state.floatbank2_a_level',\n",
    "       'secondary_cleaner.state.floatbank2_b_air',\n",
    "       'secondary_cleaner.state.floatbank2_b_level',\n",
    "       'secondary_cleaner.state.floatbank3_a_air',\n",
    "       'secondary_cleaner.state.floatbank3_a_level',\n",
    "       'secondary_cleaner.state.floatbank3_b_air',\n",
    "       'secondary_cleaner.state.floatbank3_b_level',\n",
    "       'secondary_cleaner.state.floatbank4_a_air',\n",
    "       'secondary_cleaner.state.floatbank4_a_level',\n",
    "       'secondary_cleaner.state.floatbank4_b_air',\n",
    "       'secondary_cleaner.state.floatbank4_b_level',\n",
    "       'secondary_cleaner.state.floatbank5_a_air',\n",
    "       'secondary_cleaner.state.floatbank5_a_level',\n",
    "       'secondary_cleaner.state.floatbank5_b_air',\n",
    "       'secondary_cleaner.state.floatbank5_b_level',\n",
    "       'secondary_cleaner.state.floatbank6_a_air',\n",
    "       'secondary_cleaner.state.floatbank6_a_level'],axis=1)\n",
    "features_test_2 = features_test.drop(['rougher.input.feed_ag',\n",
    "       'rougher.input.feed_pb', 'rougher.input.feed_rate',\n",
    "       'rougher.input.feed_size', 'rougher.input.feed_sol',\n",
    "       'rougher.input.feed_au', 'rougher.input.floatbank10_sulfate',\n",
    "       'rougher.input.floatbank10_xanthate',\n",
    "       'rougher.input.floatbank11_sulfate',\n",
    "       'rougher.input.floatbank11_xanthate', 'rougher.state.floatbank10_a_air',\n",
    "       'rougher.state.floatbank10_a_level', 'rougher.state.floatbank10_b_air',\n",
    "       'rougher.state.floatbank10_b_level', 'rougher.state.floatbank10_c_air',\n",
    "       'rougher.state.floatbank10_c_level', 'rougher.state.floatbank10_d_air',\n",
    "       'rougher.state.floatbank10_d_level', 'rougher.state.floatbank10_e_air',\n",
    "       'rougher.state.floatbank10_e_level', 'rougher.state.floatbank10_f_air',\n",
    "       'rougher.state.floatbank10_f_level'],axis=1)\n"
   ]
  },
  {
   "cell_type": "code",
   "execution_count": 44,
   "metadata": {},
   "outputs": [],
   "source": [
    "features_test_1 = scaler1.transform(features_test_1)\n",
    "features_test_2 = scaler2.transform(features_test_2)"
   ]
  },
  {
   "cell_type": "code",
   "execution_count": 45,
   "metadata": {},
   "outputs": [
    {
     "name": "stdout",
     "output_type": "stream",
     "text": [
      "Средняя оценка качества модели rougher: 82.35430084319916\n",
      "Средняя оценка качества модели final: 67.32815746269195\n"
     ]
    }
   ],
   "source": [
    "model_test = RandomForestRegressor(n_estimators=100, max_depth=5, random_state=12345)\n",
    "\n",
    "model_test.fit(features1, target_train_rougher)\n",
    "\n",
    "rougher_predict = model_test.predict(features_test_1)\n",
    "\n",
    "model_test.fit(features2, target_train_final)\n",
    "\n",
    "final_predict = model_test.predict(features_test_2)\n",
    "\n",
    "print('Средняя оценка качества модели rougher:', rougher_predict.mean())\n",
    "\n",
    "print('Средняя оценка качества модели final:', final_predict.mean())"
   ]
  },
  {
   "cell_type": "markdown",
   "metadata": {},
   "source": [
    "Расчитаем sMAPE rougher и predict"
   ]
  },
  {
   "cell_type": "code",
   "execution_count": 46,
   "metadata": {},
   "outputs": [
    {
     "name": "stdout",
     "output_type": "stream",
     "text": [
      "Значение тестового rougher.output.recovery: 16.364634792333582\n",
      "Значение тестового final.output.recovery: 10.724706220181329\n"
     ]
    }
   ],
   "source": [
    "sMAPE_rougher = smape(target_test_rougher, rougher_predict)\n",
    "sMAPE_final = smape(target_test_final, final_predict)\n",
    "print('Значение тестового rougher.output.recovery:', sMAPE_rougher)\n",
    "print('Значение тестового final.output.recovery:', sMAPE_final)"
   ]
  },
  {
   "cell_type": "markdown",
   "metadata": {},
   "source": [
    "Расчитаем Final sMAPE rougher и predict"
   ]
  },
  {
   "cell_type": "code",
   "execution_count": 47,
   "metadata": {},
   "outputs": [
    {
     "name": "stdout",
     "output_type": "stream",
     "text": [
      "Значение тестового Final sMAPE: 12.134688363219391\n"
     ]
    }
   ],
   "source": [
    "Final = final_smape(sMAPE_rougher, sMAPE_final)\n",
    "print('Значение тестового Final sMAPE:', Final)"
   ]
  },
  {
   "cell_type": "markdown",
   "metadata": {},
   "source": [
    "Наилучшей моделью оказалась  - это использование RandomForestRegressor при 100 n_setimators, max_depth=5. Финальаня sMAPE составляет 12.13%"
   ]
  }
 ],
 "metadata": {
  "ExecuteTimeLog": [
   {
    "duration": 43,
    "start_time": "2022-05-09T08:10:15.723Z"
   },
   {
    "duration": 1613,
    "start_time": "2022-05-09T08:10:22.115Z"
   },
   {
    "duration": 86,
    "start_time": "2022-05-09T08:10:23.730Z"
   },
   {
    "duration": 689,
    "start_time": "2022-05-09T08:10:33.712Z"
   },
   {
    "duration": 31,
    "start_time": "2022-05-09T08:10:40.536Z"
   },
   {
    "duration": 5,
    "start_time": "2022-05-09T08:12:27.946Z"
   },
   {
    "duration": 1551,
    "start_time": "2022-05-09T08:12:28.119Z"
   },
   {
    "duration": 193,
    "start_time": "2022-05-09T08:15:57.996Z"
   },
   {
    "duration": 12,
    "start_time": "2022-05-09T08:16:16.636Z"
   },
   {
    "duration": 29,
    "start_time": "2022-05-09T08:16:20.176Z"
   },
   {
    "duration": 8,
    "start_time": "2022-05-09T08:16:32.354Z"
   },
   {
    "duration": 4,
    "start_time": "2022-05-09T08:16:35.516Z"
   },
   {
    "duration": 4,
    "start_time": "2022-05-09T08:19:11.178Z"
   },
   {
    "duration": 13,
    "start_time": "2022-05-09T08:19:12.235Z"
   },
   {
    "duration": 4,
    "start_time": "2022-05-09T08:19:30.044Z"
   },
   {
    "duration": 1575,
    "start_time": "2022-05-09T08:19:30.555Z"
   },
   {
    "duration": 5,
    "start_time": "2022-05-09T08:25:01.218Z"
   },
   {
    "duration": 627,
    "start_time": "2022-05-09T08:25:02.015Z"
   },
   {
    "duration": 1564,
    "start_time": "2022-05-09T08:45:05.616Z"
   },
   {
    "duration": 4,
    "start_time": "2022-05-09T08:56:03.855Z"
   },
   {
    "duration": 615,
    "start_time": "2022-05-09T08:56:04.695Z"
   },
   {
    "duration": 26,
    "start_time": "2022-05-09T08:56:07.915Z"
   },
   {
    "duration": 731,
    "start_time": "2022-05-09T08:56:08.512Z"
   },
   {
    "duration": 66,
    "start_time": "2022-05-09T08:56:09.246Z"
   },
   {
    "duration": 318,
    "start_time": "2022-05-09T08:56:09.314Z"
   },
   {
    "duration": 20,
    "start_time": "2022-05-09T08:56:09.635Z"
   },
   {
    "duration": 304,
    "start_time": "2022-05-09T08:56:09.657Z"
   },
   {
    "duration": 914,
    "start_time": "2022-05-09T08:56:09.963Z"
   },
   {
    "duration": 1658,
    "start_time": "2022-05-09T08:57:48.904Z"
   },
   {
    "duration": 627,
    "start_time": "2022-05-09T08:57:50.564Z"
   },
   {
    "duration": 31,
    "start_time": "2022-05-09T09:10:14.683Z"
   },
   {
    "duration": 73,
    "start_time": "2022-05-09T12:44:50.099Z"
   },
   {
    "duration": 9,
    "start_time": "2022-05-09T12:44:55.039Z"
   },
   {
    "duration": 2323,
    "start_time": "2022-05-09T12:44:57.907Z"
   },
   {
    "duration": 906,
    "start_time": "2022-05-09T12:45:00.233Z"
   },
   {
    "duration": 53,
    "start_time": "2022-05-09T12:45:03.917Z"
   },
   {
    "duration": 7,
    "start_time": "2022-05-09T12:45:56.439Z"
   },
   {
    "duration": 107,
    "start_time": "2022-05-09T13:52:49.271Z"
   },
   {
    "duration": 6,
    "start_time": "2022-05-09T13:52:52.976Z"
   },
   {
    "duration": 1086,
    "start_time": "2022-05-09T13:52:54.466Z"
   },
   {
    "duration": 7,
    "start_time": "2022-05-09T13:53:00.985Z"
   },
   {
    "duration": 4,
    "start_time": "2022-05-09T13:53:02.606Z"
   },
   {
    "duration": 11,
    "start_time": "2022-05-09T13:53:03.806Z"
   },
   {
    "duration": 12,
    "start_time": "2022-05-09T13:53:09.805Z"
   },
   {
    "duration": 5,
    "start_time": "2022-05-09T13:53:25.945Z"
   },
   {
    "duration": 8,
    "start_time": "2022-05-09T13:53:26.385Z"
   },
   {
    "duration": 16,
    "start_time": "2022-05-09T13:53:31.345Z"
   },
   {
    "duration": 25,
    "start_time": "2022-05-09T13:53:47.904Z"
   },
   {
    "duration": 25,
    "start_time": "2022-05-09T13:54:13.166Z"
   },
   {
    "duration": 13,
    "start_time": "2022-05-09T13:54:23.725Z"
   },
   {
    "duration": 17,
    "start_time": "2022-05-09T13:54:29.606Z"
   },
   {
    "duration": 17,
    "start_time": "2022-05-09T13:54:39.299Z"
   },
   {
    "duration": 17,
    "start_time": "2022-05-09T13:55:02.746Z"
   },
   {
    "duration": 13,
    "start_time": "2022-05-09T13:55:07.126Z"
   },
   {
    "duration": 18,
    "start_time": "2022-05-09T13:55:39.166Z"
   },
   {
    "duration": 28,
    "start_time": "2022-05-09T13:55:56.525Z"
   },
   {
    "duration": 19,
    "start_time": "2022-05-09T13:56:37.986Z"
   },
   {
    "duration": 17,
    "start_time": "2022-05-09T13:57:03.448Z"
   },
   {
    "duration": 8,
    "start_time": "2022-05-09T13:57:08.445Z"
   },
   {
    "duration": 5,
    "start_time": "2022-05-09T13:57:19.593Z"
   },
   {
    "duration": 8,
    "start_time": "2022-05-09T13:58:08.146Z"
   },
   {
    "duration": 17,
    "start_time": "2022-05-09T13:58:15.785Z"
   },
   {
    "duration": 6,
    "start_time": "2022-05-09T13:59:08.292Z"
   },
   {
    "duration": 17,
    "start_time": "2022-05-09T13:59:08.965Z"
   },
   {
    "duration": 13,
    "start_time": "2022-05-09T14:00:23.523Z"
   },
   {
    "duration": 6,
    "start_time": "2022-05-09T14:01:03.341Z"
   },
   {
    "duration": 16,
    "start_time": "2022-05-09T14:01:04.788Z"
   },
   {
    "duration": 5,
    "start_time": "2022-05-09T14:01:13.108Z"
   },
   {
    "duration": 2377,
    "start_time": "2022-05-09T14:19:17.226Z"
   },
   {
    "duration": 912,
    "start_time": "2022-05-09T14:19:19.606Z"
   },
   {
    "duration": 50,
    "start_time": "2022-05-09T14:19:20.520Z"
   },
   {
    "duration": 854,
    "start_time": "2022-05-09T14:19:20.574Z"
   },
   {
    "duration": 66,
    "start_time": "2022-05-09T14:19:21.432Z"
   },
   {
    "duration": 415,
    "start_time": "2022-05-09T14:19:21.500Z"
   },
   {
    "duration": 30,
    "start_time": "2022-05-09T14:19:21.925Z"
   },
   {
    "duration": 353,
    "start_time": "2022-05-09T14:19:21.957Z"
   },
   {
    "duration": 906,
    "start_time": "2022-05-09T14:19:22.313Z"
   },
   {
    "duration": 14,
    "start_time": "2022-05-09T14:19:23.225Z"
   },
   {
    "duration": 17,
    "start_time": "2022-05-09T14:19:23.241Z"
   },
   {
    "duration": 12,
    "start_time": "2022-05-09T14:19:23.260Z"
   },
   {
    "duration": 323,
    "start_time": "2022-05-09T14:19:23.274Z"
   },
   {
    "duration": 29,
    "start_time": "2022-05-09T14:20:10.603Z"
   },
   {
    "duration": 593,
    "start_time": "2022-05-09T14:20:51.784Z"
   },
   {
    "duration": 40,
    "start_time": "2022-05-09T14:21:00.787Z"
   },
   {
    "duration": 2115,
    "start_time": "2022-05-09T14:21:14.588Z"
   },
   {
    "duration": 905,
    "start_time": "2022-05-09T14:21:16.706Z"
   },
   {
    "duration": 55,
    "start_time": "2022-05-09T14:21:17.615Z"
   },
   {
    "duration": 838,
    "start_time": "2022-05-09T14:21:17.673Z"
   },
   {
    "duration": 75,
    "start_time": "2022-05-09T14:21:18.514Z"
   },
   {
    "duration": 413,
    "start_time": "2022-05-09T14:21:18.592Z"
   },
   {
    "duration": 37,
    "start_time": "2022-05-09T14:21:19.007Z"
   },
   {
    "duration": 357,
    "start_time": "2022-05-09T14:21:19.047Z"
   },
   {
    "duration": 893,
    "start_time": "2022-05-09T14:21:19.407Z"
   },
   {
    "duration": 9,
    "start_time": "2022-05-09T14:21:20.303Z"
   },
   {
    "duration": 13,
    "start_time": "2022-05-09T14:21:20.314Z"
   },
   {
    "duration": 11,
    "start_time": "2022-05-09T14:21:20.330Z"
   },
   {
    "duration": 315,
    "start_time": "2022-05-09T14:21:20.346Z"
   },
   {
    "duration": 24,
    "start_time": "2022-05-09T14:21:20.665Z"
   },
   {
    "duration": 12,
    "start_time": "2022-05-09T14:21:35.221Z"
   },
   {
    "duration": 1953,
    "start_time": "2022-05-09T14:21:43.851Z"
   },
   {
    "duration": 900,
    "start_time": "2022-05-09T14:21:45.807Z"
   },
   {
    "duration": 57,
    "start_time": "2022-05-09T14:21:46.709Z"
   },
   {
    "duration": 849,
    "start_time": "2022-05-09T14:21:46.768Z"
   },
   {
    "duration": 68,
    "start_time": "2022-05-09T14:21:47.626Z"
   },
   {
    "duration": 538,
    "start_time": "2022-05-09T14:21:47.696Z"
   },
   {
    "duration": 27,
    "start_time": "2022-05-09T14:21:48.237Z"
   },
   {
    "duration": 344,
    "start_time": "2022-05-09T14:21:48.266Z"
   },
   {
    "duration": 915,
    "start_time": "2022-05-09T14:21:48.613Z"
   },
   {
    "duration": 15,
    "start_time": "2022-05-09T14:21:49.532Z"
   },
   {
    "duration": 8,
    "start_time": "2022-05-09T14:21:49.550Z"
   },
   {
    "duration": 7,
    "start_time": "2022-05-09T14:21:49.561Z"
   },
   {
    "duration": 11,
    "start_time": "2022-05-09T14:21:49.571Z"
   },
   {
    "duration": 22,
    "start_time": "2022-05-09T14:21:54.964Z"
   },
   {
    "duration": 130,
    "start_time": "2022-05-09T14:22:54.145Z"
   },
   {
    "duration": 21,
    "start_time": "2022-05-09T14:23:14.549Z"
   },
   {
    "duration": 9,
    "start_time": "2022-05-09T14:25:36.644Z"
   },
   {
    "duration": 119,
    "start_time": "2022-05-09T14:26:36.605Z"
   },
   {
    "duration": 167,
    "start_time": "2022-05-09T14:30:12.726Z"
   },
   {
    "duration": 17,
    "start_time": "2022-05-09T14:31:35.005Z"
   },
   {
    "duration": 20,
    "start_time": "2022-05-09T14:32:04.625Z"
   },
   {
    "duration": 7,
    "start_time": "2022-05-09T14:40:04.407Z"
   },
   {
    "duration": 18,
    "start_time": "2022-05-09T14:40:23.629Z"
   },
   {
    "duration": 5,
    "start_time": "2022-05-09T14:43:00.288Z"
   },
   {
    "duration": 7,
    "start_time": "2022-05-09T14:43:28.247Z"
   },
   {
    "duration": 5,
    "start_time": "2022-05-09T14:43:41.687Z"
   },
   {
    "duration": 1859,
    "start_time": "2022-05-09T14:44:45.842Z"
   },
   {
    "duration": 853,
    "start_time": "2022-05-09T14:44:47.704Z"
   },
   {
    "duration": 47,
    "start_time": "2022-05-09T14:44:48.559Z"
   },
   {
    "duration": 825,
    "start_time": "2022-05-09T14:44:48.609Z"
   },
   {
    "duration": 64,
    "start_time": "2022-05-09T14:44:49.437Z"
   },
   {
    "duration": 401,
    "start_time": "2022-05-09T14:44:49.524Z"
   },
   {
    "duration": 27,
    "start_time": "2022-05-09T14:44:49.928Z"
   },
   {
    "duration": 349,
    "start_time": "2022-05-09T14:44:49.957Z"
   },
   {
    "duration": 864,
    "start_time": "2022-05-09T14:44:50.308Z"
   },
   {
    "duration": 10,
    "start_time": "2022-05-09T14:44:51.174Z"
   },
   {
    "duration": 9,
    "start_time": "2022-05-09T14:44:51.186Z"
   },
   {
    "duration": 26,
    "start_time": "2022-05-09T14:44:51.198Z"
   },
   {
    "duration": 15,
    "start_time": "2022-05-09T14:44:51.228Z"
   },
   {
    "duration": 21,
    "start_time": "2022-05-09T14:44:51.245Z"
   },
   {
    "duration": 14,
    "start_time": "2022-05-09T14:44:51.268Z"
   },
   {
    "duration": 9,
    "start_time": "2022-05-09T14:44:51.284Z"
   },
   {
    "duration": 9,
    "start_time": "2022-05-09T14:45:06.808Z"
   },
   {
    "duration": 3,
    "start_time": "2022-05-09T15:33:50.466Z"
   },
   {
    "duration": 43,
    "start_time": "2022-05-09T15:52:59.866Z"
   },
   {
    "duration": 39,
    "start_time": "2022-05-09T15:53:26.606Z"
   },
   {
    "duration": 2437,
    "start_time": "2022-05-09T15:56:54.162Z"
   },
   {
    "duration": 993,
    "start_time": "2022-05-09T15:56:56.602Z"
   },
   {
    "duration": 64,
    "start_time": "2022-05-09T15:56:57.597Z"
   },
   {
    "duration": 842,
    "start_time": "2022-05-09T15:56:57.664Z"
   },
   {
    "duration": 96,
    "start_time": "2022-05-09T15:56:58.509Z"
   },
   {
    "duration": 415,
    "start_time": "2022-05-09T15:56:58.608Z"
   },
   {
    "duration": 30,
    "start_time": "2022-05-09T15:56:59.034Z"
   },
   {
    "duration": 340,
    "start_time": "2022-05-09T15:56:59.067Z"
   },
   {
    "duration": 989,
    "start_time": "2022-05-09T15:56:59.410Z"
   },
   {
    "duration": 20,
    "start_time": "2022-05-09T15:57:00.404Z"
   },
   {
    "duration": 32,
    "start_time": "2022-05-09T15:57:00.429Z"
   },
   {
    "duration": 17,
    "start_time": "2022-05-09T15:57:00.464Z"
   },
   {
    "duration": 27,
    "start_time": "2022-05-09T15:57:00.484Z"
   },
   {
    "duration": 46,
    "start_time": "2022-05-09T15:57:00.514Z"
   },
   {
    "duration": 17,
    "start_time": "2022-05-09T15:57:00.563Z"
   },
   {
    "duration": 13,
    "start_time": "2022-05-09T15:57:00.582Z"
   },
   {
    "duration": 71,
    "start_time": "2022-05-09T15:57:00.598Z"
   },
   {
    "duration": 47,
    "start_time": "2022-05-09T15:57:13.403Z"
   },
   {
    "duration": 52,
    "start_time": "2022-05-09T15:57:27.102Z"
   },
   {
    "duration": 41,
    "start_time": "2022-05-09T16:14:24.867Z"
   },
   {
    "duration": 50,
    "start_time": "2022-05-10T07:22:55.281Z"
   },
   {
    "duration": 1676,
    "start_time": "2022-05-10T07:49:29.799Z"
   },
   {
    "duration": 996,
    "start_time": "2022-05-10T07:49:31.477Z"
   },
   {
    "duration": 31,
    "start_time": "2022-05-10T07:49:32.475Z"
   },
   {
    "duration": 600,
    "start_time": "2022-05-10T07:49:32.508Z"
   },
   {
    "duration": 45,
    "start_time": "2022-05-10T07:49:33.110Z"
   },
   {
    "duration": 238,
    "start_time": "2022-05-10T07:49:33.157Z"
   },
   {
    "duration": 18,
    "start_time": "2022-05-10T07:49:33.397Z"
   },
   {
    "duration": 245,
    "start_time": "2022-05-10T07:49:33.416Z"
   },
   {
    "duration": 652,
    "start_time": "2022-05-10T07:49:33.663Z"
   },
   {
    "duration": 6,
    "start_time": "2022-05-10T07:49:34.317Z"
   },
   {
    "duration": 11,
    "start_time": "2022-05-10T07:49:34.325Z"
   },
   {
    "duration": 7,
    "start_time": "2022-05-10T07:49:34.338Z"
   },
   {
    "duration": 9,
    "start_time": "2022-05-10T07:49:34.347Z"
   },
   {
    "duration": 11,
    "start_time": "2022-05-10T07:49:34.357Z"
   },
   {
    "duration": 7,
    "start_time": "2022-05-10T07:49:34.369Z"
   },
   {
    "duration": 8,
    "start_time": "2022-05-10T07:49:34.378Z"
   },
   {
    "duration": 4,
    "start_time": "2022-05-10T07:49:34.388Z"
   },
   {
    "duration": 63,
    "start_time": "2022-05-10T07:49:34.393Z"
   },
   {
    "duration": 28,
    "start_time": "2022-05-10T07:49:51.053Z"
   },
   {
    "duration": 28,
    "start_time": "2022-05-10T07:49:55.507Z"
   },
   {
    "duration": 28,
    "start_time": "2022-05-10T07:50:07.631Z"
   },
   {
    "duration": 27,
    "start_time": "2022-05-10T07:50:11.815Z"
   },
   {
    "duration": 29,
    "start_time": "2022-05-10T07:50:14.019Z"
   },
   {
    "duration": 12,
    "start_time": "2022-05-10T09:28:05.449Z"
   },
   {
    "duration": 111,
    "start_time": "2022-05-10T09:28:10.739Z"
   },
   {
    "duration": 273,
    "start_time": "2022-05-10T09:28:26.500Z"
   },
   {
    "duration": 17,
    "start_time": "2022-05-10T09:28:33.125Z"
   },
   {
    "duration": 21,
    "start_time": "2022-05-10T09:29:15.573Z"
   },
   {
    "duration": 14,
    "start_time": "2022-05-10T09:29:16.813Z"
   },
   {
    "duration": 20,
    "start_time": "2022-05-10T09:29:27.984Z"
   },
   {
    "duration": 13,
    "start_time": "2022-05-10T09:29:28.232Z"
   },
   {
    "duration": 1408,
    "start_time": "2022-05-10T09:29:37.742Z"
   },
   {
    "duration": 669,
    "start_time": "2022-05-10T09:29:39.152Z"
   },
   {
    "duration": 36,
    "start_time": "2022-05-10T09:29:39.823Z"
   },
   {
    "duration": 597,
    "start_time": "2022-05-10T09:29:39.861Z"
   },
   {
    "duration": 39,
    "start_time": "2022-05-10T09:29:40.460Z"
   },
   {
    "duration": 250,
    "start_time": "2022-05-10T09:29:40.501Z"
   },
   {
    "duration": 16,
    "start_time": "2022-05-10T09:29:40.753Z"
   },
   {
    "duration": 240,
    "start_time": "2022-05-10T09:29:40.770Z"
   },
   {
    "duration": 657,
    "start_time": "2022-05-10T09:29:41.011Z"
   },
   {
    "duration": 6,
    "start_time": "2022-05-10T09:29:41.671Z"
   },
   {
    "duration": 7,
    "start_time": "2022-05-10T09:29:41.678Z"
   },
   {
    "duration": 6,
    "start_time": "2022-05-10T09:29:41.687Z"
   },
   {
    "duration": 9,
    "start_time": "2022-05-10T09:29:41.695Z"
   },
   {
    "duration": 29,
    "start_time": "2022-05-10T09:29:41.705Z"
   },
   {
    "duration": 6,
    "start_time": "2022-05-10T09:29:41.736Z"
   },
   {
    "duration": 8,
    "start_time": "2022-05-10T09:29:41.743Z"
   },
   {
    "duration": 13,
    "start_time": "2022-05-10T09:29:41.753Z"
   },
   {
    "duration": 21,
    "start_time": "2022-05-10T09:29:41.767Z"
   },
   {
    "duration": 46,
    "start_time": "2022-05-10T09:29:41.790Z"
   },
   {
    "duration": 33,
    "start_time": "2022-05-10T09:29:41.838Z"
   },
   {
    "duration": 36,
    "start_time": "2022-05-10T09:30:47.635Z"
   },
   {
    "duration": 14,
    "start_time": "2022-05-10T09:31:24.157Z"
   },
   {
    "duration": 16,
    "start_time": "2022-05-10T09:31:28.044Z"
   },
   {
    "duration": 13,
    "start_time": "2022-05-10T09:31:34.721Z"
   },
   {
    "duration": 276,
    "start_time": "2022-05-10T09:31:42.686Z"
   },
   {
    "duration": 39,
    "start_time": "2022-05-10T09:31:42.964Z"
   },
   {
    "duration": 169,
    "start_time": "2022-05-10T09:39:46.590Z"
   },
   {
    "duration": 18,
    "start_time": "2022-05-10T09:40:05.309Z"
   },
   {
    "duration": 14,
    "start_time": "2022-05-10T09:40:31.305Z"
   },
   {
    "duration": 39,
    "start_time": "2022-05-10T09:40:33.076Z"
   },
   {
    "duration": 20,
    "start_time": "2022-05-10T09:57:33.110Z"
   },
   {
    "duration": 6,
    "start_time": "2022-05-10T11:01:03.806Z"
   },
   {
    "duration": 6,
    "start_time": "2022-05-10T11:01:19.528Z"
   },
   {
    "duration": 5,
    "start_time": "2022-05-10T11:01:24.675Z"
   },
   {
    "duration": 8,
    "start_time": "2022-05-10T11:01:53.204Z"
   },
   {
    "duration": 3,
    "start_time": "2022-05-10T11:02:00.176Z"
   },
   {
    "duration": 135,
    "start_time": "2022-05-10T11:02:14.133Z"
   },
   {
    "duration": 6,
    "start_time": "2022-05-10T11:02:16.989Z"
   },
   {
    "duration": 30,
    "start_time": "2022-05-10T11:06:07.047Z"
   },
   {
    "duration": 29,
    "start_time": "2022-05-10T11:06:15.627Z"
   },
   {
    "duration": 28,
    "start_time": "2022-05-10T11:13:20.775Z"
   },
   {
    "duration": 35,
    "start_time": "2022-05-10T11:13:33.838Z"
   },
   {
    "duration": 28,
    "start_time": "2022-05-10T11:13:40.965Z"
   },
   {
    "duration": 24,
    "start_time": "2022-05-10T11:15:52.816Z"
   },
   {
    "duration": 7,
    "start_time": "2022-05-10T11:15:57.138Z"
   },
   {
    "duration": 9,
    "start_time": "2022-05-10T11:23:00.740Z"
   },
   {
    "duration": 2284,
    "start_time": "2022-05-10T11:23:14.429Z"
   },
   {
    "duration": 2143,
    "start_time": "2022-05-10T11:23:26.512Z"
   },
   {
    "duration": 2201,
    "start_time": "2022-05-10T11:23:31.785Z"
   },
   {
    "duration": 5,
    "start_time": "2022-05-10T11:23:43.227Z"
   },
   {
    "duration": 2233,
    "start_time": "2022-05-10T11:23:47.448Z"
   },
   {
    "duration": 4,
    "start_time": "2022-05-10T11:23:53.506Z"
   },
   {
    "duration": 6,
    "start_time": "2022-05-10T11:24:02.680Z"
   },
   {
    "duration": 2157,
    "start_time": "2022-05-10T11:24:06.522Z"
   },
   {
    "duration": 5,
    "start_time": "2022-05-10T11:24:12.633Z"
   },
   {
    "duration": 29,
    "start_time": "2022-05-10T11:25:16.876Z"
   },
   {
    "duration": 8,
    "start_time": "2022-05-10T11:25:21.935Z"
   },
   {
    "duration": 8,
    "start_time": "2022-05-10T11:25:24.449Z"
   },
   {
    "duration": 7,
    "start_time": "2022-05-10T11:25:34.114Z"
   },
   {
    "duration": 9,
    "start_time": "2022-05-10T11:26:13.305Z"
   },
   {
    "duration": 11,
    "start_time": "2022-05-10T11:26:32.353Z"
   },
   {
    "duration": 11,
    "start_time": "2022-05-10T11:26:37.329Z"
   },
   {
    "duration": 10,
    "start_time": "2022-05-10T11:26:53.637Z"
   },
   {
    "duration": 12,
    "start_time": "2022-05-10T11:26:55.274Z"
   },
   {
    "duration": 11,
    "start_time": "2022-05-10T11:26:59.591Z"
   },
   {
    "duration": 9,
    "start_time": "2022-05-10T11:27:39.025Z"
   },
   {
    "duration": 1481,
    "start_time": "2022-05-10T11:27:45.823Z"
   },
   {
    "duration": 671,
    "start_time": "2022-05-10T11:27:47.305Z"
   },
   {
    "duration": 44,
    "start_time": "2022-05-10T11:27:47.978Z"
   },
   {
    "duration": 609,
    "start_time": "2022-05-10T11:27:48.024Z"
   },
   {
    "duration": 41,
    "start_time": "2022-05-10T11:27:48.635Z"
   },
   {
    "duration": 245,
    "start_time": "2022-05-10T11:27:48.678Z"
   },
   {
    "duration": 24,
    "start_time": "2022-05-10T11:27:48.925Z"
   },
   {
    "duration": 251,
    "start_time": "2022-05-10T11:27:48.951Z"
   },
   {
    "duration": 680,
    "start_time": "2022-05-10T11:27:49.204Z"
   },
   {
    "duration": 6,
    "start_time": "2022-05-10T11:27:49.888Z"
   },
   {
    "duration": 6,
    "start_time": "2022-05-10T11:27:49.896Z"
   },
   {
    "duration": 6,
    "start_time": "2022-05-10T11:27:49.904Z"
   },
   {
    "duration": 26,
    "start_time": "2022-05-10T11:27:49.912Z"
   },
   {
    "duration": 13,
    "start_time": "2022-05-10T11:27:49.940Z"
   },
   {
    "duration": 8,
    "start_time": "2022-05-10T11:27:49.954Z"
   },
   {
    "duration": 8,
    "start_time": "2022-05-10T11:27:49.963Z"
   },
   {
    "duration": 13,
    "start_time": "2022-05-10T11:27:49.973Z"
   },
   {
    "duration": 51,
    "start_time": "2022-05-10T11:27:49.988Z"
   },
   {
    "duration": 10,
    "start_time": "2022-05-10T11:27:50.041Z"
   },
   {
    "duration": 13,
    "start_time": "2022-05-10T11:27:50.052Z"
   },
   {
    "duration": 10,
    "start_time": "2022-05-10T11:27:50.066Z"
   },
   {
    "duration": 109,
    "start_time": "2022-05-10T11:29:18.271Z"
   },
   {
    "duration": 5,
    "start_time": "2022-05-10T11:29:24.347Z"
   },
   {
    "duration": 8,
    "start_time": "2022-05-10T11:29:25.381Z"
   },
   {
    "duration": 9,
    "start_time": "2022-05-10T11:30:02.070Z"
   },
   {
    "duration": 8,
    "start_time": "2022-05-10T11:30:02.667Z"
   },
   {
    "duration": 15,
    "start_time": "2022-05-10T11:30:17.379Z"
   },
   {
    "duration": 1447,
    "start_time": "2022-05-10T11:30:40.602Z"
   },
   {
    "duration": 1558,
    "start_time": "2022-05-10T11:30:42.051Z"
   },
   {
    "duration": 33,
    "start_time": "2022-05-10T11:30:43.611Z"
   },
   {
    "duration": 619,
    "start_time": "2022-05-10T11:30:43.647Z"
   },
   {
    "duration": 47,
    "start_time": "2022-05-10T11:30:44.268Z"
   },
   {
    "duration": 235,
    "start_time": "2022-05-10T11:30:44.334Z"
   },
   {
    "duration": 17,
    "start_time": "2022-05-10T11:30:44.571Z"
   },
   {
    "duration": 260,
    "start_time": "2022-05-10T11:30:44.589Z"
   },
   {
    "duration": 683,
    "start_time": "2022-05-10T11:30:44.851Z"
   },
   {
    "duration": 7,
    "start_time": "2022-05-10T11:30:45.538Z"
   },
   {
    "duration": 7,
    "start_time": "2022-05-10T11:30:45.548Z"
   },
   {
    "duration": 6,
    "start_time": "2022-05-10T11:30:45.558Z"
   },
   {
    "duration": 9,
    "start_time": "2022-05-10T11:30:45.565Z"
   },
   {
    "duration": 12,
    "start_time": "2022-05-10T11:30:45.576Z"
   },
   {
    "duration": 47,
    "start_time": "2022-05-10T11:30:45.590Z"
   },
   {
    "duration": 10,
    "start_time": "2022-05-10T11:30:45.639Z"
   },
   {
    "duration": 15,
    "start_time": "2022-05-10T11:30:45.650Z"
   },
   {
    "duration": 14,
    "start_time": "2022-05-10T11:30:45.667Z"
   },
   {
    "duration": 8,
    "start_time": "2022-05-10T11:30:45.683Z"
   },
   {
    "duration": 41,
    "start_time": "2022-05-10T11:30:45.692Z"
   },
   {
    "duration": 6,
    "start_time": "2022-05-10T11:30:45.735Z"
   },
   {
    "duration": 19,
    "start_time": "2022-05-10T11:30:45.742Z"
   },
   {
    "duration": 10,
    "start_time": "2022-05-10T11:30:45.763Z"
   },
   {
    "duration": 15,
    "start_time": "2022-05-10T11:30:45.775Z"
   },
   {
    "duration": 4,
    "start_time": "2022-05-10T11:31:30.570Z"
   },
   {
    "duration": 1454,
    "start_time": "2022-05-10T11:34:14.695Z"
   },
   {
    "duration": 672,
    "start_time": "2022-05-10T11:34:16.153Z"
   },
   {
    "duration": 34,
    "start_time": "2022-05-10T11:34:16.826Z"
   },
   {
    "duration": 602,
    "start_time": "2022-05-10T11:34:16.863Z"
   },
   {
    "duration": 39,
    "start_time": "2022-05-10T11:34:17.467Z"
   },
   {
    "duration": 243,
    "start_time": "2022-05-10T11:34:17.508Z"
   },
   {
    "duration": 17,
    "start_time": "2022-05-10T11:34:17.753Z"
   },
   {
    "duration": 242,
    "start_time": "2022-05-10T11:34:17.771Z"
   },
   {
    "duration": 670,
    "start_time": "2022-05-10T11:34:18.014Z"
   },
   {
    "duration": 6,
    "start_time": "2022-05-10T11:34:18.685Z"
   },
   {
    "duration": 7,
    "start_time": "2022-05-10T11:34:18.693Z"
   },
   {
    "duration": 6,
    "start_time": "2022-05-10T11:34:18.702Z"
   },
   {
    "duration": 25,
    "start_time": "2022-05-10T11:34:18.711Z"
   },
   {
    "duration": 11,
    "start_time": "2022-05-10T11:34:18.738Z"
   },
   {
    "duration": 8,
    "start_time": "2022-05-10T11:34:18.750Z"
   },
   {
    "duration": 8,
    "start_time": "2022-05-10T11:34:18.760Z"
   },
   {
    "duration": 14,
    "start_time": "2022-05-10T11:34:18.769Z"
   },
   {
    "duration": 5,
    "start_time": "2022-05-10T11:34:18.785Z"
   },
   {
    "duration": 9,
    "start_time": "2022-05-10T11:35:41.463Z"
   },
   {
    "duration": 8,
    "start_time": "2022-05-10T11:36:01.564Z"
   },
   {
    "duration": 16,
    "start_time": "2022-05-10T11:36:14.737Z"
   },
   {
    "duration": 24,
    "start_time": "2022-05-10T11:36:36.043Z"
   },
   {
    "duration": 38,
    "start_time": "2022-05-10T11:37:55.567Z"
   },
   {
    "duration": 41,
    "start_time": "2022-05-10T11:38:02.918Z"
   },
   {
    "duration": 19,
    "start_time": "2022-05-10T11:38:11.417Z"
   },
   {
    "duration": 17,
    "start_time": "2022-05-10T11:38:26.078Z"
   },
   {
    "duration": 17,
    "start_time": "2022-05-10T11:38:44.027Z"
   },
   {
    "duration": 143,
    "start_time": "2022-05-10T11:39:05.081Z"
   },
   {
    "duration": 62,
    "start_time": "2022-05-10T11:39:15.026Z"
   },
   {
    "duration": 19,
    "start_time": "2022-05-10T11:39:19.936Z"
   },
   {
    "duration": 18,
    "start_time": "2022-05-10T11:39:23.128Z"
   },
   {
    "duration": 17,
    "start_time": "2022-05-10T11:39:35.354Z"
   },
   {
    "duration": 17,
    "start_time": "2022-05-10T11:39:40.351Z"
   },
   {
    "duration": 29,
    "start_time": "2022-05-10T11:39:47.432Z"
   },
   {
    "duration": 9,
    "start_time": "2022-05-10T11:40:58.186Z"
   },
   {
    "duration": 9,
    "start_time": "2022-05-10T11:41:18.158Z"
   },
   {
    "duration": 8,
    "start_time": "2022-05-10T11:41:22.545Z"
   },
   {
    "duration": 7,
    "start_time": "2022-05-10T11:41:28.494Z"
   },
   {
    "duration": 14,
    "start_time": "2022-05-10T11:41:38.235Z"
   },
   {
    "duration": 9,
    "start_time": "2022-05-10T11:42:08.141Z"
   },
   {
    "duration": 1504,
    "start_time": "2022-05-10T11:42:21.924Z"
   },
   {
    "duration": 1166,
    "start_time": "2022-05-10T11:42:23.430Z"
   },
   {
    "duration": 33,
    "start_time": "2022-05-10T11:42:24.598Z"
   },
   {
    "duration": 616,
    "start_time": "2022-05-10T11:42:24.633Z"
   },
   {
    "duration": 41,
    "start_time": "2022-05-10T11:42:25.250Z"
   },
   {
    "duration": 264,
    "start_time": "2022-05-10T11:42:25.293Z"
   },
   {
    "duration": 18,
    "start_time": "2022-05-10T11:42:25.559Z"
   },
   {
    "duration": 246,
    "start_time": "2022-05-10T11:42:25.579Z"
   },
   {
    "duration": 676,
    "start_time": "2022-05-10T11:42:25.834Z"
   },
   {
    "duration": 7,
    "start_time": "2022-05-10T11:42:26.513Z"
   },
   {
    "duration": 4,
    "start_time": "2022-05-10T11:42:26.534Z"
   },
   {
    "duration": 9,
    "start_time": "2022-05-10T11:42:26.540Z"
   },
   {
    "duration": 9,
    "start_time": "2022-05-10T11:42:26.551Z"
   },
   {
    "duration": 11,
    "start_time": "2022-05-10T11:42:26.562Z"
   },
   {
    "duration": 11,
    "start_time": "2022-05-10T11:42:26.575Z"
   },
   {
    "duration": 9,
    "start_time": "2022-05-10T11:42:26.588Z"
   },
   {
    "duration": 33,
    "start_time": "2022-05-10T11:42:26.600Z"
   },
   {
    "duration": 6,
    "start_time": "2022-05-10T11:42:26.635Z"
   },
   {
    "duration": 24,
    "start_time": "2022-05-10T11:42:26.642Z"
   },
   {
    "duration": 13,
    "start_time": "2022-05-10T11:43:41.669Z"
   },
   {
    "duration": 5,
    "start_time": "2022-05-10T11:43:42.007Z"
   },
   {
    "duration": 170,
    "start_time": "2022-05-10T11:54:31.914Z"
   },
   {
    "duration": 3,
    "start_time": "2022-05-10T11:56:49.888Z"
   },
   {
    "duration": 106,
    "start_time": "2022-05-10T11:56:55.204Z"
   },
   {
    "duration": 1931,
    "start_time": "2022-05-10T11:56:58.617Z"
   },
   {
    "duration": 1511,
    "start_time": "2022-05-10T12:03:23.413Z"
   },
   {
    "duration": 750,
    "start_time": "2022-05-10T12:03:24.926Z"
   },
   {
    "duration": 33,
    "start_time": "2022-05-10T12:03:25.678Z"
   },
   {
    "duration": 691,
    "start_time": "2022-05-10T12:03:25.713Z"
   },
   {
    "duration": 59,
    "start_time": "2022-05-10T12:03:26.406Z"
   },
   {
    "duration": 263,
    "start_time": "2022-05-10T12:03:26.467Z"
   },
   {
    "duration": 23,
    "start_time": "2022-05-10T12:03:26.735Z"
   },
   {
    "duration": 263,
    "start_time": "2022-05-10T12:03:26.760Z"
   },
   {
    "duration": 754,
    "start_time": "2022-05-10T12:03:27.025Z"
   },
   {
    "duration": 7,
    "start_time": "2022-05-10T12:03:27.781Z"
   },
   {
    "duration": 7,
    "start_time": "2022-05-10T12:03:27.790Z"
   },
   {
    "duration": 8,
    "start_time": "2022-05-10T12:03:27.799Z"
   },
   {
    "duration": 29,
    "start_time": "2022-05-10T12:03:27.809Z"
   },
   {
    "duration": 15,
    "start_time": "2022-05-10T12:03:27.842Z"
   },
   {
    "duration": 6,
    "start_time": "2022-05-10T12:03:27.859Z"
   },
   {
    "duration": 27,
    "start_time": "2022-05-10T12:03:27.867Z"
   },
   {
    "duration": 17,
    "start_time": "2022-05-10T12:03:27.895Z"
   },
   {
    "duration": 23,
    "start_time": "2022-05-10T12:03:27.914Z"
   },
   {
    "duration": 37,
    "start_time": "2022-05-10T12:03:27.940Z"
   },
   {
    "duration": 9,
    "start_time": "2022-05-10T12:03:52.588Z"
   },
   {
    "duration": 7,
    "start_time": "2022-05-10T12:04:12.976Z"
   },
   {
    "duration": 23,
    "start_time": "2022-05-10T12:04:31.990Z"
   },
   {
    "duration": 5,
    "start_time": "2022-05-10T12:04:32.612Z"
   },
   {
    "duration": 32,
    "start_time": "2022-05-10T12:04:32.882Z"
   },
   {
    "duration": 19,
    "start_time": "2022-05-10T12:04:52.501Z"
   },
   {
    "duration": 5,
    "start_time": "2022-05-10T12:04:52.774Z"
   },
   {
    "duration": 33,
    "start_time": "2022-05-10T12:04:52.891Z"
   },
   {
    "duration": 18,
    "start_time": "2022-05-10T14:06:55.269Z"
   },
   {
    "duration": 110,
    "start_time": "2022-05-10T14:06:55.617Z"
   },
   {
    "duration": 25,
    "start_time": "2022-05-10T14:06:55.768Z"
   },
   {
    "duration": 1446,
    "start_time": "2022-05-10T14:07:10.146Z"
   },
   {
    "duration": 7719,
    "start_time": "2022-05-10T14:07:11.594Z"
   },
   {
    "duration": 34,
    "start_time": "2022-05-10T14:07:19.314Z"
   },
   {
    "duration": 596,
    "start_time": "2022-05-10T14:07:19.350Z"
   },
   {
    "duration": 40,
    "start_time": "2022-05-10T14:07:19.948Z"
   },
   {
    "duration": 247,
    "start_time": "2022-05-10T14:07:19.989Z"
   },
   {
    "duration": 17,
    "start_time": "2022-05-10T14:07:20.237Z"
   },
   {
    "duration": 238,
    "start_time": "2022-05-10T14:07:20.255Z"
   },
   {
    "duration": 663,
    "start_time": "2022-05-10T14:07:20.495Z"
   },
   {
    "duration": 6,
    "start_time": "2022-05-10T14:07:21.161Z"
   },
   {
    "duration": 6,
    "start_time": "2022-05-10T14:07:21.169Z"
   },
   {
    "duration": 6,
    "start_time": "2022-05-10T14:07:21.176Z"
   },
   {
    "duration": 9,
    "start_time": "2022-05-10T14:07:21.184Z"
   },
   {
    "duration": 11,
    "start_time": "2022-05-10T14:07:21.195Z"
   },
   {
    "duration": 29,
    "start_time": "2022-05-10T14:07:21.207Z"
   },
   {
    "duration": 8,
    "start_time": "2022-05-10T14:07:21.238Z"
   },
   {
    "duration": 14,
    "start_time": "2022-05-10T14:07:21.248Z"
   },
   {
    "duration": 22,
    "start_time": "2022-05-10T14:07:21.264Z"
   },
   {
    "duration": 142,
    "start_time": "2022-05-10T14:07:21.288Z"
   },
   {
    "duration": 0,
    "start_time": "2022-05-10T14:07:21.432Z"
   },
   {
    "duration": 11,
    "start_time": "2022-05-10T14:07:41.106Z"
   },
   {
    "duration": 9,
    "start_time": "2022-05-10T14:07:42.389Z"
   },
   {
    "duration": 11,
    "start_time": "2022-05-10T14:08:05.324Z"
   },
   {
    "duration": 10,
    "start_time": "2022-05-10T14:08:55.153Z"
   },
   {
    "duration": 10,
    "start_time": "2022-05-10T14:08:57.525Z"
   },
   {
    "duration": 12,
    "start_time": "2022-05-10T14:09:01.195Z"
   },
   {
    "duration": 3,
    "start_time": "2022-05-10T14:09:11.518Z"
   },
   {
    "duration": 4,
    "start_time": "2022-05-10T14:09:12.817Z"
   },
   {
    "duration": 4,
    "start_time": "2022-05-10T14:09:13.511Z"
   },
   {
    "duration": 3,
    "start_time": "2022-05-10T14:09:14.632Z"
   },
   {
    "duration": 1545,
    "start_time": "2022-05-10T14:09:18.928Z"
   },
   {
    "duration": 706,
    "start_time": "2022-05-10T14:09:20.475Z"
   },
   {
    "duration": 34,
    "start_time": "2022-05-10T14:09:21.183Z"
   },
   {
    "duration": 662,
    "start_time": "2022-05-10T14:09:21.220Z"
   },
   {
    "duration": 57,
    "start_time": "2022-05-10T14:09:21.883Z"
   },
   {
    "duration": 260,
    "start_time": "2022-05-10T14:09:21.942Z"
   },
   {
    "duration": 37,
    "start_time": "2022-05-10T14:09:22.205Z"
   },
   {
    "duration": 261,
    "start_time": "2022-05-10T14:09:22.243Z"
   },
   {
    "duration": 748,
    "start_time": "2022-05-10T14:09:22.506Z"
   },
   {
    "duration": 7,
    "start_time": "2022-05-10T14:09:23.257Z"
   },
   {
    "duration": 8,
    "start_time": "2022-05-10T14:09:23.266Z"
   },
   {
    "duration": 24,
    "start_time": "2022-05-10T14:09:23.276Z"
   },
   {
    "duration": 15,
    "start_time": "2022-05-10T14:09:23.303Z"
   },
   {
    "duration": 20,
    "start_time": "2022-05-10T14:09:23.321Z"
   },
   {
    "duration": 8,
    "start_time": "2022-05-10T14:09:23.343Z"
   },
   {
    "duration": 10,
    "start_time": "2022-05-10T14:09:23.353Z"
   },
   {
    "duration": 16,
    "start_time": "2022-05-10T14:09:23.365Z"
   },
   {
    "duration": 59,
    "start_time": "2022-05-10T14:09:23.383Z"
   },
   {
    "duration": 2,
    "start_time": "2022-05-10T14:09:23.444Z"
   },
   {
    "duration": 131,
    "start_time": "2022-05-10T14:09:23.448Z"
   },
   {
    "duration": 0,
    "start_time": "2022-05-10T14:09:23.581Z"
   },
   {
    "duration": 2,
    "start_time": "2022-05-10T14:09:30.140Z"
   },
   {
    "duration": 1561,
    "start_time": "2022-05-10T14:09:35.916Z"
   },
   {
    "duration": 711,
    "start_time": "2022-05-10T14:09:37.480Z"
   },
   {
    "duration": 44,
    "start_time": "2022-05-10T14:09:38.193Z"
   },
   {
    "duration": 648,
    "start_time": "2022-05-10T14:09:38.239Z"
   },
   {
    "duration": 53,
    "start_time": "2022-05-10T14:09:38.889Z"
   },
   {
    "duration": 263,
    "start_time": "2022-05-10T14:09:38.944Z"
   },
   {
    "duration": 31,
    "start_time": "2022-05-10T14:09:39.209Z"
   },
   {
    "duration": 259,
    "start_time": "2022-05-10T14:09:39.242Z"
   },
   {
    "duration": 709,
    "start_time": "2022-05-10T14:09:39.503Z"
   },
   {
    "duration": 7,
    "start_time": "2022-05-10T14:09:40.215Z"
   },
   {
    "duration": 5,
    "start_time": "2022-05-10T14:09:40.234Z"
   },
   {
    "duration": 7,
    "start_time": "2022-05-10T14:09:40.241Z"
   },
   {
    "duration": 14,
    "start_time": "2022-05-10T14:09:40.250Z"
   },
   {
    "duration": 16,
    "start_time": "2022-05-10T14:09:40.267Z"
   },
   {
    "duration": 6,
    "start_time": "2022-05-10T14:09:40.285Z"
   },
   {
    "duration": 44,
    "start_time": "2022-05-10T14:09:40.294Z"
   },
   {
    "duration": 17,
    "start_time": "2022-05-10T14:09:40.340Z"
   },
   {
    "duration": 3,
    "start_time": "2022-05-10T14:09:40.359Z"
   },
   {
    "duration": 33,
    "start_time": "2022-05-10T14:09:40.364Z"
   },
   {
    "duration": 6,
    "start_time": "2022-05-10T14:09:40.399Z"
   },
   {
    "duration": 58,
    "start_time": "2022-05-10T14:09:40.407Z"
   },
   {
    "duration": 5,
    "start_time": "2022-05-10T14:10:00.168Z"
   },
   {
    "duration": 3,
    "start_time": "2022-05-10T14:10:02.258Z"
   },
   {
    "duration": 1619,
    "start_time": "2022-05-10T14:10:15.460Z"
   },
   {
    "duration": 841,
    "start_time": "2022-05-10T14:10:17.082Z"
   },
   {
    "duration": 54,
    "start_time": "2022-05-10T14:10:17.925Z"
   },
   {
    "duration": 709,
    "start_time": "2022-05-10T14:10:17.981Z"
   },
   {
    "duration": 51,
    "start_time": "2022-05-10T14:10:18.692Z"
   },
   {
    "duration": 255,
    "start_time": "2022-05-10T14:10:18.745Z"
   },
   {
    "duration": 35,
    "start_time": "2022-05-10T14:10:19.002Z"
   },
   {
    "duration": 261,
    "start_time": "2022-05-10T14:10:19.039Z"
   },
   {
    "duration": 791,
    "start_time": "2022-05-10T14:10:19.302Z"
   },
   {
    "duration": 6,
    "start_time": "2022-05-10T14:10:20.096Z"
   },
   {
    "duration": 24,
    "start_time": "2022-05-10T14:10:20.104Z"
   },
   {
    "duration": 14,
    "start_time": "2022-05-10T14:10:20.130Z"
   },
   {
    "duration": 20,
    "start_time": "2022-05-10T14:10:20.146Z"
   },
   {
    "duration": 25,
    "start_time": "2022-05-10T14:10:20.168Z"
   },
   {
    "duration": 13,
    "start_time": "2022-05-10T14:10:20.195Z"
   },
   {
    "duration": 24,
    "start_time": "2022-05-10T14:10:20.210Z"
   },
   {
    "duration": 18,
    "start_time": "2022-05-10T14:10:20.236Z"
   },
   {
    "duration": 24,
    "start_time": "2022-05-10T14:10:20.256Z"
   },
   {
    "duration": 23,
    "start_time": "2022-05-10T14:10:20.282Z"
   },
   {
    "duration": 18,
    "start_time": "2022-05-10T14:10:20.309Z"
   },
   {
    "duration": 25,
    "start_time": "2022-05-10T14:13:20.344Z"
   },
   {
    "duration": 45,
    "start_time": "2022-05-10T14:13:24.048Z"
   },
   {
    "duration": 22,
    "start_time": "2022-05-10T14:13:30.770Z"
   },
   {
    "duration": 34,
    "start_time": "2022-05-10T14:13:38.305Z"
   },
   {
    "duration": 6,
    "start_time": "2022-05-10T14:13:39.492Z"
   },
   {
    "duration": 33,
    "start_time": "2022-05-10T14:13:39.718Z"
   },
   {
    "duration": 1387,
    "start_time": "2022-05-10T14:13:44.474Z"
   },
   {
    "duration": 731,
    "start_time": "2022-05-10T14:13:45.864Z"
   },
   {
    "duration": 38,
    "start_time": "2022-05-10T14:13:46.597Z"
   },
   {
    "duration": 613,
    "start_time": "2022-05-10T14:13:46.637Z"
   },
   {
    "duration": 40,
    "start_time": "2022-05-10T14:13:47.252Z"
   },
   {
    "duration": 247,
    "start_time": "2022-05-10T14:13:47.294Z"
   },
   {
    "duration": 18,
    "start_time": "2022-05-10T14:13:47.543Z"
   },
   {
    "duration": 244,
    "start_time": "2022-05-10T14:13:47.563Z"
   },
   {
    "duration": 668,
    "start_time": "2022-05-10T14:13:47.809Z"
   },
   {
    "duration": 6,
    "start_time": "2022-05-10T14:13:48.480Z"
   },
   {
    "duration": 8,
    "start_time": "2022-05-10T14:13:48.488Z"
   },
   {
    "duration": 5,
    "start_time": "2022-05-10T14:13:48.498Z"
   },
   {
    "duration": 9,
    "start_time": "2022-05-10T14:13:48.504Z"
   },
   {
    "duration": 26,
    "start_time": "2022-05-10T14:13:48.515Z"
   },
   {
    "duration": 5,
    "start_time": "2022-05-10T14:13:48.543Z"
   },
   {
    "duration": 8,
    "start_time": "2022-05-10T14:13:48.550Z"
   },
   {
    "duration": 15,
    "start_time": "2022-05-10T14:13:48.560Z"
   },
   {
    "duration": 24,
    "start_time": "2022-05-10T14:13:48.577Z"
   },
   {
    "duration": 30,
    "start_time": "2022-05-10T14:13:48.603Z"
   },
   {
    "duration": 30,
    "start_time": "2022-05-10T14:13:48.635Z"
   },
   {
    "duration": 31,
    "start_time": "2022-05-10T14:13:53.080Z"
   },
   {
    "duration": 23,
    "start_time": "2022-05-10T14:30:12.013Z"
   },
   {
    "duration": 6,
    "start_time": "2022-05-10T14:47:19.030Z"
   },
   {
    "duration": 2340,
    "start_time": "2022-05-10T15:00:59.927Z"
   },
   {
    "duration": 172,
    "start_time": "2022-05-10T15:01:19.653Z"
   },
   {
    "duration": 129,
    "start_time": "2022-05-10T15:01:21.854Z"
   },
   {
    "duration": 4,
    "start_time": "2022-05-10T15:01:23.279Z"
   },
   {
    "duration": 20,
    "start_time": "2022-05-10T15:01:28.806Z"
   },
   {
    "duration": 14,
    "start_time": "2022-05-10T15:01:50.987Z"
   },
   {
    "duration": 25,
    "start_time": "2022-05-10T15:01:51.656Z"
   },
   {
    "duration": 6,
    "start_time": "2022-05-10T15:01:52.110Z"
   },
   {
    "duration": 34,
    "start_time": "2022-05-10T15:01:52.391Z"
   },
   {
    "duration": 6,
    "start_time": "2022-05-10T15:01:54.043Z"
   },
   {
    "duration": 16,
    "start_time": "2022-05-10T15:02:05.761Z"
   },
   {
    "duration": 7,
    "start_time": "2022-05-10T15:03:16.585Z"
   },
   {
    "duration": 6,
    "start_time": "2022-05-10T15:03:55.584Z"
   },
   {
    "duration": 9,
    "start_time": "2022-05-10T15:03:58.372Z"
   },
   {
    "duration": 2419,
    "start_time": "2022-05-10T15:04:30.319Z"
   },
   {
    "duration": 2327,
    "start_time": "2022-05-10T15:04:33.217Z"
   },
   {
    "duration": 140,
    "start_time": "2022-05-10T15:04:39.395Z"
   },
   {
    "duration": 1112,
    "start_time": "2022-05-10T15:04:42.177Z"
   },
   {
    "duration": 1161,
    "start_time": "2022-05-10T15:04:56.663Z"
   },
   {
    "duration": 8,
    "start_time": "2022-05-10T15:05:06.287Z"
   },
   {
    "duration": 12,
    "start_time": "2022-05-10T15:07:14.336Z"
   },
   {
    "duration": 8,
    "start_time": "2022-05-10T15:09:03.162Z"
   },
   {
    "duration": 8,
    "start_time": "2022-05-10T15:09:36.054Z"
   },
   {
    "duration": 7,
    "start_time": "2022-05-10T15:09:40.635Z"
   },
   {
    "duration": 7,
    "start_time": "2022-05-10T15:09:43.408Z"
   },
   {
    "duration": 2725,
    "start_time": "2022-05-10T15:10:02.808Z"
   },
   {
    "duration": 1167,
    "start_time": "2022-05-10T15:10:29.236Z"
   },
   {
    "duration": 7,
    "start_time": "2022-05-10T15:10:36.257Z"
   },
   {
    "duration": 169,
    "start_time": "2022-05-10T15:12:44.828Z"
   },
   {
    "duration": 15,
    "start_time": "2022-05-10T15:12:48.640Z"
   },
   {
    "duration": 15,
    "start_time": "2022-05-10T15:12:58.531Z"
   },
   {
    "duration": 12,
    "start_time": "2022-05-10T15:14:57.490Z"
   },
   {
    "duration": 14,
    "start_time": "2022-05-10T15:15:01.964Z"
   },
   {
    "duration": 12,
    "start_time": "2022-05-10T15:15:04.300Z"
   },
   {
    "duration": 11,
    "start_time": "2022-05-10T15:15:10.149Z"
   },
   {
    "duration": 12,
    "start_time": "2022-05-10T15:15:12.334Z"
   },
   {
    "duration": 17,
    "start_time": "2022-05-10T15:15:15.272Z"
   },
   {
    "duration": 7,
    "start_time": "2022-05-10T15:19:43.030Z"
   },
   {
    "duration": 15,
    "start_time": "2022-05-10T15:19:51.046Z"
   },
   {
    "duration": 8,
    "start_time": "2022-05-10T15:20:05.071Z"
   },
   {
    "duration": 20,
    "start_time": "2022-05-10T15:20:15.546Z"
   },
   {
    "duration": 10,
    "start_time": "2022-05-10T15:20:21.176Z"
   },
   {
    "duration": 30,
    "start_time": "2022-05-10T15:21:39.089Z"
   },
   {
    "duration": 4,
    "start_time": "2022-05-10T15:21:53.713Z"
   },
   {
    "duration": 16,
    "start_time": "2022-05-10T15:21:53.900Z"
   },
   {
    "duration": 21,
    "start_time": "2022-05-10T15:21:54.074Z"
   },
   {
    "duration": 14,
    "start_time": "2022-05-10T15:22:16.746Z"
   },
   {
    "duration": 8,
    "start_time": "2022-05-10T15:23:26.206Z"
   },
   {
    "duration": 7,
    "start_time": "2022-05-10T15:24:06.250Z"
   },
   {
    "duration": 1463,
    "start_time": "2022-05-10T15:24:11.686Z"
   },
   {
    "duration": 741,
    "start_time": "2022-05-10T15:24:13.151Z"
   },
   {
    "duration": 39,
    "start_time": "2022-05-10T15:24:13.894Z"
   },
   {
    "duration": 651,
    "start_time": "2022-05-10T15:24:13.936Z"
   },
   {
    "duration": 56,
    "start_time": "2022-05-10T15:24:14.589Z"
   },
   {
    "duration": 249,
    "start_time": "2022-05-10T15:24:14.647Z"
   },
   {
    "duration": 17,
    "start_time": "2022-05-10T15:24:14.898Z"
   },
   {
    "duration": 246,
    "start_time": "2022-05-10T15:24:14.933Z"
   },
   {
    "duration": 704,
    "start_time": "2022-05-10T15:24:15.181Z"
   },
   {
    "duration": 7,
    "start_time": "2022-05-10T15:24:15.888Z"
   },
   {
    "duration": 16,
    "start_time": "2022-05-10T15:24:15.896Z"
   },
   {
    "duration": 15,
    "start_time": "2022-05-10T15:24:15.913Z"
   },
   {
    "duration": 10,
    "start_time": "2022-05-10T15:24:15.930Z"
   },
   {
    "duration": 12,
    "start_time": "2022-05-10T15:24:15.942Z"
   },
   {
    "duration": 13,
    "start_time": "2022-05-10T15:24:15.955Z"
   },
   {
    "duration": 9,
    "start_time": "2022-05-10T15:24:15.970Z"
   },
   {
    "duration": 13,
    "start_time": "2022-05-10T15:24:15.981Z"
   },
   {
    "duration": 51,
    "start_time": "2022-05-10T15:24:15.996Z"
   },
   {
    "duration": 6,
    "start_time": "2022-05-10T15:24:16.048Z"
   },
   {
    "duration": 36,
    "start_time": "2022-05-10T15:24:16.056Z"
   },
   {
    "duration": 6,
    "start_time": "2022-05-10T15:24:16.093Z"
   },
   {
    "duration": 9,
    "start_time": "2022-05-10T15:24:16.101Z"
   },
   {
    "duration": 35,
    "start_time": "2022-05-10T15:24:16.112Z"
   },
   {
    "duration": 11,
    "start_time": "2022-05-10T15:24:16.150Z"
   },
   {
    "duration": 129,
    "start_time": "2022-05-10T15:24:37.628Z"
   },
   {
    "duration": 115,
    "start_time": "2022-05-10T15:24:40.925Z"
   },
   {
    "duration": 7,
    "start_time": "2022-05-10T15:24:53.246Z"
   },
   {
    "duration": 5,
    "start_time": "2022-05-10T15:25:56.276Z"
   },
   {
    "duration": 11,
    "start_time": "2022-05-10T15:26:02.439Z"
   },
   {
    "duration": 5,
    "start_time": "2022-05-10T15:26:52.047Z"
   },
   {
    "duration": 4,
    "start_time": "2022-05-10T15:26:54.395Z"
   },
   {
    "duration": 1798,
    "start_time": "2022-05-10T15:27:00.010Z"
   },
   {
    "duration": 922,
    "start_time": "2022-05-10T15:27:01.810Z"
   },
   {
    "duration": 55,
    "start_time": "2022-05-10T15:27:02.734Z"
   },
   {
    "duration": 809,
    "start_time": "2022-05-10T15:27:02.793Z"
   },
   {
    "duration": 71,
    "start_time": "2022-05-10T15:27:03.604Z"
   },
   {
    "duration": 311,
    "start_time": "2022-05-10T15:27:03.677Z"
   },
   {
    "duration": 19,
    "start_time": "2022-05-10T15:27:03.990Z"
   },
   {
    "duration": 330,
    "start_time": "2022-05-10T15:27:04.011Z"
   },
   {
    "duration": 861,
    "start_time": "2022-05-10T15:27:04.344Z"
   },
   {
    "duration": 7,
    "start_time": "2022-05-10T15:27:05.208Z"
   },
   {
    "duration": 19,
    "start_time": "2022-05-10T15:27:05.217Z"
   },
   {
    "duration": 29,
    "start_time": "2022-05-10T15:27:05.239Z"
   },
   {
    "duration": 24,
    "start_time": "2022-05-10T15:27:05.270Z"
   },
   {
    "duration": 19,
    "start_time": "2022-05-10T15:27:05.296Z"
   },
   {
    "duration": 34,
    "start_time": "2022-05-10T15:27:05.317Z"
   },
   {
    "duration": 30,
    "start_time": "2022-05-10T15:27:05.353Z"
   },
   {
    "duration": 24,
    "start_time": "2022-05-10T15:27:05.385Z"
   },
   {
    "duration": 49,
    "start_time": "2022-05-10T15:27:05.412Z"
   },
   {
    "duration": 6,
    "start_time": "2022-05-10T15:27:05.462Z"
   },
   {
    "duration": 71,
    "start_time": "2022-05-10T15:27:05.470Z"
   },
   {
    "duration": 25,
    "start_time": "2022-05-10T15:27:05.544Z"
   },
   {
    "duration": 25,
    "start_time": "2022-05-10T15:27:05.571Z"
   },
   {
    "duration": 45,
    "start_time": "2022-05-10T15:27:05.598Z"
   },
   {
    "duration": 45,
    "start_time": "2022-05-10T15:27:05.646Z"
   },
   {
    "duration": 222,
    "start_time": "2022-05-10T15:27:05.693Z"
   },
   {
    "duration": 138,
    "start_time": "2022-05-10T15:27:17.578Z"
   },
   {
    "duration": 17,
    "start_time": "2022-05-10T15:27:20.231Z"
   },
   {
    "duration": 8,
    "start_time": "2022-05-10T15:30:57.424Z"
   },
   {
    "duration": 8,
    "start_time": "2022-05-10T15:57:24.021Z"
   },
   {
    "duration": 20,
    "start_time": "2022-05-10T15:57:25.639Z"
   },
   {
    "duration": 7,
    "start_time": "2022-05-10T15:57:37.728Z"
   },
   {
    "duration": 135,
    "start_time": "2022-05-10T15:58:05.728Z"
   },
   {
    "duration": 175,
    "start_time": "2022-05-10T15:58:09.624Z"
   },
   {
    "duration": 154,
    "start_time": "2022-05-10T15:58:20.375Z"
   },
   {
    "duration": 156,
    "start_time": "2022-05-10T15:58:43.369Z"
   },
   {
    "duration": 4,
    "start_time": "2022-05-10T15:59:35.356Z"
   },
   {
    "duration": 10,
    "start_time": "2022-05-10T15:59:43.301Z"
   },
   {
    "duration": 5,
    "start_time": "2022-05-10T15:59:48.127Z"
   },
   {
    "duration": 12,
    "start_time": "2022-05-10T15:59:55.868Z"
   },
   {
    "duration": 257,
    "start_time": "2022-05-10T16:00:06.237Z"
   },
   {
    "duration": 235,
    "start_time": "2022-05-10T16:08:55.142Z"
   },
   {
    "duration": 166,
    "start_time": "2022-05-10T16:27:19.485Z"
   },
   {
    "duration": 168,
    "start_time": "2022-05-10T16:27:34.622Z"
   },
   {
    "duration": 5,
    "start_time": "2022-05-10T17:35:12.953Z"
   },
   {
    "duration": 6,
    "start_time": "2022-05-10T17:36:27.450Z"
   },
   {
    "duration": 6,
    "start_time": "2022-05-10T17:36:47.558Z"
   },
   {
    "duration": 150,
    "start_time": "2022-05-10T17:37:44.814Z"
   },
   {
    "duration": 5,
    "start_time": "2022-05-10T17:38:21.989Z"
   },
   {
    "duration": 149,
    "start_time": "2022-05-10T17:39:36.211Z"
   },
   {
    "duration": 1409,
    "start_time": "2022-05-10T17:41:30.468Z"
   },
   {
    "duration": 4591,
    "start_time": "2022-05-10T17:41:31.879Z"
   },
   {
    "duration": 34,
    "start_time": "2022-05-10T17:41:36.472Z"
   },
   {
    "duration": 599,
    "start_time": "2022-05-10T17:41:36.509Z"
   },
   {
    "duration": 54,
    "start_time": "2022-05-10T17:41:37.111Z"
   },
   {
    "duration": 245,
    "start_time": "2022-05-10T17:41:37.167Z"
   },
   {
    "duration": 29,
    "start_time": "2022-05-10T17:41:37.414Z"
   },
   {
    "duration": 245,
    "start_time": "2022-05-10T17:41:37.445Z"
   },
   {
    "duration": 668,
    "start_time": "2022-05-10T17:41:37.692Z"
   },
   {
    "duration": 7,
    "start_time": "2022-05-10T17:41:38.363Z"
   },
   {
    "duration": 15,
    "start_time": "2022-05-10T17:41:38.372Z"
   },
   {
    "duration": 12,
    "start_time": "2022-05-10T17:41:38.389Z"
   },
   {
    "duration": 16,
    "start_time": "2022-05-10T17:41:38.402Z"
   },
   {
    "duration": 14,
    "start_time": "2022-05-10T17:41:38.420Z"
   },
   {
    "duration": 11,
    "start_time": "2022-05-10T17:41:38.436Z"
   },
   {
    "duration": 8,
    "start_time": "2022-05-10T17:41:38.449Z"
   },
   {
    "duration": 18,
    "start_time": "2022-05-10T17:41:38.458Z"
   },
   {
    "duration": 23,
    "start_time": "2022-05-10T17:41:38.478Z"
   },
   {
    "duration": 6,
    "start_time": "2022-05-10T17:41:38.502Z"
   },
   {
    "duration": 31,
    "start_time": "2022-05-10T17:41:38.534Z"
   },
   {
    "duration": 5,
    "start_time": "2022-05-10T17:41:38.567Z"
   },
   {
    "duration": 21,
    "start_time": "2022-05-10T17:41:38.574Z"
   },
   {
    "duration": 44,
    "start_time": "2022-05-10T17:41:38.596Z"
   },
   {
    "duration": 191,
    "start_time": "2022-05-10T17:41:38.642Z"
   },
   {
    "duration": 235,
    "start_time": "2022-05-10T17:41:38.835Z"
   },
   {
    "duration": 0,
    "start_time": "2022-05-10T17:41:39.072Z"
   },
   {
    "duration": 11,
    "start_time": "2022-05-10T17:42:27.684Z"
   },
   {
    "duration": 199,
    "start_time": "2022-05-10T17:43:15.109Z"
   },
   {
    "duration": 171,
    "start_time": "2022-05-10T17:43:23.782Z"
   },
   {
    "duration": 266,
    "start_time": "2022-05-10T17:43:31.585Z"
   },
   {
    "duration": 216,
    "start_time": "2022-05-10T17:44:01.995Z"
   },
   {
    "duration": 238,
    "start_time": "2022-05-10T17:44:54.723Z"
   },
   {
    "duration": 239,
    "start_time": "2022-05-10T17:45:01.830Z"
   },
   {
    "duration": 218,
    "start_time": "2022-05-10T17:45:18.473Z"
   },
   {
    "duration": 9,
    "start_time": "2022-05-10T17:46:42.822Z"
   },
   {
    "duration": 60,
    "start_time": "2022-05-10T17:47:05.363Z"
   },
   {
    "duration": 16,
    "start_time": "2022-05-10T17:47:05.737Z"
   },
   {
    "duration": 681,
    "start_time": "2022-05-10T17:47:13.555Z"
   },
   {
    "duration": 1006,
    "start_time": "2022-05-10T17:47:36.691Z"
   },
   {
    "duration": 944,
    "start_time": "2022-05-10T17:47:43.653Z"
   },
   {
    "duration": 749,
    "start_time": "2022-05-10T17:47:55.604Z"
   },
   {
    "duration": 190,
    "start_time": "2022-05-10T17:50:10.068Z"
   },
   {
    "duration": 156,
    "start_time": "2022-05-10T17:50:18.647Z"
   },
   {
    "duration": 137,
    "start_time": "2022-05-10T17:50:27.692Z"
   },
   {
    "duration": 136,
    "start_time": "2022-05-10T17:50:35.590Z"
   },
   {
    "duration": 130,
    "start_time": "2022-05-10T17:50:38.336Z"
   },
   {
    "duration": 341,
    "start_time": "2022-05-10T17:50:50.272Z"
   },
   {
    "duration": 244,
    "start_time": "2022-05-10T17:51:51.041Z"
   },
   {
    "duration": 370,
    "start_time": "2022-05-10T17:56:58.555Z"
   },
   {
    "duration": 257,
    "start_time": "2022-05-10T17:57:07.160Z"
   },
   {
    "duration": 226,
    "start_time": "2022-05-10T17:57:13.784Z"
   },
   {
    "duration": 221,
    "start_time": "2022-05-10T17:57:19.115Z"
   },
   {
    "duration": 203,
    "start_time": "2022-05-10T17:57:32.071Z"
   },
   {
    "duration": 161,
    "start_time": "2022-05-10T17:57:49.960Z"
   },
   {
    "duration": 154,
    "start_time": "2022-05-10T17:57:56.660Z"
   },
   {
    "duration": 248,
    "start_time": "2022-05-10T17:58:14.104Z"
   },
   {
    "duration": 257,
    "start_time": "2022-05-10T17:58:36.830Z"
   },
   {
    "duration": 402,
    "start_time": "2022-05-10T18:00:20.594Z"
   },
   {
    "duration": 579,
    "start_time": "2022-05-10T18:00:27.810Z"
   },
   {
    "duration": 421,
    "start_time": "2022-05-10T18:00:34.003Z"
   },
   {
    "duration": 441,
    "start_time": "2022-05-10T18:01:09.725Z"
   },
   {
    "duration": 577,
    "start_time": "2022-05-10T18:01:26.962Z"
   },
   {
    "duration": 444,
    "start_time": "2022-05-10T18:01:31.535Z"
   },
   {
    "duration": 286,
    "start_time": "2022-05-10T18:02:00.390Z"
   },
   {
    "duration": 427,
    "start_time": "2022-05-10T18:02:27.230Z"
   },
   {
    "duration": 379,
    "start_time": "2022-05-10T18:02:34.235Z"
   },
   {
    "duration": 347,
    "start_time": "2022-05-10T18:02:37.817Z"
   },
   {
    "duration": 2010,
    "start_time": "2022-05-10T18:02:42.085Z"
   },
   {
    "duration": 321,
    "start_time": "2022-05-10T18:02:47.437Z"
   },
   {
    "duration": 427,
    "start_time": "2022-05-10T18:02:50.449Z"
   },
   {
    "duration": 371,
    "start_time": "2022-05-10T18:02:56.801Z"
   },
   {
    "duration": 553,
    "start_time": "2022-05-10T18:03:00.579Z"
   },
   {
    "duration": 802,
    "start_time": "2022-05-10T18:03:07.390Z"
   },
   {
    "duration": 407,
    "start_time": "2022-05-10T18:03:12.494Z"
   },
   {
    "duration": 423,
    "start_time": "2022-05-10T18:03:16.872Z"
   },
   {
    "duration": 408,
    "start_time": "2022-05-10T18:03:22.883Z"
   },
   {
    "duration": 418,
    "start_time": "2022-05-10T18:03:54.661Z"
   },
   {
    "duration": 347,
    "start_time": "2022-05-10T18:04:02.342Z"
   },
   {
    "duration": 749,
    "start_time": "2022-05-10T18:04:05.811Z"
   },
   {
    "duration": 432,
    "start_time": "2022-05-10T18:04:11.608Z"
   },
   {
    "duration": 312,
    "start_time": "2022-05-10T18:04:19.470Z"
   },
   {
    "duration": 428,
    "start_time": "2022-05-10T18:04:22.721Z"
   },
   {
    "duration": 456,
    "start_time": "2022-05-10T18:04:26.452Z"
   },
   {
    "duration": 458,
    "start_time": "2022-05-10T18:05:34.551Z"
   },
   {
    "duration": 423,
    "start_time": "2022-05-10T18:05:35.071Z"
   },
   {
    "duration": 464,
    "start_time": "2022-05-10T18:09:17.720Z"
   },
   {
    "duration": 791,
    "start_time": "2022-05-10T18:09:24.784Z"
   },
   {
    "duration": 481,
    "start_time": "2022-05-10T18:09:31.799Z"
   },
   {
    "duration": 242,
    "start_time": "2022-05-10T18:12:22.384Z"
   },
   {
    "duration": 513,
    "start_time": "2022-05-10T18:12:45.246Z"
   },
   {
    "duration": 464,
    "start_time": "2022-05-10T18:12:51.705Z"
   },
   {
    "duration": 505,
    "start_time": "2022-05-10T18:13:28.302Z"
   },
   {
    "duration": 472,
    "start_time": "2022-05-10T18:13:39.677Z"
   },
   {
    "duration": 469,
    "start_time": "2022-05-10T18:13:52.683Z"
   },
   {
    "duration": 450,
    "start_time": "2022-05-10T18:14:05.235Z"
   },
   {
    "duration": 491,
    "start_time": "2022-05-10T18:14:17.605Z"
   },
   {
    "duration": 481,
    "start_time": "2022-05-10T18:14:25.506Z"
   },
   {
    "duration": 429,
    "start_time": "2022-05-10T18:14:30.736Z"
   },
   {
    "duration": 5868,
    "start_time": "2022-05-10T18:14:48.871Z"
   },
   {
    "duration": 443,
    "start_time": "2022-05-10T18:15:02.084Z"
   },
   {
    "duration": 5662,
    "start_time": "2022-05-10T18:15:06.213Z"
   },
   {
    "duration": 454,
    "start_time": "2022-05-10T18:15:14.883Z"
   },
   {
    "duration": 441,
    "start_time": "2022-05-10T18:15:26.425Z"
   },
   {
    "duration": 482,
    "start_time": "2022-05-10T18:15:45.002Z"
   },
   {
    "duration": 490,
    "start_time": "2022-05-10T18:16:05.018Z"
   },
   {
    "duration": 340,
    "start_time": "2022-05-10T18:17:22.739Z"
   },
   {
    "duration": 183,
    "start_time": "2022-05-10T18:17:53.429Z"
   },
   {
    "duration": 1446,
    "start_time": "2022-05-10T18:18:08.734Z"
   },
   {
    "duration": 1761,
    "start_time": "2022-05-10T18:18:10.182Z"
   },
   {
    "duration": 32,
    "start_time": "2022-05-10T18:18:11.945Z"
   },
   {
    "duration": 598,
    "start_time": "2022-05-10T18:18:11.979Z"
   },
   {
    "duration": 40,
    "start_time": "2022-05-10T18:18:12.578Z"
   },
   {
    "duration": 255,
    "start_time": "2022-05-10T18:18:12.619Z"
   },
   {
    "duration": 19,
    "start_time": "2022-05-10T18:18:12.876Z"
   },
   {
    "duration": 267,
    "start_time": "2022-05-10T18:18:12.896Z"
   },
   {
    "duration": 682,
    "start_time": "2022-05-10T18:18:13.164Z"
   },
   {
    "duration": 7,
    "start_time": "2022-05-10T18:18:13.849Z"
   },
   {
    "duration": 7,
    "start_time": "2022-05-10T18:18:13.858Z"
   },
   {
    "duration": 6,
    "start_time": "2022-05-10T18:18:13.867Z"
   },
   {
    "duration": 9,
    "start_time": "2022-05-10T18:18:13.875Z"
   },
   {
    "duration": 11,
    "start_time": "2022-05-10T18:18:13.886Z"
   },
   {
    "duration": 36,
    "start_time": "2022-05-10T18:18:13.898Z"
   },
   {
    "duration": 7,
    "start_time": "2022-05-10T18:18:13.936Z"
   },
   {
    "duration": 20,
    "start_time": "2022-05-10T18:18:13.945Z"
   },
   {
    "duration": 23,
    "start_time": "2022-05-10T18:18:13.967Z"
   },
   {
    "duration": 5,
    "start_time": "2022-05-10T18:18:13.992Z"
   },
   {
    "duration": 52,
    "start_time": "2022-05-10T18:18:13.999Z"
   },
   {
    "duration": 5,
    "start_time": "2022-05-10T18:18:14.053Z"
   },
   {
    "duration": 21,
    "start_time": "2022-05-10T18:18:14.059Z"
   },
   {
    "duration": 34,
    "start_time": "2022-05-10T18:18:14.082Z"
   },
   {
    "duration": 177,
    "start_time": "2022-05-10T18:18:14.118Z"
   },
   {
    "duration": 121,
    "start_time": "2022-05-10T18:18:14.297Z"
   },
   {
    "duration": 0,
    "start_time": "2022-05-10T18:18:14.420Z"
   },
   {
    "duration": 0,
    "start_time": "2022-05-10T18:18:14.421Z"
   },
   {
    "duration": 0,
    "start_time": "2022-05-10T18:18:14.434Z"
   },
   {
    "duration": 0,
    "start_time": "2022-05-10T18:18:14.434Z"
   },
   {
    "duration": 64,
    "start_time": "2022-05-10T18:38:34.628Z"
   },
   {
    "duration": 199,
    "start_time": "2022-05-10T18:38:38.889Z"
   },
   {
    "duration": 553,
    "start_time": "2022-05-10T18:38:56.734Z"
   },
   {
    "duration": 515,
    "start_time": "2022-05-10T18:38:57.290Z"
   },
   {
    "duration": 454,
    "start_time": "2022-05-10T18:38:57.807Z"
   },
   {
    "duration": 519,
    "start_time": "2022-05-10T18:38:58.263Z"
   },
   {
    "duration": 13,
    "start_time": "2022-05-10T19:24:52.025Z"
   },
   {
    "duration": 9,
    "start_time": "2022-05-10T19:24:57.626Z"
   },
   {
    "duration": 35,
    "start_time": "2022-05-10T19:25:00.692Z"
   },
   {
    "duration": 2255,
    "start_time": "2022-05-10T20:04:04.267Z"
   },
   {
    "duration": 143,
    "start_time": "2022-05-10T20:04:17.146Z"
   },
   {
    "duration": 4,
    "start_time": "2022-05-10T20:04:20.859Z"
   },
   {
    "duration": 18,
    "start_time": "2022-05-10T20:04:23.829Z"
   },
   {
    "duration": 11,
    "start_time": "2022-05-10T20:08:27.342Z"
   },
   {
    "duration": 23,
    "start_time": "2022-05-10T20:08:32.759Z"
   },
   {
    "duration": 63,
    "start_time": "2022-05-10T20:09:13.253Z"
   },
   {
    "duration": 876,
    "start_time": "2022-05-10T20:11:20.194Z"
   },
   {
    "duration": 934,
    "start_time": "2022-05-10T20:11:39.940Z"
   },
   {
    "duration": 1066,
    "start_time": "2022-05-10T20:12:49.218Z"
   },
   {
    "duration": 18,
    "start_time": "2022-05-10T20:13:17.079Z"
   },
   {
    "duration": 357,
    "start_time": "2022-05-10T20:18:43.150Z"
   },
   {
    "duration": 625,
    "start_time": "2022-05-10T20:19:12.486Z"
   },
   {
    "duration": 728,
    "start_time": "2022-05-10T20:20:09.308Z"
   },
   {
    "duration": 609,
    "start_time": "2022-05-10T20:20:30.465Z"
   },
   {
    "duration": 756,
    "start_time": "2022-05-10T20:20:37.988Z"
   },
   {
    "duration": 600,
    "start_time": "2022-05-10T20:20:42.000Z"
   },
   {
    "duration": 449,
    "start_time": "2022-05-10T20:20:50.939Z"
   },
   {
    "duration": 665,
    "start_time": "2022-05-10T20:20:57.030Z"
   },
   {
    "duration": 623,
    "start_time": "2022-05-10T20:22:24.508Z"
   },
   {
    "duration": 624,
    "start_time": "2022-05-10T20:22:28.163Z"
   },
   {
    "duration": 1976,
    "start_time": "2022-05-11T09:00:09.198Z"
   },
   {
    "duration": 919,
    "start_time": "2022-05-11T09:00:11.181Z"
   },
   {
    "duration": 37,
    "start_time": "2022-05-11T09:00:12.103Z"
   },
   {
    "duration": 701,
    "start_time": "2022-05-11T09:00:12.143Z"
   },
   {
    "duration": 62,
    "start_time": "2022-05-11T09:00:12.847Z"
   },
   {
    "duration": 274,
    "start_time": "2022-05-11T09:00:12.913Z"
   },
   {
    "duration": 30,
    "start_time": "2022-05-11T09:00:13.191Z"
   },
   {
    "duration": 268,
    "start_time": "2022-05-11T09:00:13.226Z"
   },
   {
    "duration": 784,
    "start_time": "2022-05-11T09:00:13.498Z"
   },
   {
    "duration": 11,
    "start_time": "2022-05-11T09:00:14.290Z"
   },
   {
    "duration": 36,
    "start_time": "2022-05-11T09:00:14.307Z"
   },
   {
    "duration": 6,
    "start_time": "2022-05-11T09:00:14.345Z"
   },
   {
    "duration": 11,
    "start_time": "2022-05-11T09:00:14.353Z"
   },
   {
    "duration": 11,
    "start_time": "2022-05-11T09:00:14.367Z"
   },
   {
    "duration": 56,
    "start_time": "2022-05-11T09:00:14.380Z"
   },
   {
    "duration": 10,
    "start_time": "2022-05-11T09:00:14.437Z"
   },
   {
    "duration": 20,
    "start_time": "2022-05-11T09:00:14.449Z"
   },
   {
    "duration": 42,
    "start_time": "2022-05-11T09:00:14.471Z"
   },
   {
    "duration": 18,
    "start_time": "2022-05-11T09:00:14.517Z"
   },
   {
    "duration": 51,
    "start_time": "2022-05-11T09:00:14.537Z"
   },
   {
    "duration": 5,
    "start_time": "2022-05-11T09:00:14.590Z"
   },
   {
    "duration": 37,
    "start_time": "2022-05-11T09:00:14.597Z"
   },
   {
    "duration": 23,
    "start_time": "2022-05-11T09:00:14.636Z"
   },
   {
    "duration": 193,
    "start_time": "2022-05-11T09:00:14.661Z"
   },
   {
    "duration": 590,
    "start_time": "2022-05-11T09:00:14.856Z"
   },
   {
    "duration": 513,
    "start_time": "2022-05-11T09:00:15.447Z"
   },
   {
    "duration": 492,
    "start_time": "2022-05-11T09:00:15.962Z"
   },
   {
    "duration": 613,
    "start_time": "2022-05-11T09:00:16.456Z"
   },
   {
    "duration": 22,
    "start_time": "2022-05-11T09:00:17.073Z"
   },
   {
    "duration": 94,
    "start_time": "2022-05-11T09:00:17.097Z"
   },
   {
    "duration": 166,
    "start_time": "2022-05-11T09:00:17.194Z"
   },
   {
    "duration": 1080,
    "start_time": "2022-05-11T09:00:17.362Z"
   },
   {
    "duration": 800,
    "start_time": "2022-05-11T09:00:18.444Z"
   },
   {
    "duration": 110,
    "start_time": "2022-05-11T11:20:24.262Z"
   },
   {
    "duration": 13,
    "start_time": "2022-05-11T11:20:41.002Z"
   },
   {
    "duration": 10,
    "start_time": "2022-05-11T11:20:54.590Z"
   },
   {
    "duration": 19,
    "start_time": "2022-05-11T11:21:28.989Z"
   },
   {
    "duration": 29,
    "start_time": "2022-05-11T11:21:34.369Z"
   },
   {
    "duration": 23,
    "start_time": "2022-05-11T11:21:51.893Z"
   },
   {
    "duration": 20,
    "start_time": "2022-05-11T11:21:58.803Z"
   },
   {
    "duration": 11,
    "start_time": "2022-05-11T11:22:08.260Z"
   },
   {
    "duration": 10,
    "start_time": "2022-05-11T11:22:12.850Z"
   },
   {
    "duration": 7,
    "start_time": "2022-05-11T11:22:55.752Z"
   },
   {
    "duration": 15,
    "start_time": "2022-05-11T11:23:07.843Z"
   },
   {
    "duration": 9,
    "start_time": "2022-05-11T11:23:16.419Z"
   },
   {
    "duration": 20,
    "start_time": "2022-05-11T11:23:21.293Z"
   },
   {
    "duration": 1548,
    "start_time": "2022-05-11T11:23:28.187Z"
   },
   {
    "duration": 665,
    "start_time": "2022-05-11T11:23:29.738Z"
   },
   {
    "duration": 32,
    "start_time": "2022-05-11T11:23:30.405Z"
   },
   {
    "duration": 557,
    "start_time": "2022-05-11T11:23:30.439Z"
   },
   {
    "duration": 38,
    "start_time": "2022-05-11T11:23:30.998Z"
   },
   {
    "duration": 230,
    "start_time": "2022-05-11T11:23:31.037Z"
   },
   {
    "duration": 24,
    "start_time": "2022-05-11T11:23:31.273Z"
   },
   {
    "duration": 218,
    "start_time": "2022-05-11T11:23:31.299Z"
   },
   {
    "duration": 640,
    "start_time": "2022-05-11T11:23:31.519Z"
   },
   {
    "duration": 6,
    "start_time": "2022-05-11T11:23:32.160Z"
   },
   {
    "duration": 21,
    "start_time": "2022-05-11T11:23:32.167Z"
   },
   {
    "duration": 9,
    "start_time": "2022-05-11T11:23:32.190Z"
   },
   {
    "duration": 11,
    "start_time": "2022-05-11T11:23:32.201Z"
   },
   {
    "duration": 10,
    "start_time": "2022-05-11T11:23:32.215Z"
   },
   {
    "duration": 9,
    "start_time": "2022-05-11T11:23:32.226Z"
   },
   {
    "duration": 13,
    "start_time": "2022-05-11T11:23:32.236Z"
   },
   {
    "duration": 30,
    "start_time": "2022-05-11T11:23:32.251Z"
   },
   {
    "duration": 23,
    "start_time": "2022-05-11T11:23:32.283Z"
   },
   {
    "duration": 6,
    "start_time": "2022-05-11T11:23:32.307Z"
   },
   {
    "duration": 28,
    "start_time": "2022-05-11T11:23:32.314Z"
   },
   {
    "duration": 4,
    "start_time": "2022-05-11T11:23:32.344Z"
   },
   {
    "duration": 8,
    "start_time": "2022-05-11T11:23:32.350Z"
   },
   {
    "duration": 15,
    "start_time": "2022-05-11T11:23:32.373Z"
   },
   {
    "duration": 175,
    "start_time": "2022-05-11T11:23:32.390Z"
   },
   {
    "duration": 492,
    "start_time": "2022-05-11T11:23:32.566Z"
   },
   {
    "duration": 463,
    "start_time": "2022-05-11T11:23:33.060Z"
   },
   {
    "duration": 414,
    "start_time": "2022-05-11T11:23:33.525Z"
   },
   {
    "duration": 449,
    "start_time": "2022-05-11T11:23:33.941Z"
   },
   {
    "duration": 11,
    "start_time": "2022-05-11T11:23:34.391Z"
   },
   {
    "duration": 24,
    "start_time": "2022-05-11T11:23:34.404Z"
   },
   {
    "duration": 73,
    "start_time": "2022-05-11T11:23:34.430Z"
   },
   {
    "duration": 987,
    "start_time": "2022-05-11T11:23:34.505Z"
   },
   {
    "duration": 632,
    "start_time": "2022-05-11T11:23:35.494Z"
   },
   {
    "duration": 21,
    "start_time": "2022-05-11T11:23:36.128Z"
   },
   {
    "duration": 129,
    "start_time": "2022-05-11T11:23:36.150Z"
   },
   {
    "duration": 12,
    "start_time": "2022-05-11T11:23:51.550Z"
   },
   {
    "duration": 8,
    "start_time": "2022-05-11T11:23:59.905Z"
   },
   {
    "duration": 502,
    "start_time": "2022-05-11T11:24:05.566Z"
   },
   {
    "duration": 22,
    "start_time": "2022-05-11T11:25:06.286Z"
   },
   {
    "duration": 9,
    "start_time": "2022-05-11T11:25:09.803Z"
   },
   {
    "duration": 9,
    "start_time": "2022-05-11T11:25:12.838Z"
   },
   {
    "duration": 22,
    "start_time": "2022-05-11T11:25:18.842Z"
   },
   {
    "duration": 9,
    "start_time": "2022-05-11T11:25:23.945Z"
   },
   {
    "duration": 21,
    "start_time": "2022-05-11T11:25:31.461Z"
   },
   {
    "duration": 13,
    "start_time": "2022-05-11T11:25:36.578Z"
   },
   {
    "duration": 16,
    "start_time": "2022-05-11T11:25:43.172Z"
   },
   {
    "duration": 9,
    "start_time": "2022-05-11T11:25:45.876Z"
   },
   {
    "duration": 9,
    "start_time": "2022-05-11T11:25:52.068Z"
   },
   {
    "duration": 9,
    "start_time": "2022-05-11T11:26:01.973Z"
   },
   {
    "duration": 8,
    "start_time": "2022-05-11T11:26:07.854Z"
   },
   {
    "duration": 11,
    "start_time": "2022-05-11T11:26:10.671Z"
   },
   {
    "duration": 9,
    "start_time": "2022-05-11T11:26:18.359Z"
   },
   {
    "duration": 1424,
    "start_time": "2022-05-11T13:08:11.231Z"
   },
   {
    "duration": 693,
    "start_time": "2022-05-11T13:08:12.657Z"
   },
   {
    "duration": 46,
    "start_time": "2022-05-11T13:08:13.355Z"
   },
   {
    "duration": 598,
    "start_time": "2022-05-11T13:08:13.403Z"
   },
   {
    "duration": 39,
    "start_time": "2022-05-11T13:08:14.003Z"
   },
   {
    "duration": 249,
    "start_time": "2022-05-11T13:08:14.044Z"
   },
   {
    "duration": 17,
    "start_time": "2022-05-11T13:08:14.295Z"
   },
   {
    "duration": 240,
    "start_time": "2022-05-11T13:08:14.313Z"
   },
   {
    "duration": 682,
    "start_time": "2022-05-11T13:08:14.556Z"
   },
   {
    "duration": 6,
    "start_time": "2022-05-11T13:08:15.240Z"
   },
   {
    "duration": 6,
    "start_time": "2022-05-11T13:08:15.247Z"
   },
   {
    "duration": 21,
    "start_time": "2022-05-11T13:08:15.255Z"
   },
   {
    "duration": 20,
    "start_time": "2022-05-11T13:08:15.278Z"
   },
   {
    "duration": 10,
    "start_time": "2022-05-11T13:08:15.300Z"
   },
   {
    "duration": 9,
    "start_time": "2022-05-11T13:08:15.312Z"
   },
   {
    "duration": 23,
    "start_time": "2022-05-11T13:08:15.323Z"
   },
   {
    "duration": 30,
    "start_time": "2022-05-11T13:08:15.348Z"
   },
   {
    "duration": 838,
    "start_time": "2022-05-11T13:08:15.381Z"
   },
   {
    "duration": 112,
    "start_time": "2022-05-11T13:08:16.221Z"
   },
   {
    "duration": 0,
    "start_time": "2022-05-11T13:08:16.335Z"
   },
   {
    "duration": 0,
    "start_time": "2022-05-11T13:08:16.337Z"
   },
   {
    "duration": 0,
    "start_time": "2022-05-11T13:08:16.338Z"
   },
   {
    "duration": 0,
    "start_time": "2022-05-11T13:08:16.339Z"
   },
   {
    "duration": 0,
    "start_time": "2022-05-11T13:08:16.340Z"
   },
   {
    "duration": 0,
    "start_time": "2022-05-11T13:08:16.340Z"
   },
   {
    "duration": 0,
    "start_time": "2022-05-11T13:08:16.341Z"
   },
   {
    "duration": 0,
    "start_time": "2022-05-11T13:08:16.342Z"
   },
   {
    "duration": 0,
    "start_time": "2022-05-11T13:08:16.343Z"
   },
   {
    "duration": 0,
    "start_time": "2022-05-11T13:08:16.344Z"
   },
   {
    "duration": 0,
    "start_time": "2022-05-11T13:08:16.345Z"
   },
   {
    "duration": 0,
    "start_time": "2022-05-11T13:08:16.346Z"
   },
   {
    "duration": 0,
    "start_time": "2022-05-11T13:08:16.347Z"
   },
   {
    "duration": 0,
    "start_time": "2022-05-11T13:08:16.375Z"
   },
   {
    "duration": 0,
    "start_time": "2022-05-11T13:08:16.376Z"
   },
   {
    "duration": 0,
    "start_time": "2022-05-11T13:08:16.377Z"
   },
   {
    "duration": 0,
    "start_time": "2022-05-11T13:08:16.378Z"
   },
   {
    "duration": 9,
    "start_time": "2022-05-11T13:10:58.736Z"
   },
   {
    "duration": 10,
    "start_time": "2022-05-11T13:10:59.204Z"
   },
   {
    "duration": 1743,
    "start_time": "2022-05-11T13:11:14.890Z"
   },
   {
    "duration": 780,
    "start_time": "2022-05-11T13:11:16.636Z"
   },
   {
    "duration": 33,
    "start_time": "2022-05-11T13:11:17.419Z"
   },
   {
    "duration": 659,
    "start_time": "2022-05-11T13:11:17.455Z"
   },
   {
    "duration": 43,
    "start_time": "2022-05-11T13:11:18.116Z"
   },
   {
    "duration": 257,
    "start_time": "2022-05-11T13:11:18.174Z"
   },
   {
    "duration": 17,
    "start_time": "2022-05-11T13:11:18.433Z"
   },
   {
    "duration": 253,
    "start_time": "2022-05-11T13:11:18.452Z"
   },
   {
    "duration": 700,
    "start_time": "2022-05-11T13:11:18.707Z"
   },
   {
    "duration": 7,
    "start_time": "2022-05-11T13:11:19.410Z"
   },
   {
    "duration": 8,
    "start_time": "2022-05-11T13:11:19.418Z"
   },
   {
    "duration": 7,
    "start_time": "2022-05-11T13:11:19.428Z"
   },
   {
    "duration": 9,
    "start_time": "2022-05-11T13:11:19.436Z"
   },
   {
    "duration": 31,
    "start_time": "2022-05-11T13:11:19.447Z"
   },
   {
    "duration": 26,
    "start_time": "2022-05-11T13:11:19.482Z"
   },
   {
    "duration": 9,
    "start_time": "2022-05-11T13:11:19.510Z"
   },
   {
    "duration": 15,
    "start_time": "2022-05-11T13:11:19.520Z"
   },
   {
    "duration": 879,
    "start_time": "2022-05-11T13:11:19.537Z"
   },
   {
    "duration": 110,
    "start_time": "2022-05-11T13:11:20.418Z"
   },
   {
    "duration": 0,
    "start_time": "2022-05-11T13:11:20.530Z"
   },
   {
    "duration": 0,
    "start_time": "2022-05-11T13:11:20.531Z"
   },
   {
    "duration": 0,
    "start_time": "2022-05-11T13:11:20.532Z"
   },
   {
    "duration": 0,
    "start_time": "2022-05-11T13:11:20.533Z"
   },
   {
    "duration": 0,
    "start_time": "2022-05-11T13:11:20.534Z"
   },
   {
    "duration": 0,
    "start_time": "2022-05-11T13:11:20.535Z"
   },
   {
    "duration": 0,
    "start_time": "2022-05-11T13:11:20.537Z"
   },
   {
    "duration": 0,
    "start_time": "2022-05-11T13:11:20.538Z"
   },
   {
    "duration": 0,
    "start_time": "2022-05-11T13:11:20.539Z"
   },
   {
    "duration": 0,
    "start_time": "2022-05-11T13:11:20.540Z"
   },
   {
    "duration": 0,
    "start_time": "2022-05-11T13:11:20.541Z"
   },
   {
    "duration": 0,
    "start_time": "2022-05-11T13:11:20.542Z"
   },
   {
    "duration": 0,
    "start_time": "2022-05-11T13:11:20.543Z"
   },
   {
    "duration": 0,
    "start_time": "2022-05-11T13:11:20.544Z"
   },
   {
    "duration": 0,
    "start_time": "2022-05-11T13:11:20.545Z"
   },
   {
    "duration": 0,
    "start_time": "2022-05-11T13:11:20.582Z"
   },
   {
    "duration": 0,
    "start_time": "2022-05-11T13:11:20.583Z"
   },
   {
    "duration": 10,
    "start_time": "2022-05-11T13:14:48.653Z"
   },
   {
    "duration": 10,
    "start_time": "2022-05-11T13:14:51.381Z"
   },
   {
    "duration": 11,
    "start_time": "2022-05-11T13:15:14.720Z"
   },
   {
    "duration": 10,
    "start_time": "2022-05-11T13:15:15.630Z"
   },
   {
    "duration": 13,
    "start_time": "2022-05-11T13:15:16.424Z"
   },
   {
    "duration": 25,
    "start_time": "2022-05-11T13:15:16.852Z"
   },
   {
    "duration": 6,
    "start_time": "2022-05-11T13:15:18.158Z"
   },
   {
    "duration": 30,
    "start_time": "2022-05-11T13:15:18.885Z"
   },
   {
    "duration": 8,
    "start_time": "2022-05-11T13:15:38.583Z"
   },
   {
    "duration": 13,
    "start_time": "2022-05-11T13:15:40.185Z"
   },
   {
    "duration": 7,
    "start_time": "2022-05-11T13:15:40.369Z"
   },
   {
    "duration": 10,
    "start_time": "2022-05-11T13:15:40.704Z"
   },
   {
    "duration": 15,
    "start_time": "2022-05-11T13:15:40.868Z"
   },
   {
    "duration": 10,
    "start_time": "2022-05-11T13:15:51.893Z"
   },
   {
    "duration": 10,
    "start_time": "2022-05-11T13:15:52.306Z"
   },
   {
    "duration": 14,
    "start_time": "2022-05-11T13:15:53.551Z"
   },
   {
    "duration": 11,
    "start_time": "2022-05-11T13:15:53.981Z"
   },
   {
    "duration": 14,
    "start_time": "2022-05-11T13:15:54.672Z"
   },
   {
    "duration": 7,
    "start_time": "2022-05-11T13:15:54.874Z"
   },
   {
    "duration": 10,
    "start_time": "2022-05-11T13:15:55.314Z"
   },
   {
    "duration": 10,
    "start_time": "2022-05-11T13:15:55.531Z"
   },
   {
    "duration": 13,
    "start_time": "2022-05-11T13:15:56.561Z"
   },
   {
    "duration": 5,
    "start_time": "2022-05-11T13:15:56.788Z"
   },
   {
    "duration": 10,
    "start_time": "2022-05-11T13:15:57.165Z"
   },
   {
    "duration": 5,
    "start_time": "2022-05-11T13:15:59.998Z"
   },
   {
    "duration": 19,
    "start_time": "2022-05-11T13:16:00.007Z"
   },
   {
    "duration": 19,
    "start_time": "2022-05-11T13:16:00.029Z"
   },
   {
    "duration": 14,
    "start_time": "2022-05-11T13:16:00.050Z"
   },
   {
    "duration": 26,
    "start_time": "2022-05-11T13:16:00.067Z"
   },
   {
    "duration": 21,
    "start_time": "2022-05-11T13:16:00.126Z"
   },
   {
    "duration": 8,
    "start_time": "2022-05-11T13:16:00.161Z"
   },
   {
    "duration": 13,
    "start_time": "2022-05-11T13:16:00.228Z"
   },
   {
    "duration": 10,
    "start_time": "2022-05-11T13:16:00.258Z"
   },
   {
    "duration": 12,
    "start_time": "2022-05-11T13:16:20.002Z"
   },
   {
    "duration": 9,
    "start_time": "2022-05-11T13:16:21.410Z"
   },
   {
    "duration": 9,
    "start_time": "2022-05-11T13:16:21.790Z"
   },
   {
    "duration": 13,
    "start_time": "2022-05-11T13:16:22.552Z"
   },
   {
    "duration": 9,
    "start_time": "2022-05-11T13:16:23.134Z"
   },
   {
    "duration": 14,
    "start_time": "2022-05-11T13:16:26.616Z"
   },
   {
    "duration": 13,
    "start_time": "2022-05-11T13:16:27.048Z"
   },
   {
    "duration": 14,
    "start_time": "2022-05-11T13:16:27.316Z"
   },
   {
    "duration": 17,
    "start_time": "2022-05-11T13:16:28.166Z"
   },
   {
    "duration": 26,
    "start_time": "2022-05-11T13:16:28.355Z"
   },
   {
    "duration": 7,
    "start_time": "2022-05-11T13:16:28.783Z"
   },
   {
    "duration": 31,
    "start_time": "2022-05-11T13:16:29.052Z"
   },
   {
    "duration": 7,
    "start_time": "2022-05-11T13:16:36.189Z"
   },
   {
    "duration": 6,
    "start_time": "2022-05-11T13:16:39.032Z"
   },
   {
    "duration": 6,
    "start_time": "2022-05-11T13:16:39.735Z"
   },
   {
    "duration": 21,
    "start_time": "2022-05-11T13:16:40.792Z"
   },
   {
    "duration": 6,
    "start_time": "2022-05-11T13:16:41.252Z"
   },
   {
    "duration": 7,
    "start_time": "2022-05-11T13:16:41.506Z"
   },
   {
    "duration": 23,
    "start_time": "2022-05-11T13:16:42.259Z"
   },
   {
    "duration": 6,
    "start_time": "2022-05-11T13:16:42.753Z"
   },
   {
    "duration": 7,
    "start_time": "2022-05-11T13:16:43.122Z"
   },
   {
    "duration": 6,
    "start_time": "2022-05-11T13:17:03.662Z"
   },
   {
    "duration": 7,
    "start_time": "2022-05-11T13:17:03.887Z"
   },
   {
    "duration": 6,
    "start_time": "2022-05-11T13:17:06.817Z"
   },
   {
    "duration": 1544,
    "start_time": "2022-05-11T13:17:14.293Z"
   },
   {
    "duration": 726,
    "start_time": "2022-05-11T13:17:15.839Z"
   },
   {
    "duration": 35,
    "start_time": "2022-05-11T13:17:16.567Z"
   },
   {
    "duration": 606,
    "start_time": "2022-05-11T13:17:16.605Z"
   },
   {
    "duration": 39,
    "start_time": "2022-05-11T13:17:17.213Z"
   },
   {
    "duration": 263,
    "start_time": "2022-05-11T13:17:17.254Z"
   },
   {
    "duration": 18,
    "start_time": "2022-05-11T13:17:17.518Z"
   },
   {
    "duration": 260,
    "start_time": "2022-05-11T13:17:17.538Z"
   },
   {
    "duration": 693,
    "start_time": "2022-05-11T13:17:17.799Z"
   },
   {
    "duration": 6,
    "start_time": "2022-05-11T13:17:18.495Z"
   },
   {
    "duration": 7,
    "start_time": "2022-05-11T13:17:18.503Z"
   },
   {
    "duration": 10,
    "start_time": "2022-05-11T13:17:18.512Z"
   },
   {
    "duration": 9,
    "start_time": "2022-05-11T13:17:18.524Z"
   },
   {
    "duration": 11,
    "start_time": "2022-05-11T13:17:18.534Z"
   },
   {
    "duration": 30,
    "start_time": "2022-05-11T13:17:18.547Z"
   },
   {
    "duration": 17,
    "start_time": "2022-05-11T13:17:18.583Z"
   },
   {
    "duration": 20,
    "start_time": "2022-05-11T13:17:18.602Z"
   },
   {
    "duration": 6,
    "start_time": "2022-05-11T13:17:18.623Z"
   },
   {
    "duration": 10,
    "start_time": "2022-05-11T13:17:18.630Z"
   },
   {
    "duration": 7,
    "start_time": "2022-05-11T13:17:18.642Z"
   },
   {
    "duration": 34,
    "start_time": "2022-05-11T13:17:18.651Z"
   },
   {
    "duration": 12,
    "start_time": "2022-05-11T13:17:18.687Z"
   },
   {
    "duration": 18,
    "start_time": "2022-05-11T13:17:18.701Z"
   },
   {
    "duration": 185,
    "start_time": "2022-05-11T13:17:18.721Z"
   },
   {
    "duration": 135,
    "start_time": "2022-05-11T13:17:18.908Z"
   },
   {
    "duration": 0,
    "start_time": "2022-05-11T13:17:19.044Z"
   },
   {
    "duration": 0,
    "start_time": "2022-05-11T13:17:19.046Z"
   },
   {
    "duration": 0,
    "start_time": "2022-05-11T13:17:19.047Z"
   },
   {
    "duration": 0,
    "start_time": "2022-05-11T13:17:19.048Z"
   },
   {
    "duration": 0,
    "start_time": "2022-05-11T13:17:19.049Z"
   },
   {
    "duration": 0,
    "start_time": "2022-05-11T13:17:19.051Z"
   },
   {
    "duration": 0,
    "start_time": "2022-05-11T13:17:19.051Z"
   },
   {
    "duration": 0,
    "start_time": "2022-05-11T13:17:19.053Z"
   },
   {
    "duration": 0,
    "start_time": "2022-05-11T13:17:19.073Z"
   },
   {
    "duration": 0,
    "start_time": "2022-05-11T13:17:19.074Z"
   },
   {
    "duration": 3,
    "start_time": "2022-05-11T13:19:19.994Z"
   },
   {
    "duration": 3,
    "start_time": "2022-05-11T13:19:23.152Z"
   },
   {
    "duration": 1473,
    "start_time": "2022-05-11T13:19:34.592Z"
   },
   {
    "duration": 736,
    "start_time": "2022-05-11T13:19:36.067Z"
   },
   {
    "duration": 32,
    "start_time": "2022-05-11T13:19:36.805Z"
   },
   {
    "duration": 682,
    "start_time": "2022-05-11T13:19:36.840Z"
   },
   {
    "duration": 77,
    "start_time": "2022-05-11T13:19:37.525Z"
   },
   {
    "duration": 260,
    "start_time": "2022-05-11T13:19:37.604Z"
   },
   {
    "duration": 29,
    "start_time": "2022-05-11T13:19:37.866Z"
   },
   {
    "duration": 243,
    "start_time": "2022-05-11T13:19:37.897Z"
   },
   {
    "duration": 703,
    "start_time": "2022-05-11T13:19:38.142Z"
   },
   {
    "duration": 6,
    "start_time": "2022-05-11T13:19:38.848Z"
   },
   {
    "duration": 38,
    "start_time": "2022-05-11T13:19:38.856Z"
   },
   {
    "duration": 7,
    "start_time": "2022-05-11T13:19:38.896Z"
   },
   {
    "duration": 13,
    "start_time": "2022-05-11T13:19:38.905Z"
   },
   {
    "duration": 15,
    "start_time": "2022-05-11T13:19:38.920Z"
   },
   {
    "duration": 10,
    "start_time": "2022-05-11T13:19:38.937Z"
   },
   {
    "duration": 5,
    "start_time": "2022-05-11T13:19:38.950Z"
   },
   {
    "duration": 27,
    "start_time": "2022-05-11T13:19:38.959Z"
   },
   {
    "duration": 41,
    "start_time": "2022-05-11T13:19:38.989Z"
   },
   {
    "duration": 7,
    "start_time": "2022-05-11T13:19:39.032Z"
   },
   {
    "duration": 17,
    "start_time": "2022-05-11T13:19:39.040Z"
   },
   {
    "duration": 22,
    "start_time": "2022-05-11T13:19:39.059Z"
   },
   {
    "duration": 4,
    "start_time": "2022-05-11T13:19:39.083Z"
   },
   {
    "duration": 13,
    "start_time": "2022-05-11T13:19:39.090Z"
   },
   {
    "duration": 9,
    "start_time": "2022-05-11T13:19:39.104Z"
   },
   {
    "duration": 19,
    "start_time": "2022-05-11T13:19:39.115Z"
   },
   {
    "duration": 193,
    "start_time": "2022-05-11T13:19:39.136Z"
   },
   {
    "duration": 120,
    "start_time": "2022-05-11T13:19:39.331Z"
   },
   {
    "duration": 0,
    "start_time": "2022-05-11T13:19:39.453Z"
   },
   {
    "duration": 0,
    "start_time": "2022-05-11T13:19:39.455Z"
   },
   {
    "duration": 0,
    "start_time": "2022-05-11T13:19:39.456Z"
   },
   {
    "duration": 0,
    "start_time": "2022-05-11T13:19:39.457Z"
   },
   {
    "duration": 0,
    "start_time": "2022-05-11T13:19:39.458Z"
   },
   {
    "duration": 0,
    "start_time": "2022-05-11T13:19:39.459Z"
   },
   {
    "duration": 0,
    "start_time": "2022-05-11T13:19:39.474Z"
   },
   {
    "duration": 0,
    "start_time": "2022-05-11T13:19:39.475Z"
   },
   {
    "duration": 0,
    "start_time": "2022-05-11T13:19:39.476Z"
   },
   {
    "duration": 0,
    "start_time": "2022-05-11T13:19:39.481Z"
   },
   {
    "duration": 13,
    "start_time": "2022-05-11T13:20:48.438Z"
   },
   {
    "duration": 1527,
    "start_time": "2022-05-11T13:20:56.902Z"
   },
   {
    "duration": 716,
    "start_time": "2022-05-11T13:20:58.431Z"
   },
   {
    "duration": 40,
    "start_time": "2022-05-11T13:20:59.149Z"
   },
   {
    "duration": 1109,
    "start_time": "2022-05-11T13:20:59.191Z"
   },
   {
    "duration": 174,
    "start_time": "2022-05-11T13:21:00.302Z"
   },
   {
    "duration": 631,
    "start_time": "2022-05-11T13:21:00.478Z"
   },
   {
    "duration": 72,
    "start_time": "2022-05-11T13:21:01.112Z"
   },
   {
    "duration": 322,
    "start_time": "2022-05-11T13:21:01.186Z"
   },
   {
    "duration": 692,
    "start_time": "2022-05-11T13:21:01.510Z"
   },
   {
    "duration": 7,
    "start_time": "2022-05-11T13:21:02.205Z"
   },
   {
    "duration": 11,
    "start_time": "2022-05-11T13:21:02.213Z"
   },
   {
    "duration": 18,
    "start_time": "2022-05-11T13:21:02.225Z"
   },
   {
    "duration": 15,
    "start_time": "2022-05-11T13:21:02.245Z"
   },
   {
    "duration": 30,
    "start_time": "2022-05-11T13:21:02.261Z"
   },
   {
    "duration": 11,
    "start_time": "2022-05-11T13:21:02.293Z"
   },
   {
    "duration": 8,
    "start_time": "2022-05-11T13:21:02.306Z"
   },
   {
    "duration": 21,
    "start_time": "2022-05-11T13:21:02.315Z"
   },
   {
    "duration": 49,
    "start_time": "2022-05-11T13:21:02.338Z"
   },
   {
    "duration": 6,
    "start_time": "2022-05-11T13:21:02.389Z"
   },
   {
    "duration": 18,
    "start_time": "2022-05-11T13:21:02.398Z"
   },
   {
    "duration": 18,
    "start_time": "2022-05-11T13:21:02.418Z"
   },
   {
    "duration": 41,
    "start_time": "2022-05-11T13:21:02.438Z"
   },
   {
    "duration": 111,
    "start_time": "2022-05-11T13:21:02.482Z"
   },
   {
    "duration": 0,
    "start_time": "2022-05-11T13:21:02.595Z"
   },
   {
    "duration": 0,
    "start_time": "2022-05-11T13:21:02.596Z"
   },
   {
    "duration": 0,
    "start_time": "2022-05-11T13:21:02.597Z"
   },
   {
    "duration": 0,
    "start_time": "2022-05-11T13:21:02.599Z"
   },
   {
    "duration": 0,
    "start_time": "2022-05-11T13:21:02.600Z"
   },
   {
    "duration": 0,
    "start_time": "2022-05-11T13:21:02.601Z"
   },
   {
    "duration": 0,
    "start_time": "2022-05-11T13:21:02.602Z"
   },
   {
    "duration": 0,
    "start_time": "2022-05-11T13:21:02.603Z"
   },
   {
    "duration": 1,
    "start_time": "2022-05-11T13:21:02.604Z"
   },
   {
    "duration": 0,
    "start_time": "2022-05-11T13:21:02.606Z"
   },
   {
    "duration": 0,
    "start_time": "2022-05-11T13:21:02.607Z"
   },
   {
    "duration": 0,
    "start_time": "2022-05-11T13:21:02.608Z"
   },
   {
    "duration": 0,
    "start_time": "2022-05-11T13:21:02.609Z"
   },
   {
    "duration": 0,
    "start_time": "2022-05-11T13:21:02.611Z"
   },
   {
    "duration": 13,
    "start_time": "2022-05-11T13:21:27.664Z"
   },
   {
    "duration": 12,
    "start_time": "2022-05-11T13:21:27.991Z"
   },
   {
    "duration": 10,
    "start_time": "2022-05-11T13:21:28.510Z"
   },
   {
    "duration": 1455,
    "start_time": "2022-05-11T13:21:34.315Z"
   },
   {
    "duration": 723,
    "start_time": "2022-05-11T13:21:35.772Z"
   },
   {
    "duration": 33,
    "start_time": "2022-05-11T13:21:36.497Z"
   },
   {
    "duration": 602,
    "start_time": "2022-05-11T13:21:36.533Z"
   },
   {
    "duration": 60,
    "start_time": "2022-05-11T13:21:37.137Z"
   },
   {
    "duration": 243,
    "start_time": "2022-05-11T13:21:37.199Z"
   },
   {
    "duration": 34,
    "start_time": "2022-05-11T13:21:37.444Z"
   },
   {
    "duration": 236,
    "start_time": "2022-05-11T13:21:37.481Z"
   },
   {
    "duration": 674,
    "start_time": "2022-05-11T13:21:37.718Z"
   },
   {
    "duration": 6,
    "start_time": "2022-05-11T13:21:38.395Z"
   },
   {
    "duration": 8,
    "start_time": "2022-05-11T13:21:38.403Z"
   },
   {
    "duration": 5,
    "start_time": "2022-05-11T13:21:38.412Z"
   },
   {
    "duration": 12,
    "start_time": "2022-05-11T13:21:38.419Z"
   },
   {
    "duration": 11,
    "start_time": "2022-05-11T13:21:38.433Z"
   },
   {
    "duration": 36,
    "start_time": "2022-05-11T13:21:38.445Z"
   },
   {
    "duration": 9,
    "start_time": "2022-05-11T13:21:38.485Z"
   },
   {
    "duration": 14,
    "start_time": "2022-05-11T13:21:38.496Z"
   },
   {
    "duration": 27,
    "start_time": "2022-05-11T13:21:38.512Z"
   },
   {
    "duration": 6,
    "start_time": "2022-05-11T13:21:38.541Z"
   },
   {
    "duration": 13,
    "start_time": "2022-05-11T13:21:38.573Z"
   },
   {
    "duration": 12,
    "start_time": "2022-05-11T13:21:38.588Z"
   },
   {
    "duration": 8,
    "start_time": "2022-05-11T13:21:38.602Z"
   },
   {
    "duration": 17,
    "start_time": "2022-05-11T13:21:38.612Z"
   },
   {
    "duration": 203,
    "start_time": "2022-05-11T13:21:38.630Z"
   },
   {
    "duration": 119,
    "start_time": "2022-05-11T13:21:38.835Z"
   },
   {
    "duration": 0,
    "start_time": "2022-05-11T13:21:38.956Z"
   },
   {
    "duration": 0,
    "start_time": "2022-05-11T13:21:38.957Z"
   },
   {
    "duration": 0,
    "start_time": "2022-05-11T13:21:38.959Z"
   },
   {
    "duration": 0,
    "start_time": "2022-05-11T13:21:38.960Z"
   },
   {
    "duration": 0,
    "start_time": "2022-05-11T13:21:38.961Z"
   },
   {
    "duration": 0,
    "start_time": "2022-05-11T13:21:38.973Z"
   },
   {
    "duration": 0,
    "start_time": "2022-05-11T13:21:38.975Z"
   },
   {
    "duration": 0,
    "start_time": "2022-05-11T13:21:38.976Z"
   },
   {
    "duration": 0,
    "start_time": "2022-05-11T13:21:38.977Z"
   },
   {
    "duration": 0,
    "start_time": "2022-05-11T13:21:38.978Z"
   },
   {
    "duration": 3,
    "start_time": "2022-05-11T13:27:05.116Z"
   },
   {
    "duration": 12,
    "start_time": "2022-05-11T13:27:12.061Z"
   },
   {
    "duration": 1617,
    "start_time": "2022-05-11T13:27:33.796Z"
   },
   {
    "duration": 816,
    "start_time": "2022-05-11T13:27:35.416Z"
   },
   {
    "duration": 46,
    "start_time": "2022-05-11T13:27:36.235Z"
   },
   {
    "duration": 1140,
    "start_time": "2022-05-11T13:27:36.285Z"
   },
   {
    "duration": 108,
    "start_time": "2022-05-11T13:27:37.475Z"
   },
   {
    "duration": 699,
    "start_time": "2022-05-11T13:27:37.587Z"
   },
   {
    "duration": 28,
    "start_time": "2022-05-11T13:27:38.289Z"
   },
   {
    "duration": 611,
    "start_time": "2022-05-11T13:27:38.319Z"
   },
   {
    "duration": 781,
    "start_time": "2022-05-11T13:27:38.932Z"
   },
   {
    "duration": 6,
    "start_time": "2022-05-11T13:27:39.717Z"
   },
   {
    "duration": 10,
    "start_time": "2022-05-11T13:27:39.724Z"
   },
   {
    "duration": 13,
    "start_time": "2022-05-11T13:27:39.735Z"
   },
   {
    "duration": 43,
    "start_time": "2022-05-11T13:27:39.750Z"
   },
   {
    "duration": 18,
    "start_time": "2022-05-11T13:27:39.795Z"
   },
   {
    "duration": 18,
    "start_time": "2022-05-11T13:27:39.815Z"
   },
   {
    "duration": 14,
    "start_time": "2022-05-11T13:27:39.834Z"
   },
   {
    "duration": 50,
    "start_time": "2022-05-11T13:27:39.850Z"
   },
   {
    "duration": 36,
    "start_time": "2022-05-11T13:27:39.902Z"
   },
   {
    "duration": 6,
    "start_time": "2022-05-11T13:27:39.940Z"
   },
   {
    "duration": 11,
    "start_time": "2022-05-11T13:27:39.948Z"
   },
   {
    "duration": 7,
    "start_time": "2022-05-11T13:27:39.961Z"
   },
   {
    "duration": 28,
    "start_time": "2022-05-11T13:27:39.974Z"
   },
   {
    "duration": 30,
    "start_time": "2022-05-11T13:27:40.005Z"
   },
   {
    "duration": 220,
    "start_time": "2022-05-11T13:27:40.037Z"
   },
   {
    "duration": 139,
    "start_time": "2022-05-11T13:27:40.258Z"
   },
   {
    "duration": 0,
    "start_time": "2022-05-11T13:27:40.400Z"
   },
   {
    "duration": 0,
    "start_time": "2022-05-11T13:27:40.402Z"
   },
   {
    "duration": 0,
    "start_time": "2022-05-11T13:27:40.403Z"
   },
   {
    "duration": 0,
    "start_time": "2022-05-11T13:27:40.406Z"
   },
   {
    "duration": 0,
    "start_time": "2022-05-11T13:27:40.407Z"
   },
   {
    "duration": 0,
    "start_time": "2022-05-11T13:27:40.409Z"
   },
   {
    "duration": 0,
    "start_time": "2022-05-11T13:27:40.410Z"
   },
   {
    "duration": 0,
    "start_time": "2022-05-11T13:27:40.411Z"
   },
   {
    "duration": 0,
    "start_time": "2022-05-11T13:27:40.412Z"
   },
   {
    "duration": 0,
    "start_time": "2022-05-11T13:27:40.413Z"
   },
   {
    "duration": 27,
    "start_time": "2022-05-11T13:27:48.496Z"
   },
   {
    "duration": 32,
    "start_time": "2022-05-11T13:27:51.046Z"
   },
   {
    "duration": 16,
    "start_time": "2022-05-11T13:28:13.270Z"
   },
   {
    "duration": 12,
    "start_time": "2022-05-11T13:28:22.615Z"
   },
   {
    "duration": 7,
    "start_time": "2022-05-11T13:28:22.797Z"
   },
   {
    "duration": 11,
    "start_time": "2022-05-11T13:28:22.957Z"
   },
   {
    "duration": 2506,
    "start_time": "2022-05-11T13:28:30.702Z"
   },
   {
    "duration": 1028,
    "start_time": "2022-05-11T13:28:33.212Z"
   },
   {
    "duration": 34,
    "start_time": "2022-05-11T13:28:34.241Z"
   },
   {
    "duration": 644,
    "start_time": "2022-05-11T13:28:34.281Z"
   },
   {
    "duration": 54,
    "start_time": "2022-05-11T13:28:34.928Z"
   },
   {
    "duration": 275,
    "start_time": "2022-05-11T13:28:34.985Z"
   },
   {
    "duration": 36,
    "start_time": "2022-05-11T13:28:35.263Z"
   },
   {
    "duration": 274,
    "start_time": "2022-05-11T13:28:35.302Z"
   },
   {
    "duration": 747,
    "start_time": "2022-05-11T13:28:35.581Z"
   },
   {
    "duration": 9,
    "start_time": "2022-05-11T13:28:36.331Z"
   },
   {
    "duration": 6,
    "start_time": "2022-05-11T13:28:36.343Z"
   },
   {
    "duration": 7,
    "start_time": "2022-05-11T13:28:36.351Z"
   },
   {
    "duration": 9,
    "start_time": "2022-05-11T13:28:36.373Z"
   },
   {
    "duration": 13,
    "start_time": "2022-05-11T13:28:36.386Z"
   },
   {
    "duration": 14,
    "start_time": "2022-05-11T13:28:36.401Z"
   },
   {
    "duration": 10,
    "start_time": "2022-05-11T13:28:36.417Z"
   },
   {
    "duration": 47,
    "start_time": "2022-05-11T13:28:36.429Z"
   },
   {
    "duration": 30,
    "start_time": "2022-05-11T13:28:36.478Z"
   },
   {
    "duration": 6,
    "start_time": "2022-05-11T13:28:36.510Z"
   },
   {
    "duration": 11,
    "start_time": "2022-05-11T13:28:36.517Z"
   },
   {
    "duration": 6,
    "start_time": "2022-05-11T13:28:36.530Z"
   },
   {
    "duration": 41,
    "start_time": "2022-05-11T13:28:36.538Z"
   },
   {
    "duration": 124,
    "start_time": "2022-05-11T13:28:36.581Z"
   },
   {
    "duration": 0,
    "start_time": "2022-05-11T13:28:36.706Z"
   },
   {
    "duration": 0,
    "start_time": "2022-05-11T13:28:36.707Z"
   },
   {
    "duration": 0,
    "start_time": "2022-05-11T13:28:36.708Z"
   },
   {
    "duration": 0,
    "start_time": "2022-05-11T13:28:36.709Z"
   },
   {
    "duration": 0,
    "start_time": "2022-05-11T13:28:36.710Z"
   },
   {
    "duration": 0,
    "start_time": "2022-05-11T13:28:36.711Z"
   },
   {
    "duration": 0,
    "start_time": "2022-05-11T13:28:36.712Z"
   },
   {
    "duration": 0,
    "start_time": "2022-05-11T13:28:36.713Z"
   },
   {
    "duration": 0,
    "start_time": "2022-05-11T13:28:36.714Z"
   },
   {
    "duration": 0,
    "start_time": "2022-05-11T13:28:36.715Z"
   },
   {
    "duration": 0,
    "start_time": "2022-05-11T13:28:36.716Z"
   },
   {
    "duration": 0,
    "start_time": "2022-05-11T13:28:36.717Z"
   },
   {
    "duration": 0,
    "start_time": "2022-05-11T13:28:36.718Z"
   },
   {
    "duration": 0,
    "start_time": "2022-05-11T13:28:36.719Z"
   },
   {
    "duration": 1445,
    "start_time": "2022-05-11T13:34:14.386Z"
   },
   {
    "duration": 716,
    "start_time": "2022-05-11T13:34:15.833Z"
   },
   {
    "duration": 7,
    "start_time": "2022-05-11T13:34:19.987Z"
   },
   {
    "duration": 5,
    "start_time": "2022-05-11T13:34:21.840Z"
   },
   {
    "duration": 4,
    "start_time": "2022-05-11T13:34:23.198Z"
   },
   {
    "duration": 9,
    "start_time": "2022-05-11T13:34:25.691Z"
   },
   {
    "duration": 13,
    "start_time": "2022-05-11T13:34:26.617Z"
   },
   {
    "duration": 6,
    "start_time": "2022-05-11T13:34:29.660Z"
   },
   {
    "duration": 10,
    "start_time": "2022-05-11T13:34:31.904Z"
   },
   {
    "duration": 16,
    "start_time": "2022-05-11T13:34:34.994Z"
   },
   {
    "duration": 24,
    "start_time": "2022-05-11T13:34:35.733Z"
   },
   {
    "duration": 8,
    "start_time": "2022-05-11T13:34:42.690Z"
   },
   {
    "duration": 32,
    "start_time": "2022-05-11T13:34:56.254Z"
   },
   {
    "duration": 14,
    "start_time": "2022-05-11T13:35:01.017Z"
   },
   {
    "duration": 9,
    "start_time": "2022-05-11T13:35:19.116Z"
   },
   {
    "duration": 8,
    "start_time": "2022-05-11T13:35:36.147Z"
   },
   {
    "duration": 11,
    "start_time": "2022-05-11T13:35:47.027Z"
   },
   {
    "duration": 5,
    "start_time": "2022-05-11T13:59:59.314Z"
   },
   {
    "duration": 7,
    "start_time": "2022-05-11T14:00:04.640Z"
   },
   {
    "duration": 12,
    "start_time": "2022-05-11T14:00:36.840Z"
   },
   {
    "duration": 123,
    "start_time": "2022-05-11T14:01:50.858Z"
   },
   {
    "duration": 7,
    "start_time": "2022-05-11T14:02:21.922Z"
   },
   {
    "duration": 17,
    "start_time": "2022-05-11T14:02:37.987Z"
   },
   {
    "duration": 15,
    "start_time": "2022-05-11T14:02:59.049Z"
   },
   {
    "duration": 16,
    "start_time": "2022-05-11T14:11:07.127Z"
   },
   {
    "duration": 32,
    "start_time": "2022-05-11T14:12:27.558Z"
   },
   {
    "duration": 10,
    "start_time": "2022-05-11T14:22:42.518Z"
   },
   {
    "duration": 15,
    "start_time": "2022-05-11T14:22:42.673Z"
   },
   {
    "duration": 15,
    "start_time": "2022-05-11T14:22:42.842Z"
   },
   {
    "duration": 16,
    "start_time": "2022-05-11T14:23:13.125Z"
   },
   {
    "duration": 12,
    "start_time": "2022-05-11T14:23:21.060Z"
   },
   {
    "duration": 15,
    "start_time": "2022-05-11T14:23:22.237Z"
   },
   {
    "duration": 19,
    "start_time": "2022-05-11T14:23:43.065Z"
   },
   {
    "duration": 5,
    "start_time": "2022-05-11T14:23:53.525Z"
   },
   {
    "duration": 5,
    "start_time": "2022-05-11T14:23:54.103Z"
   },
   {
    "duration": 7,
    "start_time": "2022-05-11T14:23:54.409Z"
   },
   {
    "duration": 11,
    "start_time": "2022-05-11T14:23:56.131Z"
   },
   {
    "duration": 17,
    "start_time": "2022-05-11T14:23:57.059Z"
   },
   {
    "duration": 11,
    "start_time": "2022-05-11T14:24:06.986Z"
   },
   {
    "duration": 10,
    "start_time": "2022-05-11T14:24:07.105Z"
   },
   {
    "duration": 13,
    "start_time": "2022-05-11T14:24:07.263Z"
   },
   {
    "duration": 1431,
    "start_time": "2022-05-11T14:24:18.819Z"
   },
   {
    "duration": 790,
    "start_time": "2022-05-11T14:24:20.253Z"
   },
   {
    "duration": 51,
    "start_time": "2022-05-11T14:24:21.046Z"
   },
   {
    "duration": 826,
    "start_time": "2022-05-11T14:24:21.100Z"
   },
   {
    "duration": 99,
    "start_time": "2022-05-11T14:24:21.977Z"
   },
   {
    "duration": 615,
    "start_time": "2022-05-11T14:24:22.078Z"
   },
   {
    "duration": 25,
    "start_time": "2022-05-11T14:24:22.695Z"
   },
   {
    "duration": 517,
    "start_time": "2022-05-11T14:24:22.776Z"
   },
   {
    "duration": 864,
    "start_time": "2022-05-11T14:24:23.295Z"
   },
   {
    "duration": 12,
    "start_time": "2022-05-11T14:24:24.162Z"
   },
   {
    "duration": 21,
    "start_time": "2022-05-11T14:24:24.176Z"
   },
   {
    "duration": 9,
    "start_time": "2022-05-11T14:24:24.199Z"
   },
   {
    "duration": 11,
    "start_time": "2022-05-11T14:24:24.210Z"
   },
   {
    "duration": 13,
    "start_time": "2022-05-11T14:24:24.223Z"
   },
   {
    "duration": 7,
    "start_time": "2022-05-11T14:24:24.238Z"
   },
   {
    "duration": 9,
    "start_time": "2022-05-11T14:24:24.247Z"
   },
   {
    "duration": 35,
    "start_time": "2022-05-11T14:24:24.257Z"
   },
   {
    "duration": 21,
    "start_time": "2022-05-11T14:24:24.294Z"
   },
   {
    "duration": 11,
    "start_time": "2022-05-11T14:24:24.316Z"
   },
   {
    "duration": 11,
    "start_time": "2022-05-11T14:24:24.329Z"
   },
   {
    "duration": 39,
    "start_time": "2022-05-11T14:24:24.341Z"
   },
   {
    "duration": 13,
    "start_time": "2022-05-11T14:24:24.382Z"
   },
   {
    "duration": 16,
    "start_time": "2022-05-11T14:24:24.397Z"
   },
   {
    "duration": 6,
    "start_time": "2022-05-11T14:24:24.414Z"
   },
   {
    "duration": 7,
    "start_time": "2022-05-11T14:24:24.422Z"
   },
   {
    "duration": 15,
    "start_time": "2022-05-11T14:24:24.431Z"
   },
   {
    "duration": 7,
    "start_time": "2022-05-11T14:24:24.479Z"
   },
   {
    "duration": 6,
    "start_time": "2022-05-11T14:24:24.491Z"
   },
   {
    "duration": 11,
    "start_time": "2022-05-11T14:24:24.499Z"
   },
   {
    "duration": 133,
    "start_time": "2022-05-11T14:24:24.512Z"
   },
   {
    "duration": 0,
    "start_time": "2022-05-11T14:24:24.647Z"
   },
   {
    "duration": 0,
    "start_time": "2022-05-11T14:24:24.648Z"
   },
   {
    "duration": 0,
    "start_time": "2022-05-11T14:24:24.650Z"
   },
   {
    "duration": 0,
    "start_time": "2022-05-11T14:24:24.651Z"
   },
   {
    "duration": 0,
    "start_time": "2022-05-11T14:24:24.653Z"
   },
   {
    "duration": 0,
    "start_time": "2022-05-11T14:24:24.654Z"
   },
   {
    "duration": 0,
    "start_time": "2022-05-11T14:24:24.655Z"
   },
   {
    "duration": 0,
    "start_time": "2022-05-11T14:24:24.680Z"
   },
   {
    "duration": 0,
    "start_time": "2022-05-11T14:24:24.682Z"
   },
   {
    "duration": 0,
    "start_time": "2022-05-11T14:24:24.683Z"
   },
   {
    "duration": 0,
    "start_time": "2022-05-11T14:24:24.685Z"
   },
   {
    "duration": 0,
    "start_time": "2022-05-11T14:24:24.689Z"
   },
   {
    "duration": 0,
    "start_time": "2022-05-11T14:24:24.690Z"
   },
   {
    "duration": 0,
    "start_time": "2022-05-11T14:24:24.692Z"
   },
   {
    "duration": 1521,
    "start_time": "2022-05-11T14:25:25.050Z"
   },
   {
    "duration": 741,
    "start_time": "2022-05-11T14:25:26.575Z"
   },
   {
    "duration": 35,
    "start_time": "2022-05-11T14:25:27.318Z"
   },
   {
    "duration": 624,
    "start_time": "2022-05-11T14:25:27.355Z"
   },
   {
    "duration": 43,
    "start_time": "2022-05-11T14:25:27.981Z"
   },
   {
    "duration": 264,
    "start_time": "2022-05-11T14:25:28.026Z"
   },
   {
    "duration": 19,
    "start_time": "2022-05-11T14:25:28.291Z"
   },
   {
    "duration": 253,
    "start_time": "2022-05-11T14:25:28.312Z"
   },
   {
    "duration": 680,
    "start_time": "2022-05-11T14:25:28.573Z"
   },
   {
    "duration": 7,
    "start_time": "2022-05-11T14:25:29.257Z"
   },
   {
    "duration": 4,
    "start_time": "2022-05-11T14:25:29.278Z"
   },
   {
    "duration": 4,
    "start_time": "2022-05-11T14:25:29.288Z"
   },
   {
    "duration": 11,
    "start_time": "2022-05-11T14:25:29.294Z"
   },
   {
    "duration": 13,
    "start_time": "2022-05-11T14:25:29.307Z"
   },
   {
    "duration": 5,
    "start_time": "2022-05-11T14:25:29.322Z"
   },
   {
    "duration": 10,
    "start_time": "2022-05-11T14:25:29.329Z"
   },
   {
    "duration": 48,
    "start_time": "2022-05-11T14:25:29.340Z"
   },
   {
    "duration": 23,
    "start_time": "2022-05-11T14:25:29.390Z"
   },
   {
    "duration": 6,
    "start_time": "2022-05-11T14:25:29.415Z"
   },
   {
    "duration": 13,
    "start_time": "2022-05-11T14:25:29.422Z"
   },
   {
    "duration": 9,
    "start_time": "2022-05-11T14:25:29.437Z"
   },
   {
    "duration": 43,
    "start_time": "2022-05-11T14:25:29.447Z"
   },
   {
    "duration": 18,
    "start_time": "2022-05-11T14:25:29.491Z"
   },
   {
    "duration": 5,
    "start_time": "2022-05-11T14:25:29.511Z"
   },
   {
    "duration": 15,
    "start_time": "2022-05-11T14:25:29.518Z"
   },
   {
    "duration": 12,
    "start_time": "2022-05-11T14:25:29.535Z"
   },
   {
    "duration": 30,
    "start_time": "2022-05-11T14:25:29.549Z"
   },
   {
    "duration": 6,
    "start_time": "2022-05-11T14:25:29.583Z"
   },
   {
    "duration": 18,
    "start_time": "2022-05-11T14:25:29.591Z"
   },
   {
    "duration": 5,
    "start_time": "2022-05-11T14:25:29.611Z"
   },
   {
    "duration": 11,
    "start_time": "2022-05-11T14:25:29.617Z"
   },
   {
    "duration": 17,
    "start_time": "2022-05-11T14:25:29.630Z"
   },
   {
    "duration": 198,
    "start_time": "2022-05-11T14:25:29.649Z"
   },
   {
    "duration": 558,
    "start_time": "2022-05-11T14:25:29.849Z"
   },
   {
    "duration": 706,
    "start_time": "2022-05-11T14:25:30.409Z"
   },
   {
    "duration": 971,
    "start_time": "2022-05-11T14:25:31.118Z"
   },
   {
    "duration": 668,
    "start_time": "2022-05-11T14:25:32.091Z"
   },
   {
    "duration": 13,
    "start_time": "2022-05-11T14:25:32.773Z"
   },
   {
    "duration": 23,
    "start_time": "2022-05-11T14:25:32.788Z"
   },
   {
    "duration": 71,
    "start_time": "2022-05-11T14:25:32.813Z"
   },
   {
    "duration": 915,
    "start_time": "2022-05-11T14:25:32.886Z"
   },
   {
    "duration": 701,
    "start_time": "2022-05-11T14:25:33.803Z"
   },
   {
    "duration": 11,
    "start_time": "2022-05-11T14:25:34.507Z"
   },
   {
    "duration": 10,
    "start_time": "2022-05-11T14:25:34.519Z"
   },
   {
    "duration": 1473,
    "start_time": "2022-05-11T14:26:07.354Z"
   },
   {
    "duration": 723,
    "start_time": "2022-05-11T14:26:08.830Z"
   },
   {
    "duration": 38,
    "start_time": "2022-05-11T14:26:09.555Z"
   },
   {
    "duration": 579,
    "start_time": "2022-05-11T14:26:09.598Z"
   },
   {
    "duration": 56,
    "start_time": "2022-05-11T14:26:10.178Z"
   },
   {
    "duration": 271,
    "start_time": "2022-05-11T14:26:10.236Z"
   },
   {
    "duration": 18,
    "start_time": "2022-05-11T14:26:10.509Z"
   },
   {
    "duration": 241,
    "start_time": "2022-05-11T14:26:10.528Z"
   },
   {
    "duration": 681,
    "start_time": "2022-05-11T14:26:10.778Z"
   },
   {
    "duration": 15,
    "start_time": "2022-05-11T14:26:11.462Z"
   },
   {
    "duration": 25,
    "start_time": "2022-05-11T14:26:11.479Z"
   },
   {
    "duration": 9,
    "start_time": "2022-05-11T14:26:11.507Z"
   },
   {
    "duration": 10,
    "start_time": "2022-05-11T14:26:11.518Z"
   },
   {
    "duration": 16,
    "start_time": "2022-05-11T14:26:11.530Z"
   },
   {
    "duration": 6,
    "start_time": "2022-05-11T14:26:11.549Z"
   },
   {
    "duration": 18,
    "start_time": "2022-05-11T14:26:11.557Z"
   },
   {
    "duration": 18,
    "start_time": "2022-05-11T14:26:11.581Z"
   },
   {
    "duration": 21,
    "start_time": "2022-05-11T14:26:11.601Z"
   },
   {
    "duration": 5,
    "start_time": "2022-05-11T14:26:11.624Z"
   },
   {
    "duration": 12,
    "start_time": "2022-05-11T14:26:11.631Z"
   },
   {
    "duration": 41,
    "start_time": "2022-05-11T14:26:11.644Z"
   },
   {
    "duration": 10,
    "start_time": "2022-05-11T14:26:11.687Z"
   },
   {
    "duration": 16,
    "start_time": "2022-05-11T14:26:11.699Z"
   },
   {
    "duration": 7,
    "start_time": "2022-05-11T14:26:11.717Z"
   },
   {
    "duration": 5,
    "start_time": "2022-05-11T14:26:11.726Z"
   },
   {
    "duration": 44,
    "start_time": "2022-05-11T14:26:11.733Z"
   },
   {
    "duration": 9,
    "start_time": "2022-05-11T14:26:11.780Z"
   },
   {
    "duration": 8,
    "start_time": "2022-05-11T14:26:11.793Z"
   },
   {
    "duration": 17,
    "start_time": "2022-05-11T14:26:11.803Z"
   },
   {
    "duration": 220,
    "start_time": "2022-05-11T14:26:11.822Z"
   },
   {
    "duration": 534,
    "start_time": "2022-05-11T14:26:12.044Z"
   },
   {
    "duration": 438,
    "start_time": "2022-05-11T14:26:12.585Z"
   },
   {
    "duration": 444,
    "start_time": "2022-05-11T14:26:13.025Z"
   },
   {
    "duration": 443,
    "start_time": "2022-05-11T14:26:13.470Z"
   },
   {
    "duration": 13,
    "start_time": "2022-05-11T14:26:13.915Z"
   },
   {
    "duration": 21,
    "start_time": "2022-05-11T14:26:13.930Z"
   },
   {
    "duration": 80,
    "start_time": "2022-05-11T14:26:13.953Z"
   },
   {
    "duration": 972,
    "start_time": "2022-05-11T14:26:14.035Z"
   },
   {
    "duration": 708,
    "start_time": "2022-05-11T14:26:15.009Z"
   },
   {
    "duration": 11,
    "start_time": "2022-05-11T14:26:15.719Z"
   },
   {
    "duration": 7,
    "start_time": "2022-05-11T14:46:37.596Z"
   },
   {
    "duration": 11,
    "start_time": "2022-05-11T14:46:47.399Z"
   },
   {
    "duration": 7,
    "start_time": "2022-05-11T14:46:51.390Z"
   },
   {
    "duration": 13,
    "start_time": "2022-05-11T14:46:56.769Z"
   },
   {
    "duration": 12,
    "start_time": "2022-05-11T14:47:01.650Z"
   },
   {
    "duration": 9,
    "start_time": "2022-05-11T14:47:05.140Z"
   },
   {
    "duration": 10,
    "start_time": "2022-05-11T14:47:15.636Z"
   },
   {
    "duration": 7,
    "start_time": "2022-05-11T14:47:19.894Z"
   },
   {
    "duration": 13,
    "start_time": "2022-05-11T14:47:28.116Z"
   },
   {
    "duration": 9,
    "start_time": "2022-05-11T14:48:26.192Z"
   },
   {
    "duration": 11,
    "start_time": "2022-05-11T14:48:30.099Z"
   },
   {
    "duration": 10,
    "start_time": "2022-05-11T14:48:38.640Z"
   },
   {
    "duration": 10,
    "start_time": "2022-05-11T14:48:58.914Z"
   },
   {
    "duration": 10,
    "start_time": "2022-05-11T14:49:03.426Z"
   },
   {
    "duration": 11,
    "start_time": "2022-05-11T14:49:22.189Z"
   },
   {
    "duration": 9,
    "start_time": "2022-05-11T14:49:23.356Z"
   },
   {
    "duration": 7,
    "start_time": "2022-05-11T15:12:47.243Z"
   },
   {
    "duration": 182,
    "start_time": "2022-05-11T15:13:03.209Z"
   },
   {
    "duration": 14,
    "start_time": "2022-05-11T15:13:21.037Z"
   },
   {
    "duration": 14,
    "start_time": "2022-05-11T15:13:33.006Z"
   },
   {
    "duration": 1623,
    "start_time": "2022-05-11T15:13:52.153Z"
   },
   {
    "duration": 752,
    "start_time": "2022-05-11T15:13:53.778Z"
   },
   {
    "duration": 33,
    "start_time": "2022-05-11T15:13:54.532Z"
   },
   {
    "duration": 571,
    "start_time": "2022-05-11T15:13:54.574Z"
   },
   {
    "duration": 48,
    "start_time": "2022-05-11T15:13:55.147Z"
   },
   {
    "duration": 230,
    "start_time": "2022-05-11T15:13:55.197Z"
   },
   {
    "duration": 17,
    "start_time": "2022-05-11T15:13:55.429Z"
   },
   {
    "duration": 240,
    "start_time": "2022-05-11T15:13:55.448Z"
   },
   {
    "duration": 638,
    "start_time": "2022-05-11T15:13:55.690Z"
   },
   {
    "duration": 7,
    "start_time": "2022-05-11T15:13:56.331Z"
   },
   {
    "duration": 5,
    "start_time": "2022-05-11T15:13:56.340Z"
   },
   {
    "duration": 5,
    "start_time": "2022-05-11T15:13:56.347Z"
   },
   {
    "duration": 25,
    "start_time": "2022-05-11T15:13:56.354Z"
   },
   {
    "duration": 17,
    "start_time": "2022-05-11T15:13:56.381Z"
   },
   {
    "duration": 7,
    "start_time": "2022-05-11T15:13:56.401Z"
   },
   {
    "duration": 7,
    "start_time": "2022-05-11T15:13:56.410Z"
   },
   {
    "duration": 25,
    "start_time": "2022-05-11T15:13:56.419Z"
   },
   {
    "duration": 35,
    "start_time": "2022-05-11T15:13:56.473Z"
   },
   {
    "duration": 6,
    "start_time": "2022-05-11T15:13:56.511Z"
   },
   {
    "duration": 15,
    "start_time": "2022-05-11T15:13:56.520Z"
   },
   {
    "duration": 35,
    "start_time": "2022-05-11T15:13:56.538Z"
   },
   {
    "duration": 11,
    "start_time": "2022-05-11T15:13:56.575Z"
   },
   {
    "duration": 16,
    "start_time": "2022-05-11T15:13:56.588Z"
   },
   {
    "duration": 8,
    "start_time": "2022-05-11T15:13:56.606Z"
   },
   {
    "duration": 6,
    "start_time": "2022-05-11T15:13:56.616Z"
   },
   {
    "duration": 50,
    "start_time": "2022-05-11T15:13:56.623Z"
   },
   {
    "duration": 5,
    "start_time": "2022-05-11T15:13:56.675Z"
   },
   {
    "duration": 6,
    "start_time": "2022-05-11T15:13:56.683Z"
   },
   {
    "duration": 17,
    "start_time": "2022-05-11T15:13:56.691Z"
   },
   {
    "duration": 202,
    "start_time": "2022-05-11T15:13:56.709Z"
   },
   {
    "duration": 557,
    "start_time": "2022-05-11T15:13:56.913Z"
   },
   {
    "duration": 441,
    "start_time": "2022-05-11T15:13:57.472Z"
   },
   {
    "duration": 431,
    "start_time": "2022-05-11T15:13:57.914Z"
   },
   {
    "duration": 455,
    "start_time": "2022-05-11T15:13:58.347Z"
   },
   {
    "duration": 11,
    "start_time": "2022-05-11T15:13:58.804Z"
   },
   {
    "duration": 31,
    "start_time": "2022-05-11T15:13:58.816Z"
   },
   {
    "duration": 82,
    "start_time": "2022-05-11T15:13:58.848Z"
   },
   {
    "duration": 867,
    "start_time": "2022-05-11T15:13:58.931Z"
   },
   {
    "duration": 732,
    "start_time": "2022-05-11T15:13:59.800Z"
   },
   {
    "duration": 128,
    "start_time": "2022-05-11T15:14:00.534Z"
   },
   {
    "duration": 6,
    "start_time": "2022-05-11T16:52:53.871Z"
   },
   {
    "duration": 26,
    "start_time": "2022-05-11T16:52:55.972Z"
   },
   {
    "duration": 29,
    "start_time": "2022-05-11T16:53:04.804Z"
   },
   {
    "duration": 11,
    "start_time": "2022-05-11T18:08:49.664Z"
   },
   {
    "duration": 564,
    "start_time": "2022-05-11T18:08:54.503Z"
   },
   {
    "duration": 10,
    "start_time": "2022-05-11T18:09:02.902Z"
   },
   {
    "duration": 723,
    "start_time": "2022-05-11T18:09:03.143Z"
   },
   {
    "duration": 9,
    "start_time": "2022-05-11T18:09:10.375Z"
   },
   {
    "duration": 685,
    "start_time": "2022-05-11T18:09:11.088Z"
   },
   {
    "duration": 1489,
    "start_time": "2022-05-11T18:09:24.032Z"
   },
   {
    "duration": 698,
    "start_time": "2022-05-11T18:09:25.526Z"
   },
   {
    "duration": 34,
    "start_time": "2022-05-11T18:09:26.226Z"
   },
   {
    "duration": 602,
    "start_time": "2022-05-11T18:09:26.262Z"
   },
   {
    "duration": 54,
    "start_time": "2022-05-11T18:09:26.866Z"
   },
   {
    "duration": 243,
    "start_time": "2022-05-11T18:09:26.922Z"
   },
   {
    "duration": 36,
    "start_time": "2022-05-11T18:09:27.167Z"
   },
   {
    "duration": 236,
    "start_time": "2022-05-11T18:09:27.207Z"
   },
   {
    "duration": 697,
    "start_time": "2022-05-11T18:09:27.446Z"
   },
   {
    "duration": 8,
    "start_time": "2022-05-11T18:09:28.145Z"
   },
   {
    "duration": 8,
    "start_time": "2022-05-11T18:09:28.155Z"
   },
   {
    "duration": 7,
    "start_time": "2022-05-11T18:09:28.165Z"
   },
   {
    "duration": 17,
    "start_time": "2022-05-11T18:09:28.187Z"
   },
   {
    "duration": 16,
    "start_time": "2022-05-11T18:09:28.206Z"
   },
   {
    "duration": 11,
    "start_time": "2022-05-11T18:09:28.223Z"
   },
   {
    "duration": 11,
    "start_time": "2022-05-11T18:09:28.235Z"
   },
   {
    "duration": 16,
    "start_time": "2022-05-11T18:09:28.248Z"
   },
   {
    "duration": 40,
    "start_time": "2022-05-11T18:09:28.266Z"
   },
   {
    "duration": 6,
    "start_time": "2022-05-11T18:09:28.310Z"
   },
   {
    "duration": 13,
    "start_time": "2022-05-11T18:09:28.317Z"
   },
   {
    "duration": 6,
    "start_time": "2022-05-11T18:09:28.332Z"
   },
   {
    "duration": 10,
    "start_time": "2022-05-11T18:09:28.340Z"
   },
   {
    "duration": 52,
    "start_time": "2022-05-11T18:09:28.352Z"
   },
   {
    "duration": 13,
    "start_time": "2022-05-11T18:09:28.407Z"
   },
   {
    "duration": 8,
    "start_time": "2022-05-11T18:09:28.422Z"
   },
   {
    "duration": 19,
    "start_time": "2022-05-11T18:09:28.432Z"
   },
   {
    "duration": 5,
    "start_time": "2022-05-11T18:09:28.456Z"
   },
   {
    "duration": 8,
    "start_time": "2022-05-11T18:09:28.492Z"
   },
   {
    "duration": 27,
    "start_time": "2022-05-11T18:09:28.501Z"
   },
   {
    "duration": 204,
    "start_time": "2022-05-11T18:09:28.530Z"
   },
   {
    "duration": 569,
    "start_time": "2022-05-11T18:09:28.736Z"
   },
   {
    "duration": 537,
    "start_time": "2022-05-11T18:09:29.307Z"
   },
   {
    "duration": 461,
    "start_time": "2022-05-11T18:09:29.846Z"
   },
   {
    "duration": 416,
    "start_time": "2022-05-11T18:09:30.309Z"
   },
   {
    "duration": 11,
    "start_time": "2022-05-11T18:09:30.727Z"
   },
   {
    "duration": 25,
    "start_time": "2022-05-11T18:09:30.740Z"
   },
   {
    "duration": 71,
    "start_time": "2022-05-11T18:09:30.767Z"
   },
   {
    "duration": 971,
    "start_time": "2022-05-11T18:09:30.840Z"
   },
   {
    "duration": 698,
    "start_time": "2022-05-11T18:09:31.813Z"
   },
   {
    "duration": 9,
    "start_time": "2022-05-11T18:09:32.513Z"
   },
   {
    "duration": 560,
    "start_time": "2022-05-11T18:09:32.524Z"
   },
   {
    "duration": 741,
    "start_time": "2022-05-11T18:10:22.707Z"
   },
   {
    "duration": 20,
    "start_time": "2022-05-11T18:10:25.897Z"
   },
   {
    "duration": 18,
    "start_time": "2022-05-11T18:10:34.557Z"
   },
   {
    "duration": 927,
    "start_time": "2022-05-11T18:10:48.405Z"
   },
   {
    "duration": 4,
    "start_time": "2022-05-11T20:09:56.212Z"
   },
   {
    "duration": 63,
    "start_time": "2022-05-12T13:18:51.414Z"
   },
   {
    "duration": 2086,
    "start_time": "2022-05-12T13:19:00.435Z"
   },
   {
    "duration": 913,
    "start_time": "2022-05-12T13:19:02.529Z"
   },
   {
    "duration": 36,
    "start_time": "2022-05-12T13:19:03.444Z"
   },
   {
    "duration": 735,
    "start_time": "2022-05-12T13:19:03.500Z"
   },
   {
    "duration": 43,
    "start_time": "2022-05-12T13:19:04.238Z"
   },
   {
    "duration": 309,
    "start_time": "2022-05-12T13:19:04.283Z"
   },
   {
    "duration": 31,
    "start_time": "2022-05-12T13:19:04.597Z"
   },
   {
    "duration": 295,
    "start_time": "2022-05-12T13:19:04.633Z"
   },
   {
    "duration": 824,
    "start_time": "2022-05-12T13:19:04.930Z"
   },
   {
    "duration": 7,
    "start_time": "2022-05-12T13:19:05.758Z"
   },
   {
    "duration": 36,
    "start_time": "2022-05-12T13:19:05.767Z"
   },
   {
    "duration": 38,
    "start_time": "2022-05-12T13:19:05.806Z"
   },
   {
    "duration": 9,
    "start_time": "2022-05-12T13:19:05.846Z"
   },
   {
    "duration": 13,
    "start_time": "2022-05-12T13:19:05.857Z"
   },
   {
    "duration": 7,
    "start_time": "2022-05-12T13:19:05.873Z"
   },
   {
    "duration": 63,
    "start_time": "2022-05-12T13:19:05.882Z"
   },
   {
    "duration": 20,
    "start_time": "2022-05-12T13:19:05.948Z"
   },
   {
    "duration": 48,
    "start_time": "2022-05-12T13:19:05.970Z"
   },
   {
    "duration": 29,
    "start_time": "2022-05-12T13:19:06.023Z"
   },
   {
    "duration": 12,
    "start_time": "2022-05-12T13:19:06.054Z"
   },
   {
    "duration": 7,
    "start_time": "2022-05-12T13:19:06.068Z"
   },
   {
    "duration": 32,
    "start_time": "2022-05-12T13:19:06.077Z"
   },
   {
    "duration": 29,
    "start_time": "2022-05-12T13:19:06.110Z"
   },
   {
    "duration": 14,
    "start_time": "2022-05-12T13:19:06.140Z"
   },
   {
    "duration": 5,
    "start_time": "2022-05-12T13:19:06.157Z"
   },
   {
    "duration": 16,
    "start_time": "2022-05-12T13:19:06.164Z"
   },
   {
    "duration": 6,
    "start_time": "2022-05-12T13:19:06.181Z"
   },
   {
    "duration": 32,
    "start_time": "2022-05-12T13:19:06.206Z"
   },
   {
    "duration": 22,
    "start_time": "2022-05-12T13:19:06.240Z"
   },
   {
    "duration": 210,
    "start_time": "2022-05-12T13:19:06.264Z"
   },
   {
    "duration": 670,
    "start_time": "2022-05-12T13:19:06.477Z"
   },
   {
    "duration": 617,
    "start_time": "2022-05-12T13:19:07.155Z"
   },
   {
    "duration": 541,
    "start_time": "2022-05-12T13:19:07.774Z"
   },
   {
    "duration": 533,
    "start_time": "2022-05-12T13:19:08.317Z"
   },
   {
    "duration": 11,
    "start_time": "2022-05-12T13:19:08.852Z"
   },
   {
    "duration": 40,
    "start_time": "2022-05-12T13:19:08.865Z"
   },
   {
    "duration": 110,
    "start_time": "2022-05-12T13:19:08.907Z"
   },
   {
    "duration": 1159,
    "start_time": "2022-05-12T13:19:09.020Z"
   },
   {
    "duration": 852,
    "start_time": "2022-05-12T13:19:10.181Z"
   },
   {
    "duration": 9,
    "start_time": "2022-05-12T13:19:11.035Z"
   },
   {
    "duration": 1030,
    "start_time": "2022-05-12T13:19:11.046Z"
   },
   {
    "duration": 5,
    "start_time": "2022-05-12T13:19:12.078Z"
   },
   {
    "duration": 53,
    "start_time": "2022-05-12T13:19:12.085Z"
   },
   {
    "duration": 158,
    "start_time": "2022-05-12T13:19:12.140Z"
   },
   {
    "duration": 0,
    "start_time": "2022-05-12T13:19:12.302Z"
   },
   {
    "duration": 15,
    "start_time": "2022-05-12T13:20:00.014Z"
   },
   {
    "duration": 7,
    "start_time": "2022-05-12T13:20:04.918Z"
   },
   {
    "duration": 17,
    "start_time": "2022-05-12T13:20:38.427Z"
   },
   {
    "duration": 7,
    "start_time": "2022-05-12T13:21:09.733Z"
   },
   {
    "duration": 17,
    "start_time": "2022-05-12T13:21:11.613Z"
   },
   {
    "duration": 9,
    "start_time": "2022-05-12T13:22:46.853Z"
   },
   {
    "duration": 16,
    "start_time": "2022-05-12T13:22:47.514Z"
   },
   {
    "duration": 34,
    "start_time": "2022-05-12T13:22:52.935Z"
   },
   {
    "duration": 6,
    "start_time": "2022-05-12T13:23:05.415Z"
   },
   {
    "duration": 89,
    "start_time": "2022-05-12T13:25:31.773Z"
   },
   {
    "duration": 22,
    "start_time": "2022-05-12T13:25:47.037Z"
   },
   {
    "duration": 58,
    "start_time": "2022-05-12T13:25:47.614Z"
   },
   {
    "duration": 40,
    "start_time": "2022-05-12T13:26:06.615Z"
   },
   {
    "duration": 5,
    "start_time": "2022-05-12T13:26:15.854Z"
   },
   {
    "duration": 35,
    "start_time": "2022-05-12T13:26:16.973Z"
   },
   {
    "duration": 1661,
    "start_time": "2022-05-12T13:50:23.346Z"
   },
   {
    "duration": 942,
    "start_time": "2022-05-12T13:50:25.014Z"
   },
   {
    "duration": 37,
    "start_time": "2022-05-12T13:50:25.958Z"
   },
   {
    "duration": 670,
    "start_time": "2022-05-12T13:50:26.000Z"
   },
   {
    "duration": 63,
    "start_time": "2022-05-12T13:50:26.673Z"
   },
   {
    "duration": 300,
    "start_time": "2022-05-12T13:50:26.738Z"
   },
   {
    "duration": 18,
    "start_time": "2022-05-12T13:50:27.040Z"
   },
   {
    "duration": 291,
    "start_time": "2022-05-12T13:50:27.060Z"
   },
   {
    "duration": 867,
    "start_time": "2022-05-12T13:50:27.353Z"
   },
   {
    "duration": 13,
    "start_time": "2022-05-12T13:50:28.223Z"
   },
   {
    "duration": 8,
    "start_time": "2022-05-12T13:50:28.239Z"
   },
   {
    "duration": 16,
    "start_time": "2022-05-12T13:50:28.249Z"
   },
   {
    "duration": 75,
    "start_time": "2022-05-12T13:50:28.266Z"
   },
   {
    "duration": 11,
    "start_time": "2022-05-12T13:50:28.344Z"
   },
   {
    "duration": 7,
    "start_time": "2022-05-12T13:50:28.357Z"
   },
   {
    "duration": 9,
    "start_time": "2022-05-12T13:50:28.365Z"
   },
   {
    "duration": 16,
    "start_time": "2022-05-12T13:50:28.376Z"
   },
   {
    "duration": 44,
    "start_time": "2022-05-12T13:50:28.410Z"
   },
   {
    "duration": 8,
    "start_time": "2022-05-12T13:50:28.455Z"
   },
   {
    "duration": 15,
    "start_time": "2022-05-12T13:50:28.465Z"
   },
   {
    "duration": 16,
    "start_time": "2022-05-12T13:50:28.482Z"
   },
   {
    "duration": 57,
    "start_time": "2022-05-12T13:50:28.501Z"
   },
   {
    "duration": 23,
    "start_time": "2022-05-12T13:50:28.560Z"
   },
   {
    "duration": 29,
    "start_time": "2022-05-12T13:50:28.585Z"
   },
   {
    "duration": 22,
    "start_time": "2022-05-12T13:50:28.624Z"
   },
   {
    "duration": 17,
    "start_time": "2022-05-12T13:50:28.648Z"
   },
   {
    "duration": 5,
    "start_time": "2022-05-12T13:50:28.666Z"
   },
   {
    "duration": 10,
    "start_time": "2022-05-12T13:50:28.672Z"
   },
   {
    "duration": 61,
    "start_time": "2022-05-12T13:50:28.683Z"
   },
   {
    "duration": 241,
    "start_time": "2022-05-12T13:50:28.745Z"
   },
   {
    "duration": 645,
    "start_time": "2022-05-12T13:50:28.990Z"
   },
   {
    "duration": 621,
    "start_time": "2022-05-12T13:50:29.638Z"
   },
   {
    "duration": 519,
    "start_time": "2022-05-12T13:50:30.262Z"
   },
   {
    "duration": 628,
    "start_time": "2022-05-12T13:50:30.783Z"
   },
   {
    "duration": 12,
    "start_time": "2022-05-12T13:50:31.415Z"
   },
   {
    "duration": 29,
    "start_time": "2022-05-12T13:50:31.429Z"
   },
   {
    "duration": 97,
    "start_time": "2022-05-12T13:50:31.461Z"
   },
   {
    "duration": 1167,
    "start_time": "2022-05-12T13:50:31.561Z"
   },
   {
    "duration": 1073,
    "start_time": "2022-05-12T13:50:32.730Z"
   },
   {
    "duration": 14,
    "start_time": "2022-05-12T13:50:33.809Z"
   },
   {
    "duration": 1122,
    "start_time": "2022-05-12T13:50:33.832Z"
   },
   {
    "duration": 5,
    "start_time": "2022-05-12T13:50:34.958Z"
   },
   {
    "duration": 6,
    "start_time": "2022-05-12T13:50:34.965Z"
   },
   {
    "duration": 36,
    "start_time": "2022-05-12T13:50:34.972Z"
   },
   {
    "duration": 22,
    "start_time": "2022-05-12T13:50:35.010Z"
   },
   {
    "duration": 37,
    "start_time": "2022-05-12T13:50:35.034Z"
   },
   {
    "duration": 7,
    "start_time": "2022-05-12T13:53:41.556Z"
   },
   {
    "duration": 19,
    "start_time": "2022-05-12T13:53:41.755Z"
   },
   {
    "duration": 145,
    "start_time": "2022-05-12T13:53:42.423Z"
   },
   {
    "duration": 6,
    "start_time": "2022-05-12T13:54:12.724Z"
   },
   {
    "duration": 9572,
    "start_time": "2022-05-12T13:54:24.259Z"
   },
   {
    "duration": 9820,
    "start_time": "2022-05-12T13:54:47.220Z"
   },
   {
    "duration": 9654,
    "start_time": "2022-05-12T13:55:40.455Z"
   },
   {
    "duration": 1516,
    "start_time": "2022-05-12T17:08:58.909Z"
   },
   {
    "duration": 745,
    "start_time": "2022-05-12T17:09:00.428Z"
   },
   {
    "duration": 30,
    "start_time": "2022-05-12T17:09:01.175Z"
   },
   {
    "duration": 550,
    "start_time": "2022-05-12T17:09:01.207Z"
   },
   {
    "duration": 56,
    "start_time": "2022-05-12T17:09:01.758Z"
   },
   {
    "duration": 232,
    "start_time": "2022-05-12T17:09:01.816Z"
   },
   {
    "duration": 17,
    "start_time": "2022-05-12T17:09:02.050Z"
   },
   {
    "duration": 236,
    "start_time": "2022-05-12T17:09:02.069Z"
   },
   {
    "duration": 628,
    "start_time": "2022-05-12T17:09:02.307Z"
   },
   {
    "duration": 5,
    "start_time": "2022-05-12T17:09:02.938Z"
   },
   {
    "duration": 7,
    "start_time": "2022-05-12T17:09:02.944Z"
   },
   {
    "duration": 5,
    "start_time": "2022-05-12T17:09:02.952Z"
   },
   {
    "duration": 29,
    "start_time": "2022-05-12T17:09:02.959Z"
   },
   {
    "duration": 10,
    "start_time": "2022-05-12T17:09:02.990Z"
   },
   {
    "duration": 12,
    "start_time": "2022-05-12T17:09:03.001Z"
   },
   {
    "duration": 9,
    "start_time": "2022-05-12T17:09:03.014Z"
   },
   {
    "duration": 16,
    "start_time": "2022-05-12T17:09:03.025Z"
   },
   {
    "duration": 50,
    "start_time": "2022-05-12T17:09:03.043Z"
   },
   {
    "duration": 6,
    "start_time": "2022-05-12T17:09:03.094Z"
   },
   {
    "duration": 16,
    "start_time": "2022-05-12T17:09:03.101Z"
   },
   {
    "duration": 11,
    "start_time": "2022-05-12T17:09:03.119Z"
   },
   {
    "duration": 15,
    "start_time": "2022-05-12T17:09:03.132Z"
   },
   {
    "duration": 39,
    "start_time": "2022-05-12T17:09:03.149Z"
   },
   {
    "duration": 8,
    "start_time": "2022-05-12T17:09:03.190Z"
   },
   {
    "duration": 10,
    "start_time": "2022-05-12T17:09:03.199Z"
   },
   {
    "duration": 17,
    "start_time": "2022-05-12T17:09:03.211Z"
   },
   {
    "duration": 4,
    "start_time": "2022-05-12T17:09:03.230Z"
   },
   {
    "duration": 9,
    "start_time": "2022-05-12T17:09:03.237Z"
   },
   {
    "duration": 43,
    "start_time": "2022-05-12T17:09:03.248Z"
   },
   {
    "duration": 170,
    "start_time": "2022-05-12T17:09:03.293Z"
   },
   {
    "duration": 488,
    "start_time": "2022-05-12T17:09:03.465Z"
   },
   {
    "duration": 457,
    "start_time": "2022-05-12T17:09:03.955Z"
   },
   {
    "duration": 414,
    "start_time": "2022-05-12T17:09:04.414Z"
   },
   {
    "duration": 477,
    "start_time": "2022-05-12T17:09:04.830Z"
   },
   {
    "duration": 11,
    "start_time": "2022-05-12T17:09:05.309Z"
   },
   {
    "duration": 21,
    "start_time": "2022-05-12T17:09:05.322Z"
   },
   {
    "duration": 70,
    "start_time": "2022-05-12T17:09:05.345Z"
   },
   {
    "duration": 980,
    "start_time": "2022-05-12T17:09:05.417Z"
   },
   {
    "duration": 649,
    "start_time": "2022-05-12T17:09:06.399Z"
   },
   {
    "duration": 9,
    "start_time": "2022-05-12T17:09:07.050Z"
   },
   {
    "duration": 843,
    "start_time": "2022-05-12T17:09:07.062Z"
   },
   {
    "duration": 4,
    "start_time": "2022-05-12T17:09:07.907Z"
   },
   {
    "duration": 7,
    "start_time": "2022-05-12T17:09:07.913Z"
   },
   {
    "duration": 10,
    "start_time": "2022-05-12T17:09:07.922Z"
   },
   {
    "duration": 26,
    "start_time": "2022-05-12T17:09:07.934Z"
   },
   {
    "duration": 3126,
    "start_time": "2022-05-12T17:09:07.962Z"
   },
   {
    "duration": 3238,
    "start_time": "2022-05-12T17:11:29.336Z"
   },
   {
    "duration": 3406,
    "start_time": "2022-05-12T17:11:40.198Z"
   },
   {
    "duration": 11,
    "start_time": "2022-05-12T17:13:00.707Z"
   },
   {
    "duration": 4369,
    "start_time": "2022-05-12T17:13:47.929Z"
   },
   {
    "duration": 3,
    "start_time": "2022-05-12T17:14:20.880Z"
   },
   {
    "duration": 11,
    "start_time": "2022-05-12T17:14:47.860Z"
   },
   {
    "duration": 2,
    "start_time": "2022-05-12T17:14:51.549Z"
   },
   {
    "duration": 3939,
    "start_time": "2022-05-12T17:14:51.833Z"
   },
   {
    "duration": 13,
    "start_time": "2022-05-12T17:17:51.927Z"
   },
   {
    "duration": 12,
    "start_time": "2022-05-12T17:18:01.717Z"
   },
   {
    "duration": 4190,
    "start_time": "2022-05-12T17:21:47.344Z"
   },
   {
    "duration": 3526,
    "start_time": "2022-05-12T17:22:14.779Z"
   },
   {
    "duration": 11,
    "start_time": "2022-05-12T17:23:30.951Z"
   },
   {
    "duration": 32,
    "start_time": "2022-05-12T17:24:13.087Z"
   },
   {
    "duration": 3321,
    "start_time": "2022-05-12T17:24:16.774Z"
   },
   {
    "duration": 31,
    "start_time": "2022-05-12T17:24:37.174Z"
   },
   {
    "duration": 5,
    "start_time": "2022-05-12T17:24:42.122Z"
   },
   {
    "duration": 5,
    "start_time": "2022-05-12T17:24:47.545Z"
   },
   {
    "duration": 6,
    "start_time": "2022-05-12T17:24:53.438Z"
   },
   {
    "duration": 7,
    "start_time": "2022-05-12T17:29:43.484Z"
   },
   {
    "duration": 6,
    "start_time": "2022-05-12T17:29:51.688Z"
   },
   {
    "duration": 5,
    "start_time": "2022-05-12T17:29:55.081Z"
   },
   {
    "duration": 13,
    "start_time": "2022-05-12T17:30:42.157Z"
   },
   {
    "duration": 2,
    "start_time": "2022-05-12T17:30:55.916Z"
   },
   {
    "duration": 17,
    "start_time": "2022-05-12T17:30:56.134Z"
   },
   {
    "duration": 33,
    "start_time": "2022-05-12T17:30:56.329Z"
   },
   {
    "duration": 4,
    "start_time": "2022-05-12T17:31:09.729Z"
   },
   {
    "duration": 11,
    "start_time": "2022-05-12T17:35:20.284Z"
   },
   {
    "duration": 1572,
    "start_time": "2022-05-12T17:35:28.136Z"
   },
   {
    "duration": 723,
    "start_time": "2022-05-12T17:35:29.710Z"
   },
   {
    "duration": 29,
    "start_time": "2022-05-12T17:35:30.435Z"
   },
   {
    "duration": 629,
    "start_time": "2022-05-12T17:35:30.466Z"
   },
   {
    "duration": 40,
    "start_time": "2022-05-12T17:35:31.097Z"
   },
   {
    "duration": 246,
    "start_time": "2022-05-12T17:35:31.139Z"
   },
   {
    "duration": 25,
    "start_time": "2022-05-12T17:35:31.387Z"
   },
   {
    "duration": 252,
    "start_time": "2022-05-12T17:35:31.415Z"
   },
   {
    "duration": 669,
    "start_time": "2022-05-12T17:35:31.669Z"
   },
   {
    "duration": 7,
    "start_time": "2022-05-12T17:35:32.341Z"
   },
   {
    "duration": 9,
    "start_time": "2022-05-12T17:35:32.350Z"
   },
   {
    "duration": 7,
    "start_time": "2022-05-12T17:35:32.361Z"
   },
   {
    "duration": 28,
    "start_time": "2022-05-12T17:35:32.369Z"
   },
   {
    "duration": 23,
    "start_time": "2022-05-12T17:35:32.399Z"
   },
   {
    "duration": 7,
    "start_time": "2022-05-12T17:35:32.424Z"
   },
   {
    "duration": 10,
    "start_time": "2022-05-12T17:35:32.433Z"
   },
   {
    "duration": 14,
    "start_time": "2022-05-12T17:35:32.445Z"
   },
   {
    "duration": 38,
    "start_time": "2022-05-12T17:35:32.460Z"
   },
   {
    "duration": 8,
    "start_time": "2022-05-12T17:35:32.500Z"
   },
   {
    "duration": 11,
    "start_time": "2022-05-12T17:35:32.510Z"
   },
   {
    "duration": 7,
    "start_time": "2022-05-12T17:35:32.522Z"
   },
   {
    "duration": 12,
    "start_time": "2022-05-12T17:35:32.532Z"
   },
   {
    "duration": 47,
    "start_time": "2022-05-12T17:35:32.546Z"
   },
   {
    "duration": 9,
    "start_time": "2022-05-12T17:35:32.595Z"
   },
   {
    "duration": 7,
    "start_time": "2022-05-12T17:35:32.608Z"
   },
   {
    "duration": 15,
    "start_time": "2022-05-12T17:35:32.617Z"
   },
   {
    "duration": 5,
    "start_time": "2022-05-12T17:35:32.634Z"
   },
   {
    "duration": 7,
    "start_time": "2022-05-12T17:35:32.642Z"
   },
   {
    "duration": 20,
    "start_time": "2022-05-12T17:35:32.650Z"
   },
   {
    "duration": 204,
    "start_time": "2022-05-12T17:35:32.671Z"
   },
   {
    "duration": 536,
    "start_time": "2022-05-12T17:35:32.877Z"
   },
   {
    "duration": 535,
    "start_time": "2022-05-12T17:35:33.415Z"
   },
   {
    "duration": 429,
    "start_time": "2022-05-12T17:35:33.952Z"
   },
   {
    "duration": 434,
    "start_time": "2022-05-12T17:35:34.383Z"
   },
   {
    "duration": 11,
    "start_time": "2022-05-12T17:35:34.819Z"
   },
   {
    "duration": 29,
    "start_time": "2022-05-12T17:35:34.832Z"
   },
   {
    "duration": 74,
    "start_time": "2022-05-12T17:35:34.863Z"
   },
   {
    "duration": 975,
    "start_time": "2022-05-12T17:35:34.939Z"
   },
   {
    "duration": 696,
    "start_time": "2022-05-12T17:35:35.916Z"
   },
   {
    "duration": 8,
    "start_time": "2022-05-12T17:35:36.614Z"
   },
   {
    "duration": 1184,
    "start_time": "2022-05-12T17:35:36.623Z"
   },
   {
    "duration": 5,
    "start_time": "2022-05-12T17:35:37.810Z"
   },
   {
    "duration": 6,
    "start_time": "2022-05-12T17:35:37.817Z"
   },
   {
    "duration": 9,
    "start_time": "2022-05-12T17:35:37.825Z"
   },
   {
    "duration": 285,
    "start_time": "2022-05-12T17:35:37.836Z"
   },
   {
    "duration": 0,
    "start_time": "2022-05-12T17:35:38.122Z"
   },
   {
    "duration": 0,
    "start_time": "2022-05-12T17:35:38.124Z"
   },
   {
    "duration": 0,
    "start_time": "2022-05-12T17:35:38.125Z"
   },
   {
    "duration": 0,
    "start_time": "2022-05-12T17:35:38.126Z"
   },
   {
    "duration": 0,
    "start_time": "2022-05-12T17:35:38.127Z"
   },
   {
    "duration": 10,
    "start_time": "2022-05-12T17:35:55.041Z"
   },
   {
    "duration": 7,
    "start_time": "2022-05-12T17:36:05.703Z"
   },
   {
    "duration": 7,
    "start_time": "2022-05-12T17:36:11.424Z"
   },
   {
    "duration": 5,
    "start_time": "2022-05-12T17:36:11.641Z"
   },
   {
    "duration": 5,
    "start_time": "2022-05-12T17:36:29.061Z"
   },
   {
    "duration": 1481,
    "start_time": "2022-05-12T17:37:00.366Z"
   },
   {
    "duration": 647,
    "start_time": "2022-05-12T17:37:01.849Z"
   },
   {
    "duration": 7,
    "start_time": "2022-05-12T17:37:07.299Z"
   },
   {
    "duration": 5,
    "start_time": "2022-05-12T17:37:08.588Z"
   },
   {
    "duration": 5,
    "start_time": "2022-05-12T17:37:08.973Z"
   },
   {
    "duration": 10,
    "start_time": "2022-05-12T17:37:09.808Z"
   },
   {
    "duration": 17,
    "start_time": "2022-05-12T17:37:10.005Z"
   },
   {
    "duration": 7,
    "start_time": "2022-05-12T17:37:10.247Z"
   },
   {
    "duration": 4,
    "start_time": "2022-05-12T17:37:13.844Z"
   },
   {
    "duration": 14,
    "start_time": "2022-05-12T17:37:25.852Z"
   },
   {
    "duration": 21,
    "start_time": "2022-05-12T17:37:33.231Z"
   },
   {
    "duration": 10,
    "start_time": "2022-05-12T17:37:35.185Z"
   },
   {
    "duration": 115,
    "start_time": "2022-05-12T17:37:40.001Z"
   },
   {
    "duration": 1414,
    "start_time": "2022-05-12T17:37:54.611Z"
   },
   {
    "duration": 655,
    "start_time": "2022-05-12T17:37:56.027Z"
   },
   {
    "duration": 8,
    "start_time": "2022-05-12T17:37:58.436Z"
   },
   {
    "duration": 5,
    "start_time": "2022-05-12T17:37:58.815Z"
   },
   {
    "duration": 3,
    "start_time": "2022-05-12T17:38:01.307Z"
   },
   {
    "duration": 7,
    "start_time": "2022-05-12T17:38:01.852Z"
   },
   {
    "duration": 14,
    "start_time": "2022-05-12T17:38:02.291Z"
   },
   {
    "duration": 5,
    "start_time": "2022-05-12T17:38:02.630Z"
   },
   {
    "duration": 6,
    "start_time": "2022-05-12T17:38:04.676Z"
   },
   {
    "duration": 14,
    "start_time": "2022-05-12T17:38:08.862Z"
   },
   {
    "duration": 21,
    "start_time": "2022-05-12T17:38:12.408Z"
   },
   {
    "duration": 119,
    "start_time": "2022-05-12T17:38:18.184Z"
   },
   {
    "duration": 9,
    "start_time": "2022-05-12T17:38:24.956Z"
   },
   {
    "duration": 1453,
    "start_time": "2022-05-12T17:38:48.223Z"
   },
   {
    "duration": 0,
    "start_time": "2022-05-12T17:38:52.060Z"
   },
   {
    "duration": 1455,
    "start_time": "2022-05-12T17:38:53.505Z"
   },
   {
    "duration": 679,
    "start_time": "2022-05-12T17:38:54.962Z"
   },
   {
    "duration": 29,
    "start_time": "2022-05-12T17:38:55.643Z"
   },
   {
    "duration": 584,
    "start_time": "2022-05-12T17:38:55.674Z"
   },
   {
    "duration": 58,
    "start_time": "2022-05-12T17:38:56.260Z"
   },
   {
    "duration": 229,
    "start_time": "2022-05-12T17:38:56.320Z"
   },
   {
    "duration": 16,
    "start_time": "2022-05-12T17:38:56.550Z"
   },
   {
    "duration": 241,
    "start_time": "2022-05-12T17:38:56.568Z"
   },
   {
    "duration": 656,
    "start_time": "2022-05-12T17:38:56.811Z"
   },
   {
    "duration": 6,
    "start_time": "2022-05-12T17:38:57.468Z"
   },
   {
    "duration": 13,
    "start_time": "2022-05-12T17:38:57.476Z"
   },
   {
    "duration": 14,
    "start_time": "2022-05-12T17:38:57.496Z"
   },
   {
    "duration": 12,
    "start_time": "2022-05-12T17:38:57.512Z"
   },
   {
    "duration": 10,
    "start_time": "2022-05-12T17:38:57.527Z"
   },
   {
    "duration": 7,
    "start_time": "2022-05-12T17:38:57.538Z"
   },
   {
    "duration": 7,
    "start_time": "2022-05-12T17:38:57.547Z"
   },
   {
    "duration": 47,
    "start_time": "2022-05-12T17:38:57.556Z"
   },
   {
    "duration": 33,
    "start_time": "2022-05-12T17:38:57.605Z"
   },
   {
    "duration": 127,
    "start_time": "2022-05-12T17:38:57.639Z"
   },
   {
    "duration": 0,
    "start_time": "2022-05-12T17:38:57.768Z"
   },
   {
    "duration": 0,
    "start_time": "2022-05-12T17:38:57.769Z"
   },
   {
    "duration": 0,
    "start_time": "2022-05-12T17:38:57.771Z"
   },
   {
    "duration": 0,
    "start_time": "2022-05-12T17:38:57.772Z"
   },
   {
    "duration": 0,
    "start_time": "2022-05-12T17:38:57.773Z"
   },
   {
    "duration": 0,
    "start_time": "2022-05-12T17:38:57.774Z"
   },
   {
    "duration": 0,
    "start_time": "2022-05-12T17:38:57.788Z"
   },
   {
    "duration": 0,
    "start_time": "2022-05-12T17:38:57.789Z"
   },
   {
    "duration": 0,
    "start_time": "2022-05-12T17:38:57.790Z"
   },
   {
    "duration": 0,
    "start_time": "2022-05-12T17:38:57.791Z"
   },
   {
    "duration": 0,
    "start_time": "2022-05-12T17:38:57.792Z"
   },
   {
    "duration": 0,
    "start_time": "2022-05-12T17:38:57.793Z"
   },
   {
    "duration": 0,
    "start_time": "2022-05-12T17:38:57.794Z"
   },
   {
    "duration": 0,
    "start_time": "2022-05-12T17:38:57.796Z"
   },
   {
    "duration": 0,
    "start_time": "2022-05-12T17:38:57.797Z"
   },
   {
    "duration": 0,
    "start_time": "2022-05-12T17:38:57.797Z"
   },
   {
    "duration": 0,
    "start_time": "2022-05-12T17:38:57.799Z"
   },
   {
    "duration": 0,
    "start_time": "2022-05-12T17:38:57.800Z"
   },
   {
    "duration": 0,
    "start_time": "2022-05-12T17:38:57.801Z"
   },
   {
    "duration": 0,
    "start_time": "2022-05-12T17:38:57.802Z"
   },
   {
    "duration": 0,
    "start_time": "2022-05-12T17:38:57.805Z"
   },
   {
    "duration": 0,
    "start_time": "2022-05-12T17:38:57.806Z"
   },
   {
    "duration": 0,
    "start_time": "2022-05-12T17:38:57.807Z"
   },
   {
    "duration": 0,
    "start_time": "2022-05-12T17:38:57.808Z"
   },
   {
    "duration": 0,
    "start_time": "2022-05-12T17:38:57.809Z"
   },
   {
    "duration": 0,
    "start_time": "2022-05-12T17:38:57.810Z"
   },
   {
    "duration": 0,
    "start_time": "2022-05-12T17:38:57.811Z"
   },
   {
    "duration": 0,
    "start_time": "2022-05-12T17:38:57.812Z"
   },
   {
    "duration": 0,
    "start_time": "2022-05-12T17:38:57.813Z"
   },
   {
    "duration": 0,
    "start_time": "2022-05-12T17:38:57.814Z"
   },
   {
    "duration": 0,
    "start_time": "2022-05-12T17:38:57.816Z"
   },
   {
    "duration": 1457,
    "start_time": "2022-05-12T17:39:05.105Z"
   },
   {
    "duration": 685,
    "start_time": "2022-05-12T17:39:06.564Z"
   },
   {
    "duration": 120,
    "start_time": "2022-05-12T17:39:12.820Z"
   },
   {
    "duration": 1764,
    "start_time": "2022-05-12T17:40:29.685Z"
   },
   {
    "duration": 805,
    "start_time": "2022-05-12T17:40:31.451Z"
   },
   {
    "duration": 44,
    "start_time": "2022-05-12T17:40:32.258Z"
   },
   {
    "duration": 655,
    "start_time": "2022-05-12T17:40:32.305Z"
   },
   {
    "duration": 64,
    "start_time": "2022-05-12T17:40:32.962Z"
   },
   {
    "duration": 244,
    "start_time": "2022-05-12T17:40:33.028Z"
   },
   {
    "duration": 44,
    "start_time": "2022-05-12T17:40:33.273Z"
   },
   {
    "duration": 271,
    "start_time": "2022-05-12T17:40:33.319Z"
   },
   {
    "duration": 744,
    "start_time": "2022-05-12T17:40:33.592Z"
   },
   {
    "duration": 6,
    "start_time": "2022-05-12T17:40:34.339Z"
   },
   {
    "duration": 8,
    "start_time": "2022-05-12T17:40:34.347Z"
   },
   {
    "duration": 10,
    "start_time": "2022-05-12T17:40:34.357Z"
   },
   {
    "duration": 28,
    "start_time": "2022-05-12T17:40:34.369Z"
   },
   {
    "duration": 39,
    "start_time": "2022-05-12T17:40:34.399Z"
   },
   {
    "duration": 5,
    "start_time": "2022-05-12T17:40:34.440Z"
   },
   {
    "duration": 10,
    "start_time": "2022-05-12T17:40:34.448Z"
   },
   {
    "duration": 21,
    "start_time": "2022-05-12T17:40:34.459Z"
   },
   {
    "duration": 76,
    "start_time": "2022-05-12T17:40:34.483Z"
   },
   {
    "duration": 5,
    "start_time": "2022-05-12T17:40:34.560Z"
   },
   {
    "duration": 16,
    "start_time": "2022-05-12T17:40:34.567Z"
   },
   {
    "duration": 13,
    "start_time": "2022-05-12T17:40:34.585Z"
   },
   {
    "duration": 40,
    "start_time": "2022-05-12T17:40:34.600Z"
   },
   {
    "duration": 17,
    "start_time": "2022-05-12T17:40:34.642Z"
   },
   {
    "duration": 8,
    "start_time": "2022-05-12T17:40:34.660Z"
   },
   {
    "duration": 6,
    "start_time": "2022-05-12T17:40:34.670Z"
   },
   {
    "duration": 23,
    "start_time": "2022-05-12T17:40:34.677Z"
   },
   {
    "duration": 22,
    "start_time": "2022-05-12T17:40:34.702Z"
   },
   {
    "duration": 8,
    "start_time": "2022-05-12T17:40:34.729Z"
   },
   {
    "duration": 22,
    "start_time": "2022-05-12T17:40:34.739Z"
   },
   {
    "duration": 210,
    "start_time": "2022-05-12T17:40:34.763Z"
   },
   {
    "duration": 584,
    "start_time": "2022-05-12T17:40:34.975Z"
   },
   {
    "duration": 509,
    "start_time": "2022-05-12T17:40:35.562Z"
   },
   {
    "duration": 487,
    "start_time": "2022-05-12T17:40:36.073Z"
   },
   {
    "duration": 489,
    "start_time": "2022-05-12T17:40:36.562Z"
   },
   {
    "duration": 13,
    "start_time": "2022-05-12T17:40:37.053Z"
   },
   {
    "duration": 40,
    "start_time": "2022-05-12T17:40:37.068Z"
   },
   {
    "duration": 82,
    "start_time": "2022-05-12T17:40:37.111Z"
   },
   {
    "duration": 1045,
    "start_time": "2022-05-12T17:40:37.199Z"
   },
   {
    "duration": 791,
    "start_time": "2022-05-12T17:40:38.245Z"
   },
   {
    "duration": 8,
    "start_time": "2022-05-12T17:40:39.038Z"
   },
   {
    "duration": 1065,
    "start_time": "2022-05-12T17:40:39.048Z"
   },
   {
    "duration": 4,
    "start_time": "2022-05-12T17:40:40.120Z"
   },
   {
    "duration": 10,
    "start_time": "2022-05-12T17:40:40.125Z"
   },
   {
    "duration": 12,
    "start_time": "2022-05-12T17:40:40.137Z"
   },
   {
    "duration": 7,
    "start_time": "2022-05-12T17:40:40.150Z"
   },
   {
    "duration": 27,
    "start_time": "2022-05-12T17:40:40.158Z"
   },
   {
    "duration": 48,
    "start_time": "2022-05-12T17:40:40.191Z"
   },
   {
    "duration": 3763,
    "start_time": "2022-05-12T17:40:40.241Z"
   },
   {
    "duration": 4406,
    "start_time": "2022-05-12T17:40:44.007Z"
   },
   {
    "duration": 8,
    "start_time": "2022-05-12T17:41:27.813Z"
   },
   {
    "duration": 5,
    "start_time": "2022-05-12T17:41:45.232Z"
   },
   {
    "duration": 5,
    "start_time": "2022-05-12T17:56:26.427Z"
   },
   {
    "duration": 7,
    "start_time": "2022-05-12T17:56:56.108Z"
   },
   {
    "duration": 8,
    "start_time": "2022-05-12T17:58:01.809Z"
   },
   {
    "duration": 37,
    "start_time": "2022-05-12T18:00:56.650Z"
   },
   {
    "duration": 55,
    "start_time": "2022-05-12T18:01:01.550Z"
   },
   {
    "duration": 123,
    "start_time": "2022-05-12T18:03:33.413Z"
   },
   {
    "duration": 22,
    "start_time": "2022-05-12T18:04:00.166Z"
   },
   {
    "duration": 5,
    "start_time": "2022-05-12T18:09:37.071Z"
   },
   {
    "duration": 3,
    "start_time": "2022-05-12T18:09:39.596Z"
   },
   {
    "duration": 3,
    "start_time": "2022-05-12T18:09:42.800Z"
   },
   {
    "duration": 3,
    "start_time": "2022-05-12T18:09:45.158Z"
   },
   {
    "duration": 3,
    "start_time": "2022-05-12T18:09:48.990Z"
   },
   {
    "duration": 4,
    "start_time": "2022-05-12T18:09:52.721Z"
   },
   {
    "duration": 3,
    "start_time": "2022-05-12T18:09:54.690Z"
   },
   {
    "duration": 17,
    "start_time": "2022-05-12T18:16:07.930Z"
   },
   {
    "duration": 42,
    "start_time": "2022-05-12T18:16:10.377Z"
   },
   {
    "duration": 45,
    "start_time": "2022-05-12T18:16:16.078Z"
   },
   {
    "duration": 45,
    "start_time": "2022-05-12T18:18:10.183Z"
   },
   {
    "duration": 44,
    "start_time": "2022-05-12T18:18:19.562Z"
   },
   {
    "duration": 32,
    "start_time": "2022-05-12T18:18:22.611Z"
   },
   {
    "duration": 17,
    "start_time": "2022-05-12T19:16:48.737Z"
   },
   {
    "duration": 15,
    "start_time": "2022-05-12T19:16:54.260Z"
   },
   {
    "duration": 20,
    "start_time": "2022-05-12T19:17:07.020Z"
   },
   {
    "duration": 9,
    "start_time": "2022-05-12T19:17:32.241Z"
   },
   {
    "duration": 8,
    "start_time": "2022-05-12T19:17:37.759Z"
   },
   {
    "duration": 20,
    "start_time": "2022-05-12T19:17:39.227Z"
   },
   {
    "duration": 51,
    "start_time": "2022-05-12T19:17:39.687Z"
   },
   {
    "duration": 52,
    "start_time": "2022-05-12T19:18:36.384Z"
   },
   {
    "duration": 61,
    "start_time": "2022-05-12T19:18:56.213Z"
   },
   {
    "duration": 66,
    "start_time": "2022-05-12T19:19:13.732Z"
   },
   {
    "duration": 49,
    "start_time": "2022-05-12T19:19:21.061Z"
   },
   {
    "duration": 56,
    "start_time": "2022-05-12T19:19:30.841Z"
   },
   {
    "duration": 88,
    "start_time": "2022-05-12T19:19:51.181Z"
   },
   {
    "duration": 3,
    "start_time": "2022-05-12T19:20:33.645Z"
   },
   {
    "duration": 58,
    "start_time": "2022-05-12T19:20:34.123Z"
   },
   {
    "duration": 88,
    "start_time": "2022-05-12T19:20:43.869Z"
   },
   {
    "duration": 15,
    "start_time": "2022-05-12T19:23:08.938Z"
   },
   {
    "duration": 7280,
    "start_time": "2022-05-12T19:23:38.720Z"
   },
   {
    "duration": 7216,
    "start_time": "2022-05-12T19:23:54.930Z"
   },
   {
    "duration": 17,
    "start_time": "2022-05-12T19:26:24.314Z"
   },
   {
    "duration": 6087,
    "start_time": "2022-05-12T19:26:30.506Z"
   },
   {
    "duration": 5506,
    "start_time": "2022-05-12T19:27:29.958Z"
   },
   {
    "duration": 5642,
    "start_time": "2022-05-12T19:27:35.775Z"
   },
   {
    "duration": 5472,
    "start_time": "2022-05-12T19:27:56.931Z"
   },
   {
    "duration": 5503,
    "start_time": "2022-05-12T19:28:03.219Z"
   },
   {
    "duration": 3,
    "start_time": "2022-05-12T19:28:39.226Z"
   },
   {
    "duration": 19,
    "start_time": "2022-05-12T19:28:39.462Z"
   },
   {
    "duration": 12607,
    "start_time": "2022-05-12T19:28:51.534Z"
   },
   {
    "duration": 13434,
    "start_time": "2022-05-12T19:29:16.688Z"
   },
   {
    "duration": 5657,
    "start_time": "2022-05-12T19:31:51.022Z"
   },
   {
    "duration": 6509,
    "start_time": "2022-05-12T19:33:47.373Z"
   },
   {
    "duration": 6296,
    "start_time": "2022-05-12T19:33:59.861Z"
   },
   {
    "duration": 5924,
    "start_time": "2022-05-12T19:34:16.306Z"
   },
   {
    "duration": 5978,
    "start_time": "2022-05-12T19:34:24.474Z"
   },
   {
    "duration": 18,
    "start_time": "2022-05-12T19:34:46.711Z"
   },
   {
    "duration": 15,
    "start_time": "2022-05-12T19:37:13.315Z"
   },
   {
    "duration": 12,
    "start_time": "2022-05-12T19:38:24.345Z"
   },
   {
    "duration": 16,
    "start_time": "2022-05-12T19:38:34.010Z"
   },
   {
    "duration": 5588,
    "start_time": "2022-05-12T19:38:41.743Z"
   },
   {
    "duration": 14772,
    "start_time": "2022-05-12T19:39:49.227Z"
   },
   {
    "duration": 11317,
    "start_time": "2022-05-12T19:41:40.281Z"
   },
   {
    "duration": 6500,
    "start_time": "2022-05-12T19:42:56.503Z"
   },
   {
    "duration": 13400,
    "start_time": "2022-05-12T19:43:08.943Z"
   },
   {
    "duration": 13307,
    "start_time": "2022-05-12T19:43:34.315Z"
   },
   {
    "duration": 1609,
    "start_time": "2022-05-13T05:08:11.296Z"
   },
   {
    "duration": 648,
    "start_time": "2022-05-13T05:08:12.907Z"
   },
   {
    "duration": 3,
    "start_time": "2022-05-13T05:08:13.556Z"
   },
   {
    "duration": 15,
    "start_time": "2022-05-13T05:08:13.560Z"
   },
   {
    "duration": 5,
    "start_time": "2022-05-13T05:08:13.577Z"
   },
   {
    "duration": 11,
    "start_time": "2022-05-13T05:08:13.583Z"
   },
   {
    "duration": 8,
    "start_time": "2022-05-13T05:08:13.595Z"
   },
   {
    "duration": 11,
    "start_time": "2022-05-13T05:08:13.604Z"
   },
   {
    "duration": 8,
    "start_time": "2022-05-13T05:08:13.617Z"
   },
   {
    "duration": 8,
    "start_time": "2022-05-13T05:08:13.627Z"
   },
   {
    "duration": 6,
    "start_time": "2022-05-13T05:08:13.636Z"
   },
   {
    "duration": 5,
    "start_time": "2022-05-13T05:08:13.644Z"
   },
   {
    "duration": 8,
    "start_time": "2022-05-13T05:08:13.651Z"
   },
   {
    "duration": 10,
    "start_time": "2022-05-13T05:08:13.661Z"
   },
   {
    "duration": 5,
    "start_time": "2022-05-13T05:08:13.672Z"
   },
   {
    "duration": 9,
    "start_time": "2022-05-13T05:08:13.679Z"
   },
   {
    "duration": 13,
    "start_time": "2022-05-13T05:08:13.700Z"
   },
   {
    "duration": 18,
    "start_time": "2022-05-13T05:08:13.715Z"
   },
   {
    "duration": 6,
    "start_time": "2022-05-13T05:08:13.734Z"
   },
   {
    "duration": 9,
    "start_time": "2022-05-13T05:08:13.742Z"
   },
   {
    "duration": 6,
    "start_time": "2022-05-13T05:08:13.753Z"
   },
   {
    "duration": 14,
    "start_time": "2022-05-13T05:08:13.760Z"
   },
   {
    "duration": 37,
    "start_time": "2022-05-13T05:08:13.776Z"
   },
   {
    "duration": 7,
    "start_time": "2022-05-13T05:08:13.815Z"
   },
   {
    "duration": 7,
    "start_time": "2022-05-13T05:08:13.823Z"
   },
   {
    "duration": 12,
    "start_time": "2022-05-13T05:08:13.832Z"
   },
   {
    "duration": 4,
    "start_time": "2022-05-13T05:08:13.846Z"
   },
   {
    "duration": 7,
    "start_time": "2022-05-13T05:08:13.853Z"
   },
   {
    "duration": 39,
    "start_time": "2022-05-13T05:08:13.862Z"
   },
   {
    "duration": 150,
    "start_time": "2022-05-13T05:08:13.903Z"
   },
   {
    "duration": 413,
    "start_time": "2022-05-13T05:08:14.055Z"
   },
   {
    "duration": 443,
    "start_time": "2022-05-13T05:08:14.470Z"
   },
   {
    "duration": 343,
    "start_time": "2022-05-13T05:08:14.915Z"
   },
   {
    "duration": 433,
    "start_time": "2022-05-13T05:08:15.259Z"
   },
   {
    "duration": 12,
    "start_time": "2022-05-13T05:08:15.693Z"
   },
   {
    "duration": 28,
    "start_time": "2022-05-13T05:08:15.706Z"
   },
   {
    "duration": 50,
    "start_time": "2022-05-13T05:08:15.735Z"
   },
   {
    "duration": 907,
    "start_time": "2022-05-13T05:08:15.786Z"
   },
   {
    "duration": 548,
    "start_time": "2022-05-13T05:08:16.694Z"
   },
   {
    "duration": 8,
    "start_time": "2022-05-13T05:08:17.243Z"
   },
   {
    "duration": 938,
    "start_time": "2022-05-13T05:08:17.252Z"
   },
   {
    "duration": 3,
    "start_time": "2022-05-13T05:08:18.192Z"
   },
   {
    "duration": 3,
    "start_time": "2022-05-13T05:08:18.200Z"
   },
   {
    "duration": 17,
    "start_time": "2022-05-13T05:08:18.205Z"
   },
   {
    "duration": 12,
    "start_time": "2022-05-13T05:08:18.223Z"
   },
   {
    "duration": 23,
    "start_time": "2022-05-13T05:08:18.237Z"
   },
   {
    "duration": 8990,
    "start_time": "2022-05-13T05:08:18.261Z"
   },
   {
    "duration": 5,
    "start_time": "2022-05-13T05:10:51.626Z"
   },
   {
    "duration": 156,
    "start_time": "2022-05-13T05:12:59.066Z"
   },
   {
    "duration": 211,
    "start_time": "2022-05-13T05:13:05.786Z"
   },
   {
    "duration": 161,
    "start_time": "2022-05-13T05:13:25.586Z"
   },
   {
    "duration": 3,
    "start_time": "2022-05-13T05:14:09.986Z"
   },
   {
    "duration": 148,
    "start_time": "2022-05-13T05:14:10.661Z"
   },
   {
    "duration": 1522,
    "start_time": "2022-05-13T05:14:19.084Z"
   },
   {
    "duration": 718,
    "start_time": "2022-05-13T05:14:20.607Z"
   },
   {
    "duration": 2,
    "start_time": "2022-05-13T05:14:21.327Z"
   },
   {
    "duration": 5,
    "start_time": "2022-05-13T05:14:21.331Z"
   },
   {
    "duration": 5,
    "start_time": "2022-05-13T05:14:21.339Z"
   },
   {
    "duration": 5,
    "start_time": "2022-05-13T05:14:21.346Z"
   },
   {
    "duration": 3,
    "start_time": "2022-05-13T05:14:21.401Z"
   },
   {
    "duration": 5,
    "start_time": "2022-05-13T05:14:21.406Z"
   },
   {
    "duration": 13,
    "start_time": "2022-05-13T05:14:21.413Z"
   },
   {
    "duration": 9,
    "start_time": "2022-05-13T05:14:21.428Z"
   },
   {
    "duration": 6,
    "start_time": "2022-05-13T05:14:21.438Z"
   },
   {
    "duration": 4,
    "start_time": "2022-05-13T05:14:21.446Z"
   },
   {
    "duration": 55,
    "start_time": "2022-05-13T05:14:21.451Z"
   },
   {
    "duration": 11,
    "start_time": "2022-05-13T05:14:21.510Z"
   },
   {
    "duration": 5,
    "start_time": "2022-05-13T05:14:21.522Z"
   },
   {
    "duration": 9,
    "start_time": "2022-05-13T05:14:21.528Z"
   },
   {
    "duration": 62,
    "start_time": "2022-05-13T05:14:21.538Z"
   },
   {
    "duration": 19,
    "start_time": "2022-05-13T05:14:21.602Z"
   },
   {
    "duration": 13,
    "start_time": "2022-05-13T05:14:21.622Z"
   },
   {
    "duration": 12,
    "start_time": "2022-05-13T05:14:21.637Z"
   },
   {
    "duration": 6,
    "start_time": "2022-05-13T05:14:21.701Z"
   },
   {
    "duration": 8,
    "start_time": "2022-05-13T05:14:21.709Z"
   },
   {
    "duration": 16,
    "start_time": "2022-05-13T05:14:21.719Z"
   },
   {
    "duration": 63,
    "start_time": "2022-05-13T05:14:21.737Z"
   },
   {
    "duration": 7,
    "start_time": "2022-05-13T05:14:21.802Z"
   },
   {
    "duration": 14,
    "start_time": "2022-05-13T05:14:21.810Z"
   },
   {
    "duration": 4,
    "start_time": "2022-05-13T05:14:21.826Z"
   },
   {
    "duration": 7,
    "start_time": "2022-05-13T05:14:21.831Z"
   },
   {
    "duration": 64,
    "start_time": "2022-05-13T05:14:21.840Z"
   },
   {
    "duration": 303,
    "start_time": "2022-05-13T05:14:21.906Z"
   },
   {
    "duration": 829,
    "start_time": "2022-05-13T05:14:22.211Z"
   },
   {
    "duration": 492,
    "start_time": "2022-05-13T05:14:23.042Z"
   },
   {
    "duration": 342,
    "start_time": "2022-05-13T05:14:23.536Z"
   },
   {
    "duration": 422,
    "start_time": "2022-05-13T05:14:23.880Z"
   },
   {
    "duration": 8,
    "start_time": "2022-05-13T05:14:24.304Z"
   },
   {
    "duration": 24,
    "start_time": "2022-05-13T05:14:24.314Z"
   },
   {
    "duration": 57,
    "start_time": "2022-05-13T05:14:24.339Z"
   },
   {
    "duration": 1027,
    "start_time": "2022-05-13T05:14:24.397Z"
   },
   {
    "duration": 562,
    "start_time": "2022-05-13T05:14:25.426Z"
   },
   {
    "duration": 13,
    "start_time": "2022-05-13T05:14:25.990Z"
   },
   {
    "duration": 892,
    "start_time": "2022-05-13T05:14:26.006Z"
   },
   {
    "duration": 4,
    "start_time": "2022-05-13T05:14:26.900Z"
   },
   {
    "duration": 14,
    "start_time": "2022-05-13T05:14:26.906Z"
   },
   {
    "duration": 9,
    "start_time": "2022-05-13T05:14:26.922Z"
   },
   {
    "duration": 8,
    "start_time": "2022-05-13T05:14:26.932Z"
   },
   {
    "duration": 19,
    "start_time": "2022-05-13T05:14:26.941Z"
   },
   {
    "duration": 4,
    "start_time": "2022-05-13T05:14:26.962Z"
   },
   {
    "duration": 1921,
    "start_time": "2022-05-13T05:14:26.968Z"
   },
   {
    "duration": 12346,
    "start_time": "2022-05-13T05:14:59.239Z"
   },
   {
    "duration": 11826,
    "start_time": "2022-05-13T05:15:45.420Z"
   },
   {
    "duration": 3,
    "start_time": "2022-05-13T05:16:34.481Z"
   },
   {
    "duration": 3,
    "start_time": "2022-05-13T05:16:34.864Z"
   },
   {
    "duration": 5,
    "start_time": "2022-05-13T05:16:35.380Z"
   },
   {
    "duration": 2,
    "start_time": "2022-05-13T05:16:35.560Z"
   },
   {
    "duration": 16,
    "start_time": "2022-05-13T05:16:35.700Z"
   },
   {
    "duration": 2,
    "start_time": "2022-05-13T05:16:35.821Z"
   },
   {
    "duration": 11438,
    "start_time": "2022-05-13T05:16:36.001Z"
   },
   {
    "duration": 4,
    "start_time": "2022-05-13T05:17:02.280Z"
   },
   {
    "duration": 2,
    "start_time": "2022-05-13T05:17:03.080Z"
   },
   {
    "duration": 5,
    "start_time": "2022-05-13T05:17:03.660Z"
   },
   {
    "duration": 2,
    "start_time": "2022-05-13T05:17:03.760Z"
   },
   {
    "duration": 16,
    "start_time": "2022-05-13T05:17:03.880Z"
   },
   {
    "duration": 3,
    "start_time": "2022-05-13T05:17:03.980Z"
   },
   {
    "duration": 11377,
    "start_time": "2022-05-13T05:17:04.121Z"
   },
   {
    "duration": 3,
    "start_time": "2022-05-13T05:20:54.100Z"
   },
   {
    "duration": 11421,
    "start_time": "2022-05-13T05:20:54.590Z"
   },
   {
    "duration": 2,
    "start_time": "2022-05-13T05:21:11.841Z"
   },
   {
    "duration": 11585,
    "start_time": "2022-05-13T05:21:13.840Z"
   },
   {
    "duration": 103,
    "start_time": "2022-05-13T05:23:39.461Z"
   },
   {
    "duration": 11406,
    "start_time": "2022-05-13T05:23:55.480Z"
   },
   {
    "duration": 11783,
    "start_time": "2022-05-13T05:25:54.000Z"
   },
   {
    "duration": 177,
    "start_time": "2022-05-13T05:26:50.380Z"
   },
   {
    "duration": 3810,
    "start_time": "2022-05-13T05:26:55.320Z"
   },
   {
    "duration": 1508,
    "start_time": "2022-05-13T05:32:17.199Z"
   },
   {
    "duration": 684,
    "start_time": "2022-05-13T05:32:18.709Z"
   },
   {
    "duration": 2,
    "start_time": "2022-05-13T05:32:19.395Z"
   },
   {
    "duration": 3,
    "start_time": "2022-05-13T05:32:19.400Z"
   },
   {
    "duration": 4,
    "start_time": "2022-05-13T05:32:19.405Z"
   },
   {
    "duration": 3,
    "start_time": "2022-05-13T05:32:19.411Z"
   },
   {
    "duration": 4,
    "start_time": "2022-05-13T05:32:19.416Z"
   },
   {
    "duration": 7,
    "start_time": "2022-05-13T05:32:19.422Z"
   },
   {
    "duration": 5,
    "start_time": "2022-05-13T05:32:19.430Z"
   },
   {
    "duration": 8,
    "start_time": "2022-05-13T05:32:19.436Z"
   },
   {
    "duration": 6,
    "start_time": "2022-05-13T05:32:19.445Z"
   },
   {
    "duration": 7,
    "start_time": "2022-05-13T05:32:19.453Z"
   },
   {
    "duration": 8,
    "start_time": "2022-05-13T05:32:19.462Z"
   },
   {
    "duration": 9,
    "start_time": "2022-05-13T05:32:19.500Z"
   },
   {
    "duration": 5,
    "start_time": "2022-05-13T05:32:19.511Z"
   },
   {
    "duration": 8,
    "start_time": "2022-05-13T05:32:19.517Z"
   },
   {
    "duration": 13,
    "start_time": "2022-05-13T05:32:19.527Z"
   },
   {
    "duration": 22,
    "start_time": "2022-05-13T05:32:19.541Z"
   },
   {
    "duration": 6,
    "start_time": "2022-05-13T05:32:19.564Z"
   },
   {
    "duration": 8,
    "start_time": "2022-05-13T05:32:19.599Z"
   },
   {
    "duration": 6,
    "start_time": "2022-05-13T05:32:19.608Z"
   },
   {
    "duration": 10,
    "start_time": "2022-05-13T05:32:19.615Z"
   },
   {
    "duration": 16,
    "start_time": "2022-05-13T05:32:19.627Z"
   },
   {
    "duration": 7,
    "start_time": "2022-05-13T05:32:19.645Z"
   },
   {
    "duration": 9,
    "start_time": "2022-05-13T05:32:19.653Z"
   },
   {
    "duration": 14,
    "start_time": "2022-05-13T05:32:19.700Z"
   },
   {
    "duration": 5,
    "start_time": "2022-05-13T05:32:19.715Z"
   },
   {
    "duration": 10,
    "start_time": "2022-05-13T05:32:19.721Z"
   },
   {
    "duration": 18,
    "start_time": "2022-05-13T05:32:19.732Z"
   },
   {
    "duration": 157,
    "start_time": "2022-05-13T05:32:19.751Z"
   },
   {
    "duration": 426,
    "start_time": "2022-05-13T05:32:19.909Z"
   },
   {
    "duration": 478,
    "start_time": "2022-05-13T05:32:20.337Z"
   },
   {
    "duration": 352,
    "start_time": "2022-05-13T05:32:20.816Z"
   },
   {
    "duration": 434,
    "start_time": "2022-05-13T05:32:21.170Z"
   },
   {
    "duration": 12,
    "start_time": "2022-05-13T05:32:21.606Z"
   },
   {
    "duration": 30,
    "start_time": "2022-05-13T05:32:21.619Z"
   },
   {
    "duration": 64,
    "start_time": "2022-05-13T05:32:21.651Z"
   },
   {
    "duration": 890,
    "start_time": "2022-05-13T05:32:21.718Z"
   },
   {
    "duration": 658,
    "start_time": "2022-05-13T05:32:22.610Z"
   },
   {
    "duration": 9,
    "start_time": "2022-05-13T05:32:23.269Z"
   },
   {
    "duration": 926,
    "start_time": "2022-05-13T05:32:23.282Z"
   },
   {
    "duration": 3,
    "start_time": "2022-05-13T05:32:24.210Z"
   },
   {
    "duration": 6,
    "start_time": "2022-05-13T05:32:24.214Z"
   },
   {
    "duration": 9,
    "start_time": "2022-05-13T05:32:24.221Z"
   },
   {
    "duration": 10,
    "start_time": "2022-05-13T05:32:24.231Z"
   },
   {
    "duration": 67,
    "start_time": "2022-05-13T05:32:24.242Z"
   },
   {
    "duration": 2,
    "start_time": "2022-05-13T05:32:24.311Z"
   },
   {
    "duration": 7,
    "start_time": "2022-05-13T05:32:24.315Z"
   },
   {
    "duration": 10,
    "start_time": "2022-05-13T05:32:24.323Z"
   },
   {
    "duration": 4083,
    "start_time": "2022-05-13T05:32:24.334Z"
   },
   {
    "duration": 4721,
    "start_time": "2022-05-13T05:34:35.360Z"
   },
   {
    "duration": 9,
    "start_time": "2022-05-13T05:35:44.561Z"
   },
   {
    "duration": 3,
    "start_time": "2022-05-13T05:35:50.361Z"
   },
   {
    "duration": 224,
    "start_time": "2022-05-13T05:35:54.681Z"
   },
   {
    "duration": 3,
    "start_time": "2022-05-13T05:36:27.501Z"
   },
   {
    "duration": 4057,
    "start_time": "2022-05-13T05:37:02.420Z"
   },
   {
    "duration": 2538,
    "start_time": "2022-05-13T05:37:18.471Z"
   },
   {
    "duration": 9210,
    "start_time": "2022-05-13T05:37:43.161Z"
   },
   {
    "duration": 9319,
    "start_time": "2022-05-13T05:37:59.221Z"
   },
   {
    "duration": 49,
    "start_time": "2022-05-13T05:43:47.605Z"
   },
   {
    "duration": 2,
    "start_time": "2022-05-13T05:43:58.225Z"
   },
   {
    "duration": 1531,
    "start_time": "2022-05-13T05:44:07.179Z"
   },
   {
    "duration": 712,
    "start_time": "2022-05-13T05:44:08.712Z"
   },
   {
    "duration": 2,
    "start_time": "2022-05-13T05:44:09.426Z"
   },
   {
    "duration": 9,
    "start_time": "2022-05-13T05:44:09.429Z"
   },
   {
    "duration": 4,
    "start_time": "2022-05-13T05:44:09.440Z"
   },
   {
    "duration": 6,
    "start_time": "2022-05-13T05:44:09.445Z"
   },
   {
    "duration": 6,
    "start_time": "2022-05-13T05:44:09.452Z"
   },
   {
    "duration": 5,
    "start_time": "2022-05-13T05:44:09.460Z"
   },
   {
    "duration": 5,
    "start_time": "2022-05-13T05:44:09.466Z"
   },
   {
    "duration": 7,
    "start_time": "2022-05-13T05:44:09.472Z"
   },
   {
    "duration": 20,
    "start_time": "2022-05-13T05:44:09.481Z"
   },
   {
    "duration": 3,
    "start_time": "2022-05-13T05:44:09.502Z"
   },
   {
    "duration": 9,
    "start_time": "2022-05-13T05:44:09.507Z"
   },
   {
    "duration": 10,
    "start_time": "2022-05-13T05:44:09.519Z"
   },
   {
    "duration": 5,
    "start_time": "2022-05-13T05:44:09.530Z"
   },
   {
    "duration": 8,
    "start_time": "2022-05-13T05:44:09.537Z"
   },
   {
    "duration": 14,
    "start_time": "2022-05-13T05:44:09.546Z"
   },
   {
    "duration": 52,
    "start_time": "2022-05-13T05:44:09.561Z"
   },
   {
    "duration": 9,
    "start_time": "2022-05-13T05:44:09.615Z"
   },
   {
    "duration": 11,
    "start_time": "2022-05-13T05:44:09.625Z"
   },
   {
    "duration": 6,
    "start_time": "2022-05-13T05:44:09.638Z"
   },
   {
    "duration": 12,
    "start_time": "2022-05-13T05:44:09.645Z"
   },
   {
    "duration": 43,
    "start_time": "2022-05-13T05:44:09.658Z"
   },
   {
    "duration": 9,
    "start_time": "2022-05-13T05:44:09.702Z"
   },
   {
    "duration": 7,
    "start_time": "2022-05-13T05:44:09.712Z"
   },
   {
    "duration": 15,
    "start_time": "2022-05-13T05:44:09.721Z"
   },
   {
    "duration": 5,
    "start_time": "2022-05-13T05:44:09.737Z"
   },
   {
    "duration": 8,
    "start_time": "2022-05-13T05:44:09.743Z"
   },
   {
    "duration": 16,
    "start_time": "2022-05-13T05:44:09.753Z"
   },
   {
    "duration": 174,
    "start_time": "2022-05-13T05:44:09.770Z"
   },
   {
    "duration": 440,
    "start_time": "2022-05-13T05:44:09.946Z"
   },
   {
    "duration": 414,
    "start_time": "2022-05-13T05:44:10.388Z"
   },
   {
    "duration": 364,
    "start_time": "2022-05-13T05:44:10.804Z"
   },
   {
    "duration": 416,
    "start_time": "2022-05-13T05:44:11.169Z"
   },
   {
    "duration": 13,
    "start_time": "2022-05-13T05:44:11.587Z"
   },
   {
    "duration": 14,
    "start_time": "2022-05-13T05:44:11.601Z"
   },
   {
    "duration": 52,
    "start_time": "2022-05-13T05:44:11.616Z"
   },
   {
    "duration": 923,
    "start_time": "2022-05-13T05:44:11.670Z"
   },
   {
    "duration": 554,
    "start_time": "2022-05-13T05:44:12.594Z"
   },
   {
    "duration": 8,
    "start_time": "2022-05-13T05:44:13.150Z"
   },
   {
    "duration": 935,
    "start_time": "2022-05-13T05:44:13.162Z"
   },
   {
    "duration": 4,
    "start_time": "2022-05-13T05:44:14.099Z"
   },
   {
    "duration": 7,
    "start_time": "2022-05-13T05:44:14.104Z"
   },
   {
    "duration": 9,
    "start_time": "2022-05-13T05:44:14.112Z"
   },
   {
    "duration": 4,
    "start_time": "2022-05-13T05:44:14.123Z"
   },
   {
    "duration": 20,
    "start_time": "2022-05-13T05:44:14.129Z"
   },
   {
    "duration": 3,
    "start_time": "2022-05-13T05:44:14.151Z"
   },
   {
    "duration": 9076,
    "start_time": "2022-05-13T05:44:14.155Z"
   },
   {
    "duration": 3179,
    "start_time": "2022-05-13T05:44:23.233Z"
   },
   {
    "duration": 87,
    "start_time": "2022-05-13T05:44:26.414Z"
   },
   {
    "duration": 2727,
    "start_time": "2022-05-13T05:45:07.579Z"
   },
   {
    "duration": 5,
    "start_time": "2022-05-13T05:46:42.600Z"
   },
   {
    "duration": 5,
    "start_time": "2022-05-13T05:46:44.739Z"
   },
   {
    "duration": 25,
    "start_time": "2022-05-13T05:47:05.199Z"
   },
   {
    "duration": 4,
    "start_time": "2022-05-13T05:51:01.979Z"
   },
   {
    "duration": 4,
    "start_time": "2022-05-13T05:51:06.899Z"
   },
   {
    "duration": 3,
    "start_time": "2022-05-13T05:51:12.520Z"
   },
   {
    "duration": 4,
    "start_time": "2022-05-13T05:52:25.487Z"
   },
   {
    "duration": 3,
    "start_time": "2022-05-13T05:53:05.760Z"
   },
   {
    "duration": 3,
    "start_time": "2022-05-13T05:55:04.287Z"
   },
   {
    "duration": 3,
    "start_time": "2022-05-13T05:55:17.339Z"
   },
   {
    "duration": 99,
    "start_time": "2022-05-13T05:55:25.938Z"
   },
   {
    "duration": 1814,
    "start_time": "2022-05-13T07:50:22.715Z"
   },
   {
    "duration": 668,
    "start_time": "2022-05-13T07:50:24.531Z"
   },
   {
    "duration": 6,
    "start_time": "2022-05-13T07:50:27.168Z"
   },
   {
    "duration": 4,
    "start_time": "2022-05-13T07:50:35.296Z"
   },
   {
    "duration": 4,
    "start_time": "2022-05-13T07:50:46.108Z"
   },
   {
    "duration": 1633,
    "start_time": "2022-05-13T07:51:06.468Z"
   },
   {
    "duration": 668,
    "start_time": "2022-05-13T07:51:08.104Z"
   },
   {
    "duration": 2,
    "start_time": "2022-05-13T07:51:08.776Z"
   },
   {
    "duration": 4,
    "start_time": "2022-05-13T07:51:08.781Z"
   },
   {
    "duration": 4,
    "start_time": "2022-05-13T07:51:08.787Z"
   },
   {
    "duration": 6,
    "start_time": "2022-05-13T07:51:08.792Z"
   },
   {
    "duration": 8,
    "start_time": "2022-05-13T07:51:08.800Z"
   },
   {
    "duration": 5,
    "start_time": "2022-05-13T07:51:08.810Z"
   },
   {
    "duration": 3,
    "start_time": "2022-05-13T07:51:08.823Z"
   },
   {
    "duration": 12,
    "start_time": "2022-05-13T07:51:08.829Z"
   },
   {
    "duration": 8,
    "start_time": "2022-05-13T07:51:08.842Z"
   },
   {
    "duration": 7,
    "start_time": "2022-05-13T07:51:08.852Z"
   },
   {
    "duration": 13,
    "start_time": "2022-05-13T07:51:08.860Z"
   },
   {
    "duration": 14,
    "start_time": "2022-05-13T07:51:08.874Z"
   },
   {
    "duration": 6,
    "start_time": "2022-05-13T07:51:08.890Z"
   },
   {
    "duration": 7,
    "start_time": "2022-05-13T07:51:08.923Z"
   },
   {
    "duration": 14,
    "start_time": "2022-05-13T07:51:08.932Z"
   },
   {
    "duration": 22,
    "start_time": "2022-05-13T07:51:08.948Z"
   },
   {
    "duration": 8,
    "start_time": "2022-05-13T07:51:08.972Z"
   },
   {
    "duration": 42,
    "start_time": "2022-05-13T07:51:08.982Z"
   },
   {
    "duration": 8,
    "start_time": "2022-05-13T07:51:09.026Z"
   },
   {
    "duration": 12,
    "start_time": "2022-05-13T07:51:09.037Z"
   },
   {
    "duration": 20,
    "start_time": "2022-05-13T07:51:09.051Z"
   },
   {
    "duration": 8,
    "start_time": "2022-05-13T07:51:09.072Z"
   },
   {
    "duration": 41,
    "start_time": "2022-05-13T07:51:09.082Z"
   },
   {
    "duration": 13,
    "start_time": "2022-05-13T07:51:09.125Z"
   },
   {
    "duration": 5,
    "start_time": "2022-05-13T07:51:09.140Z"
   },
   {
    "duration": 13,
    "start_time": "2022-05-13T07:51:09.148Z"
   },
   {
    "duration": 17,
    "start_time": "2022-05-13T07:51:09.163Z"
   },
   {
    "duration": 182,
    "start_time": "2022-05-13T07:51:09.182Z"
   },
   {
    "duration": 469,
    "start_time": "2022-05-13T07:51:09.366Z"
   },
   {
    "duration": 431,
    "start_time": "2022-05-13T07:51:09.836Z"
   },
   {
    "duration": 397,
    "start_time": "2022-05-13T07:51:10.269Z"
   },
   {
    "duration": 476,
    "start_time": "2022-05-13T07:51:10.667Z"
   },
   {
    "duration": 11,
    "start_time": "2022-05-13T07:51:11.145Z"
   },
   {
    "duration": 19,
    "start_time": "2022-05-13T07:51:11.157Z"
   },
   {
    "duration": 68,
    "start_time": "2022-05-13T07:51:11.177Z"
   },
   {
    "duration": 897,
    "start_time": "2022-05-13T07:51:11.247Z"
   },
   {
    "duration": 650,
    "start_time": "2022-05-13T07:51:12.146Z"
   },
   {
    "duration": 9,
    "start_time": "2022-05-13T07:51:12.797Z"
   },
   {
    "duration": 943,
    "start_time": "2022-05-13T07:51:12.808Z"
   },
   {
    "duration": 4,
    "start_time": "2022-05-13T07:51:13.753Z"
   },
   {
    "duration": 11,
    "start_time": "2022-05-13T07:51:13.759Z"
   },
   {
    "duration": 23,
    "start_time": "2022-05-13T07:51:13.771Z"
   },
   {
    "duration": 15,
    "start_time": "2022-05-13T07:51:13.796Z"
   },
   {
    "duration": 42,
    "start_time": "2022-05-13T07:51:13.813Z"
   },
   {
    "duration": 8,
    "start_time": "2022-05-13T07:51:13.857Z"
   },
   {
    "duration": 18,
    "start_time": "2022-05-13T07:51:13.867Z"
   },
   {
    "duration": 10136,
    "start_time": "2022-05-13T07:51:13.887Z"
   },
   {
    "duration": 2706,
    "start_time": "2022-05-13T07:51:24.025Z"
   },
   {
    "duration": 5,
    "start_time": "2022-05-13T07:51:26.824Z"
   },
   {
    "duration": 16,
    "start_time": "2022-05-13T08:07:19.548Z"
   },
   {
    "duration": 20,
    "start_time": "2022-05-13T08:07:28.968Z"
   },
   {
    "duration": 14,
    "start_time": "2022-05-13T08:07:32.228Z"
   },
   {
    "duration": 5,
    "start_time": "2022-05-13T08:36:27.208Z"
   },
   {
    "duration": 2908,
    "start_time": "2022-05-13T08:38:41.076Z"
   },
   {
    "duration": 2627,
    "start_time": "2022-05-13T08:39:26.975Z"
   },
   {
    "duration": 178,
    "start_time": "2022-05-13T08:39:49.828Z"
   },
   {
    "duration": 219,
    "start_time": "2022-05-13T08:40:59.612Z"
   },
   {
    "duration": 8,
    "start_time": "2022-05-13T08:41:43.815Z"
   },
   {
    "duration": 16,
    "start_time": "2022-05-13T08:41:45.208Z"
   },
   {
    "duration": 5,
    "start_time": "2022-05-13T08:41:45.815Z"
   },
   {
    "duration": 4,
    "start_time": "2022-05-13T08:41:51.988Z"
   },
   {
    "duration": 5,
    "start_time": "2022-05-13T08:41:58.388Z"
   },
   {
    "duration": 4,
    "start_time": "2022-05-13T08:42:07.008Z"
   },
   {
    "duration": 4,
    "start_time": "2022-05-13T08:42:12.088Z"
   },
   {
    "duration": 5,
    "start_time": "2022-05-13T08:42:26.088Z"
   },
   {
    "duration": 5,
    "start_time": "2022-05-13T08:42:41.648Z"
   },
   {
    "duration": 190,
    "start_time": "2022-05-16T09:10:04.065Z"
   }
  ],
  "kernelspec": {
   "display_name": "Python 3 (ipykernel)",
   "language": "python",
   "name": "python3"
  },
  "language_info": {
   "codemirror_mode": {
    "name": "ipython",
    "version": 3
   },
   "file_extension": ".py",
   "mimetype": "text/x-python",
   "name": "python",
   "nbconvert_exporter": "python",
   "pygments_lexer": "ipython3",
   "version": "3.9.13"
  },
  "toc": {
   "base_numbering": 1,
   "nav_menu": {},
   "number_sections": true,
   "sideBar": true,
   "skip_h1_title": true,
   "title_cell": "Содержание",
   "title_sidebar": "Contents",
   "toc_cell": true,
   "toc_position": {
    "height": "calc(100% - 180px)",
    "left": "10px",
    "top": "150px",
    "width": "165px"
   },
   "toc_section_display": true,
   "toc_window_display": true
  }
 },
 "nbformat": 4,
 "nbformat_minor": 2
}
