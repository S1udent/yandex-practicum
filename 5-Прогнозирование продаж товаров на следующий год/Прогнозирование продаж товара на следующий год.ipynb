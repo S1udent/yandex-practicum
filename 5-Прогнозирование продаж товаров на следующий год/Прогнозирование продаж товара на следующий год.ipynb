{
 "cells": [
  {
   "cell_type": "markdown",
   "metadata": {},
   "source": [
    "# Сборный проект 1"
   ]
  },
  {
   "cell_type": "markdown",
   "metadata": {},
   "source": [
    "Для интернет-машгазина игр необходимо выявить закономерности, определяющие успешность игр. Это позволит сделать ставку на потенциально популярный\n",
    "продукт и спланировать рекламные кампании.\n",
    "\n",
    "Перед нами данные до 2016 года. Представим, что сейчас декабрь 2016 г., и мы\n",
    "планируем кампанию на 2017-й. Нужно отработать принцип работы с данными.\n",
    "\n",
    "Из открытых источников доступны исторические данные о\n",
    "продажах игр, оценки пользователей и экспертов, жанры и платформы\n",
    "(например, Xboxили PlayStation).\n",
    "\n",
    "В наборе данных попадается аббревиатура ESRB (Entertainment Software Rating\n",
    "Board) — это ассоциация, определяющая возрастной рейтинг компьютерных\n",
    "игр. ESRB оценивает игровой контент и присваивает ему подходящую возрастную\n",
    "категорию, например, «Для взрослых», «Для детей младшего возраста» или «Для\n",
    "подростков»."
   ]
  },
  {
   "cell_type": "markdown",
   "metadata": {},
   "source": [
    "## Откроем файл с данными и изучим общую информацию"
   ]
  },
  {
   "cell_type": "code",
   "execution_count": 2,
   "metadata": {},
   "outputs": [],
   "source": [
    "import pandas as pd\n",
    "import numpy as np\n",
    "import matplotlib.pyplot as plt\n",
    "import os"
   ]
  },
  {
   "cell_type": "code",
   "execution_count": 3,
   "metadata": {},
   "outputs": [],
   "source": [
    "pth1 = 'games.csv'\n",
    "pth2 = '/datasets/games.csv'\n",
    "\n",
    "if os.path.exists(pth1):\n",
    "    data = pd.read_csv(pth1)\n",
    "elif os.path.exists(pth2):\n",
    "    data = pd.read_csv(pth2)\n",
    "else:\n",
    "    print('Something is wrong')"
   ]
  },
  {
   "cell_type": "code",
   "execution_count": 5,
   "metadata": {
    "scrolled": false
   },
   "outputs": [
    {
     "name": "stdout",
     "output_type": "stream",
     "text": [
      "<class 'pandas.core.frame.DataFrame'>\n",
      "RangeIndex: 16715 entries, 0 to 16714\n",
      "Data columns (total 11 columns):\n",
      " #   Column           Non-Null Count  Dtype  \n",
      "---  ------           --------------  -----  \n",
      " 0   Name             16713 non-null  object \n",
      " 1   Platform         16715 non-null  object \n",
      " 2   Year_of_Release  16446 non-null  float64\n",
      " 3   Genre            16713 non-null  object \n",
      " 4   NA_sales         16715 non-null  float64\n",
      " 5   EU_sales         16715 non-null  float64\n",
      " 6   JP_sales         16715 non-null  float64\n",
      " 7   Other_sales      16715 non-null  float64\n",
      " 8   Critic_Score     8137 non-null   float64\n",
      " 9   User_Score       10014 non-null  object \n",
      " 10  Rating           9949 non-null   object \n",
      "dtypes: float64(6), object(5)\n",
      "memory usage: 1.4+ MB\n",
      "None \n",
      "\n",
      "******************************************************************************\n"
     ]
    },
    {
     "data": {
      "text/html": [
       "<div>\n",
       "<style scoped>\n",
       "    .dataframe tbody tr th:only-of-type {\n",
       "        vertical-align: middle;\n",
       "    }\n",
       "\n",
       "    .dataframe tbody tr th {\n",
       "        vertical-align: top;\n",
       "    }\n",
       "\n",
       "    .dataframe thead th {\n",
       "        text-align: right;\n",
       "    }\n",
       "</style>\n",
       "<table border=\"1\" class=\"dataframe\">\n",
       "  <thead>\n",
       "    <tr style=\"text-align: right;\">\n",
       "      <th></th>\n",
       "      <th>Name</th>\n",
       "      <th>Platform</th>\n",
       "      <th>Year_of_Release</th>\n",
       "      <th>Genre</th>\n",
       "      <th>NA_sales</th>\n",
       "      <th>EU_sales</th>\n",
       "      <th>JP_sales</th>\n",
       "      <th>Other_sales</th>\n",
       "      <th>Critic_Score</th>\n",
       "      <th>User_Score</th>\n",
       "      <th>Rating</th>\n",
       "    </tr>\n",
       "  </thead>\n",
       "  <tbody>\n",
       "    <tr>\n",
       "      <th>0</th>\n",
       "      <td>Wii Sports</td>\n",
       "      <td>Wii</td>\n",
       "      <td>2006.0</td>\n",
       "      <td>Sports</td>\n",
       "      <td>41.36</td>\n",
       "      <td>28.96</td>\n",
       "      <td>3.77</td>\n",
       "      <td>8.45</td>\n",
       "      <td>76.0</td>\n",
       "      <td>8</td>\n",
       "      <td>E</td>\n",
       "    </tr>\n",
       "    <tr>\n",
       "      <th>1</th>\n",
       "      <td>Super Mario Bros.</td>\n",
       "      <td>NES</td>\n",
       "      <td>1985.0</td>\n",
       "      <td>Platform</td>\n",
       "      <td>29.08</td>\n",
       "      <td>3.58</td>\n",
       "      <td>6.81</td>\n",
       "      <td>0.77</td>\n",
       "      <td>NaN</td>\n",
       "      <td>NaN</td>\n",
       "      <td>NaN</td>\n",
       "    </tr>\n",
       "    <tr>\n",
       "      <th>2</th>\n",
       "      <td>Mario Kart Wii</td>\n",
       "      <td>Wii</td>\n",
       "      <td>2008.0</td>\n",
       "      <td>Racing</td>\n",
       "      <td>15.68</td>\n",
       "      <td>12.76</td>\n",
       "      <td>3.79</td>\n",
       "      <td>3.29</td>\n",
       "      <td>82.0</td>\n",
       "      <td>8.3</td>\n",
       "      <td>E</td>\n",
       "    </tr>\n",
       "    <tr>\n",
       "      <th>3</th>\n",
       "      <td>Wii Sports Resort</td>\n",
       "      <td>Wii</td>\n",
       "      <td>2009.0</td>\n",
       "      <td>Sports</td>\n",
       "      <td>15.61</td>\n",
       "      <td>10.93</td>\n",
       "      <td>3.28</td>\n",
       "      <td>2.95</td>\n",
       "      <td>80.0</td>\n",
       "      <td>8</td>\n",
       "      <td>E</td>\n",
       "    </tr>\n",
       "    <tr>\n",
       "      <th>4</th>\n",
       "      <td>Pokemon Red/Pokemon Blue</td>\n",
       "      <td>GB</td>\n",
       "      <td>1996.0</td>\n",
       "      <td>Role-Playing</td>\n",
       "      <td>11.27</td>\n",
       "      <td>8.89</td>\n",
       "      <td>10.22</td>\n",
       "      <td>1.00</td>\n",
       "      <td>NaN</td>\n",
       "      <td>NaN</td>\n",
       "      <td>NaN</td>\n",
       "    </tr>\n",
       "    <tr>\n",
       "      <th>...</th>\n",
       "      <td>...</td>\n",
       "      <td>...</td>\n",
       "      <td>...</td>\n",
       "      <td>...</td>\n",
       "      <td>...</td>\n",
       "      <td>...</td>\n",
       "      <td>...</td>\n",
       "      <td>...</td>\n",
       "      <td>...</td>\n",
       "      <td>...</td>\n",
       "      <td>...</td>\n",
       "    </tr>\n",
       "    <tr>\n",
       "      <th>16710</th>\n",
       "      <td>Samurai Warriors: Sanada Maru</td>\n",
       "      <td>PS3</td>\n",
       "      <td>2016.0</td>\n",
       "      <td>Action</td>\n",
       "      <td>0.00</td>\n",
       "      <td>0.00</td>\n",
       "      <td>0.01</td>\n",
       "      <td>0.00</td>\n",
       "      <td>NaN</td>\n",
       "      <td>NaN</td>\n",
       "      <td>NaN</td>\n",
       "    </tr>\n",
       "    <tr>\n",
       "      <th>16711</th>\n",
       "      <td>LMA Manager 2007</td>\n",
       "      <td>X360</td>\n",
       "      <td>2006.0</td>\n",
       "      <td>Sports</td>\n",
       "      <td>0.00</td>\n",
       "      <td>0.01</td>\n",
       "      <td>0.00</td>\n",
       "      <td>0.00</td>\n",
       "      <td>NaN</td>\n",
       "      <td>NaN</td>\n",
       "      <td>NaN</td>\n",
       "    </tr>\n",
       "    <tr>\n",
       "      <th>16712</th>\n",
       "      <td>Haitaka no Psychedelica</td>\n",
       "      <td>PSV</td>\n",
       "      <td>2016.0</td>\n",
       "      <td>Adventure</td>\n",
       "      <td>0.00</td>\n",
       "      <td>0.00</td>\n",
       "      <td>0.01</td>\n",
       "      <td>0.00</td>\n",
       "      <td>NaN</td>\n",
       "      <td>NaN</td>\n",
       "      <td>NaN</td>\n",
       "    </tr>\n",
       "    <tr>\n",
       "      <th>16713</th>\n",
       "      <td>Spirits &amp; Spells</td>\n",
       "      <td>GBA</td>\n",
       "      <td>2003.0</td>\n",
       "      <td>Platform</td>\n",
       "      <td>0.01</td>\n",
       "      <td>0.00</td>\n",
       "      <td>0.00</td>\n",
       "      <td>0.00</td>\n",
       "      <td>NaN</td>\n",
       "      <td>NaN</td>\n",
       "      <td>NaN</td>\n",
       "    </tr>\n",
       "    <tr>\n",
       "      <th>16714</th>\n",
       "      <td>Winning Post 8 2016</td>\n",
       "      <td>PSV</td>\n",
       "      <td>2016.0</td>\n",
       "      <td>Simulation</td>\n",
       "      <td>0.00</td>\n",
       "      <td>0.00</td>\n",
       "      <td>0.01</td>\n",
       "      <td>0.00</td>\n",
       "      <td>NaN</td>\n",
       "      <td>NaN</td>\n",
       "      <td>NaN</td>\n",
       "    </tr>\n",
       "  </tbody>\n",
       "</table>\n",
       "<p>16715 rows × 11 columns</p>\n",
       "</div>"
      ],
      "text/plain": [
       "                                Name Platform  Year_of_Release         Genre  \\\n",
       "0                         Wii Sports      Wii           2006.0        Sports   \n",
       "1                  Super Mario Bros.      NES           1985.0      Platform   \n",
       "2                     Mario Kart Wii      Wii           2008.0        Racing   \n",
       "3                  Wii Sports Resort      Wii           2009.0        Sports   \n",
       "4           Pokemon Red/Pokemon Blue       GB           1996.0  Role-Playing   \n",
       "...                              ...      ...              ...           ...   \n",
       "16710  Samurai Warriors: Sanada Maru      PS3           2016.0        Action   \n",
       "16711               LMA Manager 2007     X360           2006.0        Sports   \n",
       "16712        Haitaka no Psychedelica      PSV           2016.0     Adventure   \n",
       "16713               Spirits & Spells      GBA           2003.0      Platform   \n",
       "16714            Winning Post 8 2016      PSV           2016.0    Simulation   \n",
       "\n",
       "       NA_sales  EU_sales  JP_sales  Other_sales  Critic_Score User_Score  \\\n",
       "0         41.36     28.96      3.77         8.45          76.0          8   \n",
       "1         29.08      3.58      6.81         0.77           NaN        NaN   \n",
       "2         15.68     12.76      3.79         3.29          82.0        8.3   \n",
       "3         15.61     10.93      3.28         2.95          80.0          8   \n",
       "4         11.27      8.89     10.22         1.00           NaN        NaN   \n",
       "...         ...       ...       ...          ...           ...        ...   \n",
       "16710      0.00      0.00      0.01         0.00           NaN        NaN   \n",
       "16711      0.00      0.01      0.00         0.00           NaN        NaN   \n",
       "16712      0.00      0.00      0.01         0.00           NaN        NaN   \n",
       "16713      0.01      0.00      0.00         0.00           NaN        NaN   \n",
       "16714      0.00      0.00      0.01         0.00           NaN        NaN   \n",
       "\n",
       "      Rating  \n",
       "0          E  \n",
       "1        NaN  \n",
       "2          E  \n",
       "3          E  \n",
       "4        NaN  \n",
       "...      ...  \n",
       "16710    NaN  \n",
       "16711    NaN  \n",
       "16712    NaN  \n",
       "16713    NaN  \n",
       "16714    NaN  \n",
       "\n",
       "[16715 rows x 11 columns]"
      ]
     },
     "metadata": {},
     "output_type": "display_data"
    },
    {
     "name": "stdout",
     "output_type": "stream",
     "text": [
      "***********************\n",
      "Пропуски в данных \n",
      "\n",
      "Name                  2\n",
      "Platform              0\n",
      "Year_of_Release     269\n",
      "Genre                 2\n",
      "NA_sales              0\n",
      "EU_sales              0\n",
      "JP_sales              0\n",
      "Other_sales           0\n",
      "Critic_Score       8578\n",
      "User_Score         6701\n",
      "Rating             6766\n",
      "dtype: int64\n"
     ]
    }
   ],
   "source": [
    "print(data.info(),'\\n')\n",
    "print('******************************************************************************')\n",
    "display(data)\n",
    "print('***********************')\n",
    "print('Пропуски в данных', '\\n')\n",
    "print(data.isnull().sum())"
   ]
  },
  {
   "cell_type": "markdown",
   "metadata": {
    "scrolled": true
   },
   "source": [
    "В именах столбцов обнаружен разный регистр, пропуски данных, неверный тип значений столбцов."
   ]
  },
  {
   "cell_type": "markdown",
   "metadata": {},
   "source": [
    "## Подготовим данные"
   ]
  },
  {
   "cell_type": "code",
   "execution_count": 7,
   "metadata": {},
   "outputs": [
    {
     "name": "stdout",
     "output_type": "stream",
     "text": [
      "name                  2\n",
      "platform              0\n",
      "year_of_release     269\n",
      "genre                 2\n",
      "na_sales              0\n",
      "eu_sales              0\n",
      "jp_sales              0\n",
      "other_sales           0\n",
      "critic_score       8578\n",
      "user_score         6701\n",
      "rating             6766\n",
      "dtype: int64\n",
      "\n",
      " Проверим, одинаковые ли строки с пропусками в столбцах name и genre\n"
     ]
    },
    {
     "data": {
      "text/html": [
       "<div>\n",
       "<style scoped>\n",
       "    .dataframe tbody tr th:only-of-type {\n",
       "        vertical-align: middle;\n",
       "    }\n",
       "\n",
       "    .dataframe tbody tr th {\n",
       "        vertical-align: top;\n",
       "    }\n",
       "\n",
       "    .dataframe thead th {\n",
       "        text-align: right;\n",
       "    }\n",
       "</style>\n",
       "<table border=\"1\" class=\"dataframe\">\n",
       "  <thead>\n",
       "    <tr style=\"text-align: right;\">\n",
       "      <th></th>\n",
       "      <th>name</th>\n",
       "      <th>platform</th>\n",
       "      <th>year_of_release</th>\n",
       "      <th>genre</th>\n",
       "      <th>na_sales</th>\n",
       "      <th>eu_sales</th>\n",
       "      <th>jp_sales</th>\n",
       "      <th>other_sales</th>\n",
       "      <th>critic_score</th>\n",
       "      <th>user_score</th>\n",
       "      <th>rating</th>\n",
       "    </tr>\n",
       "  </thead>\n",
       "  <tbody>\n",
       "    <tr>\n",
       "      <th>659</th>\n",
       "      <td>NaN</td>\n",
       "      <td>GEN</td>\n",
       "      <td>1993.0</td>\n",
       "      <td>NaN</td>\n",
       "      <td>1.78</td>\n",
       "      <td>0.53</td>\n",
       "      <td>0.00</td>\n",
       "      <td>0.08</td>\n",
       "      <td>NaN</td>\n",
       "      <td>NaN</td>\n",
       "      <td>NaN</td>\n",
       "    </tr>\n",
       "    <tr>\n",
       "      <th>14244</th>\n",
       "      <td>NaN</td>\n",
       "      <td>GEN</td>\n",
       "      <td>1993.0</td>\n",
       "      <td>NaN</td>\n",
       "      <td>0.00</td>\n",
       "      <td>0.00</td>\n",
       "      <td>0.03</td>\n",
       "      <td>0.00</td>\n",
       "      <td>NaN</td>\n",
       "      <td>NaN</td>\n",
       "      <td>NaN</td>\n",
       "    </tr>\n",
       "  </tbody>\n",
       "</table>\n",
       "</div>"
      ],
      "text/plain": [
       "      name platform  year_of_release genre  na_sales  eu_sales  jp_sales  \\\n",
       "659    NaN      GEN           1993.0   NaN      1.78      0.53      0.00   \n",
       "14244  NaN      GEN           1993.0   NaN      0.00      0.00      0.03   \n",
       "\n",
       "       other_sales  critic_score user_score rating  \n",
       "659           0.08           NaN        NaN    NaN  \n",
       "14244         0.00           NaN        NaN    NaN  "
      ]
     },
     "metadata": {},
     "output_type": "display_data"
    },
    {
     "name": "stdout",
     "output_type": "stream",
     "text": [
      "name                  0\n",
      "platform              0\n",
      "year_of_release       0\n",
      "genre                 0\n",
      "na_sales              0\n",
      "eu_sales              0\n",
      "jp_sales              0\n",
      "other_sales           0\n",
      "critic_score       8461\n",
      "user_score         6605\n",
      "rating             6676\n",
      "dtype: int64\n"
     ]
    }
   ],
   "source": [
    "data.columns=data.columns.str.lower()\n",
    "print(data.isnull().sum())\n",
    "print(\"\\n\",'Проверим, одинаковые ли строки с пропусками в столбцах name и genre')\n",
    "display(data[data['name'].isnull()])\n",
    "#Пропуски в стобцах name и genre можно удалить, тк доля значений мала = 2/16714\n",
    "#Пропуски в столбце year_of_release можно также удалить\n",
    "data = data.dropna(subset=['name','year_of_release']).reset_index(drop=True) \n",
    "print(data.isnull().sum())\n",
    "data['year_of_release']=data['year_of_release'].astype(int) #Переводим в int, тк год - целочисленное значение\n",
    "#Пропуски в оценках игр могут быть тк:\n",
    "#игра только вышла (для пользователей)\n",
    "#игра непопулярна (для рейтинговых агенств)\n",
    "#игра не популярна и только вышла (для всех)\n",
    "#игра уже устарела и о ней забыли или не вспомнили (для старых игр)"
   ]
  },
  {
   "cell_type": "code",
   "execution_count": 8,
   "metadata": {},
   "outputs": [
    {
     "name": "stdout",
     "output_type": "stream",
     "text": [
      "<class 'pandas.core.frame.DataFrame'>\n",
      "RangeIndex: 16444 entries, 0 to 16443\n",
      "Data columns (total 11 columns):\n",
      " #   Column           Non-Null Count  Dtype  \n",
      "---  ------           --------------  -----  \n",
      " 0   name             16444 non-null  object \n",
      " 1   platform         16444 non-null  object \n",
      " 2   year_of_release  16444 non-null  int64  \n",
      " 3   genre            16444 non-null  object \n",
      " 4   na_sales         16444 non-null  float64\n",
      " 5   eu_sales         16444 non-null  float64\n",
      " 6   jp_sales         16444 non-null  float64\n",
      " 7   other_sales      16444 non-null  float64\n",
      " 8   critic_score     7983 non-null   float64\n",
      " 9   user_score       9839 non-null   object \n",
      " 10  rating           9768 non-null   object \n",
      "dtypes: float64(5), int64(1), object(5)\n",
      "memory usage: 1.4+ MB\n"
     ]
    }
   ],
   "source": [
    "data.info()"
   ]
  },
  {
   "cell_type": "code",
   "execution_count": 10,
   "metadata": {
    "scrolled": true
   },
   "outputs": [
    {
     "data": {
      "text/html": [
       "<div>\n",
       "<style scoped>\n",
       "    .dataframe tbody tr th:only-of-type {\n",
       "        vertical-align: middle;\n",
       "    }\n",
       "\n",
       "    .dataframe tbody tr th {\n",
       "        vertical-align: top;\n",
       "    }\n",
       "\n",
       "    .dataframe thead th {\n",
       "        text-align: right;\n",
       "    }\n",
       "</style>\n",
       "<table border=\"1\" class=\"dataframe\">\n",
       "  <thead>\n",
       "    <tr style=\"text-align: right;\">\n",
       "      <th></th>\n",
       "      <th>name</th>\n",
       "      <th>platform</th>\n",
       "      <th>year_of_release</th>\n",
       "      <th>genre</th>\n",
       "      <th>na_sales</th>\n",
       "      <th>eu_sales</th>\n",
       "      <th>jp_sales</th>\n",
       "      <th>other_sales</th>\n",
       "      <th>critic_score</th>\n",
       "      <th>user_score</th>\n",
       "      <th>rating</th>\n",
       "    </tr>\n",
       "  </thead>\n",
       "  <tbody>\n",
       "    <tr>\n",
       "      <th>119</th>\n",
       "      <td>Zumba Fitness</td>\n",
       "      <td>Wii</td>\n",
       "      <td>2010</td>\n",
       "      <td>Sports</td>\n",
       "      <td>3.45</td>\n",
       "      <td>2.59</td>\n",
       "      <td>0.0</td>\n",
       "      <td>0.66</td>\n",
       "      <td>NaN</td>\n",
       "      <td>tbd</td>\n",
       "      <td>E</td>\n",
       "    </tr>\n",
       "    <tr>\n",
       "      <th>300</th>\n",
       "      <td>Namco Museum: 50th Anniversary</td>\n",
       "      <td>PS2</td>\n",
       "      <td>2005</td>\n",
       "      <td>Misc</td>\n",
       "      <td>2.08</td>\n",
       "      <td>1.35</td>\n",
       "      <td>0.0</td>\n",
       "      <td>0.54</td>\n",
       "      <td>61.0</td>\n",
       "      <td>tbd</td>\n",
       "      <td>E10+</td>\n",
       "    </tr>\n",
       "    <tr>\n",
       "      <th>516</th>\n",
       "      <td>Zumba Fitness 2</td>\n",
       "      <td>Wii</td>\n",
       "      <td>2011</td>\n",
       "      <td>Sports</td>\n",
       "      <td>1.51</td>\n",
       "      <td>1.03</td>\n",
       "      <td>0.0</td>\n",
       "      <td>0.27</td>\n",
       "      <td>NaN</td>\n",
       "      <td>tbd</td>\n",
       "      <td>T</td>\n",
       "    </tr>\n",
       "    <tr>\n",
       "      <th>639</th>\n",
       "      <td>uDraw Studio</td>\n",
       "      <td>Wii</td>\n",
       "      <td>2010</td>\n",
       "      <td>Misc</td>\n",
       "      <td>1.65</td>\n",
       "      <td>0.57</td>\n",
       "      <td>0.0</td>\n",
       "      <td>0.20</td>\n",
       "      <td>71.0</td>\n",
       "      <td>tbd</td>\n",
       "      <td>E</td>\n",
       "    </tr>\n",
       "    <tr>\n",
       "      <th>709</th>\n",
       "      <td>Just Dance Kids</td>\n",
       "      <td>Wii</td>\n",
       "      <td>2010</td>\n",
       "      <td>Misc</td>\n",
       "      <td>1.52</td>\n",
       "      <td>0.54</td>\n",
       "      <td>0.0</td>\n",
       "      <td>0.18</td>\n",
       "      <td>NaN</td>\n",
       "      <td>tbd</td>\n",
       "      <td>E</td>\n",
       "    </tr>\n",
       "    <tr>\n",
       "      <th>...</th>\n",
       "      <td>...</td>\n",
       "      <td>...</td>\n",
       "      <td>...</td>\n",
       "      <td>...</td>\n",
       "      <td>...</td>\n",
       "      <td>...</td>\n",
       "      <td>...</td>\n",
       "      <td>...</td>\n",
       "      <td>...</td>\n",
       "      <td>...</td>\n",
       "      <td>...</td>\n",
       "    </tr>\n",
       "    <tr>\n",
       "      <th>16424</th>\n",
       "      <td>Planet Monsters</td>\n",
       "      <td>GBA</td>\n",
       "      <td>2001</td>\n",
       "      <td>Action</td>\n",
       "      <td>0.01</td>\n",
       "      <td>0.00</td>\n",
       "      <td>0.0</td>\n",
       "      <td>0.00</td>\n",
       "      <td>67.0</td>\n",
       "      <td>tbd</td>\n",
       "      <td>E</td>\n",
       "    </tr>\n",
       "    <tr>\n",
       "      <th>16426</th>\n",
       "      <td>Bust-A-Move 3000</td>\n",
       "      <td>GC</td>\n",
       "      <td>2003</td>\n",
       "      <td>Puzzle</td>\n",
       "      <td>0.01</td>\n",
       "      <td>0.00</td>\n",
       "      <td>0.0</td>\n",
       "      <td>0.00</td>\n",
       "      <td>53.0</td>\n",
       "      <td>tbd</td>\n",
       "      <td>E</td>\n",
       "    </tr>\n",
       "    <tr>\n",
       "      <th>16427</th>\n",
       "      <td>Mega Brain Boost</td>\n",
       "      <td>DS</td>\n",
       "      <td>2008</td>\n",
       "      <td>Puzzle</td>\n",
       "      <td>0.01</td>\n",
       "      <td>0.00</td>\n",
       "      <td>0.0</td>\n",
       "      <td>0.00</td>\n",
       "      <td>48.0</td>\n",
       "      <td>tbd</td>\n",
       "      <td>E</td>\n",
       "    </tr>\n",
       "    <tr>\n",
       "      <th>16433</th>\n",
       "      <td>Plushees</td>\n",
       "      <td>DS</td>\n",
       "      <td>2008</td>\n",
       "      <td>Simulation</td>\n",
       "      <td>0.01</td>\n",
       "      <td>0.00</td>\n",
       "      <td>0.0</td>\n",
       "      <td>0.00</td>\n",
       "      <td>NaN</td>\n",
       "      <td>tbd</td>\n",
       "      <td>E</td>\n",
       "    </tr>\n",
       "    <tr>\n",
       "      <th>16435</th>\n",
       "      <td>Men in Black II: Alien Escape</td>\n",
       "      <td>GC</td>\n",
       "      <td>2003</td>\n",
       "      <td>Shooter</td>\n",
       "      <td>0.01</td>\n",
       "      <td>0.00</td>\n",
       "      <td>0.0</td>\n",
       "      <td>0.00</td>\n",
       "      <td>NaN</td>\n",
       "      <td>tbd</td>\n",
       "      <td>T</td>\n",
       "    </tr>\n",
       "  </tbody>\n",
       "</table>\n",
       "<p>2376 rows × 11 columns</p>\n",
       "</div>"
      ],
      "text/plain": [
       "                                 name platform  year_of_release       genre  \\\n",
       "119                     Zumba Fitness      Wii             2010      Sports   \n",
       "300    Namco Museum: 50th Anniversary      PS2             2005        Misc   \n",
       "516                   Zumba Fitness 2      Wii             2011      Sports   \n",
       "639                      uDraw Studio      Wii             2010        Misc   \n",
       "709                   Just Dance Kids      Wii             2010        Misc   \n",
       "...                               ...      ...              ...         ...   \n",
       "16424                 Planet Monsters      GBA             2001      Action   \n",
       "16426                Bust-A-Move 3000       GC             2003      Puzzle   \n",
       "16427                Mega Brain Boost       DS             2008      Puzzle   \n",
       "16433                        Plushees       DS             2008  Simulation   \n",
       "16435   Men in Black II: Alien Escape       GC             2003     Shooter   \n",
       "\n",
       "       na_sales  eu_sales  jp_sales  other_sales  critic_score user_score  \\\n",
       "119        3.45      2.59       0.0         0.66           NaN        tbd   \n",
       "300        2.08      1.35       0.0         0.54          61.0        tbd   \n",
       "516        1.51      1.03       0.0         0.27           NaN        tbd   \n",
       "639        1.65      0.57       0.0         0.20          71.0        tbd   \n",
       "709        1.52      0.54       0.0         0.18           NaN        tbd   \n",
       "...         ...       ...       ...          ...           ...        ...   \n",
       "16424      0.01      0.00       0.0         0.00          67.0        tbd   \n",
       "16426      0.01      0.00       0.0         0.00          53.0        tbd   \n",
       "16427      0.01      0.00       0.0         0.00          48.0        tbd   \n",
       "16433      0.01      0.00       0.0         0.00           NaN        tbd   \n",
       "16435      0.01      0.00       0.0         0.00           NaN        tbd   \n",
       "\n",
       "      rating  \n",
       "119        E  \n",
       "300     E10+  \n",
       "516        T  \n",
       "639        E  \n",
       "709        E  \n",
       "...      ...  \n",
       "16424      E  \n",
       "16426      E  \n",
       "16427      E  \n",
       "16433      E  \n",
       "16435      T  \n",
       "\n",
       "[2376 rows x 11 columns]"
      ]
     },
     "metadata": {},
     "output_type": "display_data"
    }
   ],
   "source": [
    "#Разберемся с значениями tbd в колонке и поменяем тип данных на float в user_score\n",
    "display(data[data['user_score']==\"tbd\"])\n",
    "# В сети пишут, что \"tbd\" это аббревиатура \"to be discussed/determined\", то есть \"подлежит определению\", то есть еще не оценена. Значит поставим пропуски вместо аббревиатуры.\n",
    "data['user_score']=data['user_score'].replace('tbd', np.NaN)\n",
    "data['user_score'] = data['user_score'].astype('float')\n",
    "data['user_score']=data.loc[:,'user_score']*10 #Приведем к 100-бальной системе, для удобства и единообразия (или сравнения с оценками критиков)\n"
   ]
  },
  {
   "cell_type": "code",
   "execution_count": 11,
   "metadata": {},
   "outputs": [
    {
     "data": {
      "text/plain": [
       "0"
      ]
     },
     "execution_count": 11,
     "metadata": {},
     "output_type": "execute_result"
    }
   ],
   "source": [
    "#Глянем на дубликаты\n",
    "data.duplicated().sum()\n",
    "#А их и нет"
   ]
  },
  {
   "cell_type": "code",
   "execution_count": 12,
   "metadata": {},
   "outputs": [
    {
     "data": {
      "text/plain": [
       "name                  0\n",
       "platform              0\n",
       "year_of_release       0\n",
       "genre                 0\n",
       "na_sales              0\n",
       "eu_sales              0\n",
       "jp_sales              0\n",
       "other_sales           0\n",
       "critic_score          0\n",
       "user_score            0\n",
       "rating             6676\n",
       "dtype: int64"
      ]
     },
     "execution_count": 12,
     "metadata": {},
     "output_type": "execute_result"
    }
   ],
   "source": [
    "#Пропуски в critic_score, user_score заполним значением, не входищим в диапазон 0-100, проще взять -1, чтобы, в случае построения графика, заметить отрицательные значения вовремя\n",
    "data['user_score']=data['user_score'].fillna(-1)\n",
    "data['critic_score']=data['critic_score'].fillna(-1)\n",
    "data.isnull().sum()"
   ]
  },
  {
   "cell_type": "code",
   "execution_count": 13,
   "metadata": {},
   "outputs": [
    {
     "data": {
      "text/plain": [
       "0           E\n",
       "1        miss\n",
       "2           E\n",
       "3           E\n",
       "4        miss\n",
       "         ... \n",
       "16439    miss\n",
       "16440    miss\n",
       "16441    miss\n",
       "16442    miss\n",
       "16443    miss\n",
       "Name: rating, Length: 16444, dtype: object"
      ]
     },
     "execution_count": 13,
     "metadata": {},
     "output_type": "execute_result"
    }
   ],
   "source": [
    "#Столбец rating заполним значением miss\n",
    "data['rating'].fillna('miss')\n",
    "#Но лучше было бы, если бы был столбец в возрастной категорией"
   ]
  },
  {
   "cell_type": "code",
   "execution_count": 14,
   "metadata": {},
   "outputs": [],
   "source": [
    "#Посчитаем суммарные продажи во всех регионах и запишите их в отдельный столбец all_sales\n",
    "data['all_sales']=data['na_sales']+data['eu_sales']+data['jp_sales']+data['other_sales']"
   ]
  },
  {
   "cell_type": "code",
   "execution_count": 15,
   "metadata": {},
   "outputs": [
    {
     "name": "stdout",
     "output_type": "stream",
     "text": [
      "<class 'pandas.core.frame.DataFrame'>\n",
      "RangeIndex: 16444 entries, 0 to 16443\n",
      "Data columns (total 12 columns):\n",
      " #   Column           Non-Null Count  Dtype  \n",
      "---  ------           --------------  -----  \n",
      " 0   name             16444 non-null  object \n",
      " 1   platform         16444 non-null  object \n",
      " 2   year_of_release  16444 non-null  int64  \n",
      " 3   genre            16444 non-null  object \n",
      " 4   na_sales         16444 non-null  float64\n",
      " 5   eu_sales         16444 non-null  float64\n",
      " 6   jp_sales         16444 non-null  float64\n",
      " 7   other_sales      16444 non-null  float64\n",
      " 8   critic_score     16444 non-null  float64\n",
      " 9   user_score       16444 non-null  float64\n",
      " 10  rating           9768 non-null   object \n",
      " 11  all_sales        16444 non-null  float64\n",
      "dtypes: float64(7), int64(1), object(4)\n",
      "memory usage: 1.5+ MB\n"
     ]
    }
   ],
   "source": [
    "data.info()"
   ]
  },
  {
   "cell_type": "markdown",
   "metadata": {},
   "source": [
    "## Исследовательский анализ данных"
   ]
  },
  {
   "cell_type": "code",
   "execution_count": 16,
   "metadata": {},
   "outputs": [
    {
     "data": {
      "text/html": [
       "<div>\n",
       "<style scoped>\n",
       "    .dataframe tbody tr th:only-of-type {\n",
       "        vertical-align: middle;\n",
       "    }\n",
       "\n",
       "    .dataframe tbody tr th {\n",
       "        vertical-align: top;\n",
       "    }\n",
       "\n",
       "    .dataframe thead th {\n",
       "        text-align: right;\n",
       "    }\n",
       "</style>\n",
       "<table border=\"1\" class=\"dataframe\">\n",
       "  <thead>\n",
       "    <tr style=\"text-align: right;\">\n",
       "      <th></th>\n",
       "      <th>name</th>\n",
       "      <th>platform</th>\n",
       "      <th>year_of_release</th>\n",
       "      <th>genre</th>\n",
       "      <th>na_sales</th>\n",
       "      <th>eu_sales</th>\n",
       "      <th>jp_sales</th>\n",
       "      <th>other_sales</th>\n",
       "      <th>critic_score</th>\n",
       "      <th>user_score</th>\n",
       "      <th>rating</th>\n",
       "      <th>all_sales</th>\n",
       "    </tr>\n",
       "  </thead>\n",
       "  <tbody>\n",
       "    <tr>\n",
       "      <th>0</th>\n",
       "      <td>Wii Sports</td>\n",
       "      <td>Wii</td>\n",
       "      <td>2006</td>\n",
       "      <td>Sports</td>\n",
       "      <td>41.36</td>\n",
       "      <td>28.96</td>\n",
       "      <td>3.77</td>\n",
       "      <td>8.45</td>\n",
       "      <td>76.0</td>\n",
       "      <td>80.0</td>\n",
       "      <td>E</td>\n",
       "      <td>82.54</td>\n",
       "    </tr>\n",
       "    <tr>\n",
       "      <th>1</th>\n",
       "      <td>Super Mario Bros.</td>\n",
       "      <td>NES</td>\n",
       "      <td>1985</td>\n",
       "      <td>Platform</td>\n",
       "      <td>29.08</td>\n",
       "      <td>3.58</td>\n",
       "      <td>6.81</td>\n",
       "      <td>0.77</td>\n",
       "      <td>-1.0</td>\n",
       "      <td>-1.0</td>\n",
       "      <td>NaN</td>\n",
       "      <td>40.24</td>\n",
       "    </tr>\n",
       "    <tr>\n",
       "      <th>2</th>\n",
       "      <td>Mario Kart Wii</td>\n",
       "      <td>Wii</td>\n",
       "      <td>2008</td>\n",
       "      <td>Racing</td>\n",
       "      <td>15.68</td>\n",
       "      <td>12.76</td>\n",
       "      <td>3.79</td>\n",
       "      <td>3.29</td>\n",
       "      <td>82.0</td>\n",
       "      <td>83.0</td>\n",
       "      <td>E</td>\n",
       "      <td>35.52</td>\n",
       "    </tr>\n",
       "    <tr>\n",
       "      <th>3</th>\n",
       "      <td>Wii Sports Resort</td>\n",
       "      <td>Wii</td>\n",
       "      <td>2009</td>\n",
       "      <td>Sports</td>\n",
       "      <td>15.61</td>\n",
       "      <td>10.93</td>\n",
       "      <td>3.28</td>\n",
       "      <td>2.95</td>\n",
       "      <td>80.0</td>\n",
       "      <td>80.0</td>\n",
       "      <td>E</td>\n",
       "      <td>32.77</td>\n",
       "    </tr>\n",
       "    <tr>\n",
       "      <th>4</th>\n",
       "      <td>Pokemon Red/Pokemon Blue</td>\n",
       "      <td>GB</td>\n",
       "      <td>1996</td>\n",
       "      <td>Role-Playing</td>\n",
       "      <td>11.27</td>\n",
       "      <td>8.89</td>\n",
       "      <td>10.22</td>\n",
       "      <td>1.00</td>\n",
       "      <td>-1.0</td>\n",
       "      <td>-1.0</td>\n",
       "      <td>NaN</td>\n",
       "      <td>31.38</td>\n",
       "    </tr>\n",
       "    <tr>\n",
       "      <th>...</th>\n",
       "      <td>...</td>\n",
       "      <td>...</td>\n",
       "      <td>...</td>\n",
       "      <td>...</td>\n",
       "      <td>...</td>\n",
       "      <td>...</td>\n",
       "      <td>...</td>\n",
       "      <td>...</td>\n",
       "      <td>...</td>\n",
       "      <td>...</td>\n",
       "      <td>...</td>\n",
       "      <td>...</td>\n",
       "    </tr>\n",
       "    <tr>\n",
       "      <th>16439</th>\n",
       "      <td>Samurai Warriors: Sanada Maru</td>\n",
       "      <td>PS3</td>\n",
       "      <td>2016</td>\n",
       "      <td>Action</td>\n",
       "      <td>0.00</td>\n",
       "      <td>0.00</td>\n",
       "      <td>0.01</td>\n",
       "      <td>0.00</td>\n",
       "      <td>-1.0</td>\n",
       "      <td>-1.0</td>\n",
       "      <td>NaN</td>\n",
       "      <td>0.01</td>\n",
       "    </tr>\n",
       "    <tr>\n",
       "      <th>16440</th>\n",
       "      <td>LMA Manager 2007</td>\n",
       "      <td>X360</td>\n",
       "      <td>2006</td>\n",
       "      <td>Sports</td>\n",
       "      <td>0.00</td>\n",
       "      <td>0.01</td>\n",
       "      <td>0.00</td>\n",
       "      <td>0.00</td>\n",
       "      <td>-1.0</td>\n",
       "      <td>-1.0</td>\n",
       "      <td>NaN</td>\n",
       "      <td>0.01</td>\n",
       "    </tr>\n",
       "    <tr>\n",
       "      <th>16441</th>\n",
       "      <td>Haitaka no Psychedelica</td>\n",
       "      <td>PSV</td>\n",
       "      <td>2016</td>\n",
       "      <td>Adventure</td>\n",
       "      <td>0.00</td>\n",
       "      <td>0.00</td>\n",
       "      <td>0.01</td>\n",
       "      <td>0.00</td>\n",
       "      <td>-1.0</td>\n",
       "      <td>-1.0</td>\n",
       "      <td>NaN</td>\n",
       "      <td>0.01</td>\n",
       "    </tr>\n",
       "    <tr>\n",
       "      <th>16442</th>\n",
       "      <td>Spirits &amp; Spells</td>\n",
       "      <td>GBA</td>\n",
       "      <td>2003</td>\n",
       "      <td>Platform</td>\n",
       "      <td>0.01</td>\n",
       "      <td>0.00</td>\n",
       "      <td>0.00</td>\n",
       "      <td>0.00</td>\n",
       "      <td>-1.0</td>\n",
       "      <td>-1.0</td>\n",
       "      <td>NaN</td>\n",
       "      <td>0.01</td>\n",
       "    </tr>\n",
       "    <tr>\n",
       "      <th>16443</th>\n",
       "      <td>Winning Post 8 2016</td>\n",
       "      <td>PSV</td>\n",
       "      <td>2016</td>\n",
       "      <td>Simulation</td>\n",
       "      <td>0.00</td>\n",
       "      <td>0.00</td>\n",
       "      <td>0.01</td>\n",
       "      <td>0.00</td>\n",
       "      <td>-1.0</td>\n",
       "      <td>-1.0</td>\n",
       "      <td>NaN</td>\n",
       "      <td>0.01</td>\n",
       "    </tr>\n",
       "  </tbody>\n",
       "</table>\n",
       "<p>16444 rows × 12 columns</p>\n",
       "</div>"
      ],
      "text/plain": [
       "                                name platform  year_of_release         genre  \\\n",
       "0                         Wii Sports      Wii             2006        Sports   \n",
       "1                  Super Mario Bros.      NES             1985      Platform   \n",
       "2                     Mario Kart Wii      Wii             2008        Racing   \n",
       "3                  Wii Sports Resort      Wii             2009        Sports   \n",
       "4           Pokemon Red/Pokemon Blue       GB             1996  Role-Playing   \n",
       "...                              ...      ...              ...           ...   \n",
       "16439  Samurai Warriors: Sanada Maru      PS3             2016        Action   \n",
       "16440               LMA Manager 2007     X360             2006        Sports   \n",
       "16441        Haitaka no Psychedelica      PSV             2016     Adventure   \n",
       "16442               Spirits & Spells      GBA             2003      Platform   \n",
       "16443            Winning Post 8 2016      PSV             2016    Simulation   \n",
       "\n",
       "       na_sales  eu_sales  jp_sales  other_sales  critic_score  user_score  \\\n",
       "0         41.36     28.96      3.77         8.45          76.0        80.0   \n",
       "1         29.08      3.58      6.81         0.77          -1.0        -1.0   \n",
       "2         15.68     12.76      3.79         3.29          82.0        83.0   \n",
       "3         15.61     10.93      3.28         2.95          80.0        80.0   \n",
       "4         11.27      8.89     10.22         1.00          -1.0        -1.0   \n",
       "...         ...       ...       ...          ...           ...         ...   \n",
       "16439      0.00      0.00      0.01         0.00          -1.0        -1.0   \n",
       "16440      0.00      0.01      0.00         0.00          -1.0        -1.0   \n",
       "16441      0.00      0.00      0.01         0.00          -1.0        -1.0   \n",
       "16442      0.01      0.00      0.00         0.00          -1.0        -1.0   \n",
       "16443      0.00      0.00      0.01         0.00          -1.0        -1.0   \n",
       "\n",
       "      rating  all_sales  \n",
       "0          E      82.54  \n",
       "1        NaN      40.24  \n",
       "2          E      35.52  \n",
       "3          E      32.77  \n",
       "4        NaN      31.38  \n",
       "...      ...        ...  \n",
       "16439    NaN       0.01  \n",
       "16440    NaN       0.01  \n",
       "16441    NaN       0.01  \n",
       "16442    NaN       0.01  \n",
       "16443    NaN       0.01  \n",
       "\n",
       "[16444 rows x 12 columns]"
      ]
     },
     "execution_count": 16,
     "metadata": {},
     "output_type": "execute_result"
    }
   ],
   "source": [
    "data.head()"
   ]
  },
  {
   "cell_type": "markdown",
   "metadata": {},
   "source": [
    "Посмотрим, сколько игр выпускалось в разные годы. Важны ли данные за все периоды"
   ]
  },
  {
   "cell_type": "code",
   "execution_count": 18,
   "metadata": {
    "scrolled": true
   },
   "outputs": [
    {
     "data": {
      "image/png": "[encoded data removed]",
      "text/plain": [
       "<Figure size 1080x360 with 1 Axes>"
      ]
     },
     "metadata": {
      "needs_background": "light"
     },
     "output_type": "display_data"
    }
   ],
   "source": [
    "#Для наглядности построим график\n",
    "stat_release=data.groupby('year_of_release')['name'].count().reset_index()\n",
    "stat_release.columns=['year','count']\n",
    "plt.figure(figsize=(15,5))\n",
    "plt.bar(stat_release['year'], stat_release['count'])\n",
    "plt.xlabel('Года')\n",
    "plt.ylabel('Количество')\n",
    "plt.grid()"
   ]
  },
  {
   "cell_type": "markdown",
   "metadata": {},
   "source": [
    "Истоки игростроения 1980-1995г, в 2010 скорее всего все просело из-за крисзиса 2008 г. "
   ]
  },
  {
   "cell_type": "code",
   "execution_count": 20,
   "metadata": {},
   "outputs": [
    {
     "data": {
      "text/html": [
       "<div>\n",
       "<style scoped>\n",
       "    .dataframe tbody tr th:only-of-type {\n",
       "        vertical-align: middle;\n",
       "    }\n",
       "\n",
       "    .dataframe tbody tr th {\n",
       "        vertical-align: top;\n",
       "    }\n",
       "\n",
       "    .dataframe thead th {\n",
       "        text-align: right;\n",
       "    }\n",
       "</style>\n",
       "<table border=\"1\" class=\"dataframe\">\n",
       "  <thead>\n",
       "    <tr style=\"text-align: right;\">\n",
       "      <th></th>\n",
       "      <th>platform</th>\n",
       "      <th>all_sales</th>\n",
       "    </tr>\n",
       "  </thead>\n",
       "  <tbody>\n",
       "    <tr>\n",
       "      <th>0</th>\n",
       "      <td>PCFX</td>\n",
       "      <td>0.03</td>\n",
       "    </tr>\n",
       "    <tr>\n",
       "      <th>1</th>\n",
       "      <td>GG</td>\n",
       "      <td>0.04</td>\n",
       "    </tr>\n",
       "    <tr>\n",
       "      <th>2</th>\n",
       "      <td>3DO</td>\n",
       "      <td>0.10</td>\n",
       "    </tr>\n",
       "    <tr>\n",
       "      <th>3</th>\n",
       "      <td>TG16</td>\n",
       "      <td>0.16</td>\n",
       "    </tr>\n",
       "    <tr>\n",
       "      <th>4</th>\n",
       "      <td>WS</td>\n",
       "      <td>1.42</td>\n",
       "    </tr>\n",
       "    <tr>\n",
       "      <th>5</th>\n",
       "      <td>NG</td>\n",
       "      <td>1.44</td>\n",
       "    </tr>\n",
       "    <tr>\n",
       "      <th>6</th>\n",
       "      <td>SCD</td>\n",
       "      <td>1.86</td>\n",
       "    </tr>\n",
       "    <tr>\n",
       "      <th>7</th>\n",
       "      <td>DC</td>\n",
       "      <td>15.95</td>\n",
       "    </tr>\n",
       "    <tr>\n",
       "      <th>8</th>\n",
       "      <td>GEN</td>\n",
       "      <td>28.35</td>\n",
       "    </tr>\n",
       "    <tr>\n",
       "      <th>9</th>\n",
       "      <td>SAT</td>\n",
       "      <td>33.59</td>\n",
       "    </tr>\n",
       "    <tr>\n",
       "      <th>10</th>\n",
       "      <td>PSV</td>\n",
       "      <td>53.81</td>\n",
       "    </tr>\n",
       "    <tr>\n",
       "      <th>11</th>\n",
       "      <td>WiiU</td>\n",
       "      <td>82.19</td>\n",
       "    </tr>\n",
       "    <tr>\n",
       "      <th>12</th>\n",
       "      <td>2600</td>\n",
       "      <td>86.48</td>\n",
       "    </tr>\n",
       "    <tr>\n",
       "      <th>13</th>\n",
       "      <td>XOne</td>\n",
       "      <td>159.32</td>\n",
       "    </tr>\n",
       "    <tr>\n",
       "      <th>14</th>\n",
       "      <td>GC</td>\n",
       "      <td>196.73</td>\n",
       "    </tr>\n",
       "    <tr>\n",
       "      <th>15</th>\n",
       "      <td>SNES</td>\n",
       "      <td>200.04</td>\n",
       "    </tr>\n",
       "    <tr>\n",
       "      <th>16</th>\n",
       "      <td>N64</td>\n",
       "      <td>218.01</td>\n",
       "    </tr>\n",
       "    <tr>\n",
       "      <th>17</th>\n",
       "      <td>NES</td>\n",
       "      <td>251.05</td>\n",
       "    </tr>\n",
       "    <tr>\n",
       "      <th>18</th>\n",
       "      <td>XB</td>\n",
       "      <td>251.57</td>\n",
       "    </tr>\n",
       "    <tr>\n",
       "      <th>19</th>\n",
       "      <td>GB</td>\n",
       "      <td>254.43</td>\n",
       "    </tr>\n",
       "    <tr>\n",
       "      <th>20</th>\n",
       "      <td>PC</td>\n",
       "      <td>255.76</td>\n",
       "    </tr>\n",
       "    <tr>\n",
       "      <th>21</th>\n",
       "      <td>3DS</td>\n",
       "      <td>257.81</td>\n",
       "    </tr>\n",
       "    <tr>\n",
       "      <th>22</th>\n",
       "      <td>PSP</td>\n",
       "      <td>289.53</td>\n",
       "    </tr>\n",
       "    <tr>\n",
       "      <th>23</th>\n",
       "      <td>GBA</td>\n",
       "      <td>312.88</td>\n",
       "    </tr>\n",
       "    <tr>\n",
       "      <th>24</th>\n",
       "      <td>PS4</td>\n",
       "      <td>314.14</td>\n",
       "    </tr>\n",
       "    <tr>\n",
       "      <th>25</th>\n",
       "      <td>PS</td>\n",
       "      <td>727.58</td>\n",
       "    </tr>\n",
       "    <tr>\n",
       "      <th>26</th>\n",
       "      <td>DS</td>\n",
       "      <td>802.78</td>\n",
       "    </tr>\n",
       "    <tr>\n",
       "      <th>27</th>\n",
       "      <td>Wii</td>\n",
       "      <td>891.18</td>\n",
       "    </tr>\n",
       "    <tr>\n",
       "      <th>28</th>\n",
       "      <td>PS3</td>\n",
       "      <td>931.34</td>\n",
       "    </tr>\n",
       "    <tr>\n",
       "      <th>29</th>\n",
       "      <td>X360</td>\n",
       "      <td>961.24</td>\n",
       "    </tr>\n",
       "    <tr>\n",
       "      <th>30</th>\n",
       "      <td>PS2</td>\n",
       "      <td>1233.56</td>\n",
       "    </tr>\n",
       "  </tbody>\n",
       "</table>\n",
       "</div>"
      ],
      "text/plain": [
       "   platform  all_sales\n",
       "0      PCFX       0.03\n",
       "1        GG       0.04\n",
       "2       3DO       0.10\n",
       "3      TG16       0.16\n",
       "4        WS       1.42\n",
       "5        NG       1.44\n",
       "6       SCD       1.86\n",
       "7        DC      15.95\n",
       "8       GEN      28.35\n",
       "9       SAT      33.59\n",
       "10      PSV      53.81\n",
       "11     WiiU      82.19\n",
       "12     2600      86.48\n",
       "13     XOne     159.32\n",
       "14       GC     196.73\n",
       "15     SNES     200.04\n",
       "16      N64     218.01\n",
       "17      NES     251.05\n",
       "18       XB     251.57\n",
       "19       GB     254.43\n",
       "20       PC     255.76\n",
       "21      3DS     257.81\n",
       "22      PSP     289.53\n",
       "23      GBA     312.88\n",
       "24      PS4     314.14\n",
       "25       PS     727.58\n",
       "26       DS     802.78\n",
       "27      Wii     891.18\n",
       "28      PS3     931.34\n",
       "29     X360     961.24\n",
       "30      PS2    1233.56"
      ]
     },
     "execution_count": 20,
     "metadata": {},
     "output_type": "execute_result"
    }
   ],
   "source": [
    "#Выберите платформы с наибольшими суммарными продажами и постройте распределение по годам.\n",
    "stat_platform=data.groupby('platform')['all_sales'].sum().sort_values().reset_index()\n",
    "stat_platform"
   ]
  },
  {
   "cell_type": "code",
   "execution_count": 21,
   "metadata": {
    "scrolled": true
   },
   "outputs": [
    {
     "data": {
      "text/plain": [
       "Text(0, 0.5, 'Суммарные продажи')"
      ]
     },
     "execution_count": 21,
     "metadata": {},
     "output_type": "execute_result"
    },
    {
     "data": {
      "image/png": "[encoded data removed]",
      "text/plain": [
       "<Figure size 1080x360 with 1 Axes>"
      ]
     },
     "metadata": {
      "needs_background": "light"
     },
     "output_type": "display_data"
    }
   ],
   "source": [
    "maxi=stat_platform.loc[20:30,'platform'].values\n",
    "maxi\n",
    "plt.figure(figsize=(15,5))\n",
    "for idx in range (0,len(maxi)):\n",
    "    platform=data.query('platform==@maxi[@idx]').groupby('year_of_release')['all_sales'].sum()\n",
    "    platform.plot(x=platform.index, y=platform.values,label=maxi[idx])\n",
    "plt.grid()\n",
    "plt.legend()\n",
    "plt.xlabel('Года')\n",
    "plt.ylabel('Суммарные продажи')"
   ]
  },
  {
   "cell_type": "code",
   "execution_count": 22,
   "metadata": {},
   "outputs": [
    {
     "data": {
      "text/html": [
       "<div>\n",
       "<style scoped>\n",
       "    .dataframe tbody tr th:only-of-type {\n",
       "        vertical-align: middle;\n",
       "    }\n",
       "\n",
       "    .dataframe tbody tr th {\n",
       "        vertical-align: top;\n",
       "    }\n",
       "\n",
       "    .dataframe thead th {\n",
       "        text-align: right;\n",
       "    }\n",
       "</style>\n",
       "<table border=\"1\" class=\"dataframe\">\n",
       "  <thead>\n",
       "    <tr style=\"text-align: right;\">\n",
       "      <th></th>\n",
       "      <th>platform</th>\n",
       "      <th>all_sales</th>\n",
       "    </tr>\n",
       "  </thead>\n",
       "  <tbody>\n",
       "    <tr>\n",
       "      <th>0</th>\n",
       "      <td>PS2</td>\n",
       "      <td>1233.56</td>\n",
       "    </tr>\n",
       "    <tr>\n",
       "      <th>1</th>\n",
       "      <td>X360</td>\n",
       "      <td>961.24</td>\n",
       "    </tr>\n",
       "    <tr>\n",
       "      <th>2</th>\n",
       "      <td>PS3</td>\n",
       "      <td>931.34</td>\n",
       "    </tr>\n",
       "    <tr>\n",
       "      <th>3</th>\n",
       "      <td>Wii</td>\n",
       "      <td>891.18</td>\n",
       "    </tr>\n",
       "    <tr>\n",
       "      <th>4</th>\n",
       "      <td>DS</td>\n",
       "      <td>802.78</td>\n",
       "    </tr>\n",
       "    <tr>\n",
       "      <th>5</th>\n",
       "      <td>PS</td>\n",
       "      <td>727.58</td>\n",
       "    </tr>\n",
       "    <tr>\n",
       "      <th>6</th>\n",
       "      <td>PS4</td>\n",
       "      <td>314.14</td>\n",
       "    </tr>\n",
       "    <tr>\n",
       "      <th>7</th>\n",
       "      <td>GBA</td>\n",
       "      <td>312.88</td>\n",
       "    </tr>\n",
       "    <tr>\n",
       "      <th>8</th>\n",
       "      <td>PSP</td>\n",
       "      <td>289.53</td>\n",
       "    </tr>\n",
       "    <tr>\n",
       "      <th>9</th>\n",
       "      <td>3DS</td>\n",
       "      <td>257.81</td>\n",
       "    </tr>\n",
       "  </tbody>\n",
       "</table>\n",
       "</div>"
      ],
      "text/plain": [
       "  platform  all_sales\n",
       "0      PS2    1233.56\n",
       "1     X360     961.24\n",
       "2      PS3     931.34\n",
       "3      Wii     891.18\n",
       "4       DS     802.78\n",
       "5       PS     727.58\n",
       "6      PS4     314.14\n",
       "7      GBA     312.88\n",
       "8      PSP     289.53\n",
       "9      3DS     257.81"
      ]
     },
     "execution_count": 22,
     "metadata": {},
     "output_type": "execute_result"
    }
   ],
   "source": [
    "# пример кода к комментарию ревьюера\n",
    "top10 = data.groupby('platform')['all_sales'].sum().sort_values(ascending=False).reset_index().head(10)\n",
    "top10"
   ]
  },
  {
   "cell_type": "markdown",
   "metadata": {},
   "source": [
    "Жизненный цикл платформы около 8 лет."
   ]
  },
  {
   "cell_type": "code",
   "execution_count": 25,
   "metadata": {},
   "outputs": [
    {
     "data": {
      "text/html": [
       "<div>\n",
       "<style scoped>\n",
       "    .dataframe tbody tr th:only-of-type {\n",
       "        vertical-align: middle;\n",
       "    }\n",
       "\n",
       "    .dataframe tbody tr th {\n",
       "        vertical-align: top;\n",
       "    }\n",
       "\n",
       "    .dataframe thead th {\n",
       "        text-align: right;\n",
       "    }\n",
       "</style>\n",
       "<table border=\"1\" class=\"dataframe\">\n",
       "  <thead>\n",
       "    <tr style=\"text-align: right;\">\n",
       "      <th>platform</th>\n",
       "      <th>year_of_release</th>\n",
       "      <th>2600</th>\n",
       "      <th>3DO</th>\n",
       "      <th>3DS</th>\n",
       "      <th>DC</th>\n",
       "      <th>DS</th>\n",
       "      <th>GB</th>\n",
       "      <th>GBA</th>\n",
       "      <th>GC</th>\n",
       "      <th>GEN</th>\n",
       "      <th>...</th>\n",
       "      <th>SAT</th>\n",
       "      <th>SCD</th>\n",
       "      <th>SNES</th>\n",
       "      <th>TG16</th>\n",
       "      <th>WS</th>\n",
       "      <th>Wii</th>\n",
       "      <th>WiiU</th>\n",
       "      <th>X360</th>\n",
       "      <th>XB</th>\n",
       "      <th>XOne</th>\n",
       "    </tr>\n",
       "  </thead>\n",
       "  <tbody>\n",
       "    <tr>\n",
       "      <th>0</th>\n",
       "      <td>2014</td>\n",
       "      <td>0.0</td>\n",
       "      <td>0.0</td>\n",
       "      <td>43.76</td>\n",
       "      <td>0.0</td>\n",
       "      <td>0.0</td>\n",
       "      <td>0.0</td>\n",
       "      <td>0.0</td>\n",
       "      <td>0.0</td>\n",
       "      <td>0.0</td>\n",
       "      <td>...</td>\n",
       "      <td>0.0</td>\n",
       "      <td>0.0</td>\n",
       "      <td>0.0</td>\n",
       "      <td>0.0</td>\n",
       "      <td>0.0</td>\n",
       "      <td>3.75</td>\n",
       "      <td>22.03</td>\n",
       "      <td>34.74</td>\n",
       "      <td>0.0</td>\n",
       "      <td>54.07</td>\n",
       "    </tr>\n",
       "    <tr>\n",
       "      <th>1</th>\n",
       "      <td>2015</td>\n",
       "      <td>0.0</td>\n",
       "      <td>0.0</td>\n",
       "      <td>27.78</td>\n",
       "      <td>0.0</td>\n",
       "      <td>0.0</td>\n",
       "      <td>0.0</td>\n",
       "      <td>0.0</td>\n",
       "      <td>0.0</td>\n",
       "      <td>0.0</td>\n",
       "      <td>...</td>\n",
       "      <td>0.0</td>\n",
       "      <td>0.0</td>\n",
       "      <td>0.0</td>\n",
       "      <td>0.0</td>\n",
       "      <td>0.0</td>\n",
       "      <td>1.14</td>\n",
       "      <td>16.35</td>\n",
       "      <td>11.96</td>\n",
       "      <td>0.0</td>\n",
       "      <td>60.14</td>\n",
       "    </tr>\n",
       "    <tr>\n",
       "      <th>2</th>\n",
       "      <td>2016</td>\n",
       "      <td>0.0</td>\n",
       "      <td>0.0</td>\n",
       "      <td>15.14</td>\n",
       "      <td>0.0</td>\n",
       "      <td>0.0</td>\n",
       "      <td>0.0</td>\n",
       "      <td>0.0</td>\n",
       "      <td>0.0</td>\n",
       "      <td>0.0</td>\n",
       "      <td>...</td>\n",
       "      <td>0.0</td>\n",
       "      <td>0.0</td>\n",
       "      <td>0.0</td>\n",
       "      <td>0.0</td>\n",
       "      <td>0.0</td>\n",
       "      <td>0.18</td>\n",
       "      <td>4.60</td>\n",
       "      <td>1.52</td>\n",
       "      <td>0.0</td>\n",
       "      <td>26.15</td>\n",
       "    </tr>\n",
       "  </tbody>\n",
       "</table>\n",
       "<p>3 rows × 32 columns</p>\n",
       "</div>"
      ],
      "text/plain": [
       "platform  year_of_release  2600  3DO    3DS   DC   DS   GB  GBA   GC  GEN  \\\n",
       "0                    2014   0.0  0.0  43.76  0.0  0.0  0.0  0.0  0.0  0.0   \n",
       "1                    2015   0.0  0.0  27.78  0.0  0.0  0.0  0.0  0.0  0.0   \n",
       "2                    2016   0.0  0.0  15.14  0.0  0.0  0.0  0.0  0.0  0.0   \n",
       "\n",
       "platform  ...  SAT  SCD  SNES  TG16   WS   Wii   WiiU   X360   XB   XOne  \n",
       "0         ...  0.0  0.0   0.0   0.0  0.0  3.75  22.03  34.74  0.0  54.07  \n",
       "1         ...  0.0  0.0   0.0   0.0  0.0  1.14  16.35  11.96  0.0  60.14  \n",
       "2         ...  0.0  0.0   0.0   0.0  0.0  0.18   4.60   1.52  0.0  26.15  \n",
       "\n",
       "[3 rows x 32 columns]"
      ]
     },
     "execution_count": 25,
     "metadata": {},
     "output_type": "execute_result"
    }
   ],
   "source": [
    "predict_2017=data.pivot_table(index='year_of_release', columns ='platform', values='all_sales', aggfunc='sum')\n",
    "predict_2017=predict_2017.query('year_of_release>2013').fillna(0).reset_index()\n",
    "predict_2017"
   ]
  },
  {
   "cell_type": "code",
   "execution_count": 26,
   "metadata": {},
   "outputs": [
    {
     "data": {
      "text/html": [
       "<div>\n",
       "<style scoped>\n",
       "    .dataframe tbody tr th:only-of-type {\n",
       "        vertical-align: middle;\n",
       "    }\n",
       "\n",
       "    .dataframe tbody tr th {\n",
       "        vertical-align: top;\n",
       "    }\n",
       "\n",
       "    .dataframe thead th {\n",
       "        text-align: right;\n",
       "    }\n",
       "</style>\n",
       "<table border=\"1\" class=\"dataframe\">\n",
       "  <thead>\n",
       "    <tr style=\"text-align: right;\">\n",
       "      <th>platform</th>\n",
       "      <th>year_of_release</th>\n",
       "      <th>3DS</th>\n",
       "      <th>PC</th>\n",
       "      <th>PS3</th>\n",
       "      <th>PS4</th>\n",
       "      <th>PSP</th>\n",
       "      <th>PSV</th>\n",
       "      <th>Wii</th>\n",
       "      <th>WiiU</th>\n",
       "      <th>X360</th>\n",
       "      <th>XOne</th>\n",
       "    </tr>\n",
       "  </thead>\n",
       "  <tbody>\n",
       "    <tr>\n",
       "      <th>0</th>\n",
       "      <td>2014</td>\n",
       "      <td>43.76</td>\n",
       "      <td>13.28</td>\n",
       "      <td>47.76</td>\n",
       "      <td>100.00</td>\n",
       "      <td>0.24</td>\n",
       "      <td>11.90</td>\n",
       "      <td>3.75</td>\n",
       "      <td>22.03</td>\n",
       "      <td>34.74</td>\n",
       "      <td>54.07</td>\n",
       "    </tr>\n",
       "    <tr>\n",
       "      <th>1</th>\n",
       "      <td>2015</td>\n",
       "      <td>27.78</td>\n",
       "      <td>8.52</td>\n",
       "      <td>16.82</td>\n",
       "      <td>118.90</td>\n",
       "      <td>0.12</td>\n",
       "      <td>6.25</td>\n",
       "      <td>1.14</td>\n",
       "      <td>16.35</td>\n",
       "      <td>11.96</td>\n",
       "      <td>60.14</td>\n",
       "    </tr>\n",
       "    <tr>\n",
       "      <th>2</th>\n",
       "      <td>2016</td>\n",
       "      <td>15.14</td>\n",
       "      <td>5.25</td>\n",
       "      <td>3.60</td>\n",
       "      <td>69.25</td>\n",
       "      <td>0.00</td>\n",
       "      <td>4.25</td>\n",
       "      <td>0.18</td>\n",
       "      <td>4.60</td>\n",
       "      <td>1.52</td>\n",
       "      <td>26.15</td>\n",
       "    </tr>\n",
       "  </tbody>\n",
       "</table>\n",
       "</div>"
      ],
      "text/plain": [
       "platform  year_of_release    3DS     PC    PS3     PS4   PSP    PSV   Wii  \\\n",
       "0                    2014  43.76  13.28  47.76  100.00  0.24  11.90  3.75   \n",
       "1                    2015  27.78   8.52  16.82  118.90  0.12   6.25  1.14   \n",
       "2                    2016  15.14   5.25   3.60   69.25  0.00   4.25  0.18   \n",
       "\n",
       "platform   WiiU   X360   XOne  \n",
       "0         22.03  34.74  54.07  \n",
       "1         16.35  11.96  60.14  \n",
       "2          4.60   1.52  26.15  "
      ]
     },
     "execution_count": 26,
     "metadata": {},
     "output_type": "execute_result"
    }
   ],
   "source": [
    "#Уберем те платформы, по которым нет продаж\n",
    "for idx in predict_2017.columns:\n",
    "    if predict_2017[idx].sum()==0:\n",
    "        predict_2017.drop(idx, axis=1,inplace=True)\n",
    "predict_2017"
   ]
  },
  {
   "cell_type": "code",
   "execution_count": 27,
   "metadata": {
    "scrolled": false
   },
   "outputs": [
    {
     "data": {
      "text/plain": [
       "Text(0, 0.5, 'Суммарные продажи')"
      ]
     },
     "execution_count": 27,
     "metadata": {},
     "output_type": "execute_result"
    },
    {
     "data": {
      "image/png": "[encoded data removed]",
      "text/plain": [
       "<Figure size 1440x720 with 1 Axes>"
      ]
     },
     "metadata": {
      "needs_background": "light"
     },
     "output_type": "display_data"
    }
   ],
   "source": [
    "plt.figure(figsize=(20,10))\n",
    "\n",
    "for idx in predict_2017.columns[1:]:\n",
    "     plt.plot(predict_2017['year_of_release'].to_list(), predict_2017[idx].to_list(),label=idx)\n",
    "\n",
    "plt.grid()\n",
    "plt.legend()\n",
    "plt.xlabel('Года')\n",
    "plt.ylabel('Суммарные продажи')"
   ]
  },
  {
   "cell_type": "markdown",
   "metadata": {},
   "source": [
    "PS4 и Xbox One начинают свой рост, но почему-то падают в 2015 году, при этом являясь самыми перспективными.\n",
    "На текущий год они и лидируют. При этом PC остается в малых значениях. \n",
    "Большинство платформ заканчивают свой цикл к 2015 г.\n"
   ]
  },
  {
   "cell_type": "code",
   "execution_count": 29,
   "metadata": {
    "scrolled": true
   },
   "outputs": [
    {
     "data": {
      "text/html": [
       "<div>\n",
       "<style scoped>\n",
       "    .dataframe tbody tr th:only-of-type {\n",
       "        vertical-align: middle;\n",
       "    }\n",
       "\n",
       "    .dataframe tbody tr th {\n",
       "        vertical-align: top;\n",
       "    }\n",
       "\n",
       "    .dataframe thead th {\n",
       "        text-align: right;\n",
       "    }\n",
       "</style>\n",
       "<table border=\"1\" class=\"dataframe\">\n",
       "  <thead>\n",
       "    <tr style=\"text-align: right;\">\n",
       "      <th></th>\n",
       "      <th>platform</th>\n",
       "      <th>all_sales</th>\n",
       "    </tr>\n",
       "  </thead>\n",
       "  <tbody>\n",
       "    <tr>\n",
       "      <th>0</th>\n",
       "      <td>PS4</td>\n",
       "      <td>288.15</td>\n",
       "    </tr>\n",
       "    <tr>\n",
       "      <th>1</th>\n",
       "      <td>XOne</td>\n",
       "      <td>140.36</td>\n",
       "    </tr>\n",
       "    <tr>\n",
       "      <th>2</th>\n",
       "      <td>3DS</td>\n",
       "      <td>86.68</td>\n",
       "    </tr>\n",
       "    <tr>\n",
       "      <th>3</th>\n",
       "      <td>PS3</td>\n",
       "      <td>68.18</td>\n",
       "    </tr>\n",
       "    <tr>\n",
       "      <th>4</th>\n",
       "      <td>X360</td>\n",
       "      <td>48.22</td>\n",
       "    </tr>\n",
       "    <tr>\n",
       "      <th>5</th>\n",
       "      <td>WiiU</td>\n",
       "      <td>42.98</td>\n",
       "    </tr>\n",
       "    <tr>\n",
       "      <th>6</th>\n",
       "      <td>PC</td>\n",
       "      <td>27.05</td>\n",
       "    </tr>\n",
       "    <tr>\n",
       "      <th>7</th>\n",
       "      <td>PSV</td>\n",
       "      <td>22.40</td>\n",
       "    </tr>\n",
       "    <tr>\n",
       "      <th>8</th>\n",
       "      <td>Wii</td>\n",
       "      <td>5.07</td>\n",
       "    </tr>\n",
       "    <tr>\n",
       "      <th>9</th>\n",
       "      <td>PSP</td>\n",
       "      <td>0.36</td>\n",
       "    </tr>\n",
       "  </tbody>\n",
       "</table>\n",
       "</div>"
      ],
      "text/plain": [
       "  platform  all_sales\n",
       "0      PS4     288.15\n",
       "1     XOne     140.36\n",
       "2      3DS      86.68\n",
       "3      PS3      68.18\n",
       "4     X360      48.22\n",
       "5     WiiU      42.98\n",
       "6       PC      27.05\n",
       "7      PSV      22.40\n",
       "8      Wii       5.07\n",
       "9      PSP       0.36"
      ]
     },
     "execution_count": 29,
     "metadata": {},
     "output_type": "execute_result"
    }
   ],
   "source": [
    "#Выберем потенциально прибыльные платформы и построим график «ящик с усами» по глобальным продажам игр в разбивке по платформам.\n",
    "profitable=data.query('year_of_release>2013').groupby('platform')['all_sales'].sum().sort_values(ascending=False).reset_index()\n",
    "#Возьмем первые 5 платформ\n",
    "profitable"
   ]
  },
  {
   "cell_type": "code",
   "execution_count": 30,
   "metadata": {},
   "outputs": [],
   "source": [
    "#Переменная plan содержит в себе данные с 2014, как актуальные для анализа.\n",
    "plan=data.query('year_of_release >2013')"
   ]
  },
  {
   "cell_type": "code",
   "execution_count": 31,
   "metadata": {},
   "outputs": [
    {
     "data": {
      "text/plain": [
       "(0.0, 1.0)"
      ]
     },
     "execution_count": 31,
     "metadata": {},
     "output_type": "execute_result"
    },
    {
     "data": {
      "image/png": "[encoded data removed]",
      "text/plain": [
       "<Figure size 1440x720 with 1 Axes>"
      ]
     },
     "metadata": {
      "needs_background": "light"
     },
     "output_type": "display_data"
    }
   ],
   "source": [
    "#Построим график «ящик с усами» по глобальным продажам игр в разбивке по платформам.\n",
    "\n",
    "query_top_pl=(\"platform in ['PS4', 'XOne', '3DS', 'PS3', 'X360']\")\n",
    "data_query = plan.query(query_top_pl)\n",
    "by_column = query_top_pl.split()[0]\n",
    "ax = data_query.boxplot(column='all_sales', by=by_column,  figsize=(20,10))\n",
    "plt.ylim(0, 1)\n"
   ]
  },
  {
   "cell_type": "markdown",
   "metadata": {},
   "source": [
    "По продажам лидируют PS4 и XOne, X360 расположилась на 3-ем месте, PS3 и 3DS замыкают топ 5. Имеет смысле оставить топ 3 актуальных платформ."
   ]
  },
  {
   "cell_type": "markdown",
   "metadata": {},
   "source": [
    "Посмотрим, как влияют на продажи отзывы внутри одной популярной платформы (PS4)"
   ]
  },
  {
   "cell_type": "code",
   "execution_count": 34,
   "metadata": {},
   "outputs": [
    {
     "name": "stdout",
     "output_type": "stream",
     "text": [
      "Влияние отзывов критиков на продажи внутри платформы PS4 = 0.40190287811475334\n"
     ]
    }
   ],
   "source": [
    "ps4=plan.query('platform==\"PS4\" & (user_score > 0) & (critic_score > 0)')[['all_sales', 'critic_score', 'user_score']].dropna().reset_index(drop=True)\n",
    "print('Влияние отзывов критиков на продажи внутри платформы PS4 =',ps4['all_sales'].corr(ps4['critic_score']))"
   ]
  },
  {
   "cell_type": "code",
   "execution_count": 35,
   "metadata": {},
   "outputs": [
    {
     "data": {
      "text/plain": [
       "(10.0, 100.0)"
      ]
     },
     "execution_count": 35,
     "metadata": {},
     "output_type": "execute_result"
    },
    {
     "data": {
      "image/png": "[encoded data removed]",
      "text/plain": [
       "<Figure size 1080x360 with 1 Axes>"
      ]
     },
     "metadata": {
      "needs_background": "light"
     },
     "output_type": "display_data"
    }
   ],
   "source": [
    "ps4.plot(x='critic_score',y='all_sales',kind='scatter',figsize=(15,5))\n",
    "plt.xlim(10, 100)"
   ]
  },
  {
   "cell_type": "code",
   "execution_count": 36,
   "metadata": {
    "scrolled": true
   },
   "outputs": [
    {
     "name": "stdout",
     "output_type": "stream",
     "text": [
      "Влияние отзывов игроков на продажи внутри платформы PS4 = -0.0431858599719363\n"
     ]
    },
    {
     "data": {
      "image/png": "[encoded data removed]",
      "text/plain": [
       "<Figure size 1080x360 with 1 Axes>"
      ]
     },
     "metadata": {
      "needs_background": "light"
     },
     "output_type": "display_data"
    }
   ],
   "source": [
    "ps4.plot(x='user_score',y='all_sales',kind='scatter',figsize=(15,5))\n",
    "plt.xlim(10, 100)\n",
    "print('Влияние отзывов игроков на продажи внутри платформы PS4 =',ps4['all_sales'].corr(ps4['user_score']))"
   ]
  },
  {
   "cell_type": "markdown",
   "metadata": {},
   "source": [
    "Люди верят отзывам критиков."
   ]
  },
  {
   "cell_type": "code",
   "execution_count": 38,
   "metadata": {
    "scrolled": true
   },
   "outputs": [
    {
     "data": {
      "image/png": "[encoded data removed]",
      "text/plain": [
       "<Figure size 1080x360 with 1 Axes>"
      ]
     },
     "metadata": {
      "needs_background": "light"
     },
     "output_type": "display_data"
    },
    {
     "data": {
      "image/png": "[encoded data removed]",
      "text/plain": [
       "<Figure size 1080x360 with 1 Axes>"
      ]
     },
     "metadata": {
      "needs_background": "light"
     },
     "output_type": "display_data"
    },
    {
     "data": {
      "image/png": "[encoded data removed]",
      "text/plain": [
       "<Figure size 1080x360 with 1 Axes>"
      ]
     },
     "metadata": {
      "needs_background": "light"
     },
     "output_type": "display_data"
    },
    {
     "data": {
      "image/png": "[encoded data removed]",
      "text/plain": [
       "<Figure size 1080x360 with 1 Axes>"
      ]
     },
     "metadata": {
      "needs_background": "light"
     },
     "output_type": "display_data"
    },
    {
     "data": {
      "image/png": "[encoded data removed]",
      "text/plain": [
       "<Figure size 1080x360 with 1 Axes>"
      ]
     },
     "metadata": {
      "needs_background": "light"
     },
     "output_type": "display_data"
    }
   ],
   "source": [
    "top5=profitable['platform'].head(5)\n",
    "\n",
    "for i in top5:\n",
    "    top5_corr=plan.query('platform==@i & (user_score > 0) & (critic_score > 0)')[['all_sales', 'critic_score', 'user_score']].dropna().reset_index(drop=True).plot(x='user_score',y='all_sales',kind='scatter',figsize=(15,5))\n",
    "    plt.title(i)"
   ]
  },
  {
   "cell_type": "code",
   "execution_count": 39,
   "metadata": {
    "scrolled": true
   },
   "outputs": [
    {
     "data": {
      "image/png": "[encoded data removed]",
      "text/plain": [
       "<Figure size 1080x360 with 1 Axes>"
      ]
     },
     "metadata": {
      "needs_background": "light"
     },
     "output_type": "display_data"
    },
    {
     "data": {
      "image/png": "[encoded data removed]",
      "text/plain": [
       "<Figure size 1080x360 with 1 Axes>"
      ]
     },
     "metadata": {
      "needs_background": "light"
     },
     "output_type": "display_data"
    },
    {
     "data": {
      "image/png": "[encoded data removed]",
      "text/plain": [
       "<Figure size 1080x360 with 1 Axes>"
      ]
     },
     "metadata": {
      "needs_background": "light"
     },
     "output_type": "display_data"
    },
    {
     "data": {
      "image/png": "[encoded data removed]",
      "text/plain": [
       "<Figure size 1080x360 with 1 Axes>"
      ]
     },
     "metadata": {
      "needs_background": "light"
     },
     "output_type": "display_data"
    },
    {
     "data": {
      "image/png": "[encoded data removed]",
      "text/plain": [
       "<Figure size 1080x360 with 1 Axes>"
      ]
     },
     "metadata": {
      "needs_background": "light"
     },
     "output_type": "display_data"
    }
   ],
   "source": [
    "top5=profitable['platform'].head(5)\n",
    "\n",
    "for i in top5:\n",
    "    top5_corr=plan.query('platform==@i & (user_score > 0) & (critic_score > 0)')[['all_sales', 'critic_score', 'user_score']].dropna().reset_index(drop=True).plot(x='critic_score',y='all_sales',kind='scatter',figsize=(15,5))\n",
    "    plt.title(i)"
   ]
  },
  {
   "cell_type": "code",
   "execution_count": 40,
   "metadata": {},
   "outputs": [
    {
     "data": {
      "text/html": [
       "<div>\n",
       "<style scoped>\n",
       "    .dataframe tbody tr th:only-of-type {\n",
       "        vertical-align: middle;\n",
       "    }\n",
       "\n",
       "    .dataframe tbody tr th {\n",
       "        vertical-align: top;\n",
       "    }\n",
       "\n",
       "    .dataframe thead th {\n",
       "        text-align: right;\n",
       "    }\n",
       "</style>\n",
       "<table border=\"1\" class=\"dataframe\">\n",
       "  <thead>\n",
       "    <tr style=\"text-align: right;\">\n",
       "      <th></th>\n",
       "      <th>platform</th>\n",
       "      <th>all_sales</th>\n",
       "    </tr>\n",
       "  </thead>\n",
       "  <tbody>\n",
       "    <tr>\n",
       "      <th>0</th>\n",
       "      <td>PS4</td>\n",
       "      <td>288.15</td>\n",
       "    </tr>\n",
       "    <tr>\n",
       "      <th>1</th>\n",
       "      <td>XOne</td>\n",
       "      <td>140.36</td>\n",
       "    </tr>\n",
       "    <tr>\n",
       "      <th>2</th>\n",
       "      <td>3DS</td>\n",
       "      <td>86.68</td>\n",
       "    </tr>\n",
       "    <tr>\n",
       "      <th>3</th>\n",
       "      <td>PS3</td>\n",
       "      <td>68.18</td>\n",
       "    </tr>\n",
       "    <tr>\n",
       "      <th>4</th>\n",
       "      <td>X360</td>\n",
       "      <td>48.22</td>\n",
       "    </tr>\n",
       "  </tbody>\n",
       "</table>\n",
       "</div>"
      ],
      "text/plain": [
       "  platform  all_sales\n",
       "0      PS4     288.15\n",
       "1     XOne     140.36\n",
       "2      3DS      86.68\n",
       "3      PS3      68.18\n",
       "4     X360      48.22"
      ]
     },
     "execution_count": 40,
     "metadata": {},
     "output_type": "execute_result"
    }
   ],
   "source": [
    "all5=profitable.head(5)\n",
    "all5"
   ]
  },
  {
   "cell_type": "code",
   "execution_count": 41,
   "metadata": {},
   "outputs": [],
   "source": [
    "ano=plan.query('(platform != \"PS3\") & (user_score > 0) & (critic_score > 0)')[['all_sales', 'critic_score', 'user_score']].dropna().reset_index(drop=True)"
   ]
  },
  {
   "cell_type": "code",
   "execution_count": 42,
   "metadata": {
    "scrolled": false
   },
   "outputs": [
    {
     "data": {
      "text/plain": [
       "0     PS4\n",
       "1    XOne\n",
       "2     3DS\n",
       "3     PS3\n",
       "4    X360\n",
       "Name: platform, dtype: object"
      ]
     },
     "execution_count": 42,
     "metadata": {},
     "output_type": "execute_result"
    }
   ],
   "source": [
    "top5"
   ]
  },
  {
   "cell_type": "markdown",
   "metadata": {},
   "source": [
    "Цифра 3 в названии платформы 3DS мешала в расчетах, появлялась ошибка, поэтому заменил ее на T-Three."
   ]
  },
  {
   "cell_type": "code",
   "execution_count": 45,
   "metadata": {
    "scrolled": true
   },
   "outputs": [
    {
     "data": {
      "text/plain": [
       "2406"
      ]
     },
     "execution_count": 45,
     "metadata": {},
     "output_type": "execute_result"
    }
   ],
   "source": [
    "plan[plan['platform']=='3DS'].count().sum()\n"
   ]
  },
  {
   "cell_type": "code",
   "execution_count": 46,
   "metadata": {},
   "outputs": [],
   "source": [
    "plan=plan.replace({'platform' : {'3DS' : 'TDS'}})"
   ]
  },
  {
   "cell_type": "code",
   "execution_count": 47,
   "metadata": {},
   "outputs": [
    {
     "data": {
      "text/plain": [
       "2406"
      ]
     },
     "execution_count": 47,
     "metadata": {},
     "output_type": "execute_result"
    }
   ],
   "source": [
    "plan[plan['platform']=='TDS'].count().sum()\n"
   ]
  },
  {
   "cell_type": "code",
   "execution_count": 48,
   "metadata": {},
   "outputs": [
    {
     "name": "stdout",
     "output_type": "stream",
     "text": [
      "Влияние отзывов критиков на продажи внутри платформы PS4 = 0.40190287811475334\n",
      "Влияние отзывов игроков на продажи внутри платформы PS4 = -0.0431858599719363\n",
      "Влияние отзывов критиков на продажи внутри платформы XOne = 0.4221118510555765\n",
      "Влияние отзывов игроков на продажи внутри платформы XOne = -0.09173434503310758\n",
      "Влияние отзывов критиков на продажи внутри платформы TDS = 0.28468579095782925\n",
      "Влияние отзывов игроков на продажи внутри платформы TDS = 0.27984987925032806\n",
      "Влияние отзывов критиков на продажи внутри платформы PS3 = 0.44657460493190704\n",
      "Влияние отзывов игроков на продажи внутри платформы PS3 = 0.15659516181359964\n",
      "Влияние отзывов критиков на продажи внутри платформы X360 = 0.5257228356581523\n",
      "Влияние отзывов игроков на продажи внутри платформы X360 = 0.3365136248359932\n"
     ]
    }
   ],
   "source": [
    "PS4=plan.query('platform==\"PS4\" & (user_score > 0) & (critic_score > 0)')[['all_sales', 'critic_score', 'user_score']].dropna().reset_index(drop=True)\n",
    "print('Влияние отзывов критиков на продажи внутри платформы PS4 =',PS4['all_sales'].corr(PS4['critic_score']))\n",
    "print('Влияние отзывов игроков на продажи внутри платформы PS4 =',PS4['all_sales'].corr(PS4['user_score']))\n",
    "\n",
    "XOne=plan.query('platform==\"XOne\" & (user_score > 0) & (critic_score > 0)')[['all_sales', 'critic_score', 'user_score']].dropna().reset_index(drop=True)\n",
    "print('Влияние отзывов критиков на продажи внутри платформы XOne =',XOne['all_sales'].corr(XOne['critic_score']))\n",
    "print('Влияние отзывов игроков на продажи внутри платформы XOne =',XOne['all_sales'].corr(XOne['user_score']))\n",
    "\n",
    "TDS=plan.query('platform==\"TDS\" & (user_score > 0) & (critic_score > 0)')[['all_sales', 'critic_score', 'user_score']].dropna().reset_index(drop=True)\n",
    "print('Влияние отзывов критиков на продажи внутри платформы TDS =',TDS['all_sales'].corr(TDS['critic_score']))\n",
    "print('Влияние отзывов игроков на продажи внутри платформы TDS =',TDS['all_sales'].corr(TDS['user_score']))\n",
    "\n",
    "PS3=plan.query('platform==\"PS3\" & (user_score > 0) & (critic_score > 0)')[['all_sales', 'critic_score', 'user_score']].dropna().reset_index(drop=True)\n",
    "print('Влияние отзывов критиков на продажи внутри платформы PS3 =',PS3['all_sales'].corr(PS3['critic_score']))\n",
    "print('Влияние отзывов игроков на продажи внутри платформы PS3 =',PS3['all_sales'].corr(PS3['user_score']))\n",
    "\n",
    "X360=plan.query('platform==\"X360\" & (user_score > 0) & (critic_score > 0)')[['all_sales', 'critic_score', 'user_score']].dropna().reset_index(drop=True)\n",
    "print('Влияние отзывов критиков на продажи внутри платформы X360 =',X360['all_sales'].corr(X360['critic_score']))\n",
    "print('Влияние отзывов игроков на продажи внутри платформы X360 =',X360['all_sales'].corr(X360['user_score']))"
   ]
  },
  {
   "cell_type": "markdown",
   "metadata": {},
   "source": [
    "Отзывы критиков влияют на продажи больше отзывов игроков, не считая платформ TDS, X360, но корреляция невысокая у всех."
   ]
  },
  {
   "cell_type": "code",
   "execution_count": 51,
   "metadata": {
    "scrolled": false
   },
   "outputs": [
    {
     "data": {
      "text/html": [
       "<div>\n",
       "<style scoped>\n",
       "    .dataframe tbody tr th:only-of-type {\n",
       "        vertical-align: middle;\n",
       "    }\n",
       "\n",
       "    .dataframe tbody tr th {\n",
       "        vertical-align: top;\n",
       "    }\n",
       "\n",
       "    .dataframe thead tr th {\n",
       "        text-align: left;\n",
       "    }\n",
       "\n",
       "    .dataframe thead tr:last-of-type th {\n",
       "        text-align: right;\n",
       "    }\n",
       "</style>\n",
       "<table border=\"1\" class=\"dataframe\">\n",
       "  <thead>\n",
       "    <tr>\n",
       "      <th></th>\n",
       "      <th>max</th>\n",
       "      <th>mean</th>\n",
       "      <th>median</th>\n",
       "    </tr>\n",
       "    <tr>\n",
       "      <th></th>\n",
       "      <th>all_sales</th>\n",
       "      <th>all_sales</th>\n",
       "      <th>all_sales</th>\n",
       "    </tr>\n",
       "    <tr>\n",
       "      <th>genre</th>\n",
       "      <th></th>\n",
       "      <th></th>\n",
       "      <th></th>\n",
       "    </tr>\n",
       "  </thead>\n",
       "  <tbody>\n",
       "    <tr>\n",
       "      <th>Shooter</th>\n",
       "      <td>14.63</td>\n",
       "      <td>1.335469</td>\n",
       "      <td>0.515</td>\n",
       "    </tr>\n",
       "    <tr>\n",
       "      <th>Sports</th>\n",
       "      <td>8.58</td>\n",
       "      <td>0.680000</td>\n",
       "      <td>0.180</td>\n",
       "    </tr>\n",
       "    <tr>\n",
       "      <th>Platform</th>\n",
       "      <td>3.21</td>\n",
       "      <td>0.476053</td>\n",
       "      <td>0.140</td>\n",
       "    </tr>\n",
       "    <tr>\n",
       "      <th>Fighting</th>\n",
       "      <td>7.55</td>\n",
       "      <td>0.470333</td>\n",
       "      <td>0.125</td>\n",
       "    </tr>\n",
       "    <tr>\n",
       "      <th>Role-Playing</th>\n",
       "      <td>11.68</td>\n",
       "      <td>0.459005</td>\n",
       "      <td>0.110</td>\n",
       "    </tr>\n",
       "    <tr>\n",
       "      <th>Simulation</th>\n",
       "      <td>3.05</td>\n",
       "      <td>0.298409</td>\n",
       "      <td>0.100</td>\n",
       "    </tr>\n",
       "    <tr>\n",
       "      <th>Action</th>\n",
       "      <td>12.62</td>\n",
       "      <td>0.322068</td>\n",
       "      <td>0.090</td>\n",
       "    </tr>\n",
       "    <tr>\n",
       "      <th>Misc</th>\n",
       "      <td>5.27</td>\n",
       "      <td>0.332301</td>\n",
       "      <td>0.090</td>\n",
       "    </tr>\n",
       "    <tr>\n",
       "      <th>Racing</th>\n",
       "      <td>7.09</td>\n",
       "      <td>0.398841</td>\n",
       "      <td>0.090</td>\n",
       "    </tr>\n",
       "    <tr>\n",
       "      <th>Strategy</th>\n",
       "      <td>0.52</td>\n",
       "      <td>0.107027</td>\n",
       "      <td>0.060</td>\n",
       "    </tr>\n",
       "    <tr>\n",
       "      <th>Puzzle</th>\n",
       "      <td>1.19</td>\n",
       "      <td>0.157857</td>\n",
       "      <td>0.045</td>\n",
       "    </tr>\n",
       "    <tr>\n",
       "      <th>Adventure</th>\n",
       "      <td>1.66</td>\n",
       "      <td>0.094865</td>\n",
       "      <td>0.030</td>\n",
       "    </tr>\n",
       "  </tbody>\n",
       "</table>\n",
       "</div>"
      ],
      "text/plain": [
       "                   max      mean    median\n",
       "             all_sales all_sales all_sales\n",
       "genre                                     \n",
       "Shooter          14.63  1.335469     0.515\n",
       "Sports            8.58  0.680000     0.180\n",
       "Platform          3.21  0.476053     0.140\n",
       "Fighting          7.55  0.470333     0.125\n",
       "Role-Playing     11.68  0.459005     0.110\n",
       "Simulation        3.05  0.298409     0.100\n",
       "Action           12.62  0.322068     0.090\n",
       "Misc              5.27  0.332301     0.090\n",
       "Racing            7.09  0.398841     0.090\n",
       "Strategy          0.52  0.107027     0.060\n",
       "Puzzle            1.19  0.157857     0.045\n",
       "Adventure         1.66  0.094865     0.030"
      ]
     },
     "execution_count": 51,
     "metadata": {},
     "output_type": "execute_result"
    }
   ],
   "source": [
    "#Общие данные по продажам в зависимости от жанра\n",
    "plan.pivot_table(index='genre',values='all_sales', aggfunc=['max','mean','median']).sort_values(('median','all_sales'), ascending=False)"
   ]
  },
  {
   "cell_type": "code",
   "execution_count": 52,
   "metadata": {},
   "outputs": [
    {
     "data": {
      "image/png": "[encoded data removed]",
      "text/plain": [
       "<Figure size 432x288 with 1 Axes>"
      ]
     },
     "metadata": {
      "needs_background": "light"
     },
     "output_type": "display_data"
    },
    {
     "data": {
      "text/plain": [
       "Text(0, 0.5, '')"
      ]
     },
     "execution_count": 52,
     "metadata": {},
     "output_type": "execute_result"
    },
    {
     "data": {
      "image/png": "[encoded data removed]",
      "text/plain": [
       "<Figure size 432x288 with 1 Axes>"
      ]
     },
     "metadata": {},
     "output_type": "display_data"
    }
   ],
   "source": [
    "#Количество и доли игр по жанрам\n",
    "count_games_genre=plan.groupby('genre')['name'].count().sort_values(ascending=False)\n",
    "plt.show(count_games_genre.plot(kind=\"bar\"))\n",
    "count_games_genre.plot(kind=\"pie\")\n",
    "plt.ylabel('')"
   ]
  },
  {
   "cell_type": "code",
   "execution_count": 53,
   "metadata": {
    "scrolled": true
   },
   "outputs": [
    {
     "data": {
      "image/png": "[encoded data removed]",
      "text/plain": [
       "<Figure size 432x288 with 1 Axes>"
      ]
     },
     "metadata": {
      "needs_background": "light"
     },
     "output_type": "display_data"
    },
    {
     "data": {
      "text/plain": [
       "Text(0, 0.5, '')"
      ]
     },
     "execution_count": 53,
     "metadata": {},
     "output_type": "execute_result"
    },
    {
     "data": {
      "image/png": "[encoded data removed]",
      "text/plain": [
       "<Figure size 432x288 with 1 Axes>"
      ]
     },
     "metadata": {},
     "output_type": "display_data"
    }
   ],
   "source": [
    "#Количесто и доли продаж по жанрам\n",
    "count_sales_genre=plan.groupby('genre')['all_sales'].sum().sort_values(ascending=False)\n",
    "plt.show(count_sales_genre.plot(kind=\"bar\"))\n",
    "count_sales_genre.plot(kind=\"pie\")\n",
    "plt.ylabel('')"
   ]
  },
  {
   "cell_type": "code",
   "execution_count": 54,
   "metadata": {},
   "outputs": [
    {
     "data": {
      "image/png": "[encoded data removed]",
      "text/plain": [
       "<Figure size 432x288 with 1 Axes>"
      ]
     },
     "metadata": {
      "needs_background": "light"
     },
     "output_type": "display_data"
    }
   ],
   "source": [
    "ppp=plan.pivot_table(index='genre', values='all_sales', aggfunc=['mean','median']).sort_values(('median','all_sales'), ascending=False)\n",
    "plt.show(ppp.plot(kind=\"bar\"))"
   ]
  },
  {
   "cell_type": "markdown",
   "metadata": {},
   "source": [
    "По медианным и средним продажам лидируют шутеры, спортивные, платформеры, файтинги, ролевые.\n",
    "Больше всего проданных игр в жанрах экшн, шутеры, спортивные и ролевые.\n",
    "При этом, больше всего игр в жанрах экшн. Роле-плей и приключенческие заняли второе и третье места. Симуляторы, платформеры, стратегии и пазлы покупают меньше всех."
   ]
  },
  {
   "cell_type": "markdown",
   "metadata": {},
   "source": [
    "## Шаг 4 Составьте портрет пользователя каждого региона"
   ]
  },
  {
   "cell_type": "code",
   "execution_count": 55,
   "metadata": {},
   "outputs": [
    {
     "data": {
      "text/plain": [
       "<AxesSubplot:xlabel='platform'>"
      ]
     },
     "execution_count": 55,
     "metadata": {},
     "output_type": "execute_result"
    },
    {
     "data": {
      "image/png": "[encoded data removed]",
      "text/plain": [
       "<Figure size 432x288 with 1 Axes>"
      ]
     },
     "metadata": {
      "needs_background": "light"
     },
     "output_type": "display_data"
    },
    {
     "data": {
      "image/png": "[encoded data removed]",
      "text/plain": [
       "<Figure size 432x288 with 1 Axes>"
      ]
     },
     "metadata": {
      "needs_background": "light"
     },
     "output_type": "display_data"
    },
    {
     "data": {
      "image/png": "[encoded data removed]",
      "text/plain": [
       "<Figure size 432x288 with 1 Axes>"
      ]
     },
     "metadata": {
      "needs_background": "light"
     },
     "output_type": "display_data"
    },
    {
     "data": {
      "image/png": "[encoded data removed]",
      "text/plain": [
       "<Figure size 432x288 with 1 Axes>"
      ]
     },
     "metadata": {
      "needs_background": "light"
     },
     "output_type": "display_data"
    }
   ],
   "source": [
    "plan.groupby(by='platform').agg({'jp_sales':'sum'}).sort_values(by='jp_sales', ascending=False).head(5).plot(kind='bar')\n",
    "plan.groupby(by='platform').agg({'eu_sales':'sum'}).sort_values(by='eu_sales', ascending=False).head(5).plot(kind='bar')\n",
    "plan.groupby(by='platform').agg({'na_sales':'sum'}).sort_values(by='na_sales', ascending=False).head(5).plot(kind='bar')\n",
    "plan.groupby(by='platform').agg({'other_sales':'sum'}).sort_values(by='other_sales', ascending=False).head(5).plot(kind='bar')"
   ]
  },
  {
   "cell_type": "markdown",
   "metadata": {},
   "source": [
    "В Японии популярна TDS (3DS). В Европе - PS4. В Америке - PS4 и XOne. В других регионах - PS4. При этом PS4 лидирует в трех крупных регионах."
   ]
  },
  {
   "cell_type": "code",
   "execution_count": 56,
   "metadata": {
    "scrolled": false
   },
   "outputs": [
    {
     "data": {
      "image/png": "[encoded data removed]",
      "text/plain": [
       "<Figure size 432x288 with 1 Axes>"
      ]
     },
     "metadata": {
      "needs_background": "light"
     },
     "output_type": "display_data"
    },
    {
     "data": {
      "image/png": "[encoded data removed]",
      "text/plain": [
       "<Figure size 432x288 with 1 Axes>"
      ]
     },
     "metadata": {
      "needs_background": "light"
     },
     "output_type": "display_data"
    },
    {
     "data": {
      "image/png": "[encoded data removed]",
      "text/plain": [
       "<Figure size 432x288 with 1 Axes>"
      ]
     },
     "metadata": {
      "needs_background": "light"
     },
     "output_type": "display_data"
    },
    {
     "data": {
      "image/png": "[encoded data removed]",
      "text/plain": [
       "<Figure size 432x288 with 1 Axes>"
      ]
     },
     "metadata": {
      "needs_background": "light"
     },
     "output_type": "display_data"
    }
   ],
   "source": [
    "for i in ['jp_sales', 'eu_sales', 'na_sales', 'other_sales']:\n",
    "    (\n",
    "      plan\n",
    "      .pivot_table(index='genre', values=i, aggfunc='mean')\n",
    "      .sort_values(by=i, ascending=False)\n",
    "      .head(5)\n",
    "      .plot(kind='bar', grid=True)\n",
    "  )\n",
    "  plt.legend([i])\n",
    "  plt.xlabel('Жанр')\n",
    "  plt.ylabel('Продажи, млн копий')\n",
    "  plt.show()"
   ]
  },
  {
   "cell_type": "markdown",
   "metadata": {},
   "source": [
    "В среднем, в Японии лидируют ролевые игры, затем идут файтинги и платформеры.\n",
    "В Европе лидируют шутеры, спортивные, гонки.\n",
    "В Америке лидируют шутеры (почти в 2 раза, чем остальные), спортивные и файтинги.\n",
    "В остальных регионах лидируют шутеры, спортивные и платформеры."
   ]
  },
  {
   "cell_type": "code",
   "execution_count": 58,
   "metadata": {
    "scrolled": true
   },
   "outputs": [
    {
     "name": "stderr",
     "output_type": "stream",
     "text": [
      "/tmp/ipykernel_87/1204591888.py:1: FutureWarning: Indexing with multiple keys (implicitly converted to a tuple of keys) will be deprecated, use a list instead.\n",
      "  esrb=plan.groupby('rating')['na_sales', 'eu_sales', 'jp_sales'].sum().sort_values(by='na_sales',ascending=False)\n"
     ]
    },
    {
     "data": {
      "text/html": [
       "<div>\n",
       "<style scoped>\n",
       "    .dataframe tbody tr th:only-of-type {\n",
       "        vertical-align: middle;\n",
       "    }\n",
       "\n",
       "    .dataframe tbody tr th {\n",
       "        vertical-align: top;\n",
       "    }\n",
       "\n",
       "    .dataframe thead th {\n",
       "        text-align: right;\n",
       "    }\n",
       "</style>\n",
       "<table border=\"1\" class=\"dataframe\">\n",
       "  <thead>\n",
       "    <tr style=\"text-align: right;\">\n",
       "      <th></th>\n",
       "      <th>na_sales</th>\n",
       "      <th>eu_sales</th>\n",
       "      <th>jp_sales</th>\n",
       "    </tr>\n",
       "    <tr>\n",
       "      <th>rating</th>\n",
       "      <th></th>\n",
       "      <th></th>\n",
       "      <th></th>\n",
       "    </tr>\n",
       "  </thead>\n",
       "  <tbody>\n",
       "    <tr>\n",
       "      <th>M</th>\n",
       "      <td>96.42</td>\n",
       "      <td>93.44</td>\n",
       "      <td>8.01</td>\n",
       "    </tr>\n",
       "    <tr>\n",
       "      <th>E</th>\n",
       "      <td>50.74</td>\n",
       "      <td>58.06</td>\n",
       "      <td>8.94</td>\n",
       "    </tr>\n",
       "    <tr>\n",
       "      <th>T</th>\n",
       "      <td>38.95</td>\n",
       "      <td>34.07</td>\n",
       "      <td>14.78</td>\n",
       "    </tr>\n",
       "    <tr>\n",
       "      <th>E10+</th>\n",
       "      <td>33.23</td>\n",
       "      <td>26.16</td>\n",
       "      <td>4.46</td>\n",
       "    </tr>\n",
       "  </tbody>\n",
       "</table>\n",
       "</div>"
      ],
      "text/plain": [
       "        na_sales  eu_sales  jp_sales\n",
       "rating                              \n",
       "M          96.42     93.44      8.01\n",
       "E          50.74     58.06      8.94\n",
       "T          38.95     34.07     14.78\n",
       "E10+       33.23     26.16      4.46"
      ]
     },
     "execution_count": 58,
     "metadata": {},
     "output_type": "execute_result"
    }
   ],
   "source": [
    "esrb=plan.groupby('rating')['na_sales', 'eu_sales', 'jp_sales'].sum().sort_values(by='na_sales',ascending=False)\n",
    "esrb"
   ]
  },
  {
   "cell_type": "code",
   "execution_count": 59,
   "metadata": {
    "scrolled": true
   },
   "outputs": [
    {
     "name": "stderr",
     "output_type": "stream",
     "text": [
      "/tmp/ipykernel_87/3807143321.py:2: FutureWarning: Indexing with multiple keys (implicitly converted to a tuple of keys) will be deprecated, use a list instead.\n",
      "  esrb=plan.groupby('rating')['na_sales', 'eu_sales', 'jp_sales','other_sales'].sum().sort_values(by='na_sales',ascending=False)\n"
     ]
    },
    {
     "data": {
      "text/html": [
       "<div>\n",
       "<style scoped>\n",
       "    .dataframe tbody tr th:only-of-type {\n",
       "        vertical-align: middle;\n",
       "    }\n",
       "\n",
       "    .dataframe tbody tr th {\n",
       "        vertical-align: top;\n",
       "    }\n",
       "\n",
       "    .dataframe thead th {\n",
       "        text-align: right;\n",
       "    }\n",
       "</style>\n",
       "<table border=\"1\" class=\"dataframe\">\n",
       "  <thead>\n",
       "    <tr style=\"text-align: right;\">\n",
       "      <th></th>\n",
       "      <th>na_sales</th>\n",
       "      <th>eu_sales</th>\n",
       "      <th>jp_sales</th>\n",
       "      <th>other_sales</th>\n",
       "    </tr>\n",
       "    <tr>\n",
       "      <th>rating</th>\n",
       "      <th></th>\n",
       "      <th></th>\n",
       "      <th></th>\n",
       "      <th></th>\n",
       "    </tr>\n",
       "  </thead>\n",
       "  <tbody>\n",
       "    <tr>\n",
       "      <th>M</th>\n",
       "      <td>96.42</td>\n",
       "      <td>93.44</td>\n",
       "      <td>8.01</td>\n",
       "      <td>28.67</td>\n",
       "    </tr>\n",
       "    <tr>\n",
       "      <th>nan</th>\n",
       "      <td>64.72</td>\n",
       "      <td>58.95</td>\n",
       "      <td>56.90</td>\n",
       "      <td>18.40</td>\n",
       "    </tr>\n",
       "    <tr>\n",
       "      <th>E</th>\n",
       "      <td>50.74</td>\n",
       "      <td>58.06</td>\n",
       "      <td>8.94</td>\n",
       "      <td>15.39</td>\n",
       "    </tr>\n",
       "    <tr>\n",
       "      <th>T</th>\n",
       "      <td>38.95</td>\n",
       "      <td>34.07</td>\n",
       "      <td>14.78</td>\n",
       "      <td>11.33</td>\n",
       "    </tr>\n",
       "    <tr>\n",
       "      <th>E10+</th>\n",
       "      <td>33.23</td>\n",
       "      <td>26.16</td>\n",
       "      <td>4.46</td>\n",
       "      <td>7.83</td>\n",
       "    </tr>\n",
       "  </tbody>\n",
       "</table>\n",
       "</div>"
      ],
      "text/plain": [
       "        na_sales  eu_sales  jp_sales  other_sales\n",
       "rating                                           \n",
       "M          96.42     93.44      8.01        28.67\n",
       "nan        64.72     58.95     56.90        18.40\n",
       "E          50.74     58.06      8.94        15.39\n",
       "T          38.95     34.07     14.78        11.33\n",
       "E10+       33.23     26.16      4.46         7.83"
      ]
     },
     "execution_count": 59,
     "metadata": {},
     "output_type": "execute_result"
    }
   ],
   "source": [
    "plan['rating']=plan['rating'].astype(str)\n",
    "esrb=plan.groupby('rating')['na_sales', 'eu_sales', 'jp_sales','other_sales'].sum().sort_values(by='na_sales',ascending=False)\n",
    "esrb"
   ]
  },
  {
   "cell_type": "code",
   "execution_count": 60,
   "metadata": {},
   "outputs": [
    {
     "data": {
      "text/html": [
       "<div>\n",
       "<style scoped>\n",
       "    .dataframe tbody tr th:only-of-type {\n",
       "        vertical-align: middle;\n",
       "    }\n",
       "\n",
       "    .dataframe tbody tr th {\n",
       "        vertical-align: top;\n",
       "    }\n",
       "\n",
       "    .dataframe thead th {\n",
       "        text-align: right;\n",
       "    }\n",
       "</style>\n",
       "<table border=\"1\" class=\"dataframe\">\n",
       "  <thead>\n",
       "    <tr style=\"text-align: right;\">\n",
       "      <th></th>\n",
       "      <th>na_sales</th>\n",
       "      <th>eu_sales</th>\n",
       "      <th>jp_sales</th>\n",
       "    </tr>\n",
       "    <tr>\n",
       "      <th>rating</th>\n",
       "      <th></th>\n",
       "      <th></th>\n",
       "      <th></th>\n",
       "    </tr>\n",
       "  </thead>\n",
       "  <tbody>\n",
       "    <tr>\n",
       "      <th>M</th>\n",
       "      <td>96.42</td>\n",
       "      <td>93.44</td>\n",
       "      <td>8.01</td>\n",
       "    </tr>\n",
       "    <tr>\n",
       "      <th>nan</th>\n",
       "      <td>64.72</td>\n",
       "      <td>58.95</td>\n",
       "      <td>56.90</td>\n",
       "    </tr>\n",
       "    <tr>\n",
       "      <th>E</th>\n",
       "      <td>50.74</td>\n",
       "      <td>58.06</td>\n",
       "      <td>8.94</td>\n",
       "    </tr>\n",
       "    <tr>\n",
       "      <th>T</th>\n",
       "      <td>38.95</td>\n",
       "      <td>34.07</td>\n",
       "      <td>14.78</td>\n",
       "    </tr>\n",
       "    <tr>\n",
       "      <th>E10+</th>\n",
       "      <td>33.23</td>\n",
       "      <td>26.16</td>\n",
       "      <td>4.46</td>\n",
       "    </tr>\n",
       "  </tbody>\n",
       "</table>\n",
       "</div>"
      ],
      "text/plain": [
       "        na_sales  eu_sales  jp_sales\n",
       "rating                              \n",
       "M          96.42     93.44      8.01\n",
       "nan        64.72     58.95     56.90\n",
       "E          50.74     58.06      8.94\n",
       "T          38.95     34.07     14.78\n",
       "E10+       33.23     26.16      4.46"
      ]
     },
     "execution_count": 60,
     "metadata": {},
     "output_type": "execute_result"
    }
   ],
   "source": [
    "# пример кода к комментарию ревьюера\n",
    "esrb = plan.groupby('rating')[['na_sales', 'eu_sales', 'jp_sales']].sum().sort_values(by='na_sales',ascending=False)\n",
    "esrb"
   ]
  },
  {
   "cell_type": "code",
   "execution_count": 61,
   "metadata": {
    "scrolled": false
   },
   "outputs": [
    {
     "data": {
      "text/plain": [
       "array([<AxesSubplot:ylabel='na_sales'>, <AxesSubplot:ylabel='eu_sales'>,\n",
       "       <AxesSubplot:ylabel='jp_sales'>], dtype=object)"
      ]
     },
     "execution_count": 61,
     "metadata": {},
     "output_type": "execute_result"
    },
    {
     "data": {
      "image/png": "[encoded data removed]",
      "text/plain": [
       "<Figure size 1800x1800 with 3 Axes>"
      ]
     },
     "metadata": {},
     "output_type": "display_data"
    }
   ],
   "source": [
    "esrb.plot(kind='pie',subplots=True,figsize=(25,25))\n"
   ]
  },
  {
   "cell_type": "markdown",
   "metadata": {},
   "source": [
    "В целом, рейтинг влияет на регионы одинаково, кроме Японии. В японии преобладают игры без рейтинга.\n",
    "В Америке, Европе и другиех регионах преобладают игры с рейтингом М."
   ]
  },
  {
   "cell_type": "markdown",
   "metadata": {},
   "source": [
    "## Шаг 5 Проверьте гипотезы"
   ]
  },
  {
   "cell_type": "markdown",
   "metadata": {},
   "source": [
    "Средние пользовательские рейтинги платформ Xbox One и PC одинаковые;\n",
    "Средние пользовательские рейтинги жанров Action (англ. «действие», экшен-\n",
    "игры) и Sports (англ. «спортивные соревнования») разные."
   ]
  },
  {
   "cell_type": "markdown",
   "metadata": {},
   "source": [
    "Cформулируем нулевую и альтернативную гипотезы:\n",
    "H0 - Средние пользовательские рейтинги платформ Xbox One и PC одинаковые\n",
    "H1 - Средние пользовательские рейтинги платформ Xbox One и PC не одинаковые"
   ]
  },
  {
   "cell_type": "code",
   "execution_count": 64,
   "metadata": {},
   "outputs": [
    {
     "name": "stdout",
     "output_type": "stream",
     "text": [
      "p-значение: 0.14037851868269918\n",
      "Не получилось отвергнуть нулевую гипотезу\n"
     ]
    }
   ],
   "source": [
    "from scipy import stats as st\n",
    "xone=plan.query('platform==\"XOne\" & (user_score > 0) & (critic_score > 0)')['user_score']\n",
    "pc=plan.query('platform==\"PC\" & (user_score > 0) & (critic_score > 0)')['user_score']\n",
    "results = st.ttest_ind(xone,pc, equal_var = False)\n",
    "print('p-значение:', results.pvalue)\n",
    "alpha=0.05\n",
    "if (results.pvalue < alpha):\n",
    "    print(\"Отвергаем нулевую гипотезу\")\n",
    "else:\n",
    "    print(\"Не получилось отвергнуть нулевую гипотезу\")"
   ]
  },
  {
   "cell_type": "markdown",
   "metadata": {},
   "source": [
    "Не получилось отвергнуть нулевую гипотезу, средние пользовательские рейтинги платформ Xbox One и PC одинаковые."
   ]
  },
  {
   "cell_type": "markdown",
   "metadata": {},
   "source": [
    " Cформулируем нулевую и альтернативную гипотезы:\n",
    "H0 - Средние пользовательские рейтинги жанров Action (англ. «действие», экшен-игры) и Sports (англ. «спортивные соревнования») одинаковые\n",
    "H1 - Средние пользовательские рейтинги жанров Action (англ. «действие», экшен-игры) и Sports (англ. «спортивные соревнования») не одинаковые"
   ]
  },
  {
   "cell_type": "code",
   "execution_count": 65,
   "metadata": {},
   "outputs": [
    {
     "name": "stdout",
     "output_type": "stream",
     "text": [
      "p-значение: 8.327612976032198e-09\n",
      "Отвергаем нулевую гипотезу\n"
     ]
    }
   ],
   "source": [
    "action=plan.query(' genre==\"Action\" & (user_score >= 0) & (critic_score >= 0)')['user_score']\n",
    "sports=plan.query('genre==\"Sports\" & (user_score >= 0) & (critic_score >= 0)')['user_score']\n",
    "results = st.ttest_ind(action,sports, equal_var = False)\n",
    "print('p-значение:', results.pvalue)\n",
    "alpha=0.05\n",
    "if (results.pvalue < alpha):\n",
    "    print(\"Отвергаем нулевую гипотезу\")\n",
    "else:\n",
    "    print(\"Не получилось отвергнуть нулевую гипотезу\")"
   ]
  },
  {
   "cell_type": "markdown",
   "metadata": {},
   "source": [
    "Отвергаем нулевую гипотезу.\n",
    "Средние пользовательские рейтинги жанров Action и Sports не одинаковые."
   ]
  },
  {
   "cell_type": "markdown",
   "metadata": {},
   "source": [
    "## Общий вывод"
   ]
  },
  {
   "cell_type": "markdown",
   "metadata": {},
   "source": [
    "При анализе датасета была выявлена низкая активность компаний-разработчиков игр в период до 90х годов,\n",
    "рост с середины 90х годов и спад после 2010 года.\n",
    "Жизненный цикл платформы составил около 8 лет, при этом, компьютеры актуальны были всегда, но не так популярны.\n",
    "В 2017 году ставку надо делать на платформы PS4, XOne.\n",
    "Отзывы влияют на продажи, но их влияние невысокое, тк корреляция несильная.\n",
    "Игры жанров шутер и спорт популярнее других.\n",
    "В регионах рейтинг влияет на продажи одинаково, не считая Японию, там популярнее игры без рейтинга.\n",
    "Самые популярные платформы в регионах - PS4, XOne, 3DS.\n",
    "Гипотеза - средние пользовательские рейтинги платформ Xbox One и PC одинаковые, - принята.\n",
    "Средние пользовательские рейтинги жанров Action (англ. «действие», экшен-игры) и Sports (англ. «спортивные соревнования») разные, - отвергнута."
   ]
  },
  {
   "cell_type": "code",
   "execution_count": null,
   "metadata": {},
   "outputs": [],
   "source": []
  }
 ],
 "metadata": {
  "ExecuteTimeLog": [
   {
    "duration": 4,
    "start_time": "2022-04-16T18:01:22.229Z"
   },
   {
    "duration": 802,
    "start_time": "2022-04-16T18:01:22.237Z"
   },
   {
    "duration": 128,
    "start_time": "2022-04-16T18:01:23.041Z"
   },
   {
    "duration": 0,
    "start_time": "2022-04-16T18:01:23.172Z"
   },
   {
    "duration": 0,
    "start_time": "2022-04-16T18:01:23.174Z"
   },
   {
    "duration": 0,
    "start_time": "2022-04-16T18:01:23.175Z"
   },
   {
    "duration": 0,
    "start_time": "2022-04-16T18:01:23.176Z"
   },
   {
    "duration": 0,
    "start_time": "2022-04-16T18:01:23.176Z"
   },
   {
    "duration": 0,
    "start_time": "2022-04-16T18:01:23.177Z"
   },
   {
    "duration": 0,
    "start_time": "2022-04-16T18:01:23.178Z"
   },
   {
    "duration": 0,
    "start_time": "2022-04-16T18:01:23.179Z"
   },
   {
    "duration": 0,
    "start_time": "2022-04-16T18:01:23.181Z"
   },
   {
    "duration": 0,
    "start_time": "2022-04-16T18:01:23.182Z"
   },
   {
    "duration": 0,
    "start_time": "2022-04-16T18:01:23.183Z"
   },
   {
    "duration": 0,
    "start_time": "2022-04-16T18:01:23.184Z"
   },
   {
    "duration": 0,
    "start_time": "2022-04-16T18:01:23.184Z"
   },
   {
    "duration": 0,
    "start_time": "2022-04-16T18:01:23.185Z"
   },
   {
    "duration": 0,
    "start_time": "2022-04-16T18:01:23.187Z"
   },
   {
    "duration": 0,
    "start_time": "2022-04-16T18:01:23.188Z"
   },
   {
    "duration": 0,
    "start_time": "2022-04-16T18:01:23.189Z"
   },
   {
    "duration": 0,
    "start_time": "2022-04-16T18:01:23.190Z"
   },
   {
    "duration": 0,
    "start_time": "2022-04-16T18:01:23.190Z"
   },
   {
    "duration": 0,
    "start_time": "2022-04-16T18:01:23.224Z"
   },
   {
    "duration": 0,
    "start_time": "2022-04-16T18:01:23.225Z"
   },
   {
    "duration": 0,
    "start_time": "2022-04-16T18:01:23.227Z"
   },
   {
    "duration": 0,
    "start_time": "2022-04-16T18:01:23.228Z"
   },
   {
    "duration": 0,
    "start_time": "2022-04-16T18:01:23.228Z"
   },
   {
    "duration": 0,
    "start_time": "2022-04-16T18:01:23.229Z"
   },
   {
    "duration": 0,
    "start_time": "2022-04-16T18:01:23.230Z"
   },
   {
    "duration": 0,
    "start_time": "2022-04-16T18:01:23.231Z"
   },
   {
    "duration": 0,
    "start_time": "2022-04-16T18:01:23.232Z"
   },
   {
    "duration": 0,
    "start_time": "2022-04-16T18:01:23.233Z"
   },
   {
    "duration": 0,
    "start_time": "2022-04-16T18:01:23.234Z"
   },
   {
    "duration": 0,
    "start_time": "2022-04-16T18:01:23.235Z"
   },
   {
    "duration": 0,
    "start_time": "2022-04-16T18:01:23.236Z"
   },
   {
    "duration": 0,
    "start_time": "2022-04-16T18:01:23.237Z"
   },
   {
    "duration": 0,
    "start_time": "2022-04-16T18:01:23.238Z"
   },
   {
    "duration": 0,
    "start_time": "2022-04-16T18:01:23.239Z"
   },
   {
    "duration": 0,
    "start_time": "2022-04-16T18:01:23.240Z"
   },
   {
    "duration": 0,
    "start_time": "2022-04-16T18:01:23.242Z"
   },
   {
    "duration": 0,
    "start_time": "2022-04-16T18:01:23.243Z"
   },
   {
    "duration": 0,
    "start_time": "2022-04-16T18:01:23.244Z"
   },
   {
    "duration": 0,
    "start_time": "2022-04-16T18:01:23.245Z"
   },
   {
    "duration": 0,
    "start_time": "2022-04-16T18:01:23.246Z"
   },
   {
    "duration": 0,
    "start_time": "2022-04-16T18:01:23.247Z"
   },
   {
    "duration": 0,
    "start_time": "2022-04-16T18:01:23.248Z"
   },
   {
    "duration": 0,
    "start_time": "2022-04-16T18:01:23.249Z"
   },
   {
    "duration": 0,
    "start_time": "2022-04-16T18:01:23.250Z"
   },
   {
    "duration": 0,
    "start_time": "2022-04-16T18:01:23.251Z"
   },
   {
    "duration": 0,
    "start_time": "2022-04-16T18:01:23.252Z"
   },
   {
    "duration": 0,
    "start_time": "2022-04-16T18:01:23.253Z"
   },
   {
    "duration": 0,
    "start_time": "2022-04-16T18:01:23.254Z"
   },
   {
    "duration": 0,
    "start_time": "2022-04-16T18:01:23.254Z"
   },
   {
    "duration": 0,
    "start_time": "2022-04-16T18:01:23.255Z"
   },
   {
    "duration": 0,
    "start_time": "2022-04-16T18:01:23.256Z"
   },
   {
    "duration": 0,
    "start_time": "2022-04-16T18:01:23.258Z"
   },
   {
    "duration": 0,
    "start_time": "2022-04-16T18:01:23.259Z"
   },
   {
    "duration": 0,
    "start_time": "2022-04-16T18:01:23.260Z"
   },
   {
    "duration": 0,
    "start_time": "2022-04-16T18:01:23.261Z"
   },
   {
    "duration": 4,
    "start_time": "2022-04-16T18:01:38.350Z"
   },
   {
    "duration": 828,
    "start_time": "2022-04-16T18:01:38.357Z"
   },
   {
    "duration": 172,
    "start_time": "2022-04-16T18:01:39.187Z"
   },
   {
    "duration": 0,
    "start_time": "2022-04-16T18:01:39.364Z"
   },
   {
    "duration": 0,
    "start_time": "2022-04-16T18:01:39.366Z"
   },
   {
    "duration": 0,
    "start_time": "2022-04-16T18:01:39.366Z"
   },
   {
    "duration": 0,
    "start_time": "2022-04-16T18:01:39.368Z"
   },
   {
    "duration": 0,
    "start_time": "2022-04-16T18:01:39.368Z"
   },
   {
    "duration": 0,
    "start_time": "2022-04-16T18:01:39.369Z"
   },
   {
    "duration": 0,
    "start_time": "2022-04-16T18:01:39.370Z"
   },
   {
    "duration": 0,
    "start_time": "2022-04-16T18:01:39.371Z"
   },
   {
    "duration": 0,
    "start_time": "2022-04-16T18:01:39.372Z"
   },
   {
    "duration": 0,
    "start_time": "2022-04-16T18:01:39.373Z"
   },
   {
    "duration": 0,
    "start_time": "2022-04-16T18:01:39.374Z"
   },
   {
    "duration": 0,
    "start_time": "2022-04-16T18:01:39.375Z"
   },
   {
    "duration": 0,
    "start_time": "2022-04-16T18:01:39.376Z"
   },
   {
    "duration": 0,
    "start_time": "2022-04-16T18:01:39.377Z"
   },
   {
    "duration": 0,
    "start_time": "2022-04-16T18:01:39.378Z"
   },
   {
    "duration": 0,
    "start_time": "2022-04-16T18:01:39.379Z"
   },
   {
    "duration": 0,
    "start_time": "2022-04-16T18:01:39.380Z"
   },
   {
    "duration": 0,
    "start_time": "2022-04-16T18:01:39.381Z"
   },
   {
    "duration": 0,
    "start_time": "2022-04-16T18:01:39.382Z"
   },
   {
    "duration": 0,
    "start_time": "2022-04-16T18:01:39.383Z"
   },
   {
    "duration": 0,
    "start_time": "2022-04-16T18:01:39.384Z"
   },
   {
    "duration": 0,
    "start_time": "2022-04-16T18:01:39.385Z"
   },
   {
    "duration": 0,
    "start_time": "2022-04-16T18:01:39.385Z"
   },
   {
    "duration": 0,
    "start_time": "2022-04-16T18:01:39.387Z"
   },
   {
    "duration": 0,
    "start_time": "2022-04-16T18:01:39.387Z"
   },
   {
    "duration": 0,
    "start_time": "2022-04-16T18:01:39.424Z"
   },
   {
    "duration": 0,
    "start_time": "2022-04-16T18:01:39.425Z"
   },
   {
    "duration": 0,
    "start_time": "2022-04-16T18:01:39.425Z"
   },
   {
    "duration": 0,
    "start_time": "2022-04-16T18:01:39.426Z"
   },
   {
    "duration": 0,
    "start_time": "2022-04-16T18:01:39.427Z"
   },
   {
    "duration": 0,
    "start_time": "2022-04-16T18:01:39.428Z"
   },
   {
    "duration": 0,
    "start_time": "2022-04-16T18:01:39.429Z"
   },
   {
    "duration": 0,
    "start_time": "2022-04-16T18:01:39.430Z"
   },
   {
    "duration": 0,
    "start_time": "2022-04-16T18:01:39.430Z"
   },
   {
    "duration": 0,
    "start_time": "2022-04-16T18:01:39.431Z"
   },
   {
    "duration": 0,
    "start_time": "2022-04-16T18:01:39.432Z"
   },
   {
    "duration": 0,
    "start_time": "2022-04-16T18:01:39.433Z"
   },
   {
    "duration": 0,
    "start_time": "2022-04-16T18:01:39.434Z"
   },
   {
    "duration": 0,
    "start_time": "2022-04-16T18:01:39.435Z"
   },
   {
    "duration": 0,
    "start_time": "2022-04-16T18:01:39.436Z"
   },
   {
    "duration": 0,
    "start_time": "2022-04-16T18:01:39.437Z"
   },
   {
    "duration": 0,
    "start_time": "2022-04-16T18:01:39.438Z"
   },
   {
    "duration": 0,
    "start_time": "2022-04-16T18:01:39.439Z"
   },
   {
    "duration": 0,
    "start_time": "2022-04-16T18:01:39.439Z"
   },
   {
    "duration": 0,
    "start_time": "2022-04-16T18:01:39.441Z"
   },
   {
    "duration": 0,
    "start_time": "2022-04-16T18:01:39.441Z"
   },
   {
    "duration": 0,
    "start_time": "2022-04-16T18:01:39.442Z"
   },
   {
    "duration": 0,
    "start_time": "2022-04-16T18:01:39.443Z"
   },
   {
    "duration": 0,
    "start_time": "2022-04-16T18:01:39.444Z"
   },
   {
    "duration": 0,
    "start_time": "2022-04-16T18:01:39.445Z"
   },
   {
    "duration": 0,
    "start_time": "2022-04-16T18:01:39.446Z"
   },
   {
    "duration": 0,
    "start_time": "2022-04-16T18:01:39.447Z"
   },
   {
    "duration": 0,
    "start_time": "2022-04-16T18:01:39.448Z"
   },
   {
    "duration": 0,
    "start_time": "2022-04-16T18:01:39.449Z"
   },
   {
    "duration": 0,
    "start_time": "2022-04-16T18:01:39.450Z"
   },
   {
    "duration": 0,
    "start_time": "2022-04-16T18:01:39.451Z"
   },
   {
    "duration": 3,
    "start_time": "2022-04-16T18:29:43.545Z"
   },
   {
    "duration": 609,
    "start_time": "2022-04-16T18:29:43.554Z"
   },
   {
    "duration": 122,
    "start_time": "2022-04-16T18:29:44.165Z"
   },
   {
    "duration": 2,
    "start_time": "2022-04-16T18:29:44.289Z"
   },
   {
    "duration": 66,
    "start_time": "2022-04-16T18:29:44.292Z"
   },
   {
    "duration": 0,
    "start_time": "2022-04-16T18:29:44.361Z"
   },
   {
    "duration": 0,
    "start_time": "2022-04-16T18:29:44.362Z"
   },
   {
    "duration": 0,
    "start_time": "2022-04-16T18:29:44.363Z"
   },
   {
    "duration": 0,
    "start_time": "2022-04-16T18:29:44.364Z"
   },
   {
    "duration": 0,
    "start_time": "2022-04-16T18:29:44.365Z"
   },
   {
    "duration": 0,
    "start_time": "2022-04-16T18:29:44.366Z"
   },
   {
    "duration": 0,
    "start_time": "2022-04-16T18:29:44.367Z"
   },
   {
    "duration": 0,
    "start_time": "2022-04-16T18:29:44.367Z"
   },
   {
    "duration": 0,
    "start_time": "2022-04-16T18:29:44.368Z"
   },
   {
    "duration": 0,
    "start_time": "2022-04-16T18:29:44.369Z"
   },
   {
    "duration": 0,
    "start_time": "2022-04-16T18:29:44.370Z"
   },
   {
    "duration": 0,
    "start_time": "2022-04-16T18:29:44.371Z"
   },
   {
    "duration": 0,
    "start_time": "2022-04-16T18:29:44.372Z"
   },
   {
    "duration": 0,
    "start_time": "2022-04-16T18:29:44.373Z"
   },
   {
    "duration": 0,
    "start_time": "2022-04-16T18:29:44.374Z"
   },
   {
    "duration": 0,
    "start_time": "2022-04-16T18:29:44.375Z"
   },
   {
    "duration": 0,
    "start_time": "2022-04-16T18:29:44.376Z"
   },
   {
    "duration": 0,
    "start_time": "2022-04-16T18:29:44.376Z"
   },
   {
    "duration": 0,
    "start_time": "2022-04-16T18:29:44.377Z"
   },
   {
    "duration": 0,
    "start_time": "2022-04-16T18:29:44.378Z"
   },
   {
    "duration": 0,
    "start_time": "2022-04-16T18:29:44.379Z"
   },
   {
    "duration": 0,
    "start_time": "2022-04-16T18:29:44.380Z"
   },
   {
    "duration": 0,
    "start_time": "2022-04-16T18:29:44.381Z"
   },
   {
    "duration": 0,
    "start_time": "2022-04-16T18:29:44.382Z"
   },
   {
    "duration": 0,
    "start_time": "2022-04-16T18:29:44.383Z"
   },
   {
    "duration": 0,
    "start_time": "2022-04-16T18:29:44.423Z"
   },
   {
    "duration": 1,
    "start_time": "2022-04-16T18:29:44.424Z"
   },
   {
    "duration": 0,
    "start_time": "2022-04-16T18:29:44.425Z"
   },
   {
    "duration": 0,
    "start_time": "2022-04-16T18:29:44.427Z"
   },
   {
    "duration": 0,
    "start_time": "2022-04-16T18:29:44.427Z"
   },
   {
    "duration": 0,
    "start_time": "2022-04-16T18:29:44.428Z"
   },
   {
    "duration": 0,
    "start_time": "2022-04-16T18:29:44.429Z"
   },
   {
    "duration": 0,
    "start_time": "2022-04-16T18:29:44.430Z"
   },
   {
    "duration": 0,
    "start_time": "2022-04-16T18:29:44.431Z"
   },
   {
    "duration": 0,
    "start_time": "2022-04-16T18:29:44.432Z"
   },
   {
    "duration": 0,
    "start_time": "2022-04-16T18:29:44.433Z"
   },
   {
    "duration": 0,
    "start_time": "2022-04-16T18:29:44.433Z"
   },
   {
    "duration": 0,
    "start_time": "2022-04-16T18:29:44.434Z"
   },
   {
    "duration": 0,
    "start_time": "2022-04-16T18:29:44.435Z"
   },
   {
    "duration": 0,
    "start_time": "2022-04-16T18:29:44.436Z"
   },
   {
    "duration": 0,
    "start_time": "2022-04-16T18:29:44.437Z"
   },
   {
    "duration": 0,
    "start_time": "2022-04-16T18:29:44.437Z"
   },
   {
    "duration": 0,
    "start_time": "2022-04-16T18:29:44.438Z"
   },
   {
    "duration": 0,
    "start_time": "2022-04-16T18:29:44.439Z"
   },
   {
    "duration": 0,
    "start_time": "2022-04-16T18:29:44.440Z"
   },
   {
    "duration": 0,
    "start_time": "2022-04-16T18:29:44.441Z"
   },
   {
    "duration": 0,
    "start_time": "2022-04-16T18:29:44.442Z"
   },
   {
    "duration": 0,
    "start_time": "2022-04-16T18:29:44.443Z"
   },
   {
    "duration": 0,
    "start_time": "2022-04-16T18:29:44.444Z"
   },
   {
    "duration": 0,
    "start_time": "2022-04-16T18:29:44.445Z"
   },
   {
    "duration": 0,
    "start_time": "2022-04-16T18:29:44.446Z"
   },
   {
    "duration": 0,
    "start_time": "2022-04-16T18:29:44.447Z"
   },
   {
    "duration": 0,
    "start_time": "2022-04-16T18:29:44.448Z"
   },
   {
    "duration": 0,
    "start_time": "2022-04-16T18:29:44.449Z"
   },
   {
    "duration": 0,
    "start_time": "2022-04-16T18:29:44.450Z"
   },
   {
    "duration": 4,
    "start_time": "2022-04-16T18:30:14.320Z"
   },
   {
    "duration": 610,
    "start_time": "2022-04-16T18:30:14.327Z"
   },
   {
    "duration": 103,
    "start_time": "2022-04-16T18:30:14.939Z"
   },
   {
    "duration": 3,
    "start_time": "2022-04-16T18:30:15.043Z"
   },
   {
    "duration": 40,
    "start_time": "2022-04-16T18:30:15.048Z"
   },
   {
    "duration": 3,
    "start_time": "2022-04-16T18:30:15.090Z"
   },
   {
    "duration": 69,
    "start_time": "2022-04-16T18:30:15.095Z"
   },
   {
    "duration": 23,
    "start_time": "2022-04-16T18:30:15.166Z"
   },
   {
    "duration": 56,
    "start_time": "2022-04-16T18:30:15.191Z"
   },
   {
    "duration": 19,
    "start_time": "2022-04-16T18:30:15.249Z"
   },
   {
    "duration": 13,
    "start_time": "2022-04-16T18:30:15.270Z"
   },
   {
    "duration": 5,
    "start_time": "2022-04-16T18:30:15.285Z"
   },
   {
    "duration": 9,
    "start_time": "2022-04-16T18:30:15.292Z"
   },
   {
    "duration": 20,
    "start_time": "2022-04-16T18:30:15.325Z"
   },
   {
    "duration": 3,
    "start_time": "2022-04-16T18:30:15.346Z"
   },
   {
    "duration": 192,
    "start_time": "2022-04-16T18:30:15.350Z"
   },
   {
    "duration": 2,
    "start_time": "2022-04-16T18:30:15.543Z"
   },
   {
    "duration": 16,
    "start_time": "2022-04-16T18:30:15.547Z"
   },
   {
    "duration": 431,
    "start_time": "2022-04-16T18:30:15.565Z"
   },
   {
    "duration": 3,
    "start_time": "2022-04-16T18:30:15.997Z"
   },
   {
    "duration": 7,
    "start_time": "2022-04-16T18:30:16.001Z"
   },
   {
    "duration": 40,
    "start_time": "2022-04-16T18:30:16.009Z"
   },
   {
    "duration": 34,
    "start_time": "2022-04-16T18:30:16.050Z"
   },
   {
    "duration": 476,
    "start_time": "2022-04-16T18:30:16.086Z"
   },
   {
    "duration": 3,
    "start_time": "2022-04-16T18:30:16.564Z"
   },
   {
    "duration": 21,
    "start_time": "2022-04-16T18:30:16.569Z"
   },
   {
    "duration": 388,
    "start_time": "2022-04-16T18:30:16.592Z"
   },
   {
    "duration": 3,
    "start_time": "2022-04-16T18:30:16.982Z"
   },
   {
    "duration": 4,
    "start_time": "2022-04-16T18:30:16.987Z"
   },
   {
    "duration": 31,
    "start_time": "2022-04-16T18:30:16.992Z"
   },
   {
    "duration": 219,
    "start_time": "2022-04-16T18:30:17.025Z"
   },
   {
    "duration": 224,
    "start_time": "2022-04-16T18:30:17.246Z"
   },
   {
    "duration": 3,
    "start_time": "2022-04-16T18:30:17.471Z"
   },
   {
    "duration": 635,
    "start_time": "2022-04-16T18:30:17.475Z"
   },
   {
    "duration": 655,
    "start_time": "2022-04-16T18:30:18.111Z"
   },
   {
    "duration": 7,
    "start_time": "2022-04-16T18:30:18.768Z"
   },
   {
    "duration": 9,
    "start_time": "2022-04-16T18:30:18.777Z"
   },
   {
    "duration": 4,
    "start_time": "2022-04-16T18:30:18.788Z"
   },
   {
    "duration": 52,
    "start_time": "2022-04-16T18:30:18.793Z"
   },
   {
    "duration": 2,
    "start_time": "2022-04-16T18:30:18.846Z"
   },
   {
    "duration": 10,
    "start_time": "2022-04-16T18:30:18.852Z"
   },
   {
    "duration": 28,
    "start_time": "2022-04-16T18:30:18.863Z"
   },
   {
    "duration": 250,
    "start_time": "2022-04-16T18:30:18.893Z"
   },
   {
    "duration": 314,
    "start_time": "2022-04-16T18:30:19.144Z"
   },
   {
    "duration": 2,
    "start_time": "2022-04-16T18:30:19.460Z"
   },
   {
    "duration": 443,
    "start_time": "2022-04-16T18:30:19.464Z"
   },
   {
    "duration": 14,
    "start_time": "2022-04-16T18:30:19.909Z"
   },
   {
    "duration": 431,
    "start_time": "2022-04-16T18:30:19.925Z"
   },
   {
    "duration": 3,
    "start_time": "2022-04-16T18:30:20.357Z"
   },
   {
    "duration": 17,
    "start_time": "2022-04-16T18:30:20.361Z"
   },
   {
    "duration": 2,
    "start_time": "2022-04-16T18:30:20.380Z"
   },
   {
    "duration": 5,
    "start_time": "2022-04-16T18:30:20.384Z"
   },
   {
    "duration": 5,
    "start_time": "2022-04-16T18:30:20.390Z"
   },
   {
    "duration": 651,
    "start_time": "2022-04-16T18:30:20.396Z"
   },
   {
    "duration": 3,
    "start_time": "2022-04-16T18:30:21.049Z"
   },
   {
    "duration": 6,
    "start_time": "2022-04-16T18:30:21.053Z"
   },
   {
    "duration": 17,
    "start_time": "2022-04-16T18:30:21.060Z"
   },
   {
    "duration": 3,
    "start_time": "2022-04-16T18:30:21.078Z"
   },
   {
    "duration": 6,
    "start_time": "2022-04-16T18:30:21.083Z"
   },
   {
    "duration": 6,
    "start_time": "2022-04-16T18:30:21.090Z"
   },
   {
    "duration": 5,
    "start_time": "2022-04-17T16:33:38.472Z"
   },
   {
    "duration": 1145,
    "start_time": "2022-04-17T16:33:38.485Z"
   },
   {
    "duration": 142,
    "start_time": "2022-04-17T16:33:39.632Z"
   },
   {
    "duration": 3,
    "start_time": "2022-04-17T16:33:39.776Z"
   },
   {
    "duration": 39,
    "start_time": "2022-04-17T16:33:39.782Z"
   },
   {
    "duration": 9,
    "start_time": "2022-04-17T16:33:39.830Z"
   },
   {
    "duration": 68,
    "start_time": "2022-04-17T16:33:39.841Z"
   },
   {
    "duration": 3,
    "start_time": "2022-04-17T16:33:39.911Z"
   },
   {
    "duration": 66,
    "start_time": "2022-04-17T16:33:39.916Z"
   },
   {
    "duration": 19,
    "start_time": "2022-04-17T16:33:39.984Z"
   },
   {
    "duration": 14,
    "start_time": "2022-04-17T16:33:40.007Z"
   },
   {
    "duration": 11,
    "start_time": "2022-04-17T16:33:40.029Z"
   },
   {
    "duration": 11,
    "start_time": "2022-04-17T16:33:40.049Z"
   },
   {
    "duration": 36,
    "start_time": "2022-04-17T16:33:40.063Z"
   },
   {
    "duration": 12,
    "start_time": "2022-04-17T16:33:40.101Z"
   },
   {
    "duration": 343,
    "start_time": "2022-04-17T16:33:40.115Z"
   },
   {
    "duration": 3,
    "start_time": "2022-04-17T16:33:40.463Z"
   },
   {
    "duration": 28,
    "start_time": "2022-04-17T16:33:40.468Z"
   },
   {
    "duration": 561,
    "start_time": "2022-04-17T16:33:40.498Z"
   },
   {
    "duration": 4,
    "start_time": "2022-04-17T16:33:41.061Z"
   },
   {
    "duration": 18,
    "start_time": "2022-04-17T16:33:41.069Z"
   },
   {
    "duration": 104,
    "start_time": "2022-04-17T16:33:41.089Z"
   },
   {
    "duration": 67,
    "start_time": "2022-04-17T16:33:41.195Z"
   },
   {
    "duration": 514,
    "start_time": "2022-04-17T16:33:41.268Z"
   },
   {
    "duration": 3,
    "start_time": "2022-04-17T16:33:41.784Z"
   },
   {
    "duration": 32,
    "start_time": "2022-04-17T16:33:41.789Z"
   },
   {
    "duration": 392,
    "start_time": "2022-04-17T16:33:41.825Z"
   },
   {
    "duration": 2,
    "start_time": "2022-04-17T16:33:42.219Z"
   },
   {
    "duration": 15,
    "start_time": "2022-04-17T16:33:42.229Z"
   },
   {
    "duration": 24,
    "start_time": "2022-04-17T16:33:42.245Z"
   },
   {
    "duration": 151,
    "start_time": "2022-04-17T16:33:42.271Z"
   },
   {
    "duration": 172,
    "start_time": "2022-04-17T16:33:42.424Z"
   },
   {
    "duration": 3,
    "start_time": "2022-04-17T16:33:42.597Z"
   },
   {
    "duration": 786,
    "start_time": "2022-04-17T16:33:42.602Z"
   },
   {
    "duration": 1181,
    "start_time": "2022-04-17T16:33:43.390Z"
   },
   {
    "duration": 52,
    "start_time": "2022-04-17T16:33:44.582Z"
   },
   {
    "duration": 18,
    "start_time": "2022-04-17T16:33:44.637Z"
   },
   {
    "duration": 18,
    "start_time": "2022-04-17T16:33:44.657Z"
   },
   {
    "duration": 87,
    "start_time": "2022-04-17T16:33:44.678Z"
   },
   {
    "duration": 3,
    "start_time": "2022-04-17T16:33:44.768Z"
   },
   {
    "duration": 11,
    "start_time": "2022-04-17T16:33:44.773Z"
   },
   {
    "duration": 49,
    "start_time": "2022-04-17T16:33:44.826Z"
   },
   {
    "duration": 752,
    "start_time": "2022-04-17T16:33:44.877Z"
   },
   {
    "duration": 762,
    "start_time": "2022-04-17T16:33:45.631Z"
   },
   {
    "duration": 3,
    "start_time": "2022-04-17T16:33:46.395Z"
   },
   {
    "duration": 547,
    "start_time": "2022-04-17T16:33:46.399Z"
   },
   {
    "duration": 4,
    "start_time": "2022-04-17T16:33:46.949Z"
   },
   {
    "duration": 538,
    "start_time": "2022-04-17T16:33:46.954Z"
   },
   {
    "duration": 3,
    "start_time": "2022-04-17T16:33:47.494Z"
   },
   {
    "duration": 39,
    "start_time": "2022-04-17T16:33:47.498Z"
   },
   {
    "duration": 5,
    "start_time": "2022-04-17T16:33:47.538Z"
   },
   {
    "duration": 4,
    "start_time": "2022-04-17T16:33:47.547Z"
   },
   {
    "duration": 3,
    "start_time": "2022-04-17T16:33:47.554Z"
   },
   {
    "duration": 505,
    "start_time": "2022-04-17T16:33:47.560Z"
   },
   {
    "duration": 2,
    "start_time": "2022-04-17T16:33:48.068Z"
   },
   {
    "duration": 6,
    "start_time": "2022-04-17T16:33:48.071Z"
   },
   {
    "duration": 19,
    "start_time": "2022-04-17T16:33:48.079Z"
   },
   {
    "duration": 2,
    "start_time": "2022-04-17T16:33:48.100Z"
   },
   {
    "duration": 5,
    "start_time": "2022-04-17T16:33:48.103Z"
   },
   {
    "duration": 19,
    "start_time": "2022-04-17T16:33:48.110Z"
   },
   {
    "duration": 99,
    "start_time": "2022-04-17T17:16:56.301Z"
   },
   {
    "duration": 17,
    "start_time": "2022-04-17T17:17:04.622Z"
   },
   {
    "duration": 1766,
    "start_time": "2022-04-17T17:17:04.643Z"
   },
   {
    "duration": 785,
    "start_time": "2022-04-17T17:17:06.411Z"
   },
   {
    "duration": 11,
    "start_time": "2022-04-17T17:17:07.201Z"
   },
   {
    "duration": 110,
    "start_time": "2022-04-17T17:17:07.214Z"
   },
   {
    "duration": 4,
    "start_time": "2022-04-17T17:17:07.329Z"
   },
   {
    "duration": 84,
    "start_time": "2022-04-17T17:17:07.342Z"
   },
   {
    "duration": 10,
    "start_time": "2022-04-17T17:17:07.432Z"
   },
   {
    "duration": 63,
    "start_time": "2022-04-17T17:17:07.449Z"
   },
   {
    "duration": 38,
    "start_time": "2022-04-17T17:17:07.519Z"
   },
   {
    "duration": 30,
    "start_time": "2022-04-17T17:17:07.563Z"
   },
   {
    "duration": 22,
    "start_time": "2022-04-17T17:17:07.598Z"
   },
   {
    "duration": 7,
    "start_time": "2022-04-17T17:17:07.626Z"
   },
   {
    "duration": 35,
    "start_time": "2022-04-17T17:17:07.639Z"
   },
   {
    "duration": 4,
    "start_time": "2022-04-17T17:17:07.680Z"
   },
   {
    "duration": 288,
    "start_time": "2022-04-17T17:17:07.690Z"
   },
   {
    "duration": 8,
    "start_time": "2022-04-17T17:17:07.991Z"
   },
   {
    "duration": 25,
    "start_time": "2022-04-17T17:17:08.003Z"
   },
   {
    "duration": 901,
    "start_time": "2022-04-17T17:17:08.030Z"
   },
   {
    "duration": 10,
    "start_time": "2022-04-17T17:17:08.933Z"
   },
   {
    "duration": 8,
    "start_time": "2022-04-17T17:17:08.947Z"
   },
   {
    "duration": 58,
    "start_time": "2022-04-17T17:17:08.959Z"
   },
   {
    "duration": 74,
    "start_time": "2022-04-17T17:17:09.033Z"
   },
   {
    "duration": 250,
    "start_time": "2022-04-17T17:17:09.110Z"
   },
   {
    "duration": 5,
    "start_time": "2022-04-17T17:17:09.366Z"
   },
   {
    "duration": 39,
    "start_time": "2022-04-17T17:17:09.376Z"
   },
   {
    "duration": 441,
    "start_time": "2022-04-17T17:17:09.416Z"
   },
   {
    "duration": 5,
    "start_time": "2022-04-17T17:17:09.866Z"
   },
   {
    "duration": 2,
    "start_time": "2022-04-17T17:17:09.875Z"
   },
   {
    "duration": 29,
    "start_time": "2022-04-17T17:17:09.881Z"
   },
   {
    "duration": 287,
    "start_time": "2022-04-17T17:17:09.918Z"
   },
   {
    "duration": 233,
    "start_time": "2022-04-17T17:17:10.208Z"
   },
   {
    "duration": 3,
    "start_time": "2022-04-17T17:17:10.444Z"
   },
   {
    "duration": 1021,
    "start_time": "2022-04-17T17:17:10.450Z"
   },
   {
    "duration": 1209,
    "start_time": "2022-04-17T17:17:11.477Z"
   },
   {
    "duration": 12,
    "start_time": "2022-04-17T17:17:12.692Z"
   },
   {
    "duration": 23,
    "start_time": "2022-04-17T17:17:12.706Z"
   },
   {
    "duration": 12,
    "start_time": "2022-04-17T17:17:12.733Z"
   },
   {
    "duration": 52,
    "start_time": "2022-04-17T17:17:12.747Z"
   },
   {
    "duration": 2,
    "start_time": "2022-04-17T17:17:12.805Z"
   },
   {
    "duration": 7,
    "start_time": "2022-04-17T17:17:12.809Z"
   },
   {
    "duration": 55,
    "start_time": "2022-04-17T17:17:12.818Z"
   },
   {
    "duration": 434,
    "start_time": "2022-04-17T17:17:12.875Z"
   },
   {
    "duration": 500,
    "start_time": "2022-04-17T17:17:13.312Z"
   },
   {
    "duration": 3,
    "start_time": "2022-04-17T17:17:13.814Z"
   },
   {
    "duration": 719,
    "start_time": "2022-04-17T17:17:13.818Z"
   },
   {
    "duration": 5,
    "start_time": "2022-04-17T17:17:14.539Z"
   },
   {
    "duration": 633,
    "start_time": "2022-04-17T17:17:14.548Z"
   },
   {
    "duration": 2,
    "start_time": "2022-04-17T17:17:15.184Z"
   },
   {
    "duration": 43,
    "start_time": "2022-04-17T17:17:15.189Z"
   },
   {
    "duration": 11,
    "start_time": "2022-04-17T17:17:15.235Z"
   },
   {
    "duration": 5,
    "start_time": "2022-04-17T17:17:15.248Z"
   },
   {
    "duration": 3,
    "start_time": "2022-04-17T17:17:15.257Z"
   },
   {
    "duration": 694,
    "start_time": "2022-04-17T17:17:15.268Z"
   },
   {
    "duration": 6,
    "start_time": "2022-04-17T17:17:15.969Z"
   },
   {
    "duration": 2,
    "start_time": "2022-04-17T17:17:15.987Z"
   },
   {
    "duration": 23,
    "start_time": "2022-04-17T17:17:15.991Z"
   },
   {
    "duration": 3,
    "start_time": "2022-04-17T17:17:16.016Z"
   },
   {
    "duration": 14,
    "start_time": "2022-04-17T17:17:16.021Z"
   },
   {
    "duration": 16,
    "start_time": "2022-04-17T17:17:16.037Z"
   },
   {
    "duration": 33,
    "start_time": "2022-04-17T17:17:54.056Z"
   },
   {
    "duration": 3,
    "start_time": "2022-04-17T17:18:05.129Z"
   },
   {
    "duration": 46,
    "start_time": "2022-04-17T17:18:16.473Z"
   },
   {
    "duration": 63,
    "start_time": "2022-04-17T17:18:36.632Z"
   },
   {
    "duration": 60,
    "start_time": "2022-04-17T17:19:01.054Z"
   },
   {
    "duration": 74,
    "start_time": "2022-04-17T17:19:13.561Z"
   },
   {
    "duration": 45,
    "start_time": "2022-04-17T17:19:15.901Z"
   },
   {
    "duration": 457,
    "start_time": "2022-04-17T17:19:22.882Z"
   },
   {
    "duration": 3,
    "start_time": "2022-04-17T17:20:36.869Z"
   },
   {
    "duration": 18,
    "start_time": "2022-04-17T17:22:21.054Z"
   },
   {
    "duration": 255,
    "start_time": "2022-04-17T17:22:34.394Z"
   },
   {
    "duration": 21,
    "start_time": "2022-04-17T17:22:59.832Z"
   },
   {
    "duration": 332,
    "start_time": "2022-04-17T17:23:01.017Z"
   },
   {
    "duration": 13,
    "start_time": "2022-04-17T17:30:38.799Z"
   },
   {
    "duration": 412,
    "start_time": "2022-04-17T17:30:42.991Z"
   },
   {
    "duration": 2,
    "start_time": "2022-04-17T17:30:45.786Z"
   },
   {
    "duration": 24,
    "start_time": "2022-04-17T17:31:12.838Z"
   },
   {
    "duration": 338,
    "start_time": "2022-04-17T17:31:14.752Z"
   },
   {
    "duration": 3,
    "start_time": "2022-04-17T17:31:17.999Z"
   },
   {
    "duration": 3,
    "start_time": "2022-04-17T17:31:18.995Z"
   },
   {
    "duration": 14,
    "start_time": "2022-04-17T17:31:33.265Z"
   },
   {
    "duration": 234,
    "start_time": "2022-04-17T17:31:33.839Z"
   },
   {
    "duration": 165,
    "start_time": "2022-04-17T17:31:35.245Z"
   },
   {
    "duration": 4,
    "start_time": "2022-04-17T17:31:35.733Z"
   },
   {
    "duration": 1104,
    "start_time": "2022-04-17T17:31:36.789Z"
   },
   {
    "duration": 1229,
    "start_time": "2022-04-17T17:31:37.901Z"
   },
   {
    "duration": 11,
    "start_time": "2022-04-17T17:31:42.182Z"
   },
   {
    "duration": 13,
    "start_time": "2022-04-17T17:31:43.194Z"
   },
   {
    "duration": 9,
    "start_time": "2022-04-17T17:31:44.842Z"
   },
   {
    "duration": 43,
    "start_time": "2022-04-17T17:31:51.600Z"
   },
   {
    "duration": 2,
    "start_time": "2022-04-17T17:31:54.482Z"
   },
   {
    "duration": 4,
    "start_time": "2022-04-17T17:31:54.921Z"
   },
   {
    "duration": 36,
    "start_time": "2022-04-17T17:31:55.802Z"
   },
   {
    "duration": 337,
    "start_time": "2022-04-17T17:31:57.628Z"
   },
   {
    "duration": 383,
    "start_time": "2022-04-17T17:31:59.481Z"
   },
   {
    "duration": 36,
    "start_time": "2022-04-17T17:54:37.073Z"
   },
   {
    "duration": 272,
    "start_time": "2022-04-17T17:54:46.150Z"
   },
   {
    "duration": 13,
    "start_time": "2022-04-17T17:55:01.169Z"
   },
   {
    "duration": 17,
    "start_time": "2022-04-17T17:55:05.513Z"
   },
   {
    "duration": 402,
    "start_time": "2022-04-17T17:55:11.074Z"
   },
   {
    "duration": 6,
    "start_time": "2022-04-17T17:55:46.840Z"
   },
   {
    "duration": 3,
    "start_time": "2022-04-17T17:56:44.108Z"
   },
   {
    "duration": 3,
    "start_time": "2022-04-17T17:56:47.229Z"
   },
   {
    "duration": 17,
    "start_time": "2022-04-17T17:57:07.253Z"
   },
   {
    "duration": 7,
    "start_time": "2022-04-17T17:57:13.135Z"
   },
   {
    "duration": 4,
    "start_time": "2022-04-17T17:57:18.097Z"
   },
   {
    "duration": 5,
    "start_time": "2022-04-17T17:59:28.826Z"
   },
   {
    "duration": 5,
    "start_time": "2022-04-17T17:59:36.012Z"
   },
   {
    "duration": 823,
    "start_time": "2022-04-17T17:59:36.019Z"
   },
   {
    "duration": 181,
    "start_time": "2022-04-17T17:59:36.848Z"
   },
   {
    "duration": 3,
    "start_time": "2022-04-17T17:59:37.031Z"
   },
   {
    "duration": 62,
    "start_time": "2022-04-17T17:59:37.036Z"
   },
   {
    "duration": 5,
    "start_time": "2022-04-17T17:59:37.100Z"
   },
   {
    "duration": 83,
    "start_time": "2022-04-17T17:59:37.106Z"
   },
   {
    "duration": 3,
    "start_time": "2022-04-17T17:59:37.191Z"
   },
   {
    "duration": 69,
    "start_time": "2022-04-17T17:59:37.196Z"
   },
   {
    "duration": 21,
    "start_time": "2022-04-17T17:59:37.268Z"
   },
   {
    "duration": 15,
    "start_time": "2022-04-17T17:59:37.293Z"
   },
   {
    "duration": 21,
    "start_time": "2022-04-17T17:59:37.310Z"
   },
   {
    "duration": 13,
    "start_time": "2022-04-17T17:59:37.340Z"
   },
   {
    "duration": 41,
    "start_time": "2022-04-17T17:59:37.356Z"
   },
   {
    "duration": 19,
    "start_time": "2022-04-17T17:59:37.399Z"
   },
   {
    "duration": 252,
    "start_time": "2022-04-17T17:59:37.420Z"
   },
   {
    "duration": 2,
    "start_time": "2022-04-17T17:59:37.675Z"
   },
   {
    "duration": 18,
    "start_time": "2022-04-17T17:59:37.679Z"
   },
   {
    "duration": 764,
    "start_time": "2022-04-17T17:59:37.700Z"
   },
   {
    "duration": 2,
    "start_time": "2022-04-17T17:59:38.466Z"
   },
   {
    "duration": 5,
    "start_time": "2022-04-17T17:59:38.470Z"
   },
   {
    "duration": 36,
    "start_time": "2022-04-17T17:59:38.477Z"
   },
   {
    "duration": 49,
    "start_time": "2022-04-17T17:59:38.515Z"
   },
   {
    "duration": 433,
    "start_time": "2022-04-17T17:59:38.566Z"
   },
   {
    "duration": 3,
    "start_time": "2022-04-17T17:59:39.001Z"
   },
   {
    "duration": 26,
    "start_time": "2022-04-17T17:59:39.005Z"
   },
   {
    "duration": 308,
    "start_time": "2022-04-17T17:59:39.035Z"
   },
   {
    "duration": 11,
    "start_time": "2022-04-17T17:59:39.345Z"
   },
   {
    "duration": 2,
    "start_time": "2022-04-17T17:59:39.366Z"
   },
   {
    "duration": 14,
    "start_time": "2022-04-17T17:59:39.370Z"
   },
   {
    "duration": 239,
    "start_time": "2022-04-17T17:59:39.386Z"
   },
   {
    "duration": 232,
    "start_time": "2022-04-17T17:59:39.633Z"
   },
   {
    "duration": 3,
    "start_time": "2022-04-17T17:59:39.867Z"
   },
   {
    "duration": 1114,
    "start_time": "2022-04-17T17:59:39.872Z"
   },
   {
    "duration": 1111,
    "start_time": "2022-04-17T17:59:40.988Z"
   },
   {
    "duration": 12,
    "start_time": "2022-04-17T17:59:42.101Z"
   },
   {
    "duration": 21,
    "start_time": "2022-04-17T17:59:42.126Z"
   },
   {
    "duration": 20,
    "start_time": "2022-04-17T17:59:42.151Z"
   },
   {
    "duration": 75,
    "start_time": "2022-04-17T17:59:42.174Z"
   },
   {
    "duration": 3,
    "start_time": "2022-04-17T17:59:42.257Z"
   },
   {
    "duration": 30,
    "start_time": "2022-04-17T17:59:42.263Z"
   },
   {
    "duration": 56,
    "start_time": "2022-04-17T17:59:42.296Z"
   },
   {
    "duration": 292,
    "start_time": "2022-04-17T17:59:42.355Z"
   },
   {
    "duration": 400,
    "start_time": "2022-04-17T17:59:42.649Z"
   },
   {
    "duration": 10,
    "start_time": "2022-04-17T17:59:43.051Z"
   },
   {
    "duration": 3,
    "start_time": "2022-04-17T17:59:43.063Z"
   },
   {
    "duration": 6,
    "start_time": "2022-04-17T17:59:43.068Z"
   },
   {
    "duration": 583,
    "start_time": "2022-04-17T17:59:43.076Z"
   },
   {
    "duration": 3,
    "start_time": "2022-04-17T17:59:43.661Z"
   },
   {
    "duration": 689,
    "start_time": "2022-04-17T17:59:43.666Z"
   },
   {
    "duration": 4,
    "start_time": "2022-04-17T17:59:44.357Z"
   },
   {
    "duration": 18,
    "start_time": "2022-04-17T17:59:44.362Z"
   },
   {
    "duration": 3,
    "start_time": "2022-04-17T17:59:44.382Z"
   },
   {
    "duration": 4,
    "start_time": "2022-04-17T17:59:44.387Z"
   },
   {
    "duration": 3,
    "start_time": "2022-04-17T17:59:44.393Z"
   },
   {
    "duration": 564,
    "start_time": "2022-04-17T17:59:44.398Z"
   },
   {
    "duration": 4,
    "start_time": "2022-04-17T17:59:44.964Z"
   },
   {
    "duration": 5,
    "start_time": "2022-04-17T17:59:44.972Z"
   },
   {
    "duration": 20,
    "start_time": "2022-04-17T17:59:44.980Z"
   },
   {
    "duration": 3,
    "start_time": "2022-04-17T17:59:45.002Z"
   },
   {
    "duration": 9,
    "start_time": "2022-04-17T17:59:45.023Z"
   },
   {
    "duration": 9,
    "start_time": "2022-04-17T17:59:45.037Z"
   },
   {
    "duration": 5,
    "start_time": "2022-04-17T17:59:59.970Z"
   },
   {
    "duration": 28,
    "start_time": "2022-04-17T18:00:07.932Z"
   },
   {
    "duration": 14,
    "start_time": "2022-04-17T18:00:56.136Z"
   },
   {
    "duration": 8,
    "start_time": "2022-04-17T18:01:02.491Z"
   },
   {
    "duration": 14,
    "start_time": "2022-04-17T18:01:17.126Z"
   },
   {
    "duration": 37,
    "start_time": "2022-04-17T18:01:36.682Z"
   },
   {
    "duration": 28,
    "start_time": "2022-04-17T18:01:39.341Z"
   },
   {
    "duration": 9,
    "start_time": "2022-04-17T18:22:48.775Z"
   },
   {
    "duration": 11,
    "start_time": "2022-04-17T18:23:03.047Z"
   },
   {
    "duration": 26,
    "start_time": "2022-04-17T18:23:06.956Z"
   },
   {
    "duration": 23,
    "start_time": "2022-04-17T18:23:18.365Z"
   },
   {
    "duration": 4,
    "start_time": "2022-04-17T18:27:19.225Z"
   },
   {
    "duration": 752,
    "start_time": "2022-04-17T18:27:19.240Z"
   },
   {
    "duration": 141,
    "start_time": "2022-04-17T18:27:19.994Z"
   },
   {
    "duration": 3,
    "start_time": "2022-04-17T18:27:20.139Z"
   },
   {
    "duration": 70,
    "start_time": "2022-04-17T18:27:20.144Z"
   },
   {
    "duration": 3,
    "start_time": "2022-04-17T18:27:20.216Z"
   },
   {
    "duration": 49,
    "start_time": "2022-04-17T18:27:20.222Z"
   },
   {
    "duration": 3,
    "start_time": "2022-04-17T18:27:20.273Z"
   },
   {
    "duration": 70,
    "start_time": "2022-04-17T18:27:20.278Z"
   },
   {
    "duration": 23,
    "start_time": "2022-04-17T18:27:20.351Z"
   },
   {
    "duration": 17,
    "start_time": "2022-04-17T18:27:20.376Z"
   },
   {
    "duration": 8,
    "start_time": "2022-04-17T18:27:20.395Z"
   },
   {
    "duration": 24,
    "start_time": "2022-04-17T18:27:20.404Z"
   },
   {
    "duration": 38,
    "start_time": "2022-04-17T18:27:20.431Z"
   },
   {
    "duration": 3,
    "start_time": "2022-04-17T18:27:20.474Z"
   },
   {
    "duration": 224,
    "start_time": "2022-04-17T18:27:20.479Z"
   },
   {
    "duration": 2,
    "start_time": "2022-04-17T18:27:20.705Z"
   },
   {
    "duration": 23,
    "start_time": "2022-04-17T18:27:20.709Z"
   },
   {
    "duration": 615,
    "start_time": "2022-04-17T18:27:20.734Z"
   },
   {
    "duration": 5,
    "start_time": "2022-04-17T18:27:21.351Z"
   },
   {
    "duration": 12,
    "start_time": "2022-04-17T18:27:21.358Z"
   },
   {
    "duration": 53,
    "start_time": "2022-04-17T18:27:21.372Z"
   },
   {
    "duration": 45,
    "start_time": "2022-04-17T18:27:21.429Z"
   },
   {
    "duration": 359,
    "start_time": "2022-04-17T18:27:21.476Z"
   },
   {
    "duration": 2,
    "start_time": "2022-04-17T18:27:21.837Z"
   },
   {
    "duration": 28,
    "start_time": "2022-04-17T18:27:21.842Z"
   },
   {
    "duration": 323,
    "start_time": "2022-04-17T18:27:21.872Z"
   },
   {
    "duration": 3,
    "start_time": "2022-04-17T18:27:22.197Z"
   },
   {
    "duration": 22,
    "start_time": "2022-04-17T18:27:22.202Z"
   },
   {
    "duration": 15,
    "start_time": "2022-04-17T18:27:22.227Z"
   },
   {
    "duration": 178,
    "start_time": "2022-04-17T18:27:22.244Z"
   },
   {
    "duration": 214,
    "start_time": "2022-04-17T18:27:22.428Z"
   },
   {
    "duration": 8,
    "start_time": "2022-04-17T18:27:22.644Z"
   },
   {
    "duration": 1005,
    "start_time": "2022-04-17T18:27:22.655Z"
   },
   {
    "duration": 817,
    "start_time": "2022-04-17T18:27:23.663Z"
   },
   {
    "duration": 8,
    "start_time": "2022-04-17T18:27:24.482Z"
   },
   {
    "duration": 14,
    "start_time": "2022-04-17T18:27:24.492Z"
   },
   {
    "duration": 24,
    "start_time": "2022-04-17T18:27:24.508Z"
   },
   {
    "duration": 45,
    "start_time": "2022-04-17T18:27:24.535Z"
   },
   {
    "duration": 3,
    "start_time": "2022-04-17T18:27:24.581Z"
   },
   {
    "duration": 9,
    "start_time": "2022-04-17T18:27:24.586Z"
   },
   {
    "duration": 62,
    "start_time": "2022-04-17T18:27:24.599Z"
   },
   {
    "duration": 336,
    "start_time": "2022-04-17T18:27:24.663Z"
   },
   {
    "duration": 510,
    "start_time": "2022-04-17T18:27:25.001Z"
   },
   {
    "duration": 4,
    "start_time": "2022-04-17T18:27:25.513Z"
   },
   {
    "duration": 6,
    "start_time": "2022-04-17T18:27:25.522Z"
   },
   {
    "duration": 647,
    "start_time": "2022-04-17T18:27:25.532Z"
   },
   {
    "duration": 3,
    "start_time": "2022-04-17T18:27:26.181Z"
   },
   {
    "duration": 649,
    "start_time": "2022-04-17T18:27:26.186Z"
   },
   {
    "duration": 7,
    "start_time": "2022-04-17T18:27:26.840Z"
   },
   {
    "duration": 22,
    "start_time": "2022-04-17T18:27:26.851Z"
   },
   {
    "duration": 3,
    "start_time": "2022-04-17T18:27:26.875Z"
   },
   {
    "duration": 6,
    "start_time": "2022-04-17T18:27:26.880Z"
   },
   {
    "duration": 4,
    "start_time": "2022-04-17T18:27:26.888Z"
   },
   {
    "duration": 555,
    "start_time": "2022-04-17T18:27:26.894Z"
   },
   {
    "duration": 5,
    "start_time": "2022-04-17T18:27:27.455Z"
   },
   {
    "duration": 4,
    "start_time": "2022-04-17T18:27:27.462Z"
   },
   {
    "duration": 16,
    "start_time": "2022-04-17T18:27:27.468Z"
   },
   {
    "duration": 3,
    "start_time": "2022-04-17T18:27:27.486Z"
   },
   {
    "duration": 5,
    "start_time": "2022-04-17T18:27:27.491Z"
   },
   {
    "duration": 7,
    "start_time": "2022-04-17T18:27:27.497Z"
   },
   {
    "duration": 59,
    "start_time": "2022-04-17T18:31:50.916Z"
   },
   {
    "duration": 157,
    "start_time": "2022-04-17T18:31:52.117Z"
   },
   {
    "duration": 11,
    "start_time": "2022-04-17T18:32:03.210Z"
   },
   {
    "duration": 202,
    "start_time": "2022-04-17T18:32:04.684Z"
   },
   {
    "duration": 17,
    "start_time": "2022-04-17T18:38:17.147Z"
   },
   {
    "duration": 36,
    "start_time": "2022-04-17T18:38:25.902Z"
   },
   {
    "duration": 8,
    "start_time": "2022-04-17T18:40:33.539Z"
   },
   {
    "duration": 4,
    "start_time": "2022-04-17T18:48:55.440Z"
   },
   {
    "duration": 4,
    "start_time": "2022-04-17T18:49:00.616Z"
   },
   {
    "duration": 7,
    "start_time": "2022-04-17T18:57:25.169Z"
   },
   {
    "duration": 8,
    "start_time": "2022-04-17T18:57:30.776Z"
   },
   {
    "duration": 8,
    "start_time": "2022-04-17T18:58:03.260Z"
   },
   {
    "duration": 11,
    "start_time": "2022-04-17T18:58:25.746Z"
   },
   {
    "duration": 8,
    "start_time": "2022-04-17T18:58:27.882Z"
   },
   {
    "duration": 8,
    "start_time": "2022-04-17T18:58:30.157Z"
   },
   {
    "duration": 10,
    "start_time": "2022-04-17T18:58:30.934Z"
   },
   {
    "duration": 17,
    "start_time": "2022-04-17T18:58:32.518Z"
   },
   {
    "duration": 6,
    "start_time": "2022-04-17T18:58:38.419Z"
   },
   {
    "duration": 14,
    "start_time": "2022-04-17T18:58:38.938Z"
   },
   {
    "duration": 9,
    "start_time": "2022-04-17T18:59:09.293Z"
   },
   {
    "duration": 18,
    "start_time": "2022-04-17T18:59:15.052Z"
   },
   {
    "duration": 18,
    "start_time": "2022-04-17T19:02:48.524Z"
   },
   {
    "duration": 17,
    "start_time": "2022-04-17T19:02:55.339Z"
   },
   {
    "duration": 46,
    "start_time": "2022-04-17T19:03:01.740Z"
   },
   {
    "duration": 462,
    "start_time": "2022-04-17T19:03:38.701Z"
   },
   {
    "duration": 284,
    "start_time": "2022-04-17T19:03:47.023Z"
   },
   {
    "duration": 277,
    "start_time": "2022-04-17T19:04:16.597Z"
   },
   {
    "duration": 282,
    "start_time": "2022-04-17T19:04:25.359Z"
   },
   {
    "duration": 648,
    "start_time": "2022-04-17T19:04:35.239Z"
   },
   {
    "duration": 204,
    "start_time": "2022-04-17T19:04:58.687Z"
   },
   {
    "duration": 397,
    "start_time": "2022-04-17T19:05:19.856Z"
   },
   {
    "duration": 320,
    "start_time": "2022-04-17T19:05:21.720Z"
   },
   {
    "duration": 231,
    "start_time": "2022-04-17T19:05:25.241Z"
   },
   {
    "duration": 225,
    "start_time": "2022-04-17T19:05:31.188Z"
   },
   {
    "duration": 65,
    "start_time": "2022-04-18T12:42:37.732Z"
   },
   {
    "duration": 4,
    "start_time": "2022-04-18T12:42:53.646Z"
   },
   {
    "duration": 920,
    "start_time": "2022-04-18T12:42:53.652Z"
   },
   {
    "duration": 115,
    "start_time": "2022-04-18T12:42:54.574Z"
   },
   {
    "duration": 3,
    "start_time": "2022-04-18T12:42:54.691Z"
   },
   {
    "duration": 53,
    "start_time": "2022-04-18T12:42:54.695Z"
   },
   {
    "duration": 3,
    "start_time": "2022-04-18T12:42:54.750Z"
   },
   {
    "duration": 41,
    "start_time": "2022-04-18T12:42:54.755Z"
   },
   {
    "duration": 2,
    "start_time": "2022-04-18T12:42:54.798Z"
   },
   {
    "duration": 57,
    "start_time": "2022-04-18T12:42:54.803Z"
   },
   {
    "duration": 14,
    "start_time": "2022-04-18T12:42:54.862Z"
   },
   {
    "duration": 11,
    "start_time": "2022-04-18T12:42:54.877Z"
   },
   {
    "duration": 8,
    "start_time": "2022-04-18T12:42:54.889Z"
   },
   {
    "duration": 8,
    "start_time": "2022-04-18T12:42:54.898Z"
   },
   {
    "duration": 30,
    "start_time": "2022-04-18T12:42:54.939Z"
   },
   {
    "duration": 3,
    "start_time": "2022-04-18T12:42:54.970Z"
   },
   {
    "duration": 240,
    "start_time": "2022-04-18T12:42:54.974Z"
   },
   {
    "duration": 3,
    "start_time": "2022-04-18T12:42:55.215Z"
   },
   {
    "duration": 31,
    "start_time": "2022-04-18T12:42:55.220Z"
   },
   {
    "duration": 561,
    "start_time": "2022-04-18T12:42:55.253Z"
   },
   {
    "duration": 3,
    "start_time": "2022-04-18T12:42:55.816Z"
   },
   {
    "duration": 10,
    "start_time": "2022-04-18T12:42:55.821Z"
   },
   {
    "duration": 55,
    "start_time": "2022-04-18T12:42:55.835Z"
   },
   {
    "duration": 33,
    "start_time": "2022-04-18T12:42:55.892Z"
   },
   {
    "duration": 347,
    "start_time": "2022-04-18T12:42:55.929Z"
   },
   {
    "duration": 3,
    "start_time": "2022-04-18T12:42:56.278Z"
   },
   {
    "duration": 19,
    "start_time": "2022-04-18T12:42:56.283Z"
   },
   {
    "duration": 6,
    "start_time": "2022-04-18T12:42:56.304Z"
   },
   {
    "duration": 341,
    "start_time": "2022-04-18T12:42:56.312Z"
   },
   {
    "duration": 3,
    "start_time": "2022-04-18T12:42:56.655Z"
   },
   {
    "duration": 5,
    "start_time": "2022-04-18T12:42:56.660Z"
   },
   {
    "duration": 13,
    "start_time": "2022-04-18T12:42:56.667Z"
   },
   {
    "duration": 193,
    "start_time": "2022-04-18T12:42:56.682Z"
   },
   {
    "duration": 184,
    "start_time": "2022-04-18T12:42:56.877Z"
   },
   {
    "duration": 2,
    "start_time": "2022-04-18T12:42:57.062Z"
   },
   {
    "duration": 866,
    "start_time": "2022-04-18T12:42:57.066Z"
   },
   {
    "duration": 858,
    "start_time": "2022-04-18T12:42:57.936Z"
   },
   {
    "duration": 9,
    "start_time": "2022-04-18T12:42:58.796Z"
   },
   {
    "duration": 16,
    "start_time": "2022-04-18T12:42:58.806Z"
   },
   {
    "duration": 13,
    "start_time": "2022-04-18T12:42:58.824Z"
   },
   {
    "duration": 50,
    "start_time": "2022-04-18T12:42:58.840Z"
   },
   {
    "duration": 2,
    "start_time": "2022-04-18T12:42:58.893Z"
   },
   {
    "duration": 7,
    "start_time": "2022-04-18T12:42:58.898Z"
   },
   {
    "duration": 53,
    "start_time": "2022-04-18T12:42:58.906Z"
   },
   {
    "duration": 324,
    "start_time": "2022-04-18T12:42:58.961Z"
   },
   {
    "duration": 406,
    "start_time": "2022-04-18T12:42:59.286Z"
   },
   {
    "duration": 251,
    "start_time": "2022-04-18T12:42:59.694Z"
   },
   {
    "duration": 3,
    "start_time": "2022-04-18T12:42:59.947Z"
   },
   {
    "duration": 666,
    "start_time": "2022-04-18T12:42:59.951Z"
   },
   {
    "duration": 3,
    "start_time": "2022-04-18T12:43:00.619Z"
   },
   {
    "duration": 656,
    "start_time": "2022-04-18T12:43:00.623Z"
   },
   {
    "duration": 3,
    "start_time": "2022-04-18T12:43:01.281Z"
   },
   {
    "duration": 43,
    "start_time": "2022-04-18T12:43:01.286Z"
   },
   {
    "duration": 5,
    "start_time": "2022-04-18T12:43:01.331Z"
   },
   {
    "duration": 17,
    "start_time": "2022-04-18T12:43:01.338Z"
   },
   {
    "duration": 11,
    "start_time": "2022-04-18T12:43:01.357Z"
   },
   {
    "duration": 575,
    "start_time": "2022-04-18T12:43:01.370Z"
   },
   {
    "duration": 3,
    "start_time": "2022-04-18T12:43:01.947Z"
   },
   {
    "duration": 13,
    "start_time": "2022-04-18T12:43:01.952Z"
   },
   {
    "duration": 22,
    "start_time": "2022-04-18T12:43:01.967Z"
   },
   {
    "duration": 3,
    "start_time": "2022-04-18T12:43:01.991Z"
   },
   {
    "duration": 9,
    "start_time": "2022-04-18T12:43:01.996Z"
   },
   {
    "duration": 17,
    "start_time": "2022-04-18T12:43:02.007Z"
   },
   {
    "duration": 258,
    "start_time": "2022-04-18T12:44:49.813Z"
   },
   {
    "duration": 256,
    "start_time": "2022-04-18T12:45:36.911Z"
   },
   {
    "duration": 3,
    "start_time": "2022-04-18T12:47:39.969Z"
   },
   {
    "duration": 11,
    "start_time": "2022-04-18T12:48:44.366Z"
   },
   {
    "duration": 165,
    "start_time": "2022-04-18T12:48:52.570Z"
   },
   {
    "duration": 171,
    "start_time": "2022-04-18T12:49:07.690Z"
   },
   {
    "duration": 542,
    "start_time": "2022-04-18T12:50:49.457Z"
   },
   {
    "duration": 15,
    "start_time": "2022-04-18T12:51:16.769Z"
   },
   {
    "duration": 808,
    "start_time": "2022-04-18T12:52:29.476Z"
   },
   {
    "duration": 942,
    "start_time": "2022-04-18T12:52:42.816Z"
   },
   {
    "duration": 4,
    "start_time": "2022-04-18T12:53:04.517Z"
   },
   {
    "duration": 4,
    "start_time": "2022-04-18T12:53:19.477Z"
   },
   {
    "duration": 165,
    "start_time": "2022-04-18T12:55:50.366Z"
   },
   {
    "duration": 35,
    "start_time": "2022-04-18T12:56:38.812Z"
   },
   {
    "duration": 34,
    "start_time": "2022-04-18T13:01:24.569Z"
   },
   {
    "duration": 25,
    "start_time": "2022-04-18T13:01:45.909Z"
   },
   {
    "duration": 140,
    "start_time": "2022-04-18T13:05:58.929Z"
   },
   {
    "duration": 139,
    "start_time": "2022-04-18T13:06:04.909Z"
   },
   {
    "duration": 37,
    "start_time": "2022-04-18T13:06:18.849Z"
   },
   {
    "duration": 28,
    "start_time": "2022-04-18T13:06:25.589Z"
   },
   {
    "duration": 28,
    "start_time": "2022-04-18T13:06:31.729Z"
   },
   {
    "duration": 25,
    "start_time": "2022-04-18T13:06:41.829Z"
   },
   {
    "duration": 27,
    "start_time": "2022-04-18T13:07:01.670Z"
   },
   {
    "duration": 5,
    "start_time": "2022-04-18T13:07:06.949Z"
   },
   {
    "duration": 24,
    "start_time": "2022-04-18T13:07:08.249Z"
   },
   {
    "duration": 7,
    "start_time": "2022-04-18T13:07:20.089Z"
   },
   {
    "duration": 6,
    "start_time": "2022-04-18T13:07:26.469Z"
   },
   {
    "duration": 9,
    "start_time": "2022-04-18T13:07:38.847Z"
   },
   {
    "duration": 5,
    "start_time": "2022-04-18T13:07:54.221Z"
   },
   {
    "duration": 747,
    "start_time": "2022-04-18T13:07:54.229Z"
   },
   {
    "duration": 119,
    "start_time": "2022-04-18T13:07:54.978Z"
   },
   {
    "duration": 4,
    "start_time": "2022-04-18T13:07:55.099Z"
   },
   {
    "duration": 55,
    "start_time": "2022-04-18T13:07:55.104Z"
   },
   {
    "duration": 3,
    "start_time": "2022-04-18T13:07:55.161Z"
   },
   {
    "duration": 44,
    "start_time": "2022-04-18T13:07:55.165Z"
   },
   {
    "duration": 22,
    "start_time": "2022-04-18T13:07:55.211Z"
   },
   {
    "duration": 32,
    "start_time": "2022-04-18T13:07:55.237Z"
   },
   {
    "duration": 17,
    "start_time": "2022-04-18T13:07:55.270Z"
   },
   {
    "duration": 46,
    "start_time": "2022-04-18T13:07:55.288Z"
   },
   {
    "duration": 8,
    "start_time": "2022-04-18T13:07:55.336Z"
   },
   {
    "duration": 11,
    "start_time": "2022-04-18T13:07:55.346Z"
   },
   {
    "duration": 30,
    "start_time": "2022-04-18T13:07:55.359Z"
   },
   {
    "duration": 8,
    "start_time": "2022-04-18T13:07:55.391Z"
   },
   {
    "duration": 250,
    "start_time": "2022-04-18T13:07:55.400Z"
   },
   {
    "duration": 2,
    "start_time": "2022-04-18T13:07:55.652Z"
   },
   {
    "duration": 17,
    "start_time": "2022-04-18T13:07:55.656Z"
   },
   {
    "duration": 586,
    "start_time": "2022-04-18T13:07:55.675Z"
   },
   {
    "duration": 3,
    "start_time": "2022-04-18T13:07:56.264Z"
   },
   {
    "duration": 6,
    "start_time": "2022-04-18T13:07:56.269Z"
   },
   {
    "duration": 44,
    "start_time": "2022-04-18T13:07:56.277Z"
   },
   {
    "duration": 34,
    "start_time": "2022-04-18T13:07:56.323Z"
   },
   {
    "duration": 351,
    "start_time": "2022-04-18T13:07:56.362Z"
   },
   {
    "duration": 2,
    "start_time": "2022-04-18T13:07:56.715Z"
   },
   {
    "duration": 37,
    "start_time": "2022-04-18T13:07:56.719Z"
   },
   {
    "duration": 7,
    "start_time": "2022-04-18T13:07:56.758Z"
   },
   {
    "duration": 311,
    "start_time": "2022-04-18T13:07:56.767Z"
   },
   {
    "duration": 3,
    "start_time": "2022-04-18T13:07:57.080Z"
   },
   {
    "duration": 7,
    "start_time": "2022-04-18T13:07:57.084Z"
   },
   {
    "duration": 18,
    "start_time": "2022-04-18T13:07:57.093Z"
   },
   {
    "duration": 196,
    "start_time": "2022-04-18T13:07:57.113Z"
   },
   {
    "duration": 185,
    "start_time": "2022-04-18T13:07:57.311Z"
   },
   {
    "duration": 3,
    "start_time": "2022-04-18T13:07:57.498Z"
   },
   {
    "duration": 853,
    "start_time": "2022-04-18T13:07:57.503Z"
   },
   {
    "duration": 864,
    "start_time": "2022-04-18T13:07:58.358Z"
   },
   {
    "duration": 13,
    "start_time": "2022-04-18T13:07:59.224Z"
   },
   {
    "duration": 14,
    "start_time": "2022-04-18T13:07:59.239Z"
   },
   {
    "duration": 4,
    "start_time": "2022-04-18T13:07:59.255Z"
   },
   {
    "duration": 12,
    "start_time": "2022-04-18T13:07:59.261Z"
   },
   {
    "duration": 7,
    "start_time": "2022-04-18T13:07:59.274Z"
   },
   {
    "duration": 10,
    "start_time": "2022-04-18T13:07:59.283Z"
   },
   {
    "duration": 63,
    "start_time": "2022-04-18T13:07:59.296Z"
   },
   {
    "duration": 2,
    "start_time": "2022-04-18T13:07:59.361Z"
   },
   {
    "duration": 6,
    "start_time": "2022-04-18T13:07:59.365Z"
   },
   {
    "duration": 36,
    "start_time": "2022-04-18T13:07:59.373Z"
   },
   {
    "duration": 325,
    "start_time": "2022-04-18T13:07:59.411Z"
   },
   {
    "duration": 391,
    "start_time": "2022-04-18T13:07:59.738Z"
   },
   {
    "duration": 230,
    "start_time": "2022-04-18T13:08:00.134Z"
   },
   {
    "duration": 3,
    "start_time": "2022-04-18T13:08:00.367Z"
   },
   {
    "duration": 580,
    "start_time": "2022-04-18T13:08:00.372Z"
   },
   {
    "duration": 3,
    "start_time": "2022-04-18T13:08:00.954Z"
   },
   {
    "duration": 598,
    "start_time": "2022-04-18T13:08:00.959Z"
   },
   {
    "duration": 3,
    "start_time": "2022-04-18T13:08:01.559Z"
   },
   {
    "duration": 28,
    "start_time": "2022-04-18T13:08:01.564Z"
   },
   {
    "duration": 3,
    "start_time": "2022-04-18T13:08:01.594Z"
   },
   {
    "duration": 11,
    "start_time": "2022-04-18T13:08:01.599Z"
   },
   {
    "duration": 21,
    "start_time": "2022-04-18T13:08:01.613Z"
   },
   {
    "duration": 512,
    "start_time": "2022-04-18T13:08:01.636Z"
   },
   {
    "duration": 3,
    "start_time": "2022-04-18T13:08:02.150Z"
   },
   {
    "duration": 7,
    "start_time": "2022-04-18T13:08:02.155Z"
   },
   {
    "duration": 17,
    "start_time": "2022-04-18T13:08:02.164Z"
   },
   {
    "duration": 3,
    "start_time": "2022-04-18T13:08:02.183Z"
   },
   {
    "duration": 5,
    "start_time": "2022-04-18T13:08:02.189Z"
   },
   {
    "duration": 9,
    "start_time": "2022-04-18T13:08:02.196Z"
   },
   {
    "duration": 43,
    "start_time": "2022-04-18T13:10:09.276Z"
   },
   {
    "duration": 2,
    "start_time": "2022-04-18T13:11:38.637Z"
   },
   {
    "duration": 30,
    "start_time": "2022-04-18T13:11:48.081Z"
   },
   {
    "duration": 297,
    "start_time": "2022-04-18T13:12:08.309Z"
   },
   {
    "duration": 326,
    "start_time": "2022-04-18T13:12:19.229Z"
   },
   {
    "duration": 230,
    "start_time": "2022-04-18T13:12:39.193Z"
   },
   {
    "duration": 517,
    "start_time": "2022-04-18T13:19:18.668Z"
   },
   {
    "duration": 564,
    "start_time": "2022-04-18T13:21:42.028Z"
   },
   {
    "duration": 43,
    "start_time": "2022-04-18T13:24:14.087Z"
   },
   {
    "duration": 36,
    "start_time": "2022-04-18T13:35:15.451Z"
   },
   {
    "duration": 21,
    "start_time": "2022-04-18T13:37:41.775Z"
   },
   {
    "duration": 23,
    "start_time": "2022-04-18T13:38:15.972Z"
   },
   {
    "duration": 654,
    "start_time": "2022-04-18T13:38:32.192Z"
   },
   {
    "duration": 4,
    "start_time": "2022-04-18T13:38:40.362Z"
   },
   {
    "duration": 738,
    "start_time": "2022-04-18T13:38:40.368Z"
   },
   {
    "duration": 117,
    "start_time": "2022-04-18T13:38:41.108Z"
   },
   {
    "duration": 3,
    "start_time": "2022-04-18T13:38:41.227Z"
   },
   {
    "duration": 46,
    "start_time": "2022-04-18T13:38:41.233Z"
   },
   {
    "duration": 3,
    "start_time": "2022-04-18T13:38:41.281Z"
   },
   {
    "duration": 63,
    "start_time": "2022-04-18T13:38:41.286Z"
   },
   {
    "duration": 3,
    "start_time": "2022-04-18T13:38:41.351Z"
   },
   {
    "duration": 33,
    "start_time": "2022-04-18T13:38:41.356Z"
   },
   {
    "duration": 16,
    "start_time": "2022-04-18T13:38:41.391Z"
   },
   {
    "duration": 13,
    "start_time": "2022-04-18T13:38:41.436Z"
   },
   {
    "duration": 11,
    "start_time": "2022-04-18T13:38:41.451Z"
   },
   {
    "duration": 6,
    "start_time": "2022-04-18T13:38:41.464Z"
   },
   {
    "duration": 25,
    "start_time": "2022-04-18T13:38:41.472Z"
   },
   {
    "duration": 35,
    "start_time": "2022-04-18T13:38:41.499Z"
   },
   {
    "duration": 231,
    "start_time": "2022-04-18T13:38:41.536Z"
   },
   {
    "duration": 2,
    "start_time": "2022-04-18T13:38:41.770Z"
   },
   {
    "duration": 17,
    "start_time": "2022-04-18T13:38:41.774Z"
   },
   {
    "duration": 565,
    "start_time": "2022-04-18T13:38:41.792Z"
   },
   {
    "duration": 3,
    "start_time": "2022-04-18T13:38:42.359Z"
   },
   {
    "duration": 5,
    "start_time": "2022-04-18T13:38:42.363Z"
   },
   {
    "duration": 40,
    "start_time": "2022-04-18T13:38:42.370Z"
   },
   {
    "duration": 44,
    "start_time": "2022-04-18T13:38:42.412Z"
   },
   {
    "duration": 351,
    "start_time": "2022-04-18T13:38:42.457Z"
   },
   {
    "duration": 3,
    "start_time": "2022-04-18T13:38:42.810Z"
   },
   {
    "duration": 33,
    "start_time": "2022-04-18T13:38:42.814Z"
   },
   {
    "duration": 5,
    "start_time": "2022-04-18T13:38:42.849Z"
   },
   {
    "duration": 310,
    "start_time": "2022-04-18T13:38:42.856Z"
   },
   {
    "duration": 3,
    "start_time": "2022-04-18T13:38:43.170Z"
   },
   {
    "duration": 6,
    "start_time": "2022-04-18T13:38:43.175Z"
   },
   {
    "duration": 14,
    "start_time": "2022-04-18T13:38:43.183Z"
   },
   {
    "duration": 201,
    "start_time": "2022-04-18T13:38:43.199Z"
   },
   {
    "duration": 201,
    "start_time": "2022-04-18T13:38:43.402Z"
   },
   {
    "duration": 3,
    "start_time": "2022-04-18T13:38:43.605Z"
   },
   {
    "duration": 865,
    "start_time": "2022-04-18T13:38:43.609Z"
   },
   {
    "duration": 873,
    "start_time": "2022-04-18T13:38:44.476Z"
   },
   {
    "duration": 9,
    "start_time": "2022-04-18T13:38:45.350Z"
   },
   {
    "duration": 15,
    "start_time": "2022-04-18T13:38:45.360Z"
   },
   {
    "duration": 16,
    "start_time": "2022-04-18T13:38:45.376Z"
   },
   {
    "duration": 16,
    "start_time": "2022-04-18T13:38:45.393Z"
   },
   {
    "duration": 10,
    "start_time": "2022-04-18T13:38:45.411Z"
   },
   {
    "duration": 11,
    "start_time": "2022-04-18T13:38:45.423Z"
   },
   {
    "duration": 9,
    "start_time": "2022-04-18T13:38:45.436Z"
   },
   {
    "duration": 42,
    "start_time": "2022-04-18T13:38:45.447Z"
   },
   {
    "duration": 3,
    "start_time": "2022-04-18T13:38:45.490Z"
   },
   {
    "duration": 8,
    "start_time": "2022-04-18T13:38:45.494Z"
   },
   {
    "duration": 53,
    "start_time": "2022-04-18T13:38:45.504Z"
   },
   {
    "duration": 313,
    "start_time": "2022-04-18T13:38:45.559Z"
   },
   {
    "duration": 405,
    "start_time": "2022-04-18T13:38:45.874Z"
   },
   {
    "duration": 241,
    "start_time": "2022-04-18T13:38:46.281Z"
   },
   {
    "duration": 3,
    "start_time": "2022-04-18T13:38:46.524Z"
   },
   {
    "duration": 551,
    "start_time": "2022-04-18T13:38:46.532Z"
   },
   {
    "duration": 26,
    "start_time": "2022-04-18T13:38:47.085Z"
   },
   {
    "duration": 0,
    "start_time": "2022-04-18T13:38:47.113Z"
   },
   {
    "duration": 0,
    "start_time": "2022-04-18T13:38:47.114Z"
   },
   {
    "duration": 0,
    "start_time": "2022-04-18T13:38:47.133Z"
   },
   {
    "duration": 0,
    "start_time": "2022-04-18T13:38:47.134Z"
   },
   {
    "duration": 0,
    "start_time": "2022-04-18T13:38:47.136Z"
   },
   {
    "duration": 0,
    "start_time": "2022-04-18T13:38:47.137Z"
   },
   {
    "duration": 0,
    "start_time": "2022-04-18T13:38:47.138Z"
   },
   {
    "duration": 0,
    "start_time": "2022-04-18T13:38:47.139Z"
   },
   {
    "duration": 0,
    "start_time": "2022-04-18T13:38:47.141Z"
   },
   {
    "duration": 0,
    "start_time": "2022-04-18T13:38:47.142Z"
   },
   {
    "duration": 0,
    "start_time": "2022-04-18T13:38:47.143Z"
   },
   {
    "duration": 0,
    "start_time": "2022-04-18T13:38:47.145Z"
   },
   {
    "duration": 0,
    "start_time": "2022-04-18T13:38:47.146Z"
   },
   {
    "duration": 20,
    "start_time": "2022-04-18T13:39:47.512Z"
   },
   {
    "duration": 26,
    "start_time": "2022-04-18T13:40:01.912Z"
   },
   {
    "duration": 20,
    "start_time": "2022-04-18T13:40:48.152Z"
   },
   {
    "duration": 6,
    "start_time": "2022-04-18T13:41:10.758Z"
   },
   {
    "duration": 26,
    "start_time": "2022-04-18T13:41:20.108Z"
   },
   {
    "duration": 9,
    "start_time": "2022-04-18T13:42:14.882Z"
   },
   {
    "duration": 20,
    "start_time": "2022-04-18T13:42:26.612Z"
   },
   {
    "duration": 455,
    "start_time": "2022-04-18T13:43:00.292Z"
   },
   {
    "duration": 167,
    "start_time": "2022-04-18T13:44:10.868Z"
   },
   {
    "duration": 21,
    "start_time": "2022-04-18T13:44:17.547Z"
   },
   {
    "duration": 23,
    "start_time": "2022-04-18T13:44:36.021Z"
   },
   {
    "duration": 22,
    "start_time": "2022-04-18T13:44:42.053Z"
   },
   {
    "duration": 22,
    "start_time": "2022-04-18T13:45:15.747Z"
   },
   {
    "duration": 25,
    "start_time": "2022-04-18T13:45:23.048Z"
   },
   {
    "duration": 22,
    "start_time": "2022-04-18T13:46:01.008Z"
   },
   {
    "duration": 20,
    "start_time": "2022-04-18T13:47:09.600Z"
   },
   {
    "duration": 23,
    "start_time": "2022-04-18T13:48:24.428Z"
   },
   {
    "duration": 21,
    "start_time": "2022-04-18T13:48:38.428Z"
   },
   {
    "duration": 21,
    "start_time": "2022-04-18T13:48:50.368Z"
   },
   {
    "duration": 10,
    "start_time": "2022-04-18T13:49:35.348Z"
   },
   {
    "duration": 708,
    "start_time": "2022-04-18T13:49:41.288Z"
   },
   {
    "duration": 2,
    "start_time": "2022-04-18T13:50:58.362Z"
   },
   {
    "duration": 27,
    "start_time": "2022-04-18T13:51:16.250Z"
   },
   {
    "duration": 594,
    "start_time": "2022-04-18T13:51:40.051Z"
   },
   {
    "duration": 572,
    "start_time": "2022-04-18T13:51:50.691Z"
   },
   {
    "duration": 22,
    "start_time": "2022-04-18T13:52:22.395Z"
   },
   {
    "duration": 19,
    "start_time": "2022-04-18T13:52:51.402Z"
   },
   {
    "duration": 682,
    "start_time": "2022-04-18T13:52:56.851Z"
   },
   {
    "duration": 15,
    "start_time": "2022-04-18T13:56:56.146Z"
   },
   {
    "duration": 15,
    "start_time": "2022-04-18T14:03:12.092Z"
   },
   {
    "duration": 15,
    "start_time": "2022-04-18T14:05:19.932Z"
   },
   {
    "duration": 139,
    "start_time": "2022-04-18T14:10:57.450Z"
   },
   {
    "duration": 136,
    "start_time": "2022-04-18T14:11:07.290Z"
   },
   {
    "duration": 121,
    "start_time": "2022-04-18T14:11:20.600Z"
   },
   {
    "duration": 1151,
    "start_time": "2022-04-18T14:11:56.956Z"
   },
   {
    "duration": 139,
    "start_time": "2022-04-18T14:12:40.450Z"
   },
   {
    "duration": 24,
    "start_time": "2022-04-18T15:06:53.330Z"
   },
   {
    "duration": 13,
    "start_time": "2022-04-18T15:07:34.508Z"
   },
   {
    "duration": 13,
    "start_time": "2022-04-18T15:07:40.676Z"
   },
   {
    "duration": 13,
    "start_time": "2022-04-18T15:07:45.708Z"
   },
   {
    "duration": 19,
    "start_time": "2022-04-18T15:07:52.028Z"
   },
   {
    "duration": 13,
    "start_time": "2022-04-18T15:07:55.287Z"
   },
   {
    "duration": 15,
    "start_time": "2022-04-18T15:07:57.824Z"
   },
   {
    "duration": 14,
    "start_time": "2022-04-18T15:31:34.669Z"
   },
   {
    "duration": 16,
    "start_time": "2022-04-18T15:31:48.628Z"
   },
   {
    "duration": 10,
    "start_time": "2022-04-18T15:43:32.189Z"
   },
   {
    "duration": 9,
    "start_time": "2022-04-18T15:43:36.808Z"
   },
   {
    "duration": 8,
    "start_time": "2022-04-18T15:43:51.197Z"
   },
   {
    "duration": 4,
    "start_time": "2022-04-18T15:45:06.302Z"
   },
   {
    "duration": 744,
    "start_time": "2022-04-18T15:45:06.313Z"
   },
   {
    "duration": 137,
    "start_time": "2022-04-18T15:45:07.059Z"
   },
   {
    "duration": 3,
    "start_time": "2022-04-18T15:45:07.198Z"
   },
   {
    "duration": 55,
    "start_time": "2022-04-18T15:45:07.203Z"
   },
   {
    "duration": 3,
    "start_time": "2022-04-18T15:45:07.260Z"
   },
   {
    "duration": 44,
    "start_time": "2022-04-18T15:45:07.264Z"
   },
   {
    "duration": 27,
    "start_time": "2022-04-18T15:45:07.309Z"
   },
   {
    "duration": 40,
    "start_time": "2022-04-18T15:45:07.339Z"
   },
   {
    "duration": 15,
    "start_time": "2022-04-18T15:45:07.380Z"
   },
   {
    "duration": 11,
    "start_time": "2022-04-18T15:45:07.397Z"
   },
   {
    "duration": 32,
    "start_time": "2022-04-18T15:45:07.410Z"
   },
   {
    "duration": 14,
    "start_time": "2022-04-18T15:45:07.444Z"
   },
   {
    "duration": 25,
    "start_time": "2022-04-18T15:45:07.460Z"
   },
   {
    "duration": 4,
    "start_time": "2022-04-18T15:45:07.489Z"
   },
   {
    "duration": 249,
    "start_time": "2022-04-18T15:45:07.494Z"
   },
   {
    "duration": 2,
    "start_time": "2022-04-18T15:45:07.746Z"
   },
   {
    "duration": 17,
    "start_time": "2022-04-18T15:45:07.750Z"
   },
   {
    "duration": 561,
    "start_time": "2022-04-18T15:45:07.769Z"
   },
   {
    "duration": 8,
    "start_time": "2022-04-18T15:45:08.332Z"
   },
   {
    "duration": 9,
    "start_time": "2022-04-18T15:45:08.346Z"
   },
   {
    "duration": 42,
    "start_time": "2022-04-18T15:45:08.357Z"
   },
   {
    "duration": 46,
    "start_time": "2022-04-18T15:45:08.400Z"
   },
   {
    "duration": 341,
    "start_time": "2022-04-18T15:45:08.448Z"
   },
   {
    "duration": 3,
    "start_time": "2022-04-18T15:45:08.790Z"
   },
   {
    "duration": 16,
    "start_time": "2022-04-18T15:45:08.795Z"
   },
   {
    "duration": 24,
    "start_time": "2022-04-18T15:45:08.813Z"
   },
   {
    "duration": 317,
    "start_time": "2022-04-18T15:45:08.840Z"
   },
   {
    "duration": 2,
    "start_time": "2022-04-18T15:45:09.160Z"
   },
   {
    "duration": 8,
    "start_time": "2022-04-18T15:45:09.165Z"
   },
   {
    "duration": 13,
    "start_time": "2022-04-18T15:45:09.174Z"
   },
   {
    "duration": 201,
    "start_time": "2022-04-18T15:45:09.189Z"
   },
   {
    "duration": 191,
    "start_time": "2022-04-18T15:45:09.392Z"
   },
   {
    "duration": 3,
    "start_time": "2022-04-18T15:45:09.585Z"
   },
   {
    "duration": 864,
    "start_time": "2022-04-18T15:45:09.590Z"
   },
   {
    "duration": 871,
    "start_time": "2022-04-18T15:45:10.456Z"
   },
   {
    "duration": 10,
    "start_time": "2022-04-18T15:45:11.334Z"
   },
   {
    "duration": 16,
    "start_time": "2022-04-18T15:45:11.346Z"
   },
   {
    "duration": 6,
    "start_time": "2022-04-18T15:45:11.364Z"
   },
   {
    "duration": 6,
    "start_time": "2022-04-18T15:45:11.372Z"
   },
   {
    "duration": 12,
    "start_time": "2022-04-18T15:45:11.379Z"
   },
   {
    "duration": 5,
    "start_time": "2022-04-18T15:45:11.395Z"
   },
   {
    "duration": 39,
    "start_time": "2022-04-18T15:45:11.402Z"
   },
   {
    "duration": 48,
    "start_time": "2022-04-18T15:45:11.443Z"
   },
   {
    "duration": 3,
    "start_time": "2022-04-18T15:45:11.493Z"
   },
   {
    "duration": 6,
    "start_time": "2022-04-18T15:45:11.498Z"
   },
   {
    "duration": 52,
    "start_time": "2022-04-18T15:45:11.505Z"
   },
   {
    "duration": 327,
    "start_time": "2022-04-18T15:45:11.558Z"
   },
   {
    "duration": 413,
    "start_time": "2022-04-18T15:45:11.886Z"
   },
   {
    "duration": 254,
    "start_time": "2022-04-18T15:45:12.301Z"
   },
   {
    "duration": 2,
    "start_time": "2022-04-18T15:45:12.557Z"
   },
   {
    "duration": 547,
    "start_time": "2022-04-18T15:45:12.561Z"
   },
   {
    "duration": 640,
    "start_time": "2022-04-18T15:45:13.110Z"
   },
   {
    "duration": 3,
    "start_time": "2022-04-18T15:45:13.752Z"
   },
   {
    "duration": 19,
    "start_time": "2022-04-18T15:45:13.756Z"
   },
   {
    "duration": 8,
    "start_time": "2022-04-18T15:45:13.777Z"
   },
   {
    "duration": 6,
    "start_time": "2022-04-18T15:45:13.787Z"
   },
   {
    "duration": 8,
    "start_time": "2022-04-18T15:45:13.795Z"
   },
   {
    "duration": 542,
    "start_time": "2022-04-18T15:45:13.805Z"
   },
   {
    "duration": 3,
    "start_time": "2022-04-18T15:45:14.349Z"
   },
   {
    "duration": 6,
    "start_time": "2022-04-18T15:45:14.354Z"
   },
   {
    "duration": 16,
    "start_time": "2022-04-18T15:45:14.362Z"
   },
   {
    "duration": 4,
    "start_time": "2022-04-18T15:45:14.379Z"
   },
   {
    "duration": 6,
    "start_time": "2022-04-18T15:45:14.384Z"
   },
   {
    "duration": 6,
    "start_time": "2022-04-18T15:45:14.391Z"
   },
   {
    "duration": 24,
    "start_time": "2022-04-18T15:46:11.391Z"
   },
   {
    "duration": 17,
    "start_time": "2022-04-18T15:47:17.579Z"
   },
   {
    "duration": 7,
    "start_time": "2022-04-18T15:47:22.419Z"
   },
   {
    "duration": 12,
    "start_time": "2022-04-18T15:47:55.469Z"
   },
   {
    "duration": 27,
    "start_time": "2022-04-18T15:48:02.669Z"
   },
   {
    "duration": 4,
    "start_time": "2022-04-18T15:52:24.669Z"
   },
   {
    "duration": 32,
    "start_time": "2022-04-18T15:52:29.131Z"
   },
   {
    "duration": 15,
    "start_time": "2022-04-18T15:52:44.089Z"
   },
   {
    "duration": 163,
    "start_time": "2022-04-18T15:55:16.809Z"
   },
   {
    "duration": 175,
    "start_time": "2022-04-18T15:55:33.749Z"
   },
   {
    "duration": 15,
    "start_time": "2022-04-18T15:56:03.489Z"
   },
   {
    "duration": 178,
    "start_time": "2022-04-18T15:56:24.609Z"
   },
   {
    "duration": 453,
    "start_time": "2022-04-18T15:57:40.129Z"
   },
   {
    "duration": 184,
    "start_time": "2022-04-18T15:57:58.369Z"
   },
   {
    "duration": 38,
    "start_time": "2022-04-18T15:59:14.349Z"
   },
   {
    "duration": 597,
    "start_time": "2022-04-18T15:59:28.889Z"
   },
   {
    "duration": 700,
    "start_time": "2022-04-18T15:59:46.229Z"
   },
   {
    "duration": 623,
    "start_time": "2022-04-18T15:59:57.649Z"
   },
   {
    "duration": 619,
    "start_time": "2022-04-18T16:02:37.029Z"
   },
   {
    "duration": 23,
    "start_time": "2022-04-18T16:02:42.569Z"
   },
   {
    "duration": 139,
    "start_time": "2022-04-18T16:02:46.029Z"
   },
   {
    "duration": 600,
    "start_time": "2022-04-18T16:02:50.529Z"
   },
   {
    "duration": 595,
    "start_time": "2022-04-18T16:02:58.949Z"
   },
   {
    "duration": 747,
    "start_time": "2022-04-18T16:03:03.369Z"
   },
   {
    "duration": 662,
    "start_time": "2022-04-18T16:03:12.029Z"
   },
   {
    "duration": 15,
    "start_time": "2022-04-18T16:12:28.891Z"
   },
   {
    "duration": 13,
    "start_time": "2022-04-18T16:13:09.249Z"
   },
   {
    "duration": 3,
    "start_time": "2022-04-19T13:06:27.780Z"
   },
   {
    "duration": 936,
    "start_time": "2022-04-19T13:06:27.792Z"
   },
   {
    "duration": 72,
    "start_time": "2022-04-19T13:06:28.730Z"
   },
   {
    "duration": 3,
    "start_time": "2022-04-19T13:06:28.803Z"
   },
   {
    "duration": 44,
    "start_time": "2022-04-19T13:06:28.808Z"
   },
   {
    "duration": 3,
    "start_time": "2022-04-19T13:06:28.854Z"
   },
   {
    "duration": 64,
    "start_time": "2022-04-19T13:06:28.858Z"
   },
   {
    "duration": 3,
    "start_time": "2022-04-19T13:06:28.923Z"
   },
   {
    "duration": 30,
    "start_time": "2022-04-19T13:06:28.928Z"
   },
   {
    "duration": 14,
    "start_time": "2022-04-19T13:06:28.960Z"
   },
   {
    "duration": 42,
    "start_time": "2022-04-19T13:06:28.975Z"
   },
   {
    "duration": 7,
    "start_time": "2022-04-19T13:06:29.019Z"
   },
   {
    "duration": 5,
    "start_time": "2022-04-19T13:06:29.028Z"
   },
   {
    "duration": 25,
    "start_time": "2022-04-19T13:06:29.035Z"
   },
   {
    "duration": 3,
    "start_time": "2022-04-19T13:06:29.064Z"
   },
   {
    "duration": 255,
    "start_time": "2022-04-19T13:06:29.069Z"
   },
   {
    "duration": 3,
    "start_time": "2022-04-19T13:06:29.326Z"
   },
   {
    "duration": 17,
    "start_time": "2022-04-19T13:06:29.330Z"
   },
   {
    "duration": 552,
    "start_time": "2022-04-19T13:06:29.348Z"
   },
   {
    "duration": 3,
    "start_time": "2022-04-19T13:06:29.901Z"
   },
   {
    "duration": 6,
    "start_time": "2022-04-19T13:06:29.905Z"
   },
   {
    "duration": 44,
    "start_time": "2022-04-19T13:06:29.912Z"
   },
   {
    "duration": 31,
    "start_time": "2022-04-19T13:06:29.958Z"
   },
   {
    "duration": 332,
    "start_time": "2022-04-19T13:06:29.991Z"
   },
   {
    "duration": 3,
    "start_time": "2022-04-19T13:06:30.325Z"
   },
   {
    "duration": 19,
    "start_time": "2022-04-19T13:06:30.330Z"
   },
   {
    "duration": 10,
    "start_time": "2022-04-19T13:06:30.350Z"
   },
   {
    "duration": 314,
    "start_time": "2022-04-19T13:06:30.361Z"
   },
   {
    "duration": 3,
    "start_time": "2022-04-19T13:06:30.678Z"
   },
   {
    "duration": 7,
    "start_time": "2022-04-19T13:06:30.683Z"
   },
   {
    "duration": 33,
    "start_time": "2022-04-19T13:06:30.691Z"
   },
   {
    "duration": 171,
    "start_time": "2022-04-19T13:06:30.726Z"
   },
   {
    "duration": 165,
    "start_time": "2022-04-19T13:06:30.899Z"
   },
   {
    "duration": 2,
    "start_time": "2022-04-19T13:06:31.067Z"
   },
   {
    "duration": 788,
    "start_time": "2022-04-19T13:06:31.071Z"
   },
   {
    "duration": 803,
    "start_time": "2022-04-19T13:06:31.860Z"
   },
   {
    "duration": 8,
    "start_time": "2022-04-19T13:06:32.664Z"
   },
   {
    "duration": 9,
    "start_time": "2022-04-19T13:06:32.673Z"
   },
   {
    "duration": 24,
    "start_time": "2022-04-19T13:06:32.684Z"
   },
   {
    "duration": 3,
    "start_time": "2022-04-19T13:06:32.709Z"
   },
   {
    "duration": 7,
    "start_time": "2022-04-19T13:06:32.713Z"
   },
   {
    "duration": 4,
    "start_time": "2022-04-19T13:06:32.724Z"
   },
   {
    "duration": 8,
    "start_time": "2022-04-19T13:06:32.729Z"
   },
   {
    "duration": 74,
    "start_time": "2022-04-19T13:06:32.738Z"
   },
   {
    "duration": 3,
    "start_time": "2022-04-19T13:06:32.814Z"
   },
   {
    "duration": 5,
    "start_time": "2022-04-19T13:06:32.819Z"
   },
   {
    "duration": 33,
    "start_time": "2022-04-19T13:06:32.825Z"
   },
   {
    "duration": 290,
    "start_time": "2022-04-19T13:06:32.860Z"
   },
   {
    "duration": 361,
    "start_time": "2022-04-19T13:06:33.151Z"
   },
   {
    "duration": 217,
    "start_time": "2022-04-19T13:06:33.513Z"
   },
   {
    "duration": 3,
    "start_time": "2022-04-19T13:06:33.732Z"
   },
   {
    "duration": 471,
    "start_time": "2022-04-19T13:06:33.736Z"
   },
   {
    "duration": 555,
    "start_time": "2022-04-19T13:06:34.209Z"
   },
   {
    "duration": 3,
    "start_time": "2022-04-19T13:06:34.765Z"
   },
   {
    "duration": 13,
    "start_time": "2022-04-19T13:06:34.769Z"
   },
   {
    "duration": 32,
    "start_time": "2022-04-19T13:06:34.784Z"
   },
   {
    "duration": 583,
    "start_time": "2022-04-19T13:06:34.818Z"
   },
   {
    "duration": 2,
    "start_time": "2022-04-19T13:06:35.407Z"
   },
   {
    "duration": 6,
    "start_time": "2022-04-19T13:06:35.411Z"
   },
   {
    "duration": 499,
    "start_time": "2022-04-19T13:06:35.419Z"
   },
   {
    "duration": 12,
    "start_time": "2022-04-19T13:06:35.919Z"
   },
   {
    "duration": 2,
    "start_time": "2022-04-19T13:06:35.933Z"
   },
   {
    "duration": 13,
    "start_time": "2022-04-19T13:18:55.795Z"
   },
   {
    "duration": 14,
    "start_time": "2022-04-19T13:22:02.565Z"
   },
   {
    "duration": 7,
    "start_time": "2022-04-19T13:24:20.240Z"
   },
   {
    "duration": 13,
    "start_time": "2022-04-19T13:24:25.003Z"
   },
   {
    "duration": 4,
    "start_time": "2022-04-19T13:24:39.885Z"
   },
   {
    "duration": 14,
    "start_time": "2022-04-19T13:24:41.392Z"
   },
   {
    "duration": 4,
    "start_time": "2022-04-19T13:25:23.523Z"
   },
   {
    "duration": 648,
    "start_time": "2022-04-19T13:25:23.533Z"
   },
   {
    "duration": 76,
    "start_time": "2022-04-19T13:25:24.183Z"
   },
   {
    "duration": 3,
    "start_time": "2022-04-19T13:25:24.261Z"
   },
   {
    "duration": 45,
    "start_time": "2022-04-19T13:25:24.266Z"
   },
   {
    "duration": 3,
    "start_time": "2022-04-19T13:25:24.313Z"
   },
   {
    "duration": 39,
    "start_time": "2022-04-19T13:25:24.317Z"
   },
   {
    "duration": 3,
    "start_time": "2022-04-19T13:25:24.357Z"
   },
   {
    "duration": 47,
    "start_time": "2022-04-19T13:25:24.362Z"
   },
   {
    "duration": 14,
    "start_time": "2022-04-19T13:25:24.412Z"
   },
   {
    "duration": 11,
    "start_time": "2022-04-19T13:25:24.428Z"
   },
   {
    "duration": 7,
    "start_time": "2022-04-19T13:25:24.440Z"
   },
   {
    "duration": 6,
    "start_time": "2022-04-19T13:25:24.449Z"
   },
   {
    "duration": 15,
    "start_time": "2022-04-19T13:25:24.456Z"
   },
   {
    "duration": 54,
    "start_time": "2022-04-19T13:25:24.475Z"
   },
   {
    "duration": 2,
    "start_time": "2022-04-19T13:25:24.531Z"
   },
   {
    "duration": 221,
    "start_time": "2022-04-19T13:25:24.534Z"
   },
   {
    "duration": 3,
    "start_time": "2022-04-19T13:25:24.756Z"
   },
   {
    "duration": 17,
    "start_time": "2022-04-19T13:25:24.761Z"
   },
   {
    "duration": 516,
    "start_time": "2022-04-19T13:25:24.779Z"
   },
   {
    "duration": 3,
    "start_time": "2022-04-19T13:25:25.297Z"
   },
   {
    "duration": 5,
    "start_time": "2022-04-19T13:25:25.302Z"
   },
   {
    "duration": 40,
    "start_time": "2022-04-19T13:25:25.309Z"
   },
   {
    "duration": 32,
    "start_time": "2022-04-19T13:25:25.351Z"
   },
   {
    "duration": 315,
    "start_time": "2022-04-19T13:25:25.385Z"
   },
   {
    "duration": 3,
    "start_time": "2022-04-19T13:25:25.706Z"
   },
   {
    "duration": 16,
    "start_time": "2022-04-19T13:25:25.711Z"
   },
   {
    "duration": 6,
    "start_time": "2022-04-19T13:25:25.730Z"
   },
   {
    "duration": 298,
    "start_time": "2022-04-19T13:25:25.737Z"
   },
   {
    "duration": 3,
    "start_time": "2022-04-19T13:25:26.037Z"
   },
   {
    "duration": 6,
    "start_time": "2022-04-19T13:25:26.041Z"
   },
   {
    "duration": 11,
    "start_time": "2022-04-19T13:25:26.048Z"
   },
   {
    "duration": 182,
    "start_time": "2022-04-19T13:25:26.061Z"
   },
   {
    "duration": 176,
    "start_time": "2022-04-19T13:25:26.245Z"
   },
   {
    "duration": 2,
    "start_time": "2022-04-19T13:25:26.423Z"
   },
   {
    "duration": 783,
    "start_time": "2022-04-19T13:25:26.426Z"
   },
   {
    "duration": 813,
    "start_time": "2022-04-19T13:25:27.210Z"
   },
   {
    "duration": 8,
    "start_time": "2022-04-19T13:25:28.024Z"
   },
   {
    "duration": 9,
    "start_time": "2022-04-19T13:25:28.033Z"
   },
   {
    "duration": 10,
    "start_time": "2022-04-19T13:25:28.044Z"
   },
   {
    "duration": 5,
    "start_time": "2022-04-19T13:25:28.055Z"
   },
   {
    "duration": 7,
    "start_time": "2022-04-19T13:25:28.064Z"
   },
   {
    "duration": 4,
    "start_time": "2022-04-19T13:25:28.073Z"
   },
   {
    "duration": 34,
    "start_time": "2022-04-19T13:25:28.079Z"
   },
   {
    "duration": 45,
    "start_time": "2022-04-19T13:25:28.114Z"
   },
   {
    "duration": 2,
    "start_time": "2022-04-19T13:25:28.161Z"
   },
   {
    "duration": 9,
    "start_time": "2022-04-19T13:25:28.165Z"
   },
   {
    "duration": 45,
    "start_time": "2022-04-19T13:25:28.175Z"
   },
   {
    "duration": 303,
    "start_time": "2022-04-19T13:25:28.221Z"
   },
   {
    "duration": 369,
    "start_time": "2022-04-19T13:25:28.525Z"
   },
   {
    "duration": 230,
    "start_time": "2022-04-19T13:25:28.896Z"
   },
   {
    "duration": 3,
    "start_time": "2022-04-19T13:25:29.127Z"
   },
   {
    "duration": 495,
    "start_time": "2022-04-19T13:25:29.131Z"
   },
   {
    "duration": 597,
    "start_time": "2022-04-19T13:25:29.628Z"
   },
   {
    "duration": 2,
    "start_time": "2022-04-19T13:25:30.227Z"
   },
   {
    "duration": 26,
    "start_time": "2022-04-19T13:25:30.230Z"
   },
   {
    "duration": 17,
    "start_time": "2022-04-19T13:25:30.257Z"
   },
   {
    "duration": 849,
    "start_time": "2022-04-19T13:25:30.276Z"
   },
   {
    "duration": 2,
    "start_time": "2022-04-19T13:25:31.127Z"
   },
   {
    "duration": 13,
    "start_time": "2022-04-19T13:25:31.131Z"
   },
   {
    "duration": 905,
    "start_time": "2022-04-19T13:25:31.145Z"
   },
   {
    "duration": 65,
    "start_time": "2022-04-19T13:25:32.051Z"
   },
   {
    "duration": 3,
    "start_time": "2022-04-19T13:25:32.118Z"
   },
   {
    "duration": 6,
    "start_time": "2022-04-19T13:28:50.819Z"
   },
   {
    "duration": 7,
    "start_time": "2022-04-19T13:29:05.889Z"
   },
   {
    "duration": 8,
    "start_time": "2022-04-19T13:29:47.214Z"
   },
   {
    "duration": 9,
    "start_time": "2022-04-19T13:29:52.888Z"
   },
   {
    "duration": 8,
    "start_time": "2022-04-19T13:30:02.848Z"
   },
   {
    "duration": 10,
    "start_time": "2022-04-19T13:35:12.950Z"
   },
   {
    "duration": 10,
    "start_time": "2022-04-19T13:38:12.141Z"
   },
   {
    "duration": 5,
    "start_time": "2022-04-19T13:38:22.848Z"
   },
   {
    "duration": 4,
    "start_time": "2022-04-19T13:38:38.872Z"
   },
   {
    "duration": 4,
    "start_time": "2022-04-19T13:38:41.805Z"
   },
   {
    "duration": 6,
    "start_time": "2022-04-19T13:39:02.453Z"
   },
   {
    "duration": 9,
    "start_time": "2022-04-19T13:39:09.236Z"
   },
   {
    "duration": 34,
    "start_time": "2022-04-19T13:39:25.246Z"
   },
   {
    "duration": 5,
    "start_time": "2022-04-19T13:39:31.701Z"
   },
   {
    "duration": 9,
    "start_time": "2022-04-19T13:39:39.176Z"
   },
   {
    "duration": 13,
    "start_time": "2022-04-19T13:46:28.733Z"
   },
   {
    "duration": 12,
    "start_time": "2022-04-19T13:46:49.010Z"
   },
   {
    "duration": 7,
    "start_time": "2022-04-19T13:47:13.866Z"
   },
   {
    "duration": 13,
    "start_time": "2022-04-19T13:47:23.473Z"
   },
   {
    "duration": 11,
    "start_time": "2022-04-19T13:47:54.958Z"
   },
   {
    "duration": 3,
    "start_time": "2022-04-19T13:54:06.999Z"
   },
   {
    "duration": 146,
    "start_time": "2022-04-19T14:06:57.860Z"
   },
   {
    "duration": 162,
    "start_time": "2022-04-19T14:07:09.577Z"
   },
   {
    "duration": 665,
    "start_time": "2022-04-19T14:07:17.014Z"
   },
   {
    "duration": 12,
    "start_time": "2022-04-19T14:11:35.078Z"
   },
   {
    "duration": 11,
    "start_time": "2022-04-19T14:27:56.256Z"
   },
   {
    "duration": 60,
    "start_time": "2022-04-19T14:36:11.074Z"
   },
   {
    "duration": 136,
    "start_time": "2022-04-19T18:06:43.887Z"
   },
   {
    "duration": 145,
    "start_time": "2022-04-19T18:13:48.013Z"
   },
   {
    "duration": 3,
    "start_time": "2022-04-19T18:13:56.964Z"
   },
   {
    "duration": 5,
    "start_time": "2022-04-19T18:14:03.268Z"
   },
   {
    "duration": 898,
    "start_time": "2022-04-19T18:14:03.277Z"
   },
   {
    "duration": 132,
    "start_time": "2022-04-19T18:14:04.177Z"
   },
   {
    "duration": 3,
    "start_time": "2022-04-19T18:14:04.311Z"
   },
   {
    "duration": 50,
    "start_time": "2022-04-19T18:14:04.316Z"
   },
   {
    "duration": 2,
    "start_time": "2022-04-19T18:14:04.368Z"
   },
   {
    "duration": 41,
    "start_time": "2022-04-19T18:14:04.372Z"
   },
   {
    "duration": 32,
    "start_time": "2022-04-19T18:14:04.414Z"
   },
   {
    "duration": 3,
    "start_time": "2022-04-19T18:14:04.448Z"
   },
   {
    "duration": 46,
    "start_time": "2022-04-19T18:14:04.453Z"
   },
   {
    "duration": 31,
    "start_time": "2022-04-19T18:14:04.503Z"
   },
   {
    "duration": 12,
    "start_time": "2022-04-19T18:14:04.536Z"
   },
   {
    "duration": 17,
    "start_time": "2022-04-19T18:14:04.550Z"
   },
   {
    "duration": 14,
    "start_time": "2022-04-19T18:14:04.569Z"
   },
   {
    "duration": 26,
    "start_time": "2022-04-19T18:14:04.585Z"
   },
   {
    "duration": 32,
    "start_time": "2022-04-19T18:14:04.613Z"
   },
   {
    "duration": 6,
    "start_time": "2022-04-19T18:14:04.647Z"
   },
   {
    "duration": 244,
    "start_time": "2022-04-19T18:14:04.655Z"
   },
   {
    "duration": 3,
    "start_time": "2022-04-19T18:14:04.901Z"
   },
   {
    "duration": 28,
    "start_time": "2022-04-19T18:14:04.906Z"
   },
   {
    "duration": 584,
    "start_time": "2022-04-19T18:14:04.936Z"
   },
   {
    "duration": 13,
    "start_time": "2022-04-19T18:14:05.522Z"
   },
   {
    "duration": 7,
    "start_time": "2022-04-19T18:14:05.537Z"
   },
   {
    "duration": 6,
    "start_time": "2022-04-19T18:14:05.546Z"
   },
   {
    "duration": 43,
    "start_time": "2022-04-19T18:14:05.554Z"
   },
   {
    "duration": 47,
    "start_time": "2022-04-19T18:14:05.599Z"
   },
   {
    "duration": 351,
    "start_time": "2022-04-19T18:14:05.648Z"
   },
   {
    "duration": 4,
    "start_time": "2022-04-19T18:14:06.001Z"
   },
   {
    "duration": 36,
    "start_time": "2022-04-19T18:14:06.011Z"
   },
   {
    "duration": 7,
    "start_time": "2022-04-19T18:14:06.050Z"
   },
   {
    "duration": 331,
    "start_time": "2022-04-19T18:14:06.059Z"
   },
   {
    "duration": 2,
    "start_time": "2022-04-19T18:14:06.392Z"
   },
   {
    "duration": 11,
    "start_time": "2022-04-19T18:14:06.396Z"
   },
   {
    "duration": 19,
    "start_time": "2022-04-19T18:14:06.409Z"
   },
   {
    "duration": 182,
    "start_time": "2022-04-19T18:14:06.433Z"
   },
   {
    "duration": 190,
    "start_time": "2022-04-19T18:14:06.617Z"
   },
   {
    "duration": 3,
    "start_time": "2022-04-19T18:14:06.809Z"
   },
   {
    "duration": 881,
    "start_time": "2022-04-19T18:14:06.814Z"
   },
   {
    "duration": 922,
    "start_time": "2022-04-19T18:14:07.697Z"
   },
   {
    "duration": 14,
    "start_time": "2022-04-19T18:14:08.621Z"
   },
   {
    "duration": 14,
    "start_time": "2022-04-19T18:14:08.639Z"
   },
   {
    "duration": 6,
    "start_time": "2022-04-19T18:14:08.655Z"
   },
   {
    "duration": 14,
    "start_time": "2022-04-19T18:14:08.662Z"
   },
   {
    "duration": 9,
    "start_time": "2022-04-19T18:14:08.677Z"
   },
   {
    "duration": 14,
    "start_time": "2022-04-19T18:14:08.688Z"
   },
   {
    "duration": 21,
    "start_time": "2022-04-19T18:14:08.704Z"
   },
   {
    "duration": 14,
    "start_time": "2022-04-19T18:14:08.727Z"
   },
   {
    "duration": 49,
    "start_time": "2022-04-19T18:14:08.744Z"
   },
   {
    "duration": 3,
    "start_time": "2022-04-19T18:14:08.795Z"
   },
   {
    "duration": 5,
    "start_time": "2022-04-19T18:14:08.800Z"
   },
   {
    "duration": 56,
    "start_time": "2022-04-19T18:14:08.807Z"
   },
   {
    "duration": 349,
    "start_time": "2022-04-19T18:14:08.865Z"
   },
   {
    "duration": 444,
    "start_time": "2022-04-19T18:14:09.216Z"
   },
   {
    "duration": 251,
    "start_time": "2022-04-19T18:14:09.662Z"
   },
   {
    "duration": 2,
    "start_time": "2022-04-19T18:14:09.915Z"
   },
   {
    "duration": 562,
    "start_time": "2022-04-19T18:14:09.919Z"
   },
   {
    "duration": 680,
    "start_time": "2022-04-19T18:14:10.483Z"
   },
   {
    "duration": 2,
    "start_time": "2022-04-19T18:14:11.165Z"
   },
   {
    "duration": 16,
    "start_time": "2022-04-19T18:14:11.169Z"
   },
   {
    "duration": 15,
    "start_time": "2022-04-19T18:14:11.188Z"
   },
   {
    "duration": 45,
    "start_time": "2022-04-19T18:14:11.204Z"
   },
   {
    "duration": 596,
    "start_time": "2022-04-19T18:14:11.250Z"
   },
   {
    "duration": 3,
    "start_time": "2022-04-19T18:14:11.848Z"
   },
   {
    "duration": 8,
    "start_time": "2022-04-19T18:14:11.854Z"
   },
   {
    "duration": 528,
    "start_time": "2022-04-19T18:14:11.863Z"
   },
   {
    "duration": 15,
    "start_time": "2022-04-19T18:14:12.393Z"
   },
   {
    "duration": 3,
    "start_time": "2022-04-19T18:14:12.410Z"
   },
   {
    "duration": 141,
    "start_time": "2022-04-19T18:14:18.081Z"
   },
   {
    "duration": 3,
    "start_time": "2022-04-19T18:14:30.405Z"
   },
   {
    "duration": 13,
    "start_time": "2022-04-19T18:29:11.253Z"
   },
   {
    "duration": 13,
    "start_time": "2022-04-19T18:29:14.861Z"
   },
   {
    "duration": 364,
    "start_time": "2022-04-19T18:29:36.881Z"
   },
   {
    "duration": 4,
    "start_time": "2022-04-20T17:04:58.065Z"
   },
   {
    "duration": 888,
    "start_time": "2022-04-20T17:04:58.071Z"
   },
   {
    "duration": 109,
    "start_time": "2022-04-20T17:04:58.961Z"
   },
   {
    "duration": 3,
    "start_time": "2022-04-20T17:04:59.072Z"
   },
   {
    "duration": 45,
    "start_time": "2022-04-20T17:04:59.077Z"
   },
   {
    "duration": 2,
    "start_time": "2022-04-20T17:04:59.124Z"
   },
   {
    "duration": 34,
    "start_time": "2022-04-20T17:04:59.128Z"
   },
   {
    "duration": 39,
    "start_time": "2022-04-20T17:04:59.164Z"
   },
   {
    "duration": 3,
    "start_time": "2022-04-20T17:04:59.205Z"
   },
   {
    "duration": 31,
    "start_time": "2022-04-20T17:04:59.210Z"
   },
   {
    "duration": 17,
    "start_time": "2022-04-20T17:04:59.243Z"
   },
   {
    "duration": 42,
    "start_time": "2022-04-20T17:04:59.262Z"
   },
   {
    "duration": 7,
    "start_time": "2022-04-20T17:04:59.308Z"
   },
   {
    "duration": 7,
    "start_time": "2022-04-20T17:04:59.317Z"
   },
   {
    "duration": 13,
    "start_time": "2022-04-20T17:04:59.326Z"
   },
   {
    "duration": 53,
    "start_time": "2022-04-20T17:04:59.341Z"
   },
   {
    "duration": 3,
    "start_time": "2022-04-20T17:04:59.396Z"
   },
   {
    "duration": 219,
    "start_time": "2022-04-20T17:04:59.400Z"
   },
   {
    "duration": 2,
    "start_time": "2022-04-20T17:04:59.621Z"
   },
   {
    "duration": 15,
    "start_time": "2022-04-20T17:04:59.625Z"
   },
   {
    "duration": 523,
    "start_time": "2022-04-20T17:04:59.642Z"
   },
   {
    "duration": 12,
    "start_time": "2022-04-20T17:05:00.167Z"
   },
   {
    "duration": 2,
    "start_time": "2022-04-20T17:05:00.181Z"
   },
   {
    "duration": 7,
    "start_time": "2022-04-20T17:05:00.185Z"
   },
   {
    "duration": 41,
    "start_time": "2022-04-20T17:05:00.193Z"
   },
   {
    "duration": 30,
    "start_time": "2022-04-20T17:05:00.236Z"
   },
   {
    "duration": 328,
    "start_time": "2022-04-20T17:05:00.268Z"
   },
   {
    "duration": 2,
    "start_time": "2022-04-20T17:05:00.598Z"
   },
   {
    "duration": 29,
    "start_time": "2022-04-20T17:05:00.601Z"
   },
   {
    "duration": 9,
    "start_time": "2022-04-20T17:05:00.631Z"
   },
   {
    "duration": 290,
    "start_time": "2022-04-20T17:05:00.641Z"
   },
   {
    "duration": 2,
    "start_time": "2022-04-20T17:05:00.933Z"
   },
   {
    "duration": 22,
    "start_time": "2022-04-20T17:05:00.937Z"
   },
   {
    "duration": 32,
    "start_time": "2022-04-20T17:05:00.961Z"
   },
   {
    "duration": 181,
    "start_time": "2022-04-20T17:05:00.994Z"
   },
   {
    "duration": 167,
    "start_time": "2022-04-20T17:05:01.177Z"
   },
   {
    "duration": 2,
    "start_time": "2022-04-20T17:05:01.348Z"
   },
   {
    "duration": 779,
    "start_time": "2022-04-20T17:05:01.352Z"
   },
   {
    "duration": 808,
    "start_time": "2022-04-20T17:05:02.132Z"
   },
   {
    "duration": 8,
    "start_time": "2022-04-20T17:05:02.942Z"
   },
   {
    "duration": 12,
    "start_time": "2022-04-20T17:05:02.951Z"
   },
   {
    "duration": 6,
    "start_time": "2022-04-20T17:05:02.965Z"
   },
   {
    "duration": 3,
    "start_time": "2022-04-20T17:05:02.993Z"
   },
   {
    "duration": 7,
    "start_time": "2022-04-20T17:05:02.997Z"
   },
   {
    "duration": 18,
    "start_time": "2022-04-20T17:05:03.006Z"
   },
   {
    "duration": 7,
    "start_time": "2022-04-20T17:05:03.025Z"
   },
   {
    "duration": 16,
    "start_time": "2022-04-20T17:05:03.034Z"
   },
   {
    "duration": 47,
    "start_time": "2022-04-20T17:05:03.052Z"
   },
   {
    "duration": 2,
    "start_time": "2022-04-20T17:05:03.101Z"
   },
   {
    "duration": 9,
    "start_time": "2022-04-20T17:05:03.104Z"
   },
   {
    "duration": 41,
    "start_time": "2022-04-20T17:05:03.115Z"
   },
   {
    "duration": 286,
    "start_time": "2022-04-20T17:05:03.158Z"
   },
   {
    "duration": 366,
    "start_time": "2022-04-20T17:05:03.446Z"
   },
   {
    "duration": 224,
    "start_time": "2022-04-20T17:05:03.814Z"
   },
   {
    "duration": 492,
    "start_time": "2022-04-20T17:05:04.041Z"
   },
   {
    "duration": 579,
    "start_time": "2022-04-20T17:05:04.535Z"
   },
   {
    "duration": 2,
    "start_time": "2022-04-20T17:05:05.116Z"
   },
   {
    "duration": 29,
    "start_time": "2022-04-20T17:05:05.120Z"
   },
   {
    "duration": 13,
    "start_time": "2022-04-20T17:05:05.151Z"
   },
   {
    "duration": 29,
    "start_time": "2022-04-20T17:05:05.166Z"
   },
   {
    "duration": 483,
    "start_time": "2022-04-20T17:05:05.196Z"
   },
   {
    "duration": 3,
    "start_time": "2022-04-20T17:05:05.681Z"
   },
   {
    "duration": 9,
    "start_time": "2022-04-20T17:05:05.693Z"
   },
   {
    "duration": 508,
    "start_time": "2022-04-20T17:05:05.704Z"
   },
   {
    "duration": 11,
    "start_time": "2022-04-20T17:05:06.214Z"
   },
   {
    "duration": 4,
    "start_time": "2022-04-20T17:05:06.227Z"
   },
   {
    "duration": 140,
    "start_time": "2022-04-20T17:06:12.058Z"
   },
   {
    "duration": 3,
    "start_time": "2022-04-20T17:06:24.485Z"
   },
   {
    "duration": 140,
    "start_time": "2022-04-20T17:06:43.068Z"
   },
   {
    "duration": 129,
    "start_time": "2022-04-20T17:13:58.265Z"
   },
   {
    "duration": 3,
    "start_time": "2022-04-20T17:14:06.897Z"
   },
   {
    "duration": 163,
    "start_time": "2022-04-20T17:14:20.629Z"
   },
   {
    "duration": 3,
    "start_time": "2022-04-20T17:18:45.959Z"
   },
   {
    "duration": 39,
    "start_time": "2022-04-20T17:34:55.387Z"
   },
   {
    "duration": 150,
    "start_time": "2022-04-20T17:41:58.623Z"
   },
   {
    "duration": 15,
    "start_time": "2022-04-20T17:43:46.587Z"
   },
   {
    "duration": 4,
    "start_time": "2022-04-20T17:44:02.519Z"
   },
   {
    "duration": 843,
    "start_time": "2022-04-20T17:44:02.525Z"
   },
   {
    "duration": 107,
    "start_time": "2022-04-20T17:44:03.370Z"
   },
   {
    "duration": 2,
    "start_time": "2022-04-20T17:44:03.479Z"
   },
   {
    "duration": 51,
    "start_time": "2022-04-20T17:44:03.484Z"
   },
   {
    "duration": 3,
    "start_time": "2022-04-20T17:44:03.537Z"
   },
   {
    "duration": 61,
    "start_time": "2022-04-20T17:44:03.541Z"
   },
   {
    "duration": 22,
    "start_time": "2022-04-20T17:44:03.609Z"
   },
   {
    "duration": 6,
    "start_time": "2022-04-20T17:44:03.633Z"
   },
   {
    "duration": 32,
    "start_time": "2022-04-20T17:44:03.641Z"
   },
   {
    "duration": 42,
    "start_time": "2022-04-20T17:44:03.674Z"
   },
   {
    "duration": 15,
    "start_time": "2022-04-20T17:44:03.718Z"
   },
   {
    "duration": 6,
    "start_time": "2022-04-20T17:44:03.737Z"
   },
   {
    "duration": 6,
    "start_time": "2022-04-20T17:44:03.745Z"
   },
   {
    "duration": 15,
    "start_time": "2022-04-20T17:44:03.753Z"
   },
   {
    "duration": 65,
    "start_time": "2022-04-20T17:44:03.770Z"
   },
   {
    "duration": 3,
    "start_time": "2022-04-20T17:44:03.837Z"
   },
   {
    "duration": 231,
    "start_time": "2022-04-20T17:44:03.841Z"
   },
   {
    "duration": 2,
    "start_time": "2022-04-20T17:44:04.074Z"
   },
   {
    "duration": 28,
    "start_time": "2022-04-20T17:44:04.078Z"
   },
   {
    "duration": 577,
    "start_time": "2022-04-20T17:44:04.112Z"
   },
   {
    "duration": 24,
    "start_time": "2022-04-20T17:44:04.691Z"
   },
   {
    "duration": 11,
    "start_time": "2022-04-20T17:44:04.717Z"
   },
   {
    "duration": 6,
    "start_time": "2022-04-20T17:44:04.730Z"
   },
   {
    "duration": 40,
    "start_time": "2022-04-20T17:44:04.738Z"
   },
   {
    "duration": 41,
    "start_time": "2022-04-20T17:44:04.780Z"
   },
   {
    "duration": 371,
    "start_time": "2022-04-20T17:44:04.823Z"
   },
   {
    "duration": 6,
    "start_time": "2022-04-20T17:44:05.197Z"
   },
   {
    "duration": 42,
    "start_time": "2022-04-20T17:44:05.205Z"
   },
   {
    "duration": 6,
    "start_time": "2022-04-20T17:44:05.249Z"
   },
   {
    "duration": 306,
    "start_time": "2022-04-20T17:44:05.257Z"
   },
   {
    "duration": 3,
    "start_time": "2022-04-20T17:44:05.565Z"
   },
   {
    "duration": 8,
    "start_time": "2022-04-20T17:44:05.569Z"
   },
   {
    "duration": 35,
    "start_time": "2022-04-20T17:44:05.579Z"
   },
   {
    "duration": 202,
    "start_time": "2022-04-20T17:44:05.616Z"
   },
   {
    "duration": 195,
    "start_time": "2022-04-20T17:44:05.821Z"
   },
   {
    "duration": 2,
    "start_time": "2022-04-20T17:44:06.022Z"
   },
   {
    "duration": 896,
    "start_time": "2022-04-20T17:44:06.027Z"
   },
   {
    "duration": 877,
    "start_time": "2022-04-20T17:44:06.925Z"
   },
   {
    "duration": 15,
    "start_time": "2022-04-20T17:44:07.804Z"
   },
   {
    "duration": 15,
    "start_time": "2022-04-20T17:44:07.820Z"
   },
   {
    "duration": 6,
    "start_time": "2022-04-20T17:44:07.838Z"
   },
   {
    "duration": 4,
    "start_time": "2022-04-20T17:44:07.845Z"
   },
   {
    "duration": 5,
    "start_time": "2022-04-20T17:44:07.851Z"
   },
   {
    "duration": 9,
    "start_time": "2022-04-20T17:44:07.857Z"
   },
   {
    "duration": 5,
    "start_time": "2022-04-20T17:44:07.892Z"
   },
   {
    "duration": 18,
    "start_time": "2022-04-20T17:44:07.903Z"
   },
   {
    "duration": 45,
    "start_time": "2022-04-20T17:44:07.923Z"
   },
   {
    "duration": 3,
    "start_time": "2022-04-20T17:44:07.970Z"
   },
   {
    "duration": 3,
    "start_time": "2022-04-20T17:44:07.975Z"
   },
   {
    "duration": 37,
    "start_time": "2022-04-20T17:44:07.994Z"
   },
   {
    "duration": 319,
    "start_time": "2022-04-20T17:44:08.034Z"
   },
   {
    "duration": 420,
    "start_time": "2022-04-20T17:44:08.354Z"
   },
   {
    "duration": 250,
    "start_time": "2022-04-20T17:44:08.776Z"
   },
   {
    "duration": 537,
    "start_time": "2022-04-20T17:44:09.028Z"
   },
   {
    "duration": 653,
    "start_time": "2022-04-20T17:44:09.567Z"
   },
   {
    "duration": 4,
    "start_time": "2022-04-20T17:44:10.223Z"
   },
   {
    "duration": 16,
    "start_time": "2022-04-20T17:44:10.229Z"
   },
   {
    "duration": 14,
    "start_time": "2022-04-20T17:44:10.246Z"
   },
   {
    "duration": 37,
    "start_time": "2022-04-20T17:44:10.262Z"
   },
   {
    "duration": 542,
    "start_time": "2022-04-20T17:44:10.301Z"
   },
   {
    "duration": 3,
    "start_time": "2022-04-20T17:44:10.844Z"
   },
   {
    "duration": 9,
    "start_time": "2022-04-20T17:44:10.848Z"
   },
   {
    "duration": 533,
    "start_time": "2022-04-20T17:44:10.858Z"
   },
   {
    "duration": 13,
    "start_time": "2022-04-20T17:44:11.395Z"
   },
   {
    "duration": 20,
    "start_time": "2022-04-20T17:44:11.411Z"
   }
  ],
  "kernelspec": {
   "display_name": "Python 3 (ipykernel)",
   "language": "python",
   "name": "python3"
  },
  "language_info": {
   "codemirror_mode": {
    "name": "ipython",
    "version": 3
   },
   "file_extension": ".py",
   "mimetype": "text/x-python",
   "name": "python",
   "nbconvert_exporter": "python",
   "pygments_lexer": "ipython3",
   "version": "3.9.13"
  },
  "toc": {
   "base_numbering": 1,
   "nav_menu": {},
   "number_sections": true,
   "sideBar": true,
   "skip_h1_title": true,
   "title_cell": "Table of Contents",
   "title_sidebar": "Contents",
   "toc_cell": false,
   "toc_position": {
    "height": "calc(100% - 180px)",
    "left": "10px",
    "top": "150px",
    "width": "200px"
   },
   "toc_section_display": true,
   "toc_window_display": true
  }
 },
 "nbformat": 4,
 "nbformat_minor": 2
}
