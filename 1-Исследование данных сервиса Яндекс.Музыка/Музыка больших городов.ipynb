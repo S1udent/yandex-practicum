{
 "cells": [
  {
   "cell_type": "markdown",
   "metadata": {
    "toc": true
   },
   "source": [
    "<h1>Содержание<span class=\"tocSkip\"></span></h1>\n",
    "<div class=\"toc\"><ul class=\"toc-item\"><li><span><a href=\"#Обзор-данных\" data-toc-modified-id=\"Обзор-данных-1\"><span class=\"toc-item-num\">1&nbsp;&nbsp;</span>Обзор данных</a></span></li><li><span><a href=\"#Предобработка-данных\" data-toc-modified-id=\"Предобработка-данных-2\"><span class=\"toc-item-num\">2&nbsp;&nbsp;</span>Предобработка данных</a></span><ul class=\"toc-item\"><li><span><a href=\"#Стиль-заголовков\" data-toc-modified-id=\"Стиль-заголовков-2.1\"><span class=\"toc-item-num\">2.1&nbsp;&nbsp;</span>Стиль заголовков</a></span></li><li><span><a href=\"#Пропуски-значений\" data-toc-modified-id=\"Пропуски-значений-2.2\"><span class=\"toc-item-num\">2.2&nbsp;&nbsp;</span>Пропуски значений</a></span></li><li><span><a href=\"#Дубликаты\" data-toc-modified-id=\"Дубликаты-2.3\"><span class=\"toc-item-num\">2.3&nbsp;&nbsp;</span>Дубликаты</a></span></li></ul></li><li><span><a href=\"#Проверка-гипотез\" data-toc-modified-id=\"Проверка-гипотез-3\"><span class=\"toc-item-num\">3&nbsp;&nbsp;</span>Проверка гипотез</a></span><ul class=\"toc-item\"><li><span><a href=\"#Сравнение-поведения-пользователей-двух-столиц\" data-toc-modified-id=\"Сравнение-поведения-пользователей-двух-столиц-3.1\"><span class=\"toc-item-num\">3.1&nbsp;&nbsp;</span>Сравнение поведения пользователей двух столиц</a></span></li><li><span><a href=\"#Музыка-в-начале-и-в-конце-недели\" data-toc-modified-id=\"Музыка-в-начале-и-в-конце-недели-3.2\"><span class=\"toc-item-num\">3.2&nbsp;&nbsp;</span>Музыка в начале и в конце недели</a></span></li><li><span><a href=\"#Жанровые-предпочтения-в-Москве-и-Петербурге\" data-toc-modified-id=\"Жанровые-предпочтения-в-Москве-и-Петербурге-3.3\"><span class=\"toc-item-num\">3.3&nbsp;&nbsp;</span>Жанровые предпочтения в Москве и Петербурге</a></span></li></ul></li><li><span><a href=\"#Итоги-исследования\" data-toc-modified-id=\"Итоги-исследования-4\"><span class=\"toc-item-num\">4&nbsp;&nbsp;</span>Итоги исследования</a></span></li></ul></div>"
   ]
  },
  {
   "cell_type": "markdown",
   "metadata": {
    "id": "E0vqbgi9ay0H"
   },
   "source": [
    "# Яндекс.Музыка"
   ]
  },
  {
   "cell_type": "markdown",
   "metadata": {
    "id": "VUC88oWjTJw2"
   },
   "source": [
    "В данном проекте нам предстоит сравнить поведение пользователей двух столиц, а также проверить три гипотезы на данных сервиса Яндекс.Музыка.\n",
    "\n",
    "**Цель исследования** — проверьте три гипотезы:\n",
    "1. Активность пользователей зависит от дня недели. Причём в Москве и Петербурге это проявляется по-разному.\n",
    "2. В понедельник утром в Москве преобладают одни жанры, а в Петербурге — другие. Так же и вечером пятницы преобладают разные жанры — в зависимости от города. \n",
    "3. Москва и Петербург предпочитают разные жанры музыки. В Москве чаще слушают поп-музыку, в Петербурге — русский рэп."
   ]
  },
  {
   "cell_type": "markdown",
   "metadata": {
    "id": "Ml1hmfXC_Zcs"
   },
   "source": [
    "## Обзор данных\n",
    "\n",
    "Составьте первое представление о данных Яндекс.Музыки.\n",
    "\n",
    "\n"
   ]
  },
  {
   "cell_type": "code",
   "execution_count": 1,
   "metadata": {
    "id": "AXN7PHPN_Zcs"
   },
   "outputs": [],
   "source": [
    "import pandas as pd # импорт библиотеки pandas"
   ]
  },
  {
   "cell_type": "code",
   "execution_count": 2,
   "metadata": {
    "id": "fFVu7vqh_Zct"
   },
   "outputs": [],
   "source": [
    "df = pd.read_csv('/datasets/yandex_music_project.csv')# чтение файла с данными и сохранение в df"
   ]
  },
  {
   "cell_type": "code",
   "execution_count": 3,
   "metadata": {
    "id": "oWTVX3gW_Zct"
   },
   "outputs": [
    {
     "data": {
      "text/html": [
       "<div>\n",
       "<style scoped>\n",
       "    .dataframe tbody tr th:only-of-type {\n",
       "        vertical-align: middle;\n",
       "    }\n",
       "\n",
       "    .dataframe tbody tr th {\n",
       "        vertical-align: top;\n",
       "    }\n",
       "\n",
       "    .dataframe thead th {\n",
       "        text-align: right;\n",
       "    }\n",
       "</style>\n",
       "<table border=\"1\" class=\"dataframe\">\n",
       "  <thead>\n",
       "    <tr style=\"text-align: right;\">\n",
       "      <th></th>\n",
       "      <th>userID</th>\n",
       "      <th>Track</th>\n",
       "      <th>artist</th>\n",
       "      <th>genre</th>\n",
       "      <th>City</th>\n",
       "      <th>time</th>\n",
       "      <th>Day</th>\n",
       "    </tr>\n",
       "  </thead>\n",
       "  <tbody>\n",
       "    <tr>\n",
       "      <td>0</td>\n",
       "      <td>FFB692EC</td>\n",
       "      <td>Kamigata To Boots</td>\n",
       "      <td>The Mass Missile</td>\n",
       "      <td>rock</td>\n",
       "      <td>Saint-Petersburg</td>\n",
       "      <td>20:28:33</td>\n",
       "      <td>Wednesday</td>\n",
       "    </tr>\n",
       "    <tr>\n",
       "      <td>1</td>\n",
       "      <td>55204538</td>\n",
       "      <td>Delayed Because of Accident</td>\n",
       "      <td>Andreas Rönnberg</td>\n",
       "      <td>rock</td>\n",
       "      <td>Moscow</td>\n",
       "      <td>14:07:09</td>\n",
       "      <td>Friday</td>\n",
       "    </tr>\n",
       "    <tr>\n",
       "      <td>2</td>\n",
       "      <td>20EC38</td>\n",
       "      <td>Funiculì funiculà</td>\n",
       "      <td>Mario Lanza</td>\n",
       "      <td>pop</td>\n",
       "      <td>Saint-Petersburg</td>\n",
       "      <td>20:58:07</td>\n",
       "      <td>Wednesday</td>\n",
       "    </tr>\n",
       "    <tr>\n",
       "      <td>3</td>\n",
       "      <td>A3DD03C9</td>\n",
       "      <td>Dragons in the Sunset</td>\n",
       "      <td>Fire + Ice</td>\n",
       "      <td>folk</td>\n",
       "      <td>Saint-Petersburg</td>\n",
       "      <td>08:37:09</td>\n",
       "      <td>Monday</td>\n",
       "    </tr>\n",
       "    <tr>\n",
       "      <td>4</td>\n",
       "      <td>E2DC1FAE</td>\n",
       "      <td>Soul People</td>\n",
       "      <td>Space Echo</td>\n",
       "      <td>dance</td>\n",
       "      <td>Moscow</td>\n",
       "      <td>08:34:34</td>\n",
       "      <td>Monday</td>\n",
       "    </tr>\n",
       "    <tr>\n",
       "      <td>5</td>\n",
       "      <td>842029A1</td>\n",
       "      <td>Преданная</td>\n",
       "      <td>IMPERVTOR</td>\n",
       "      <td>rusrap</td>\n",
       "      <td>Saint-Petersburg</td>\n",
       "      <td>13:09:41</td>\n",
       "      <td>Friday</td>\n",
       "    </tr>\n",
       "    <tr>\n",
       "      <td>6</td>\n",
       "      <td>4CB90AA5</td>\n",
       "      <td>True</td>\n",
       "      <td>Roman Messer</td>\n",
       "      <td>dance</td>\n",
       "      <td>Moscow</td>\n",
       "      <td>13:00:07</td>\n",
       "      <td>Wednesday</td>\n",
       "    </tr>\n",
       "    <tr>\n",
       "      <td>7</td>\n",
       "      <td>F03E1C1F</td>\n",
       "      <td>Feeling This Way</td>\n",
       "      <td>Polina Griffith</td>\n",
       "      <td>dance</td>\n",
       "      <td>Moscow</td>\n",
       "      <td>20:47:49</td>\n",
       "      <td>Wednesday</td>\n",
       "    </tr>\n",
       "    <tr>\n",
       "      <td>8</td>\n",
       "      <td>8FA1D3BE</td>\n",
       "      <td>И вновь продолжается бой</td>\n",
       "      <td>NaN</td>\n",
       "      <td>ruspop</td>\n",
       "      <td>Moscow</td>\n",
       "      <td>09:17:40</td>\n",
       "      <td>Friday</td>\n",
       "    </tr>\n",
       "    <tr>\n",
       "      <td>9</td>\n",
       "      <td>E772D5C0</td>\n",
       "      <td>Pessimist</td>\n",
       "      <td>NaN</td>\n",
       "      <td>dance</td>\n",
       "      <td>Saint-Petersburg</td>\n",
       "      <td>21:20:49</td>\n",
       "      <td>Wednesday</td>\n",
       "    </tr>\n",
       "    <tr>\n",
       "      <td>10</td>\n",
       "      <td>BC5A3A29</td>\n",
       "      <td>Gool la Mita</td>\n",
       "      <td>Shireen Abdul Wahab</td>\n",
       "      <td>world</td>\n",
       "      <td>Moscow</td>\n",
       "      <td>14:08:42</td>\n",
       "      <td>Monday</td>\n",
       "    </tr>\n",
       "    <tr>\n",
       "      <td>11</td>\n",
       "      <td>8B5192C0</td>\n",
       "      <td>Is There Anybody Out There? (Panoramic Paralys...</td>\n",
       "      <td>Pink Floyd Floydhead</td>\n",
       "      <td>electronic</td>\n",
       "      <td>Moscow</td>\n",
       "      <td>13:47:49</td>\n",
       "      <td>Monday</td>\n",
       "    </tr>\n",
       "    <tr>\n",
       "      <td>12</td>\n",
       "      <td>FF3FD2BD</td>\n",
       "      <td>Мина син генэ кирэк</td>\n",
       "      <td>Ильдар Хакимов</td>\n",
       "      <td>pop</td>\n",
       "      <td>Moscow</td>\n",
       "      <td>09:19:49</td>\n",
       "      <td>Monday</td>\n",
       "    </tr>\n",
       "    <tr>\n",
       "      <td>13</td>\n",
       "      <td>CC782B0F</td>\n",
       "      <td>After School Special</td>\n",
       "      <td>Detroit Grand Pubahs</td>\n",
       "      <td>dance</td>\n",
       "      <td>Moscow</td>\n",
       "      <td>20:04:12</td>\n",
       "      <td>Friday</td>\n",
       "    </tr>\n",
       "    <tr>\n",
       "      <td>14</td>\n",
       "      <td>94EB25C2</td>\n",
       "      <td>Make Love Whenever You Can</td>\n",
       "      <td>Arabesque</td>\n",
       "      <td>pop</td>\n",
       "      <td>Saint-Petersburg</td>\n",
       "      <td>13:22:08</td>\n",
       "      <td>Wednesday</td>\n",
       "    </tr>\n",
       "    <tr>\n",
       "      <td>15</td>\n",
       "      <td>E3C5756F</td>\n",
       "      <td>NaN</td>\n",
       "      <td>NaN</td>\n",
       "      <td>NaN</td>\n",
       "      <td>Moscow</td>\n",
       "      <td>09:24:51</td>\n",
       "      <td>Monday</td>\n",
       "    </tr>\n",
       "    <tr>\n",
       "      <td>16</td>\n",
       "      <td>81D05C7D</td>\n",
       "      <td>SLAVES OF FEAR</td>\n",
       "      <td>HEALTH</td>\n",
       "      <td>alternative</td>\n",
       "      <td>Saint-Petersburg</td>\n",
       "      <td>20:54:48</td>\n",
       "      <td>Monday</td>\n",
       "    </tr>\n",
       "    <tr>\n",
       "      <td>17</td>\n",
       "      <td>39DE290E</td>\n",
       "      <td>Веснянка</td>\n",
       "      <td>Веданъ Колодъ</td>\n",
       "      <td>folk</td>\n",
       "      <td>Saint-Petersburg</td>\n",
       "      <td>14:36:47</td>\n",
       "      <td>Monday</td>\n",
       "    </tr>\n",
       "    <tr>\n",
       "      <td>18</td>\n",
       "      <td>58AE138A</td>\n",
       "      <td>Pat-a-Cake</td>\n",
       "      <td>Mother Goose Club</td>\n",
       "      <td>children</td>\n",
       "      <td>Saint-Petersburg</td>\n",
       "      <td>20:04:56</td>\n",
       "      <td>Monday</td>\n",
       "    </tr>\n",
       "    <tr>\n",
       "      <td>19</td>\n",
       "      <td>772F5B59</td>\n",
       "      <td>Sweetback</td>\n",
       "      <td>The Fabulous Three</td>\n",
       "      <td>rnb</td>\n",
       "      <td>Moscow</td>\n",
       "      <td>13:56:42</td>\n",
       "      <td>Wednesday</td>\n",
       "    </tr>\n",
       "  </tbody>\n",
       "</table>\n",
       "</div>"
      ],
      "text/plain": [
       "      userID                                              Track  \\\n",
       "0   FFB692EC                                  Kamigata To Boots   \n",
       "1   55204538                        Delayed Because of Accident   \n",
       "2     20EC38                                  Funiculì funiculà   \n",
       "3   A3DD03C9                              Dragons in the Sunset   \n",
       "4   E2DC1FAE                                        Soul People   \n",
       "5   842029A1                                          Преданная   \n",
       "6   4CB90AA5                                               True   \n",
       "7   F03E1C1F                                   Feeling This Way   \n",
       "8   8FA1D3BE                           И вновь продолжается бой   \n",
       "9   E772D5C0                                          Pessimist   \n",
       "10  BC5A3A29                                       Gool la Mita   \n",
       "11  8B5192C0  Is There Anybody Out There? (Panoramic Paralys...   \n",
       "12  FF3FD2BD                                Мина син генэ кирэк   \n",
       "13  CC782B0F                               After School Special   \n",
       "14  94EB25C2                         Make Love Whenever You Can   \n",
       "15  E3C5756F                                                NaN   \n",
       "16  81D05C7D                                     SLAVES OF FEAR   \n",
       "17  39DE290E                                           Веснянка   \n",
       "18  58AE138A                                         Pat-a-Cake   \n",
       "19  772F5B59                                          Sweetback   \n",
       "\n",
       "                  artist        genre            City        time        Day  \n",
       "0       The Mass Missile         rock  Saint-Petersburg  20:28:33  Wednesday  \n",
       "1       Andreas Rönnberg         rock            Moscow  14:07:09     Friday  \n",
       "2            Mario Lanza          pop  Saint-Petersburg  20:58:07  Wednesday  \n",
       "3             Fire + Ice         folk  Saint-Petersburg  08:37:09     Monday  \n",
       "4             Space Echo        dance            Moscow  08:34:34     Monday  \n",
       "5              IMPERVTOR       rusrap  Saint-Petersburg  13:09:41     Friday  \n",
       "6           Roman Messer        dance            Moscow  13:00:07  Wednesday  \n",
       "7        Polina Griffith        dance            Moscow  20:47:49  Wednesday  \n",
       "8                    NaN       ruspop            Moscow  09:17:40     Friday  \n",
       "9                    NaN        dance  Saint-Petersburg  21:20:49  Wednesday  \n",
       "10   Shireen Abdul Wahab        world            Moscow  14:08:42     Monday  \n",
       "11  Pink Floyd Floydhead   electronic            Moscow  13:47:49     Monday  \n",
       "12        Ильдар Хакимов          pop            Moscow  09:19:49     Monday  \n",
       "13  Detroit Grand Pubahs        dance            Moscow  20:04:12     Friday  \n",
       "14             Arabesque          pop  Saint-Petersburg  13:22:08  Wednesday  \n",
       "15                   NaN          NaN            Moscow  09:24:51     Monday  \n",
       "16                HEALTH  alternative  Saint-Petersburg  20:54:48     Monday  \n",
       "17         Веданъ Колодъ         folk  Saint-Petersburg  14:36:47     Monday  \n",
       "18     Mother Goose Club     children  Saint-Petersburg  20:04:56     Monday  \n",
       "19    The Fabulous Three          rnb            Moscow  13:56:42  Wednesday  "
      ]
     },
     "execution_count": 3,
     "metadata": {},
     "output_type": "execute_result"
    }
   ],
   "source": [
    "df.head(20)# получение первых 10 строк таблицы df"
   ]
  },
  {
   "cell_type": "code",
   "execution_count": 4,
   "metadata": {
    "id": "DSf2kIb-_Zct"
   },
   "outputs": [
    {
     "name": "stdout",
     "output_type": "stream",
     "text": [
      "<class 'pandas.core.frame.DataFrame'>\n",
      "RangeIndex: 65079 entries, 0 to 65078\n",
      "Data columns (total 7 columns):\n",
      "  userID    65079 non-null object\n",
      "Track       63848 non-null object\n",
      "artist      57876 non-null object\n",
      "genre       63881 non-null object\n",
      "  City      65079 non-null object\n",
      "time        65079 non-null object\n",
      "Day         65079 non-null object\n",
      "dtypes: object(7)\n",
      "memory usage: 3.5+ MB\n"
     ]
    }
   ],
   "source": [
    "df.info()# получение общей информации о данных в таблице df"
   ]
  },
  {
   "cell_type": "markdown",
   "metadata": {
    "id": "TaQ2Iwbr_Zct"
   },
   "source": [
    "Итак, в таблице семь столбцов. Тип данных во всех столбцах — `object`.\n",
    "\n",
    "Согласно документации к данным:\n",
    "* `userID` — идентификатор пользователя;\n",
    "* `Track` — название трека;  \n",
    "* `artist` — имя исполнителя;\n",
    "* `genre` — название жанра;\n",
    "* `City` — город пользователя;\n",
    "* `time` — время начала прослушивания;\n",
    "* `Day` — день недели.\n",
    "\n",
    "В названиях колонок видны три нарушения стиля:\n",
    "1. Строчные буквы сочетаются с прописными.\n",
    "2. Встречаются пробелы.\n",
    "3. Написание не в \"змеиином_регистре\".\n",
    "\n",
    "\n",
    "\n",
    "Количество значений в столбцах различается. Значит, в данных есть пропущенные значения.\n"
   ]
  },
  {
   "cell_type": "markdown",
   "metadata": {
    "id": "MCB6-dXG_Zct"
   },
   "source": [
    "**Выводы**\n",
    "\n",
    "В каждой строке таблицы — данные о прослушанном треке. Часть колонок описывает саму композицию: название, исполнителя и жанр. Остальные данные рассказывают о пользователе: из какого он города, когда он слушал музыку. \n",
    "\n",
    "Предварительно можно утверждать, что, данных достаточно для проверки гипотез. Но встречаются пропуски в данных, а в названиях колонок — расхождения с хорошим стилем.\n",
    "\n",
    "Чтобы двигаться дальше, нужно устранить проблемы в данных."
   ]
  },
  {
   "cell_type": "markdown",
   "metadata": {
    "id": "SjYF6Ub9_Zct"
   },
   "source": [
    "## Предобработка данных\n"
   ]
  },
  {
   "cell_type": "markdown",
   "metadata": {
    "id": "dIaKXr29_Zct"
   },
   "source": [
    "### Стиль заголовков\n"
   ]
  },
  {
   "cell_type": "code",
   "execution_count": 5,
   "metadata": {
    "id": "oKOTdF_Q_Zct"
   },
   "outputs": [
    {
     "name": "stdout",
     "output_type": "stream",
     "text": [
      "Index(['  userID', 'Track', 'artist', 'genre', '  City  ', 'time', 'Day'], dtype='object')\n"
     ]
    }
   ],
   "source": [
    "print(df.columns)# перечень названий столбцов таблицы df"
   ]
  },
  {
   "cell_type": "code",
   "execution_count": 6,
   "metadata": {
    "id": "ISlFqs5y_Zct",
    "scrolled": true
   },
   "outputs": [],
   "source": [
    "df=df.rename(columns={'  userID':'user_id',\n",
    "                      'Track':'track',\n",
    "                      '  City  ':'city',\n",
    "                      'Day':'day'\n",
    "                     })# переименование столбцов"
   ]
  },
  {
   "cell_type": "code",
   "execution_count": 7,
   "metadata": {
    "id": "d4NOAmTW_Zct"
   },
   "outputs": [
    {
     "name": "stdout",
     "output_type": "stream",
     "text": [
      "Index(['user_id', 'track', 'artist', 'genre', 'city', 'time', 'day'], dtype='object')\n"
     ]
    }
   ],
   "source": [
    "print(df.columns)# проверка результатов - перечень названий столбцов"
   ]
  },
  {
   "cell_type": "markdown",
   "metadata": {
    "id": "5ISfbcfY_Zct"
   },
   "source": [
    "### Пропуски значений\n"
   ]
  },
  {
   "cell_type": "code",
   "execution_count": 8,
   "metadata": {
    "id": "RskX29qr_Zct"
   },
   "outputs": [
    {
     "data": {
      "text/plain": [
       "user_id       0\n",
       "track      1231\n",
       "artist     7203\n",
       "genre      1198\n",
       "city          0\n",
       "time          0\n",
       "day           0\n",
       "dtype: int64"
      ]
     },
     "execution_count": 8,
     "metadata": {},
     "output_type": "execute_result"
    }
   ],
   "source": [
    "df.isna().sum()# подсчёт пропусков"
   ]
  },
  {
   "cell_type": "markdown",
   "metadata": {
    "id": "qubhgnlO_Zct"
   },
   "source": [
    "Не все пропущенные значения влияют на исследование. Так в `track` и `artist` пропуски не важны для вашей работы. Достаточно заменить их явными обозначениями.\n",
    "\n",
    "Но пропуски в `genre` могут помешать сравнению музыкальных вкусов в Москве и Санкт-Петербурге. На практике было бы правильно установить причину пропусков и восстановить данные. Такой возможности нет в учебном проекте. Придётся:\n",
    "* заполнить и эти пропуски явными обозначениями,\n",
    "* оценить, насколько они повредят расчётам. "
   ]
  },
  {
   "cell_type": "code",
   "execution_count": 9,
   "metadata": {
    "id": "KplB5qWs_Zct"
   },
   "outputs": [],
   "source": [
    "columns_to_replace=[['track'],['artist'],['genre']]\n",
    "for i in columns_to_replace:\n",
    "    df[i]=df[i].fillna('unknown')"
   ]
  },
  {
   "cell_type": "code",
   "execution_count": 10,
   "metadata": {
    "id": "Tq4nYRX4_Zct"
   },
   "outputs": [
    {
     "data": {
      "text/plain": [
       "user_id    0\n",
       "track      0\n",
       "artist     0\n",
       "genre      0\n",
       "city       0\n",
       "time       0\n",
       "day        0\n",
       "dtype: int64"
      ]
     },
     "execution_count": 10,
     "metadata": {},
     "output_type": "execute_result"
    }
   ],
   "source": [
    "df.isna().sum()# подсчёт пропусков"
   ]
  },
  {
   "cell_type": "markdown",
   "metadata": {
    "id": "BWKRtBJ3_Zct"
   },
   "source": [
    "### Дубликаты\n"
   ]
  },
  {
   "cell_type": "code",
   "execution_count": 11,
   "metadata": {
    "id": "36eES_S0_Zct"
   },
   "outputs": [
    {
     "data": {
      "text/plain": [
       "3826"
      ]
     },
     "execution_count": 11,
     "metadata": {},
     "output_type": "execute_result"
    }
   ],
   "source": [
    "df.duplicated().sum()# подсчёт явных дубликатов"
   ]
  },
  {
   "cell_type": "code",
   "execution_count": 12,
   "metadata": {
    "id": "exFHq6tt_Zct"
   },
   "outputs": [],
   "source": [
    "df = df.drop_duplicates().reset_index(drop=True) # удаление явных дубликатов (с удалением старых индексов и формированием новых)"
   ]
  },
  {
   "cell_type": "code",
   "execution_count": 13,
   "metadata": {
    "id": "-8PuNWQ0_Zct"
   },
   "outputs": [
    {
     "data": {
      "text/plain": [
       "0"
      ]
     },
     "execution_count": 13,
     "metadata": {},
     "output_type": "execute_result"
    }
   ],
   "source": [
    "df.duplicated().sum()# проверка на отсутствие дубликатов"
   ]
  },
  {
   "cell_type": "code",
   "execution_count": 14,
   "metadata": {
    "id": "JIUcqzZN_Zct"
   },
   "outputs": [
    {
     "data": {
      "text/plain": [
       "['acid',\n",
       " 'acoustic',\n",
       " 'action',\n",
       " 'adult',\n",
       " 'africa',\n",
       " 'afrikaans',\n",
       " 'alternative',\n",
       " 'alternativepunk',\n",
       " 'ambient',\n",
       " 'americana',\n",
       " 'animated',\n",
       " 'anime',\n",
       " 'arabesk',\n",
       " 'arabic',\n",
       " 'arena',\n",
       " 'argentinetango',\n",
       " 'art',\n",
       " 'audiobook',\n",
       " 'author',\n",
       " 'avantgarde',\n",
       " 'axé',\n",
       " 'baile',\n",
       " 'balkan',\n",
       " 'beats',\n",
       " 'bigroom',\n",
       " 'black',\n",
       " 'bluegrass',\n",
       " 'blues',\n",
       " 'bollywood',\n",
       " 'bossa',\n",
       " 'brazilian',\n",
       " 'breakbeat',\n",
       " 'breaks',\n",
       " 'broadway',\n",
       " 'cantautori',\n",
       " 'cantopop',\n",
       " 'canzone',\n",
       " 'caribbean',\n",
       " 'caucasian',\n",
       " 'celtic',\n",
       " 'chamber',\n",
       " 'chanson',\n",
       " 'children',\n",
       " 'chill',\n",
       " 'chinese',\n",
       " 'choral',\n",
       " 'christian',\n",
       " 'christmas',\n",
       " 'classical',\n",
       " 'classicmetal',\n",
       " 'club',\n",
       " 'colombian',\n",
       " 'comedy',\n",
       " 'conjazz',\n",
       " 'contemporary',\n",
       " 'country',\n",
       " 'cuban',\n",
       " 'dance',\n",
       " 'dancehall',\n",
       " 'dancepop',\n",
       " 'dark',\n",
       " 'death',\n",
       " 'deep',\n",
       " 'deutschrock',\n",
       " 'deutschspr',\n",
       " 'dirty',\n",
       " 'disco',\n",
       " 'dnb',\n",
       " 'documentary',\n",
       " 'downbeat',\n",
       " 'downtempo',\n",
       " 'drum',\n",
       " 'dub',\n",
       " 'dubstep',\n",
       " 'eastern',\n",
       " 'easy',\n",
       " 'electronic',\n",
       " 'electropop',\n",
       " 'emo',\n",
       " 'entehno',\n",
       " 'epicmetal',\n",
       " 'estrada',\n",
       " 'ethnic',\n",
       " 'eurofolk',\n",
       " 'european',\n",
       " 'experimental',\n",
       " 'extrememetal',\n",
       " 'fado',\n",
       " 'fairytail',\n",
       " 'film',\n",
       " 'fitness',\n",
       " 'flamenco',\n",
       " 'folk',\n",
       " 'folklore',\n",
       " 'folkmetal',\n",
       " 'folkrock',\n",
       " 'folktronica',\n",
       " 'forró',\n",
       " 'frankreich',\n",
       " 'französisch',\n",
       " 'french',\n",
       " 'funk',\n",
       " 'future',\n",
       " 'gangsta',\n",
       " 'garage',\n",
       " 'german',\n",
       " 'ghazal',\n",
       " 'gitarre',\n",
       " 'glitch',\n",
       " 'gospel',\n",
       " 'gothic',\n",
       " 'grime',\n",
       " 'grunge',\n",
       " 'gypsy',\n",
       " 'handsup',\n",
       " \"hard'n'heavy\",\n",
       " 'hardcore',\n",
       " 'hardstyle',\n",
       " 'hardtechno',\n",
       " 'hip',\n",
       " 'hip-hop',\n",
       " 'hiphop',\n",
       " 'historisch',\n",
       " 'holiday',\n",
       " 'hop',\n",
       " 'horror',\n",
       " 'house',\n",
       " 'hymn',\n",
       " 'idm',\n",
       " 'independent',\n",
       " 'indian',\n",
       " 'indie',\n",
       " 'indipop',\n",
       " 'industrial',\n",
       " 'inspirational',\n",
       " 'instrumental',\n",
       " 'international',\n",
       " 'irish',\n",
       " 'jam',\n",
       " 'japanese',\n",
       " 'jazz',\n",
       " 'jewish',\n",
       " 'jpop',\n",
       " 'jungle',\n",
       " 'k-pop',\n",
       " 'karadeniz',\n",
       " 'karaoke',\n",
       " 'kayokyoku',\n",
       " 'korean',\n",
       " 'laiko',\n",
       " 'latin',\n",
       " 'latino',\n",
       " 'leftfield',\n",
       " 'local',\n",
       " 'lounge',\n",
       " 'loungeelectronic',\n",
       " 'lovers',\n",
       " 'malaysian',\n",
       " 'mandopop',\n",
       " 'marschmusik',\n",
       " 'meditative',\n",
       " 'mediterranean',\n",
       " 'melodic',\n",
       " 'metal',\n",
       " 'metalcore',\n",
       " 'mexican',\n",
       " 'middle',\n",
       " 'minimal',\n",
       " 'miscellaneous',\n",
       " 'modern',\n",
       " 'mood',\n",
       " 'mpb',\n",
       " 'muslim',\n",
       " 'native',\n",
       " 'neoklassik',\n",
       " 'neue',\n",
       " 'new',\n",
       " 'newage',\n",
       " 'newwave',\n",
       " 'nu',\n",
       " 'nujazz',\n",
       " 'numetal',\n",
       " 'oceania',\n",
       " 'old',\n",
       " 'opera',\n",
       " 'orchestral',\n",
       " 'other',\n",
       " 'piano',\n",
       " 'podcasts',\n",
       " 'pop',\n",
       " 'popdance',\n",
       " 'popelectronic',\n",
       " 'popeurodance',\n",
       " 'poprussian',\n",
       " 'post',\n",
       " 'posthardcore',\n",
       " 'postrock',\n",
       " 'power',\n",
       " 'progmetal',\n",
       " 'progressive',\n",
       " 'psychedelic',\n",
       " 'punjabi',\n",
       " 'punk',\n",
       " 'quebecois',\n",
       " 'ragga',\n",
       " 'ram',\n",
       " 'rancheras',\n",
       " 'rap',\n",
       " 'rave',\n",
       " 'reggae',\n",
       " 'reggaeton',\n",
       " 'regional',\n",
       " 'relax',\n",
       " 'religious',\n",
       " 'retro',\n",
       " 'rhythm',\n",
       " 'rnb',\n",
       " 'rnr',\n",
       " 'rock',\n",
       " 'rockabilly',\n",
       " 'rockalternative',\n",
       " 'rockindie',\n",
       " 'rockother',\n",
       " 'romance',\n",
       " 'roots',\n",
       " 'ruspop',\n",
       " 'rusrap',\n",
       " 'rusrock',\n",
       " 'russian',\n",
       " 'salsa',\n",
       " 'samba',\n",
       " 'scenic',\n",
       " 'schlager',\n",
       " 'self',\n",
       " 'sertanejo',\n",
       " 'shanson',\n",
       " 'shoegazing',\n",
       " 'showtunes',\n",
       " 'singer',\n",
       " 'ska',\n",
       " 'skarock',\n",
       " 'slow',\n",
       " 'smooth',\n",
       " 'soft',\n",
       " 'soul',\n",
       " 'soulful',\n",
       " 'sound',\n",
       " 'soundtrack',\n",
       " 'southern',\n",
       " 'specialty',\n",
       " 'speech',\n",
       " 'spiritual',\n",
       " 'sport',\n",
       " 'stonerrock',\n",
       " 'surf',\n",
       " 'swing',\n",
       " 'synthpop',\n",
       " 'synthrock',\n",
       " 'sängerportrait',\n",
       " 'tango',\n",
       " 'tanzorchester',\n",
       " 'taraftar',\n",
       " 'tatar',\n",
       " 'tech',\n",
       " 'techno',\n",
       " 'teen',\n",
       " 'thrash',\n",
       " 'top',\n",
       " 'traditional',\n",
       " 'tradjazz',\n",
       " 'trance',\n",
       " 'tribal',\n",
       " 'trip',\n",
       " 'triphop',\n",
       " 'tropical',\n",
       " 'türk',\n",
       " 'türkçe',\n",
       " 'ukrrock',\n",
       " 'unknown',\n",
       " 'urban',\n",
       " 'uzbek',\n",
       " 'variété',\n",
       " 'vi',\n",
       " 'videogame',\n",
       " 'vocal',\n",
       " 'western',\n",
       " 'world',\n",
       " 'worldbeat',\n",
       " 'ïîï',\n",
       " 'электроника']"
      ]
     },
     "execution_count": 14,
     "metadata": {},
     "output_type": "execute_result"
    }
   ],
   "source": [
    "sorted(df['genre'].unique()) # Просмотр уникальных названий жанров\n",
    "\n"
   ]
  },
  {
   "cell_type": "code",
   "execution_count": 15,
   "metadata": {
    "id": "ErNDkmns_Zct"
   },
   "outputs": [],
   "source": [
    "def replace_wrong_genres(wrong_genres,correct_genre):# Функция для замены неявных дубликатов\n",
    "    for wrong_genre in wrong_genres:\n",
    "        df['genre']=df['genre'].replace(wrong_genre,correct_genre)"
   ]
  },
  {
   "cell_type": "code",
   "execution_count": 16,
   "metadata": {
    "id": "YN5i2hpmSo09"
   },
   "outputs": [],
   "source": [
    "duplicates=['hip','hop','hip-hop']\n",
    "correct='hiphop'\n",
    "replace_wrong_genres(duplicates,correct)# Устранение неявных дубликатов"
   ]
  },
  {
   "cell_type": "code",
   "execution_count": 17,
   "metadata": {
    "id": "wvixALnFG15m"
   },
   "outputs": [
    {
     "data": {
      "text/plain": [
       "['acid',\n",
       " 'acoustic',\n",
       " 'action',\n",
       " 'adult',\n",
       " 'africa',\n",
       " 'afrikaans',\n",
       " 'alternative',\n",
       " 'alternativepunk',\n",
       " 'ambient',\n",
       " 'americana',\n",
       " 'animated',\n",
       " 'anime',\n",
       " 'arabesk',\n",
       " 'arabic',\n",
       " 'arena',\n",
       " 'argentinetango',\n",
       " 'art',\n",
       " 'audiobook',\n",
       " 'author',\n",
       " 'avantgarde',\n",
       " 'axé',\n",
       " 'baile',\n",
       " 'balkan',\n",
       " 'beats',\n",
       " 'bigroom',\n",
       " 'black',\n",
       " 'bluegrass',\n",
       " 'blues',\n",
       " 'bollywood',\n",
       " 'bossa',\n",
       " 'brazilian',\n",
       " 'breakbeat',\n",
       " 'breaks',\n",
       " 'broadway',\n",
       " 'cantautori',\n",
       " 'cantopop',\n",
       " 'canzone',\n",
       " 'caribbean',\n",
       " 'caucasian',\n",
       " 'celtic',\n",
       " 'chamber',\n",
       " 'chanson',\n",
       " 'children',\n",
       " 'chill',\n",
       " 'chinese',\n",
       " 'choral',\n",
       " 'christian',\n",
       " 'christmas',\n",
       " 'classical',\n",
       " 'classicmetal',\n",
       " 'club',\n",
       " 'colombian',\n",
       " 'comedy',\n",
       " 'conjazz',\n",
       " 'contemporary',\n",
       " 'country',\n",
       " 'cuban',\n",
       " 'dance',\n",
       " 'dancehall',\n",
       " 'dancepop',\n",
       " 'dark',\n",
       " 'death',\n",
       " 'deep',\n",
       " 'deutschrock',\n",
       " 'deutschspr',\n",
       " 'dirty',\n",
       " 'disco',\n",
       " 'dnb',\n",
       " 'documentary',\n",
       " 'downbeat',\n",
       " 'downtempo',\n",
       " 'drum',\n",
       " 'dub',\n",
       " 'dubstep',\n",
       " 'eastern',\n",
       " 'easy',\n",
       " 'electronic',\n",
       " 'electropop',\n",
       " 'emo',\n",
       " 'entehno',\n",
       " 'epicmetal',\n",
       " 'estrada',\n",
       " 'ethnic',\n",
       " 'eurofolk',\n",
       " 'european',\n",
       " 'experimental',\n",
       " 'extrememetal',\n",
       " 'fado',\n",
       " 'fairytail',\n",
       " 'film',\n",
       " 'fitness',\n",
       " 'flamenco',\n",
       " 'folk',\n",
       " 'folklore',\n",
       " 'folkmetal',\n",
       " 'folkrock',\n",
       " 'folktronica',\n",
       " 'forró',\n",
       " 'frankreich',\n",
       " 'französisch',\n",
       " 'french',\n",
       " 'funk',\n",
       " 'future',\n",
       " 'gangsta',\n",
       " 'garage',\n",
       " 'german',\n",
       " 'ghazal',\n",
       " 'gitarre',\n",
       " 'glitch',\n",
       " 'gospel',\n",
       " 'gothic',\n",
       " 'grime',\n",
       " 'grunge',\n",
       " 'gypsy',\n",
       " 'handsup',\n",
       " \"hard'n'heavy\",\n",
       " 'hardcore',\n",
       " 'hardstyle',\n",
       " 'hardtechno',\n",
       " 'hiphop',\n",
       " 'historisch',\n",
       " 'holiday',\n",
       " 'horror',\n",
       " 'house',\n",
       " 'hymn',\n",
       " 'idm',\n",
       " 'independent',\n",
       " 'indian',\n",
       " 'indie',\n",
       " 'indipop',\n",
       " 'industrial',\n",
       " 'inspirational',\n",
       " 'instrumental',\n",
       " 'international',\n",
       " 'irish',\n",
       " 'jam',\n",
       " 'japanese',\n",
       " 'jazz',\n",
       " 'jewish',\n",
       " 'jpop',\n",
       " 'jungle',\n",
       " 'k-pop',\n",
       " 'karadeniz',\n",
       " 'karaoke',\n",
       " 'kayokyoku',\n",
       " 'korean',\n",
       " 'laiko',\n",
       " 'latin',\n",
       " 'latino',\n",
       " 'leftfield',\n",
       " 'local',\n",
       " 'lounge',\n",
       " 'loungeelectronic',\n",
       " 'lovers',\n",
       " 'malaysian',\n",
       " 'mandopop',\n",
       " 'marschmusik',\n",
       " 'meditative',\n",
       " 'mediterranean',\n",
       " 'melodic',\n",
       " 'metal',\n",
       " 'metalcore',\n",
       " 'mexican',\n",
       " 'middle',\n",
       " 'minimal',\n",
       " 'miscellaneous',\n",
       " 'modern',\n",
       " 'mood',\n",
       " 'mpb',\n",
       " 'muslim',\n",
       " 'native',\n",
       " 'neoklassik',\n",
       " 'neue',\n",
       " 'new',\n",
       " 'newage',\n",
       " 'newwave',\n",
       " 'nu',\n",
       " 'nujazz',\n",
       " 'numetal',\n",
       " 'oceania',\n",
       " 'old',\n",
       " 'opera',\n",
       " 'orchestral',\n",
       " 'other',\n",
       " 'piano',\n",
       " 'podcasts',\n",
       " 'pop',\n",
       " 'popdance',\n",
       " 'popelectronic',\n",
       " 'popeurodance',\n",
       " 'poprussian',\n",
       " 'post',\n",
       " 'posthardcore',\n",
       " 'postrock',\n",
       " 'power',\n",
       " 'progmetal',\n",
       " 'progressive',\n",
       " 'psychedelic',\n",
       " 'punjabi',\n",
       " 'punk',\n",
       " 'quebecois',\n",
       " 'ragga',\n",
       " 'ram',\n",
       " 'rancheras',\n",
       " 'rap',\n",
       " 'rave',\n",
       " 'reggae',\n",
       " 'reggaeton',\n",
       " 'regional',\n",
       " 'relax',\n",
       " 'religious',\n",
       " 'retro',\n",
       " 'rhythm',\n",
       " 'rnb',\n",
       " 'rnr',\n",
       " 'rock',\n",
       " 'rockabilly',\n",
       " 'rockalternative',\n",
       " 'rockindie',\n",
       " 'rockother',\n",
       " 'romance',\n",
       " 'roots',\n",
       " 'ruspop',\n",
       " 'rusrap',\n",
       " 'rusrock',\n",
       " 'russian',\n",
       " 'salsa',\n",
       " 'samba',\n",
       " 'scenic',\n",
       " 'schlager',\n",
       " 'self',\n",
       " 'sertanejo',\n",
       " 'shanson',\n",
       " 'shoegazing',\n",
       " 'showtunes',\n",
       " 'singer',\n",
       " 'ska',\n",
       " 'skarock',\n",
       " 'slow',\n",
       " 'smooth',\n",
       " 'soft',\n",
       " 'soul',\n",
       " 'soulful',\n",
       " 'sound',\n",
       " 'soundtrack',\n",
       " 'southern',\n",
       " 'specialty',\n",
       " 'speech',\n",
       " 'spiritual',\n",
       " 'sport',\n",
       " 'stonerrock',\n",
       " 'surf',\n",
       " 'swing',\n",
       " 'synthpop',\n",
       " 'synthrock',\n",
       " 'sängerportrait',\n",
       " 'tango',\n",
       " 'tanzorchester',\n",
       " 'taraftar',\n",
       " 'tatar',\n",
       " 'tech',\n",
       " 'techno',\n",
       " 'teen',\n",
       " 'thrash',\n",
       " 'top',\n",
       " 'traditional',\n",
       " 'tradjazz',\n",
       " 'trance',\n",
       " 'tribal',\n",
       " 'trip',\n",
       " 'triphop',\n",
       " 'tropical',\n",
       " 'türk',\n",
       " 'türkçe',\n",
       " 'ukrrock',\n",
       " 'unknown',\n",
       " 'urban',\n",
       " 'uzbek',\n",
       " 'variété',\n",
       " 'vi',\n",
       " 'videogame',\n",
       " 'vocal',\n",
       " 'western',\n",
       " 'world',\n",
       " 'worldbeat',\n",
       " 'ïîï',\n",
       " 'электроника']"
      ]
     },
     "execution_count": 17,
     "metadata": {},
     "output_type": "execute_result"
    }
   ],
   "source": [
    "sorted(df['genre'].unique())# Проверка на неявные дубликаты"
   ]
  },
  {
   "cell_type": "markdown",
   "metadata": {
    "id": "jz6a9-7HQUDd"
   },
   "source": [
    "**Выводы**\n",
    "\n",
    "Предобработка обнаружила три проблемы в данных:\n",
    "\n",
    "- нарушения в стиле заголовков,\n",
    "- пропущенные значения,\n",
    "- дубликаты — явные и неявные.\n",
    "\n",
    "Вы исправили заголовки, чтобы упростить работу с таблицей. Без дубликатов исследование станет более точным.\n",
    "\n",
    "Пропущенные значения вы заменили на `'unknown'`. Ещё предстоит увидеть, не повредят ли исследованию пропуски в колонке `genre`.\n",
    "\n",
    "Теперь можно перейти к проверке гипотез. "
   ]
  },
  {
   "cell_type": "markdown",
   "metadata": {
    "id": "WttZHXH0SqKk"
   },
   "source": [
    "## Проверка гипотез"
   ]
  },
  {
   "cell_type": "markdown",
   "metadata": {
    "id": "Im936VVi_Zcu"
   },
   "source": [
    "### Сравнение поведения пользователей двух столиц"
   ]
  },
  {
   "cell_type": "markdown",
   "metadata": {
    "id": "nwt_MuaL_Zcu"
   },
   "source": [
    "Первая гипотеза утверждает, что пользователи по-разному слушают музыку в Москве и Санкт-Петербурге. Проверьте это предположение по данным о трёх днях недели — понедельнике, среде и пятнице. Для этого:\n",
    "\n",
    "* Разделите пользователей Москвы и Санкт-Петербурга\n",
    "* Сравните, сколько треков послушала каждая группа пользователей в понедельник, среду и пятницу.\n"
   ]
  },
  {
   "cell_type": "code",
   "execution_count": 18,
   "metadata": {
    "id": "0_Qs96oh_Zcu"
   },
   "outputs": [
    {
     "data": {
      "text/plain": [
       "city\n",
       "Moscow              42741\n",
       "Saint-Petersburg    18512\n",
       "Name: genre, dtype: int64"
      ]
     },
     "execution_count": 18,
     "metadata": {},
     "output_type": "execute_result"
    }
   ],
   "source": [
    "df.groupby('city')['genre'].count()\n",
    "# Подсчёт прослушиваний в каждом городе"
   ]
  },
  {
   "cell_type": "code",
   "execution_count": 19,
   "metadata": {
    "id": "uZMKjiJz_Zcu"
   },
   "outputs": [
    {
     "data": {
      "text/plain": [
       "day\n",
       "Friday       21840\n",
       "Monday       21354\n",
       "Wednesday    18059\n",
       "Name: genre, dtype: int64"
      ]
     },
     "execution_count": 19,
     "metadata": {},
     "output_type": "execute_result"
    }
   ],
   "source": [
    "df.groupby('day')['genre'].count()\n",
    "# Подсчёт прослушиваний в каждый из трёх дней"
   ]
  },
  {
   "cell_type": "markdown",
   "metadata": {
    "id": "cC2tNrlL_Zcu"
   },
   "source": [
    "В среднем пользователи из двух городов менее активны по средам. Но картина может измениться, если рассмотреть каждый город в отдельности."
   ]
  },
  {
   "cell_type": "code",
   "execution_count": 20,
   "metadata": {
    "id": "Nz3GdQB1_Zcu"
   },
   "outputs": [],
   "source": [
    "# <создание функции number_tracks()>\n",
    "# Объявляется функция с двумя параметрами: day, city.\n",
    "# В переменной track_list сохраняются те строки таблицы df, для которых \n",
    "# значение в столбце 'day' равно параметру day и одновременно значение\n",
    "# в столбце 'city' равно параметру city (используйте последовательную фильтрацию\n",
    "# с помощью логической индексации).\n",
    "# В переменной track_list_count сохраняется число значений столбца 'user_id',\n",
    "# рассчитанное методом count() для таблицы track_list.\n",
    "# Функция возвращает число - значение track_list_count.\n",
    "def number_tracks(day, city):\n",
    "    track_list=df[(df['day'] == day)&(df['city'] == city)]\n",
    "    track_list_count=track_list['user_id'].count()\n",
    "    return track_list_count\n",
    "# Функция для подсчёта прослушиваний для конкретного города и дня.\n",
    "# С помощью последовательной фильтрации с логической индексацией она \n",
    "# сначала получит из исходной таблицы строки с нужным днём,\n",
    "# затем из результата отфильтрует строки с нужным городом,\n",
    "# методом count() посчитает количество значений в колонке user_id. \n",
    "# Это количество функция вернёт в качестве результата\n"
   ]
  },
  {
   "cell_type": "code",
   "execution_count": 21,
   "metadata": {
    "id": "rJcRATNQ_Zcu"
   },
   "outputs": [
    {
     "data": {
      "text/plain": [
       "15740"
      ]
     },
     "execution_count": 21,
     "metadata": {},
     "output_type": "execute_result"
    }
   ],
   "source": [
    "number_tracks('Monday','Moscow')# количество прослушиваний в Москве по понедельникам"
   ]
  },
  {
   "cell_type": "code",
   "execution_count": 22,
   "metadata": {
    "id": "hq_ncZ5T_Zcu"
   },
   "outputs": [
    {
     "data": {
      "text/plain": [
       "5614"
      ]
     },
     "execution_count": 22,
     "metadata": {},
     "output_type": "execute_result"
    }
   ],
   "source": [
    "number_tracks('Monday','Saint-Petersburg')# количество прослушиваний в Санкт-Петербурге по понедельникам"
   ]
  },
  {
   "cell_type": "code",
   "execution_count": 23,
   "metadata": {
    "id": "_NTy2VPU_Zcu"
   },
   "outputs": [
    {
     "data": {
      "text/plain": [
       "11056"
      ]
     },
     "execution_count": 23,
     "metadata": {},
     "output_type": "execute_result"
    }
   ],
   "source": [
    "number_tracks('Wednesday','Moscow')# количество прослушиваний в Москве по средам"
   ]
  },
  {
   "cell_type": "code",
   "execution_count": 24,
   "metadata": {
    "id": "j2y3TAwo_Zcu"
   },
   "outputs": [
    {
     "data": {
      "text/plain": [
       "7003"
      ]
     },
     "execution_count": 24,
     "metadata": {},
     "output_type": "execute_result"
    }
   ],
   "source": [
    "number_tracks('Wednesday','Saint-Petersburg')# количество прослушиваний в Санкт-Петербурге по средам"
   ]
  },
  {
   "cell_type": "code",
   "execution_count": 25,
   "metadata": {
    "id": "vYDw5u_K_Zcu"
   },
   "outputs": [
    {
     "data": {
      "text/plain": [
       "15945"
      ]
     },
     "execution_count": 25,
     "metadata": {},
     "output_type": "execute_result"
    }
   ],
   "source": [
    "number_tracks('Friday','Moscow')# количество прослушиваний в Москве по пятницам"
   ]
  },
  {
   "cell_type": "code",
   "execution_count": 26,
   "metadata": {
    "id": "8_yzFtW3_Zcu"
   },
   "outputs": [
    {
     "data": {
      "text/plain": [
       "5895"
      ]
     },
     "execution_count": 26,
     "metadata": {},
     "output_type": "execute_result"
    }
   ],
   "source": [
    "number_tracks('Friday','Saint-Petersburg')# количество прослушиваний в Санкт-Петербурге по пятницам"
   ]
  },
  {
   "cell_type": "code",
   "execution_count": 27,
   "metadata": {
    "id": "APAcLpOr_Zcu"
   },
   "outputs": [
    {
     "data": {
      "text/html": [
       "<div>\n",
       "<style scoped>\n",
       "    .dataframe tbody tr th:only-of-type {\n",
       "        vertical-align: middle;\n",
       "    }\n",
       "\n",
       "    .dataframe tbody tr th {\n",
       "        vertical-align: top;\n",
       "    }\n",
       "\n",
       "    .dataframe thead th {\n",
       "        text-align: right;\n",
       "    }\n",
       "</style>\n",
       "<table border=\"1\" class=\"dataframe\">\n",
       "  <thead>\n",
       "    <tr style=\"text-align: right;\">\n",
       "      <th></th>\n",
       "      <th>city</th>\n",
       "      <th>monday</th>\n",
       "      <th>wednesday</th>\n",
       "      <th>friday</th>\n",
       "    </tr>\n",
       "  </thead>\n",
       "  <tbody>\n",
       "    <tr>\n",
       "      <td>0</td>\n",
       "      <td>Moscow</td>\n",
       "      <td>15740</td>\n",
       "      <td>11056</td>\n",
       "      <td>15945</td>\n",
       "    </tr>\n",
       "    <tr>\n",
       "      <td>1</td>\n",
       "      <td>Saint-Petersburg</td>\n",
       "      <td>5614</td>\n",
       "      <td>7003</td>\n",
       "      <td>5895</td>\n",
       "    </tr>\n",
       "  </tbody>\n",
       "</table>\n",
       "</div>"
      ],
      "text/plain": [
       "               city  monday  wednesday  friday\n",
       "0            Moscow   15740      11056   15945\n",
       "1  Saint-Petersburg    5614       7003    5895"
      ]
     },
     "execution_count": 27,
     "metadata": {},
     "output_type": "execute_result"
    }
   ],
   "source": [
    "data=[['Moscow', 15740, 11056, 15945],\n",
    "        ['Saint-Petersburg', 5614, 7003, 5895]] \n",
    "columns=['city', 'monday', 'wednesday', 'friday'] # Таблица с результатами\n",
    "table=pd.DataFrame(data = data, columns = columns) \n",
    "table.head()"
   ]
  },
  {
   "cell_type": "markdown",
   "metadata": {
    "id": "-EgPIHYu_Zcu"
   },
   "source": [
    "**Выводы**\n",
    "\n",
    "Данные показывают разницу поведения пользователей:\n",
    "\n",
    "- В Москве пик прослушиваний приходится на понедельник и пятницу, а в среду заметен спад.\n",
    "- В Петербурге, наоборот, больше слушают музыку по средам. Активность в понедельник и пятницу здесь почти в равной мере уступает среде.\n",
    "\n",
    "Значит, данные говорят в пользу первой гипотезы."
   ]
  },
  {
   "cell_type": "markdown",
   "metadata": {
    "id": "atZAxtq4_Zcu"
   },
   "source": [
    "### Музыка в начале и в конце недели"
   ]
  },
  {
   "cell_type": "markdown",
   "metadata": {
    "id": "eXrQqXFH_Zcu"
   },
   "source": [
    "Согласно второй гипотезе, утром в понедельник в Москве преобладают одни жанры, а в Петербурге — другие. Так же и вечером пятницы преобладают разные жанры — в зависимости от города."
   ]
  },
  {
   "cell_type": "code",
   "execution_count": 28,
   "metadata": {
    "id": "qeaFfM_P_Zcu"
   },
   "outputs": [
    {
     "data": {
      "text/html": [
       "<div>\n",
       "<style scoped>\n",
       "    .dataframe tbody tr th:only-of-type {\n",
       "        vertical-align: middle;\n",
       "    }\n",
       "\n",
       "    .dataframe tbody tr th {\n",
       "        vertical-align: top;\n",
       "    }\n",
       "\n",
       "    .dataframe thead th {\n",
       "        text-align: right;\n",
       "    }\n",
       "</style>\n",
       "<table border=\"1\" class=\"dataframe\">\n",
       "  <thead>\n",
       "    <tr style=\"text-align: right;\">\n",
       "      <th></th>\n",
       "      <th>user_id</th>\n",
       "      <th>track</th>\n",
       "      <th>artist</th>\n",
       "      <th>genre</th>\n",
       "      <th>city</th>\n",
       "      <th>time</th>\n",
       "      <th>day</th>\n",
       "    </tr>\n",
       "  </thead>\n",
       "  <tbody>\n",
       "    <tr>\n",
       "      <td>1</td>\n",
       "      <td>55204538</td>\n",
       "      <td>Delayed Because of Accident</td>\n",
       "      <td>Andreas Rönnberg</td>\n",
       "      <td>rock</td>\n",
       "      <td>Moscow</td>\n",
       "      <td>14:07:09</td>\n",
       "      <td>Friday</td>\n",
       "    </tr>\n",
       "    <tr>\n",
       "      <td>4</td>\n",
       "      <td>E2DC1FAE</td>\n",
       "      <td>Soul People</td>\n",
       "      <td>Space Echo</td>\n",
       "      <td>dance</td>\n",
       "      <td>Moscow</td>\n",
       "      <td>08:34:34</td>\n",
       "      <td>Monday</td>\n",
       "    </tr>\n",
       "    <tr>\n",
       "      <td>6</td>\n",
       "      <td>4CB90AA5</td>\n",
       "      <td>True</td>\n",
       "      <td>Roman Messer</td>\n",
       "      <td>dance</td>\n",
       "      <td>Moscow</td>\n",
       "      <td>13:00:07</td>\n",
       "      <td>Wednesday</td>\n",
       "    </tr>\n",
       "    <tr>\n",
       "      <td>7</td>\n",
       "      <td>F03E1C1F</td>\n",
       "      <td>Feeling This Way</td>\n",
       "      <td>Polina Griffith</td>\n",
       "      <td>dance</td>\n",
       "      <td>Moscow</td>\n",
       "      <td>20:47:49</td>\n",
       "      <td>Wednesday</td>\n",
       "    </tr>\n",
       "    <tr>\n",
       "      <td>8</td>\n",
       "      <td>8FA1D3BE</td>\n",
       "      <td>И вновь продолжается бой</td>\n",
       "      <td>unknown</td>\n",
       "      <td>ruspop</td>\n",
       "      <td>Moscow</td>\n",
       "      <td>09:17:40</td>\n",
       "      <td>Friday</td>\n",
       "    </tr>\n",
       "  </tbody>\n",
       "</table>\n",
       "</div>"
      ],
      "text/plain": [
       "    user_id                        track            artist   genre    city  \\\n",
       "1  55204538  Delayed Because of Accident  Andreas Rönnberg    rock  Moscow   \n",
       "4  E2DC1FAE                  Soul People        Space Echo   dance  Moscow   \n",
       "6  4CB90AA5                         True      Roman Messer   dance  Moscow   \n",
       "7  F03E1C1F             Feeling This Way   Polina Griffith   dance  Moscow   \n",
       "8  8FA1D3BE     И вновь продолжается бой           unknown  ruspop  Moscow   \n",
       "\n",
       "       time        day  \n",
       "1  14:07:09     Friday  \n",
       "4  08:34:34     Monday  \n",
       "6  13:00:07  Wednesday  \n",
       "7  20:47:49  Wednesday  \n",
       "8  09:17:40     Friday  "
      ]
     },
     "execution_count": 28,
     "metadata": {},
     "output_type": "execute_result"
    }
   ],
   "source": [
    "# получение таблицы moscow_general из тех строк таблицы df, \n",
    "# для которых значение в столбце 'city' равно 'Moscow'\n",
    "moscow_general=df[df['city'] == 'Moscow']\n",
    "moscow_general.head()"
   ]
  },
  {
   "cell_type": "code",
   "execution_count": 29,
   "metadata": {
    "id": "ORaVRKto_Zcu"
   },
   "outputs": [
    {
     "data": {
      "text/html": [
       "<div>\n",
       "<style scoped>\n",
       "    .dataframe tbody tr th:only-of-type {\n",
       "        vertical-align: middle;\n",
       "    }\n",
       "\n",
       "    .dataframe tbody tr th {\n",
       "        vertical-align: top;\n",
       "    }\n",
       "\n",
       "    .dataframe thead th {\n",
       "        text-align: right;\n",
       "    }\n",
       "</style>\n",
       "<table border=\"1\" class=\"dataframe\">\n",
       "  <thead>\n",
       "    <tr style=\"text-align: right;\">\n",
       "      <th></th>\n",
       "      <th>user_id</th>\n",
       "      <th>track</th>\n",
       "      <th>artist</th>\n",
       "      <th>genre</th>\n",
       "      <th>city</th>\n",
       "      <th>time</th>\n",
       "      <th>day</th>\n",
       "    </tr>\n",
       "  </thead>\n",
       "  <tbody>\n",
       "    <tr>\n",
       "      <td>0</td>\n",
       "      <td>FFB692EC</td>\n",
       "      <td>Kamigata To Boots</td>\n",
       "      <td>The Mass Missile</td>\n",
       "      <td>rock</td>\n",
       "      <td>Saint-Petersburg</td>\n",
       "      <td>20:28:33</td>\n",
       "      <td>Wednesday</td>\n",
       "    </tr>\n",
       "    <tr>\n",
       "      <td>2</td>\n",
       "      <td>20EC38</td>\n",
       "      <td>Funiculì funiculà</td>\n",
       "      <td>Mario Lanza</td>\n",
       "      <td>pop</td>\n",
       "      <td>Saint-Petersburg</td>\n",
       "      <td>20:58:07</td>\n",
       "      <td>Wednesday</td>\n",
       "    </tr>\n",
       "    <tr>\n",
       "      <td>3</td>\n",
       "      <td>A3DD03C9</td>\n",
       "      <td>Dragons in the Sunset</td>\n",
       "      <td>Fire + Ice</td>\n",
       "      <td>folk</td>\n",
       "      <td>Saint-Petersburg</td>\n",
       "      <td>08:37:09</td>\n",
       "      <td>Monday</td>\n",
       "    </tr>\n",
       "    <tr>\n",
       "      <td>5</td>\n",
       "      <td>842029A1</td>\n",
       "      <td>Преданная</td>\n",
       "      <td>IMPERVTOR</td>\n",
       "      <td>rusrap</td>\n",
       "      <td>Saint-Petersburg</td>\n",
       "      <td>13:09:41</td>\n",
       "      <td>Friday</td>\n",
       "    </tr>\n",
       "    <tr>\n",
       "      <td>9</td>\n",
       "      <td>E772D5C0</td>\n",
       "      <td>Pessimist</td>\n",
       "      <td>unknown</td>\n",
       "      <td>dance</td>\n",
       "      <td>Saint-Petersburg</td>\n",
       "      <td>21:20:49</td>\n",
       "      <td>Wednesday</td>\n",
       "    </tr>\n",
       "  </tbody>\n",
       "</table>\n",
       "</div>"
      ],
      "text/plain": [
       "    user_id                  track            artist   genre  \\\n",
       "0  FFB692EC      Kamigata To Boots  The Mass Missile    rock   \n",
       "2    20EC38      Funiculì funiculà       Mario Lanza     pop   \n",
       "3  A3DD03C9  Dragons in the Sunset        Fire + Ice    folk   \n",
       "5  842029A1              Преданная         IMPERVTOR  rusrap   \n",
       "9  E772D5C0              Pessimist           unknown   dance   \n",
       "\n",
       "               city      time        day  \n",
       "0  Saint-Petersburg  20:28:33  Wednesday  \n",
       "2  Saint-Petersburg  20:58:07  Wednesday  \n",
       "3  Saint-Petersburg  08:37:09     Monday  \n",
       "5  Saint-Petersburg  13:09:41     Friday  \n",
       "9  Saint-Petersburg  21:20:49  Wednesday  "
      ]
     },
     "execution_count": 29,
     "metadata": {},
     "output_type": "execute_result"
    }
   ],
   "source": [
    "# получение таблицы spb_general из тех строк таблицы df,\n",
    "# для которых значение в столбце 'city' равно 'Saint-Petersburg'\n",
    "spb_general=df[df['city'] == 'Saint-Petersburg']\n",
    "spb_general.head()"
   ]
  },
  {
   "cell_type": "code",
   "execution_count": 30,
   "metadata": {
    "id": "laJT9BYl_Zcu"
   },
   "outputs": [],
   "source": [
    "# Объявление функции genre_weekday() с параметрами table, day, time1, time2,\n",
    "# которая возвращает информацию о самых популярных жанрах в указанный день в\n",
    "# заданное время:\n",
    "# 1) в переменную genre_df сохраняются те строки переданного датафрейма table, для\n",
    "#    которых одновременно:\n",
    "#    - значение в столбце day равно значению аргумента day\n",
    "#    - значение в столбце time больше значения аргумента time1\n",
    "#    - значение в столбце time меньше значения аргумента time2\n",
    "#    Используйте последовательную фильтрацию с помощью логической индексации.\n",
    "# 2) сгруппировать датафрейм genre_df по столбцу genre, взять один из его\n",
    "#    столбцов и посчитать методом count() количество записей для каждого из\n",
    "#    присутствующих жанров, получившийся Series записать в переменную\n",
    "#    genre_df_count\n",
    "# 3) отсортировать genre_df_count по убыванию встречаемости и сохранить\n",
    "#    в переменную genre_df_sorted\n",
    "# 4) вернуть Series из 10 первых значений genre_df_sorted, это будут топ-10\n",
    "#    популярных жанров (в указанный день, в заданное время)\n",
    "def genre_weekday(table,day,time1,time2):\n",
    "    genre_df = table[table['day'] == day]\n",
    "    genre_df = genre_df[genre_df['time'] > time1]\n",
    "    genre_df = genre_df[genre_df['time'] < time2]\n",
    "    genre_df_count=genre_df.groupby('genre')['genre'].count()\n",
    "    genre_df_sorted=genre_df_count.sort_values(ascending=False)\n",
    "    return genre_df_sorted.head(10)"
   ]
  },
  {
   "cell_type": "code",
   "execution_count": 31,
   "metadata": {
    "id": "yz7itPUQ_Zcu"
   },
   "outputs": [
    {
     "data": {
      "text/plain": [
       "genre\n",
       "pop            781\n",
       "dance          549\n",
       "electronic     480\n",
       "rock           474\n",
       "hiphop         286\n",
       "ruspop         186\n",
       "world          181\n",
       "rusrap         175\n",
       "alternative    164\n",
       "unknown        161\n",
       "Name: genre, dtype: int64"
      ]
     },
     "execution_count": 31,
     "metadata": {},
     "output_type": "execute_result"
    }
   ],
   "source": [
    "# вызов функции для утра понедельника в Москве (вместо df — таблица moscow_general)\n",
    "# объекты, хранящие время, являются строками и сравниваются как строки\n",
    "# пример вызова: genre_weekday(moscow_general, 'Monday', '07:00', '11:00')\n",
    "genre_weekday(moscow_general,'Monday','07:00','11:00')"
   ]
  },
  {
   "cell_type": "code",
   "execution_count": 32,
   "metadata": {
    "id": "kwUcHPdy_Zcu"
   },
   "outputs": [
    {
     "data": {
      "text/plain": [
       "genre\n",
       "pop            218\n",
       "dance          182\n",
       "rock           162\n",
       "electronic     147\n",
       "hiphop          80\n",
       "ruspop          64\n",
       "alternative     58\n",
       "rusrap          55\n",
       "jazz            44\n",
       "classical       40\n",
       "Name: genre, dtype: int64"
      ]
     },
     "execution_count": 32,
     "metadata": {},
     "output_type": "execute_result"
    }
   ],
   "source": [
    "genre_weekday(spb_general,'Monday','07:00','11:00')# вызов функции для утра понедельника в Петербурге (вместо df — таблица spb_general)"
   ]
  },
  {
   "cell_type": "code",
   "execution_count": 33,
   "metadata": {
    "id": "EzXVRE1o_Zcu"
   },
   "outputs": [
    {
     "data": {
      "text/plain": [
       "genre\n",
       "pop            713\n",
       "rock           517\n",
       "dance          495\n",
       "electronic     482\n",
       "hiphop         273\n",
       "world          208\n",
       "ruspop         170\n",
       "alternative    163\n",
       "classical      163\n",
       "rusrap         142\n",
       "Name: genre, dtype: int64"
      ]
     },
     "execution_count": 33,
     "metadata": {},
     "output_type": "execute_result"
    }
   ],
   "source": [
    "genre_weekday(moscow_general,'Friday','17:00','23:00')# вызов функции для вечера пятницы в Москве"
   ]
  },
  {
   "cell_type": "code",
   "execution_count": 34,
   "metadata": {
    "id": "JZaEKu5v_Zcu"
   },
   "outputs": [
    {
     "data": {
      "text/plain": [
       "genre\n",
       "pop            256\n",
       "rock           216\n",
       "electronic     216\n",
       "dance          210\n",
       "hiphop          97\n",
       "alternative     63\n",
       "jazz            61\n",
       "classical       60\n",
       "rusrap          59\n",
       "world           54\n",
       "Name: genre, dtype: int64"
      ]
     },
     "execution_count": 34,
     "metadata": {},
     "output_type": "execute_result"
    }
   ],
   "source": [
    "genre_weekday(spb_general,'Friday','17:00','23:00')# вызов функции для вечера пятницы в Петербурге"
   ]
  },
  {
   "cell_type": "markdown",
   "metadata": {
    "id": "wrCe4MNX_Zcu"
   },
   "source": [
    "**Выводы**\n",
    "\n",
    "Если сравнить топ-10 жанров в понедельник утром, можно сделать такие выводы:\n",
    "\n",
    "1. В Москве и Петербурге слушают похожую музыку. Единственное отличие — в московский рейтинг вошёл жанр “world”, а в петербургский — джаз и классика.\n",
    "\n",
    "2. В Москве пропущенных значений оказалось так много, что значение `'unknown'` заняло десятое место среди самых популярных жанров. Значит, пропущенные значения занимают существенную долю в данных и угрожают достоверности исследования.\n",
    "\n",
    "Вечер пятницы не меняет эту картину. Некоторые жанры поднимаются немного выше, другие спускаются, но в целом топ-10 остаётся тем же самым.\n",
    "\n",
    "Таким образом, вторая гипотеза подтвердилась лишь частично:\n",
    "* Пользователи слушают похожую музыку в начале недели и в конце.\n",
    "* Разница между Москвой и Петербургом не слишком выражена. В Москве чаще слушают русскую популярную музыку, в Петербурге — джаз.\n",
    "\n",
    "Однако пропуски в данных ставят под сомнение этот результат. В Москве их так много, что рейтинг топ-10 мог бы выглядеть иначе, если бы не утерянные  данные о жанрах."
   ]
  },
  {
   "cell_type": "markdown",
   "metadata": {
    "id": "JolODAqr_Zcu"
   },
   "source": [
    "### Жанровые предпочтения в Москве и Петербурге\n",
    "\n",
    "Гипотеза: Петербург — столица рэпа, музыку этого жанра там слушают чаще, чем в Москве.  А Москва — город контрастов, в котором, тем не менее, преобладает поп-музыка."
   ]
  },
  {
   "cell_type": "code",
   "execution_count": 35,
   "metadata": {
    "id": "r19lIPke_Zcu"
   },
   "outputs": [],
   "source": [
    "# одной строкой: группировка таблицы moscow_general по столбцу 'genre', \n",
    "# подсчёт числа значений 'genre' в этой группировке методом count(), \n",
    "# сортировка получившегося Series в порядке убывания и сохранение в moscow_genres\n",
    "moscow_genres=moscow_general.groupby('genre')['genre'].count().sort_values(ascending=False)\n"
   ]
  },
  {
   "cell_type": "code",
   "execution_count": 36,
   "metadata": {
    "id": "WhCSooF8_Zcv"
   },
   "outputs": [
    {
     "data": {
      "text/plain": [
       "genre\n",
       "pop            5892\n",
       "dance          4435\n",
       "rock           3965\n",
       "electronic     3786\n",
       "hiphop         2096\n",
       "classical      1616\n",
       "world          1432\n",
       "alternative    1379\n",
       "ruspop         1372\n",
       "rusrap         1161\n",
       "Name: genre, dtype: int64"
      ]
     },
     "execution_count": 36,
     "metadata": {},
     "output_type": "execute_result"
    }
   ],
   "source": [
    "moscow_genres.head(10)# просмотр первых 10 строк moscow_genres"
   ]
  },
  {
   "cell_type": "code",
   "execution_count": 37,
   "metadata": {
    "id": "gluLIpE7_Zcv"
   },
   "outputs": [],
   "source": [
    "# одной строкой: группировка таблицы spb_general по столбцу 'genre', \n",
    "# подсчёт числа значений 'genre' в этой группировке методом count(), \n",
    "# сортировка получившегося Series в порядке убывания и сохранение в spb_genres\n",
    "spb_genres=spb_general.groupby('genre')['genre'].count().sort_values(ascending=False)\n"
   ]
  },
  {
   "cell_type": "code",
   "execution_count": 38,
   "metadata": {
    "id": "uaGJHjVU_Zcv"
   },
   "outputs": [
    {
     "data": {
      "text/plain": [
       "genre\n",
       "pop            2431\n",
       "dance          1932\n",
       "rock           1879\n",
       "electronic     1736\n",
       "hiphop          960\n",
       "alternative     649\n",
       "classical       646\n",
       "rusrap          564\n",
       "ruspop          538\n",
       "world           515\n",
       "Name: genre, dtype: int64"
      ]
     },
     "execution_count": 38,
     "metadata": {},
     "output_type": "execute_result"
    }
   ],
   "source": [
    "spb_genres.head(10)# просмотр первых 10 строк spb_genres"
   ]
  },
  {
   "cell_type": "markdown",
   "metadata": {
    "id": "RY51YJYu_Zcv"
   },
   "source": [
    "**Выводы**"
   ]
  },
  {
   "cell_type": "markdown",
   "metadata": {
    "id": "nVhnJEm__Zcv"
   },
   "source": [
    "Гипотеза частично подтвердилась:\n",
    "* Поп-музыка — самый популярный жанр в Москве, как и предполагала гипотеза. Более того, в топ-10 жанров встречается близкий жанр — русская популярная музыка.\n",
    "* Вопреки ожиданиям, рэп одинаково популярен в Москве и Петербурге. \n"
   ]
  },
  {
   "cell_type": "markdown",
   "metadata": {
    "id": "ykKQ0N65_Zcv"
   },
   "source": [
    "## Итоги исследования"
   ]
  },
  {
   "cell_type": "markdown",
   "metadata": {
    "id": "tjUwbHb3_Zcv"
   },
   "source": [
    "Вы проверили три гипотезы и установили:\n",
    "\n",
    "1. День недели по-разному влияет на активность пользователей в Москве и Петербурге. \n",
    "\n",
    "Первая гипотеза полностью подтвердилась.\n",
    "\n",
    "2. Музыкальные предпочтения не сильно меняются в течение недели — будь то Москва или Петербург. Небольшие различия заметны в начале недели, по понедельникам:\n",
    "* в Москве слушают музыку жанра “world”,\n",
    "* в Петербурге — джаз и классику.\n",
    "\n",
    "Таким образом, вторая гипотеза подтвердилась лишь отчасти. Этот результат мог оказаться иным, если бы не пропуски в данных.\n",
    "\n",
    "3. Во вкусах пользователей Москвы и Петербурга больше общего чем различий. Вопреки ожиданиям, предпочтения жанров в Петербурге напоминают московские.\n",
    "\n",
    "Третья гипотеза не подтвердилась. Если различия в предпочтениях и существуют, на основной массе пользователей они незаметны.\n"
   ]
  }
 ],
 "metadata": {
  "ExecuteTimeLog": [
   {
    "duration": 96,
    "start_time": "2022-01-24T06:55:45.890Z"
   },
   {
    "duration": 366,
    "start_time": "2022-01-24T06:55:53.390Z"
   },
   {
    "duration": 792,
    "start_time": "2022-01-24T06:56:02.653Z"
   },
   {
    "duration": 341,
    "start_time": "2022-01-24T06:56:04.171Z"
   },
   {
    "duration": 332,
    "start_time": "2022-01-24T06:56:19.810Z"
   },
   {
    "duration": 293,
    "start_time": "2022-01-24T06:58:38.411Z"
   },
   {
    "duration": 132,
    "start_time": "2022-01-24T06:59:02.071Z"
   },
   {
    "duration": 303,
    "start_time": "2022-01-24T06:59:22.280Z"
   },
   {
    "duration": 188,
    "start_time": "2022-01-24T06:59:53.910Z"
   },
   {
    "duration": 28,
    "start_time": "2022-01-24T07:00:07.212Z"
   },
   {
    "duration": 35,
    "start_time": "2022-01-24T07:00:34.610Z"
   },
   {
    "duration": 4,
    "start_time": "2022-01-24T07:07:30.791Z"
   },
   {
    "duration": 97,
    "start_time": "2022-01-24T07:15:39.031Z"
   },
   {
    "duration": 43,
    "start_time": "2022-01-24T07:15:57.111Z"
   },
   {
    "duration": 367,
    "start_time": "2022-01-24T07:16:27.490Z"
   },
   {
    "duration": 333,
    "start_time": "2022-01-24T07:16:34.132Z"
   },
   {
    "duration": 337,
    "start_time": "2022-01-24T07:16:47.191Z"
   },
   {
    "duration": 330,
    "start_time": "2022-01-24T07:16:57.890Z"
   },
   {
    "duration": 96,
    "start_time": "2022-01-24T07:17:09.071Z"
   },
   {
    "duration": 6,
    "start_time": "2022-01-24T07:17:13.090Z"
   },
   {
    "duration": 40,
    "start_time": "2022-01-24T07:17:36.227Z"
   },
   {
    "duration": 5,
    "start_time": "2022-01-24T07:17:40.872Z"
   },
   {
    "duration": 35,
    "start_time": "2022-01-24T07:18:27.050Z"
   },
   {
    "duration": 5,
    "start_time": "2022-01-24T07:18:30.970Z"
   },
   {
    "duration": 34,
    "start_time": "2022-01-24T07:20:08.251Z"
   },
   {
    "duration": 5,
    "start_time": "2022-01-24T07:20:14.890Z"
   },
   {
    "duration": 4,
    "start_time": "2022-01-24T07:20:18.971Z"
   },
   {
    "duration": 19,
    "start_time": "2022-01-24T07:20:59.712Z"
   },
   {
    "duration": 21,
    "start_time": "2022-01-24T07:21:03.682Z"
   },
   {
    "duration": 4,
    "start_time": "2022-01-24T07:21:06.791Z"
   },
   {
    "duration": 32,
    "start_time": "2022-01-24T07:22:22.151Z"
   },
   {
    "duration": 299,
    "start_time": "2022-01-24T07:27:28.331Z"
   },
   {
    "duration": 317,
    "start_time": "2022-01-24T07:28:35.170Z"
   },
   {
    "duration": 313,
    "start_time": "2022-01-24T07:31:15.151Z"
   },
   {
    "duration": 304,
    "start_time": "2022-01-24T07:31:26.335Z"
   },
   {
    "duration": 368,
    "start_time": "2022-01-24T07:57:30.059Z"
   },
   {
    "duration": 364,
    "start_time": "2022-01-24T08:01:48.610Z"
   },
   {
    "duration": 273,
    "start_time": "2022-01-24T13:42:13.033Z"
   },
   {
    "duration": 232,
    "start_time": "2022-01-24T13:46:16.413Z"
   },
   {
    "duration": 245,
    "start_time": "2022-01-24T13:46:27.973Z"
   },
   {
    "duration": 229,
    "start_time": "2022-01-24T13:46:31.213Z"
   },
   {
    "duration": 95,
    "start_time": "2022-01-24T13:49:41.632Z"
   },
   {
    "duration": 234,
    "start_time": "2022-01-24T13:52:36.814Z"
   },
   {
    "duration": 247,
    "start_time": "2022-01-24T13:52:59.813Z"
   },
   {
    "duration": 217,
    "start_time": "2022-01-24T13:56:13.373Z"
   },
   {
    "duration": 493,
    "start_time": "2022-01-24T13:56:28.272Z"
   },
   {
    "duration": 251,
    "start_time": "2022-01-24T14:02:52.337Z"
   },
   {
    "duration": 232,
    "start_time": "2022-01-24T14:02:59.653Z"
   },
   {
    "duration": 246,
    "start_time": "2022-01-24T14:03:54.253Z"
   },
   {
    "duration": 226,
    "start_time": "2022-01-24T14:04:21.212Z"
   },
   {
    "duration": 290,
    "start_time": "2022-01-24T14:07:20.252Z"
   },
   {
    "duration": 234,
    "start_time": "2022-01-24T14:07:27.853Z"
   },
   {
    "duration": 221,
    "start_time": "2022-01-24T14:07:40.454Z"
   },
   {
    "duration": 2,
    "start_time": "2022-01-24T14:07:44.933Z"
   },
   {
    "duration": 240,
    "start_time": "2022-01-24T14:07:47.252Z"
   },
   {
    "duration": 233,
    "start_time": "2022-01-24T14:07:50.092Z"
   },
   {
    "duration": 235,
    "start_time": "2022-01-24T14:07:59.254Z"
   },
   {
    "duration": 245,
    "start_time": "2022-01-24T14:11:24.899Z"
   },
   {
    "duration": 220,
    "start_time": "2022-01-24T14:11:34.454Z"
   },
   {
    "duration": 550,
    "start_time": "2022-01-24T14:11:40.373Z"
   },
   {
    "duration": 125,
    "start_time": "2022-01-24T14:11:43.173Z"
   },
   {
    "duration": 20,
    "start_time": "2022-01-24T14:11:45.493Z"
   },
   {
    "duration": 24,
    "start_time": "2022-01-24T14:11:46.293Z"
   },
   {
    "duration": 4,
    "start_time": "2022-01-24T14:11:47.812Z"
   },
   {
    "duration": 20,
    "start_time": "2022-01-24T14:11:49.864Z"
   },
   {
    "duration": 3,
    "start_time": "2022-01-24T14:11:52.493Z"
   },
   {
    "duration": 22,
    "start_time": "2022-01-24T14:11:53.532Z"
   },
   {
    "duration": 6,
    "start_time": "2022-01-24T14:11:56.333Z"
   },
   {
    "duration": 7,
    "start_time": "2022-01-24T14:12:00.853Z"
   },
   {
    "duration": 263,
    "start_time": "2022-01-24T14:12:55.013Z"
   },
   {
    "duration": 115,
    "start_time": "2022-01-24T14:13:13.333Z"
   },
   {
    "duration": 1749,
    "start_time": "2022-01-24T14:13:27.493Z"
   },
   {
    "duration": -2014,
    "start_time": "2022-01-24T14:14:28.881Z"
   },
   {
    "duration": 21,
    "start_time": "2022-01-24T14:14:43.052Z"
   },
   {
    "duration": 6899,
    "start_time": "2022-01-24T14:15:00.293Z"
   },
   {
    "duration": -1838,
    "start_time": "2022-01-24T14:15:51.104Z"
   },
   {
    "duration": 7,
    "start_time": "2022-01-24T14:16:01.973Z"
   },
   {
    "duration": 9,
    "start_time": "2022-01-24T14:16:23.293Z"
   },
   {
    "duration": 1466,
    "start_time": "2022-01-24T14:16:55.533Z"
   },
   {
    "duration": 1479,
    "start_time": "2022-01-24T14:17:06.816Z"
   },
   {
    "duration": 1578,
    "start_time": "2022-01-24T14:17:18.492Z"
   },
   {
    "duration": 3291,
    "start_time": "2022-01-24T14:17:26.413Z"
   },
   {
    "duration": 7154,
    "start_time": "2022-01-24T14:19:04.413Z"
   },
   {
    "duration": -1125,
    "start_time": "2022-01-24T14:19:12.694Z"
   },
   {
    "duration": 825,
    "start_time": "2022-01-24T16:13:05.762Z"
   },
   {
    "duration": 159,
    "start_time": "2022-01-24T16:13:06.589Z"
   },
   {
    "duration": 23,
    "start_time": "2022-01-24T16:13:06.751Z"
   },
   {
    "duration": 27,
    "start_time": "2022-01-24T16:13:06.811Z"
   },
   {
    "duration": 4,
    "start_time": "2022-01-24T16:13:08.881Z"
   },
   {
    "duration": 22,
    "start_time": "2022-01-24T16:13:09.873Z"
   },
   {
    "duration": 4,
    "start_time": "2022-01-24T16:13:10.523Z"
   },
   {
    "duration": 26,
    "start_time": "2022-01-24T16:13:12.202Z"
   },
   {
    "duration": 1417,
    "start_time": "2022-01-24T16:14:27.562Z"
   },
   {
    "duration": 5035,
    "start_time": "2022-01-24T16:14:41.922Z"
   },
   {
    "duration": 76,
    "start_time": "2022-01-24T16:15:10.642Z"
   },
   {
    "duration": 68,
    "start_time": "2022-01-24T16:15:16.241Z"
   },
   {
    "duration": 206,
    "start_time": "2022-01-24T16:15:19.401Z"
   },
   {
    "duration": 214,
    "start_time": "2022-01-24T16:16:48.442Z"
   },
   {
    "duration": 21,
    "start_time": "2022-01-24T16:18:28.801Z"
   },
   {
    "duration": 4,
    "start_time": "2022-01-24T16:18:30.842Z"
   },
   {
    "duration": 29,
    "start_time": "2022-01-24T16:18:35.922Z"
   },
   {
    "duration": 200,
    "start_time": "2022-01-24T16:18:39.697Z"
   },
   {
    "duration": 267,
    "start_time": "2022-01-24T16:18:56.601Z"
   },
   {
    "duration": 111,
    "start_time": "2022-01-24T16:20:04.243Z"
   },
   {
    "duration": 69,
    "start_time": "2022-01-24T16:20:13.481Z"
   },
   {
    "duration": 210,
    "start_time": "2022-01-24T16:20:23.881Z"
   },
   {
    "duration": 10,
    "start_time": "2022-01-24T16:20:48.682Z"
   },
   {
    "duration": 11,
    "start_time": "2022-01-24T16:20:51.521Z"
   },
   {
    "duration": 9,
    "start_time": "2022-01-24T16:20:54.161Z"
   },
   {
    "duration": 23,
    "start_time": "2022-01-24T16:21:39.002Z"
   },
   {
    "duration": 7,
    "start_time": "2022-01-24T16:21:45.203Z"
   },
   {
    "duration": 207,
    "start_time": "2022-01-24T16:31:21.241Z"
   },
   {
    "duration": 187,
    "start_time": "2022-01-24T16:31:59.214Z"
   },
   {
    "duration": 29,
    "start_time": "2022-01-24T16:32:15.841Z"
   },
   {
    "duration": 15,
    "start_time": "2022-01-24T16:32:26.001Z"
   },
   {
    "duration": 8,
    "start_time": "2022-01-24T16:32:29.281Z"
   },
   {
    "duration": 15,
    "start_time": "2022-01-24T16:32:37.681Z"
   },
   {
    "duration": 8,
    "start_time": "2022-01-24T16:32:40.801Z"
   },
   {
    "duration": 24,
    "start_time": "2022-01-24T16:33:08.881Z"
   },
   {
    "duration": 14,
    "start_time": "2022-01-24T16:34:20.081Z"
   },
   {
    "duration": 24,
    "start_time": "2022-01-24T16:34:22.161Z"
   },
   {
    "duration": 16,
    "start_time": "2022-01-24T16:34:50.765Z"
   },
   {
    "duration": 24,
    "start_time": "2022-01-24T16:34:53.001Z"
   },
   {
    "duration": 14,
    "start_time": "2022-01-24T16:35:23.441Z"
   },
   {
    "duration": 18,
    "start_time": "2022-01-24T16:35:41.201Z"
   },
   {
    "duration": 14,
    "start_time": "2022-01-24T16:35:43.521Z"
   },
   {
    "duration": 24,
    "start_time": "2022-01-24T16:35:59.240Z"
   },
   {
    "duration": 3,
    "start_time": "2022-01-24T16:36:10.321Z"
   },
   {
    "duration": 146,
    "start_time": "2022-01-24T16:36:12.481Z"
   },
   {
    "duration": 14,
    "start_time": "2022-01-24T16:36:18.801Z"
   },
   {
    "duration": 24,
    "start_time": "2022-01-24T16:36:29.681Z"
   },
   {
    "duration": 4,
    "start_time": "2022-01-24T16:36:42.641Z"
   },
   {
    "duration": 19,
    "start_time": "2022-01-24T16:37:16.442Z"
   },
   {
    "duration": 4,
    "start_time": "2022-01-24T16:37:18.121Z"
   },
   {
    "duration": 24,
    "start_time": "2022-01-24T16:37:24.440Z"
   },
   {
    "duration": 17,
    "start_time": "2022-01-24T16:37:28.001Z"
   },
   {
    "duration": 23,
    "start_time": "2022-01-24T16:37:31.200Z"
   },
   {
    "duration": 16,
    "start_time": "2022-01-24T16:37:56.721Z"
   },
   {
    "duration": 3,
    "start_time": "2022-01-24T16:37:57.641Z"
   },
   {
    "duration": 26,
    "start_time": "2022-01-24T16:38:00.761Z"
   },
   {
    "duration": 20,
    "start_time": "2022-01-24T16:38:03.321Z"
   },
   {
    "duration": 26,
    "start_time": "2022-01-24T16:38:04.521Z"
   },
   {
    "duration": 12,
    "start_time": "2022-01-24T16:38:20.840Z"
   },
   {
    "duration": 4,
    "start_time": "2022-01-24T16:38:21.762Z"
   },
   {
    "duration": 26,
    "start_time": "2022-01-24T16:38:23.841Z"
   },
   {
    "duration": 19,
    "start_time": "2022-01-24T16:38:26.521Z"
   },
   {
    "duration": 25,
    "start_time": "2022-01-24T16:38:27.608Z"
   },
   {
    "duration": 3,
    "start_time": "2022-01-24T16:38:38.441Z"
   },
   {
    "duration": 26,
    "start_time": "2022-01-24T16:39:10.360Z"
   },
   {
    "duration": 18,
    "start_time": "2022-01-24T16:39:12.281Z"
   },
   {
    "duration": 26,
    "start_time": "2022-01-24T16:39:17.841Z"
   },
   {
    "duration": 15,
    "start_time": "2022-01-24T16:39:54.721Z"
   },
   {
    "duration": 23,
    "start_time": "2022-01-24T16:39:56.041Z"
   },
   {
    "duration": 24,
    "start_time": "2022-01-24T16:40:31.401Z"
   },
   {
    "duration": 15,
    "start_time": "2022-01-24T16:40:33.408Z"
   },
   {
    "duration": 23,
    "start_time": "2022-01-24T16:40:40.801Z"
   },
   {
    "duration": 19,
    "start_time": "2022-01-24T16:40:58.608Z"
   },
   {
    "duration": 15,
    "start_time": "2022-01-24T16:41:15.642Z"
   },
   {
    "duration": 14,
    "start_time": "2022-01-24T16:41:17.122Z"
   },
   {
    "duration": 3,
    "start_time": "2022-01-24T16:43:19.961Z"
   },
   {
    "duration": 181,
    "start_time": "2022-01-24T16:43:19.967Z"
   },
   {
    "duration": 14,
    "start_time": "2022-01-24T16:43:20.151Z"
   },
   {
    "duration": 51,
    "start_time": "2022-01-24T16:43:20.168Z"
   },
   {
    "duration": 5,
    "start_time": "2022-01-24T16:43:20.221Z"
   },
   {
    "duration": 24,
    "start_time": "2022-01-24T16:43:20.228Z"
   },
   {
    "duration": 4,
    "start_time": "2022-01-24T16:43:20.254Z"
   },
   {
    "duration": 51,
    "start_time": "2022-01-24T16:43:20.261Z"
   },
   {
    "duration": 19,
    "start_time": "2022-01-24T16:43:20.314Z"
   },
   {
    "duration": 14,
    "start_time": "2022-01-24T16:43:20.335Z"
   },
   {
    "duration": 8,
    "start_time": "2022-01-24T16:43:20.351Z"
   },
   {
    "duration": 9,
    "start_time": "2022-01-24T16:43:20.361Z"
   },
   {
    "duration": 7,
    "start_time": "2022-01-24T16:43:20.371Z"
   },
   {
    "duration": 8,
    "start_time": "2022-01-24T16:43:20.379Z"
   },
   {
    "duration": 19,
    "start_time": "2022-01-24T16:43:20.388Z"
   },
   {
    "duration": 3,
    "start_time": "2022-01-24T16:43:20.409Z"
   },
   {
    "duration": 14,
    "start_time": "2022-01-24T16:43:20.414Z"
   },
   {
    "duration": 15,
    "start_time": "2022-01-24T16:43:20.429Z"
   },
   {
    "duration": 38,
    "start_time": "2022-01-24T16:43:20.445Z"
   },
   {
    "duration": 16,
    "start_time": "2022-01-24T16:43:20.485Z"
   },
   {
    "duration": 13,
    "start_time": "2022-01-24T16:43:20.503Z"
   },
   {
    "duration": 11,
    "start_time": "2022-01-24T16:43:20.519Z"
   },
   {
    "duration": 9,
    "start_time": "2022-01-24T16:43:20.534Z"
   },
   {
    "duration": 9,
    "start_time": "2022-01-24T16:43:20.545Z"
   },
   {
    "duration": 10,
    "start_time": "2022-01-24T16:43:20.556Z"
   },
   {
    "duration": 17,
    "start_time": "2022-01-24T16:43:20.568Z"
   },
   {
    "duration": 15,
    "start_time": "2022-01-24T16:43:20.587Z"
   },
   {
    "duration": 11,
    "start_time": "2022-01-24T16:43:20.604Z"
   },
   {
    "duration": 11,
    "start_time": "2022-01-24T16:43:20.617Z"
   },
   {
    "duration": 12,
    "start_time": "2022-01-24T16:43:20.630Z"
   },
   {
    "duration": 20,
    "start_time": "2022-01-24T16:43:20.644Z"
   },
   {
    "duration": 11,
    "start_time": "2022-01-24T16:43:20.667Z"
   },
   {
    "duration": 21,
    "start_time": "2022-01-24T16:43:20.680Z"
   },
   {
    "duration": 12,
    "start_time": "2022-01-24T16:43:20.703Z"
   },
   {
    "duration": 16,
    "start_time": "2022-01-24T16:43:20.717Z"
   },
   {
    "duration": 21,
    "start_time": "2022-01-24T16:43:20.735Z"
   },
   {
    "duration": 18,
    "start_time": "2022-01-24T16:43:20.758Z"
   },
   {
    "duration": 18,
    "start_time": "2022-01-24T16:43:20.778Z"
   },
   {
    "duration": 221,
    "start_time": "2022-01-24T16:44:32.442Z"
   },
   {
    "duration": 9,
    "start_time": "2022-01-24T16:44:40.401Z"
   },
   {
    "duration": 14,
    "start_time": "2022-01-24T16:44:42.282Z"
   },
   {
    "duration": 21,
    "start_time": "2022-01-24T16:45:20.001Z"
   },
   {
    "duration": 19,
    "start_time": "2022-01-24T16:45:33.481Z"
   },
   {
    "duration": 13,
    "start_time": "2022-01-24T16:45:36.601Z"
   },
   {
    "duration": 15,
    "start_time": "2022-01-24T16:46:26.921Z"
   },
   {
    "duration": 12,
    "start_time": "2022-01-24T16:46:28.521Z"
   },
   {
    "duration": 3,
    "start_time": "2022-01-24T16:46:36.442Z"
   },
   {
    "duration": 162,
    "start_time": "2022-01-24T16:46:36.447Z"
   },
   {
    "duration": 14,
    "start_time": "2022-01-24T16:46:36.612Z"
   },
   {
    "duration": 27,
    "start_time": "2022-01-24T16:46:36.628Z"
   },
   {
    "duration": 5,
    "start_time": "2022-01-24T16:46:36.657Z"
   },
   {
    "duration": 56,
    "start_time": "2022-01-24T16:46:36.664Z"
   },
   {
    "duration": 3,
    "start_time": "2022-01-24T16:46:36.722Z"
   },
   {
    "duration": 27,
    "start_time": "2022-01-24T16:46:36.728Z"
   },
   {
    "duration": 18,
    "start_time": "2022-01-24T16:46:36.757Z"
   },
   {
    "duration": 43,
    "start_time": "2022-01-24T16:46:36.777Z"
   },
   {
    "duration": 4,
    "start_time": "2022-01-24T16:46:36.822Z"
   },
   {
    "duration": 7,
    "start_time": "2022-01-24T16:46:36.827Z"
   },
   {
    "duration": 7,
    "start_time": "2022-01-24T16:46:36.836Z"
   },
   {
    "duration": 8,
    "start_time": "2022-01-24T16:46:36.845Z"
   },
   {
    "duration": 5,
    "start_time": "2022-01-24T16:46:36.856Z"
   },
   {
    "duration": 6,
    "start_time": "2022-01-24T16:46:36.862Z"
   },
   {
    "duration": 9,
    "start_time": "2022-01-24T16:46:36.870Z"
   },
   {
    "duration": 22,
    "start_time": "2022-01-24T16:46:36.880Z"
   },
   {
    "duration": 7,
    "start_time": "2022-01-24T16:46:36.904Z"
   },
   {
    "duration": 10,
    "start_time": "2022-01-24T16:46:36.913Z"
   },
   {
    "duration": 9,
    "start_time": "2022-01-24T16:46:36.925Z"
   },
   {
    "duration": 12,
    "start_time": "2022-01-24T16:46:36.935Z"
   },
   {
    "duration": 9,
    "start_time": "2022-01-24T16:46:36.950Z"
   },
   {
    "duration": 14,
    "start_time": "2022-01-24T16:46:36.962Z"
   },
   {
    "duration": 11,
    "start_time": "2022-01-24T16:46:36.978Z"
   },
   {
    "duration": 14,
    "start_time": "2022-01-24T16:46:36.991Z"
   },
   {
    "duration": 13,
    "start_time": "2022-01-24T16:46:37.007Z"
   },
   {
    "duration": 8,
    "start_time": "2022-01-24T16:46:37.022Z"
   },
   {
    "duration": 16,
    "start_time": "2022-01-24T16:46:37.032Z"
   },
   {
    "duration": 21,
    "start_time": "2022-01-24T16:46:37.051Z"
   },
   {
    "duration": 20,
    "start_time": "2022-01-24T16:46:37.074Z"
   },
   {
    "duration": 16,
    "start_time": "2022-01-24T16:46:37.096Z"
   },
   {
    "duration": 29,
    "start_time": "2022-01-24T16:46:37.114Z"
   },
   {
    "duration": 21,
    "start_time": "2022-01-24T16:46:37.145Z"
   },
   {
    "duration": 16,
    "start_time": "2022-01-24T16:46:37.169Z"
   },
   {
    "duration": 18,
    "start_time": "2022-01-24T16:46:37.187Z"
   },
   {
    "duration": 24,
    "start_time": "2022-01-24T16:46:37.207Z"
   },
   {
    "duration": 19,
    "start_time": "2022-01-24T16:46:37.233Z"
   },
   {
    "duration": 26,
    "start_time": "2022-01-24T16:47:50.720Z"
   },
   {
    "duration": 3,
    "start_time": "2022-01-24T16:48:00.561Z"
   },
   {
    "duration": 152,
    "start_time": "2022-01-24T16:48:01.401Z"
   },
   {
    "duration": 14,
    "start_time": "2022-01-24T16:48:02.241Z"
   },
   {
    "duration": 26,
    "start_time": "2022-01-24T16:48:03.454Z"
   },
   {
    "duration": 4,
    "start_time": "2022-01-24T16:48:06.161Z"
   },
   {
    "duration": 19,
    "start_time": "2022-01-24T16:48:07.241Z"
   },
   {
    "duration": 4,
    "start_time": "2022-01-24T16:48:08.160Z"
   },
   {
    "duration": 25,
    "start_time": "2022-01-24T16:48:09.081Z"
   },
   {
    "duration": 15,
    "start_time": "2022-01-24T16:48:09.833Z"
   },
   {
    "duration": 23,
    "start_time": "2022-01-24T16:48:10.561Z"
   },
   {
    "duration": 8,
    "start_time": "2022-01-24T16:49:09.802Z"
   },
   {
    "duration": 24,
    "start_time": "2022-01-24T16:49:11.601Z"
   },
   {
    "duration": 3,
    "start_time": "2022-01-24T16:49:17.441Z"
   },
   {
    "duration": 150,
    "start_time": "2022-01-24T16:49:17.446Z"
   },
   {
    "duration": 17,
    "start_time": "2022-01-24T16:49:17.599Z"
   },
   {
    "duration": 29,
    "start_time": "2022-01-24T16:49:17.618Z"
   },
   {
    "duration": 5,
    "start_time": "2022-01-24T16:49:17.649Z"
   },
   {
    "duration": 21,
    "start_time": "2022-01-24T16:49:17.656Z"
   },
   {
    "duration": 29,
    "start_time": "2022-01-24T16:49:17.679Z"
   },
   {
    "duration": 28,
    "start_time": "2022-01-24T16:49:17.711Z"
   },
   {
    "duration": 14,
    "start_time": "2022-01-24T16:49:17.741Z"
   },
   {
    "duration": 31,
    "start_time": "2022-01-24T16:49:17.757Z"
   },
   {
    "duration": 18,
    "start_time": "2022-01-24T16:49:17.790Z"
   },
   {
    "duration": 9,
    "start_time": "2022-01-24T16:49:17.810Z"
   },
   {
    "duration": 9,
    "start_time": "2022-01-24T16:49:17.821Z"
   },
   {
    "duration": 7,
    "start_time": "2022-01-24T16:49:17.832Z"
   },
   {
    "duration": 12,
    "start_time": "2022-01-24T16:49:17.841Z"
   },
   {
    "duration": 7,
    "start_time": "2022-01-24T16:49:17.855Z"
   },
   {
    "duration": 17,
    "start_time": "2022-01-24T16:49:17.864Z"
   },
   {
    "duration": 13,
    "start_time": "2022-01-24T16:49:17.883Z"
   },
   {
    "duration": 9,
    "start_time": "2022-01-24T16:49:17.898Z"
   },
   {
    "duration": 8,
    "start_time": "2022-01-24T16:49:17.909Z"
   },
   {
    "duration": 12,
    "start_time": "2022-01-24T16:49:17.919Z"
   },
   {
    "duration": 11,
    "start_time": "2022-01-24T16:49:17.933Z"
   },
   {
    "duration": 7,
    "start_time": "2022-01-24T16:49:17.948Z"
   },
   {
    "duration": 13,
    "start_time": "2022-01-24T16:49:17.957Z"
   },
   {
    "duration": 13,
    "start_time": "2022-01-24T16:49:17.972Z"
   },
   {
    "duration": 9,
    "start_time": "2022-01-24T16:49:17.987Z"
   },
   {
    "duration": 11,
    "start_time": "2022-01-24T16:49:17.998Z"
   },
   {
    "duration": 12,
    "start_time": "2022-01-24T16:49:18.011Z"
   },
   {
    "duration": 15,
    "start_time": "2022-01-24T16:49:18.024Z"
   },
   {
    "duration": 8,
    "start_time": "2022-01-24T16:49:18.041Z"
   },
   {
    "duration": 15,
    "start_time": "2022-01-24T16:49:18.051Z"
   },
   {
    "duration": 9,
    "start_time": "2022-01-24T16:49:18.068Z"
   },
   {
    "duration": 17,
    "start_time": "2022-01-24T16:49:18.079Z"
   },
   {
    "duration": 11,
    "start_time": "2022-01-24T16:49:18.098Z"
   },
   {
    "duration": 9,
    "start_time": "2022-01-24T16:49:18.111Z"
   },
   {
    "duration": 15,
    "start_time": "2022-01-24T16:49:18.122Z"
   },
   {
    "duration": 7,
    "start_time": "2022-01-24T16:49:18.139Z"
   },
   {
    "duration": 8,
    "start_time": "2022-01-24T16:49:18.148Z"
   },
   {
    "duration": 3,
    "start_time": "2022-01-24T16:49:28.640Z"
   },
   {
    "duration": 153,
    "start_time": "2022-01-24T16:49:29.041Z"
   },
   {
    "duration": 13,
    "start_time": "2022-01-24T16:49:29.360Z"
   },
   {
    "duration": 23,
    "start_time": "2022-01-24T16:49:29.721Z"
   },
   {
    "duration": 4,
    "start_time": "2022-01-24T16:49:30.640Z"
   },
   {
    "duration": 17,
    "start_time": "2022-01-24T16:49:30.960Z"
   },
   {
    "duration": 4,
    "start_time": "2022-01-24T16:49:31.321Z"
   },
   {
    "duration": 22,
    "start_time": "2022-01-24T16:49:31.761Z"
   },
   {
    "duration": 11,
    "start_time": "2022-01-24T16:49:33.520Z"
   },
   {
    "duration": 25,
    "start_time": "2022-01-24T16:49:34.400Z"
   },
   {
    "duration": 22,
    "start_time": "2022-01-24T16:49:49.608Z"
   },
   {
    "duration": 16,
    "start_time": "2022-01-24T16:49:52.360Z"
   },
   {
    "duration": 31,
    "start_time": "2022-01-24T16:49:53.761Z"
   },
   {
    "duration": 3,
    "start_time": "2022-01-24T16:49:59.161Z"
   },
   {
    "duration": 173,
    "start_time": "2022-01-24T16:49:59.167Z"
   },
   {
    "duration": 15,
    "start_time": "2022-01-24T16:49:59.343Z"
   },
   {
    "duration": 47,
    "start_time": "2022-01-24T16:49:59.360Z"
   },
   {
    "duration": 5,
    "start_time": "2022-01-24T16:49:59.409Z"
   },
   {
    "duration": 19,
    "start_time": "2022-01-24T16:49:59.416Z"
   },
   {
    "duration": 4,
    "start_time": "2022-01-24T16:49:59.437Z"
   },
   {
    "duration": 27,
    "start_time": "2022-01-24T16:49:59.445Z"
   },
   {
    "duration": 19,
    "start_time": "2022-01-24T16:49:59.508Z"
   },
   {
    "duration": 33,
    "start_time": "2022-01-24T16:49:59.530Z"
   },
   {
    "duration": 2,
    "start_time": "2022-01-24T16:49:59.565Z"
   },
   {
    "duration": 8,
    "start_time": "2022-01-24T16:49:59.569Z"
   },
   {
    "duration": 6,
    "start_time": "2022-01-24T16:49:59.579Z"
   },
   {
    "duration": 4,
    "start_time": "2022-01-24T16:49:59.607Z"
   },
   {
    "duration": 9,
    "start_time": "2022-01-24T16:49:59.613Z"
   },
   {
    "duration": 12,
    "start_time": "2022-01-24T16:49:59.624Z"
   },
   {
    "duration": 10,
    "start_time": "2022-01-24T16:49:59.638Z"
   },
   {
    "duration": 9,
    "start_time": "2022-01-24T16:49:59.650Z"
   },
   {
    "duration": 8,
    "start_time": "2022-01-24T16:49:59.661Z"
   },
   {
    "duration": 9,
    "start_time": "2022-01-24T16:49:59.671Z"
   },
   {
    "duration": 8,
    "start_time": "2022-01-24T16:49:59.682Z"
   },
   {
    "duration": 7,
    "start_time": "2022-01-24T16:49:59.693Z"
   },
   {
    "duration": 9,
    "start_time": "2022-01-24T16:49:59.703Z"
   },
   {
    "duration": 7,
    "start_time": "2022-01-24T16:49:59.715Z"
   },
   {
    "duration": 8,
    "start_time": "2022-01-24T16:49:59.724Z"
   },
   {
    "duration": 12,
    "start_time": "2022-01-24T16:49:59.734Z"
   },
   {
    "duration": 8,
    "start_time": "2022-01-24T16:49:59.748Z"
   },
   {
    "duration": 8,
    "start_time": "2022-01-24T16:49:59.758Z"
   },
   {
    "duration": 8,
    "start_time": "2022-01-24T16:49:59.768Z"
   },
   {
    "duration": 10,
    "start_time": "2022-01-24T16:49:59.778Z"
   },
   {
    "duration": 11,
    "start_time": "2022-01-24T16:49:59.790Z"
   },
   {
    "duration": 8,
    "start_time": "2022-01-24T16:49:59.803Z"
   },
   {
    "duration": 14,
    "start_time": "2022-01-24T16:49:59.813Z"
   },
   {
    "duration": 9,
    "start_time": "2022-01-24T16:49:59.829Z"
   },
   {
    "duration": 9,
    "start_time": "2022-01-24T16:49:59.841Z"
   },
   {
    "duration": 10,
    "start_time": "2022-01-24T16:49:59.852Z"
   },
   {
    "duration": 9,
    "start_time": "2022-01-24T16:49:59.864Z"
   },
   {
    "duration": 9,
    "start_time": "2022-01-24T16:49:59.875Z"
   },
   {
    "duration": 197,
    "start_time": "2022-01-24T16:50:31.521Z"
   },
   {
    "duration": 62,
    "start_time": "2022-01-24T16:50:41.481Z"
   },
   {
    "duration": 190,
    "start_time": "2022-01-24T16:50:46.481Z"
   },
   {
    "duration": 16,
    "start_time": "2022-01-24T16:51:01.241Z"
   },
   {
    "duration": 25,
    "start_time": "2022-01-24T16:51:04.680Z"
   },
   {
    "duration": 2,
    "start_time": "2022-01-24T16:51:10.961Z"
   },
   {
    "duration": 158,
    "start_time": "2022-01-24T16:51:10.966Z"
   },
   {
    "duration": 13,
    "start_time": "2022-01-24T16:51:11.126Z"
   },
   {
    "duration": 28,
    "start_time": "2022-01-24T16:51:11.141Z"
   },
   {
    "duration": 9,
    "start_time": "2022-01-24T16:51:11.171Z"
   },
   {
    "duration": 36,
    "start_time": "2022-01-24T16:51:11.182Z"
   },
   {
    "duration": 3,
    "start_time": "2022-01-24T16:51:11.220Z"
   },
   {
    "duration": 33,
    "start_time": "2022-01-24T16:51:11.226Z"
   },
   {
    "duration": 24,
    "start_time": "2022-01-24T16:51:11.261Z"
   },
   {
    "duration": 29,
    "start_time": "2022-01-24T16:51:11.287Z"
   },
   {
    "duration": 3,
    "start_time": "2022-01-24T16:51:11.318Z"
   },
   {
    "duration": 6,
    "start_time": "2022-01-24T16:51:11.322Z"
   },
   {
    "duration": 9,
    "start_time": "2022-01-24T16:51:11.329Z"
   },
   {
    "duration": 7,
    "start_time": "2022-01-24T16:51:11.340Z"
   },
   {
    "duration": 7,
    "start_time": "2022-01-24T16:51:11.349Z"
   },
   {
    "duration": 7,
    "start_time": "2022-01-24T16:51:11.358Z"
   },
   {
    "duration": 8,
    "start_time": "2022-01-24T16:51:11.367Z"
   },
   {
    "duration": 8,
    "start_time": "2022-01-24T16:51:11.377Z"
   },
   {
    "duration": 7,
    "start_time": "2022-01-24T16:51:11.387Z"
   },
   {
    "duration": 12,
    "start_time": "2022-01-24T16:51:11.396Z"
   },
   {
    "duration": 10,
    "start_time": "2022-01-24T16:51:11.409Z"
   },
   {
    "duration": 8,
    "start_time": "2022-01-24T16:51:11.421Z"
   },
   {
    "duration": 12,
    "start_time": "2022-01-24T16:51:11.433Z"
   },
   {
    "duration": 10,
    "start_time": "2022-01-24T16:51:11.448Z"
   },
   {
    "duration": 8,
    "start_time": "2022-01-24T16:51:11.460Z"
   },
   {
    "duration": 12,
    "start_time": "2022-01-24T16:51:11.469Z"
   },
   {
    "duration": 10,
    "start_time": "2022-01-24T16:51:11.483Z"
   },
   {
    "duration": 9,
    "start_time": "2022-01-24T16:51:11.495Z"
   },
   {
    "duration": 9,
    "start_time": "2022-01-24T16:51:11.506Z"
   },
   {
    "duration": 9,
    "start_time": "2022-01-24T16:51:11.517Z"
   },
   {
    "duration": 11,
    "start_time": "2022-01-24T16:51:11.528Z"
   },
   {
    "duration": 8,
    "start_time": "2022-01-24T16:51:11.541Z"
   },
   {
    "duration": 9,
    "start_time": "2022-01-24T16:51:11.551Z"
   },
   {
    "duration": 10,
    "start_time": "2022-01-24T16:51:11.562Z"
   },
   {
    "duration": 10,
    "start_time": "2022-01-24T16:51:11.574Z"
   },
   {
    "duration": 7,
    "start_time": "2022-01-24T16:51:11.586Z"
   },
   {
    "duration": 13,
    "start_time": "2022-01-24T16:51:11.595Z"
   },
   {
    "duration": 9,
    "start_time": "2022-01-24T16:51:11.610Z"
   },
   {
    "duration": 17,
    "start_time": "2022-01-24T16:53:45.361Z"
   },
   {
    "duration": 24,
    "start_time": "2022-01-24T16:53:46.361Z"
   },
   {
    "duration": 197,
    "start_time": "2022-01-24T16:55:26.268Z"
   },
   {
    "duration": 15,
    "start_time": "2022-01-24T16:55:36.961Z"
   },
   {
    "duration": 27,
    "start_time": "2022-01-24T16:55:40.000Z"
   },
   {
    "duration": 195,
    "start_time": "2022-01-24T16:56:51.161Z"
   },
   {
    "duration": 15,
    "start_time": "2022-01-24T16:57:24.561Z"
   },
   {
    "duration": 26,
    "start_time": "2022-01-24T16:57:26.360Z"
   },
   {
    "duration": 3,
    "start_time": "2022-01-24T16:57:32.001Z"
   },
   {
    "duration": 201,
    "start_time": "2022-01-24T16:57:32.009Z"
   },
   {
    "duration": 15,
    "start_time": "2022-01-24T16:57:32.213Z"
   },
   {
    "duration": 39,
    "start_time": "2022-01-24T16:57:32.230Z"
   },
   {
    "duration": 14,
    "start_time": "2022-01-24T16:57:32.272Z"
   },
   {
    "duration": 30,
    "start_time": "2022-01-24T16:57:32.289Z"
   },
   {
    "duration": 12,
    "start_time": "2022-01-24T16:57:32.321Z"
   },
   {
    "duration": 42,
    "start_time": "2022-01-24T16:57:32.335Z"
   },
   {
    "duration": 19,
    "start_time": "2022-01-24T16:57:32.379Z"
   },
   {
    "duration": 39,
    "start_time": "2022-01-24T16:57:32.402Z"
   },
   {
    "duration": 16,
    "start_time": "2022-01-24T16:57:32.444Z"
   },
   {
    "duration": 20,
    "start_time": "2022-01-24T16:57:32.462Z"
   },
   {
    "duration": 19,
    "start_time": "2022-01-24T16:57:32.484Z"
   },
   {
    "duration": 31,
    "start_time": "2022-01-24T16:57:32.504Z"
   },
   {
    "duration": 18,
    "start_time": "2022-01-24T16:57:32.537Z"
   },
   {
    "duration": 7,
    "start_time": "2022-01-24T16:57:32.557Z"
   },
   {
    "duration": 13,
    "start_time": "2022-01-24T16:57:32.566Z"
   },
   {
    "duration": 6,
    "start_time": "2022-01-24T16:57:32.581Z"
   },
   {
    "duration": 8,
    "start_time": "2022-01-24T16:57:32.589Z"
   },
   {
    "duration": 7,
    "start_time": "2022-01-24T16:57:32.598Z"
   },
   {
    "duration": 13,
    "start_time": "2022-01-24T16:57:32.607Z"
   },
   {
    "duration": 13,
    "start_time": "2022-01-24T16:57:32.622Z"
   },
   {
    "duration": 8,
    "start_time": "2022-01-24T16:57:32.636Z"
   },
   {
    "duration": 8,
    "start_time": "2022-01-24T16:57:32.646Z"
   },
   {
    "duration": 8,
    "start_time": "2022-01-24T16:57:32.656Z"
   },
   {
    "duration": 12,
    "start_time": "2022-01-24T16:57:32.666Z"
   },
   {
    "duration": 10,
    "start_time": "2022-01-24T16:57:32.680Z"
   },
   {
    "duration": 7,
    "start_time": "2022-01-24T16:57:32.693Z"
   },
   {
    "duration": 18,
    "start_time": "2022-01-24T16:57:32.702Z"
   },
   {
    "duration": 13,
    "start_time": "2022-01-24T16:57:32.722Z"
   },
   {
    "duration": 21,
    "start_time": "2022-01-24T16:57:32.737Z"
   },
   {
    "duration": 10,
    "start_time": "2022-01-24T16:57:32.760Z"
   },
   {
    "duration": 20,
    "start_time": "2022-01-24T16:57:32.772Z"
   },
   {
    "duration": 19,
    "start_time": "2022-01-24T16:57:32.794Z"
   },
   {
    "duration": 12,
    "start_time": "2022-01-24T16:57:32.815Z"
   },
   {
    "duration": 16,
    "start_time": "2022-01-24T16:57:32.829Z"
   },
   {
    "duration": 17,
    "start_time": "2022-01-24T16:57:32.848Z"
   },
   {
    "duration": 14,
    "start_time": "2022-01-24T16:57:32.867Z"
   },
   {
    "duration": 16,
    "start_time": "2022-01-24T16:57:42.041Z"
   },
   {
    "duration": 25,
    "start_time": "2022-01-24T16:57:42.961Z"
   },
   {
    "duration": 3,
    "start_time": "2022-01-24T16:58:34.208Z"
   },
   {
    "duration": 156,
    "start_time": "2022-01-24T16:58:34.521Z"
   },
   {
    "duration": 15,
    "start_time": "2022-01-24T16:58:35.043Z"
   },
   {
    "duration": 26,
    "start_time": "2022-01-24T16:58:35.391Z"
   },
   {
    "duration": 4,
    "start_time": "2022-01-24T16:58:36.241Z"
   },
   {
    "duration": 17,
    "start_time": "2022-01-24T16:58:36.561Z"
   },
   {
    "duration": 4,
    "start_time": "2022-01-24T16:58:36.921Z"
   },
   {
    "duration": 26,
    "start_time": "2022-01-24T16:58:37.713Z"
   },
   {
    "duration": 18,
    "start_time": "2022-01-24T16:58:40.849Z"
   },
   {
    "duration": 24,
    "start_time": "2022-01-24T16:58:41.882Z"
   },
   {
    "duration": 17,
    "start_time": "2022-01-24T17:00:50.841Z"
   },
   {
    "duration": 24,
    "start_time": "2022-01-24T17:00:51.881Z"
   },
   {
    "duration": 3,
    "start_time": "2022-01-24T18:02:27.879Z"
   },
   {
    "duration": 168,
    "start_time": "2022-01-24T18:02:27.884Z"
   },
   {
    "duration": 13,
    "start_time": "2022-01-24T18:02:28.055Z"
   },
   {
    "duration": 37,
    "start_time": "2022-01-24T18:02:28.070Z"
   },
   {
    "duration": 4,
    "start_time": "2022-01-24T18:02:28.109Z"
   },
   {
    "duration": 20,
    "start_time": "2022-01-24T18:02:28.115Z"
   },
   {
    "duration": 3,
    "start_time": "2022-01-24T18:02:28.138Z"
   },
   {
    "duration": 37,
    "start_time": "2022-01-24T18:02:28.143Z"
   },
   {
    "duration": 37,
    "start_time": "2022-01-24T18:02:28.182Z"
   },
   {
    "duration": 26,
    "start_time": "2022-01-24T18:02:28.221Z"
   },
   {
    "duration": 3,
    "start_time": "2022-01-24T18:02:28.249Z"
   },
   {
    "duration": 7,
    "start_time": "2022-01-24T18:02:28.253Z"
   },
   {
    "duration": 28,
    "start_time": "2022-01-24T18:02:28.262Z"
   },
   {
    "duration": 5,
    "start_time": "2022-01-24T18:02:28.292Z"
   },
   {
    "duration": 7,
    "start_time": "2022-01-24T18:02:28.299Z"
   },
   {
    "duration": 33,
    "start_time": "2022-01-24T18:02:28.308Z"
   },
   {
    "duration": 36,
    "start_time": "2022-01-24T18:02:28.343Z"
   },
   {
    "duration": 19,
    "start_time": "2022-01-24T18:02:28.381Z"
   },
   {
    "duration": 12,
    "start_time": "2022-01-24T18:02:28.403Z"
   },
   {
    "duration": 4,
    "start_time": "2022-01-24T18:02:28.418Z"
   },
   {
    "duration": 8,
    "start_time": "2022-01-24T18:02:28.424Z"
   },
   {
    "duration": 5,
    "start_time": "2022-01-24T18:02:28.434Z"
   },
   {
    "duration": 10,
    "start_time": "2022-01-24T18:02:28.441Z"
   },
   {
    "duration": 8,
    "start_time": "2022-01-24T18:02:28.453Z"
   },
   {
    "duration": 12,
    "start_time": "2022-01-24T18:02:28.463Z"
   },
   {
    "duration": 14,
    "start_time": "2022-01-24T18:02:28.477Z"
   },
   {
    "duration": 13,
    "start_time": "2022-01-24T18:02:28.493Z"
   },
   {
    "duration": 8,
    "start_time": "2022-01-24T18:02:28.507Z"
   },
   {
    "duration": 12,
    "start_time": "2022-01-24T18:02:28.517Z"
   },
   {
    "duration": 10,
    "start_time": "2022-01-24T18:02:28.531Z"
   },
   {
    "duration": 11,
    "start_time": "2022-01-24T18:02:28.543Z"
   },
   {
    "duration": 9,
    "start_time": "2022-01-24T18:02:28.556Z"
   },
   {
    "duration": 14,
    "start_time": "2022-01-24T18:02:28.567Z"
   },
   {
    "duration": 10,
    "start_time": "2022-01-24T18:02:28.583Z"
   },
   {
    "duration": 12,
    "start_time": "2022-01-24T18:02:28.595Z"
   },
   {
    "duration": 8,
    "start_time": "2022-01-24T18:02:28.609Z"
   },
   {
    "duration": 9,
    "start_time": "2022-01-24T18:02:28.619Z"
   },
   {
    "duration": 8,
    "start_time": "2022-01-24T18:02:28.630Z"
   },
   {
    "duration": 22,
    "start_time": "2022-01-24T18:02:54.996Z"
   },
   {
    "duration": 25,
    "start_time": "2022-01-24T18:02:56.452Z"
   },
   {
    "duration": 22,
    "start_time": "2022-01-24T18:02:57.840Z"
   },
   {
    "duration": 24,
    "start_time": "2022-01-24T18:02:58.533Z"
   },
   {
    "duration": 624,
    "start_time": "2022-01-24T18:03:15.069Z"
   },
   {
    "duration": 245,
    "start_time": "2022-01-24T18:03:22.244Z"
   },
   {
    "duration": 196,
    "start_time": "2022-01-24T18:03:29.615Z"
   },
   {
    "duration": 256,
    "start_time": "2022-01-24T18:03:31.616Z"
   },
   {
    "duration": 15,
    "start_time": "2022-01-24T18:03:40.862Z"
   },
   {
    "duration": 25,
    "start_time": "2022-01-24T18:03:42.703Z"
   },
   {
    "duration": 19,
    "start_time": "2022-01-24T18:05:43.784Z"
   },
   {
    "duration": 255,
    "start_time": "2022-01-24T18:06:14.525Z"
   },
   {
    "duration": 20,
    "start_time": "2022-01-24T18:06:25.737Z"
   },
   {
    "duration": 29,
    "start_time": "2022-01-24T18:06:32.516Z"
   },
   {
    "duration": 8,
    "start_time": "2022-01-24T18:29:38.660Z"
   },
   {
    "duration": 175,
    "start_time": "2022-01-24T18:29:38.719Z"
   },
   {
    "duration": 14,
    "start_time": "2022-01-24T18:29:39.013Z"
   },
   {
    "duration": 29,
    "start_time": "2022-01-24T18:29:39.130Z"
   },
   {
    "duration": 6,
    "start_time": "2022-01-24T18:29:39.267Z"
   },
   {
    "duration": 624,
    "start_time": "2022-01-24T18:31:05.075Z"
   },
   {
    "duration": 156,
    "start_time": "2022-01-24T18:31:05.701Z"
   },
   {
    "duration": 20,
    "start_time": "2022-01-24T18:31:05.860Z"
   },
   {
    "duration": 34,
    "start_time": "2022-01-24T18:31:05.882Z"
   },
   {
    "duration": 10,
    "start_time": "2022-01-24T18:31:05.918Z"
   },
   {
    "duration": 27,
    "start_time": "2022-01-24T18:31:05.930Z"
   },
   {
    "duration": 6,
    "start_time": "2022-01-24T18:31:05.959Z"
   },
   {
    "duration": 40,
    "start_time": "2022-01-24T18:31:05.968Z"
   },
   {
    "duration": 20,
    "start_time": "2022-01-24T18:31:06.011Z"
   },
   {
    "duration": 28,
    "start_time": "2022-01-24T18:31:06.033Z"
   },
   {
    "duration": 8,
    "start_time": "2022-01-24T18:31:06.063Z"
   },
   {
    "duration": 11,
    "start_time": "2022-01-24T18:31:06.073Z"
   },
   {
    "duration": 6,
    "start_time": "2022-01-24T18:31:06.086Z"
   },
   {
    "duration": 15,
    "start_time": "2022-01-24T18:31:06.095Z"
   },
   {
    "duration": 14,
    "start_time": "2022-01-24T18:31:06.112Z"
   },
   {
    "duration": 14,
    "start_time": "2022-01-24T18:31:06.128Z"
   },
   {
    "duration": 14,
    "start_time": "2022-01-24T18:31:06.144Z"
   },
   {
    "duration": 10,
    "start_time": "2022-01-24T18:31:06.160Z"
   },
   {
    "duration": 14,
    "start_time": "2022-01-24T18:31:06.172Z"
   },
   {
    "duration": 8,
    "start_time": "2022-01-24T18:31:06.188Z"
   },
   {
    "duration": 18,
    "start_time": "2022-01-24T18:31:06.198Z"
   },
   {
    "duration": 24,
    "start_time": "2022-01-24T18:31:06.218Z"
   },
   {
    "duration": 9,
    "start_time": "2022-01-24T18:31:06.246Z"
   },
   {
    "duration": 10,
    "start_time": "2022-01-24T18:31:06.257Z"
   },
   {
    "duration": 11,
    "start_time": "2022-01-24T18:31:06.269Z"
   },
   {
    "duration": 18,
    "start_time": "2022-01-24T18:31:06.282Z"
   },
   {
    "duration": 9,
    "start_time": "2022-01-24T18:31:06.302Z"
   },
   {
    "duration": 14,
    "start_time": "2022-01-24T18:31:06.312Z"
   },
   {
    "duration": 9,
    "start_time": "2022-01-24T18:31:06.328Z"
   },
   {
    "duration": 11,
    "start_time": "2022-01-24T18:31:06.339Z"
   },
   {
    "duration": 17,
    "start_time": "2022-01-24T18:31:06.352Z"
   },
   {
    "duration": 8,
    "start_time": "2022-01-24T18:31:06.372Z"
   },
   {
    "duration": 11,
    "start_time": "2022-01-24T18:31:06.382Z"
   },
   {
    "duration": 13,
    "start_time": "2022-01-24T18:31:06.395Z"
   },
   {
    "duration": 10,
    "start_time": "2022-01-24T18:31:06.409Z"
   },
   {
    "duration": 13,
    "start_time": "2022-01-24T18:31:06.421Z"
   },
   {
    "duration": 8,
    "start_time": "2022-01-24T18:31:06.436Z"
   },
   {
    "duration": 10,
    "start_time": "2022-01-24T18:31:06.446Z"
   },
   {
    "duration": 17,
    "start_time": "2022-01-24T18:31:11.806Z"
   },
   {
    "duration": 25,
    "start_time": "2022-01-24T18:31:12.429Z"
   },
   {
    "duration": 253,
    "start_time": "2022-01-24T18:32:22.371Z"
   },
   {
    "duration": 26,
    "start_time": "2022-01-24T18:32:29.211Z"
   },
   {
    "duration": 26,
    "start_time": "2022-01-24T18:32:31.032Z"
   },
   {
    "duration": 25,
    "start_time": "2022-01-24T18:32:32.698Z"
   },
   {
    "duration": 24,
    "start_time": "2022-01-24T18:32:33.481Z"
   },
   {
    "duration": 3,
    "start_time": "2022-01-24T18:32:35.393Z"
   },
   {
    "duration": 174,
    "start_time": "2022-01-24T18:32:35.399Z"
   },
   {
    "duration": 13,
    "start_time": "2022-01-24T18:32:35.575Z"
   },
   {
    "duration": 38,
    "start_time": "2022-01-24T18:32:35.591Z"
   },
   {
    "duration": 4,
    "start_time": "2022-01-24T18:32:35.632Z"
   },
   {
    "duration": 22,
    "start_time": "2022-01-24T18:32:35.639Z"
   },
   {
    "duration": 4,
    "start_time": "2022-01-24T18:32:35.664Z"
   },
   {
    "duration": 49,
    "start_time": "2022-01-24T18:32:35.670Z"
   },
   {
    "duration": 24,
    "start_time": "2022-01-24T18:32:35.721Z"
   },
   {
    "duration": 23,
    "start_time": "2022-01-24T18:32:35.747Z"
   },
   {
    "duration": 5,
    "start_time": "2022-01-24T18:32:35.771Z"
   },
   {
    "duration": 6,
    "start_time": "2022-01-24T18:32:35.777Z"
   },
   {
    "duration": 2,
    "start_time": "2022-01-24T18:32:35.808Z"
   },
   {
    "duration": 9,
    "start_time": "2022-01-24T18:32:35.812Z"
   },
   {
    "duration": 8,
    "start_time": "2022-01-24T18:32:35.823Z"
   },
   {
    "duration": 14,
    "start_time": "2022-01-24T18:32:35.833Z"
   },
   {
    "duration": 9,
    "start_time": "2022-01-24T18:32:35.849Z"
   },
   {
    "duration": 10,
    "start_time": "2022-01-24T18:32:35.860Z"
   },
   {
    "duration": 11,
    "start_time": "2022-01-24T18:32:35.873Z"
   },
   {
    "duration": 8,
    "start_time": "2022-01-24T18:32:35.886Z"
   },
   {
    "duration": 14,
    "start_time": "2022-01-24T18:32:35.896Z"
   },
   {
    "duration": 11,
    "start_time": "2022-01-24T18:32:35.912Z"
   },
   {
    "duration": 8,
    "start_time": "2022-01-24T18:32:35.925Z"
   },
   {
    "duration": 8,
    "start_time": "2022-01-24T18:32:35.935Z"
   },
   {
    "duration": 12,
    "start_time": "2022-01-24T18:32:35.944Z"
   },
   {
    "duration": 14,
    "start_time": "2022-01-24T18:32:35.958Z"
   },
   {
    "duration": 8,
    "start_time": "2022-01-24T18:32:35.974Z"
   },
   {
    "duration": 8,
    "start_time": "2022-01-24T18:32:35.984Z"
   },
   {
    "duration": 10,
    "start_time": "2022-01-24T18:32:35.994Z"
   },
   {
    "duration": 11,
    "start_time": "2022-01-24T18:32:36.006Z"
   },
   {
    "duration": 16,
    "start_time": "2022-01-24T18:32:36.019Z"
   },
   {
    "duration": 8,
    "start_time": "2022-01-24T18:32:36.037Z"
   },
   {
    "duration": 18,
    "start_time": "2022-01-24T18:32:36.047Z"
   },
   {
    "duration": 9,
    "start_time": "2022-01-24T18:32:36.067Z"
   },
   {
    "duration": 13,
    "start_time": "2022-01-24T18:32:36.078Z"
   },
   {
    "duration": 14,
    "start_time": "2022-01-24T18:32:36.093Z"
   },
   {
    "duration": 12,
    "start_time": "2022-01-24T18:32:36.109Z"
   },
   {
    "duration": 11,
    "start_time": "2022-01-24T18:32:36.123Z"
   },
   {
    "duration": 3,
    "start_time": "2022-01-24T18:34:17.203Z"
   },
   {
    "duration": 205,
    "start_time": "2022-01-24T18:34:17.208Z"
   },
   {
    "duration": 14,
    "start_time": "2022-01-24T18:34:17.416Z"
   },
   {
    "duration": 47,
    "start_time": "2022-01-24T18:34:17.432Z"
   },
   {
    "duration": 27,
    "start_time": "2022-01-24T18:34:17.482Z"
   },
   {
    "duration": 36,
    "start_time": "2022-01-24T18:34:17.511Z"
   },
   {
    "duration": 13,
    "start_time": "2022-01-24T18:34:17.550Z"
   },
   {
    "duration": 41,
    "start_time": "2022-01-24T18:34:17.566Z"
   },
   {
    "duration": 46,
    "start_time": "2022-01-24T18:34:17.610Z"
   },
   {
    "duration": 37,
    "start_time": "2022-01-24T18:34:17.658Z"
   },
   {
    "duration": 22,
    "start_time": "2022-01-24T18:34:17.697Z"
   },
   {
    "duration": 21,
    "start_time": "2022-01-24T18:34:17.722Z"
   },
   {
    "duration": 25,
    "start_time": "2022-01-24T18:34:17.745Z"
   },
   {
    "duration": 18,
    "start_time": "2022-01-24T18:34:17.772Z"
   },
   {
    "duration": 11,
    "start_time": "2022-01-24T18:34:17.792Z"
   },
   {
    "duration": 19,
    "start_time": "2022-01-24T18:34:17.805Z"
   },
   {
    "duration": 9,
    "start_time": "2022-01-24T18:34:17.826Z"
   },
   {
    "duration": 14,
    "start_time": "2022-01-24T18:34:17.837Z"
   },
   {
    "duration": 6,
    "start_time": "2022-01-24T18:34:17.856Z"
   },
   {
    "duration": 13,
    "start_time": "2022-01-24T18:34:17.864Z"
   },
   {
    "duration": 16,
    "start_time": "2022-01-24T18:34:17.879Z"
   },
   {
    "duration": 8,
    "start_time": "2022-01-24T18:34:17.898Z"
   },
   {
    "duration": 17,
    "start_time": "2022-01-24T18:34:17.909Z"
   },
   {
    "duration": 12,
    "start_time": "2022-01-24T18:34:17.929Z"
   },
   {
    "duration": 12,
    "start_time": "2022-01-24T18:34:17.943Z"
   },
   {
    "duration": 15,
    "start_time": "2022-01-24T18:34:17.957Z"
   },
   {
    "duration": 11,
    "start_time": "2022-01-24T18:34:17.974Z"
   },
   {
    "duration": 8,
    "start_time": "2022-01-24T18:34:17.987Z"
   },
   {
    "duration": 13,
    "start_time": "2022-01-24T18:34:17.997Z"
   },
   {
    "duration": 11,
    "start_time": "2022-01-24T18:34:18.012Z"
   },
   {
    "duration": 36,
    "start_time": "2022-01-24T18:34:18.024Z"
   },
   {
    "duration": 46,
    "start_time": "2022-01-24T18:34:18.062Z"
   },
   {
    "duration": 19,
    "start_time": "2022-01-24T18:34:18.110Z"
   },
   {
    "duration": 10,
    "start_time": "2022-01-24T18:34:18.132Z"
   },
   {
    "duration": 11,
    "start_time": "2022-01-24T18:34:18.143Z"
   },
   {
    "duration": 9,
    "start_time": "2022-01-24T18:34:18.156Z"
   },
   {
    "duration": 18,
    "start_time": "2022-01-24T18:34:18.167Z"
   },
   {
    "duration": 10,
    "start_time": "2022-01-24T18:34:18.187Z"
   },
   {
    "duration": 748,
    "start_time": "2022-01-25T11:59:47.552Z"
   },
   {
    "duration": 166,
    "start_time": "2022-01-25T11:59:48.303Z"
   },
   {
    "duration": 26,
    "start_time": "2022-01-25T11:59:48.472Z"
   },
   {
    "duration": 55,
    "start_time": "2022-01-25T11:59:48.501Z"
   },
   {
    "duration": 5,
    "start_time": "2022-01-25T11:59:48.558Z"
   },
   {
    "duration": 25,
    "start_time": "2022-01-25T11:59:48.566Z"
   },
   {
    "duration": 35,
    "start_time": "2022-01-25T11:59:48.593Z"
   },
   {
    "duration": 37,
    "start_time": "2022-01-25T11:59:48.632Z"
   },
   {
    "duration": 26,
    "start_time": "2022-01-25T11:59:48.673Z"
   },
   {
    "duration": 37,
    "start_time": "2022-01-25T11:59:48.722Z"
   },
   {
    "duration": 3,
    "start_time": "2022-01-25T11:59:48.762Z"
   },
   {
    "duration": 6,
    "start_time": "2022-01-25T11:59:48.767Z"
   },
   {
    "duration": 5,
    "start_time": "2022-01-25T11:59:48.775Z"
   },
   {
    "duration": 5,
    "start_time": "2022-01-25T11:59:48.782Z"
   },
   {
    "duration": 5,
    "start_time": "2022-01-25T11:59:48.789Z"
   },
   {
    "duration": 6,
    "start_time": "2022-01-25T11:59:48.824Z"
   },
   {
    "duration": 8,
    "start_time": "2022-01-25T11:59:48.833Z"
   },
   {
    "duration": 6,
    "start_time": "2022-01-25T11:59:48.843Z"
   },
   {
    "duration": 5,
    "start_time": "2022-01-25T11:59:48.851Z"
   },
   {
    "duration": 6,
    "start_time": "2022-01-25T11:59:48.858Z"
   },
   {
    "duration": 8,
    "start_time": "2022-01-25T11:59:48.866Z"
   },
   {
    "duration": 9,
    "start_time": "2022-01-25T11:59:48.876Z"
   },
   {
    "duration": 37,
    "start_time": "2022-01-25T11:59:48.887Z"
   },
   {
    "duration": 17,
    "start_time": "2022-01-25T11:59:48.927Z"
   },
   {
    "duration": 8,
    "start_time": "2022-01-25T11:59:48.946Z"
   },
   {
    "duration": 10,
    "start_time": "2022-01-25T11:59:48.956Z"
   },
   {
    "duration": 4,
    "start_time": "2022-01-25T11:59:48.970Z"
   },
   {
    "duration": 4,
    "start_time": "2022-01-25T11:59:48.977Z"
   },
   {
    "duration": 4,
    "start_time": "2022-01-25T11:59:48.984Z"
   },
   {
    "duration": 7,
    "start_time": "2022-01-25T11:59:48.990Z"
   },
   {
    "duration": 25,
    "start_time": "2022-01-25T11:59:48.999Z"
   },
   {
    "duration": 4,
    "start_time": "2022-01-25T11:59:49.027Z"
   },
   {
    "duration": 11,
    "start_time": "2022-01-25T11:59:49.034Z"
   },
   {
    "duration": 8,
    "start_time": "2022-01-25T11:59:49.047Z"
   },
   {
    "duration": 6,
    "start_time": "2022-01-25T11:59:49.057Z"
   },
   {
    "duration": 4,
    "start_time": "2022-01-25T11:59:49.065Z"
   },
   {
    "duration": 5,
    "start_time": "2022-01-25T11:59:49.072Z"
   },
   {
    "duration": 5,
    "start_time": "2022-01-25T11:59:49.079Z"
   },
   {
    "duration": 3,
    "start_time": "2022-01-25T12:05:27.234Z"
   },
   {
    "duration": 189,
    "start_time": "2022-01-25T12:05:27.240Z"
   },
   {
    "duration": 20,
    "start_time": "2022-01-25T12:05:27.434Z"
   },
   {
    "duration": 29,
    "start_time": "2022-01-25T12:05:27.457Z"
   },
   {
    "duration": 5,
    "start_time": "2022-01-25T12:05:27.488Z"
   },
   {
    "duration": 55,
    "start_time": "2022-01-25T12:05:27.495Z"
   },
   {
    "duration": 5,
    "start_time": "2022-01-25T12:05:27.552Z"
   },
   {
    "duration": 27,
    "start_time": "2022-01-25T12:05:27.559Z"
   },
   {
    "duration": 32,
    "start_time": "2022-01-25T12:05:27.623Z"
   },
   {
    "duration": 28,
    "start_time": "2022-01-25T12:05:27.658Z"
   },
   {
    "duration": 2,
    "start_time": "2022-01-25T12:05:27.689Z"
   },
   {
    "duration": 33,
    "start_time": "2022-01-25T12:05:27.693Z"
   },
   {
    "duration": 15,
    "start_time": "2022-01-25T12:05:27.729Z"
   },
   {
    "duration": 4,
    "start_time": "2022-01-25T12:05:27.747Z"
   },
   {
    "duration": 5,
    "start_time": "2022-01-25T12:05:27.753Z"
   },
   {
    "duration": 5,
    "start_time": "2022-01-25T12:05:27.760Z"
   },
   {
    "duration": 5,
    "start_time": "2022-01-25T12:05:27.767Z"
   },
   {
    "duration": 5,
    "start_time": "2022-01-25T12:05:27.774Z"
   },
   {
    "duration": 4,
    "start_time": "2022-01-25T12:05:27.781Z"
   },
   {
    "duration": 38,
    "start_time": "2022-01-25T12:05:27.787Z"
   },
   {
    "duration": 14,
    "start_time": "2022-01-25T12:05:27.828Z"
   },
   {
    "duration": 11,
    "start_time": "2022-01-25T12:05:27.844Z"
   },
   {
    "duration": 7,
    "start_time": "2022-01-25T12:05:27.857Z"
   },
   {
    "duration": 8,
    "start_time": "2022-01-25T12:05:27.866Z"
   },
   {
    "duration": 7,
    "start_time": "2022-01-25T12:05:27.876Z"
   },
   {
    "duration": 8,
    "start_time": "2022-01-25T12:05:27.885Z"
   },
   {
    "duration": 9,
    "start_time": "2022-01-25T12:05:27.897Z"
   },
   {
    "duration": 16,
    "start_time": "2022-01-25T12:05:27.908Z"
   },
   {
    "duration": 11,
    "start_time": "2022-01-25T12:05:27.927Z"
   },
   {
    "duration": 5,
    "start_time": "2022-01-25T12:05:27.941Z"
   },
   {
    "duration": 7,
    "start_time": "2022-01-25T12:05:27.949Z"
   },
   {
    "duration": 8,
    "start_time": "2022-01-25T12:05:27.958Z"
   },
   {
    "duration": 11,
    "start_time": "2022-01-25T12:05:27.968Z"
   },
   {
    "duration": 6,
    "start_time": "2022-01-25T12:05:27.981Z"
   },
   {
    "duration": 7,
    "start_time": "2022-01-25T12:05:27.989Z"
   },
   {
    "duration": 26,
    "start_time": "2022-01-25T12:05:27.998Z"
   },
   {
    "duration": 13,
    "start_time": "2022-01-25T12:05:28.028Z"
   },
   {
    "duration": 8,
    "start_time": "2022-01-25T12:05:28.044Z"
   },
   {
    "duration": 508,
    "start_time": "2022-01-25T12:06:40.541Z"
   },
   {
    "duration": 80,
    "start_time": "2022-01-25T12:06:48.811Z"
   },
   {
    "duration": 87,
    "start_time": "2022-01-25T12:07:15.492Z"
   },
   {
    "duration": 500,
    "start_time": "2022-01-25T12:07:24.053Z"
   },
   {
    "duration": 75,
    "start_time": "2022-01-25T12:07:27.440Z"
   },
   {
    "duration": 90,
    "start_time": "2022-01-25T12:10:14.452Z"
   },
   {
    "duration": 87,
    "start_time": "2022-01-25T12:10:15.772Z"
   },
   {
    "duration": 337,
    "start_time": "2022-01-25T12:10:17.891Z"
   },
   {
    "duration": 9,
    "start_time": "2022-01-25T12:10:59.652Z"
   },
   {
    "duration": 356,
    "start_time": "2022-01-25T12:14:36.449Z"
   },
   {
    "duration": 321,
    "start_time": "2022-01-25T12:15:52.375Z"
   },
   {
    "duration": 347,
    "start_time": "2022-01-25T12:19:14.462Z"
   },
   {
    "duration": 795,
    "start_time": "2022-01-25T14:11:19.884Z"
   },
   {
    "duration": 193,
    "start_time": "2022-01-25T14:11:20.682Z"
   },
   {
    "duration": 47,
    "start_time": "2022-01-25T14:11:20.880Z"
   },
   {
    "duration": 48,
    "start_time": "2022-01-25T14:11:20.930Z"
   },
   {
    "duration": 5,
    "start_time": "2022-01-25T14:11:20.980Z"
   },
   {
    "duration": 28,
    "start_time": "2022-01-25T14:11:20.988Z"
   },
   {
    "duration": 6,
    "start_time": "2022-01-25T14:11:21.019Z"
   },
   {
    "duration": 40,
    "start_time": "2022-01-25T14:11:21.060Z"
   },
   {
    "duration": 60,
    "start_time": "2022-01-25T14:11:21.104Z"
   },
   {
    "duration": 39,
    "start_time": "2022-01-25T14:11:21.168Z"
   },
   {
    "duration": 103,
    "start_time": "2022-01-25T14:11:21.210Z"
   },
   {
    "duration": 116,
    "start_time": "2022-01-25T14:11:21.316Z"
   },
   {
    "duration": 90,
    "start_time": "2022-01-25T14:11:21.434Z"
   },
   {
    "duration": 462,
    "start_time": "2022-01-25T14:11:21.527Z"
   },
   {
    "duration": -992,
    "start_time": "2022-01-25T14:11:22.985Z"
   },
   {
    "duration": -1001,
    "start_time": "2022-01-25T14:11:22.996Z"
   },
   {
    "duration": -1008,
    "start_time": "2022-01-25T14:11:23.005Z"
   },
   {
    "duration": -1015,
    "start_time": "2022-01-25T14:11:23.014Z"
   },
   {
    "duration": -1021,
    "start_time": "2022-01-25T14:11:23.021Z"
   },
   {
    "duration": -1027,
    "start_time": "2022-01-25T14:11:23.029Z"
   },
   {
    "duration": -1032,
    "start_time": "2022-01-25T14:11:23.036Z"
   },
   {
    "duration": -1038,
    "start_time": "2022-01-25T14:11:23.044Z"
   },
   {
    "duration": -1043,
    "start_time": "2022-01-25T14:11:23.051Z"
   },
   {
    "duration": -1047,
    "start_time": "2022-01-25T14:11:23.057Z"
   },
   {
    "duration": -1053,
    "start_time": "2022-01-25T14:11:23.065Z"
   },
   {
    "duration": -1077,
    "start_time": "2022-01-25T14:11:23.091Z"
   },
   {
    "duration": -1083,
    "start_time": "2022-01-25T14:11:23.099Z"
   },
   {
    "duration": -1088,
    "start_time": "2022-01-25T14:11:23.106Z"
   },
   {
    "duration": -1095,
    "start_time": "2022-01-25T14:11:23.115Z"
   },
   {
    "duration": -1100,
    "start_time": "2022-01-25T14:11:23.122Z"
   },
   {
    "duration": -1111,
    "start_time": "2022-01-25T14:11:23.134Z"
   },
   {
    "duration": -1116,
    "start_time": "2022-01-25T14:11:23.141Z"
   },
   {
    "duration": -1121,
    "start_time": "2022-01-25T14:11:23.149Z"
   },
   {
    "duration": -1125,
    "start_time": "2022-01-25T14:11:23.155Z"
   },
   {
    "duration": -1133,
    "start_time": "2022-01-25T14:11:23.164Z"
   },
   {
    "duration": -1112,
    "start_time": "2022-01-25T14:11:23.171Z"
   },
   {
    "duration": -1119,
    "start_time": "2022-01-25T14:11:23.179Z"
   },
   {
    "duration": -1124,
    "start_time": "2022-01-25T14:11:23.186Z"
   },
   {
    "duration": 840,
    "start_time": "2022-01-25T14:11:45.005Z"
   },
   {
    "duration": 335,
    "start_time": "2022-01-25T14:19:23.345Z"
   },
   {
    "duration": 324,
    "start_time": "2022-01-25T14:19:41.545Z"
   },
   {
    "duration": 69,
    "start_time": "2022-01-25T14:19:47.224Z"
   },
   {
    "duration": 57,
    "start_time": "2022-01-25T14:19:50.306Z"
   },
   {
    "duration": 64,
    "start_time": "2022-01-25T14:19:53.973Z"
   },
   {
    "duration": 615,
    "start_time": "2022-01-25T14:20:14.224Z"
   },
   {
    "duration": 7,
    "start_time": "2022-01-25T14:20:37.784Z"
   },
   {
    "duration": 393,
    "start_time": "2022-01-25T14:20:41.655Z"
   },
   {
    "duration": 348,
    "start_time": "2022-01-25T14:20:46.272Z"
   },
   {
    "duration": 356,
    "start_time": "2022-01-25T14:20:56.924Z"
   },
   {
    "duration": 856,
    "start_time": "2022-01-25T14:21:08.026Z"
   },
   {
    "duration": 205,
    "start_time": "2022-01-25T14:21:08.885Z"
   },
   {
    "duration": 30,
    "start_time": "2022-01-25T14:21:09.093Z"
   },
   {
    "duration": 53,
    "start_time": "2022-01-25T14:21:09.126Z"
   },
   {
    "duration": 5,
    "start_time": "2022-01-25T14:21:09.182Z"
   },
   {
    "duration": 29,
    "start_time": "2022-01-25T14:21:09.189Z"
   },
   {
    "duration": 5,
    "start_time": "2022-01-25T14:21:09.220Z"
   },
   {
    "duration": 72,
    "start_time": "2022-01-25T14:21:09.227Z"
   },
   {
    "duration": 28,
    "start_time": "2022-01-25T14:21:09.302Z"
   },
   {
    "duration": 61,
    "start_time": "2022-01-25T14:21:09.333Z"
   },
   {
    "duration": 98,
    "start_time": "2022-01-25T14:21:09.396Z"
   },
   {
    "duration": 102,
    "start_time": "2022-01-25T14:21:09.496Z"
   },
   {
    "duration": 90,
    "start_time": "2022-01-25T14:21:09.600Z"
   },
   {
    "duration": 10,
    "start_time": "2022-01-25T14:21:09.692Z"
   },
   {
    "duration": 3,
    "start_time": "2022-01-25T14:21:09.704Z"
   },
   {
    "duration": 5,
    "start_time": "2022-01-25T14:21:09.709Z"
   },
   {
    "duration": 6,
    "start_time": "2022-01-25T14:21:09.716Z"
   },
   {
    "duration": 35,
    "start_time": "2022-01-25T14:21:09.724Z"
   },
   {
    "duration": 14,
    "start_time": "2022-01-25T14:21:09.761Z"
   },
   {
    "duration": 6,
    "start_time": "2022-01-25T14:21:09.777Z"
   },
   {
    "duration": 7,
    "start_time": "2022-01-25T14:21:09.785Z"
   },
   {
    "duration": 4,
    "start_time": "2022-01-25T14:21:09.795Z"
   },
   {
    "duration": 6,
    "start_time": "2022-01-25T14:21:09.801Z"
   },
   {
    "duration": 6,
    "start_time": "2022-01-25T14:21:09.809Z"
   },
   {
    "duration": 5,
    "start_time": "2022-01-25T14:21:09.817Z"
   },
   {
    "duration": 52,
    "start_time": "2022-01-25T14:21:09.824Z"
   },
   {
    "duration": 4,
    "start_time": "2022-01-25T14:21:09.882Z"
   },
   {
    "duration": 5,
    "start_time": "2022-01-25T14:21:09.888Z"
   },
   {
    "duration": 7,
    "start_time": "2022-01-25T14:21:09.895Z"
   },
   {
    "duration": 6,
    "start_time": "2022-01-25T14:21:09.904Z"
   },
   {
    "duration": 6,
    "start_time": "2022-01-25T14:21:09.913Z"
   },
   {
    "duration": 5,
    "start_time": "2022-01-25T14:21:09.921Z"
   },
   {
    "duration": 6,
    "start_time": "2022-01-25T14:21:09.928Z"
   },
   {
    "duration": 6,
    "start_time": "2022-01-25T14:21:09.936Z"
   },
   {
    "duration": 11,
    "start_time": "2022-01-25T14:21:09.968Z"
   },
   {
    "duration": 5,
    "start_time": "2022-01-25T14:21:09.981Z"
   },
   {
    "duration": 5,
    "start_time": "2022-01-25T14:21:09.989Z"
   },
   {
    "duration": 6,
    "start_time": "2022-01-25T14:21:09.996Z"
   },
   {
    "duration": 724,
    "start_time": "2022-01-25T14:21:23.106Z"
   },
   {
    "duration": 191,
    "start_time": "2022-01-25T14:21:23.833Z"
   },
   {
    "duration": 41,
    "start_time": "2022-01-25T14:21:24.027Z"
   },
   {
    "duration": 39,
    "start_time": "2022-01-25T14:21:24.072Z"
   },
   {
    "duration": 5,
    "start_time": "2022-01-25T14:21:24.113Z"
   },
   {
    "duration": 48,
    "start_time": "2022-01-25T14:21:24.120Z"
   },
   {
    "duration": 6,
    "start_time": "2022-01-25T14:21:24.173Z"
   },
   {
    "duration": 30,
    "start_time": "2022-01-25T14:21:24.184Z"
   },
   {
    "duration": 58,
    "start_time": "2022-01-25T14:21:24.217Z"
   },
   {
    "duration": 31,
    "start_time": "2022-01-25T14:21:24.277Z"
   },
   {
    "duration": 119,
    "start_time": "2022-01-25T14:21:24.311Z"
   },
   {
    "duration": 111,
    "start_time": "2022-01-25T14:21:24.433Z"
   },
   {
    "duration": 92,
    "start_time": "2022-01-25T14:21:24.546Z"
   },
   {
    "duration": 25,
    "start_time": "2022-01-25T14:21:24.641Z"
   },
   {
    "duration": 4,
    "start_time": "2022-01-25T14:21:24.672Z"
   },
   {
    "duration": 14,
    "start_time": "2022-01-25T14:21:24.678Z"
   },
   {
    "duration": 25,
    "start_time": "2022-01-25T14:21:24.695Z"
   },
   {
    "duration": 12,
    "start_time": "2022-01-25T14:21:24.722Z"
   },
   {
    "duration": 16,
    "start_time": "2022-01-25T14:21:24.737Z"
   },
   {
    "duration": 12,
    "start_time": "2022-01-25T14:21:24.756Z"
   },
   {
    "duration": 12,
    "start_time": "2022-01-25T14:21:24.772Z"
   },
   {
    "duration": 5,
    "start_time": "2022-01-25T14:21:24.786Z"
   },
   {
    "duration": 3,
    "start_time": "2022-01-25T14:21:24.795Z"
   },
   {
    "duration": 4,
    "start_time": "2022-01-25T14:21:24.801Z"
   },
   {
    "duration": 4,
    "start_time": "2022-01-25T14:21:24.807Z"
   },
   {
    "duration": 7,
    "start_time": "2022-01-25T14:21:24.813Z"
   },
   {
    "duration": 4,
    "start_time": "2022-01-25T14:21:24.823Z"
   },
   {
    "duration": 39,
    "start_time": "2022-01-25T14:21:24.829Z"
   },
   {
    "duration": 5,
    "start_time": "2022-01-25T14:21:24.870Z"
   },
   {
    "duration": 6,
    "start_time": "2022-01-25T14:21:24.877Z"
   },
   {
    "duration": 8,
    "start_time": "2022-01-25T14:21:24.885Z"
   },
   {
    "duration": 4,
    "start_time": "2022-01-25T14:21:24.895Z"
   },
   {
    "duration": 7,
    "start_time": "2022-01-25T14:21:24.901Z"
   },
   {
    "duration": 4,
    "start_time": "2022-01-25T14:21:24.910Z"
   },
   {
    "duration": 5,
    "start_time": "2022-01-25T14:21:24.916Z"
   },
   {
    "duration": 37,
    "start_time": "2022-01-25T14:21:24.923Z"
   },
   {
    "duration": 15,
    "start_time": "2022-01-25T14:21:24.963Z"
   },
   {
    "duration": 4,
    "start_time": "2022-01-25T14:21:24.981Z"
   },
   {
    "duration": 100,
    "start_time": "2022-01-25T14:21:35.727Z"
   },
   {
    "duration": 163,
    "start_time": "2022-01-25T14:21:54.606Z"
   },
   {
    "duration": 93,
    "start_time": "2022-01-25T14:21:59.804Z"
   },
   {
    "duration": 470,
    "start_time": "2022-01-25T14:22:11.747Z"
   },
   {
    "duration": 375,
    "start_time": "2022-01-25T14:22:16.872Z"
   },
   {
    "duration": 329,
    "start_time": "2022-01-25T14:23:15.987Z"
   },
   {
    "duration": 316,
    "start_time": "2022-01-25T14:23:22.246Z"
   },
   {
    "duration": 319,
    "start_time": "2022-01-25T14:23:25.386Z"
   },
   {
    "duration": 779,
    "start_time": "2022-01-25T14:23:34.273Z"
   },
   {
    "duration": 196,
    "start_time": "2022-01-25T14:23:35.055Z"
   },
   {
    "duration": 32,
    "start_time": "2022-01-25T14:23:35.255Z"
   },
   {
    "duration": 35,
    "start_time": "2022-01-25T14:23:35.289Z"
   },
   {
    "duration": 4,
    "start_time": "2022-01-25T14:23:35.327Z"
   },
   {
    "duration": 51,
    "start_time": "2022-01-25T14:23:35.333Z"
   },
   {
    "duration": 5,
    "start_time": "2022-01-25T14:23:35.386Z"
   },
   {
    "duration": 33,
    "start_time": "2022-01-25T14:23:35.393Z"
   },
   {
    "duration": 62,
    "start_time": "2022-01-25T14:23:35.430Z"
   },
   {
    "duration": 30,
    "start_time": "2022-01-25T14:23:35.496Z"
   },
   {
    "duration": 101,
    "start_time": "2022-01-25T14:23:35.529Z"
   },
   {
    "duration": 113,
    "start_time": "2022-01-25T14:23:35.632Z"
   },
   {
    "duration": 90,
    "start_time": "2022-01-25T14:23:35.747Z"
   },
   {
    "duration": 103,
    "start_time": "2022-01-25T14:23:35.839Z"
   },
   {
    "duration": 3,
    "start_time": "2022-01-25T14:23:35.944Z"
   },
   {
    "duration": 10,
    "start_time": "2022-01-25T14:23:35.949Z"
   },
   {
    "duration": 14,
    "start_time": "2022-01-25T14:23:35.963Z"
   },
   {
    "duration": 6,
    "start_time": "2022-01-25T14:23:35.980Z"
   },
   {
    "duration": 19,
    "start_time": "2022-01-25T14:23:35.988Z"
   },
   {
    "duration": 7,
    "start_time": "2022-01-25T14:23:36.009Z"
   },
   {
    "duration": 6,
    "start_time": "2022-01-25T14:23:36.018Z"
   },
   {
    "duration": 5,
    "start_time": "2022-01-25T14:23:36.026Z"
   },
   {
    "duration": 34,
    "start_time": "2022-01-25T14:23:36.033Z"
   },
   {
    "duration": 19,
    "start_time": "2022-01-25T14:23:36.070Z"
   },
   {
    "duration": 5,
    "start_time": "2022-01-25T14:23:36.092Z"
   },
   {
    "duration": 7,
    "start_time": "2022-01-25T14:23:36.099Z"
   },
   {
    "duration": 4,
    "start_time": "2022-01-25T14:23:36.111Z"
   },
   {
    "duration": 5,
    "start_time": "2022-01-25T14:23:36.118Z"
   },
   {
    "duration": 9,
    "start_time": "2022-01-25T14:23:36.125Z"
   },
   {
    "duration": 5,
    "start_time": "2022-01-25T14:23:36.137Z"
   },
   {
    "duration": 4,
    "start_time": "2022-01-25T14:23:36.165Z"
   },
   {
    "duration": 12,
    "start_time": "2022-01-25T14:23:36.171Z"
   },
   {
    "duration": 8,
    "start_time": "2022-01-25T14:23:36.185Z"
   },
   {
    "duration": 4,
    "start_time": "2022-01-25T14:23:36.196Z"
   },
   {
    "duration": 6,
    "start_time": "2022-01-25T14:23:36.203Z"
   },
   {
    "duration": 5,
    "start_time": "2022-01-25T14:23:36.212Z"
   },
   {
    "duration": 5,
    "start_time": "2022-01-25T14:23:36.220Z"
   },
   {
    "duration": 32,
    "start_time": "2022-01-25T14:23:36.228Z"
   },
   {
    "duration": 835,
    "start_time": "2022-01-25T14:25:57.011Z"
   },
   {
    "duration": 244,
    "start_time": "2022-01-25T14:25:57.849Z"
   },
   {
    "duration": 29,
    "start_time": "2022-01-25T14:25:58.096Z"
   },
   {
    "duration": 64,
    "start_time": "2022-01-25T14:25:58.129Z"
   },
   {
    "duration": 8,
    "start_time": "2022-01-25T14:25:58.196Z"
   },
   {
    "duration": 28,
    "start_time": "2022-01-25T14:25:58.207Z"
   },
   {
    "duration": 27,
    "start_time": "2022-01-25T14:25:58.237Z"
   },
   {
    "duration": 39,
    "start_time": "2022-01-25T14:25:58.269Z"
   },
   {
    "duration": 66,
    "start_time": "2022-01-25T14:25:58.312Z"
   },
   {
    "duration": 32,
    "start_time": "2022-01-25T14:25:58.381Z"
   },
   {
    "duration": 121,
    "start_time": "2022-01-25T14:25:58.416Z"
   },
   {
    "duration": 120,
    "start_time": "2022-01-25T14:25:58.539Z"
   },
   {
    "duration": 82,
    "start_time": "2022-01-25T14:25:58.662Z"
   },
   {
    "duration": 8766,
    "start_time": "2022-01-25T14:25:58.747Z"
   },
   {
    "duration": -1194,
    "start_time": "2022-01-25T14:26:08.710Z"
   },
   {
    "duration": -1199,
    "start_time": "2022-01-25T14:26:08.717Z"
   },
   {
    "duration": -1203,
    "start_time": "2022-01-25T14:26:08.722Z"
   },
   {
    "duration": -1209,
    "start_time": "2022-01-25T14:26:08.729Z"
   },
   {
    "duration": -1213,
    "start_time": "2022-01-25T14:26:08.735Z"
   },
   {
    "duration": -1218,
    "start_time": "2022-01-25T14:26:08.741Z"
   },
   {
    "duration": -1224,
    "start_time": "2022-01-25T14:26:08.748Z"
   },
   {
    "duration": -1228,
    "start_time": "2022-01-25T14:26:08.754Z"
   },
   {
    "duration": -1232,
    "start_time": "2022-01-25T14:26:08.759Z"
   },
   {
    "duration": -1237,
    "start_time": "2022-01-25T14:26:08.766Z"
   },
   {
    "duration": -1273,
    "start_time": "2022-01-25T14:26:08.803Z"
   },
   {
    "duration": -1280,
    "start_time": "2022-01-25T14:26:08.812Z"
   },
   {
    "duration": -1286,
    "start_time": "2022-01-25T14:26:08.819Z"
   },
   {
    "duration": -1318,
    "start_time": "2022-01-25T14:26:08.853Z"
   },
   {
    "duration": -1325,
    "start_time": "2022-01-25T14:26:08.861Z"
   },
   {
    "duration": -1330,
    "start_time": "2022-01-25T14:26:08.868Z"
   },
   {
    "duration": -1411,
    "start_time": "2022-01-25T14:26:08.950Z"
   },
   {
    "duration": -1477,
    "start_time": "2022-01-25T14:26:09.018Z"
   },
   {
    "duration": -1485,
    "start_time": "2022-01-25T14:26:09.027Z"
   },
   {
    "duration": -1490,
    "start_time": "2022-01-25T14:26:09.033Z"
   },
   {
    "duration": -1522,
    "start_time": "2022-01-25T14:26:09.067Z"
   },
   {
    "duration": -1531,
    "start_time": "2022-01-25T14:26:09.077Z"
   },
   {
    "duration": -1538,
    "start_time": "2022-01-25T14:26:09.085Z"
   },
   {
    "duration": -1581,
    "start_time": "2022-01-25T14:26:09.130Z"
   },
   {
    "duration": 20,
    "start_time": "2022-01-25T14:26:18.650Z"
   },
   {
    "duration": 182,
    "start_time": "2022-01-25T14:33:56.751Z"
   },
   {
    "duration": 120,
    "start_time": "2022-01-25T14:34:03.572Z"
   },
   {
    "duration": 4,
    "start_time": "2022-01-25T14:34:24.071Z"
   },
   {
    "duration": 21,
    "start_time": "2022-01-25T14:36:45.391Z"
   },
   {
    "duration": 9,
    "start_time": "2022-01-25T14:36:59.511Z"
   },
   {
    "duration": 14,
    "start_time": "2022-01-25T14:37:25.631Z"
   },
   {
    "duration": 574,
    "start_time": "2022-01-29T15:26:43.899Z"
   },
   {
    "duration": 140,
    "start_time": "2022-01-29T15:26:44.475Z"
   },
   {
    "duration": 17,
    "start_time": "2022-01-29T15:26:44.618Z"
   },
   {
    "duration": 35,
    "start_time": "2022-01-29T15:26:44.637Z"
   },
   {
    "duration": 4,
    "start_time": "2022-01-29T15:26:44.674Z"
   },
   {
    "duration": 22,
    "start_time": "2022-01-29T15:26:44.679Z"
   },
   {
    "duration": 4,
    "start_time": "2022-01-29T15:26:44.703Z"
   },
   {
    "duration": 28,
    "start_time": "2022-01-29T15:26:44.710Z"
   },
   {
    "duration": 22,
    "start_time": "2022-01-29T15:26:44.761Z"
   },
   {
    "duration": 23,
    "start_time": "2022-01-29T15:26:44.785Z"
   },
   {
    "duration": 107,
    "start_time": "2022-01-29T15:26:44.810Z"
   },
   {
    "duration": 119,
    "start_time": "2022-01-29T15:26:44.919Z"
   },
   {
    "duration": 90,
    "start_time": "2022-01-29T15:26:45.040Z"
   },
   {
    "duration": 13,
    "start_time": "2022-01-29T15:26:45.132Z"
   },
   {
    "duration": 13,
    "start_time": "2022-01-29T15:26:45.147Z"
   },
   {
    "duration": 12,
    "start_time": "2022-01-29T15:26:45.162Z"
   },
   {
    "duration": 12,
    "start_time": "2022-01-29T15:26:45.176Z"
   },
   {
    "duration": 4,
    "start_time": "2022-01-29T15:26:45.189Z"
   },
   {
    "duration": 8,
    "start_time": "2022-01-29T15:26:45.194Z"
   },
   {
    "duration": 8,
    "start_time": "2022-01-29T15:26:45.204Z"
   },
   {
    "duration": 6,
    "start_time": "2022-01-29T15:26:45.214Z"
   },
   {
    "duration": 5,
    "start_time": "2022-01-29T15:26:45.222Z"
   },
   {
    "duration": 4,
    "start_time": "2022-01-29T15:26:45.231Z"
   },
   {
    "duration": 24,
    "start_time": "2022-01-29T15:26:45.237Z"
   },
   {
    "duration": 10,
    "start_time": "2022-01-29T15:26:45.262Z"
   },
   {
    "duration": 8,
    "start_time": "2022-01-29T15:26:45.274Z"
   },
   {
    "duration": 6,
    "start_time": "2022-01-29T15:26:45.283Z"
   },
   {
    "duration": 5,
    "start_time": "2022-01-29T15:26:45.290Z"
   },
   {
    "duration": 7,
    "start_time": "2022-01-29T15:26:45.297Z"
   },
   {
    "duration": 5,
    "start_time": "2022-01-29T15:26:45.305Z"
   },
   {
    "duration": 7,
    "start_time": "2022-01-29T15:26:45.312Z"
   },
   {
    "duration": 6,
    "start_time": "2022-01-29T15:26:45.321Z"
   },
   {
    "duration": 8,
    "start_time": "2022-01-29T15:26:45.328Z"
   },
   {
    "duration": 11,
    "start_time": "2022-01-29T15:26:45.338Z"
   },
   {
    "duration": 4,
    "start_time": "2022-01-29T15:26:45.351Z"
   },
   {
    "duration": 8,
    "start_time": "2022-01-29T15:26:45.357Z"
   },
   {
    "duration": 7,
    "start_time": "2022-01-29T15:26:45.367Z"
   },
   {
    "duration": 8,
    "start_time": "2022-01-29T15:26:45.376Z"
   },
   {
    "duration": 22,
    "start_time": "2022-01-29T15:27:22.449Z"
   },
   {
    "duration": 5,
    "start_time": "2022-01-29T15:28:03.449Z"
   },
   {
    "duration": 22,
    "start_time": "2022-01-29T15:30:40.580Z"
   },
   {
    "duration": 5,
    "start_time": "2022-01-29T15:30:52.570Z"
   },
   {
    "duration": 4,
    "start_time": "2022-01-29T15:35:13.429Z"
   },
   {
    "duration": 31,
    "start_time": "2022-01-29T15:35:26.439Z"
   },
   {
    "duration": 33,
    "start_time": "2022-01-29T15:35:50.489Z"
   },
   {
    "duration": 35,
    "start_time": "2022-01-29T15:36:16.191Z"
   },
   {
    "duration": 33,
    "start_time": "2022-01-29T15:36:19.249Z"
   },
   {
    "duration": 36,
    "start_time": "2022-01-29T15:36:23.049Z"
   },
   {
    "duration": 336,
    "start_time": "2022-01-29T15:37:30.819Z"
   },
   {
    "duration": 224,
    "start_time": "2022-01-29T15:37:45.809Z"
   },
   {
    "duration": 224,
    "start_time": "2022-01-29T15:38:06.870Z"
   },
   {
    "duration": 228,
    "start_time": "2022-01-29T15:39:05.619Z"
   },
   {
    "duration": 202,
    "start_time": "2022-01-29T15:39:28.439Z"
   },
   {
    "duration": 10,
    "start_time": "2022-01-29T15:39:44.859Z"
   },
   {
    "duration": 13,
    "start_time": "2022-01-29T15:40:01.770Z"
   },
   {
    "duration": 12,
    "start_time": "2022-01-29T15:40:11.079Z"
   },
   {
    "duration": 642,
    "start_time": "2022-01-29T15:58:23.736Z"
   },
   {
    "duration": 145,
    "start_time": "2022-01-29T15:58:24.380Z"
   },
   {
    "duration": 19,
    "start_time": "2022-01-29T15:58:24.528Z"
   },
   {
    "duration": 30,
    "start_time": "2022-01-29T15:58:24.549Z"
   },
   {
    "duration": 5,
    "start_time": "2022-01-29T15:58:24.581Z"
   },
   {
    "duration": 27,
    "start_time": "2022-01-29T15:58:24.587Z"
   },
   {
    "duration": 8,
    "start_time": "2022-01-29T15:58:24.616Z"
   },
   {
    "duration": 41,
    "start_time": "2022-01-29T15:58:24.627Z"
   },
   {
    "duration": 24,
    "start_time": "2022-01-29T15:58:24.671Z"
   },
   {
    "duration": 28,
    "start_time": "2022-01-29T15:58:24.697Z"
   },
   {
    "duration": 84,
    "start_time": "2022-01-29T15:58:24.727Z"
   },
   {
    "duration": 83,
    "start_time": "2022-01-29T15:58:24.813Z"
   },
   {
    "duration": 53,
    "start_time": "2022-01-29T15:58:24.898Z"
   },
   {
    "duration": 10,
    "start_time": "2022-01-29T15:58:24.961Z"
   },
   {
    "duration": 4,
    "start_time": "2022-01-29T15:58:24.973Z"
   },
   {
    "duration": 18,
    "start_time": "2022-01-29T15:58:24.978Z"
   },
   {
    "duration": 10,
    "start_time": "2022-01-29T15:58:24.998Z"
   },
   {
    "duration": 54,
    "start_time": "2022-01-29T15:58:25.009Z"
   },
   {
    "duration": 11,
    "start_time": "2022-01-29T15:58:25.065Z"
   },
   {
    "duration": 2,
    "start_time": "2022-01-29T15:58:25.078Z"
   },
   {
    "duration": 10,
    "start_time": "2022-01-29T15:58:25.082Z"
   },
   {
    "duration": 7,
    "start_time": "2022-01-29T15:58:25.094Z"
   },
   {
    "duration": 12,
    "start_time": "2022-01-29T15:58:25.103Z"
   },
   {
    "duration": 13,
    "start_time": "2022-01-29T15:58:25.117Z"
   },
   {
    "duration": 9,
    "start_time": "2022-01-29T15:58:25.131Z"
   },
   {
    "duration": 9,
    "start_time": "2022-01-29T15:58:25.142Z"
   },
   {
    "duration": 5,
    "start_time": "2022-01-29T15:58:25.153Z"
   },
   {
    "duration": 5,
    "start_time": "2022-01-29T15:58:25.160Z"
   },
   {
    "duration": 9,
    "start_time": "2022-01-29T15:58:25.166Z"
   },
   {
    "duration": 7,
    "start_time": "2022-01-29T15:58:25.177Z"
   },
   {
    "duration": 8,
    "start_time": "2022-01-29T15:58:25.186Z"
   },
   {
    "duration": 4,
    "start_time": "2022-01-29T15:58:25.196Z"
   },
   {
    "duration": 9,
    "start_time": "2022-01-29T15:58:25.202Z"
   },
   {
    "duration": 6,
    "start_time": "2022-01-29T15:58:25.212Z"
   },
   {
    "duration": 6,
    "start_time": "2022-01-29T15:58:25.219Z"
   },
   {
    "duration": 7,
    "start_time": "2022-01-29T15:58:25.226Z"
   },
   {
    "duration": 7,
    "start_time": "2022-01-29T15:58:25.234Z"
   },
   {
    "duration": 6,
    "start_time": "2022-01-29T15:58:25.243Z"
   },
   {
    "duration": 265,
    "start_time": "2022-01-29T15:59:43.581Z"
   },
   {
    "duration": 199,
    "start_time": "2022-01-29T15:59:57.760Z"
   },
   {
    "duration": 211,
    "start_time": "2022-01-29T16:00:28.859Z"
   },
   {
    "duration": 12,
    "start_time": "2022-01-29T16:08:29.720Z"
   },
   {
    "duration": 11,
    "start_time": "2022-01-29T16:08:41.509Z"
   },
   {
    "duration": 11,
    "start_time": "2022-01-29T16:08:53.369Z"
   },
   {
    "duration": 11,
    "start_time": "2022-01-29T16:09:00.299Z"
   },
   {
    "duration": 33,
    "start_time": "2022-01-29T16:09:22.651Z"
   },
   {
    "duration": 54,
    "start_time": "2022-01-29T16:09:56.799Z"
   },
   {
    "duration": 3,
    "start_time": "2022-01-29T16:21:50.651Z"
   },
   {
    "duration": 4,
    "start_time": "2022-01-29T16:26:01.481Z"
   },
   {
    "duration": 525,
    "start_time": "2022-01-29T20:13:51.367Z"
   },
   {
    "duration": 112,
    "start_time": "2022-01-29T20:13:51.894Z"
   },
   {
    "duration": 15,
    "start_time": "2022-01-29T20:13:52.008Z"
   },
   {
    "duration": 24,
    "start_time": "2022-01-29T20:13:52.025Z"
   },
   {
    "duration": 3,
    "start_time": "2022-01-29T20:13:52.050Z"
   },
   {
    "duration": 18,
    "start_time": "2022-01-29T20:13:52.055Z"
   },
   {
    "duration": 3,
    "start_time": "2022-01-29T20:13:52.074Z"
   },
   {
    "duration": 20,
    "start_time": "2022-01-29T20:13:52.079Z"
   },
   {
    "duration": 39,
    "start_time": "2022-01-29T20:13:52.100Z"
   },
   {
    "duration": 18,
    "start_time": "2022-01-29T20:13:52.141Z"
   },
   {
    "duration": 47,
    "start_time": "2022-01-29T20:13:52.161Z"
   },
   {
    "duration": 94,
    "start_time": "2022-01-29T20:13:52.210Z"
   },
   {
    "duration": 74,
    "start_time": "2022-01-29T20:13:52.306Z"
   },
   {
    "duration": 12,
    "start_time": "2022-01-29T20:13:52.382Z"
   },
   {
    "duration": 3,
    "start_time": "2022-01-29T20:13:52.395Z"
   },
   {
    "duration": 10,
    "start_time": "2022-01-29T20:13:52.399Z"
   },
   {
    "duration": 22,
    "start_time": "2022-01-29T20:13:52.410Z"
   },
   {
    "duration": 26,
    "start_time": "2022-01-29T20:13:52.433Z"
   },
   {
    "duration": 25,
    "start_time": "2022-01-29T20:13:52.461Z"
   },
   {
    "duration": 3,
    "start_time": "2022-01-29T20:13:52.487Z"
   },
   {
    "duration": 4,
    "start_time": "2022-01-29T20:13:52.491Z"
   },
   {
    "duration": 30,
    "start_time": "2022-01-29T20:13:52.497Z"
   },
   {
    "duration": 3,
    "start_time": "2022-01-29T20:13:52.530Z"
   },
   {
    "duration": 6,
    "start_time": "2022-01-29T20:13:52.534Z"
   },
   {
    "duration": 3,
    "start_time": "2022-01-29T20:13:52.542Z"
   },
   {
    "duration": 3,
    "start_time": "2022-01-29T20:13:52.547Z"
   },
   {
    "duration": 3,
    "start_time": "2022-01-29T20:13:52.552Z"
   },
   {
    "duration": 4,
    "start_time": "2022-01-29T20:13:52.556Z"
   },
   {
    "duration": 4,
    "start_time": "2022-01-29T20:13:52.561Z"
   },
   {
    "duration": 5,
    "start_time": "2022-01-29T20:13:52.566Z"
   },
   {
    "duration": 7,
    "start_time": "2022-01-29T20:13:52.572Z"
   },
   {
    "duration": 4,
    "start_time": "2022-01-29T20:13:52.580Z"
   },
   {
    "duration": 6,
    "start_time": "2022-01-29T20:13:52.586Z"
   },
   {
    "duration": 4,
    "start_time": "2022-01-29T20:13:52.594Z"
   },
   {
    "duration": 7,
    "start_time": "2022-01-29T20:13:52.599Z"
   },
   {
    "duration": 6,
    "start_time": "2022-01-29T20:13:52.627Z"
   },
   {
    "duration": 7,
    "start_time": "2022-01-29T20:13:52.634Z"
   },
   {
    "duration": 4,
    "start_time": "2022-01-29T20:13:52.642Z"
   },
   {
    "duration": 3,
    "start_time": "2022-01-29T20:14:15.772Z"
   },
   {
    "duration": 3,
    "start_time": "2022-01-29T20:17:14.379Z"
   },
   {
    "duration": 390,
    "start_time": "2022-01-29T20:17:33.178Z"
   },
   {
    "duration": 316,
    "start_time": "2022-01-29T20:18:10.469Z"
   },
   {
    "duration": 307,
    "start_time": "2022-01-29T20:19:14.339Z"
   },
   {
    "duration": 318,
    "start_time": "2022-01-29T20:19:20.509Z"
   },
   {
    "duration": 262,
    "start_time": "2022-01-29T20:19:39.418Z"
   },
   {
    "duration": 277,
    "start_time": "2022-01-29T20:19:56.399Z"
   },
   {
    "duration": 622,
    "start_time": "2022-01-29T20:20:05.589Z"
   },
   {
    "duration": 612,
    "start_time": "2022-01-29T20:20:16.519Z"
   },
   {
    "duration": 92,
    "start_time": "2022-01-29T20:20:28.043Z"
   },
   {
    "duration": 292,
    "start_time": "2022-01-29T20:20:31.790Z"
   },
   {
    "duration": 282,
    "start_time": "2022-01-29T20:20:40.179Z"
   },
   {
    "duration": 332,
    "start_time": "2022-01-29T20:21:03.557Z"
   },
   {
    "duration": 86,
    "start_time": "2022-01-29T20:21:35.411Z"
   },
   {
    "duration": 289,
    "start_time": "2022-01-29T20:21:47.059Z"
   },
   {
    "duration": 3,
    "start_time": "2022-01-29T20:26:31.152Z"
   },
   {
    "duration": 3,
    "start_time": "2022-01-29T20:27:33.503Z"
   },
   {
    "duration": 274,
    "start_time": "2022-01-29T20:28:27.257Z"
   },
   {
    "duration": 765,
    "start_time": "2022-01-29T20:30:55.937Z"
   },
   {
    "duration": 92,
    "start_time": "2022-01-29T20:31:12.824Z"
   },
   {
    "duration": 276,
    "start_time": "2022-01-29T20:31:22.963Z"
   },
   {
    "duration": 273,
    "start_time": "2022-01-29T20:31:36.037Z"
   },
   {
    "duration": 279,
    "start_time": "2022-01-29T20:32:45.698Z"
   },
   {
    "duration": 100,
    "start_time": "2022-01-29T20:33:04.884Z"
   },
   {
    "duration": 318,
    "start_time": "2022-01-29T20:33:14.757Z"
   },
   {
    "duration": 283,
    "start_time": "2022-01-29T20:33:53.344Z"
   },
   {
    "duration": 465,
    "start_time": "2022-01-29T20:34:12.264Z"
   },
   {
    "duration": 465,
    "start_time": "2022-01-29T20:34:38.105Z"
   },
   {
    "duration": 157,
    "start_time": "2022-01-29T20:35:27.128Z"
   },
   {
    "duration": 5903,
    "start_time": "2022-01-29T20:35:34.347Z"
   },
   {
    "duration": 2609,
    "start_time": "2022-01-29T20:37:47.746Z"
   },
   {
    "duration": 46,
    "start_time": "2022-01-29T20:49:45.638Z"
   },
   {
    "duration": 41,
    "start_time": "2022-01-29T20:50:09.638Z"
   },
   {
    "duration": 2,
    "start_time": "2022-01-29T20:55:23.518Z"
   },
   {
    "duration": 556,
    "start_time": "2022-01-29T20:55:33.228Z"
   },
   {
    "duration": 116,
    "start_time": "2022-01-29T20:55:33.786Z"
   },
   {
    "duration": 15,
    "start_time": "2022-01-29T20:55:33.904Z"
   },
   {
    "duration": 24,
    "start_time": "2022-01-29T20:55:33.921Z"
   },
   {
    "duration": 3,
    "start_time": "2022-01-29T20:55:33.947Z"
   },
   {
    "duration": 26,
    "start_time": "2022-01-29T20:55:33.951Z"
   },
   {
    "duration": 4,
    "start_time": "2022-01-29T20:55:33.979Z"
   },
   {
    "duration": 25,
    "start_time": "2022-01-29T20:55:33.984Z"
   },
   {
    "duration": 30,
    "start_time": "2022-01-29T20:55:34.029Z"
   },
   {
    "duration": 36,
    "start_time": "2022-01-29T20:55:34.061Z"
   },
   {
    "duration": 96,
    "start_time": "2022-01-29T20:55:34.099Z"
   },
   {
    "duration": 103,
    "start_time": "2022-01-29T20:55:34.197Z"
   },
   {
    "duration": 72,
    "start_time": "2022-01-29T20:55:34.302Z"
   },
   {
    "duration": 12,
    "start_time": "2022-01-29T20:55:34.376Z"
   },
   {
    "duration": 3,
    "start_time": "2022-01-29T20:55:34.389Z"
   },
   {
    "duration": 13,
    "start_time": "2022-01-29T20:55:34.394Z"
   },
   {
    "duration": 28,
    "start_time": "2022-01-29T20:55:34.409Z"
   },
   {
    "duration": 45,
    "start_time": "2022-01-29T20:55:34.439Z"
   },
   {
    "duration": 58,
    "start_time": "2022-01-29T20:55:34.486Z"
   },
   {
    "duration": 67,
    "start_time": "2022-01-29T20:55:34.546Z"
   },
   {
    "duration": 12,
    "start_time": "2022-01-29T20:55:34.615Z"
   },
   {
    "duration": 8,
    "start_time": "2022-01-29T20:55:34.629Z"
   },
   {
    "duration": 13,
    "start_time": "2022-01-29T20:55:34.638Z"
   },
   {
    "duration": 2,
    "start_time": "2022-01-29T20:55:34.653Z"
   },
   {
    "duration": 7,
    "start_time": "2022-01-29T20:55:34.657Z"
   },
   {
    "duration": 4,
    "start_time": "2022-01-29T20:55:34.666Z"
   },
   {
    "duration": 3,
    "start_time": "2022-01-29T20:55:34.673Z"
   },
   {
    "duration": 4,
    "start_time": "2022-01-29T20:55:34.677Z"
   },
   {
    "duration": 4,
    "start_time": "2022-01-29T20:55:34.682Z"
   },
   {
    "duration": 4,
    "start_time": "2022-01-29T20:55:34.687Z"
   },
   {
    "duration": 6,
    "start_time": "2022-01-29T20:55:34.693Z"
   },
   {
    "duration": 6,
    "start_time": "2022-01-29T20:55:34.701Z"
   },
   {
    "duration": 6,
    "start_time": "2022-01-29T20:55:34.708Z"
   },
   {
    "duration": 12,
    "start_time": "2022-01-29T20:55:34.716Z"
   },
   {
    "duration": 7,
    "start_time": "2022-01-29T20:55:34.729Z"
   },
   {
    "duration": 20,
    "start_time": "2022-01-29T20:55:34.738Z"
   },
   {
    "duration": 4,
    "start_time": "2022-01-29T20:55:34.760Z"
   },
   {
    "duration": 3,
    "start_time": "2022-01-29T20:55:34.766Z"
   },
   {
    "duration": 606,
    "start_time": "2022-01-30T14:56:57.851Z"
   },
   {
    "duration": 125,
    "start_time": "2022-01-30T14:56:58.459Z"
   },
   {
    "duration": 16,
    "start_time": "2022-01-30T14:56:58.586Z"
   },
   {
    "duration": 29,
    "start_time": "2022-01-30T14:56:58.604Z"
   },
   {
    "duration": 3,
    "start_time": "2022-01-30T14:56:58.635Z"
   },
   {
    "duration": 21,
    "start_time": "2022-01-30T14:56:58.640Z"
   },
   {
    "duration": 3,
    "start_time": "2022-01-30T14:56:58.663Z"
   },
   {
    "duration": 19,
    "start_time": "2022-01-30T14:56:58.668Z"
   },
   {
    "duration": 41,
    "start_time": "2022-01-30T14:56:58.689Z"
   },
   {
    "duration": 26,
    "start_time": "2022-01-30T14:56:58.732Z"
   },
   {
    "duration": 53,
    "start_time": "2022-01-30T14:56:58.760Z"
   },
   {
    "duration": 68,
    "start_time": "2022-01-30T14:56:58.828Z"
   },
   {
    "duration": 67,
    "start_time": "2022-01-30T14:56:58.897Z"
   },
   {
    "duration": 9,
    "start_time": "2022-01-30T14:56:58.965Z"
   },
   {
    "duration": 3,
    "start_time": "2022-01-30T14:56:58.975Z"
   },
   {
    "duration": 13,
    "start_time": "2022-01-30T14:56:58.979Z"
   },
   {
    "duration": 9,
    "start_time": "2022-01-30T14:56:58.993Z"
   },
   {
    "duration": 60,
    "start_time": "2022-01-30T14:56:59.003Z"
   },
   {
    "duration": 28,
    "start_time": "2022-01-30T14:56:59.065Z"
   },
   {
    "duration": 69,
    "start_time": "2022-01-30T14:56:59.095Z"
   },
   {
    "duration": 3,
    "start_time": "2022-01-30T14:56:59.166Z"
   },
   {
    "duration": 7,
    "start_time": "2022-01-30T14:56:59.170Z"
   },
   {
    "duration": 2,
    "start_time": "2022-01-30T14:56:59.180Z"
   },
   {
    "duration": 4,
    "start_time": "2022-01-30T14:56:59.184Z"
   },
   {
    "duration": 6,
    "start_time": "2022-01-30T14:56:59.189Z"
   },
   {
    "duration": 4,
    "start_time": "2022-01-30T14:56:59.196Z"
   },
   {
    "duration": 6,
    "start_time": "2022-01-30T14:56:59.202Z"
   },
   {
    "duration": 5,
    "start_time": "2022-01-30T14:56:59.210Z"
   },
   {
    "duration": 2,
    "start_time": "2022-01-30T14:56:59.228Z"
   },
   {
    "duration": 16,
    "start_time": "2022-01-30T14:56:59.232Z"
   },
   {
    "duration": 6,
    "start_time": "2022-01-30T14:56:59.249Z"
   },
   {
    "duration": 7,
    "start_time": "2022-01-30T14:56:59.256Z"
   },
   {
    "duration": 7,
    "start_time": "2022-01-30T14:56:59.264Z"
   },
   {
    "duration": 7,
    "start_time": "2022-01-30T14:56:59.272Z"
   },
   {
    "duration": 5,
    "start_time": "2022-01-30T14:56:59.280Z"
   },
   {
    "duration": 5,
    "start_time": "2022-01-30T14:56:59.286Z"
   },
   {
    "duration": 4,
    "start_time": "2022-01-30T14:56:59.293Z"
   },
   {
    "duration": 5,
    "start_time": "2022-01-30T14:56:59.299Z"
   },
   {
    "duration": 42,
    "start_time": "2022-01-30T14:57:50.699Z"
   },
   {
    "duration": 50,
    "start_time": "2022-01-30T14:57:59.825Z"
   },
   {
    "duration": 14,
    "start_time": "2022-01-30T15:02:23.946Z"
   },
   {
    "duration": 3,
    "start_time": "2022-01-30T15:04:00.841Z"
   },
   {
    "duration": 11,
    "start_time": "2022-01-30T15:04:55.906Z"
   },
   {
    "duration": 590,
    "start_time": "2022-01-30T15:06:44.166Z"
   },
   {
    "duration": 145,
    "start_time": "2022-01-30T15:06:44.758Z"
   },
   {
    "duration": 16,
    "start_time": "2022-01-30T15:06:44.905Z"
   },
   {
    "duration": 20,
    "start_time": "2022-01-30T15:06:44.927Z"
   },
   {
    "duration": 2,
    "start_time": "2022-01-30T15:06:44.949Z"
   },
   {
    "duration": 19,
    "start_time": "2022-01-30T15:06:44.953Z"
   },
   {
    "duration": 3,
    "start_time": "2022-01-30T15:06:44.973Z"
   },
   {
    "duration": 21,
    "start_time": "2022-01-30T15:06:44.979Z"
   },
   {
    "duration": 42,
    "start_time": "2022-01-30T15:06:45.001Z"
   },
   {
    "duration": 20,
    "start_time": "2022-01-30T15:06:45.044Z"
   },
   {
    "duration": 68,
    "start_time": "2022-01-30T15:06:45.065Z"
   },
   {
    "duration": 59,
    "start_time": "2022-01-30T15:06:45.135Z"
   },
   {
    "duration": 77,
    "start_time": "2022-01-30T15:06:45.195Z"
   },
   {
    "duration": 12,
    "start_time": "2022-01-30T15:06:45.273Z"
   },
   {
    "duration": 3,
    "start_time": "2022-01-30T15:06:45.287Z"
   },
   {
    "duration": 14,
    "start_time": "2022-01-30T15:06:45.292Z"
   },
   {
    "duration": 27,
    "start_time": "2022-01-30T15:06:45.308Z"
   },
   {
    "duration": 47,
    "start_time": "2022-01-30T15:06:45.337Z"
   },
   {
    "duration": 62,
    "start_time": "2022-01-30T15:06:45.386Z"
   },
   {
    "duration": 4,
    "start_time": "2022-01-30T15:06:45.450Z"
   },
   {
    "duration": 21,
    "start_time": "2022-01-30T15:06:45.455Z"
   },
   {
    "duration": 6,
    "start_time": "2022-01-30T15:06:45.477Z"
   },
   {
    "duration": 5,
    "start_time": "2022-01-30T15:06:45.487Z"
   },
   {
    "duration": 4,
    "start_time": "2022-01-30T15:06:45.494Z"
   },
   {
    "duration": 4,
    "start_time": "2022-01-30T15:06:45.500Z"
   },
   {
    "duration": 5,
    "start_time": "2022-01-30T15:06:45.506Z"
   },
   {
    "duration": 3,
    "start_time": "2022-01-30T15:06:45.527Z"
   },
   {
    "duration": 5,
    "start_time": "2022-01-30T15:06:45.531Z"
   },
   {
    "duration": 5,
    "start_time": "2022-01-30T15:06:45.537Z"
   },
   {
    "duration": 5,
    "start_time": "2022-01-30T15:06:45.543Z"
   },
   {
    "duration": 6,
    "start_time": "2022-01-30T15:06:45.549Z"
   },
   {
    "duration": 4,
    "start_time": "2022-01-30T15:06:45.557Z"
   },
   {
    "duration": 8,
    "start_time": "2022-01-30T15:06:45.562Z"
   },
   {
    "duration": 4,
    "start_time": "2022-01-30T15:06:45.571Z"
   },
   {
    "duration": 4,
    "start_time": "2022-01-30T15:06:45.577Z"
   },
   {
    "duration": 4,
    "start_time": "2022-01-30T15:06:45.582Z"
   },
   {
    "duration": 4,
    "start_time": "2022-01-30T15:06:45.588Z"
   },
   {
    "duration": 4,
    "start_time": "2022-01-30T15:06:45.593Z"
   },
   {
    "duration": 12,
    "start_time": "2022-01-30T15:06:50.190Z"
   },
   {
    "duration": 17,
    "start_time": "2022-01-30T15:14:04.015Z"
   },
   {
    "duration": 2,
    "start_time": "2022-01-30T15:14:04.950Z"
   },
   {
    "duration": 2,
    "start_time": "2022-01-30T15:14:05.468Z"
   },
   {
    "duration": 13,
    "start_time": "2022-01-30T15:14:29.289Z"
   },
   {
    "duration": 11,
    "start_time": "2022-01-30T15:25:05.295Z"
   },
   {
    "duration": 12,
    "start_time": "2022-01-30T15:25:51.463Z"
   },
   {
    "duration": 15,
    "start_time": "2022-01-30T15:26:09.191Z"
   },
   {
    "duration": 15,
    "start_time": "2022-01-30T15:26:10.355Z"
   },
   {
    "duration": 13,
    "start_time": "2022-01-30T15:26:11.715Z"
   },
   {
    "duration": 13,
    "start_time": "2022-01-30T15:26:12.105Z"
   },
   {
    "duration": 13,
    "start_time": "2022-01-30T15:26:48.300Z"
   },
   {
    "duration": 11,
    "start_time": "2022-01-30T15:26:48.315Z"
   },
   {
    "duration": 14,
    "start_time": "2022-01-30T15:26:48.328Z"
   },
   {
    "duration": 13,
    "start_time": "2022-01-30T15:26:49.368Z"
   },
   {
    "duration": 3,
    "start_time": "2022-01-30T15:27:27.979Z"
   },
   {
    "duration": 4,
    "start_time": "2022-01-30T15:28:29.619Z"
   },
   {
    "duration": 8,
    "start_time": "2022-01-30T15:28:39.382Z"
   },
   {
    "duration": 10,
    "start_time": "2022-01-30T15:30:25.800Z"
   },
   {
    "duration": 23,
    "start_time": "2022-01-30T15:30:39.076Z"
   },
   {
    "duration": 14,
    "start_time": "2022-01-30T15:31:16.564Z"
   },
   {
    "duration": 104,
    "start_time": "2022-01-30T15:32:06.604Z"
   },
   {
    "duration": 3,
    "start_time": "2022-01-30T15:33:23.013Z"
   },
   {
    "duration": 4,
    "start_time": "2022-01-30T15:36:16.408Z"
   },
   {
    "duration": 712,
    "start_time": "2022-01-30T15:37:44.119Z"
   },
   {
    "duration": 3,
    "start_time": "2022-01-30T15:38:21.068Z"
   },
   {
    "duration": 20,
    "start_time": "2022-01-30T15:38:22.640Z"
   },
   {
    "duration": 23,
    "start_time": "2022-01-30T15:38:57.017Z"
   },
   {
    "duration": 14,
    "start_time": "2022-01-30T15:40:02.606Z"
   },
   {
    "duration": 4,
    "start_time": "2022-01-30T15:40:03.590Z"
   },
   {
    "duration": 22,
    "start_time": "2022-01-30T15:40:04.610Z"
   },
   {
    "duration": 19,
    "start_time": "2022-01-30T15:40:05.103Z"
   },
   {
    "duration": 2,
    "start_time": "2022-01-30T15:40:05.557Z"
   },
   {
    "duration": 9,
    "start_time": "2022-01-30T16:47:31.396Z"
   },
   {
    "duration": 16,
    "start_time": "2022-01-30T16:47:35.591Z"
   },
   {
    "duration": 14,
    "start_time": "2022-01-30T16:47:36.108Z"
   },
   {
    "duration": 3,
    "start_time": "2022-01-30T16:47:36.989Z"
   },
   {
    "duration": 19,
    "start_time": "2022-01-30T16:47:38.133Z"
   },
   {
    "duration": 19,
    "start_time": "2022-01-30T16:47:38.718Z"
   },
   {
    "duration": 2,
    "start_time": "2022-01-30T16:47:39.612Z"
   },
   {
    "duration": 676,
    "start_time": "2022-01-30T16:47:47.469Z"
   },
   {
    "duration": 117,
    "start_time": "2022-01-30T16:47:48.147Z"
   },
   {
    "duration": 17,
    "start_time": "2022-01-30T16:47:48.266Z"
   },
   {
    "duration": 21,
    "start_time": "2022-01-30T16:47:48.285Z"
   },
   {
    "duration": 20,
    "start_time": "2022-01-30T16:47:48.308Z"
   },
   {
    "duration": 23,
    "start_time": "2022-01-30T16:47:48.330Z"
   },
   {
    "duration": 3,
    "start_time": "2022-01-30T16:47:48.355Z"
   },
   {
    "duration": 22,
    "start_time": "2022-01-30T16:47:48.362Z"
   },
   {
    "duration": 18,
    "start_time": "2022-01-30T16:47:48.386Z"
   },
   {
    "duration": 35,
    "start_time": "2022-01-30T16:47:48.406Z"
   },
   {
    "duration": 51,
    "start_time": "2022-01-30T16:47:48.442Z"
   },
   {
    "duration": 74,
    "start_time": "2022-01-30T16:47:48.494Z"
   },
   {
    "duration": 44,
    "start_time": "2022-01-30T16:47:48.570Z"
   },
   {
    "duration": 17,
    "start_time": "2022-01-30T16:47:48.615Z"
   },
   {
    "duration": 2,
    "start_time": "2022-01-30T16:47:48.634Z"
   },
   {
    "duration": 12,
    "start_time": "2022-01-30T16:47:48.638Z"
   },
   {
    "duration": 10,
    "start_time": "2022-01-30T16:47:48.651Z"
   },
   {
    "duration": 28,
    "start_time": "2022-01-30T16:47:48.663Z"
   },
   {
    "duration": 53,
    "start_time": "2022-01-30T16:47:48.692Z"
   },
   {
    "duration": 3,
    "start_time": "2022-01-30T16:47:48.746Z"
   },
   {
    "duration": 17,
    "start_time": "2022-01-30T16:47:48.750Z"
   },
   {
    "duration": 11,
    "start_time": "2022-01-30T16:47:48.768Z"
   },
   {
    "duration": 12,
    "start_time": "2022-01-30T16:47:48.782Z"
   },
   {
    "duration": 35,
    "start_time": "2022-01-30T16:47:48.796Z"
   },
   {
    "duration": 13,
    "start_time": "2022-01-30T16:47:48.832Z"
   },
   {
    "duration": 11,
    "start_time": "2022-01-30T16:47:48.847Z"
   },
   {
    "duration": 8,
    "start_time": "2022-01-30T16:47:48.860Z"
   },
   {
    "duration": 16,
    "start_time": "2022-01-30T16:47:48.870Z"
   },
   {
    "duration": 42,
    "start_time": "2022-01-30T16:47:48.887Z"
   },
   {
    "duration": 5,
    "start_time": "2022-01-30T16:47:48.930Z"
   },
   {
    "duration": 20,
    "start_time": "2022-01-30T16:47:48.936Z"
   },
   {
    "duration": 16,
    "start_time": "2022-01-30T16:47:48.958Z"
   },
   {
    "duration": 2,
    "start_time": "2022-01-30T16:47:48.976Z"
   },
   {
    "duration": 5,
    "start_time": "2022-01-30T16:47:48.979Z"
   },
   {
    "duration": 4,
    "start_time": "2022-01-30T16:47:48.985Z"
   },
   {
    "duration": 4,
    "start_time": "2022-01-30T16:47:48.990Z"
   },
   {
    "duration": 33,
    "start_time": "2022-01-30T16:47:48.995Z"
   },
   {
    "duration": 4,
    "start_time": "2022-01-30T16:47:49.030Z"
   },
   {
    "duration": 16,
    "start_time": "2022-01-30T16:49:02.976Z"
   },
   {
    "duration": 14,
    "start_time": "2022-01-30T16:49:07.148Z"
   },
   {
    "duration": 4,
    "start_time": "2022-01-30T16:49:09.084Z"
   },
   {
    "duration": 20,
    "start_time": "2022-01-30T16:49:09.907Z"
   },
   {
    "duration": 20,
    "start_time": "2022-01-30T16:49:13.906Z"
   },
   {
    "duration": 20,
    "start_time": "2022-01-30T16:54:02.980Z"
   },
   {
    "duration": 19,
    "start_time": "2022-01-30T16:54:03.575Z"
   },
   {
    "duration": 4,
    "start_time": "2022-01-30T16:55:04.952Z"
   },
   {
    "duration": 18,
    "start_time": "2022-01-30T16:55:07.491Z"
   },
   {
    "duration": 12,
    "start_time": "2022-01-30T16:55:09.334Z"
   },
   {
    "duration": 14,
    "start_time": "2022-01-30T16:55:10.825Z"
   },
   {
    "duration": 11,
    "start_time": "2022-01-30T16:55:18.388Z"
   },
   {
    "duration": 15,
    "start_time": "2022-01-30T16:55:49.521Z"
   },
   {
    "duration": 10,
    "start_time": "2022-01-30T16:55:50.172Z"
   },
   {
    "duration": 5,
    "start_time": "2022-01-30T16:56:25.979Z"
   },
   {
    "duration": 23,
    "start_time": "2022-01-30T16:56:27.102Z"
   },
   {
    "duration": 12,
    "start_time": "2022-01-30T16:56:27.583Z"
   },
   {
    "duration": 17,
    "start_time": "2022-01-30T16:56:28.634Z"
   },
   {
    "duration": 13,
    "start_time": "2022-01-30T16:56:29.238Z"
   },
   {
    "duration": 4,
    "start_time": "2022-01-30T17:10:20.322Z"
   },
   {
    "duration": 2,
    "start_time": "2022-01-30T17:12:02.688Z"
   },
   {
    "duration": 4,
    "start_time": "2022-01-30T17:12:05.938Z"
   },
   {
    "duration": 2,
    "start_time": "2022-01-30T17:12:09.073Z"
   },
   {
    "duration": 2,
    "start_time": "2022-01-30T17:12:11.189Z"
   },
   {
    "duration": 85,
    "start_time": "2022-01-30T17:12:26.486Z"
   },
   {
    "duration": 15,
    "start_time": "2022-01-30T17:12:30.986Z"
   },
   {
    "duration": 321,
    "start_time": "2022-01-30T17:13:03.598Z"
   },
   {
    "duration": 24,
    "start_time": "2022-01-30T17:13:06.269Z"
   },
   {
    "duration": 290,
    "start_time": "2022-01-30T17:14:22.648Z"
   },
   {
    "duration": 22,
    "start_time": "2022-01-30T17:14:48.008Z"
   },
   {
    "duration": 97,
    "start_time": "2022-01-30T17:15:35.905Z"
   },
   {
    "duration": 24,
    "start_time": "2022-01-30T17:15:38.410Z"
   },
   {
    "duration": 4,
    "start_time": "2022-01-30T17:26:18.870Z"
   },
   {
    "duration": 5,
    "start_time": "2022-01-30T17:26:25.812Z"
   },
   {
    "duration": 303,
    "start_time": "2022-01-30T17:29:17.676Z"
   },
   {
    "duration": 93,
    "start_time": "2022-01-30T17:29:29.018Z"
   },
   {
    "duration": 305,
    "start_time": "2022-01-30T17:29:49.995Z"
   },
   {
    "duration": 301,
    "start_time": "2022-01-30T17:30:11.298Z"
   },
   {
    "duration": 41,
    "start_time": "2022-01-30T17:30:22.884Z"
   },
   {
    "duration": 374,
    "start_time": "2022-01-30T17:30:28.927Z"
   },
   {
    "duration": 40,
    "start_time": "2022-01-30T17:30:32.250Z"
   },
   {
    "duration": 8,
    "start_time": "2022-01-30T17:30:59.313Z"
   },
   {
    "duration": 369,
    "start_time": "2022-01-30T17:32:40.488Z"
   },
   {
    "duration": 302,
    "start_time": "2022-01-30T17:32:52.572Z"
   },
   {
    "duration": 342,
    "start_time": "2022-01-30T17:32:55.784Z"
   },
   {
    "duration": 8,
    "start_time": "2022-01-30T17:33:06.110Z"
   },
   {
    "duration": 9,
    "start_time": "2022-01-30T17:33:36.262Z"
   },
   {
    "duration": 4,
    "start_time": "2022-01-30T17:33:40.179Z"
   },
   {
    "duration": 6,
    "start_time": "2022-01-30T17:34:11.370Z"
   },
   {
    "duration": 6,
    "start_time": "2022-01-30T17:34:22.585Z"
   },
   {
    "duration": 802,
    "start_time": "2022-02-08T11:11:28.882Z"
   },
   {
    "duration": 187,
    "start_time": "2022-02-08T11:11:29.687Z"
   },
   {
    "duration": 28,
    "start_time": "2022-02-08T11:11:29.878Z"
   },
   {
    "duration": 33,
    "start_time": "2022-02-08T11:11:29.909Z"
   },
   {
    "duration": 4,
    "start_time": "2022-02-08T11:11:29.969Z"
   },
   {
    "duration": 28,
    "start_time": "2022-02-08T11:11:29.976Z"
   },
   {
    "duration": 7,
    "start_time": "2022-02-08T11:11:30.006Z"
   },
   {
    "duration": 66,
    "start_time": "2022-02-08T11:11:30.016Z"
   },
   {
    "duration": 33,
    "start_time": "2022-02-08T11:11:30.084Z"
   },
   {
    "duration": 31,
    "start_time": "2022-02-08T11:11:30.120Z"
   },
   {
    "duration": 130,
    "start_time": "2022-02-08T11:11:30.153Z"
   },
   {
    "duration": 121,
    "start_time": "2022-02-08T11:11:30.286Z"
   },
   {
    "duration": 90,
    "start_time": "2022-02-08T11:11:30.409Z"
   },
   {
    "duration": 14,
    "start_time": "2022-02-08T11:11:30.501Z"
   },
   {
    "duration": 9,
    "start_time": "2022-02-08T11:11:30.518Z"
   },
   {
    "duration": 43,
    "start_time": "2022-02-08T11:11:30.530Z"
   },
   {
    "duration": 18,
    "start_time": "2022-02-08T11:11:30.576Z"
   },
   {
    "duration": 53,
    "start_time": "2022-02-08T11:11:30.596Z"
   },
   {
    "duration": 54,
    "start_time": "2022-02-08T11:11:30.652Z"
   },
   {
    "duration": 5,
    "start_time": "2022-02-08T11:11:30.709Z"
   },
   {
    "duration": 36,
    "start_time": "2022-02-08T11:11:30.716Z"
   },
   {
    "duration": 24,
    "start_time": "2022-02-08T11:11:30.770Z"
   },
   {
    "duration": 19,
    "start_time": "2022-02-08T11:11:30.799Z"
   },
   {
    "duration": 21,
    "start_time": "2022-02-08T11:11:30.821Z"
   },
   {
    "duration": 22,
    "start_time": "2022-02-08T11:11:30.870Z"
   },
   {
    "duration": 23,
    "start_time": "2022-02-08T11:11:30.895Z"
   },
   {
    "duration": 35,
    "start_time": "2022-02-08T11:11:30.920Z"
   },
   {
    "duration": 28,
    "start_time": "2022-02-08T11:11:30.971Z"
   },
   {
    "duration": 23,
    "start_time": "2022-02-08T11:11:31.002Z"
   },
   {
    "duration": 8,
    "start_time": "2022-02-08T11:11:31.028Z"
   },
   {
    "duration": 25,
    "start_time": "2022-02-08T11:11:31.070Z"
   },
   {
    "duration": 18,
    "start_time": "2022-02-08T11:11:31.097Z"
   },
   {
    "duration": 61,
    "start_time": "2022-02-08T11:11:31.118Z"
   },
   {
    "duration": 24,
    "start_time": "2022-02-08T11:11:31.183Z"
   },
   {
    "duration": 25,
    "start_time": "2022-02-08T11:11:31.210Z"
   },
   {
    "duration": 33,
    "start_time": "2022-02-08T11:11:31.238Z"
   },
   {
    "duration": 12,
    "start_time": "2022-02-08T11:11:31.275Z"
   },
   {
    "duration": 11,
    "start_time": "2022-02-08T11:11:31.290Z"
   },
   {
    "duration": 62,
    "start_time": "2022-02-08T11:16:51.090Z"
   },
   {
    "duration": 840,
    "start_time": "2022-02-08T11:40:45.610Z"
   },
   {
    "duration": 80,
    "start_time": "2022-02-09T20:38:25.130Z"
   },
   {
    "duration": 85,
    "start_time": "2022-02-09T20:38:38.330Z"
   },
   {
    "duration": 712,
    "start_time": "2022-02-09T20:38:52.599Z"
   },
   {
    "duration": 169,
    "start_time": "2022-02-09T20:38:53.314Z"
   },
   {
    "duration": 30,
    "start_time": "2022-02-09T20:38:53.487Z"
   },
   {
    "duration": 53,
    "start_time": "2022-02-09T20:38:53.520Z"
   },
   {
    "duration": 6,
    "start_time": "2022-02-09T20:38:53.577Z"
   },
   {
    "duration": 28,
    "start_time": "2022-02-09T20:38:53.586Z"
   },
   {
    "duration": 6,
    "start_time": "2022-02-09T20:38:53.616Z"
   },
   {
    "duration": 33,
    "start_time": "2022-02-09T20:38:53.653Z"
   },
   {
    "duration": 62,
    "start_time": "2022-02-09T20:38:53.690Z"
   },
   {
    "duration": 33,
    "start_time": "2022-02-09T20:38:53.755Z"
   },
   {
    "duration": 109,
    "start_time": "2022-02-09T20:38:53.790Z"
   },
   {
    "duration": 105,
    "start_time": "2022-02-09T20:38:53.902Z"
   },
   {
    "duration": 78,
    "start_time": "2022-02-09T20:38:54.009Z"
   },
   {
    "duration": 14,
    "start_time": "2022-02-09T20:38:54.089Z"
   },
   {
    "duration": 4,
    "start_time": "2022-02-09T20:38:54.106Z"
   },
   {
    "duration": 41,
    "start_time": "2022-02-09T20:38:54.112Z"
   },
   {
    "duration": 25,
    "start_time": "2022-02-09T20:38:54.155Z"
   },
   {
    "duration": 89,
    "start_time": "2022-02-09T20:38:54.182Z"
   },
   {
    "duration": -1959,
    "start_time": "2022-02-09T20:38:56.233Z"
   },
   {
    "duration": -1966,
    "start_time": "2022-02-09T20:38:56.242Z"
   },
   {
    "duration": -1974,
    "start_time": "2022-02-09T20:38:56.251Z"
   },
   {
    "duration": -1980,
    "start_time": "2022-02-09T20:38:56.259Z"
   },
   {
    "duration": -1984,
    "start_time": "2022-02-09T20:38:56.266Z"
   },
   {
    "duration": -1991,
    "start_time": "2022-02-09T20:38:56.275Z"
   },
   {
    "duration": -1996,
    "start_time": "2022-02-09T20:38:56.282Z"
   },
   {
    "duration": -2001,
    "start_time": "2022-02-09T20:38:56.289Z"
   },
   {
    "duration": -2006,
    "start_time": "2022-02-09T20:38:56.296Z"
   },
   {
    "duration": -2011,
    "start_time": "2022-02-09T20:38:56.303Z"
   },
   {
    "duration": -2015,
    "start_time": "2022-02-09T20:38:56.309Z"
   },
   {
    "duration": -2021,
    "start_time": "2022-02-09T20:38:56.317Z"
   },
   {
    "duration": -2024,
    "start_time": "2022-02-09T20:38:56.323Z"
   },
   {
    "duration": -2042,
    "start_time": "2022-02-09T20:38:56.343Z"
   },
   {
    "duration": -2047,
    "start_time": "2022-02-09T20:38:56.350Z"
   },
   {
    "duration": -2052,
    "start_time": "2022-02-09T20:38:56.357Z"
   },
   {
    "duration": -2060,
    "start_time": "2022-02-09T20:38:56.367Z"
   },
   {
    "duration": -2065,
    "start_time": "2022-02-09T20:38:56.375Z"
   },
   {
    "duration": -2070,
    "start_time": "2022-02-09T20:38:56.382Z"
   },
   {
    "duration": -2041,
    "start_time": "2022-02-09T20:38:56.389Z"
   },
   {
    "duration": 78,
    "start_time": "2022-02-09T20:39:01.181Z"
   },
   {
    "duration": 353,
    "start_time": "2022-02-09T20:39:31.206Z"
   },
   {
    "duration": 45,
    "start_time": "2022-02-09T20:39:41.350Z"
   },
   {
    "duration": 84,
    "start_time": "2022-02-09T20:40:03.838Z"
   },
   {
    "duration": 14,
    "start_time": "2022-02-09T20:40:09.849Z"
   },
   {
    "duration": 79,
    "start_time": "2022-02-09T20:43:26.023Z"
   },
   {
    "duration": 84,
    "start_time": "2022-02-09T20:44:22.599Z"
   },
   {
    "duration": 53,
    "start_time": "2022-02-09T20:47:37.219Z"
   },
   {
    "duration": 13,
    "start_time": "2022-02-09T20:48:17.129Z"
   },
   {
    "duration": 11,
    "start_time": "2022-02-09T20:48:19.458Z"
   },
   {
    "duration": 17,
    "start_time": "2022-02-09T20:48:23.833Z"
   },
   {
    "duration": 730,
    "start_time": "2022-02-09T20:50:44.399Z"
   },
   {
    "duration": 179,
    "start_time": "2022-02-09T20:50:45.132Z"
   },
   {
    "duration": 36,
    "start_time": "2022-02-09T20:50:45.314Z"
   },
   {
    "duration": 34,
    "start_time": "2022-02-09T20:50:45.354Z"
   },
   {
    "duration": 5,
    "start_time": "2022-02-09T20:50:45.390Z"
   },
   {
    "duration": 58,
    "start_time": "2022-02-09T20:50:45.397Z"
   },
   {
    "duration": 5,
    "start_time": "2022-02-09T20:50:45.457Z"
   },
   {
    "duration": 29,
    "start_time": "2022-02-09T20:50:45.466Z"
   },
   {
    "duration": 57,
    "start_time": "2022-02-09T20:50:45.499Z"
   },
   {
    "duration": 30,
    "start_time": "2022-02-09T20:50:45.558Z"
   },
   {
    "duration": 106,
    "start_time": "2022-02-09T20:50:45.591Z"
   },
   {
    "duration": 110,
    "start_time": "2022-02-09T20:50:45.700Z"
   },
   {
    "duration": 81,
    "start_time": "2022-02-09T20:50:45.812Z"
   },
   {
    "duration": 15,
    "start_time": "2022-02-09T20:50:45.895Z"
   },
   {
    "duration": 4,
    "start_time": "2022-02-09T20:50:45.913Z"
   },
   {
    "duration": 40,
    "start_time": "2022-02-09T20:50:45.919Z"
   },
   {
    "duration": 17,
    "start_time": "2022-02-09T20:50:45.962Z"
   },
   {
    "duration": 13,
    "start_time": "2022-02-09T20:50:45.981Z"
   },
   {
    "duration": 18,
    "start_time": "2022-02-09T20:50:45.997Z"
   },
   {
    "duration": 34,
    "start_time": "2022-02-09T20:50:46.017Z"
   },
   {
    "duration": 48,
    "start_time": "2022-02-09T20:50:46.053Z"
   },
   {
    "duration": 44,
    "start_time": "2022-02-09T20:50:46.103Z"
   },
   {
    "duration": 20,
    "start_time": "2022-02-09T20:50:46.153Z"
   },
   {
    "duration": 24,
    "start_time": "2022-02-09T20:50:46.176Z"
   },
   {
    "duration": 25,
    "start_time": "2022-02-09T20:50:46.203Z"
   },
   {
    "duration": 34,
    "start_time": "2022-02-09T20:50:46.230Z"
   },
   {
    "duration": 19,
    "start_time": "2022-02-09T20:50:46.266Z"
   },
   {
    "duration": 35,
    "start_time": "2022-02-09T20:50:46.288Z"
   },
   {
    "duration": 22,
    "start_time": "2022-02-09T20:50:46.349Z"
   },
   {
    "duration": 5,
    "start_time": "2022-02-09T20:50:46.374Z"
   },
   {
    "duration": 45,
    "start_time": "2022-02-09T20:50:46.382Z"
   },
   {
    "duration": 37,
    "start_time": "2022-02-09T20:50:46.429Z"
   },
   {
    "duration": 22,
    "start_time": "2022-02-09T20:50:46.468Z"
   },
   {
    "duration": 15,
    "start_time": "2022-02-09T20:50:46.493Z"
   },
   {
    "duration": 10,
    "start_time": "2022-02-09T20:50:46.511Z"
   },
   {
    "duration": 6,
    "start_time": "2022-02-09T20:50:46.549Z"
   },
   {
    "duration": 12,
    "start_time": "2022-02-09T20:50:46.557Z"
   },
   {
    "duration": 6,
    "start_time": "2022-02-09T20:50:46.571Z"
   }
  ],
  "colab": {
   "collapsed_sections": [
    "E0vqbgi9ay0H",
    "VUC88oWjTJw2"
   ],
   "name": "yandex_music_project_2021.2.ipynb",
   "provenance": []
  },
  "kernelspec": {
   "display_name": "Python 3 (ipykernel)",
   "language": "python",
   "name": "python3"
  },
  "language_info": {
   "codemirror_mode": {
    "name": "ipython",
    "version": 3
   },
   "file_extension": ".py",
   "mimetype": "text/x-python",
   "name": "python",
   "nbconvert_exporter": "python",
   "pygments_lexer": "ipython3",
   "version": "3.9.13"
  },
  "toc": {
   "base_numbering": 1,
   "nav_menu": {},
   "number_sections": true,
   "sideBar": true,
   "skip_h1_title": true,
   "title_cell": "Содержание",
   "title_sidebar": "Contents",
   "toc_cell": true,
   "toc_position": {
    "height": "569.6px",
    "left": "439px",
    "top": "214.125px",
    "width": "165px"
   },
   "toc_section_display": true,
   "toc_window_display": true
  }
 },
 "nbformat": 4,
 "nbformat_minor": 1
}
